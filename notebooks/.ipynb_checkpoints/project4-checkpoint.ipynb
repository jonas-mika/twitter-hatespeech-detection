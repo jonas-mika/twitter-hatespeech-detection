{
 "cells": [
  {
   "cell_type": "markdown",
   "metadata": {
    "cell_id": "00000-8f8eb98f-2a98-41af-9825-5a8a8c441dee",
    "deepnote_cell_type": "markdown",
    "tags": []
   },
   "source": [
    "# Project 4: Natural Language Processing \n",
    "---\n",
    "\n",
    "**Group 9: Aidan Stocks, Hugo Reinicke, Nicola Clark, Jonas-Mika Senghaas**\n",
    "\n",
    "Submission: *03.06.2021* / Last Modified: *27.04.2021*\n",
    "\n",
    "---\n",
    "\n",
    "This notebook contains the step-by-step data science process performed *XXX*. The goal of this project was to *XXX*.\n",
    "\n",
    "The initial data was obtained from the [TweetEval](https://github.com/cardiffnlp/tweeteval#evaluating-your-system) GitHub repository, that provides data for supervised training of classifiers for natural language processing."
   ]
  },
  {
   "cell_type": "markdown",
   "metadata": {
    "cell_id": "00001-5fcfa044-05ac-485a-8293-0db98813ff5e",
    "deepnote_cell_type": "markdown",
    "tags": []
   },
   "source": [
    "## Introduction\n",
    "---\n",
    "*XXX*"
   ]
  },
  {
   "cell_type": "markdown",
   "metadata": {
    "cell_id": "00002-e3f8c8e5-1dc7-47ff-9108-2450997c051c",
    "deepnote_cell_type": "markdown",
    "tags": []
   },
   "source": [
    "## Running this Notebook\n",
    "---\n",
    "This notebook contains all code to reproduce the findings of the project as can be seen on the [GitHub](https://github.com/jonas-mika/fyp2021p04g09) page of this project. In order to read in the data correctly, the global paths configured in the section `Constants` need to be correct. The following file structure - as prepared in the `submission.zip` - was followed throughout the project and is recommended to use (alternatively the paths in the section `Constants` can be adjusted):\n",
    "\n",
    "```\n",
    "*project tree structure*\n",
    "```\n",
    "*Note that the rest of the file structure as can be seen on the [GitHub](https://github.com/jonas-mika/fyp2021p03g09) page of the project generates automatically*"
   ]
  },
  {
   "cell_type": "markdown",
   "metadata": {
    "cell_id": "00003-8f195f8a-4025-446a-8b44-300b55666211",
    "deepnote_cell_type": "markdown",
    "tags": []
   },
   "source": [
    "## Required Libraries and Further Imports\n",
    "---\n",
    "Throughout the project, we will use a range of both built-in and external Python libraries. This notebook will only run if all libraries and modules are correctly installed on your local machines. \n",
    "To install missing packages use `pip install <package_name>` (PIP (Python Package Index) is the central package management system, read more [here](https://pypi.org/project/pip/)). \n",
    "\n",
    "In case you desire further information about the used packages, click the following links to find detailed documentations:\n",
    "- [Pandas](https://pandas.pydata.org/)\n",
    "- [Numpy](https://numpy.org/)\n",
    "- [Matplotlib](https://matplotlib.org/stable/index.html)\n",
    "- [PIL](https://pillow.readthedocs.io/en/stable/)\n",
    "- [SciKit Learn](https://scikit-learn.org/stable/)\n",
    "- [SciKit Image](https://scikit-image.org/)\n",
    "- [Scipy](https://www.scipy.org/)"
   ]
  },
  {
   "cell_type": "code",
   "execution_count": 1,
   "metadata": {
    "cell_id": "00004-cf13b571-fc4d-40f4-8617-43224164fcb8",
    "deepnote_cell_type": "code",
    "deepnote_to_be_reexecuted": false,
    "execution_millis": 44727,
    "execution_start": 1620736859258,
    "output_cleared": true,
    "source_hash": "56190a1e",
    "tags": []
   },
   "outputs": [],
   "source": [
    "%%capture\n",
    "# uncomment lines with uninstalled packages\n",
    "\n",
    "#!pip install -U numpy pandas matplotlib seaborn skikit-learn \n",
    "!pip install pycontractions"
   ]
  },
  {
   "cell_type": "code",
   "execution_count": 2,
   "metadata": {
    "cell_id": "00005-9cbe0305-7f30-486b-be81-0c10af861246",
    "deepnote_cell_type": "code",
    "deepnote_to_be_reexecuted": false,
    "execution_millis": 4828,
    "execution_start": 1620736903986,
    "output_cleared": true,
    "source_hash": "474802c1",
    "tags": []
   },
   "outputs": [],
   "source": [
    "# python standard libraries\n",
    "import json                                            # data transfer to and from json format\n",
    "import os                                              # access operating system from python\n",
    "import math                                            # mathematical operations in python\n",
    "import random                                          # creates randomness\n",
    "import re                                              # regex search in python\n",
    "import shutil                                          # system control in python\n",
    "import warnings                                        # ignore annoying warnings\n",
    "warnings.filterwarnings(\"ignore\")\n",
    "\n",
    "# external libraries\n",
    "import numpy as np                                     # used for numerical calculations and fast array manipulations\n",
    "import pandas as pd                                    # provides major datastructure pd.DataFrame() to store datasets\n",
    "import matplotlib\n",
    "import matplotlib.pyplot as plt                        # basic data visualisation\n",
    "import seaborn as sns                                  # advanced data visualisation\n",
    "from nltk.tokenize import TweetTokenizer               # tokeniser api\n",
    "from pycontractions import Contractions                # intelligently expands contractions in natural language\n",
    "from collections import Counter                        # counts objects"
   ]
  },
  {
   "cell_type": "code",
   "execution_count": 3,
   "metadata": {
    "cell_id": "00006-5afa390e-a19c-4f7b-b2f5-752fba00777d",
    "deepnote_cell_type": "code",
    "deepnote_to_be_reexecuted": false,
    "execution_millis": 32,
    "execution_start": 1620736908815,
    "output_cleared": false,
    "source_hash": "9a25b5af"
   },
   "outputs": [
    {
     "name": "stdout",
     "output_type": "stream",
     "text": [
      "Numpy Version: 1.18.5\n",
      "Pandas Version: 1.0.5\n",
      "Matplotlib Version: 3.2.2\n",
      "Seaborn Version: 0.10.1\n"
     ]
    }
   ],
   "source": [
    "print(f'Numpy Version: {np.__version__}')\n",
    "print(f'Pandas Version: {pd.__version__}')\n",
    "print(f'Matplotlib Version: {matplotlib.__version__}')\n",
    "print(f'Seaborn Version: {sns.__version__}')"
   ]
  },
  {
   "cell_type": "markdown",
   "metadata": {
    "cell_id": "00006-e9706598-54b2-4f29-9ca9-a6660685b48c",
    "deepnote_cell_type": "markdown",
    "tags": []
   },
   "source": [
    "Since this project makes heavy use of functions to achieve maximal efficiency, all functions are stored externally in the package structure `project3'. The following imports are necessary for this notebook to run properly."
   ]
  },
  {
   "cell_type": "code",
   "execution_count": 4,
   "metadata": {
    "cell_id": "00007-14d719d0-f91a-4eac-adc0-8f3981566bf1",
    "deepnote_cell_type": "code",
    "deepnote_to_be_reexecuted": false,
    "execution_millis": 0,
    "execution_start": 1620736908816,
    "output_cleared": true,
    "source_hash": "905c667e",
    "tags": []
   },
   "outputs": [],
   "source": [
    "#from project4.processing import ...\n",
    "#from project4.save import ...\n",
    "#from project4.features import ..."
   ]
  },
  {
   "cell_type": "markdown",
   "metadata": {
    "cell_id": "00008-4f347db9-f433-4a57-9e83-4fbb27586617",
    "deepnote_cell_type": "markdown",
    "tags": []
   },
   "source": [
    "## Constants\n",
    "---\n",
    "To enhance readibilty, as well as to decrease the maintenance effort, it is useful for bigger projects to define contants that need to be accessed globally throughout the whole notebook in advance. \n",
    "The following cell contains all of those global constants. By convention, we write them in caps (https://www.python.org/dev/peps/pep-0008/#constants)"
   ]
  },
  {
   "cell_type": "code",
   "execution_count": 5,
   "metadata": {
    "cell_id": "00010-18532f0a-c77d-42e2-b487-aa327b69dc04",
    "deepnote_cell_type": "code",
    "deepnote_to_be_reexecuted": false,
    "execution_millis": 322430877,
    "execution_start": 1620736908817,
    "output_cleared": true,
    "source_hash": "2f89d05f",
    "tags": []
   },
   "outputs": [],
   "source": [
    "PREPROCESS_DATA = False"
   ]
  },
  {
   "cell_type": "code",
   "execution_count": 6,
   "metadata": {
    "cell_id": "00009-8c033e56-02ab-48b7-9eff-1efefe08d35c",
    "deepnote_cell_type": "code",
    "deepnote_to_be_reexecuted": false,
    "execution_millis": 322430839,
    "execution_start": 1620736908817,
    "output_cleared": true,
    "source_hash": "599a5394",
    "tags": []
   },
   "outputs": [],
   "source": [
    "DATASETS = ['hate', 'emotion']\n",
    "\n",
    "# store paths\n",
    "PATH = {}\n",
    "PATH['data'] = {}\n",
    "PATH['data']['raw'] = \"../data/raw/\"\n",
    "PATH['data']['processed'] = \"../data/processed/\"\n",
    "\n",
    "# store data \n",
    "DATA = {}\n",
    "DATA['raw'] = {}\n",
    "DATA['processed'] = {}\n",
    "for dataset in DATASETS:\n",
    "    DATA['raw'][dataset] = {}\n",
    "    DATA['processed'][dataset] = {}"
   ]
  },
  {
   "cell_type": "markdown",
   "metadata": {
    "cell_id": "00010-30f29e03-2c93-4a41-9cdd-c63ddcf81385",
    "deepnote_cell_type": "markdown",
    "tags": []
   },
   "source": [
    "*TASK 0*\n",
    "# Fetching Data\n",
    "---"
   ]
  },
  {
   "cell_type": "markdown",
   "metadata": {
    "cell_id": "00012-517a92e6-641e-4b58-ae16-4fc3f1dc0f0c",
    "deepnote_cell_type": "markdown"
   },
   "source": [
    "## Loading in Data\n",
    "---"
   ]
  },
  {
   "cell_type": "code",
   "execution_count": 7,
   "metadata": {
    "cell_id": "00011-d60e995b-fcb6-4868-b5f3-bead2a4d235a",
    "deepnote_cell_type": "code",
    "deepnote_to_be_reexecuted": false,
    "execution_millis": 0,
    "execution_start": 1620736908857,
    "output_cleared": true,
    "source_hash": "74974d65",
    "tags": []
   },
   "outputs": [],
   "source": [
    "def read_raw_input(dataset):\n",
    "    # reading in all .txts into list of strings\n",
    "    for _file in os.listdir(f'../data/raw/{dataset}'):\n",
    "        with open(f'../data/raw/{dataset}/{_file}', 'r', encoding='UTF-8') as infile:\n",
    "            DATA['raw'][dataset][_file[:-4]] = [line.strip() for line in infile.readlines()]\n",
    "\n",
    "    # convert target labels to integers\n",
    "    for key in ['train_labels', 'val_labels', 'test_labels']:\n",
    "        DATA['raw'][dataset][key] = [int(x) for x in DATA['raw'][dataset][key]]\n",
    "\n",
    "    # convert mapping to dictionary\n",
    "    DATA['raw'][dataset]['mapping'] = {int(string.split('\\t')[0]): string.split('\\t')[1] for string in DATA['raw'][dataset]['mapping']}"
   ]
  },
  {
   "cell_type": "code",
   "execution_count": 8,
   "metadata": {
    "cell_id": "00014-a564b5fd-9112-40ea-ab20-a9e06cef672c",
    "deepnote_cell_type": "code",
    "deepnote_to_be_reexecuted": false,
    "execution_millis": 77,
    "execution_start": 1620736908858,
    "output_cleared": true,
    "scrolled": false,
    "source_hash": "3fbf30af"
   },
   "outputs": [],
   "source": [
    "for dataset in DATASETS:\n",
    "    read_raw_input(dataset)"
   ]
  },
  {
   "cell_type": "markdown",
   "metadata": {
    "cell_id": "00015-6ac2c66d-4d76-4711-82ed-29c0f25e3314",
    "deepnote_cell_type": "markdown"
   },
   "source": [
    "## Exploring Data\n",
    "---"
   ]
  },
  {
   "cell_type": "markdown",
   "metadata": {
    "cell_id": "00016-1ade1bb5-34a5-4a97-9049-49dbb00ee154",
    "deepnote_cell_type": "markdown"
   },
   "source": [
    "### Peek into Training Tweets"
   ]
  },
  {
   "cell_type": "code",
   "execution_count": 9,
   "metadata": {
    "cell_id": "00017-8c456ad3-3f69-4ec0-931f-2fdc6fe0e33e",
    "deepnote_cell_type": "code",
    "deepnote_to_be_reexecuted": false,
    "execution_millis": 7,
    "execution_start": 1620736908998,
    "output_cleared": false,
    "source_hash": "4847394d"
   },
   "outputs": [
    {
     "name": "stdout",
     "output_type": "stream",
     "text": [
      "1\tLabel: Not-Hate\t\t@user nice new signage. Are you not concerned by Beatlemania -style hysterical crowds crongregating on you…\n",
      "2\tLabel: Hate\t\tA woman who you fucked multiple times saying yo dick small is a compliment you know u hit that spot 😎\n",
      "3\tLabel: Hate\t\t@user @user real talk do you have eyes or were they gouged out by a rapefugee?\n",
      "4\tLabel: Hate\t\tyour girlfriend lookin at me like a groupie in this bitch!\n",
      "5\tLabel: Not-Hate\t\tHysterical woman like @user\n",
      "6\tLabel: Not-Hate\t\tMe flirting- So tell me about your father...\n",
      "7\tLabel: Not-Hate\t\tThe Philippine Catholic bishops' work for migrant workers should focus on families who are \"paying the great...\n",
      "8\tLabel: Hate\t\tI AM NOT GOING AFTER YOUR EX BF YOU LIEING SACK OF SHIT ! I'm done with you dude that's why I dumped your ass cause your a lieing 😂😡 bitch\n",
      "9\tLabel: Not-Hate\t\tWhen cuffin season is finally over\n",
      "10\tLabel: Hate\t\tSend home migrants not in need of protection, Peter Dutton tells UN, HEY DUTTON HOW ABOUT THE ONES THAT HAVE STAYED AND NOT LEFT THE COUNTRY WHEN THEY SHOULD OVERSTAYERS ? WHY DONT YOU GO AND ROUND ALL THEM UP ?\n"
     ]
    }
   ],
   "source": [
    "# hate\n",
    "for i in range(10):\n",
    "    print(f\"{i+1}\\tLabel: {DATA['raw']['hate']['mapping'][DATA['raw']['hate']['train_labels'][i]].title()}\\t\\t{DATA['raw']['hate']['train_text'][i]}\")"
   ]
  },
  {
   "cell_type": "code",
   "execution_count": 10,
   "metadata": {
    "cell_id": "00018-f6587a74-f6da-4c6c-8540-db447f5615d9",
    "deepnote_cell_type": "code",
    "deepnote_to_be_reexecuted": false,
    "execution_millis": 70,
    "execution_start": 1620736908999,
    "output_cleared": false,
    "source_hash": "c303da21"
   },
   "outputs": [
    {
     "name": "stdout",
     "output_type": "stream",
     "text": [
      "1\tLabel: Optimism\t\t“Worry is a down payment on a problem you may never have'.  Joyce Meyer.  #motivation #leadership #worry\n",
      "2\tLabel: Anger\t\tMy roommate: it's okay that we can't spell because we have autocorrect. #terrible #firstworldprobs\n",
      "3\tLabel: Joy\t\tNo but that's so cute. Atsu was probably shy about photos before but cherry helped her out uwu\n",
      "4\tLabel: Anger\t\tRooneys fucking untouchable isn't he? Been fucking dreadful again, depay has looked decent(ish)tonight\n",
      "5\tLabel: Sadness\t\tit's pretty depressing when u hit pan on ur favourite highlighter\n",
      "6\tLabel: Anger\t\t@user but your pussy was weak from what I heard so stfu up to me bitch . You got to threaten him that your pregnant .\n",
      "7\tLabel: Sadness\t\tMaking that yearly transition from excited and hopeful college returner to sick and exhausted pessimist. #college\n",
      "8\tLabel: Joy\t\tTiller and breezy should do a collab album. Rapping and singing prolly be fire\n",
      "9\tLabel: Anger\t\t@user broadband is shocking regretting signing up now #angry #shouldofgonewithvirgin\n",
      "10\tLabel: Anger\t\t@user Look at those teef! #growl\n"
     ]
    }
   ],
   "source": [
    "# emotion\n",
    "for i in range(10):\n",
    "    print(f\"{i+1}\\tLabel: {DATA['raw']['emotion']['mapping'][DATA['raw']['emotion']['train_labels'][i]].title()}\\t\\t{DATA['raw']['emotion']['train_text'][i]}\")"
   ]
  },
  {
   "cell_type": "markdown",
   "metadata": {
    "cell_id": "00019-ac0093ee-cb8e-4df0-9240-28b8639da8f0",
    "deepnote_cell_type": "markdown"
   },
   "source": [
    "### Visualising Label Distribution"
   ]
  },
  {
   "cell_type": "code",
   "execution_count": 11,
   "metadata": {
    "cell_id": "00020-ff2b603d-7d95-43b5-8411-7c54ff2985ec",
    "deepnote_cell_type": "code",
    "deepnote_to_be_reexecuted": false,
    "execution_millis": 0,
    "execution_start": 1620736909045,
    "output_cleared": true,
    "source_hash": "f856703d"
   },
   "outputs": [],
   "source": [
    "def visualise_label_distribution(dataset):\n",
    "    fig, ax = plt.subplots(ncols=3, figsize=(12,4))\n",
    "    fig.suptitle(f'Frequency of Target Label in {dataset.capitalize()}', fontsize=12, fontweight='bold')\n",
    "\n",
    "    for i, key in enumerate(['train_labels', 'val_labels', 'test_labels']):\n",
    "        label, count = np.unique(DATA['raw'][dataset][key], return_counts=True)\n",
    "        ax[i].bar(label, count, color='grey');\n",
    "        ax[i].set_title(key.replace('_', ' ').title())\n",
    "        ax[i].set_xticks(label); ax[i].set_xticklabels([string.title() for string in DATA['raw'][dataset]['mapping'].values()])"
   ]
  },
  {
   "cell_type": "code",
   "execution_count": 12,
   "metadata": {
    "cell_id": "00021-046d0488-77dc-47d3-a29c-d178ea704a1f",
    "deepnote_cell_type": "code",
    "deepnote_to_be_reexecuted": false,
    "execution_millis": 753,
    "execution_start": 1620736909045,
    "output_cleared": false,
    "source_hash": "894be1c8"
   },
   "outputs": [
    {
     "data": {
      "image/png": "[encoded data removed]",
      "text/plain": [
       "<Figure size 864x288 with 3 Axes>"
      ]
     },
     "metadata": {
      "needs_background": "light"
     },
     "output_type": "display_data"
    }
   ],
   "source": [
    "visualise_label_distribution(dataset='hate')"
   ]
  },
  {
   "cell_type": "code",
   "execution_count": 13,
   "metadata": {
    "cell_id": "00022-83c0ec2d-8094-4123-8603-caad77edb2af",
    "deepnote_cell_type": "code",
    "deepnote_to_be_reexecuted": false,
    "execution_millis": 555,
    "execution_start": 1620736909825,
    "output_cleared": false,
    "source_hash": "c0926180"
   },
   "outputs": [
    {
     "data": {
      "image/png": "[encoded data removed]",
      "text/plain": [
       "<Figure size 864x288 with 3 Axes>"
      ]
     },
     "metadata": {
      "needs_background": "light"
     },
     "output_type": "display_data"
    }
   ],
   "source": [
    "visualise_label_distribution(dataset='emotion')"
   ]
  },
  {
   "cell_type": "markdown",
   "metadata": {
    "cell_id": "00011-c1d3e256-83ab-4833-93bb-155c6dcb73ca",
    "deepnote_cell_type": "markdown",
    "tags": []
   },
   "source": [
    "*TASK 0.5*\n",
    "# Processing of Language Data\n",
    "---\n"
   ]
  },
  {
   "cell_type": "markdown",
   "metadata": {
    "cell_id": "00024-925deca3-bb20-43eb-bc18-98e47d7a5780",
    "deepnote_cell_type": "markdown",
    "tags": []
   },
   "source": [
    "### Tokenize Tweets\n",
    "---\n"
   ]
  },
  {
   "cell_type": "code",
   "execution_count": 14,
   "metadata": {
    "cell_id": "00024-20c29398-21ac-493b-8d2a-2161b831ef91",
    "deepnote_cell_type": "code",
    "deepnote_to_be_reexecuted": false,
    "execution_millis": 6,
    "execution_start": 1620736910376,
    "output_cleared": true,
    "source_hash": "a1f7603b"
   },
   "outputs": [],
   "source": [
    "def tokeniser1(tweet):\n",
    "    return re.findall('\\w+', tweet)"
   ]
  },
  {
   "cell_type": "code",
   "execution_count": 15,
   "metadata": {
    "cell_id": "00013-de37fee0-8080-49a2-8348-0cc7cd793435",
    "deepnote_cell_type": "code",
    "deepnote_to_be_reexecuted": false,
    "execution_millis": 12,
    "execution_start": 1620736910388,
    "output_cleared": true,
    "source_hash": "fcce8e84",
    "tags": []
   },
   "outputs": [],
   "source": [
    "def tokeniser2(tweet):\n",
    "    return re.split(' ', tweet)"
   ]
  },
  {
   "cell_type": "code",
   "execution_count": 16,
   "metadata": {
    "cell_id": "00026-12aa65c5-fb65-4563-9518-2593493305f8",
    "deepnote_cell_type": "code",
    "deepnote_to_be_reexecuted": false,
    "execution_millis": 1,
    "execution_start": 1620736910412,
    "output_cleared": true,
    "source_hash": "addc91b"
   },
   "outputs": [],
   "source": [
    "def tokeniser3(tweet):\n",
    "    tk = TweetTokenizer()\n",
    "    return tk.tokenize(tweet)"
   ]
  },
  {
   "cell_type": "code",
   "execution_count": 17,
   "metadata": {
    "cell_id": "00027-ef6625a3-be50-47af-8b54-b6da6068f0c4",
    "deepnote_cell_type": "code",
    "deepnote_to_be_reexecuted": false,
    "execution_millis": 3,
    "execution_start": 1620736910431,
    "output_cleared": true,
    "source_hash": "70f25dd3"
   },
   "outputs": [],
   "source": [
    "def tokeniser4(line):\n",
    "    # Initialise lists\n",
    "    tokens = []\n",
    "    unmatchable = [] # should be emtpy if done nicely\n",
    "\n",
    "    # Compile patterns for speedup\n",
    "    token_pat = re.compile('\\w+')\n",
    "    skippable_pat = re.compile('\\s+')  # typically spaces\n",
    "\n",
    "    # As long as there's any material left...\n",
    "    while line:\n",
    "        print(line)\n",
    "        # Try finding a skippable token delimiter first.\n",
    "        skippable_match = re.search(skippable_pat, line)\n",
    "        print(skippable_match)\n",
    "        if skippable_match and skippable_match.start() == 0:\n",
    "            # If there is one at the beginning of the line, just skip it.\n",
    "            line = line[skippable_match.end():]\n",
    "        else:\n",
    "            # Else try finding a real token.\n",
    "            token_match = re.search(token_pat, line)\n",
    "            if token_match and token_match.start() == 0:\n",
    "                print(token_match)\n",
    "                # If there is one at the beginning of the line, tokenise it.\n",
    "                tokens.append(line[:token_match.end()])\n",
    "                line = line[token_match.end():]\n",
    "            else:\n",
    "                # Else there is unmatchable material here.\n",
    "                # It ends where a skippable or token match starts, or at the end of the line.\n",
    "                unmatchable_end = len(line)\n",
    "                if skippable_match:\n",
    "                    unmatchable_end = skippable_match.start()\n",
    "                if token_match:\n",
    "                    unmatchable_end = min(unmatchable_end, token_match.start())\n",
    "                # Add it to unmatchable and discard from line.\n",
    "                unmatchable.append(line[:unmatchable_end])\n",
    "                line = line[unmatchable_end:]\n",
    "\n",
    "    return tokens"
   ]
  },
  {
   "cell_type": "code",
   "execution_count": 18,
   "metadata": {
    "cell_id": "00028-15e617bc-1809-4253-8f95-c827822c2e9e",
    "deepnote_cell_type": "code",
    "deepnote_to_be_reexecuted": false,
    "execution_millis": 27,
    "execution_start": 1620736910450,
    "output_cleared": false,
    "source_hash": "47651239"
   },
   "outputs": [
    {
     "name": "stdout",
     "output_type": "stream",
     "text": [
      "Original Tweet:  https://t.co/9z2J3P33Uc FB needs to hurry up and add a laugh/cry button 😬😭😓🤢🙄😱 Since eating my feelings has not fixed the world's problems, I guess I'll try to sleep... HOLY CRAP: DeVos questionnaire appears to include passages from uncited sources https://t.co/FNRoOlfw9s well played, Senator Murray Keep the pressure on: https://t.co/4hfOsmdk0l @datageneral thx Mr Taussig It's interesting how many people contact me about applying for a PhD and don't @user spell my name #something right. Wow ok I didn't realise i'm using contractions like haven't and won't. \n",
      "\n",
      "Tokeniser 1: ['https', 't', 'co', '9z2J3P33Uc', 'FB', 'needs', 'to', 'hurry', 'up', 'and', 'add', 'a', 'laugh', 'cry', 'button', 'Since', 'eating', 'my', 'feelings', 'has', 'not', 'fixed', 'the', 'world', 's', 'problems', 'I', 'guess', 'I', 'll', 'try', 'to', 'sleep', 'HOLY', 'CRAP', 'DeVos', 'questionnaire', 'appears', 'to', 'include', 'passages', 'from', 'uncited', 'sources', 'https', 't', 'co', 'FNRoOlfw9s', 'well', 'played', 'Senator', 'Murray', 'Keep', 'the', 'pressure', 'on', 'https', 't', 'co', '4hfOsmdk0l', 'datageneral', 'thx', 'Mr', 'Taussig', 'It', 's', 'interesting', 'how', 'many', 'people', 'contact', 'me', 'about', 'applying', 'for', 'a', 'PhD', 'and', 'don', 't', 'user', 'spell', 'my', 'name', 'something', 'right', 'Wow', 'ok', 'I', 'didn', 't', 'realise', 'i', 'm', 'using', 'contractions', 'like', 'haven', 't', 'and', 'won', 't']\n",
      "\n",
      "Tokeniser 2: ['https://t.co/9z2J3P33Uc', 'FB', 'needs', 'to', 'hurry', 'up', 'and', 'add', 'a', 'laugh/cry', 'button', '😬😭😓🤢🙄😱', 'Since', 'eating', 'my', 'feelings', 'has', 'not', 'fixed', 'the', \"world's\", 'problems,', 'I', 'guess', \"I'll\", 'try', 'to', 'sleep...', 'HOLY', 'CRAP:', 'DeVos', 'questionnaire', 'appears', 'to', 'include', 'passages', 'from', 'uncited', 'sources', 'https://t.co/FNRoOlfw9s', 'well', 'played,', 'Senator', 'Murray', 'Keep', 'the', 'pressure', 'on:', 'https://t.co/4hfOsmdk0l', '@datageneral', 'thx', 'Mr', 'Taussig', \"It's\", 'interesting', 'how', 'many', 'people', 'contact', 'me', 'about', 'applying', 'for', 'a', 'PhD', 'and', \"don't\", '@user', 'spell', 'my', 'name', '#something', 'right.', 'Wow', 'ok', 'I', \"didn't\", 'realise', \"i'm\", 'using', 'contractions', 'like', \"haven't\", 'and', \"won't.\"]\n",
      "\n",
      "Tokeniser 3: ['https://t.co/9z2J3P33Uc', 'FB', 'needs', 'to', 'hurry', 'up', 'and', 'add', 'a', 'laugh', '/', 'cry', 'button', '😬', '😭', '😓', '🤢', '🙄', '😱', 'Since', 'eating', 'my', 'feelings', 'has', 'not', 'fixed', 'the', \"world's\", 'problems', ',', 'I', 'guess', \"I'll\", 'try', 'to', 'sleep', '...', 'HOLY', 'CRAP', ':', 'DeVos', 'questionnaire', 'appears', 'to', 'include', 'passages', 'from', 'uncited', 'sources', 'https://t.co/FNRoOlfw9s', 'well', 'played', ',', 'Senator', 'Murray', 'Keep', 'the', 'pressure', 'on', ':', 'https://t.co/4hfOsmdk0l', '@datageneral', 'thx', 'Mr', 'Taussig', \"It's\", 'interesting', 'how', 'many', 'people', 'contact', 'me', 'about', 'applying', 'for', 'a', 'PhD', 'and', \"don't\", '@user', 'spell', 'my', 'name', '#something', 'right', '.', 'Wow', 'ok', 'I', \"didn't\", 'realise', \"i'm\", 'using', 'contractions', 'like', \"haven't\", 'and', \"won't\", '.']\n",
      "\n"
     ]
    }
   ],
   "source": [
    "#ex_tweet = DATA['hate']['train_text'][0]\n",
    "ex_tweet = \"https://t.co/9z2J3P33Uc FB needs to hurry up and add a laugh/cry button 😬😭😓🤢🙄😱 Since eating my feelings has not fixed the world's problems, I guess I'll try to sleep... HOLY CRAP: DeVos questionnaire appears to include passages from uncited sources https://t.co/FNRoOlfw9s well played, Senator Murray Keep the pressure on: https://t.co/4hfOsmdk0l @datageneral thx Mr Taussig It's interesting how many people contact me about applying for a PhD and don't @user spell my name #something right. Wow ok I didn't realise i'm using contractions like haven't and won't.\"\n",
    "\n",
    "tokeniser = [tokeniser1, tokeniser2, tokeniser3]\n",
    "\n",
    "print('Original Tweet: ',ex_tweet, '\\n')\n",
    "for i in range(len(tokeniser)):\n",
    "    print(f\"Tokeniser {i+1}: {tokeniser[i](ex_tweet)}\\n\")"
   ]
  },
  {
   "cell_type": "markdown",
   "metadata": {
    "cell_id": "00029-6b025e1e-41c8-40e8-95a6-ce98b58a469d",
    "deepnote_cell_type": "markdown"
   },
   "source": [
    "### Summary\n",
    "---\n",
    "\n",
    "Tokeniser 1 (Finds all Words):\n",
    "+ Good representation of words (includes Unicode characters and is sensible to punctuation within words, ie. \"don't\")\n",
    "- Deletes all punctuation (which might be important, ie. twitter communication heavily based tagging using '@' and hastags (#))\n",
    "- Destroys Links\n",
    "- Blind to Emojis\n",
    "\n",
    "Tokeniser 2 (Split at Whitespace):\n",
    "+ Overall good representation of words \n",
    "+ keeps punctuation\n",
    "- ending punctuation is not being separated\n",
    "+ keeps Links\n",
    "+ recognises Emojis\n",
    "- doesnt separate adjacent emojis \n",
    "- blind to several words written together (in slang), ie. idontgiveafuck\n",
    "\n",
    "Tokeniser 3 (Twitter Tokeniser API, Overcomes issues of Tokeniser 2):\n",
    "+ Ending punctuation is being separated\n",
    "+ Separate adjacent Emojis "
   ]
  },
  {
   "cell_type": "markdown",
   "metadata": {
    "cell_id": "00032-9918e5ff-ad34-4397-8a23-02f60d16a194",
    "deepnote_cell_type": "markdown",
    "tags": []
   },
   "source": [
    "### Improving Tokenizer"
   ]
  },
  {
   "cell_type": "markdown",
   "metadata": {
    "cell_id": "00032-4555a69b-e985-4c97-8a63-e922bdc51ee5",
    "deepnote_cell_type": "markdown",
    "tags": []
   },
   "source": [
    "Improving on the Tweet Tokenizer:\n",
    "* lowercasing \n",
    "* expanding contractions\n",
    "* change links to a dummy value"
   ]
  },
  {
   "cell_type": "markdown",
   "metadata": {
    "cell_id": "00042-494c027a-c333-45d2-95c0-f8775d64c2ee",
    "deepnote_cell_type": "markdown",
    "tags": []
   },
   "source": [
    "## Final Tokenising"
   ]
  },
  {
   "cell_type": "code",
   "execution_count": 19,
   "metadata": {
    "cell_id": "00043-2f55d04c-3946-4a00-a740-a8debdffb56c",
    "deepnote_cell_type": "code",
    "deepnote_to_be_reexecuted": false,
    "execution_millis": 0,
    "execution_start": 1620736910526,
    "output_cleared": true,
    "source_hash": "8e83866d",
    "tags": []
   },
   "outputs": [],
   "source": [
    "# define url regex pattern and replace pattern globally (compile for speedup)\n",
    "url_pattern = re.compile(r\"(?i)((?:https?://|www\\d{0,3}[.]|[a-z0-9.-]+[.][a-z]{2,4}/)(?:[^\\s()<>]+|(([^\\s()<>]+|(([^\\s()<>]+)))))+(?:(([^\\s()<>]+|(([^\\s()<>]+))))|[^\\s`!()[]{};:'\\\".,<>?«»\\“\\”‘’]))\")\n",
    "dummy = \" <=LINK=> \"\n",
    "\n",
    "def remove_links(tweet):\n",
    "    return re.sub(url_pattern, dummy, tweet) "
   ]
  },
  {
   "cell_type": "code",
   "execution_count": 20,
   "metadata": {
    "cell_id": "00043-6453b1f6-fe2d-4454-a660-25658b074aab",
    "deepnote_cell_type": "code",
    "deepnote_to_be_reexecuted": false,
    "execution_millis": 322431801,
    "execution_start": 1620736910527,
    "output_cleared": true,
    "source_hash": "6b72decd",
    "tags": []
   },
   "outputs": [],
   "source": [
    "# loading pre-trained contraction model\n",
    "cont = Contractions(api_key=\"glove-twitter-100\")\n",
    "\n",
    "def expand(tweet):\n",
    "    return list(cont.expand_texts([tweet]))[0]"
   ]
  },
  {
   "cell_type": "code",
   "execution_count": 21,
   "metadata": {
    "cell_id": "00042-a9e30c04-e319-4b86-93a2-495d377ffdf7",
    "deepnote_cell_type": "code",
    "deepnote_to_be_reexecuted": false,
    "execution_millis": 322431801,
    "execution_start": 1620736910528,
    "output_cleared": true,
    "source_hash": "57286f66",
    "tags": []
   },
   "outputs": [],
   "source": [
    "tk = TweetTokenizer()\n",
    "\n",
    "def clean(tweet):\n",
    "    cleaned_tweet = expand(remove_links(tweet.lower()))\n",
    "    return tk.tokenize(cleaned_tweet)"
   ]
  },
  {
   "cell_type": "markdown",
   "metadata": {
    "cell_id": "00042-19104ffb-e92b-4585-9351-30174aea6d80",
    "deepnote_cell_type": "markdown"
   },
   "source": [
    "## Testing clean function"
   ]
  },
  {
   "cell_type": "code",
   "execution_count": 22,
   "metadata": {
    "cell_id": "00046-0a1e72d3-a195-4b4d-b338-b99415bcfd4a",
    "deepnote_cell_type": "code",
    "deepnote_to_be_reexecuted": false,
    "execution_millis": 322431800,
    "execution_start": 1620736910533,
    "output_cleared": false,
    "scrolled": true,
    "source_hash": "492a3851",
    "tags": []
   },
   "outputs": [],
   "source": [
    "if PREPROCESS_DATA == True:\n",
    "    clean(ex_tweet)"
   ]
  },
  {
   "cell_type": "code",
   "execution_count": 23,
   "metadata": {
    "cell_id": "00046-8f2c5b62-9cce-4460-a430-78de3377ebca",
    "deepnote_cell_type": "code",
    "deepnote_to_be_reexecuted": false,
    "execution_millis": 322431798,
    "execution_start": 1620736910586,
    "output_cleared": true,
    "source_hash": "6cf87b7c",
    "tags": []
   },
   "outputs": [],
   "source": [
    "if PREPROCESS_DATA == True:\n",
    "    for dataset in DATASETS:\n",
    "        # create preprocessed folder\n",
    "        try: os.makedirs(f'../data/processed/{dataset}')\n",
    "        except: None\n",
    "\n",
    "        # preprocess and tokenize tweets\n",
    "        for key in ['train_text', 'val_text', 'test_text']:\n",
    "            with open(f'../data/processed/{dataset}/{key}.txt', 'w', encoding = 'UTF-8') as outfile:\n",
    "                for tweet in DATA[dataset][key]:\n",
    "                    outfile.write('\\t'.join(clean(tweet)) + '\\n') # writing tokenised tweet with tab delimiter\n",
    "\n",
    "        # copy labels and mapping without preprocessing\n",
    "        for key in ['train_labels', 'val_labels', 'test_labels', 'mapping']:\n",
    "            shutil.copyfile(f'../data/raw/{dataset}/{key}.txt', f'../data/processed/{dataset}/{key}.txt')"
   ]
  },
  {
   "cell_type": "code",
   "execution_count": 24,
   "metadata": {
    "cell_id": "00045-ccf8e1c1-82e9-4889-83a2-29cf5c12fb56",
    "deepnote_cell_type": "code",
    "deepnote_to_be_reexecuted": false,
    "execution_millis": 172,
    "execution_start": 1620736910586,
    "output_cleared": false,
    "source_hash": "20b39079"
   },
   "outputs": [],
   "source": [
    "# loading in preprocessed data\n",
    "for dataset in DATASETS:\n",
    "        for key in os.listdir(f'../data/processed/{dataset}'):\n",
    "            with open(f'../data/processed/{dataset}/{key}', 'r', encoding = 'UTF-8') as infile:\n",
    "                DATA['processed'][dataset][key[:-4]]= [line.strip().split('\\t') for line in infile]"
   ]
  },
  {
   "cell_type": "code",
   "execution_count": 25,
   "metadata": {
    "cell_id": "00042-632ac15c-7d49-4503-b780-5829b6f5faac",
    "deepnote_cell_type": "code",
    "deepnote_to_be_reexecuted": false,
    "execution_millis": 379,
    "execution_start": 1620736910761,
    "output_cleared": true,
    "source_hash": "24d80be2",
    "tags": []
   },
   "outputs": [],
   "source": [
    "# reading in processed data\n",
    "for dataset in DATASETS:\n",
    "######### this is repeaded from above\n",
    "\n",
    "    for _file in os.listdir(f'../data/processed/{dataset}'):\n",
    "        with open(f'../data/processed/{dataset}/{_file}', 'r', encoding='UTF-8') as infile:\n",
    "            DATA['processed'][dataset][_file[:-4]] = [line.strip().split('\\t') for line in infile.readlines()]\n",
    "\n",
    "#########\n",
    "    # convert target labels to integers\n",
    "    for key in ['train_labels', 'val_labels', 'test_labels']:\n",
    "        DATA['processed'][dataset][key] = [int(x) for x in [DATA['processed'][dataset][key][i][0] for i in range(len(DATA['processed'][dataset][key]))]]\n",
    "\n",
    "    # convert mapping to dictionary\n",
    "    DATA['processed'][dataset]['mapping'] = {int(string[0]): string[1] for string in DATA['processed'][dataset]['mapping']}"
   ]
  },
  {
   "cell_type": "markdown",
   "metadata": {
    "cell_id": "00044-cef6a6e4-c220-496f-ada8-d6cfbc08f299",
    "deepnote_cell_type": "markdown",
    "tags": []
   },
   "source": [
    "*TASK 1* \n",
    "# Descriptive Statistics about Natural Language Data\n",
    "---"
   ]
  },
  {
   "cell_type": "code",
   "execution_count": 26,
   "metadata": {
    "cell_id": "00042-f580c106-03ae-4ef2-a8de-3329cc7f39d7",
    "deepnote_cell_type": "code",
    "deepnote_to_be_reexecuted": false,
    "execution_millis": 117,
    "execution_start": 1620736911140,
    "output_cleared": true,
    "source_hash": "12df028b",
    "tags": []
   },
   "outputs": [],
   "source": [
    "# build entire alphabet from training tweets\n",
    "VOCABULARY = {}\n",
    "for dataset in DATASETS:\n",
    "    corpus = [token for tweet in DATA['processed'][dataset]['train_text'] for token in tweet]\n",
    "\n",
    "    # initialise frequency counter\n",
    "    VOCABULARY[dataset] = pd.DataFrame.from_dict(Counter(corpus), orient='index').rename(columns={'index': 'token', 0: 'frequency'}).sort_values(by='frequency', ascending=False).reset_index()\n",
    "\n",
    "    VOCABULARY[dataset]['rank'] = VOCABULARY[dataset].index + 1 # add one to index to build rank\n",
    "    VOCABULARY[dataset]['normalised_frequency'] = VOCABULARY[dataset]['frequency'] / VOCABULARY[dataset]['frequency'].sum() # relative frequency\n",
    "    VOCABULARY[dataset]['cumulative_frequency'] = VOCABULARY[dataset]['normalised_frequency'].cumsum()"
   ]
  },
  {
   "cell_type": "code",
   "execution_count": 27,
   "metadata": {
    "cell_id": "00046-5accac30-2f91-4cf6-8d65-ca5f6e2cfff1",
    "deepnote_cell_type": "code",
    "deepnote_to_be_reexecuted": false,
    "execution_millis": 177,
    "execution_start": 1620736911275,
    "output_cleared": false,
    "source_hash": "76d6d744",
    "tags": []
   },
   "outputs": [
    {
     "data": {
      "text/html": [
       "<div>\n",
       "<style scoped>\n",
       "    .dataframe tbody tr th:only-of-type {\n",
       "        vertical-align: middle;\n",
       "    }\n",
       "\n",
       "    .dataframe tbody tr th {\n",
       "        vertical-align: top;\n",
       "    }\n",
       "\n",
       "    .dataframe thead th {\n",
       "        text-align: right;\n",
       "    }\n",
       "</style>\n",
       "<table border=\"1\" class=\"dataframe\">\n",
       "  <thead>\n",
       "    <tr style=\"text-align: right;\">\n",
       "      <th></th>\n",
       "      <th>index</th>\n",
       "      <th>frequency</th>\n",
       "      <th>rank</th>\n",
       "      <th>normalised_frequency</th>\n",
       "      <th>cumulative_frequency</th>\n",
       "    </tr>\n",
       "  </thead>\n",
       "  <tbody>\n",
       "    <tr>\n",
       "      <th>0</th>\n",
       "      <td>.</td>\n",
       "      <td>6277</td>\n",
       "      <td>1</td>\n",
       "      <td>0.029050</td>\n",
       "      <td>0.029050</td>\n",
       "    </tr>\n",
       "    <tr>\n",
       "      <th>1</th>\n",
       "      <td>@user</td>\n",
       "      <td>6014</td>\n",
       "      <td>2</td>\n",
       "      <td>0.027833</td>\n",
       "      <td>0.056883</td>\n",
       "    </tr>\n",
       "    <tr>\n",
       "      <th>2</th>\n",
       "      <td>the</td>\n",
       "      <td>5492</td>\n",
       "      <td>3</td>\n",
       "      <td>0.025417</td>\n",
       "      <td>0.082300</td>\n",
       "    </tr>\n",
       "    <tr>\n",
       "      <th>3</th>\n",
       "      <td>to</td>\n",
       "      <td>4931</td>\n",
       "      <td>4</td>\n",
       "      <td>0.022821</td>\n",
       "      <td>0.105120</td>\n",
       "    </tr>\n",
       "    <tr>\n",
       "      <th>4</th>\n",
       "      <td>,</td>\n",
       "      <td>4356</td>\n",
       "      <td>5</td>\n",
       "      <td>0.020160</td>\n",
       "      <td>0.125280</td>\n",
       "    </tr>\n",
       "    <tr>\n",
       "      <th>...</th>\n",
       "      <td>...</td>\n",
       "      <td>...</td>\n",
       "      <td>...</td>\n",
       "      <td>...</td>\n",
       "      <td>...</td>\n",
       "    </tr>\n",
       "    <tr>\n",
       "      <th>18595</th>\n",
       "      <td>weren</td>\n",
       "      <td>1</td>\n",
       "      <td>18596</td>\n",
       "      <td>0.000005</td>\n",
       "      <td>0.999981</td>\n",
       "    </tr>\n",
       "    <tr>\n",
       "      <th>18596</th>\n",
       "      <td>miaow-miaow-miaow</td>\n",
       "      <td>1</td>\n",
       "      <td>18597</td>\n",
       "      <td>0.000005</td>\n",
       "      <td>0.999986</td>\n",
       "    </tr>\n",
       "    <tr>\n",
       "      <th>18597</th>\n",
       "      <td>aaaaw</td>\n",
       "      <td>1</td>\n",
       "      <td>18598</td>\n",
       "      <td>0.000005</td>\n",
       "      <td>0.999991</td>\n",
       "    </tr>\n",
       "    <tr>\n",
       "      <th>18598</th>\n",
       "      <td>food-hole</td>\n",
       "      <td>1</td>\n",
       "      <td>18599</td>\n",
       "      <td>0.000005</td>\n",
       "      <td>0.999995</td>\n",
       "    </tr>\n",
       "    <tr>\n",
       "      <th>18599</th>\n",
       "      <td>pic.why</td>\n",
       "      <td>1</td>\n",
       "      <td>18600</td>\n",
       "      <td>0.000005</td>\n",
       "      <td>1.000000</td>\n",
       "    </tr>\n",
       "  </tbody>\n",
       "</table>\n",
       "<p>18600 rows × 5 columns</p>\n",
       "</div>"
      ],
      "text/plain": [
       "                   index  frequency   rank  normalised_frequency  \\\n",
       "0                      .       6277      1              0.029050   \n",
       "1                  @user       6014      2              0.027833   \n",
       "2                    the       5492      3              0.025417   \n",
       "3                     to       4931      4              0.022821   \n",
       "4                      ,       4356      5              0.020160   \n",
       "...                  ...        ...    ...                   ...   \n",
       "18595              weren          1  18596              0.000005   \n",
       "18596  miaow-miaow-miaow          1  18597              0.000005   \n",
       "18597              aaaaw          1  18598              0.000005   \n",
       "18598          food-hole          1  18599              0.000005   \n",
       "18599            pic.why          1  18600              0.000005   \n",
       "\n",
       "       cumulative_frequency  \n",
       "0                  0.029050  \n",
       "1                  0.056883  \n",
       "2                  0.082300  \n",
       "3                  0.105120  \n",
       "4                  0.125280  \n",
       "...                     ...  \n",
       "18595              0.999981  \n",
       "18596              0.999986  \n",
       "18597              0.999991  \n",
       "18598              0.999995  \n",
       "18599              1.000000  \n",
       "\n",
       "[18600 rows x 5 columns]"
      ]
     },
     "execution_count": 27,
     "metadata": {},
     "output_type": "execute_result"
    }
   ],
   "source": [
    "VOCABULARY['hate']"
   ]
  },
  {
   "cell_type": "markdown",
   "metadata": {
    "cell_id": "00046-7c9fef28-200d-494f-b96d-c48da9560645",
    "deepnote_cell_type": "markdown",
    "tags": []
   },
   "source": [
    "## Hate Plots"
   ]
  },
  {
   "cell_type": "code",
   "execution_count": 28,
   "metadata": {
    "cell_id": "00047-55fe270c-7dbf-4329-91e6-1e349967f510",
    "deepnote_cell_type": "code",
    "deepnote_to_be_reexecuted": false,
    "execution_millis": 204,
    "execution_start": 1620736911439,
    "output_cleared": false,
    "source_hash": "a043a749",
    "tags": []
   },
   "outputs": [
    {
     "data": {
      "text/plain": [
       "<matplotlib.collections.PathCollection at 0x1bd0c0c2ca0>"
      ]
     },
     "execution_count": 28,
     "metadata": {},
     "output_type": "execute_result"
    },
    {
     "data": {
      "image/png": "[encoded data removed]",
      "text/plain": [
       "<Figure size 432x288 with 1 Axes>"
      ]
     },
     "metadata": {
      "needs_background": "light"
     },
     "output_type": "display_data"
    }
   ],
   "source": [
    "#dict(Counter(VOCABULARY['hate']['frequency']))\n",
    "import math\n",
    "frequency, frequency_of_frequency = np.unique(VOCABULARY['hate']['frequency'], return_counts=True)\n",
    "fig, ax = plt.subplots()\n",
    "ax.scatter([math.log(f) for f in frequency], [math.log(f) for f in frequency_of_frequency],s=0.5)"
   ]
  },
  {
   "cell_type": "code",
   "execution_count": 29,
   "metadata": {
    "cell_id": "00045-a562d74f-2f2c-4791-9584-2f04196769f7",
    "deepnote_cell_type": "code",
    "deepnote_to_be_reexecuted": false,
    "execution_millis": 3187,
    "execution_start": 1620736911662,
    "output_cleared": false,
    "source_hash": "9b0afc9c",
    "tags": []
   },
   "outputs": [
    {
     "ename": "AttributeError",
     "evalue": "module 'seaborn' has no attribute 'set_theme'",
     "output_type": "error",
     "traceback": [
      "\u001b[1;31m---------------------------------------------------------------------------\u001b[0m",
      "\u001b[1;31mAttributeError\u001b[0m                            Traceback (most recent call last)",
      "\u001b[1;32m<ipython-input-29-a68e63c07cf9>\u001b[0m in \u001b[0;36m<module>\u001b[1;34m\u001b[0m\n\u001b[0;32m      1\u001b[0m \u001b[1;31m# plots\u001b[0m\u001b[1;33m\u001b[0m\u001b[1;33m\u001b[0m\u001b[1;33m\u001b[0m\u001b[0m\n\u001b[1;32m----> 2\u001b[1;33m \u001b[0msns\u001b[0m\u001b[1;33m.\u001b[0m\u001b[0mset_theme\u001b[0m\u001b[1;33m(\u001b[0m\u001b[0mstyle\u001b[0m\u001b[1;33m=\u001b[0m\u001b[1;34m'whitegrid'\u001b[0m\u001b[1;33m)\u001b[0m\u001b[1;33m\u001b[0m\u001b[1;33m\u001b[0m\u001b[0m\n\u001b[0m\u001b[0;32m      3\u001b[0m \u001b[1;33m\u001b[0m\u001b[0m\n\u001b[0;32m      4\u001b[0m \u001b[1;31m# Plot: Cumulative frequency by index\u001b[0m\u001b[1;33m\u001b[0m\u001b[1;33m\u001b[0m\u001b[1;33m\u001b[0m\u001b[0m\n\u001b[0;32m      5\u001b[0m \u001b[0msns\u001b[0m\u001b[1;33m.\u001b[0m\u001b[0mrelplot\u001b[0m\u001b[1;33m(\u001b[0m\u001b[0mx\u001b[0m\u001b[1;33m=\u001b[0m\u001b[1;34m'rank'\u001b[0m\u001b[1;33m,\u001b[0m \u001b[0my\u001b[0m\u001b[1;33m=\u001b[0m\u001b[1;34m'cumulative_frequency'\u001b[0m\u001b[1;33m,\u001b[0m \u001b[0mdata\u001b[0m\u001b[1;33m=\u001b[0m\u001b[0mVOCABULARY\u001b[0m\u001b[1;33m[\u001b[0m\u001b[1;34m'hate'\u001b[0m\u001b[1;33m]\u001b[0m\u001b[1;33m,\u001b[0m \u001b[0mkind\u001b[0m\u001b[1;33m=\u001b[0m\u001b[1;34m'line'\u001b[0m\u001b[1;33m)\u001b[0m\u001b[1;33m\u001b[0m\u001b[1;33m\u001b[0m\u001b[0m\n",
      "\u001b[1;31mAttributeError\u001b[0m: module 'seaborn' has no attribute 'set_theme'"
     ]
    }
   ],
   "source": [
    "# plots\n",
    "sns.set_theme(style='whitegrid')\n",
    "\n",
    "# Plot: Cumulative frequency by index\n",
    "sns.relplot(x='rank', y='cumulative_frequency', data=VOCABULARY['hate'], kind='line')\n",
    "sns.relplot(x='rank', y='cumulative_frequency', data=VOCABULARY['hate'][:2000], kind='line') # Cumulative frequency by index, top 10000 tokens\n",
    "\n",
    "# Plot: Log-log plot for Zipf's law\n",
    "#frq['log_frq'] = numpy.log(frq.frequency)\n",
    "#frq['log_rank'] = numpy.log(frq.frequency.rank(ascending=True))\n",
    "#seaborn.relp"
   ]
  },
  {
   "cell_type": "code",
   "execution_count": null,
   "metadata": {
    "cell_id": "00051-d2c0bd6d-7e5a-4aa4-989f-07068434c1fc",
    "deepnote_cell_type": "code",
    "deepnote_to_be_reexecuted": false,
    "execution_millis": 467,
    "execution_start": 1620736914887,
    "output_cleared": false,
    "source_hash": "c5d39fe3",
    "tags": []
   },
   "outputs": [],
   "source": [
    "# frequency plot (rank/ frequency)\n",
    "fig, ax = plt.subplots()\n",
    "ax.scatter(VOCABULARY['hate']['rank'], VOCABULARY['hate']['frequency'],  s=2);\n",
    "ax.set_title('Frequency Plot'); ax.set_xlabel('Rank'); ax.set_ylabel('Frequency');"
   ]
  },
  {
   "cell_type": "code",
   "execution_count": null,
   "metadata": {
    "cell_id": "00050-27ede284-d642-4c79-97d5-d69b0df6d717",
    "deepnote_cell_type": "code",
    "deepnote_to_be_reexecuted": false,
    "execution_millis": 376,
    "execution_start": 1620736915356,
    "output_cleared": false,
    "source_hash": "35529072",
    "tags": []
   },
   "outputs": [],
   "source": [
    "# log-log plot for zipf's law\n",
    "fig, ax = plt.subplots()\n",
    "plt.scatter(np.log(VOCABULARY['hate']['rank']), np.log(VOCABULARY['hate']['frequency']), s=15,marker=\".\")\n",
    "ax.set_title(\"Log-Log Frequency Plot (Visualising Zipf'Law)\"); ax.set_xlabel('Rank (Log)'); ax.set_ylabel('Frequency (Log)');"
   ]
  },
  {
   "cell_type": "markdown",
   "metadata": {
    "cell_id": "00048-0061151a-0e2e-4417-af54-813e14c015de",
    "deepnote_cell_type": "markdown",
    "tags": []
   },
   "source": [
    "## Emotional Plots"
   ]
  },
  {
   "cell_type": "code",
   "execution_count": null,
   "metadata": {
    "cell_id": "00045-4ab344ce-ccd0-464b-9e52-86f362864b29",
    "deepnote_cell_type": "code",
    "deepnote_to_be_reexecuted": false,
    "execution_millis": 9,
    "execution_start": 1620736915739,
    "output_cleared": true,
    "source_hash": "77e6b1ff",
    "tags": []
   },
   "outputs": [],
   "source": [
    "one_occurance=VOCABULARY['hate']['frequency']==1"
   ]
  },
  {
   "cell_type": "code",
   "execution_count": null,
   "metadata": {
    "cell_id": "00046-77715214-bd39-43d0-9f31-ecb127f58947",
    "deepnote_cell_type": "code",
    "deepnote_to_be_reexecuted": false,
    "execution_millis": 11,
    "execution_start": 1620736915755,
    "output_cleared": true,
    "source_hash": "4f3c6e68",
    "tags": []
   },
   "outputs": [],
   "source": [
    "#VOCABULARY['hate'][one_occurance]"
   ]
  },
  {
   "cell_type": "markdown",
   "metadata": {
    "cell_id": "00012-f7ed8c9e-4e5c-4499-8cbd-bc465deeb219",
    "deepnote_cell_type": "markdown",
    "tags": []
   },
   "source": [
    "*TASK 2*\n",
    "# XXX\n",
    "---"
   ]
  },
  {
   "cell_type": "code",
   "execution_count": null,
   "metadata": {
    "cell_id": "00015-c0d67151-ed60-49d4-822d-0806e71831bc",
    "deepnote_cell_type": "code",
    "deepnote_to_be_reexecuted": false,
    "execution_millis": 11,
    "execution_start": 1620736915774,
    "output_cleared": true,
    "source_hash": "5cd17fc",
    "tags": []
   },
   "outputs": [],
   "source": [
    "# some code"
   ]
  },
  {
   "cell_type": "markdown",
   "metadata": {
    "cell_id": "00056-e968357f-470b-4e57-b721-9add3729ae71",
    "deepnote_cell_type": "markdown",
    "tags": []
   },
   "source": [
    "## Exercise 2"
   ]
  },
  {
   "cell_type": "code",
   "execution_count": null,
   "metadata": {
    "cell_id": "00058-8d948cde-2e02-4c37-bc16-fbe8682c2d39",
    "deepnote_cell_type": "code",
    "deepnote_to_be_reexecuted": false,
    "execution_millis": 6,
    "execution_start": 1620736915838,
    "source_hash": "3b353218",
    "tags": []
   },
   "outputs": [],
   "source": [
    "from nltk.util import bigrams\n",
    "list(bigrams(DATA['processed'][\"emotion\"][\"train_text\"][0]))"
   ]
  },
  {
   "cell_type": "code",
   "execution_count": null,
   "metadata": {
    "cell_id": "00057-bff8f6ef-d98d-4a90-af0f-d94d70c9b886",
    "deepnote_cell_type": "code",
    "deepnote_to_be_reexecuted": false,
    "execution_millis": 54,
    "execution_start": 1620736915838,
    "source_hash": "308c1320",
    "tags": []
   },
   "outputs": [],
   "source": [
    "#Adds A <s> to before the first word to indicate that it's the start and an </s> to the end the word to do it\n",
    "from nltk.util import pad_sequence\n",
    "list(pad_sequence(DATA['processed'][\"emotion\"][\"train_text\"][0],\n",
    "pad_left=True,\n",
    "left_pad_symbol=\"<s>\",\n",
    "pad_right=True,\n",
    "right_pad_symbol=\"</s>\",\n",
    "n=2))"
   ]
  },
  {
   "cell_type": "code",
   "execution_count": null,
   "metadata": {
    "cell_id": "00060-cea7d2d0-0bf4-4fac-8bc2-b7cdf2a772a0",
    "deepnote_cell_type": "code",
    "deepnote_to_be_reexecuted": false,
    "execution_millis": 9,
    "execution_start": 1620736915883,
    "source_hash": "32bfc397",
    "tags": []
   },
   "outputs": [],
   "source": [
    "from nltk.lm.preprocessing import pad_both_ends\n",
    "list(pad_both_ends(DATA['processed'][\"emotion\"][\"train_text\"][0], n=2))"
   ]
  },
  {
   "cell_type": "code",
   "execution_count": null,
   "metadata": {
    "cell_id": "00061-afefc8ce-f79b-4771-9b31-01878b257a7b",
    "deepnote_cell_type": "code",
    "deepnote_to_be_reexecuted": false,
    "execution_millis": 6,
    "execution_start": 1620736915926,
    "source_hash": "33d61cfe",
    "tags": []
   },
   "outputs": [],
   "source": [
    "list(bigrams(pad_both_ends(DATA['processed'][\"emotion\"][\"train_text\"][0], n=2)))"
   ]
  },
  {
   "cell_type": "code",
   "execution_count": null,
   "metadata": {
    "cell_id": "00061-87f200f6-4a5c-4dd1-8c0f-8066ca235162",
    "deepnote_cell_type": "code",
    "deepnote_to_be_reexecuted": false,
    "execution_millis": 0,
    "execution_start": 1620736915978,
    "source_hash": "35ff05f",
    "tags": []
   },
   "outputs": [],
   "source": [
    "from nltk.lm.preprocessing import flatten\n",
    "list(flatten(pad_both_ends(sent, n=2) for sent in DATA['processed'][\"emotion\"][\"train_text\"][:100]))"
   ]
  },
  {
   "cell_type": "code",
   "execution_count": null,
   "metadata": {
    "cell_id": "00062-8d124715-50b4-43a6-9d89-ea885342ff27",
    "deepnote_cell_type": "code",
    "deepnote_to_be_reexecuted": false,
    "execution_millis": 4,
    "execution_start": 1620736916022,
    "source_hash": "5b2eb51f",
    "tags": []
   },
   "outputs": [],
   "source": [
    "from nltk.lm.preprocessing import padded_everygram_pipeline\n",
    "train, vocab = padded_everygram_pipeline(3, DATA['processed'][\"hate\"][\"train_text\"])"
   ]
  },
  {
   "cell_type": "code",
   "execution_count": null,
   "metadata": {
    "cell_id": "00064-743bafa3-8d63-437c-bde0-3c09c993fc79",
    "deepnote_cell_type": "code",
    "deepnote_to_be_reexecuted": false,
    "execution_millis": 0,
    "execution_start": 1620736916023,
    "source_hash": "8bcb8554",
    "tags": []
   },
   "outputs": [],
   "source": [
    "from nltk.lm import MLE\n",
    "lm = MLE(5)"
   ]
  },
  {
   "cell_type": "code",
   "execution_count": null,
   "metadata": {
    "cell_id": "00065-895de1bd-c0c6-48e4-8b00-980f2cc60d05",
    "deepnote_cell_type": "code",
    "deepnote_to_be_reexecuted": false,
    "execution_millis": 322434583,
    "execution_start": 1620736916066,
    "source_hash": "75128094",
    "tags": []
   },
   "outputs": [],
   "source": [
    "len(lm.vocab)"
   ]
  },
  {
   "cell_type": "code",
   "execution_count": null,
   "metadata": {
    "cell_id": "00066-34aff179-5976-41b6-95a8-86038bbd6caa",
    "deepnote_cell_type": "code",
    "deepnote_to_be_reexecuted": false,
    "execution_millis": 10975,
    "execution_start": 1620736916066,
    "source_hash": "82e9fe51",
    "tags": []
   },
   "outputs": [],
   "source": [
    "lm.fit(train, vocab)\n",
    "print(lm.vocab)\n",
    "len(lm.vocab)"
   ]
  },
  {
   "cell_type": "code",
   "execution_count": null,
   "metadata": {
    "cell_id": "00066-ac07c8de-8236-4c86-9ca3-939845193cc8",
    "deepnote_cell_type": "code",
    "deepnote_to_be_reexecuted": false,
    "execution_millis": 174,
    "execution_start": 1620736927050,
    "source_hash": "7046381c",
    "tags": []
   },
   "outputs": [],
   "source": [
    "print(lm.counts)"
   ]
  },
  {
   "cell_type": "code",
   "execution_count": null,
   "metadata": {
    "cell_id": "00067-f109bea8-2914-49b3-b11f-4944e68daa41",
    "deepnote_cell_type": "code",
    "deepnote_to_be_reexecuted": false,
    "execution_millis": 322439786,
    "execution_start": 1620736927217,
    "source_hash": "aeeaec4d",
    "tags": []
   },
   "outputs": [],
   "source": [
    "lm.counts[['.']][\"</s>\"]"
   ]
  },
  {
   "cell_type": "code",
   "execution_count": null,
   "metadata": {
    "cell_id": "00068-f367f9fb-8559-4d5b-9c8c-d8ebf6a22c82",
    "deepnote_cell_type": "code",
    "deepnote_to_be_reexecuted": false,
    "execution_millis": 322439788,
    "execution_start": 1620736927251,
    "source_hash": "237ec896",
    "tags": []
   },
   "outputs": [],
   "source": [
    "lm.score(\".\", [\"</s>\"])"
   ]
  },
  {
   "cell_type": "code",
   "execution_count": null,
   "metadata": {
    "cell_id": "00068-0d1770b7-a735-4825-add1-1fd9dbd8ed58",
    "deepnote_cell_type": "code",
    "deepnote_to_be_reexecuted": false,
    "execution_millis": 322439775,
    "execution_start": 1620736927303,
    "source_hash": "285a3958",
    "tags": []
   },
   "outputs": [],
   "source": [
    "lm.score(\"randomString\")"
   ]
  },
  {
   "cell_type": "code",
   "execution_count": null,
   "metadata": {
    "cell_id": "00070-473d4ac1-d4ae-47f9-b6dd-3b5071e17f5e",
    "deepnote_cell_type": "code",
    "deepnote_to_be_reexecuted": false,
    "execution_millis": 322439778,
    "execution_start": 1620736927303,
    "source_hash": "5554bfdc",
    "tags": []
   },
   "outputs": [],
   "source": [
    " test = [('I', 'am'), ('I', 'hate')]"
   ]
  },
  {
   "cell_type": "code",
   "execution_count": null,
   "metadata": {
    "cell_id": "00070-af019404-c3b6-4afa-b27d-c47f570eecdd",
    "deepnote_cell_type": "code",
    "deepnote_to_be_reexecuted": false,
    "execution_millis": 322439787,
    "execution_start": 1620736927303,
    "source_hash": "816e0766",
    "tags": []
   },
   "outputs": [],
   "source": [
    " lm.entropy(test)"
   ]
  },
  {
   "cell_type": "code",
   "execution_count": null,
   "metadata": {
    "cell_id": "00071-a11989ee-d669-4629-8eea-ca7f52c0910c",
    "deepnote_cell_type": "code",
    "deepnote_to_be_reexecuted": false,
    "execution_millis": 322439799,
    "execution_start": 1620736927304,
    "source_hash": "3e97d56e",
    "tags": []
   },
   "outputs": [],
   "source": [
    "lm.perplexity(test)"
   ]
  },
  {
   "cell_type": "markdown",
   "metadata": {
    "cell_id": "00073-aca32b87-a150-480a-ba80-7d0f03c506d7",
    "deepnote_cell_type": "text-cell-p",
    "tags": []
   },
   "source": [
    "\"your girlfriend looking at injustices happening in andrew\""
   ]
  },
  {
   "cell_type": "markdown",
   "metadata": {
    "cell_id": "00074-02be21d7-df2b-463a-a794-02ced329495c",
    "deepnote_cell_type": "text-cell-p",
    "tags": []
   },
   "source": [
    "'they should understand women cheats on my 16gb of action against their bodies on legs'"
   ]
  },
  {
   "cell_type": "markdown",
   "metadata": {
    "cell_id": "00075-a44f03c1-a36f-49cf-8880-91abd8230521",
    "deepnote_cell_type": "text-cell-p",
    "tags": []
   },
   "source": [
    "#peoplelikemebecause actions. #lovejihad"
   ]
  },
  {
   "cell_type": "markdown",
   "metadata": {
    "cell_id": "00076-303259f8-9630-4042-9d72-057c9d8bf165",
    "deepnote_cell_type": "markdown",
    "tags": []
   },
   "source": [
    "'betray your hole last weekend me want more' <br>\n",
    "'hitler may come back'"
   ]
  },
  {
   "cell_type": "code",
   "execution_count": null,
   "metadata": {
    "cell_id": "00076-99664b8f-9d0d-4370-932f-da7947884f7b",
    "deepnote_cell_type": "code",
    "deepnote_to_be_reexecuted": false,
    "execution_millis": 322439837,
    "execution_start": 1620736927350,
    "source_hash": "691612ea",
    "tags": []
   },
   "outputs": [],
   "source": [
    "lm.generate(10, text_seed=[\"You\",\"are\",\"a\",\"stupid\"], random_seed=5)"
   ]
  },
  {
   "cell_type": "code",
   "execution_count": null,
   "metadata": {
    "cell_id": "00075-d8f867fa-f45b-400a-ab49-74aa5949913d",
    "deepnote_cell_type": "code",
    "deepnote_to_be_reexecuted": false,
    "execution_millis": 343,
    "execution_start": 1620736927351,
    "source_hash": "523cc3cf",
    "tags": []
   },
   "outputs": [],
   "source": [
    "from nltk.util import ngrams\n",
    "text_bigrams = [ngrams(sent, 2) for sent in DATA['processed'][\"hate\"][\"train_text\"]]\n",
    "text_unigrams = [ngrams(sent, 1) for sent in DATA['processed'][\"hate\"][\"train_text\"]]"
   ]
  },
  {
   "cell_type": "code",
   "execution_count": null,
   "metadata": {
    "cell_id": "00077-2f9d9e94-5259-474a-95f9-97fa614665d1",
    "deepnote_cell_type": "code",
    "deepnote_to_be_reexecuted": false,
    "execution_millis": 1293,
    "execution_start": 1620736927704,
    "source_hash": "42addd9e",
    "tags": []
   },
   "outputs": [],
   "source": [
    "from nltk.lm import NgramCounter\n",
    "ngram_counts = NgramCounter(text_bigrams + text_unigrams)"
   ]
  },
  {
   "cell_type": "code",
   "execution_count": null,
   "metadata": {
    "cell_id": "00078-49c0e88f-a77d-4697-a9a2-ad934d2a7723",
    "deepnote_cell_type": "code",
    "deepnote_to_be_reexecuted": false,
    "execution_millis": 0,
    "execution_start": 1620736929006,
    "source_hash": "d956c480",
    "tags": []
   },
   "outputs": [],
   "source": [
    "ngram_counts[\"I\"]"
   ]
  },
  {
   "cell_type": "code",
   "execution_count": null,
   "metadata": {
    "cell_id": "00081-dc38865a-0292-4597-89a6-b68d5084a345",
    "deepnote_cell_type": "code",
    "deepnote_to_be_reexecuted": false,
    "execution_millis": 2,
    "execution_start": 1620736929052,
    "source_hash": "b623e53d",
    "tags": []
   },
   "outputs": [],
   "source": []
  },
  {
   "cell_type": "markdown",
   "metadata": {
    "cell_id": "00082-d445badc-5275-4d02-af41-527b34f6b56b",
    "deepnote_cell_type": "markdown",
    "tags": []
   },
   "source": [
    "*TASK 2*\n",
    "# Manual Annotations\n",
    "\n",
    "In this section, we will manually annotate 100 randomly selected tweets from the train corpus in the hate speech data set. We followed the annotation guidelines as employed by the source of the data:\n",
    "\n",
    "[Final Paper](https://www.aclweb.org/anthology/S19-2007.pdf)\n",
    "\n",
    "[Annotation Guidelines](https://github.com/msang/hateval/blob/master/annotation_guidelines.md)"
   ]
  },
  {
   "cell_type": "code",
   "execution_count": null,
   "metadata": {
    "cell_id": "00083-b00760ef-6d1c-4287-8332-7f40e977bc27",
    "deepnote_cell_type": "code",
    "deepnote_to_be_reexecuted": false,
    "execution_millis": 0,
    "execution_start": 1620736929052,
    "source_hash": "6ce6c828",
    "tags": []
   },
   "outputs": [],
   "source": [
    "GENERATE_SAMPLE = False"
   ]
  },
  {
   "cell_type": "code",
   "execution_count": null,
   "metadata": {
    "cell_id": "00083-94c0db2e-6605-483e-bc6b-c91fa82efcfa",
    "deepnote_cell_type": "code",
    "deepnote_to_be_reexecuted": false,
    "execution_millis": 322440733,
    "execution_start": 1620736929053,
    "source_hash": "70d39c6",
    "tags": []
   },
   "outputs": [],
   "source": [
    "if GENERATE_SAMPLE == True:\n",
    "    with open('../data/annotations/annotation_sample.txt', 'w') as outfile:\n",
    "        for tweet in DATA['raw']['hate']['train_text'][-100:]: # last 100 tweets in hate training set\n",
    "            outfile.writelines(tweet + '\\n')\n",
    "    with open('../data/annotations/ground_truth_annotation_sample.txt', 'w') as outfile:\n",
    "        for label in DATA['raw']['hate']['train_labels'][-100:]:\n",
    "            outfile.writelines(str(label) + '\\n')"
   ]
  },
  {
   "cell_type": "code",
   "execution_count": null,
   "metadata": {
    "cell_id": "00085-0c6885fd-8014-4ce7-bfbd-bf43e305bc0a",
    "deepnote_cell_type": "code",
    "deepnote_to_be_reexecuted": false,
    "execution_millis": 25,
    "execution_start": 1620736929053,
    "source_hash": "76f9350c",
    "tags": []
   },
   "outputs": [],
   "source": [
    "# compare manual annotations through building dataframe\n",
    "annotation_evaluation = pd.DataFrame({'tweets': DATA['raw']['hate']['train_text'][-100:], 'ground_truth': DATA['raw']['hate']['train_labels'][-100:]})\n",
    "\n",
    "for filename in os.listdir('../data/annotations/manual_annotations'):\n",
    "    with open(f'../data/annotations/manual_annotations/{filename}', 'r') as infile:\n",
    "        annotation_evaluation[filename[:-4]] = [int(line.strip()) for line in infile.readlines()]"
   ]
  },
  {
   "cell_type": "code",
   "execution_count": null,
   "metadata": {
    "cell_id": "00086-60a0157a-ff3a-421b-afc1-6ea25b5459e4",
    "deepnote_cell_type": "code",
    "deepnote_to_be_reexecuted": false,
    "execution_millis": 61,
    "execution_start": 1620736929086,
    "source_hash": "75b8187d",
    "tags": []
   },
   "outputs": [],
   "source": [
    "annotation_evaluation"
   ]
  },
  {
   "cell_type": "code",
   "execution_count": null,
   "metadata": {
    "cell_id": "00087-a3566916-c793-47bf-9242-240d72c5abe6",
    "deepnote_cell_type": "code",
    "deepnote_to_be_reexecuted": false,
    "execution_millis": 68,
    "execution_start": 1620737055754,
    "source_hash": "ca119c5e",
    "tags": []
   },
   "outputs": [],
   "source": [
    "##compare what tweets were unanimously and un-unanimously annotated\n",
    "rel_columns=list(annotation_evaluation.columns)\n",
    "rel_columns.remove('tweets')\n",
    "rel_columns=annotation_evaluation[rel_columns]\n",
    "all_true=rel_columns.all(axis=1)\n",
    "all_false=-rel_columns.any(axis=1)\n",
    "un_unanimous=annotation_evaluation[-all_true & -all_false]\n",
    "unanimous=annotation_evaluation[all_true | all_false]\n",
    "un_unanimous"
   ]
  },
  {
   "cell_type": "code",
   "execution_count": null,
   "metadata": {
    "cell_id": "00087-cfdedb70-28f4-40e9-b489-0c2610ad43f5",
    "deepnote_cell_type": "code",
    "deepnote_to_be_reexecuted": false,
    "execution_millis": 80,
    "execution_start": 1620736929204,
    "source_hash": "7426c194",
    "tags": []
   },
   "outputs": [],
   "source": [
    "from sklearn.metrics import confusion_matrix\n",
    "from sklearn.metrics import classification_report\n",
    "\n",
    "for person in list(annotation_evaluation)[-4:]:\n",
    "    print('#'*3 + ' ' + person.replace('_',' ').title() + ' ' + '#'*3)    \n",
    "    print(pd.DataFrame(confusion_matrix(annotation_evaluation['ground_truth'], annotation_evaluation[person]), columns=['Predicted Non-Hate', 'Predicted Hate'], index=['Non-Hate', 'Hate']))\n",
    "    print('\\n')\n",
    "    \n",
    "    print(classification_report(annotation_evaluation['ground_truth'], annotation_evaluation[person], target_names=[\"Non-Hate\",\"Hate\"]))\n",
    "    print('\\n')"
   ]
  },
  {
   "cell_type": "markdown",
   "metadata": {
    "cell_id": "00013-fc964c9b-2d90-48f7-93b6-89e1c191c669",
    "deepnote_cell_type": "markdown",
    "tags": []
   },
   "source": [
    "*TASK 3*\n",
    "# Open Question: XXX\n",
    "---"
   ]
  },
  {
   "cell_type": "code",
   "execution_count": null,
   "metadata": {
    "cell_id": "00017-2bcdfccd-1c4e-4b00-abcb-2807c0f7da9c",
    "deepnote_cell_type": "code",
    "deepnote_to_be_reexecuted": false,
    "execution_millis": 11,
    "execution_start": 1620736929279,
    "output_cleared": true,
    "source_hash": "5cd17fc",
    "tags": []
   },
   "outputs": [],
   "source": [
    "# some code"
   ]
  },
  {
   "cell_type": "markdown",
   "metadata": {
    "created_in_deepnote_cell": true,
    "deepnote_cell_type": "markdown",
    "tags": []
   },
   "source": [
    "<a style='text-decoration:none;line-height:16px;display:flex;color:#5B5B62;padding:10px;justify-content:end;' href='https://deepnote.com?utm_source=created-in-deepnote-cell&projectId=7ea65742-831a-48cd-9d56-a22e1ed66c7b' target=\"_blank\">\n",
    "<img alt='Created in deepnote.com' style='display:inline;max-height:16px;margin:0px;margin-right:7.5px;' src='data:image/svg+xml;base64,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' > </img>\n",
    "Created in <span style='font-weight:600;margin-left:4px;'>Deepnote</span></a>"
   ]
  }
 ],
 "metadata": {
  "deepnote": {
   "is_reactive": false
  },
  "deepnote_execution_queue": [],
  "deepnote_notebook_id": "912c8bda-48f1-43bf-8bff-0aac9dd9fbcb",
  "kernelspec": {
   "display_name": "Python 3",
   "language": "python",
   "name": "python3"
  },
  "language_info": {
   "codemirror_mode": {
    "name": "ipython",
    "version": 3
   },
   "file_extension": ".py",
   "mimetype": "text/x-python",
   "name": "python",
   "nbconvert_exporter": "python",
   "pygments_lexer": "ipython3",
   "version": "3.8.3"
  }
 },
 "nbformat": 4,
 "nbformat_minor": 2
}
