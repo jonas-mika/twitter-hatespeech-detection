{
 "cells": [
  {
   "cell_type": "markdown",
   "source": "# Project 4: Natural Language Processing \n---\n\n**Group 9: Aidan Stocks, Hugo Reinicke, Nicola Clark, Jonas-Mika Senghaas**\n\nSubmission: *03.06.2021* / Last Modified: *02.06.2021*\n\n---\n\nThis notebook contains the step-by-step process of building a natural language machine learning model to automatically detect *(a)* Hatespeech and *(b)* Emotion in tweets on the social network Twitter. \n\nThe initial data was obtained from the [TweetEval](https://github.com/cardiffnlp/tweeteval#evaluating-your-system) GitHub repository, that provides data for supervised training of classifiers for natural language processing, more specifically it provides prepared data for several mini-project involving the analysis of different characteristics of tweets.",
   "metadata": {
    "cell_id": "00000-8f8eb98f-2a98-41af-9825-5a8a8c441dee",
    "tags": [],
    "deepnote_cell_type": "markdown"
   }
  },
  {
   "cell_type": "markdown",
   "source": "## Introduction\n---\nSocial media is omnipresent in today's world. We use messengers to communicate, share pictures, music, thoughts - in short - our life on the internet with people that are close, and maybe also not as close to us. Twitter is one of those social networks. The american social networking service allows its users to post and interact with messages known as through so-called tweets. 280 character postings on the online-service that can be liked, commented, threaded and shared. Since its launch in 2006, *Twitter* has grown massively, nowadays reporting hundreds of million of users. Besides its diverse utilisation, Twitter is especially known for a platform for political discussion. Both politicians and society use Twitter as a channel to take positions in politcal debates and express opinion. \n\nWhile this is desirable and embracing the idea of free-speech on the internet, the question of whether or not Twitter should use tools to automatically detect unwanted content from its platform, such as racism, sexism, false information or hatespeech, is a subject of on-going public debate. \n\nThis project, in a first instance, sets aside the ethical challenges and questions arising, and solely focuses on the technical details of how such a solution might work. The goal of this project is to optimise a machine learning model to automatically detect unwanted content.",
   "metadata": {
    "cell_id": "00001-5fcfa044-05ac-485a-8293-0db98813ff5e",
    "tags": [],
    "deepnote_cell_type": "markdown"
   }
  },
  {
   "cell_type": "markdown",
   "source": "## Running this Notebook\n---\nThis notebook contains all code to reproduce the findings of the project as can be seen on the [GitHub](https://github.com/jonas-mika/fyp2021p04g09) page of this project. In order to read in the data correctly, the global paths configured in the section `Constants` need to be correct. The following file structure - as prepared in the `submission.zip` - was followed throughout the project and is recommended to use (alternatively the paths in the section `Constants` can be adjusted):\n\n```\n*project tree structure*\n```\n*Note that the rest of the file structure as can be seen on the [GitHub](https://github.com/jonas-mika/fyp2021p03g09) page of the project generates automatically*",
   "metadata": {
    "cell_id": "00002-e3f8c8e5-1dc7-47ff-9108-2450997c051c",
    "tags": [],
    "deepnote_cell_type": "markdown"
   }
  },
  {
   "cell_type": "markdown",
   "source": "## Required Libraries and Further Imports\n---\nThroughout the project, we will use a range of both built-in and external Python libraries. This notebook will only run if all libraries and modules are correctly installed on your local machines. \nTo install missing packages use `pip install <package_name>` (PIP (Python Package Index) is the central package management system, read more [here](https://pypi.org/project/pip/)). \n\nIn case you desire further information about the used packages, click the following links to find detailed documentations:\n- [Pandas](https://pandas.pydata.org/)\n- [Numpy](https://numpy.org/)\n- [Matplotlib](https://matplotlib.org/stable/index.html)\n- [SciKit Learn](https://scikit-learn.org/stable/)\n- [NLTK](https://www.nltk.org/)",
   "metadata": {
    "cell_id": "00003-8f195f8a-4025-446a-8b44-300b55666211",
    "tags": [],
    "deepnote_cell_type": "markdown"
   }
  },
  {
   "cell_type": "code",
   "metadata": {
    "cell_id": "00004-cf13b571-fc4d-40f4-8617-43224164fcb8",
    "deepnote_to_be_reexecuted": false,
    "execution_millis": 7159,
    "execution_start": 1622701480675,
    "output_cleared": true,
    "source_hash": "2841754f",
    "tags": [],
    "deepnote_cell_type": "code"
   },
   "source": "%%capture\n# uncomment lines with uninstalled packages\n\n#!pip install -U numpy pandas matplotlib seaborn skikit-learn \n!pip install pycontractions\n!pip install imblearn\n!pip install statsmodels",
   "execution_count": 1,
   "outputs": []
  },
  {
   "cell_type": "code",
   "metadata": {
    "cell_id": "00005-9cbe0305-7f30-486b-be81-0c10af861246",
    "deepnote_to_be_reexecuted": false,
    "execution_millis": 2136,
    "execution_start": 1622701487838,
    "output_cleared": false,
    "source_hash": "d0a72a8f",
    "tags": [],
    "deepnote_cell_type": "code"
   },
   "source": "# python standard libraries\nimport json                                            # data transfer to and from json format\nimport os                                              # access operating system from python\nimport math                                            # mathematical operations in python\nimport random                                          # creates randomness\nimport re                                              # regex search in python\nimport shutil                                          # system control in python\nimport warnings                                        # ignore annoying warnings\nwarnings.filterwarnings(\"ignore\")\n\n# external libraries\nimport numpy as np                                     # used for numerical calculations and fast array manipulations\nimport pandas as pd                                    # provides major datastructure pd.DataFrame() to store datasets\nimport matplotlib\nimport matplotlib.pyplot as plt                        # basic data visualisation\nfrom matplotlib.ticker import MaxNLocator\nimport seaborn as sns   \n                           # advanced data visualisation\nfrom nltk.tokenize import TweetTokenizer               # tokeniser api\nfrom nltk.corpus import stopwords\nimport nltk    \nnltk.download('stopwords');\nfrom pycontractions import Contractions                # intelligently expands contractions in natural language\nfrom collections import Counter                        # counts objects",
   "execution_count": 2,
   "outputs": [
    {
     "name": "stderr",
     "text": "[nltk_data] Downloading package stopwords to /root/nltk_data...\n[nltk_data]   Package stopwords is already up-to-date!\n",
     "output_type": "stream"
    }
   ]
  },
  {
   "cell_type": "code",
   "metadata": {
    "tags": [],
    "cell_id": "00006-16d5cbf8-01cc-41a9-9fa2-dbbfdc49a2d0",
    "deepnote_to_be_reexecuted": false,
    "source_hash": "78c7edf6",
    "execution_start": 1622701489980,
    "execution_millis": 96,
    "output_cleared": true,
    "deepnote_cell_type": "code"
   },
   "source": "# feature extraction\nfrom sklearn.feature_extraction.text import CountVectorizer\nfrom sklearn.feature_extraction.text import TfidfTransformer  # not used yet\n\n# addressing imbalance in data\nfrom imblearn.over_sampling import RandomOverSampler as ROS\n\n# classifiers\nfrom sklearn.naive_bayes import MultinomialNB\nfrom sklearn.linear_model import SGDClassifier\nfrom sklearn.ensemble import RandomForestClassifier\n\n# performance evaluation\nfrom sklearn.metrics import accuracy_score\nfrom sklearn.metrics import precision_recall_fscore_support\nfrom sklearn.metrics import confusion_matrix\nfrom sklearn.metrics import classification_report\n\nfrom sklearn.metrics import cohen_kappa_score\nfrom statsmodels.stats.inter_rater import fleiss_kappa",
   "execution_count": 3,
   "outputs": []
  },
  {
   "cell_type": "code",
   "metadata": {
    "cell_id": "00006-5afa390e-a19c-4f7b-b2f5-752fba00777d",
    "deepnote_to_be_reexecuted": false,
    "execution_millis": 22,
    "execution_start": 1622701490084,
    "output_cleared": false,
    "source_hash": "9a25b5af",
    "deepnote_cell_type": "code"
   },
   "source": "print(f'Numpy Version: {np.__version__}')\nprint(f'Pandas Version: {pd.__version__}')\nprint(f'Matplotlib Version: {matplotlib.__version__}')\nprint(f'Seaborn Version: {sns.__version__}')",
   "execution_count": 4,
   "outputs": [
    {
     "name": "stdout",
     "text": "Numpy Version: 1.19.5\nPandas Version: 1.2.4\nMatplotlib Version: 3.4.2\nSeaborn Version: 0.11.1\n",
     "output_type": "stream"
    }
   ]
  },
  {
   "cell_type": "markdown",
   "source": "## Constants\n---\nTo enhance readibilty, as well as to decrease the maintenance effort, it is useful for bigger projects to define contants that need to be accessed globally throughout the whole notebook in advance. \nThe following cell contains all of those global constants. By convention, we write them in caps (https://www.python.org/dev/peps/pep-0008/#constants)",
   "metadata": {
    "cell_id": "00008-4f347db9-f433-4a57-9e83-4fbb27586617",
    "tags": [],
    "deepnote_cell_type": "markdown"
   }
  },
  {
   "cell_type": "code",
   "metadata": {
    "cell_id": "00010-18532f0a-c77d-42e2-b487-aa327b69dc04",
    "deepnote_to_be_reexecuted": false,
    "execution_millis": 1,
    "execution_start": 1622701490088,
    "output_cleared": true,
    "source_hash": "74c0338e",
    "tags": [],
    "deepnote_cell_type": "code"
   },
   "source": "PREPROCESS_DATA = False\nGENERATE_IAA_SAMPLE = False",
   "execution_count": 5,
   "outputs": []
  },
  {
   "cell_type": "code",
   "metadata": {
    "tags": [],
    "cell_id": "00009-d56d40bc-118b-4ddd-b029-25d968bcf22d",
    "deepnote_to_be_reexecuted": false,
    "source_hash": "52cd5b5a",
    "execution_start": 1622701490113,
    "execution_millis": 0,
    "output_cleared": true,
    "deepnote_cell_type": "code"
   },
   "source": "random.seed(1)",
   "execution_count": 6,
   "outputs": []
  },
  {
   "cell_type": "code",
   "metadata": {
    "cell_id": "00009-8c033e56-02ab-48b7-9eff-1efefe08d35c",
    "deepnote_to_be_reexecuted": false,
    "execution_millis": 1,
    "execution_start": 1622701490113,
    "output_cleared": true,
    "source_hash": "d3d11c4b",
    "tags": [],
    "deepnote_cell_type": "code"
   },
   "source": "DATASETS = ['hate', 'emotion']\n\n# store paths\nPATH = {}\nPATH['data'] = {}\nPATH['data']['raw'] = \"../data/raw/\"\nPATH['data']['processed'] = \"../data/processed/\"\n\n# store data \nDATA = {}\nDATA['raw'] = {}\nDATA['processed'] = {}\nfor dataset in DATASETS:\n    DATA['raw'][dataset] = {}\n    DATA['processed'][dataset] = {}\n\nCORPUS = {}\nVOCABULARY = {}",
   "execution_count": 7,
   "outputs": []
  },
  {
   "cell_type": "markdown",
   "source": "# Fetching Data\n---\n*TASK 0*\n\nAfter having setup the overall scheme of the project, we need to fetch the data we want to work on. The datasets were obtained from the\n[TweetEval](https://github.com/cardiffnlp/tweeteval#evaluating-your-system) GitHub repository, which provides ready-to-work on tweets and gold-standard annotations for different focuses of analysis - already split up into training, validation and testing sets.\n\n1. Binary Classifcation: **Hate-Speech**\n > Two Labels: *Hate-Speech*/ *Not Hate-Speech*\n\n > [Raw Data (GitHub)](https://github.com/cardiffnlp/tweeteval/tree/main/datasets/hate)\n\n2. Multiclass Classification: **Emotion Recognition**  \n >Four Labels: *Anger*, *Joy*, *Sadness*, *Optimism* \n\n >[Raw Data (GitHub)](https://github.com/cardiffnlp/tweeteval/tree/main/datasets/emotion)\n\n*Note, in order to fetch this data into the Jupyter, the above-mentioned files need to be in the existent in the file structure and the location specified in the code and file tree structure in the introductory section. This should be the case in the submission and if this project was pulled or forked directly from [GitHub](https://github.com/jonas-mika/fyp2021p04g09)* ",
   "metadata": {
    "cell_id": "00010-30f29e03-2c93-4a41-9cdd-c63ddcf81385",
    "tags": [],
    "deepnote_cell_type": "markdown"
   }
  },
  {
   "cell_type": "markdown",
   "source": "## Loading in Data\n---\nWe start off by loading in the data obtained from the above-mentioned sources into the script. All tweets are being read into a list of strings, where each string is representing a single tweet. The golden labels are being read into an index-corresponding array of integers, where the integer at *i*th position is the gold label for the tweet in the list of tweets at position *i*. Lastly, we read in the mapping, between the integer and the corresonding label into a dictionary, such that we can use it for nice plotting.",
   "metadata": {
    "cell_id": "00012-517a92e6-641e-4b58-ae16-4fc3f1dc0f0c",
    "deepnote_cell_type": "markdown"
   }
  },
  {
   "cell_type": "code",
   "metadata": {
    "cell_id": "00011-d60e995b-fcb6-4868-b5f3-bead2a4d235a",
    "deepnote_to_be_reexecuted": false,
    "execution_millis": 0,
    "execution_start": 1622701490114,
    "output_cleared": true,
    "source_hash": "e386fa8c",
    "tags": [],
    "deepnote_cell_type": "code"
   },
   "source": "# helper function to read in raw files correctly\ndef read_raw_input(dataset):\n    # reading in all .txts into list of strings\n    for _file in os.listdir(f'../data/raw/{dataset}'):\n        with open(f'../data/raw/{dataset}/{_file}', 'r', encoding='UTF-8') as infile:\n            DATA['raw'][dataset][_file[:-4]] = [line.strip() for line in infile.readlines()]\n\n    # convert target labels to integers\n    for key in ['train_labels', 'val_labels', 'test_labels']:\n        DATA['raw'][dataset][key] = [int(x) for x in DATA['raw'][dataset][key]]\n\n    # convert mapping to dictionary\n    DATA['raw'][dataset]['mapping'] = {int(string.split('\\t')[0]): string.split('\\t')[1] for string in DATA['raw'][dataset]['mapping']}",
   "execution_count": 8,
   "outputs": []
  },
  {
   "cell_type": "code",
   "metadata": {
    "cell_id": "00014-a564b5fd-9112-40ea-ab20-a9e06cef672c",
    "deepnote_to_be_reexecuted": false,
    "execution_millis": 66,
    "execution_start": 1622701490115,
    "output_cleared": true,
    "scrolled": false,
    "source_hash": "32dcc143",
    "deepnote_cell_type": "code"
   },
   "source": "# read in the the raw data as specified above for both the hate and emotion data\nfor dataset in DATASETS:\n    read_raw_input(dataset)",
   "execution_count": 9,
   "outputs": []
  },
  {
   "cell_type": "markdown",
   "source": "## Exploring Data\n---\nLet's get a feeling for what kind of data we are dealing with. For now, we simply peek into our actual data, the tweets, and output them with their corresponding gold label. After that, we plot the distribution of the labels, which is an important characteristic of the training process, since it might reveal possible imbalances that need to be addressed before training a model.",
   "metadata": {
    "cell_id": "00015-6ac2c66d-4d76-4711-82ed-29c0f25e3314",
    "deepnote_cell_type": "markdown"
   }
  },
  {
   "cell_type": "markdown",
   "source": "### Data Size\n---\nBefore starting to tackle the specific data, we should get a feeling with what size of data we are dealing with. Especially in NLP this is an important step, since NLP models usually incorporate high amounts of data in order to build well-performing models.",
   "metadata": {
    "tags": [],
    "cell_id": "00016-304c396c-0e65-4df0-947d-87cee089d03f",
    "deepnote_cell_type": "markdown"
   }
  },
  {
   "cell_type": "code",
   "metadata": {
    "tags": [],
    "cell_id": "00017-ac745fa2-4c9e-4367-8bde-fb896f797948",
    "deepnote_to_be_reexecuted": false,
    "source_hash": "8c443e46",
    "execution_start": 1622701490186,
    "execution_millis": 572,
    "output_cleared": false,
    "deepnote_cell_type": "code"
   },
   "source": "!ls -lh ../data/raw/hate",
   "execution_count": 10,
   "outputs": [
    {
     "name": "stdout",
     "text": "total 1.2M\r\n-rwxr-xr-x 1 root root   17 May  4 14:32 mapping.txt\r\n-rwxr-xr-x 1 root root 5.9K May  4 14:32 test_labels.txt\r\n-rwxr-xr-x 1 root root 390K May  4 14:32 test_text.txt\r\n-rwxr-xr-x 1 root root  18K May  4 14:32 train_labels.txt\r\n-rwxr-xr-x 1 root root 1.1M May  4 14:32 train_text.txt\r\n-rwxr-xr-x 1 root root 2.0K May  4 14:32 val_labels.txt\r\n-rwxr-xr-x 1 root root 141K May  4 14:32 val_text.txt\r\n",
     "output_type": "stream"
    }
   ]
  },
  {
   "cell_type": "code",
   "metadata": {
    "tags": [],
    "cell_id": "00018-bb627de0-990f-4914-acb7-a5f7583e5420",
    "deepnote_to_be_reexecuted": false,
    "source_hash": "a31cd803",
    "execution_start": 1622701490793,
    "execution_millis": 550,
    "output_cleared": false,
    "deepnote_cell_type": "code"
   },
   "source": "!ls -lh ../data/raw/emotion",
   "execution_count": 11,
   "outputs": [
    {
     "name": "stdout",
     "text": "total 343K\r\n-rw-r--r-- 1 root root   34 May  4 14:32 mapping.txt\r\n-rw-r--r-- 1 root root 2.8K May  4 14:32 test_labels.txt\r\n-rw-r--r-- 1 root root 130K May  4 14:32 test_text.txt\r\n-rw-r--r-- 1 root root 6.4K May  4 14:32 train_labels.txt\r\n-rw-r--r-- 1 root root 300K May  4 14:32 train_text.txt\r\n-rw-r--r-- 1 root root  748 May  4 14:32 val_labels.txt\r\n-rw-r--r-- 1 root root  34K May  4 14:32 val_text.txt\r\n",
     "output_type": "stream"
    }
   ]
  },
  {
   "cell_type": "markdown",
   "source": "As can be seen, the file sizes are considerably small for NLP datasets. This means, that we most likely will be able to work with the data on local memory. However, we are trying to follow best practice and work RAM efficient during the project.",
   "metadata": {
    "tags": [],
    "cell_id": "00019-0358f284-28d9-49ce-b191-7919bcfad280",
    "deepnote_cell_type": "markdown"
   }
  },
  {
   "cell_type": "code",
   "metadata": {
    "tags": [],
    "cell_id": "00020-f3ee83e4-95f6-4de1-a828-697178c1a0b7",
    "deepnote_to_be_reexecuted": false,
    "source_hash": "d8f1efc2",
    "execution_start": 1622701491335,
    "execution_millis": 576,
    "output_cleared": false,
    "deepnote_cell_type": "code"
   },
   "source": "!wc -l ../data/raw/hate/*_text.txt",
   "execution_count": 12,
   "outputs": [
    {
     "name": "stdout",
     "text": "   2970 ../data/raw/hate/test_text.txt\r\n   9000 ../data/raw/hate/train_text.txt\r\n   1000 ../data/raw/hate/val_text.txt\r\n  12970 total\r\n",
     "output_type": "stream"
    }
   ]
  },
  {
   "cell_type": "code",
   "metadata": {
    "tags": [],
    "cell_id": "00021-bc546d23-a932-4068-abac-00a0132e9d23",
    "deepnote_to_be_reexecuted": false,
    "source_hash": "40594db",
    "execution_start": 1622701491918,
    "execution_millis": 649,
    "output_cleared": false,
    "deepnote_cell_type": "code"
   },
   "source": "!wc -l ../data/raw/emotion/*_text.txt",
   "execution_count": 13,
   "outputs": [
    {
     "name": "stdout",
     "text": "  1421 ../data/raw/emotion/test_text.txt\r\n  3257 ../data/raw/emotion/train_text.txt\r\n   374 ../data/raw/emotion/val_text.txt\r\n  5052 total\r\n",
     "output_type": "stream"
    }
   ]
  },
  {
   "cell_type": "markdown",
   "source": "The `hate` dataset contains more than double the tweets than the `emotion` dataset. However, the split is rather similar in both instances with a roughly 70-20-10 split for training, testing and validation.",
   "metadata": {
    "tags": [],
    "cell_id": "00022-4651d104-1cb3-4f44-a9fc-3ef8673a049d",
    "deepnote_cell_type": "markdown"
   }
  },
  {
   "cell_type": "markdown",
   "source": "### Visualising Raw Data\n---",
   "metadata": {
    "cell_id": "00016-1ade1bb5-34a5-4a97-9049-49dbb00ee154",
    "deepnote_cell_type": "markdown"
   }
  },
  {
   "cell_type": "code",
   "metadata": {
    "cell_id": "00017-8c456ad3-3f69-4ec0-931f-2fdc6fe0e33e",
    "deepnote_to_be_reexecuted": false,
    "execution_millis": 33,
    "execution_start": 1622701492534,
    "output_cleared": false,
    "source_hash": "4847394d",
    "deepnote_cell_type": "code"
   },
   "source": "# hate\nfor i in range(10):\n    print(f\"{i+1}\\tLabel: {DATA['raw']['hate']['mapping'][DATA['raw']['hate']['train_labels'][i]].title()}\\t\\t{DATA['raw']['hate']['train_text'][i]}\")",
   "execution_count": 14,
   "outputs": [
    {
     "name": "stdout",
     "text": "1\tLabel: Not-Hate\t\t@user nice new signage. Are you not concerned by Beatlemania -style hysterical crowds crongregating on you…\n2\tLabel: Hate\t\tA woman who you fucked multiple times saying yo dick small is a compliment you know u hit that spot 😎\n3\tLabel: Hate\t\t@user @user real talk do you have eyes or were they gouged out by a rapefugee?\n4\tLabel: Hate\t\tyour girlfriend lookin at me like a groupie in this bitch!\n5\tLabel: Not-Hate\t\tHysterical woman like @user\n6\tLabel: Not-Hate\t\tMe flirting- So tell me about your father...\n7\tLabel: Not-Hate\t\tThe Philippine Catholic bishops' work for migrant workers should focus on families who are \"paying the great...\n8\tLabel: Hate\t\tI AM NOT GOING AFTER YOUR EX BF YOU LIEING SACK OF SHIT ! I'm done with you dude that's why I dumped your ass cause your a lieing 😂😡 bitch\n9\tLabel: Not-Hate\t\tWhen cuffin season is finally over\n10\tLabel: Hate\t\tSend home migrants not in need of protection, Peter Dutton tells UN, HEY DUTTON HOW ABOUT THE ONES THAT HAVE STAYED AND NOT LEFT THE COUNTRY WHEN THEY SHOULD OVERSTAYERS ? WHY DONT YOU GO AND ROUND ALL THEM UP ?\n",
     "output_type": "stream"
    }
   ]
  },
  {
   "cell_type": "markdown",
   "source": "The first ten tweets from the training set of the hatespeech task look as expected. Tweets are a single-line string, including emojis, syntax, grammar and spelling of the orginal tweet. Both the author of the tweet and links to other users, however, are anonymised for data privacy reasons. \n\nThe gold standard labels appear reasonable for the first ten tweets.",
   "metadata": {
    "tags": [],
    "cell_id": "00017-8efa9570-f2fb-44cd-bdb4-33f75960603e",
    "deepnote_cell_type": "markdown"
   }
  },
  {
   "cell_type": "code",
   "metadata": {
    "cell_id": "00018-f6587a74-f6da-4c6c-8540-db447f5615d9",
    "deepnote_to_be_reexecuted": false,
    "execution_millis": 24,
    "execution_start": 1622701492543,
    "output_cleared": false,
    "source_hash": "c303da21",
    "deepnote_cell_type": "code"
   },
   "source": "# emotion\nfor i in range(10):\n    print(f\"{i+1}\\tLabel: {DATA['raw']['emotion']['mapping'][DATA['raw']['emotion']['train_labels'][i]].title()}\\t\\t{DATA['raw']['emotion']['train_text'][i]}\")",
   "execution_count": 15,
   "outputs": [
    {
     "name": "stdout",
     "text": "1\tLabel: Optimism\t\t“Worry is a down payment on a problem you may never have'.  Joyce Meyer.  #motivation #leadership #worry\n2\tLabel: Anger\t\tMy roommate: it's okay that we can't spell because we have autocorrect. #terrible #firstworldprobs\n3\tLabel: Joy\t\tNo but that's so cute. Atsu was probably shy about photos before but cherry helped her out uwu\n4\tLabel: Anger\t\tRooneys fucking untouchable isn't he? Been fucking dreadful again, depay has looked decent(ish)tonight\n5\tLabel: Sadness\t\tit's pretty depressing when u hit pan on ur favourite highlighter\n6\tLabel: Anger\t\t@user but your pussy was weak from what I heard so stfu up to me bitch . You got to threaten him that your pregnant .\n7\tLabel: Sadness\t\tMaking that yearly transition from excited and hopeful college returner to sick and exhausted pessimist. #college\n8\tLabel: Joy\t\tTiller and breezy should do a collab album. Rapping and singing prolly be fire\n9\tLabel: Anger\t\t@user broadband is shocking regretting signing up now #angry #shouldofgonewithvirgin\n10\tLabel: Anger\t\t@user Look at those teef! #growl\n",
     "output_type": "stream"
    }
   ]
  },
  {
   "cell_type": "markdown",
   "source": "The data for the emotion recognition looks similar. Again, tweets are a single-line string, including emojis, syntax, grammar and spelling of the orginal tweet. Both the author of the tweet and links to other users are anonymised for data privacy reasons. \n\nAlso here, the gold standard labels appear reasonable for the first ten tweets.",
   "metadata": {
    "tags": [],
    "cell_id": "00019-aca6c04c-c1b1-43a8-a6d4-916bedefb0ac",
    "deepnote_cell_type": "markdown"
   }
  },
  {
   "cell_type": "markdown",
   "source": "### Visualising Label Distribution\n---\nVisualising the distribution of the target variable in any classification task is an important first step in order to evluate the quality of the data we are training on. Ideally, we would like to observe equally balanced labels, since this prevents models from being overly biased by always predicting a dominant labels. ",
   "metadata": {
    "cell_id": "00019-ac0093ee-cb8e-4df0-9240-28b8639da8f0",
    "deepnote_cell_type": "markdown"
   }
  },
  {
   "cell_type": "code",
   "metadata": {
    "cell_id": "00020-ff2b603d-7d95-43b5-8411-7c54ff2985ec",
    "deepnote_to_be_reexecuted": false,
    "execution_millis": 4,
    "execution_start": 1622701492552,
    "output_cleared": true,
    "source_hash": "56ff2033",
    "deepnote_cell_type": "code"
   },
   "source": "# helper function to plot the distribution of labels in all splits of the data\ndef visualise_label_distribution(dataset):\n    # initalise figure with three axes\n    fig, ax = plt.subplots(ncols=3, figsize=(12,4))\n    fig.suptitle(f'Frequency of Target Label in {dataset.capitalize()}', fontsize=12, fontweight='bold') # global title\n\n    # plot barplot of label distribution with some additional aesthetic adjustment in each split of the data\n    for i, key in enumerate(['train_labels', 'val_labels', 'test_labels']):\n        label, count = np.unique(DATA['raw'][dataset][key], return_counts=True)\n        ax[i].bar(label, count, color='grey');\n        ax[i].set_title(key.replace('_', ' ').title())\n        ax[i].set_xticks(label); ax[i].set_xticklabels([string.title() for string in DATA['raw'][dataset]['mapping'].values()])",
   "execution_count": 16,
   "outputs": []
  },
  {
   "cell_type": "code",
   "metadata": {
    "cell_id": "00021-046d0488-77dc-47d3-a29c-d178ea704a1f",
    "deepnote_to_be_reexecuted": false,
    "execution_millis": 267,
    "execution_start": 1622701492597,
    "output_cleared": false,
    "source_hash": "894be1c8",
    "deepnote_cell_type": "code"
   },
   "source": "visualise_label_distribution(dataset='hate')",
   "execution_count": 17,
   "outputs": [
    {
     "data": {
      "text/plain": "<Figure size 864x288 with 3 Axes>",
      "image/png": "[encoded data removed]"
     },
     "metadata": {
      "needs_background": "light",
      "image/png": {
       "width": 716,
       "height": 277
      }
     },
     "output_type": "display_data"
    }
   ]
  },
  {
   "cell_type": "markdown",
   "source": "The binary label *Hate* (42%) or *Non-Hate* (58%) seems reasonably balanced. Here, balancing of the labels before building the model is possible, but not mandatory. It furthermore becomes obvious that the label ratio is consistent across all splits (training, validation and testing set).",
   "metadata": {
    "tags": [],
    "cell_id": "00023-e661d70e-826c-4fd1-985d-a284c26e7f7e",
    "deepnote_cell_type": "markdown"
   }
  },
  {
   "cell_type": "code",
   "metadata": {
    "cell_id": "00022-83c0ec2d-8094-4123-8603-caad77edb2af",
    "deepnote_to_be_reexecuted": false,
    "execution_millis": 334,
    "execution_start": 1622701492872,
    "output_cleared": false,
    "source_hash": "c0926180",
    "deepnote_cell_type": "code"
   },
   "source": "visualise_label_distribution(dataset='emotion')",
   "execution_count": 18,
   "outputs": [
    {
     "data": {
      "text/plain": "<Figure size 864x288 with 3 Axes>",
      "image/png": "[encoded data removed]"
     },
     "metadata": {
      "needs_background": "light",
      "image/png": {
       "width": 716,
       "height": 277
      }
     },
     "output_type": "display_data"
    }
   ]
  },
  {
   "cell_type": "markdown",
   "source": "However, in the multi-class classifcation task we observe a high imbalance. With only 9% of the total amount of data in each split, the label *optimism* is underrepresent, while the label *anger* (43%) is overrepresented. This imbalance needs to be addressed before training our classifiers. \nAgain, however, we observe a consistent label ratio across all splits. ",
   "metadata": {
    "tags": [],
    "cell_id": "00025-fb419f6b-91d7-4063-b2b8-e7462b3b68f1",
    "deepnote_cell_type": "markdown"
   }
  },
  {
   "cell_type": "markdown",
   "source": "# Processing of Language Data\n---\n*TASK 1*\n\nNatural language is a highly-complex type of data, that needs to be processed before it can be implented meaningfully into a classification task. For natural language classifiers the main step of processing the raw data - the original tweets - is called **tokenisation**.\n\nOn a high level, computers stand no chance in understanding language. After all, each and every tweet we are dealing with is just a unique concatenation of 0's and 1's, that in itself is useless for classifying the tweet in any way. We must therefore transform our data in a way that our computer is able to understand it. This is done during the process of tokenisation in natural language processing. Tokenisation in NLP generally means the concept of breaking down the original data into smaller parts, called tokens. Those tokens could be sentences, one or more words, or even smaller chunks of text. Either way, they are used to built a vocabulary that ultimately results in a count vector machine, that serves as input to the machine learning model.",
   "metadata": {
    "cell_id": "00011-c1d3e256-83ab-4833-93bb-155c6dcb73ca",
    "tags": [],
    "deepnote_cell_type": "markdown"
   }
  },
  {
   "cell_type": "markdown",
   "source": "## Building Tokeniser\n---\nIn this project we chose to build a word-tokeniser, meaning that the ideal tokeniser recognises words and splits accordingly. However, due to the fact that we are working with tweet data, there are some special requirements in order to get optimal performance in our models. \n\n**Features of Tokeniser**\n\n1. Lowercase ()\n\n2. Links (Links are a core part of a tweet containing it - if not the core. To not lose information, we must include the links in our classification. However, for the classfication the actual link address is of minor importance. For this reason, we would like to recognise any link, then replace it with some dummy string that the model uses to classify any kind of link in a tweet.\n\n3. Emojis (Emojis have developed to a central method of communicating emotions. It is therefore important that our tokeniser recognises single emojis and feeds them into our classifier.)\n\n4. Hashtags ()\n\n4. Contractions (Has not or Hasn't? It means the same, so we would like our model to recognise the two as the same token.)\n",
   "metadata": {
    "cell_id": "00024-925deca3-bb20-43eb-bc18-98e47d7a5780",
    "tags": [],
    "deepnote_cell_type": "markdown"
   }
  },
  {
   "cell_type": "markdown",
   "source": "The following code cells contain how the tokeniser was built in this project. It is fundamentally based on the *Tweet Tokeniser* provided by the NLTK library and then adds additional functionality using both RegEx and another extyernally trained model for tokenising contractions correctly.",
   "metadata": {
    "tags": [],
    "cell_id": "00028-9ffd5945-a956-4a50-ae3e-2a5bafdbc89d",
    "deepnote_cell_type": "markdown"
   }
  },
  {
   "cell_type": "code",
   "metadata": {
    "tags": [],
    "cell_id": "00028-e796ec1e-9733-4523-b144-52042e24ba94",
    "deepnote_to_be_reexecuted": false,
    "source_hash": "e6ca8f6a",
    "execution_start": 1622701493170,
    "execution_millis": 4,
    "output_cleared": true,
    "deepnote_cell_type": "code"
   },
   "source": "# loading pre-trained contraction model\nif PREPROCESS_DATA == True:\n    cont.load_models() # doesn't work on deepnote, because of memory issues. works locally\n\ncont = Contractions(api_key=\"glove-twitter-200\")",
   "execution_count": 19,
   "outputs": []
  },
  {
   "cell_type": "code",
   "metadata": {
    "cell_id": "00043-2f55d04c-3946-4a00-a740-a8debdffb56c",
    "deepnote_to_be_reexecuted": false,
    "execution_millis": 3,
    "execution_start": 1622701493176,
    "output_cleared": true,
    "source_hash": "ba5dc7cf",
    "tags": [],
    "deepnote_cell_type": "code"
   },
   "source": "# define url regex pattern and replace pattern globally (compile for speedup)\nurl_pattern = re.compile(r\"(?i)((?:https?://|www\\d{0,3}[.]|[a-z0-9.-]+[.][a-z]{2,4}/)(?:[^\\s()<>]+|(([^\\s()<>]+|(([^\\s()<>]+)))))+(?:(([^\\s()<>]+|(([^\\s()<>]+))))|[^\\s`!()[]{};:'\\\".,<>?«»\\“\\”‘’]))\")\ndummy = \" <=LINK=> \"\n\n# brush up functions\ndef remove_links(tweet):\n    return re.sub(url_pattern, dummy, tweet) # substituting dummy for every link\n\ndef remove_newline(tweet):\n    return re.sub(r'\\\\n', ' ', tweet) # deals with issue of newline characters within tweets\n\ndef expand(tweet):\n    return list(cont.expand_texts([tweet]))[0] # expands contractions",
   "execution_count": 20,
   "outputs": []
  },
  {
   "cell_type": "code",
   "metadata": {
    "tags": [],
    "cell_id": "00031-69719e76-f2e4-4188-b5ef-2c510e3a7879",
    "deepnote_to_be_reexecuted": false,
    "source_hash": "1b22e0bb",
    "execution_start": 1622701493187,
    "execution_millis": 1,
    "output_cleared": true,
    "deepnote_cell_type": "code"
   },
   "source": "tk = TweetTokenizer()\n\ndef tokenise(tweet):\n    cleaned_tweet = expand(remove_links(remove_newline(tweet.lower())))\n    return tk.tokenize(cleaned_tweet)",
   "execution_count": 21,
   "outputs": []
  },
  {
   "cell_type": "markdown",
   "source": "## Exporting Tokenised Tweets\n---\nWe have built the final tokeniser that will be used throughout this project. To not stretch out the RAM, we iterate over the raw data tweet by tweet, tokenise it and write it into an external file. The final tokenised tweets will be separated by tabs, such that they can easily be read back in again, while keeping the split between tokens. \n\nFor both datasets, all processed files will be in saved into a subfolder called `hate` or `emotion` within the folder `processed` in `data`. While exporting, we maintain the naming convention of the raw data. This enables us to use the same function to read in the processed data again. \n\n*Note that directories are created automatically and thus do not need to be created by hand.*",
   "metadata": {
    "tags": [],
    "cell_id": "00032-066aa9d6-3735-4942-af9d-ed96974f73ed",
    "deepnote_cell_type": "markdown"
   }
  },
  {
   "cell_type": "code",
   "metadata": {
    "cell_id": "00046-8f2c5b62-9cce-4460-a430-78de3377ebca",
    "deepnote_to_be_reexecuted": false,
    "execution_millis": 1,
    "execution_start": 1622701493193,
    "output_cleared": true,
    "source_hash": "be8da45",
    "tags": [],
    "deepnote_cell_type": "code"
   },
   "source": "if PREPROCESS_DATA == True:\n    for dataset in DATASETS:\n        # create preprocessed folder\n        try: os.makedirs(f'../data/processed/{dataset}')\n        except: None\n\n        # preprocess and tokenize tweets\n        for key in ['train_text', 'val_text', 'test_text']:\n            with open(f'../data/processed/{dataset}/{key}.txt', 'w', encoding = 'UTF-8') as outfile:\n                for tweet in DATA['raw'][dataset][key]:\n                    outfile.write('\\t'.join(tokenise(tweet)) + '\\n') # writing tokenised tweet with tab delimiter\n\n        # copy labels and mapping without preprocessing\n        for key in ['train_labels', 'val_labels', 'test_labels', 'mapping']:\n            shutil.copyfile(f'../data/raw/{dataset}/{key}.txt', f'../data/processed/{dataset}/{key}.txt')",
   "execution_count": 22,
   "outputs": []
  },
  {
   "cell_type": "code",
   "metadata": {
    "cell_id": "00042-632ac15c-7d49-4503-b780-5829b6f5faac",
    "deepnote_to_be_reexecuted": false,
    "execution_millis": 256,
    "execution_start": 1622701493201,
    "output_cleared": true,
    "source_hash": "e8fcf339",
    "tags": [],
    "deepnote_cell_type": "code"
   },
   "source": "# loading in processed data\nfor dataset in DATASETS:\n    for key in os.listdir(f'../data/processed/{dataset}'):\n        with open(f'../data/processed/{dataset}/{key}', 'r', encoding='UTF-8') as infile:\n            DATA['processed'][dataset][key[:-4]] = [line.strip().split('\\t') for line in infile.readlines()]\n\n    # convert target labels to integers\n    for key in ['train_labels', 'val_labels', 'test_labels']:\n        DATA['processed'][dataset][key] = [int(x) for x in [DATA['processed'][dataset][key][i][0] for i in range(len(DATA['processed'][dataset][key]))]]\n\n    # convert mapping to dictionary\n    DATA['processed'][dataset]['mapping'] = {int(string[0]): string[1] for string in DATA['processed'][dataset]['mapping']}",
   "execution_count": 23,
   "outputs": []
  },
  {
   "cell_type": "markdown",
   "source": "## Testing Tokeniser\n---\nThe tokeniser is built and has been applied onto the entire corpus. Let's evaluate its performance using the same first ten tweets as we peeked into in the first section.",
   "metadata": {
    "tags": [],
    "cell_id": "00032-b6926ea2-8ec4-41b7-9bc5-f7558b5bb006",
    "deepnote_cell_type": "markdown"
   }
  },
  {
   "cell_type": "code",
   "metadata": {
    "tags": [],
    "cell_id": "00033-ee786581-47b7-48de-b8cf-a5f5a7c848dd",
    "deepnote_to_be_reexecuted": false,
    "source_hash": "e752b4be",
    "execution_start": 1622701493464,
    "execution_millis": 47,
    "output_cleared": false,
    "deepnote_cell_type": "code"
   },
   "source": "for i in range(10):\n    print(f\"Original Tweet: {DATA['raw']['hate']['train_text'][i]}\\nTokenised Tweet: {'-'.join(DATA['processed']['hate']['train_text'][i])}\\n\")",
   "execution_count": 24,
   "outputs": [
    {
     "name": "stdout",
     "text": "Original Tweet: @user nice new signage. Are you not concerned by Beatlemania -style hysterical crowds crongregating on you…\nTokenised Tweet: @user-nice-new-signage-.-are-you-not-concerned-by-beatlemania---style-hysterical-crowds-crongregating-on-you-…\n\nOriginal Tweet: A woman who you fucked multiple times saying yo dick small is a compliment you know u hit that spot 😎\nTokenised Tweet: a-woman-who-you-fucked-multiple-times-saying-yo-dick-small-is-a-compliment-you-know-you-hit-that-spot-😎\n\nOriginal Tweet: @user @user real talk do you have eyes or were they gouged out by a rapefugee?\nTokenised Tweet: @user-@user-real-talk-do-you-have-eyes-or-were-they-gouged-out-by-a-rapefugee-?\n\nOriginal Tweet: your girlfriend lookin at me like a groupie in this bitch!\nTokenised Tweet: your-girlfriend-lookin-at-me-like-a-groupie-in-this-bitch-!\n\nOriginal Tweet: Hysterical woman like @user\nTokenised Tweet: hysterical-woman-like-@user\n\nOriginal Tweet: Me flirting- So tell me about your father...\nTokenised Tweet: me-flirting---so-tell-me-about-your-father-...\n\nOriginal Tweet: The Philippine Catholic bishops' work for migrant workers should focus on families who are \"paying the great...\nTokenised Tweet: the-philippine-catholic-bishops-'-work-for-migrant-workers-should-focus-on-families-who-are-\"-paying-the-great-...\n\nOriginal Tweet: I AM NOT GOING AFTER YOUR EX BF YOU LIEING SACK OF SHIT ! I'm done with you dude that's why I dumped your ass cause your a lieing 😂😡 bitch\nTokenised Tweet: i-am-not-going-after-your-ex-bf-you-lieing-sack-of-shit-!-I-am-done-with-you-dude-that-is-why-i-dumped-your-ass-because-your-a-lieing-😂-😡-bitch\n\nOriginal Tweet: When cuffin season is finally over\nTokenised Tweet: when-cuffin-season-is-finally-over\n\nOriginal Tweet: Send home migrants not in need of protection, Peter Dutton tells UN, HEY DUTTON HOW ABOUT THE ONES THAT HAVE STAYED AND NOT LEFT THE COUNTRY WHEN THEY SHOULD OVERSTAYERS ? WHY DONT YOU GO AND ROUND ALL THEM UP ?\nTokenised Tweet: send-home-migrants-not-in-need-of-protection-,-peter-dutton-tells-un-,-hey-dutton-how-about-the-ones-that-have-stayed-and-not-left-the-country-when-they-should-overstayers-?-why-do-not-you-go-and-round-all-them-up-?\n\n",
     "output_type": "stream"
    }
   ]
  },
  {
   "cell_type": "code",
   "metadata": {
    "tags": [],
    "cell_id": "00038-66f6ec60-1a52-4324-91e7-4d0dd06c50e3",
    "deepnote_to_be_reexecuted": false,
    "source_hash": "b23e6d6a",
    "execution_start": 1622701493478,
    "execution_millis": 33,
    "output_cleared": false,
    "deepnote_cell_type": "code"
   },
   "source": "for i in range(10):\n    print(f\"Original Tweet: {DATA['raw']['emotion']['train_text'][i]}\\nTokenised Tweet: {'-'.join(DATA['processed']['emotion']['train_text'][i])}\\n\")",
   "execution_count": 25,
   "outputs": [
    {
     "name": "stdout",
     "text": "Original Tweet: “Worry is a down payment on a problem you may never have'.  Joyce Meyer.  #motivation #leadership #worry\nTokenised Tweet: “-worry-is-a-down-payment-on-a-problem-you-may-never-have-'-.-joyce-meyer-.-#motivation-#leadership-#worry\n\nOriginal Tweet: My roommate: it's okay that we can't spell because we have autocorrect. #terrible #firstworldprobs\nTokenised Tweet: my-roommate-:-it-is-okay-that-we-cannot-spell-because-we-have-autocorrect-.-#terrible-#firstworldprobs\n\nOriginal Tweet: No but that's so cute. Atsu was probably shy about photos before but cherry helped her out uwu\nTokenised Tweet: no-but-that-is-so-cute-.-atsu-was-probably-shy-about-photos-before-but-cherry-helped-her-out-uwu\n\nOriginal Tweet: Rooneys fucking untouchable isn't he? Been fucking dreadful again, depay has looked decent(ish)tonight\nTokenised Tweet: rooneys-fucking-untouchable-is-not-he-?-been-fucking-dreadful-again-,-depay-has-looked-decent-(-ish-)-tonight\n\nOriginal Tweet: it's pretty depressing when u hit pan on ur favourite highlighter\nTokenised Tweet: it-is-pretty-depressing-when-you-hit-pan-on-ur-favourite-highlighter\n\nOriginal Tweet: @user but your pussy was weak from what I heard so stfu up to me bitch . You got to threaten him that your pregnant .\nTokenised Tweet: @user-but-your-pussy-was-weak-from-what-i-heard-so-stfu-up-to-me-bitch-.-you-got-to-threaten-him-that-your-pregnant-.\n\nOriginal Tweet: Making that yearly transition from excited and hopeful college returner to sick and exhausted pessimist. #college\nTokenised Tweet: making-that-yearly-transition-from-excited-and-hopeful-college-returner-to-sick-and-exhausted-pessimist-.-#college\n\nOriginal Tweet: Tiller and breezy should do a collab album. Rapping and singing prolly be fire\nTokenised Tweet: tiller-and-breezy-should-do-a-collab-album-.-rapping-and-singing-prolly-be-fire\n\nOriginal Tweet: @user broadband is shocking regretting signing up now #angry #shouldofgonewithvirgin\nTokenised Tweet: @user-broadband-is-shocking-regretting-signing-up-now-#angry-#shouldofgonewithvirgin\n\nOriginal Tweet: @user Look at those teef! #growl\nTokenised Tweet: @user-look-at-those-teef-!-#growl\n\n",
     "output_type": "stream"
    }
   ]
  },
  {
   "cell_type": "markdown",
   "source": "In both small samples from the two datasets the tokeniser seems to perform well. As expected, we split the tweets by words. Furthermore, the tokeniser is able to keep hashtags, expand contractions, deal correctly with emojis and replace links with the dummy string.\nWe can now continue our work based on the tokenised data.",
   "metadata": {
    "tags": [],
    "cell_id": "00040-72d80d21-7124-4b56-945d-dc1d4d75819b",
    "deepnote_cell_type": "markdown"
   }
  },
  {
   "cell_type": "markdown",
   "source": "# Descriptive Statistics\n---\n*TASK 2* \n\nAn essential part of any NLP classfication task is to describe the corpus, so the entire tokenised data. In this section, we will step-by-step compute the most important statistics and visualise some of them for both datasets.",
   "metadata": {
    "cell_id": "00044-cef6a6e4-c220-496f-ada8-d6cfbc08f299",
    "tags": [],
    "deepnote_cell_type": "markdown"
   }
  },
  {
   "cell_type": "markdown",
   "source": "## Corpus\n---\nGenerally in linguistics, a corpus is a large and structured set of texts. The corpus is often used as the basis for a lot of descriptive analysis of the language data at hand. We therefore create a corpus for both training sets of our datasets using a flattened list, that is a linear conctentation of all tokens in the training sets of both datasets.",
   "metadata": {
    "tags": [],
    "cell_id": "00042-1e95836c-c9bd-4ece-9172-59d54d3e574e",
    "deepnote_cell_type": "markdown"
   }
  },
  {
   "cell_type": "code",
   "metadata": {
    "tags": [],
    "cell_id": "00046-c2b2e52f-155f-4bb0-82f8-3eb9d7f2c2c9",
    "deepnote_to_be_reexecuted": false,
    "source_hash": "cac7dded",
    "execution_start": 1622701493483,
    "execution_millis": 19,
    "output_cleared": true,
    "deepnote_cell_type": "code"
   },
   "source": "# build entire corpus from training set in both datasets\nfor dataset in DATASETS:\n    CORPUS[dataset] = [token for tweet in DATA['processed'][dataset]['train_text'] for token in tweet]",
   "execution_count": 26,
   "outputs": []
  },
  {
   "cell_type": "code",
   "metadata": {
    "tags": [],
    "cell_id": "00050-8a91ad41-e2f2-46cf-b897-ce337bbf738d",
    "deepnote_to_be_reexecuted": false,
    "source_hash": "fad6c5f0",
    "execution_start": 1622701493502,
    "execution_millis": 14,
    "output_cleared": false,
    "deepnote_cell_type": "code"
   },
   "source": "for dataset in DATASETS:\n    print(f'Corpus Size ({dataset.title()}): {len(CORPUS[dataset])}')",
   "execution_count": 27,
   "outputs": [
    {
     "name": "stdout",
     "text": "Corpus Size (Hate): 216076\nCorpus Size (Emotion): 60506\n",
     "output_type": "stream"
    }
   ]
  },
  {
   "cell_type": "markdown",
   "source": "As we can see, the corpus for the `hate` classification is significantly larger with 216.076 total number of tokens than the `emotion` corpus with 60.506 tokens.",
   "metadata": {
    "tags": [],
    "cell_id": "00051-d506cc94-5179-4636-952a-85dbedfbf123",
    "deepnote_cell_type": "markdown"
   }
  },
  {
   "cell_type": "markdown",
   "source": "## Vocabulary \n---\nIn NLP, the set of unique words used in the text corpus is referred to as the vocabulary. The vocabulary is the basis for training machine learning models based on the bag-of-words approach, which treats every unique token as a feature in the classification.\n\nIn order to built the vocabulary, we use the `Counter` class from the `collections` standard library in python onto the corpus, in order to compute a dictionary containing all unique tokens (types) together with their corresponding frequency. We combine all data, together with some additional information like the `rank`, where 1 is the the most frequent token, the `normalised/ relative frequency` (frequency divided by total number of tokens) and the `cumulative frequency`. The final data frame will be sorted in descending order, from most to least frequent tokens.",
   "metadata": {
    "tags": [],
    "cell_id": "00044-839f89a7-e2e8-4f6b-b9b0-effc3f566bb3",
    "deepnote_cell_type": "markdown"
   }
  },
  {
   "cell_type": "code",
   "metadata": {
    "cell_id": "00042-f580c106-03ae-4ef2-a8de-3329cc7f39d7",
    "deepnote_to_be_reexecuted": false,
    "execution_millis": 33,
    "execution_start": 1622701493531,
    "output_cleared": true,
    "source_hash": "d2b04462",
    "tags": [],
    "deepnote_cell_type": "code"
   },
   "source": "# build entire vocabulary from training tweets in both datasets\nfor dataset in DATASETS:\n    corpus = CORPUS[dataset]\n\n    # initialise frequency counter\n    VOCABULARY[dataset] = pd.DataFrame.from_dict(Counter(corpus), orient='index').reset_index().rename(columns={'index': 'token', 0: 'frequency'}).sort_values(by='frequency', ascending=False).reset_index().drop(columns=['index'])\n\n    VOCABULARY[dataset]['rank'] = VOCABULARY[dataset].index + 1 # add one to index to build rank\n    VOCABULARY[dataset]['normalised_frequency'] = VOCABULARY[dataset]['frequency'] / VOCABULARY[dataset]['frequency'].sum() # relative frequency\n    VOCABULARY[dataset]['cumulative_frequency'] = VOCABULARY[dataset]['normalised_frequency'].cumsum()",
   "execution_count": 28,
   "outputs": []
  },
  {
   "cell_type": "markdown",
   "source": "Let's have a look at the vocabulary dataframes constructed for both dataframes.",
   "metadata": {
    "tags": [],
    "cell_id": "00054-3ef36aa2-e3f2-404a-a526-c6c1a5e49a7c",
    "deepnote_cell_type": "markdown"
   }
  },
  {
   "cell_type": "code",
   "metadata": {
    "cell_id": "00046-5accac30-2f91-4cf6-8d65-ca5f6e2cfff1",
    "deepnote_to_be_reexecuted": false,
    "execution_millis": 74,
    "execution_start": 1622701493578,
    "output_cleared": false,
    "source_hash": "76d6d744",
    "tags": [],
    "deepnote_cell_type": "code"
   },
   "source": "VOCABULARY['hate']",
   "execution_count": 29,
   "outputs": [
    {
     "output_type": "execute_result",
     "execution_count": 29,
     "data": {
      "application/vnd.deepnote.dataframe.v2+json": {
       "row_count": 18600,
       "column_count": 5,
       "columns": [
        {
         "name": "token",
         "dtype": "object",
         "stats": {
          "unique_count": 18600,
          "nan_count": 0,
          "categories": [
           {
            "name": ".",
            "count": 1
           },
           {
            "name": "@user",
            "count": 1
           },
           {
            "name": "18598 others",
            "count": 18598
           }
          ]
         }
        },
        {
         "name": "frequency",
         "dtype": "int64",
         "stats": {
          "unique_count": 294,
          "nan_count": 0,
          "min": "1",
          "max": "6277",
          "histogram": [
           {
            "bin_start": 1,
            "bin_end": 628.6,
            "count": 18551
           },
           {
            "bin_start": 628.6,
            "bin_end": 1256.2,
            "count": 30
           },
           {
            "bin_start": 1256.2,
            "bin_end": 1883.8000000000002,
            "count": 5
           },
           {
            "bin_start": 1883.8000000000002,
            "bin_end": 2511.4,
            "count": 3
           },
           {
            "bin_start": 2511.4,
            "bin_end": 3139,
            "count": 3
           },
           {
            "bin_start": 3139,
            "bin_end": 3766.6000000000004,
            "count": 1
           },
           {
            "bin_start": 3766.6000000000004,
            "bin_end": 4394.2,
            "count": 3
           },
           {
            "bin_start": 4394.2,
            "bin_end": 5021.8,
            "count": 1
           },
           {
            "bin_start": 5021.8,
            "bin_end": 5649.400000000001,
            "count": 1
           },
           {
            "bin_start": 5649.400000000001,
            "bin_end": 6277,
            "count": 2
           }
          ]
         }
        },
        {
         "name": "rank",
         "dtype": "int64",
         "stats": {
          "unique_count": 18600,
          "nan_count": 0,
          "min": "1",
          "max": "18600",
          "histogram": [
           {
            "bin_start": 1,
            "bin_end": 1860.9,
            "count": 1860
           },
           {
            "bin_start": 1860.9,
            "bin_end": 3720.8,
            "count": 1860
           },
           {
            "bin_start": 3720.8,
            "bin_end": 5580.700000000001,
            "count": 1860
           },
           {
            "bin_start": 5580.700000000001,
            "bin_end": 7440.6,
            "count": 1860
           },
           {
            "bin_start": 7440.6,
            "bin_end": 9300.5,
            "count": 1860
           },
           {
            "bin_start": 9300.5,
            "bin_end": 11160.400000000001,
            "count": 1860
           },
           {
            "bin_start": 11160.400000000001,
            "bin_end": 13020.300000000001,
            "count": 1860
           },
           {
            "bin_start": 13020.300000000001,
            "bin_end": 14880.2,
            "count": 1860
           },
           {
            "bin_start": 14880.2,
            "bin_end": 16740.100000000002,
            "count": 1860
           },
           {
            "bin_start": 16740.100000000002,
            "bin_end": 18600,
            "count": 1860
           }
          ]
         }
        },
        {
         "name": "normalised_frequency",
         "dtype": "float64",
         "stats": {
          "unique_count": 294,
          "nan_count": 0,
          "min": "4.628001258816342e-06",
          "max": "0.029049963901590183",
          "histogram": [
           {
            "bin_start": 0.000004628001258816342,
            "bin_end": 0.0029091615912919533,
            "count": 18551
           },
           {
            "bin_start": 0.0029091615912919533,
            "bin_end": 0.00581369518132509,
            "count": 30
           },
           {
            "bin_start": 0.00581369518132509,
            "bin_end": 0.008718228771358225,
            "count": 5
           },
           {
            "bin_start": 0.008718228771358225,
            "bin_end": 0.011622762361391363,
            "count": 3
           },
           {
            "bin_start": 0.011622762361391363,
            "bin_end": 0.0145272959514245,
            "count": 3
           },
           {
            "bin_start": 0.0145272959514245,
            "bin_end": 0.017431829541457635,
            "count": 1
           },
           {
            "bin_start": 0.017431829541457635,
            "bin_end": 0.020336363131490773,
            "count": 3
           },
           {
            "bin_start": 0.020336363131490773,
            "bin_end": 0.02324089672152391,
            "count": 1
           },
           {
            "bin_start": 0.02324089672152391,
            "bin_end": 0.02614543031155705,
            "count": 1
           },
           {
            "bin_start": 0.02614543031155705,
            "bin_end": 0.029049963901590183,
            "count": 2
           }
          ]
         }
        },
        {
         "name": "cumulative_frequency",
         "dtype": "float64",
         "stats": {
          "unique_count": 18600,
          "nan_count": 0,
          "min": "0.029049963901590183",
          "max": "0.9999999999996355",
          "histogram": [
           {
            "bin_start": 0.029049963901590183,
            "bin_end": 0.1261449675113947,
            "count": 5
           },
           {
            "bin_start": 0.1261449675113947,
            "bin_end": 0.22323997112119923,
            "count": 6
           },
           {
            "bin_start": 0.22323997112119923,
            "bin_end": 0.3203349747310038,
            "count": 15
           },
           {
            "bin_start": 0.3203349747310038,
            "bin_end": 0.4174299783408083,
            "count": 28
           },
           {
            "bin_start": 0.4174299783408083,
            "bin_end": 0.5145249819506128,
            "count": 48
           },
           {
            "bin_start": 0.5145249819506128,
            "bin_end": 0.6116199855604174,
            "count": 104
           },
           {
            "bin_start": 0.6116199855604174,
            "bin_end": 0.7087149891702219,
            "count": 276
           },
           {
            "bin_start": 0.7087149891702219,
            "bin_end": 0.8058099927800264,
            "count": 775
           },
           {
            "bin_start": 0.8058099927800264,
            "bin_end": 0.9029049963898309,
            "count": 2673
           },
           {
            "bin_start": 0.9029049963898309,
            "bin_end": 0.9999999999996355,
            "count": 14670
           }
          ]
         }
        },
        {
         "name": "_deepnote_index_column",
         "dtype": "int64"
        }
       ],
       "rows_top": [
        {
         "token": ".",
         "frequency": 6277,
         "rank": 1,
         "normalised_frequency": 0.029049963901590183,
         "cumulative_frequency": 0.029049963901590183,
         "_deepnote_index_column": 0
        },
        {
         "token": "@user",
         "frequency": 6014,
         "rank": 2,
         "normalised_frequency": 0.027832799570521483,
         "cumulative_frequency": 0.056882763472111665,
         "_deepnote_index_column": 1
        },
        {
         "token": "the",
         "frequency": 5492,
         "rank": 3,
         "normalised_frequency": 0.02541698291341935,
         "cumulative_frequency": 0.08229974638553102,
         "_deepnote_index_column": 2
        },
        {
         "token": "to",
         "frequency": 4931,
         "rank": 4,
         "normalised_frequency": 0.022820674207223383,
         "cumulative_frequency": 0.1051204205927544,
         "_deepnote_index_column": 3
        },
        {
         "token": ",",
         "frequency": 4356,
         "rank": 5,
         "normalised_frequency": 0.020159573483403987,
         "cumulative_frequency": 0.1252799940761584,
         "_deepnote_index_column": 4
        },
        {
         "token": "you",
         "frequency": 4106,
         "rank": 6,
         "normalised_frequency": 0.019002573168699903,
         "cumulative_frequency": 0.1442825672448583,
         "_deepnote_index_column": 5
        },
        {
         "token": "a",
         "frequency": 3953,
         "rank": 7,
         "normalised_frequency": 0.018294488976101003,
         "cumulative_frequency": 0.1625770562209593,
         "_deepnote_index_column": 6
        },
        {
         "token": "and",
         "frequency": 3221,
         "rank": 8,
         "normalised_frequency": 0.01490679205464744,
         "cumulative_frequency": 0.17748384827560673,
         "_deepnote_index_column": 7
        },
        {
         "token": "of",
         "frequency": 2886,
         "rank": 9,
         "normalised_frequency": 0.013356411632943965,
         "cumulative_frequency": 0.1908402599085507,
         "_deepnote_index_column": 8
        },
        {
         "token": "is",
         "frequency": 2719,
         "rank": 10,
         "normalised_frequency": 0.012583535422721635,
         "cumulative_frequency": 0.20342379533127233,
         "_deepnote_index_column": 9
        },
        {
         "token": "in",
         "frequency": 2562,
         "rank": 11,
         "normalised_frequency": 0.01185693922508747,
         "cumulative_frequency": 0.2152807345563598,
         "_deepnote_index_column": 10
        },
        {
         "token": "not",
         "frequency": 2402,
         "rank": 12,
         "normalised_frequency": 0.011116459023676854,
         "cumulative_frequency": 0.22639719358003665,
         "_deepnote_index_column": 11
        },
        {
         "token": "!",
         "frequency": 2147,
         "rank": 13,
         "normalised_frequency": 0.009936318702678687,
         "cumulative_frequency": 0.23633351228271535,
         "_deepnote_index_column": 12
        },
        {
         "token": "are",
         "frequency": 2056,
         "rank": 14,
         "normalised_frequency": 0.0095151705881264,
         "cumulative_frequency": 0.24584868287084174,
         "_deepnote_index_column": 13
        },
        {
         "token": "for",
         "frequency": 1828,
         "rank": 15,
         "normalised_frequency": 0.008459986301116273,
         "cumulative_frequency": 0.25430866917195805,
         "_deepnote_index_column": 14
        },
        {
         "token": "i",
         "frequency": 1792,
         "rank": 16,
         "normalised_frequency": 0.008293378255798886,
         "cumulative_frequency": 0.26260204742775695,
         "_deepnote_index_column": 15
        },
        {
         "token": "that",
         "frequency": 1531,
         "rank": 17,
         "normalised_frequency": 0.00708546992724782,
         "cumulative_frequency": 0.2696875173550048,
         "_deepnote_index_column": 16
        },
        {
         "token": "it",
         "frequency": 1359,
         "rank": 18,
         "normalised_frequency": 0.006289453710731409,
         "cumulative_frequency": 0.2759769710657362,
         "_deepnote_index_column": 17
        },
        {
         "token": "?",
         "frequency": 1353,
         "rank": 19,
         "normalised_frequency": 0.006261685703178511,
         "cumulative_frequency": 0.28223865676891474,
         "_deepnote_index_column": 18
        },
        {
         "token": "'",
         "frequency": 1244,
         "rank": 20,
         "normalised_frequency": 0.00575723356596753,
         "cumulative_frequency": 0.28799589033488227,
         "_deepnote_index_column": 19
        },
        {
         "token": "on",
         "frequency": 1183,
         "rank": 21,
         "normalised_frequency": 0.0054749254891797335,
         "cumulative_frequency": 0.293470815824062,
         "_deepnote_index_column": 20
        },
        {
         "token": "they",
         "frequency": 1073,
         "rank": 22,
         "normalised_frequency": 0.004965845350709935,
         "cumulative_frequency": 0.2984366611747719,
         "_deepnote_index_column": 21
        },
        {
         "token": "bitch",
         "frequency": 1069,
         "rank": 23,
         "normalised_frequency": 0.00494733334567467,
         "cumulative_frequency": 0.30338399452044656,
         "_deepnote_index_column": 22
        },
        {
         "token": "all",
         "frequency": 1061,
         "rank": 24,
         "normalised_frequency": 0.004910309335604139,
         "cumulative_frequency": 0.3082943038560507,
         "_deepnote_index_column": 23
        },
        {
         "token": "this",
         "frequency": 1044,
         "rank": 25,
         "normalised_frequency": 0.004831633314204262,
         "cumulative_frequency": 0.313125937170255,
         "_deepnote_index_column": 24
        },
        {
         "token": "do",
         "frequency": 1032,
         "rank": 26,
         "normalised_frequency": 0.004776097299098466,
         "cumulative_frequency": 0.31790203446935345,
         "_deepnote_index_column": 25
        },
        {
         "token": "have",
         "frequency": 1030,
         "rank": 27,
         "normalised_frequency": 0.004766841296580833,
         "cumulative_frequency": 0.3226688757659343,
         "_deepnote_index_column": 26
        },
        {
         "token": "your",
         "frequency": 970,
         "rank": 28,
         "normalised_frequency": 0.004489161221051852,
         "cumulative_frequency": 0.32715803698698614,
         "_deepnote_index_column": 27
        },
        {
         "token": "’",
         "frequency": 966,
         "rank": 29,
         "normalised_frequency": 0.004470649216016587,
         "cumulative_frequency": 0.33162868620300273,
         "_deepnote_index_column": 28
        },
        {
         "token": "-",
         "frequency": 943,
         "rank": 30,
         "normalised_frequency": 0.004364205187063811,
         "cumulative_frequency": 0.33599289139006655,
         "_deepnote_index_column": 29
        },
        {
         "token": "be",
         "frequency": 942,
         "rank": 31,
         "normalised_frequency": 0.0043595771858049946,
         "cumulative_frequency": 0.34035246857587154,
         "_deepnote_index_column": 30
        },
        {
         "token": "with",
         "frequency": 942,
         "rank": 32,
         "normalised_frequency": 0.0043595771858049946,
         "cumulative_frequency": 0.3447120457616765,
         "_deepnote_index_column": 31
        },
        {
         "token": "...",
         "frequency": 873,
         "rank": 33,
         "normalised_frequency": 0.004040245098946667,
         "cumulative_frequency": 0.3487522908606232,
         "_deepnote_index_column": 32
        },
        {
         "token": "women",
         "frequency": 840,
         "rank": 34,
         "normalised_frequency": 0.0038875210574057274,
         "cumulative_frequency": 0.35263981191802896,
         "_deepnote_index_column": 33
        },
        {
         "token": "we",
         "frequency": 837,
         "rank": 35,
         "normalised_frequency": 0.0038736370536292786,
         "cumulative_frequency": 0.3565134489716582,
         "_deepnote_index_column": 34
        },
        {
         "token": ":",
         "frequency": 833,
         "rank": 36,
         "normalised_frequency": 0.0038551250485940134,
         "cumulative_frequency": 0.36036857402025224,
         "_deepnote_index_column": 35
        },
        {
         "token": "refugees",
         "frequency": 819,
         "rank": 37,
         "normalised_frequency": 0.0037903330309705845,
         "cumulative_frequency": 0.36415890705122284,
         "_deepnote_index_column": 36
        },
        {
         "token": "will",
         "frequency": 745,
         "rank": 38,
         "normalised_frequency": 0.003447860937818175,
         "cumulative_frequency": 0.367606767989041,
         "_deepnote_index_column": 37
        },
        {
         "token": "\"",
         "frequency": 731,
         "rank": 39,
         "normalised_frequency": 0.0033830689201947463,
         "cumulative_frequency": 0.37098983690923576,
         "_deepnote_index_column": 38
        },
        {
         "token": "me",
         "frequency": 720,
         "rank": 40,
         "normalised_frequency": 0.0033321609063477666,
         "cumulative_frequency": 0.3743219978155835,
         "_deepnote_index_column": 39
        },
        {
         "token": "from",
         "frequency": 712,
         "rank": 41,
         "normalised_frequency": 0.0032951368962772357,
         "cumulative_frequency": 0.37761713471186076,
         "_deepnote_index_column": 40
        },
        {
         "token": "when",
         "frequency": 708,
         "rank": 42,
         "normalised_frequency": 0.0032766248912419705,
         "cumulative_frequency": 0.38089375960310273,
         "_deepnote_index_column": 41
        },
        {
         "token": "my",
         "frequency": 702,
         "rank": 43,
         "normalised_frequency": 0.0032488568836890725,
         "cumulative_frequency": 0.3841426164867918,
         "_deepnote_index_column": 42
        },
        {
         "token": "who",
         "frequency": 682,
         "rank": 44,
         "normalised_frequency": 0.0031562968585127455,
         "cumulative_frequency": 0.3872989133453046,
         "_deepnote_index_column": 43
        },
        {
         "token": "like",
         "frequency": 679,
         "rank": 45,
         "normalised_frequency": 0.0031424128547362963,
         "cumulative_frequency": 0.3904413262000409,
         "_deepnote_index_column": 44
        },
        {
         "token": "if",
         "frequency": 673,
         "rank": 46,
         "normalised_frequency": 0.0031146448471833983,
         "cumulative_frequency": 0.3935559710472243,
         "_deepnote_index_column": 45
        },
        {
         "token": "&",
         "frequency": 673,
         "rank": 47,
         "normalised_frequency": 0.0031146448471833983,
         "cumulative_frequency": 0.39667061589440766,
         "_deepnote_index_column": 46
        },
        {
         "token": "immigrant",
         "frequency": 654,
         "rank": 48,
         "normalised_frequency": 0.0030267128232658877,
         "cumulative_frequency": 0.39969732871767355,
         "_deepnote_index_column": 47
        },
        {
         "token": "but",
         "frequency": 630,
         "rank": 49,
         "normalised_frequency": 0.0029156407930542956,
         "cumulative_frequency": 0.40261296951072784,
         "_deepnote_index_column": 48
        },
        {
         "token": "their",
         "frequency": 625,
         "rank": 50,
         "normalised_frequency": 0.002892500786760214,
         "cumulative_frequency": 0.40550547029748807,
         "_deepnote_index_column": 49
        },
        {
         "token": "about",
         "frequency": 607,
         "rank": 51,
         "normalised_frequency": 0.00280919676410152,
         "cumulative_frequency": 0.4083146670615896,
         "_deepnote_index_column": 50
        },
        {
         "token": "no",
         "frequency": 600,
         "rank": 52,
         "normalised_frequency": 0.0027768007552898054,
         "cumulative_frequency": 0.4110914678168794,
         "_deepnote_index_column": 51
        },
        {
         "token": "s",
         "frequency": 583,
         "rank": 53,
         "normalised_frequency": 0.0026981247338899277,
         "cumulative_frequency": 0.4137895925507693,
         "_deepnote_index_column": 52
        },
        {
         "token": "as",
         "frequency": 582,
         "rank": 54,
         "normalised_frequency": 0.0026934967326311112,
         "cumulative_frequency": 0.4164830892834004,
         "_deepnote_index_column": 53
        },
        {
         "token": "so",
         "frequency": 580,
         "rank": 55,
         "normalised_frequency": 0.0026842407301134784,
         "cumulative_frequency": 0.41916733001351386,
         "_deepnote_index_column": 54
        },
        {
         "token": "by",
         "frequency": 578,
         "rank": 56,
         "normalised_frequency": 0.002674984727595846,
         "cumulative_frequency": 0.4218423147411097,
         "_deepnote_index_column": 55
        },
        {
         "token": "illegal",
         "frequency": 572,
         "rank": 57,
         "normalised_frequency": 0.002647216720042948,
         "cumulative_frequency": 0.42448953146115265,
         "_deepnote_index_column": 56
        },
        {
         "token": "up",
         "frequency": 569,
         "rank": 58,
         "normalised_frequency": 0.0026333327162664988,
         "cumulative_frequency": 0.4271228641774191,
         "_deepnote_index_column": 57
        },
        {
         "token": "what",
         "frequency": 554,
         "rank": 59,
         "normalised_frequency": 0.002563912697384254,
         "cumulative_frequency": 0.4296867768748034,
         "_deepnote_index_column": 58
        },
        {
         "token": "at",
         "frequency": 553,
         "rank": 60,
         "normalised_frequency": 0.0025592846961254375,
         "cumulative_frequency": 0.4322460615709288,
         "_deepnote_index_column": 59
        },
        {
         "token": "our",
         "frequency": 540,
         "rank": 61,
         "normalised_frequency": 0.002499120679760825,
         "cumulative_frequency": 0.43474518225068964,
         "_deepnote_index_column": 60
        },
        {
         "token": "just",
         "frequency": 531,
         "rank": 62,
         "normalised_frequency": 0.0024574686684314777,
         "cumulative_frequency": 0.43720265091912114,
         "_deepnote_index_column": 61
        },
        {
         "token": "or",
         "frequency": 519,
         "rank": 63,
         "normalised_frequency": 0.0024019326533256816,
         "cumulative_frequency": 0.4396045835724468,
         "_deepnote_index_column": 62
        },
        {
         "token": "immigration",
         "frequency": 516,
         "rank": 64,
         "normalised_frequency": 0.002388048649549233,
         "cumulative_frequency": 0.44199263222199603,
         "_deepnote_index_column": 63
        },
        {
         "token": "men",
         "frequency": 508,
         "rank": 65,
         "normalised_frequency": 0.002351024639478702,
         "cumulative_frequency": 0.44434365686147476,
         "_deepnote_index_column": 64
        },
        {
         "token": "get",
         "frequency": 501,
         "rank": 66,
         "normalised_frequency": 0.0023186286306669875,
         "cumulative_frequency": 0.44666228549214176,
         "_deepnote_index_column": 65
        },
        {
         "token": "people",
         "frequency": 498,
         "rank": 67,
         "normalised_frequency": 0.0023047446268905387,
         "cumulative_frequency": 0.44896703011903233,
         "_deepnote_index_column": 66
        },
        {
         "token": "migrants",
         "frequency": 495,
         "rank": 68,
         "normalised_frequency": 0.0022908606231140894,
         "cumulative_frequency": 0.4512578907421464,
         "_deepnote_index_column": 67
        },
        {
         "token": "them",
         "frequency": 490,
         "rank": 69,
         "normalised_frequency": 0.002267720616820008,
         "cumulative_frequency": 0.4535256113589664,
         "_deepnote_index_column": 68
        },
        {
         "token": "her",
         "frequency": 489,
         "rank": 70,
         "normalised_frequency": 0.0022630926155611914,
         "cumulative_frequency": 0.4557887039745276,
         "_deepnote_index_column": 69
        },
        {
         "token": "can",
         "frequency": 488,
         "rank": 71,
         "normalised_frequency": 0.002258464614302375,
         "cumulative_frequency": 0.45804716858883,
         "_deepnote_index_column": 70
        },
        {
         "token": "was",
         "frequency": 481,
         "rank": 72,
         "normalised_frequency": 0.0022260686054906605,
         "cumulative_frequency": 0.4602732371943207,
         "_deepnote_index_column": 71
        },
        {
         "token": "an",
         "frequency": 471,
         "rank": 73,
         "normalised_frequency": 0.0021797885929024973,
         "cumulative_frequency": 0.4624530257872232,
         "_deepnote_index_column": 72
        },
        {
         "token": "woman",
         "frequency": 465,
         "rank": 74,
         "normalised_frequency": 0.0021520205853495992,
         "cumulative_frequency": 0.46460504637257277,
         "_deepnote_index_column": 73
        },
        {
         "token": "cunt",
         "frequency": 454,
         "rank": 75,
         "normalised_frequency": 0.0021011125715026196,
         "cumulative_frequency": 0.4667061589440754,
         "_deepnote_index_column": 74
        },
        {
         "token": "rape",
         "frequency": 447,
         "rank": 76,
         "normalised_frequency": 0.002068716562690905,
         "cumulative_frequency": 0.46877487550676633,
         "_deepnote_index_column": 75
        },
        {
         "token": "how",
         "frequency": 444,
         "rank": 77,
         "normalised_frequency": 0.002054832558914456,
         "cumulative_frequency": 0.4708297080656808,
         "_deepnote_index_column": 76
        },
        {
         "token": "more",
         "frequency": 433,
         "rank": 78,
         "normalised_frequency": 0.002003924545067476,
         "cumulative_frequency": 0.4728336326107483,
         "_deepnote_index_column": 77
        },
        {
         "token": "want",
         "frequency": 432,
         "rank": 79,
         "normalised_frequency": 0.00199929654380866,
         "cumulative_frequency": 0.47483292915455694,
         "_deepnote_index_column": 78
        },
        {
         "token": "out",
         "frequency": 431,
         "rank": 80,
         "normalised_frequency": 0.0019946685425498434,
         "cumulative_frequency": 0.4768275976971068,
         "_deepnote_index_column": 79
        },
        {
         "token": "us",
         "frequency": 417,
         "rank": 81,
         "normalised_frequency": 0.0019298765249264147,
         "cumulative_frequency": 0.47875747422203324,
         "_deepnote_index_column": 80
        },
        {
         "token": "go",
         "frequency": 416,
         "rank": 82,
         "normalised_frequency": 0.0019252485236675985,
         "cumulative_frequency": 0.48068272274570084,
         "_deepnote_index_column": 81
        },
        {
         "token": "I",
         "frequency": 414,
         "rank": 83,
         "normalised_frequency": 0.0019159925211499657,
         "cumulative_frequency": 0.48259871526685083,
         "_deepnote_index_column": 82
        },
        {
         "token": "she",
         "frequency": 413,
         "rank": 84,
         "normalised_frequency": 0.0019113645198911495,
         "cumulative_frequency": 0.484510079786742,
         "_deepnote_index_column": 83
        },
        {
         "token": "he",
         "frequency": 404,
         "rank": 85,
         "normalised_frequency": 0.0018697125085618024,
         "cumulative_frequency": 0.4863797922953038,
         "_deepnote_index_column": 84
        },
        {
         "token": "am",
         "frequency": 397,
         "rank": 86,
         "normalised_frequency": 0.001837316499750088,
         "cumulative_frequency": 0.4882171087950539,
         "_deepnote_index_column": 85
        },
        {
         "token": "has",
         "frequency": 395,
         "rank": 87,
         "normalised_frequency": 0.0018280604972324554,
         "cumulative_frequency": 0.49004516929228636,
         "_deepnote_index_column": 86
        },
        {
         "token": "whore",
         "frequency": 393,
         "rank": 88,
         "normalised_frequency": 0.0018188044947148225,
         "cumulative_frequency": 0.4918639737870012,
         "_deepnote_index_column": 87
        },
        {
         "token": "#buildthatwall",
         "frequency": 371,
         "rank": 89,
         "normalised_frequency": 0.001716988467020863,
         "cumulative_frequency": 0.49358096225402204,
         "_deepnote_index_column": 88
        },
        {
         "token": "immigrants",
         "frequency": 364,
         "rank": 90,
         "normalised_frequency": 0.0016845924582091487,
         "cumulative_frequency": 0.49526555471223116,
         "_deepnote_index_column": 89
        },
        {
         "token": "one",
         "frequency": 360,
         "rank": 91,
         "normalised_frequency": 0.0016660804531738833,
         "cumulative_frequency": 0.49693163516540506,
         "_deepnote_index_column": 90
        },
        {
         "token": "fuck",
         "frequency": 354,
         "rank": 92,
         "normalised_frequency": 0.0016383124456209853,
         "cumulative_frequency": 0.498569947611026,
         "_deepnote_index_column": 91
        },
        {
         "token": "would",
         "frequency": 349,
         "rank": 93,
         "normalised_frequency": 0.0016151724393269034,
         "cumulative_frequency": 0.5001851200503529,
         "_deepnote_index_column": 92
        },
        {
         "token": "because",
         "frequency": 345,
         "rank": 94,
         "normalised_frequency": 0.0015966604342916382,
         "cumulative_frequency": 0.5017817804846445,
         "_deepnote_index_column": 93
        },
        {
         "token": "…",
         "frequency": 344,
         "rank": 95,
         "normalised_frequency": 0.0015920324330328218,
         "cumulative_frequency": 0.5033738129176774,
         "_deepnote_index_column": 94
        },
        {
         "token": "why",
         "frequency": 338,
         "rank": 96,
         "normalised_frequency": 0.0015642644254799238,
         "cumulative_frequency": 0.5049380773431573,
         "_deepnote_index_column": 95
        },
        {
         "token": "time",
         "frequency": 337,
         "rank": 97,
         "normalised_frequency": 0.0015596364242211073,
         "cumulative_frequency": 0.5064977137673784,
         "_deepnote_index_column": 96
        },
        {
         "token": "should",
         "frequency": 332,
         "rank": 98,
         "normalised_frequency": 0.0015364964179270257,
         "cumulative_frequency": 0.5080342101853055,
         "_deepnote_index_column": 97
        },
        {
         "token": "now",
         "frequency": 326,
         "rank": 99,
         "normalised_frequency": 0.0015087284103741277,
         "cumulative_frequency": 0.5095429385956796,
         "_deepnote_index_column": 98
        },
        {
         "token": "know",
         "frequency": 316,
         "rank": 100,
         "normalised_frequency": 0.0014624483977859642,
         "cumulative_frequency": 0.5110053869934655,
         "_deepnote_index_column": 99
        }
       ],
       "rows_bottom": [
        {
         "token": "verses",
         "frequency": 1,
         "rank": 18501,
         "normalised_frequency": 0.000004628001258816342,
         "cumulative_frequency": 0.9995418278750166,
         "_deepnote_index_column": 18500
        },
        {
         "token": "fisherman",
         "frequency": 1,
         "rank": 18502,
         "normalised_frequency": 0.000004628001258816342,
         "cumulative_frequency": 0.9995464558762753,
         "_deepnote_index_column": 18501
        },
        {
         "token": "parent-child",
         "frequency": 1,
         "rank": 18503,
         "normalised_frequency": 0.000004628001258816342,
         "cumulative_frequency": 0.9995510838775341,
         "_deepnote_index_column": 18502
        },
        {
         "token": "retiring",
         "frequency": 1,
         "rank": 18504,
         "normalised_frequency": 0.000004628001258816342,
         "cumulative_frequency": 0.9995557118787929,
         "_deepnote_index_column": 18503
        },
        {
         "token": "heir",
         "frequency": 1,
         "rank": 18505,
         "normalised_frequency": 0.000004628001258816342,
         "cumulative_frequency": 0.9995603398800517,
         "_deepnote_index_column": 18504
        },
        {
         "token": "#sextraffickimg",
         "frequency": 1,
         "rank": 18506,
         "normalised_frequency": 0.000004628001258816342,
         "cumulative_frequency": 0.9995649678813104,
         "_deepnote_index_column": 18505
        },
        {
         "token": "#traffickstop",
         "frequency": 1,
         "rank": 18507,
         "normalised_frequency": 0.000004628001258816342,
         "cumulative_frequency": 0.9995695958825692,
         "_deepnote_index_column": 18506
        },
        {
         "token": "#bulldthewall",
         "frequency": 1,
         "rank": 18508,
         "normalised_frequency": 0.000004628001258816342,
         "cumulative_frequency": 0.999574223883828,
         "_deepnote_index_column": 18507
        },
        {
         "token": "#endchainmigrationhere",
         "frequency": 1,
         "rank": 18509,
         "normalised_frequency": 0.000004628001258816342,
         "cumulative_frequency": 0.9995788518850868,
         "_deepnote_index_column": 18508
        },
        {
         "token": "molestation",
         "frequency": 1,
         "rank": 18510,
         "normalised_frequency": 0.000004628001258816342,
         "cumulative_frequency": 0.9995834798863455,
         "_deepnote_index_column": 18509
        },
        {
         "token": "employee",
         "frequency": 1,
         "rank": 18511,
         "normalised_frequency": 0.000004628001258816342,
         "cumulative_frequency": 0.9995881078876043,
         "_deepnote_index_column": 18510
        },
        {
         "token": "slipped",
         "frequency": 1,
         "rank": 18512,
         "normalised_frequency": 0.000004628001258816342,
         "cumulative_frequency": 0.9995927358888631,
         "_deepnote_index_column": 18511
        },
        {
         "token": "camouflaged",
         "frequency": 1,
         "rank": 18513,
         "normalised_frequency": 0.000004628001258816342,
         "cumulative_frequency": 0.9995973638901219,
         "_deepnote_index_column": 18512
        },
        {
         "token": "#8217",
         "frequency": 1,
         "rank": 18514,
         "normalised_frequency": 0.000004628001258816342,
         "cumulative_frequency": 0.9996019918913807,
         "_deepnote_index_column": 18513
        },
        {
         "token": "songbirds",
         "frequency": 1,
         "rank": 18515,
         "normalised_frequency": 0.000004628001258816342,
         "cumulative_frequency": 0.9996066198926394,
         "_deepnote_index_column": 18514
        },
        {
         "token": "overcoming",
         "frequency": 1,
         "rank": 18516,
         "normalised_frequency": 0.000004628001258816342,
         "cumulative_frequency": 0.9996112478938982,
         "_deepnote_index_column": 18515
        },
        {
         "token": "tumor",
         "frequency": 1,
         "rank": 18517,
         "normalised_frequency": 0.000004628001258816342,
         "cumulative_frequency": 0.999615875895157,
         "_deepnote_index_column": 18516
        },
        {
         "token": "cras",
         "frequency": 1,
         "rank": 18518,
         "normalised_frequency": 0.000004628001258816342,
         "cumulative_frequency": 0.9996205038964158,
         "_deepnote_index_column": 18517
        },
        {
         "token": "imperil",
         "frequency": 1,
         "rank": 18519,
         "normalised_frequency": 0.000004628001258816342,
         "cumulative_frequency": 0.9996251318976745,
         "_deepnote_index_column": 18518
        },
        {
         "token": "waist",
         "frequency": 1,
         "rank": 18520,
         "normalised_frequency": 0.000004628001258816342,
         "cumulative_frequency": 0.9996297598989333,
         "_deepnote_index_column": 18519
        },
        {
         "token": "portions",
         "frequency": 1,
         "rank": 18521,
         "normalised_frequency": 0.000004628001258816342,
         "cumulative_frequency": 0.9996343879001921,
         "_deepnote_index_column": 18520
        },
        {
         "token": "capitalism",
         "frequency": 1,
         "rank": 18522,
         "normalised_frequency": 0.000004628001258816342,
         "cumulative_frequency": 0.9996390159014509,
         "_deepnote_index_column": 18521
        },
        {
         "token": "stressors",
         "frequency": 1,
         "rank": 18523,
         "normalised_frequency": 0.000004628001258816342,
         "cumulative_frequency": 0.9996436439027097,
         "_deepnote_index_column": 18522
        },
        {
         "token": "#brooklyn",
         "frequency": 1,
         "rank": 18524,
         "normalised_frequency": 0.000004628001258816342,
         "cumulative_frequency": 0.9996482719039684,
         "_deepnote_index_column": 18523
        },
        {
         "token": "#facesoffounders",
         "frequency": 1,
         "rank": 18525,
         "normalised_frequency": 0.000004628001258816342,
         "cumulative_frequency": 0.9996528999052272,
         "_deepnote_index_column": 18524
        },
        {
         "token": "handcuffed",
         "frequency": 1,
         "rank": 18526,
         "normalised_frequency": 0.000004628001258816342,
         "cumulative_frequency": 0.999657527906486,
         "_deepnote_index_column": 18525
        },
        {
         "token": "solitary",
         "frequency": 1,
         "rank": 18527,
         "normalised_frequency": 0.000004628001258816342,
         "cumulative_frequency": 0.9996621559077448,
         "_deepnote_index_column": 18526
        },
        {
         "token": "confinement",
         "frequency": 1,
         "rank": 18528,
         "normalised_frequency": 0.000004628001258816342,
         "cumulative_frequency": 0.9996667839090035,
         "_deepnote_index_column": 18527
        },
        {
         "token": "shivering",
         "frequency": 1,
         "rank": 18529,
         "normalised_frequency": 0.000004628001258816342,
         "cumulative_frequency": 0.9996714119102623,
         "_deepnote_index_column": 18528
        },
        {
         "token": "#netneutrality",
         "frequency": 1,
         "rank": 18530,
         "normalised_frequency": 0.000004628001258816342,
         "cumulative_frequency": 0.9996760399115211,
         "_deepnote_index_column": 18529
        },
        {
         "token": "underneath",
         "frequency": 1,
         "rank": 18531,
         "normalised_frequency": 0.000004628001258816342,
         "cumulative_frequency": 0.9996806679127799,
         "_deepnote_index_column": 18530
        },
        {
         "token": "defaming",
         "frequency": 1,
         "rank": 18532,
         "normalised_frequency": 0.000004628001258816342,
         "cumulative_frequency": 0.9996852959140387,
         "_deepnote_index_column": 18531
        },
        {
         "token": "3103",
         "frequency": 1,
         "rank": 18533,
         "normalised_frequency": 0.000004628001258816342,
         "cumulative_frequency": 0.9996899239152974,
         "_deepnote_index_column": 18532
        },
        {
         "token": "scraps",
         "frequency": 1,
         "rank": 18534,
         "normalised_frequency": 0.000004628001258816342,
         "cumulative_frequency": 0.9996945519165562,
         "_deepnote_index_column": 18533
        },
        {
         "token": "#ent4all",
         "frequency": 1,
         "rank": 18535,
         "normalised_frequency": 0.000004628001258816342,
         "cumulative_frequency": 0.999699179917815,
         "_deepnote_index_column": 18534
        },
        {
         "token": "3488",
         "frequency": 1,
         "rank": 18536,
         "normalised_frequency": 0.000004628001258816342,
         "cumulative_frequency": 0.9997038079190738,
         "_deepnote_index_column": 18535
        },
        {
         "token": "premier",
         "frequency": 1,
         "rank": 18537,
         "normalised_frequency": 0.000004628001258816342,
         "cumulative_frequency": 0.9997084359203325,
         "_deepnote_index_column": 18536
        },
        {
         "token": "sgut",
         "frequency": 1,
         "rank": 18538,
         "normalised_frequency": 0.000004628001258816342,
         "cumulative_frequency": 0.9997130639215913,
         "_deepnote_index_column": 18537
        },
        {
         "token": "uglyass",
         "frequency": 1,
         "rank": 18539,
         "normalised_frequency": 0.000004628001258816342,
         "cumulative_frequency": 0.9997176919228501,
         "_deepnote_index_column": 18538
        },
        {
         "token": "boyf",
         "frequency": 1,
         "rank": 18540,
         "normalised_frequency": 0.000004628001258816342,
         "cumulative_frequency": 0.9997223199241089,
         "_deepnote_index_column": 18539
        },
        {
         "token": "yu",
         "frequency": 1,
         "rank": 18541,
         "normalised_frequency": 0.000004628001258816342,
         "cumulative_frequency": 0.9997269479253676,
         "_deepnote_index_column": 18540
        },
        {
         "token": "shitshow",
         "frequency": 1,
         "rank": 18542,
         "normalised_frequency": 0.000004628001258816342,
         "cumulative_frequency": 0.9997315759266264,
         "_deepnote_index_column": 18541
        },
        {
         "token": "sung",
         "frequency": 1,
         "rank": 18543,
         "normalised_frequency": 0.000004628001258816342,
         "cumulative_frequency": 0.9997362039278852,
         "_deepnote_index_column": 18542
        },
        {
         "token": "intend",
         "frequency": 1,
         "rank": 18544,
         "normalised_frequency": 0.000004628001258816342,
         "cumulative_frequency": 0.999740831929144,
         "_deepnote_index_column": 18543
        },
        {
         "token": "#russiagate",
         "frequency": 1,
         "rank": 18545,
         "normalised_frequency": 0.000004628001258816342,
         "cumulative_frequency": 0.9997454599304028,
         "_deepnote_index_column": 18544
        },
        {
         "token": "councillor",
         "frequency": 1,
         "rank": 18546,
         "normalised_frequency": 0.000004628001258816342,
         "cumulative_frequency": 0.9997500879316615,
         "_deepnote_index_column": 18545
        },
        {
         "token": "#femalefounders",
         "frequency": 1,
         "rank": 18547,
         "normalised_frequency": 0.000004628001258816342,
         "cumulative_frequency": 0.9997547159329203,
         "_deepnote_index_column": 18546
        },
        {
         "token": "giorgio",
         "frequency": 1,
         "rank": 18548,
         "normalised_frequency": 0.000004628001258816342,
         "cumulative_frequency": 0.9997593439341791,
         "_deepnote_index_column": 18547
        },
        {
         "token": "mammoliti",
         "frequency": 1,
         "rank": 18549,
         "normalised_frequency": 0.000004628001258816342,
         "cumulative_frequency": 0.9997639719354379,
         "_deepnote_index_column": 18548
        },
        {
         "token": "dawn",
         "frequency": 1,
         "rank": 18550,
         "normalised_frequency": 0.000004628001258816342,
         "cumulative_frequency": 0.9997685999366966,
         "_deepnote_index_column": 18549
        },
        {
         "token": "adam",
         "frequency": 1,
         "rank": 18551,
         "normalised_frequency": 0.000004628001258816342,
         "cumulative_frequency": 0.9997732279379554,
         "_deepnote_index_column": 18550
        },
        {
         "token": "vaughan",
         "frequency": 1,
         "rank": 18552,
         "normalised_frequency": 0.000004628001258816342,
         "cumulative_frequency": 0.9997778559392142,
         "_deepnote_index_column": 18551
        },
        {
         "token": "#tocouncil",
         "frequency": 1,
         "rank": 18553,
         "normalised_frequency": 0.000004628001258816342,
         "cumulative_frequency": 0.999782483940473,
         "_deepnote_index_column": 18552
        },
        {
         "token": "#topoli",
         "frequency": 1,
         "rank": 18554,
         "normalised_frequency": 0.000004628001258816342,
         "cumulative_frequency": 0.9997871119417318,
         "_deepnote_index_column": 18553
        },
        {
         "token": "#voteoutthedems",
         "frequency": 1,
         "rank": 18555,
         "normalised_frequency": 0.000004628001258816342,
         "cumulative_frequency": 0.9997917399429905,
         "_deepnote_index_column": 18554
        },
        {
         "token": "3109",
         "frequency": 1,
         "rank": 18556,
         "normalised_frequency": 0.000004628001258816342,
         "cumulative_frequency": 0.9997963679442493,
         "_deepnote_index_column": 18555
        },
        {
         "token": "ay",
         "frequency": 1,
         "rank": 18557,
         "normalised_frequency": 0.000004628001258816342,
         "cumulative_frequency": 0.9998009959455081,
         "_deepnote_index_column": 18556
        },
        {
         "token": "ravaged",
         "frequency": 1,
         "rank": 18558,
         "normalised_frequency": 0.000004628001258816342,
         "cumulative_frequency": 0.9998056239467669,
         "_deepnote_index_column": 18557
        },
        {
         "token": "hobedi@wr.org",
         "frequency": 1,
         "rank": 18559,
         "normalised_frequency": 0.000004628001258816342,
         "cumulative_frequency": 0.9998102519480256,
         "_deepnote_index_column": 18558
        },
        {
         "token": "kuo's",
         "frequency": 1,
         "rank": 18560,
         "normalised_frequency": 0.000004628001258816342,
         "cumulative_frequency": 0.9998148799492844,
         "_deepnote_index_column": 18559
        },
        {
         "token": "writer",
         "frequency": 1,
         "rank": 18561,
         "normalised_frequency": 0.000004628001258816342,
         "cumulative_frequency": 0.9998195079505432,
         "_deepnote_index_column": 18560
        },
        {
         "token": "overcame",
         "frequency": 1,
         "rank": 18562,
         "normalised_frequency": 0.000004628001258816342,
         "cumulative_frequency": 0.999824135951802,
         "_deepnote_index_column": 18561
        },
        {
         "token": "#asianamerican",
         "frequency": 1,
         "rank": 18563,
         "normalised_frequency": 0.000004628001258816342,
         "cumulative_frequency": 0.9998287639530608,
         "_deepnote_index_column": 18562
        },
        {
         "token": "#qwoc",
         "frequency": 1,
         "rank": 18564,
         "normalised_frequency": 0.000004628001258816342,
         "cumulative_frequency": 0.9998333919543195,
         "_deepnote_index_column": 18563
        },
        {
         "token": "#femalefilmmaker",
         "frequency": 1,
         "rank": 18565,
         "normalised_frequency": 0.000004628001258816342,
         "cumulative_frequency": 0.9998380199555783,
         "_deepnote_index_column": 18564
        },
        {
         "token": "#supportindiefilms",
         "frequency": 1,
         "rank": 18566,
         "normalised_frequency": 0.000004628001258816342,
         "cumulative_frequency": 0.9998426479568371,
         "_deepnote_index_column": 18565
        },
        {
         "token": "navigating",
         "frequency": 1,
         "rank": 18567,
         "normalised_frequency": 0.000004628001258816342,
         "cumulative_frequency": 0.9998472759580959,
         "_deepnote_index_column": 18566
        },
        {
         "token": "#guwop",
         "frequency": 1,
         "rank": 18568,
         "normalised_frequency": 0.000004628001258816342,
         "cumulative_frequency": 0.9998519039593546,
         "_deepnote_index_column": 18567
        },
        {
         "token": "becuz",
         "frequency": 1,
         "rank": 18569,
         "normalised_frequency": 0.000004628001258816342,
         "cumulative_frequency": 0.9998565319606134,
         "_deepnote_index_column": 18568
        },
        {
         "token": "gut-wrenching",
         "frequency": 1,
         "rank": 18570,
         "normalised_frequency": 0.000004628001258816342,
         "cumulative_frequency": 0.9998611599618722,
         "_deepnote_index_column": 18569
        },
        {
         "token": "sham",
         "frequency": 1,
         "rank": 18571,
         "normalised_frequency": 0.000004628001258816342,
         "cumulative_frequency": 0.999865787963131,
         "_deepnote_index_column": 18570
        },
        {
         "token": "englan",
         "frequency": 1,
         "rank": 18572,
         "normalised_frequency": 0.000004628001258816342,
         "cumulative_frequency": 0.9998704159643897,
         "_deepnote_index_column": 18571
        },
        {
         "token": "2cthey",
         "frequency": 1,
         "rank": 18573,
         "normalised_frequency": 0.000004628001258816342,
         "cumulative_frequency": 0.9998750439656485,
         "_deepnote_index_column": 18572
        },
        {
         "token": "2gain",
         "frequency": 1,
         "rank": 18574,
         "normalised_frequency": 0.000004628001258816342,
         "cumulative_frequency": 0.9998796719669073,
         "_deepnote_index_column": 18573
        },
        {
         "token": "dialogues",
         "frequency": 1,
         "rank": 18575,
         "normalised_frequency": 0.000004628001258816342,
         "cumulative_frequency": 0.9998842999681661,
         "_deepnote_index_column": 18574
        },
        {
         "token": "harressment",
         "frequency": 1,
         "rank": 18576,
         "normalised_frequency": 0.000004628001258816342,
         "cumulative_frequency": 0.9998889279694249,
         "_deepnote_index_column": 18575
        },
        {
         "token": "bash",
         "frequency": 1,
         "rank": 18577,
         "normalised_frequency": 0.000004628001258816342,
         "cumulative_frequency": 0.9998935559706836,
         "_deepnote_index_column": 18576
        },
        {
         "token": "orgies",
         "frequency": 1,
         "rank": 18578,
         "normalised_frequency": 0.000004628001258816342,
         "cumulative_frequency": 0.9998981839719424,
         "_deepnote_index_column": 18577
        },
        {
         "token": "panny",
         "frequency": 1,
         "rank": 18579,
         "normalised_frequency": 0.000004628001258816342,
         "cumulative_frequency": 0.9999028119732012,
         "_deepnote_index_column": 18578
        },
        {
         "token": "sticking",
         "frequency": 1,
         "rank": 18580,
         "normalised_frequency": 0.000004628001258816342,
         "cumulative_frequency": 0.99990743997446,
         "_deepnote_index_column": 18579
        },
        {
         "token": "commies",
         "frequency": 1,
         "rank": 18581,
         "normalised_frequency": 0.000004628001258816342,
         "cumulative_frequency": 0.9999120679757187,
         "_deepnote_index_column": 18580
        },
        {
         "token": "pests",
         "frequency": 1,
         "rank": 18582,
         "normalised_frequency": 0.000004628001258816342,
         "cumulative_frequency": 0.9999166959769775,
         "_deepnote_index_column": 18581
        },
        {
         "token": "snakes",
         "frequency": 1,
         "rank": 18583,
         "normalised_frequency": 0.000004628001258816342,
         "cumulative_frequency": 0.9999213239782363,
         "_deepnote_index_column": 18582
        },
        {
         "token": "vermin",
         "frequency": 1,
         "rank": 18584,
         "normalised_frequency": 0.000004628001258816342,
         "cumulative_frequency": 0.9999259519794951,
         "_deepnote_index_column": 18583
        },
        {
         "token": "#marr",
         "frequency": 1,
         "rank": 18585,
         "normalised_frequency": 0.000004628001258816342,
         "cumulative_frequency": 0.9999305799807539,
         "_deepnote_index_column": 18584
        },
        {
         "token": "presented",
         "frequency": 1,
         "rank": 18586,
         "normalised_frequency": 0.000004628001258816342,
         "cumulative_frequency": 0.9999352079820126,
         "_deepnote_index_column": 18585
        },
        {
         "token": "5-10",
         "frequency": 1,
         "rank": 18587,
         "normalised_frequency": 0.000004628001258816342,
         "cumulative_frequency": 0.9999398359832714,
         "_deepnote_index_column": 18586
        },
        {
         "token": "throes",
         "frequency": 1,
         "rank": 18588,
         "normalised_frequency": 0.000004628001258816342,
         "cumulative_frequency": 0.9999444639845302,
         "_deepnote_index_column": 18587
        },
        {
         "token": "louder",
         "frequency": 1,
         "rank": 18589,
         "normalised_frequency": 0.000004628001258816342,
         "cumulative_frequency": 0.999949091985789,
         "_deepnote_index_column": 18588
        },
        {
         "token": "#howdoyoulikeusnow",
         "frequency": 1,
         "rank": 18590,
         "normalised_frequency": 0.000004628001258816342,
         "cumulative_frequency": 0.9999537199870477,
         "_deepnote_index_column": 18589
        },
        {
         "token": "#bloodycat",
         "frequency": 1,
         "rank": 18591,
         "normalised_frequency": 0.000004628001258816342,
         "cumulative_frequency": 0.9999583479883065,
         "_deepnote_index_column": 18590
        },
        {
         "token": "🤕",
         "frequency": 1,
         "rank": 18592,
         "normalised_frequency": 0.000004628001258816342,
         "cumulative_frequency": 0.9999629759895653,
         "_deepnote_index_column": 18591
        },
        {
         "token": "photoshopped",
         "frequency": 1,
         "rank": 18593,
         "normalised_frequency": 0.000004628001258816342,
         "cumulative_frequency": 0.9999676039908241,
         "_deepnote_index_column": 18592
        },
        {
         "token": "badass",
         "frequency": 1,
         "rank": 18594,
         "normalised_frequency": 0.000004628001258816342,
         "cumulative_frequency": 0.9999722319920828,
         "_deepnote_index_column": 18593
        },
        {
         "token": "romansh",
         "frequency": 1,
         "rank": 18595,
         "normalised_frequency": 0.000004628001258816342,
         "cumulative_frequency": 0.9999768599933416,
         "_deepnote_index_column": 18594
        },
        {
         "token": "weren",
         "frequency": 1,
         "rank": 18596,
         "normalised_frequency": 0.000004628001258816342,
         "cumulative_frequency": 0.9999814879946004,
         "_deepnote_index_column": 18595
        },
        {
         "token": "miaow-miaow-miaow",
         "frequency": 1,
         "rank": 18597,
         "normalised_frequency": 0.000004628001258816342,
         "cumulative_frequency": 0.9999861159958592,
         "_deepnote_index_column": 18596
        },
        {
         "token": "aaaaw",
         "frequency": 1,
         "rank": 18598,
         "normalised_frequency": 0.000004628001258816342,
         "cumulative_frequency": 0.999990743997118,
         "_deepnote_index_column": 18597
        },
        {
         "token": "food-hole",
         "frequency": 1,
         "rank": 18599,
         "normalised_frequency": 0.000004628001258816342,
         "cumulative_frequency": 0.9999953719983767,
         "_deepnote_index_column": 18598
        },
        {
         "token": "pic.why",
         "frequency": 1,
         "rank": 18600,
         "normalised_frequency": 0.000004628001258816342,
         "cumulative_frequency": 0.9999999999996355,
         "_deepnote_index_column": 18599
        }
       ]
      },
      "text/plain": "                   token  frequency   rank  normalised_frequency  \\\n0                      .       6277      1              0.029050   \n1                  @user       6014      2              0.027833   \n2                    the       5492      3              0.025417   \n3                     to       4931      4              0.022821   \n4                      ,       4356      5              0.020160   \n...                  ...        ...    ...                   ...   \n18595              weren          1  18596              0.000005   \n18596  miaow-miaow-miaow          1  18597              0.000005   \n18597              aaaaw          1  18598              0.000005   \n18598          food-hole          1  18599              0.000005   \n18599            pic.why          1  18600              0.000005   \n\n       cumulative_frequency  \n0                  0.029050  \n1                  0.056883  \n2                  0.082300  \n3                  0.105120  \n4                  0.125280  \n...                     ...  \n18595              0.999981  \n18596              0.999986  \n18597              0.999991  \n18598              0.999995  \n18599              1.000000  \n\n[18600 rows x 5 columns]",
      "text/html": "<div>\n<style scoped>\n    .dataframe tbody tr th:only-of-type {\n        vertical-align: middle;\n    }\n\n    .dataframe tbody tr th {\n        vertical-align: top;\n    }\n\n    .dataframe thead th {\n        text-align: right;\n    }\n</style>\n<table border=\"1\" class=\"dataframe\">\n  <thead>\n    <tr style=\"text-align: right;\">\n      <th></th>\n      <th>token</th>\n      <th>frequency</th>\n      <th>rank</th>\n      <th>normalised_frequency</th>\n      <th>cumulative_frequency</th>\n    </tr>\n  </thead>\n  <tbody>\n    <tr>\n      <th>0</th>\n      <td>.</td>\n      <td>6277</td>\n      <td>1</td>\n      <td>0.029050</td>\n      <td>0.029050</td>\n    </tr>\n    <tr>\n      <th>1</th>\n      <td>@user</td>\n      <td>6014</td>\n      <td>2</td>\n      <td>0.027833</td>\n      <td>0.056883</td>\n    </tr>\n    <tr>\n      <th>2</th>\n      <td>the</td>\n      <td>5492</td>\n      <td>3</td>\n      <td>0.025417</td>\n      <td>0.082300</td>\n    </tr>\n    <tr>\n      <th>3</th>\n      <td>to</td>\n      <td>4931</td>\n      <td>4</td>\n      <td>0.022821</td>\n      <td>0.105120</td>\n    </tr>\n    <tr>\n      <th>4</th>\n      <td>,</td>\n      <td>4356</td>\n      <td>5</td>\n      <td>0.020160</td>\n      <td>0.125280</td>\n    </tr>\n    <tr>\n      <th>...</th>\n      <td>...</td>\n      <td>...</td>\n      <td>...</td>\n      <td>...</td>\n      <td>...</td>\n    </tr>\n    <tr>\n      <th>18595</th>\n      <td>weren</td>\n      <td>1</td>\n      <td>18596</td>\n      <td>0.000005</td>\n      <td>0.999981</td>\n    </tr>\n    <tr>\n      <th>18596</th>\n      <td>miaow-miaow-miaow</td>\n      <td>1</td>\n      <td>18597</td>\n      <td>0.000005</td>\n      <td>0.999986</td>\n    </tr>\n    <tr>\n      <th>18597</th>\n      <td>aaaaw</td>\n      <td>1</td>\n      <td>18598</td>\n      <td>0.000005</td>\n      <td>0.999991</td>\n    </tr>\n    <tr>\n      <th>18598</th>\n      <td>food-hole</td>\n      <td>1</td>\n      <td>18599</td>\n      <td>0.000005</td>\n      <td>0.999995</td>\n    </tr>\n    <tr>\n      <th>18599</th>\n      <td>pic.why</td>\n      <td>1</td>\n      <td>18600</td>\n      <td>0.000005</td>\n      <td>1.000000</td>\n    </tr>\n  </tbody>\n</table>\n<p>18600 rows × 5 columns</p>\n</div>"
     },
     "metadata": {}
    }
   ]
  },
  {
   "cell_type": "code",
   "metadata": {
    "tags": [],
    "cell_id": "00055-e83734c0-8d5f-4ade-80c9-de9ab6ebe35e",
    "deepnote_to_be_reexecuted": false,
    "source_hash": "81b7fded",
    "execution_start": 1622701493648,
    "execution_millis": 99,
    "output_cleared": false,
    "deepnote_cell_type": "code"
   },
   "source": "VOCABULARY['emotion']",
   "execution_count": 30,
   "outputs": [
    {
     "output_type": "execute_result",
     "execution_count": 30,
     "data": {
      "application/vnd.deepnote.dataframe.v2+json": {
       "row_count": 9264,
       "column_count": 5,
       "columns": [
        {
         "name": "token",
         "dtype": "object",
         "stats": {
          "unique_count": 9264,
          "nan_count": 0,
          "categories": [
           {
            "name": "@user",
            "count": 1
           },
           {
            "name": ".",
            "count": 1
           },
           {
            "name": "9262 others",
            "count": 9262
           }
          ]
         }
        },
        {
         "name": "frequency",
         "dtype": "int64",
         "stats": {
          "unique_count": 153,
          "nan_count": 0,
          "min": "1",
          "max": "2019",
          "histogram": [
           {
            "bin_start": 1,
            "bin_end": 202.8,
            "count": 9225
           },
           {
            "bin_start": 202.8,
            "bin_end": 404.6,
            "count": 18
           },
           {
            "bin_start": 404.6,
            "bin_end": 606.4000000000001,
            "count": 7
           },
           {
            "bin_start": 606.4000000000001,
            "bin_end": 808.2,
            "count": 4
           },
           {
            "bin_start": 808.2,
            "bin_end": 1010,
            "count": 2
           },
           {
            "bin_start": 1010,
            "bin_end": 1211.8000000000002,
            "count": 4
           },
           {
            "bin_start": 1211.8000000000002,
            "bin_end": 1413.6000000000001,
            "count": 1
           },
           {
            "bin_start": 1413.6000000000001,
            "bin_end": 1615.4,
            "count": 1
           },
           {
            "bin_start": 1615.4,
            "bin_end": 1817.2,
            "count": 0
           },
           {
            "bin_start": 1817.2,
            "bin_end": 2019,
            "count": 2
           }
          ]
         }
        },
        {
         "name": "rank",
         "dtype": "int64",
         "stats": {
          "unique_count": 9264,
          "nan_count": 0,
          "min": "1",
          "max": "9264",
          "histogram": [
           {
            "bin_start": 1,
            "bin_end": 927.3,
            "count": 927
           },
           {
            "bin_start": 927.3,
            "bin_end": 1853.6,
            "count": 926
           },
           {
            "bin_start": 1853.6,
            "bin_end": 2779.8999999999996,
            "count": 926
           },
           {
            "bin_start": 2779.8999999999996,
            "bin_end": 3706.2,
            "count": 927
           },
           {
            "bin_start": 3706.2,
            "bin_end": 4632.5,
            "count": 926
           },
           {
            "bin_start": 4632.5,
            "bin_end": 5558.799999999999,
            "count": 926
           },
           {
            "bin_start": 5558.799999999999,
            "bin_end": 6485.099999999999,
            "count": 927
           },
           {
            "bin_start": 6485.099999999999,
            "bin_end": 7411.4,
            "count": 926
           },
           {
            "bin_start": 7411.4,
            "bin_end": 8337.699999999999,
            "count": 926
           },
           {
            "bin_start": 8337.699999999999,
            "bin_end": 9264,
            "count": 927
           }
          ]
         }
        },
        {
         "name": "normalised_frequency",
         "dtype": "float64",
         "stats": {
          "unique_count": 153,
          "nan_count": 0,
          "min": "1.6527286550094206e-05",
          "max": "0.033368591544640204",
          "histogram": [
           {
            "bin_start": 0.000016527286550094206,
            "bin_end": 0.0033517337123591053,
            "count": 9225
           },
           {
            "bin_start": 0.0033517337123591053,
            "bin_end": 0.006686940138168116,
            "count": 18
           },
           {
            "bin_start": 0.006686940138168116,
            "bin_end": 0.010022146563977128,
            "count": 7
           },
           {
            "bin_start": 0.010022146563977128,
            "bin_end": 0.01335735298978614,
            "count": 4
           },
           {
            "bin_start": 0.01335735298978614,
            "bin_end": 0.01669255941559515,
            "count": 2
           },
           {
            "bin_start": 0.01669255941559515,
            "bin_end": 0.02002776584140416,
            "count": 4
           },
           {
            "bin_start": 0.02002776584140416,
            "bin_end": 0.023362972267213174,
            "count": 1
           },
           {
            "bin_start": 0.023362972267213174,
            "bin_end": 0.026698178693022184,
            "count": 1
           },
           {
            "bin_start": 0.026698178693022184,
            "bin_end": 0.030033385118831194,
            "count": 0
           },
           {
            "bin_start": 0.030033385118831194,
            "bin_end": 0.033368591544640204,
            "count": 2
           }
          ]
         }
        },
        {
         "name": "cumulative_frequency",
         "dtype": "float64",
         "stats": {
          "unique_count": 9264,
          "nan_count": 0,
          "min": "0.033368591544640204",
          "max": "1.0000000000001081",
          "histogram": [
           {
            "bin_start": 0.033368591544640204,
            "bin_end": 0.130031732390187,
            "count": 4
           },
           {
            "bin_start": 0.130031732390187,
            "bin_end": 0.22669487323573378,
            "count": 7
           },
           {
            "bin_start": 0.22669487323573378,
            "bin_end": 0.3233580140812806,
            "count": 11
           },
           {
            "bin_start": 0.3233580140812806,
            "bin_end": 0.4200211549268274,
            "count": 22
           },
           {
            "bin_start": 0.4200211549268274,
            "bin_end": 0.5166842957723742,
            "count": 53
           },
           {
            "bin_start": 0.5166842957723742,
            "bin_end": 0.613347436617921,
            "count": 135
           },
           {
            "bin_start": 0.613347436617921,
            "bin_end": 0.7100105774634677,
            "count": 320
           },
           {
            "bin_start": 0.7100105774634677,
            "bin_end": 0.8066737183090146,
            "count": 818
           },
           {
            "bin_start": 0.8066737183090146,
            "bin_end": 0.9033368591545614,
            "count": 2290
           },
           {
            "bin_start": 0.9033368591545614,
            "bin_end": 1.0000000000001081,
            "count": 5604
           }
          ]
         }
        },
        {
         "name": "_deepnote_index_column",
         "dtype": "int64"
        }
       ],
       "rows_top": [
        {
         "token": "@user",
         "frequency": 2019,
         "rank": 1,
         "normalised_frequency": 0.033368591544640204,
         "cumulative_frequency": 0.033368591544640204,
         "_deepnote_index_column": 0
        },
        {
         "token": ".",
         "frequency": 1977,
         "rank": 2,
         "normalised_frequency": 0.03267444550953624,
         "cumulative_frequency": 0.06604303705417644,
         "_deepnote_index_column": 1
        },
        {
         "token": "the",
         "frequency": 1519,
         "rank": 3,
         "normalised_frequency": 0.0251049482695931,
         "cumulative_frequency": 0.09114798532376954,
         "_deepnote_index_column": 2
        },
        {
         "token": "to",
         "frequency": 1258,
         "rank": 4,
         "normalised_frequency": 0.02079132648001851,
         "cumulative_frequency": 0.11193931180378805,
         "_deepnote_index_column": 3
        },
        {
         "token": "i",
         "frequency": 1177,
         "rank": 5,
         "normalised_frequency": 0.01945261626946088,
         "cumulative_frequency": 0.13139192807324893,
         "_deepnote_index_column": 4
        },
        {
         "token": "is",
         "frequency": 1095,
         "rank": 6,
         "normalised_frequency": 0.018097378772353154,
         "cumulative_frequency": 0.14948930684560208,
         "_deepnote_index_column": 5
        },
        {
         "token": ",",
         "frequency": 1089,
         "rank": 7,
         "normalised_frequency": 0.01799821505305259,
         "cumulative_frequency": 0.16748752189865468,
         "_deepnote_index_column": 6
        },
        {
         "token": "a",
         "frequency": 1055,
         "rank": 8,
         "normalised_frequency": 0.017436287310349387,
         "cumulative_frequency": 0.18492380920900406,
         "_deepnote_index_column": 7
        },
        {
         "token": "and",
         "frequency": 888,
         "rank": 9,
         "normalised_frequency": 0.014676230456483655,
         "cumulative_frequency": 0.19960003966548773,
         "_deepnote_index_column": 8
        },
        {
         "token": "you",
         "frequency": 835,
         "rank": 10,
         "normalised_frequency": 0.013800284269328661,
         "cumulative_frequency": 0.2134003239348164,
         "_deepnote_index_column": 9
        },
        {
         "token": "!",
         "frequency": 762,
         "rank": 11,
         "normalised_frequency": 0.012593792351171784,
         "cumulative_frequency": 0.22599411628598817,
         "_deepnote_index_column": 10
        },
        {
         "token": "not",
         "frequency": 700,
         "rank": 12,
         "normalised_frequency": 0.011569100585065944,
         "cumulative_frequency": 0.2375632168710541,
         "_deepnote_index_column": 11
        },
        {
         "token": "of",
         "frequency": 686,
         "rank": 13,
         "normalised_frequency": 0.011337718573364625,
         "cumulative_frequency": 0.24890093544441874,
         "_deepnote_index_column": 12
        },
        {
         "token": "it",
         "frequency": 645,
         "rank": 14,
         "normalised_frequency": 0.010660099824810762,
         "cumulative_frequency": 0.2595610352692295,
         "_deepnote_index_column": 13
        },
        {
         "token": "in",
         "frequency": 567,
         "rank": 15,
         "normalised_frequency": 0.009370971473903415,
         "cumulative_frequency": 0.26893200674313295,
         "_deepnote_index_column": 14
        },
        {
         "token": "that",
         "frequency": 529,
         "rank": 16,
         "normalised_frequency": 0.008742934584999834,
         "cumulative_frequency": 0.27767494132813275,
         "_deepnote_index_column": 15
        },
        {
         "token": "my",
         "frequency": 497,
         "rank": 17,
         "normalised_frequency": 0.00821406141539682,
         "cumulative_frequency": 0.2858890027435296,
         "_deepnote_index_column": 16
        },
        {
         "token": "?",
         "frequency": 429,
         "rank": 18,
         "normalised_frequency": 0.007090205929990414,
         "cumulative_frequency": 0.29297920867352,
         "_deepnote_index_column": 17
        },
        {
         "token": "for",
         "frequency": 417,
         "rank": 19,
         "normalised_frequency": 0.006891878491389284,
         "cumulative_frequency": 0.2998710871649093,
         "_deepnote_index_column": 18
        },
        {
         "token": "'",
         "frequency": 416,
         "rank": 20,
         "normalised_frequency": 0.00687535120483919,
         "cumulative_frequency": 0.30674643836974846,
         "_deepnote_index_column": 19
        },
        {
         "token": "I",
         "frequency": 411,
         "rank": 21,
         "normalised_frequency": 0.0067927147720887185,
         "cumulative_frequency": 0.31353915314183717,
         "_deepnote_index_column": 20
        },
        {
         "token": "am",
         "frequency": 382,
         "rank": 22,
         "normalised_frequency": 0.006313423462135987,
         "cumulative_frequency": 0.31985257660397315,
         "_deepnote_index_column": 21
        },
        {
         "token": "on",
         "frequency": 379,
         "rank": 23,
         "normalised_frequency": 0.006263841602485704,
         "cumulative_frequency": 0.32611641820645887,
         "_deepnote_index_column": 22
        },
        {
         "token": "have",
         "frequency": 372,
         "rank": 24,
         "normalised_frequency": 0.006148150596635044,
         "cumulative_frequency": 0.3322645688030939,
         "_deepnote_index_column": 23
        },
        {
         "token": "do",
         "frequency": 363,
         "rank": 25,
         "normalised_frequency": 0.005999405017684196,
         "cumulative_frequency": 0.3382639738207781,
         "_deepnote_index_column": 24
        },
        {
         "token": "me",
         "frequency": 356,
         "rank": 26,
         "normalised_frequency": 0.005883714011833538,
         "cumulative_frequency": 0.3441476878326116,
         "_deepnote_index_column": 25
        },
        {
         "token": "are",
         "frequency": 330,
         "rank": 27,
         "normalised_frequency": 0.005454004561531087,
         "cumulative_frequency": 0.34960169239414274,
         "_deepnote_index_column": 26
        },
        {
         "token": "so",
         "frequency": 298,
         "rank": 28,
         "normalised_frequency": 0.0049251313919280735,
         "cumulative_frequency": 0.3545268237860708,
         "_deepnote_index_column": 27
        },
        {
         "token": "this",
         "frequency": 298,
         "rank": 29,
         "normalised_frequency": 0.0049251313919280735,
         "cumulative_frequency": 0.3594519551779989,
         "_deepnote_index_column": 28
        },
        {
         "token": "with",
         "frequency": 296,
         "rank": 30,
         "normalised_frequency": 0.004892076818827885,
         "cumulative_frequency": 0.36434403199682674,
         "_deepnote_index_column": 29
        },
        {
         "token": "just",
         "frequency": 280,
         "rank": 31,
         "normalised_frequency": 0.004627640234026378,
         "cumulative_frequency": 0.36897167223085314,
         "_deepnote_index_column": 30
        },
        {
         "token": "be",
         "frequency": 269,
         "rank": 32,
         "normalised_frequency": 0.004445840081975341,
         "cumulative_frequency": 0.3734175123128285,
         "_deepnote_index_column": 31
        },
        {
         "token": "...",
         "frequency": 266,
         "rank": 33,
         "normalised_frequency": 0.004396258222325059,
         "cumulative_frequency": 0.3778137705351535,
         "_deepnote_index_column": 32
        },
        {
         "token": "but",
         "frequency": 265,
         "rank": 34,
         "normalised_frequency": 0.0043797309357749645,
         "cumulative_frequency": 0.3821935014709285,
         "_deepnote_index_column": 33
        },
        {
         "token": "at",
         "frequency": 245,
         "rank": 35,
         "normalised_frequency": 0.004049185204773081,
         "cumulative_frequency": 0.3862426866757016,
         "_deepnote_index_column": 34
        },
        {
         "token": "was",
         "frequency": 242,
         "rank": 36,
         "normalised_frequency": 0.0039996033451227975,
         "cumulative_frequency": 0.3902422900208244,
         "_deepnote_index_column": 35
        },
        {
         "token": "your",
         "frequency": 233,
         "rank": 37,
         "normalised_frequency": 0.0038508577661719497,
         "cumulative_frequency": 0.39409314778699633,
         "_deepnote_index_column": 36
        },
        {
         "token": "like",
         "frequency": 226,
         "rank": 38,
         "normalised_frequency": 0.0037351667603212906,
         "cumulative_frequency": 0.39782831454731765,
         "_deepnote_index_column": 37
        },
        {
         "token": "all",
         "frequency": 210,
         "rank": 39,
         "normalised_frequency": 0.003470730175519783,
         "cumulative_frequency": 0.40129904472283745,
         "_deepnote_index_column": 38
        },
        {
         "token": "when",
         "frequency": 198,
         "rank": 40,
         "normalised_frequency": 0.0032724027369186526,
         "cumulative_frequency": 0.4045714474597561,
         "_deepnote_index_column": 39
        },
        {
         "token": "will",
         "frequency": 194,
         "rank": 41,
         "normalised_frequency": 0.0032062935907182758,
         "cumulative_frequency": 0.4077777410504744,
         "_deepnote_index_column": 40
        },
        {
         "token": "if",
         "frequency": 193,
         "rank": 42,
         "normalised_frequency": 0.0031897663041681817,
         "cumulative_frequency": 0.41096750735464255,
         "_deepnote_index_column": 41
        },
        {
         "token": "he",
         "frequency": 192,
         "rank": 43,
         "normalised_frequency": 0.0031732390176180876,
         "cumulative_frequency": 0.4141407463722606,
         "_deepnote_index_column": 42
        },
        {
         "token": "-",
         "frequency": 190,
         "rank": 44,
         "normalised_frequency": 0.003140184444517899,
         "cumulative_frequency": 0.41728093081677853,
         "_deepnote_index_column": 43
        },
        {
         "token": "what",
         "frequency": 188,
         "rank": 45,
         "normalised_frequency": 0.0031071298714177107,
         "cumulative_frequency": 0.42038806068819623,
         "_deepnote_index_column": 44
        },
        {
         "token": "they",
         "frequency": 179,
         "rank": 46,
         "normalised_frequency": 0.002958384292466863,
         "cumulative_frequency": 0.4233464449806631,
         "_deepnote_index_column": 45
        },
        {
         "token": "about",
         "frequency": 173,
         "rank": 47,
         "normalised_frequency": 0.0028592205731662974,
         "cumulative_frequency": 0.4262056655538294,
         "_deepnote_index_column": 46
        },
        {
         "token": "out",
         "frequency": 170,
         "rank": 48,
         "normalised_frequency": 0.002809638713516015,
         "cumulative_frequency": 0.4290153042673454,
         "_deepnote_index_column": 47
        },
        {
         "token": "get",
         "frequency": 168,
         "rank": 49,
         "normalised_frequency": 0.0027765841404158264,
         "cumulative_frequency": 0.4317918884077612,
         "_deepnote_index_column": 48
        },
        {
         "token": "up",
         "frequency": 167,
         "rank": 50,
         "normalised_frequency": 0.0027600568538657323,
         "cumulative_frequency": 0.43455194526162694,
         "_deepnote_index_column": 49
        },
        {
         "token": "we",
         "frequency": 166,
         "rank": 51,
         "normalised_frequency": 0.0027435295673156382,
         "cumulative_frequency": 0.4372954748289426,
         "_deepnote_index_column": 50
        },
        {
         "token": "&",
         "frequency": 166,
         "rank": 52,
         "normalised_frequency": 0.0027435295673156382,
         "cumulative_frequency": 0.44003900439625826,
         "_deepnote_index_column": 51
        },
        {
         "token": "no",
         "frequency": 161,
         "rank": 53,
         "normalised_frequency": 0.0026608931345651673,
         "cumulative_frequency": 0.44269989753082345,
         "_deepnote_index_column": 52
        },
        {
         "token": "by",
         "frequency": 157,
         "rank": 54,
         "normalised_frequency": 0.0025947839883647904,
         "cumulative_frequency": 0.4452946815191882,
         "_deepnote_index_column": 53
        },
        {
         "token": "from",
         "frequency": 146,
         "rank": 55,
         "normalised_frequency": 0.002412983836313754,
         "cumulative_frequency": 0.447707665355502,
         "_deepnote_index_column": 54
        },
        {
         "token": "people",
         "frequency": 139,
         "rank": 56,
         "normalised_frequency": 0.0022972928304630944,
         "cumulative_frequency": 0.4500049581859651,
         "_deepnote_index_column": 55
        },
        {
         "token": "can",
         "frequency": 135,
         "rank": 57,
         "normalised_frequency": 0.0022311836842627175,
         "cumulative_frequency": 0.4522361418702278,
         "_deepnote_index_column": 56
        },
        {
         "token": "how",
         "frequency": 135,
         "rank": 58,
         "normalised_frequency": 0.0022311836842627175,
         "cumulative_frequency": 0.45446732555449054,
         "_deepnote_index_column": 57
        },
        {
         "token": "would",
         "frequency": 132,
         "rank": 59,
         "normalised_frequency": 0.0021816018246124352,
         "cumulative_frequency": 0.45664892737910295,
         "_deepnote_index_column": 58
        },
        {
         "token": "as",
         "frequency": 129,
         "rank": 60,
         "normalised_frequency": 0.0021320199649621525,
         "cumulative_frequency": 0.4587809473440651,
         "_deepnote_index_column": 59
        },
        {
         "token": "or",
         "frequency": 126,
         "rank": 61,
         "normalised_frequency": 0.0020824381053118697,
         "cumulative_frequency": 0.460863385449377,
         "_deepnote_index_column": 60
        },
        {
         "token": ":",
         "frequency": 124,
         "rank": 62,
         "normalised_frequency": 0.0020493835322116815,
         "cumulative_frequency": 0.4629127689815887,
         "_deepnote_index_column": 61
        },
        {
         "token": "an",
         "frequency": 120,
         "rank": 63,
         "normalised_frequency": 0.0019832743860113047,
         "cumulative_frequency": 0.4648960433676,
         "_deepnote_index_column": 62
        },
        {
         "token": "who",
         "frequency": 117,
         "rank": 64,
         "normalised_frequency": 0.0019336925263610221,
         "cumulative_frequency": 0.466829735893961,
         "_deepnote_index_column": 63
        },
        {
         "token": "there",
         "frequency": 116,
         "rank": 65,
         "normalised_frequency": 0.0019171652398109278,
         "cumulative_frequency": 0.46874690113377193,
         "_deepnote_index_column": 64
        },
        {
         "token": "one",
         "frequency": 115,
         "rank": 66,
         "normalised_frequency": 0.0019006379532608337,
         "cumulative_frequency": 0.4706475390870328,
         "_deepnote_index_column": 65
        },
        {
         "token": "now",
         "frequency": 110,
         "rank": 67,
         "normalised_frequency": 0.0018180015205103625,
         "cumulative_frequency": 0.47246554060754314,
         "_deepnote_index_column": 66
        },
        {
         "token": "his",
         "frequency": 109,
         "rank": 68,
         "normalised_frequency": 0.0018014742339602684,
         "cumulative_frequency": 0.4742670148415034,
         "_deepnote_index_column": 67
        },
        {
         "token": "has",
         "frequency": 108,
         "rank": 69,
         "normalised_frequency": 0.0017849469474101741,
         "cumulative_frequency": 0.47605196178891357,
         "_deepnote_index_column": 68
        },
        {
         "token": "cannot",
         "frequency": 106,
         "rank": 70,
         "normalised_frequency": 0.0017518923743099857,
         "cumulative_frequency": 0.4778038541632236,
         "_deepnote_index_column": 69
        },
        {
         "token": "want",
         "frequency": 105,
         "rank": 71,
         "normalised_frequency": 0.0017353650877598916,
         "cumulative_frequency": 0.4795392192509835,
         "_deepnote_index_column": 70
        },
        {
         "token": "know",
         "frequency": 101,
         "rank": 72,
         "normalised_frequency": 0.0016692559415595147,
         "cumulative_frequency": 0.481208475192543,
         "_deepnote_index_column": 71
        },
        {
         "token": "her",
         "frequency": 98,
         "rank": 73,
         "normalised_frequency": 0.0016196740819092322,
         "cumulative_frequency": 0.4828281492744522,
         "_deepnote_index_column": 72
        },
        {
         "token": "going",
         "frequency": 97,
         "rank": 74,
         "normalised_frequency": 0.0016031467953591379,
         "cumulative_frequency": 0.48443129606981133,
         "_deepnote_index_column": 73
        },
        {
         "token": "she",
         "frequency": 97,
         "rank": 75,
         "normalised_frequency": 0.0016031467953591379,
         "cumulative_frequency": 0.48603444286517045,
         "_deepnote_index_column": 74
        },
        {
         "token": "think",
         "frequency": 97,
         "rank": 76,
         "normalised_frequency": 0.0016031467953591379,
         "cumulative_frequency": 0.48763758966052956,
         "_deepnote_index_column": 75
        },
        {
         "token": "did",
         "frequency": 95,
         "rank": 77,
         "normalised_frequency": 0.0015700922222589495,
         "cumulative_frequency": 0.4892076818827885,
         "_deepnote_index_column": 76
        },
        {
         "token": "been",
         "frequency": 94,
         "rank": 78,
         "normalised_frequency": 0.0015535649357088554,
         "cumulative_frequency": 0.49076124681849737,
         "_deepnote_index_column": 77
        },
        {
         "token": "why",
         "frequency": 90,
         "rank": 79,
         "normalised_frequency": 0.0014874557895084785,
         "cumulative_frequency": 0.49224870260800585,
         "_deepnote_index_column": 78
        },
        {
         "token": "some",
         "frequency": 89,
         "rank": 80,
         "normalised_frequency": 0.0014709285029583844,
         "cumulative_frequency": 0.49371963111096423,
         "_deepnote_index_column": 79
        },
        {
         "token": "really",
         "frequency": 88,
         "rank": 81,
         "normalised_frequency": 0.00145440121640829,
         "cumulative_frequency": 0.4951740323273725,
         "_deepnote_index_column": 80
        },
        {
         "token": "go",
         "frequency": 88,
         "rank": 82,
         "normalised_frequency": 0.00145440121640829,
         "cumulative_frequency": 0.4966284335437808,
         "_deepnote_index_column": 81
        },
        {
         "token": "time",
         "frequency": 87,
         "rank": 83,
         "normalised_frequency": 0.001437873929858196,
         "cumulative_frequency": 0.49806630747363895,
         "_deepnote_index_column": 82
        },
        {
         "token": "day",
         "frequency": 85,
         "rank": 84,
         "normalised_frequency": 0.0014048193567580075,
         "cumulative_frequency": 0.49947112683039696,
         "_deepnote_index_column": 83
        },
        {
         "token": "because",
         "frequency": 85,
         "rank": 85,
         "normalised_frequency": 0.0014048193567580075,
         "cumulative_frequency": 0.5008759461871549,
         "_deepnote_index_column": 84
        },
        {
         "token": "even",
         "frequency": 84,
         "rank": 86,
         "normalised_frequency": 0.0013882920702079132,
         "cumulative_frequency": 0.5022642382573629,
         "_deepnote_index_column": 85
        },
        {
         "token": "got",
         "frequency": 83,
         "rank": 87,
         "normalised_frequency": 0.0013717647836578191,
         "cumulative_frequency": 0.5036360030410207,
         "_deepnote_index_column": 86
        },
        {
         "token": "..",
         "frequency": 82,
         "rank": 88,
         "normalised_frequency": 0.0013552374971077248,
         "cumulative_frequency": 0.5049912405381285,
         "_deepnote_index_column": 87
        },
        {
         "token": "back",
         "frequency": 80,
         "rank": 89,
         "normalised_frequency": 0.0013221829240075364,
         "cumulative_frequency": 0.506313423462136,
         "_deepnote_index_column": 88
        },
        {
         "token": "too",
         "frequency": 79,
         "rank": 90,
         "normalised_frequency": 0.0013056556374574423,
         "cumulative_frequency": 0.5076190790995935,
         "_deepnote_index_column": 89
        },
        {
         "token": "their",
         "frequency": 79,
         "rank": 91,
         "normalised_frequency": 0.0013056556374574423,
         "cumulative_frequency": 0.5089247347370509,
         "_deepnote_index_column": 90
        },
        {
         "token": "/",
         "frequency": 77,
         "rank": 92,
         "normalised_frequency": 0.0012726010643572538,
         "cumulative_frequency": 0.5101973358014081,
         "_deepnote_index_column": 91
        },
        {
         "token": "love",
         "frequency": 77,
         "rank": 93,
         "normalised_frequency": 0.0012726010643572538,
         "cumulative_frequency": 0.5114699368657654,
         "_deepnote_index_column": 92
        },
        {
         "token": "over",
         "frequency": 77,
         "rank": 94,
         "normalised_frequency": 0.0012726010643572538,
         "cumulative_frequency": 0.5127425379301226,
         "_deepnote_index_column": 93
        },
        {
         "token": "them",
         "frequency": 77,
         "rank": 95,
         "normalised_frequency": 0.0012726010643572538,
         "cumulative_frequency": 0.5140151389944798,
         "_deepnote_index_column": 94
        },
        {
         "token": "good",
         "frequency": 76,
         "rank": 96,
         "normalised_frequency": 0.0012560737778071595,
         "cumulative_frequency": 0.5152712127722869,
         "_deepnote_index_column": 95
        },
        {
         "token": "off",
         "frequency": 76,
         "rank": 97,
         "normalised_frequency": 0.0012560737778071595,
         "cumulative_frequency": 0.5165272865500941,
         "_deepnote_index_column": 96
        },
        {
         "token": "more",
         "frequency": 75,
         "rank": 98,
         "normalised_frequency": 0.0012395464912570654,
         "cumulative_frequency": 0.5177668330413511,
         "_deepnote_index_column": 97
        },
        {
         "token": "being",
         "frequency": 75,
         "rank": 99,
         "normalised_frequency": 0.0012395464912570654,
         "cumulative_frequency": 0.5190063795326081,
         "_deepnote_index_column": 98
        },
        {
         "token": "still",
         "frequency": 75,
         "rank": 100,
         "normalised_frequency": 0.0012395464912570654,
         "cumulative_frequency": 0.5202459260238651,
         "_deepnote_index_column": 99
        }
       ],
       "rows_bottom": [
        {
         "token": "wi",
         "frequency": 1,
         "rank": 9165,
         "normalised_frequency": 0.000016527286550094206,
         "cumulative_frequency": 0.9983637986316478,
         "_deepnote_index_column": 9164
        },
        {
         "token": "cope",
         "frequency": 1,
         "rank": 9166,
         "normalised_frequency": 0.000016527286550094206,
         "cumulative_frequency": 0.9983803259181979,
         "_deepnote_index_column": 9165
        },
        {
         "token": "#perilous",
         "frequency": 1,
         "rank": 9167,
         "normalised_frequency": 0.000016527286550094206,
         "cumulative_frequency": 0.998396853204748,
         "_deepnote_index_column": 9166
        },
        {
         "token": "burner",
         "frequency": 1,
         "rank": 9168,
         "normalised_frequency": 0.000016527286550094206,
         "cumulative_frequency": 0.9984133804912981,
         "_deepnote_index_column": 9167
        },
        {
         "token": "#brexit",
         "frequency": 1,
         "rank": 9169,
         "normalised_frequency": 0.000016527286550094206,
         "cumulative_frequency": 0.9984299077778482,
         "_deepnote_index_column": 9168
        },
        {
         "token": "#remain",
         "frequency": 1,
         "rank": 9170,
         "normalised_frequency": 0.000016527286550094206,
         "cumulative_frequency": 0.9984464350643983,
         "_deepnote_index_column": 9169
        },
        {
         "token": "mio",
         "frequency": 1,
         "rank": 9171,
         "normalised_frequency": 0.000016527286550094206,
         "cumulative_frequency": 0.9984629623509484,
         "_deepnote_index_column": 9170
        },
        {
         "token": "17.2",
         "frequency": 1,
         "rank": 9172,
         "normalised_frequency": 0.000016527286550094206,
         "cumulative_frequency": 0.9984794896374986,
         "_deepnote_index_column": 9171
        },
        {
         "token": "mat",
         "frequency": 1,
         "rank": 9173,
         "normalised_frequency": 0.000016527286550094206,
         "cumulative_frequency": 0.9984960169240487,
         "_deepnote_index_column": 9172
        },
        {
         "token": "request",
         "frequency": 1,
         "rank": 9174,
         "normalised_frequency": 0.000016527286550094206,
         "cumulative_frequency": 0.9985125442105988,
         "_deepnote_index_column": 9173
        },
        {
         "token": "kittens",
         "frequency": 1,
         "rank": 9175,
         "normalised_frequency": 0.000016527286550094206,
         "cumulative_frequency": 0.9985290714971489,
         "_deepnote_index_column": 9174
        },
        {
         "token": "involvement",
         "frequency": 1,
         "rank": 9176,
         "normalised_frequency": 0.000016527286550094206,
         "cumulative_frequency": 0.998545598783699,
         "_deepnote_index_column": 9175
        },
        {
         "token": "kal",
         "frequency": 1,
         "rank": 9177,
         "normalised_frequency": 0.000016527286550094206,
         "cumulative_frequency": 0.9985621260702491,
         "_deepnote_index_column": 9176
        },
        {
         "token": "pk",
         "frequency": 1,
         "rank": 9178,
         "normalised_frequency": 0.000016527286550094206,
         "cumulative_frequency": 0.9985786533567992,
         "_deepnote_index_column": 9177
        },
        {
         "token": "crucial",
         "frequency": 1,
         "rank": 9179,
         "normalised_frequency": 0.000016527286550094206,
         "cumulative_frequency": 0.9985951806433493,
         "_deepnote_index_column": 9178
        },
        {
         "token": "legally",
         "frequency": 1,
         "rank": 9180,
         "normalised_frequency": 0.000016527286550094206,
         "cumulative_frequency": 0.9986117079298994,
         "_deepnote_index_column": 9179
        },
        {
         "token": "#fallsongs",
         "frequency": 1,
         "rank": 9181,
         "normalised_frequency": 0.000016527286550094206,
         "cumulative_frequency": 0.9986282352164495,
         "_deepnote_index_column": 9180
        },
        {
         "token": "chills",
         "frequency": 1,
         "rank": 9182,
         "normalised_frequency": 0.000016527286550094206,
         "cumulative_frequency": 0.9986447625029996,
         "_deepnote_index_column": 9181
        },
        {
         "token": "amaity",
         "frequency": 1,
         "rank": 9183,
         "normalised_frequency": 0.000016527286550094206,
         "cumulative_frequency": 0.9986612897895497,
         "_deepnote_index_column": 9182
        },
        {
         "token": "ir",
         "frequency": 1,
         "rank": 9184,
         "normalised_frequency": 0.000016527286550094206,
         "cumulative_frequency": 0.9986778170760998,
         "_deepnote_index_column": 9183
        },
        {
         "token": "vas",
         "frequency": 1,
         "rank": 9185,
         "normalised_frequency": 0.000016527286550094206,
         "cumulative_frequency": 0.9986943443626499,
         "_deepnote_index_column": 9184
        },
        {
         "token": "glance",
         "frequency": 1,
         "rank": 9186,
         "normalised_frequency": 0.000016527286550094206,
         "cumulative_frequency": 0.9987108716492,
         "_deepnote_index_column": 9185
        },
        {
         "token": "cave",
         "frequency": 1,
         "rank": 9187,
         "normalised_frequency": 0.000016527286550094206,
         "cumulative_frequency": 0.9987273989357501,
         "_deepnote_index_column": 9186
        },
        {
         "token": "logical",
         "frequency": 1,
         "rank": 9188,
         "normalised_frequency": 0.000016527286550094206,
         "cumulative_frequency": 0.9987439262223002,
         "_deepnote_index_column": 9187
        },
        {
         "token": "visceral-not",
         "frequency": 1,
         "rank": 9189,
         "normalised_frequency": 0.000016527286550094206,
         "cumulative_frequency": 0.9987604535088503,
         "_deepnote_index_column": 9188
        },
        {
         "token": "rational",
         "frequency": 1,
         "rank": 9190,
         "normalised_frequency": 0.000016527286550094206,
         "cumulative_frequency": 0.9987769807954004,
         "_deepnote_index_column": 9189
        },
        {
         "token": "controlled",
         "frequency": 1,
         "rank": 9191,
         "normalised_frequency": 0.000016527286550094206,
         "cumulative_frequency": 0.9987935080819506,
         "_deepnote_index_column": 9190
        },
        {
         "token": "criticise",
         "frequency": 1,
         "rank": 9192,
         "normalised_frequency": 0.000016527286550094206,
         "cumulative_frequency": 0.9988100353685007,
         "_deepnote_index_column": 9191
        },
        {
         "token": "pundits",
         "frequency": 1,
         "rank": 9193,
         "normalised_frequency": 0.000016527286550094206,
         "cumulative_frequency": 0.9988265626550508,
         "_deepnote_index_column": 9192
        },
        {
         "token": "damning",
         "frequency": 1,
         "rank": 9194,
         "normalised_frequency": 0.000016527286550094206,
         "cumulative_frequency": 0.9988430899416009,
         "_deepnote_index_column": 9193
        },
        {
         "token": "uttered",
         "frequency": 1,
         "rank": 9195,
         "normalised_frequency": 0.000016527286550094206,
         "cumulative_frequency": 0.998859617228151,
         "_deepnote_index_column": 9194
        },
        {
         "token": "boshan",
         "frequency": 1,
         "rank": 9196,
         "normalised_frequency": 0.000016527286550094206,
         "cumulative_frequency": 0.9988761445147011,
         "_deepnote_index_column": 9195
        },
        {
         "token": "patton",
         "frequency": 1,
         "rank": 9197,
         "normalised_frequency": 0.000016527286550094206,
         "cumulative_frequency": 0.9988926718012512,
         "_deepnote_index_column": 9196
        },
        {
         "token": "2am",
         "frequency": 1,
         "rank": 9198,
         "normalised_frequency": 0.000016527286550094206,
         "cumulative_frequency": 0.9989091990878013,
         "_deepnote_index_column": 9197
        },
        {
         "token": "wakes",
         "frequency": 1,
         "rank": 9199,
         "normalised_frequency": 0.000016527286550094206,
         "cumulative_frequency": 0.9989257263743514,
         "_deepnote_index_column": 9198
        },
        {
         "token": "yang",
         "frequency": 1,
         "rank": 9200,
         "normalised_frequency": 0.000016527286550094206,
         "cumulative_frequency": 0.9989422536609015,
         "_deepnote_index_column": 9199
        },
        {
         "token": "waits",
         "frequency": 1,
         "rank": 9201,
         "normalised_frequency": 0.000016527286550094206,
         "cumulative_frequency": 0.9989587809474516,
         "_deepnote_index_column": 9200
        },
        {
         "token": "cowan",
         "frequency": 1,
         "rank": 9202,
         "normalised_frequency": 0.000016527286550094206,
         "cumulative_frequency": 0.9989753082340017,
         "_deepnote_index_column": 9201
        },
        {
         "token": "motlop",
         "frequency": 1,
         "rank": 9203,
         "normalised_frequency": 0.000016527286550094206,
         "cumulative_frequency": 0.9989918355205518,
         "_deepnote_index_column": 9202
        },
        {
         "token": "gameing",
         "frequency": 1,
         "rank": 9204,
         "normalised_frequency": 0.000016527286550094206,
         "cumulative_frequency": 0.9990083628071019,
         "_deepnote_index_column": 9203
        },
        {
         "token": "takeing",
         "frequency": 1,
         "rank": 9205,
         "normalised_frequency": 0.000016527286550094206,
         "cumulative_frequency": 0.999024890093652,
         "_deepnote_index_column": 9204
        },
        {
         "token": "dame",
         "frequency": 1,
         "rank": 9206,
         "normalised_frequency": 0.000016527286550094206,
         "cumulative_frequency": 0.9990414173802021,
         "_deepnote_index_column": 9205
        },
        {
         "token": "clash",
         "frequency": 1,
         "rank": 9207,
         "normalised_frequency": 0.000016527286550094206,
         "cumulative_frequency": 0.9990579446667522,
         "_deepnote_index_column": 9206
        },
        {
         "token": "🍳",
         "frequency": 1,
         "rank": 9208,
         "normalised_frequency": 0.000016527286550094206,
         "cumulative_frequency": 0.9990744719533023,
         "_deepnote_index_column": 9207
        },
        {
         "token": "slipper",
         "frequency": 1,
         "rank": 9209,
         "normalised_frequency": 0.000016527286550094206,
         "cumulative_frequency": 0.9990909992398525,
         "_deepnote_index_column": 9208
        },
        {
         "token": "#whypay",
         "frequency": 1,
         "rank": 9210,
         "normalised_frequency": 0.000016527286550094206,
         "cumulative_frequency": 0.9991075265264026,
         "_deepnote_index_column": 9209
        },
        {
         "token": "hogging",
         "frequency": 1,
         "rank": 9211,
         "normalised_frequency": 0.000016527286550094206,
         "cumulative_frequency": 0.9991240538129527,
         "_deepnote_index_column": 9210
        },
        {
         "token": "#ivebeenbusierwhyamioverwhelmed",
         "frequency": 1,
         "rank": 9212,
         "normalised_frequency": 0.000016527286550094206,
         "cumulative_frequency": 0.9991405810995028,
         "_deepnote_index_column": 9211
        },
        {
         "token": "#dying",
         "frequency": 1,
         "rank": 9213,
         "normalised_frequency": 0.000016527286550094206,
         "cumulative_frequency": 0.9991571083860529,
         "_deepnote_index_column": 9212
        },
        {
         "token": "processed",
         "frequency": 1,
         "rank": 9214,
         "normalised_frequency": 0.000016527286550094206,
         "cumulative_frequency": 0.999173635672603,
         "_deepnote_index_column": 9213
        },
        {
         "token": "clutter",
         "frequency": 1,
         "rank": 9215,
         "normalised_frequency": 0.000016527286550094206,
         "cumulative_frequency": 0.9991901629591531,
         "_deepnote_index_column": 9214
        },
        {
         "token": "lights",
         "frequency": 1,
         "rank": 9216,
         "normalised_frequency": 0.000016527286550094206,
         "cumulative_frequency": 0.9992066902457032,
         "_deepnote_index_column": 9215
        },
        {
         "token": "marlboro",
         "frequency": 1,
         "rank": 9217,
         "normalised_frequency": 0.000016527286550094206,
         "cumulative_frequency": 0.9992232175322533,
         "_deepnote_index_column": 9216
        },
        {
         "token": "nappy",
         "frequency": 1,
         "rank": 9218,
         "normalised_frequency": 0.000016527286550094206,
         "cumulative_frequency": 0.9992397448188034,
         "_deepnote_index_column": 9217
        },
        {
         "token": "dangerously",
         "frequency": 1,
         "rank": 9219,
         "normalised_frequency": 0.000016527286550094206,
         "cumulative_frequency": 0.9992562721053535,
         "_deepnote_index_column": 9218
        },
        {
         "token": "flexing",
         "frequency": 1,
         "rank": 9220,
         "normalised_frequency": 0.000016527286550094206,
         "cumulative_frequency": 0.9992727993919036,
         "_deepnote_index_column": 9219
        },
        {
         "token": "claws",
         "frequency": 1,
         "rank": 9221,
         "normalised_frequency": 0.000016527286550094206,
         "cumulative_frequency": 0.9992893266784537,
         "_deepnote_index_column": 9220
        },
        {
         "token": "steel",
         "frequency": 1,
         "rank": 9222,
         "normalised_frequency": 0.000016527286550094206,
         "cumulative_frequency": 0.9993058539650038,
         "_deepnote_index_column": 9221
        },
        {
         "token": "trends",
         "frequency": 1,
         "rank": 9223,
         "normalised_frequency": 0.000016527286550094206,
         "cumulative_frequency": 0.9993223812515539,
         "_deepnote_index_column": 9222
        },
        {
         "token": "swift",
         "frequency": 1,
         "rank": 9224,
         "normalised_frequency": 0.000016527286550094206,
         "cumulative_frequency": 0.999338908538104,
         "_deepnote_index_column": 9223
        },
        {
         "token": "xucqb",
         "frequency": 1,
         "rank": 9225,
         "normalised_frequency": 0.000016527286550094206,
         "cumulative_frequency": 0.9993554358246541,
         "_deepnote_index_column": 9224
        },
        {
         "token": "cinematography",
         "frequency": 1,
         "rank": 9226,
         "normalised_frequency": 0.000016527286550094206,
         "cumulative_frequency": 0.9993719631112042,
         "_deepnote_index_column": 9225
        },
        {
         "token": "backfire",
         "frequency": 1,
         "rank": 9227,
         "normalised_frequency": 0.000016527286550094206,
         "cumulative_frequency": 0.9993884903977543,
         "_deepnote_index_column": 9226
        },
        {
         "token": "popularization",
         "frequency": 1,
         "rank": 9228,
         "normalised_frequency": 0.000016527286550094206,
         "cumulative_frequency": 0.9994050176843045,
         "_deepnote_index_column": 9227
        },
        {
         "token": "sickness",
         "frequency": 1,
         "rank": 9229,
         "normalised_frequency": 0.000016527286550094206,
         "cumulative_frequency": 0.9994215449708546,
         "_deepnote_index_column": 9228
        },
        {
         "token": "gon",
         "frequency": 1,
         "rank": 9230,
         "normalised_frequency": 0.000016527286550094206,
         "cumulative_frequency": 0.9994380722574047,
         "_deepnote_index_column": 9229
        },
        {
         "token": "brad's",
         "frequency": 1,
         "rank": 9231,
         "normalised_frequency": 0.000016527286550094206,
         "cumulative_frequency": 0.9994545995439548,
         "_deepnote_index_column": 9230
        },
        {
         "token": "wondered",
         "frequency": 1,
         "rank": 9232,
         "normalised_frequency": 0.000016527286550094206,
         "cumulative_frequency": 0.9994711268305049,
         "_deepnote_index_column": 9231
        },
        {
         "token": "#jobinterview",
         "frequency": 1,
         "rank": 9233,
         "normalised_frequency": 0.000016527286550094206,
         "cumulative_frequency": 0.999487654117055,
         "_deepnote_index_column": 9232
        },
        {
         "token": "#interview",
         "frequency": 1,
         "rank": 9234,
         "normalised_frequency": 0.000016527286550094206,
         "cumulative_frequency": 0.9995041814036051,
         "_deepnote_index_column": 9233
        },
        {
         "token": "withdraw",
         "frequency": 1,
         "rank": 9235,
         "normalised_frequency": 0.000016527286550094206,
         "cumulative_frequency": 0.9995207086901552,
         "_deepnote_index_column": 9234
        },
        {
         "token": "#scorpio's",
         "frequency": 1,
         "rank": 9236,
         "normalised_frequency": 0.000016527286550094206,
         "cumulative_frequency": 0.9995372359767053,
         "_deepnote_index_column": 9235
        },
        {
         "token": "bun",
         "frequency": 1,
         "rank": 9237,
         "normalised_frequency": 0.000016527286550094206,
         "cumulative_frequency": 0.9995537632632554,
         "_deepnote_index_column": 9236
        },
        {
         "token": "ncfc",
         "frequency": 1,
         "rank": 9238,
         "normalised_frequency": 0.000016527286550094206,
         "cumulative_frequency": 0.9995702905498055,
         "_deepnote_index_column": 9237
        },
        {
         "token": "er",
         "frequency": 1,
         "rank": 9239,
         "normalised_frequency": 0.000016527286550094206,
         "cumulative_frequency": 0.9995868178363556,
         "_deepnote_index_column": 9238
        },
        {
         "token": "choices",
         "frequency": 1,
         "rank": 9240,
         "normalised_frequency": 0.000016527286550094206,
         "cumulative_frequency": 0.9996033451229057,
         "_deepnote_index_column": 9239
        },
        {
         "token": "awhile",
         "frequency": 1,
         "rank": 9241,
         "normalised_frequency": 0.000016527286550094206,
         "cumulative_frequency": 0.9996198724094558,
         "_deepnote_index_column": 9240
        },
        {
         "token": "mind-shattering",
         "frequency": 1,
         "rank": 9242,
         "normalised_frequency": 0.000016527286550094206,
         "cumulative_frequency": 0.9996363996960059,
         "_deepnote_index_column": 9241
        },
        {
         "token": "patterns",
         "frequency": 1,
         "rank": 9243,
         "normalised_frequency": 0.000016527286550094206,
         "cumulative_frequency": 0.999652926982556,
         "_deepnote_index_column": 9242
        },
        {
         "token": "adopt",
         "frequency": 1,
         "rank": 9244,
         "normalised_frequency": 0.000016527286550094206,
         "cumulative_frequency": 0.9996694542691061,
         "_deepnote_index_column": 9243
        },
        {
         "token": "#whenwillitstop",
         "frequency": 1,
         "rank": 9245,
         "normalised_frequency": 0.000016527286550094206,
         "cumulative_frequency": 0.9996859815556562,
         "_deepnote_index_column": 9244
        },
        {
         "token": "snarled",
         "frequency": 1,
         "rank": 9246,
         "normalised_frequency": 0.000016527286550094206,
         "cumulative_frequency": 0.9997025088422063,
         "_deepnote_index_column": 9245
        },
        {
         "token": "reyes",
         "frequency": 1,
         "rank": 9247,
         "normalised_frequency": 0.000016527286550094206,
         "cumulative_frequency": 0.9997190361287565,
         "_deepnote_index_column": 9246
        },
        {
         "token": "snarl",
         "frequency": 1,
         "rank": 9248,
         "normalised_frequency": 0.000016527286550094206,
         "cumulative_frequency": 0.9997355634153066,
         "_deepnote_index_column": 9247
        },
        {
         "token": "mooching",
         "frequency": 1,
         "rank": 9249,
         "normalised_frequency": 0.000016527286550094206,
         "cumulative_frequency": 0.9997520907018567,
         "_deepnote_index_column": 9248
        },
        {
         "token": "greedy",
         "frequency": 1,
         "rank": 9250,
         "normalised_frequency": 0.000016527286550094206,
         "cumulative_frequency": 0.9997686179884068,
         "_deepnote_index_column": 9249
        },
        {
         "token": "#managing",
         "frequency": 1,
         "rank": 9251,
         "normalised_frequency": 0.000016527286550094206,
         "cumulative_frequency": 0.9997851452749569,
         "_deepnote_index_column": 9250
        },
        {
         "token": "fbi",
         "frequency": 1,
         "rank": 9252,
         "normalised_frequency": 0.000016527286550094206,
         "cumulative_frequency": 0.999801672561507,
         "_deepnote_index_column": 9251
        },
        {
         "token": "#howmanymoretimes",
         "frequency": 1,
         "rank": 9253,
         "normalised_frequency": 0.000016527286550094206,
         "cumulative_frequency": 0.9998181998480571,
         "_deepnote_index_column": 9252
        },
        {
         "token": "#robloxgamer",
         "frequency": 1,
         "rank": 9254,
         "normalised_frequency": 0.000016527286550094206,
         "cumulative_frequency": 0.9998347271346072,
         "_deepnote_index_column": 9253
        },
        {
         "token": "gently",
         "frequency": 1,
         "rank": 9255,
         "normalised_frequency": 0.000016527286550094206,
         "cumulative_frequency": 0.9998512544211573,
         "_deepnote_index_column": 9254
        },
        {
         "token": "termianted",
         "frequency": 1,
         "rank": 9256,
         "normalised_frequency": 0.000016527286550094206,
         "cumulative_frequency": 0.9998677817077074,
         "_deepnote_index_column": 9255
        },
        {
         "token": "roblox",
         "frequency": 1,
         "rank": 9257,
         "normalised_frequency": 0.000016527286550094206,
         "cumulative_frequency": 0.9998843089942575,
         "_deepnote_index_column": 9256
        },
        {
         "token": "freezer",
         "frequency": 1,
         "rank": 9258,
         "normalised_frequency": 0.000016527286550094206,
         "cumulative_frequency": 0.9999008362808076,
         "_deepnote_index_column": 9257
        },
        {
         "token": "mints",
         "frequency": 1,
         "rank": 9259,
         "normalised_frequency": 0.000016527286550094206,
         "cumulative_frequency": 0.9999173635673577,
         "_deepnote_index_column": 9258
        },
        {
         "token": "article's",
         "frequency": 1,
         "rank": 9260,
         "normalised_frequency": 0.000016527286550094206,
         "cumulative_frequency": 0.9999338908539078,
         "_deepnote_index_column": 9259
        },
        {
         "token": "fanbase",
         "frequency": 1,
         "rank": 9261,
         "normalised_frequency": 0.000016527286550094206,
         "cumulative_frequency": 0.9999504181404579,
         "_deepnote_index_column": 9260
        },
        {
         "token": "cules",
         "frequency": 1,
         "rank": 9262,
         "normalised_frequency": 0.000016527286550094206,
         "cumulative_frequency": 0.999966945427008,
         "_deepnote_index_column": 9261
        },
        {
         "token": "madridistas",
         "frequency": 1,
         "rank": 9263,
         "normalised_frequency": 0.000016527286550094206,
         "cumulative_frequency": 0.9999834727135581,
         "_deepnote_index_column": 9262
        },
        {
         "token": "are.wasted",
         "frequency": 1,
         "rank": 9264,
         "normalised_frequency": 0.000016527286550094206,
         "cumulative_frequency": 1.0000000000001081,
         "_deepnote_index_column": 9263
        }
       ]
      },
      "text/plain": "            token  frequency  rank  normalised_frequency  cumulative_frequency\n0           @user       2019     1              0.033369              0.033369\n1               .       1977     2              0.032674              0.066043\n2             the       1519     3              0.025105              0.091148\n3              to       1258     4              0.020791              0.111939\n4               i       1177     5              0.019453              0.131392\n...           ...        ...   ...                   ...                   ...\n9259    article's          1  9260              0.000017              0.999934\n9260      fanbase          1  9261              0.000017              0.999950\n9261        cules          1  9262              0.000017              0.999967\n9262  madridistas          1  9263              0.000017              0.999983\n9263   are.wasted          1  9264              0.000017              1.000000\n\n[9264 rows x 5 columns]",
      "text/html": "<div>\n<style scoped>\n    .dataframe tbody tr th:only-of-type {\n        vertical-align: middle;\n    }\n\n    .dataframe tbody tr th {\n        vertical-align: top;\n    }\n\n    .dataframe thead th {\n        text-align: right;\n    }\n</style>\n<table border=\"1\" class=\"dataframe\">\n  <thead>\n    <tr style=\"text-align: right;\">\n      <th></th>\n      <th>token</th>\n      <th>frequency</th>\n      <th>rank</th>\n      <th>normalised_frequency</th>\n      <th>cumulative_frequency</th>\n    </tr>\n  </thead>\n  <tbody>\n    <tr>\n      <th>0</th>\n      <td>@user</td>\n      <td>2019</td>\n      <td>1</td>\n      <td>0.033369</td>\n      <td>0.033369</td>\n    </tr>\n    <tr>\n      <th>1</th>\n      <td>.</td>\n      <td>1977</td>\n      <td>2</td>\n      <td>0.032674</td>\n      <td>0.066043</td>\n    </tr>\n    <tr>\n      <th>2</th>\n      <td>the</td>\n      <td>1519</td>\n      <td>3</td>\n      <td>0.025105</td>\n      <td>0.091148</td>\n    </tr>\n    <tr>\n      <th>3</th>\n      <td>to</td>\n      <td>1258</td>\n      <td>4</td>\n      <td>0.020791</td>\n      <td>0.111939</td>\n    </tr>\n    <tr>\n      <th>4</th>\n      <td>i</td>\n      <td>1177</td>\n      <td>5</td>\n      <td>0.019453</td>\n      <td>0.131392</td>\n    </tr>\n    <tr>\n      <th>...</th>\n      <td>...</td>\n      <td>...</td>\n      <td>...</td>\n      <td>...</td>\n      <td>...</td>\n    </tr>\n    <tr>\n      <th>9259</th>\n      <td>article's</td>\n      <td>1</td>\n      <td>9260</td>\n      <td>0.000017</td>\n      <td>0.999934</td>\n    </tr>\n    <tr>\n      <th>9260</th>\n      <td>fanbase</td>\n      <td>1</td>\n      <td>9261</td>\n      <td>0.000017</td>\n      <td>0.999950</td>\n    </tr>\n    <tr>\n      <th>9261</th>\n      <td>cules</td>\n      <td>1</td>\n      <td>9262</td>\n      <td>0.000017</td>\n      <td>0.999967</td>\n    </tr>\n    <tr>\n      <th>9262</th>\n      <td>madridistas</td>\n      <td>1</td>\n      <td>9263</td>\n      <td>0.000017</td>\n      <td>0.999983</td>\n    </tr>\n    <tr>\n      <th>9263</th>\n      <td>are.wasted</td>\n      <td>1</td>\n      <td>9264</td>\n      <td>0.000017</td>\n      <td>1.000000</td>\n    </tr>\n  </tbody>\n</table>\n<p>9264 rows × 5 columns</p>\n</div>"
     },
     "metadata": {}
    }
   ]
  },
  {
   "cell_type": "markdown",
   "source": "## Type/ Token Ratio\n---\nThe type/ token ratio of is the quotient of number of types (vocabulary size) to number of tokens (text/corpus size). We compute it in the following way. ",
   "metadata": {
    "tags": [],
    "cell_id": "00054-2a4e34bf-3b29-4b52-9f8e-a095d053a117",
    "deepnote_cell_type": "markdown"
   }
  },
  {
   "cell_type": "code",
   "metadata": {
    "tags": [],
    "cell_id": "00056-4199ec48-921d-462c-b7e4-dac4515502fd",
    "deepnote_to_be_reexecuted": false,
    "source_hash": "ec67b3c2",
    "execution_start": 1622701493721,
    "execution_millis": 5,
    "output_cleared": false,
    "deepnote_cell_type": "code"
   },
   "source": "for dataset in DATASETS:\n    print(f'TTR ({dataset.title()}): {round(len(VOCABULARY[dataset]) / len(CORPUS[dataset]),2)}')",
   "execution_count": 31,
   "outputs": [
    {
     "name": "stdout",
     "text": "TTR (Hate): 0.09\nTTR (Emotion): 0.15\n",
     "output_type": "stream"
    }
   ]
  },
  {
   "cell_type": "markdown",
   "source": "A high TTR generally indicates a high degree of lexical variation in the corpus. However, in this context the higher TTR in the emotion dataset might also result from the fact that it is a lot smaller in size than the hate dataset and thus the TTR score is less biased by few very frequently occurring tokens that decrease the TTR score.",
   "metadata": {
    "tags": [],
    "cell_id": "00059-6dc5f797-8118-479c-ace0-8023ac85684c",
    "deepnote_cell_type": "markdown"
   }
  },
  {
   "cell_type": "markdown",
   "source": "## Zipf's Law\n---\nZipf's Law says that the frequency of a word is inversely proportional to its rank in the frequency table. Thus, very few words occur very frequently, while the majority of words have very low frequencies. Tyical frequent words are function words, such as prepositions, pronouns, conjunctions and similar words.\n\nLet's visualise Zipf's Law for both of our datasets.",
   "metadata": {
    "cell_id": "00046-7c9fef28-200d-494f-b96d-c48da9560645",
    "tags": [],
    "deepnote_cell_type": "markdown"
   }
  },
  {
   "cell_type": "code",
   "metadata": {
    "tags": [],
    "cell_id": "00061-03a45457-c697-453e-9402-fbded2617f28",
    "deepnote_to_be_reexecuted": false,
    "source_hash": "df912ae0",
    "execution_start": 1622701493728,
    "execution_millis": 6,
    "output_cleared": true,
    "deepnote_cell_type": "code"
   },
   "source": "def visualise_zipf(dataset, log = False):\n    if log:\n        x = np.log(VOCABULARY[dataset]['rank'])\n        y = np.log(VOCABULARY[dataset]['frequency'])\n    else: \n        x = VOCABULARY[dataset]['rank']\n        y = VOCABULARY[dataset]['frequency']\n\n    fig, ax = plt.subplots(ncols=2, figsize=(15,6))\n    ax[0].plot(x, y);\n    ax[0].set_xlabel('Rank'); ax[0].set_ylabel('Frequency'); ax[0].set_title(f'Frequency of Tokens in {dataset.title()}'); \n    ax[1].plot(VOCABULARY[dataset]['rank'], VOCABULARY[dataset]['cumulative_frequency']);\n    ax[1].set_xlabel('Rank'); ax[1].set_ylabel('Cumulative Frequency'); ax[1].set_title(f'Cumulative Frequency of Tokens in {dataset.title()}'); ",
   "execution_count": 32,
   "outputs": []
  },
  {
   "cell_type": "code",
   "metadata": {
    "tags": [],
    "cell_id": "00062-1721443e-c444-402c-9ee9-01958b97b2a5",
    "deepnote_to_be_reexecuted": false,
    "source_hash": "6b40ea25",
    "execution_start": 1622701493740,
    "execution_millis": 315,
    "output_cleared": false,
    "deepnote_cell_type": "code"
   },
   "source": "visualise_zipf(dataset='hate', log=False)",
   "execution_count": 33,
   "outputs": [
    {
     "data": {
      "text/plain": "<Figure size 1080x432 with 2 Axes>",
      "image/png": "[encoded data removed]"
     },
     "metadata": {
      "needs_background": "light",
      "image/png": {
       "width": 897,
       "height": 387
      }
     },
     "output_type": "display_data"
    }
   ]
  },
  {
   "cell_type": "code",
   "metadata": {
    "tags": [],
    "cell_id": "00063-2fc1f4a5-1fb3-4915-862b-b50821204c15",
    "deepnote_to_be_reexecuted": false,
    "source_hash": "f524469b",
    "execution_start": 1622701494045,
    "execution_millis": 286,
    "output_cleared": false,
    "deepnote_cell_type": "code"
   },
   "source": "visualise_zipf(dataset = 'emotion', log = False)",
   "execution_count": 34,
   "outputs": [
    {
     "data": {
      "text/plain": "<Figure size 1080x432 with 2 Axes>",
      "image/png": "[encoded data removed]"
     },
     "metadata": {
      "needs_background": "light",
      "image/png": {
       "width": 897,
       "height": 387
      }
     },
     "output_type": "display_data"
    }
   ]
  },
  {
   "cell_type": "markdown",
   "source": "# Digression: N-Gram Model\n---\nN-Gram Language models are an important tool in NLP, i.e. used in the context of auto-completion or tools like spell checkers. The idea of the model is rather simple: Given a sequence of words, predict the next word that appears with highest probability. In that sense, N-Gram models are a way of finding the maximum likelihood word after a sequence of previous words. But, how do we find this maximum likelihood word? From the point of probability theory, the probability of a word occuring is the conditional probability of seeing some word, given that we already know that that a sequence of previous words has occurred. However, calculating those probabilites for bigger coropora is computationally infeasible. \n\nHowever, one can simplify the computation. The *k*th order *Markov assumption* states that each element of a sequence of tokens only depends on the *k* immediately preceding elements, such that manual \n\n$$\np(w_i|w_{1}, ...,w_{i-1}) \\approx (w_i|w_{i-k}, ..., w_{i-1})\n$$\n\n",
   "metadata": {
    "cell_id": "00012-f7ed8c9e-4e5c-4499-8cbd-bc465deeb219",
    "tags": [],
    "deepnote_cell_type": "markdown"
   }
  },
  {
   "cell_type": "markdown",
   "source": "*Note: For exploring n-gram models we are using the training set of the `hate` dataset.*",
   "metadata": {
    "tags": [],
    "cell_id": "00065-24610fd5-4704-4365-87e2-73994c5015df",
    "deepnote_cell_type": "markdown"
   }
  },
  {
   "cell_type": "markdown",
   "source": "## Manual Model Prediction\n---\nBefore using external libraries to implement n-gram models, we wanted to give it a shot and code it out for ourselves in the simplest of all cases, the bigram. In this simple model we iterate over each tokenised tweet in the data pairwise, and while doing so incrementing the counter of seeing word 2, given that we have seen word 1 in a nested dictionary. We can then easily convert those counts into conditional probability and from that choose the word that is maximally likely give some word. A `generate` function is then the natrual extension that consecutively chooses the next most likely word for a sequence of *n* words.",
   "metadata": {
    "tags": [],
    "cell_id": "00065-aac8fc30-0b52-4539-85c5-aabb56acac2d",
    "deepnote_cell_type": "markdown"
   }
  },
  {
   "cell_type": "code",
   "metadata": {
    "tags": [],
    "cell_id": "00068-60a904b8-bb2c-44fc-8639-22b48bfe3199",
    "deepnote_to_be_reexecuted": false,
    "source_hash": "4c272fef",
    "execution_start": 1622701494355,
    "execution_millis": 193,
    "output_cleared": false,
    "deepnote_cell_type": "code"
   },
   "source": "from nltk import bigrams\nfrom collections import Counter, defaultdict\n\nclass OurBigram:\n    def __init__(self):\n        # initialise empty skeleton structure of model as nested dictionary (initialise all counts to 0)\n        self.model = defaultdict(lambda: defaultdict(lambda: 0))\n    \n    def fit(self, data):\n        # count frequency of co-occurances\n        for sentence in data:\n            for w1, w2 in bigrams(sentence, pad_right=True, pad_left=True):\n                self.model[w1][w2] += 1\n            \n        # transform counts to conditional probabilities\n        for w1 in self.model:\n            total_count = float(sum(self.model[w1].values()))\n            for w2 in self.model[w1]:\n                self.model[w1][w2] /= total_count\n\n    def find_mle(self, word):\n        # for a given word return the word that occurs next with maximum likelihood\n        return max(self.model[word], key=self.model[word].get)\n            \n    def generate(self, word, n):\n        # generate a sequence of n words given an initial word from the bigram model\n        while n >= 0:\n            print(word, end=' ') \n            mle = self.find_mle(word)\n            word = mle\n            n-=1\n\n\nbigram = OurBigram()\nbigram.fit(DATA['processed']['hate']['train_text'])\nbigram.generate('hey', 4)",
   "execution_count": 35,
   "outputs": [
    {
     "name": "stdout",
     "text": "hey that is a woman ",
     "output_type": "stream"
    }
   ]
  },
  {
   "cell_type": "markdown",
   "source": "## NLTK Language Model\n---\nIn this section, we are exploring externally implemented language models from the NLTK library that we assume ot perform overall better, i.e. in the way it deals with unseen tokens. The following lines of code show, how the model is being trained on hte training set of the `hate` data. We finally generate a sample tweet of length ten.",
   "metadata": {
    "tags": [],
    "cell_id": "00068-265e4a33-9227-4fbd-a4c2-713f97a31626",
    "deepnote_cell_type": "markdown"
   }
  },
  {
   "cell_type": "code",
   "metadata": {
    "cell_id": "00058-8d948cde-2e02-4c37-bc16-fbe8682c2d39",
    "deepnote_to_be_reexecuted": false,
    "execution_millis": 2,
    "execution_start": 1622701494535,
    "source_hash": "da652d23",
    "tags": [],
    "output_cleared": true,
    "deepnote_cell_type": "code"
   },
   "source": "# imports for n-gram language model\nfrom nltk.lm.preprocessing import padded_everygram_pipeline\nfrom nltk.lm import MLE",
   "execution_count": 36,
   "outputs": []
  },
  {
   "cell_type": "code",
   "metadata": {
    "cell_id": "00062-8d124715-50b4-43a6-9d89-ea885342ff27",
    "deepnote_to_be_reexecuted": false,
    "execution_millis": 12903,
    "execution_start": 1622701494554,
    "source_hash": "41955566",
    "tags": [],
    "output_cleared": true,
    "deepnote_cell_type": "code"
   },
   "source": "# number of grams\nn=5\n\n# split \ntrain, vocab = padded_everygram_pipeline(n, DATA['processed'][\"hate\"][\"train_text\"])\n\n# initialise and fit data\nlm = MLE(n)\nlm.fit(train, vocab)",
   "execution_count": 37,
   "outputs": []
  },
  {
   "cell_type": "code",
   "metadata": {
    "cell_id": "00076-99664b8f-9d0d-4370-932f-da7947884f7b",
    "deepnote_to_be_reexecuted": false,
    "execution_millis": 35,
    "execution_start": 1622701507464,
    "source_hash": "ef730c3",
    "tags": [],
    "output_cleared": false,
    "deepnote_cell_type": "code"
   },
   "source": "'hitler ' + ' '.join(lm.generate(10, text_seed=['hitler'], random_seed=10))",
   "execution_count": 38,
   "outputs": [
    {
     "output_type": "execute_result",
     "execution_count": 38,
     "data": {
      "text/plain": "'hitler may come back from the grave just to choke merkel'"
     },
     "metadata": {}
    }
   ]
  },
  {
   "cell_type": "markdown",
   "source": "We can see that the model is capable of occational, syntactically correct and plausible, hate speech.",
   "metadata": {
    "tags": [],
    "cell_id": "00068-70f85ac3-5810-42eb-bf59-c1448a264cbe",
    "deepnote_cell_type": "markdown"
   }
  },
  {
   "cell_type": "markdown",
   "source": "# Digression: Manual Annotations and Inter-Annotator Agreement (IAA)\n---\n*TASK 3*\n\nClassification tasks in ML are concerned with predicting a class membership of some object based on computed features. Just as with any other type of objects of data we are dealing with, there are different ways of predicting these labels. \n\n1. **Explicit Rules**: Defining explicit rules in what instances of features, what label to predict\n\n2. **Unsupervised Learning**: Letting the machine find clusters within the data by itself\n\n3. **Supervised Learning**: Manually enriching the data with additional information through annotation.\n\nDefining explicit decision rules is most of the times infeasible for more complex classfication problems. Likewise, unsupervised learning models in NLP often do not give the wanted results. For this reason, the predominant method for knowledge encoding when dealing with natural language is the supervised learning that involves the process of manual annotation. \n\nManually annotating data means to define some kind of *gold standard*, which the label our model ideally predicts. However, this in itself can be a challenge, since language can be ambigious, and interpretation is often subject of personal opinion. \n\nIn this section we therefore manually annotate a small percentage (100 tweets) of the training corpus in the `hate` dataset and compute metrics to what degree we agreed on class membership. We followed the [Annotation Guidelines](https://github.com/msang/hateval/blob/master/annotation_guidelines.md) as employed by the source of the data ([Final Paper](https://www.aclweb.org/anthology/S19-2007.pdf))\n",
   "metadata": {
    "cell_id": "00082-d445badc-5275-4d02-af41-527b34f6b56b",
    "tags": [],
    "deepnote_cell_type": "markdown"
   }
  },
  {
   "cell_type": "markdown",
   "source": "## Generate IAA Sample\n---\nWe first generate the sample of tweets and corresponding gold standard labels as reported by the source of the data. For ease, we chose the last 100 tweets from the training corpus of the `hate` dataset. The tweets were exported into a separate file in the directory `data/annotations`.",
   "metadata": {
    "tags": [],
    "cell_id": "00091-f47e225f-5246-4e5b-b192-000bb83e5219",
    "deepnote_cell_type": "markdown"
   }
  },
  {
   "cell_type": "code",
   "metadata": {
    "cell_id": "00083-94c0db2e-6605-483e-bc6b-c91fa82efcfa",
    "deepnote_to_be_reexecuted": false,
    "execution_millis": 3,
    "execution_start": 1622701507471,
    "source_hash": "70c599fc",
    "tags": [],
    "output_cleared": true,
    "deepnote_cell_type": "code"
   },
   "source": "if GENERATE_IAA_SAMPLE == True:\n    with open('../data/annotations/annotation_sample.txt', 'w') as outfile:\n        for tweet in DATA['raw']['hate']['train_text'][-100:]: # last 100 tweets in hate training set\n            outfile.writelines(tweet + '\\n')\n    with open('../data/annotations/ground_truth_annotation_sample.txt', 'w') as outfile:\n        for label in DATA['raw']['hate']['train_labels'][-100:]:\n            outfile.writelines(str(label) + '\\n')",
   "execution_count": 39,
   "outputs": []
  },
  {
   "cell_type": "markdown",
   "source": "Without looking at the gold standard labels from the source of the data, each member of the group individually annotated the 100 tweets and uploaded the file into the folder `data/annotations/manual_annotations`. The following section evaluates the results of this annotation.",
   "metadata": {
    "tags": [],
    "cell_id": "00076-603f59db-4850-4afa-833d-d06e1c2eaa3e",
    "deepnote_cell_type": "markdown"
   }
  },
  {
   "cell_type": "markdown",
   "source": "## Evaluation\n---\nThere exist different metrics for evaluating annotations of multiple annotators, which we will compute within this section. For easy dealing, we read in the manual annotations and load them into a single dataframe, containing both the original tweet, the gold standard label and the four annotated labels by each group member.",
   "metadata": {
    "tags": [],
    "cell_id": "00093-d2583796-19e9-43c4-887a-1e565459a12b",
    "deepnote_cell_type": "markdown"
   }
  },
  {
   "cell_type": "code",
   "metadata": {
    "cell_id": "00085-0c6885fd-8014-4ce7-bfbd-bf43e305bc0a",
    "deepnote_to_be_reexecuted": false,
    "execution_millis": 10,
    "execution_start": 1622701507479,
    "source_hash": "27dcf014",
    "tags": [],
    "output_cleared": true,
    "deepnote_cell_type": "code"
   },
   "source": "# compare manual annotations through building dataframe\nannotation_evaluation = pd.DataFrame({'tweets': DATA['raw']['hate']['train_text'][-100:], 'ground_truth': DATA['raw']['hate']['train_labels'][-100:]})\n\nfor filename in os.listdir('../data/annotations/manual_annotations'): # opening manually annotated files\n    with open(f'../data/annotations/manual_annotations/{filename}', 'r') as infile:\n        annotation_evaluation[filename[:-4]] = [int(line.strip()) for line in infile.readlines()]",
   "execution_count": 40,
   "outputs": []
  },
  {
   "cell_type": "code",
   "metadata": {
    "cell_id": "00086-60a0157a-ff3a-421b-afc1-6ea25b5459e4",
    "deepnote_to_be_reexecuted": false,
    "execution_millis": 41,
    "execution_start": 1622701507491,
    "source_hash": "75b8187d",
    "tags": [],
    "output_cleared": false,
    "deepnote_cell_type": "code"
   },
   "source": "annotation_evaluation",
   "execution_count": 41,
   "outputs": [
    {
     "output_type": "execute_result",
     "execution_count": 41,
     "data": {
      "application/vnd.deepnote.dataframe.v2+json": {
       "row_count": 100,
       "column_count": 6,
       "columns": [
        {
         "name": "tweets",
         "dtype": "object",
         "stats": {
          "unique_count": 100,
          "nan_count": 0,
          "categories": [
           {
            "name": "Cry baby Hollywood Dems Anti-Trump celebs too poor to run as a Mayor to show everyone they can be better politicians than him. Comments? @user no no no no new war under Trump, Europe is still handling the refugees from Obama's wars. Hi Ohio! @user weekend feels",
            "count": 1
           },
           {
            "name": "@user Do I have to fight another bitch ass looking cunt today?",
            "count": 1
           },
           {
            "name": "98 others",
            "count": 98
           }
          ]
         }
        },
        {
         "name": "ground_truth",
         "dtype": "int64",
         "stats": {
          "unique_count": 2,
          "nan_count": 0,
          "min": "0",
          "max": "1",
          "histogram": [
           {
            "bin_start": 0,
            "bin_end": 0.1,
            "count": 57
           },
           {
            "bin_start": 0.1,
            "bin_end": 0.2,
            "count": 0
           },
           {
            "bin_start": 0.2,
            "bin_end": 0.30000000000000004,
            "count": 0
           },
           {
            "bin_start": 0.30000000000000004,
            "bin_end": 0.4,
            "count": 0
           },
           {
            "bin_start": 0.4,
            "bin_end": 0.5,
            "count": 0
           },
           {
            "bin_start": 0.5,
            "bin_end": 0.6000000000000001,
            "count": 0
           },
           {
            "bin_start": 0.6000000000000001,
            "bin_end": 0.7000000000000001,
            "count": 0
           },
           {
            "bin_start": 0.7000000000000001,
            "bin_end": 0.8,
            "count": 0
           },
           {
            "bin_start": 0.8,
            "bin_end": 0.9,
            "count": 0
           },
           {
            "bin_start": 0.9,
            "bin_end": 1,
            "count": 43
           }
          ]
         }
        },
        {
         "name": "nicola_annotations",
         "dtype": "int64",
         "stats": {
          "unique_count": 2,
          "nan_count": 0,
          "min": "0",
          "max": "1",
          "histogram": [
           {
            "bin_start": 0,
            "bin_end": 0.1,
            "count": 58
           },
           {
            "bin_start": 0.1,
            "bin_end": 0.2,
            "count": 0
           },
           {
            "bin_start": 0.2,
            "bin_end": 0.30000000000000004,
            "count": 0
           },
           {
            "bin_start": 0.30000000000000004,
            "bin_end": 0.4,
            "count": 0
           },
           {
            "bin_start": 0.4,
            "bin_end": 0.5,
            "count": 0
           },
           {
            "bin_start": 0.5,
            "bin_end": 0.6000000000000001,
            "count": 0
           },
           {
            "bin_start": 0.6000000000000001,
            "bin_end": 0.7000000000000001,
            "count": 0
           },
           {
            "bin_start": 0.7000000000000001,
            "bin_end": 0.8,
            "count": 0
           },
           {
            "bin_start": 0.8,
            "bin_end": 0.9,
            "count": 0
           },
           {
            "bin_start": 0.9,
            "bin_end": 1,
            "count": 42
           }
          ]
         }
        },
        {
         "name": "hugo_annotations",
         "dtype": "int64",
         "stats": {
          "unique_count": 2,
          "nan_count": 0,
          "min": "0",
          "max": "1",
          "histogram": [
           {
            "bin_start": 0,
            "bin_end": 0.1,
            "count": 85
           },
           {
            "bin_start": 0.1,
            "bin_end": 0.2,
            "count": 0
           },
           {
            "bin_start": 0.2,
            "bin_end": 0.30000000000000004,
            "count": 0
           },
           {
            "bin_start": 0.30000000000000004,
            "bin_end": 0.4,
            "count": 0
           },
           {
            "bin_start": 0.4,
            "bin_end": 0.5,
            "count": 0
           },
           {
            "bin_start": 0.5,
            "bin_end": 0.6000000000000001,
            "count": 0
           },
           {
            "bin_start": 0.6000000000000001,
            "bin_end": 0.7000000000000001,
            "count": 0
           },
           {
            "bin_start": 0.7000000000000001,
            "bin_end": 0.8,
            "count": 0
           },
           {
            "bin_start": 0.8,
            "bin_end": 0.9,
            "count": 0
           },
           {
            "bin_start": 0.9,
            "bin_end": 1,
            "count": 15
           }
          ]
         }
        },
        {
         "name": "mika_annotations",
         "dtype": "int64",
         "stats": {
          "unique_count": 2,
          "nan_count": 0,
          "min": "0",
          "max": "1",
          "histogram": [
           {
            "bin_start": 0,
            "bin_end": 0.1,
            "count": 63
           },
           {
            "bin_start": 0.1,
            "bin_end": 0.2,
            "count": 0
           },
           {
            "bin_start": 0.2,
            "bin_end": 0.30000000000000004,
            "count": 0
           },
           {
            "bin_start": 0.30000000000000004,
            "bin_end": 0.4,
            "count": 0
           },
           {
            "bin_start": 0.4,
            "bin_end": 0.5,
            "count": 0
           },
           {
            "bin_start": 0.5,
            "bin_end": 0.6000000000000001,
            "count": 0
           },
           {
            "bin_start": 0.6000000000000001,
            "bin_end": 0.7000000000000001,
            "count": 0
           },
           {
            "bin_start": 0.7000000000000001,
            "bin_end": 0.8,
            "count": 0
           },
           {
            "bin_start": 0.8,
            "bin_end": 0.9,
            "count": 0
           },
           {
            "bin_start": 0.9,
            "bin_end": 1,
            "count": 37
           }
          ]
         }
        },
        {
         "name": "aidan_annotations",
         "dtype": "int64",
         "stats": {
          "unique_count": 2,
          "nan_count": 0,
          "min": "0",
          "max": "1",
          "histogram": [
           {
            "bin_start": 0,
            "bin_end": 0.1,
            "count": 66
           },
           {
            "bin_start": 0.1,
            "bin_end": 0.2,
            "count": 0
           },
           {
            "bin_start": 0.2,
            "bin_end": 0.30000000000000004,
            "count": 0
           },
           {
            "bin_start": 0.30000000000000004,
            "bin_end": 0.4,
            "count": 0
           },
           {
            "bin_start": 0.4,
            "bin_end": 0.5,
            "count": 0
           },
           {
            "bin_start": 0.5,
            "bin_end": 0.6000000000000001,
            "count": 0
           },
           {
            "bin_start": 0.6000000000000001,
            "bin_end": 0.7000000000000001,
            "count": 0
           },
           {
            "bin_start": 0.7000000000000001,
            "bin_end": 0.8,
            "count": 0
           },
           {
            "bin_start": 0.8,
            "bin_end": 0.9,
            "count": 0
           },
           {
            "bin_start": 0.9,
            "bin_end": 1,
            "count": 34
           }
          ]
         }
        },
        {
         "name": "_deepnote_index_column",
         "dtype": "int64"
        }
       ],
       "rows_top": [
        {
         "tweets": "Cry baby Hollywood Dems Anti-Trump celebs too poor to run as a Mayor to show everyone they can be b…",
         "ground_truth": 0,
         "nicola_annotations": 0,
         "hugo_annotations": 0,
         "mika_annotations": 0,
         "aidan_annotations": 0,
         "_deepnote_index_column": 0
        },
        {
         "tweets": "@user Do I have to fight another bitch ass looking cunt today?",
         "ground_truth": 1,
         "nicola_annotations": 1,
         "hugo_annotations": 0,
         "mika_annotations": 1,
         "aidan_annotations": 1,
         "_deepnote_index_column": 1
        },
        {
         "tweets": "#SouthCarolina has spent millions of dollars to arrest immigrant landscapers, housekeepers #ambassa…",
         "ground_truth": 0,
         "nicola_annotations": 0,
         "hugo_annotations": 0,
         "mika_annotations": 0,
         "aidan_annotations": 0,
         "_deepnote_index_column": 2
        },
        {
         "tweets": "Me trying to flirt- I wanna eat your hot pocket",
         "ground_truth": 0,
         "nicola_annotations": 0,
         "hugo_annotations": 0,
         "mika_annotations": 0,
         "aidan_annotations": 0,
         "_deepnote_index_column": 3
        },
        {
         "tweets": "People say, \"Why didn't this or that immigrant for Central or South America apply the proper way an…",
         "ground_truth": 0,
         "nicola_annotations": 0,
         "hugo_annotations": 0,
         "mika_annotations": 0,
         "aidan_annotations": 0,
         "_deepnote_index_column": 4
        },
        {
         "tweets": "I'm not the one to let people profit on my back... I'll break yours and take what's mine 😘",
         "ground_truth": 0,
         "nicola_annotations": 0,
         "hugo_annotations": 0,
         "mika_annotations": 1,
         "aidan_annotations": 0,
         "_deepnote_index_column": 5
        },
        {
         "tweets": "#landdegradation undermines the well-being of 3.2 billion people, or “two-fifths of humanity,” driv…",
         "ground_truth": 0,
         "nicola_annotations": 0,
         "hugo_annotations": 0,
         "mika_annotations": 0,
         "aidan_annotations": 0,
         "_deepnote_index_column": 6
        },
        {
         "tweets": "Me trying to flirt- You have really nice eyebrows... I'd like to cum on them to see if they wash off",
         "ground_truth": 1,
         "nicola_annotations": 1,
         "hugo_annotations": 0,
         "mika_annotations": 1,
         "aidan_annotations": 0,
         "_deepnote_index_column": 7
        },
        {
         "tweets": "Two faced Boris now hes on a power trip dosent care about Immigration may is a liar change l don't …",
         "ground_truth": 0,
         "nicola_annotations": 0,
         "hugo_annotations": 0,
         "mika_annotations": 0,
         "aidan_annotations": 0,
         "_deepnote_index_column": 8
        },
        {
         "tweets": "Says man who suggested an actress reported an historic rape to gain more work - you're a fully paid…",
         "ground_truth": 1,
         "nicola_annotations": 0,
         "hugo_annotations": 0,
         "mika_annotations": 1,
         "aidan_annotations": 0,
         "_deepnote_index_column": 9
        },
        {
         "tweets": "@user I hope you are not offering them a choice. To hell with the #Tories #SendThemHome",
         "ground_truth": 1,
         "nicola_annotations": 1,
         "hugo_annotations": 1,
         "mika_annotations": 1,
         "aidan_annotations": 1,
         "_deepnote_index_column": 10
        },
        {
         "tweets": "These are not refugees but aggressive male migrants the Med leaders - with exception of @user -want…",
         "ground_truth": 1,
         "nicola_annotations": 1,
         "hugo_annotations": 1,
         "mika_annotations": 1,
         "aidan_annotations": 0,
         "_deepnote_index_column": 11
        },
        {
         "tweets": "There are all these illegal immigrant aliens trying to get to Earth, but our 'Space Force' is prote…",
         "ground_truth": 0,
         "nicola_annotations": 1,
         "hugo_annotations": 0,
         "mika_annotations": 0,
         "aidan_annotations": 0,
         "_deepnote_index_column": 12
        },
        {
         "tweets": "I feel like post birth abortion should be a thing...",
         "ground_truth": 0,
         "nicola_annotations": 0,
         "hugo_annotations": 0,
         "mika_annotations": 0,
         "aidan_annotations": 0,
         "_deepnote_index_column": 13
        },
        {
         "tweets": "UN countries agree on pact to manage mass global migration",
         "ground_truth": 0,
         "nicola_annotations": 0,
         "hugo_annotations": 0,
         "mika_annotations": 0,
         "aidan_annotations": 0,
         "_deepnote_index_column": 14
        },
        {
         "tweets": "Girls with blonde hair and dark roots make my cock hard for some reason",
         "ground_truth": 1,
         "nicola_annotations": 1,
         "hugo_annotations": 0,
         "mika_annotations": 0,
         "aidan_annotations": 0,
         "_deepnote_index_column": 15
        },
        {
         "tweets": "Populists are not anti immigrant or anti immigration or emigration they are PRO rational fair laws …",
         "ground_truth": 0,
         "nicola_annotations": 0,
         "hugo_annotations": 0,
         "mika_annotations": 0,
         "aidan_annotations": 0,
         "_deepnote_index_column": 16
        },
        {
         "tweets": "Cases include a twisted paedophile, a lunatic driver and an illegal immigrant who posed as a 16-yea…",
         "ground_truth": 0,
         "nicola_annotations": 0,
         "hugo_annotations": 0,
         "mika_annotations": 0,
         "aidan_annotations": 0,
         "_deepnote_index_column": 17
        },
        {
         "tweets": "Some cunt at Walmart went full psycho on me saying how she had no fucking space to put her shit bit…",
         "ground_truth": 1,
         "nicola_annotations": 1,
         "hugo_annotations": 0,
         "mika_annotations": 1,
         "aidan_annotations": 1,
         "_deepnote_index_column": 18
        },
        {
         "tweets": "@user  As you fall over yourselves to welcome Syrian refugees ,homes etc why did you not do it for …",
         "ground_truth": 1,
         "nicola_annotations": 0,
         "hugo_annotations": 0,
         "mika_annotations": 1,
         "aidan_annotations": 1,
         "_deepnote_index_column": 19
        },
        {
         "tweets": "Nothing would make me happier than to see you get an STD. #whore #WomenSuck",
         "ground_truth": 1,
         "nicola_annotations": 1,
         "hugo_annotations": 1,
         "mika_annotations": 1,
         "aidan_annotations": 1,
         "_deepnote_index_column": 20
        },
        {
         "tweets": "In the past 4 years personal debt has risen by 90 billion pounds. Much of it spent on trying to liv…",
         "ground_truth": 0,
         "nicola_annotations": 0,
         "hugo_annotations": 0,
         "mika_annotations": 0,
         "aidan_annotations": 0,
         "_deepnote_index_column": 21
        },
        {
         "tweets": "Watch: Germany's Real Women's March against migrant violence and Islamism - Free Speech Time - @user",
         "ground_truth": 0,
         "nicola_annotations": 0,
         "hugo_annotations": 0,
         "mika_annotations": 0,
         "aidan_annotations": 0,
         "_deepnote_index_column": 22
        },
        {
         "tweets": "@user @user Don't blame refugees for the misery of others. By forcedly removing refugees from their…",
         "ground_truth": 0,
         "nicola_annotations": 0,
         "hugo_annotations": 0,
         "mika_annotations": 0,
         "aidan_annotations": 0,
         "_deepnote_index_column": 23
        },
        {
         "tweets": "hypnotize synthesize love is a lie like a hole in the sky then you die",
         "ground_truth": 0,
         "nicola_annotations": 0,
         "hugo_annotations": 0,
         "mika_annotations": 0,
         "aidan_annotations": 0,
         "_deepnote_index_column": 24
        },
        {
         "tweets": "@user Its not about Trump kids.When are you putting up all those refugees in your home jk???  YOu k…",
         "ground_truth": 1,
         "nicola_annotations": 0,
         "hugo_annotations": 0,
         "mika_annotations": 0,
         "aidan_annotations": 0,
         "_deepnote_index_column": 25
        },
        {
         "tweets": "@user No doubt cory wins most hysterical women his eyes are popping out of his head foaming at the …",
         "ground_truth": 0,
         "nicola_annotations": 1,
         "hugo_annotations": 0,
         "mika_annotations": 0,
         "aidan_annotations": 1,
         "_deepnote_index_column": 26
        },
        {
         "tweets": "It's unfortunate that such racist tactics are used against migrant communities. Remember those who …",
         "ground_truth": 0,
         "nicola_annotations": 0,
         "hugo_annotations": 0,
         "mika_annotations": 0,
         "aidan_annotations": 0,
         "_deepnote_index_column": 27
        },
        {
         "tweets": "Mandy Manning, one of World Relief's friends and partners @user has just been named 2018 National T…",
         "ground_truth": 0,
         "nicola_annotations": 0,
         "hugo_annotations": 0,
         "mika_annotations": 0,
         "aidan_annotations": 0,
         "_deepnote_index_column": 28
        },
        {
         "tweets": "#FakeNews Alert!! Flu Vaccine PROPAGANDA Agenda - Immigration = Terrorism REPORT",
         "ground_truth": 1,
         "nicola_annotations": 1,
         "hugo_annotations": 1,
         "mika_annotations": 0,
         "aidan_annotations": 1,
         "_deepnote_index_column": 29
        },
        {
         "tweets": "@user Legally it is rape if you inserted something inside someone without their consent",
         "ground_truth": 0,
         "nicola_annotations": 0,
         "hugo_annotations": 0,
         "mika_annotations": 0,
         "aidan_annotations": 0,
         "_deepnote_index_column": 30
        },
        {
         "tweets": "Glad not all men are like that and sad some women are like this...",
         "ground_truth": 1,
         "nicola_annotations": 0,
         "hugo_annotations": 0,
         "mika_annotations": 0,
         "aidan_annotations": 1,
         "_deepnote_index_column": 31
        },
        {
         "tweets": "Don't let the world ending distract you from the fact that you're a hoe.",
         "ground_truth": 0,
         "nicola_annotations": 1,
         "hugo_annotations": 0,
         "mika_annotations": 1,
         "aidan_annotations": 1,
         "_deepnote_index_column": 32
        },
        {
         "tweets": "is this what you would call karma? like how do you as a mexican person vote and support trump, have…",
         "ground_truth": 0,
         "nicola_annotations": 0,
         "hugo_annotations": 0,
         "mika_annotations": 1,
         "aidan_annotations": 0,
         "_deepnote_index_column": 33
        },
        {
         "tweets": "@user Let me check your ass out with my cock",
         "ground_truth": 1,
         "nicola_annotations": 1,
         "hugo_annotations": 0,
         "mika_annotations": 1,
         "aidan_annotations": 1,
         "_deepnote_index_column": 34
        },
        {
         "tweets": "People in airport bars always wanna tell you their life stories... STFU Bill, IDGAF about your stup…",
         "ground_truth": 1,
         "nicola_annotations": 1,
         "hugo_annotations": 0,
         "mika_annotations": 1,
         "aidan_annotations": 0,
         "_deepnote_index_column": 35
        },
        {
         "tweets": "I’ll still fuck a stupid Bitch up tho",
         "ground_truth": 1,
         "nicola_annotations": 1,
         "hugo_annotations": 0,
         "mika_annotations": 1,
         "aidan_annotations": 0,
         "_deepnote_index_column": 36
        },
        {
         "tweets": "When someone tries to threaten me",
         "ground_truth": 0,
         "nicola_annotations": 0,
         "hugo_annotations": 0,
         "mika_annotations": 0,
         "aidan_annotations": 0,
         "_deepnote_index_column": 37
        },
        {
         "tweets": "If this is implemented well, could be good news for Philadelphians.",
         "ground_truth": 0,
         "nicola_annotations": 0,
         "hugo_annotations": 0,
         "mika_annotations": 0,
         "aidan_annotations": 0,
         "_deepnote_index_column": 38
        },
        {
         "tweets": "If you really wanna know what someone you're fucking thinks about you, make them show you how you'r…",
         "ground_truth": 0,
         "nicola_annotations": 0,
         "hugo_annotations": 0,
         "mika_annotations": 0,
         "aidan_annotations": 0,
         "_deepnote_index_column": 39
        },
        {
         "tweets": "@user stupid women fuck up my life #WomenSuck",
         "ground_truth": 1,
         "nicola_annotations": 1,
         "hugo_annotations": 1,
         "mika_annotations": 1,
         "aidan_annotations": 1,
         "_deepnote_index_column": 40
        },
        {
         "tweets": "@user USA should stop trading with Mexico, if they dont stop the refugees.",
         "ground_truth": 1,
         "nicola_annotations": 1,
         "hugo_annotations": 1,
         "mika_annotations": 0,
         "aidan_annotations": 0,
         "_deepnote_index_column": 41
        },
        {
         "tweets": "If you have to ask why #WomenSuck you're obviously a woman.... And you suck.... #subtweet",
         "ground_truth": 1,
         "nicola_annotations": 1,
         "hugo_annotations": 1,
         "mika_annotations": 1,
         "aidan_annotations": 1,
         "_deepnote_index_column": 42
        },
        {
         "tweets": "@user @user Where are you getting #NotAllMen from? I took issue with the fact they don't explain th…",
         "ground_truth": 0,
         "nicola_annotations": 0,
         "hugo_annotations": 0,
         "mika_annotations": 0,
         "aidan_annotations": 0,
         "_deepnote_index_column": 43
        },
        {
         "tweets": "@user The difference is you promote being a slut you dumb bitch you should go fuck yourself and sti…",
         "ground_truth": 1,
         "nicola_annotations": 1,
         "hugo_annotations": 0,
         "mika_annotations": 1,
         "aidan_annotations": 1,
         "_deepnote_index_column": 44
        },
        {
         "tweets": "@user weird as fuck cuz women suck. #YouSuck",
         "ground_truth": 1,
         "nicola_annotations": 1,
         "hugo_annotations": 1,
         "mika_annotations": 1,
         "aidan_annotations": 1,
         "_deepnote_index_column": 45
        },
        {
         "tweets": "The blue wave is coming if we don't build that damn wall. #BuildThatWall & #MAGA",
         "ground_truth": 1,
         "nicola_annotations": 0,
         "hugo_annotations": 1,
         "mika_annotations": 1,
         "aidan_annotations": 0,
         "_deepnote_index_column": 46
        },
        {
         "tweets": "People that hate on you that you've done nothing to and don't know you are just jealous of you... E…",
         "ground_truth": 0,
         "nicola_annotations": 0,
         "hugo_annotations": 0,
         "mika_annotations": 0,
         "aidan_annotations": 0,
         "_deepnote_index_column": 47
        },
        {
         "tweets": "When the rival lemonade stand starts stealin your business",
         "ground_truth": 0,
         "nicola_annotations": 0,
         "hugo_annotations": 0,
         "mika_annotations": 0,
         "aidan_annotations": 0,
         "_deepnote_index_column": 48
        },
        {
         "tweets": "@user let's get weird! Summertime baby! #FuckBitches",
         "ground_truth": 1,
         "nicola_annotations": 1,
         "hugo_annotations": 0,
         "mika_annotations": 0,
         "aidan_annotations": 1,
         "_deepnote_index_column": 49
        },
        {
         "tweets": "WHO.. ARE. YOOUU? This is not mario kart. You are no princess peach. Get your skank ass up out my l…",
         "ground_truth": 1,
         "nicola_annotations": 1,
         "hugo_annotations": 0,
         "mika_annotations": 1,
         "aidan_annotations": 1,
         "_deepnote_index_column": 50
        },
        {
         "tweets": "Boo, you sweaty whore",
         "ground_truth": 1,
         "nicola_annotations": 1,
         "hugo_annotations": 0,
         "mika_annotations": 1,
         "aidan_annotations": 1,
         "_deepnote_index_column": 51
        },
        {
         "tweets": "Excellent.Since we can't separate families, lock all their asses up until a judge can deport them.I…",
         "ground_truth": 1,
         "nicola_annotations": 1,
         "hugo_annotations": 1,
         "mika_annotations": 1,
         "aidan_annotations": 1,
         "_deepnote_index_column": 52
        },
        {
         "tweets": "Just so you know, I'm a righteous Dick Cheney Impersonator, which is not like a thing or anything.",
         "ground_truth": 0,
         "nicola_annotations": 0,
         "hugo_annotations": 0,
         "mika_annotations": 0,
         "aidan_annotations": 0,
         "_deepnote_index_column": 53
        },
        {
         "tweets": "RT @user I don't see why drinking and driving is such a big deal. Letting women drive is just as ha…",
         "ground_truth": 1,
         "nicola_annotations": 1,
         "hugo_annotations": 1,
         "mika_annotations": 1,
         "aidan_annotations": 1,
         "_deepnote_index_column": 54
        },
        {
         "tweets": "If Richard Stallman has 1 GB of RAM, and if you have 1 GB of RAM, Richard Stallman has more RAM tha…",
         "ground_truth": 0,
         "nicola_annotations": 0,
         "hugo_annotations": 0,
         "mika_annotations": 0,
         "aidan_annotations": 0,
         "_deepnote_index_column": 55
        },
        {
         "tweets": "We are not all men and women of God in this context, I'm not talking generalization, I'm talking ab…",
         "ground_truth": 0,
         "nicola_annotations": 0,
         "hugo_annotations": 0,
         "mika_annotations": 0,
         "aidan_annotations": 0,
         "_deepnote_index_column": 56
        },
        {
         "tweets": "someone: breathes ada: dumb whore cunt slut your moms a hoe kill yourself bitch get shot",
         "ground_truth": 1,
         "nicola_annotations": 1,
         "hugo_annotations": 0,
         "mika_annotations": 1,
         "aidan_annotations": 1,
         "_deepnote_index_column": 57
        },
        {
         "tweets": "From the archives: Daniel Berrigan on refugees, Christ, and the American Dream.",
         "ground_truth": 0,
         "nicola_annotations": 0,
         "hugo_annotations": 0,
         "mika_annotations": 0,
         "aidan_annotations": 0,
         "_deepnote_index_column": 58
        },
        {
         "tweets": "Now All These Hoes Talking Bout THEY NEED A GUCCI BITCH BE YOSELF",
         "ground_truth": 1,
         "nicola_annotations": 1,
         "hugo_annotations": 0,
         "mika_annotations": 1,
         "aidan_annotations": 1,
         "_deepnote_index_column": 59
        },
        {
         "tweets": "@user I quite liked the look of the air ram?? And dyson.. but you are right they are a bit steep...…",
         "ground_truth": 0,
         "nicola_annotations": 0,
         "hugo_annotations": 0,
         "mika_annotations": 0,
         "aidan_annotations": 0,
         "_deepnote_index_column": 60
        },
        {
         "tweets": "Worldbank reports that in the next 30 years many refugees have to leave her homeland, specially in …",
         "ground_truth": 1,
         "nicola_annotations": 1,
         "hugo_annotations": 1,
         "mika_annotations": 0,
         "aidan_annotations": 1,
         "_deepnote_index_column": 61
        },
        {
         "tweets": "@user Hope one of these crazy ppl assassinate Trump the stupid son of a bitch my free speech he has…",
         "ground_truth": 0,
         "nicola_annotations": 0,
         "hugo_annotations": 0,
         "mika_annotations": 0,
         "aidan_annotations": 1,
         "_deepnote_index_column": 62
        },
        {
         "tweets": "This is my most accurate understanding of religion",
         "ground_truth": 0,
         "nicola_annotations": 0,
         "hugo_annotations": 0,
         "mika_annotations": 0,
         "aidan_annotations": 0,
         "_deepnote_index_column": 63
        },
        {
         "tweets": "“If this is your definition of journalism, then don’t be suprised when people call you a racially o…",
         "ground_truth": 0,
         "nicola_annotations": 0,
         "hugo_annotations": 0,
         "mika_annotations": 0,
         "aidan_annotations": 0,
         "_deepnote_index_column": 64
        },
        {
         "tweets": "Did you know that Gurmeet Ram Rahim Singh Ji has donated 25 lacs from the Earning of Jattu Engineer…",
         "ground_truth": 0,
         "nicola_annotations": 0,
         "hugo_annotations": 0,
         "mika_annotations": 0,
         "aidan_annotations": 0,
         "_deepnote_index_column": 65
        },
        {
         "tweets": "@user Must take decisive action for sealing borders with B'desh to prevent rampant illegal migratio…",
         "ground_truth": 1,
         "nicola_annotations": 1,
         "hugo_annotations": 0,
         "mika_annotations": 0,
         "aidan_annotations": 0,
         "_deepnote_index_column": 66
        },
        {
         "tweets": "@user While ruling a quarter of the Earth the British still lived on an Island the size of Michigan…",
         "ground_truth": 0,
         "nicola_annotations": 0,
         "hugo_annotations": 0,
         "mika_annotations": 0,
         "aidan_annotations": 0,
         "_deepnote_index_column": 67
        },
        {
         "tweets": "Canberra is obviously happy to be seen as an ally of Trump and Orban. And to underline multilateral…",
         "ground_truth": 0,
         "nicola_annotations": 0,
         "hugo_annotations": 0,
         "mika_annotations": 0,
         "aidan_annotations": 0,
         "_deepnote_index_column": 68
        },
        {
         "tweets": "i use to get sky at my dads house but his whore girlfriend never use to let me watch it",
         "ground_truth": 1,
         "nicola_annotations": 1,
         "hugo_annotations": 0,
         "mika_annotations": 0,
         "aidan_annotations": 1,
         "_deepnote_index_column": 69
        },
        {
         "tweets": "@user why? So you can look like a trashy mess? #WomenSuck",
         "ground_truth": 1,
         "nicola_annotations": 1,
         "hugo_annotations": 1,
         "mika_annotations": 1,
         "aidan_annotations": 1,
         "_deepnote_index_column": 70
        },
        {
         "tweets": "@user LOL, you do dress like a slut :-) you look excellent.It entertains me that you have the slutt…",
         "ground_truth": 1,
         "nicola_annotations": 1,
         "hugo_annotations": 0,
         "mika_annotations": 1,
         "aidan_annotations": 1,
         "_deepnote_index_column": 71
        },
        {
         "tweets": "@user Not all women deserve respect. Not all men deserve respect. Respect is earned, not deserved. …",
         "ground_truth": 0,
         "nicola_annotations": 0,
         "hugo_annotations": 0,
         "mika_annotations": 0,
         "aidan_annotations": 0,
         "_deepnote_index_column": 72
        },
        {
         "tweets": "Fight to stop U.S. Customs and Border Protection from abusing immigrant children. @user #FamiliesBe…",
         "ground_truth": 0,
         "nicola_annotations": 0,
         "hugo_annotations": 0,
         "mika_annotations": 0,
         "aidan_annotations": 0,
         "_deepnote_index_column": 73
        },
        {
         "tweets": "Went to @user stupid bitch put one in upside down one side ways. #wtf £6 we'll spent #cunt",
         "ground_truth": 1,
         "nicola_annotations": 1,
         "hugo_annotations": 0,
         "mika_annotations": 1,
         "aidan_annotations": 1,
         "_deepnote_index_column": 74
        },
        {
         "tweets": "Ready for school? @user provides around 54,000 refugee students access to free education through 15…",
         "ground_truth": 0,
         "nicola_annotations": 0,
         "hugo_annotations": 0,
         "mika_annotations": 0,
         "aidan_annotations": 0,
         "_deepnote_index_column": 75
        },
        {
         "tweets": "@user @user Steinle, who was murdered by an illegal Mexican immigrant on July 1, 2015.",
         "ground_truth": 1,
         "nicola_annotations": 0,
         "hugo_annotations": 0,
         "mika_annotations": 0,
         "aidan_annotations": 0,
         "_deepnote_index_column": 76
        },
        {
         "tweets": "Thank you @user for welcoming and employing Omar and other refugees eager to provide for their fami…",
         "ground_truth": 0,
         "nicola_annotations": 0,
         "hugo_annotations": 0,
         "mika_annotations": 0,
         "aidan_annotations": 0,
         "_deepnote_index_column": 77
        },
        {
         "tweets": "She's nothing but a @user con. She's an illegal immigrant &amp; Slovenian skinhead Nazi B back home…",
         "ground_truth": 1,
         "nicola_annotations": 1,
         "hugo_annotations": 1,
         "mika_annotations": 1,
         "aidan_annotations": 1,
         "_deepnote_index_column": 78
        },
        {
         "tweets": "Mexican immigrant niggas when they’re working at their taco shop and the cops arrive",
         "ground_truth": 1,
         "nicola_annotations": 1,
         "hugo_annotations": 1,
         "mika_annotations": 1,
         "aidan_annotations": 1,
         "_deepnote_index_column": 79
        },
        {
         "tweets": "Now since all Indians been mapped thru Aadhar Card. Flush out illegal immigrants,whose No has grown…",
         "ground_truth": 1,
         "nicola_annotations": 1,
         "hugo_annotations": 0,
         "mika_annotations": 1,
         "aidan_annotations": 1,
         "_deepnote_index_column": 80
        },
        {
         "tweets": "It's National Kissing Day... So you can all kiss my mutha fuckin ass",
         "ground_truth": 0,
         "nicola_annotations": 0,
         "hugo_annotations": 0,
         "mika_annotations": 0,
         "aidan_annotations": 0,
         "_deepnote_index_column": 81
        },
        {
         "tweets": "Seriously. Get these people out of there. If we can't due to current EU or UN directives then we ca…",
         "ground_truth": 1,
         "nicola_annotations": 0,
         "hugo_annotations": 0,
         "mika_annotations": 1,
         "aidan_annotations": 0,
         "_deepnote_index_column": 82
        },
        {
         "tweets": "WHO'S THE WHORE NOW YOU PIECE OF SHIT",
         "ground_truth": 1,
         "nicola_annotations": 1,
         "hugo_annotations": 0,
         "mika_annotations": 1,
         "aidan_annotations": 1,
         "_deepnote_index_column": 83
        },
        {
         "tweets": "I'm a couple days late, but you should read this story from @user on the real estate business of im…",
         "ground_truth": 0,
         "nicola_annotations": 0,
         "hugo_annotations": 0,
         "mika_annotations": 0,
         "aidan_annotations": 0,
         "_deepnote_index_column": 84
        },
        {
         "tweets": "When she got you caught up and you're tryna figure out how you're gonna lie your way outta this one",
         "ground_truth": 0,
         "nicola_annotations": 0,
         "hugo_annotations": 0,
         "mika_annotations": 0,
         "aidan_annotations": 0,
         "_deepnote_index_column": 85
        },
        {
         "tweets": "Understanding #foodsecurity in the context of #ruraldevelopment and #agriculture is a central part …",
         "ground_truth": 0,
         "nicola_annotations": 0,
         "hugo_annotations": 0,
         "mika_annotations": 0,
         "aidan_annotations": 0,
         "_deepnote_index_column": 86
        },
        {
         "tweets": "I am not a refugee but thank you anyways for supporting my thread",
         "ground_truth": 0,
         "nicola_annotations": 0,
         "hugo_annotations": 0,
         "mika_annotations": 0,
         "aidan_annotations": 0,
         "_deepnote_index_column": 87
        },
        {
         "tweets": "I really sympathise for the kid at @user DC office who answered my call. I asked him how he feels a…",
         "ground_truth": 0,
         "nicola_annotations": 0,
         "hugo_annotations": 0,
         "mika_annotations": 0,
         "aidan_annotations": 0,
         "_deepnote_index_column": 88
        },
        {
         "tweets": "Son- mom, how did you and dad meet? Mom- he had on gray sweats and his dick print was fleekin so I …",
         "ground_truth": 0,
         "nicola_annotations": 1,
         "hugo_annotations": 0,
         "mika_annotations": 0,
         "aidan_annotations": 0,
         "_deepnote_index_column": 89
        },
        {
         "tweets": "Immigrant parents of companies like the annual National Homeland Security, trying to the perfect se…",
         "ground_truth": 0,
         "nicola_annotations": 0,
         "hugo_annotations": 0,
         "mika_annotations": 0,
         "aidan_annotations": 0,
         "_deepnote_index_column": 90
        },
        {
         "tweets": "When the gangbang goes horribly wrong",
         "ground_truth": 0,
         "nicola_annotations": 0,
         "hugo_annotations": 0,
         "mika_annotations": 0,
         "aidan_annotations": 0,
         "_deepnote_index_column": 91
        },
        {
         "tweets": "RT @user It's April fools day but I clown you bitches every day. Imma take the day off, have a good…",
         "ground_truth": 0,
         "nicola_annotations": 0,
         "hugo_annotations": 0,
         "mika_annotations": 1,
         "aidan_annotations": 0,
         "_deepnote_index_column": 92
        },
        {
         "tweets": "@user You call it whatever you want -You praise hoes and and women in the wrong moral leaf and atta…",
         "ground_truth": 1,
         "nicola_annotations": 1,
         "hugo_annotations": 0,
         "mika_annotations": 1,
         "aidan_annotations": 1,
         "_deepnote_index_column": 93
        },
        {
         "tweets": "Happiest of birthdays to the main hoe 😏💃🏻 I hope you have a wonderful day angel 🌹💞 @user",
         "ground_truth": 0,
         "nicola_annotations": 0,
         "hugo_annotations": 0,
         "mika_annotations": 0,
         "aidan_annotations": 0,
         "_deepnote_index_column": 94
        },
        {
         "tweets": "Oooohhhh bitch didn't even listen to the dead kennedys what a cunt lol I'm 34 and hate rap",
         "ground_truth": 0,
         "nicola_annotations": 1,
         "hugo_annotations": 0,
         "mika_annotations": 0,
         "aidan_annotations": 1,
         "_deepnote_index_column": 95
        },
        {
         "tweets": "@user Good Luck @user More Americans #WalkAwayFromDemocrat  #WallkAway from OPEN BORDERS Pro illega…",
         "ground_truth": 0,
         "nicola_annotations": 1,
         "hugo_annotations": 0,
         "mika_annotations": 0,
         "aidan_annotations": 0,
         "_deepnote_index_column": 96
        },
        {
         "tweets": "Bitch you can't keep up so stop trying",
         "ground_truth": 1,
         "nicola_annotations": 1,
         "hugo_annotations": 0,
         "mika_annotations": 1,
         "aidan_annotations": 0,
         "_deepnote_index_column": 97
        },
        {
         "tweets": "@user @user @user @user @user @user Japan is always operating under the premise that mass migration…",
         "ground_truth": 0,
         "nicola_annotations": 0,
         "hugo_annotations": 0,
         "mika_annotations": 0,
         "aidan_annotations": 0,
         "_deepnote_index_column": 98
        },
        {
         "tweets": "@user hi Best l see someone fucking girl comment bad in your pic.why you not block the bitch girl n…",
         "ground_truth": 1,
         "nicola_annotations": 1,
         "hugo_annotations": 0,
         "mika_annotations": 1,
         "aidan_annotations": 1,
         "_deepnote_index_column": 99
        }
       ],
       "rows_bottom": null
      },
      "text/plain": "                                               tweets  ground_truth  \\\n0   Cry baby Hollywood Dems Anti-Trump celebs too ...             0   \n1   @user Do I have to fight another bitch ass loo...             1   \n2   #SouthCarolina has spent millions of dollars t...             0   \n3     Me trying to flirt- I wanna eat your hot pocket             0   \n4   People say, \"Why didn't this or that immigrant...             0   \n..                                                ...           ...   \n95  Oooohhhh bitch didn't even listen to the dead ...             0   \n96  @user Good Luck @user More Americans #WalkAway...             0   \n97             Bitch you can't keep up so stop trying             1   \n98  @user @user @user @user @user @user Japan is a...             0   \n99  @user hi Best l see someone fucking girl comme...             1   \n\n    nicola_annotations  hugo_annotations  mika_annotations  aidan_annotations  \n0                    0                 0                 0                  0  \n1                    1                 0                 1                  1  \n2                    0                 0                 0                  0  \n3                    0                 0                 0                  0  \n4                    0                 0                 0                  0  \n..                 ...               ...               ...                ...  \n95                   1                 0                 0                  1  \n96                   1                 0                 0                  0  \n97                   1                 0                 1                  0  \n98                   0                 0                 0                  0  \n99                   1                 0                 1                  1  \n\n[100 rows x 6 columns]",
      "text/html": "<div>\n<style scoped>\n    .dataframe tbody tr th:only-of-type {\n        vertical-align: middle;\n    }\n\n    .dataframe tbody tr th {\n        vertical-align: top;\n    }\n\n    .dataframe thead th {\n        text-align: right;\n    }\n</style>\n<table border=\"1\" class=\"dataframe\">\n  <thead>\n    <tr style=\"text-align: right;\">\n      <th></th>\n      <th>tweets</th>\n      <th>ground_truth</th>\n      <th>nicola_annotations</th>\n      <th>hugo_annotations</th>\n      <th>mika_annotations</th>\n      <th>aidan_annotations</th>\n    </tr>\n  </thead>\n  <tbody>\n    <tr>\n      <th>0</th>\n      <td>Cry baby Hollywood Dems Anti-Trump celebs too ...</td>\n      <td>0</td>\n      <td>0</td>\n      <td>0</td>\n      <td>0</td>\n      <td>0</td>\n    </tr>\n    <tr>\n      <th>1</th>\n      <td>@user Do I have to fight another bitch ass loo...</td>\n      <td>1</td>\n      <td>1</td>\n      <td>0</td>\n      <td>1</td>\n      <td>1</td>\n    </tr>\n    <tr>\n      <th>2</th>\n      <td>#SouthCarolina has spent millions of dollars t...</td>\n      <td>0</td>\n      <td>0</td>\n      <td>0</td>\n      <td>0</td>\n      <td>0</td>\n    </tr>\n    <tr>\n      <th>3</th>\n      <td>Me trying to flirt- I wanna eat your hot pocket</td>\n      <td>0</td>\n      <td>0</td>\n      <td>0</td>\n      <td>0</td>\n      <td>0</td>\n    </tr>\n    <tr>\n      <th>4</th>\n      <td>People say, \"Why didn't this or that immigrant...</td>\n      <td>0</td>\n      <td>0</td>\n      <td>0</td>\n      <td>0</td>\n      <td>0</td>\n    </tr>\n    <tr>\n      <th>...</th>\n      <td>...</td>\n      <td>...</td>\n      <td>...</td>\n      <td>...</td>\n      <td>...</td>\n      <td>...</td>\n    </tr>\n    <tr>\n      <th>95</th>\n      <td>Oooohhhh bitch didn't even listen to the dead ...</td>\n      <td>0</td>\n      <td>1</td>\n      <td>0</td>\n      <td>0</td>\n      <td>1</td>\n    </tr>\n    <tr>\n      <th>96</th>\n      <td>@user Good Luck @user More Americans #WalkAway...</td>\n      <td>0</td>\n      <td>1</td>\n      <td>0</td>\n      <td>0</td>\n      <td>0</td>\n    </tr>\n    <tr>\n      <th>97</th>\n      <td>Bitch you can't keep up so stop trying</td>\n      <td>1</td>\n      <td>1</td>\n      <td>0</td>\n      <td>1</td>\n      <td>0</td>\n    </tr>\n    <tr>\n      <th>98</th>\n      <td>@user @user @user @user @user @user Japan is a...</td>\n      <td>0</td>\n      <td>0</td>\n      <td>0</td>\n      <td>0</td>\n      <td>0</td>\n    </tr>\n    <tr>\n      <th>99</th>\n      <td>@user hi Best l see someone fucking girl comme...</td>\n      <td>1</td>\n      <td>1</td>\n      <td>0</td>\n      <td>1</td>\n      <td>1</td>\n    </tr>\n  </tbody>\n</table>\n<p>100 rows × 6 columns</p>\n</div>"
     },
     "metadata": {}
    }
   ]
  },
  {
   "cell_type": "code",
   "source": "",
   "metadata": {
    "cell_id": "00096-97844893-ab52-44a3-b4f0-504c9fa4c326",
    "output_cleared": true,
    "deepnote_to_be_reexecuted": false,
    "source_hash": "b623e53d",
    "execution_start": 1622701507523,
    "execution_millis": 36164307,
    "deepnote_cell_type": "visualization"
   },
   "execution_count": 41,
   "outputs": []
  },
  {
   "cell_type": "markdown",
   "source": "### Classification Report \n---\nOne way of evaluating the annotation is to treat each annotator as a machine learning model that predicted some label. Then comparing the predicted labels with the set gold-standard allows us to compute common evaluation metrics, such as accuarcy, recall and sensitivity and f-scores, in order to evaluate the quality of the annotations in relation to the assumed gold standard.",
   "metadata": {
    "tags": [],
    "cell_id": "00098-f2a0eb96-33d7-475b-9a79-1323acf49f0f",
    "deepnote_cell_type": "markdown"
   }
  },
  {
   "cell_type": "markdown",
   "source": "#### Nicola",
   "metadata": {
    "tags": [],
    "cell_id": "00083-e9d8e55e-1a1b-4382-ab8f-4f1cd0866c6d",
    "deepnote_cell_type": "markdown"
   }
  },
  {
   "cell_type": "code",
   "metadata": {
    "tags": [],
    "cell_id": "00083-4d25e078-0d02-4bee-9b12-18997dc029fc",
    "deepnote_to_be_reexecuted": false,
    "source_hash": "bcea21dc",
    "execution_start": 1622701507526,
    "execution_millis": 27,
    "output_cleared": false,
    "deepnote_cell_type": "code"
   },
   "source": "print('#'*23 + ' ' + 'Nicola' + ' ' + '#'*23 + '\\n')    \nprint(pd.DataFrame(confusion_matrix(annotation_evaluation['ground_truth'], annotation_evaluation['nicola_annotations']), columns=['Predicted Non-Hate', 'Predicted Hate'], index=['Non-Hate', 'Hate']))\nprint('\\n')\nprint(classification_report(annotation_evaluation['ground_truth'], annotation_evaluation['nicola_annotations'], target_names=[\"Non-Hate\",\"Hate\"]))",
   "execution_count": 42,
   "outputs": [
    {
     "name": "stdout",
     "text": "####################### Nicola #######################\n\n          Predicted Non-Hate  Predicted Hate\nNon-Hate                  51               6\nHate                       7              36\n\n\n              precision    recall  f1-score   support\n\n    Non-Hate       0.88      0.89      0.89        57\n        Hate       0.86      0.84      0.85        43\n\n    accuracy                           0.87       100\n   macro avg       0.87      0.87      0.87       100\nweighted avg       0.87      0.87      0.87       100\n\n",
     "output_type": "stream"
    }
   ]
  },
  {
   "cell_type": "markdown",
   "source": "#### Hugo",
   "metadata": {
    "tags": [],
    "cell_id": "00085-813a7bbe-d384-4cf4-9238-d0f687fb3c35",
    "deepnote_cell_type": "markdown"
   }
  },
  {
   "cell_type": "code",
   "metadata": {
    "tags": [],
    "cell_id": "00086-ef62264d-da40-4f93-8501-3b48a383c3af",
    "deepnote_to_be_reexecuted": false,
    "source_hash": "50399f0",
    "execution_start": 1622701507541,
    "execution_millis": 67,
    "output_cleared": false,
    "deepnote_cell_type": "code"
   },
   "source": "print('#'*23 + ' ' + 'Hugo' + ' ' + '#'*23 + '\\n')    \nprint(pd.DataFrame(confusion_matrix(annotation_evaluation['ground_truth'], annotation_evaluation['hugo_annotations']), columns=['Predicted Non-Hate', 'Predicted Hate'], index=['Non-Hate', 'Hate']))\nprint('\\n')\nprint(classification_report(annotation_evaluation['ground_truth'], annotation_evaluation['hugo_annotations'], target_names=[\"Non-Hate\",\"Hate\"]))",
   "execution_count": 43,
   "outputs": [
    {
     "name": "stdout",
     "text": "####################### Hugo #######################\n\n          Predicted Non-Hate  Predicted Hate\nNon-Hate                  57               0\nHate                      28              15\n\n\n              precision    recall  f1-score   support\n\n    Non-Hate       0.67      1.00      0.80        57\n        Hate       1.00      0.35      0.52        43\n\n    accuracy                           0.72       100\n   macro avg       0.84      0.67      0.66       100\nweighted avg       0.81      0.72      0.68       100\n\n",
     "output_type": "stream"
    }
   ]
  },
  {
   "cell_type": "markdown",
   "source": "#### Mika",
   "metadata": {
    "tags": [],
    "cell_id": "00087-8d24c2ad-703e-4aac-85e2-e9b989611a9b",
    "deepnote_cell_type": "markdown"
   }
  },
  {
   "cell_type": "code",
   "metadata": {
    "tags": [],
    "cell_id": "00088-7d2e3665-56fb-4202-b1db-ffb761c3aac1",
    "deepnote_to_be_reexecuted": false,
    "source_hash": "af8257d",
    "execution_start": 1622701507563,
    "execution_millis": 45,
    "output_cleared": false,
    "deepnote_cell_type": "code"
   },
   "source": "print('#'*23 + ' ' + 'Mika' + ' ' + '#'*23 + '\\n')    \nprint(pd.DataFrame(confusion_matrix(annotation_evaluation['ground_truth'], annotation_evaluation['mika_annotations']), columns=['Predicted Non-Hate', 'Predicted Hate'], index=['Non-Hate', 'Hate']))\nprint('\\n')\nprint(classification_report(annotation_evaluation['ground_truth'], annotation_evaluation['mika_annotations'], target_names=[\"Non-Hate\",\"Hate\"]))",
   "execution_count": 44,
   "outputs": [
    {
     "name": "stdout",
     "text": "####################### Mika #######################\n\n          Predicted Non-Hate  Predicted Hate\nNon-Hate                  53               4\nHate                      10              33\n\n\n              precision    recall  f1-score   support\n\n    Non-Hate       0.84      0.93      0.88        57\n        Hate       0.89      0.77      0.82        43\n\n    accuracy                           0.86       100\n   macro avg       0.87      0.85      0.85       100\nweighted avg       0.86      0.86      0.86       100\n\n",
     "output_type": "stream"
    }
   ]
  },
  {
   "cell_type": "markdown",
   "source": "#### Aidan",
   "metadata": {
    "tags": [],
    "cell_id": "00089-5d316bcb-e369-47e9-b066-5966d455a8b0",
    "deepnote_cell_type": "markdown"
   }
  },
  {
   "cell_type": "code",
   "metadata": {
    "tags": [],
    "cell_id": "00090-0b4eefc0-45ba-4abc-a33b-60c161143407",
    "deepnote_to_be_reexecuted": false,
    "source_hash": "8b9c4fb5",
    "execution_start": 1622701507581,
    "execution_millis": 28,
    "output_cleared": false,
    "deepnote_cell_type": "code"
   },
   "source": "print('#'*23 + ' ' + 'Aidan' + ' ' + '#'*23 + '\\n')    \nprint(pd.DataFrame(confusion_matrix(annotation_evaluation['ground_truth'], annotation_evaluation['aidan_annotations']), columns=['Predicted Non-Hate', 'Predicted Hate'], index=['Non-Hate', 'Hate']))\nprint('\\n')\nprint(classification_report(annotation_evaluation['ground_truth'], annotation_evaluation['aidan_annotations'], target_names=[\"Non-Hate\",\"Hate\"]))",
   "execution_count": 45,
   "outputs": [
    {
     "name": "stdout",
     "text": "####################### Aidan #######################\n\n          Predicted Non-Hate  Predicted Hate\nNon-Hate                  53               4\nHate                      13              30\n\n\n              precision    recall  f1-score   support\n\n    Non-Hate       0.80      0.93      0.86        57\n        Hate       0.88      0.70      0.78        43\n\n    accuracy                           0.83       100\n   macro avg       0.84      0.81      0.82       100\nweighted avg       0.84      0.83      0.83       100\n\n",
     "output_type": "stream"
    }
   ]
  },
  {
   "cell_type": "markdown",
   "source": "In summary, the confusion matrices and classification reports show that the even in a relatively small sample of only 100 tweets and only four different annotators, hate-speech seems to be perceived differently. Within the group, Nicola was most sensitive towards hate speech, meaning that out of all she labelled the most tweets as being hate speech. This resulted in a high recall score on the hate data and an overall balanced prediction. Hugo, in turn only tagged 15 tweets as being hate speech. His insensitivy towards labelling hate speech resulted in a high perfect recall score on non-hate and perfect precision on hate, i.e. whenever he labelled something as hatespeech, there is absolutely no doubt that it is actually hate speech. However, he also falsely predicted a lot of hate-tweets as being non-hate, resulting in a poor recall score on hate tweets. \n\nThe reports show that annotation of language data with regards to the general *state-of-mind* of the author is subject to personal perception. Thus, we have to find ways of agreeing on some gold-standard. The following chapter explores how we can numerically summarise annotations of multiple annotators to agree on target labels.",
   "metadata": {
    "tags": [],
    "cell_id": "00091-7fa4467f-e5fc-46f7-ba68-7b202aebb3ae",
    "deepnote_cell_type": "markdown"
   }
  },
  {
   "cell_type": "markdown",
   "source": "### Cohen's Kappa\n---\nCohen's Kappa ($\\kappa$) is an evaluation metric that is used to measure inter-rater reliability for labelling (categorical) items. In NLP it is i.e. used to compare the annotations of a single annotator with the original annotations. In general, Cohen's Kappa is preferred over simple percentage of agreement, since it corrects the score by the agreement that would be expected by pure chance. \nCohen's Kappa values range from  from in the interval $\\kappa \\in [-1,1]$, with larger values indicating higher agreement between two classifications. \n\nThe following code cell computes the Cohen's Kappa score for each annotator using the function `cohen_kappa_score` from `sci-kit learn`.",
   "metadata": {
    "tags": [],
    "cell_id": "00100-37543064-497f-4aee-a766-05b09d59042f",
    "deepnote_cell_type": "markdown"
   }
  },
  {
   "cell_type": "code",
   "metadata": {
    "tags": [],
    "cell_id": "00084-4c1bc88c-2ab6-4995-aac4-b91a12fad298",
    "deepnote_to_be_reexecuted": false,
    "source_hash": "5461db6d",
    "execution_start": 1622701507593,
    "execution_millis": 20,
    "output_cleared": false,
    "deepnote_cell_type": "code"
   },
   "source": "# compute cohen's kappa score for each annotator\nfor person in list(annotation_evaluation)[-4:]:\n    print(f'{person[:-12].title()}:\\t {round(cohen_kappa_score(annotation_evaluation[\"ground_truth\"], annotation_evaluation[person]),2)}')",
   "execution_count": 46,
   "outputs": [
    {
     "name": "stdout",
     "text": "Nicola:\t 0.73\nHugo:\t 0.38\nMika:\t 0.71\nAidan:\t 0.64\n",
     "output_type": "stream"
    }
   ]
  },
  {
   "cell_type": "markdown",
   "source": "The Cohen Kappa scores of the group's annotations suggest a *substantial agreement* with the original labelling, as three out of four of the scores are above 0.61. Hugo's score is less but is still considered *fair*.\n\nOne can summarise, that from the Cohen Kappa scores there is no substantial evidence against the original labelling being invalid.",
   "metadata": {
    "tags": [],
    "cell_id": "00085-3859dad6-3aee-409f-8f10-64929ae41a93",
    "deepnote_cell_type": "markdown"
   }
  },
  {
   "cell_type": "markdown",
   "source": "### Fleiss Kappa\n---\nFleiss' Kappa is a statistical measure for assessing the reliability of agreement between a fixed number of annotators when labels to a number of classifying items. In contrast to Cohen's Kappa it is metric between multiple annotators and is not only \n\nThe measure calculates the degree of agreement in classification over that which would be expected by chance.",
   "metadata": {
    "tags": [],
    "cell_id": "00095-bb74ed47-c3eb-4c5f-a5e1-5308d395c15e",
    "deepnote_cell_type": "markdown"
   }
  },
  {
   "cell_type": "code",
   "metadata": {
    "tags": [],
    "cell_id": "00100-0bac4d0e-2e41-4be3-acaa-a5b21dc7476e",
    "deepnote_to_be_reexecuted": false,
    "source_hash": "31b2361f",
    "execution_start": 1622701507662,
    "execution_millis": 9,
    "output_cleared": false,
    "deepnote_cell_type": "code"
   },
   "source": "# fleiss kappa with ground_truth\nannotation_list = []\nfor row_index in range(len(annotation_evaluation)):\n    zero = len([elm for elm in annotation_evaluation.iloc[row_index, 1:] if elm == 0])\n    annotation_list.append([zero, 5-zero])\n\nannotation_table = np.array(annotation_list)\n\nprint(\"Fleiss's K (Including Ground Truth):\", round(fleiss_kappa(annotation_table),2))\n\n# fleiss kappa without ground_truth\nannotation_list = []\nfor row_index in range(len(annotation_evaluation)):\n    zero = len([elm for elm in annotation_evaluation.iloc[row_index, 2:] if elm == 0])\n    annotation_list.append([zero, 4-zero])\n\nannotation_table = np.array(annotation_list)\n\nprint(\"Fleiss's K (Excluding Ground Truth):\", round(fleiss_kappa(annotation_table),2))",
   "execution_count": 47,
   "outputs": [
    {
     "name": "stdout",
     "text": "Fleiss's K (Including Ground Truth): 0.54\nFleiss's K (Excluding Ground Truth): 0.49\n",
     "output_type": "stream"
    }
   ]
  },
  {
   "cell_type": "markdown",
   "source": "In both cases, the Fleiss Kappa score can be interpreted as a *moderate agreement*.\n\nThe fact that the kappa score is higher with the ground truth labels being included tells us that the the 3/4 people who are more in agreement with eachother are more in agreement with the original labelling than Hugo's. ",
   "metadata": {
    "tags": [],
    "cell_id": "00102-9f6504f5-08b3-4913-84f4-414ea05a8ab1",
    "deepnote_cell_type": "markdown"
   }
  },
  {
   "cell_type": "markdown",
   "source": "# Classification\n---\n*TASK 4*\n\nThe final task of the project is to build the classifier both for the binary and the multiclass classification based on the bag-of-words model. It is a classical approach of extracting features from rich langauge in order to make automated predictions. The following general process was followed and implemented in the `build_model` function:\n\n1. **Combining Training and Validation Splits into Development Set**\n\n2. **Construct Pipeline**\n\n3. **GridSearch for Hyperparameter Tuning**\n\n4. **Model Evaluation**\n\nThe first step of the classifcation task combines the training and validation split, into one development set. This is possible, since at a later point in the classification the `GridSearchCV` method is going to run automatic cross-validation in order to identify the best parameters. \n\nWe then build a pipeline that takes the development set as input and consecutively works on the data: Firstly, the raw tokenised data is transformed into a sparse matrix using the `CountVectorizer` class. This creates a sparse matrix of small numeric values in the number of columns being the vocabulary size of the entire development corpus and the number of rows being the number of total tweets in the development set. Once the language data is transformed into numerical attributes, we can continue to work on the data, in order to build a best-performing model. Firstly, we upsample minority classes using the `SMOTE` oversampler, which synthetically creates new datapoints of the minority class by finding patterns in the existing datapoints of that claas. Through `TFidf Transformation` we compute the relevance of a token within some corpus and is a typically used tool in NLP in order to increase the performance of classifiers. Lastly, the pipeline trains a `SGD Classifier`.\n\nWe use `GridSearchCV` to find the parameters that optimise the overall performance of the model we are building. We therefore define several hyperparameters into a dictionary of parameters, that should be evaluated. The grid automatically performs cross validation on the development set in *n=5* splits and returns the model that optimises for `f1_macro` score. In that way, the resulting model will be optimmised for predicting individual classes equally well.",
   "metadata": {
    "cell_id": "00013-fc964c9b-2d90-48f7-93b6-89e1c191c669",
    "tags": [],
    "deepnote_cell_type": "markdown"
   }
  },
  {
   "cell_type": "code",
   "metadata": {
    "tags": [],
    "cell_id": "00099-f9b40fcf-5e09-4120-8f5b-00cab15fa2b8",
    "deepnote_to_be_reexecuted": false,
    "source_hash": "a68a1bfc",
    "execution_start": 1622705456407,
    "execution_millis": 1,
    "output_cleared": false,
    "deepnote_cell_type": "code"
   },
   "source": "from sklearn.model_selection import KFold\nfrom imblearn.pipeline import Pipeline\nfrom imblearn.over_sampling import SMOTE\nfrom sklearn.model_selection import GridSearchCV\n\nkf = KFold(n_splits=5, shuffle=False)\n\ndef build_model(dataset):\n    # combining train and validation, because grid search cross validates to find best params\n    X_dev = DATA['processed'][dataset]['train_text'] + DATA['processed'][dataset]['val_text']\n    y_dev = DATA['processed'][dataset]['train_labels'] + DATA['processed'][dataset]['val_labels']\n\n    # building pipeline to build classifier\n    # a) vectorise tokenised tweets into sparse matrix \n    # b) oversampling\n    # c) term frequency inverse document frequency for better performance\n    # d) train SGD classifier \n    classifier = Pipeline([('vect', CountVectorizer(preprocessor=lambda x:x, tokenizer=lambda x:x, stop_words=stopwords.words('english'))),\n                           ('ovs', SMOTE()),\n                           ('tfidf', TfidfTransformer()),\n                           ('clf', SGDClassifier())])\n\n    # hyperparameters to tune\n    parameters = {\n        'vect__max_df': (0.7, 0.9),                # cutoff tokens that appear in more than (100*p)% of tweets\n        'vect__min_df': (0, 0.05),                 # cutoff tokens that appear in less than (100*p)% of tweets\n        'vect__stop_words': [None, 'english'],     # inlude/ exclude stopwords\n        'tfidf__use_idf': (True, False),           # use/ not use tfidf\n        #'tfidf__norm': ('l1', 'l2'),\n        'clf__loss': ['hinge', 'log'],             # loss function of sgd classifier\n        'clf__alpha': (0.00001, 1e-3),\n        #'clf__penalty': ('l2', 'elasticnet'),\n    }\n\n    grid = GridSearchCV(classifier, param_grid = parameters, cv=kf, n_jobs=-1, scoring='f1_macro')\n    grid = grid.fit(X_dev, y_dev) # fit\n\n    print('Found Optimal Parameters!')\n    print(f'Parameters: {grid.best_params_}')\n    print(f'Best Macro F1-Score: {grid.best_score_}')\n\n    return grid",
   "execution_count": 106,
   "outputs": []
  },
  {
   "cell_type": "markdown",
   "source": "## Binary Classification\n---\nWe now use the above-defined function to build our model for the `hate` dataset. We therefore simply run the function with the correct function arguments. The time of computation depends on the number of hyperparameters to tune. \n\n*In the current configuration, model training takes:  $\\sim$400s*",
   "metadata": {
    "tags": [],
    "cell_id": "00100-900128a5-dbf4-4453-b0c0-f940ec3f206c",
    "deepnote_cell_type": "markdown"
   }
  },
  {
   "cell_type": "code",
   "metadata": {
    "tags": [],
    "cell_id": "00100-05dfbf2c-c788-448e-bac1-a425a720be8c",
    "deepnote_to_be_reexecuted": false,
    "source_hash": "f3f06f31",
    "execution_start": 1622705457484,
    "execution_millis": 697363,
    "output_cleared": false,
    "deepnote_cell_type": "code"
   },
   "source": "hate_model = build_model(dataset = 'hate')",
   "execution_count": 107,
   "outputs": [
    {
     "name": "stdout",
     "text": "Found Optimal Parameters!\nParameters: {'clf__alpha': 1e-05, 'clf__loss': 'log', 'tfidf__use_idf': True, 'vect__max_df': 0.9, 'vect__min_df': 0, 'vect__stop_words': None}\nBest Macro F1-Score: 0.7364209674541285\n",
     "output_type": "stream"
    }
   ]
  },
  {
   "cell_type": "markdown",
   "source": "The `GridSearchCV` returned the best-performing model with the given hyperparameters. We now evaluate on the so-far untouched test data to evaluate the final performance of the model.",
   "metadata": {
    "tags": [],
    "cell_id": "00102-d032fefd-bb47-4eee-a002-d86f63c66065",
    "deepnote_cell_type": "markdown"
   },
   "outputs": [],
   "execution_count": null
  },
  {
   "cell_type": "code",
   "metadata": {
    "tags": [],
    "cell_id": "00102-b0d91fb4-0aff-4c2a-9e80-fabd580d875a",
    "deepnote_to_be_reexecuted": false,
    "source_hash": "2abb931d",
    "execution_start": 1622706154839,
    "execution_millis": 50,
    "output_cleared": false,
    "deepnote_cell_type": "code"
   },
   "source": "# evaluate\nX_test, y_test = DATA['processed']['hate']['test_text'], DATA['processed']['hate']['test_labels']\n\npredictions = hate_model.predict(X_test)\nprint(classification_report(y_test, predictions))",
   "execution_count": 108,
   "outputs": [
    {
     "name": "stdout",
     "text": "              precision    recall  f1-score   support\n\n           0       0.74      0.19      0.30      1718\n           1       0.45      0.91      0.60      1252\n\n    accuracy                           0.49      2970\n   macro avg       0.60      0.55      0.45      2970\nweighted avg       0.62      0.49      0.43      2970\n\n",
     "output_type": "stream"
    }
   ]
  },
  {
   "cell_type": "code",
   "source": "",
   "metadata": {
    "tags": [],
    "cell_id": "00104-a9772289-d546-4ac1-b026-eca4897176f8",
    "deepnote_to_be_reexecuted": false,
    "source_hash": "b623e53d",
    "execution_start": 1622706154874,
    "execution_millis": 4,
    "deepnote_cell_type": "code"
   },
   "outputs": [],
   "execution_count": 108
  },
  {
   "cell_type": "markdown",
   "source": "## Multiclass Classification\n---\nWe train the model for the emotion recognition in a similar fashion by using the above-defined function. We therefore simply run the function with the correct function arguments. The time of computation depends on the number of hyperparameters to tune. \n\n*In the current configuration, model training takes:  $\\sim$200s*",
   "metadata": {
    "tags": [],
    "cell_id": "00102-eb0a2ff3-ae30-4b18-b4aa-0712e0743b98",
    "deepnote_cell_type": "markdown"
   }
  },
  {
   "cell_type": "code",
   "metadata": {
    "tags": [],
    "cell_id": "00104-dcd713f2-4b2f-4740-ae6f-5fbe31153559",
    "deepnote_to_be_reexecuted": false,
    "source_hash": "20519055",
    "execution_start": 1622706154881,
    "execution_millis": 191112,
    "output_cleared": false,
    "deepnote_cell_type": "code"
   },
   "source": "emotion_model = build_model(dataset = 'emotion')",
   "execution_count": 109,
   "outputs": [
    {
     "name": "stdout",
     "text": "Found Optimal Parameters!\nParameters: {'clf__alpha': 1e-05, 'clf__loss': 'log', 'tfidf__use_idf': True, 'vect__max_df': 0.7, 'vect__min_df': 0, 'vect__stop_words': 'english'}\nBest Macro F1-Score: 0.6143089557291297\n",
     "output_type": "stream"
    }
   ]
  },
  {
   "cell_type": "markdown",
   "source": "The `GridSearchCV` returned the best-performing model with the given hyperparameters. We now evaluate on the so-far untouched test data to evaluate the final performance of the model.",
   "metadata": {
    "tags": [],
    "cell_id": "00106-a3a5b8f4-de8c-47a6-9c93-ac156ac366c7",
    "deepnote_cell_type": "markdown"
   },
   "outputs": [],
   "execution_count": null
  },
  {
   "cell_type": "code",
   "metadata": {
    "tags": [],
    "cell_id": "00100-1923422e-d33e-4d4e-93db-9177324d89f0",
    "deepnote_to_be_reexecuted": false,
    "source_hash": "cabbfb93",
    "execution_start": 1622706345983,
    "execution_millis": 10,
    "output_cleared": false,
    "deepnote_cell_type": "code"
   },
   "source": "# evaluate\nX_test, y_test = DATA['processed']['emotion']['test_text'], DATA['processed']['emotion']['test_labels']\n\npredictions = emotion_model.predict(X_test)\nprint(classification_report(y_test, predictions))",
   "execution_count": 110,
   "outputs": [
    {
     "name": "stdout",
     "text": "              precision    recall  f1-score   support\n\n           0       0.76      0.73      0.75       558\n           1       0.71      0.67      0.69       358\n           2       0.30      0.34      0.32       123\n           3       0.65      0.69      0.67       382\n\n    accuracy                           0.67      1421\n   macro avg       0.60      0.61      0.61      1421\nweighted avg       0.68      0.67      0.67      1421\n\n",
     "output_type": "stream"
    }
   ]
  },
  {
   "cell_type": "markdown",
   "source": "<a style='text-decoration:none;line-height:16px;display:flex;color:#5B5B62;padding:10px;justify-content:end;' href='https://deepnote.com?utm_source=created-in-deepnote-cell&projectId=7ea65742-831a-48cd-9d56-a22e1ed66c7b' target=\"_blank\">\n<img alt='Created in deepnote.com' style='display:inline;max-height:16px;margin:0px;margin-right:7.5px;' src='data:image/svg+xml;base64,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' > </img>\nCreated in <span style='font-weight:600;margin-left:4px;'>Deepnote</span></a>",
   "metadata": {
    "tags": [],
    "created_in_deepnote_cell": true,
    "deepnote_cell_type": "markdown"
   }
  }
 ],
 "nbformat": 4,
 "nbformat_minor": 2,
 "metadata": {
  "deepnote": {
   "is_reactive": false
  },
  "deepnote_execution_queue": [],
  "deepnote_notebook_id": "912c8bda-48f1-43bf-8bff-0aac9dd9fbcb",
  "kernelspec": {
   "display_name": "Python 3",
   "language": "python",
   "name": "python3"
  },
  "language_info": {
   "codemirror_mode": {
    "name": "ipython",
    "version": 3
   },
   "file_extension": ".py",
   "mimetype": "text/x-python",
   "name": "python",
   "nbconvert_exporter": "python",
   "pygments_lexer": "ipython3",
   "version": "3.8.8"
  }
 }
}