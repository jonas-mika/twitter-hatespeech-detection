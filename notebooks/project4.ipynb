{
 "cells": [
  {
   "cell_type": "markdown",
   "source": "# Project 4: Natural Language Processing \n---\n\n**Group 9: Aidan Stocks, Hugo Reinicke, Nicola Clark, Jonas-Mika Senghaas**\n\nSubmission: *03.06.2021* / Last Modified: *27.04.2021*\n\n---\n\nThis notebook contains the step-by-step data science process performed *XXX*. The goal of this project was to *XXX*.\n\nThe initial data was obtained from the [TweetEval](https://github.com/cardiffnlp/tweeteval#evaluating-your-system) GitHub repository, that provides data for supervised training of classifiers for natural language processing.",
   "metadata": {
    "cell_id": "00000-8f8eb98f-2a98-41af-9825-5a8a8c441dee",
    "tags": [],
    "deepnote_cell_type": "markdown"
   }
  },
  {
   "cell_type": "markdown",
   "source": "## Introduction\n---\n*XXX*",
   "metadata": {
    "cell_id": "00001-5fcfa044-05ac-485a-8293-0db98813ff5e",
    "tags": [],
    "deepnote_cell_type": "markdown"
   }
  },
  {
   "cell_type": "markdown",
   "source": "## Running this Notebook\n---\nThis notebook contains all code to reproduce the findings of the project as can be seen on the [GitHub](https://github.com/jonas-mika/fyp2021p04g09) page of this project. In order to read in the data correctly, the global paths configured in the section `Constants` need to be correct. The following file structure - as prepared in the `submission.zip` - was followed throughout the project and is recommended to use (alternatively the paths in the section `Constants` can be adjusted):\n\n```\n*project tree structure*\n```\n*Note that the rest of the file structure as can be seen on the [GitHub](https://github.com/jonas-mika/fyp2021p03g09) page of the project generates automatically*",
   "metadata": {
    "cell_id": "00002-e3f8c8e5-1dc7-47ff-9108-2450997c051c",
    "tags": [],
    "deepnote_cell_type": "markdown"
   }
  },
  {
   "cell_type": "markdown",
   "source": "## Required Libraries and Further Imports\n---\nThroughout the project, we will use a range of both built-in and external Python libraries. This notebook will only run if all libraries and modules are correctly installed on your local machines. \nTo install missing packages use `pip install <package_name>` (PIP (Python Package Index) is the central package management system, read more [here](https://pypi.org/project/pip/)). \n\nIn case you desire further information about the used packages, click the following links to find detailed documentations:\n- [Pandas](https://pandas.pydata.org/)\n- [Numpy](https://numpy.org/)\n- [Matplotlib](https://matplotlib.org/stable/index.html)\n- [PIL](https://pillow.readthedocs.io/en/stable/)\n- [SciKit Learn](https://scikit-learn.org/stable/)\n- [SciKit Image](https://scikit-image.org/)\n- [Scipy](https://www.scipy.org/)",
   "metadata": {
    "cell_id": "00003-8f195f8a-4025-446a-8b44-300b55666211",
    "tags": [],
    "deepnote_cell_type": "markdown"
   }
  },
  {
   "cell_type": "code",
   "metadata": {
    "cell_id": "00004-cf13b571-fc4d-40f4-8617-43224164fcb8",
    "deepnote_to_be_reexecuted": false,
    "execution_millis": 31557,
    "execution_start": 1622219467409,
    "output_cleared": true,
    "source_hash": "56190a1e",
    "tags": [],
    "deepnote_cell_type": "code"
   },
   "source": "%%capture\n# uncomment lines with uninstalled packages\n\n#!pip install -U numpy pandas matplotlib seaborn skikit-learn \n!pip install pycontractions",
   "execution_count": 1,
   "outputs": []
  },
  {
   "cell_type": "code",
   "metadata": {
    "cell_id": "00005-9cbe0305-7f30-486b-be81-0c10af861246",
    "deepnote_to_be_reexecuted": false,
    "execution_millis": 3600,
    "execution_start": 1622219498970,
    "output_cleared": true,
    "source_hash": "474802c1",
    "tags": [],
    "deepnote_cell_type": "code"
   },
   "source": "# python standard libraries\nimport json                                            # data transfer to and from json format\nimport os                                              # access operating system from python\nimport math                                            # mathematical operations in python\nimport random                                          # creates randomness\nimport re                                              # regex search in python\nimport shutil                                          # system control in python\nimport warnings                                        # ignore annoying warnings\nwarnings.filterwarnings(\"ignore\")\n\n# external libraries\nimport numpy as np                                     # used for numerical calculations and fast array manipulations\nimport pandas as pd                                    # provides major datastructure pd.DataFrame() to store datasets\nimport matplotlib\nimport matplotlib.pyplot as plt                        # basic data visualisation\nimport seaborn as sns                                  # advanced data visualisation\nfrom nltk.tokenize import TweetTokenizer               # tokeniser api\nfrom pycontractions import Contractions                # intelligently expands contractions in natural language\nfrom collections import Counter                        # counts objects",
   "execution_count": 2,
   "outputs": []
  },
  {
   "cell_type": "code",
   "metadata": {
    "cell_id": "00006-5afa390e-a19c-4f7b-b2f5-752fba00777d",
    "deepnote_to_be_reexecuted": false,
    "execution_millis": 12,
    "execution_start": 1622219502600,
    "output_cleared": false,
    "source_hash": "9a25b5af",
    "deepnote_cell_type": "code"
   },
   "source": "print(f'Numpy Version: {np.__version__}')\nprint(f'Pandas Version: {pd.__version__}')\nprint(f'Matplotlib Version: {matplotlib.__version__}')\nprint(f'Seaborn Version: {sns.__version__}')",
   "execution_count": 3,
   "outputs": [
    {
     "name": "stdout",
     "text": "Numpy Version: 1.19.5\nPandas Version: 1.2.4\nMatplotlib Version: 3.4.2\nSeaborn Version: 0.11.1\n",
     "output_type": "stream"
    }
   ]
  },
  {
   "cell_type": "markdown",
   "source": "Since this project makes heavy use of functions to achieve maximal efficiency, all functions are stored externally in the package structure `project3'. The following imports are necessary for this notebook to run properly.",
   "metadata": {
    "cell_id": "00006-e9706598-54b2-4f29-9ca9-a6660685b48c",
    "tags": [],
    "deepnote_cell_type": "markdown"
   }
  },
  {
   "cell_type": "code",
   "metadata": {
    "cell_id": "00007-14d719d0-f91a-4eac-adc0-8f3981566bf1",
    "deepnote_to_be_reexecuted": false,
    "execution_millis": 0,
    "execution_start": 1622219502603,
    "output_cleared": true,
    "source_hash": "905c667e",
    "tags": [],
    "deepnote_cell_type": "code"
   },
   "source": "#from project4.processing import ...\n#from project4.save import ...\n#from project4.features import ...",
   "execution_count": 4,
   "outputs": []
  },
  {
   "cell_type": "markdown",
   "source": "## Constants\n---\nTo enhance readibilty, as well as to decrease the maintenance effort, it is useful for bigger projects to define contants that need to be accessed globally throughout the whole notebook in advance. \nThe following cell contains all of those global constants. By convention, we write them in caps (https://www.python.org/dev/peps/pep-0008/#constants)",
   "metadata": {
    "cell_id": "00008-4f347db9-f433-4a57-9e83-4fbb27586617",
    "tags": [],
    "deepnote_cell_type": "markdown"
   }
  },
  {
   "cell_type": "code",
   "metadata": {
    "cell_id": "00010-18532f0a-c77d-42e2-b487-aa327b69dc04",
    "deepnote_to_be_reexecuted": false,
    "execution_millis": 0,
    "execution_start": 1622219502603,
    "output_cleared": true,
    "source_hash": "2f89d05f",
    "tags": [],
    "deepnote_cell_type": "code"
   },
   "source": "PREPROCESS_DATA = False",
   "execution_count": 5,
   "outputs": []
  },
  {
   "cell_type": "code",
   "metadata": {
    "cell_id": "00009-8c033e56-02ab-48b7-9eff-1efefe08d35c",
    "deepnote_to_be_reexecuted": false,
    "execution_millis": 1,
    "execution_start": 1622219502642,
    "output_cleared": true,
    "source_hash": "599a5394",
    "tags": [],
    "deepnote_cell_type": "code"
   },
   "source": "DATASETS = ['hate', 'emotion']\n\n# store paths\nPATH = {}\nPATH['data'] = {}\nPATH['data']['raw'] = \"../data/raw/\"\nPATH['data']['processed'] = \"../data/processed/\"\n\n# store data \nDATA = {}\nDATA['raw'] = {}\nDATA['processed'] = {}\nfor dataset in DATASETS:\n    DATA['raw'][dataset] = {}\n    DATA['processed'][dataset] = {}",
   "execution_count": 6,
   "outputs": []
  },
  {
   "cell_type": "markdown",
   "source": "*TASK 0*\n# Fetching Data\n---",
   "metadata": {
    "cell_id": "00010-30f29e03-2c93-4a41-9cdd-c63ddcf81385",
    "tags": [],
    "deepnote_cell_type": "markdown"
   }
  },
  {
   "cell_type": "markdown",
   "source": "## Loading in Data\n---",
   "metadata": {
    "cell_id": "00012-517a92e6-641e-4b58-ae16-4fc3f1dc0f0c",
    "deepnote_cell_type": "markdown"
   }
  },
  {
   "cell_type": "code",
   "metadata": {
    "cell_id": "00011-d60e995b-fcb6-4868-b5f3-bead2a4d235a",
    "deepnote_to_be_reexecuted": false,
    "execution_millis": 0,
    "execution_start": 1622219502643,
    "output_cleared": true,
    "source_hash": "74974d65",
    "tags": [],
    "deepnote_cell_type": "code"
   },
   "source": "def read_raw_input(dataset):\n    # reading in all .txts into list of strings\n    for _file in os.listdir(f'../data/raw/{dataset}'):\n        with open(f'../data/raw/{dataset}/{_file}', 'r', encoding='UTF-8') as infile:\n            DATA['raw'][dataset][_file[:-4]] = [line.strip() for line in infile.readlines()]\n\n    # convert target labels to integers\n    for key in ['train_labels', 'val_labels', 'test_labels']:\n        DATA['raw'][dataset][key] = [int(x) for x in DATA['raw'][dataset][key]]\n\n    # convert mapping to dictionary\n    DATA['raw'][dataset]['mapping'] = {int(string.split('\\t')[0]): string.split('\\t')[1] for string in DATA['raw'][dataset]['mapping']}",
   "execution_count": 7,
   "outputs": []
  },
  {
   "cell_type": "code",
   "metadata": {
    "cell_id": "00014-a564b5fd-9112-40ea-ab20-a9e06cef672c",
    "deepnote_to_be_reexecuted": false,
    "execution_millis": 46,
    "execution_start": 1622219502644,
    "output_cleared": true,
    "scrolled": false,
    "source_hash": "3fbf30af",
    "deepnote_cell_type": "code"
   },
   "source": "for dataset in DATASETS:\n    read_raw_input(dataset)",
   "execution_count": 8,
   "outputs": []
  },
  {
   "cell_type": "markdown",
   "source": "## Exploring Data\n---",
   "metadata": {
    "cell_id": "00015-6ac2c66d-4d76-4711-82ed-29c0f25e3314",
    "deepnote_cell_type": "markdown"
   }
  },
  {
   "cell_type": "markdown",
   "source": "### Peek into Training Tweets",
   "metadata": {
    "cell_id": "00016-1ade1bb5-34a5-4a97-9049-49dbb00ee154",
    "deepnote_cell_type": "markdown"
   }
  },
  {
   "cell_type": "code",
   "metadata": {
    "cell_id": "00017-8c456ad3-3f69-4ec0-931f-2fdc6fe0e33e",
    "deepnote_to_be_reexecuted": false,
    "execution_millis": 20,
    "execution_start": 1622219502698,
    "output_cleared": false,
    "source_hash": "4847394d",
    "deepnote_cell_type": "code"
   },
   "source": "# hate\nfor i in range(10):\n    print(f\"{i+1}\\tLabel: {DATA['raw']['hate']['mapping'][DATA['raw']['hate']['train_labels'][i]].title()}\\t\\t{DATA['raw']['hate']['train_text'][i]}\")",
   "execution_count": 9,
   "outputs": [
    {
     "name": "stdout",
     "text": "1\tLabel: Not-Hate\t\t@user nice new signage. Are you not concerned by Beatlemania -style hysterical crowds crongregating on you…\n2\tLabel: Hate\t\tA woman who you fucked multiple times saying yo dick small is a compliment you know u hit that spot 😎\n3\tLabel: Hate\t\t@user @user real talk do you have eyes or were they gouged out by a rapefugee?\n4\tLabel: Hate\t\tyour girlfriend lookin at me like a groupie in this bitch!\n5\tLabel: Not-Hate\t\tHysterical woman like @user\n6\tLabel: Not-Hate\t\tMe flirting- So tell me about your father...\n7\tLabel: Not-Hate\t\tThe Philippine Catholic bishops' work for migrant workers should focus on families who are \"paying the great...\n8\tLabel: Hate\t\tI AM NOT GOING AFTER YOUR EX BF YOU LIEING SACK OF SHIT ! I'm done with you dude that's why I dumped your ass cause your a lieing 😂😡 bitch\n9\tLabel: Not-Hate\t\tWhen cuffin season is finally over\n10\tLabel: Hate\t\tSend home migrants not in need of protection, Peter Dutton tells UN, HEY DUTTON HOW ABOUT THE ONES THAT HAVE STAYED AND NOT LEFT THE COUNTRY WHEN THEY SHOULD OVERSTAYERS ? WHY DONT YOU GO AND ROUND ALL THEM UP ?\n",
     "output_type": "stream"
    }
   ]
  },
  {
   "cell_type": "code",
   "metadata": {
    "cell_id": "00018-f6587a74-f6da-4c6c-8540-db447f5615d9",
    "deepnote_to_be_reexecuted": false,
    "execution_millis": 21,
    "execution_start": 1622219502704,
    "output_cleared": false,
    "source_hash": "c303da21",
    "deepnote_cell_type": "code"
   },
   "source": "# emotion\nfor i in range(10):\n    print(f\"{i+1}\\tLabel: {DATA['raw']['emotion']['mapping'][DATA['raw']['emotion']['train_labels'][i]].title()}\\t\\t{DATA['raw']['emotion']['train_text'][i]}\")",
   "execution_count": 10,
   "outputs": [
    {
     "name": "stdout",
     "text": "1\tLabel: Optimism\t\t“Worry is a down payment on a problem you may never have'.  Joyce Meyer.  #motivation #leadership #worry\n2\tLabel: Anger\t\tMy roommate: it's okay that we can't spell because we have autocorrect. #terrible #firstworldprobs\n3\tLabel: Joy\t\tNo but that's so cute. Atsu was probably shy about photos before but cherry helped her out uwu\n4\tLabel: Anger\t\tRooneys fucking untouchable isn't he? Been fucking dreadful again, depay has looked decent(ish)tonight\n5\tLabel: Sadness\t\tit's pretty depressing when u hit pan on ur favourite highlighter\n6\tLabel: Anger\t\t@user but your pussy was weak from what I heard so stfu up to me bitch . You got to threaten him that your pregnant .\n7\tLabel: Sadness\t\tMaking that yearly transition from excited and hopeful college returner to sick and exhausted pessimist. #college\n8\tLabel: Joy\t\tTiller and breezy should do a collab album. Rapping and singing prolly be fire\n9\tLabel: Anger\t\t@user broadband is shocking regretting signing up now #angry #shouldofgonewithvirgin\n10\tLabel: Anger\t\t@user Look at those teef! #growl\n",
     "output_type": "stream"
    }
   ]
  },
  {
   "cell_type": "markdown",
   "source": "### Visualising Label Distribution",
   "metadata": {
    "cell_id": "00019-ac0093ee-cb8e-4df0-9240-28b8639da8f0",
    "deepnote_cell_type": "markdown"
   }
  },
  {
   "cell_type": "code",
   "metadata": {
    "cell_id": "00020-ff2b603d-7d95-43b5-8411-7c54ff2985ec",
    "deepnote_to_be_reexecuted": false,
    "execution_millis": 0,
    "execution_start": 1622219502762,
    "output_cleared": true,
    "source_hash": "f856703d",
    "deepnote_cell_type": "code"
   },
   "source": "def visualise_label_distribution(dataset):\n    fig, ax = plt.subplots(ncols=3, figsize=(12,4))\n    fig.suptitle(f'Frequency of Target Label in {dataset.capitalize()}', fontsize=12, fontweight='bold')\n\n    for i, key in enumerate(['train_labels', 'val_labels', 'test_labels']):\n        label, count = np.unique(DATA['raw'][dataset][key], return_counts=True)\n        ax[i].bar(label, count, color='grey');\n        ax[i].set_title(key.replace('_', ' ').title())\n        ax[i].set_xticks(label); ax[i].set_xticklabels([string.title() for string in DATA['raw'][dataset]['mapping'].values()])",
   "execution_count": 11,
   "outputs": []
  },
  {
   "cell_type": "code",
   "metadata": {
    "cell_id": "00021-046d0488-77dc-47d3-a29c-d178ea704a1f",
    "deepnote_to_be_reexecuted": false,
    "execution_millis": 387,
    "execution_start": 1622219502763,
    "output_cleared": false,
    "source_hash": "894be1c8",
    "deepnote_cell_type": "code"
   },
   "source": "visualise_label_distribution(dataset='hate')",
   "execution_count": 12,
   "outputs": [
    {
     "data": {
      "text/plain": "<Figure size 864x288 with 3 Axes>",
      "image/png": "[encoded data removed]"
     },
     "metadata": {
      "needs_background": "light",
      "image/png": {
       "width": 716,
       "height": 277
      }
     },
     "output_type": "display_data"
    }
   ]
  },
  {
   "cell_type": "code",
   "metadata": {
    "cell_id": "00022-83c0ec2d-8094-4123-8603-caad77edb2af",
    "deepnote_to_be_reexecuted": false,
    "execution_millis": 453,
    "execution_start": 1622219503162,
    "output_cleared": false,
    "source_hash": "c0926180",
    "deepnote_cell_type": "code"
   },
   "source": "visualise_label_distribution(dataset='emotion')",
   "execution_count": 13,
   "outputs": [
    {
     "data": {
      "text/plain": "<Figure size 864x288 with 3 Axes>",
      "image/png": "[encoded data removed]"
     },
     "metadata": {
      "needs_background": "light",
      "image/png": {
       "width": 716,
       "height": 277
      }
     },
     "output_type": "display_data"
    }
   ]
  },
  {
   "cell_type": "markdown",
   "source": "*TASK 0.5*\n# Processing of Language Data\n---\n",
   "metadata": {
    "cell_id": "00011-c1d3e256-83ab-4833-93bb-155c6dcb73ca",
    "tags": [],
    "deepnote_cell_type": "markdown"
   }
  },
  {
   "cell_type": "markdown",
   "source": "### Tokenize Tweets\n---\n",
   "metadata": {
    "cell_id": "00024-925deca3-bb20-43eb-bc18-98e47d7a5780",
    "tags": [],
    "deepnote_cell_type": "markdown"
   }
  },
  {
   "cell_type": "code",
   "metadata": {
    "cell_id": "00024-20c29398-21ac-493b-8d2a-2161b831ef91",
    "deepnote_to_be_reexecuted": false,
    "execution_millis": 0,
    "execution_start": 1622219503634,
    "output_cleared": true,
    "source_hash": "a1f7603b",
    "deepnote_cell_type": "code"
   },
   "source": "def tokeniser1(tweet):\n    return re.findall('\\w+', tweet)",
   "execution_count": 14,
   "outputs": []
  },
  {
   "cell_type": "code",
   "metadata": {
    "cell_id": "00013-de37fee0-8080-49a2-8348-0cc7cd793435",
    "deepnote_to_be_reexecuted": false,
    "execution_millis": 1,
    "execution_start": 1622219503634,
    "output_cleared": true,
    "source_hash": "fcce8e84",
    "tags": [],
    "deepnote_cell_type": "code"
   },
   "source": "def tokeniser2(tweet):\n    return re.split(' ', tweet)",
   "execution_count": 15,
   "outputs": []
  },
  {
   "cell_type": "code",
   "metadata": {
    "cell_id": "00026-12aa65c5-fb65-4563-9518-2593493305f8",
    "deepnote_to_be_reexecuted": false,
    "execution_millis": 0,
    "execution_start": 1622219503635,
    "output_cleared": true,
    "source_hash": "addc91b",
    "deepnote_cell_type": "code"
   },
   "source": "def tokeniser3(tweet):\n    tk = TweetTokenizer()\n    return tk.tokenize(tweet)",
   "execution_count": 16,
   "outputs": []
  },
  {
   "cell_type": "code",
   "metadata": {
    "cell_id": "00027-ef6625a3-be50-47af-8b54-b6da6068f0c4",
    "deepnote_to_be_reexecuted": false,
    "execution_millis": 0,
    "execution_start": 1622219503636,
    "output_cleared": true,
    "source_hash": "70f25dd3",
    "deepnote_cell_type": "code"
   },
   "source": "def tokeniser4(line):\n    # Initialise lists\n    tokens = []\n    unmatchable = [] # should be emtpy if done nicely\n\n    # Compile patterns for speedup\n    token_pat = re.compile('\\w+')\n    skippable_pat = re.compile('\\s+')  # typically spaces\n\n    # As long as there's any material left...\n    while line:\n        print(line)\n        # Try finding a skippable token delimiter first.\n        skippable_match = re.search(skippable_pat, line)\n        print(skippable_match)\n        if skippable_match and skippable_match.start() == 0:\n            # If there is one at the beginning of the line, just skip it.\n            line = line[skippable_match.end():]\n        else:\n            # Else try finding a real token.\n            token_match = re.search(token_pat, line)\n            if token_match and token_match.start() == 0:\n                print(token_match)\n                # If there is one at the beginning of the line, tokenise it.\n                tokens.append(line[:token_match.end()])\n                line = line[token_match.end():]\n            else:\n                # Else there is unmatchable material here.\n                # It ends where a skippable or token match starts, or at the end of the line.\n                unmatchable_end = len(line)\n                if skippable_match:\n                    unmatchable_end = skippable_match.start()\n                if token_match:\n                    unmatchable_end = min(unmatchable_end, token_match.start())\n                # Add it to unmatchable and discard from line.\n                unmatchable.append(line[:unmatchable_end])\n                line = line[unmatchable_end:]\n\n    return tokens",
   "execution_count": 17,
   "outputs": []
  },
  {
   "cell_type": "code",
   "metadata": {
    "cell_id": "00028-15e617bc-1809-4253-8f95-c827822c2e9e",
    "deepnote_to_be_reexecuted": false,
    "execution_millis": 20,
    "execution_start": 1622219503656,
    "output_cleared": false,
    "source_hash": "47651239",
    "deepnote_cell_type": "code"
   },
   "source": "#ex_tweet = DATA['hate']['train_text'][0]\nex_tweet = \"https://t.co/9z2J3P33Uc FB needs to hurry up and add a laugh/cry button 😬😭😓🤢🙄😱 Since eating my feelings has not fixed the world's problems, I guess I'll try to sleep... HOLY CRAP: DeVos questionnaire appears to include passages from uncited sources https://t.co/FNRoOlfw9s well played, Senator Murray Keep the pressure on: https://t.co/4hfOsmdk0l @datageneral thx Mr Taussig It's interesting how many people contact me about applying for a PhD and don't @user spell my name #something right. Wow ok I didn't realise i'm using contractions like haven't and won't.\"\n\ntokeniser = [tokeniser1, tokeniser2, tokeniser3]\n\nprint('Original Tweet: ',ex_tweet, '\\n')\nfor i in range(len(tokeniser)):\n    print(f\"Tokeniser {i+1}: {tokeniser[i](ex_tweet)}\\n\")",
   "execution_count": 18,
   "outputs": [
    {
     "name": "stdout",
     "text": "Original Tweet:  https://t.co/9z2J3P33Uc FB needs to hurry up and add a laugh/cry button 😬😭😓🤢🙄😱 Since eating my feelings has not fixed the world's problems, I guess I'll try to sleep... HOLY CRAP: DeVos questionnaire appears to include passages from uncited sources https://t.co/FNRoOlfw9s well played, Senator Murray Keep the pressure on: https://t.co/4hfOsmdk0l @datageneral thx Mr Taussig It's interesting how many people contact me about applying for a PhD and don't @user spell my name #something right. Wow ok I didn't realise i'm using contractions like haven't and won't. \n\nTokeniser 1: ['https', 't', 'co', '9z2J3P33Uc', 'FB', 'needs', 'to', 'hurry', 'up', 'and', 'add', 'a', 'laugh', 'cry', 'button', 'Since', 'eating', 'my', 'feelings', 'has', 'not', 'fixed', 'the', 'world', 's', 'problems', 'I', 'guess', 'I', 'll', 'try', 'to', 'sleep', 'HOLY', 'CRAP', 'DeVos', 'questionnaire', 'appears', 'to', 'include', 'passages', 'from', 'uncited', 'sources', 'https', 't', 'co', 'FNRoOlfw9s', 'well', 'played', 'Senator', 'Murray', 'Keep', 'the', 'pressure', 'on', 'https', 't', 'co', '4hfOsmdk0l', 'datageneral', 'thx', 'Mr', 'Taussig', 'It', 's', 'interesting', 'how', 'many', 'people', 'contact', 'me', 'about', 'applying', 'for', 'a', 'PhD', 'and', 'don', 't', 'user', 'spell', 'my', 'name', 'something', 'right', 'Wow', 'ok', 'I', 'didn', 't', 'realise', 'i', 'm', 'using', 'contractions', 'like', 'haven', 't', 'and', 'won', 't']\n\nTokeniser 2: ['https://t.co/9z2J3P33Uc', 'FB', 'needs', 'to', 'hurry', 'up', 'and', 'add', 'a', 'laugh/cry', 'button', '😬😭😓🤢🙄😱', 'Since', 'eating', 'my', 'feelings', 'has', 'not', 'fixed', 'the', \"world's\", 'problems,', 'I', 'guess', \"I'll\", 'try', 'to', 'sleep...', 'HOLY', 'CRAP:', 'DeVos', 'questionnaire', 'appears', 'to', 'include', 'passages', 'from', 'uncited', 'sources', 'https://t.co/FNRoOlfw9s', 'well', 'played,', 'Senator', 'Murray', 'Keep', 'the', 'pressure', 'on:', 'https://t.co/4hfOsmdk0l', '@datageneral', 'thx', 'Mr', 'Taussig', \"It's\", 'interesting', 'how', 'many', 'people', 'contact', 'me', 'about', 'applying', 'for', 'a', 'PhD', 'and', \"don't\", '@user', 'spell', 'my', 'name', '#something', 'right.', 'Wow', 'ok', 'I', \"didn't\", 'realise', \"i'm\", 'using', 'contractions', 'like', \"haven't\", 'and', \"won't.\"]\n\nTokeniser 3: ['https://t.co/9z2J3P33Uc', 'FB', 'needs', 'to', 'hurry', 'up', 'and', 'add', 'a', 'laugh', '/', 'cry', 'button', '😬', '😭', '😓', '🤢', '🙄', '😱', 'Since', 'eating', 'my', 'feelings', 'has', 'not', 'fixed', 'the', \"world's\", 'problems', ',', 'I', 'guess', \"I'll\", 'try', 'to', 'sleep', '...', 'HOLY', 'CRAP', ':', 'DeVos', 'questionnaire', 'appears', 'to', 'include', 'passages', 'from', 'uncited', 'sources', 'https://t.co/FNRoOlfw9s', 'well', 'played', ',', 'Senator', 'Murray', 'Keep', 'the', 'pressure', 'on', ':', 'https://t.co/4hfOsmdk0l', '@datageneral', 'thx', 'Mr', 'Taussig', \"It's\", 'interesting', 'how', 'many', 'people', 'contact', 'me', 'about', 'applying', 'for', 'a', 'PhD', 'and', \"don't\", '@user', 'spell', 'my', 'name', '#something', 'right', '.', 'Wow', 'ok', 'I', \"didn't\", 'realise', \"i'm\", 'using', 'contractions', 'like', \"haven't\", 'and', \"won't\", '.']\n\n",
     "output_type": "stream"
    }
   ]
  },
  {
   "cell_type": "markdown",
   "source": "### Summary\n---\n\nTokeniser 1 (Finds all Words):\n+ Good representation of words (includes Unicode characters and is sensible to punctuation within words, ie. \"don't\")\n- Deletes all punctuation (which might be important, ie. twitter communication heavily based tagging using '@' and hastags (#))\n- Destroys Links\n- Blind to Emojis\n\nTokeniser 2 (Split at Whitespace):\n+ Overall good representation of words \n+ keeps punctuation\n- ending punctuation is not being separated\n+ keeps Links\n+ recognises Emojis\n- doesnt separate adjacent emojis \n- blind to several words written together (in slang), ie. idontgiveafuck\n\nTokeniser 3 (Twitter Tokeniser API, Overcomes issues of Tokeniser 2):\n+ Ending punctuation is being separated\n+ Separate adjacent Emojis ",
   "metadata": {
    "cell_id": "00029-6b025e1e-41c8-40e8-95a6-ce98b58a469d",
    "deepnote_cell_type": "markdown"
   }
  },
  {
   "cell_type": "markdown",
   "source": "### Improving Tokenizer",
   "metadata": {
    "cell_id": "00032-9918e5ff-ad34-4397-8a23-02f60d16a194",
    "tags": [],
    "deepnote_cell_type": "markdown"
   }
  },
  {
   "cell_type": "markdown",
   "source": "Improving on the Tweet Tokenizer:\n* lowercasing \n* expanding contractions\n* change links to a dummy value",
   "metadata": {
    "cell_id": "00032-4555a69b-e985-4c97-8a63-e922bdc51ee5",
    "tags": [],
    "deepnote_cell_type": "markdown"
   }
  },
  {
   "cell_type": "markdown",
   "source": "## Final Tokenising",
   "metadata": {
    "cell_id": "00042-494c027a-c333-45d2-95c0-f8775d64c2ee",
    "tags": [],
    "deepnote_cell_type": "markdown"
   }
  },
  {
   "cell_type": "code",
   "metadata": {
    "cell_id": "00043-2f55d04c-3946-4a00-a740-a8debdffb56c",
    "deepnote_to_be_reexecuted": false,
    "execution_millis": 0,
    "execution_start": 1622219503657,
    "output_cleared": true,
    "source_hash": "8e83866d",
    "tags": [],
    "deepnote_cell_type": "code"
   },
   "source": "# define url regex pattern and replace pattern globally (compile for speedup)\nurl_pattern = re.compile(r\"(?i)((?:https?://|www\\d{0,3}[.]|[a-z0-9.-]+[.][a-z]{2,4}/)(?:[^\\s()<>]+|(([^\\s()<>]+|(([^\\s()<>]+)))))+(?:(([^\\s()<>]+|(([^\\s()<>]+))))|[^\\s`!()[]{};:'\\\".,<>?«»\\“\\”‘’]))\")\ndummy = \" <=LINK=> \"\n\ndef remove_links(tweet):\n    return re.sub(url_pattern, dummy, tweet) ",
   "execution_count": 19,
   "outputs": []
  },
  {
   "cell_type": "code",
   "metadata": {
    "cell_id": "00036-d9edebb2-2e4c-4677-8bf0-71886f19f539",
    "deepnote_to_be_reexecuted": false,
    "source_hash": "d39274f2",
    "execution_start": 1622219503661,
    "execution_millis": 1,
    "deepnote_cell_type": "code"
   },
   "source": "def remove_newline(tweet):\n    return re.sub(r'\\\\n', ' ', tweet)",
   "execution_count": 20,
   "outputs": []
  },
  {
   "cell_type": "code",
   "metadata": {
    "cell_id": "00043-6453b1f6-fe2d-4454-a660-25658b074aab",
    "deepnote_to_be_reexecuted": false,
    "execution_millis": 0,
    "execution_start": 1622219503688,
    "output_cleared": true,
    "source_hash": "2b57a052",
    "tags": [],
    "deepnote_cell_type": "code"
   },
   "source": "# loading pre-trained contraction model\ncont = Contractions(api_key=\"glove-twitter-200\")\n\ndef expand(tweet):\n    return list(cont.expand_texts([tweet]))[0]",
   "execution_count": 21,
   "outputs": []
  },
  {
   "cell_type": "code",
   "metadata": {
    "cell_id": "00038-2ea3f6e4-96f5-44d5-aff6-54fbe67b1b6c",
    "deepnote_to_be_reexecuted": false,
    "source_hash": "44dfa33b",
    "execution_start": 1622219503689,
    "execution_millis": 0,
    "deepnote_cell_type": "code"
   },
   "source": "if PREPROCESS_DATA == True:\n    cont.load_models()",
   "execution_count": 22,
   "outputs": []
  },
  {
   "cell_type": "code",
   "metadata": {
    "cell_id": "00042-a9e30c04-e319-4b86-93a2-495d377ffdf7",
    "deepnote_to_be_reexecuted": false,
    "execution_millis": 0,
    "execution_start": 1622219503689,
    "output_cleared": true,
    "source_hash": "d9d8669d",
    "tags": [],
    "deepnote_cell_type": "code"
   },
   "source": "tk = TweetTokenizer()\n\ndef clean(tweet):\n    cleaned_tweet = expand(remove_links(remove_newline(tweet.lower())))\n    return tk.tokenize(cleaned_tweet)",
   "execution_count": 23,
   "outputs": []
  },
  {
   "cell_type": "markdown",
   "source": "## Testing clean function",
   "metadata": {
    "cell_id": "00042-19104ffb-e92b-4585-9351-30174aea6d80",
    "deepnote_cell_type": "markdown"
   }
  },
  {
   "cell_type": "code",
   "metadata": {
    "cell_id": "00046-0a1e72d3-a195-4b4d-b338-b99415bcfd4a",
    "deepnote_to_be_reexecuted": false,
    "execution_millis": 1,
    "execution_start": 1622219503690,
    "output_cleared": false,
    "scrolled": true,
    "source_hash": "3f56054f",
    "tags": [],
    "deepnote_cell_type": "code"
   },
   "source": "test = '@user there are more #frightening things in life\\n\\n#BeyondTheSphereOfReasonableDoubt'\nif PREPROCESS_DATA == True:\n    print(clean(test))\n#     print('\\t'.join(clean(test)) + '\\n')",
   "execution_count": 24,
   "outputs": []
  },
  {
   "cell_type": "code",
   "metadata": {
    "scrolled": false,
    "cell_id": "00042-a25c6300-bbf5-4fb0-b01d-0bf34215c82d",
    "deepnote_to_be_reexecuted": false,
    "source_hash": "ad16565b",
    "execution_start": 1622219503698,
    "execution_millis": 3,
    "deepnote_cell_type": "code"
   },
   "source": "import difflib\ntest2 = DATA['raw']['emotion']['val_text'][15]\ntest3 = str(test2)\n# print(test == test3)\n# print(clean(str(test3)))\n# print(test)\n#print(clean(test2))\n# print('\\n'.join(difflib.ndiff([test], [test2])))",
   "execution_count": 25,
   "outputs": []
  },
  {
   "cell_type": "code",
   "metadata": {
    "cell_id": "00046-8f2c5b62-9cce-4460-a430-78de3377ebca",
    "deepnote_to_be_reexecuted": false,
    "execution_millis": 4,
    "execution_start": 1622219503728,
    "output_cleared": true,
    "source_hash": "c2ec7c27",
    "tags": [],
    "deepnote_cell_type": "code"
   },
   "source": "if PREPROCESS_DATA == True:\n    for dataset in DATASETS:\n        # create preprocessed folder\n        try: os.makedirs(f'../data/processed/{dataset}')\n        except: None\n\n        # preprocess and tokenize tweets\n        for key in ['train_text', 'val_text', 'test_text']:\n            with open(f'../data/processed/{dataset}/{key}.txt', 'w', encoding = 'UTF-8') as outfile:\n                for tweet in DATA['raw'][dataset][key]:\n                    outfile.write('\\t'.join(clean(tweet)) + '\\n') # writing tokenised tweet with tab delimiter\n\n        # copy labels and mapping without preprocessing\n        for key in ['train_labels', 'val_labels', 'test_labels', 'mapping']:\n            shutil.copyfile(f'../data/raw/{dataset}/{key}.txt', f'../data/processed/{dataset}/{key}.txt')",
   "execution_count": 26,
   "outputs": []
  },
  {
   "cell_type": "code",
   "metadata": {
    "cell_id": "00042-632ac15c-7d49-4503-b780-5829b6f5faac",
    "deepnote_to_be_reexecuted": false,
    "execution_millis": 133,
    "execution_start": 1622219503742,
    "output_cleared": false,
    "source_hash": "e8fcf339",
    "tags": [],
    "deepnote_cell_type": "code"
   },
   "source": "# loading in processed data\nfor dataset in DATASETS:\n    for key in os.listdir(f'../data/processed/{dataset}'):\n        with open(f'../data/processed/{dataset}/{key}', 'r', encoding='UTF-8') as infile:\n            DATA['processed'][dataset][key[:-4]] = [line.strip().split('\\t') for line in infile.readlines()]\n\n    # convert target labels to integers\n    for key in ['train_labels', 'val_labels', 'test_labels']:\n        DATA['processed'][dataset][key] = [int(x) for x in [DATA['processed'][dataset][key][i][0] for i in range(len(DATA['processed'][dataset][key]))]]\n\n    # convert mapping to dictionary\n    DATA['processed'][dataset]['mapping'] = {int(string[0]): string[1] for string in DATA['processed'][dataset]['mapping']}",
   "execution_count": 27,
   "outputs": []
  },
  {
   "cell_type": "markdown",
   "source": "*TASK 1* \n# Descriptive Statistics about Natural Language Data\n---",
   "metadata": {
    "cell_id": "00044-cef6a6e4-c220-496f-ada8-d6cfbc08f299",
    "tags": [],
    "deepnote_cell_type": "markdown"
   }
  },
  {
   "cell_type": "code",
   "metadata": {
    "tags": [],
    "cell_id": "00046-c2b2e52f-155f-4bb0-82f8-3eb9d7f2c2c9",
    "deepnote_to_be_reexecuted": false,
    "source_hash": "440125d1",
    "execution_start": 1622219503930,
    "execution_millis": 0,
    "deepnote_cell_type": "code"
   },
   "source": "CORPUS = {}\nfor dataset in DATASETS:\n    CORPUS[dataset] = [token for tweet in DATA['processed'][dataset]['train_text'] for token in tweet]",
   "execution_count": 28,
   "outputs": []
  },
  {
   "cell_type": "code",
   "metadata": {
    "cell_id": "00042-f580c106-03ae-4ef2-a8de-3329cc7f39d7",
    "deepnote_to_be_reexecuted": false,
    "execution_millis": 0,
    "execution_start": 1622219503978,
    "output_cleared": true,
    "source_hash": "59efce5f",
    "tags": [],
    "deepnote_cell_type": "code"
   },
   "source": "# build entire alphabet from training tweets\nVOCABULARY = {}\nfor dataset in DATASETS:\n    corpus = CORPUS[dataset]\n\n    # initialise frequency counter\n    VOCABULARY[dataset] = pd.DataFrame.from_dict(Counter(corpus), orient='index').rename(columns={'index': 'token', 0: 'frequency'}).sort_values(by='frequency', ascending=False).reset_index()\n\n    VOCABULARY[dataset]['rank'] = VOCABULARY[dataset].index + 1 # add one to index to build rank\n    VOCABULARY[dataset]['normalised_frequency'] = VOCABULARY[dataset]['frequency'] / VOCABULARY[dataset]['frequency'].sum() # relative frequency\n    VOCABULARY[dataset]['cumulative_frequency'] = VOCABULARY[dataset]['normalised_frequency'].cumsum()",
   "execution_count": 29,
   "outputs": []
  },
  {
   "cell_type": "code",
   "metadata": {
    "cell_id": "00046-5accac30-2f91-4cf6-8d65-ca5f6e2cfff1",
    "deepnote_to_be_reexecuted": false,
    "execution_millis": 107,
    "execution_start": 1622219503987,
    "output_cleared": false,
    "source_hash": "76d6d744",
    "tags": [],
    "deepnote_cell_type": "code"
   },
   "source": "VOCABULARY['hate']",
   "execution_count": 30,
   "outputs": [
    {
     "output_type": "execute_result",
     "execution_count": 30,
     "data": {
      "application/vnd.deepnote.dataframe.v2+json": {
       "row_count": 18600,
       "column_count": 5,
       "columns": [
        {
         "name": "index",
         "dtype": "object",
         "stats": {
          "unique_count": 18600,
          "nan_count": 0,
          "categories": [
           {
            "name": ".",
            "count": 1
           },
           {
            "name": "@user",
            "count": 1
           },
           {
            "name": "18598 others",
            "count": 18598
           }
          ]
         }
        },
        {
         "name": "frequency",
         "dtype": "int64",
         "stats": {
          "unique_count": 294,
          "nan_count": 0,
          "min": "1",
          "max": "6277",
          "histogram": [
           {
            "bin_start": 1,
            "bin_end": 628.6,
            "count": 18551
           },
           {
            "bin_start": 628.6,
            "bin_end": 1256.2,
            "count": 30
           },
           {
            "bin_start": 1256.2,
            "bin_end": 1883.8000000000002,
            "count": 5
           },
           {
            "bin_start": 1883.8000000000002,
            "bin_end": 2511.4,
            "count": 3
           },
           {
            "bin_start": 2511.4,
            "bin_end": 3139,
            "count": 3
           },
           {
            "bin_start": 3139,
            "bin_end": 3766.6000000000004,
            "count": 1
           },
           {
            "bin_start": 3766.6000000000004,
            "bin_end": 4394.2,
            "count": 3
           },
           {
            "bin_start": 4394.2,
            "bin_end": 5021.8,
            "count": 1
           },
           {
            "bin_start": 5021.8,
            "bin_end": 5649.400000000001,
            "count": 1
           },
           {
            "bin_start": 5649.400000000001,
            "bin_end": 6277,
            "count": 2
           }
          ]
         }
        },
        {
         "name": "rank",
         "dtype": "int64",
         "stats": {
          "unique_count": 18600,
          "nan_count": 0,
          "min": "1",
          "max": "18600",
          "histogram": [
           {
            "bin_start": 1,
            "bin_end": 1860.9,
            "count": 1860
           },
           {
            "bin_start": 1860.9,
            "bin_end": 3720.8,
            "count": 1860
           },
           {
            "bin_start": 3720.8,
            "bin_end": 5580.700000000001,
            "count": 1860
           },
           {
            "bin_start": 5580.700000000001,
            "bin_end": 7440.6,
            "count": 1860
           },
           {
            "bin_start": 7440.6,
            "bin_end": 9300.5,
            "count": 1860
           },
           {
            "bin_start": 9300.5,
            "bin_end": 11160.400000000001,
            "count": 1860
           },
           {
            "bin_start": 11160.400000000001,
            "bin_end": 13020.300000000001,
            "count": 1860
           },
           {
            "bin_start": 13020.300000000001,
            "bin_end": 14880.2,
            "count": 1860
           },
           {
            "bin_start": 14880.2,
            "bin_end": 16740.100000000002,
            "count": 1860
           },
           {
            "bin_start": 16740.100000000002,
            "bin_end": 18600,
            "count": 1860
           }
          ]
         }
        },
        {
         "name": "normalised_frequency",
         "dtype": "float64",
         "stats": {
          "unique_count": 294,
          "nan_count": 0,
          "min": "4.628001258816342e-06",
          "max": "0.029049963901590183",
          "histogram": [
           {
            "bin_start": 0.000004628001258816342,
            "bin_end": 0.0029091615912919533,
            "count": 18551
           },
           {
            "bin_start": 0.0029091615912919533,
            "bin_end": 0.00581369518132509,
            "count": 30
           },
           {
            "bin_start": 0.00581369518132509,
            "bin_end": 0.008718228771358225,
            "count": 5
           },
           {
            "bin_start": 0.008718228771358225,
            "bin_end": 0.011622762361391363,
            "count": 3
           },
           {
            "bin_start": 0.011622762361391363,
            "bin_end": 0.0145272959514245,
            "count": 3
           },
           {
            "bin_start": 0.0145272959514245,
            "bin_end": 0.017431829541457635,
            "count": 1
           },
           {
            "bin_start": 0.017431829541457635,
            "bin_end": 0.020336363131490773,
            "count": 3
           },
           {
            "bin_start": 0.020336363131490773,
            "bin_end": 0.02324089672152391,
            "count": 1
           },
           {
            "bin_start": 0.02324089672152391,
            "bin_end": 0.02614543031155705,
            "count": 1
           },
           {
            "bin_start": 0.02614543031155705,
            "bin_end": 0.029049963901590183,
            "count": 2
           }
          ]
         }
        },
        {
         "name": "cumulative_frequency",
         "dtype": "float64",
         "stats": {
          "unique_count": 18600,
          "nan_count": 0,
          "min": "0.029049963901590183",
          "max": "0.9999999999996355",
          "histogram": [
           {
            "bin_start": 0.029049963901590183,
            "bin_end": 0.1261449675113947,
            "count": 5
           },
           {
            "bin_start": 0.1261449675113947,
            "bin_end": 0.22323997112119923,
            "count": 6
           },
           {
            "bin_start": 0.22323997112119923,
            "bin_end": 0.3203349747310038,
            "count": 15
           },
           {
            "bin_start": 0.3203349747310038,
            "bin_end": 0.4174299783408083,
            "count": 28
           },
           {
            "bin_start": 0.4174299783408083,
            "bin_end": 0.5145249819506128,
            "count": 48
           },
           {
            "bin_start": 0.5145249819506128,
            "bin_end": 0.6116199855604174,
            "count": 104
           },
           {
            "bin_start": 0.6116199855604174,
            "bin_end": 0.7087149891702219,
            "count": 276
           },
           {
            "bin_start": 0.7087149891702219,
            "bin_end": 0.8058099927800264,
            "count": 775
           },
           {
            "bin_start": 0.8058099927800264,
            "bin_end": 0.9029049963898309,
            "count": 2673
           },
           {
            "bin_start": 0.9029049963898309,
            "bin_end": 0.9999999999996355,
            "count": 14670
           }
          ]
         }
        },
        {
         "name": "_deepnote_index_column",
         "dtype": "int64"
        }
       ],
       "rows_top": [
        {
         "index": ".",
         "frequency": 6277,
         "rank": 1,
         "normalised_frequency": 0.029049963901590183,
         "cumulative_frequency": 0.029049963901590183,
         "_deepnote_index_column": 0
        },
        {
         "index": "@user",
         "frequency": 6014,
         "rank": 2,
         "normalised_frequency": 0.027832799570521483,
         "cumulative_frequency": 0.056882763472111665,
         "_deepnote_index_column": 1
        },
        {
         "index": "the",
         "frequency": 5492,
         "rank": 3,
         "normalised_frequency": 0.02541698291341935,
         "cumulative_frequency": 0.08229974638553102,
         "_deepnote_index_column": 2
        },
        {
         "index": "to",
         "frequency": 4931,
         "rank": 4,
         "normalised_frequency": 0.022820674207223383,
         "cumulative_frequency": 0.1051204205927544,
         "_deepnote_index_column": 3
        },
        {
         "index": ",",
         "frequency": 4356,
         "rank": 5,
         "normalised_frequency": 0.020159573483403987,
         "cumulative_frequency": 0.1252799940761584,
         "_deepnote_index_column": 4
        },
        {
         "index": "you",
         "frequency": 4106,
         "rank": 6,
         "normalised_frequency": 0.019002573168699903,
         "cumulative_frequency": 0.1442825672448583,
         "_deepnote_index_column": 5
        },
        {
         "index": "a",
         "frequency": 3953,
         "rank": 7,
         "normalised_frequency": 0.018294488976101003,
         "cumulative_frequency": 0.1625770562209593,
         "_deepnote_index_column": 6
        },
        {
         "index": "and",
         "frequency": 3221,
         "rank": 8,
         "normalised_frequency": 0.01490679205464744,
         "cumulative_frequency": 0.17748384827560673,
         "_deepnote_index_column": 7
        },
        {
         "index": "of",
         "frequency": 2886,
         "rank": 9,
         "normalised_frequency": 0.013356411632943965,
         "cumulative_frequency": 0.1908402599085507,
         "_deepnote_index_column": 8
        },
        {
         "index": "is",
         "frequency": 2719,
         "rank": 10,
         "normalised_frequency": 0.012583535422721635,
         "cumulative_frequency": 0.20342379533127233,
         "_deepnote_index_column": 9
        },
        {
         "index": "in",
         "frequency": 2562,
         "rank": 11,
         "normalised_frequency": 0.01185693922508747,
         "cumulative_frequency": 0.2152807345563598,
         "_deepnote_index_column": 10
        },
        {
         "index": "not",
         "frequency": 2402,
         "rank": 12,
         "normalised_frequency": 0.011116459023676854,
         "cumulative_frequency": 0.22639719358003665,
         "_deepnote_index_column": 11
        },
        {
         "index": "!",
         "frequency": 2147,
         "rank": 13,
         "normalised_frequency": 0.009936318702678687,
         "cumulative_frequency": 0.23633351228271535,
         "_deepnote_index_column": 12
        },
        {
         "index": "are",
         "frequency": 2056,
         "rank": 14,
         "normalised_frequency": 0.0095151705881264,
         "cumulative_frequency": 0.24584868287084174,
         "_deepnote_index_column": 13
        },
        {
         "index": "for",
         "frequency": 1828,
         "rank": 15,
         "normalised_frequency": 0.008459986301116273,
         "cumulative_frequency": 0.25430866917195805,
         "_deepnote_index_column": 14
        },
        {
         "index": "i",
         "frequency": 1792,
         "rank": 16,
         "normalised_frequency": 0.008293378255798886,
         "cumulative_frequency": 0.26260204742775695,
         "_deepnote_index_column": 15
        },
        {
         "index": "that",
         "frequency": 1531,
         "rank": 17,
         "normalised_frequency": 0.00708546992724782,
         "cumulative_frequency": 0.2696875173550048,
         "_deepnote_index_column": 16
        },
        {
         "index": "it",
         "frequency": 1359,
         "rank": 18,
         "normalised_frequency": 0.006289453710731409,
         "cumulative_frequency": 0.2759769710657362,
         "_deepnote_index_column": 17
        },
        {
         "index": "?",
         "frequency": 1353,
         "rank": 19,
         "normalised_frequency": 0.006261685703178511,
         "cumulative_frequency": 0.28223865676891474,
         "_deepnote_index_column": 18
        },
        {
         "index": "'",
         "frequency": 1244,
         "rank": 20,
         "normalised_frequency": 0.00575723356596753,
         "cumulative_frequency": 0.28799589033488227,
         "_deepnote_index_column": 19
        },
        {
         "index": "on",
         "frequency": 1183,
         "rank": 21,
         "normalised_frequency": 0.0054749254891797335,
         "cumulative_frequency": 0.293470815824062,
         "_deepnote_index_column": 20
        },
        {
         "index": "they",
         "frequency": 1073,
         "rank": 22,
         "normalised_frequency": 0.004965845350709935,
         "cumulative_frequency": 0.2984366611747719,
         "_deepnote_index_column": 21
        },
        {
         "index": "bitch",
         "frequency": 1069,
         "rank": 23,
         "normalised_frequency": 0.00494733334567467,
         "cumulative_frequency": 0.30338399452044656,
         "_deepnote_index_column": 22
        },
        {
         "index": "all",
         "frequency": 1061,
         "rank": 24,
         "normalised_frequency": 0.004910309335604139,
         "cumulative_frequency": 0.3082943038560507,
         "_deepnote_index_column": 23
        },
        {
         "index": "this",
         "frequency": 1044,
         "rank": 25,
         "normalised_frequency": 0.004831633314204262,
         "cumulative_frequency": 0.313125937170255,
         "_deepnote_index_column": 24
        },
        {
         "index": "do",
         "frequency": 1032,
         "rank": 26,
         "normalised_frequency": 0.004776097299098466,
         "cumulative_frequency": 0.31790203446935345,
         "_deepnote_index_column": 25
        },
        {
         "index": "have",
         "frequency": 1030,
         "rank": 27,
         "normalised_frequency": 0.004766841296580833,
         "cumulative_frequency": 0.3226688757659343,
         "_deepnote_index_column": 26
        },
        {
         "index": "your",
         "frequency": 970,
         "rank": 28,
         "normalised_frequency": 0.004489161221051852,
         "cumulative_frequency": 0.32715803698698614,
         "_deepnote_index_column": 27
        },
        {
         "index": "’",
         "frequency": 966,
         "rank": 29,
         "normalised_frequency": 0.004470649216016587,
         "cumulative_frequency": 0.33162868620300273,
         "_deepnote_index_column": 28
        },
        {
         "index": "-",
         "frequency": 943,
         "rank": 30,
         "normalised_frequency": 0.004364205187063811,
         "cumulative_frequency": 0.33599289139006655,
         "_deepnote_index_column": 29
        },
        {
         "index": "be",
         "frequency": 942,
         "rank": 31,
         "normalised_frequency": 0.0043595771858049946,
         "cumulative_frequency": 0.34035246857587154,
         "_deepnote_index_column": 30
        },
        {
         "index": "with",
         "frequency": 942,
         "rank": 32,
         "normalised_frequency": 0.0043595771858049946,
         "cumulative_frequency": 0.3447120457616765,
         "_deepnote_index_column": 31
        },
        {
         "index": "...",
         "frequency": 873,
         "rank": 33,
         "normalised_frequency": 0.004040245098946667,
         "cumulative_frequency": 0.3487522908606232,
         "_deepnote_index_column": 32
        },
        {
         "index": "women",
         "frequency": 840,
         "rank": 34,
         "normalised_frequency": 0.0038875210574057274,
         "cumulative_frequency": 0.35263981191802896,
         "_deepnote_index_column": 33
        },
        {
         "index": "we",
         "frequency": 837,
         "rank": 35,
         "normalised_frequency": 0.0038736370536292786,
         "cumulative_frequency": 0.3565134489716582,
         "_deepnote_index_column": 34
        },
        {
         "index": ":",
         "frequency": 833,
         "rank": 36,
         "normalised_frequency": 0.0038551250485940134,
         "cumulative_frequency": 0.36036857402025224,
         "_deepnote_index_column": 35
        },
        {
         "index": "refugees",
         "frequency": 819,
         "rank": 37,
         "normalised_frequency": 0.0037903330309705845,
         "cumulative_frequency": 0.36415890705122284,
         "_deepnote_index_column": 36
        },
        {
         "index": "will",
         "frequency": 745,
         "rank": 38,
         "normalised_frequency": 0.003447860937818175,
         "cumulative_frequency": 0.367606767989041,
         "_deepnote_index_column": 37
        },
        {
         "index": "\"",
         "frequency": 731,
         "rank": 39,
         "normalised_frequency": 0.0033830689201947463,
         "cumulative_frequency": 0.37098983690923576,
         "_deepnote_index_column": 38
        },
        {
         "index": "me",
         "frequency": 720,
         "rank": 40,
         "normalised_frequency": 0.0033321609063477666,
         "cumulative_frequency": 0.3743219978155835,
         "_deepnote_index_column": 39
        },
        {
         "index": "from",
         "frequency": 712,
         "rank": 41,
         "normalised_frequency": 0.0032951368962772357,
         "cumulative_frequency": 0.37761713471186076,
         "_deepnote_index_column": 40
        },
        {
         "index": "when",
         "frequency": 708,
         "rank": 42,
         "normalised_frequency": 0.0032766248912419705,
         "cumulative_frequency": 0.38089375960310273,
         "_deepnote_index_column": 41
        },
        {
         "index": "my",
         "frequency": 702,
         "rank": 43,
         "normalised_frequency": 0.0032488568836890725,
         "cumulative_frequency": 0.3841426164867918,
         "_deepnote_index_column": 42
        },
        {
         "index": "who",
         "frequency": 682,
         "rank": 44,
         "normalised_frequency": 0.0031562968585127455,
         "cumulative_frequency": 0.3872989133453046,
         "_deepnote_index_column": 43
        },
        {
         "index": "like",
         "frequency": 679,
         "rank": 45,
         "normalised_frequency": 0.0031424128547362963,
         "cumulative_frequency": 0.3904413262000409,
         "_deepnote_index_column": 44
        },
        {
         "index": "if",
         "frequency": 673,
         "rank": 46,
         "normalised_frequency": 0.0031146448471833983,
         "cumulative_frequency": 0.3935559710472243,
         "_deepnote_index_column": 45
        },
        {
         "index": "&",
         "frequency": 673,
         "rank": 47,
         "normalised_frequency": 0.0031146448471833983,
         "cumulative_frequency": 0.39667061589440766,
         "_deepnote_index_column": 46
        },
        {
         "index": "immigrant",
         "frequency": 654,
         "rank": 48,
         "normalised_frequency": 0.0030267128232658877,
         "cumulative_frequency": 0.39969732871767355,
         "_deepnote_index_column": 47
        },
        {
         "index": "but",
         "frequency": 630,
         "rank": 49,
         "normalised_frequency": 0.0029156407930542956,
         "cumulative_frequency": 0.40261296951072784,
         "_deepnote_index_column": 48
        },
        {
         "index": "their",
         "frequency": 625,
         "rank": 50,
         "normalised_frequency": 0.002892500786760214,
         "cumulative_frequency": 0.40550547029748807,
         "_deepnote_index_column": 49
        },
        {
         "index": "about",
         "frequency": 607,
         "rank": 51,
         "normalised_frequency": 0.00280919676410152,
         "cumulative_frequency": 0.4083146670615896,
         "_deepnote_index_column": 50
        },
        {
         "index": "no",
         "frequency": 600,
         "rank": 52,
         "normalised_frequency": 0.0027768007552898054,
         "cumulative_frequency": 0.4110914678168794,
         "_deepnote_index_column": 51
        },
        {
         "index": "s",
         "frequency": 583,
         "rank": 53,
         "normalised_frequency": 0.0026981247338899277,
         "cumulative_frequency": 0.4137895925507693,
         "_deepnote_index_column": 52
        },
        {
         "index": "as",
         "frequency": 582,
         "rank": 54,
         "normalised_frequency": 0.0026934967326311112,
         "cumulative_frequency": 0.4164830892834004,
         "_deepnote_index_column": 53
        },
        {
         "index": "so",
         "frequency": 580,
         "rank": 55,
         "normalised_frequency": 0.0026842407301134784,
         "cumulative_frequency": 0.41916733001351386,
         "_deepnote_index_column": 54
        },
        {
         "index": "by",
         "frequency": 578,
         "rank": 56,
         "normalised_frequency": 0.002674984727595846,
         "cumulative_frequency": 0.4218423147411097,
         "_deepnote_index_column": 55
        },
        {
         "index": "illegal",
         "frequency": 572,
         "rank": 57,
         "normalised_frequency": 0.002647216720042948,
         "cumulative_frequency": 0.42448953146115265,
         "_deepnote_index_column": 56
        },
        {
         "index": "up",
         "frequency": 569,
         "rank": 58,
         "normalised_frequency": 0.0026333327162664988,
         "cumulative_frequency": 0.4271228641774191,
         "_deepnote_index_column": 57
        },
        {
         "index": "what",
         "frequency": 554,
         "rank": 59,
         "normalised_frequency": 0.002563912697384254,
         "cumulative_frequency": 0.4296867768748034,
         "_deepnote_index_column": 58
        },
        {
         "index": "at",
         "frequency": 553,
         "rank": 60,
         "normalised_frequency": 0.0025592846961254375,
         "cumulative_frequency": 0.4322460615709288,
         "_deepnote_index_column": 59
        },
        {
         "index": "our",
         "frequency": 540,
         "rank": 61,
         "normalised_frequency": 0.002499120679760825,
         "cumulative_frequency": 0.43474518225068964,
         "_deepnote_index_column": 60
        },
        {
         "index": "just",
         "frequency": 531,
         "rank": 62,
         "normalised_frequency": 0.0024574686684314777,
         "cumulative_frequency": 0.43720265091912114,
         "_deepnote_index_column": 61
        },
        {
         "index": "or",
         "frequency": 519,
         "rank": 63,
         "normalised_frequency": 0.0024019326533256816,
         "cumulative_frequency": 0.4396045835724468,
         "_deepnote_index_column": 62
        },
        {
         "index": "immigration",
         "frequency": 516,
         "rank": 64,
         "normalised_frequency": 0.002388048649549233,
         "cumulative_frequency": 0.44199263222199603,
         "_deepnote_index_column": 63
        },
        {
         "index": "men",
         "frequency": 508,
         "rank": 65,
         "normalised_frequency": 0.002351024639478702,
         "cumulative_frequency": 0.44434365686147476,
         "_deepnote_index_column": 64
        },
        {
         "index": "get",
         "frequency": 501,
         "rank": 66,
         "normalised_frequency": 0.0023186286306669875,
         "cumulative_frequency": 0.44666228549214176,
         "_deepnote_index_column": 65
        },
        {
         "index": "people",
         "frequency": 498,
         "rank": 67,
         "normalised_frequency": 0.0023047446268905387,
         "cumulative_frequency": 0.44896703011903233,
         "_deepnote_index_column": 66
        },
        {
         "index": "migrants",
         "frequency": 495,
         "rank": 68,
         "normalised_frequency": 0.0022908606231140894,
         "cumulative_frequency": 0.4512578907421464,
         "_deepnote_index_column": 67
        },
        {
         "index": "them",
         "frequency": 490,
         "rank": 69,
         "normalised_frequency": 0.002267720616820008,
         "cumulative_frequency": 0.4535256113589664,
         "_deepnote_index_column": 68
        },
        {
         "index": "her",
         "frequency": 489,
         "rank": 70,
         "normalised_frequency": 0.0022630926155611914,
         "cumulative_frequency": 0.4557887039745276,
         "_deepnote_index_column": 69
        },
        {
         "index": "can",
         "frequency": 488,
         "rank": 71,
         "normalised_frequency": 0.002258464614302375,
         "cumulative_frequency": 0.45804716858883,
         "_deepnote_index_column": 70
        },
        {
         "index": "was",
         "frequency": 481,
         "rank": 72,
         "normalised_frequency": 0.0022260686054906605,
         "cumulative_frequency": 0.4602732371943207,
         "_deepnote_index_column": 71
        },
        {
         "index": "an",
         "frequency": 471,
         "rank": 73,
         "normalised_frequency": 0.0021797885929024973,
         "cumulative_frequency": 0.4624530257872232,
         "_deepnote_index_column": 72
        },
        {
         "index": "woman",
         "frequency": 465,
         "rank": 74,
         "normalised_frequency": 0.0021520205853495992,
         "cumulative_frequency": 0.46460504637257277,
         "_deepnote_index_column": 73
        },
        {
         "index": "cunt",
         "frequency": 454,
         "rank": 75,
         "normalised_frequency": 0.0021011125715026196,
         "cumulative_frequency": 0.4667061589440754,
         "_deepnote_index_column": 74
        },
        {
         "index": "rape",
         "frequency": 447,
         "rank": 76,
         "normalised_frequency": 0.002068716562690905,
         "cumulative_frequency": 0.46877487550676633,
         "_deepnote_index_column": 75
        },
        {
         "index": "how",
         "frequency": 444,
         "rank": 77,
         "normalised_frequency": 0.002054832558914456,
         "cumulative_frequency": 0.4708297080656808,
         "_deepnote_index_column": 76
        },
        {
         "index": "more",
         "frequency": 433,
         "rank": 78,
         "normalised_frequency": 0.002003924545067476,
         "cumulative_frequency": 0.4728336326107483,
         "_deepnote_index_column": 77
        },
        {
         "index": "want",
         "frequency": 432,
         "rank": 79,
         "normalised_frequency": 0.00199929654380866,
         "cumulative_frequency": 0.47483292915455694,
         "_deepnote_index_column": 78
        },
        {
         "index": "out",
         "frequency": 431,
         "rank": 80,
         "normalised_frequency": 0.0019946685425498434,
         "cumulative_frequency": 0.4768275976971068,
         "_deepnote_index_column": 79
        },
        {
         "index": "us",
         "frequency": 417,
         "rank": 81,
         "normalised_frequency": 0.0019298765249264147,
         "cumulative_frequency": 0.47875747422203324,
         "_deepnote_index_column": 80
        },
        {
         "index": "go",
         "frequency": 416,
         "rank": 82,
         "normalised_frequency": 0.0019252485236675985,
         "cumulative_frequency": 0.48068272274570084,
         "_deepnote_index_column": 81
        },
        {
         "index": "I",
         "frequency": 414,
         "rank": 83,
         "normalised_frequency": 0.0019159925211499657,
         "cumulative_frequency": 0.48259871526685083,
         "_deepnote_index_column": 82
        },
        {
         "index": "she",
         "frequency": 413,
         "rank": 84,
         "normalised_frequency": 0.0019113645198911495,
         "cumulative_frequency": 0.484510079786742,
         "_deepnote_index_column": 83
        },
        {
         "index": "he",
         "frequency": 404,
         "rank": 85,
         "normalised_frequency": 0.0018697125085618024,
         "cumulative_frequency": 0.4863797922953038,
         "_deepnote_index_column": 84
        },
        {
         "index": "am",
         "frequency": 397,
         "rank": 86,
         "normalised_frequency": 0.001837316499750088,
         "cumulative_frequency": 0.4882171087950539,
         "_deepnote_index_column": 85
        },
        {
         "index": "has",
         "frequency": 395,
         "rank": 87,
         "normalised_frequency": 0.0018280604972324554,
         "cumulative_frequency": 0.49004516929228636,
         "_deepnote_index_column": 86
        },
        {
         "index": "whore",
         "frequency": 393,
         "rank": 88,
         "normalised_frequency": 0.0018188044947148225,
         "cumulative_frequency": 0.4918639737870012,
         "_deepnote_index_column": 87
        },
        {
         "index": "#buildthatwall",
         "frequency": 371,
         "rank": 89,
         "normalised_frequency": 0.001716988467020863,
         "cumulative_frequency": 0.49358096225402204,
         "_deepnote_index_column": 88
        },
        {
         "index": "immigrants",
         "frequency": 364,
         "rank": 90,
         "normalised_frequency": 0.0016845924582091487,
         "cumulative_frequency": 0.49526555471223116,
         "_deepnote_index_column": 89
        },
        {
         "index": "one",
         "frequency": 360,
         "rank": 91,
         "normalised_frequency": 0.0016660804531738833,
         "cumulative_frequency": 0.49693163516540506,
         "_deepnote_index_column": 90
        },
        {
         "index": "fuck",
         "frequency": 354,
         "rank": 92,
         "normalised_frequency": 0.0016383124456209853,
         "cumulative_frequency": 0.498569947611026,
         "_deepnote_index_column": 91
        },
        {
         "index": "would",
         "frequency": 349,
         "rank": 93,
         "normalised_frequency": 0.0016151724393269034,
         "cumulative_frequency": 0.5001851200503529,
         "_deepnote_index_column": 92
        },
        {
         "index": "because",
         "frequency": 345,
         "rank": 94,
         "normalised_frequency": 0.0015966604342916382,
         "cumulative_frequency": 0.5017817804846445,
         "_deepnote_index_column": 93
        },
        {
         "index": "…",
         "frequency": 344,
         "rank": 95,
         "normalised_frequency": 0.0015920324330328218,
         "cumulative_frequency": 0.5033738129176774,
         "_deepnote_index_column": 94
        },
        {
         "index": "why",
         "frequency": 338,
         "rank": 96,
         "normalised_frequency": 0.0015642644254799238,
         "cumulative_frequency": 0.5049380773431573,
         "_deepnote_index_column": 95
        },
        {
         "index": "time",
         "frequency": 337,
         "rank": 97,
         "normalised_frequency": 0.0015596364242211073,
         "cumulative_frequency": 0.5064977137673784,
         "_deepnote_index_column": 96
        },
        {
         "index": "should",
         "frequency": 332,
         "rank": 98,
         "normalised_frequency": 0.0015364964179270257,
         "cumulative_frequency": 0.5080342101853055,
         "_deepnote_index_column": 97
        },
        {
         "index": "now",
         "frequency": 326,
         "rank": 99,
         "normalised_frequency": 0.0015087284103741277,
         "cumulative_frequency": 0.5095429385956796,
         "_deepnote_index_column": 98
        },
        {
         "index": "know",
         "frequency": 316,
         "rank": 100,
         "normalised_frequency": 0.0014624483977859642,
         "cumulative_frequency": 0.5110053869934655,
         "_deepnote_index_column": 99
        }
       ],
       "rows_bottom": [
        {
         "index": "verses",
         "frequency": 1,
         "rank": 18501,
         "normalised_frequency": 0.000004628001258816342,
         "cumulative_frequency": 0.9995418278750166,
         "_deepnote_index_column": 18500
        },
        {
         "index": "fisherman",
         "frequency": 1,
         "rank": 18502,
         "normalised_frequency": 0.000004628001258816342,
         "cumulative_frequency": 0.9995464558762753,
         "_deepnote_index_column": 18501
        },
        {
         "index": "parent-child",
         "frequency": 1,
         "rank": 18503,
         "normalised_frequency": 0.000004628001258816342,
         "cumulative_frequency": 0.9995510838775341,
         "_deepnote_index_column": 18502
        },
        {
         "index": "retiring",
         "frequency": 1,
         "rank": 18504,
         "normalised_frequency": 0.000004628001258816342,
         "cumulative_frequency": 0.9995557118787929,
         "_deepnote_index_column": 18503
        },
        {
         "index": "heir",
         "frequency": 1,
         "rank": 18505,
         "normalised_frequency": 0.000004628001258816342,
         "cumulative_frequency": 0.9995603398800517,
         "_deepnote_index_column": 18504
        },
        {
         "index": "#sextraffickimg",
         "frequency": 1,
         "rank": 18506,
         "normalised_frequency": 0.000004628001258816342,
         "cumulative_frequency": 0.9995649678813104,
         "_deepnote_index_column": 18505
        },
        {
         "index": "#traffickstop",
         "frequency": 1,
         "rank": 18507,
         "normalised_frequency": 0.000004628001258816342,
         "cumulative_frequency": 0.9995695958825692,
         "_deepnote_index_column": 18506
        },
        {
         "index": "#bulldthewall",
         "frequency": 1,
         "rank": 18508,
         "normalised_frequency": 0.000004628001258816342,
         "cumulative_frequency": 0.999574223883828,
         "_deepnote_index_column": 18507
        },
        {
         "index": "#endchainmigrationhere",
         "frequency": 1,
         "rank": 18509,
         "normalised_frequency": 0.000004628001258816342,
         "cumulative_frequency": 0.9995788518850868,
         "_deepnote_index_column": 18508
        },
        {
         "index": "molestation",
         "frequency": 1,
         "rank": 18510,
         "normalised_frequency": 0.000004628001258816342,
         "cumulative_frequency": 0.9995834798863455,
         "_deepnote_index_column": 18509
        },
        {
         "index": "employee",
         "frequency": 1,
         "rank": 18511,
         "normalised_frequency": 0.000004628001258816342,
         "cumulative_frequency": 0.9995881078876043,
         "_deepnote_index_column": 18510
        },
        {
         "index": "slipped",
         "frequency": 1,
         "rank": 18512,
         "normalised_frequency": 0.000004628001258816342,
         "cumulative_frequency": 0.9995927358888631,
         "_deepnote_index_column": 18511
        },
        {
         "index": "camouflaged",
         "frequency": 1,
         "rank": 18513,
         "normalised_frequency": 0.000004628001258816342,
         "cumulative_frequency": 0.9995973638901219,
         "_deepnote_index_column": 18512
        },
        {
         "index": "#8217",
         "frequency": 1,
         "rank": 18514,
         "normalised_frequency": 0.000004628001258816342,
         "cumulative_frequency": 0.9996019918913807,
         "_deepnote_index_column": 18513
        },
        {
         "index": "songbirds",
         "frequency": 1,
         "rank": 18515,
         "normalised_frequency": 0.000004628001258816342,
         "cumulative_frequency": 0.9996066198926394,
         "_deepnote_index_column": 18514
        },
        {
         "index": "overcoming",
         "frequency": 1,
         "rank": 18516,
         "normalised_frequency": 0.000004628001258816342,
         "cumulative_frequency": 0.9996112478938982,
         "_deepnote_index_column": 18515
        },
        {
         "index": "tumor",
         "frequency": 1,
         "rank": 18517,
         "normalised_frequency": 0.000004628001258816342,
         "cumulative_frequency": 0.999615875895157,
         "_deepnote_index_column": 18516
        },
        {
         "index": "cras",
         "frequency": 1,
         "rank": 18518,
         "normalised_frequency": 0.000004628001258816342,
         "cumulative_frequency": 0.9996205038964158,
         "_deepnote_index_column": 18517
        },
        {
         "index": "imperil",
         "frequency": 1,
         "rank": 18519,
         "normalised_frequency": 0.000004628001258816342,
         "cumulative_frequency": 0.9996251318976745,
         "_deepnote_index_column": 18518
        },
        {
         "index": "waist",
         "frequency": 1,
         "rank": 18520,
         "normalised_frequency": 0.000004628001258816342,
         "cumulative_frequency": 0.9996297598989333,
         "_deepnote_index_column": 18519
        },
        {
         "index": "portions",
         "frequency": 1,
         "rank": 18521,
         "normalised_frequency": 0.000004628001258816342,
         "cumulative_frequency": 0.9996343879001921,
         "_deepnote_index_column": 18520
        },
        {
         "index": "capitalism",
         "frequency": 1,
         "rank": 18522,
         "normalised_frequency": 0.000004628001258816342,
         "cumulative_frequency": 0.9996390159014509,
         "_deepnote_index_column": 18521
        },
        {
         "index": "stressors",
         "frequency": 1,
         "rank": 18523,
         "normalised_frequency": 0.000004628001258816342,
         "cumulative_frequency": 0.9996436439027097,
         "_deepnote_index_column": 18522
        },
        {
         "index": "#brooklyn",
         "frequency": 1,
         "rank": 18524,
         "normalised_frequency": 0.000004628001258816342,
         "cumulative_frequency": 0.9996482719039684,
         "_deepnote_index_column": 18523
        },
        {
         "index": "#facesoffounders",
         "frequency": 1,
         "rank": 18525,
         "normalised_frequency": 0.000004628001258816342,
         "cumulative_frequency": 0.9996528999052272,
         "_deepnote_index_column": 18524
        },
        {
         "index": "handcuffed",
         "frequency": 1,
         "rank": 18526,
         "normalised_frequency": 0.000004628001258816342,
         "cumulative_frequency": 0.999657527906486,
         "_deepnote_index_column": 18525
        },
        {
         "index": "solitary",
         "frequency": 1,
         "rank": 18527,
         "normalised_frequency": 0.000004628001258816342,
         "cumulative_frequency": 0.9996621559077448,
         "_deepnote_index_column": 18526
        },
        {
         "index": "confinement",
         "frequency": 1,
         "rank": 18528,
         "normalised_frequency": 0.000004628001258816342,
         "cumulative_frequency": 0.9996667839090035,
         "_deepnote_index_column": 18527
        },
        {
         "index": "shivering",
         "frequency": 1,
         "rank": 18529,
         "normalised_frequency": 0.000004628001258816342,
         "cumulative_frequency": 0.9996714119102623,
         "_deepnote_index_column": 18528
        },
        {
         "index": "#netneutrality",
         "frequency": 1,
         "rank": 18530,
         "normalised_frequency": 0.000004628001258816342,
         "cumulative_frequency": 0.9996760399115211,
         "_deepnote_index_column": 18529
        },
        {
         "index": "underneath",
         "frequency": 1,
         "rank": 18531,
         "normalised_frequency": 0.000004628001258816342,
         "cumulative_frequency": 0.9996806679127799,
         "_deepnote_index_column": 18530
        },
        {
         "index": "defaming",
         "frequency": 1,
         "rank": 18532,
         "normalised_frequency": 0.000004628001258816342,
         "cumulative_frequency": 0.9996852959140387,
         "_deepnote_index_column": 18531
        },
        {
         "index": "3103",
         "frequency": 1,
         "rank": 18533,
         "normalised_frequency": 0.000004628001258816342,
         "cumulative_frequency": 0.9996899239152974,
         "_deepnote_index_column": 18532
        },
        {
         "index": "scraps",
         "frequency": 1,
         "rank": 18534,
         "normalised_frequency": 0.000004628001258816342,
         "cumulative_frequency": 0.9996945519165562,
         "_deepnote_index_column": 18533
        },
        {
         "index": "#ent4all",
         "frequency": 1,
         "rank": 18535,
         "normalised_frequency": 0.000004628001258816342,
         "cumulative_frequency": 0.999699179917815,
         "_deepnote_index_column": 18534
        },
        {
         "index": "3488",
         "frequency": 1,
         "rank": 18536,
         "normalised_frequency": 0.000004628001258816342,
         "cumulative_frequency": 0.9997038079190738,
         "_deepnote_index_column": 18535
        },
        {
         "index": "premier",
         "frequency": 1,
         "rank": 18537,
         "normalised_frequency": 0.000004628001258816342,
         "cumulative_frequency": 0.9997084359203325,
         "_deepnote_index_column": 18536
        },
        {
         "index": "sgut",
         "frequency": 1,
         "rank": 18538,
         "normalised_frequency": 0.000004628001258816342,
         "cumulative_frequency": 0.9997130639215913,
         "_deepnote_index_column": 18537
        },
        {
         "index": "uglyass",
         "frequency": 1,
         "rank": 18539,
         "normalised_frequency": 0.000004628001258816342,
         "cumulative_frequency": 0.9997176919228501,
         "_deepnote_index_column": 18538
        },
        {
         "index": "boyf",
         "frequency": 1,
         "rank": 18540,
         "normalised_frequency": 0.000004628001258816342,
         "cumulative_frequency": 0.9997223199241089,
         "_deepnote_index_column": 18539
        },
        {
         "index": "yu",
         "frequency": 1,
         "rank": 18541,
         "normalised_frequency": 0.000004628001258816342,
         "cumulative_frequency": 0.9997269479253676,
         "_deepnote_index_column": 18540
        },
        {
         "index": "shitshow",
         "frequency": 1,
         "rank": 18542,
         "normalised_frequency": 0.000004628001258816342,
         "cumulative_frequency": 0.9997315759266264,
         "_deepnote_index_column": 18541
        },
        {
         "index": "sung",
         "frequency": 1,
         "rank": 18543,
         "normalised_frequency": 0.000004628001258816342,
         "cumulative_frequency": 0.9997362039278852,
         "_deepnote_index_column": 18542
        },
        {
         "index": "intend",
         "frequency": 1,
         "rank": 18544,
         "normalised_frequency": 0.000004628001258816342,
         "cumulative_frequency": 0.999740831929144,
         "_deepnote_index_column": 18543
        },
        {
         "index": "#russiagate",
         "frequency": 1,
         "rank": 18545,
         "normalised_frequency": 0.000004628001258816342,
         "cumulative_frequency": 0.9997454599304028,
         "_deepnote_index_column": 18544
        },
        {
         "index": "councillor",
         "frequency": 1,
         "rank": 18546,
         "normalised_frequency": 0.000004628001258816342,
         "cumulative_frequency": 0.9997500879316615,
         "_deepnote_index_column": 18545
        },
        {
         "index": "#femalefounders",
         "frequency": 1,
         "rank": 18547,
         "normalised_frequency": 0.000004628001258816342,
         "cumulative_frequency": 0.9997547159329203,
         "_deepnote_index_column": 18546
        },
        {
         "index": "giorgio",
         "frequency": 1,
         "rank": 18548,
         "normalised_frequency": 0.000004628001258816342,
         "cumulative_frequency": 0.9997593439341791,
         "_deepnote_index_column": 18547
        },
        {
         "index": "mammoliti",
         "frequency": 1,
         "rank": 18549,
         "normalised_frequency": 0.000004628001258816342,
         "cumulative_frequency": 0.9997639719354379,
         "_deepnote_index_column": 18548
        },
        {
         "index": "dawn",
         "frequency": 1,
         "rank": 18550,
         "normalised_frequency": 0.000004628001258816342,
         "cumulative_frequency": 0.9997685999366966,
         "_deepnote_index_column": 18549
        },
        {
         "index": "adam",
         "frequency": 1,
         "rank": 18551,
         "normalised_frequency": 0.000004628001258816342,
         "cumulative_frequency": 0.9997732279379554,
         "_deepnote_index_column": 18550
        },
        {
         "index": "vaughan",
         "frequency": 1,
         "rank": 18552,
         "normalised_frequency": 0.000004628001258816342,
         "cumulative_frequency": 0.9997778559392142,
         "_deepnote_index_column": 18551
        },
        {
         "index": "#tocouncil",
         "frequency": 1,
         "rank": 18553,
         "normalised_frequency": 0.000004628001258816342,
         "cumulative_frequency": 0.999782483940473,
         "_deepnote_index_column": 18552
        },
        {
         "index": "#topoli",
         "frequency": 1,
         "rank": 18554,
         "normalised_frequency": 0.000004628001258816342,
         "cumulative_frequency": 0.9997871119417318,
         "_deepnote_index_column": 18553
        },
        {
         "index": "#voteoutthedems",
         "frequency": 1,
         "rank": 18555,
         "normalised_frequency": 0.000004628001258816342,
         "cumulative_frequency": 0.9997917399429905,
         "_deepnote_index_column": 18554
        },
        {
         "index": "3109",
         "frequency": 1,
         "rank": 18556,
         "normalised_frequency": 0.000004628001258816342,
         "cumulative_frequency": 0.9997963679442493,
         "_deepnote_index_column": 18555
        },
        {
         "index": "ay",
         "frequency": 1,
         "rank": 18557,
         "normalised_frequency": 0.000004628001258816342,
         "cumulative_frequency": 0.9998009959455081,
         "_deepnote_index_column": 18556
        },
        {
         "index": "ravaged",
         "frequency": 1,
         "rank": 18558,
         "normalised_frequency": 0.000004628001258816342,
         "cumulative_frequency": 0.9998056239467669,
         "_deepnote_index_column": 18557
        },
        {
         "index": "hobedi@wr.org",
         "frequency": 1,
         "rank": 18559,
         "normalised_frequency": 0.000004628001258816342,
         "cumulative_frequency": 0.9998102519480256,
         "_deepnote_index_column": 18558
        },
        {
         "index": "kuo's",
         "frequency": 1,
         "rank": 18560,
         "normalised_frequency": 0.000004628001258816342,
         "cumulative_frequency": 0.9998148799492844,
         "_deepnote_index_column": 18559
        },
        {
         "index": "writer",
         "frequency": 1,
         "rank": 18561,
         "normalised_frequency": 0.000004628001258816342,
         "cumulative_frequency": 0.9998195079505432,
         "_deepnote_index_column": 18560
        },
        {
         "index": "overcame",
         "frequency": 1,
         "rank": 18562,
         "normalised_frequency": 0.000004628001258816342,
         "cumulative_frequency": 0.999824135951802,
         "_deepnote_index_column": 18561
        },
        {
         "index": "#asianamerican",
         "frequency": 1,
         "rank": 18563,
         "normalised_frequency": 0.000004628001258816342,
         "cumulative_frequency": 0.9998287639530608,
         "_deepnote_index_column": 18562
        },
        {
         "index": "#qwoc",
         "frequency": 1,
         "rank": 18564,
         "normalised_frequency": 0.000004628001258816342,
         "cumulative_frequency": 0.9998333919543195,
         "_deepnote_index_column": 18563
        },
        {
         "index": "#femalefilmmaker",
         "frequency": 1,
         "rank": 18565,
         "normalised_frequency": 0.000004628001258816342,
         "cumulative_frequency": 0.9998380199555783,
         "_deepnote_index_column": 18564
        },
        {
         "index": "#supportindiefilms",
         "frequency": 1,
         "rank": 18566,
         "normalised_frequency": 0.000004628001258816342,
         "cumulative_frequency": 0.9998426479568371,
         "_deepnote_index_column": 18565
        },
        {
         "index": "navigating",
         "frequency": 1,
         "rank": 18567,
         "normalised_frequency": 0.000004628001258816342,
         "cumulative_frequency": 0.9998472759580959,
         "_deepnote_index_column": 18566
        },
        {
         "index": "#guwop",
         "frequency": 1,
         "rank": 18568,
         "normalised_frequency": 0.000004628001258816342,
         "cumulative_frequency": 0.9998519039593546,
         "_deepnote_index_column": 18567
        },
        {
         "index": "becuz",
         "frequency": 1,
         "rank": 18569,
         "normalised_frequency": 0.000004628001258816342,
         "cumulative_frequency": 0.9998565319606134,
         "_deepnote_index_column": 18568
        },
        {
         "index": "gut-wrenching",
         "frequency": 1,
         "rank": 18570,
         "normalised_frequency": 0.000004628001258816342,
         "cumulative_frequency": 0.9998611599618722,
         "_deepnote_index_column": 18569
        },
        {
         "index": "sham",
         "frequency": 1,
         "rank": 18571,
         "normalised_frequency": 0.000004628001258816342,
         "cumulative_frequency": 0.999865787963131,
         "_deepnote_index_column": 18570
        },
        {
         "index": "englan",
         "frequency": 1,
         "rank": 18572,
         "normalised_frequency": 0.000004628001258816342,
         "cumulative_frequency": 0.9998704159643897,
         "_deepnote_index_column": 18571
        },
        {
         "index": "2cthey",
         "frequency": 1,
         "rank": 18573,
         "normalised_frequency": 0.000004628001258816342,
         "cumulative_frequency": 0.9998750439656485,
         "_deepnote_index_column": 18572
        },
        {
         "index": "2gain",
         "frequency": 1,
         "rank": 18574,
         "normalised_frequency": 0.000004628001258816342,
         "cumulative_frequency": 0.9998796719669073,
         "_deepnote_index_column": 18573
        },
        {
         "index": "dialogues",
         "frequency": 1,
         "rank": 18575,
         "normalised_frequency": 0.000004628001258816342,
         "cumulative_frequency": 0.9998842999681661,
         "_deepnote_index_column": 18574
        },
        {
         "index": "harressment",
         "frequency": 1,
         "rank": 18576,
         "normalised_frequency": 0.000004628001258816342,
         "cumulative_frequency": 0.9998889279694249,
         "_deepnote_index_column": 18575
        },
        {
         "index": "bash",
         "frequency": 1,
         "rank": 18577,
         "normalised_frequency": 0.000004628001258816342,
         "cumulative_frequency": 0.9998935559706836,
         "_deepnote_index_column": 18576
        },
        {
         "index": "orgies",
         "frequency": 1,
         "rank": 18578,
         "normalised_frequency": 0.000004628001258816342,
         "cumulative_frequency": 0.9998981839719424,
         "_deepnote_index_column": 18577
        },
        {
         "index": "panny",
         "frequency": 1,
         "rank": 18579,
         "normalised_frequency": 0.000004628001258816342,
         "cumulative_frequency": 0.9999028119732012,
         "_deepnote_index_column": 18578
        },
        {
         "index": "sticking",
         "frequency": 1,
         "rank": 18580,
         "normalised_frequency": 0.000004628001258816342,
         "cumulative_frequency": 0.99990743997446,
         "_deepnote_index_column": 18579
        },
        {
         "index": "commies",
         "frequency": 1,
         "rank": 18581,
         "normalised_frequency": 0.000004628001258816342,
         "cumulative_frequency": 0.9999120679757187,
         "_deepnote_index_column": 18580
        },
        {
         "index": "pests",
         "frequency": 1,
         "rank": 18582,
         "normalised_frequency": 0.000004628001258816342,
         "cumulative_frequency": 0.9999166959769775,
         "_deepnote_index_column": 18581
        },
        {
         "index": "snakes",
         "frequency": 1,
         "rank": 18583,
         "normalised_frequency": 0.000004628001258816342,
         "cumulative_frequency": 0.9999213239782363,
         "_deepnote_index_column": 18582
        },
        {
         "index": "vermin",
         "frequency": 1,
         "rank": 18584,
         "normalised_frequency": 0.000004628001258816342,
         "cumulative_frequency": 0.9999259519794951,
         "_deepnote_index_column": 18583
        },
        {
         "index": "#marr",
         "frequency": 1,
         "rank": 18585,
         "normalised_frequency": 0.000004628001258816342,
         "cumulative_frequency": 0.9999305799807539,
         "_deepnote_index_column": 18584
        },
        {
         "index": "presented",
         "frequency": 1,
         "rank": 18586,
         "normalised_frequency": 0.000004628001258816342,
         "cumulative_frequency": 0.9999352079820126,
         "_deepnote_index_column": 18585
        },
        {
         "index": "5-10",
         "frequency": 1,
         "rank": 18587,
         "normalised_frequency": 0.000004628001258816342,
         "cumulative_frequency": 0.9999398359832714,
         "_deepnote_index_column": 18586
        },
        {
         "index": "throes",
         "frequency": 1,
         "rank": 18588,
         "normalised_frequency": 0.000004628001258816342,
         "cumulative_frequency": 0.9999444639845302,
         "_deepnote_index_column": 18587
        },
        {
         "index": "louder",
         "frequency": 1,
         "rank": 18589,
         "normalised_frequency": 0.000004628001258816342,
         "cumulative_frequency": 0.999949091985789,
         "_deepnote_index_column": 18588
        },
        {
         "index": "#howdoyoulikeusnow",
         "frequency": 1,
         "rank": 18590,
         "normalised_frequency": 0.000004628001258816342,
         "cumulative_frequency": 0.9999537199870477,
         "_deepnote_index_column": 18589
        },
        {
         "index": "#bloodycat",
         "frequency": 1,
         "rank": 18591,
         "normalised_frequency": 0.000004628001258816342,
         "cumulative_frequency": 0.9999583479883065,
         "_deepnote_index_column": 18590
        },
        {
         "index": "🤕",
         "frequency": 1,
         "rank": 18592,
         "normalised_frequency": 0.000004628001258816342,
         "cumulative_frequency": 0.9999629759895653,
         "_deepnote_index_column": 18591
        },
        {
         "index": "photoshopped",
         "frequency": 1,
         "rank": 18593,
         "normalised_frequency": 0.000004628001258816342,
         "cumulative_frequency": 0.9999676039908241,
         "_deepnote_index_column": 18592
        },
        {
         "index": "badass",
         "frequency": 1,
         "rank": 18594,
         "normalised_frequency": 0.000004628001258816342,
         "cumulative_frequency": 0.9999722319920828,
         "_deepnote_index_column": 18593
        },
        {
         "index": "romansh",
         "frequency": 1,
         "rank": 18595,
         "normalised_frequency": 0.000004628001258816342,
         "cumulative_frequency": 0.9999768599933416,
         "_deepnote_index_column": 18594
        },
        {
         "index": "weren",
         "frequency": 1,
         "rank": 18596,
         "normalised_frequency": 0.000004628001258816342,
         "cumulative_frequency": 0.9999814879946004,
         "_deepnote_index_column": 18595
        },
        {
         "index": "miaow-miaow-miaow",
         "frequency": 1,
         "rank": 18597,
         "normalised_frequency": 0.000004628001258816342,
         "cumulative_frequency": 0.9999861159958592,
         "_deepnote_index_column": 18596
        },
        {
         "index": "aaaaw",
         "frequency": 1,
         "rank": 18598,
         "normalised_frequency": 0.000004628001258816342,
         "cumulative_frequency": 0.999990743997118,
         "_deepnote_index_column": 18597
        },
        {
         "index": "food-hole",
         "frequency": 1,
         "rank": 18599,
         "normalised_frequency": 0.000004628001258816342,
         "cumulative_frequency": 0.9999953719983767,
         "_deepnote_index_column": 18598
        },
        {
         "index": "pic.why",
         "frequency": 1,
         "rank": 18600,
         "normalised_frequency": 0.000004628001258816342,
         "cumulative_frequency": 0.9999999999996355,
         "_deepnote_index_column": 18599
        }
       ]
      },
      "text/plain": "                   index  frequency   rank  normalised_frequency  \\\n0                      .       6277      1              0.029050   \n1                  @user       6014      2              0.027833   \n2                    the       5492      3              0.025417   \n3                     to       4931      4              0.022821   \n4                      ,       4356      5              0.020160   \n...                  ...        ...    ...                   ...   \n18595              weren          1  18596              0.000005   \n18596  miaow-miaow-miaow          1  18597              0.000005   \n18597              aaaaw          1  18598              0.000005   \n18598          food-hole          1  18599              0.000005   \n18599            pic.why          1  18600              0.000005   \n\n       cumulative_frequency  \n0                  0.029050  \n1                  0.056883  \n2                  0.082300  \n3                  0.105120  \n4                  0.125280  \n...                     ...  \n18595              0.999981  \n18596              0.999986  \n18597              0.999991  \n18598              0.999995  \n18599              1.000000  \n\n[18600 rows x 5 columns]",
      "text/html": "<div>\n<style scoped>\n    .dataframe tbody tr th:only-of-type {\n        vertical-align: middle;\n    }\n\n    .dataframe tbody tr th {\n        vertical-align: top;\n    }\n\n    .dataframe thead th {\n        text-align: right;\n    }\n</style>\n<table border=\"1\" class=\"dataframe\">\n  <thead>\n    <tr style=\"text-align: right;\">\n      <th></th>\n      <th>index</th>\n      <th>frequency</th>\n      <th>rank</th>\n      <th>normalised_frequency</th>\n      <th>cumulative_frequency</th>\n    </tr>\n  </thead>\n  <tbody>\n    <tr>\n      <th>0</th>\n      <td>.</td>\n      <td>6277</td>\n      <td>1</td>\n      <td>0.029050</td>\n      <td>0.029050</td>\n    </tr>\n    <tr>\n      <th>1</th>\n      <td>@user</td>\n      <td>6014</td>\n      <td>2</td>\n      <td>0.027833</td>\n      <td>0.056883</td>\n    </tr>\n    <tr>\n      <th>2</th>\n      <td>the</td>\n      <td>5492</td>\n      <td>3</td>\n      <td>0.025417</td>\n      <td>0.082300</td>\n    </tr>\n    <tr>\n      <th>3</th>\n      <td>to</td>\n      <td>4931</td>\n      <td>4</td>\n      <td>0.022821</td>\n      <td>0.105120</td>\n    </tr>\n    <tr>\n      <th>4</th>\n      <td>,</td>\n      <td>4356</td>\n      <td>5</td>\n      <td>0.020160</td>\n      <td>0.125280</td>\n    </tr>\n    <tr>\n      <th>...</th>\n      <td>...</td>\n      <td>...</td>\n      <td>...</td>\n      <td>...</td>\n      <td>...</td>\n    </tr>\n    <tr>\n      <th>18595</th>\n      <td>weren</td>\n      <td>1</td>\n      <td>18596</td>\n      <td>0.000005</td>\n      <td>0.999981</td>\n    </tr>\n    <tr>\n      <th>18596</th>\n      <td>miaow-miaow-miaow</td>\n      <td>1</td>\n      <td>18597</td>\n      <td>0.000005</td>\n      <td>0.999986</td>\n    </tr>\n    <tr>\n      <th>18597</th>\n      <td>aaaaw</td>\n      <td>1</td>\n      <td>18598</td>\n      <td>0.000005</td>\n      <td>0.999991</td>\n    </tr>\n    <tr>\n      <th>18598</th>\n      <td>food-hole</td>\n      <td>1</td>\n      <td>18599</td>\n      <td>0.000005</td>\n      <td>0.999995</td>\n    </tr>\n    <tr>\n      <th>18599</th>\n      <td>pic.why</td>\n      <td>1</td>\n      <td>18600</td>\n      <td>0.000005</td>\n      <td>1.000000</td>\n    </tr>\n  </tbody>\n</table>\n<p>18600 rows × 5 columns</p>\n</div>"
     },
     "metadata": {}
    }
   ]
  },
  {
   "cell_type": "markdown",
   "source": "## Hate Plots",
   "metadata": {
    "cell_id": "00046-7c9fef28-200d-494f-b96d-c48da9560645",
    "tags": [],
    "deepnote_cell_type": "markdown"
   }
  },
  {
   "cell_type": "code",
   "metadata": {
    "cell_id": "00047-55fe270c-7dbf-4329-91e6-1e349967f510",
    "deepnote_to_be_reexecuted": false,
    "execution_millis": 166,
    "execution_start": 1622219504090,
    "output_cleared": false,
    "source_hash": "a043a749",
    "tags": [],
    "deepnote_cell_type": "code"
   },
   "source": "#dict(Counter(VOCABULARY['hate']['frequency']))\nimport math\nfrequency, frequency_of_frequency = np.unique(VOCABULARY['hate']['frequency'], return_counts=True)\nfig, ax = plt.subplots()\nax.scatter([math.log(f) for f in frequency], [math.log(f) for f in frequency_of_frequency],s=0.5)",
   "execution_count": 31,
   "outputs": [
    {
     "output_type": "execute_result",
     "execution_count": 31,
     "data": {
      "text/plain": "<matplotlib.collections.PathCollection at 0x7fa69f6e6e90>"
     },
     "metadata": {}
    },
    {
     "data": {
      "text/plain": "<Figure size 432x288 with 1 Axes>",
      "image/png": "[encoded data removed]"
     },
     "metadata": {
      "needs_background": "light",
      "image/png": {
       "width": 362,
       "height": 248
      }
     },
     "output_type": "display_data"
    }
   ]
  },
  {
   "cell_type": "code",
   "metadata": {
    "cell_id": "00045-a562d74f-2f2c-4791-9584-2f04196769f7",
    "deepnote_to_be_reexecuted": false,
    "execution_millis": 2589,
    "execution_start": 1622219504306,
    "output_cleared": false,
    "source_hash": "9b0afc9c",
    "tags": [],
    "deepnote_cell_type": "code"
   },
   "source": "# plots\nsns.set_theme(style='whitegrid')\n\n# Plot: Cumulative frequency by index\nsns.relplot(x='rank', y='cumulative_frequency', data=VOCABULARY['hate'], kind='line')\nsns.relplot(x='rank', y='cumulative_frequency', data=VOCABULARY['hate'][:2000], kind='line') # Cumulative frequency by index, top 10000 tokens\n\n# Plot: Log-log plot for Zipf's law\n#frq['log_frq'] = numpy.log(frq.frequency)\n#frq['log_rank'] = numpy.log(frq.frequency.rank(ascending=True))\n#seaborn.relp",
   "execution_count": 32,
   "outputs": [
    {
     "output_type": "execute_result",
     "execution_count": 32,
     "data": {
      "text/plain": "<seaborn.axisgrid.FacetGrid at 0x7fa6a0bc6810>"
     },
     "metadata": {}
    },
    {
     "data": {
      "text/plain": "<Figure size 360x360 with 1 Axes>",
      "image/png": "[encoded data removed]"
     },
     "metadata": {
      "image/png": {
       "width": 365,
       "height": 365
      }
     },
     "output_type": "display_data"
    },
    {
     "data": {
      "text/plain": "<Figure size 360x360 with 1 Axes>",
      "image/png": "[encoded data removed]"
     },
     "metadata": {
      "image/png": {
       "width": 365,
       "height": 365
      }
     },
     "output_type": "display_data"
    }
   ]
  },
  {
   "cell_type": "code",
   "metadata": {
    "cell_id": "00051-d2c0bd6d-7e5a-4aa4-989f-07068434c1fc",
    "deepnote_to_be_reexecuted": false,
    "execution_millis": 275,
    "execution_start": 1622219506935,
    "output_cleared": false,
    "source_hash": "c5d39fe3",
    "tags": [],
    "deepnote_cell_type": "code"
   },
   "source": "# frequency plot (rank/ frequency)\nfig, ax = plt.subplots()\nax.scatter(VOCABULARY['hate']['rank'], VOCABULARY['hate']['frequency'],  s=2);\nax.set_title('Frequency Plot'); ax.set_xlabel('Rank'); ax.set_ylabel('Frequency');",
   "execution_count": 33,
   "outputs": [
    {
     "data": {
      "text/plain": "<Figure size 432x288 with 1 Axes>",
      "image/png": "[encoded data removed]"
     },
     "metadata": {
      "image/png": {
       "width": 403,
       "height": 284
      }
     },
     "output_type": "display_data"
    }
   ]
  },
  {
   "cell_type": "code",
   "metadata": {
    "cell_id": "00050-27ede284-d642-4c79-97d5-d69b0df6d717",
    "deepnote_to_be_reexecuted": false,
    "execution_millis": 325,
    "execution_start": 1622219507229,
    "output_cleared": false,
    "source_hash": "35529072",
    "tags": [],
    "deepnote_cell_type": "code"
   },
   "source": "# log-log plot for zipf's law\nfig, ax = plt.subplots()\nplt.scatter(np.log(VOCABULARY['hate']['rank']), np.log(VOCABULARY['hate']['frequency']), s=15,marker=\".\")\nax.set_title(\"Log-Log Frequency Plot (Visualising Zipf'Law)\"); ax.set_xlabel('Rank (Log)'); ax.set_ylabel('Frequency (Log)');",
   "execution_count": 34,
   "outputs": [
    {
     "data": {
      "text/plain": "<Figure size 432x288 with 1 Axes>",
      "image/png": "[encoded data removed]"
     },
     "metadata": {
      "image/png": {
       "width": 382,
       "height": 284
      }
     },
     "output_type": "display_data"
    }
   ]
  },
  {
   "cell_type": "markdown",
   "source": "## Emotional Plots",
   "metadata": {
    "cell_id": "00048-0061151a-0e2e-4417-af54-813e14c015de",
    "tags": [],
    "deepnote_cell_type": "markdown"
   }
  },
  {
   "cell_type": "code",
   "metadata": {
    "cell_id": "00045-4ab344ce-ccd0-464b-9e52-86f362864b29",
    "deepnote_to_be_reexecuted": false,
    "execution_millis": 3,
    "execution_start": 1622219507485,
    "output_cleared": true,
    "source_hash": "77e6b1ff",
    "tags": [],
    "deepnote_cell_type": "code"
   },
   "source": "one_occurance=VOCABULARY['hate']['frequency']==1",
   "execution_count": 35,
   "outputs": []
  },
  {
   "cell_type": "code",
   "metadata": {
    "cell_id": "00046-77715214-bd39-43d0-9f31-ecb127f58947",
    "deepnote_to_be_reexecuted": false,
    "execution_millis": 4,
    "execution_start": 1622219507491,
    "output_cleared": true,
    "source_hash": "4f3c6e68",
    "tags": [],
    "deepnote_cell_type": "code"
   },
   "source": "#VOCABULARY['hate'][one_occurance]",
   "execution_count": 36,
   "outputs": []
  },
  {
   "cell_type": "markdown",
   "source": "*TASK 2*\n# XXX\n---",
   "metadata": {
    "cell_id": "00012-f7ed8c9e-4e5c-4499-8cbd-bc465deeb219",
    "tags": [],
    "deepnote_cell_type": "markdown"
   }
  },
  {
   "cell_type": "code",
   "metadata": {
    "cell_id": "00015-c0d67151-ed60-49d4-822d-0806e71831bc",
    "deepnote_to_be_reexecuted": false,
    "execution_millis": 1,
    "execution_start": 1622219507500,
    "output_cleared": true,
    "source_hash": "5cd17fc",
    "tags": [],
    "deepnote_cell_type": "code"
   },
   "source": "# some code",
   "execution_count": 37,
   "outputs": []
  },
  {
   "cell_type": "markdown",
   "source": "## Exercise 2",
   "metadata": {
    "cell_id": "00056-e968357f-470b-4e57-b721-9add3729ae71",
    "tags": [],
    "deepnote_cell_type": "markdown"
   }
  },
  {
   "cell_type": "code",
   "metadata": {
    "cell_id": "00058-8d948cde-2e02-4c37-bc16-fbe8682c2d39",
    "deepnote_to_be_reexecuted": false,
    "execution_millis": 46,
    "execution_start": 1622219507508,
    "source_hash": "3b353218",
    "tags": [],
    "deepnote_cell_type": "code"
   },
   "source": "from nltk.util import bigrams\nlist(bigrams(DATA['processed'][\"emotion\"][\"train_text\"][0]))",
   "execution_count": 38,
   "outputs": [
    {
     "output_type": "execute_result",
     "execution_count": 38,
     "data": {
      "text/plain": "[('“', 'worry'),\n ('worry', 'is'),\n ('is', 'a'),\n ('a', 'down'),\n ('down', 'payment'),\n ('payment', 'on'),\n ('on', 'a'),\n ('a', 'problem'),\n ('problem', 'you'),\n ('you', 'may'),\n ('may', 'never'),\n ('never', 'have'),\n ('have', \"'\"),\n (\"'\", '.'),\n ('.', 'joyce'),\n ('joyce', 'meyer'),\n ('meyer', '.'),\n ('.', '#motivation'),\n ('#motivation', '#leadership'),\n ('#leadership', '#worry')]"
     },
     "metadata": {}
    }
   ]
  },
  {
   "cell_type": "code",
   "metadata": {
    "cell_id": "00057-bff8f6ef-d98d-4a90-af0f-d94d70c9b886",
    "deepnote_to_be_reexecuted": false,
    "execution_millis": 36,
    "execution_start": 1622219507519,
    "source_hash": "308c1320",
    "tags": [],
    "deepnote_cell_type": "code"
   },
   "source": "#Adds A <s> to before the first word to indicate that it's the start and an </s> to the end the word to do it\nfrom nltk.util import pad_sequence\nlist(pad_sequence(DATA['processed'][\"emotion\"][\"train_text\"][0],\npad_left=True,\nleft_pad_symbol=\"<s>\",\npad_right=True,\nright_pad_symbol=\"</s>\",\nn=2))",
   "execution_count": 39,
   "outputs": [
    {
     "output_type": "execute_result",
     "execution_count": 39,
     "data": {
      "text/plain": "['<s>',\n '“',\n 'worry',\n 'is',\n 'a',\n 'down',\n 'payment',\n 'on',\n 'a',\n 'problem',\n 'you',\n 'may',\n 'never',\n 'have',\n \"'\",\n '.',\n 'joyce',\n 'meyer',\n '.',\n '#motivation',\n '#leadership',\n '#worry',\n '</s>']"
     },
     "metadata": {}
    }
   ]
  },
  {
   "cell_type": "code",
   "metadata": {
    "cell_id": "00060-cea7d2d0-0bf4-4fac-8bc2-b7cdf2a772a0",
    "deepnote_to_be_reexecuted": false,
    "execution_millis": 27,
    "execution_start": 1622219507528,
    "source_hash": "32bfc397",
    "tags": [],
    "deepnote_cell_type": "code"
   },
   "source": "from nltk.lm.preprocessing import pad_both_ends\nlist(pad_both_ends(DATA['processed'][\"emotion\"][\"train_text\"][0], n=2))",
   "execution_count": 40,
   "outputs": [
    {
     "output_type": "execute_result",
     "execution_count": 40,
     "data": {
      "text/plain": "['<s>',\n '“',\n 'worry',\n 'is',\n 'a',\n 'down',\n 'payment',\n 'on',\n 'a',\n 'problem',\n 'you',\n 'may',\n 'never',\n 'have',\n \"'\",\n '.',\n 'joyce',\n 'meyer',\n '.',\n '#motivation',\n '#leadership',\n '#worry',\n '</s>']"
     },
     "metadata": {}
    }
   ]
  },
  {
   "cell_type": "code",
   "metadata": {
    "cell_id": "00061-afefc8ce-f79b-4771-9b31-01878b257a7b",
    "deepnote_to_be_reexecuted": false,
    "execution_millis": 13,
    "execution_start": 1622219507542,
    "source_hash": "33d61cfe",
    "tags": [],
    "deepnote_cell_type": "code"
   },
   "source": "list(bigrams(pad_both_ends(DATA['processed'][\"emotion\"][\"train_text\"][0], n=2)))",
   "execution_count": 41,
   "outputs": [
    {
     "output_type": "execute_result",
     "execution_count": 41,
     "data": {
      "text/plain": "[('<s>', '“'),\n ('“', 'worry'),\n ('worry', 'is'),\n ('is', 'a'),\n ('a', 'down'),\n ('down', 'payment'),\n ('payment', 'on'),\n ('on', 'a'),\n ('a', 'problem'),\n ('problem', 'you'),\n ('you', 'may'),\n ('may', 'never'),\n ('never', 'have'),\n ('have', \"'\"),\n (\"'\", '.'),\n ('.', 'joyce'),\n ('joyce', 'meyer'),\n ('meyer', '.'),\n ('.', '#motivation'),\n ('#motivation', '#leadership'),\n ('#leadership', '#worry'),\n ('#worry', '</s>')]"
     },
     "metadata": {}
    }
   ]
  },
  {
   "cell_type": "code",
   "metadata": {
    "cell_id": "00061-87f200f6-4a5c-4dd1-8c0f-8066ca235162",
    "deepnote_to_be_reexecuted": false,
    "execution_millis": 10,
    "execution_start": 1622219507570,
    "source_hash": "35ff05f",
    "tags": [],
    "deepnote_cell_type": "code"
   },
   "source": "from nltk.lm.preprocessing import flatten\nlist(flatten(pad_both_ends(sent, n=2) for sent in DATA['processed'][\"emotion\"][\"train_text\"][:100]))",
   "execution_count": 42,
   "outputs": [
    {
     "output_type": "execute_result",
     "execution_count": 42,
     "data": {
      "text/plain": "['<s>',\n '“',\n 'worry',\n 'is',\n 'a',\n 'down',\n 'payment',\n 'on',\n 'a',\n 'problem',\n 'you',\n 'may',\n 'never',\n 'have',\n \"'\",\n '.',\n 'joyce',\n 'meyer',\n '.',\n '#motivation',\n '#leadership',\n '#worry',\n '</s>',\n '<s>',\n 'my',\n 'roommate',\n ':',\n 'it',\n 'is',\n 'okay',\n 'that',\n 'we',\n 'cannot',\n 'spell',\n 'because',\n 'we',\n 'have',\n 'autocorrect',\n '.',\n '#terrible',\n '#firstworldprobs',\n '</s>',\n '<s>',\n 'no',\n 'but',\n 'that',\n 'is',\n 'so',\n 'cute',\n '.',\n 'atsu',\n 'was',\n 'probably',\n 'shy',\n 'about',\n 'photos',\n 'before',\n 'but',\n 'cherry',\n 'helped',\n 'her',\n 'out',\n 'uwu',\n '</s>',\n '<s>',\n 'rooneys',\n 'fucking',\n 'untouchable',\n 'is',\n 'not',\n 'he',\n '?',\n 'been',\n 'fucking',\n 'dreadful',\n 'again',\n ',',\n 'depay',\n 'has',\n 'looked',\n 'decent',\n '(',\n 'ish',\n ')',\n 'tonight',\n '</s>',\n '<s>',\n 'it',\n 'is',\n 'pretty',\n 'depressing',\n 'when',\n 'you',\n 'hit',\n 'pan',\n 'on',\n 'ur',\n 'favourite',\n 'highlighter',\n '</s>',\n '<s>',\n '@user',\n 'but',\n 'your',\n 'pussy',\n 'was',\n 'weak',\n 'from',\n 'what',\n 'i',\n 'heard',\n 'so',\n 'stfu',\n 'up',\n 'to',\n 'me',\n 'bitch',\n '.',\n 'you',\n 'got',\n 'to',\n 'threaten',\n 'him',\n 'that',\n 'your',\n 'pregnant',\n '.',\n '</s>',\n '<s>',\n 'making',\n 'that',\n 'yearly',\n 'transition',\n 'from',\n 'excited',\n 'and',\n 'hopeful',\n 'college',\n 'returner',\n 'to',\n 'sick',\n 'and',\n 'exhausted',\n 'pessimist',\n '.',\n '#college',\n '</s>',\n '<s>',\n 'tiller',\n 'and',\n 'breezy',\n 'should',\n 'do',\n 'a',\n 'collab',\n 'album',\n '.',\n 'rapping',\n 'and',\n 'singing',\n 'prolly',\n 'be',\n 'fire',\n '</s>',\n '<s>',\n '@user',\n 'broadband',\n 'is',\n 'shocking',\n 'regretting',\n 'signing',\n 'up',\n 'now',\n '#angry',\n '#shouldofgonewithvirgin',\n '</s>',\n '<s>',\n '@user',\n 'look',\n 'at',\n 'those',\n 'teef',\n '!',\n '#growl',\n '</s>',\n '<s>',\n '@user',\n '@user',\n 'usa',\n 'was',\n 'embarrassing',\n 'to',\n 'watch',\n '.',\n 'when',\n 'was',\n 'the',\n 'last',\n 'time',\n 'you',\n 'guys',\n 'won',\n 'a',\n 'game',\n '..',\n '?',\n '#horrible',\n '#joke',\n '</s>',\n '<s>',\n '#newyork',\n ':',\n 'several',\n '#baloch',\n '&',\n 'indian',\n 'activists',\n 'hold',\n 'demonstrations',\n 'outside',\n '@user',\n 'headquarters',\n 'demanding',\n 'pak',\n 'to',\n 'stop',\n 'exporting',\n '#terror',\n 'into',\n 'india',\n '</s>',\n '<s>',\n 'your',\n 'glee',\n 'filled',\n 'normy',\n 'dry',\n 'humping',\n 'of',\n 'the',\n 'most',\n 'recent',\n 'high',\n 'profile',\n 'celebrity',\n 'break',\n 'up',\n 'is',\n 'pathetic',\n '&',\n 'all',\n 'that',\n 'is',\n 'wrong',\n 'with',\n 'the',\n 'world',\n 'today',\n '.',\n '</s>',\n '<s>',\n 'what',\n 'a',\n 'fucking',\n 'muppet',\n '.',\n '@user',\n '#stalker',\n '.',\n '</s>',\n '<s>',\n 'autocorrect',\n 'changes',\n \"'\",\n \"'\",\n 'em',\n \"'\",\n 'to',\n \"'\",\n 'me',\n \"'\",\n 'which',\n 'i',\n 'resent',\n 'greatly',\n '</s>',\n '<s>',\n '@user',\n 'i',\n 'would',\n 'never',\n 'strategically',\n 'vote',\n 'for',\n 'someone',\n 'i',\n 'do',\n 'not',\n 'agree',\n 'with',\n '.',\n 'a',\n 'lot',\n 'of',\n 'the',\n 'clinton',\n 'vote',\n 'based',\n 'on',\n 'fear',\n 'and',\n 'negativity',\n '.',\n '</s>',\n '<s>',\n '@user',\n 'haters',\n '!',\n '!',\n '!',\n 'you',\n 'are',\n 'low',\n 'in',\n 'self',\n 'worth',\n '.',\n 'self',\n 'righteous',\n 'in',\n 'your',\n 'delusions',\n '.',\n 'you',\n 'cower',\n 'at',\n 'the',\n 'thought',\n 'of',\n 'change',\n '.',\n 'change',\n 'is',\n 'inevitable',\n '.',\n '</s>',\n '<s>',\n 'i',\n 'saved',\n 'him',\n 'after',\n 'ordering',\n 'him',\n 'to',\n 'risk',\n 'his',\n 'life',\n '.',\n 'i',\n 'did',\n 'not',\n 'panic',\n 'but',\n 'stayed',\n 'calm',\n 'and',\n 'rescued',\n 'him',\n '.',\n '</s>',\n '<s>',\n '@user',\n 'uggh',\n 'that',\n 'is',\n 'really',\n 'horrible',\n '.',\n 'you',\n 'are',\n 'not',\n 'a',\n 'bad',\n 'person',\n 'by',\n 'any',\n 'stretch',\n 'of',\n 'the',\n 'imagination',\n '.',\n 'i',\n 'hope',\n 'this',\n 'person',\n 'realizes',\n 'that',\n '.',\n '</s>',\n '<s>',\n '@user',\n '@user',\n '@user',\n 'tamra',\n 'would',\n 'f',\n 'her',\n 'up',\n 'if',\n 'she',\n 'swung',\n 'on',\n 'tamra',\n 'kelly',\n 'is',\n 'a',\n 'piece',\n 'of',\n '💩',\n '#needstobeadmitted',\n '#bully',\n '</s>',\n '<s>',\n 'love',\n 'is',\n 'when',\n 'all',\n 'your',\n 'happiness',\n 'and',\n 'all',\n 'your',\n 'sadness',\n 'and',\n 'all',\n 'your',\n 'feelings',\n 'are',\n 'dependent',\n 'on',\n 'another',\n 'person',\n '.',\n '</s>',\n '<s>',\n 'it',\n '’',\n 's',\n 'possible',\n 'changing',\n 'meds',\n 'is',\n 'best',\n 'not',\n 'done',\n 'while',\n 'under',\n 'stress',\n '.',\n 'difficult',\n 'to',\n 'tell',\n 'what',\n 'part',\n 'of',\n 'despair',\n 'is',\n 'circumstantial',\n ',',\n 'what',\n 'is',\n 'drugs',\n '.',\n '</s>',\n '<s>',\n 'I',\n 'am',\n 'also',\n 'definitely',\n 'still',\n 'bitter',\n 'about',\n 'the',\n 'yellow',\n 'ranger',\n 'not',\n 'being',\n 'asian',\n ',',\n 'but',\n 'asian',\n 'representation',\n 'in',\n 'hollywood',\n 'is',\n 'essentially',\n 'a',\n 'shrug',\n 'anyway',\n '</s>',\n '<s>',\n '@user',\n 'the',\n 'irony',\n 'is',\n 'that',\n 'those',\n 'protesting',\n 'about',\n 'this',\n 'kind',\n 'of',\n 'stuff',\n 'are',\n 'the',\n 'orwellian',\n 'nightmare',\n 'they',\n 'think',\n 'they',\n '’',\n 're',\n 'fighting',\n 'against',\n '.',\n '</s>',\n '<s>',\n '@user',\n '@user',\n 'nah',\n 'way',\n 'that',\n 'has',\n 'horrible',\n '</s>',\n '<s>',\n '@user',\n 'i',\n 'think',\n 'just',\n 'becz',\n 'you',\n 'have',\n 'so',\n 'much',\n 'terror',\n 'in',\n 'pak',\n 'nd',\n 'urself',\n 'being',\n 'a',\n 'leader',\n 'you',\n 'forgot',\n 'd',\n 'difference',\n 'btw',\n 'a',\n 'leader',\n 'nd',\n 'terrorist',\n '!',\n '</s>',\n '<s>',\n 'angel',\n 'delight',\n 'is',\n 'my',\n 'everything',\n '</s>',\n '<s>',\n 'puzzle',\n 'investing',\n 'opening',\n 'portland',\n 'feodal',\n 'population',\n 'is',\n 'correlative',\n 'straight',\n 'a',\n 'snorting',\n 'infuriate',\n ':',\n 'xlzjyhg',\n '</s>',\n '<s>',\n 'i',\n 'believe',\n 'I',\n 'am',\n 'going',\n 'to',\n 'start',\n 'singing',\n 'in',\n 'my',\n 'snap',\n 'stories',\n 'on',\n 'the',\n 'tractor',\n '.',\n 'switch',\n 'it',\n 'up',\n 'a',\n 'little',\n 'bit',\n '.',\n '</s>',\n '<s>',\n 'i',\n 'have',\n 'a',\n 'rage',\n 'rage',\n 'ep',\n '2',\n 'coming',\n 'out',\n 'soon',\n 'I',\n 'will',\n 'keep',\n 'you',\n 'posted',\n 'on',\n 'it',\n '#youtube',\n '#youtubegaming',\n '#rage',\n '</s>',\n '<s>',\n 'why',\n 'have',\n 'i',\n 'only',\n 'just',\n 'started',\n 'watching',\n 'glee',\n 'this',\n 'week',\n 'i',\n 'am',\n 'now',\n 'addicted',\n '🙄',\n '#glee',\n '#gleek',\n '</s>',\n '<s>',\n 'jorge',\n 'deserves',\n 'it',\n ',',\n 'honestly',\n '.',\n 'he',\n 'is',\n 'weak',\n '.',\n '#90dayfiance',\n '</s>',\n '<s>',\n '@user',\n \"'\",\n 'shit',\n \"'\",\n 'does',\n 'not',\n 'even',\n 'begin',\n 'to',\n 'describe',\n 'these',\n 'fiery',\n 'little',\n 'demons',\n 'straight',\n 'from',\n 'hell',\n '🌝',\n '🌚',\n ';)',\n '</s>',\n '<s>',\n '@user',\n '@user',\n 'ditto',\n '!',\n '!',\n 'such',\n 'an',\n 'amazing',\n 'atmosphere',\n '!',\n '#philippplein',\n '#cheerleaders',\n '#stunt',\n '#londonevents',\n '#cheer',\n '</s>',\n '<s>',\n 'interview',\n 'preparation',\n ',',\n 'i',\n 'hate',\n 'talking',\n 'about',\n 'myself',\n ',',\n 'one',\n 'dull',\n 'subject',\n 'matter',\n '!',\n '#yawnoff',\n '</s>',\n '<s>',\n 'manchester',\n 'derby',\n 'at',\n 'home',\n '</s>',\n '<s>',\n 'it',\n 'would',\n 'probably',\n 'be',\n 'useful',\n 'to',\n 'more',\n 'than',\n 'women',\n ',',\n 'but',\n 'I',\n 'am',\n 'dealing',\n 'with',\n 're-reading',\n 'an',\n 'article',\n 'about',\n 'a',\n 'woman',\n 'being',\n 'harassed',\n 'on',\n 'the',\n 'subway',\n '.',\n '#concern',\n '</s>',\n '<s>',\n 'her',\n ';',\n 'i',\n 'want',\n 'a',\n 'playful',\n 'relationship',\n 'me',\n ';',\n '*',\n 'kicks',\n 'her',\n 'off',\n 'the',\n 'couch',\n '*',\n '</s>',\n '<s>',\n 'romero',\n 'is',\n 'fucking',\n 'dreadful',\n 'like',\n 'seriously',\n 'my',\n '11',\n 'month',\n 'old',\n 'is',\n 'better',\n 'than',\n 'him',\n '.',\n '</s>',\n '<s>',\n '@user',\n 'it',\n '’',\n 's',\n 'taken',\n 'for',\n 'granted',\n ',',\n 'while',\n 'the',\n 'misogyny',\n 'in',\n 'the',\n 'air',\n 'is',\n 'treated',\n 'as',\n 'normal',\n '—',\n 'and',\n 'any',\n 'angry',\n 'response',\n 'to',\n 'it',\n 'as',\n 'pathological',\n '.',\n '</s>',\n '<s>',\n '@user',\n 'oh',\n 'i',\n 'see',\n '.',\n 'I',\n 'have',\n 'seen',\n 'so',\n 'many',\n 'people',\n 'mourn',\n 'the',\n 'loss',\n 'that',\n 'i',\n 'was',\n 'surprised',\n 'to',\n 'see',\n 'your',\n 'tweet',\n '.',\n 'i',\n 'suppose',\n 'same',\n 'old',\n 'here',\n 'in',\n 'sa',\n '</s>',\n '<s>',\n 'so',\n 'gutted',\n 'i',\n 'dropped',\n 'one',\n 'of',\n 'my',\n 'earrings',\n 'down',\n 'the',\n 'sink',\n 'at',\n 'school',\n '</s>',\n '<s>',\n 'happy',\n 'birthday',\n 'to',\n 'stephen',\n 'king',\n ',',\n 'a',\n 'man',\n 'responsible',\n 'for',\n 'some',\n 'of',\n 'the',\n 'best',\n 'horror',\n 'of',\n 'the',\n 'past',\n '40',\n 'years',\n '...',\n 'and',\n 'a',\n 'whole',\n 'bunch',\n 'of',\n 'the',\n 'worst',\n '.',\n '</s>',\n '<s>',\n '“',\n 'my',\n 'courage',\n 'always',\n 'rises',\n 'at',\n 'every',\n 'attempt',\n 'to',\n 'intimidate',\n 'me',\n '.',\n '”',\n '-',\n 'elizabeth',\n 'bennett',\n '(',\n 'pride',\n 'and',\n 'prejudice',\n ')',\n '#quotes',\n '#courage',\n '#faceyourfears',\n '</s>',\n '<s>',\n 'it',\n 'is',\n 'a',\n 'good',\n 'day',\n 'at',\n 'work',\n 'when',\n 'you',\n 'get',\n 'to',\n 'shake',\n 'jim',\n \"lehrer's\",\n 'hand',\n '.',\n 'thanks',\n ',',\n '@user',\n 'still',\n 'kicking',\n 'myself',\n 'for',\n 'being',\n 'to',\n 'shy',\n 'to',\n 'hug',\n '@user',\n '</s>',\n '<s>',\n 'I',\n 'am',\n 'so',\n 'bored',\n 'and',\n 'fat',\n 'and',\n 'full',\n 'and',\n 'ridiculously',\n 'overweight',\n 'and',\n 'rolls',\n 'galore',\n '</s>',\n '<s>',\n '@user',\n 'flirt',\n ',',\n 'simper',\n ',',\n 'pout',\n ',',\n 'repeat',\n '.',\n 'yuck',\n '.',\n '</s>',\n '<s>',\n 'trumpism',\n 'likewise',\n 'rests',\n 'on',\n 'a',\n 'bed',\n 'of',\n 'racial',\n 'resentment',\n 'that',\n 'was',\n 'made',\n ...]"
     },
     "metadata": {}
    }
   ]
  },
  {
   "cell_type": "code",
   "metadata": {
    "cell_id": "00062-8d124715-50b4-43a6-9d89-ea885342ff27",
    "deepnote_to_be_reexecuted": false,
    "execution_millis": 1,
    "execution_start": 1622219507618,
    "source_hash": "5b2eb51f",
    "tags": [],
    "deepnote_cell_type": "code"
   },
   "source": "from nltk.lm.preprocessing import padded_everygram_pipeline\ntrain, vocab = padded_everygram_pipeline(3, DATA['processed'][\"hate\"][\"train_text\"])",
   "execution_count": 43,
   "outputs": []
  },
  {
   "cell_type": "code",
   "metadata": {
    "cell_id": "00064-743bafa3-8d63-437c-bde0-3c09c993fc79",
    "deepnote_to_be_reexecuted": false,
    "execution_millis": 0,
    "execution_start": 1622219507619,
    "source_hash": "8bcb8554",
    "tags": [],
    "deepnote_cell_type": "code"
   },
   "source": "from nltk.lm import MLE\nlm = MLE(5)",
   "execution_count": 44,
   "outputs": []
  },
  {
   "cell_type": "code",
   "metadata": {
    "cell_id": "00065-895de1bd-c0c6-48e4-8b00-980f2cc60d05",
    "deepnote_to_be_reexecuted": false,
    "execution_millis": 8,
    "execution_start": 1622219507620,
    "source_hash": "75128094",
    "tags": [],
    "deepnote_cell_type": "code"
   },
   "source": "len(lm.vocab)",
   "execution_count": 45,
   "outputs": [
    {
     "output_type": "execute_result",
     "execution_count": 45,
     "data": {
      "text/plain": "0"
     },
     "metadata": {}
    }
   ]
  },
  {
   "cell_type": "code",
   "metadata": {
    "cell_id": "00066-34aff179-5976-41b6-95a8-86038bbd6caa",
    "deepnote_to_be_reexecuted": false,
    "execution_millis": 9982,
    "execution_start": 1622219507662,
    "source_hash": "82e9fe51",
    "tags": [],
    "deepnote_cell_type": "code"
   },
   "source": "lm.fit(train, vocab)\nprint(lm.vocab)\nlen(lm.vocab)",
   "execution_count": 46,
   "outputs": [
    {
     "name": "stdout",
     "text": "<Vocabulary with cutoff=1 unk_label='<UNK>' and 18603 items>\n",
     "output_type": "stream"
    },
    {
     "output_type": "execute_result",
     "execution_count": 46,
     "data": {
      "text/plain": "18603"
     },
     "metadata": {}
    }
   ]
  },
  {
   "cell_type": "code",
   "metadata": {
    "cell_id": "00066-ac07c8de-8236-4c86-9ca3-939845193cc8",
    "deepnote_to_be_reexecuted": false,
    "execution_millis": 82,
    "execution_start": 1622219517664,
    "source_hash": "7046381c",
    "tags": [],
    "deepnote_cell_type": "code"
   },
   "source": "print(lm.counts)",
   "execution_count": 47,
   "outputs": [
    {
     "name": "stdout",
     "text": "<NgramCounter with 3 ngram orders and 729228 ngrams>\n",
     "output_type": "stream"
    }
   ]
  },
  {
   "cell_type": "code",
   "metadata": {
    "cell_id": "00067-f109bea8-2914-49b3-b11f-4944e68daa41",
    "deepnote_to_be_reexecuted": false,
    "execution_millis": 13,
    "execution_start": 1622219517767,
    "source_hash": "aeeaec4d",
    "tags": [],
    "deepnote_cell_type": "code"
   },
   "source": "lm.counts[['.']][\"</s>\"]",
   "execution_count": 48,
   "outputs": [
    {
     "output_type": "execute_result",
     "execution_count": 48,
     "data": {
      "text/plain": "1399"
     },
     "metadata": {}
    }
   ]
  },
  {
   "cell_type": "code",
   "metadata": {
    "cell_id": "00068-f367f9fb-8559-4d5b-9c8c-d8ebf6a22c82",
    "deepnote_to_be_reexecuted": false,
    "execution_millis": 12,
    "execution_start": 1622219517768,
    "source_hash": "237ec896",
    "tags": [],
    "deepnote_cell_type": "code"
   },
   "source": "lm.score(\".\", [\"</s>\"])",
   "execution_count": 49,
   "outputs": [
    {
     "output_type": "execute_result",
     "execution_count": 49,
     "data": {
      "text/plain": "0.0"
     },
     "metadata": {}
    }
   ]
  },
  {
   "cell_type": "code",
   "metadata": {
    "cell_id": "00068-0d1770b7-a735-4825-add1-1fd9dbd8ed58",
    "deepnote_to_be_reexecuted": false,
    "execution_millis": 12,
    "execution_start": 1622219517768,
    "source_hash": "285a3958",
    "tags": [],
    "deepnote_cell_type": "code"
   },
   "source": "lm.score(\"randomString\")",
   "execution_count": 50,
   "outputs": [
    {
     "output_type": "execute_result",
     "execution_count": 50,
     "data": {
      "text/plain": "0.0"
     },
     "metadata": {}
    }
   ]
  },
  {
   "cell_type": "code",
   "metadata": {
    "cell_id": "00070-473d4ac1-d4ae-47f9-b6dd-3b5071e17f5e",
    "deepnote_to_be_reexecuted": false,
    "execution_millis": 3,
    "execution_start": 1622219517770,
    "source_hash": "5554bfdc",
    "tags": [],
    "deepnote_cell_type": "code"
   },
   "source": " test = [('I', 'am'), ('I', 'hate')]",
   "execution_count": 51,
   "outputs": []
  },
  {
   "cell_type": "code",
   "metadata": {
    "cell_id": "00070-af019404-c3b6-4afa-b27d-c47f570eecdd",
    "deepnote_to_be_reexecuted": false,
    "execution_millis": 14,
    "execution_start": 1622219517776,
    "source_hash": "816e0766",
    "tags": [],
    "deepnote_cell_type": "code"
   },
   "source": " lm.entropy(test)",
   "execution_count": 52,
   "outputs": [
    {
     "output_type": "execute_result",
     "execution_count": 52,
     "data": {
      "text/plain": "inf"
     },
     "metadata": {}
    }
   ]
  },
  {
   "cell_type": "code",
   "metadata": {
    "cell_id": "00071-a11989ee-d669-4629-8eea-ca7f52c0910c",
    "deepnote_to_be_reexecuted": false,
    "execution_millis": 8,
    "execution_start": 1622219517826,
    "source_hash": "3e97d56e",
    "tags": [],
    "deepnote_cell_type": "code"
   },
   "source": "lm.perplexity(test)",
   "execution_count": 53,
   "outputs": [
    {
     "output_type": "execute_result",
     "execution_count": 53,
     "data": {
      "text/plain": "inf"
     },
     "metadata": {}
    }
   ]
  },
  {
   "cell_type": "markdown",
   "source": "\"your girlfriend looking at injustices happening in andrew\"",
   "metadata": {
    "cell_id": "00073-aca32b87-a150-480a-ba80-7d0f03c506d7",
    "tags": [],
    "deepnote_cell_type": "text-cell-p"
   }
  },
  {
   "cell_type": "markdown",
   "source": "'they should understand women cheats on my 16gb of action against their bodies on legs'",
   "metadata": {
    "cell_id": "00074-02be21d7-df2b-463a-a794-02ced329495c",
    "tags": [],
    "deepnote_cell_type": "text-cell-p"
   }
  },
  {
   "cell_type": "markdown",
   "source": "#peoplelikemebecause actions. #lovejihad",
   "metadata": {
    "cell_id": "00075-a44f03c1-a36f-49cf-8880-91abd8230521",
    "tags": [],
    "deepnote_cell_type": "text-cell-p"
   }
  },
  {
   "cell_type": "markdown",
   "source": "'betray your hole last weekend me want more' <br>\n'hitler may come back'",
   "metadata": {
    "cell_id": "00076-303259f8-9630-4042-9d72-057c9d8bf165",
    "tags": [],
    "deepnote_cell_type": "markdown"
   }
  },
  {
   "cell_type": "code",
   "metadata": {
    "cell_id": "00076-99664b8f-9d0d-4370-932f-da7947884f7b",
    "deepnote_to_be_reexecuted": false,
    "execution_millis": 7,
    "execution_start": 1622219517827,
    "source_hash": "691612ea",
    "tags": [],
    "deepnote_cell_type": "code"
   },
   "source": "lm.generate(10, text_seed=[\"You\",\"are\",\"a\",\"stupid\"], random_seed=5)",
   "execution_count": 54,
   "outputs": [
    {
     "output_type": "execute_result",
     "execution_count": 54,
     "data": {
      "text/plain": "['fucking', 'idiot', 'hoe', 'i', '’', 've', 'accused', 'him', 'of', 'rape']"
     },
     "metadata": {}
    }
   ]
  },
  {
   "cell_type": "code",
   "metadata": {
    "cell_id": "00075-d8f867fa-f45b-400a-ab49-74aa5949913d",
    "deepnote_to_be_reexecuted": false,
    "execution_millis": 153,
    "execution_start": 1622219517870,
    "source_hash": "523cc3cf",
    "tags": [],
    "deepnote_cell_type": "code"
   },
   "source": "from nltk.util import ngrams\ntext_bigrams = [ngrams(sent, 2) for sent in DATA['processed'][\"hate\"][\"train_text\"]]\ntext_unigrams = [ngrams(sent, 1) for sent in DATA['processed'][\"hate\"][\"train_text\"]]",
   "execution_count": 55,
   "outputs": []
  },
  {
   "cell_type": "code",
   "metadata": {
    "cell_id": "00077-2f9d9e94-5259-474a-95f9-97fa614665d1",
    "deepnote_to_be_reexecuted": false,
    "execution_millis": 968,
    "execution_start": 1622219518074,
    "source_hash": "42addd9e",
    "tags": [],
    "deepnote_cell_type": "code"
   },
   "source": "from nltk.lm import NgramCounter\nngram_counts = NgramCounter(text_bigrams + text_unigrams)",
   "execution_count": 56,
   "outputs": []
  },
  {
   "cell_type": "code",
   "metadata": {
    "cell_id": "00078-49c0e88f-a77d-4697-a9a2-ad934d2a7723",
    "deepnote_to_be_reexecuted": false,
    "execution_millis": 0,
    "execution_start": 1622219519052,
    "source_hash": "d956c480",
    "tags": [],
    "deepnote_cell_type": "code"
   },
   "source": "ngram_counts[\"I\"]",
   "execution_count": 57,
   "outputs": [
    {
     "output_type": "execute_result",
     "execution_count": 57,
     "data": {
      "text/plain": "414"
     },
     "metadata": {}
    }
   ]
  },
  {
   "cell_type": "code",
   "metadata": {
    "cell_id": "00081-dc38865a-0292-4597-89a6-b68d5084a345",
    "deepnote_to_be_reexecuted": false,
    "execution_millis": 3,
    "execution_start": 1622219519058,
    "source_hash": "b623e53d",
    "tags": [],
    "deepnote_cell_type": "code"
   },
   "source": "",
   "execution_count": 57,
   "outputs": []
  },
  {
   "cell_type": "markdown",
   "source": "*TASK 3*\n# Manual Annotations and Inter-Annotator Agreement\n\nIn this section, we will manually annotate 100 randomly selected tweets from the train corpus in the hate speech data set. We followed the annotation guidelines as employed by the source of the data:\n\n[Final Paper](https://www.aclweb.org/anthology/S19-2007.pdf)\n\n[Annotation Guidelines](https://github.com/msang/hateval/blob/master/annotation_guidelines.md)",
   "metadata": {
    "cell_id": "00082-d445badc-5275-4d02-af41-527b34f6b56b",
    "tags": [],
    "deepnote_cell_type": "markdown"
   }
  },
  {
   "cell_type": "code",
   "metadata": {
    "cell_id": "00083-b00760ef-6d1c-4287-8332-7f40e977bc27",
    "deepnote_to_be_reexecuted": false,
    "execution_millis": 0,
    "execution_start": 1622219519063,
    "source_hash": "6ce6c828",
    "tags": [],
    "deepnote_cell_type": "code"
   },
   "source": "GENERATE_SAMPLE = False",
   "execution_count": 58,
   "outputs": []
  },
  {
   "cell_type": "code",
   "metadata": {
    "cell_id": "00083-94c0db2e-6605-483e-bc6b-c91fa82efcfa",
    "deepnote_to_be_reexecuted": false,
    "execution_millis": 39,
    "execution_start": 1622219519071,
    "source_hash": "70d39c6",
    "tags": [],
    "deepnote_cell_type": "code"
   },
   "source": "if GENERATE_SAMPLE == True:\n    with open('../data/annotations/annotation_sample.txt', 'w') as outfile:\n        for tweet in DATA['raw']['hate']['train_text'][-100:]: # last 100 tweets in hate training set\n            outfile.writelines(tweet + '\\n')\n    with open('../data/annotations/ground_truth_annotation_sample.txt', 'w') as outfile:\n        for label in DATA['raw']['hate']['train_labels'][-100:]:\n            outfile.writelines(str(label) + '\\n')",
   "execution_count": 59,
   "outputs": []
  },
  {
   "cell_type": "code",
   "metadata": {
    "cell_id": "00085-0c6885fd-8014-4ce7-bfbd-bf43e305bc0a",
    "deepnote_to_be_reexecuted": false,
    "execution_millis": 0,
    "execution_start": 1622219519111,
    "source_hash": "76f9350c",
    "tags": [],
    "deepnote_cell_type": "code"
   },
   "source": "# compare manual annotations through building dataframe\nannotation_evaluation = pd.DataFrame({'tweets': DATA['raw']['hate']['train_text'][-100:], 'ground_truth': DATA['raw']['hate']['train_labels'][-100:]})\n\nfor filename in os.listdir('../data/annotations/manual_annotations'):\n    with open(f'../data/annotations/manual_annotations/{filename}', 'r') as infile:\n        annotation_evaluation[filename[:-4]] = [int(line.strip()) for line in infile.readlines()]",
   "execution_count": 60,
   "outputs": []
  },
  {
   "cell_type": "code",
   "metadata": {
    "cell_id": "00086-60a0157a-ff3a-421b-afc1-6ea25b5459e4",
    "deepnote_to_be_reexecuted": false,
    "execution_millis": 21,
    "execution_start": 1622219519134,
    "source_hash": "75b8187d",
    "tags": [],
    "deepnote_cell_type": "code"
   },
   "source": "annotation_evaluation",
   "execution_count": 61,
   "outputs": [
    {
     "output_type": "execute_result",
     "execution_count": 61,
     "data": {
      "application/vnd.deepnote.dataframe.v2+json": {
       "row_count": 100,
       "column_count": 6,
       "columns": [
        {
         "name": "tweets",
         "dtype": "object",
         "stats": {
          "unique_count": 100,
          "nan_count": 0,
          "categories": [
           {
            "name": "Cry baby Hollywood Dems Anti-Trump celebs too poor to run as a Mayor to show everyone they can be better politicians than him. Comments? @user no no no no new war under Trump, Europe is still handling the refugees from Obama's wars. Hi Ohio! @user weekend feels",
            "count": 1
           },
           {
            "name": "@user Do I have to fight another bitch ass looking cunt today?",
            "count": 1
           },
           {
            "name": "98 others",
            "count": 98
           }
          ]
         }
        },
        {
         "name": "ground_truth",
         "dtype": "int64",
         "stats": {
          "unique_count": 2,
          "nan_count": 0,
          "min": "0",
          "max": "1",
          "histogram": [
           {
            "bin_start": 0,
            "bin_end": 0.1,
            "count": 57
           },
           {
            "bin_start": 0.1,
            "bin_end": 0.2,
            "count": 0
           },
           {
            "bin_start": 0.2,
            "bin_end": 0.30000000000000004,
            "count": 0
           },
           {
            "bin_start": 0.30000000000000004,
            "bin_end": 0.4,
            "count": 0
           },
           {
            "bin_start": 0.4,
            "bin_end": 0.5,
            "count": 0
           },
           {
            "bin_start": 0.5,
            "bin_end": 0.6000000000000001,
            "count": 0
           },
           {
            "bin_start": 0.6000000000000001,
            "bin_end": 0.7000000000000001,
            "count": 0
           },
           {
            "bin_start": 0.7000000000000001,
            "bin_end": 0.8,
            "count": 0
           },
           {
            "bin_start": 0.8,
            "bin_end": 0.9,
            "count": 0
           },
           {
            "bin_start": 0.9,
            "bin_end": 1,
            "count": 43
           }
          ]
         }
        },
        {
         "name": "nicola_annotations",
         "dtype": "int64",
         "stats": {
          "unique_count": 2,
          "nan_count": 0,
          "min": "0",
          "max": "1",
          "histogram": [
           {
            "bin_start": 0,
            "bin_end": 0.1,
            "count": 58
           },
           {
            "bin_start": 0.1,
            "bin_end": 0.2,
            "count": 0
           },
           {
            "bin_start": 0.2,
            "bin_end": 0.30000000000000004,
            "count": 0
           },
           {
            "bin_start": 0.30000000000000004,
            "bin_end": 0.4,
            "count": 0
           },
           {
            "bin_start": 0.4,
            "bin_end": 0.5,
            "count": 0
           },
           {
            "bin_start": 0.5,
            "bin_end": 0.6000000000000001,
            "count": 0
           },
           {
            "bin_start": 0.6000000000000001,
            "bin_end": 0.7000000000000001,
            "count": 0
           },
           {
            "bin_start": 0.7000000000000001,
            "bin_end": 0.8,
            "count": 0
           },
           {
            "bin_start": 0.8,
            "bin_end": 0.9,
            "count": 0
           },
           {
            "bin_start": 0.9,
            "bin_end": 1,
            "count": 42
           }
          ]
         }
        },
        {
         "name": "hugo_annotations",
         "dtype": "int64",
         "stats": {
          "unique_count": 2,
          "nan_count": 0,
          "min": "0",
          "max": "1",
          "histogram": [
           {
            "bin_start": 0,
            "bin_end": 0.1,
            "count": 85
           },
           {
            "bin_start": 0.1,
            "bin_end": 0.2,
            "count": 0
           },
           {
            "bin_start": 0.2,
            "bin_end": 0.30000000000000004,
            "count": 0
           },
           {
            "bin_start": 0.30000000000000004,
            "bin_end": 0.4,
            "count": 0
           },
           {
            "bin_start": 0.4,
            "bin_end": 0.5,
            "count": 0
           },
           {
            "bin_start": 0.5,
            "bin_end": 0.6000000000000001,
            "count": 0
           },
           {
            "bin_start": 0.6000000000000001,
            "bin_end": 0.7000000000000001,
            "count": 0
           },
           {
            "bin_start": 0.7000000000000001,
            "bin_end": 0.8,
            "count": 0
           },
           {
            "bin_start": 0.8,
            "bin_end": 0.9,
            "count": 0
           },
           {
            "bin_start": 0.9,
            "bin_end": 1,
            "count": 15
           }
          ]
         }
        },
        {
         "name": "mika_annotations",
         "dtype": "int64",
         "stats": {
          "unique_count": 2,
          "nan_count": 0,
          "min": "0",
          "max": "1",
          "histogram": [
           {
            "bin_start": 0,
            "bin_end": 0.1,
            "count": 63
           },
           {
            "bin_start": 0.1,
            "bin_end": 0.2,
            "count": 0
           },
           {
            "bin_start": 0.2,
            "bin_end": 0.30000000000000004,
            "count": 0
           },
           {
            "bin_start": 0.30000000000000004,
            "bin_end": 0.4,
            "count": 0
           },
           {
            "bin_start": 0.4,
            "bin_end": 0.5,
            "count": 0
           },
           {
            "bin_start": 0.5,
            "bin_end": 0.6000000000000001,
            "count": 0
           },
           {
            "bin_start": 0.6000000000000001,
            "bin_end": 0.7000000000000001,
            "count": 0
           },
           {
            "bin_start": 0.7000000000000001,
            "bin_end": 0.8,
            "count": 0
           },
           {
            "bin_start": 0.8,
            "bin_end": 0.9,
            "count": 0
           },
           {
            "bin_start": 0.9,
            "bin_end": 1,
            "count": 37
           }
          ]
         }
        },
        {
         "name": "aidan_annotations",
         "dtype": "int64",
         "stats": {
          "unique_count": 2,
          "nan_count": 0,
          "min": "0",
          "max": "1",
          "histogram": [
           {
            "bin_start": 0,
            "bin_end": 0.1,
            "count": 66
           },
           {
            "bin_start": 0.1,
            "bin_end": 0.2,
            "count": 0
           },
           {
            "bin_start": 0.2,
            "bin_end": 0.30000000000000004,
            "count": 0
           },
           {
            "bin_start": 0.30000000000000004,
            "bin_end": 0.4,
            "count": 0
           },
           {
            "bin_start": 0.4,
            "bin_end": 0.5,
            "count": 0
           },
           {
            "bin_start": 0.5,
            "bin_end": 0.6000000000000001,
            "count": 0
           },
           {
            "bin_start": 0.6000000000000001,
            "bin_end": 0.7000000000000001,
            "count": 0
           },
           {
            "bin_start": 0.7000000000000001,
            "bin_end": 0.8,
            "count": 0
           },
           {
            "bin_start": 0.8,
            "bin_end": 0.9,
            "count": 0
           },
           {
            "bin_start": 0.9,
            "bin_end": 1,
            "count": 34
           }
          ]
         }
        },
        {
         "name": "_deepnote_index_column",
         "dtype": "int64"
        }
       ],
       "rows_top": [
        {
         "tweets": "Cry baby Hollywood Dems Anti-Trump celebs too poor to run as a Mayor to show everyone they can be b…",
         "ground_truth": 0,
         "nicola_annotations": 0,
         "hugo_annotations": 0,
         "mika_annotations": 0,
         "aidan_annotations": 0,
         "_deepnote_index_column": 0
        },
        {
         "tweets": "@user Do I have to fight another bitch ass looking cunt today?",
         "ground_truth": 1,
         "nicola_annotations": 1,
         "hugo_annotations": 0,
         "mika_annotations": 1,
         "aidan_annotations": 1,
         "_deepnote_index_column": 1
        },
        {
         "tweets": "#SouthCarolina has spent millions of dollars to arrest immigrant landscapers, housekeepers #ambassa…",
         "ground_truth": 0,
         "nicola_annotations": 0,
         "hugo_annotations": 0,
         "mika_annotations": 0,
         "aidan_annotations": 0,
         "_deepnote_index_column": 2
        },
        {
         "tweets": "Me trying to flirt- I wanna eat your hot pocket",
         "ground_truth": 0,
         "nicola_annotations": 0,
         "hugo_annotations": 0,
         "mika_annotations": 0,
         "aidan_annotations": 0,
         "_deepnote_index_column": 3
        },
        {
         "tweets": "People say, \"Why didn't this or that immigrant for Central or South America apply the proper way an…",
         "ground_truth": 0,
         "nicola_annotations": 0,
         "hugo_annotations": 0,
         "mika_annotations": 0,
         "aidan_annotations": 0,
         "_deepnote_index_column": 4
        },
        {
         "tweets": "I'm not the one to let people profit on my back... I'll break yours and take what's mine 😘",
         "ground_truth": 0,
         "nicola_annotations": 0,
         "hugo_annotations": 0,
         "mika_annotations": 1,
         "aidan_annotations": 0,
         "_deepnote_index_column": 5
        },
        {
         "tweets": "#landdegradation undermines the well-being of 3.2 billion people, or “two-fifths of humanity,” driv…",
         "ground_truth": 0,
         "nicola_annotations": 0,
         "hugo_annotations": 0,
         "mika_annotations": 0,
         "aidan_annotations": 0,
         "_deepnote_index_column": 6
        },
        {
         "tweets": "Me trying to flirt- You have really nice eyebrows... I'd like to cum on them to see if they wash off",
         "ground_truth": 1,
         "nicola_annotations": 1,
         "hugo_annotations": 0,
         "mika_annotations": 1,
         "aidan_annotations": 0,
         "_deepnote_index_column": 7
        },
        {
         "tweets": "Two faced Boris now hes on a power trip dosent care about Immigration may is a liar change l don't …",
         "ground_truth": 0,
         "nicola_annotations": 0,
         "hugo_annotations": 0,
         "mika_annotations": 0,
         "aidan_annotations": 0,
         "_deepnote_index_column": 8
        },
        {
         "tweets": "Says man who suggested an actress reported an historic rape to gain more work - you're a fully paid…",
         "ground_truth": 1,
         "nicola_annotations": 0,
         "hugo_annotations": 0,
         "mika_annotations": 1,
         "aidan_annotations": 0,
         "_deepnote_index_column": 9
        },
        {
         "tweets": "@user I hope you are not offering them a choice. To hell with the #Tories #SendThemHome",
         "ground_truth": 1,
         "nicola_annotations": 1,
         "hugo_annotations": 1,
         "mika_annotations": 1,
         "aidan_annotations": 1,
         "_deepnote_index_column": 10
        },
        {
         "tweets": "These are not refugees but aggressive male migrants the Med leaders - with exception of @user -want…",
         "ground_truth": 1,
         "nicola_annotations": 1,
         "hugo_annotations": 1,
         "mika_annotations": 1,
         "aidan_annotations": 0,
         "_deepnote_index_column": 11
        },
        {
         "tweets": "There are all these illegal immigrant aliens trying to get to Earth, but our 'Space Force' is prote…",
         "ground_truth": 0,
         "nicola_annotations": 1,
         "hugo_annotations": 0,
         "mika_annotations": 0,
         "aidan_annotations": 0,
         "_deepnote_index_column": 12
        },
        {
         "tweets": "I feel like post birth abortion should be a thing...",
         "ground_truth": 0,
         "nicola_annotations": 0,
         "hugo_annotations": 0,
         "mika_annotations": 0,
         "aidan_annotations": 0,
         "_deepnote_index_column": 13
        },
        {
         "tweets": "UN countries agree on pact to manage mass global migration",
         "ground_truth": 0,
         "nicola_annotations": 0,
         "hugo_annotations": 0,
         "mika_annotations": 0,
         "aidan_annotations": 0,
         "_deepnote_index_column": 14
        },
        {
         "tweets": "Girls with blonde hair and dark roots make my cock hard for some reason",
         "ground_truth": 1,
         "nicola_annotations": 1,
         "hugo_annotations": 0,
         "mika_annotations": 0,
         "aidan_annotations": 0,
         "_deepnote_index_column": 15
        },
        {
         "tweets": "Populists are not anti immigrant or anti immigration or emigration they are PRO rational fair laws …",
         "ground_truth": 0,
         "nicola_annotations": 0,
         "hugo_annotations": 0,
         "mika_annotations": 0,
         "aidan_annotations": 0,
         "_deepnote_index_column": 16
        },
        {
         "tweets": "Cases include a twisted paedophile, a lunatic driver and an illegal immigrant who posed as a 16-yea…",
         "ground_truth": 0,
         "nicola_annotations": 0,
         "hugo_annotations": 0,
         "mika_annotations": 0,
         "aidan_annotations": 0,
         "_deepnote_index_column": 17
        },
        {
         "tweets": "Some cunt at Walmart went full psycho on me saying how she had no fucking space to put her shit bit…",
         "ground_truth": 1,
         "nicola_annotations": 1,
         "hugo_annotations": 0,
         "mika_annotations": 1,
         "aidan_annotations": 1,
         "_deepnote_index_column": 18
        },
        {
         "tweets": "@user  As you fall over yourselves to welcome Syrian refugees ,homes etc why did you not do it for …",
         "ground_truth": 1,
         "nicola_annotations": 0,
         "hugo_annotations": 0,
         "mika_annotations": 1,
         "aidan_annotations": 1,
         "_deepnote_index_column": 19
        },
        {
         "tweets": "Nothing would make me happier than to see you get an STD. #whore #WomenSuck",
         "ground_truth": 1,
         "nicola_annotations": 1,
         "hugo_annotations": 1,
         "mika_annotations": 1,
         "aidan_annotations": 1,
         "_deepnote_index_column": 20
        },
        {
         "tweets": "In the past 4 years personal debt has risen by 90 billion pounds. Much of it spent on trying to liv…",
         "ground_truth": 0,
         "nicola_annotations": 0,
         "hugo_annotations": 0,
         "mika_annotations": 0,
         "aidan_annotations": 0,
         "_deepnote_index_column": 21
        },
        {
         "tweets": "Watch: Germany's Real Women's March against migrant violence and Islamism - Free Speech Time - @user",
         "ground_truth": 0,
         "nicola_annotations": 0,
         "hugo_annotations": 0,
         "mika_annotations": 0,
         "aidan_annotations": 0,
         "_deepnote_index_column": 22
        },
        {
         "tweets": "@user @user Don't blame refugees for the misery of others. By forcedly removing refugees from their…",
         "ground_truth": 0,
         "nicola_annotations": 0,
         "hugo_annotations": 0,
         "mika_annotations": 0,
         "aidan_annotations": 0,
         "_deepnote_index_column": 23
        },
        {
         "tweets": "hypnotize synthesize love is a lie like a hole in the sky then you die",
         "ground_truth": 0,
         "nicola_annotations": 0,
         "hugo_annotations": 0,
         "mika_annotations": 0,
         "aidan_annotations": 0,
         "_deepnote_index_column": 24
        },
        {
         "tweets": "@user Its not about Trump kids.When are you putting up all those refugees in your home jk???  YOu k…",
         "ground_truth": 1,
         "nicola_annotations": 0,
         "hugo_annotations": 0,
         "mika_annotations": 0,
         "aidan_annotations": 0,
         "_deepnote_index_column": 25
        },
        {
         "tweets": "@user No doubt cory wins most hysterical women his eyes are popping out of his head foaming at the …",
         "ground_truth": 0,
         "nicola_annotations": 1,
         "hugo_annotations": 0,
         "mika_annotations": 0,
         "aidan_annotations": 1,
         "_deepnote_index_column": 26
        },
        {
         "tweets": "It's unfortunate that such racist tactics are used against migrant communities. Remember those who …",
         "ground_truth": 0,
         "nicola_annotations": 0,
         "hugo_annotations": 0,
         "mika_annotations": 0,
         "aidan_annotations": 0,
         "_deepnote_index_column": 27
        },
        {
         "tweets": "Mandy Manning, one of World Relief's friends and partners @user has just been named 2018 National T…",
         "ground_truth": 0,
         "nicola_annotations": 0,
         "hugo_annotations": 0,
         "mika_annotations": 0,
         "aidan_annotations": 0,
         "_deepnote_index_column": 28
        },
        {
         "tweets": "#FakeNews Alert!! Flu Vaccine PROPAGANDA Agenda - Immigration = Terrorism REPORT",
         "ground_truth": 1,
         "nicola_annotations": 1,
         "hugo_annotations": 1,
         "mika_annotations": 0,
         "aidan_annotations": 1,
         "_deepnote_index_column": 29
        },
        {
         "tweets": "@user Legally it is rape if you inserted something inside someone without their consent",
         "ground_truth": 0,
         "nicola_annotations": 0,
         "hugo_annotations": 0,
         "mika_annotations": 0,
         "aidan_annotations": 0,
         "_deepnote_index_column": 30
        },
        {
         "tweets": "Glad not all men are like that and sad some women are like this...",
         "ground_truth": 1,
         "nicola_annotations": 0,
         "hugo_annotations": 0,
         "mika_annotations": 0,
         "aidan_annotations": 1,
         "_deepnote_index_column": 31
        },
        {
         "tweets": "Don't let the world ending distract you from the fact that you're a hoe.",
         "ground_truth": 0,
         "nicola_annotations": 1,
         "hugo_annotations": 0,
         "mika_annotations": 1,
         "aidan_annotations": 1,
         "_deepnote_index_column": 32
        },
        {
         "tweets": "is this what you would call karma? like how do you as a mexican person vote and support trump, have…",
         "ground_truth": 0,
         "nicola_annotations": 0,
         "hugo_annotations": 0,
         "mika_annotations": 1,
         "aidan_annotations": 0,
         "_deepnote_index_column": 33
        },
        {
         "tweets": "@user Let me check your ass out with my cock",
         "ground_truth": 1,
         "nicola_annotations": 1,
         "hugo_annotations": 0,
         "mika_annotations": 1,
         "aidan_annotations": 1,
         "_deepnote_index_column": 34
        },
        {
         "tweets": "People in airport bars always wanna tell you their life stories... STFU Bill, IDGAF about your stup…",
         "ground_truth": 1,
         "nicola_annotations": 1,
         "hugo_annotations": 0,
         "mika_annotations": 1,
         "aidan_annotations": 0,
         "_deepnote_index_column": 35
        },
        {
         "tweets": "I’ll still fuck a stupid Bitch up tho",
         "ground_truth": 1,
         "nicola_annotations": 1,
         "hugo_annotations": 0,
         "mika_annotations": 1,
         "aidan_annotations": 0,
         "_deepnote_index_column": 36
        },
        {
         "tweets": "When someone tries to threaten me",
         "ground_truth": 0,
         "nicola_annotations": 0,
         "hugo_annotations": 0,
         "mika_annotations": 0,
         "aidan_annotations": 0,
         "_deepnote_index_column": 37
        },
        {
         "tweets": "If this is implemented well, could be good news for Philadelphians.",
         "ground_truth": 0,
         "nicola_annotations": 0,
         "hugo_annotations": 0,
         "mika_annotations": 0,
         "aidan_annotations": 0,
         "_deepnote_index_column": 38
        },
        {
         "tweets": "If you really wanna know what someone you're fucking thinks about you, make them show you how you'r…",
         "ground_truth": 0,
         "nicola_annotations": 0,
         "hugo_annotations": 0,
         "mika_annotations": 0,
         "aidan_annotations": 0,
         "_deepnote_index_column": 39
        },
        {
         "tweets": "@user stupid women fuck up my life #WomenSuck",
         "ground_truth": 1,
         "nicola_annotations": 1,
         "hugo_annotations": 1,
         "mika_annotations": 1,
         "aidan_annotations": 1,
         "_deepnote_index_column": 40
        },
        {
         "tweets": "@user USA should stop trading with Mexico, if they dont stop the refugees.",
         "ground_truth": 1,
         "nicola_annotations": 1,
         "hugo_annotations": 1,
         "mika_annotations": 0,
         "aidan_annotations": 0,
         "_deepnote_index_column": 41
        },
        {
         "tweets": "If you have to ask why #WomenSuck you're obviously a woman.... And you suck.... #subtweet",
         "ground_truth": 1,
         "nicola_annotations": 1,
         "hugo_annotations": 1,
         "mika_annotations": 1,
         "aidan_annotations": 1,
         "_deepnote_index_column": 42
        },
        {
         "tweets": "@user @user Where are you getting #NotAllMen from? I took issue with the fact they don't explain th…",
         "ground_truth": 0,
         "nicola_annotations": 0,
         "hugo_annotations": 0,
         "mika_annotations": 0,
         "aidan_annotations": 0,
         "_deepnote_index_column": 43
        },
        {
         "tweets": "@user The difference is you promote being a slut you dumb bitch you should go fuck yourself and sti…",
         "ground_truth": 1,
         "nicola_annotations": 1,
         "hugo_annotations": 0,
         "mika_annotations": 1,
         "aidan_annotations": 1,
         "_deepnote_index_column": 44
        },
        {
         "tweets": "@user weird as fuck cuz women suck. #YouSuck",
         "ground_truth": 1,
         "nicola_annotations": 1,
         "hugo_annotations": 1,
         "mika_annotations": 1,
         "aidan_annotations": 1,
         "_deepnote_index_column": 45
        },
        {
         "tweets": "The blue wave is coming if we don't build that damn wall. #BuildThatWall & #MAGA",
         "ground_truth": 1,
         "nicola_annotations": 0,
         "hugo_annotations": 1,
         "mika_annotations": 1,
         "aidan_annotations": 0,
         "_deepnote_index_column": 46
        },
        {
         "tweets": "People that hate on you that you've done nothing to and don't know you are just jealous of you... E…",
         "ground_truth": 0,
         "nicola_annotations": 0,
         "hugo_annotations": 0,
         "mika_annotations": 0,
         "aidan_annotations": 0,
         "_deepnote_index_column": 47
        },
        {
         "tweets": "When the rival lemonade stand starts stealin your business",
         "ground_truth": 0,
         "nicola_annotations": 0,
         "hugo_annotations": 0,
         "mika_annotations": 0,
         "aidan_annotations": 0,
         "_deepnote_index_column": 48
        },
        {
         "tweets": "@user let's get weird! Summertime baby! #FuckBitches",
         "ground_truth": 1,
         "nicola_annotations": 1,
         "hugo_annotations": 0,
         "mika_annotations": 0,
         "aidan_annotations": 1,
         "_deepnote_index_column": 49
        },
        {
         "tweets": "WHO.. ARE. YOOUU? This is not mario kart. You are no princess peach. Get your skank ass up out my l…",
         "ground_truth": 1,
         "nicola_annotations": 1,
         "hugo_annotations": 0,
         "mika_annotations": 1,
         "aidan_annotations": 1,
         "_deepnote_index_column": 50
        },
        {
         "tweets": "Boo, you sweaty whore",
         "ground_truth": 1,
         "nicola_annotations": 1,
         "hugo_annotations": 0,
         "mika_annotations": 1,
         "aidan_annotations": 1,
         "_deepnote_index_column": 51
        },
        {
         "tweets": "Excellent.Since we can't separate families, lock all their asses up until a judge can deport them.I…",
         "ground_truth": 1,
         "nicola_annotations": 1,
         "hugo_annotations": 1,
         "mika_annotations": 1,
         "aidan_annotations": 1,
         "_deepnote_index_column": 52
        },
        {
         "tweets": "Just so you know, I'm a righteous Dick Cheney Impersonator, which is not like a thing or anything.",
         "ground_truth": 0,
         "nicola_annotations": 0,
         "hugo_annotations": 0,
         "mika_annotations": 0,
         "aidan_annotations": 0,
         "_deepnote_index_column": 53
        },
        {
         "tweets": "RT @user I don't see why drinking and driving is such a big deal. Letting women drive is just as ha…",
         "ground_truth": 1,
         "nicola_annotations": 1,
         "hugo_annotations": 1,
         "mika_annotations": 1,
         "aidan_annotations": 1,
         "_deepnote_index_column": 54
        },
        {
         "tweets": "If Richard Stallman has 1 GB of RAM, and if you have 1 GB of RAM, Richard Stallman has more RAM tha…",
         "ground_truth": 0,
         "nicola_annotations": 0,
         "hugo_annotations": 0,
         "mika_annotations": 0,
         "aidan_annotations": 0,
         "_deepnote_index_column": 55
        },
        {
         "tweets": "We are not all men and women of God in this context, I'm not talking generalization, I'm talking ab…",
         "ground_truth": 0,
         "nicola_annotations": 0,
         "hugo_annotations": 0,
         "mika_annotations": 0,
         "aidan_annotations": 0,
         "_deepnote_index_column": 56
        },
        {
         "tweets": "someone: breathes ada: dumb whore cunt slut your moms a hoe kill yourself bitch get shot",
         "ground_truth": 1,
         "nicola_annotations": 1,
         "hugo_annotations": 0,
         "mika_annotations": 1,
         "aidan_annotations": 1,
         "_deepnote_index_column": 57
        },
        {
         "tweets": "From the archives: Daniel Berrigan on refugees, Christ, and the American Dream.",
         "ground_truth": 0,
         "nicola_annotations": 0,
         "hugo_annotations": 0,
         "mika_annotations": 0,
         "aidan_annotations": 0,
         "_deepnote_index_column": 58
        },
        {
         "tweets": "Now All These Hoes Talking Bout THEY NEED A GUCCI BITCH BE YOSELF",
         "ground_truth": 1,
         "nicola_annotations": 1,
         "hugo_annotations": 0,
         "mika_annotations": 1,
         "aidan_annotations": 1,
         "_deepnote_index_column": 59
        },
        {
         "tweets": "@user I quite liked the look of the air ram?? And dyson.. but you are right they are a bit steep...…",
         "ground_truth": 0,
         "nicola_annotations": 0,
         "hugo_annotations": 0,
         "mika_annotations": 0,
         "aidan_annotations": 0,
         "_deepnote_index_column": 60
        },
        {
         "tweets": "Worldbank reports that in the next 30 years many refugees have to leave her homeland, specially in …",
         "ground_truth": 1,
         "nicola_annotations": 1,
         "hugo_annotations": 1,
         "mika_annotations": 0,
         "aidan_annotations": 1,
         "_deepnote_index_column": 61
        },
        {
         "tweets": "@user Hope one of these crazy ppl assassinate Trump the stupid son of a bitch my free speech he has…",
         "ground_truth": 0,
         "nicola_annotations": 0,
         "hugo_annotations": 0,
         "mika_annotations": 0,
         "aidan_annotations": 1,
         "_deepnote_index_column": 62
        },
        {
         "tweets": "This is my most accurate understanding of religion",
         "ground_truth": 0,
         "nicola_annotations": 0,
         "hugo_annotations": 0,
         "mika_annotations": 0,
         "aidan_annotations": 0,
         "_deepnote_index_column": 63
        },
        {
         "tweets": "“If this is your definition of journalism, then don’t be suprised when people call you a racially o…",
         "ground_truth": 0,
         "nicola_annotations": 0,
         "hugo_annotations": 0,
         "mika_annotations": 0,
         "aidan_annotations": 0,
         "_deepnote_index_column": 64
        },
        {
         "tweets": "Did you know that Gurmeet Ram Rahim Singh Ji has donated 25 lacs from the Earning of Jattu Engineer…",
         "ground_truth": 0,
         "nicola_annotations": 0,
         "hugo_annotations": 0,
         "mika_annotations": 0,
         "aidan_annotations": 0,
         "_deepnote_index_column": 65
        },
        {
         "tweets": "@user Must take decisive action for sealing borders with B'desh to prevent rampant illegal migratio…",
         "ground_truth": 1,
         "nicola_annotations": 1,
         "hugo_annotations": 0,
         "mika_annotations": 0,
         "aidan_annotations": 0,
         "_deepnote_index_column": 66
        },
        {
         "tweets": "@user While ruling a quarter of the Earth the British still lived on an Island the size of Michigan…",
         "ground_truth": 0,
         "nicola_annotations": 0,
         "hugo_annotations": 0,
         "mika_annotations": 0,
         "aidan_annotations": 0,
         "_deepnote_index_column": 67
        },
        {
         "tweets": "Canberra is obviously happy to be seen as an ally of Trump and Orban. And to underline multilateral…",
         "ground_truth": 0,
         "nicola_annotations": 0,
         "hugo_annotations": 0,
         "mika_annotations": 0,
         "aidan_annotations": 0,
         "_deepnote_index_column": 68
        },
        {
         "tweets": "i use to get sky at my dads house but his whore girlfriend never use to let me watch it",
         "ground_truth": 1,
         "nicola_annotations": 1,
         "hugo_annotations": 0,
         "mika_annotations": 0,
         "aidan_annotations": 1,
         "_deepnote_index_column": 69
        },
        {
         "tweets": "@user why? So you can look like a trashy mess? #WomenSuck",
         "ground_truth": 1,
         "nicola_annotations": 1,
         "hugo_annotations": 1,
         "mika_annotations": 1,
         "aidan_annotations": 1,
         "_deepnote_index_column": 70
        },
        {
         "tweets": "@user LOL, you do dress like a slut :-) you look excellent.It entertains me that you have the slutt…",
         "ground_truth": 1,
         "nicola_annotations": 1,
         "hugo_annotations": 0,
         "mika_annotations": 1,
         "aidan_annotations": 1,
         "_deepnote_index_column": 71
        },
        {
         "tweets": "@user Not all women deserve respect. Not all men deserve respect. Respect is earned, not deserved. …",
         "ground_truth": 0,
         "nicola_annotations": 0,
         "hugo_annotations": 0,
         "mika_annotations": 0,
         "aidan_annotations": 0,
         "_deepnote_index_column": 72
        },
        {
         "tweets": "Fight to stop U.S. Customs and Border Protection from abusing immigrant children. @user #FamiliesBe…",
         "ground_truth": 0,
         "nicola_annotations": 0,
         "hugo_annotations": 0,
         "mika_annotations": 0,
         "aidan_annotations": 0,
         "_deepnote_index_column": 73
        },
        {
         "tweets": "Went to @user stupid bitch put one in upside down one side ways. #wtf £6 we'll spent #cunt",
         "ground_truth": 1,
         "nicola_annotations": 1,
         "hugo_annotations": 0,
         "mika_annotations": 1,
         "aidan_annotations": 1,
         "_deepnote_index_column": 74
        },
        {
         "tweets": "Ready for school? @user provides around 54,000 refugee students access to free education through 15…",
         "ground_truth": 0,
         "nicola_annotations": 0,
         "hugo_annotations": 0,
         "mika_annotations": 0,
         "aidan_annotations": 0,
         "_deepnote_index_column": 75
        },
        {
         "tweets": "@user @user Steinle, who was murdered by an illegal Mexican immigrant on July 1, 2015.",
         "ground_truth": 1,
         "nicola_annotations": 0,
         "hugo_annotations": 0,
         "mika_annotations": 0,
         "aidan_annotations": 0,
         "_deepnote_index_column": 76
        },
        {
         "tweets": "Thank you @user for welcoming and employing Omar and other refugees eager to provide for their fami…",
         "ground_truth": 0,
         "nicola_annotations": 0,
         "hugo_annotations": 0,
         "mika_annotations": 0,
         "aidan_annotations": 0,
         "_deepnote_index_column": 77
        },
        {
         "tweets": "She's nothing but a @user con. She's an illegal immigrant &amp; Slovenian skinhead Nazi B back home…",
         "ground_truth": 1,
         "nicola_annotations": 1,
         "hugo_annotations": 1,
         "mika_annotations": 1,
         "aidan_annotations": 1,
         "_deepnote_index_column": 78
        },
        {
         "tweets": "Mexican immigrant niggas when they’re working at their taco shop and the cops arrive",
         "ground_truth": 1,
         "nicola_annotations": 1,
         "hugo_annotations": 1,
         "mika_annotations": 1,
         "aidan_annotations": 1,
         "_deepnote_index_column": 79
        },
        {
         "tweets": "Now since all Indians been mapped thru Aadhar Card. Flush out illegal immigrants,whose No has grown…",
         "ground_truth": 1,
         "nicola_annotations": 1,
         "hugo_annotations": 0,
         "mika_annotations": 1,
         "aidan_annotations": 1,
         "_deepnote_index_column": 80
        },
        {
         "tweets": "It's National Kissing Day... So you can all kiss my mutha fuckin ass",
         "ground_truth": 0,
         "nicola_annotations": 0,
         "hugo_annotations": 0,
         "mika_annotations": 0,
         "aidan_annotations": 0,
         "_deepnote_index_column": 81
        },
        {
         "tweets": "Seriously. Get these people out of there. If we can't due to current EU or UN directives then we ca…",
         "ground_truth": 1,
         "nicola_annotations": 0,
         "hugo_annotations": 0,
         "mika_annotations": 1,
         "aidan_annotations": 0,
         "_deepnote_index_column": 82
        },
        {
         "tweets": "WHO'S THE WHORE NOW YOU PIECE OF SHIT",
         "ground_truth": 1,
         "nicola_annotations": 1,
         "hugo_annotations": 0,
         "mika_annotations": 1,
         "aidan_annotations": 1,
         "_deepnote_index_column": 83
        },
        {
         "tweets": "I'm a couple days late, but you should read this story from @user on the real estate business of im…",
         "ground_truth": 0,
         "nicola_annotations": 0,
         "hugo_annotations": 0,
         "mika_annotations": 0,
         "aidan_annotations": 0,
         "_deepnote_index_column": 84
        },
        {
         "tweets": "When she got you caught up and you're tryna figure out how you're gonna lie your way outta this one",
         "ground_truth": 0,
         "nicola_annotations": 0,
         "hugo_annotations": 0,
         "mika_annotations": 0,
         "aidan_annotations": 0,
         "_deepnote_index_column": 85
        },
        {
         "tweets": "Understanding #foodsecurity in the context of #ruraldevelopment and #agriculture is a central part …",
         "ground_truth": 0,
         "nicola_annotations": 0,
         "hugo_annotations": 0,
         "mika_annotations": 0,
         "aidan_annotations": 0,
         "_deepnote_index_column": 86
        },
        {
         "tweets": "I am not a refugee but thank you anyways for supporting my thread",
         "ground_truth": 0,
         "nicola_annotations": 0,
         "hugo_annotations": 0,
         "mika_annotations": 0,
         "aidan_annotations": 0,
         "_deepnote_index_column": 87
        },
        {
         "tweets": "I really sympathise for the kid at @user DC office who answered my call. I asked him how he feels a…",
         "ground_truth": 0,
         "nicola_annotations": 0,
         "hugo_annotations": 0,
         "mika_annotations": 0,
         "aidan_annotations": 0,
         "_deepnote_index_column": 88
        },
        {
         "tweets": "Son- mom, how did you and dad meet? Mom- he had on gray sweats and his dick print was fleekin so I …",
         "ground_truth": 0,
         "nicola_annotations": 1,
         "hugo_annotations": 0,
         "mika_annotations": 0,
         "aidan_annotations": 0,
         "_deepnote_index_column": 89
        },
        {
         "tweets": "Immigrant parents of companies like the annual National Homeland Security, trying to the perfect se…",
         "ground_truth": 0,
         "nicola_annotations": 0,
         "hugo_annotations": 0,
         "mika_annotations": 0,
         "aidan_annotations": 0,
         "_deepnote_index_column": 90
        },
        {
         "tweets": "When the gangbang goes horribly wrong",
         "ground_truth": 0,
         "nicola_annotations": 0,
         "hugo_annotations": 0,
         "mika_annotations": 0,
         "aidan_annotations": 0,
         "_deepnote_index_column": 91
        },
        {
         "tweets": "RT @user It's April fools day but I clown you bitches every day. Imma take the day off, have a good…",
         "ground_truth": 0,
         "nicola_annotations": 0,
         "hugo_annotations": 0,
         "mika_annotations": 1,
         "aidan_annotations": 0,
         "_deepnote_index_column": 92
        },
        {
         "tweets": "@user You call it whatever you want -You praise hoes and and women in the wrong moral leaf and atta…",
         "ground_truth": 1,
         "nicola_annotations": 1,
         "hugo_annotations": 0,
         "mika_annotations": 1,
         "aidan_annotations": 1,
         "_deepnote_index_column": 93
        },
        {
         "tweets": "Happiest of birthdays to the main hoe 😏💃🏻 I hope you have a wonderful day angel 🌹💞 @user",
         "ground_truth": 0,
         "nicola_annotations": 0,
         "hugo_annotations": 0,
         "mika_annotations": 0,
         "aidan_annotations": 0,
         "_deepnote_index_column": 94
        },
        {
         "tweets": "Oooohhhh bitch didn't even listen to the dead kennedys what a cunt lol I'm 34 and hate rap",
         "ground_truth": 0,
         "nicola_annotations": 1,
         "hugo_annotations": 0,
         "mika_annotations": 0,
         "aidan_annotations": 1,
         "_deepnote_index_column": 95
        },
        {
         "tweets": "@user Good Luck @user More Americans #WalkAwayFromDemocrat  #WallkAway from OPEN BORDERS Pro illega…",
         "ground_truth": 0,
         "nicola_annotations": 1,
         "hugo_annotations": 0,
         "mika_annotations": 0,
         "aidan_annotations": 0,
         "_deepnote_index_column": 96
        },
        {
         "tweets": "Bitch you can't keep up so stop trying",
         "ground_truth": 1,
         "nicola_annotations": 1,
         "hugo_annotations": 0,
         "mika_annotations": 1,
         "aidan_annotations": 0,
         "_deepnote_index_column": 97
        },
        {
         "tweets": "@user @user @user @user @user @user Japan is always operating under the premise that mass migration…",
         "ground_truth": 0,
         "nicola_annotations": 0,
         "hugo_annotations": 0,
         "mika_annotations": 0,
         "aidan_annotations": 0,
         "_deepnote_index_column": 98
        },
        {
         "tweets": "@user hi Best l see someone fucking girl comment bad in your pic.why you not block the bitch girl n…",
         "ground_truth": 1,
         "nicola_annotations": 1,
         "hugo_annotations": 0,
         "mika_annotations": 1,
         "aidan_annotations": 1,
         "_deepnote_index_column": 99
        }
       ],
       "rows_bottom": null
      },
      "text/plain": "                                               tweets  ground_truth  \\\n0   Cry baby Hollywood Dems Anti-Trump celebs too ...             0   \n1   @user Do I have to fight another bitch ass loo...             1   \n2   #SouthCarolina has spent millions of dollars t...             0   \n3     Me trying to flirt- I wanna eat your hot pocket             0   \n4   People say, \"Why didn't this or that immigrant...             0   \n..                                                ...           ...   \n95  Oooohhhh bitch didn't even listen to the dead ...             0   \n96  @user Good Luck @user More Americans #WalkAway...             0   \n97             Bitch you can't keep up so stop trying             1   \n98  @user @user @user @user @user @user Japan is a...             0   \n99  @user hi Best l see someone fucking girl comme...             1   \n\n    nicola_annotations  hugo_annotations  mika_annotations  aidan_annotations  \n0                    0                 0                 0                  0  \n1                    1                 0                 1                  1  \n2                    0                 0                 0                  0  \n3                    0                 0                 0                  0  \n4                    0                 0                 0                  0  \n..                 ...               ...               ...                ...  \n95                   1                 0                 0                  1  \n96                   1                 0                 0                  0  \n97                   1                 0                 1                  0  \n98                   0                 0                 0                  0  \n99                   1                 0                 1                  1  \n\n[100 rows x 6 columns]",
      "text/html": "<div>\n<style scoped>\n    .dataframe tbody tr th:only-of-type {\n        vertical-align: middle;\n    }\n\n    .dataframe tbody tr th {\n        vertical-align: top;\n    }\n\n    .dataframe thead th {\n        text-align: right;\n    }\n</style>\n<table border=\"1\" class=\"dataframe\">\n  <thead>\n    <tr style=\"text-align: right;\">\n      <th></th>\n      <th>tweets</th>\n      <th>ground_truth</th>\n      <th>nicola_annotations</th>\n      <th>hugo_annotations</th>\n      <th>mika_annotations</th>\n      <th>aidan_annotations</th>\n    </tr>\n  </thead>\n  <tbody>\n    <tr>\n      <th>0</th>\n      <td>Cry baby Hollywood Dems Anti-Trump celebs too ...</td>\n      <td>0</td>\n      <td>0</td>\n      <td>0</td>\n      <td>0</td>\n      <td>0</td>\n    </tr>\n    <tr>\n      <th>1</th>\n      <td>@user Do I have to fight another bitch ass loo...</td>\n      <td>1</td>\n      <td>1</td>\n      <td>0</td>\n      <td>1</td>\n      <td>1</td>\n    </tr>\n    <tr>\n      <th>2</th>\n      <td>#SouthCarolina has spent millions of dollars t...</td>\n      <td>0</td>\n      <td>0</td>\n      <td>0</td>\n      <td>0</td>\n      <td>0</td>\n    </tr>\n    <tr>\n      <th>3</th>\n      <td>Me trying to flirt- I wanna eat your hot pocket</td>\n      <td>0</td>\n      <td>0</td>\n      <td>0</td>\n      <td>0</td>\n      <td>0</td>\n    </tr>\n    <tr>\n      <th>4</th>\n      <td>People say, \"Why didn't this or that immigrant...</td>\n      <td>0</td>\n      <td>0</td>\n      <td>0</td>\n      <td>0</td>\n      <td>0</td>\n    </tr>\n    <tr>\n      <th>...</th>\n      <td>...</td>\n      <td>...</td>\n      <td>...</td>\n      <td>...</td>\n      <td>...</td>\n      <td>...</td>\n    </tr>\n    <tr>\n      <th>95</th>\n      <td>Oooohhhh bitch didn't even listen to the dead ...</td>\n      <td>0</td>\n      <td>1</td>\n      <td>0</td>\n      <td>0</td>\n      <td>1</td>\n    </tr>\n    <tr>\n      <th>96</th>\n      <td>@user Good Luck @user More Americans #WalkAway...</td>\n      <td>0</td>\n      <td>1</td>\n      <td>0</td>\n      <td>0</td>\n      <td>0</td>\n    </tr>\n    <tr>\n      <th>97</th>\n      <td>Bitch you can't keep up so stop trying</td>\n      <td>1</td>\n      <td>1</td>\n      <td>0</td>\n      <td>1</td>\n      <td>0</td>\n    </tr>\n    <tr>\n      <th>98</th>\n      <td>@user @user @user @user @user @user Japan is a...</td>\n      <td>0</td>\n      <td>0</td>\n      <td>0</td>\n      <td>0</td>\n      <td>0</td>\n    </tr>\n    <tr>\n      <th>99</th>\n      <td>@user hi Best l see someone fucking girl comme...</td>\n      <td>1</td>\n      <td>1</td>\n      <td>0</td>\n      <td>1</td>\n      <td>1</td>\n    </tr>\n  </tbody>\n</table>\n<p>100 rows × 6 columns</p>\n</div>"
     },
     "metadata": {}
    }
   ]
  },
  {
   "cell_type": "code",
   "metadata": {
    "cell_id": "00087-a3566916-c793-47bf-9242-240d72c5abe6",
    "deepnote_to_be_reexecuted": false,
    "execution_millis": 16,
    "execution_start": 1622219519185,
    "source_hash": "f7e552f7",
    "tags": [],
    "deepnote_cell_type": "code"
   },
   "source": "##compare what tweets were unanimously and un-unanimously annotated\nrel_columns=list(annotation_evaluation.columns)\nrel_columns.remove('tweets')\nrel_columns=annotation_evaluation[rel_columns]\nall_true=rel_columns.all(axis=1)\nall_false=-rel_columns.any(axis=1)\nun_unanimous=annotation_evaluation[-all_true & -all_false]\nunanimous=annotation_evaluation[all_true | all_false]\nun_unanimous",
   "execution_count": 62,
   "outputs": [
    {
     "output_type": "execute_result",
     "execution_count": 62,
     "data": {
      "application/vnd.deepnote.dataframe.v2+json": {
       "row_count": 43,
       "column_count": 6,
       "columns": [
        {
         "name": "tweets",
         "dtype": "object",
         "stats": {
          "unique_count": 43,
          "nan_count": 0,
          "categories": [
           {
            "name": "@user Do I have to fight another bitch ass looking cunt today?",
            "count": 1
           },
           {
            "name": "I'm not the one to let people profit on my back... I'll break yours and take what's mine 😘",
            "count": 1
           },
           {
            "name": "41 others",
            "count": 41
           }
          ]
         }
        },
        {
         "name": "ground_truth",
         "dtype": "int64",
         "stats": {
          "unique_count": 2,
          "nan_count": 0,
          "min": "0",
          "max": "1",
          "histogram": [
           {
            "bin_start": 0,
            "bin_end": 0.1,
            "count": 10
           },
           {
            "bin_start": 0.1,
            "bin_end": 0.2,
            "count": 0
           },
           {
            "bin_start": 0.2,
            "bin_end": 0.30000000000000004,
            "count": 0
           },
           {
            "bin_start": 0.30000000000000004,
            "bin_end": 0.4,
            "count": 0
           },
           {
            "bin_start": 0.4,
            "bin_end": 0.5,
            "count": 0
           },
           {
            "bin_start": 0.5,
            "bin_end": 0.6000000000000001,
            "count": 0
           },
           {
            "bin_start": 0.6000000000000001,
            "bin_end": 0.7000000000000001,
            "count": 0
           },
           {
            "bin_start": 0.7000000000000001,
            "bin_end": 0.8,
            "count": 0
           },
           {
            "bin_start": 0.8,
            "bin_end": 0.9,
            "count": 0
           },
           {
            "bin_start": 0.9,
            "bin_end": 1,
            "count": 33
           }
          ]
         }
        },
        {
         "name": "nicola_annotations",
         "dtype": "int64",
         "stats": {
          "unique_count": 2,
          "nan_count": 0,
          "min": "0",
          "max": "1",
          "histogram": [
           {
            "bin_start": 0,
            "bin_end": 0.1,
            "count": 11
           },
           {
            "bin_start": 0.1,
            "bin_end": 0.2,
            "count": 0
           },
           {
            "bin_start": 0.2,
            "bin_end": 0.30000000000000004,
            "count": 0
           },
           {
            "bin_start": 0.30000000000000004,
            "bin_end": 0.4,
            "count": 0
           },
           {
            "bin_start": 0.4,
            "bin_end": 0.5,
            "count": 0
           },
           {
            "bin_start": 0.5,
            "bin_end": 0.6000000000000001,
            "count": 0
           },
           {
            "bin_start": 0.6000000000000001,
            "bin_end": 0.7000000000000001,
            "count": 0
           },
           {
            "bin_start": 0.7000000000000001,
            "bin_end": 0.8,
            "count": 0
           },
           {
            "bin_start": 0.8,
            "bin_end": 0.9,
            "count": 0
           },
           {
            "bin_start": 0.9,
            "bin_end": 1,
            "count": 32
           }
          ]
         }
        },
        {
         "name": "hugo_annotations",
         "dtype": "int64",
         "stats": {
          "unique_count": 2,
          "nan_count": 0,
          "min": "0",
          "max": "1",
          "histogram": [
           {
            "bin_start": 0,
            "bin_end": 0.1,
            "count": 38
           },
           {
            "bin_start": 0.1,
            "bin_end": 0.2,
            "count": 0
           },
           {
            "bin_start": 0.2,
            "bin_end": 0.30000000000000004,
            "count": 0
           },
           {
            "bin_start": 0.30000000000000004,
            "bin_end": 0.4,
            "count": 0
           },
           {
            "bin_start": 0.4,
            "bin_end": 0.5,
            "count": 0
           },
           {
            "bin_start": 0.5,
            "bin_end": 0.6000000000000001,
            "count": 0
           },
           {
            "bin_start": 0.6000000000000001,
            "bin_end": 0.7000000000000001,
            "count": 0
           },
           {
            "bin_start": 0.7000000000000001,
            "bin_end": 0.8,
            "count": 0
           },
           {
            "bin_start": 0.8,
            "bin_end": 0.9,
            "count": 0
           },
           {
            "bin_start": 0.9,
            "bin_end": 1,
            "count": 5
           }
          ]
         }
        },
        {
         "name": "mika_annotations",
         "dtype": "int64",
         "stats": {
          "unique_count": 2,
          "nan_count": 0,
          "min": "0",
          "max": "1",
          "histogram": [
           {
            "bin_start": 0,
            "bin_end": 0.1,
            "count": 16
           },
           {
            "bin_start": 0.1,
            "bin_end": 0.2,
            "count": 0
           },
           {
            "bin_start": 0.2,
            "bin_end": 0.30000000000000004,
            "count": 0
           },
           {
            "bin_start": 0.30000000000000004,
            "bin_end": 0.4,
            "count": 0
           },
           {
            "bin_start": 0.4,
            "bin_end": 0.5,
            "count": 0
           },
           {
            "bin_start": 0.5,
            "bin_end": 0.6000000000000001,
            "count": 0
           },
           {
            "bin_start": 0.6000000000000001,
            "bin_end": 0.7000000000000001,
            "count": 0
           },
           {
            "bin_start": 0.7000000000000001,
            "bin_end": 0.8,
            "count": 0
           },
           {
            "bin_start": 0.8,
            "bin_end": 0.9,
            "count": 0
           },
           {
            "bin_start": 0.9,
            "bin_end": 1,
            "count": 27
           }
          ]
         }
        },
        {
         "name": "aidan_annotations",
         "dtype": "int64",
         "stats": {
          "unique_count": 2,
          "nan_count": 0,
          "min": "0",
          "max": "1",
          "histogram": [
           {
            "bin_start": 0,
            "bin_end": 0.1,
            "count": 19
           },
           {
            "bin_start": 0.1,
            "bin_end": 0.2,
            "count": 0
           },
           {
            "bin_start": 0.2,
            "bin_end": 0.30000000000000004,
            "count": 0
           },
           {
            "bin_start": 0.30000000000000004,
            "bin_end": 0.4,
            "count": 0
           },
           {
            "bin_start": 0.4,
            "bin_end": 0.5,
            "count": 0
           },
           {
            "bin_start": 0.5,
            "bin_end": 0.6000000000000001,
            "count": 0
           },
           {
            "bin_start": 0.6000000000000001,
            "bin_end": 0.7000000000000001,
            "count": 0
           },
           {
            "bin_start": 0.7000000000000001,
            "bin_end": 0.8,
            "count": 0
           },
           {
            "bin_start": 0.8,
            "bin_end": 0.9,
            "count": 0
           },
           {
            "bin_start": 0.9,
            "bin_end": 1,
            "count": 24
           }
          ]
         }
        },
        {
         "name": "_deepnote_index_column",
         "dtype": "int64"
        }
       ],
       "rows_top": [
        {
         "tweets": "@user Do I have to fight another bitch ass looking cunt today?",
         "ground_truth": 1,
         "nicola_annotations": 1,
         "hugo_annotations": 0,
         "mika_annotations": 1,
         "aidan_annotations": 1,
         "_deepnote_index_column": 1
        },
        {
         "tweets": "I'm not the one to let people profit on my back... I'll break yours and take what's mine 😘",
         "ground_truth": 0,
         "nicola_annotations": 0,
         "hugo_annotations": 0,
         "mika_annotations": 1,
         "aidan_annotations": 0,
         "_deepnote_index_column": 5
        },
        {
         "tweets": "Me trying to flirt- You have really nice eyebrows... I'd like to cum on them to see if they wash off",
         "ground_truth": 1,
         "nicola_annotations": 1,
         "hugo_annotations": 0,
         "mika_annotations": 1,
         "aidan_annotations": 0,
         "_deepnote_index_column": 7
        },
        {
         "tweets": "Says man who suggested an actress reported an historic rape to gain more work - you're a fully paid…",
         "ground_truth": 1,
         "nicola_annotations": 0,
         "hugo_annotations": 0,
         "mika_annotations": 1,
         "aidan_annotations": 0,
         "_deepnote_index_column": 9
        },
        {
         "tweets": "These are not refugees but aggressive male migrants the Med leaders - with exception of @user -want…",
         "ground_truth": 1,
         "nicola_annotations": 1,
         "hugo_annotations": 1,
         "mika_annotations": 1,
         "aidan_annotations": 0,
         "_deepnote_index_column": 11
        },
        {
         "tweets": "There are all these illegal immigrant aliens trying to get to Earth, but our 'Space Force' is prote…",
         "ground_truth": 0,
         "nicola_annotations": 1,
         "hugo_annotations": 0,
         "mika_annotations": 0,
         "aidan_annotations": 0,
         "_deepnote_index_column": 12
        },
        {
         "tweets": "Girls with blonde hair and dark roots make my cock hard for some reason",
         "ground_truth": 1,
         "nicola_annotations": 1,
         "hugo_annotations": 0,
         "mika_annotations": 0,
         "aidan_annotations": 0,
         "_deepnote_index_column": 15
        },
        {
         "tweets": "Some cunt at Walmart went full psycho on me saying how she had no fucking space to put her shit bit…",
         "ground_truth": 1,
         "nicola_annotations": 1,
         "hugo_annotations": 0,
         "mika_annotations": 1,
         "aidan_annotations": 1,
         "_deepnote_index_column": 18
        },
        {
         "tweets": "@user  As you fall over yourselves to welcome Syrian refugees ,homes etc why did you not do it for …",
         "ground_truth": 1,
         "nicola_annotations": 0,
         "hugo_annotations": 0,
         "mika_annotations": 1,
         "aidan_annotations": 1,
         "_deepnote_index_column": 19
        },
        {
         "tweets": "@user Its not about Trump kids.When are you putting up all those refugees in your home jk???  YOu k…",
         "ground_truth": 1,
         "nicola_annotations": 0,
         "hugo_annotations": 0,
         "mika_annotations": 0,
         "aidan_annotations": 0,
         "_deepnote_index_column": 25
        },
        {
         "tweets": "@user No doubt cory wins most hysterical women his eyes are popping out of his head foaming at the …",
         "ground_truth": 0,
         "nicola_annotations": 1,
         "hugo_annotations": 0,
         "mika_annotations": 0,
         "aidan_annotations": 1,
         "_deepnote_index_column": 26
        },
        {
         "tweets": "#FakeNews Alert!! Flu Vaccine PROPAGANDA Agenda - Immigration = Terrorism REPORT",
         "ground_truth": 1,
         "nicola_annotations": 1,
         "hugo_annotations": 1,
         "mika_annotations": 0,
         "aidan_annotations": 1,
         "_deepnote_index_column": 29
        },
        {
         "tweets": "Glad not all men are like that and sad some women are like this...",
         "ground_truth": 1,
         "nicola_annotations": 0,
         "hugo_annotations": 0,
         "mika_annotations": 0,
         "aidan_annotations": 1,
         "_deepnote_index_column": 31
        },
        {
         "tweets": "Don't let the world ending distract you from the fact that you're a hoe.",
         "ground_truth": 0,
         "nicola_annotations": 1,
         "hugo_annotations": 0,
         "mika_annotations": 1,
         "aidan_annotations": 1,
         "_deepnote_index_column": 32
        },
        {
         "tweets": "is this what you would call karma? like how do you as a mexican person vote and support trump, have…",
         "ground_truth": 0,
         "nicola_annotations": 0,
         "hugo_annotations": 0,
         "mika_annotations": 1,
         "aidan_annotations": 0,
         "_deepnote_index_column": 33
        },
        {
         "tweets": "@user Let me check your ass out with my cock",
         "ground_truth": 1,
         "nicola_annotations": 1,
         "hugo_annotations": 0,
         "mika_annotations": 1,
         "aidan_annotations": 1,
         "_deepnote_index_column": 34
        },
        {
         "tweets": "People in airport bars always wanna tell you their life stories... STFU Bill, IDGAF about your stup…",
         "ground_truth": 1,
         "nicola_annotations": 1,
         "hugo_annotations": 0,
         "mika_annotations": 1,
         "aidan_annotations": 0,
         "_deepnote_index_column": 35
        },
        {
         "tweets": "I’ll still fuck a stupid Bitch up tho",
         "ground_truth": 1,
         "nicola_annotations": 1,
         "hugo_annotations": 0,
         "mika_annotations": 1,
         "aidan_annotations": 0,
         "_deepnote_index_column": 36
        },
        {
         "tweets": "@user USA should stop trading with Mexico, if they dont stop the refugees.",
         "ground_truth": 1,
         "nicola_annotations": 1,
         "hugo_annotations": 1,
         "mika_annotations": 0,
         "aidan_annotations": 0,
         "_deepnote_index_column": 41
        },
        {
         "tweets": "@user The difference is you promote being a slut you dumb bitch you should go fuck yourself and sti…",
         "ground_truth": 1,
         "nicola_annotations": 1,
         "hugo_annotations": 0,
         "mika_annotations": 1,
         "aidan_annotations": 1,
         "_deepnote_index_column": 44
        },
        {
         "tweets": "The blue wave is coming if we don't build that damn wall. #BuildThatWall & #MAGA",
         "ground_truth": 1,
         "nicola_annotations": 0,
         "hugo_annotations": 1,
         "mika_annotations": 1,
         "aidan_annotations": 0,
         "_deepnote_index_column": 46
        },
        {
         "tweets": "@user let's get weird! Summertime baby! #FuckBitches",
         "ground_truth": 1,
         "nicola_annotations": 1,
         "hugo_annotations": 0,
         "mika_annotations": 0,
         "aidan_annotations": 1,
         "_deepnote_index_column": 49
        },
        {
         "tweets": "WHO.. ARE. YOOUU? This is not mario kart. You are no princess peach. Get your skank ass up out my l…",
         "ground_truth": 1,
         "nicola_annotations": 1,
         "hugo_annotations": 0,
         "mika_annotations": 1,
         "aidan_annotations": 1,
         "_deepnote_index_column": 50
        },
        {
         "tweets": "Boo, you sweaty whore",
         "ground_truth": 1,
         "nicola_annotations": 1,
         "hugo_annotations": 0,
         "mika_annotations": 1,
         "aidan_annotations": 1,
         "_deepnote_index_column": 51
        },
        {
         "tweets": "someone: breathes ada: dumb whore cunt slut your moms a hoe kill yourself bitch get shot",
         "ground_truth": 1,
         "nicola_annotations": 1,
         "hugo_annotations": 0,
         "mika_annotations": 1,
         "aidan_annotations": 1,
         "_deepnote_index_column": 57
        },
        {
         "tweets": "Now All These Hoes Talking Bout THEY NEED A GUCCI BITCH BE YOSELF",
         "ground_truth": 1,
         "nicola_annotations": 1,
         "hugo_annotations": 0,
         "mika_annotations": 1,
         "aidan_annotations": 1,
         "_deepnote_index_column": 59
        },
        {
         "tweets": "Worldbank reports that in the next 30 years many refugees have to leave her homeland, specially in …",
         "ground_truth": 1,
         "nicola_annotations": 1,
         "hugo_annotations": 1,
         "mika_annotations": 0,
         "aidan_annotations": 1,
         "_deepnote_index_column": 61
        },
        {
         "tweets": "@user Hope one of these crazy ppl assassinate Trump the stupid son of a bitch my free speech he has…",
         "ground_truth": 0,
         "nicola_annotations": 0,
         "hugo_annotations": 0,
         "mika_annotations": 0,
         "aidan_annotations": 1,
         "_deepnote_index_column": 62
        },
        {
         "tweets": "@user Must take decisive action for sealing borders with B'desh to prevent rampant illegal migratio…",
         "ground_truth": 1,
         "nicola_annotations": 1,
         "hugo_annotations": 0,
         "mika_annotations": 0,
         "aidan_annotations": 0,
         "_deepnote_index_column": 66
        },
        {
         "tweets": "i use to get sky at my dads house but his whore girlfriend never use to let me watch it",
         "ground_truth": 1,
         "nicola_annotations": 1,
         "hugo_annotations": 0,
         "mika_annotations": 0,
         "aidan_annotations": 1,
         "_deepnote_index_column": 69
        },
        {
         "tweets": "@user LOL, you do dress like a slut :-) you look excellent.It entertains me that you have the slutt…",
         "ground_truth": 1,
         "nicola_annotations": 1,
         "hugo_annotations": 0,
         "mika_annotations": 1,
         "aidan_annotations": 1,
         "_deepnote_index_column": 71
        },
        {
         "tweets": "Went to @user stupid bitch put one in upside down one side ways. #wtf £6 we'll spent #cunt",
         "ground_truth": 1,
         "nicola_annotations": 1,
         "hugo_annotations": 0,
         "mika_annotations": 1,
         "aidan_annotations": 1,
         "_deepnote_index_column": 74
        },
        {
         "tweets": "@user @user Steinle, who was murdered by an illegal Mexican immigrant on July 1, 2015.",
         "ground_truth": 1,
         "nicola_annotations": 0,
         "hugo_annotations": 0,
         "mika_annotations": 0,
         "aidan_annotations": 0,
         "_deepnote_index_column": 76
        },
        {
         "tweets": "Now since all Indians been mapped thru Aadhar Card. Flush out illegal immigrants,whose No has grown…",
         "ground_truth": 1,
         "nicola_annotations": 1,
         "hugo_annotations": 0,
         "mika_annotations": 1,
         "aidan_annotations": 1,
         "_deepnote_index_column": 80
        },
        {
         "tweets": "Seriously. Get these people out of there. If we can't due to current EU or UN directives then we ca…",
         "ground_truth": 1,
         "nicola_annotations": 0,
         "hugo_annotations": 0,
         "mika_annotations": 1,
         "aidan_annotations": 0,
         "_deepnote_index_column": 82
        },
        {
         "tweets": "WHO'S THE WHORE NOW YOU PIECE OF SHIT",
         "ground_truth": 1,
         "nicola_annotations": 1,
         "hugo_annotations": 0,
         "mika_annotations": 1,
         "aidan_annotations": 1,
         "_deepnote_index_column": 83
        },
        {
         "tweets": "Son- mom, how did you and dad meet? Mom- he had on gray sweats and his dick print was fleekin so I …",
         "ground_truth": 0,
         "nicola_annotations": 1,
         "hugo_annotations": 0,
         "mika_annotations": 0,
         "aidan_annotations": 0,
         "_deepnote_index_column": 89
        },
        {
         "tweets": "RT @user It's April fools day but I clown you bitches every day. Imma take the day off, have a good…",
         "ground_truth": 0,
         "nicola_annotations": 0,
         "hugo_annotations": 0,
         "mika_annotations": 1,
         "aidan_annotations": 0,
         "_deepnote_index_column": 92
        },
        {
         "tweets": "@user You call it whatever you want -You praise hoes and and women in the wrong moral leaf and atta…",
         "ground_truth": 1,
         "nicola_annotations": 1,
         "hugo_annotations": 0,
         "mika_annotations": 1,
         "aidan_annotations": 1,
         "_deepnote_index_column": 93
        },
        {
         "tweets": "Oooohhhh bitch didn't even listen to the dead kennedys what a cunt lol I'm 34 and hate rap",
         "ground_truth": 0,
         "nicola_annotations": 1,
         "hugo_annotations": 0,
         "mika_annotations": 0,
         "aidan_annotations": 1,
         "_deepnote_index_column": 95
        },
        {
         "tweets": "@user Good Luck @user More Americans #WalkAwayFromDemocrat  #WallkAway from OPEN BORDERS Pro illega…",
         "ground_truth": 0,
         "nicola_annotations": 1,
         "hugo_annotations": 0,
         "mika_annotations": 0,
         "aidan_annotations": 0,
         "_deepnote_index_column": 96
        },
        {
         "tweets": "Bitch you can't keep up so stop trying",
         "ground_truth": 1,
         "nicola_annotations": 1,
         "hugo_annotations": 0,
         "mika_annotations": 1,
         "aidan_annotations": 0,
         "_deepnote_index_column": 97
        },
        {
         "tweets": "@user hi Best l see someone fucking girl comment bad in your pic.why you not block the bitch girl n…",
         "ground_truth": 1,
         "nicola_annotations": 1,
         "hugo_annotations": 0,
         "mika_annotations": 1,
         "aidan_annotations": 1,
         "_deepnote_index_column": 99
        }
       ],
       "rows_bottom": null
      },
      "text/plain": "                                               tweets  ground_truth  \\\n1   @user Do I have to fight another bitch ass loo...             1   \n5   I'm not the one to let people profit on my bac...             0   \n7   Me trying to flirt- You have really nice eyebr...             1   \n9   Says man who suggested an actress reported an ...             1   \n11  These are not refugees but aggressive male mig...             1   \n12  There are all these illegal immigrant aliens t...             0   \n15  Girls with blonde hair and dark roots make my ...             1   \n18  Some cunt at Walmart went full psycho on me sa...             1   \n19  @user  As you fall over yourselves to welcome ...             1   \n25  @user Its not about Trump kids.When are you pu...             1   \n26  @user No doubt cory wins most hysterical women...             0   \n29  #FakeNews Alert!! Flu Vaccine PROPAGANDA Agend...             1   \n31  Glad not all men are like that and sad some wo...             1   \n32  Don't let the world ending distract you from t...             0   \n33  is this what you would call karma? like how do...             0   \n34       @user Let me check your ass out with my cock             1   \n35  People in airport bars always wanna tell you t...             1   \n36              I’ll still fuck a stupid Bitch up tho             1   \n41  @user USA should stop trading with Mexico, if ...             1   \n44  @user The difference is you promote being a sl...             1   \n46  The blue wave is coming if we don't build that...             1   \n49  @user let's get weird! Summertime baby! #FuckB...             1   \n50  WHO.. ARE. YOOUU? This is not mario kart. You ...             1   \n51                              Boo, you sweaty whore             1   \n57  someone: breathes ada: dumb whore cunt slut yo...             1   \n59  Now All These Hoes Talking Bout THEY NEED A GU...             1   \n61  Worldbank reports that in the next 30 years ma...             1   \n62  @user Hope one of these crazy ppl assassinate ...             0   \n66  @user Must take decisive action for sealing bo...             1   \n69  i use to get sky at my dads house but his whor...             1   \n71  @user LOL, you do dress like a slut :-) you lo...             1   \n74  Went to @user stupid bitch put one in upside d...             1   \n76  @user @user Steinle, who was murdered by an il...             1   \n80  Now since all Indians been mapped thru Aadhar ...             1   \n82  Seriously. Get these people out of there. If w...             1   \n83              WHO'S THE WHORE NOW YOU PIECE OF SHIT             1   \n89  Son- mom, how did you and dad meet? Mom- he ha...             0   \n92  RT @user It's April fools day but I clown you ...             0   \n93  @user You call it whatever you want -You prais...             1   \n95  Oooohhhh bitch didn't even listen to the dead ...             0   \n96  @user Good Luck @user More Americans #WalkAway...             0   \n97             Bitch you can't keep up so stop trying             1   \n99  @user hi Best l see someone fucking girl comme...             1   \n\n    nicola_annotations  hugo_annotations  mika_annotations  aidan_annotations  \n1                    1                 0                 1                  1  \n5                    0                 0                 1                  0  \n7                    1                 0                 1                  0  \n9                    0                 0                 1                  0  \n11                   1                 1                 1                  0  \n12                   1                 0                 0                  0  \n15                   1                 0                 0                  0  \n18                   1                 0                 1                  1  \n19                   0                 0                 1                  1  \n25                   0                 0                 0                  0  \n26                   1                 0                 0                  1  \n29                   1                 1                 0                  1  \n31                   0                 0                 0                  1  \n32                   1                 0                 1                  1  \n33                   0                 0                 1                  0  \n34                   1                 0                 1                  1  \n35                   1                 0                 1                  0  \n36                   1                 0                 1                  0  \n41                   1                 1                 0                  0  \n44                   1                 0                 1                  1  \n46                   0                 1                 1                  0  \n49                   1                 0                 0                  1  \n50                   1                 0                 1                  1  \n51                   1                 0                 1                  1  \n57                   1                 0                 1                  1  \n59                   1                 0                 1                  1  \n61                   1                 1                 0                  1  \n62                   0                 0                 0                  1  \n66                   1                 0                 0                  0  \n69                   1                 0                 0                  1  \n71                   1                 0                 1                  1  \n74                   1                 0                 1                  1  \n76                   0                 0                 0                  0  \n80                   1                 0                 1                  1  \n82                   0                 0                 1                  0  \n83                   1                 0                 1                  1  \n89                   1                 0                 0                  0  \n92                   0                 0                 1                  0  \n93                   1                 0                 1                  1  \n95                   1                 0                 0                  1  \n96                   1                 0                 0                  0  \n97                   1                 0                 1                  0  \n99                   1                 0                 1                  1  ",
      "text/html": "<div>\n<style scoped>\n    .dataframe tbody tr th:only-of-type {\n        vertical-align: middle;\n    }\n\n    .dataframe tbody tr th {\n        vertical-align: top;\n    }\n\n    .dataframe thead th {\n        text-align: right;\n    }\n</style>\n<table border=\"1\" class=\"dataframe\">\n  <thead>\n    <tr style=\"text-align: right;\">\n      <th></th>\n      <th>tweets</th>\n      <th>ground_truth</th>\n      <th>nicola_annotations</th>\n      <th>hugo_annotations</th>\n      <th>mika_annotations</th>\n      <th>aidan_annotations</th>\n    </tr>\n  </thead>\n  <tbody>\n    <tr>\n      <th>1</th>\n      <td>@user Do I have to fight another bitch ass loo...</td>\n      <td>1</td>\n      <td>1</td>\n      <td>0</td>\n      <td>1</td>\n      <td>1</td>\n    </tr>\n    <tr>\n      <th>5</th>\n      <td>I'm not the one to let people profit on my bac...</td>\n      <td>0</td>\n      <td>0</td>\n      <td>0</td>\n      <td>1</td>\n      <td>0</td>\n    </tr>\n    <tr>\n      <th>7</th>\n      <td>Me trying to flirt- You have really nice eyebr...</td>\n      <td>1</td>\n      <td>1</td>\n      <td>0</td>\n      <td>1</td>\n      <td>0</td>\n    </tr>\n    <tr>\n      <th>9</th>\n      <td>Says man who suggested an actress reported an ...</td>\n      <td>1</td>\n      <td>0</td>\n      <td>0</td>\n      <td>1</td>\n      <td>0</td>\n    </tr>\n    <tr>\n      <th>11</th>\n      <td>These are not refugees but aggressive male mig...</td>\n      <td>1</td>\n      <td>1</td>\n      <td>1</td>\n      <td>1</td>\n      <td>0</td>\n    </tr>\n    <tr>\n      <th>12</th>\n      <td>There are all these illegal immigrant aliens t...</td>\n      <td>0</td>\n      <td>1</td>\n      <td>0</td>\n      <td>0</td>\n      <td>0</td>\n    </tr>\n    <tr>\n      <th>15</th>\n      <td>Girls with blonde hair and dark roots make my ...</td>\n      <td>1</td>\n      <td>1</td>\n      <td>0</td>\n      <td>0</td>\n      <td>0</td>\n    </tr>\n    <tr>\n      <th>18</th>\n      <td>Some cunt at Walmart went full psycho on me sa...</td>\n      <td>1</td>\n      <td>1</td>\n      <td>0</td>\n      <td>1</td>\n      <td>1</td>\n    </tr>\n    <tr>\n      <th>19</th>\n      <td>@user  As you fall over yourselves to welcome ...</td>\n      <td>1</td>\n      <td>0</td>\n      <td>0</td>\n      <td>1</td>\n      <td>1</td>\n    </tr>\n    <tr>\n      <th>25</th>\n      <td>@user Its not about Trump kids.When are you pu...</td>\n      <td>1</td>\n      <td>0</td>\n      <td>0</td>\n      <td>0</td>\n      <td>0</td>\n    </tr>\n    <tr>\n      <th>26</th>\n      <td>@user No doubt cory wins most hysterical women...</td>\n      <td>0</td>\n      <td>1</td>\n      <td>0</td>\n      <td>0</td>\n      <td>1</td>\n    </tr>\n    <tr>\n      <th>29</th>\n      <td>#FakeNews Alert!! Flu Vaccine PROPAGANDA Agend...</td>\n      <td>1</td>\n      <td>1</td>\n      <td>1</td>\n      <td>0</td>\n      <td>1</td>\n    </tr>\n    <tr>\n      <th>31</th>\n      <td>Glad not all men are like that and sad some wo...</td>\n      <td>1</td>\n      <td>0</td>\n      <td>0</td>\n      <td>0</td>\n      <td>1</td>\n    </tr>\n    <tr>\n      <th>32</th>\n      <td>Don't let the world ending distract you from t...</td>\n      <td>0</td>\n      <td>1</td>\n      <td>0</td>\n      <td>1</td>\n      <td>1</td>\n    </tr>\n    <tr>\n      <th>33</th>\n      <td>is this what you would call karma? like how do...</td>\n      <td>0</td>\n      <td>0</td>\n      <td>0</td>\n      <td>1</td>\n      <td>0</td>\n    </tr>\n    <tr>\n      <th>34</th>\n      <td>@user Let me check your ass out with my cock</td>\n      <td>1</td>\n      <td>1</td>\n      <td>0</td>\n      <td>1</td>\n      <td>1</td>\n    </tr>\n    <tr>\n      <th>35</th>\n      <td>People in airport bars always wanna tell you t...</td>\n      <td>1</td>\n      <td>1</td>\n      <td>0</td>\n      <td>1</td>\n      <td>0</td>\n    </tr>\n    <tr>\n      <th>36</th>\n      <td>I’ll still fuck a stupid Bitch up tho</td>\n      <td>1</td>\n      <td>1</td>\n      <td>0</td>\n      <td>1</td>\n      <td>0</td>\n    </tr>\n    <tr>\n      <th>41</th>\n      <td>@user USA should stop trading with Mexico, if ...</td>\n      <td>1</td>\n      <td>1</td>\n      <td>1</td>\n      <td>0</td>\n      <td>0</td>\n    </tr>\n    <tr>\n      <th>44</th>\n      <td>@user The difference is you promote being a sl...</td>\n      <td>1</td>\n      <td>1</td>\n      <td>0</td>\n      <td>1</td>\n      <td>1</td>\n    </tr>\n    <tr>\n      <th>46</th>\n      <td>The blue wave is coming if we don't build that...</td>\n      <td>1</td>\n      <td>0</td>\n      <td>1</td>\n      <td>1</td>\n      <td>0</td>\n    </tr>\n    <tr>\n      <th>49</th>\n      <td>@user let's get weird! Summertime baby! #FuckB...</td>\n      <td>1</td>\n      <td>1</td>\n      <td>0</td>\n      <td>0</td>\n      <td>1</td>\n    </tr>\n    <tr>\n      <th>50</th>\n      <td>WHO.. ARE. YOOUU? This is not mario kart. You ...</td>\n      <td>1</td>\n      <td>1</td>\n      <td>0</td>\n      <td>1</td>\n      <td>1</td>\n    </tr>\n    <tr>\n      <th>51</th>\n      <td>Boo, you sweaty whore</td>\n      <td>1</td>\n      <td>1</td>\n      <td>0</td>\n      <td>1</td>\n      <td>1</td>\n    </tr>\n    <tr>\n      <th>57</th>\n      <td>someone: breathes ada: dumb whore cunt slut yo...</td>\n      <td>1</td>\n      <td>1</td>\n      <td>0</td>\n      <td>1</td>\n      <td>1</td>\n    </tr>\n    <tr>\n      <th>59</th>\n      <td>Now All These Hoes Talking Bout THEY NEED A GU...</td>\n      <td>1</td>\n      <td>1</td>\n      <td>0</td>\n      <td>1</td>\n      <td>1</td>\n    </tr>\n    <tr>\n      <th>61</th>\n      <td>Worldbank reports that in the next 30 years ma...</td>\n      <td>1</td>\n      <td>1</td>\n      <td>1</td>\n      <td>0</td>\n      <td>1</td>\n    </tr>\n    <tr>\n      <th>62</th>\n      <td>@user Hope one of these crazy ppl assassinate ...</td>\n      <td>0</td>\n      <td>0</td>\n      <td>0</td>\n      <td>0</td>\n      <td>1</td>\n    </tr>\n    <tr>\n      <th>66</th>\n      <td>@user Must take decisive action for sealing bo...</td>\n      <td>1</td>\n      <td>1</td>\n      <td>0</td>\n      <td>0</td>\n      <td>0</td>\n    </tr>\n    <tr>\n      <th>69</th>\n      <td>i use to get sky at my dads house but his whor...</td>\n      <td>1</td>\n      <td>1</td>\n      <td>0</td>\n      <td>0</td>\n      <td>1</td>\n    </tr>\n    <tr>\n      <th>71</th>\n      <td>@user LOL, you do dress like a slut :-) you lo...</td>\n      <td>1</td>\n      <td>1</td>\n      <td>0</td>\n      <td>1</td>\n      <td>1</td>\n    </tr>\n    <tr>\n      <th>74</th>\n      <td>Went to @user stupid bitch put one in upside d...</td>\n      <td>1</td>\n      <td>1</td>\n      <td>0</td>\n      <td>1</td>\n      <td>1</td>\n    </tr>\n    <tr>\n      <th>76</th>\n      <td>@user @user Steinle, who was murdered by an il...</td>\n      <td>1</td>\n      <td>0</td>\n      <td>0</td>\n      <td>0</td>\n      <td>0</td>\n    </tr>\n    <tr>\n      <th>80</th>\n      <td>Now since all Indians been mapped thru Aadhar ...</td>\n      <td>1</td>\n      <td>1</td>\n      <td>0</td>\n      <td>1</td>\n      <td>1</td>\n    </tr>\n    <tr>\n      <th>82</th>\n      <td>Seriously. Get these people out of there. If w...</td>\n      <td>1</td>\n      <td>0</td>\n      <td>0</td>\n      <td>1</td>\n      <td>0</td>\n    </tr>\n    <tr>\n      <th>83</th>\n      <td>WHO'S THE WHORE NOW YOU PIECE OF SHIT</td>\n      <td>1</td>\n      <td>1</td>\n      <td>0</td>\n      <td>1</td>\n      <td>1</td>\n    </tr>\n    <tr>\n      <th>89</th>\n      <td>Son- mom, how did you and dad meet? Mom- he ha...</td>\n      <td>0</td>\n      <td>1</td>\n      <td>0</td>\n      <td>0</td>\n      <td>0</td>\n    </tr>\n    <tr>\n      <th>92</th>\n      <td>RT @user It's April fools day but I clown you ...</td>\n      <td>0</td>\n      <td>0</td>\n      <td>0</td>\n      <td>1</td>\n      <td>0</td>\n    </tr>\n    <tr>\n      <th>93</th>\n      <td>@user You call it whatever you want -You prais...</td>\n      <td>1</td>\n      <td>1</td>\n      <td>0</td>\n      <td>1</td>\n      <td>1</td>\n    </tr>\n    <tr>\n      <th>95</th>\n      <td>Oooohhhh bitch didn't even listen to the dead ...</td>\n      <td>0</td>\n      <td>1</td>\n      <td>0</td>\n      <td>0</td>\n      <td>1</td>\n    </tr>\n    <tr>\n      <th>96</th>\n      <td>@user Good Luck @user More Americans #WalkAway...</td>\n      <td>0</td>\n      <td>1</td>\n      <td>0</td>\n      <td>0</td>\n      <td>0</td>\n    </tr>\n    <tr>\n      <th>97</th>\n      <td>Bitch you can't keep up so stop trying</td>\n      <td>1</td>\n      <td>1</td>\n      <td>0</td>\n      <td>1</td>\n      <td>0</td>\n    </tr>\n    <tr>\n      <th>99</th>\n      <td>@user hi Best l see someone fucking girl comme...</td>\n      <td>1</td>\n      <td>1</td>\n      <td>0</td>\n      <td>1</td>\n      <td>1</td>\n    </tr>\n  </tbody>\n</table>\n</div>"
     },
     "metadata": {}
    }
   ]
  },
  {
   "cell_type": "code",
   "metadata": {
    "cell_id": "00087-cfdedb70-28f4-40e9-b489-0c2610ad43f5",
    "deepnote_to_be_reexecuted": false,
    "execution_millis": 80,
    "execution_start": 1622219519197,
    "source_hash": "7426c194",
    "tags": [],
    "deepnote_cell_type": "code"
   },
   "source": "from sklearn.metrics import confusion_matrix\nfrom sklearn.metrics import classification_report\n\nfor person in list(annotation_evaluation)[-4:]:\n    print('#'*3 + ' ' + person.replace('_',' ').title() + ' ' + '#'*3)    \n    print(pd.DataFrame(confusion_matrix(annotation_evaluation['ground_truth'], annotation_evaluation[person]), columns=['Predicted Non-Hate', 'Predicted Hate'], index=['Non-Hate', 'Hate']))\n    print('\\n')\n    \n    print(classification_report(annotation_evaluation['ground_truth'], annotation_evaluation[person], target_names=[\"Non-Hate\",\"Hate\"]))\n    print('\\n')",
   "execution_count": 63,
   "outputs": [
    {
     "name": "stdout",
     "text": "### Nicola Annotations ###\n          Predicted Non-Hate  Predicted Hate\nNon-Hate                  51               6\nHate                       7              36\n\n\n              precision    recall  f1-score   support\n\n    Non-Hate       0.88      0.89      0.89        57\n        Hate       0.86      0.84      0.85        43\n\n    accuracy                           0.87       100\n   macro avg       0.87      0.87      0.87       100\nweighted avg       0.87      0.87      0.87       100\n\n\n\n### Hugo Annotations ###\n          Predicted Non-Hate  Predicted Hate\nNon-Hate                  57               0\nHate                      28              15\n\n\n              precision    recall  f1-score   support\n\n    Non-Hate       0.67      1.00      0.80        57\n        Hate       1.00      0.35      0.52        43\n\n    accuracy                           0.72       100\n   macro avg       0.84      0.67      0.66       100\nweighted avg       0.81      0.72      0.68       100\n\n\n\n### Mika Annotations ###\n          Predicted Non-Hate  Predicted Hate\nNon-Hate                  53               4\nHate                      10              33\n\n\n              precision    recall  f1-score   support\n\n    Non-Hate       0.84      0.93      0.88        57\n        Hate       0.89      0.77      0.82        43\n\n    accuracy                           0.86       100\n   macro avg       0.87      0.85      0.85       100\nweighted avg       0.86      0.86      0.86       100\n\n\n\n### Aidan Annotations ###\n          Predicted Non-Hate  Predicted Hate\nNon-Hate                  53               4\nHate                      13              30\n\n\n              precision    recall  f1-score   support\n\n    Non-Hate       0.80      0.93      0.86        57\n        Hate       0.88      0.70      0.78        43\n\n    accuracy                           0.83       100\n   macro avg       0.84      0.81      0.82       100\nweighted avg       0.84      0.83      0.83       100\n\n\n\n",
     "output_type": "stream"
    }
   ]
  },
  {
   "cell_type": "markdown",
   "source": "*TASK 4*\n# Automatic Prediction XXX\n---",
   "metadata": {
    "cell_id": "00013-fc964c9b-2d90-48f7-93b6-89e1c191c669",
    "tags": [],
    "deepnote_cell_type": "markdown"
   }
  },
  {
   "cell_type": "code",
   "metadata": {
    "tags": [],
    "cell_id": "00093-f1e72067-701b-4e2f-8d01-0bd5ff35793c",
    "deepnote_to_be_reexecuted": false,
    "source_hash": "98a39d6c",
    "execution_start": 1622219519260,
    "execution_millis": 6,
    "deepnote_cell_type": "code"
   },
   "source": "###imports for models, to be moved up later\nfrom sklearn.feature_extraction.text import CountVectorizer\nfrom sklearn.feature_extraction.text import TfidfTransformer\nfrom sklearn.naive_bayes import MultinomialNB\n\nimport nltk\nfrom nltk.corpus import stopwords\n\nfrom sklearn.metrics import accuracy_score\n\nfrom matplotlib.ticker import MaxNLocator",
   "execution_count": 64,
   "outputs": []
  },
  {
   "cell_type": "code",
   "metadata": {
    "tags": [],
    "cell_id": "00094-cf289443-0ef7-489d-8a56-62dd7359137b",
    "deepnote_to_be_reexecuted": false,
    "source_hash": "22fa07fa",
    "execution_start": 1622219519272,
    "execution_millis": 105,
    "deepnote_cell_type": "code"
   },
   "source": "nltk.download('stopwords')",
   "execution_count": 65,
   "outputs": [
    {
     "name": "stderr",
     "text": "[nltk_data] Downloading package stopwords to /root/nltk_data...\n[nltk_data]   Unzipping corpora/stopwords.zip.\n",
     "output_type": "stream"
    },
    {
     "output_type": "execute_result",
     "execution_count": 65,
     "data": {
      "text/plain": "True"
     },
     "metadata": {}
    }
   ]
  },
  {
   "cell_type": "markdown",
   "source": "### Bag of Words Model",
   "metadata": {
    "tags": [],
    "cell_id": "00093-871598a9-d4da-4712-bee2-20fae0b2cc46",
    "deepnote_cell_type": "markdown"
   }
  },
  {
   "cell_type": "code",
   "source": "DATA[\"processed\"][dataset][\"train_text\"]",
   "metadata": {
    "tags": [],
    "cell_id": "00096-30807f18-8e30-426c-a771-50b31828791c",
    "deepnote_to_be_reexecuted": false,
    "source_hash": "7c70e789",
    "execution_start": 1622223431755,
    "execution_millis": 527,
    "deepnote_cell_type": "code"
   },
   "outputs": [
    {
     "output_type": "execute_result",
     "execution_count": 188,
     "data": {
      "text/plain": "[['“',\n  'worry',\n  'is',\n  'a',\n  'down',\n  'payment',\n  'on',\n  'a',\n  'problem',\n  'you',\n  'may',\n  'never',\n  'have',\n  \"'\",\n  '.',\n  'joyce',\n  'meyer',\n  '.',\n  '#motivation',\n  '#leadership',\n  '#worry'],\n ['my',\n  'roommate',\n  ':',\n  'it',\n  'is',\n  'okay',\n  'that',\n  'we',\n  'cannot',\n  'spell',\n  'because',\n  'we',\n  'have',\n  'autocorrect',\n  '.',\n  '#terrible',\n  '#firstworldprobs'],\n ['no',\n  'but',\n  'that',\n  'is',\n  'so',\n  'cute',\n  '.',\n  'atsu',\n  'was',\n  'probably',\n  'shy',\n  'about',\n  'photos',\n  'before',\n  'but',\n  'cherry',\n  'helped',\n  'her',\n  'out',\n  'uwu'],\n ['rooneys',\n  'fucking',\n  'untouchable',\n  'is',\n  'not',\n  'he',\n  '?',\n  'been',\n  'fucking',\n  'dreadful',\n  'again',\n  ',',\n  'depay',\n  'has',\n  'looked',\n  'decent',\n  '(',\n  'ish',\n  ')',\n  'tonight'],\n ['it',\n  'is',\n  'pretty',\n  'depressing',\n  'when',\n  'you',\n  'hit',\n  'pan',\n  'on',\n  'ur',\n  'favourite',\n  'highlighter'],\n ['@user',\n  'but',\n  'your',\n  'pussy',\n  'was',\n  'weak',\n  'from',\n  'what',\n  'i',\n  'heard',\n  'so',\n  'stfu',\n  'up',\n  'to',\n  'me',\n  'bitch',\n  '.',\n  'you',\n  'got',\n  'to',\n  'threaten',\n  'him',\n  'that',\n  'your',\n  'pregnant',\n  '.'],\n ['making',\n  'that',\n  'yearly',\n  'transition',\n  'from',\n  'excited',\n  'and',\n  'hopeful',\n  'college',\n  'returner',\n  'to',\n  'sick',\n  'and',\n  'exhausted',\n  'pessimist',\n  '.',\n  '#college'],\n ['tiller',\n  'and',\n  'breezy',\n  'should',\n  'do',\n  'a',\n  'collab',\n  'album',\n  '.',\n  'rapping',\n  'and',\n  'singing',\n  'prolly',\n  'be',\n  'fire'],\n ['@user',\n  'broadband',\n  'is',\n  'shocking',\n  'regretting',\n  'signing',\n  'up',\n  'now',\n  '#angry',\n  '#shouldofgonewithvirgin'],\n ['@user', 'look', 'at', 'those', 'teef', '!', '#growl'],\n ['@user',\n  '@user',\n  'usa',\n  'was',\n  'embarrassing',\n  'to',\n  'watch',\n  '.',\n  'when',\n  'was',\n  'the',\n  'last',\n  'time',\n  'you',\n  'guys',\n  'won',\n  'a',\n  'game',\n  '..',\n  '?',\n  '#horrible',\n  '#joke'],\n ['#newyork',\n  ':',\n  'several',\n  '#baloch',\n  '&',\n  'indian',\n  'activists',\n  'hold',\n  'demonstrations',\n  'outside',\n  '@user',\n  'headquarters',\n  'demanding',\n  'pak',\n  'to',\n  'stop',\n  'exporting',\n  '#terror',\n  'into',\n  'india'],\n ['your',\n  'glee',\n  'filled',\n  'normy',\n  'dry',\n  'humping',\n  'of',\n  'the',\n  'most',\n  'recent',\n  'high',\n  'profile',\n  'celebrity',\n  'break',\n  'up',\n  'is',\n  'pathetic',\n  '&',\n  'all',\n  'that',\n  'is',\n  'wrong',\n  'with',\n  'the',\n  'world',\n  'today',\n  '.'],\n ['what', 'a', 'fucking', 'muppet', '.', '@user', '#stalker', '.'],\n ['autocorrect',\n  'changes',\n  \"'\",\n  \"'\",\n  'em',\n  \"'\",\n  'to',\n  \"'\",\n  'me',\n  \"'\",\n  'which',\n  'i',\n  'resent',\n  'greatly'],\n ['@user',\n  'i',\n  'would',\n  'never',\n  'strategically',\n  'vote',\n  'for',\n  'someone',\n  'i',\n  'do',\n  'not',\n  'agree',\n  'with',\n  '.',\n  'a',\n  'lot',\n  'of',\n  'the',\n  'clinton',\n  'vote',\n  'based',\n  'on',\n  'fear',\n  'and',\n  'negativity',\n  '.'],\n ['@user',\n  'haters',\n  '!',\n  '!',\n  '!',\n  'you',\n  'are',\n  'low',\n  'in',\n  'self',\n  'worth',\n  '.',\n  'self',\n  'righteous',\n  'in',\n  'your',\n  'delusions',\n  '.',\n  'you',\n  'cower',\n  'at',\n  'the',\n  'thought',\n  'of',\n  'change',\n  '.',\n  'change',\n  'is',\n  'inevitable',\n  '.'],\n ['i',\n  'saved',\n  'him',\n  'after',\n  'ordering',\n  'him',\n  'to',\n  'risk',\n  'his',\n  'life',\n  '.',\n  'i',\n  'did',\n  'not',\n  'panic',\n  'but',\n  'stayed',\n  'calm',\n  'and',\n  'rescued',\n  'him',\n  '.'],\n ['@user',\n  'uggh',\n  'that',\n  'is',\n  'really',\n  'horrible',\n  '.',\n  'you',\n  'are',\n  'not',\n  'a',\n  'bad',\n  'person',\n  'by',\n  'any',\n  'stretch',\n  'of',\n  'the',\n  'imagination',\n  '.',\n  'i',\n  'hope',\n  'this',\n  'person',\n  'realizes',\n  'that',\n  '.'],\n ['@user',\n  '@user',\n  '@user',\n  'tamra',\n  'would',\n  'f',\n  'her',\n  'up',\n  'if',\n  'she',\n  'swung',\n  'on',\n  'tamra',\n  'kelly',\n  'is',\n  'a',\n  'piece',\n  'of',\n  '💩',\n  '#needstobeadmitted',\n  '#bully'],\n ['love',\n  'is',\n  'when',\n  'all',\n  'your',\n  'happiness',\n  'and',\n  'all',\n  'your',\n  'sadness',\n  'and',\n  'all',\n  'your',\n  'feelings',\n  'are',\n  'dependent',\n  'on',\n  'another',\n  'person',\n  '.'],\n ['it',\n  '’',\n  's',\n  'possible',\n  'changing',\n  'meds',\n  'is',\n  'best',\n  'not',\n  'done',\n  'while',\n  'under',\n  'stress',\n  '.',\n  'difficult',\n  'to',\n  'tell',\n  'what',\n  'part',\n  'of',\n  'despair',\n  'is',\n  'circumstantial',\n  ',',\n  'what',\n  'is',\n  'drugs',\n  '.'],\n ['I',\n  'am',\n  'also',\n  'definitely',\n  'still',\n  'bitter',\n  'about',\n  'the',\n  'yellow',\n  'ranger',\n  'not',\n  'being',\n  'asian',\n  ',',\n  'but',\n  'asian',\n  'representation',\n  'in',\n  'hollywood',\n  'is',\n  'essentially',\n  'a',\n  'shrug',\n  'anyway'],\n ['@user',\n  'the',\n  'irony',\n  'is',\n  'that',\n  'those',\n  'protesting',\n  'about',\n  'this',\n  'kind',\n  'of',\n  'stuff',\n  'are',\n  'the',\n  'orwellian',\n  'nightmare',\n  'they',\n  'think',\n  'they',\n  '’',\n  're',\n  'fighting',\n  'against',\n  '.'],\n ['@user', '@user', 'nah', 'way', 'that', 'has', 'horrible'],\n ['@user',\n  'i',\n  'think',\n  'just',\n  'becz',\n  'you',\n  'have',\n  'so',\n  'much',\n  'terror',\n  'in',\n  'pak',\n  'nd',\n  'urself',\n  'being',\n  'a',\n  'leader',\n  'you',\n  'forgot',\n  'd',\n  'difference',\n  'btw',\n  'a',\n  'leader',\n  'nd',\n  'terrorist',\n  '!'],\n ['angel', 'delight', 'is', 'my', 'everything'],\n ['puzzle',\n  'investing',\n  'opening',\n  'portland',\n  'feodal',\n  'population',\n  'is',\n  'correlative',\n  'straight',\n  'a',\n  'snorting',\n  'infuriate',\n  ':',\n  'xlzjyhg'],\n ['i',\n  'believe',\n  'I',\n  'am',\n  'going',\n  'to',\n  'start',\n  'singing',\n  'in',\n  'my',\n  'snap',\n  'stories',\n  'on',\n  'the',\n  'tractor',\n  '.',\n  'switch',\n  'it',\n  'up',\n  'a',\n  'little',\n  'bit',\n  '.'],\n ['i',\n  'have',\n  'a',\n  'rage',\n  'rage',\n  'ep',\n  '2',\n  'coming',\n  'out',\n  'soon',\n  'I',\n  'will',\n  'keep',\n  'you',\n  'posted',\n  'on',\n  'it',\n  '#youtube',\n  '#youtubegaming',\n  '#rage'],\n ['why',\n  'have',\n  'i',\n  'only',\n  'just',\n  'started',\n  'watching',\n  'glee',\n  'this',\n  'week',\n  'i',\n  'am',\n  'now',\n  'addicted',\n  '🙄',\n  '#glee',\n  '#gleek'],\n ['jorge',\n  'deserves',\n  'it',\n  ',',\n  'honestly',\n  '.',\n  'he',\n  'is',\n  'weak',\n  '.',\n  '#90dayfiance'],\n ['@user',\n  \"'\",\n  'shit',\n  \"'\",\n  'does',\n  'not',\n  'even',\n  'begin',\n  'to',\n  'describe',\n  'these',\n  'fiery',\n  'little',\n  'demons',\n  'straight',\n  'from',\n  'hell',\n  '🌝',\n  '🌚',\n  ';)'],\n ['@user',\n  '@user',\n  'ditto',\n  '!',\n  '!',\n  'such',\n  'an',\n  'amazing',\n  'atmosphere',\n  '!',\n  '#philippplein',\n  '#cheerleaders',\n  '#stunt',\n  '#londonevents',\n  '#cheer'],\n ['interview',\n  'preparation',\n  ',',\n  'i',\n  'hate',\n  'talking',\n  'about',\n  'myself',\n  ',',\n  'one',\n  'dull',\n  'subject',\n  'matter',\n  '!',\n  '#yawnoff'],\n ['manchester', 'derby', 'at', 'home'],\n ['it',\n  'would',\n  'probably',\n  'be',\n  'useful',\n  'to',\n  'more',\n  'than',\n  'women',\n  ',',\n  'but',\n  'I',\n  'am',\n  'dealing',\n  'with',\n  're-reading',\n  'an',\n  'article',\n  'about',\n  'a',\n  'woman',\n  'being',\n  'harassed',\n  'on',\n  'the',\n  'subway',\n  '.',\n  '#concern'],\n ['her',\n  ';',\n  'i',\n  'want',\n  'a',\n  'playful',\n  'relationship',\n  'me',\n  ';',\n  '*',\n  'kicks',\n  'her',\n  'off',\n  'the',\n  'couch',\n  '*'],\n ['romero',\n  'is',\n  'fucking',\n  'dreadful',\n  'like',\n  'seriously',\n  'my',\n  '11',\n  'month',\n  'old',\n  'is',\n  'better',\n  'than',\n  'him',\n  '.'],\n ['@user',\n  'it',\n  '’',\n  's',\n  'taken',\n  'for',\n  'granted',\n  ',',\n  'while',\n  'the',\n  'misogyny',\n  'in',\n  'the',\n  'air',\n  'is',\n  'treated',\n  'as',\n  'normal',\n  '—',\n  'and',\n  'any',\n  'angry',\n  'response',\n  'to',\n  'it',\n  'as',\n  'pathological',\n  '.'],\n ['@user',\n  'oh',\n  'i',\n  'see',\n  '.',\n  'I',\n  'have',\n  'seen',\n  'so',\n  'many',\n  'people',\n  'mourn',\n  'the',\n  'loss',\n  'that',\n  'i',\n  'was',\n  'surprised',\n  'to',\n  'see',\n  'your',\n  'tweet',\n  '.',\n  'i',\n  'suppose',\n  'same',\n  'old',\n  'here',\n  'in',\n  'sa'],\n ['so',\n  'gutted',\n  'i',\n  'dropped',\n  'one',\n  'of',\n  'my',\n  'earrings',\n  'down',\n  'the',\n  'sink',\n  'at',\n  'school'],\n ['happy',\n  'birthday',\n  'to',\n  'stephen',\n  'king',\n  ',',\n  'a',\n  'man',\n  'responsible',\n  'for',\n  'some',\n  'of',\n  'the',\n  'best',\n  'horror',\n  'of',\n  'the',\n  'past',\n  '40',\n  'years',\n  '...',\n  'and',\n  'a',\n  'whole',\n  'bunch',\n  'of',\n  'the',\n  'worst',\n  '.'],\n ['“',\n  'my',\n  'courage',\n  'always',\n  'rises',\n  'at',\n  'every',\n  'attempt',\n  'to',\n  'intimidate',\n  'me',\n  '.',\n  '”',\n  '-',\n  'elizabeth',\n  'bennett',\n  '(',\n  'pride',\n  'and',\n  'prejudice',\n  ')',\n  '#quotes',\n  '#courage',\n  '#faceyourfears'],\n ['it',\n  'is',\n  'a',\n  'good',\n  'day',\n  'at',\n  'work',\n  'when',\n  'you',\n  'get',\n  'to',\n  'shake',\n  'jim',\n  \"lehrer's\",\n  'hand',\n  '.',\n  'thanks',\n  ',',\n  '@user',\n  'still',\n  'kicking',\n  'myself',\n  'for',\n  'being',\n  'to',\n  'shy',\n  'to',\n  'hug',\n  '@user'],\n ['I',\n  'am',\n  'so',\n  'bored',\n  'and',\n  'fat',\n  'and',\n  'full',\n  'and',\n  'ridiculously',\n  'overweight',\n  'and',\n  'rolls',\n  'galore'],\n ['@user',\n  'flirt',\n  ',',\n  'simper',\n  ',',\n  'pout',\n  ',',\n  'repeat',\n  '.',\n  'yuck',\n  '.'],\n ['trumpism',\n  'likewise',\n  'rests',\n  'on',\n  'a',\n  'bed',\n  'of',\n  'racial',\n  'resentment',\n  'that',\n  'was',\n  'made',\n  'knowingly',\n  'and',\n  'intentionally',\n  ',',\n  'long',\n  'before',\n  'trump',\n  'got',\n  'into',\n  'politics',\n  '.'],\n ['there',\n  'is',\n  'this',\n  'bpharm',\n  '4',\n  'guy',\n  'eish',\n  'that',\n  'guy',\n  'brings',\n  'anger',\n  'into',\n  'my',\n  'life',\n  '.',\n  'when',\n  'i',\n  'see',\n  'him',\n  'nje',\n  'like',\n  'darkness',\n  'fills',\n  'me',\n  '@user',\n  'will',\n  'know'],\n ['tears',\n  'and',\n  'eyes',\n  'can',\n  'dry',\n  'but',\n  'i',\n  'will',\n  'not',\n  ',',\n  'I',\n  'am',\n  'burning',\n  'like',\n  'the',\n  'wire',\n  'in',\n  'a',\n  'lightbulb'],\n ['nor',\n  'hell',\n  'a',\n  'fury',\n  'like',\n  'a',\n  'woman',\n  'scorned',\n  '-',\n  '-',\n  'william',\n  'congreve'],\n ['@user',\n  'tried',\n  '2',\n  'get',\n  'earlier',\n  'flt',\n  '2day',\n  '@user',\n  'turnd',\n  'away',\n  'bcuz',\n  'it',\n  'was',\n  '2',\n  'late',\n  'then',\n  'agent',\n  'let',\n  'other',\n  'pas',\n  'on',\n  '#silvereliteleftbehind'],\n ['@user',\n  'i',\n  'so',\n  'wish',\n  'you',\n  'could',\n  'someday',\n  'come',\n  'to',\n  'spain',\n  'with',\n  'the',\n  'play',\n  ',',\n  'i',\n  'cannot',\n  'believe',\n  'I',\n  'am',\n  'not',\n  'going',\n  'to',\n  'see',\n  'it',\n  '#sad'],\n ['val',\n  'got',\n  'a',\n  'little',\n  'too',\n  'big',\n  'for',\n  'her',\n  'hiking',\n  'boots',\n  'with',\n  'that',\n  'bakewell',\n  ',',\n  'the',\n  'little',\n  'terror',\n  '#gbbo'],\n ['@user',\n  'bts',\n  \"'\",\n  '화양연화',\n  'trilogy',\n  'mv',\n  'is',\n  'my',\n  'all',\n  'time',\n  'fav',\n  '🙌',\n  'quite',\n  'gloomy',\n  'but',\n  'beautiful',\n  'as',\n  'well',\n  '✨'],\n ['@user',\n  '@user',\n  'prudence',\n  'suggests',\n  'that',\n  'a',\n  '8',\n  '+',\n  '%',\n  'bump',\n  'over',\n  '2-3',\n  'weeks',\n  'should',\n  'be',\n  'viewed',\n  'with',\n  'skepticism',\n  '.',\n  'media',\n  '/',\n  'hrc',\n  'axis',\n  '#angry'],\n ['thank',\n  'you',\n  'disney',\n  'themed',\n  'episode',\n  'for',\n  'letting',\n  'me',\n  'discover',\n  'how',\n  'amazing',\n  'the',\n  '@user',\n  'are',\n  '!',\n  '#hilarious'],\n ['need', 'a', 'new', 'outlet', 'for', '#rage'],\n ['rewatching',\n  \"'\",\n  'raising',\n  'hope',\n  \"'\",\n  '(',\n  'with',\n  'hubs',\n  'this',\n  'time',\n  ')',\n  'and',\n  'totally',\n  'forgot',\n  'how',\n  'hilarious',\n  'it',\n  'is',\n  '😂',\n  '#herewego'],\n ['@user',\n  '@user',\n  'wow',\n  '.',\n  'not',\n  'heard',\n  'this',\n  'in',\n  'forever',\n  '.',\n  'random',\n  'but',\n  '.',\n  'great',\n  '#sting',\n  '#xph'],\n ['may',\n  'the',\n  'optimism',\n  'of',\n  'tomorrow',\n  'be',\n  'your',\n  'foundation',\n  'for',\n  'today',\n  '.'],\n ['@user',\n  '@user',\n  '@user',\n  'and',\n  'also',\n  ',',\n  'trying',\n  'to',\n  'find',\n  'it',\n  'on',\n  'youtube',\n  'is',\n  'a',\n  'fucking',\n  'nightmare',\n  '.'],\n ['@user',\n  'spent',\n  'over',\n  '2',\n  'fucking',\n  'hours',\n  'and',\n  'still',\n  'cannot',\n  'get',\n  'that',\n  'dam',\n  'siva',\n  'fragment',\n  'on',\n  'fellwinters',\n  'peak',\n  'mountain'],\n ['happy',\n  'birthday',\n  ',',\n  'lost',\n  '!',\n  '/',\n  '#lost',\n  '#dharmainitiative',\n  '#12years',\n  '#22september2004',\n  '#oceanic815'],\n ['#peoplelikemebecause',\n  'they',\n  'see',\n  'the',\n  'happy',\n  'exterior',\n  ',',\n  'not',\n  'the',\n  'hopelessness',\n  'i',\n  'sometimes',\n  'feel',\n  'inside',\n  '.',\n  '#depression',\n  '#anxietyprobz'],\n ['people', 'who', 'go', 'the', 'speed', 'limit', 'irritate', 'me'],\n ['#ff',\n  '@the_family_x',\n  '#soul',\n  '#blues',\n  '&',\n  '#rock',\n  '#band',\n  '#music',\n  'from',\n  'the',\n  '#heart',\n  'with',\n  'soul',\n  '&',\n  '#passion',\n  'xx',\n  '🎶',\n  'xx'],\n ['@user',\n  '@user',\n  'ohh',\n  '..',\n  'so',\n  'here',\n  'comes',\n  'sense',\n  'from',\n  'terror',\n  'supporting',\n  'stone',\n  'pelting',\n  'vandalizing',\n  'ppl',\n  'who',\n  'gather',\n  'b4',\n  'protests',\n  'to',\n  'announce',\n  '...'],\n ['my',\n  'fav',\n  '#movies',\n  'are',\n  '#horror',\n  'but',\n  'they',\n  'do',\n  'not',\n  'make',\n  'them',\n  'like',\n  'they',\n  'used',\n  'too',\n  '.',\n  'have',\n  'not',\n  'seen',\n  'a',\n  'great',\n  'one',\n  'in',\n  'years'],\n ['I',\n  'would',\n  'like',\n  'to',\n  'bridge',\n  'the',\n  'divide',\n  'between',\n  'right',\n  'and',\n  'left',\n  'twitter',\n  'and',\n  'say',\n  'that',\n  'the',\n  'new',\n  'tweet',\n  'truncating',\n  'thing',\n  'is',\n  'fucking',\n  'awful',\n  '.'],\n ['@user', 'i', 'am', 'shy', 'xd'],\n ['after', 'what', 'just', 'happened', '.', 'in', 'need', 'to', 'smoke', '.'],\n ['joes',\n  'gf',\n  'started',\n  'singing',\n  'all',\n  'star',\n  'and',\n  'then',\n  'joe',\n  'got',\n  'angry',\n  'and',\n  'was',\n  'all',\n  'sing',\n  'it',\n  'right',\n  'and',\n  'started',\n  'angrily',\n  'singing',\n  'it',\n  'back',\n  'at',\n  'her'],\n ['@user',\n  'i',\n  'remember',\n  'its',\n  'heyday',\n  ',',\n  'but',\n  'these',\n  'ladies',\n  'range',\n  'in',\n  'age',\n  'from',\n  ',',\n  'I',\n  'would',\n  'say',\n  ',',\n  'mid',\n  '-',\n  '30s',\n  'to',\n  'early',\n  '70s',\n  '.'],\n ['@user',\n  'so',\n  'this',\n  'houses',\n  'will',\n  'get',\n  'into',\n  'my',\n  'instestines',\n  'and',\n  'scare',\n  'my',\n  'poop',\n  'and',\n  'I',\n  'will',\n  'shit',\n  'my',\n  'pants',\n  '?'],\n ['@user',\n  '@user',\n  '@user',\n  'do',\n  'rednecks',\n  'intellectually',\n  'intimidate',\n  'you',\n  'and',\n  'force',\n  'you',\n  'to',\n  'be',\n  'their',\n  'dancing',\n  'clown',\n  '?'],\n ['sometimes',\n  'i',\n  'like',\n  'to',\n  'talk',\n  'about',\n  'my',\n  'sadness',\n  '.',\n  'other',\n  'times',\n  ',',\n  'i',\n  'just',\n  'want',\n  'to',\n  'be',\n  'distracted',\n  'by',\n  'friends',\n  ',',\n  'laughter',\n  ',',\n  'shopping',\n  ',',\n  'eating',\n  '...',\n  '#mhchat'],\n ['noooooo',\n  '@user',\n  'without',\n  '#maryberry',\n  'will',\n  'be',\n  '#awful',\n  '#endofanera',\n  'going',\n  '2b',\n  'so',\n  '#lost',\n  '@user',\n  'have',\n  'bought',\n  'a',\n  '#lameduck',\n  'there',\n  '#notallaboutthemoney'],\n ['on',\n  'the',\n  'bright',\n  'side',\n  ',',\n  'my',\n  'music',\n  'theory',\n  'teacher',\n  'just',\n  'pocket',\n  'dabbed',\n  'and',\n  'said',\n  ',',\n  \"'\",\n  'i',\n  'know',\n  'what',\n  'is',\n  'hip',\n  '.',\n  \"'\",\n  'and',\n  'walked',\n  'away',\n  '😂',\n  '😭'],\n ['@user',\n  'it',\n  'can',\n  'go',\n  'one',\n  'of',\n  'two',\n  'ways',\n  '.',\n  'you',\n  'either',\n  'get',\n  'over',\n  'it',\n  'and',\n  'accept',\n  'it',\n  ',',\n  'because',\n  'it',\n  'is',\n  'not',\n  'going',\n  'to',\n  'change',\n  ',',\n  'or',\n  'you',\n  'mope',\n  'about',\n  '-',\n  '-'],\n ['#peoplelikemebecause',\n  'they',\n  'see',\n  'the',\n  'happy',\n  'exterior',\n  ',',\n  'not',\n  'the',\n  'hopelessness',\n  'i',\n  'sometimes',\n  'feel',\n  'inside',\n  '.',\n  '#depression',\n  '#anxiety',\n  '#anxietyprobz'],\n ['#thisisus',\n  'has',\n  'messed',\n  'with',\n  'my',\n  'mind',\n  '&',\n  'now',\n  'I',\n  'am',\n  'anticipating',\n  'the',\n  'next',\n  'episode',\n  'with',\n  '#apprehension',\n  '&',\n  '#delight',\n  '!',\n  '#isthereahelplineforthis'],\n ['god',\n  'we',\n  'need',\n  'a',\n  'new',\n  'goal',\n  'keeper',\n  '!',\n  'they',\n  '’',\n  're',\n  'both',\n  'horrific',\n  '.'],\n ['@user',\n  'old',\n  'age',\n  '?',\n  '!',\n  'no',\n  'hope',\n  'for',\n  'the',\n  'rest',\n  'of',\n  'us',\n  '.',\n  'destined',\n  'to',\n  'become',\n  'deatheaters',\n  'by',\n  '50',\n  '#nightmare'],\n ['@user',\n  'if',\n  'i',\n  'wanted',\n  'green',\n  'potatoes',\n  ',',\n  'a',\n  'bottle',\n  'with',\n  'the',\n  'tag',\n  'still',\n  'on',\n  ',',\n  'plus',\n  'soaking',\n  'wet',\n  'items',\n  'delivered',\n  '-',\n  'I',\n  'am',\n  'winning',\n  'today-sadly',\n  'i',\n  'did',\n  'not'],\n [\"everybody's\",\n  'worried',\n  'about',\n  'stopping',\n  '#terrorism',\n  '.',\n  'well',\n  ',',\n  'there',\n  'is',\n  'a',\n  'really',\n  'easy',\n  'way',\n  ':',\n  'stop',\n  'participating',\n  'in',\n  'it',\n  '.',\n  '-',\n  'noam',\n  'chomsky'],\n ['wow',\n  'almost',\n  'all',\n  'the',\n  't-mobile',\n  'stores',\n  'in',\n  'san',\n  'diego',\n  'are',\n  'out',\n  'of',\n  'note',\n  '7',\n  'replacements',\n  '#sadness',\n  'i',\n  'need',\n  'to',\n  'get',\n  'mine',\n  'replaced'],\n ['i', 'am', 'worried', 'that', 'she', 'felt', 'safe', '.', '#unhappy'],\n ['#ahs6',\n  'every',\n  '5',\n  'minutes',\n  'I',\n  'have',\n  'been',\n  'saying',\n  \"'\",\n  'nope',\n  'nope',\n  'I',\n  'would',\n  'be',\n  'gone',\n  'by',\n  'now',\n  '.',\n  \"'\",\n  \"'\",\n  'move',\n  \"'\",\n  'or',\n  \"'\",\n  'gtfo',\n  \"'\",\n  'so',\n  'thank',\n  'you',\n  'for',\n  'the'],\n ['nothing',\n  'worse',\n  'than',\n  'an',\n  'uber',\n  'driver',\n  'that',\n  'cannot',\n  'drive',\n  '.',\n  '#awful'],\n ['leave',\n  'it',\n  'on',\n  'there',\n  ',',\n  'rule',\n  ',',\n  'nimber',\n  '1',\n  'of',\n  'carpet',\n  'cleaning',\n  '!',\n  '!',\n  '!',\n  '#furious',\n  '#worsethananatomicbomb',\n  '#accidentlyspillbeeronthecarpet'],\n ['said',\n  'it',\n  'before',\n  'and',\n  'I',\n  'will',\n  'say',\n  'it',\n  'now',\n  ':',\n  'america',\n  'is',\n  'really',\n  'fortunate',\n  'that',\n  'black',\n  'people',\n  'only',\n  'want',\n  'equality',\n  'and',\n  'not',\n  'revenge',\n  '.'],\n ['@user',\n  'you',\n  'know',\n  'ion',\n  'play',\n  'that',\n  'shit',\n  'bout',\n  'my',\n  'weary',\n  'brother'],\n ['@user',\n  '@user',\n  'cmode',\n  'grimrail',\n  'made',\n  'me',\n  'want',\n  'to',\n  'eat',\n  'angry',\n  'bees'],\n ['happy',\n  'birthday',\n  '@user',\n  '#cheer',\n  '#cheerchick',\n  '#jeep',\n  '#jeepgirl',\n  '#idriveajeep',\n  '#jeepjeep',\n  '#cheer'],\n ['@user',\n  'i',\n  'assure',\n  'you',\n  'there',\n  'is',\n  'no',\n  'laughter',\n  ',',\n  'but',\n  'increasing',\n  'anger',\n  'at',\n  'the',\n  'costs',\n  ',',\n  'and',\n  'arrogance',\n  'of',\n  'westminster',\n  '.'],\n ['why',\n  'are',\n  'people',\n  'even',\n  'debating',\n  'on',\n  'race',\n  'inequality',\n  'within',\n  'our',\n  'justice',\n  'system',\n  'like',\n  'it',\n  'is',\n  'non',\n  'existent',\n  '?',\n  'they',\n  'are',\n  'just',\n  'trying',\n  'to',\n  'aggravate',\n  'us',\n  '.'],\n ['we',\n  'are',\n  'in',\n  'contained',\n  'depression',\n  '.',\n  'only',\n  'new',\n  'economic',\n  'engine',\n  'is',\n  '#sustainability',\n  ',',\n  'say',\n  'joel',\n  '@user',\n  '+',\n  '@user',\n  '@',\n  '#vergecon',\n  '.',\n  '#newgrandstrategy'],\n ['@user', '>', 'huff', 'louder'],\n ['@user',\n  'lol',\n  'i',\n  'thought',\n  'maybe',\n  ',',\n  'could',\n  'not',\n  'decide',\n  'if',\n  'there',\n  'was',\n  'levity',\n  'or',\n  'not'],\n ['there',\n  'is',\n  'a',\n  'certain',\n  'hilarity',\n  'in',\n  'people',\n  'angry',\n  'at',\n  'protests',\n  'against',\n  'the',\n  'national',\n  'anthem',\n  'or',\n  'the',\n  'flag',\n  'when',\n  'these',\n  'acts',\n  'are',\n  'covered',\n  'by',\n  '1st',\n  'amendment',\n  '.'],\n ['i',\n  'do',\n  'not',\n  'want',\n  'the',\n  'pity',\n  'of',\n  'my',\n  'instructors',\n  'but',\n  'I',\n  'would',\n  'like',\n  'some',\n  'understanding',\n  '.',\n  'I',\n  'am',\n  'truly',\n  'trying',\n  'despite',\n  'all',\n  'circumstances',\n  'that',\n  'make',\n  'me',\n  'discouraged'],\n ['communitysleepcoach',\n  ':',\n  'look',\n  'at',\n  'these',\n  '#narcoleptic',\n  '#puppies',\n  '.',\n  'make',\n  'you',\n  '#smile',\n  '.',\n  'if',\n  'you',\n  'are',\n  'human',\n  '&',\n  'find',\n  'yourself',\n  'in',\n  'such',\n  'odd',\n  'positions',\n  ',',\n  'seek',\n  '#th',\n  '…'],\n ['@user',\n  '9',\n  '-',\n  '9',\n  'vs',\n  'atlanta',\n  'this',\n  'yr',\n  ',',\n  '2',\n  '-',\n  '11',\n  'vs',\n  'rockies',\n  'and',\n  'dbacks',\n  'this',\n  'yr',\n  '.',\n  'that',\n  'is',\n  'a',\n  'combined',\n  '11',\n  '-',\n  '20',\n  'vs',\n  '3',\n  'atrocious',\n  'teams',\n  'in',\n  'nl',\n  '#awful'],\n ['@user',\n  '@user',\n  'experience',\n  'all',\n  'plays',\n  'a',\n  'role',\n  'in',\n  'that',\n  ',',\n  'it',\n  'is',\n  'education',\n  'and',\n  'preparedness',\n  'not',\n  'fear'],\n ['@user',\n  'appointment',\n  'booked',\n  'between',\n  '1-6',\n  'today',\n  ',',\n  'waited',\n  'in',\n  'all',\n  'day',\n  'and',\n  'nobody',\n  'showed',\n  'up',\n  ',',\n  'also',\n  'requested',\n  'a',\n  'call',\n  'back',\n  'and',\n  'never',\n  'got',\n  'one',\n  '#awful'],\n ['summer', 'officially', 'ends', 'today', '.', '#sadness'],\n ['@user',\n  'seriously',\n  'dude',\n  'buy',\n  'some',\n  'bubble',\n  'tape',\n  'for',\n  'your',\n  'phones',\n  '.',\n  '#snap',\n  'broke',\n  'another',\n  'phone'],\n ['@user',\n  'holy',\n  'shit',\n  '...',\n  'what',\n  'the',\n  'hell',\n  'happened',\n  'to',\n  'your',\n  'lips',\n  '!',\n  '!',\n  'fix',\n  'that',\n  'shit',\n  '!',\n  '#mtv',\n  '#teenmom',\n  '#horrible'],\n ['final',\n  'vestiges',\n  'of',\n  'my',\n  '90',\n  \"'\",\n  's',\n  'childhood',\n  'were',\n  'just',\n  'dashed',\n  'on',\n  'the',\n  'shoals',\n  'of',\n  'hearing',\n  'a',\n  'house',\n  'cover',\n  'of',\n  'tracy',\n  \"chapman's\",\n  \"'\",\n  'fast',\n  'car',\n  \"'\",\n  'at',\n  'the',\n  'dayjob'],\n ['maybe',\n  'the',\n  'entire',\n  'russian',\n  'team',\n  'will',\n  'test',\n  'positive',\n  'for',\n  'meldonium',\n  'and',\n  'the',\n  'north',\n  'americans',\n  'will',\n  'get',\n  'to',\n  'replace',\n  'them'],\n ['hey',\n  'folks',\n  'sorry',\n  'if',\n  'anything',\n  'offensive',\n  'got',\n  'posted',\n  'on',\n  'here',\n  'yesterday',\n  'my',\n  'account',\n  'got',\n  'hacked',\n  '.',\n  'all',\n  'fixed',\n  'now',\n  'though',\n  '.',\n  'i',\n  'hope',\n  ':-/',\n  '#angry',\n  '#annoyed'],\n ['in',\n  'my',\n  'dream',\n  '...',\n  'they',\n  'were',\n  'trying',\n  'to',\n  'steal',\n  'my',\n  'kidney',\n  '!',\n  '!',\n  '!',\n  '#blackmarket',\n  '#whydidiwatchthat'],\n ['i',\n  'was',\n  'not',\n  'made',\n  'for',\n  'this',\n  'world',\n  '.',\n  '#empath',\n  '#unhappy'],\n ['I', 'am', '...', 'nervous', 'about', 'this', 'test', 'rip'],\n ['ryan',\n  'gosling',\n  'and',\n  'eva',\n  'mendes',\n  'finally',\n  ';',\n  'b',\n  'joyful',\n  'an',\n  'funny',\n  '/',\n  'do',\n  'not',\n  'boss',\n  '/',\n  'do',\n  'not',\n  'argue',\n  '/',\n  'do',\n  'everything',\n  'with',\n  'kids',\n  '/',\n  'go',\n  'on',\n  'mini',\n  'car',\n  'trips',\n  '/',\n  'focus',\n  'on',\n  'love'],\n ['i',\n  'was',\n  'so',\n  'embarrassed',\n  'when',\n  'she',\n  'saw',\n  'us',\n  'i',\n  'was',\n  'like',\n  'knvfkkjg',\n  'she',\n  'thinks',\n  'we',\n  'are',\n  'stalkers',\n  'n',\n  'then',\n  'she',\n  'starts',\n  'waving',\n  'all',\n  'cheerfully',\n  'inviting',\n  'us',\n  'in',\n  '😩'],\n ['wow',\n  '...',\n  'one',\n  'of',\n  'my',\n  'dads',\n  'top',\n  'favorite',\n  'throwback',\n  'rappers',\n  'just',\n  'died',\n  'in',\n  'a',\n  'fiery',\n  'car',\n  'crash',\n  'today',\n  'in',\n  'atlanta',\n  ',',\n  'so',\n  'sad',\n  'so',\n  'sad',\n  '😷',\n  '😷'],\n ['i',\n  'cannot',\n  'wait',\n  'for',\n  'you',\n  'to',\n  'listen',\n  'to',\n  'my',\n  'new',\n  'single',\n  \"'\",\n  'mystery',\n  \"'\",\n  'and',\n  'my',\n  'new',\n  'album',\n  '😋',\n  '.',\n  '#newmusic',\n  '#newsingle',\n  '#newalbum',\n  '#2016',\n  '#popmusic',\n  '#dark'],\n ['anybody',\n  'know',\n  'a',\n  'good',\n  'place',\n  'to',\n  'book',\n  'a',\n  'show',\n  'in',\n  '#montreal',\n  'on',\n  'short',\n  'but',\n  'not',\n  'super-short',\n  'notice',\n  '?',\n  '#punkrock',\n  '#postpunk',\n  '#blues'],\n ['do',\n  'not',\n  'be',\n  '#afraid',\n  'of',\n  'the',\n  'space',\n  'between',\n  'your',\n  '#dreams',\n  'and',\n  '#reality',\n  '.',\n  'if',\n  'you',\n  'can',\n  '#dream',\n  'it',\n  ',',\n  'you',\n  'can',\n  '#make',\n  'it',\n  'so'],\n ['finally',\n  'leaving',\n  'my',\n  'first',\n  'job',\n  'soon',\n  '.',\n  'I',\n  'have',\n  'been',\n  'working',\n  'here',\n  'since',\n  'i',\n  'was',\n  '16',\n  '.',\n  'going',\n  'to',\n  'be',\n  'kind',\n  'of',\n  'bitter',\n  'sweet'],\n ['@user',\n  '@user',\n  'do',\n  'not',\n  'get',\n  'me',\n  'started',\n  'on',\n  'town',\n  'centre',\n  '.',\n  'used',\n  'to',\n  'go',\n  'every',\n  'week',\n  '...',\n  'not',\n  'been',\n  'for',\n  '18',\n  'months',\n  '#horrible'],\n ['will',\n  'brawndo',\n  'cure',\n  'my',\n  'depression',\n  '?',\n  '@user',\n  '#idiocracytoday'],\n ['why',\n  'is',\n  'it',\n  'that',\n  'we',\n  'rejoice',\n  'at',\n  'a',\n  'birth',\n  'and',\n  'grieve',\n  'at',\n  'a',\n  'funeral',\n  '?',\n  'it',\n  'is',\n  'because',\n  'we',\n  'are',\n  'not',\n  'the',\n  'person',\n  'involved',\n  '.',\n  '―',\n  'mark',\n  'twain'],\n ['i',\n  'dislike',\n  'people',\n  'who',\n  'get',\n  'offended',\n  'by',\n  'the',\n  'littlest',\n  'shit',\n  '.'],\n ['@user', 'you', 'look', 'adorable', 'awe'],\n ['new',\n  'play',\n  'through',\n  'tonight',\n  '!',\n  'pretty',\n  'much',\n  'a',\n  'blind',\n  'run',\n  '.',\n  'only',\n  'played',\n  'the',\n  'game',\n  'once',\n  'and',\n  'maybe',\n  'got',\n  '2',\n  'levels',\n  'it',\n  '.',\n  '#rage',\n  '#horror'],\n ['@user', 'ur', 'road', 'rage', 'gives', 'me', 'anxiety', '.'],\n ['@user',\n  'brings',\n  'back',\n  'great',\n  'memories',\n  'of',\n  'hilarity',\n  'on',\n  '#saturdaynightlive'],\n ['@user',\n  '@user',\n  'my',\n  'god',\n  'is',\n  '@user',\n  'a',\n  'full',\n  'shilling',\n  '?',\n  'seriously',\n  'you',\n  'need',\n  'a',\n  'major',\n  'rethink',\n  'or',\n  'no',\n  'lab',\n  'gove',\n  'in',\n  'your',\n  'lifetime',\n  '#sad'],\n ['significantly',\n  ',',\n  'with',\n  'a',\n  '#bitter',\n  'smile',\n  ',',\n  \"'\",\n  'let',\n  'me'],\n ['@user',\n  'just',\n  'trying',\n  'to',\n  'go',\n  'home',\n  'tonight',\n  '?',\n  'a',\n  'run',\n  'on',\n  '2nd',\n  'and',\n  '20',\n  'and',\n  'a',\n  'run',\n  'on',\n  '3rd',\n  'and',\n  '20',\n  '?',\n  'that',\n  'is',\n  'what',\n  'champs',\n  'do',\n  '...',\n  '#sike',\n  '#losers',\n  '#terrible'],\n ['@user',\n  'he',\n  'did',\n  'not',\n  'have',\n  'many',\n  'chances',\n  'to',\n  'show',\n  'what',\n  'he',\n  'can',\n  'do',\n  'but',\n  'looked',\n  'lively',\n  'and',\n  'had',\n  'a',\n  'good',\n  'shot',\n  'tipped',\n  'over',\n  'the',\n  'bar',\n  'before',\n  'the',\n  'end',\n  '.'],\n ['need',\n  'advice',\n  'on',\n  'how',\n  'to',\n  'get',\n  'out',\n  'of',\n  'this',\n  'rut',\n  '!',\n  '!',\n  '!',\n  '#needmotivation'],\n ['in',\n  'health',\n  'we',\n  'did',\n  'a',\n  'think',\n  'about',\n  'depression',\n  'and',\n  'now',\n  'i',\n  'feel',\n  'like',\n  'i',\n  'have',\n  'it'],\n ['@user',\n  'it',\n  'will',\n  'be',\n  'easy',\n  'to',\n  'spot',\n  'the',\n  'parade',\n  'of',\n  'tiny',\n  'weans',\n  'in',\n  'expensive',\n  'jammies',\n  '.',\n  'really',\n  'is',\n  'hilarious',\n  '!'],\n ['muscled',\n  'man',\n  'with',\n  'huge',\n  'heart',\n  'is',\n  'messing',\n  'with',\n  'my',\n  'brain',\n  'and',\n  'heart',\n  '.',\n  '#lost',\n  '#confused'],\n ['@user',\n  '@user',\n  '@user',\n  'trump',\n  'says',\n  'the',\n  'refugee',\n  'situation',\n  \"'\",\n  'is',\n  'not',\n  'just',\n  'about',\n  'terrorism',\n  'it',\n  'is',\n  'about',\n  'quality',\n  'of',\n  'life',\n  '.',\n  \"'\",\n  'take',\n  'note',\n  '.'],\n ['@user',\n  'I',\n  'am',\n  'wearing',\n  'all',\n  'black',\n  'tomorrow',\n  'to',\n  'mourn',\n  '.',\n  '😭',\n  '💔'],\n ['@user',\n  'he',\n  'is',\n  'right',\n  'when',\n  'the',\n  'civil',\n  'war',\n  'starts',\n  'it',\n  'will',\n  'be',\n  'wall',\n  'to',\n  'wall',\n  'terrorism',\n  'and',\n  'i',\n  'do',\n  'not',\n  'fancy',\n  'the',\n  \"muzzy's\",\n  'chances'],\n ['@user',\n  '*',\n  'laughs',\n  'louder',\n  'this',\n  'time',\n  ',',\n  'shaking',\n  'my',\n  'head',\n  '*',\n  'that',\n  'was',\n  'really',\n  'cheesy',\n  ',',\n  'was',\n  'not',\n  'it',\n  '?'],\n ['when',\n  'my',\n  '4yo',\n  'is',\n  'gone',\n  'i',\n  'blast',\n  'gothcore',\n  'music',\n  '.',\n  'she',\n  'has',\n  '#anxiety',\n  '&',\n  'i',\n  'cannot',\n  'listen',\n  '2',\n  'it',\n  'around',\n  'her',\n  'bcuz',\n  'it',\n  'is',\n  \"'\",\n  'too',\n  'spooky',\n  \"'\",\n  '.',\n  '*',\n  'sigh',\n  '*',\n  '#momlife'],\n ['@user', 'glee'],\n ['gloriosa',\n  'bazigaga',\n  'on',\n  '#rwanda',\n  'work',\n  ':',\n  \"'\",\n  'i',\n  'lost',\n  'relatives',\n  'in',\n  'genocide',\n  'but',\n  '15',\n  'yrs',\n  'of',\n  'peacebuilding',\n  'has',\n  'given',\n  'me',\n  'optimism',\n  'it',\n  'has',\n  'within',\n  'our',\n  'power',\n  \"'\"],\n ['@user',\n  '#mhchat',\n  'childhood',\n  'experiences',\n  'inform',\n  'adult',\n  'relationships',\n  '.',\n  'we',\n  'have',\n  'associative',\n  'memories',\n  'not',\n  'a',\n  'question',\n  'of',\n  'ability',\n  'to',\n  'process'],\n ['texans',\n  'and',\n  'astros',\n  'both',\n  'shut',\n  'out',\n  'tonight',\n  '.',\n  'houston',\n  ',',\n  'we',\n  'are',\n  'back',\n  'to',\n  'normal',\n  '.',\n  '#texans',\n  '#astros',\n  '#sadness',\n  '#losers'],\n ['@user', 'nick', 'fury'],\n ['and',\n  'I',\n  'am',\n  'up',\n  'from',\n  'a',\n  'dream',\n  'where',\n  'i',\n  'said',\n  'something',\n  'really',\n  'retarded',\n  'on',\n  'twitter',\n  'and',\n  'it',\n  'got',\n  'like',\n  '10000',\n  'retweets',\n  '#nightmare'],\n ['@user',\n  '@user',\n  'do',\n  'not',\n  'get',\n  'me',\n  'started',\n  'on',\n  'town',\n  'centre',\n  '.',\n  'used',\n  'to',\n  'go',\n  'every',\n  'week',\n  '...',\n  'not',\n  'been',\n  'for',\n  '18',\n  'months'],\n ['@user', 'both', ',', 'scrap', '*', 'll', 'the', 'rage', 'instead'],\n ['just',\n  'told',\n  'me',\n  'wife',\n  'there',\n  'was',\n  'a',\n  'chance',\n  'it',\n  'would',\n  'be',\n  '2',\n  'sydney',\n  'teams',\n  'in',\n  'afl',\n  'grand',\n  'final',\n  '.',\n  'her',\n  'response',\n  ':',\n  \"'\",\n  'there',\n  'is',\n  'two',\n  'sydney',\n  'afl',\n  'teams',\n  '?',\n  \"'\",\n  '#serious'],\n ['@user',\n  'wow',\n  'I',\n  'am',\n  'just',\n  'really',\n  'sadden',\n  'by',\n  'that',\n  '.',\n  'terrible'],\n ['i',\n  'meet',\n  'new',\n  'people',\n  'and',\n  'i',\n  'had',\n  'to',\n  'grow',\n  'up',\n  'with',\n  'the',\n  'reality',\n  'that',\n  'people',\n  'can',\n  'be',\n  'desgusting',\n  'and',\n  'fake',\n  'and',\n  'so',\n  'i',\n  'lost',\n  'my',\n  'cheerfulness',\n  'and',\n  'started',\n  'to'],\n ['urgent',\n  'need',\n  'to',\n  'get',\n  'a',\n  'new',\n  'job',\n  '.',\n  'the',\n  'constant',\n  'gloom',\n  'of',\n  'my',\n  'current',\n  'one',\n  'is',\n  'getting',\n  'a',\n  'bit',\n  'ridiculous',\n  'now',\n  '.'],\n ['these',\n  'girls',\n  'who',\n  'are',\n  'playful',\n  'and',\n  'childlike',\n  'seem',\n  'to',\n  'have',\n  'such',\n  'lovely',\n  'relationships',\n  '.',\n  'cannot',\n  'imagine',\n  'them',\n  'having',\n  'serious',\n  'convos',\n  'but',\n  'it',\n  'is',\n  'cute',\n  '😍',\n  '😍'],\n ['I',\n  'am',\n  'absolutely',\n  'in',\n  'love',\n  'with',\n  'laurie',\n  'hernandez',\n  ',',\n  'she',\n  'is',\n  'so',\n  'adorable',\n  'and',\n  'is',\n  'always',\n  'so',\n  'cheerful',\n  '!'],\n ['why',\n  'is',\n  'it',\n  'so',\n  'windy',\n  '?',\n  'so',\n  'glad',\n  'i',\n  'did',\n  'not',\n  'ride',\n  'my',\n  'bike',\n  '.',\n  '#fear',\n  '#wind'],\n ['the',\n  'point',\n  'of',\n  'living',\n  ',',\n  'and',\n  'being',\n  'an',\n  'optimist',\n  ',',\n  'is',\n  'to',\n  'be',\n  'foolish',\n  'enough',\n  'to',\n  'believe',\n  'the',\n  'best',\n  'is',\n  'yet',\n  'to',\n  'come',\n  \"'\",\n  '-',\n  'peter',\n  'ustinov',\n  '#optimism',\n  '#quote'],\n ['@user',\n  '@user',\n  'quite',\n  'the',\n  'response',\n  'of',\n  'retaliation',\n  'from',\n  'weiner',\n  'in',\n  'getting',\n  'revenge',\n  'on',\n  'huma',\n  '&',\n  'hillary',\n  \"'\",\n  'clam',\n  'digging',\n  \"'\",\n  '.',\n  '#allscumbags'],\n ['@user',\n  '@user',\n  'they',\n  'are',\n  'both',\n  'pretty',\n  'awful',\n  'when',\n  'you',\n  'look',\n  'at',\n  'them',\n  'historically'],\n ['broken',\n  'policy',\n  \"'\",\n  '#blasio',\n  '<',\n  '>',\n  '#trump',\n  '#giuliani',\n  \"'\",\n  'broken',\n  'windows',\n  \"'\",\n  'all',\n  'part',\n  'of',\n  \"'\",\n  'pecking',\n  'order',\n  \"'\",\n  '#bully',\n  'politics',\n  '#america',\n  'resist',\n  '#motto'],\n ['mate',\n  'the',\n  'thing',\n  'i',\n  'get',\n  'excited',\n  'about',\n  'in',\n  'my',\n  'profession',\n  'are',\n  'mad',\n  '.',\n  'a',\n  'client',\n  'said',\n  'she',\n  'opened',\n  'her',\n  'bowels',\n  ',',\n  'I',\n  'am',\n  'rejoicing'],\n ['@user',\n  \"'\",\n  'do',\n  'not',\n  'you',\n  'know',\n  'how',\n  'nervous',\n  'i',\n  'was',\n  'to',\n  'see',\n  'you',\n  '?',\n  \"'\"],\n ['@user',\n  'worst',\n  'than',\n  'going',\n  'to',\n  'the',\n  'morgue',\n  'to',\n  'do',\n  'a',\n  'positive',\n  'id',\n  '.',\n  '#horrible',\n  'reuters'],\n ['@user',\n  'that',\n  'is',\n  'one',\n  'thing',\n  'but',\n  'attacking',\n  'and',\n  'hating',\n  'is',\n  'worse',\n  '-',\n  'that',\n  'makes',\n  'us',\n  'just',\n  'like',\n  'the',\n  'angry',\n  'vengeful',\n  'behavior',\n  'we',\n  'detest'],\n ['@user',\n  'wow',\n  ',',\n  'your',\n  'right',\n  'they',\n  'do',\n  'need',\n  'help',\n  ',',\n  'so',\n  'what',\n  'I',\n  'am',\n  'getting',\n  'from',\n  'the',\n  'laureliver',\n  'fandom',\n  'and',\n  'bitter',\n  'comic',\n  'fandom',\n  'and'],\n ['I', 'am', 'such', 'a', 'shy', 'girl', '🙄'],\n ['mmmm',\n  'I',\n  'am',\n  'kind',\n  'of',\n  'sad',\n  'i',\n  'hope',\n  'i',\n  'can',\n  'shake',\n  'this',\n  'before',\n  'school'],\n ['every',\n  'day',\n  'i',\n  'think',\n  'my',\n  '#house',\n  '🏡',\n  'is',\n  '#burning',\n  '🔥',\n  'but',\n  'it',\n  'is',\n  'always',\n  'just',\n  'my',\n  'neighbor',\n  'burning',\n  'their',\n  '#toast',\n  '!',\n  '😷',\n  '😡',\n  '🍞'],\n ['in',\n  'fact',\n  ',',\n  'sometimes',\n  'i',\n  'do',\n  'not',\n  'get',\n  'furious',\n  'at',\n  'people',\n  'who',\n  'wrong',\n  'me',\n  ',',\n  'but',\n  'i',\n  'get',\n  'furious',\n  'at',\n  'myself',\n  'for',\n  'being',\n  'a',\n  'fool',\n  '.'],\n ['@user',\n  '#nothappy',\n  'and',\n  'still',\n  '#charging',\n  'the',\n  '#fullprice',\n  '😡',\n  '😡',\n  '#fuming',\n  'some',\n  'your',\n  '#bestrides',\n  '😳',\n  '😳'],\n ['everyone', 'is', 'raging'],\n ['sometimes',\n  'i',\n  'get',\n  'mad',\n  'over',\n  'something',\n  'so',\n  'minuscule',\n  'i',\n  'try',\n  'to',\n  'ruin',\n  'somebodies',\n  'life',\n  'not',\n  'like',\n  'lose',\n  'your',\n  'job',\n  'like',\n  'get',\n  'you',\n  'into',\n  'federal',\n  'prison',\n  '#anger'],\n ['@user',\n  '@user',\n  'the',\n  'refs',\n  'are',\n  'in',\n  \"gt's\",\n  'favor',\n  'tonight',\n  '.'],\n [\"nl's\",\n  'top',\n  'bureaucrat',\n  'is',\n  'a',\n  'director',\n  'of',\n  'a',\n  'group',\n  'formed',\n  'to',\n  'oppose',\n  \"nl's\",\n  'top',\n  'megaproject',\n  '.',\n  '#nlpoli',\n  '-',\n  'never',\n  'dull'],\n ['watch',\n  'this',\n  'amazing',\n  'live.ly',\n  'broadcast',\n  'by',\n  '@user',\n  '#musically'],\n ['no',\n  'one',\n  'wants',\n  'to',\n  'win',\n  'the',\n  'wild',\n  'card',\n  'because',\n  'you',\n  'have',\n  'to',\n  'play',\n  'the',\n  'cubs',\n  'on',\n  'the',\n  'road',\n  '.',\n  '#sadness'],\n ['@user',\n  '@user',\n  'amal',\n  'clooney',\n  'should',\n  'try',\n  'to',\n  'prosecute',\n  '#bush',\n  '/',\n  '#blair',\n  'for',\n  '#war',\n  'crimes',\n  'that',\n  'turned',\n  'our',\n  'world',\n  'upside',\n  'down',\n  '&',\n  'created',\n  '#terrorism'],\n ['@user',\n  'stop',\n  'the',\n  'presses',\n  ',',\n  '@user',\n  'said',\n  '/',\n  'proposed',\n  'something',\n  'racist',\n  '.',\n  '#shocking'],\n ['@user',\n  'is',\n  'not',\n  'obrien',\n  'supposed',\n  'to',\n  'be',\n  'some',\n  'sort',\n  'of',\n  'offensive',\n  'genius'],\n ['good',\n  'morning',\n  'chirpy',\n  '#springequinox',\n  'and',\n  'your',\n  'pensive',\n  'sister',\n  '#autumnequinox',\n  'a',\n  'perfect',\n  'day',\n  'however',\n  'it',\n  'is',\n  'expressed',\n  '🌹',\n  '🍁',\n  '🌓',\n  '☯',\n  '️',\n  '#thebeautyofbalance'],\n ['@user',\n  'do',\n  'we',\n  'think',\n  'the',\n  'swallows',\n  'and',\n  'swifts',\n  'have',\n  'gone',\n  '?',\n  \"photo'd\",\n  '3',\n  'nights',\n  'ago',\n  ',',\n  'not',\n  'seen',\n  'since',\n  '.',\n  '#sad',\n  '#autumn'],\n ['i',\n  'told',\n  'my',\n  'chiropractor',\n  \"'\",\n  'I',\n  'am',\n  'here',\n  'for',\n  'a',\n  'good',\n  'time',\n  'not',\n  'a',\n  'long',\n  'time',\n  \"'\",\n  'when',\n  'he',\n  'questioned',\n  'my',\n  'habits',\n  'and',\n  'yet',\n  'again',\n  'i',\n  'have',\n  'unnerved',\n  'a',\n  'doctor'],\n ['lady',\n  'gaga',\n  'fucking',\n  'followed',\n  'i',\n  'have',\n  'been',\n  'waiting',\n  'for',\n  'this',\n  'day',\n  'for',\n  'ages',\n  'it',\n  'fucking',\n  'happened',\n  'I',\n  'am',\n  'shaking',\n  'thank',\n  'you',\n  'so',\n  'much',\n  '@user',\n  '❤',\n  '️'],\n ['@user',\n  'you',\n  'came',\n  'in',\n  'at',\n  'silly',\n  'of',\n  'the',\n  'clock',\n  'and',\n  'woke',\n  'me',\n  'up',\n  'that',\n  'is',\n  'what',\n  'happened',\n  '#wasted',\n  '#fuming'],\n ['@user', '@user', 'the', 'gleesome', 'threesome'],\n ['@user',\n  'i',\n  'think',\n  'you',\n  'should',\n  'do',\n  '.',\n  'get',\n  'the',\n  'fashion',\n  'police',\n  'involved',\n  '.',\n  '#shocking'],\n ['wishing',\n  'i',\n  'was',\n  'rich',\n  'so',\n  'i',\n  'did',\n  'not',\n  'have',\n  'to',\n  'get',\n  'up',\n  'this',\n  'morning',\n  '#poor',\n  '#sleepy',\n  '#sad',\n  '#needsmoresleep'],\n ['@user',\n  'relentless',\n  'echo',\n  'chamber',\n  '-',\n  'negative',\n  'comments',\n  'with',\n  'lots',\n  'of',\n  'reverb',\n  '.',\n  'typical',\n  'bully',\n  'behavior',\n  '.'],\n ['@user',\n  'thank',\n  'you',\n  'for',\n  'follow',\n  'and',\n  'its',\n  'a',\n  'good',\n  'website',\n  'you',\n  'have',\n  'and',\n  'cheering',\n  'with',\n  'no',\n  'hassle',\n  '.'],\n ['@user',\n  'people',\n  'have',\n  'so',\n  'much',\n  'negativity',\n  'filled',\n  'inside',\n  'them',\n  'but',\n  'I',\n  'am',\n  'always',\n  'happy',\n  'that',\n  'in',\n  'such',\n  'a',\n  'gloomy',\n  'world',\n  'someone',\n  'like',\n  'you',\n  'exists',\n  'namjoon'],\n ['when',\n  'something',\n  'makes',\n  'you',\n  'excited',\n  ',',\n  'terrified',\n  ',',\n  'thrilled',\n  ',',\n  'nervous',\n  ',',\n  'elated',\n  '&',\n  'like',\n  'you',\n  'have',\n  'been',\n  'kicked',\n  'in',\n  'the',\n  'guts',\n  'all',\n  'at',\n  'once',\n  '.',\n  'need',\n  'word',\n  'for',\n  'that'],\n ['@user',\n  'that',\n  'is',\n  'not',\n  'easy',\n  'to',\n  'blow',\n  'up',\n  'the',\n  'lt',\n  'on',\n  'a',\n  'run',\n  'play',\n  '.',\n  'he',\n  'created',\n  'the',\n  'seam',\n  'for',\n  'sua',\n  'to',\n  'burst',\n  'through'],\n ['@user',\n  '@user',\n  'but',\n  'i',\n  'decided',\n  'to',\n  'be',\n  'a',\n  'bit',\n  'lackadaisical',\n  'about',\n  'getting',\n  'dressed',\n  'to',\n  'get',\n  'groceries',\n  '.'],\n ['@user',\n  'optimism',\n  'is',\n  'he',\n  'will',\n  'lose',\n  ',',\n  'that',\n  'is',\n  'actually',\n  'a',\n  'compromise',\n  ':p'],\n ['@user',\n  \"'\",\n  'it',\n  'is',\n  'alright',\n  '!',\n  \"'\",\n  'she',\n  'said',\n  'cheerfully',\n  'trying',\n  'to',\n  'make',\n  'the',\n  'moment',\n  'fun'],\n ['@user',\n  'they',\n  'might',\n  'get',\n  'donal',\n  'óg',\n  'sure',\n  '!',\n  'they',\n  'will',\n  'not',\n  'have',\n  'him',\n  'in',\n  'cork',\n  'as',\n  'he',\n  'is',\n  'to',\n  'fiery',\n  'for',\n  'dopey',\n  'frank',\n  '&',\n  'his',\n  'cult'],\n ['ppl', 'like', 'that', 'irritate', 'my', 'soul'],\n ['@user',\n  'at',\n  'least',\n  'his',\n  'character',\n  'in',\n  'fast',\n  'and',\n  'furious',\n  'pumped',\n  'some',\n  'adrenaline',\n  'into',\n  'the',\n  'franchise',\n  '.',\n  'but',\n  'that',\n  'is',\n  'about',\n  'it'],\n ['now',\n  'that',\n  '@user',\n  'has',\n  'snapchat',\n  'back',\n  'it',\n  'has',\n  'a',\n  'constant',\n  'battle',\n  'to',\n  'see',\n  'who',\n  'can',\n  'get',\n  'the',\n  'ugliest',\n  'snap',\n  'of',\n  'one',\n  'another',\n  '😂',\n  '🙃',\n  '#snap',\n  'survival'],\n ['@user',\n  'he',\n  'is',\n  'just',\n  'too',\n  'raging',\n  'to',\n  'type',\n  'properly',\n  '...',\n  'ha',\n  'ha',\n  '!'],\n ['pakistan',\n  'continues',\n  'to',\n  'treat',\n  '#terror',\n  'as',\n  'a',\n  'matter',\n  'of',\n  'state',\n  'policy',\n  'says',\n  '@user',\n  '#uriattack'],\n ['i',\n  'have',\n  'so',\n  'much',\n  'hair',\n  'it',\n  'is',\n  'a',\n  'nightmare',\n  'but',\n  'it',\n  'is',\n  'also',\n  'very',\n  'soft',\n  'so',\n  'it',\n  'guess',\n  'it',\n  'is',\n  'a',\n  'win-lose',\n  'situation'],\n ['@user',\n  '@user',\n  'whatever',\n  'sam',\n  'is',\n  'holding',\n  'on',\n  'your',\n  'tee',\n  'looks',\n  'like',\n  'it',\n  'is',\n  'got',\n  'a',\n  'droop',\n  'on',\n  '😂'],\n ['one',\n  'step',\n  'forward',\n  ',',\n  'two',\n  'steps',\n  'backward',\n  ',',\n  'the',\n  'link',\n  'to',\n  'rogerfederershop',\n  'doesn',\n  '´',\n  't',\n  'work',\n  '.',\n  '😰',\n  'i',\n  'am',\n  'losing',\n  'hope',\n  'about',\n  'roger',\n  'federer',\n  'new',\n  'website',\n  '#sadness'],\n ['the',\n  'pats',\n  'are',\n  'awesome',\n  '.',\n  'belichick',\n  'is',\n  'awesome',\n  '...',\n  'they',\n  'just',\n  'are',\n  '.'],\n ['do',\n  'not',\n  'join',\n  '@user',\n  'they',\n  'put',\n  'the',\n  'phone',\n  'down',\n  'on',\n  'you',\n  ',',\n  'talk',\n  'over',\n  'you',\n  'and',\n  'are',\n  'rude',\n  '.',\n  'taking',\n  'money',\n  'out',\n  'of',\n  'my',\n  'acc',\n  'willynilly',\n  '!'],\n ['@user',\n  '@user',\n  '@user',\n  '@user',\n  'take',\n  '2k',\n  'out',\n  'of',\n  'it',\n  'the',\n  'numbers',\n  'on',\n  'madden',\n  'are',\n  'low',\n  'and',\n  'have',\n  'dropped',\n  'and',\n  'people',\n  'are',\n  'unhappy'],\n ['@user',\n  'no',\n  '!',\n  'by',\n  'you',\n  'all',\n  'i',\n  'mean',\n  'rioting',\n  ',',\n  'fire',\n  'starting',\n  ',',\n  'business',\n  'burning',\n  ',',\n  'looting',\n  'assholes',\n  '!',\n  'that',\n  'create',\n  '#blacklivesmatter'],\n ['hms', 'pinafore', \"'\", 'time', '.', 'i', 'need', 'some', 'mirth', '.'],\n ['grim',\n  'and',\n  'despair',\n  'feeling-i',\n  'look',\n  'at',\n  'self',\n  'and',\n  'my',\n  'family',\n  '.',\n  'hubby',\n  'fought',\n  '20',\n  '+',\n  'years',\n  'for',\n  'this',\n  'country',\n  '.',\n  'I',\n  'have',\n  'worked',\n  '20',\n  '+',\n  'years',\n  'for',\n  'this',\n  'govt',\n  '-->'],\n ['#coincidence',\n  '?',\n  '?',\n  '?',\n  'when',\n  'you',\n  'turn',\n  'on',\n  'the',\n  'tv',\n  ',',\n  'etc',\n  '.',\n  '&',\n  'listen',\n  '&',\n  'watch',\n  ',',\n  'the',\n  'objective',\n  'is',\n  'to',\n  '#captureyourmind',\n  'with',\n  '#fear',\n  '&',\n  '#depression',\n  '.',\n  '#findgodnow',\n  '!',\n  '!',\n  '!'],\n ['turkish',\n  'exhilaration',\n  ':',\n  'for',\n  'a',\n  '30',\n  '%',\n  'shade',\n  'off',\n  'irruptive',\n  'russian',\n  'visitors',\n  'this',\n  'twelvemonth',\n  ',',\n  'gobbler',\n  'is',\n  'nephalism',\n  'so',\n  '...'],\n ['when',\n  'will',\n  'the',\n  'weeks',\n  'full',\n  'of',\n  'mondays',\n  'end',\n  '?',\n  '?',\n  '#disheartened'],\n ['@user',\n  'I',\n  'am',\n  'not',\n  'on',\n  'about',\n  'history',\n  'or',\n  'other',\n  'people',\n  ',',\n  'I',\n  'am',\n  'on',\n  'about',\n  'you',\n  '.',\n  'I',\n  'have',\n  'bullied',\n  'no',\n  'one',\n  ',',\n  'i',\n  'make',\n  'three',\n  'posts',\n  'and',\n  'you',\n  'attack',\n  '#bully'],\n ['@user',\n  'way',\n  'to',\n  'go',\n  '#london',\n  '.',\n  'nice',\n  'job',\n  'electing',\n  'a',\n  '#muslim',\n  '#jihadist',\n  'for',\n  'mayor',\n  '.',\n  'good',\n  'luck',\n  'with',\n  'your',\n  'future',\n  '#terror',\n  'attacks',\n  '#sadiqkhan'],\n ['pull',\n  'over',\n  '#tonight',\n  'and',\n  'make',\n  'your',\n  'car',\n  '#shake',\n  '😋',\n  '💦'],\n ['feeling', '#gloomy'],\n ['b',\n  'day',\n  'next',\n  'week',\n  ',',\n  'catch',\n  'the',\n  'sauce',\n  'and',\n  'watch',\n  'the',\n  'heaviness',\n  '!'],\n ['carry',\n  'on',\n  'my',\n  'wayward',\n  'son',\n  ',',\n  \"there'll\",\n  'be',\n  'peace',\n  'when',\n  'you',\n  'are',\n  'done',\n  '.',\n  'lay',\n  'your',\n  'weary',\n  'head',\n  'to',\n  'rest',\n  '.',\n  'do',\n  'not',\n  'you',\n  'cry',\n  'no',\n  'more',\n  '.',\n  '#supernatural'],\n ['@user', 'cyber', 'bully'],\n ['@user',\n  'i',\n  'found',\n  'the',\n  'first',\n  'few',\n  'episodes',\n  'of',\n  'bojack',\n  'incredibly',\n  'funny',\n  '.',\n  'then',\n  'it',\n  'got',\n  'less',\n  'funny',\n  'but',\n  'i',\n  'stayed',\n  'for',\n  'the',\n  '#drama'],\n ['10',\n  'page',\n  'script',\n  'due',\n  'friday',\n  'for',\n  'class',\n  '.',\n  'who',\n  'said',\n  'i',\n  'could',\n  'do',\n  'this',\n  'mfa',\n  'thing',\n  '?',\n  '#gradschoolproblems',\n  '#someonetelltinafeytohireme'],\n ['riggs', 'dumb', 'ass', 'hell', 'lolol', '#hilarious', '#lethalweapon'],\n ['@user', 'bully'],\n ['india',\n  'should',\n  'now',\n  'react',\n  'to',\n  'the',\n  'uri',\n  'attack',\n  '...',\n  '#revenge'],\n ['well',\n  'stock',\n  'finished',\n  '&',\n  'listed',\n  ',',\n  'living',\n  'room',\n  'moved',\n  'around',\n  ',',\n  'new',\n  'editing',\n  'done',\n  '&',\n  'fitted',\n  'in',\n  'a',\n  'visit',\n  'to',\n  'the',\n  'in-laws',\n  '.',\n  '#productivityatitsfinest',\n  '#happy'],\n ['@user',\n  'where',\n  'is',\n  'the',\n  'outrage',\n  'when',\n  'black',\n  'children',\n  'get',\n  'killed',\n  'in',\n  'the',\n  'crossfire',\n  'between',\n  'blacks',\n  'shooting',\n  'each',\n  'other',\n  '?'],\n ['@user',\n  'a',\n  'rabid',\n  'dog',\n  'being',\n  'ridden',\n  'by',\n  'the',\n  'child',\n  'who',\n  'has',\n  'eaten',\n  'all',\n  'the',\n  'flesh',\n  'off',\n  'one',\n  'fellow',\n  'and',\n  'the',\n  'limbs',\n  'of',\n  'the',\n  'other',\n  'adults',\n  '.'],\n ['@user',\n  'watched',\n  'the',\n  'cobblers',\n  'loads',\n  'this',\n  'season',\n  'how',\n  'is',\n  'gorre',\n  'a',\n  'pro',\n  'footballler',\n  'terrible'],\n ['putin',\n  'feels',\n  'it',\n  'acceptable',\n  'to',\n  'bomb',\n  '&',\n  'kill',\n  'aid',\n  'workers',\n  '.',\n  'soon',\n  'he',\n  'may',\n  'be',\n  'sitting',\n  'at',\n  'the',\n  'same',\n  'table',\n  'as',\n  'trump',\n  '!',\n  '!',\n  '#armageddon',\n  '#usapleasedont'],\n ['why',\n  'do',\n  'people',\n  'gotta',\n  'start',\n  'so',\n  'much',\n  'drama',\n  '?',\n  'shoot',\n  'me',\n  '☹',\n  '️'],\n ['did',\n  'we',\n  'miss',\n  'the',\n  'fact',\n  'that',\n  '#burkeramsey',\n  'swung',\n  '&',\n  'hit',\n  'his',\n  'sister',\n  '#jonbenet',\n  'in',\n  'the',\n  'face',\n  'with',\n  'a',\n  'golf',\n  'club',\n  'previously',\n  'out',\n  'of',\n  'a',\n  'fit',\n  'of',\n  '?'],\n ['nooooo', '.', 'poor', 'blue', 'bell', '!', 'not', 'again', '.', '#sad'],\n ['@user',\n  '@user',\n  '#muslims',\n  'have',\n  'been',\n  'in',\n  'usa',\n  'for',\n  'ages',\n  '.',\n  'to',\n  'think',\n  'that',\n  'muslims',\n  'commit',\n  '#terrorism',\n  'due',\n  'to',\n  '#islam',\n  ',',\n  'you',\n  'gotta',\n  'be',\n  'out',\n  'of',\n  'your',\n  'mind',\n  '.'],\n ['@user',\n  'i',\n  'am',\n  'angry',\n  'at',\n  'the',\n  'student',\n  'for',\n  'being',\n  'a',\n  'racist',\n  ',',\n  'and',\n  'the',\n  'teacher',\n  'for',\n  'not',\n  'stopping',\n  'it',\n  ',',\n  'and',\n  'at',\n  'the',\n  'class',\n  'for',\n  'letting',\n  'it',\n  'go',\n  'by',\n  '.'],\n ['if',\n  'you',\n  'think',\n  'you',\n  'are',\n  'good',\n  'to',\n  'go',\n  'already',\n  ',',\n  'do',\n  'not',\n  'worry',\n  'about',\n  'it',\n  '.'],\n ['wine',\n  'drunk',\n  'is',\n  'the',\n  'worst',\n  'version',\n  'of',\n  'myself',\n  'ffs',\n  ',',\n  'do',\n  'not',\n  'even',\n  'remember',\n  'seeing',\n  'basshunter'],\n ['the', 'bounty', 'hunter', 'things', 'a', 'bit', 'lively'],\n ['that',\n  'feeling',\n  'you',\n  'get',\n  'when',\n  'you',\n  'know',\n  'the',\n  'information',\n  'but',\n  'scared',\n  'you',\n  'might',\n  'do',\n  'bad',\n  'on',\n  'a',\n  'test',\n  '#collegelife',\n  '#nervous',\n  '😥',\n  '😥'],\n ['@user',\n  'supine',\n  'on',\n  'the',\n  'piano',\n  '—',\n  'lips',\n  'parted',\n  '.',\n  '#sixwordstory',\n  '#amwriting',\n  '#blues',\n  '#singer'],\n ['@user',\n  'thanks',\n  'ryan',\n  '&',\n  'brad',\n  'for',\n  'scary',\n  'the',\n  'shit',\n  'out',\n  'of',\n  'us',\n  'in',\n  'the',\n  'first',\n  'episode',\n  '.',\n  'do',\n  'not',\n  'think',\n  'my',\n  'heart',\n  'will',\n  'make',\n  'it',\n  'through',\n  'the',\n  's6'],\n ['always',\n  'borrow',\n  'money',\n  'from',\n  'a',\n  'pessimist',\n  ';',\n  'he',\n  'does',\n  'not',\n  'expect',\n  'to',\n  'be',\n  'paid',\n  'back',\n  '.'],\n ['7', 'pax', 'enjoyed', 'the', '#gloom', '@user', '@user'],\n ['condolences', 'to', 'the', 'jc', 'and', 'the', 'georges', 'family', '..'],\n ['@user', 'snap', ',', 'seems', 'to', 'be', 'a', 'problem', 'here'],\n ['@user', 'likewise', '#death', '#cutting', '#despair'],\n ['they',\n  'going',\n  'to',\n  'give',\n  'this',\n  'kkk',\n  'police',\n  'bitch',\n  'the',\n  'minimum',\n  'sentence',\n  '..',\n  'just',\n  'wattch'],\n ['i',\n  'feel',\n  'like',\n  'an',\n  'appendix',\n  '.',\n  'i',\n  'do',\n  'not',\n  'have',\n  'a',\n  'purpose',\n  '.',\n  '#depressed',\n  '#alone',\n  '#lonely',\n  '#broken',\n  '#cry',\n  '#hurt',\n  '#crying',\n  '#life'],\n ['#travelfail',\n  '#virgin',\n  '#virginaus',\n  'and',\n  '#etihad',\n  '#nightmare',\n  '...',\n  'and',\n  'now',\n  'we',\n  'are',\n  'also',\n  'delayed',\n  '.',\n  '#obvs',\n  '🙄',\n  '😠'],\n ['#tulsa',\n  '-',\n  'police',\n  'manufacture',\n  'murder',\n  '...',\n  'wonder',\n  'why',\n  'we',\n  'carry',\n  'burners',\n  '...',\n  '?',\n  '-',\n  'maxlevelz'],\n ['dehydrated',\n  ',',\n  'exhausted',\n  ',',\n  'stressed',\n  'but',\n  'still',\n  'blessed',\n  '.',\n  '#optimism'],\n ['us',\n  'you',\n  'need',\n  'to',\n  'band',\n  'together',\n  'not',\n  'apart',\n  '#nevertrump',\n  'he',\n  'promotes',\n  'hatred',\n  'and',\n  'fuels'],\n ['@user',\n  'it',\n  'is',\n  'fucking',\n  'dreadful',\n  'for',\n  'live',\n  'footy',\n  'matches'],\n ['@user',\n  '@user',\n  'because',\n  'distrust',\n  'in',\n  'life',\n  ',',\n  'argentina',\n  'has',\n  'a',\n  'lot',\n  'of',\n  'heart',\n  'and',\n  'this',\n  'president',\n  'is',\n  'worth',\n  'every',\n  'vote',\n  '.'],\n ['she',\n  'is',\n  'foaming',\n  'at',\n  'the',\n  'lips',\n  'the',\n  'one',\n  'between',\n  'her',\n  'hips',\n  '@user',\n  'one',\n  'of',\n  'many',\n  'great',\n  'lyrics'],\n ['@user',\n  'i',\n  'guess',\n  'it',\n  'must',\n  'be',\n  'really',\n  'expensive',\n  '...',\n  'for',\n  'me',\n  'it',\n  'is',\n  'that',\n  'the',\n  'whole',\n  'family',\n  'stayed',\n  'in',\n  'poland',\n  ',',\n  'so',\n  'i',\n  'really',\n  'miss',\n  'them',\n  '...'],\n ['@user',\n  '@user',\n  '@user',\n  '@user',\n  '@user',\n  'i',\n  'understand',\n  'your',\n  'concerns',\n  'but',\n  'look',\n  'at',\n  'her',\n  'foundation',\n  'contributions'],\n ['someone',\n  'let',\n  'snakes',\n  'in',\n  'my',\n  'house',\n  ',',\n  'i',\n  'bet',\n  'it',\n  '@user',\n  'i',\n  'kill',\n  'that',\n  'bugger',\n  'when',\n  'i',\n  'get',\n  'my',\n  'hands',\n  'on',\n  'him',\n  '#huckfp2'],\n ['fake', 'people', 'irritate', 'me'],\n ['@user',\n  '#fmf',\n  'protesters',\n  'are',\n  'not',\n  'interested',\n  'in',\n  'reasoned',\n  'debate',\n  ',',\n  'just',\n  '#intimidation',\n  '#violence',\n  '&',\n  '#disruption',\n  'to',\n  'get',\n  'demands',\n  'met'],\n ['lunatic',\n  'asylum',\n  ':',\n  'the',\n  'place',\n  'where',\n  'optimism',\n  'most',\n  'flourishes',\n  '.'],\n ['damn',\n  'gud',\n  '#premiere',\n  '#lethalweapon',\n  '...',\n  '#funny',\n  'and',\n  '#serious'],\n ['@user', '@user', 'all', 'the', 'bully'],\n ['it',\n  'appears',\n  'my',\n  'fire',\n  'alarm',\n  'disapproves',\n  'of',\n  'my',\n  'cooking',\n  'style'],\n ['we',\n  'are',\n  'going',\n  'to',\n  'get',\n  'city',\n  'in',\n  'the',\n  'next',\n  'round',\n  'for',\n  'a',\n  'revenge',\n  '.'],\n ['#trump',\n  'is',\n  '#afraid',\n  'of',\n  'the',\n  'big',\n  ',',\n  'bad',\n  '#hillary',\n  '.',\n  '#election',\n  '#presidentialdebate',\n  '#presidentialelection2016',\n  '#orangehitler',\n  '#skip',\n  '#hide',\n  '#coward',\n  '#fear'],\n ['@user',\n  'i',\n  'am',\n  'sitting',\n  'here',\n  'wrapped',\n  'in',\n  'a',\n  'fluffy',\n  'blanket',\n  ',',\n  'with',\n  'incense',\n  'burning',\n  ',',\n  'listening',\n  'to',\n  'bon',\n  'iver',\n  'and',\n  'drinking',\n  'mulled',\n  'wine',\n  '.',\n  'I',\n  'am',\n  'there',\n  '.'],\n ['petition',\n  'for',\n  'non-maghrebi',\n  'poc',\n  'to',\n  'stop',\n  'buying',\n  \"'\",\n  'couscous',\n  \"'\",\n  'from',\n  'white',\n  'grocery',\n  'stores',\n  'and',\n  'boiling',\n  'it',\n  '.',\n  'that',\n  'is',\n  'not',\n  'couscous',\n  ',',\n  'that',\n  'is',\n  'trash',\n  '.'],\n ['@user',\n  'thank',\n  'you',\n  ',',\n  'happy',\n  'birthday',\n  'to',\n  'you',\n  'as',\n  'well',\n  '!'],\n ['watch',\n  'this',\n  'amazing',\n  'live.ly',\n  'broadcast',\n  'by',\n  '@user',\n  '#musically'],\n ['@user',\n  'we',\n  'will',\n  'have',\n  'a',\n  'ceremony',\n  'next',\n  'time',\n  'we',\n  'meet',\n  '.',\n  'it',\n  'will',\n  'involve',\n  'burning',\n  'something',\n  ',',\n  'then',\n  'possibly',\n  'booze',\n  'and',\n  '/',\n  'or',\n  'caffeine',\n  '.'],\n ['dear',\n  '@user',\n  'please',\n  'tell',\n  'your',\n  'bus',\n  'drivers',\n  'if',\n  'obstruction',\n  'on',\n  'their',\n  'side',\n  'do',\n  'not',\n  'just',\n  'pull',\n  'out',\n  'to',\n  'oncoming',\n  'traffic',\n  'causing',\n  'vehs',\n  'to',\n  'swerve',\n  '#fuming',\n  '😡'],\n ['alternate',\n  'reality',\n  'where',\n  '@user',\n  'has',\n  'a',\n  'comments',\n  'section',\n  'and',\n  'you',\n  'can',\n  'give',\n  'poems',\n  'a',\n  'cheery',\n  'thumbs',\n  'up',\n  'or',\n  'a',\n  'disappointed',\n  'thumbs',\n  'down'],\n ['@user',\n  'may',\n  'i',\n  'suggest',\n  ',',\n  'that',\n  'you',\n  'have',\n  'a',\n  'meal',\n  'that',\n  'is',\n  'made',\n  'with',\n  'beans',\n  ',',\n  'onions',\n  '&',\n  'garlic',\n  ',',\n  'the',\n  'day',\n  'before',\n  'class',\n  '.',\n  '#revenge'],\n ['i',\n  'highly',\n  'suggest',\n  'if',\n  'you',\n  'are',\n  'looking',\n  'online',\n  'for',\n  'a',\n  'company',\n  'to',\n  'help',\n  'you',\n  'send',\n  'you',\n  'are',\n  'package',\n  'overseas',\n  '..',\n  'do',\n  'not',\n  'ever',\n  'ever',\n  'use',\n  '@user'],\n ['she',\n  'began',\n  'to',\n  'squirm',\n  'beneath',\n  '@user',\n  'struggling',\n  'to',\n  'get',\n  'out',\n  'of',\n  'his',\n  'relentless',\n  'grasp',\n  '.',\n  'when',\n  'she',\n  'realized',\n  'that',\n  'the',\n  'attempt',\n  'was',\n  'useless',\n  ',',\n  '+',\n  '+'],\n ['as',\n  'i',\n  'remember',\n  'and',\n  'reflect',\n  'on',\n  'reginald',\n  'denny',\n  'on',\n  'a',\n  'night',\n  'much',\n  'like',\n  'this',\n  '(',\n  'like',\n  '#charlotte',\n  ')',\n  'i',\n  'think',\n  'to',\n  'myself',\n  ',',\n  'the',\n  'gun',\n  'lobby',\n  'must',\n  'be',\n  'rejoicing',\n  '.'],\n ['@user',\n  '@user',\n  'i',\n  'was',\n  'so',\n  'looking',\n  'forward',\n  'to',\n  '@user',\n  'then',\n  'it',\n  'opened',\n  'with',\n  'a',\n  '#stuartspecial',\n  '.',\n  'i',\n  'literally',\n  'yelled',\n  'at',\n  'my',\n  'tv',\n  '.',\n  '#umbrage'],\n ['something',\n  'about',\n  'opening',\n  'mail',\n  'is',\n  'just',\n  '...',\n  'very',\n  'pleasing'],\n ['when',\n  'you',\n  'have',\n  '15',\n  'doe',\n  'run',\n  'the',\n  'opposite',\n  'side',\n  'of',\n  'you',\n  '🙁',\n  '#depression'],\n ['@user',\n  'you',\n  'and',\n  'that',\n  'awful',\n  'music',\n  'can',\n  'take',\n  'a',\n  'walk',\n  '...',\n  'right',\n  'off',\n  'a',\n  'cliff',\n  '.',\n  'k',\n  '.',\n  '😘'],\n ['day',\n  '9',\n  'and',\n  'i',\n  'am',\n  'elated',\n  'because',\n  'I',\n  'am',\n  'taking',\n  'pto',\n  'tomorrow',\n  'so',\n  'I',\n  'am',\n  'doneeeee',\n  '.',\n  'but',\n  ':'],\n ['a',\n  'pessimist',\n  'sees',\n  'the',\n  'difficulty',\n  'in',\n  'every',\n  'opportunity',\n  ',',\n  'an',\n  'optimist',\n  'sees',\n  'the',\n  'opportunity',\n  'in',\n  'every',\n  'difficulty',\n  \"'\",\n  '-',\n  'sir',\n  'winston',\n  'churchill',\n  '-'],\n ['@user',\n  'do',\n  'not',\n  'think',\n  'ian',\n  'knew',\n  'of',\n  'pavel',\n  '.',\n  'he',\n  'knew',\n  'about',\n  'charlie',\n  '.',\n  'i',\n  'bet',\n  'rob',\n  'will',\n  'cackle',\n  'with',\n  'glee',\n  'when',\n  'he',\n  'heard',\n  'what',\n  'has',\n  'happened',\n  '#thearchers'],\n ['@user',\n  'maybe',\n  'he',\n  'had',\n  'constipation',\n  'issues',\n  '..',\n  '?',\n  'not',\n  'that',\n  'i',\n  'know',\n  'dates',\n  'relieve',\n  'such',\n  'an',\n  'affliction',\n  '!',\n  'no',\n  'way',\n  'jose',\n  '!'],\n ['@user',\n  'smh',\n  ',',\n  'remove',\n  'ideologically',\n  'bankrupt',\n  'and',\n  'opportunistic',\n  'establishment',\n  'now',\n  '.',\n  'they',\n  'are',\n  'burning',\n  'all',\n  'bridges',\n  'and',\n  'social',\n  'contracts',\n  '.',\n  '#anger'],\n ['@user',\n  'lost',\n  'my',\n  'xt',\n  'nova',\n  'around',\n  'hole',\n  '8',\n  'or',\n  '9',\n  '#sadness'],\n ['at',\n  '#unga',\n  'pakistan',\n  'clearly',\n  'shows',\n  'the',\n  'face',\n  'of',\n  'cowardliness',\n  'and',\n  'blatant',\n  'lies',\n  '!',\n  'its',\n  'time',\n  'for',\n  '#india',\n  'to',\n  'act',\n  'upon',\n  'terror',\n  '.'],\n ['aqw',\n  'should',\n  'have',\n  'always',\n  'stayed',\n  'in',\n  'the',\n  '08',\n  'art',\n  'style',\n  ',',\n  'now',\n  'it',\n  'is',\n  'just',\n  'a',\n  'competition',\n  'to',\n  'create',\n  'more',\n  'detailed',\n  'art',\n  'each',\n  'time',\n  '.'],\n ['@user',\n  'mine',\n  'is',\n  'that',\n  'the',\n  'party',\n  'did',\n  'decide',\n  'but',\n  'the',\n  'party',\n  'has',\n  'been',\n  'slowly',\n  'transformed',\n  'into',\n  'a',\n  'vengeful',\n  'hell-cult',\n  'of',\n  'white',\n  'male',\n  'resentment'],\n ['@user',\n  '@user',\n  '@user',\n  \"kirby's\",\n  'black',\n  'panther',\n  'in',\n  'a',\n  'cool',\n  'animated',\n  'panel',\n  '.'],\n ['you',\n  'cannot',\n  'fight',\n  'the',\n  'elephants',\n  'until',\n  'you',\n  'have',\n  'wrestled',\n  'the',\n  'pigs',\n  '.',\n  '#quoteoftheday'],\n ['...',\n  'flat',\n  'party',\n  'and',\n  'i',\n  'instantly',\n  'get',\n  'bollocked',\n  'about',\n  'it',\n  '.',\n  '#fuming'],\n ['@user',\n  'betelgeuse',\n  '/',\n  'sloth',\n  'was',\n  'lively',\n  ',',\n  'dedicated',\n  'and',\n  'tenacious',\n  ',',\n  'regulus',\n  '/',\n  'greed',\n  'is',\n  'humbly',\n  'content',\n  'and',\n  'ley',\n  '/',\n  'gluttony',\n  'is',\n  'starving',\n  'hungry',\n  '.'],\n ['@user',\n  '#ldf16',\n  'what',\n  'shall',\n  'we',\n  'do',\n  'this',\n  'weekend',\n  '?',\n  '#spraypainting',\n  'in',\n  '#greenwichmarket',\n  'with',\n  '@user',\n  '#core246',\n  '#lilylou',\n  '#fret',\n  '&',\n  '#benoakley'],\n ['@user',\n  'awe',\n  'man',\n  ',',\n  'when',\n  'are',\n  'you',\n  'free',\n  'then',\n  '?',\n  '☹',\n  '️️',\n  '☹',\n  '️️',\n  '☹',\n  '️️',\n  '💘',\n  '💘',\n  '💘'],\n ['@user', 'want', 'to', 'shake', 'my', 'tree', '?', '?', '?', '🍑', '🍑', '🍑'],\n ['@user',\n  'he',\n  'is',\n  '.',\n  'sure',\n  'his',\n  'mind',\n  'was',\n  'clouded',\n  'but',\n  '...',\n  ']'],\n ['@user',\n  'now',\n  'you',\n  'gotta',\n  'do',\n  'that',\n  'with',\n  'fast',\n  'n',\n  'furious'],\n ['ffs',\n  '🙈',\n  'when',\n  'things',\n  'come',\n  'back',\n  'to',\n  'haunt',\n  'you',\n  '...',\n  'cringe',\n  'bad',\n  'cringe',\n  '🙋',\n  '🏼',\n  '👀',\n  '🔫',\n  '👈',\n  'what',\n  'a',\n  'terrible',\n  'gun',\n  'that',\n  'is'],\n ['never', 'let', 'me', 'see', 'you', 'frown'],\n ['a',\n  'country',\n  'that',\n  'gave',\n  'safe',\n  'house',\n  'to',\n  '#osama',\n  'bin',\n  '#laden',\n  'is',\n  'dangerous',\n  'if',\n  'not',\n  'contained',\n  '.',\n  '#pakistan',\n  'is',\n  'a',\n  '#terror',\n  'heaven',\n  ',',\n  'declare',\n  'so',\n  '@user'],\n ['#gadot',\n  'please',\n  'put',\n  'a',\n  'left',\n  'turn',\n  'signal',\n  'at',\n  'williams',\n  'and',\n  'ivan',\n  'allen',\n  'jr',\n  'blvd',\n  '.',\n  'this',\n  'is',\n  'absolutely',\n  'ridiculous',\n  '#atltraffic'],\n ['once',\n  'again',\n  'the',\n  'only',\n  'thing',\n  'on',\n  'my',\n  'feed',\n  'is',\n  'naay',\n  'raging',\n  'about',\n  'something',\n  'and',\n  'my',\n  'brother',\n  'filling',\n  'in',\n  'all',\n  'the',\n  'gaps'],\n ['#haikuchallenge',\n  '#haiku',\n  'the',\n  'crisp',\n  'autumn',\n  'air',\n  'my',\n  'freedom',\n  'purchased',\n  'through',\n  'death',\n  'no',\n  'one',\n  'will',\n  'mourn',\n  'me'],\n ['i',\n  'honestly',\n  'feel',\n  'nothing',\n  'towards',\n  'either',\n  'of',\n  'my',\n  'parents',\n  'and',\n  'it',\n  'is',\n  'pretty',\n  'depressing'],\n ['if',\n  'i',\n  'could',\n  'turn',\n  'anxiety',\n  'off--i',\n  'would',\n  '.',\n  '#nooneunderstands'],\n ['@user',\n  '(',\n  'maybe',\n  'do',\n  'not',\n  'provoke',\n  'him',\n  'in',\n  'the',\n  'future',\n  'if',\n  'you',\n  'do',\n  'not',\n  'want',\n  'to',\n  'run',\n  'the',\n  'risk',\n  'of',\n  'him',\n  'punching',\n  'your',\n  'board',\n  '.',\n  ')'],\n ['karev',\n  'better',\n  'not',\n  'be',\n  'out',\n  '!',\n  '!',\n  '!',\n  'or',\n  'i',\n  'am',\n  'seriously',\n  'done',\n  'done',\n  'with',\n  '@user',\n  '#angry',\n  '#unfair',\n  '#ugh'],\n ['but',\n  \"'\",\n  'for',\n  'me',\n  'not',\n  'to',\n  'worry',\n  ',',\n  'they',\n  'will',\n  'get',\n  'a',\n  'glass',\n  'guy',\n  'over',\n  'and',\n  'bill',\n  'us',\n  'for',\n  'it',\n  \"'\"],\n ['@user',\n  'now',\n  'I',\n  'am',\n  'really',\n  'excited',\n  'for',\n  'november',\n  '!',\n  'hope',\n  'they',\n  'are',\n  'not',\n  'all',\n  'horrid',\n  'chavs',\n  'though',\n  '😅'],\n ['@user',\n  'having',\n  'a',\n  'terrific',\n  'game',\n  'and',\n  'not',\n  'at',\n  'all',\n  'fazed',\n  '#mcfc'],\n ['@user',\n  '@user',\n  '@user',\n  'i',\n  'threaten',\n  'you',\n  'because',\n  'i',\n  'can',\n  'pussy'],\n ['@user', 'fucked', 'my', 'coupon', 'that', 'goal', '!'],\n ['reflection',\n  ':',\n  'the',\n  'grind',\n  'has',\n  'been',\n  'so',\n  'real',\n  '!',\n  'working',\n  '2',\n  'jobs',\n  '&',\n  'being',\n  'in',\n  'school',\n  '.',\n  '#ksudsm',\n  '#ksu',\n  '#recruiter',\n  '#instructor',\n  '#tumble',\n  '#cheer',\n  '#gradschool'],\n ['aberdeen',\n  'st',\n  'johnstone',\n  ',',\n  'let',\n  'us',\n  'see',\n  'who',\n  'can',\n  'punt',\n  'it',\n  'the',\n  'furthest',\n  '#awful'],\n ['@user',\n  'a',\n  'stumbling',\n  'block',\n  'to',\n  'the',\n  'pessimist',\n  'is',\n  'a',\n  'stepping',\n  'stone',\n  'to',\n  'the',\n  'optimist',\n  '.'],\n ['listening',\n  'to',\n  'joey',\n  'really',\n  'helps',\n  'me',\n  'and',\n  'my',\n  'anger',\n  '.'],\n ['@user',\n  'the',\n  'thing',\n  'is',\n  ',',\n  'it',\n  'is',\n  'either',\n  'i',\n  'be',\n  'unproductive',\n  'and',\n  'unhappy',\n  ',',\n  'or',\n  'deal',\n  'with',\n  'some',\n  'videos',\n  'that',\n  'do',\n  'badly',\n  '.'],\n ['another',\n  'joyful',\n  'encounter',\n  'in',\n  'tribez',\n  '&',\n  'castlez',\n  '!',\n  'i',\n  'just',\n  'met',\n  'bartolomeo',\n  '!',\n  'do',\n  'you',\n  'want',\n  'to',\n  'know',\n  'who',\n  'that',\n  'is',\n  '?',\n  'download',\n  'the',\n  'game',\n  'and',\n  'find',\n  'out',\n  '!'],\n ['@user',\n  '@user',\n  '@user',\n  'yes',\n  'exactly',\n  '&',\n  'he',\n  'is',\n  'sold',\n  'out',\n  'this',\n  'country',\n  'to',\n  '#terror',\n  'while',\n  '#lying',\n  'to',\n  'cover',\n  'it',\n  'up'],\n ['woke',\n  'by',\n  '#nightmare',\n  '@',\n  '3am',\n  ',',\n  'could',\n  'not',\n  'sleep',\n  'any',\n  'more',\n  ',',\n  'so',\n  'took',\n  'a',\n  '#useallthehotwatershower',\n  '.',\n  'now',\n  'i',\n  'have',\n  'time',\n  'to',\n  'read',\n  '.'],\n ['got',\n  'a',\n  '$',\n  '20',\n  'tip',\n  'from',\n  'a',\n  'drunk',\n  'uber',\n  'passenger',\n  '.',\n  'today',\n  'i',\n  'get',\n  'a',\n  '$',\n  '25',\n  'parking',\n  'ticket',\n  '.',\n  'I',\n  'would',\n  'blame',\n  'karma',\n  'but',\n  'my',\n  'dumb',\n  'ass',\n  'forgot',\n  'to',\n  'pay',\n  'the',\n  'meter',\n  '.'],\n ['the',\n  'pats',\n  'are',\n  'awesome',\n  '.',\n  'belichick',\n  'is',\n  'awesome',\n  '...',\n  'they',\n  'just',\n  'are',\n  '.',\n  '#awestruck'],\n ['david',\n  \"gilmour's\",\n  'biggest',\n  'compliment',\n  '?',\n  'b',\n  '.',\n  'b',\n  '.',\n  'king',\n  'asked',\n  'him',\n  'after',\n  'a',\n  'gig',\n  'if',\n  'he',\n  'was',\n  'born',\n  'in',\n  'mississippi',\n  '#pinkfloyd',\n  '#theblues',\n  '#davidgilmour',\n  '#blues'],\n ['i',\n  'seriously',\n  'hope',\n  'these',\n  'chances',\n  'celtic',\n  'are',\n  'missing',\n  'are',\n  'going',\n  'to',\n  'come',\n  'back',\n  'to',\n  'haunt',\n  'them',\n  'with',\n  'an',\n  'alloa',\n  'sucker',\n  'punch'],\n ['i',\n  'hate',\n  'little',\n  'girls',\n  '😡',\n  '😡',\n  'got',\n  'a',\n  'lot',\n  'off',\n  'growing',\n  'up',\n  'to',\n  'do',\n  '!',\n  '!',\n  '!',\n  '#fuming'],\n ['after',\n  'she',\n  'threw',\n  'me',\n  'out',\n  'i',\n  'had',\n  'to',\n  'sedate',\n  'her',\n  '.',\n  'with',\n  'a',\n  'damn',\n  'horse',\n  'tranquilizer',\n  '.',\n  \"'\"],\n ['@user',\n  'i',\n  'was',\n  'like',\n  'that',\n  'when',\n  'i',\n  'started',\n  'college',\n  '.',\n  'it',\n  'was',\n  'horrific',\n  'but',\n  'it',\n  'probably',\n  'will',\n  'get',\n  'better',\n  '.',\n  'do',\n  'not',\n  'give',\n  'up',\n  'yet'],\n ['@user',\n  '@user',\n  'hey',\n  'stupid',\n  ',',\n  'that',\n  'was',\n  'bad',\n  'intel',\n  'to',\n  'take',\n  'bin',\n  'laden',\n  'out',\n  '.',\n  'try',\n  'again',\n  'with',\n  'your',\n  'faux',\n  'outrage',\n  '.',\n  'i',\n  'bet',\n  'you',\n  'admire',\n  'putin',\n  'right',\n  '?'],\n ['2',\n  'biggest',\n  'fears',\n  ':',\n  'incurable',\n  \"std's\",\n  'and',\n  'pregnancy',\n  '...',\n  'i',\n  'mean',\n  ',',\n  'they',\n  'are',\n  'basically',\n  'the',\n  'same',\n  'thing',\n  'anyway',\n  '#forlife',\n  '#annoying',\n  '#weirdsmells'],\n ['howl',\n  'at',\n  'the',\n  'moon',\n  'with',\n  '@user',\n  'at',\n  '@user',\n  'next',\n  'wednesday',\n  'the',\n  '28th',\n  'for',\n  'a',\n  'free',\n  'double',\n  'feature',\n  'of',\n  'silver',\n  'bullet',\n  'and',\n  'cursed',\n  '#horror'],\n ['two',\n  'blankets',\n  ',',\n  'a',\n  'hoody',\n  ',',\n  'and',\n  'still',\n  'no',\n  'eternal',\n  'sunshine',\n  'to',\n  'mope',\n  'to',\n  '.'],\n ['india',\n  'wants',\n  'to',\n  '#shake',\n  '#hands',\n  'with',\n  '#',\n  'pakistan',\n  '...',\n  'but',\n  'as',\n  'usual',\n  'pakistan',\n  '#cheat',\n  'with',\n  'every',\n  '#indian',\n  '...',\n  'shameless',\n  'pakistan'],\n ['@user',\n  'the',\n  'depth',\n  'that',\n  'you',\n  'have',\n  'sunk',\n  'to',\n  '.',\n  'you',\n  'are',\n  'readership',\n  'deserves',\n  'more',\n  '.'],\n ['@user',\n  'that',\n  'was',\n  'exhilarating',\n  'hockey',\n  '.',\n  'they',\n  'are',\n  'still',\n  'out',\n  'if',\n  'russia',\n  'wins',\n  'in',\n  'regulation',\n  'I',\n  'am',\n  'reading',\n  '.',\n  '#fuck'],\n ['i',\n  'wish',\n  'you',\n  'stayed',\n  'in',\n  'da',\n  'gump',\n  'I',\n  'will',\n  'make',\n  'you',\n  'panic',\n  'like',\n  'the',\n  'last',\n  'rapper'],\n ['projection',\n  'is',\n  'perception',\n  '.',\n  'see',\n  'it',\n  'in',\n  'someone',\n  'else',\n  '?',\n  'you',\n  'also',\n  'at',\n  'some',\n  'level',\n  'have',\n  'that',\n  'within',\n  'you',\n  '.',\n  '#anger'],\n ['@user',\n  'actually',\n  'maybe',\n  'we',\n  'were',\n  'supposed',\n  'to',\n  'die',\n  'and',\n  'my',\n  'donation',\n  'saved',\n  'our',\n  'lives',\n  '?',\n  '?',\n  '#optimism'],\n ['if',\n  'you',\n  'follow',\n  '#trump',\n  ',',\n  'a',\n  'certified',\n  '#bully',\n  'there',\n  'is',\n  'no',\n  'question',\n  'you',\n  'or',\n  'your',\n  'children',\n  'may',\n  'go',\n  'to',\n  '#war',\n  'vs',\n  'consumate',\n  '#diplomat',\n  '@user'],\n ['@user',\n  'the',\n  'tunnels',\n  '!',\n  'i',\n  'shudder',\n  'to',\n  'think',\n  'of',\n  'the',\n  'grimy',\n  'tweets',\n  '...'],\n ['@user',\n  \"#disney's\",\n  '1994',\n  '#animated',\n  '#musical',\n  '#film',\n  '#thelionking',\n  'was',\n  'influenced',\n  'by',\n  \"#williamshakespeare's\",\n  '#hamlet',\n  '.',\n  'songs',\n  'by',\n  '#eltonjohn',\n  '.'],\n ['😑',\n  '😑',\n  '😑',\n  '<---',\n  'that',\n  'moment',\n  'you',\n  'finish',\n  'a',\n  'netflix',\n  'series',\n  'and',\n  'have',\n  'nothing',\n  'else',\n  'to',\n  'watch',\n  '.',\n  '#depression'],\n ['I',\n  'am',\n  'tired',\n  'of',\n  'people',\n  'telling',\n  'me',\n  'the',\n  'worry',\n  'about',\n  'me',\n  'when',\n  'in',\n  'fact',\n  'they',\n  'probably',\n  'never',\n  'gave',\n  'a',\n  'fuck',\n  'about',\n  'me'],\n ['@user',\n  '@user',\n  'aa',\n  'have',\n  'the',\n  'right',\n  'of',\n  'passage',\n  'when',\n  'it',\n  'comes',\n  'to',\n  'the',\n  \"'\",\n  'n',\n  \"'\",\n  'word',\n  '.',\n  'why',\n  'should',\n  'he',\n  'insult',\n  'him',\n  'in',\n  'his',\n  'church',\n  '.',\n  'ignorant',\n  '!'],\n ['@user',\n  'sadly',\n  ',',\n  'war',\n  'has',\n  'often',\n  'been',\n  'the',\n  'factor',\n  'that',\n  'jump',\n  'starts',\n  'us',\n  'economic',\n  'growth'],\n ['when',\n  'someone',\n  'rudely',\n  'says',\n  'all',\n  'women',\n  'should',\n  'have',\n  'long',\n  'hair',\n  'and',\n  'your',\n  'inner',\n  'feminist',\n  'tries',\n  'not',\n  'to',\n  'rage'],\n ['the',\n  'animals',\n  ',',\n  'the',\n  'animals',\n  'trap',\n  'trap',\n  'trap',\n  'till',\n  'the',\n  'cage',\n  'is',\n  'full',\n  'the',\n  'cage',\n  'is',\n  'full',\n  ',',\n  'stay',\n  'awake',\n  'in',\n  'the',\n  'dark',\n  ',',\n  'count',\n  'mistakes'],\n ['“',\n  'he',\n  'who',\n  'is',\n  'slow',\n  'to',\n  'anger',\n  'is',\n  'better',\n  'than',\n  'the',\n  'mighty',\n  ',',\n  'and',\n  'he',\n  'who',\n  'rules',\n  'his',\n  'spirit',\n  'than',\n  'he',\n  'who',\n  'takes',\n  'a',\n  'city',\n  '.',\n  '”',\n  'p16',\n  ':',\n  '32',\n  '#bibleverse',\n  '#pride'],\n ['$',\n  '8',\n  'million',\n  'in',\n  'box',\n  'office',\n  'does',\n  'not',\n  'do',\n  'this',\n  'movie',\n  'justice',\n  '.',\n  'political',\n  'or',\n  'not',\n  ',',\n  '#snowdenmovie',\n  'is',\n  'a',\n  'terrific',\n  'thriller',\n  'and',\n  'love',\n  'story',\n  '.',\n  '@user'],\n ['why',\n  'upping',\n  'rooms',\n  'makes',\n  'a',\n  'few',\n  'apprehend',\n  'leaving',\n  'out',\n  'charcoal',\n  'ownership',\n  ':',\n  'unzu'],\n ['@user',\n  '@user',\n  'yeah',\n  'i',\n  'received',\n  'a',\n  'fine',\n  'today',\n  'which',\n  'i',\n  'am',\n  'furious',\n  'about',\n  ',',\n  'currently',\n  'appealing',\n  'it',\n  'after',\n  'being',\n  'a',\n  'member',\n  'for',\n  'so',\n  'long',\n  '...'],\n ['that',\n  'grudge',\n  'you',\n  'are',\n  'holding',\n  'keeps',\n  'making',\n  'an',\n  'appearance',\n  'because',\n  '#god',\n  'wants',\n  'you',\n  'to',\n  'deal',\n  'with',\n  'it',\n  '.'],\n ['@user',\n  'shock',\n  'horror',\n  'handicap',\n  'dodger',\n  'is',\n  'at',\n  'the',\n  'top',\n  '😂',\n  'close',\n  'on',\n  'the',\n  'agg',\n  'cup',\n  'good',\n  ',',\n  'but',\n  'think',\n  'pressure',\n  'will',\n  'get',\n  'to',\n  'mark',\n  '🤔'],\n ['I',\n  'am',\n  'girly',\n  'in',\n  'the',\n  'sense',\n  'that',\n  'i',\n  'always',\n  'have',\n  'lashes',\n  '&',\n  'nails',\n  'done',\n  'but',\n  'tomboy',\n  'in',\n  'the',\n  'sense',\n  'that',\n  'black',\n  'is',\n  'my',\n  'only',\n  'color',\n  '&',\n  'refuse',\n  'the',\n  'ruffle',\n  'life'],\n ['from',\n  'harboring',\n  'osama',\n  'bin',\n  'laden',\n  'to',\n  'its',\n  'relationship',\n  'with',\n  'haqqani',\n  'network',\n  ',',\n  'there',\n  'is',\n  'enough',\n  'evidence',\n  'to',\n  'prove',\n  'pakistan',\n  'is',\n  'sponsoring',\n  'terrorism'],\n ['it',\n  'is',\n  'not',\n  'that',\n  'the',\n  'man',\n  'did',\n  'not',\n  'know',\n  'how',\n  'to',\n  'juggle',\n  ',',\n  'he',\n  'just',\n  'did',\n  'not',\n  'have',\n  'the',\n  'balls',\n  'to',\n  'do',\n  'it',\n  '.',\n  '#funny',\n  '#pun',\n  '#punny',\n  '#lol',\n  '#hilarious'],\n ['@user',\n  'droop',\n  'saw',\n  'naked',\n  'wrestling',\n  'and',\n  'asked',\n  \"'\",\n  'what',\n  'if',\n  'i',\n  'get',\n  'a',\n  'hole',\n  'in',\n  'one',\n  '?',\n  \"'\",\n  '#jaymohrsports'],\n ['@user',\n  'you',\n  'got',\n  'this',\n  '💙',\n  '#staystrong',\n  '#smile',\n  '#yourebeautiful'],\n ['nothing',\n  'else',\n  'could',\n  'possibly',\n  'put',\n  'a',\n  'damper',\n  'on',\n  'my',\n  'day',\n  'other',\n  'than',\n  'doing',\n  'x-rays',\n  'on',\n  'someone',\n  'with',\n  'kickinnnnn',\n  'ass',\n  'breath',\n  '😿'],\n ['@user',\n  'the',\n  'concept',\n  'that',\n  'a',\n  'gay',\n  'magazine',\n  'feels',\n  'like',\n  'it',\n  'has',\n  'to',\n  'cover',\n  'terrible',\n  'people',\n  '-',\n  'because',\n  'they',\n  '’',\n  're',\n  'gay',\n  'voices',\n  '-',\n  'seems',\n  'all',\n  'upside',\n  'down'],\n ['@user',\n  'but',\n  'this',\n  'is',\n  'no',\n  'easy',\n  'ride',\n  'for',\n  'a',\n  'child',\n  'cries',\n  ':',\n  \"'\",\n  'oh',\n  ',',\n  'find',\n  'me',\n  '...',\n  'find',\n  'me',\n  ',',\n  'nothing',\n  'more',\n  ',',\n  'we',\n  'are',\n  'on',\n  'a',\n  'sullen',\n  'misty',\n  'moor',\n  '...',\n  \"'\"],\n ['@user',\n  'very',\n  'thought',\n  'provoking',\n  '&',\n  'leads',\n  'one',\n  'to',\n  'question',\n  'what',\n  'really',\n  'happened.very',\n  'sad',\n  'for',\n  'all',\n  '.'],\n ['migraine',\n  'hangover',\n  'all',\n  'day',\n  '.',\n  'stood',\n  'up',\n  'to',\n  'do',\n  'dishes',\n  'and',\n  'now',\n  'I',\n  'am',\n  'exhausted',\n  'again',\n  '.',\n  'gad',\n  ',',\n  'depression',\n  '&',\n  'chronic',\n  'pain',\n  '#anxiety',\n  '#depression',\n  '#pain'],\n ['i',\n  'had',\n  'an',\n  'hour',\n  'of',\n  'football',\n  'practice',\n  'under',\n  'the',\n  'boiling',\n  'sun',\n  'and',\n  'now',\n  'i',\n  'have',\n  '2hr',\n  'volleyball',\n  'practice',\n  'under',\n  'the',\n  'boiling',\n  'sun',\n  'again'],\n ['that',\n  'is',\n  'how',\n  'you',\n  'start',\n  'a',\n  'season',\n  'that',\n  'is',\n  'how',\n  'you',\n  'open',\n  'the',\n  'show',\n  '#show',\n  '#them',\n  '#how',\n  '#dark',\n  '#hell',\n  '#can',\n  '#get',\n  '#empire'],\n ['might', 'just', 'leave', 'and', 'aggravate', 'bae'],\n ['the',\n  'joyful',\n  'tambourines',\n  'have',\n  'ceased',\n  '.',\n  'the',\n  'noise',\n  'of',\n  'the',\n  'jubilant',\n  'has',\n  'stopped',\n  '.',\n  'the',\n  'joyful',\n  'lyre',\n  'has',\n  'ceased',\n  '.',\n  '-',\n  'isaiah',\n  '24:8'],\n ['my',\n  'boyfriend',\n  'once',\n  'forcibly',\n  'stopped',\n  'all',\n  'of',\n  'my',\n  'anxiety',\n  'coping',\n  'methods',\n  'at',\n  'once',\n  '(',\n  'holding',\n  'me',\n  ',',\n  'forcing',\n  'my',\n  'hands',\n  'down',\n  'that',\n  'kind',\n  'of',\n  'stuff',\n  ')',\n  'and',\n  'i',\n  '-',\n  '-'],\n ['@user',\n  'ended',\n  'up',\n  'paying',\n  '75p',\n  'for',\n  'half',\n  'a',\n  'tube',\n  'of',\n  'smarties',\n  '.',\n  'do',\n  'not',\n  'even',\n  'get',\n  'the',\n  'pleasure',\n  'of',\n  'popping',\n  'the',\n  'plastic',\n  'lid',\n  'off',\n  'either'],\n ['but',\n  'this',\n  'is',\n  'the',\n  'internet',\n  'age',\n  ',',\n  'so',\n  'get',\n  'mad',\n  'out',\n  'of',\n  'any',\n  'and',\n  'all',\n  'proportion',\n  'and',\n  'assume',\n  'the',\n  'terrible',\n  'worst',\n  'with',\n  'little',\n  'to',\n  'no',\n  'facts',\n  'or',\n  'knowledge',\n  '.'],\n ['@user',\n  '@user',\n  '@user',\n  '@user',\n  '@user',\n  'awe',\n  'i',\n  'feel',\n  'so',\n  'bad',\n  'being',\n  'naive',\n  'ou',\n  'is',\n  'the',\n  'worst'],\n ['rooney', '=', 'whipping', 'boy', '.', '#mufc', '#sad'],\n ['@user',\n  'start',\n  'buying',\n  'death',\n  'wish',\n  'coffee',\n  'and',\n  'shake',\n  'hands',\n  'with',\n  'espresso',\n  'every',\n  'now',\n  'and',\n  'then',\n  '.'],\n ['@user', 'cheer', 'up'],\n ['@user',\n  'I',\n  'am',\n  'sure',\n  'you',\n  'will',\n  'have',\n  'a',\n  'heyday',\n  'if',\n  'they',\n  'do'],\n ['@user',\n  '@user',\n  '@user',\n  '@user',\n  '@user',\n  '@user',\n  'to',\n  'give',\n  'me',\n  'my',\n  'keys',\n  'back',\n  '.',\n  'they',\n  'are',\n  'not',\n  'for',\n  'my',\n  'house',\n  '!',\n  '#shocking'],\n ['#obamalegacy',\n  '-',\n  'weekly',\n  '#riots',\n  'and',\n  '#terror',\n  'attacks',\n  ',',\n  '>',\n  '400k',\n  'dead',\n  '#syrians',\n  ',',\n  '#jews',\n  'fleeing',\n  '#persecution',\n  'in',\n  'europe',\n  ',',\n  '#christian',\n  '#genocide',\n  'in',\n  'me',\n  '...'],\n ['drop', 'snapchat', 'names', '#bored', '#snap', '#swap', '#pics'],\n ['@user',\n  '@user',\n  '#lestweforget',\n  '3',\n  'yrs',\n  'on',\n  ',',\n  '2013',\n  'graduate',\n  'trainee',\n  'recruitment',\n  'not',\n  'concluded',\n  '.',\n  '#disappointed',\n  '#weary',\n  'however',\n  '#wewait'],\n ['happy',\n  'birthday',\n  '@user',\n  '#cheerchick',\n  '#jeep',\n  '#jeepgirl',\n  '#idriveajeep',\n  '#jeepjeep',\n  '#cheer'],\n ['@user',\n  'omg',\n  'I',\n  'am',\n  'so',\n  'slow',\n  'bc',\n  'my',\n  'eng',\n  'is',\n  'not',\n  'very',\n  'well',\n  'and',\n  'my',\n  'hands',\n  'are',\n  'shaking',\n  'uhh',\n  'help',\n  'meee',\n  'I',\n  'am',\n  'like',\n  'this',\n  'lil',\n  'chicken',\n  'now',\n  '🐥',\n  '#moreisbetter'],\n ['@user',\n  'is',\n  'the',\n  'android',\n  'app',\n  'it',\n  'designed',\n  'to',\n  'be',\n  'buggy',\n  'and',\n  'work',\n  'sporadically',\n  'on',\n  'a',\n  'fire',\n  'tv',\n  'box',\n  '?'],\n ['@user',\n  '@user',\n  '@user',\n  '@user',\n  'do',\n  'not',\n  'provoke',\n  'the',\n  'voke',\n  '.'],\n ['@user', 'bad', '.', 'i', 'am', 'fearing', 'for', 'my', 'life', '🙏'],\n ['@user',\n  'some',\n  'do',\n  'not',\n  'see',\n  'the',\n  'difference',\n  'between',\n  'courting',\n  'and',\n  'appealing',\n  'to',\n  'a',\n  'women',\n  'vs',\n  'deception',\n  '&',\n  'pressure',\n  'it',\n  'is',\n  'depressing'],\n ['@user',\n  'customer',\n  'services',\n  'got',\n  'involved',\n  'and',\n  'eventually',\n  'completely',\n  'wash',\n  'their',\n  'hands',\n  'of',\n  'it',\n  '.',\n  '#awful',\n  '#dreamornightmare'],\n ['look',\n  'at',\n  'this',\n  '#massiah',\n  'of',\n  '#youngleader',\n  '#pakistan',\n  '#massiah',\n  'of',\n  '#terrorism'],\n ['this',\n  'pretentious',\n  'dick',\n  'in',\n  'night',\n  'gallery',\n  'just',\n  'fucking',\n  ',',\n  'used',\n  'a',\n  'towel',\n  'to',\n  'dry',\n  'off',\n  'his',\n  'sink'],\n ['another',\n  'day',\n  'another',\n  'flight',\n  '🙈',\n  'i',\n  'swear',\n  'my',\n  'last',\n  'ever',\n  '@user',\n  'flight',\n  '!',\n  '!',\n  '!',\n  'you',\n  'take',\n  'the',\n  'love',\n  'out',\n  'of',\n  'flying',\n  '#easyjet',\n  '#horrific',\n  '#alwaysdelayed'],\n ['@user',\n  'we',\n  'are',\n  'sorry',\n  'to',\n  'hear',\n  'about',\n  'the',\n  'issues',\n  'and',\n  'how',\n  'this',\n  'is',\n  'making',\n  'you',\n  'feel',\n  '.',\n  'we',\n  'do',\n  'not',\n  'like',\n  'to',\n  'hear',\n  'our',\n  'customers',\n  'being',\n  'unhappy',\n  ':-(',\n  'we'],\n ['we',\n  'fear',\n  'not',\n  'the',\n  'truth',\n  ',',\n  'even',\n  'if',\n  'it',\n  'be',\n  'gloomy',\n  ',',\n  'but',\n  'its',\n  'counterfeit',\n  '.',\n  '-',\n  'berl',\n  'katznelson'],\n ['i',\n  'miss',\n  'my',\n  'gran',\n  'singing',\n  'rawhide',\n  ',',\n  'in',\n  'her',\n  'deep',\n  'baritone',\n  'growl',\n  '.'],\n ['egyptian',\n  'officials',\n  'expressed',\n  'frustration',\n  'and',\n  'outrage',\n  'over',\n  'the',\n  'obama',\n  '/',\n  'hillary',\n  'administration',\n  '’',\n  's',\n  'support',\n  'of',\n  'the',\n  'muslim',\n  'brotherhood'],\n ['two',\n  'major',\n  'banking',\n  'stocks',\n  'down',\n  'almost',\n  '15',\n  'to',\n  '20',\n  '%',\n  'from',\n  'their',\n  'highs',\n  'while',\n  'benchmarks',\n  'still',\n  'close',\n  'to',\n  'top',\n  'it',\n  'is',\n  'a',\n  'sure',\n  '#worry',\n  'for',\n  'markets'],\n ['batman',\n  'the',\n  'animated',\n  'series',\n  'is',\n  'a',\n  'gift',\n  'from',\n  'the',\n  '90s',\n  'animation',\n  'gods'],\n ['@user',\n  'but',\n  'what',\n  'i',\n  'am',\n  'doing',\n  'is',\n  'in',\n  'my',\n  'control',\n  ',',\n  '#avoidmmt',\n  ',',\n  'you',\n  'guys',\n  'are',\n  '#terrible'],\n ['it',\n  'did',\n  'not',\n  'impress',\n  'me',\n  'but',\n  'it',\n  'did',\n  'not',\n  'depress',\n  'me',\n  \"'\"],\n ['@user',\n  '@user',\n  'i',\n  'could',\n  'not',\n  'care',\n  'less',\n  'about',\n  '#gotham',\n  '.',\n  'i',\n  'have',\n  'not',\n  'watched',\n  'it',\n  'since',\n  'the',\n  'mid',\n  'point',\n  'of',\n  'season',\n  '1',\n  '.',\n  '#horrible'],\n ['@user',\n  '@user',\n  '@user',\n  'yes',\n  ',',\n  'it',\n  'is',\n  'bad',\n  'to',\n  'point',\n  'out',\n  'racism',\n  'lest',\n  'it',\n  'provoke',\n  'the',\n  'racists',\n  '.',\n  'some',\n  'racists',\n  'do',\n  'indeed',\n  'not',\n  'like',\n  'it',\n  '.'],\n ['just', 'seeing', 'alex', 'revells', 'face', 'gets', 'me', 'angry'],\n ['@user',\n  '@user',\n  '@user',\n  '@user',\n  'i',\n  'dread',\n  'to',\n  'think',\n  '...',\n  '#dirtypeople'],\n ['@user',\n  'if',\n  'you',\n  'get',\n  'it',\n  'going',\n  'with',\n  'him',\n  ',',\n  'tag',\n  'me',\n  'the',\n  'link',\n  'please',\n  '.',\n  'i',\n  'have',\n  'a',\n  'lot',\n  'of',\n  'friends',\n  'who',\n  'love',\n  'following',\n  'his',\n  'unintentional',\n  'hilarity',\n  '.'],\n ['in',\n  'addition',\n  'to',\n  'fiction',\n  ',',\n  'wish',\n  'me',\n  'luck',\n  'on',\n  'my',\n  'research',\n  'paper',\n  'this',\n  'semester',\n  '.',\n  '15-20',\n  'pages',\n  ',',\n  'oh',\n  'boy',\n  '.',\n  '#daunting'],\n ['@user',\n  '-',\n  'i',\n  'cannot',\n  'read',\n  'this',\n  'article',\n  'but',\n  'headline',\n  'indicates',\n  'a',\n  'horror',\n  'story',\n  '.',\n  'lock',\n  'sick',\n  'chavs',\n  'up',\n  'and',\n  'throw',\n  'away',\n  'the',\n  'key',\n  '.'],\n ['@user',\n  '@user',\n  'i',\n  'live',\n  'a',\n  'life',\n  'devoid',\n  'of',\n  'mirth',\n  '.',\n  'come',\n  'to',\n  'think',\n  'of',\n  'it',\n  ',',\n  'there',\n  'are',\n  'not',\n  'enough',\n  'taco',\n  'bowls',\n  'in',\n  'my',\n  'life',\n  ',',\n  'either',\n  '.'],\n ['trying',\n  'to',\n  'book',\n  'holiday',\n  'flights',\n  'on',\n  '@user',\n  'website',\n  'is',\n  'becoming',\n  'a',\n  '#nightmare'],\n ['@user',\n  'john',\n  'kerry',\n  'fckd',\n  'you',\n  ',',\n  'chief',\n  'justiceofpak',\n  'made',\n  'the',\n  'statement',\n  'publicly',\n  'about',\n  'party',\n  'supporting',\n  'terror',\n  'what',\n  'else',\n  'you',\n  'need',\n  '#terrorstatepak'],\n ['@user', 'jeezus', 'god', '#dark'],\n ['I',\n  'have',\n  'realized',\n  'my',\n  'anxiety',\n  'is',\n  'at',\n  'an',\n  'all',\n  'time',\n  'high',\n  'when',\n  'I',\n  'am',\n  'in',\n  'my',\n  'office',\n  '.',\n  'i',\n  'feel',\n  'prisoned',\n  'here',\n  'and',\n  'i',\n  'pick',\n  'up',\n  'on',\n  'bad',\n  'energy',\n  '.'],\n ['r',\n  'you',\n  'scared',\n  'to',\n  'present',\n  'in',\n  'front',\n  'of',\n  'the',\n  'class',\n  '?',\n  'severe',\n  'anxiety',\n  '...',\n  'what',\n  'is',\n  'that',\n  'r',\n  'you',\n  'sad',\n  'sometimes',\n  '?',\n  '?',\n  'go',\n  'get',\n  'ur',\n  'depression',\n  'checked',\n  'out',\n  'imediately',\n  '!',\n  '!',\n  '!'],\n ['@user',\n  'today',\n  'which',\n  'can',\n  'impact',\n  'the',\n  'signal',\n  ',',\n  'I',\n  'am',\n  'afraid',\n  ':-(',\n  'our',\n  'engineers',\n  'are',\n  'working',\n  'to',\n  'have',\n  'this',\n  'resolved',\n  'by',\n  'this',\n  'evening',\n  'and',\n  'you',\n  'will'],\n ['oh',\n  'dear',\n  'an',\n  'evening',\n  'of',\n  'absolute',\n  'hilarity',\n  'i',\n  'do',\n  'not',\n  'think',\n  'i',\n  'have',\n  'laughed',\n  'so',\n  'much',\n  'in',\n  'a',\n  'long',\n  'time',\n  '!',\n  '😂'],\n ['wtf', 'are', 'united', 'doing', ',', 'shocking', 'defending'],\n ['amateurs',\n  'sit',\n  'and',\n  'wait',\n  'for',\n  'inspiration',\n  ',',\n  'the',\n  'rest',\n  'of',\n  'us',\n  'just',\n  'get',\n  'up',\n  'and',\n  'go',\n  'to',\n  'work',\n  '.',\n  \"'\",\n  '-',\n  '-',\n  'stephen',\n  'king',\n  '#authors',\n  '#serious',\n  '#writingtip'],\n ['jesus',\n  'wept',\n  '!',\n  'another',\n  'rns',\n  'from',\n  '#rusty',\n  '@user',\n  'quote',\n  \"'\",\n  'price',\n  'sensitive',\n  'news',\n  ',',\n  'price',\n  'sensitive',\n  'news',\n  \"'\",\n  'etc',\n  'etc',\n  'the',\n  '#ramping',\n  'here',\n  'is'],\n ['is',\n  'there',\n  'a',\n  'perfume',\n  'that',\n  'smells',\n  'like',\n  'the',\n  'smell',\n  'of',\n  'smokey',\n  'incense',\n  'because',\n  'i',\n  'would',\n  'be',\n  'all',\n  'about',\n  'that'],\n ['@user',\n  'i',\n  'personally',\n  'liked',\n  '#relentless',\n  '…',\n  'did',\n  'not',\n  'get',\n  '#ourhouse',\n  '#onejersey',\n  '#werealldevilsinside',\n  'does',\n  'nothing',\n  'till',\n  'a',\n  'puck',\n  'drops',\n  '#njdevils'],\n ['#scorpio', 'always', 'seek', 'revenge', '!'],\n ['@user', '@user', 'lmao', 'awe', '...', '#sad'],\n ['appropriate',\n  'that',\n  'first',\n  'secretary',\n  'at',\n  'permanent',\n  'mission',\n  'is',\n  'tasked',\n  'with',\n  'demolition',\n  'of',\n  '#terror',\n  'state',\n  '#pakistan',\n  '-',\n  'like',\n  \"'\",\n  'renunciation',\n  'of',\n  'lies',\n  \"'\",\n  'bit'],\n ['@user',\n  'meden',\n  'is',\n  'frowning',\n  'at',\n  'you',\n  'with',\n  'her',\n  'non',\n  'existent',\n  'face'],\n ['@user',\n  'i',\n  '❤',\n  '️you',\n  'on',\n  'dwts',\n  'you',\n  'make',\n  'my',\n  'night',\n  'every',\n  'show',\n  '!',\n  '😘'],\n ['still', 'shaking', 'though', '🙃'],\n ['when',\n  'you',\n  'arrive',\n  'at',\n  'the',\n  'office',\n  'the',\n  'day',\n  'before',\n  'your',\n  'first',\n  'ever',\n  'festival',\n  'and',\n  'the',\n  'internet',\n  'is',\n  'down',\n  '#panic'],\n ['so',\n  'drunk',\n  'me',\n  'hid',\n  'my',\n  'keys',\n  'very',\n  'well',\n  'sober',\n  'me',\n  'could',\n  'not',\n  'find',\n  'it',\n  'anywhere'],\n ['they',\n  'will',\n  'be',\n  'yo',\n  'friend',\n  ',',\n  'shake',\n  'your',\n  'hand',\n  ',',\n  'then',\n  'kick',\n  'in',\n  'yo',\n  'door',\n  'thas',\n  'the',\n  'way',\n  'the',\n  'game',\n  'go',\n  '🤖',\n  '🤐',\n  '.'],\n ['so',\n  'depressing',\n  'that',\n  'it',\n  'is',\n  'darker',\n  'so',\n  'much',\n  'earlier',\n  'now'],\n ['i',\n  'just',\n  'got',\n  'asked',\n  'to',\n  'hoco',\n  'over',\n  'instagram',\n  'dm',\n  'bc',\n  'someone',\n  'lost',\n  'a',\n  'bet',\n  '.',\n  'love',\n  'the',\n  'maturity',\n  'of',\n  'the',\n  'people',\n  'in',\n  'my',\n  'grade',\n  '!',\n  '!',\n  '!'],\n ['@user',\n  'they',\n  'say',\n  'you',\n  'attract',\n  'what',\n  'you',\n  'see',\n  ',',\n  'maybe',\n  'i',\n  'should',\n  'not',\n  'be',\n  'a',\n  'pessimist',\n  'but',\n  'i',\n  'do',\n  'not',\n  'want',\n  'to',\n  'take',\n  'any',\n  'chances',\n  'lol',\n  'cannot',\n  'wait',\n  'to',\n  'relocate'],\n ['@user', 'seriously', '.', 'digging', 'those', 'eyebrows', '.', '#animated'],\n ['#taurus',\n  'females',\n  'are',\n  'beautiful',\n  ',',\n  'sparkling',\n  'jewels',\n  'glowing',\n  'in',\n  'the',\n  'moonlight',\n  '.'],\n ['@user',\n  'it',\n  'is',\n  'very',\n  'telling',\n  'that',\n  'racist',\n  'bigots',\n  'always',\n  'resort',\n  'to',\n  'the',\n  'insult',\n  \"'\",\n  'fag',\n  \"'\",\n  'like',\n  'that',\n  'is',\n  'worse',\n  'than',\n  'being',\n  'a',\n  'racist',\n  'bigot',\n  '.'],\n ['watch',\n  'this',\n  'amazing',\n  'live.ly',\n  'broadcast',\n  'by',\n  '@user',\n  '#musically'],\n ['@user',\n  'no',\n  '.',\n  'the',\n  'gay',\n  'guy',\n  'and',\n  'the',\n  'dad',\n  'revenge',\n  'fucking'],\n ['@user',\n  'why',\n  'should',\n  'i',\n  'listen',\n  'to',\n  'someone',\n  'with',\n  'a',\n  'tie',\n  'like',\n  'that',\n  '?',\n  '#awful'],\n ['i',\n  'do',\n  'not',\n  'talk',\n  'about',\n  'politics',\n  'because',\n  'people',\n  'nowadays',\n  'get',\n  'offended',\n  'easily',\n  '!'],\n ['@user',\n  'she',\n  'is',\n  'jogging',\n  'a',\n  'bit',\n  'to',\n  'stay',\n  'beside',\n  'her',\n  ',',\n  'puffing',\n  'her',\n  'cheeks',\n  'with',\n  'a',\n  'huff',\n  'each',\n  'time',\n  '.',\n  \"'\",\n  'oh',\n  '-',\n  '-',\n  'jeez',\n  'jasper',\n  ',',\n  'why',\n  'do',\n  'not',\n  'you',\n  '—'],\n ['@user',\n  '@user',\n  '@user',\n  '@user',\n  'he',\n  'will',\n  'defend',\n  'his',\n  'belt',\n  'against',\n  'aldo',\n  'after',\n  'its',\n  'not',\n  'that',\n  'hard',\n  'you',\n  'grudge',\n  'holding',\n  'bitch'],\n ['@user',\n  ':',\n  'i',\n  'liked',\n  'that',\n  'she',\n  'was',\n  'not',\n  'moping',\n  'around',\n  'in',\n  'all',\n  'of',\n  'the',\n  'episode',\n  '.',\n  'she',\n  'had',\n  'a',\n  'moment',\n  'of',\n  'emotional',\n  'weakness',\n  ',',\n  'felt',\n  'sorry',\n  'about',\n  '-'],\n ['@user', 'it', 'was', 'not', 'a', 'joke', '.'],\n ['now',\n  'it',\n  'is',\n  'time',\n  'to',\n  'remove',\n  'cb',\n  'from',\n  'the',\n  'team',\n  'somehow',\n  '.',\n  'screw',\n  'it',\n  '.',\n  'rip',\n  'the',\n  'band-aid',\n  'off',\n  '.',\n  'it',\n  'will',\n  'sting',\n  'for',\n  'a',\n  'bit',\n  'but',\n  'everyone',\n  'will',\n  'get',\n  'over',\n  'it',\n  '.'],\n ['@user',\n  '@user',\n  '@user',\n  '@user',\n  'gotta',\n  'shake',\n  'the',\n  'booty',\n  'instead',\n  'though',\n  ',',\n  'makes',\n  'sure',\n  'it',\n  'is',\n  'all',\n  'good',\n  '🙂'],\n ['@user',\n  'they',\n  'have',\n  'officially',\n  'said',\n  'all',\n  'the',\n  'episodes',\n  'left',\n  '(',\n  'so',\n  'future',\n  '12',\n  'and',\n  'despair',\n  '11',\n  'and',\n  '12',\n  ')',\n  'will',\n  'be',\n  'delayed',\n  '.'],\n ['@user',\n  ':',\n  'whaaaat',\n  '?',\n  '!',\n  '?',\n  'oh',\n  'hell',\n  'no',\n  '.',\n  'i',\n  'was',\n  'jealous',\n  'because',\n  'you',\n  'got',\n  'paid',\n  'to',\n  'fuck',\n  ',',\n  'but',\n  'this',\n  'is',\n  'a',\n  'whole',\n  'new',\n  'level',\n  '.',\n  '#love',\n  '#conflicted',\n  '😬'],\n ['watch',\n  'this',\n  'amazing',\n  'live.ly',\n  'broadcast',\n  'by',\n  '@user',\n  '#musically'],\n ['well',\n  'my',\n  'evaluation',\n  'came',\n  'back',\n  'and',\n  'i',\n  'am',\n  'minimally',\n  'effective',\n  '.',\n  'student',\n  'test',\n  'scores',\n  'on',\n  'the',\n  'parcc',\n  'sunk',\n  'my',\n  'eval',\n  '.',\n  'it',\n  'is',\n  'time',\n  'for',\n  'me',\n  'to',\n  'quit',\n  'teaching'],\n ['the',\n  'majority',\n  'of',\n  'people',\n  'irritate',\n  'the',\n  'fuck',\n  'out',\n  'of',\n  'me',\n  ',',\n  'cba',\n  'with',\n  'people',\n  'ahahah'],\n ['omg',\n  'i',\n  'actually',\n  'thought',\n  'she',\n  'was',\n  'going',\n  'to',\n  'jump',\n  '.',\n  '#southpark20',\n  '#southpark'],\n ['never',\n  'make',\n  'a',\n  '#decision',\n  'when',\n  'you',\n  'are',\n  '#angry',\n  'and',\n  'never',\n  'make',\n  'a',\n  '#promise',\n  'when',\n  'you',\n  'are',\n  '#happy',\n  '.',\n  '#wisewords'],\n ['@user',\n  'just',\n  'watched',\n  'you',\n  'on',\n  'the',\n  'great',\n  'wall',\n  '#hilarious',\n  '😆'],\n ['everything',\n  'i',\n  'see',\n  'of',\n  'american',\n  'police',\n  'training',\n  'seems',\n  'calculated',\n  'to',\n  'trample',\n  'human',\n  'dignity',\n  ',',\n  'inflame',\n  'outrage',\n  ',',\n  'and',\n  'escalate',\n  'confrontations',\n  '.'],\n ['@user',\n  '#dhoni',\n  'bcoz',\n  'of',\n  'is',\n  'calmness',\n  'nd',\n  'match',\n  'winning',\n  'finishers',\n  'nd',\n  'a',\n  'proud',\n  '#miltirian',\n  '#dad',\n  '#husband',\n  'nd',\n  'wonderful',\n  'humanbeing',\n  'nd',\n  'his',\n  '#smile'],\n ['@user',\n  'the',\n  'point',\n  'of',\n  'voting',\n  'for',\n  'trump',\n  'to',\n  'push',\n  'all',\n  'the',\n  'pieces',\n  'off',\n  'the',\n  'board',\n  'game',\n  'like',\n  'an',\n  'angry',\n  'toddler',\n  '?',\n  'wreck',\n  'everything',\n  'for',\n  'everybody',\n  '?'],\n ['@user',\n  '@user',\n  'very',\n  'rare',\n  'an',\n  'officer',\n  'just',\n  'shoots',\n  'without',\n  'regard',\n  '.',\n  'they',\n  'do',\n  'not',\n  'want',\n  'that',\n  'on',\n  'their',\n  'conscience',\n  '.',\n  '#incite'],\n ['why',\n  'tf',\n  'do',\n  'broke',\n  'boys',\n  'keep',\n  'tryna',\n  'find',\n  \"gf's\",\n  '?',\n  'get',\n  'ur',\n  'fuckin',\n  '$',\n  '$',\n  '$',\n  'right',\n  'b4',\n  'i',\n  'smack',\n  'yo',\n  'bitchass',\n  ',',\n  'she',\n  'deserves',\n  '2be',\n  'happy',\n  '&',\n  'you',\n  'do',\n  'not',\n  'deserve',\n  'that',\n  'ass'],\n ['@user',\n  'hey',\n  'breezy',\n  ',',\n  'you',\n  'want',\n  'to',\n  'give',\n  'me',\n  'some',\n  'of',\n  'that',\n  'coffee',\n  'you',\n  'posted',\n  'on',\n  'your',\n  'snap',\n  '?',\n  '?',\n  'please'],\n ['@user',\n  'it',\n  'would',\n  'be',\n  'great',\n  'but',\n  'what',\n  'if',\n  'the',\n  'card',\n  'crashes',\n  '😱',\n  '.',\n  'it',\n  'is',\n  'happened',\n  'to',\n  'me',\n  'twice',\n  '#nightmare'],\n ['there',\n  'is',\n  'nothing',\n  'like',\n  'being',\n  'in',\n  'the',\n  'shower',\n  'when',\n  'the',\n  'power',\n  'goes',\n  'out',\n  '😳',\n  '#creepy'],\n ['-',\n  'blood',\n  'and',\n  'mucus',\n  'and',\n  'he',\n  'chokes',\n  'and',\n  'has',\n  'to',\n  'swallow',\n  ',',\n  'mirth',\n  'cut',\n  'too',\n  'short',\n  '.',\n  \"'\",\n  'wrong',\n  'answer',\n  '.',\n  \"'\",\n  'it',\n  'takes',\n  'some',\n  'awkward',\n  'movements',\n  '-',\n  '@user'],\n ['I',\n  'am',\n  'moving',\n  'this',\n  'weekend',\n  '&',\n  'my',\n  'sugar',\n  'daddy',\n  'will',\n  'replace',\n  'it',\n  'so',\n  ',',\n  'it',\n  'is',\n  'what',\n  'it',\n  'is',\n  '.',\n  'niggas',\n  'still',\n  'happy',\n  '.'],\n ['@user',\n  'your',\n  'a',\n  'joke',\n  'i',\n  'pay',\n  'for',\n  'data',\n  'when',\n  'I',\n  'am',\n  'in',\n  'spain',\n  'and',\n  'you',\n  'then',\n  'text',\n  'and',\n  'say',\n  'I',\n  'have',\n  'used',\n  'up',\n  'all',\n  'my',\n  'data',\n  '#terrible',\n  'service'],\n ['@user',\n  'if',\n  'we',\n  'do',\n  'not',\n  'understand',\n  'how',\n  'to',\n  'express',\n  'our',\n  'emotions',\n  'to',\n  'others',\n  ',',\n  'may',\n  'lead',\n  'to',\n  'sadness',\n  '/',\n  'loneliness',\n  '&',\n  'neg',\n  'impact',\n  'on',\n  'long',\n  'term',\n  'mh',\n  '#mhchat'],\n ['@user',\n  'I',\n  'am',\n  'so',\n  'sorry',\n  '.',\n  'this',\n  'is',\n  'heartbreaking',\n  'and',\n  'so',\n  'scary',\n  '.',\n  'if',\n  'it',\n  'can',\n  'happen',\n  'there',\n  'it',\n  'can',\n  'happen',\n  'anywhere',\n  '.',\n  'please',\n  'be',\n  'safe',\n  '🙏',\n  '🏻'],\n ['@user',\n  '@user',\n  'I',\n  'have',\n  'got',\n  '#teampaella',\n  'presents',\n  'on',\n  'their',\n  'way',\n  'for',\n  'you',\n  'and',\n  'fi',\n  'but',\n  'i',\n  'do',\n  'not',\n  'think',\n  'they',\n  'will',\n  'arrive',\n  'by',\n  'saturday',\n  'sadly',\n  '!',\n  '!',\n  ';)'],\n ['a',\n  'cheerful',\n  'heart',\n  'is',\n  'good',\n  'medicine',\n  ',',\n  'but',\n  'a',\n  'crushed',\n  'spirit',\n  'dries',\n  'up',\n  'the',\n  'bones',\n  '.',\n  'a',\n  'wicked',\n  'man',\n  'accepts',\n  'a',\n  'bribe',\n  'in',\n  'secret',\n  'to',\n  'pervert',\n  'justice',\n  '.'],\n ['the',\n  'side',\n  'effects',\n  'of',\n  '#fighting',\n  'and',\n  '#disrespect',\n  '..',\n  'comes',\n  '#ignoring',\n  'the',\n  'person',\n  'and',\n  'show',\n  'you',\n  \"#don'tcare\",\n  'at',\n  'all',\n  '!',\n  '!',\n  '#sweet',\n  '#revenge',\n  '.'],\n ['#welfarereform',\n  'should',\n  'not',\n  'be',\n  'a',\n  \"'\",\n  'model',\n  \"'\",\n  'for',\n  '#snap',\n  '.'],\n ['@user',\n  'but',\n  'what',\n  'i',\n  'am',\n  'doing',\n  'is',\n  'in',\n  'my',\n  'control',\n  ',',\n  '#avoidmmt',\n  ',',\n  'you',\n  'guys',\n  'are'],\n ['i',\n  'truly',\n  'feel',\n  'like',\n  'science',\n  'has',\n  'the',\n  'ability',\n  'to',\n  'make',\n  'a',\n  'milk',\n  'out',\n  'of',\n  'anything',\n  '...',\n  'cashew',\n  'milk',\n  ',',\n  'hemp',\n  'milk',\n  ',',\n  'pine',\n  'nut',\n  'milk',\n  ',',\n  'dandelion',\n  'milk'],\n ['@user',\n  '@user',\n  'her',\n  'team',\n  'must',\n  'draw',\n  'from',\n  'a',\n  'hat',\n  'for',\n  'daily',\n  'personality',\n  '#drugged',\n  '#yeller',\n  '#quiet',\n  '#screamer',\n  '#',\n  '😂',\n  '😂'],\n ['#',\n  'isis',\n  'references',\n  'scrubbed',\n  '?',\n  'federal',\n  'complaint',\n  'against',\n  'suspect',\n  'in',\n  'nyc',\n  ',',\n  'nj',\n  'bombings',\n  'appears',\n  'to',\n  'omit',\n  'terror',\n  'names',\n  'in',\n  'bloody',\n  'journ',\n  '...',\n  '#news'],\n ['free',\n  'live',\n  'music',\n  'in',\n  'dc',\n  'tonight',\n  '!',\n  '#blues',\n  'with',\n  '#moonshinesociety',\n  'at',\n  '@user',\n  'in',\n  'the',\n  'loft',\n  'starting',\n  'at',\n  '10:30',\n  'pm',\n  '@user',\n  '@user'],\n ['espn', 'just', 'assumed', 'i', 'wanted', 'their', 'free', 'magazines'],\n ['i',\n  'am',\n  'a',\n  'third',\n  'year',\n  'college',\n  'student',\n  'and',\n  'and',\n  'english',\n  'major',\n  '.',\n  'today',\n  'is',\n  'the',\n  'first',\n  'time',\n  'I',\n  'have',\n  'ever',\n  'written',\n  'an',\n  'essay',\n  'without',\n  'having',\n  'a',\n  'panic',\n  'attack'],\n ['@user', 'do', 'not', 'leave', 'me', '#sad'],\n ['honestly',\n  'do',\n  'not',\n  'know',\n  'why',\n  'I',\n  'am',\n  'so',\n  'unhappy',\n  'most',\n  'of',\n  'the',\n  'time',\n  '.',\n  'i',\n  'just',\n  'want',\n  'it',\n  'all',\n  'to',\n  'stop',\n  ':(',\n  '#itnevergoes'],\n ['i',\n  'am',\n  '#real',\n  '#sjw',\n  ',',\n  'i',\n  'will',\n  'not',\n  'let',\n  '#america',\n  'down',\n  'i',\n  'have',\n  'found',\n  'us',\n  ',',\n  'now',\n  'go',\n  'and',\n  'get',\n  'us',\n  'i',\n  'let',\n  'it',\n  'out',\n  'and',\n  'i',\n  'let',\n  'it',\n  'in',\n  'i',\n  '#rage',\n  'i',\n  '#lol',\n  '@sergiosarzedo'],\n ['the',\n  'neighbor',\n  'dancing',\n  'in',\n  'the',\n  'clayton',\n  'homes',\n  'commercial',\n  'is',\n  'me',\n  '.',\n  '#hilarious'],\n ['@user',\n  'yuuuhh',\n  '🙄',\n  '😭',\n  'plus',\n  'clin',\n  'ep',\n  'and',\n  'prevmed',\n  'ugghhh',\n  'hahaha'],\n ['@user',\n  'ended',\n  'up',\n  'paying',\n  '75p',\n  'for',\n  'half',\n  'a',\n  'tube',\n  'of',\n  'smarties',\n  '.',\n  'do',\n  'not',\n  'even',\n  'get',\n  'the',\n  'pleasure',\n  'of',\n  'popping',\n  'the',\n  'plastic',\n  'lid',\n  'off',\n  'either',\n  '#outrage'],\n ['rooney', '=', 'whipping', 'boy', '.', '#mufc'],\n ['@user',\n  '@user',\n  'horrid',\n  'disease',\n  '!',\n  'my',\n  'maternal',\n  'grandmother',\n  'and',\n  'each',\n  'of',\n  'her',\n  'sisters',\n  'suffered',\n  'from',\n  'this',\n  'affliction',\n  '.',\n  'it',\n  'is',\n  'hard',\n  'on',\n  'all',\n  '.'],\n ['side',\n  \"chick's\",\n  'be',\n  'trying',\n  'to',\n  'fuck',\n  'you',\n  'like',\n  'your',\n  'going',\n  'to',\n  'forget',\n  'about',\n  'your',\n  'wife',\n  'when',\n  'your',\n  'done',\n  '.'],\n ['praying',\n  'for',\n  'the',\n  '#lord',\n  'to',\n  'keep',\n  '#anger',\n  '#hate',\n  '#jealousy',\n  'away',\n  'from',\n  'your',\n  'heart',\n  'is',\n  'a',\n  'sign',\n  'of',\n  '#maturity',\n  '#conciseness'],\n ['do', 'not', 'get', 'too', 'close', 'it', 'is', 'dark', 'inside', '🌫', '🌊'],\n ['@user', 'you', 'tried', 'boiling', 'em', 'takes', 'years', 'too'],\n ['loving',\n  '@user',\n  '@user',\n  'talk',\n  '#challenge',\n  '#fear',\n  '#map',\n  '#inspiration',\n  '#stayunstoppable'],\n ['how',\n  'hard',\n  'is',\n  'it',\n  'to',\n  'get',\n  'in',\n  'touch',\n  'with',\n  '@user',\n  'one',\n  'simple',\n  'question',\n  'i',\n  'cannot',\n  'find',\n  'answer',\n  'to',\n  'on',\n  'website',\n  'and',\n  '1',\n  'hour',\n  'waiting',\n  'for',\n  'online',\n  'chat'],\n ['i',\n  'seem',\n  'to',\n  'alternate',\n  'between',\n  \"'\",\n  'sleep-full',\n  \"'\",\n  'and',\n  'sleepless',\n  'nights',\n  '.',\n  'tonight',\n  'is',\n  'a',\n  'sleepless',\n  'one',\n  '.',\n  '😕',\n  '#insomnia',\n  '#notfair'],\n ['@user',\n  'sam',\n  '-',\n  'yes',\n  'we',\n  'have',\n  '!',\n  'not',\n  'helpful',\n  'at',\n  'all',\n  '!',\n  'we',\n  'need',\n  'this',\n  'sorting',\n  'asap',\n  '!',\n  'you',\n  'keep',\n  'promising',\n  'stuff',\n  'that',\n  'does',\n  'not',\n  'happen',\n  '!',\n  '!',\n  '!',\n  '#fuming'],\n ['@user',\n  'just',\n  'to',\n  'help',\n  'maintain',\n  'and',\n  'boost',\n  'our',\n  'status',\n  'as',\n  'a',\n  'world',\n  'class',\n  'centre',\n  'for',\n  'education',\n  ',',\n  'culture',\n  'and',\n  'tolerance',\n  '.'],\n ['@user',\n  \"'\",\n  'just',\n  'by',\n  'getting',\n  'lost',\n  '!',\n  'i',\n  'do',\n  'not',\n  'want',\n  'to',\n  'see',\n  'you',\n  'in',\n  'my',\n  'eyes',\n  '!',\n  \"'\",\n  'hungary',\n  'huffed',\n  'and',\n  'crossed',\n  'her',\n  'arms',\n  ',',\n  'looking',\n  'away',\n  'angrily',\n  '.'],\n ['@user',\n  'apparently',\n  'you',\n  'are',\n  'to',\n  'contact',\n  'me',\n  '.',\n  'sofas',\n  'were',\n  'meant',\n  'to',\n  'be',\n  'delivered',\n  'today',\n  '.',\n  'old',\n  'ones',\n  'gone',\n  '.',\n  'sitting',\n  'on',\n  'floor',\n  '.',\n  'no',\n  'sofas',\n  '!',\n  '#fuming'],\n ['@user',\n  'i',\n  'nearly',\n  'started',\n  'crying',\n  'and',\n  'having',\n  'a',\n  'full',\n  'on',\n  'panic',\n  'attack',\n  'after',\n  'tatinof',\n  'bc',\n  'of',\n  'the',\n  'crowds',\n  'so',\n  'i',\n  'feel',\n  'him'],\n ['ffs',\n  'as',\n  'if',\n  'tate',\n  'thought',\n  'wind',\n  'in',\n  'the',\n  'willows',\n  'was',\n  'a',\n  'serious',\n  'play',\n  ',',\n  'cannot',\n  'wait',\n  'to',\n  'see',\n  'him',\n  'play',\n  'a',\n  'singing',\n  'badger',\n  '😩',\n  '😂'],\n ['@user',\n  \"'\",\n  'congratulations',\n  'your',\n  'free',\n  '1',\n  'month',\n  'has',\n  'been',\n  'activated',\n  \"'\",\n  'then',\n  'charges',\n  '£',\n  '34.80',\n  'the',\n  'same',\n  'month',\n  '.',\n  'absolutely',\n  'furious',\n  '😡'],\n ['if',\n  'a',\n  'cop',\n  'is',\n  'going',\n  'to',\n  'pull',\n  'a',\n  'gun',\n  'on',\n  'you',\n  'for',\n  'no',\n  'reason',\n  'at',\n  'all',\n  'and',\n  'threaten',\n  'you',\n  ',',\n  'you',\n  'should',\n  'be',\n  'able',\n  'to',\n  'merk',\n  'his',\n  'ass',\n  'and',\n  'walk',\n  'away',\n  '.'],\n ['@user', 'jeezus', 'god'],\n ['i', 'need', 'some', 'to', 'help', 'with', 'my', 'anger'],\n ['just',\n  'got',\n  'done',\n  'watching',\n  'jeepers',\n  'creepers',\n  'it',\n  'was',\n  'epic',\n  '#horror',\n  '#horrormoviesarebest',\n  '#movies',\n  '#movie',\n  '#horrorfilm',\n  '🎬',\n  '📽',\n  '🎬'],\n ['tho',\n  'we',\n  'have',\n  'not',\n  'talked',\n  'jeff',\n  'but',\n  'the',\n  'news',\n  'is',\n  'so',\n  'sad',\n  'and',\n  'shocking',\n  '.',\n  'r',\n  '.',\n  'i',\n  '.',\n  'p',\n  'jeffrey'],\n ['second',\n  'day',\n  'on',\n  'the',\n  'job',\n  'and',\n  'i',\n  'already',\n  'got',\n  'a',\n  '45',\n  'dollar',\n  'tip',\n  'from',\n  'a',\n  'dude',\n  'whose',\n  'was',\n  'constantly',\n  'twitching',\n  'his',\n  'eye',\n  'lololol',\n  '#cheering'],\n ['look',\n  'at',\n  'us',\n  ',',\n  'smiling',\n  'in',\n  'the',\n  'photograph',\n  '♪',\n  'you',\n  'can',\n  'see',\n  'the',\n  'secrets',\n  'behind',\n  'the',\n  'fake',\n  'smiles',\n  '♪',\n  '(',\n  '*',\n  '・',\n  'ω',\n  '・',\n  '*',\n  ')',\n  '(',\n  '©',\n  'fact',\n  '「',\n  'a',\n  'fact',\n  'of',\n  'life',\n  '」',\n  ')'],\n ['it',\n  'is',\n  'been',\n  '5',\n  'weeks',\n  'and',\n  'i',\n  'still',\n  'go',\n  'through',\n  'depression',\n  'smh'],\n ['we', 'have', 'left', '#maine', '.', '#sadness'],\n ['@user',\n  'where',\n  'has',\n  'your',\n  '50',\n  '%',\n  'grapefruit',\n  'squash',\n  'gone',\n  ',',\n  'not',\n  'been',\n  'able',\n  'to',\n  'get',\n  'for',\n  'weeks',\n  '#unhappy'],\n ['howl',\n  'at',\n  'the',\n  'moon',\n  'with',\n  '@user',\n  'at',\n  '@user',\n  'next',\n  'wednesday',\n  'the',\n  '28th',\n  'for',\n  'a',\n  'free',\n  'double',\n  'feature',\n  'of',\n  'silver',\n  'bullet',\n  'and',\n  'cursed'],\n ['i',\n  'am',\n  'often',\n  'disturbed',\n  'by',\n  'what',\n  'some',\n  'people',\n  'find',\n  'appropriate',\n  'or',\n  'acceptable',\n  '.',\n  'it',\n  'is',\n  'not',\n  'funny',\n  'nor',\n  'cute',\n  'that',\n  'adults',\n  'find',\n  'this',\n  'stuff',\n  'humorous',\n  '.',\n  '#sad'],\n ['“',\n  'what',\n  'worries',\n  'you',\n  'masters',\n  'you',\n  '.',\n  '”',\n  '-',\n  'haddon',\n  'robinson',\n  '@user',\n  '#jesusisthesubject',\n  '#anxious'],\n ['love',\n  'takes',\n  'off',\n  'the',\n  'masks',\n  'that',\n  'we',\n  'fear',\n  'we',\n  'cannot',\n  'live',\n  'without',\n  'and',\n  'know',\n  'we',\n  'cannot',\n  'live',\n  'within',\n  '.',\n  '-',\n  'james',\n  'a',\n  '.',\n  'baldwin'],\n ['i',\n  'would',\n  'not',\n  'have',\n  '#anger',\n  'issues',\n  '...',\n  'if',\n  'she',\n  'did',\n  'not',\n  'have',\n  '#lying',\n  'issues',\n  '...',\n  'think',\n  'about',\n  'that',\n  'one',\n  '.',\n  '#pow',\n  '#lies',\n  '#confusion'],\n ['when',\n  'you',\n  'have',\n  '15',\n  'doe',\n  'run',\n  'the',\n  'opposite',\n  'side',\n  'of',\n  'you',\n  '🙁'],\n ['worst',\n  'juror',\n  'ever',\n  '?',\n  'michelle',\n  '.',\n  'you',\n  'were',\n  \"nicole's\",\n  'biggest',\n  'threat',\n  '.',\n  '#bitter',\n  '#bb18'],\n ['@user', 'he', 'is', 'stupid', ',', 'i', 'hate', 'him', 'lol', '#bitter'],\n ['people',\n  'are',\n  'trying',\n  'too',\n  'hard',\n  'to',\n  'hate',\n  'on',\n  'cam',\n  'newton',\n  'without',\n  'understanding',\n  'his',\n  'position',\n  '#sad'],\n ['angry',\n  'shouting',\n  'match',\n  'between',\n  'a',\n  '#pessimist',\n  '&',\n  'an',\n  '#optimist',\n  ':',\n  \"'\",\n  'you',\n  'are',\n  'a',\n  'half',\n  'empty-headed',\n  '@user',\n  \"'\",\n  'you',\n  'are',\n  'half',\n  'full',\n  'of',\n  '@user'],\n ['@user', 'did', 'it', 'not', 'just', 'enliven', 'your', 'soul'],\n ['now',\n  '...',\n  'what',\n  'to',\n  'do',\n  'for',\n  'the',\n  'next',\n  'hour',\n  'while',\n  'waiting',\n  'for',\n  '#ourgirl',\n  'to',\n  'start',\n  '@user',\n  '?',\n  '!'],\n ['@user',\n  '@user',\n  '@user',\n  '@user',\n  '@user',\n  '@user',\n  '@user',\n  'oh',\n  'god',\n  ',',\n  'not',\n  'brewer',\n  'again',\n  '.',\n  'the',\n  'horror',\n  ',',\n  'the',\n  'horror'],\n ['fucking',\n  'hell',\n  '.',\n  'rush',\n  'for',\n  'the',\n  'damn',\n  'train',\n  'also',\n  'no',\n  'use',\n  '.',\n  'fucking',\n  '4min',\n  'wait',\n  '.',\n  'still',\n  'sweating',\n  '.',\n  '#smrtruinslives'],\n ['i', 'was', 'angry', '.'],\n ['i',\n  'love',\n  'when',\n  'people',\n  'say',\n  'they',\n  'are',\n  'not',\n  'racist',\n  'right',\n  'before',\n  'they',\n  'say',\n  'some',\n  'racist',\n  'shit',\n  '...',\n  'not',\n  'how',\n  'that',\n  'works',\n  '...',\n  '#fuming'],\n ['sometimes',\n  'i',\n  'think',\n  'the',\n  'british',\n  'political',\n  'landscape',\n  'is',\n  'desolate',\n  'and',\n  'then',\n  'i',\n  'look',\n  'over',\n  'at',\n  'the',\n  'foaming',\n  'wasteland',\n  'of',\n  'the',\n  'us',\n  'and',\n  'think',\n  'we',\n  'are',\n  'ok'],\n ['@user',\n  '@user',\n  'you',\n  'two',\n  'are',\n  'ten',\n  'times',\n  'more',\n  'interesting',\n  'than',\n  'those',\n  'particular',\n  'afternoon',\n  'goofballs',\n  '(',\n  'i',\n  'could',\n  'say',\n  'worse',\n  ')',\n  '.',\n  '#umbrage'],\n ['@user',\n  '@user',\n  'was',\n  'there',\n  'a',\n  'clown',\n  'in',\n  'your',\n  'neighborhood',\n  '?',\n  '#creepy',\n  '#enoughisenough'],\n ['@user',\n  'ehhh',\n  'i',\n  'guess',\n  '.',\n  'i',\n  'want',\n  'to',\n  'everyone',\n  'I',\n  'have',\n  'ever',\n  'burst',\n  'out',\n  'laughing',\n  'in',\n  'front',\n  'of',\n  '😂'],\n ['my',\n  'boss',\n  'likes',\n  'to',\n  'stand',\n  'in',\n  'my',\n  'office',\n  '&',\n  'smile',\n  'at',\n  'me',\n  'like',\n  'a',\n  'shark',\n  ':',\n  'maliciously',\n  'gleeful',\n  ',',\n  'and',\n  'ask',\n  'me',\n  'how',\n  'am',\n  'i',\n  'as',\n  'if',\n  'i',\n  'have',\n  'a',\n  'secret',\n  'to',\n  'tell',\n  'her',\n  '.'],\n ['#amwriting',\n  '#horror',\n  'in',\n  'the',\n  'dark',\n  'and',\n  'a',\n  'loud',\n  'creaking',\n  'door',\n  'noise',\n  'is',\n  'coming',\n  'from',\n  'the',\n  'kitchen',\n  '.',\n  'there',\n  'are',\n  'no',\n  'doors',\n  'there',\n  'to',\n  'creak',\n  '.',\n  'wtf',\n  '.'],\n ['🔥',\n  'anger',\n  'is',\n  'the',\n  'acid',\n  'that',\n  'can',\n  'do',\n  'more',\n  'harm',\n  'to',\n  'the',\n  'vessel',\n  'in',\n  'which',\n  'it',\n  'is',\n  'stored',\n  'than',\n  'to',\n  'anything',\n  'on',\n  'which',\n  'it',\n  'is',\n  'poured',\n  '.',\n  '🔥',\n  '#anger',\n  '~',\n  'mark',\n  'twain'],\n ['@user',\n  'how',\n  'do',\n  'you',\n  'guys',\n  'determine',\n  'teams',\n  '?',\n  'because',\n  'I',\n  'am',\n  '80',\n  '%',\n  'on',\n  'shitty',\n  'teams',\n  'when',\n  'i',\n  'play',\n  'and',\n  'I',\n  'am',\n  'fuckin',\n  'over',\n  'it',\n  '#cod'],\n ['@user',\n  '@user',\n  'only',\n  'offering',\n  '6',\n  'moth',\n  'warranty',\n  '#ps4pro',\n  '#truth',\n  '#ripoff'],\n ['@user',\n  'there',\n  'was',\n  'a',\n  'us',\n  'diver',\n  'named',\n  'steele',\n  'johnson',\n  '.',\n  'I',\n  'would',\n  'like',\n  'him',\n  'barred',\n  'from',\n  'the',\n  'olympics',\n  '.'],\n ['and', 'here', 'we', 'go', 'again', '😓', '#restless'],\n ['@user',\n  'give',\n  'it',\n  'up',\n  'gas',\n  ',',\n  'i',\n  'do',\n  'not',\n  'hate',\n  'you',\n  ',',\n  'i',\n  'just',\n  'do',\n  'not',\n  'respect',\n  'ur',\n  'rudeness',\n  '.',\n  '#bully'],\n ['what',\n  'is',\n  'with',\n  'these',\n  'boxes',\n  'when',\n  'i',\n  'search',\n  'google',\n  'on',\n  'chrome',\n  '#distracting'],\n ['when',\n  'you',\n  'wake',\n  'up',\n  ',',\n  'scroll',\n  'through',\n  'social',\n  'media',\n  ',',\n  'and',\n  'another',\n  'father',\n  'was',\n  'taken',\n  'from',\n  'his',\n  'child',\n  '#everyday',\n  '#keithlamontscott'],\n ['@user',\n  'it',\n  'is',\n  'buzzing',\n  'pathetically',\n  'for',\n  'sympathy',\n  'if',\n  'you',\n  'let',\n  'it',\n  'out',\n  'it',\n  'will',\n  'twirl',\n  'it',\n  'is',\n  'moustache',\n  ',',\n  'chuckle',\n  'and',\n  'sting',\n  'you',\n  '#psychowasp'],\n ['@user', 'terrible'],\n ['@user',\n  'I',\n  'am',\n  'surrounded',\n  'by',\n  'those',\n  'trump',\n  'voters',\n  '.',\n  'you',\n  'are',\n  'right',\n  ',',\n  'it',\n  'is',\n  'fucking',\n  'terrifying',\n  '.',\n  '#redstate'],\n ['democracy',\n  'does',\n  'not',\n  'work',\n  '#mob',\n  '#mentality',\n  '#mass',\n  '#hysteria',\n  '#mongering',\n  '#oligarchy'],\n ['can',\n  'we',\n  'get',\n  'a',\n  'shot',\n  'of',\n  'lingys',\n  'face',\n  'at',\n  '1/4',\n  'time',\n  '?',\n  'pretty',\n  'sure',\n  'it',\n  'would',\n  'be',\n  'more',\n  'red',\n  'then',\n  'his',\n  'hair',\n  '#pretendinghesok',\n  '#ruok',\n  '#aflcatsswans'],\n ['@user',\n  '@user',\n  'give',\n  'me',\n  'a',\n  'smiling',\n  'emoticon',\n  'will',\n  'ya',\n  '?',\n  'i',\n  'do',\n  'not',\n  'like',\n  'the',\n  'idea',\n  'of',\n  'you',\n  'frowning',\n  '>',\n  '.',\n  '<'],\n ['so',\n  'my',\n  'indian',\n  'uber',\n  'driver',\n  'just',\n  'called',\n  'someone',\n  'the',\n  'n',\n  'word',\n  '.',\n  'if',\n  'i',\n  'was',\n  'not',\n  'in',\n  'a',\n  'moving',\n  'vehicle',\n  'I',\n  'would',\n  'have',\n  'jumped',\n  'out',\n  '#disgusted'],\n ['@user',\n  '@user',\n  'welcome',\n  'ji',\n  '.',\n  'sorry',\n  'for',\n  'words',\n  'that',\n  'irritate',\n  'you'],\n ['asian',\n  'tiger',\n  '#mosquitoes',\n  'are',\n  'so',\n  'relentless',\n  '.',\n  'more',\n  'aggressive',\n  'than',\n  'the',\n  'kind',\n  'i',\n  'dealt',\n  'w',\n  '/',\n  'as',\n  'a',\n  'kid',\n  '.'],\n ['goddamn', 'headache', '.', '#anger'],\n ['never',\n  'forget',\n  'that',\n  '5live',\n  'cancelled',\n  'programs',\n  ',',\n  'to',\n  'allow',\n  'them',\n  'to',\n  'extend',\n  '606',\n  'so',\n  'people',\n  'could',\n  'call',\n  'in',\n  'and',\n  'detail',\n  'their',\n  'outrage',\n  'after',\n  'our',\n  'behaviour'],\n ['glad',\n  'i',\n  'did',\n  'not',\n  'watch',\n  'smackdown',\n  'because',\n  'i',\n  'cannot',\n  'see',\n  'my',\n  'men',\n  '@user',\n  '@user',\n  'lose',\n  '.',\n  '#sohurt',\n  '#revenge'],\n ['#lmfao',\n  '@user',\n  \"'\",\n  's',\n  '#racepimp',\n  'tamron',\n  'hall',\n  'used',\n  'the',\n  'words',\n  \"'\",\n  'fscts',\n  \"'\",\n  'and',\n  \"'\",\n  'msnbc',\n  \"'\",\n  'in',\n  'the',\n  'same',\n  'sentence',\n  '#libtard',\n  '#biasedmedia',\n  '#neverhillary'],\n ['hate', 'when', 'guys', 'cannot', 'control', 'their', 'anger', '🙃', '🙃'],\n ['just',\n  'caught',\n  'up',\n  'with',\n  '@user',\n  'wonderful',\n  'new',\n  'series',\n  'on',\n  '#ealingcomedies',\n  '.',\n  'infectious',\n  'delight',\n  'in',\n  'every',\n  'interview',\n  'and',\n  'film',\n  'clip',\n  '.'],\n ['so', 'rangers', 'v', 'celtic', 'll', '#revenge'],\n ['@user',\n  'unless',\n  'your',\n  'concern',\n  'is',\n  'people',\n  'figuring',\n  'out',\n  'who',\n  'you',\n  'are',\n  'for',\n  'wtvr',\n  'reason',\n  ',',\n  'i',\n  'do',\n  'not',\n  'see',\n  'why',\n  'you',\n  'should',\n  'not',\n  'tweet',\n  'about',\n  'other',\n  'things'],\n ['@user',\n  '@user',\n  '@user',\n  '@user',\n  'these',\n  'interviews',\n  'scare',\n  'the',\n  'crap',\n  'out',\n  'of',\n  'me',\n  '.',\n  'i',\n  'never',\n  'imagined',\n  'so',\n  'many',\n  'dumb',\n  ',',\n  'dumb',\n  'americans',\n  '.'],\n ['omg', 'he', 'kissed', 'her', '🙈', '#', 'w'],\n ['@user',\n  'gabe',\n  'the',\n  'worst',\n  'part',\n  'is',\n  'i',\n  'cannot',\n  'get',\n  'hot',\n  'status',\n  'this',\n  'month',\n  'because',\n  'there',\n  'is',\n  'no',\n  'chipotle',\n  'near',\n  'enough',\n  'to',\n  'my',\n  'campus',\n  '#sadness'],\n ['lot', '100', 'would', 'give', 'ghandi', 'road', 'rage'],\n ['being',\n  'forced',\n  'into',\n  'a',\n  'fake',\n  'hug',\n  'by',\n  'someone',\n  'who',\n  'didn',\n  '’',\n  't',\n  'flinch',\n  'to',\n  'get',\n  'litigious',\n  'with',\n  'you',\n  'in',\n  'the',\n  'past',\n  '-',\n  '#awful',\n  '😖',\n  '👺',\n  '🙅'],\n ['@user',\n  '#worst',\n  'exec',\n  'complaints',\n  'ever',\n  '#horrific',\n  'customer',\n  'journey'],\n ['the',\n  'ghost',\n  'of',\n  'stefano',\n  'reflects',\n  'on',\n  'the',\n  'grim',\n  'indignity',\n  'of',\n  'being',\n  'murdered',\n  'by',\n  'corrupt',\n  'cops',\n  'in',\n  'faux',\n  'love',\n  '.',\n  '#days'],\n ['@user',\n  '@user',\n  '@user',\n  '#bully',\n  '#bullshit',\n  '#fullofshit',\n  'please',\n  'take',\n  'out',\n  'the',\n  '#garbage'],\n ['@user', 'she', 'looks', 'completely', '#rabid', '@user'],\n ['@user',\n  'I',\n  'am',\n  'always',\n  'a',\n  'little',\n  'bit',\n  'weary',\n  'of',\n  'speaking',\n  'up',\n  'because',\n  '1',\n  '.',\n  'i',\n  'do',\n  'not',\n  'want',\n  'to',\n  'hijack',\n  'the',\n  'convo',\n  '-',\n  'as',\n  'an',\n  'lgbt',\n  'person',\n  ',',\n  'I',\n  'have',\n  'seen'],\n ['@user',\n  'shameful',\n  'display',\n  'i',\n  'watched',\n  'today',\n  'has',\n  'left',\n  'me',\n  'reeling',\n  'with',\n  'so',\n  'much',\n  'anger',\n  'dt',\n  'i',\n  'feel',\n  'like',\n  'exploding',\n  ',',\n  'those',\n  'clowns',\n  'should',\n  'watch',\n  'it'],\n ['we',\n  'so',\n  'elated',\n  ',',\n  'we',\n  'celebrated',\n  'like',\n  'obama',\n  'waited',\n  'until',\n  'his',\n  'last',\n  'day',\n  'in',\n  'office',\n  'to',\n  'tell',\n  'the',\n  'nation',\n  ',',\n  'brothers',\n  'is',\n  'getting',\n  'their',\n  'reparations'],\n ['@user',\n  'it',\n  'does',\n  'not',\n  'offend',\n  'me',\n  'but',\n  'it',\n  'is',\n  'just',\n  ',',\n  ',',\n  ',',\n  'weird',\n  '.'],\n ['@user',\n  'hit',\n  'the',\n  'sink',\n  'with',\n  'a',\n  'hammer',\n  '...',\n  'sorry',\n  ',',\n  'the',\n  'universal',\n  'modifier',\n  '!'],\n ['@user',\n  'not',\n  'received',\n  'verification',\n  'email',\n  ',',\n  'asked',\n  'for',\n  'it',\n  'to',\n  'be',\n  'resent',\n  '5',\n  'times',\n  'still',\n  'nothing',\n  '.'],\n ['@user',\n  'i',\n  'would',\n  'just',\n  'get',\n  'some',\n  'decent',\n  'referees',\n  '#shocking'],\n ['@user',\n  'forget',\n  'the',\n  'hair',\n  ',',\n  'that',\n  'salon',\n  'looks',\n  'so',\n  'light',\n  '&',\n  'cheery',\n  '!',\n  'would',\n  'go',\n  'there',\n  'for',\n  'a',\n  'coffee',\n  '&',\n  'read',\n  'a',\n  'book',\n  '!'],\n ['@user', 'if', 'this', 'room', 'was', 'burning', '🔥'],\n ['@user',\n  '@user',\n  'candy',\n  'corn',\n  'is',\n  'the',\n  'greatest',\n  'candy',\n  'in',\n  'the',\n  'world',\n  'when',\n  'it',\n  'comes',\n  'to',\n  'being',\n  'objectively',\n  'terrible'],\n ['you', 'insult', 'the', 'late', 'sherri', 'martel'],\n ['i',\n  'hate',\n  'that',\n  'if',\n  'i',\n  'do',\n  'not',\n  'start',\n  'the',\n  'conversation',\n  ',',\n  'there',\n  'will',\n  'not',\n  'be',\n  'one',\n  '.'],\n ['@user', 'yes', 'hun', '!', 'avoid', 'at', 'all', 'costs', '!', '!'],\n ['when',\n  'a',\n  'grown',\n  'adult',\n  'does',\n  'not',\n  'drink',\n  'or',\n  'has',\n  'never',\n  'drank',\n  'before',\n  'i',\n  'just',\n  'assume',\n  'they',\n  'were',\n  'raised',\n  'around',\n  'a',\n  'raging',\n  'alcoholic',\n  'and',\n  'they',\n  'want',\n  'no',\n  'parts',\n  '.'],\n ['happy',\n  '69th',\n  '@user',\n  'may',\n  'you',\n  'keep',\n  'haunting',\n  'us',\n  'for',\n  'many',\n  'years',\n  '.',\n  '#horror',\n  '#writing'],\n ['@user',\n  '#terrorism',\n  'should',\n  'not',\n  'be',\n  'a',\n  'way',\n  'of',\n  'life',\n  'in',\n  'the',\n  'united',\n  'etates',\n  'and',\n  'was',\n  'not',\n  'until',\n  '#islam',\n  'brought',\n  'it',\n  'here',\n  '!',\n  '#islamexposed',\n  '#islambacon'],\n ['watch',\n  'this',\n  'amazing',\n  'live.ly',\n  'broadcast',\n  'by',\n  '@user',\n  '#musically'],\n ['i', 'mourn', 'the', 'creativity', 'lost', '.'],\n ['@user',\n  'take',\n  'deep',\n  'breaths',\n  'bc',\n  'the',\n  'shaking',\n  'could',\n  'be',\n  'from',\n  'adrenaline',\n  '.',\n  'oh',\n  'wow',\n  'that',\n  'is',\n  'weird',\n  '.',\n  'depending',\n  'if',\n  'you',\n  'are',\n  'regular',\n  'or',\n  'not',\n  'that',\n  'varies',\n  '-'],\n ['sorry',\n  'guys',\n  'i',\n  'have',\n  'absolutely',\n  'no',\n  'idea',\n  'what',\n  'time',\n  'I',\n  'will',\n  'be',\n  'on',\n  'cam',\n  'tomorrow',\n  'but',\n  'will',\n  'keep',\n  'you',\n  'posted',\n  '.'],\n ['nooooo', '.', 'poor', 'blue', 'bell', '!', 'not', 'again', '.'],\n ['@user',\n  '@user',\n  'an',\n  \"'\",\n  'honorable',\n  'senator',\n  \"'\",\n  'cheering',\n  'when',\n  'a',\n  'cease',\n  'fire',\n  'does',\n  'not',\n  'hold',\n  '!',\n  'people',\n  'die',\n  'and',\n  'you',\n  'cheer',\n  '!',\n  'genocide',\n  'support',\n  'not',\n  'good',\n  '!'],\n ['professor',\n  ':',\n  'introduce',\n  'yourselves',\n  'and',\n  'say',\n  'one',\n  'interesting',\n  'fact',\n  'hi',\n  'I',\n  'am',\n  'ethan',\n  'and',\n  'the',\n  'sun',\n  'will',\n  'engulf',\n  'our',\n  'planet',\n  'in',\n  'a',\n  'fiery',\n  'explosion',\n  'one',\n  'day'],\n ['ignored',\n  'broken',\n  'tooth',\n  'for',\n  'so',\n  'long',\n  ',',\n  'now',\n  'have',\n  'abscess',\n  '.',\n  'need',\n  'dentist',\n  'but',\n  '#fear',\n  'makes',\n  'it',\n  'hard',\n  'for',\n  'me',\n  'to',\n  'go',\n  '..',\n  '45',\n  'and',\n  'still',\n  'cannot',\n  'go',\n  'to',\n  'dentist'],\n ['i',\n  'do',\n  'not',\n  'know',\n  'what',\n  'is',\n  'worse',\n  ',',\n  'the',\n  'new',\n  'pizza',\n  'hut',\n  'commercials',\n  'or',\n  'the',\n  'pizza',\n  'that',\n  'pizza',\n  'hut',\n  'makes',\n  '.',\n  '#horrible'],\n ['@user',\n  '@user',\n  '@user',\n  'i',\n  'once',\n  'hooked',\n  'them',\n  'up',\n  'backward',\n  '.',\n  'not',\n  'recommended',\n  '.',\n  '#smoke'],\n ['follow',\n  'my',\n  'girl',\n  'tiff',\n  'she',\n  'only',\n  'got',\n  '3',\n  'followers',\n  '💖',\n  '💘',\n  '💖',\n  '💘',\n  '💘',\n  '@user'],\n ['getting',\n  'so',\n  'excited',\n  'for',\n  '@user',\n  '2016',\n  '!',\n  '!',\n  'we',\n  'play',\n  'the',\n  'main',\n  'stage',\n  'sunday',\n  'oct',\n  '.',\n  '16',\n  'at',\n  '3:30',\n  '!',\n  '!',\n  '#jazzholiday',\n  '#riesbrothers',\n  '#rock',\n  '#blues',\n  '#jam'],\n ['love',\n  'how',\n  'megan',\n  'is',\n  'raging',\n  'about',\n  'this',\n  'kendall',\n  'jenner',\n  'photo',\n  'and',\n  'I',\n  'am',\n  'sat',\n  'here',\n  'like',\n  '🤔',\n  '🙃'],\n ['think',\n  'of',\n  '#anger',\n  'as',\n  'this',\n  'barrier',\n  'between',\n  'you',\n  'and',\n  'your',\n  'truth',\n  '.',\n  \"'\",\n  '@user'],\n ['new',\n  'play',\n  'through',\n  'tonight',\n  '!',\n  'pretty',\n  'much',\n  'a',\n  'blind',\n  'run',\n  '.',\n  'only',\n  'played',\n  'the',\n  'game',\n  'once',\n  'and',\n  'maybe',\n  'got',\n  '2',\n  'levels',\n  'it',\n  '.',\n  '#rage'],\n ['@user', '@user', 'yes', '!', 'i', 'am', 'rejoicing'],\n ['forgot', 'to', 'plug', 'the', 'phone', 'in', 'overnight', '#nightmare'],\n ['the',\n  'war',\n  'is',\n  'right',\n  'outside',\n  'your',\n  'door',\n  '#rage',\n  '#usatoday'],\n ['folk',\n  'band',\n  \"'\",\n  'thistle',\n  'down',\n  \"'\",\n  'will',\n  'be',\n  'replaced',\n  'by',\n  \"'\",\n  'the',\n  'paul',\n  'edwards',\n  'quartet',\n  \"'\",\n  'at',\n  'laurel',\n  'bank',\n  'park',\n  'sat',\n  '24',\n  '11am',\n  '-',\n  '3pm',\n  'due',\n  'to',\n  'ill',\n  'health',\n  '#jazz',\n  '#blues'],\n ['@user',\n  'haha',\n  '!',\n  '!',\n  'no',\n  ',',\n  'sorry',\n  'was',\n  'it',\n  'too',\n  'grim',\n  'even',\n  'for',\n  'you',\n  '?',\n  '!',\n  'it',\n  'disturbed',\n  'me',\n  '&',\n  'I',\n  'am',\n  'starting',\n  'to',\n  'lose',\n  'all',\n  'trust',\n  'in',\n  'twitter',\n  'generally',\n  '!',\n  '!'],\n ['when',\n  'you',\n  'are',\n  'scared',\n  'to',\n  'press',\n  'send',\n  '#bgoodthepoet',\n  '#prayforme',\n  '#thisisagoddream',\n  '#career',\n  '#help',\n  '#heart',\n  '#heartracing'],\n ['“',\n  'competition',\n  'is',\n  'suppose',\n  'to',\n  'motivate',\n  'you',\n  'to',\n  'do',\n  'better',\n  'everytime',\n  'not',\n  'to',\n  'be',\n  'bitter',\n  'all',\n  'the',\n  'time',\n  '”',\n  '-',\n  'de',\n  'philosopher',\n  'dj',\n  'kyos',\n  '#quote',\n  '#success',\n  '#csgo'],\n ['_her',\n  'mind',\n  'is',\n  'a',\n  '#dark',\n  'room',\n  ',',\n  'developing',\n  '#madness',\n  '♨',\n  '😘'],\n ['what',\n  'is',\n  'the',\n  'worst',\n  'affliction',\n  'that',\n  'you',\n  'or',\n  'someone',\n  'you',\n  'know',\n  'ever',\n  'convinced',\n  'yourself',\n  'you',\n  'had',\n  '?'],\n ['warning',\n  ':',\n  'i',\n  'am',\n  'a',\n  'sensitive',\n  ',',\n  'angry',\n  ',',\n  'insecure',\n  'baby',\n  'today',\n  ',',\n  'but',\n  'ugh',\n  'why',\n  'do',\n  'people',\n  'at',\n  'large',\n  'either',\n  'hate',\n  'or',\n  'ignore',\n  'me',\n  'bc',\n  'it',\n  'is',\n  'literally',\n  '~',\n  'the',\n  'worst',\n  '~'],\n ['like',\n  'he',\n  'really',\n  'just',\n  'fucking',\n  'asked',\n  'me',\n  'that',\n  '.',\n  '#offended'],\n ['@user',\n  'haha',\n  '!',\n  'she',\n  'did',\n  'well',\n  'today',\n  '.',\n  'i',\n  'cannot',\n  'get',\n  'beyond',\n  'her',\n  'pout',\n  'annoying',\n  'me',\n  'I',\n  'am',\n  'afraid',\n  '.'],\n ['have',\n  'to',\n  'say',\n  'that',\n  'third',\n  'city',\n  'kit',\n  'is',\n  'fucking',\n  'awful',\n  '.',\n  'someone',\n  'at',\n  'nike',\n  'wants',\n  'shooting',\n  '.'],\n ['damnnit',\n  '!',\n  'going',\n  'to',\n  'be',\n  '1400',\n  'pts',\n  'shy',\n  'on',\n  'chiefs',\n  'rewards',\n  'of',\n  'getting',\n  'a',\n  'post',\n  'game',\n  'photo',\n  '.'],\n ['i', 'just', 'want', 'to', 'be', 'in', 'canada', 'rn', '😭', 'awe'],\n ['@user',\n  '@user',\n  '@user',\n  'n-no',\n  '.',\n  'because',\n  'of',\n  'your',\n  'wrath',\n  '.'],\n ['@user',\n  '@user',\n  '@user',\n  'the',\n  'way',\n  'my',\n  'blood',\n  'is',\n  'boiling',\n  ',',\n  'little',\n  'bastards',\n  '!'],\n ['@user',\n  '@user',\n  '@user',\n  'I',\n  'am',\n  'sadly',\n  'not',\n  ',',\n  'I',\n  'am',\n  'just',\n  'being',\n  'smutty'],\n ['@user',\n  'but',\n  '@user',\n  'drugged',\n  'and',\n  'raped',\n  'those',\n  'women',\n  '.',\n  'at',\n  'least',\n  'you',\n  'and',\n  'barb',\n  'were',\n  'sober',\n  'and',\n  'consenting',\n  '!',\n  '!'],\n ['@user', 'awe', 'yay', 'wish', 'i', 'could', 'rt', '/:'],\n ['@user', 'how', 'dull', '.'],\n ['#anger',\n  'or',\n  '#wrath',\n  'is',\n  'an',\n  'intense',\n  'emotional',\n  'response',\n  '.'],\n ['I',\n  'am',\n  'at',\n  'the',\n  'point',\n  'in',\n  'my',\n  'life',\n  'that',\n  'I',\n  'am',\n  'playing',\n  'christmas',\n  'music',\n  'in',\n  'my',\n  'room',\n  'because',\n  'i',\n  'need',\n  'winter',\n  'and',\n  'joyful',\n  'times',\n  'rn'],\n ['chart', 'music', 'is', 'pretty', 'much', 'all', 'the', 'same', '..'],\n ['mom',\n  'you',\n  'remember',\n  'when',\n  'narley',\n  'died',\n  '?',\n  'you',\n  'cried',\n  'like',\n  'a',\n  'baby',\n  '!'],\n ['@user',\n  '@user',\n  '@user',\n  'i',\n  'do',\n  'not',\n  'listen',\n  'to',\n  'white',\n  'trash',\n  'talk',\n  'about',\n  'blacks',\n  '.',\n  'it',\n  'is',\n  'insult',\n  '.',\n  'talk',\n  'about',\n  'your',\n  'race',\n  'living',\n  'in',\n  'trailers'],\n ['my',\n  'alarm',\n  'clock',\n  'was',\n  'ringing',\n  'this',\n  'morning',\n  'n',\n  'my',\n  'flatmate',\n  'knocked',\n  'on',\n  'my',\n  'door',\n  'and',\n  'asked',\n  'if',\n  'i',\n  'set',\n  'anything',\n  'on',\n  'fire',\n  'or',\n  'if',\n  'I',\n  'am',\n  'burning',\n  'alive',\n  ':)',\n  ':)',\n  ':)'],\n ['why', 'do', 'i', 'have', 'such', 'bad', 'anxiety', 'it', 'is', 'annoying'],\n ['overwhelming',\n  'sadness',\n  '.',\n  'this',\n  'too',\n  'shall',\n  'pass',\n  '.',\n  '#lonley',\n  '#startingover'],\n ['second',\n  'day',\n  'on',\n  'the',\n  'job',\n  'and',\n  'i',\n  'already',\n  'got',\n  'a',\n  '45',\n  'dollar',\n  'tip',\n  'from',\n  'a',\n  'dude',\n  'whose',\n  'was',\n  'constantly',\n  'twitching',\n  'his',\n  'eye',\n  'lololol'],\n ['everything',\n  'is',\n  'far',\n  'away',\n  'because',\n  'time',\n  'is',\n  'short',\n  ',',\n  'no',\n  'rest',\n  'for',\n  'the',\n  'weary',\n  '.'],\n ['@user',\n  '@user',\n  'well',\n  'of',\n  'course.progress',\n  'for',\n  'the',\n  'sake',\n  'of',\n  'progress',\n  'must',\n  'be',\n  'discouraged',\n  '.',\n  'the',\n  'problem',\n  'is',\n  'the',\n  'substance',\n  'of',\n  'the',\n  'rhetoric'],\n ['confiaejce',\n  'comes',\n  'not',\n  'from',\n  'always',\n  'being',\n  'right',\n  'but',\n  'from',\n  'not',\n  'fearing',\n  'to',\n  'be',\n  'wrong',\n  '.',\n  '-',\n  'peter',\n  't',\n  '.',\n  'mcintyre'],\n ['i',\n  'love',\n  'that',\n  'tay',\n  '&',\n  'tiff',\n  'are',\n  'just',\n  'sitting',\n  'at',\n  'my',\n  'house',\n  'while',\n  'I',\n  'am',\n  'at',\n  'work',\n  '🙃'],\n ['@user',\n  'it',\n  'is',\n  'not',\n  'that',\n  'serious',\n  '.',\n  '#houvsne',\n  '#awful',\n  '#igotbetterthingstodotonightthandie'],\n ['harking',\n  'back',\n  'to',\n  '2012',\n  '-',\n  \"dt's\",\n  'challenge',\n  'to',\n  '@user',\n  'will',\n  'give',\n  '...',\n  'dt',\n  'a',\n  'hearty',\n  'thank',\n  'you',\n  '...',\n  'if',\n  'he',\n  'will',\n  'release',\n  'his',\n  'tax',\n  'returns',\n  '...'],\n ['@user', 'cheering', 'for', '@user', 'and', '@user'],\n ['i',\n  'wonder',\n  'if',\n  'the',\n  '#wolfcreek',\n  'tv',\n  'show',\n  'is',\n  'sponsored',\n  'by',\n  'the',\n  'anti-tourist',\n  'board',\n  'of',\n  'australia',\n  'to',\n  'discourage',\n  'visitors',\n  '?',\n  '#stayathome',\n  '#dontvisit'],\n ['there',\n  'is',\n  'no',\n  'shame',\n  'in',\n  'fear',\n  ',',\n  'what',\n  'matters',\n  'is',\n  'how',\n  'we',\n  'face',\n  'it',\n  '.'],\n ['@user',\n  '#mhchat',\n  'childhood',\n  'experiences',\n  'inform',\n  'adult',\n  'relationships',\n  '.',\n  'we',\n  'have',\n  'associative',\n  'memories',\n  'not',\n  'a',\n  'question',\n  'of',\n  'ability',\n  'to',\n  'process',\n  '#sadness'],\n ['@user',\n  'maybe',\n  'it',\n  'would',\n  'have',\n  'been',\n  'different',\n  'if',\n  'i',\n  'stayed',\n  'for',\n  'sixth',\n  'form',\n  '?',\n  'but',\n  'still',\n  ',',\n  'the',\n  'oppressive',\n  'architecture',\n  ',',\n  'uninteresting',\n  'people'],\n ['@user', 'content', 'updates', 'provoke', 'that', 'income', '.'],\n ['@user',\n  '@user',\n  'i',\n  'lost',\n  'it',\n  'at',\n  '18',\n  '.',\n  'like',\n  ',',\n  'really',\n  'not',\n  'a',\n  'big',\n  'deal',\n  '.',\n  'do',\n  'not',\n  'worry',\n  'about',\n  'trivial',\n  'shit',\n  'like',\n  'that',\n  '.'],\n ['@user',\n  'i',\n  'was',\n  'talking',\n  'about',\n  'further',\n  'in',\n  'the',\n  'expansion',\n  ',',\n  'with',\n  'more',\n  'gear',\n  '-',\n  'fury',\n  'always',\n  'does',\n  'well',\n  'towards',\n  'the',\n  'end'],\n ['thoroughly',\n  'enjoying',\n  'ahs',\n  'tonight',\n  '.',\n  '#ahs',\n  '#horror',\n  '#americanhorrorstory'],\n ['@user',\n  '@user',\n  'shocking',\n  'work',\n  'ethic',\n  'by',\n  'our',\n  'players',\n  ',',\n  'rooney',\n  'stifled',\n  'by',\n  'their',\n  'laziness'],\n ['i',\n  'cannot',\n  'believe',\n  '@user',\n  'cannot',\n  'put',\n  'up',\n  'even',\n  '3',\n  'points',\n  'on',\n  '@user',\n  '#horrible',\n  '#hugeletdown'],\n ['for',\n  'an',\n  'lgbt',\n  'person',\n  'to',\n  'tell',\n  'someone',\n  'else',\n  'that',\n  'how',\n  'they',\n  'identify',\n  'is',\n  'not',\n  'valid',\n  'is',\n  'so',\n  'sad',\n  'and',\n  'against',\n  'everything',\n  'we',\n  'should',\n  'stand',\n  'for'],\n ['feminists',\n  'should',\n  'ask',\n  'themselves',\n  ',',\n  'why',\n  'they',\n  'are',\n  'so',\n  'unhappy',\n  ',',\n  'and',\n  'why',\n  'they',\n  'lack',\n  'love',\n  'in',\n  'their',\n  'lives',\n  '.',\n  'is',\n  'it',\n  'b',\n  '/',\n  'c',\n  'they',\n  'are',\n  'fighting',\n  'a',\n  'losing',\n  'game',\n  '?'],\n ['i',\n  'know',\n  'it',\n  'is',\n  'the',\n  'final',\n  'day',\n  'of',\n  'summer',\n  'when',\n  'it',\n  'is',\n  'the',\n  'finale',\n  'of',\n  '@user',\n  '#sadness'],\n ['thought',\n  'the',\n  'xbox',\n  'one',\n  's',\n  'madden',\n  'bundle',\n  'would',\n  'come',\n  'with',\n  'a',\n  'physical',\n  'copy',\n  'of',\n  'madden',\n  'not',\n  'a',\n  'code',\n  '😴',\n  'it',\n  'is',\n  'going',\n  'to',\n  'take',\n  'fucking',\n  'forever',\n  'to',\n  'download',\n  'lol'],\n ['@user',\n  '@user',\n  '@user',\n  'this',\n  'shit',\n  'is',\n  'going',\n  'to',\n  'start',\n  'a',\n  'cold',\n  'war',\n  'of',\n  'who',\n  'can',\n  'flag',\n  'who',\n  'first',\n  '.'],\n ['@user',\n  'childood',\n  'experiences',\n  'can',\n  'leave',\n  'you',\n  'with',\n  'permanent',\n  'deep',\n  'sadness',\n  'as',\n  'adult',\n  'it',\n  'can',\n  'underlie',\n  'everything',\n  '#mhchat'],\n ['you',\n  'forever',\n  'straight',\n  'so',\n  'fix',\n  'that',\n  'frown',\n  'you',\n  'good',\n  '😇',\n  '@user'],\n ['early',\n  'morning',\n  'cheerfulness',\n  'can',\n  'be',\n  'extremely',\n  'obnoxious',\n  '#aldub62ndweeksary'],\n ['now',\n  'that',\n  'the',\n  'n',\n  'word',\n  'is',\n  'normalized',\n  'by',\n  'the',\n  'media',\n  '?',\n  'just',\n  'wow',\n  '.',\n  'no',\n  'words',\n  'for',\n  'this',\n  '.',\n  'no',\n  '.',\n  'words',\n  '.',\n  'for',\n  '.',\n  'this',\n  '.',\n  'frog',\n  'been',\n  'boiling',\n  'in',\n  'the',\n  'pot',\n  'via',\n  'media',\n  '.'],\n ['i', 'guess', '#bradangelina', '>', '#anger', '>', '#blacklivesmatter'],\n ['you',\n  'complain',\n  'all',\n  'the',\n  'time',\n  'and',\n  'then',\n  'wonder',\n  'why',\n  'people',\n  'never',\n  'want',\n  'to',\n  'see',\n  'you',\n  '.',\n  'you',\n  'acc',\n  'rile',\n  'me',\n  'up',\n  '.',\n  'stfuuu',\n  '!',\n  '!',\n  '!'],\n ['@user',\n  '@user',\n  'did',\n  'they',\n  'get',\n  'the',\n  'wrong',\n  'fur',\n  'pal',\n  '?',\n  '#shocking',\n  '😱'],\n ['do',\n  'not',\n  'let',\n  'worry',\n  'get',\n  'you',\n  'down',\n  '.',\n  'remember',\n  'that',\n  'moses',\n  'started',\n  'out',\n  'as',\n  'a',\n  'basket',\n  'case',\n  '.',\n  '#lol',\n  'today',\n  ',',\n  'choose',\n  '#faith',\n  'over',\n  '#fear',\n  '#moses'],\n ['@user',\n  '@user',\n  'evil',\n  ',',\n  'rich',\n  'white',\n  'men',\n  'and',\n  'their',\n  'fucking',\n  'cronies',\n  'in',\n  'intelligence',\n  '/',\n  'gov',\n  '/',\n  'academia',\n  'using',\n  'blithe',\n  'blacks',\n  'as',\n  'fodder'],\n ['maybe',\n  'the',\n  'entire',\n  'russian',\n  'team',\n  'will',\n  'test',\n  'positive',\n  'for',\n  'meldonium',\n  'and',\n  'the',\n  'north',\n  'americans',\n  'will',\n  'get',\n  'to',\n  'replace',\n  'them',\n  '#optimism'],\n ['headed',\n  'to',\n  'mdw',\n  'w',\n  '/',\n  'layover',\n  'in',\n  'slc',\n  '.',\n  'got',\n  'off',\n  'for',\n  'food',\n  '.',\n  'wrong',\n  'move',\n  '.',\n  'bailed',\n  'on',\n  'my',\n  'food',\n  '&',\n  'barely',\n  'made',\n  'it',\n  '.',\n  '@user',\n  '#wannagetaway',\n  '#contest',\n  '#sad'],\n ['literally', 'being', 'here', 'makes', 'me', 'depress', 'tbh'],\n ['i',\n  'wish',\n  'the',\n  'next',\n  'madden',\n  'has',\n  'a',\n  'story',\n  'mode',\n  'too',\n  '.',\n  'just',\n  'like',\n  'fifa',\n  '17'],\n ['do',\n  'not',\n  'grow',\n  'weary',\n  'in',\n  'doing',\n  'good',\n  '.',\n  \"'\",\n  '-',\n  '@billclinton'],\n ['time',\n  'to',\n  'go',\n  'hit',\n  'up',\n  'the',\n  'library',\n  '-',\n  'i',\n  'have',\n  'a',\n  'lovely',\n  'pile',\n  'of',\n  'book',\n  'reservations',\n  'to',\n  'collect',\n  'this',\n  'morning',\n  '...',\n  '#glee',\n  '#books',\n  '#reading'],\n ['#bb18',\n  'michelle',\n  'crying',\n  'again',\n  '#shocking',\n  '#bitter',\n  'he',\n  'is',\n  'just',\n  'not',\n  'that',\n  'into',\n  'you',\n  '😢',\n  '#teamnicole'],\n ['i',\n  'need',\n  'to',\n  'think',\n  'of',\n  'a',\n  'new',\n  'avatar',\n  'for',\n  'fire',\n  'emblem',\n  'revelation',\n  'as',\n  'i',\n  'might',\n  'start',\n  'playing',\n  'it',\n  'soon',\n  ',',\n  'any',\n  'ideas',\n  'for',\n  'names',\n  '?',\n  'what',\n  'gender',\n  'do',\n  'i',\n  'choose'],\n ['@user',\n  '@user',\n  '@user',\n  '@user',\n  'please',\n  '.',\n  'or',\n  'you',\n  'could',\n  'be',\n  'clouded',\n  'by',\n  'your',\n  'passion',\n  '.',\n  'emotion',\n  'leads',\n  'you',\n  'from',\n  'the',\n  'truth',\n  '.'],\n [\"quinn's\", 'short', 'hair', 'makes', 'me', 'sad', '.'],\n ['drop', 'every', 'fear', '...'],\n ['sometimes',\n  'the',\n  'best',\n  'motivations',\n  'come',\n  'from',\n  \"'\",\n  'proving',\n  'them',\n  'wrong',\n  \"'\",\n  '#energy',\n  '#relentless',\n  '#motivationalquotes'],\n ['i',\n  'do',\n  'not',\n  'know',\n  'what',\n  'make',\n  '#pakistan',\n  'fear',\n  'more',\n  'their',\n  '#terrorist',\n  'or',\n  'their',\n  '#terrorism',\n  '#terrorstatepak'],\n ['what', 'day', 'is', 'it', '#lost'],\n ['you',\n  'are',\n  'not',\n  'your',\n  'struggle',\n  'or',\n  'you',\n  'are',\n  'not',\n  'your',\n  'affliction',\n  '!',\n  '#youarestrong',\n  '&',\n  '#youarearising',\n  'above',\n  'it',\n  'all',\n  '!'],\n ['#nana',\n  '4',\n  'hoco',\n  'bc',\n  'my',\n  'dream',\n  'since',\n  'freshman',\n  'year',\n  'awe',\n  '😙',\n  '❤',\n  '❤',\n  '❤',\n  '@user'],\n ['can',\n  'someone',\n  'make',\n  'me',\n  'a',\n  'priority',\n  'list',\n  'of',\n  'which',\n  'things',\n  'i',\n  'should',\n  'be',\n  'outraged',\n  'at',\n  '+',\n  'in',\n  'which',\n  'order',\n  '?',\n  '#racism',\n  '#animalrights',\n  '#abortion',\n  '#cops'],\n ['@user',\n  'do',\n  'not',\n  'i',\n  'know',\n  'it',\n  ',',\n  'try',\n  'not',\n  'to',\n  'fret',\n  'my',\n  'sweet',\n  'little',\n  'pupper'],\n ['people',\n  'too',\n  'weak',\n  'to',\n  'follow',\n  'their',\n  'own',\n  'dreams',\n  'will',\n  'always',\n  'find',\n  'a',\n  'way',\n  'to',\n  'discourage',\n  'yours',\n  '.'],\n ['no',\n  'red',\n  'card',\n  'for',\n  'gordon',\n  'there',\n  '?',\n  'the',\n  'ref',\n  'must',\n  'be',\n  'a',\n  'celtic',\n  'fan',\n  'as',\n  'that',\n  'was',\n  'a',\n  'shocking',\n  'challenge',\n  '.'],\n ['seeing',\n  '#ripshawtylo',\n  'got',\n  'me',\n  'thinking',\n  'bout',\n  'other',\n  'rappers',\n  'then',\n  'i',\n  'thought',\n  'about',\n  '@user',\n  'dying',\n  ',',\n  'and',\n  'burst',\n  'into',\n  'tears',\n  '...',\n  'smh'],\n ['@user', 'peanut', 'butter', 'takes', 'away', 'the', 'sting'],\n ['angel', 'got', 'me', 'nervous', 'out', 'here', '😷'],\n ['patti',\n  'seems',\n  'so',\n  'sad',\n  '.',\n  'she',\n  'stamped',\n  'and',\n  'ran',\n  'behind',\n  'the',\n  'sofa',\n  '.',\n  'we',\n  'will',\n  'have',\n  'to',\n  'give',\n  'her',\n  'plenty',\n  'of',\n  'love',\n  'and',\n  'affection',\n  '...',\n  'more',\n  'than',\n  'usual',\n  '.',\n  '#sad'],\n ['no',\n  'offense',\n  'but',\n  'the',\n  'doctor',\n  'crying',\n  'tears',\n  'of',\n  'joy',\n  'after',\n  'realizing',\n  'he',\n  'has',\n  'a',\n  'family',\n  'for',\n  'christmas',\n  'is',\n  'cute'],\n ['@user',\n  'its',\n  'reaper',\n  '!',\n  '!',\n  'before',\n  'he',\n  'became',\n  'reaper',\n  ',',\n  'you',\n  'can',\n  'find',\n  'their',\n  'stories',\n  'on',\n  'the',\n  'wiki',\n  'and',\n  'thru',\n  'the',\n  'comics',\n  'and',\n  'animated',\n  'shorts',\n  '!'],\n ['@user',\n  '@user',\n  '@user',\n  'that',\n  'might',\n  'sting',\n  'for',\n  'a',\n  'bit',\n  'lads',\n  'but',\n  'you',\n  'will',\n  'get',\n  'over',\n  'it',\n  '.',\n  '#betterwithsinnfein'],\n ['@user',\n  'yeah',\n  'whatever',\n  ',',\n  'whahibbi',\n  'are',\n  '#muslims',\n  'just',\n  'a',\n  'sect',\n  ',',\n  'as',\n  'you',\n  'know',\n  ',',\n  '#islam',\n  'is',\n  'synonymous',\n  'with',\n  '#rape',\n  'and',\n  '#terrorism'],\n ['13', 'hour', '@user', 'rides', 'make', 'me', '#sorry'],\n ['wish',\n  'i',\n  'was',\n  'a',\n  'kid',\n  'again',\n  '.',\n  'the',\n  'only',\n  'stressful',\n  'part',\n  'was',\n  'whether',\n  'gabriella',\n  'and',\n  'troy',\n  'would',\n  'get',\n  'back',\n  'together',\n  'or',\n  'not',\n  '.',\n  '#hsm2',\n  '#nightmare'],\n ['{',\n  'strong',\n  'hands',\n  'moving',\n  'to',\n  'firmly',\n  'grope',\n  'each',\n  'of',\n  '@user',\n  'thighs',\n  ',',\n  'squeezing',\n  'as',\n  'her',\n  'digging',\n  'nails',\n  'extract',\n  'a',\n  'growl',\n  'from',\n  'me',\n  '.',\n  '}'],\n ['rojo', 'is', 'hilarious'],\n ['@user',\n  'they',\n  'look',\n  'fab',\n  ',',\n  'they',\n  'were',\n  'made',\n  'for',\n  'the',\n  'big',\n  'screen',\n  '!',\n  'cannot',\n  'wait',\n  'to',\n  'see',\n  'this',\n  'evolve',\n  '&',\n  'the',\n  'bright',\n  'future',\n  'of',\n  'these',\n  'little',\n  'toy',\n  'people'],\n ['is', 'it', 'bad', 'that', 'kurt', 'is', 'literally', 'me', '..', '?'],\n ['@user',\n  '@user',\n  'the',\n  'refs',\n  'are',\n  'in',\n  \"gt's\",\n  'favor',\n  'tonight',\n  '.',\n  '#terrible'],\n ['not',\n  'sorry',\n  'for',\n  'that',\n  'burst',\n  'of',\n  'anti',\n  '#allo',\n  'spam',\n  ',',\n  'fuck',\n  'any',\n  'messaging',\n  'app',\n  'launching',\n  'in',\n  '2016',\n  ',',\n  'without',\n  'encryption',\n  'on',\n  'by',\n  'default',\n  '.'],\n ['halfway',\n  'to',\n  'work',\n  'and',\n  'i',\n  'realize',\n  'i',\n  'forgot',\n  'to',\n  'put',\n  'on',\n  'underwear',\n  '...',\n  'it',\n  'is',\n  'going',\n  'to',\n  'be',\n  'one',\n  'of',\n  'those',\n  'days',\n  '!',\n  '#mombrain',\n  '#toomuchgoingon',\n  '#longday'],\n ['how',\n  'sad',\n  'is',\n  'it',\n  'that',\n  'I',\n  'am',\n  'rejoicing',\n  'over',\n  'a',\n  '72',\n  '💀',\n  '#collegekills'],\n ['#aliens',\n  '#zombie',\n  '#gore',\n  '#slash',\n  '#ghost',\n  '#sith',\n  '#horror',\n  'i',\n  'love',\n  'it',\n  'all',\n  '.',\n  '🔪'],\n ['tell',\n  'me',\n  'how',\n  'I',\n  'am',\n  'supposed',\n  'to',\n  'feel',\n  '.',\n  '#broken',\n  '#hateful',\n  '#guilty',\n  '#love',\n  '#sadness'],\n ['the',\n  'zika',\n  '#hoax',\n  'files',\n  ':',\n  'deet',\n  'is',\n  'part',\n  'of',\n  'a',\n  'binary',\n  'chemical',\n  'weapon',\n  'targeting',\n  'your',\n  'brain',\n  ':',\n  '#toxin',\n  '#fear',\n  '#neurological',\n  '#uscitizens',\n  '#insect',\n  '#mammal'],\n ['even',\n  'a',\n  'pencil',\n  '✏',\n  'never',\n  '#stayed',\n  'with',\n  'me',\n  'until',\n  'it',\n  'is',\n  '#end',\n  '⚫',\n  '😞'],\n ['@user',\n  'where',\n  'has',\n  'your',\n  'outrage',\n  'that',\n  'your',\n  'party',\n  'nominated',\n  'a',\n  'lying',\n  ',',\n  'corrupt',\n  'person',\n  '?',\n  'and',\n  'received',\n  'donations',\n  'from',\n  'nations',\n  'who',\n  'support',\n  'terror'],\n ['i',\n  'forgot',\n  '#bb18',\n  'was',\n  'on',\n  'tonight',\n  '\\uf633',\n  'that',\n  'is',\n  'how',\n  'much',\n  'the',\n  'real',\n  'world',\n  'has',\n  'been',\n  'distracting',\n  'me',\n  '#horrid',\n  '\\uf645',\n  '\\uf3fc',\n  '\\uf648',\n  '\\uf64a'],\n ['@user',\n  '@user',\n  '@user',\n  '@user',\n  '@user',\n  'goddamn',\n  '...',\n  'the',\n  \"'\",\n  'celebrity',\n  \"'\",\n  'draft',\n  'at',\n  'the',\n  'end',\n  'was',\n  'classic',\n  '.',\n  '#hilarious'],\n ['ugh',\n  '..',\n  'why',\n  'am',\n  'i',\n  'not',\n  'asleep',\n  'yet',\n  '.',\n  'fml',\n  '.',\n  'i',\n  'think',\n  'low',\n  'key',\n  'I',\n  'am',\n  'afraid',\n  'i',\n  'might',\n  'miss',\n  'something',\n  '.',\n  '#sleeplessnight',\n  '#sleepy',\n  '#restless'],\n ['i',\n  'am',\n  'often',\n  'disturbed',\n  'by',\n  'what',\n  'some',\n  'people',\n  'find',\n  'appropriate',\n  'or',\n  'acceptable',\n  '.',\n  'it',\n  'is',\n  'not',\n  'funny',\n  'nor',\n  'cute',\n  'that',\n  'adults',\n  'find',\n  'this',\n  'stuff',\n  'humorous',\n  '.'],\n ['it',\n  'is',\n  'become',\n  'a',\n  'verb',\n  '.',\n  \"'\",\n  'I',\n  'am',\n  'going',\n  'to',\n  'villaseñor',\n  'all',\n  'those',\n  'old',\n  'contacts',\n  'i',\n  'do',\n  'not',\n  'need',\n  'anymore',\n  '.',\n  \"'\",\n  '#sadness',\n  '@user',\n  '#waitingforexplanation'],\n ['marcus',\n  'rojo',\n  'is',\n  'the',\n  'worst',\n  'player',\n  'i',\n  'have',\n  'ever',\n  'seen',\n  '.',\n  'useless',\n  'toasting',\n  'burning',\n  'bastard'],\n ['#bcwinechat',\n  'what',\n  'is',\n  'the',\n  'most',\n  'common',\n  'method',\n  'used',\n  'to',\n  'make',\n  'bc',\n  '#sparkling',\n  '#wine',\n  '?'],\n ['step',\n  'out',\n  'of',\n  'your',\n  'comfort',\n  'zone',\n  '.',\n  'go',\n  'for',\n  'risks',\n  '.',\n  'face',\n  'things',\n  'you',\n  'fear',\n  '.',\n  'this',\n  'is',\n  'when',\n  'life',\n  'starts',\n  'to',\n  'happen',\n  '.',\n  '#cpd'],\n ['@user',\n  'and',\n  'who',\n  'asked',\n  'you',\n  'to',\n  'gate',\n  'crash',\n  'with',\n  'your',\n  'dumb',\n  'idiosyncrasies',\n  'when',\n  'sober',\n  'people',\n  'are',\n  'analyzing',\n  'a',\n  'situation',\n  '!',\n  '@banobee',\n  '@user'],\n ['should',\n  'have',\n  'stayed',\n  'at',\n  'school',\n  'because',\n  'have',\n  'not',\n  'nobody',\n  'here'],\n ['@user', '@user', 'not', 'a', 'word', 'about', 'terrorism', '.'],\n ['my',\n  '2',\n  'teens',\n  'sons',\n  'just',\n  'left',\n  'in',\n  'the',\n  'car',\n  'to',\n  'get',\n  'haircuts',\n  '.',\n  'I',\n  'am',\n  'praying',\n  'up',\n  'a',\n  'storm',\n  'that',\n  'they',\n  'make',\n  'it',\n  'home',\n  'safely',\n  '!',\n  '!',\n  '#sad',\n  '#terencecrutcher'],\n ['@user', 'hannah', 'stop', 'being', 'mournful', 'and', 'chill', '💁'],\n ['just',\n  'had',\n  'to',\n  'reverse',\n  'half',\n  'way',\n  'up',\n  'the',\n  'woods',\n  'to',\n  'collect',\n  'the',\n  'dog',\n  'n',\n  'I',\n  'have',\n  'never',\n  'even',\n  'reverse',\n  'parked',\n  'in',\n  'my',\n  'life',\n  '🙄',\n  '#nightmare'],\n ['@user',\n  'wow',\n  ',',\n  'did',\n  'you',\n  'get',\n  'a',\n  'really',\n  'good',\n  'buy',\n  'on',\n  'a',\n  'bunch',\n  'of',\n  \"'\",\n  '70',\n  \"'\",\n  's',\n  'movies',\n  '?',\n  'there',\n  'were',\n  'bad',\n  'then',\n  'and',\n  'are',\n  'worse',\n  'now',\n  '!',\n  '#awful'],\n ['i',\n  'cannot',\n  'wait',\n  'to',\n  'go',\n  'to',\n  'work',\n  'tomorrow',\n  'with',\n  'a',\n  'high',\n  'as',\n  'fuck',\n  'fever',\n  '.',\n  '[',\n  'sarcasm',\n  ']',\n  'hopefully',\n  'I',\n  'will',\n  'feel',\n  'better',\n  'tomorrow',\n  '.',\n  'but',\n  'i',\n  'doubt',\n  'it',\n  '.',\n  '#pessimism'],\n ['@user', '@user', 'what', 'i', 'miss', '?', '#outrage'],\n ['is',\n  'it',\n  'terrorism',\n  'to',\n  'intimidate',\n  'a',\n  'populace',\n  '?',\n  'what',\n  'case',\n  'held',\n  \"'\",\n  'coercion',\n  'by',\n  'people',\n  'in',\n  'uniform',\n  'is',\n  'per',\n  'se',\n  'intimidation',\n  \"'\",\n  '?'],\n ['@user',\n  'against',\n  'chelsea',\n  'anything',\n  'is',\n  'possible',\n  'haha',\n  '.',\n  'I',\n  'am',\n  'fuming',\n  'about',\n  'that',\n  'bet',\n  '🙄',\n  '🙄',\n  '🙄'],\n ['well',\n  '@user',\n  \"trump's\",\n  'rabid',\n  'base',\n  'needs',\n  '2',\n  'hear',\n  'this',\n  '&',\n  'you',\n  'can',\n  'always',\n  'find',\n  'an',\n  'overseer',\n  'like',\n  'king',\n  'to',\n  'say',\n  'it',\n  '.',\n  '@joyannreid',\n  '@user',\n  '@user'],\n ['radio',\n  'shake',\n  'mutli',\n  'directional',\n  'mike',\n  'it',\n  'might',\n  'sound',\n  'cheap',\n  'but',\n  'the',\n  'sound',\n  'was',\n  'not',\n  'that',\n  'bad',\n  'and',\n  'you',\n  'could',\n  'do',\n  'some',\n  'mixing',\n  '.'],\n ['@user',\n  'what',\n  '?',\n  'hillary',\n  'has',\n  '27',\n  'different',\n  'controversies',\n  'and',\n  'she',\n  'gets',\n  'asked',\n  'nothing',\n  'about',\n  'any',\n  'of',\n  'them',\n  '.',\n  'truth',\n  'is',\n  'she',\n  'is',\n  'a',\n  'horrible',\n  'candidate'],\n ['@user',\n  'i',\n  'feel',\n  'for',\n  'the',\n  'conductor',\n  'tonight',\n  ',',\n  'he',\n  'is',\n  'obviously',\n  'taken',\n  'grief',\n  'over',\n  'the',\n  'last',\n  'few',\n  'weeks',\n  ',',\n  'he',\n  'sounds',\n  'weary',\n  'of',\n  'apologising',\n  '!'],\n ['@user',\n  'he',\n  'is',\n  'also',\n  'mostly',\n  '(',\n  'except',\n  'for',\n  'the',\n  'synthetic',\n  'testosterone',\n  'bits',\n  ')',\n  'male',\n  ',',\n  'you',\n  'raging',\n  'sexist',\n  '!'],\n ['condolences',\n  'to',\n  'the',\n  'jc',\n  'and',\n  'the',\n  'georges',\n  'family',\n  '..',\n  '#sad'],\n ['yo',\n  'there',\n  'is',\n  'a',\n  'kid',\n  'on',\n  'my',\n  'snap',\n  'chat',\n  'from',\n  'la',\n  '&',\n  'they',\n  'get',\n  'high',\n  'off',\n  'helium',\n  'gas',\n  'lmao',\n  '...',\n  'i',\n  'am',\n  'like',\n  'why',\n  'the',\n  'fuck',\n  'lol'],\n ['while',\n  'we',\n  'focus',\n  'on',\n  'issue',\n  'of',\n  '#ipca',\n  '@user',\n  'indulges',\n  'in',\n  '#intimidation',\n  '@user',\n  '@user',\n  '@user',\n  '@user',\n  '#stopcruelty'],\n ['yo',\n  ',',\n  'if',\n  'you',\n  'are',\n  'talking',\n  'about',\n  'horoscopes',\n  'do',\n  'you',\n  'really',\n  'have',\n  'any',\n  'clue',\n  'as',\n  'to',\n  'what',\n  'you',\n  'are',\n  'saying',\n  'or',\n  'are',\n  'you',\n  'going',\n  'to',\n  'act',\n  'offended',\n  'when',\n  'i',\n  'question',\n  'it',\n  '?'],\n ['meghan',\n  'is',\n  'teaching',\n  'the',\n  'blues',\n  'in',\n  'keyboard',\n  'fundamentals',\n  'ii',\n  'and',\n  'all',\n  'these',\n  'classical',\n  'majors',\n  'are',\n  'like',\n  'wtf',\n  '?',\n  '!'],\n ['@user',\n  'he',\n  'is',\n  'just',\n  'lucky',\n  '...',\n  'bad',\n  'pitchers',\n  '...',\n  '#whatever',\n  '...',\n  'elkracken',\n  'is',\n  '#legit',\n  '#future',\n  '#bright',\n  '#gottawearshades',\n  '#letsgoyankees'],\n ['finally',\n  'uploaded',\n  'the',\n  'file',\n  'i',\n  'needed',\n  'to',\n  'the',\n  'university',\n  \"server's\",\n  'drop',\n  'box',\n  '.',\n  'it',\n  'took',\n  'like',\n  'half',\n  'an',\n  'hour',\n  'and',\n  'a',\n  'lot',\n  'of',\n  'cursing',\n  'and',\n  'anger',\n  'on',\n  'my',\n  'part'],\n ['or',\n  'when',\n  'they',\n  'hmu',\n  'on',\n  'snap',\n  ',',\n  'and',\n  'I',\n  'am',\n  'like',\n  '..',\n  'which',\n  'one',\n  'are',\n  'you',\n  '.',\n  '💀'],\n ['blood', 'is', 'boiling'],\n ['@user',\n  'really',\n  'sad',\n  '&',\n  'surprising',\n  '.',\n  '1',\n  'side',\n  '#russia',\n  'fighting',\n  'against',\n  '#is',\n  '&',\n  'on',\n  'the',\n  'other',\n  'supporting',\n  '#pak',\n  'which',\n  'is',\n  'epic',\n  'centre',\n  '4'],\n ['@user',\n  '@user',\n  'is',\n  'that',\n  'really',\n  'all',\n  'you',\n  'can',\n  'offer',\n  'for',\n  'those',\n  'who',\n  'sacrifice',\n  'daily',\n  'to',\n  'keep',\n  'you',\n  'safe',\n  '...',\n  '?',\n  '@user',\n  '#sad'],\n ['a', 'leopard', 'never', 'changes', 'its', 'spots', '!', '#lost'],\n ['so',\n  '@user',\n  'those',\n  'of',\n  'us',\n  'born',\n  'in',\n  '85',\n  'have',\n  'no',\n  'generation',\n  '!',\n  'where',\n  'is',\n  'the',\n  'gen-less',\n  'tribe',\n  '!',\n  'ha',\n  '!',\n  '#survivor',\n  '#lost',\n  'soles'],\n ['why',\n  'the',\n  'fuck',\n  'does',\n  'my',\n  'mum',\n  'want',\n  'me',\n  'to',\n  'put',\n  'corn',\n  'in',\n  'the',\n  'curry',\n  '?',\n  '!',\n  '#grim'],\n ['it',\n  'is',\n  'too',\n  'fucking',\n  'bright',\n  '&',\n  'too',\n  'fucking',\n  'hot',\n  'outside'],\n ['finn',\n  'singing',\n  \"'\",\n  'cannot',\n  'fight',\n  'this',\n  'feeling',\n  \"'\",\n  'in',\n  'the',\n  'shower',\n  'and',\n  'will',\n  'spying',\n  'on',\n  'him',\n  'is',\n  'one',\n  'of',\n  'the',\n  'best',\n  'scenes',\n  'on',\n  'any',\n  'show',\n  '.'],\n ['hello',\n  'fellow',\n  '#horror',\n  '#creepy',\n  '#dark',\n  '#stange',\n  '#story',\n  'fans',\n  ',',\n  'how',\n  'does',\n  'your',\n  'day',\n  '?',\n  '#followme',\n  'and',\n  'I',\n  'will',\n  '#followback'],\n ['@user',\n  'a',\n  'plus',\n  'point',\n  ',',\n  'she',\n  'will',\n  'not',\n  'have',\n  'to',\n  'queue',\n  'for',\n  'the',\n  'loos',\n  '.',\n  'any',\n  'more',\n  'plus',\n  'points',\n  '?',\n  'nope',\n  ',',\n  'cannot',\n  'think',\n  'of',\n  'any',\n  '#shocking',\n  '#sexism'],\n ['their',\n  'engine',\n  'runs',\n  'on',\n  'fuel',\n  'called',\n  'whining',\n  ':-)',\n  'you',\n  'jst',\n  'hv',\n  '2b',\n  'observant',\n  '..',\n  'har',\n  'din',\n  'rona',\n  'dhona',\n  '&',\n  'complain',\n  '.',\n  'happy',\n  'news',\n  'makes',\n  'them',\n  'unhappy',\n  ':-)'],\n ['it',\n  'is',\n  'not',\n  'that',\n  'the',\n  'man',\n  'did',\n  'not',\n  'know',\n  'how',\n  'to',\n  'juggle',\n  ',',\n  'he',\n  'just',\n  'did',\n  'not',\n  'have',\n  'the',\n  'balls',\n  'to',\n  'do',\n  'it',\n  '.',\n  '#funny',\n  '#pun',\n  '#punny',\n  '#lol',\n  '#hilarious'],\n ['she',\n  'used',\n  'to',\n  'be',\n  'beautiful',\n  ',',\n  'but',\n  'she',\n  'lived',\n  'her',\n  'life',\n  'too',\n  'fast',\n  '-',\n  'forest',\n  'city',\n  'joe',\n  '#blues',\n  '#blinddogradio'],\n ['@user',\n  'when',\n  'the',\n  'east',\n  'wind',\n  'blue',\n  'in',\n  'summer',\n  'in',\n  'durban',\n  ',',\n  's',\n  'africa',\n  ',',\n  'we',\n  'still',\n  'surfed',\n  'and',\n  'got',\n  '#stung',\n  'badly',\n  '!',\n  'must',\n  'be',\n  'carefull-a',\n  '#sting',\n  'can',\n  'harm',\n  'you'],\n ['sav',\n  'tells',\n  'our',\n  'mom',\n  \"'\",\n  'i',\n  'love',\n  'you',\n  \"'\",\n  'and',\n  'she',\n  'responds',\n  \"'\",\n  'oh',\n  '.',\n  \"'\",\n  '#sad'],\n ['defining',\n  'yourself',\n  'in',\n  'terms',\n  'of',\n  'opposition',\n  ',',\n  'i',\n  '.',\n  'e',\n  '.',\n  'the',\n  'clouded',\n  'mirror',\n  'phenomena',\n  ',',\n  'is',\n  'almost',\n  'always',\n  'a',\n  'mistake',\n  '.'],\n ['@user',\n  'dudes',\n  'who',\n  'want',\n  'to',\n  'play',\n  'some',\n  'bass',\n  'but',\n  'not',\n  'buy',\n  'a',\n  'bass',\n  '(',\n  'me',\n  ')',\n  'rejoice'],\n ['@user',\n  '@user',\n  'i',\n  'cancelled',\n  'by',\n  'cbs',\n  'all',\n  'access',\n  'live',\n  'feeds',\n  'before',\n  'jc',\n  'even',\n  'said',\n  'vic',\n  'won',\n  'afp',\n  '.',\n  'paul.should',\n  'have',\n  'won',\n  'imo'],\n ['it',\n  'is',\n  'finally',\n  'raining',\n  'in',\n  'ashland',\n  ',',\n  'oregon',\n  '.',\n  'we',\n  'have',\n  'been',\n  'parched',\n  'all',\n  'summer',\n  '&',\n  'fall',\n  '.',\n  'the',\n  'plants',\n  '&',\n  'people',\n  'are',\n  'rejoicing',\n  '!'],\n ['@user',\n  'happy',\n  'birthday',\n  'to',\n  'my',\n  'seed',\n  '‼',\n  '️',\n  '‼',\n  '️',\n  '‼',\n  '️',\n  '#renewtherivalry',\n  '#imyourdaddy',\n  '#cantbeatme',\n  '#tater'],\n ['@user',\n  'thank',\n  'you',\n  'so',\n  'much',\n  '!',\n  'we',\n  'just',\n  'finished',\n  'another',\n  '#mindfulness',\n  'film',\n  'called',\n  '#release',\n  'about',\n  '#anxiety',\n  '-',\n  'plz',\n  'share',\n  '!'],\n ['@user',\n  '@user',\n  'it',\n  'has',\n  'no',\n  'secret',\n  ':',\n  'personal',\n  'dislike',\n  'of',\n  'trump',\n  '&',\n  'animosity',\n  'has',\n  'always',\n  'been',\n  'present',\n  '..',\n  'now',\n  'magnified',\n  'with',\n  'bigotry',\n  '/',\n  'racism',\n  'etc',\n  '.'],\n ['@user',\n  '#unga',\n  'no',\n  'talks',\n  'should',\n  'be',\n  'carried',\n  'out',\n  'with',\n  'pakistan',\n  'now',\n  '...',\n  'his',\n  'mouth',\n  'stinks',\n  'of',\n  '#terrorism',\n  '#uriattack'],\n ['@user', 'happy', 'birthdayyyyyy', 'pretty', '.', 'miss', 'you', '!'],\n ['I',\n  'am',\n  'not',\n  'used',\n  'to',\n  'pretty',\n  'girls',\n  'that',\n  'use',\n  'curse',\n  'words',\n  'to',\n  'express',\n  'their',\n  'anger',\n  '.',\n  'i',\n  'just',\n  'feel',\n  'like',\n  'I',\n  'am',\n  'a',\n  'little',\n  'bit',\n  'surprised',\n  'and',\n  'turned',\n  'off',\n  'as',\n  'well'],\n ['(',\n  '(',\n  'things',\n  'that',\n  'grind',\n  'my',\n  'gears',\n  ':',\n  'people',\n  'drawing',\n  'gideon',\n  'gleeful',\n  'skinny'],\n ['@user', '@user', '😂', '😂', '😭', '😭', '😭', 'resentment'],\n ['a3',\n  ':',\n  'but',\n  'chronic',\n  'sadness',\n  'may',\n  'mean',\n  'there',\n  'are',\n  'underlying',\n  'issues',\n  'than',\n  'getting',\n  'sad',\n  'occassionally',\n  'over',\n  'a',\n  'particular',\n  'issue',\n  '(',\n  '2/2',\n  ')',\n  '#mhchat'],\n ['i',\n  'stopped',\n  'watching',\n  'gotham',\n  'because',\n  'they',\n  'dropped',\n  'off',\n  'tabitha',\n  'and',\n  \"barb's\",\n  'relationship',\n  'and',\n  'made',\n  'her',\n  'pine',\n  'after',\n  'the',\n  'main'],\n ['@user',\n  'your',\n  'website',\n  'is',\n  'making',\n  'me',\n  'feel',\n  'violent',\n  'rage',\n  'and',\n  'your',\n  'upgrade',\n  'options',\n  'are',\n  'not',\n  'helping',\n  'either',\n  '.',\n  '#aaaaarrrrgghhh',\n  '#iwanttocancel'],\n ['this',\n  'is',\n  'the',\n  'scariest',\n  'american',\n  'horror',\n  'story',\n  'out',\n  'of',\n  'all',\n  'of',\n  'them',\n  '...',\n  'I',\n  'am',\n  'going',\n  'to',\n  'have',\n  'to',\n  'watch',\n  'in',\n  'the',\n  'daytime',\n  '.',\n  '#frightened'],\n ['i',\n  'added',\n  'paul',\n  'walker',\n  'on',\n  'xbox',\n  'but',\n  'he',\n  'just',\n  'spends',\n  'all',\n  'of',\n  'his',\n  'time',\n  'on',\n  'the',\n  'dashboard',\n  '.',\n  '#dark',\n  '#humor',\n  '#funny'],\n ['@user',\n  'some',\n  'weeks',\n  'there',\n  'are',\n  'no',\n  'problems',\n  'but',\n  'this',\n  'week',\n  'is',\n  'unbelievable',\n  '-',\n  '-',\n  'are',\n  'you',\n  'guys',\n  'even',\n  'running',\n  'regular',\n  '12',\n  'buses',\n  '?',\n  '#awful',\n  '#solate'],\n ['@user',\n  '@user',\n  'supporter',\n  '@user',\n  '#prejudice',\n  'against',\n  '#disabled',\n  'people',\n  '#disabledlivesmatter',\n  '#bbcnews',\n  '#skynews'],\n ['@user',\n  'and',\n  'i',\n  'hope',\n  'when',\n  'the',\n  'police',\n  'met',\n  'him',\n  'at',\n  'the',\n  'subway',\n  'that',\n  'they',\n  'took',\n  'him',\n  'straight',\n  'to',\n  'jail',\n  '😕',\n  '#awful'],\n ['do',\n  'you',\n  'know',\n  'how',\n  'much',\n  'it',\n  'hurts',\n  'to',\n  'see',\n  'you',\n  'best',\n  'friend',\n  'sad',\n  '?'],\n ['my',\n  'mom',\n  'recorded',\n  'nightmare',\n  'before',\n  'christmas',\n  'for',\n  'me',\n  '😍',\n  '😍',\n  '😍',\n  'i',\n  'love',\n  'it',\n  '💕'],\n ['@user',\n  '@user',\n  'we',\n  'are',\n  'blaming',\n  '5',\n  '%',\n  'of',\n  'the',\n  'fucking',\n  'idiots',\n  'who',\n  'are',\n  'putting',\n  'the',\n  'world',\n  'in',\n  'the',\n  'middle',\n  'of',\n  'their',\n  'tantrums',\n  '.',\n  'you',\n  'are',\n  'one',\n  '.'],\n ['@user', 'oh', 'noooo', '!', '#nomorehammocks', '#nightmare', ';)'],\n ['my',\n  'eyes',\n  'have',\n  'been',\n  'dilated',\n  '.',\n  'i',\n  'hate',\n  'the',\n  'world',\n  'right',\n  'now',\n  'with',\n  'the',\n  'rage',\n  'of',\n  'a',\n  'thousand',\n  'fiery',\n  'dragons',\n  '.',\n  'i',\n  'need',\n  'a',\n  'drink',\n  '.'],\n ['when',\n  'you',\n  'think',\n  'you',\n  'have',\n  'got',\n  'it',\n  'together',\n  'for',\n  'a',\n  'day',\n  'then',\n  'you',\n  'randomly',\n  'burst',\n  'out',\n  'crying'],\n ['@user',\n  'lmao',\n  '!',\n  'i',\n  'can',\n  'only',\n  'imagine',\n  'the',\n  'frown',\n  'across',\n  'that',\n  'face',\n  'of',\n  'yours',\n  '.',\n  '#hilarity'],\n ['breaking',\n  'out',\n  'in',\n  'hives',\n  'for',\n  'the',\n  'first',\n  'time',\n  'since',\n  'college',\n  'finals',\n  '.',\n  '#anxiety',\n  'sucks'],\n ['q',\n  '&',\n  'a',\n  'with',\n  'n',\n  '.',\n  'christie',\n  '@user',\n  'fr',\n  '.',\n  '@user',\n  'what',\n  'would',\n  'peter',\n  'and',\n  'dardanella',\n  'think',\n  'of',\n  'us',\n  'knowing',\n  '?',\n  '#poorthings'],\n ['I',\n  'have',\n  'seen',\n  'the',\n  'elder',\n  'watching',\n  'me',\n  'during',\n  'my',\n  'community',\n  'hours',\n  'and',\n  'i',\n  'honestly',\n  'do',\n  'not',\n  'have',\n  'an',\n  'idea',\n  'about',\n  'what',\n  'my',\n  'assignment',\n  'will',\n  'be',\n  '.',\n  '#apprehensive'],\n ['@user',\n  'i',\n  'tried',\n  'to',\n  'turn',\n  'off',\n  'my',\n  'alarm',\n  'this',\n  'morning',\n  'and',\n  'it',\n  'turned',\n  'on',\n  'all',\n  'my',\n  'alarms',\n  'instead'],\n ['@user',\n  'i',\n  'know',\n  'if',\n  'i',\n  'was',\n  'not',\n  'an',\n  'optimist',\n  'i',\n  'would',\n  'despair',\n  '.'],\n ['@user',\n  '@user',\n  'new',\n  'campaign',\n  'slogan',\n  'idea',\n  '...',\n  \"'\",\n  'i',\n  'know',\n  'you',\n  'are',\n  'but',\n  'what',\n  'am',\n  'i',\n  '?',\n  \"'\",\n  '#bully',\n  '#trump2016',\n  '#yourefired',\n  '#deflect'],\n ['@user',\n  '@user',\n  '@user',\n  '@user',\n  'i',\n  'thought',\n  'it',\n  'was',\n  'because',\n  'she',\n  'once',\n  'sunk',\n  'her',\n  'teeth',\n  'into',\n  'something',\n  'that',\n  'is',\n  'meant',\n  '2b',\n  'sooked'],\n ['smokeys', 'dad', 'is', 'sad', ':/'],\n ['@user',\n  'made',\n  'me',\n  'laugh',\n  ',',\n  'that',\n  'quote',\n  '.',\n  'in',\n  'a',\n  'sort',\n  'of',\n  'rueful',\n  'way',\n  '.'],\n ['thenicebot',\n  ':',\n  'wsjnordics',\n  'you',\n  'make',\n  'the',\n  'world',\n  'a',\n  'more',\n  'joyful',\n  'place',\n  '.',\n  '#thenicebot',\n  '#الخفجي'],\n ['going', 'home', 'is', 'depressing'],\n ['so',\n  'ef',\n  'whichever',\n  'butt',\n  'wipe',\n  'pulled',\n  'the',\n  'fire',\n  'alarm',\n  'in',\n  'davis',\n  'bc',\n  'i',\n  'was',\n  'sound',\n  'asleep',\n  '#pissed',\n  '#angry',\n  '#upset',\n  '#tired',\n  '#sad',\n  '#tired',\n  '#hangry',\n  '#',\n  '#',\n  '#'],\n ['jimmy',\n  'carr',\n  'makes',\n  'me',\n  'want',\n  'to',\n  'cry',\n  'and',\n  'cry',\n  '*',\n  'shiver',\n  '*'],\n ['we',\n  'express',\n  'our',\n  'deep',\n  'concern',\n  'about',\n  'the',\n  'suspension',\n  'of',\n  '@user',\n  'please',\n  'reactivate',\n  'it',\n  '.',\n  'he',\n  'never',\n  'violated',\n  't.roles',\n  '@user'],\n ['been',\n  'working',\n  'in',\n  'blanchardstown',\n  'shopping',\n  'centre',\n  'for',\n  'over',\n  '2',\n  'years',\n  'now',\n  'and',\n  'i',\n  'only',\n  'figured',\n  'out',\n  'today',\n  'where',\n  'marks',\n  '&',\n  \"spencer's\",\n  'is',\n  '#lost'],\n ['do',\n  'not',\n  'be',\n  'afraid',\n  'to',\n  'give',\n  'up',\n  'the',\n  'good',\n  'to',\n  'go',\n  'for',\n  'the',\n  'great',\n  '.',\n  '-',\n  'john',\n  'd',\n  '.',\n  'rockefeller',\n  '#quote',\n  '#inspiration',\n  '#afraid',\n  '#great',\n  '#motivation'],\n ['@user',\n  'what',\n  'a',\n  'joke',\n  '!',\n  '!',\n  'cut',\n  'our',\n  'internet',\n  'off',\n  'early',\n  \"'\",\n  'by',\n  'mistake',\n  \"'\",\n  'and',\n  'then',\n  'do',\n  'not',\n  'reinstate',\n  'it',\n  'when',\n  'we',\n  'no',\n  'longer',\n  'need',\n  'an',\n  'engineer',\n  '😡',\n  '#fuming'],\n ['marcus', 'roho', 'is', 'dreadful'],\n ['or',\n  'when',\n  'someone',\n  'tells',\n  'me',\n  'i',\n  'needa',\n  'smile',\n  'like',\n  'excuse',\n  'me',\n  '?',\n  '?',\n  '?',\n  'now',\n  'I',\n  'am',\n  'just',\n  'frowning',\n  'even',\n  'harder',\n  'are',\n  'you',\n  'happy'],\n ['np', 'rum', 'rage'],\n ['to',\n  'tell',\n  'the',\n  'truth',\n  'and',\n  'make',\n  'someone',\n  'cry',\n  'is',\n  'better',\n  'than',\n  'to',\n  'tell',\n  'a',\n  'lie',\n  'and',\n  'make',\n  'someone',\n  'smile',\n  '.',\n  '#truth',\n  '#lie',\n  '#cry',\n  '#smile',\n  '#offalonehugots'],\n ['why',\n  'you',\n  'all',\n  'hyped',\n  'abt',\n  'that',\n  'girl',\n  'getting',\n  'to',\n  'hang',\n  'out',\n  'w',\n  'jb',\n  ',',\n  'he',\n  'clearly',\n  'looks',\n  'so',\n  'unhappy',\n  'and',\n  'bored',\n  'in',\n  'the',\n  'pics',\n  'no',\n  'offense',\n  'lol',\n  ',',\n  'plus',\n  'he',\n  'hates',\n  'you',\n  'all'],\n ['if',\n  'any',\n  'trump',\n  'supporters',\n  'and',\n  'hillary',\n  'haters',\n  'want',\n  'to',\n  'chirp',\n  'some',\n  'weak',\n  'minded',\n  ',',\n  'pandering',\n  'liberals',\n  'just',\n  'tweet',\n  'at',\n  '@user',\n  '@user'],\n ['my',\n  'bus',\n  'was',\n  'in',\n  'a',\n  'car',\n  'crash',\n  '...',\n  'I',\n  'am',\n  'still',\n  'shaking',\n  'a',\n  'bit',\n  '...',\n  'this',\n  'week',\n  'was',\n  'an',\n  'absolute',\n  'horror',\n  'and',\n  'this',\n  'was',\n  'the',\n  'icing',\n  'on',\n  'the',\n  'cake',\n  '...',\n  '#terrible'],\n ['@user',\n  'would',\n  'not',\n  'cross',\n  'the',\n  'street',\n  'to',\n  'piss',\n  'on',\n  'its',\n  'server',\n  'if',\n  'it',\n  'was',\n  'on',\n  'dire'],\n ['if',\n  'you',\n  'do',\n  'not',\n  'respond',\n  'to',\n  'an',\n  'email',\n  'within',\n  '7',\n  'fays',\n  ',',\n  'you',\n  'wifl',\n  'be',\n  'killed',\n  'by',\n  'an',\n  'animated',\n  'gif',\n  'of',\n  'the',\n  'girl',\n  'from',\n  'the',\n  'ring',\n  '.'],\n ['i',\n  'heard',\n  'movie',\n  'bob',\n  'was',\n  'furious',\n  'about',\n  'the',\n  'skittles',\n  'analogy',\n  '.',\n  'he',\n  'was',\n  'upset',\n  'that',\n  'there',\n  'was',\n  'not',\n  'actually',\n  'any',\n  'skittles',\n  '.'],\n ['#internationaldayofpeace',\n  ':',\n  'when',\n  'white',\n  'supremacists',\n  'terrorize',\n  'everyone',\n  'of',\n  'differing',\n  'cultures',\n  'online',\n  'and',\n  'will',\n  'continue',\n  'it',\n  'offline',\n  'tomorrow',\n  '.'],\n [\"candice's\",\n  'pout',\n  'gets',\n  'more',\n  'preposterous',\n  'by',\n  'the',\n  'week',\n  '.',\n  'this',\n  'week',\n  'it',\n  'is',\n  'gone',\n  'a',\n  'bit',\n  'jack',\n  \"nicholson's\",\n  'joker',\n  '.',\n  '#gbbo'],\n ['bake',\n  'off',\n  'on',\n  'tv',\n  'and',\n  'the',\n  'match',\n  'on',\n  'my',\n  'phone',\n  ',',\n  'what',\n  'a',\n  'nightmare',\n  'I',\n  'am',\n  'so',\n  'stressed',\n  '#gbbo',\n  '#ntfcvmufc'],\n ['even',\n  'walking',\n  'around',\n  'with',\n  'my',\n  'family',\n  'members',\n  'who',\n  'carry',\n  'guns',\n  'makes',\n  'me',\n  'nervous',\n  'and',\n  'they',\n  'are',\n  'my',\n  'family',\n  '...'],\n ['75',\n  \"'\",\n  'tierney',\n  'reaches',\n  'a',\n  'deep',\n  'cross',\n  'to',\n  'the',\n  'back',\n  'post',\n  'and',\n  'plays',\n  'it',\n  'back',\n  'across',\n  'but',\n  'the',\n  'alloa',\n  'defence',\n  'clear',\n  '.',\n  'celtic',\n  'relentless',\n  'here',\n  '.'],\n ['what',\n  'a',\n  'sad',\n  'day',\n  '...',\n  '1st',\n  'day',\n  'of',\n  'fall',\n  '...',\n  'i',\n  'do',\n  'not',\n  'dislike',\n  'fall',\n  '...',\n  'i',\n  'just',\n  'love',\n  'summer',\n  '#firstdayoffall',\n  '#goodbyesummer',\n  '#sadness',\n  '#bathingsuitsforever'],\n ['untypical', 'kind', 'of', 'friday', '#dull'],\n ['@user', 'i', 'fell', 'and', 'heard', 'a', 'snap', 'hffffhj'],\n ['half',\n  'past',\n  'midnight',\n  ',',\n  'loud',\n  'banging',\n  'on',\n  'our',\n  'front',\n  'door',\n  ',',\n  'been',\n  'told',\n  'about',\n  'new',\n  'rape',\n  'cases',\n  'in',\n  'edinburgh',\n  'today',\n  '#joyful',\n  '#nosleep'],\n ['5am',\n  'blues',\n  'while',\n  'riding',\n  'a',\n  'cab',\n  'home',\n  ':',\n  '-',\n  'my',\n  'belly',\n  'is',\n  'much',\n  'bigger',\n  'than',\n  'the',\n  'rest',\n  'of',\n  'my',\n  'body',\n  '-',\n  'but',\n  'i',\n  'could',\n  'not',\n  'be',\n  'preggy',\n  '-',\n  'how',\n  'to',\n  'lose',\n  'it',\n  'in',\n  'a',\n  'day'],\n ['there',\n  'is',\n  'always',\n  'that',\n  'one',\n  'song',\n  'which',\n  'makes',\n  'you',\n  'turn',\n  'of',\n  'the',\n  'radio',\n  ',',\n  'as',\n  'you',\n  'would',\n  'rather',\n  'sit',\n  'in',\n  'silence',\n  '😡'],\n ['symmetry',\n  'is',\n  'key',\n  ',',\n  'everything',\n  'must',\n  'be',\n  'aesthetically',\n  'pleasing',\n  'as',\n  'possible',\n  ',',\n  'that',\n  'is',\n  'why',\n  'i',\n  'hold',\n  'you',\n  'twin',\n  'pistols',\n  '.',\n  '#deaththekid',\n  '#bot'],\n ['he',\n  'totally',\n  'knew',\n  'about',\n  'it',\n  \"'\",\n  '.',\n  'trump',\n  'finally',\n  'gets',\n  'revenge',\n  'for',\n  'his',\n  \"son-in-law's\",\n  'prosecution',\n  '/',\n  'imprisonment',\n  'and',\n  'throws',\n  'christie',\n  'under',\n  'the',\n  'bus',\n  '.'],\n ['recording',\n  'some',\n  'more',\n  '#fnaf',\n  'and',\n  'had',\n  'to',\n  'facetime',\n  'my',\n  'mum',\n  'to',\n  'let',\n  'her',\n  'know',\n  'i',\n  'was',\n  'okay',\n  'after',\n  'i',\n  'let',\n  'out',\n  'a',\n  'high',\n  'pitched',\n  'scream',\n  '😂',\n  '#horror',\n  '#suchagirl'],\n ['@user',\n  'like',\n  ',',\n  'despite',\n  'all',\n  'my',\n  'irritation',\n  'towards',\n  'ur',\n  'ship',\n  ',',\n  'at',\n  'least',\n  'its',\n  'canon',\n  '.',\n  'buckynat',\n  'is',\n  'canon',\n  ',',\n  '(',\n  'and',\n  'clintwanda',\n  'is',\n  'canon',\n  ')'],\n ['@user',\n  '@user',\n  'yeah',\n  ',',\n  'they',\n  'figured',\n  'that',\n  'ornaments',\n  'are',\n  'way',\n  'more',\n  'wanted',\n  'than',\n  'spektar',\n  'and',\n  'desolate',\n  'gear',\n  '.',\n  'well',\n  'they',\n  'thought',\n  'right',\n  '.'],\n ['panda',\n  'eyed',\n  'jaunty',\n  'after',\n  'watching',\n  'jaws',\n  'until',\n  'late',\n  '!'],\n ['contactless',\n  'affliction',\n  'kart',\n  'are',\n  'the',\n  'needs',\n  'must',\n  'regarding',\n  'the',\n  'psychological',\n  'moment',\n  '!',\n  ':',\n  'xbeujgb'],\n ['i',\n  'do',\n  'not',\n  'even',\n  '#feel',\n  '#anger',\n  'anymore',\n  'cannot',\n  'explain',\n  'it',\n  '..',\n  '#tulsa',\n  '#charlotte',\n  '#trayvon',\n  '#sandrabland',\n  '#philando',\n  '#ferguson',\n  '#batonrouge',\n  '#michaelbrown'],\n ['projection',\n  'is',\n  'perception',\n  '.',\n  'see',\n  'it',\n  'in',\n  'someone',\n  'else',\n  '?',\n  'you',\n  'also',\n  'at',\n  'some',\n  'level',\n  'have',\n  'that',\n  'within',\n  'you',\n  '.',\n  '#anger',\n  '#worry'],\n ['people',\n  'need',\n  'a',\n  'way',\n  'to',\n  'escape',\n  ',',\n  'escape',\n  'what',\n  '?',\n  'this',\n  'corrupted',\n  'world.this',\n  'reality',\n  '.',\n  'this',\n  'joke.this',\n  'fury',\n  'of',\n  'constant',\n  'pain',\n  '&',\n  'stress.we',\n  'need',\n  'a',\n  'vacation'],\n ['@user',\n  '&',\n  '@user',\n  'must',\n  'be',\n  'rejoicing',\n  'ovet',\n  '#charlotte',\n  'protests',\n  '.',\n  '#northcarolina'],\n ['@user',\n  'fix',\n  'this',\n  'home',\n  '/',\n  'away',\n  'deptch',\n  'chart',\n  'invalid',\n  'glitch',\n  '.',\n  'i',\n  'have',\n  'to',\n  'close',\n  'madden',\n  'and',\n  're-open',\n  'it',\n  'everytime',\n  'this',\n  'happens'],\n ['@user',\n  'think',\n  'about',\n  'it',\n  'if',\n  'he',\n  'need',\n  'white',\n  'peoples',\n  'votes',\n  'would',\n  'not',\n  'just',\n  'reach',\n  'out',\n  'about',\n  'things',\n  'that',\n  'only',\n  'concern',\n  'them',\n  '&',\n  'leave',\n  'out',\n  'rest',\n  '?'],\n ['bilal',\n  'abood',\n  ',',\n  '#iraq',\n  '#immigrant',\n  'who',\n  'lives',\n  'in',\n  'mesquite',\n  ',',\n  'texas',\n  ',',\n  'was',\n  'sentenced',\n  'to',\n  '48',\n  'months',\n  'in',\n  'prison',\n  'for',\n  'lying',\n  'to',\n  'the',\n  'feds',\n  'about',\n  '#terrorism',\n  '.'],\n ['i',\n  'know',\n  'this',\n  'is',\n  'going',\n  'to',\n  'be',\n  'one',\n  'of',\n  'those',\n  'nights',\n  'where',\n  'it',\n  'takes',\n  'an',\n  'act',\n  'of',\n  'god',\n  'to',\n  'fall',\n  'asleep',\n  '.',\n  '#restless'],\n ['banger',\n  'sit',\n  'in',\n  '2013',\n  'reason',\n  'why',\n  'we',\n  'great',\n  'doings',\n  'him',\n  'alias',\n  'for',\n  'why',\n  'we',\n  'rejoice',\n  'in',\n  'he',\n  '.',\n  ':',\n  'kzfqr'],\n ['i', 'feel', 'furious'],\n ['i',\n  'do',\n  'not',\n  'know',\n  'what',\n  'is',\n  'worse',\n  ',',\n  'the',\n  'new',\n  'pizza',\n  'hut',\n  'commercials',\n  'or',\n  'the',\n  'pizza',\n  'that',\n  'pizza',\n  'hut',\n  'makes',\n  '.'],\n ['i',\n  'always',\n  'thought',\n  'i',\n  'was',\n  'too',\n  'empathetic',\n  'but',\n  'it',\n  'is',\n  'becoming',\n  'clear',\n  'that',\n  'the',\n  'majority',\n  'of',\n  'you',\n  'guys',\n  'are',\n  'plain',\n  'insensitive',\n  'to',\n  'an',\n  'alarming',\n  'degree'],\n ['#nawazsharif',\n  'says',\n  'let',\n  'us',\n  'end',\n  '#terror',\n  '.',\n  'sure',\n  ',',\n  'let',\n  '#indianarmedforces',\n  'target',\n  'the',\n  'bases',\n  'without',\n  '#pakistan',\n  'interference',\n  '#karma',\n  '?'],\n ['@user',\n  '@user',\n  '@user',\n  'entire',\n  'team',\n  'from',\n  'coaches',\n  'on',\n  'down',\n  'played',\n  'and',\n  'coached',\n  'scared',\n  'from',\n  'jumpstreet',\n  '.',\n  '#intimidated'],\n ['floofel',\n  '.',\n  'i',\n  'wonder',\n  'if',\n  'your',\n  'mother',\n  'knows',\n  'how',\n  'dark',\n  'your',\n  'humor',\n  'can',\n  'be.needs',\n  'to',\n  'realize',\n  'how',\n  'much',\n  'of',\n  'a',\n  'butt',\n  'apple',\n  'is',\n  '.',\n  'pastels',\n  'and',\n  'cats.cutie',\n  'pie',\n  '.'],\n ['why',\n  'does',\n  'not',\n  'anybody',\n  'i',\n  'know',\n  'watch',\n  'penny',\n  'dreadful',\n  '?',\n  '☹',\n  '️️'],\n ['thank',\n  'you',\n  '@user',\n  'for',\n  'the',\n  'balloons',\n  'today',\n  '.',\n  '#smile',\n  '#goodday',\n  '#48'],\n ['currently',\n  'listening',\n  'to',\n  '@user',\n  '&',\n  '@user',\n  '@user',\n  'podcasts',\n  '!',\n  '!',\n  'can',\n  'you',\n  'guys',\n  'please',\n  'move',\n  'to',\n  '#yvr',\n  '?',\n  '#hilarious',\n  '#missyou'],\n ['depression', 'sucks', '!'],\n ['@user',\n  'hard',\n  'to',\n  'tell',\n  'in',\n  'your',\n  'pic',\n  '.',\n  'my',\n  'mistake',\n  'then',\n  '.',\n  'either',\n  'way',\n  ',',\n  'nothing',\n  'i',\n  'said',\n  'initially',\n  'was',\n  'about',\n  'race',\n  '.',\n  'you',\n  'took',\n  'it',\n  'there',\n  '.',\n  '#ignorant'],\n ['how',\n  'maybe',\n  'it',\n  'was',\n  'with',\n  'you',\n  'and',\n  'your',\n  'parents',\n  '..',\n  'that',\n  'i',\n  'would',\n  'understand',\n  'you',\n  'and',\n  'your',\n  'fear',\n  'of',\n  'indifference',\n  'from',\n  'your',\n  'own',\n  'mom',\n  'and',\n  'dad',\n  '..'],\n ['@user', 'bubble', 'implies', 'it', 'will', 'burst', '?'],\n ['@user',\n  '@user',\n  'new',\n  'campaign',\n  'slogan',\n  'idea',\n  '...',\n  \"'\",\n  'i',\n  'know',\n  'you',\n  'are',\n  'but',\n  'what',\n  'am',\n  'i',\n  '?',\n  \"'\",\n  '#trump2016',\n  '#yourefired',\n  '#deflect'],\n ['my',\n  'school',\n  'photo',\n  'is',\n  'honestly',\n  'horrid',\n  ',',\n  'i',\n  'look',\n  'so',\n  'ew',\n  '😅'],\n ['I',\n  'am',\n  'mad',\n  'at',\n  'the',\n  'injustice',\n  ',',\n  'so',\n  'I',\n  'am',\n  'going',\n  'to',\n  'smash',\n  'my',\n  'neighbours',\n  'windows',\n  \"'\",\n  '.',\n  'makes',\n  'perfect',\n  'sense',\n  '.',\n  '#charlotteprotest'],\n ['@user',\n  '@user',\n  'no',\n  'grudge',\n  '.',\n  'only',\n  'truth',\n  'in',\n  'abundance',\n  '.'],\n ['that',\n  'is',\n  'me',\n  'for',\n  'the',\n  'evening',\n  ',',\n  'though',\n  '!',\n  'way',\n  'too',\n  'lit',\n  'to',\n  'finish',\n  'these',\n  'off',\n  'properly',\n  'without',\n  'causing',\n  'some',\n  'serious',\n  'mischief',\n  '.'],\n ['@user', 'oh', 'so', 'true', ',', 'so', 'true', '.'],\n ['@user',\n  \"'\",\n  'customer',\n  'service',\n  \"'\",\n  'beyond',\n  'appalling',\n  '.',\n  'faulty',\n  'dryer',\n  'replacement',\n  'breaks',\n  'within',\n  'wks',\n  'no',\n  'parts',\n  'for',\n  '3',\n  'wks',\n  '.',\n  'engineers',\n  'no',\n  'show',\n  '.'],\n ['how',\n  'in',\n  'the',\n  'world',\n  'did',\n  'nicole',\n  'beat',\n  'paul',\n  '?',\n  '!',\n  '?',\n  '!',\n  '#terrible',\n  '#bb18',\n  '#bbfinale',\n  'what',\n  'was',\n  'the',\n  'jury',\n  'thinking',\n  '?',\n  '?',\n  '😳',\n  '😳',\n  '😳'],\n ['baaarissshhhhh',\n  '+',\n  'sad',\n  'song',\n  '=',\n  'prefect',\n  'night',\n  '—',\n  'feeling',\n  'alone'],\n ['walk',\n  'right',\n  'through',\n  'them',\n  '!',\n  'see',\n  'way',\n  'past',\n  'them',\n  ',',\n  'and',\n  'do',\n  'not',\n  'even',\n  'hesitate',\n  'running',\n  'them',\n  'over',\n  '.'],\n ['I', 'am', 'really', 'constipated', '.', 'this', 'is', 'depressing'],\n ['@user',\n  '@user',\n  'this',\n  'individual',\n  'is',\n  'clearly',\n  'trying',\n  '2',\n  '#intimidate',\n  'this',\n  '#leo',\n  'i',\n  'see',\n  'an',\n  'issue',\n  'here',\n  '.',\n  'stop',\n  'causing',\n  'issues',\n  'by',\n  'pushing',\n  'limits',\n  '!',\n  '!'],\n ['#autumnalequinox',\n  'the',\n  'nights',\n  'are',\n  'drawing',\n  'in',\n  ',',\n  'what',\n  'a',\n  'great',\n  'time',\n  'to',\n  'look',\n  'at',\n  'putting',\n  'up',\n  'some',\n  'new',\n  '#lights',\n  '#dark',\n  '#showroom',\n  '#news',\n  '#wirral'],\n ['is',\n  'not',\n  'the',\n  'whole',\n  \"'\",\n  'it',\n  'is',\n  'been',\n  'hijacked',\n  \"'\",\n  'argument',\n  'the',\n  'same',\n  'argument',\n  'used',\n  'to',\n  'ban',\n  'or',\n  'discourage',\n  'the',\n  'display',\n  'of',\n  'the',\n  'st',\n  \"george's\",\n  'cross',\n  '?',\n  'shame',\n  '@user'],\n ['watch',\n  'this',\n  'amazing',\n  'live.ly',\n  'broadcast',\n  'by',\n  '@user',\n  '#musically'],\n ['that',\n  'rocky',\n  'horror',\n  'remake',\n  'looks',\n  'a',\n  'bit',\n  'w',\n  'a',\n  'n',\n  'k'],\n ['i',\n  'wish',\n  'there',\n  'were',\n  'unlimited',\n  'glee',\n  'episodes',\n  ':(',\n  'so',\n  'i',\n  'could',\n  'watch',\n  'them',\n  'forever',\n  '.',\n  '#gleegoodbye'],\n ['why',\n  'does',\n  '@user',\n  'have',\n  'to',\n  'come',\n  'to',\n  'glasgow',\n  'on',\n  'a',\n  'night',\n  'i',\n  'am',\n  'working',\n  '.',\n  'i',\n  'am',\n  'fucking',\n  'gutted',\n  ',',\n  'been',\n  'waiting',\n  'for',\n  'an',\n  'appearance',\n  'for',\n  'ages'],\n ['absolutely',\n  'fuming',\n  'that',\n  'some',\n  'woman',\n  'jumped',\n  'into',\n  'my',\n  'prebooked',\n  'taxi',\n  'and',\n  'drove',\n  'off',\n  '😡'],\n ['@user',\n  'we',\n  'are',\n  'not',\n  'concerned',\n  'about',\n  \"pakistan's\",\n  'internal',\n  'affairs',\n  '.',\n  'but',\n  'the',\n  'terrorism',\n  'as',\n  'it',\n  'is',\n  'state',\n  '&',\n  'economic',\n  'policy',\n  '.',\n  '#terroristnation'],\n ['#trump',\n  '’',\n  's',\n  '‘',\n  'make',\n  'america',\n  'great',\n  'again',\n  '’',\n  'plan',\n  'is',\n  'exactly',\n  'like',\n  'the',\n  'first',\n  '15',\n  'minutes',\n  'of',\n  'the',\n  '#movie',\n  '#childrenofmen',\n  '.',\n  '#cages',\n  '#terrorism',\n  '#refugees'],\n ['I',\n  'am',\n  'like',\n  \"'\",\n  'this',\n  'is',\n  'better',\n  \"'\",\n  'in',\n  'the',\n  'moment',\n  'cuz',\n  'i',\n  'panic',\n  'and',\n  'then',\n  'later',\n  'its',\n  'so',\n  'obviously',\n  'not',\n  'better',\n  '.',\n  'at',\n  'every',\n  'opportunity',\n  'i',\n  'choose',\n  'to',\n  'make',\n  'it',\n  'seem'],\n ['@user',\n  'the',\n  '@user',\n  'had',\n  'a',\n  'good',\n  'one',\n  'but',\n  'then',\n  'the',\n  'reporter',\n  'quit',\n  '.',\n  '#sad'],\n ['@user',\n  'just',\n  'preordered',\n  'the',\n  'pale',\n  'ep',\n  '...',\n  'would',\n  'have',\n  'paid',\n  'for',\n  'the',\n  'phone',\n  'call',\n  '...',\n  'but',\n  'i',\n  'would',\n  'have',\n  'freaked',\n  'out',\n  'and',\n  'not',\n  'said',\n  'anything'],\n ['paul',\n  'forever',\n  '.',\n  'paul',\n  'should',\n  'have',\n  'won',\n  '!',\n  'paul',\n  'played',\n  'such',\n  'a',\n  'better',\n  'game',\n  '!',\n  '#bb18',\n  '#angry'],\n ['never', 'afraid', 'to', 'start', 'over'],\n ['did',\n  'we',\n  'miss',\n  'the',\n  'fact',\n  'that',\n  '#burkeramsey',\n  'swung',\n  '&',\n  'hit',\n  'his',\n  'sister',\n  '#jonbenet',\n  'in',\n  'the',\n  'face',\n  'with',\n  'a',\n  'golf',\n  'club',\n  'previously',\n  'out',\n  'of',\n  'a',\n  'fit',\n  'of',\n  '#anger',\n  '?'],\n ['and',\n  'i',\n  'will',\n  'not',\n  'even',\n  'get',\n  'started',\n  'with',\n  'hillary',\n  'and',\n  'her',\n  'fancy',\n  'fundraisers',\n  '!',\n  '#depressing'],\n ['@user',\n  'forest',\n  'gate',\n  'you',\n  'could',\n  'see',\n  'he',\n  'was',\n  'a',\n  'bully',\n  'cunt',\n  'big',\n  'bald',\n  'cunt',\n  'his',\n  'mates',\n  'looked',\n  'in',\n  'shock',\n  'when',\n  'i',\n  'hit',\n  'him',\n  'and',\n  'did',\n  'not',\n  'do',\n  'shit',\n  'when',\n  'he'],\n ['#indiamissingindira',\n  'that',\n  'she',\n  'could',\n  'never',\n  'solve',\n  'kashmir',\n  'problem',\n  'and',\n  'kept',\n  'it',\n  'burning',\n  'for',\n  'vote',\n  'bank',\n  '#terrorstatepak'],\n ['#quote',\n  'what',\n  'you',\n  '#fear',\n  'controls',\n  'u',\n  '.',\n  'fear',\n  'is',\n  'not',\n  'out',\n  'in',\n  'life',\n  'but',\n  'in',\n  'ur',\n  'mind',\n  '.',\n  'real',\n  'difficulties',\n  'can',\n  'be',\n  'overcome',\n  '-',\n  'cheryl',\n  'janecky'],\n ['to',\n  'shake',\n  'and',\n  'my',\n  'mouth',\n  'was',\n  'chattering',\n  'and',\n  'i',\n  'could',\n  'not',\n  'take',\n  'right',\n  'because',\n  'all',\n  'of',\n  'my',\n  'body',\n  'was',\n  'trembling',\n  'so',\n  'i',\n  'went',\n  'outside'],\n ['very',\n  'depressing',\n  'seeing',\n  'my',\n  'whole',\n  'fam',\n  'packing',\n  'to',\n  'go',\n  'on',\n  'holiday',\n  'tomorrow',\n  'and',\n  'I',\n  'am',\n  'just',\n  'staying',\n  'here',\n  '🙃'],\n ['schneiderlin', 'taking', 'his', 'revenge', 'for', 'the', '2', 'fouls'],\n ['lol', 'little', 'things', 'like', 'that', 'make', 'me', 'so', 'angry', 'x'],\n ['cuddling',\n  'literally',\n  'kills',\n  'depression',\n  ',',\n  'relieves',\n  'anxiety',\n  ',',\n  'and',\n  'strengthens',\n  'the',\n  'immune',\n  'system',\n  '.'],\n ['@user', '@user', 'varsity', 'pine', 'riding'],\n ['this',\n  'has',\n  '#turned',\n  'out',\n  '#better',\n  'then',\n  'i',\n  'expected',\n  'admitting',\n  'you',\n  'tried',\n  'to',\n  '#intimidate',\n  '😂',\n  '😂',\n  '#cantstoplaughing',\n  'i',\n  'really',\n  'cannot',\n  'and',\n  'it',\n  'has',\n  'in',\n  '#spokeword'],\n ['@user',\n  'oh',\n  ',',\n  'good',\n  'god',\n  '.',\n  'quentin',\n  'letts',\n  'is',\n  'doing',\n  'one',\n  'of',\n  'his',\n  \"'\",\n  'comedy',\n  \"'\",\n  'turns',\n  '.',\n  '#angry',\n  '@user',\n  '@user',\n  '#bbctw'],\n ['@user', '@user', 'and', 'the', 'dreadful', 'franglaise', '.'],\n ['@user',\n  'does',\n  'not',\n  'explain',\n  'the',\n  'ability',\n  'to',\n  'land',\n  'at',\n  'manchester',\n  'but',\n  'not',\n  'bradford',\n  '-',\n  'other',\n  'than',\n  'more',\n  'convenient',\n  'for',\n  'flybe',\n  '.',\n  'many',\n  'unhappy',\n  'travelers'],\n ['watch',\n  'this',\n  'amazing',\n  'live.ly',\n  'broadcast',\n  'by',\n  '@user',\n  '#musically'],\n ['@user',\n  'may',\n  'i',\n  'suggest',\n  ',',\n  'that',\n  'you',\n  'have',\n  'a',\n  'meal',\n  'that',\n  'is',\n  'made',\n  'with',\n  'beans',\n  ',',\n  'onions',\n  '&',\n  'garlic',\n  ',',\n  'the',\n  'day',\n  'before',\n  'class',\n  '.'],\n ['i',\n  'hate',\n  'it',\n  'when',\n  'I',\n  'am',\n  'singing',\n  'and',\n  'some',\n  'idiot',\n  'thinks',\n  'they',\n  'can',\n  'just',\n  'join',\n  'in',\n  'with',\n  'me',\n  'like',\n  '...',\n  'this',\n  'is',\n  'not',\n  'fcking',\n  'glee',\n  '#meanrikonabot'],\n ['dentist',\n  'just',\n  'said',\n  'to',\n  'me',\n  \"'\",\n  'I',\n  'am',\n  'going',\n  'to',\n  'numb',\n  'your',\n  'front',\n  'lip',\n  'up',\n  'so',\n  'it',\n  'will',\n  'feel',\n  'as',\n  'if',\n  'you',\n  'have',\n  'got',\n  'lips',\n  'like',\n  'pete',\n  'burns',\n  '!',\n  '...',\n  'she',\n  'was',\n  'right',\n  '#pout'],\n ['people',\n  'often',\n  'grudge',\n  'others',\n  'what',\n  'they',\n  'cannot',\n  'enjoy',\n  'themselves',\n  '.'],\n ['yeah',\n  'I',\n  'am',\n  'hot',\n  'nigga',\n  ',',\n  'they',\n  'say',\n  'I',\n  'am',\n  'burning',\n  'uhhhhh'],\n ['they',\n  'want',\n  'as',\n  'police',\n  'state',\n  ',',\n  'they',\n  'are',\n  'fearful',\n  'imbeciles',\n  '..',\n  '@interpretingall',\n  '@user',\n  '@user',\n  '@user'],\n ['lmboo', ',', 'using', 'my', 'nephew', 'for', 'meme', '#hilarious'],\n ['@user',\n  'i',\n  'am',\n  'irate',\n  'at',\n  'you',\n  'check-in',\n  'system',\n  '.',\n  'i',\n  'have',\n  'tried',\n  'to',\n  'checkin',\n  'all',\n  'day',\n  'and',\n  'it',\n  'would',\n  'not',\n  'let',\n  'me',\n  'do',\n  'it',\n  'because',\n  'i',\n  'had',\n  'no',\n  'seat',\n  'assigned'],\n ['@user',\n  'event',\n  'started',\n  '!',\n  'everyone',\n  'is',\n  'getting',\n  'ready',\n  'to',\n  'travel',\n  'to',\n  'the',\n  'lake',\n  'of',\n  'rage',\n  ',',\n  'where',\n  'everything',\n  'glows'],\n ['@user',\n  '#fear',\n  '&',\n  '#anger',\n  'are',\n  'similar',\n  'to',\n  'what',\n  '#hitler',\n  'preached',\n  'to',\n  'come',\n  'to',\n  'power',\n  'in',\n  'germany',\n  '.',\n  'wake',\n  'up',\n  'america',\n  '!',\n  '!'],\n ['$',\n  'srpt',\n  'why',\n  'would',\n  'etep',\n  'patients',\n  '&',\n  \"mom's\",\n  'advocate',\n  'for',\n  'a',\n  'drug',\n  'if',\n  'it',\n  'did',\n  'not',\n  'work',\n  '?',\n  'anyone',\n  'listen',\n  'to',\n  'the',\n  'etep',\n  \"md's\",\n  '@',\n  'adcomm',\n  '..',\n  'all',\n  'were',\n  'elated',\n  '.'],\n ['@user',\n  'ill',\n  'be',\n  'there',\n  '...',\n  'with',\n  'vip',\n  'tickets',\n  '!',\n  'cannot',\n  'wait',\n  'to',\n  'meet',\n  'you',\n  '.',\n  'never',\n  'met',\n  'a',\n  'famous',\n  'person',\n  'i',\n  'admire',\n  'before',\n  '!',\n  '#nervous'],\n ['@user',\n  '@user',\n  'had',\n  'more',\n  'fun',\n  'than',\n  'the',\n  'funniest',\n  'person',\n  'in',\n  'funsville',\n  '...',\n  'much',\n  'hilarity',\n  'as',\n  'usual',\n  '...',\n  'thank',\n  'you',\n  '❤',\n  '️'],\n ['@user',\n  'and',\n  'have',\n  'social',\n  'anxiety',\n  '.',\n  'there',\n  'is',\n  'many',\n  'awkward',\n  'things',\n  'wrong',\n  'with',\n  'me',\n  '.',\n  '😄'],\n ['@user',\n  '@user',\n  'the',\n  'struggle',\n  'is',\n  'real',\n  '.',\n  'whoa',\n  '!',\n  'i',\n  'worry',\n  'for',\n  'the',\n  'younger',\n  'generation',\n  '💔'],\n ['matt',\n  'and',\n  'i',\n  'just',\n  'did',\n  'a',\n  'psychological',\n  'study',\n  'on',\n  'provocation',\n  'in',\n  'abusive',\n  'relationships',\n  '.'],\n ['@user',\n  '@user',\n  'ya',\n  'and',\n  'the',\n  'd',\n  'was',\n  'what',\n  'i',\n  'was',\n  'most',\n  'confident',\n  'about',\n  '...',\n  'our',\n  'offense',\n  'is',\n  'as',\n  'good',\n  'as',\n  'it',\n  'is',\n  'been',\n  'in',\n  '20',\n  'years',\n  '...',\n  'our',\n  'd',\n  'sucks'],\n ['@user',\n  'gives',\n  'a',\n  'frustrated',\n  'growl',\n  ',',\n  'before',\n  'stepping',\n  'closer',\n  'and',\n  'putting',\n  'his',\n  'gun',\n  'through',\n  'the',\n  'barrier',\n  '.',\n  'no',\n  'alarms',\n  'and',\n  'nothing',\n  'happened',\n  '.',\n  'he',\n  '-'],\n ['thanks',\n  'for',\n  'ripping',\n  'me',\n  'off',\n  'again',\n  '#luthansa',\n  '€',\n  '400',\n  'not',\n  'enough',\n  'for',\n  'a',\n  'one',\n  'way',\n  'flight',\n  'to',\n  'man',\n  'from',\n  'frk',\n  'then',\n  '€',\n  '30',\n  'for',\n  'a',\n  'bag',\n  'then',\n  'free',\n  'at',\n  'gate'],\n ['@user',\n  'can',\n  'you',\n  'please',\n  'not',\n  'have',\n  'canadian',\n  'players',\n  'play',\n  'us',\n  'players',\n  ',',\n  'that',\n  'lag',\n  'is',\n  'atrocious',\n  '.',\n  '#fixthisgame',\n  '#trash',\n  '#sfvrefund'],\n ['gahh',\n  '...',\n  'bt',\n  ',',\n  'in',\n  'queue',\n  'for',\n  '30',\n  'minutes',\n  '..',\n  'now',\n  'put',\n  'through',\n  'to',\n  'bt',\n  'sport',\n  'dept',\n  'to',\n  'cancel',\n  '...',\n  'back',\n  'in',\n  'a',\n  'queue',\n  'again',\n  '...'],\n ['@user', 'switch', 'host', 'no', 'bullet', 'rage', '.'],\n ['a',\n  '#monster',\n  'is',\n  'only',\n  'a',\n  '#monster',\n  'if',\n  'you',\n  'view',\n  'him',\n  'through',\n  '#fear'],\n ['@user', 'do', 'not', 'leave', 'me'],\n ['@user', 'fucking', 'hell', 'mate', 'absolute', 'nightmare', '😓'],\n ['michelle',\n  ',',\n  'who',\n  'did',\n  'nothing',\n  'is',\n  'hating',\n  'on',\n  \"nicole's\",\n  'game',\n  'hahaha',\n  '...',\n  '#bitter',\n  '#bb18'],\n ['being',\n  'stuck',\n  'in',\n  'the',\n  'roof',\n  'of',\n  'your',\n  'house',\n  'provides',\n  'amazing',\n  'view',\n  'but',\n  'sheer',\n  'terror',\n  'of',\n  'falling',\n  'down',\n  ',',\n  'kind',\n  'of',\n  'like',\n  'life'],\n ['think',\n  'val',\n  'might',\n  'be',\n  'going',\n  'this',\n  'week',\n  '.',\n  'I',\n  'will',\n  'have',\n  'to',\n  'take',\n  'the',\n  'rest',\n  'of',\n  'the',\n  'week',\n  'off',\n  'work',\n  'to',\n  'mourn',\n  '.',\n  'I',\n  'am',\n  'sure',\n  'they',\n  'will',\n  'understand',\n  '.',\n  '#gbbo'],\n ['@user',\n  'appointment',\n  'booked',\n  'between',\n  '1-6',\n  'today',\n  ',',\n  'waited',\n  'in',\n  'all',\n  'day',\n  'and',\n  'nobody',\n  'showed',\n  'up',\n  ',',\n  'also',\n  'requested',\n  'a',\n  'call',\n  'back',\n  'and',\n  'never',\n  'got',\n  'one'],\n ['@user',\n  '@user',\n  '@user',\n  '@user',\n  '@user',\n  '@user',\n  '@user',\n  '@user',\n  '@user',\n  'it',\n  'is',\n  'an',\n  'insult',\n  '.'],\n ['I', 'am', 'so', 'gloomy', 'today'],\n ['@user',\n  'the',\n  'red',\n  'one',\n  'would',\n  'look',\n  'super',\n  'pretty',\n  'with',\n  'a',\n  'bronzy',\n  'glowy',\n  'nude',\n  'lip',\n  'makeup',\n  'look',\n  '!',\n  '3rd',\n  'black',\n  'would',\n  'be',\n  'pretty',\n  'with',\n  'a',\n  'dark',\n  'lip',\n  '!',\n  '😍'],\n ['@user',\n  '@user',\n  'usa',\n  'was',\n  'embarrassing',\n  'to',\n  'watch',\n  '.',\n  'when',\n  'was',\n  'the',\n  'last',\n  'time',\n  'you',\n  'guys',\n  'won',\n  'a',\n  'game',\n  '..',\n  '?',\n  '#joke'],\n ['i',\n  'can',\n  'already',\n  'tell',\n  'this',\n  'programme',\n  'is',\n  'going',\n  'to',\n  'infuriate',\n  'me',\n  '#extremeworld'],\n ['watch',\n  'this',\n  'amazing',\n  'live.ly',\n  'broadcast',\n  'by',\n  '@user',\n  '#lively',\n  '#musically'],\n ['when', 'will', 'the', 'weeks', 'full', 'of', 'mondays', 'end', '?', '?'],\n ['more',\n  '#checking',\n  'at',\n  '#work',\n  'today',\n  '#coffee',\n  '#drank',\n  'and',\n  'now',\n  'it',\n  'is',\n  '#down',\n  'to',\n  'some',\n  '#serious',\n  '#business',\n  '#thursday',\n  'bring',\n  'on',\n  '#friday'],\n ['what',\n  'is',\n  'with',\n  'these',\n  'boxes',\n  'when',\n  'i',\n  'search',\n  'google',\n  'on',\n  'chrome',\n  '#horrible',\n  '#distracting'],\n ['last',\n  'night',\n  'i',\n  'had',\n  'a',\n  'dream',\n  'that',\n  'today',\n  'was',\n  'christmas',\n  '.',\n  'i',\n  'woke',\n  'up',\n  'screaming',\n  'because',\n  'i',\n  'was',\n  'not',\n  'ready',\n  '.'],\n ['10',\n  'minutes',\n  'with',\n  'an',\n  'incense',\n  'and',\n  'all',\n  'i',\n  'get',\n  'is',\n  '2',\n  'rattatas',\n  '.',\n  '😂',\n  '#pokemongo'],\n ['@user',\n  'I',\n  'have',\n  'been',\n  'disconnected',\n  'whilst',\n  'on',\n  'holiday',\n  '😤',\n  'but',\n  'i',\n  'do',\n  'not',\n  'move',\n  'house',\n  'until',\n  'the',\n  '1st',\n  'october',\n  '🤔'],\n ['sounds',\n  'like',\n  'donald',\n  'trump',\n  'has',\n  'spent',\n  'today',\n  'just',\n  'making',\n  'extra',\n  ',',\n  'extra',\n  'sure',\n  'he',\n  'would',\n  'get',\n  'those',\n  'frightened',\n  'white',\n  ',',\n  'conservative',\n  ',',\n  'racist',\n  'votes',\n  '.'],\n ['so', 'lost', 'I', 'am', 'faded'],\n ['you',\n  'do',\n  'not',\n  'know',\n  'what',\n  'to',\n  'expect',\n  'by',\n  \"brendon's\",\n  'video',\n  'lmao',\n  'la',\n  'devotee',\n  'video',\n  'got',\n  'me',\n  'shook'],\n ['anyone',\n  'else',\n  'find',\n  '@user',\n  \"'\",\n  'anniversary',\n  'windows',\n  '10',\n  'update',\n  '1607',\n  \"'\",\n  'a',\n  'complete',\n  '#nightmare'],\n ['@user',\n  'cannot',\n  'believe',\n  'how',\n  'rude',\n  'your',\n  'cashier',\n  'was',\n  'today',\n  'when',\n  'i',\n  'was',\n  'returning',\n  'an',\n  'item',\n  '!',\n  'your',\n  'customer',\n  'service',\n  'is',\n  'slacking',\n  '.',\n  '#terrible'],\n ['@user', '@user', 'it', 'is', 'hilarious'],\n ['friday',\n  'is',\n  'here',\n  ',',\n  'and',\n  'we',\n  'are',\n  'open',\n  'tonight',\n  'and',\n  'tomorrow',\n  '.',\n  'get',\n  'a',\n  'jump',\n  'on',\n  'your',\n  'halloween',\n  'and',\n  'come',\n  'play',\n  'with',\n  'us',\n  '.',\n  '#hauntedattraction',\n  '#tulsa',\n  '#haunt'],\n ['@user',\n  '[',\n  'he',\n  'gives',\n  'a',\n  'gleeful',\n  'squeak',\n  'and',\n  'wraps',\n  'around',\n  'you',\n  ']',\n  'all',\n  'mine',\n  '!'],\n ['some',\n  'moving',\n  'clips',\n  'on',\n  'youtube',\n  'tonight',\n  'of',\n  'the',\n  'vigil',\n  'held',\n  'at',\n  'tulsa',\n  'metropolitan',\n  'baptist',\n  'church',\n  'for',\n  '#terencecruther',\n  '#justice',\n  '#sadness'],\n ['watched',\n  'tna',\n  'for',\n  'the',\n  'first',\n  'time',\n  'in',\n  'a',\n  'long',\n  'time',\n  'what',\n  'the',\n  'hell',\n  'happened',\n  'to',\n  'the',\n  '#hardyboys',\n  '#impactonpop',\n  '#wwe',\n  '#terrible'],\n ['it',\n  'is',\n  'not',\n  'that',\n  'the',\n  'man',\n  'did',\n  'not',\n  'know',\n  'how',\n  'to',\n  'juggle',\n  ',',\n  'he',\n  'just',\n  'did',\n  'not',\n  'have',\n  'the',\n  'balls',\n  'to',\n  'do',\n  'it',\n  '.',\n  '#funny',\n  '#pun',\n  '#lol',\n  '#punny'],\n ['@user',\n  'what',\n  'is',\n  'with',\n  'the',\n  '50p',\n  'a',\n  'minute',\n  'charge',\n  'to',\n  '150',\n  ',',\n  'insult',\n  'to',\n  'injury'],\n ['unruly',\n  'kids',\n  'at',\n  '8am',\n  'in',\n  'the',\n  'morning',\n  '#nothanks',\n  'ripping',\n  'the',\n  'flower',\n  'beds',\n  'up',\n  'by',\n  'the',\n  'roots',\n  'while',\n  'their',\n  'parents',\n  'watch',\n  '#shocking'],\n ['@user',\n  '@user',\n  'yep',\n  ',',\n  'as',\n  'i',\n  'pointed',\n  'out',\n  'before',\n  ',',\n  'it',\n  'is',\n  'the',\n  'politics',\n  'of',\n  'loathing',\n  '.',\n  'that',\n  'is',\n  'why',\n  'the',\n  'big',\n  'candidates',\n  'are',\n  'so',\n  'horrible',\n  '.'],\n ['@user',\n  '@user',\n  'hi',\n  'dom',\n  'i',\n  'saw',\n  'you',\n  'at',\n  'notts',\n  'county',\n  'away',\n  ',',\n  'looking',\n  'for',\n  '1',\n  'mufc',\n  'away',\n  'ticket',\n  'will',\n  'pay',\n  '#blues'],\n ['if',\n  'i',\n  'spend',\n  'more',\n  'than',\n  '£',\n  '10',\n  'in',\n  'shimmy',\n  'on',\n  '£',\n  '1',\n  'drinks',\n  'I',\n  'will',\n  'be',\n  'raging',\n  ',',\n  'but',\n  'we',\n  'all',\n  'know',\n  'it',\n  'is',\n  'going',\n  'to',\n  'happen'],\n ['looks',\n  'like',\n  '#india',\n  'is',\n  'finally',\n  'taking',\n  '#pakistan',\n  'n',\n  'it',\n  'is',\n  '#terrorism',\n  'to',\n  'task',\n  '.',\n  '#uriattacks',\n  '.'],\n ['@user',\n  'old',\n  'age',\n  '?',\n  '!',\n  'no',\n  'hope',\n  'for',\n  'the',\n  'rest',\n  'of',\n  'us',\n  '.',\n  'destined',\n  'to',\n  'become',\n  'deatheaters',\n  'by',\n  '50'],\n ['rojo',\n  'is',\n  'just',\n  'terrible',\n  ',',\n  'how',\n  'is',\n  'he',\n  'in',\n  'our',\n  'team',\n  '😂',\n  '😂'],\n ['aaahhhh',\n  '!',\n  'a',\n  'little',\n  '@user',\n  'to',\n  'soothe',\n  'the',\n  'soul',\n  '.',\n  '#music',\n  '#blues'],\n ['the',\n  'whole',\n  'idea',\n  'f',\n  'a',\n  'nation',\n  'revolves',\n  'around',\n  'kashmir',\n  '&',\n  'global',\n  'terrorism',\n  ':',\n  'evrn',\n  'do',\n  'not',\n  'care',\n  'their',\n  'kids',\n  'dying',\n  'of',\n  'hunger',\n  '.',\n  '#nawazfightsforkashmir'],\n ['need',\n  'advice',\n  'on',\n  'how',\n  'to',\n  'get',\n  'out',\n  'of',\n  'this',\n  'rut',\n  '!',\n  '!',\n  '!',\n  '#depressing',\n  '#needmotivation'],\n ['i',\n  'blame',\n  'the',\n  'whole',\n  'season',\n  'on',\n  'natalie',\n  '!',\n  'the',\n  'season',\n  'would',\n  'have',\n  'been',\n  'so',\n  'different',\n  'had',\n  'she',\n  'not',\n  'turned',\n  'her',\n  'back',\n  'on',\n  'her',\n  'alliance',\n  '!',\n  '#pissed',\n  '#bitter'],\n ['@user',\n  'looks',\n  'that',\n  'way',\n  '.',\n  'but',\n  'let',\n  'us',\n  'think',\n  'about',\n  'rohan',\n  'last',\n  'week',\n  '...',\n  '#optimism'],\n ['thinking',\n  'about',\n  'trying',\n  'some',\n  'comedy',\n  'on',\n  'youtube',\n  '.',\n  'always',\n  'been',\n  'fond',\n  'of',\n  'it',\n  '.',\n  'time',\n  'to',\n  'nut',\n  'up',\n  '.',\n  '#laughter',\n  '#comedy',\n  '#maybeoneday',\n  '#hopefullyfunny',\n  '#lol'],\n ['i',\n  'do',\n  'not',\n  'think',\n  'it',\n  'is',\n  'fully',\n  'sunk',\n  'in',\n  'that',\n  'val',\n  'is',\n  'gone',\n  'yet'],\n ['@user',\n  'lol',\n  '.',\n  'love',\n  'it',\n  'when',\n  'you',\n  'aggravate',\n  'juan',\n  '.',\n  'keep',\n  'up',\n  'the',\n  'good',\n  'work',\n  '.',\n  'lol'],\n ['@user',\n  '@user',\n  'wat',\n  'an',\n  'irony',\n  '?',\n  '#pakistan',\n  'lecturing',\n  'the',\n  'world',\n  'on',\n  'curbing'],\n ['@user', 'cheer', 'up', 'chuck', '😘'],\n ['shoutout',\n  'to',\n  'the',\n  'drunk',\n  'man',\n  'on',\n  'the',\n  'bus',\n  'who',\n  'pissed',\n  'in',\n  'a',\n  'bottle',\n  'and',\n  'on',\n  'the',\n  'seats'],\n ['@user', 'goodbye', 'despair'],\n ['headed',\n  'to',\n  'mdw',\n  'w',\n  '/',\n  'layover',\n  'in',\n  'slc',\n  '.',\n  'got',\n  'off',\n  'for',\n  'food',\n  '.',\n  'wrong',\n  'move',\n  '.',\n  'bailed',\n  'on',\n  'my',\n  'food',\n  '&',\n  'barely',\n  'made',\n  'it',\n  '.',\n  '@user',\n  '#wannagetaway',\n  '#contest'],\n ['someone',\n  'wake',\n  'me',\n  'when',\n  '@user',\n  'make',\n  '2016',\n  'remix',\n  'of',\n  \"'\",\n  'why',\n  \"'\",\n  '❗',\n  '️b',\n  '/',\n  'w',\n  '#terrencecrutcher',\n  '#election2016',\n  '#colinkapernick',\n  '#terrorism',\n  '#riots',\n  'this',\n  '2much'],\n ['unbelievable',\n  'takes',\n  '10',\n  'minutes',\n  'to',\n  'get',\n  'through',\n  'to',\n  '@user',\n  'then',\n  'there',\n  'is',\n  'a',\n  'fault',\n  'and',\n  'the',\n  'call',\n  'hangs',\n  'up',\n  '#fuming',\n  '#treatcustomersfairly'],\n ['manchester', 'derby', 'at', 'home', '#revenge'],\n ['@user',\n  '<',\n  '•',\n  'change',\n  'them',\n  'himself',\n  '.',\n  'he',\n  'follows',\n  'behind',\n  'with',\n  'a',\n  'scowl',\n  'pinching',\n  'his',\n  'lips',\n  'and',\n  'takes',\n  'the',\n  'sheets',\n  'to',\n  'his',\n  'room',\n  '.',\n  \"'\",\n  'so',\n  'who',\n  'is',\n  '•',\n  '>'],\n ['if',\n  'i',\n  'was',\n  'a',\n  'ghost',\n  'I',\n  'would',\n  'haunt',\n  'people',\n  'by',\n  'giving',\n  'them',\n  'cramps',\n  'in',\n  'both',\n  'of',\n  'their',\n  'legs',\n  'when',\n  'they',\n  'do',\n  'cardio',\n  '😈',\n  '😈',\n  '😈',\n  '#mwahaha'],\n ['sure',\n  ',',\n  'ohio',\n  'state',\n  'is',\n  'terrible',\n  ',',\n  'ohio',\n  'is',\n  'awful',\n  ',',\n  'etc',\n  ',',\n  'etc',\n  'these',\n  'feelings',\n  'began',\n  'with',\n  'the',\n  'toldeo',\n  'war',\n  'so',\n  ',',\n  'maybe',\n  'do',\n  'not',\n  'campaign',\n  'there',\n  '?'],\n ['@user',\n  'see',\n  'your',\n  'primary',\n  'care',\n  'doctor',\n  '.',\n  'they',\n  'can',\n  'prescribe',\n  'meds',\n  'and',\n  'refer',\n  'you',\n  'to',\n  'a',\n  'psychiatrist',\n  'for',\n  'eval',\n  '.',\n  'do',\n  'not',\n  'mess',\n  'with',\n  'depression',\n  '.'],\n ['obama',\n  'admin',\n  'rejects',\n  'texas',\n  'plan',\n  'to',\n  'have',\n  'refugees',\n  'vetted',\n  'for',\n  'terrorism',\n  'so',\n  'texas',\n  'pulls',\n  'of',\n  'of',\n  'fed',\n  'refugee',\n  'resettlement',\n  'program',\n  '.',\n  'aiding',\n  '.'],\n ['#gbbo',\n  'is',\n  'such',\n  'a',\n  'homely',\n  'pure',\n  'piece',\n  'of',\n  'tv',\n  'gold',\n  '.',\n  'channel',\n  '4',\n  'will',\n  'attempt',\n  'to',\n  'tart',\n  'it',\n  'up',\n  '.',\n  'mary',\n  ',',\n  'sue',\n  'and',\n  'mel',\n  'gone',\n  '.',\n  'it',\n  'is',\n  'over',\n  '.',\n  'I',\n  'am',\n  'out',\n  '.',\n  '👋',\n  '#fuming'],\n ['gifs', 'on', 'ios', '10', 'messaging', 'app', 'are', 'hilarious', '.'],\n ['@user',\n  'should',\n  'have',\n  'stopped',\n  'after',\n  \"'\",\n  'smiled',\n  \"'\",\n  '.',\n  'being',\n  'rude',\n  '=',\n  'not',\n  'the',\n  'same',\n  'as',\n  'being',\n  'funny.it',\n  'was',\n  'just',\n  'being',\n  'mean',\n  '#stoppickingonwomen'],\n ['@user',\n  '#dobetter',\n  'only',\n  'two',\n  'carriages',\n  'on',\n  '14:49',\n  'birmingham',\n  'to',\n  'hereford',\n  'no',\n  'room',\n  'to',\n  'stand',\n  'anymore',\n  'friday',\n  'commute',\n  '#unhappy'],\n ['hi',\n  'berniebrocialists',\n  'of',\n  'all',\n  'genders',\n  ':',\n  'if',\n  'i',\n  'lived',\n  'in',\n  'a',\n  'swingish',\n  'state',\n  'i',\n  'would',\n  'w',\n  '/',\n  'o',\n  'hesitation',\n  'vote',\n  'clinton',\n  '&',\n  'would',\n  'do',\n  'so',\n  'w',\n  '/',\n  'o',\n  \"'\",\n  'supporting',\n  \"'\",\n  'her'],\n ['i', 'asked', 'jared', 'to', 'marry', 'me', 'and', 'he', 'said', 'no', '.'],\n ['I',\n  'am',\n  '16',\n  'if',\n  'you',\n  'want',\n  'to',\n  'see',\n  'my',\n  'dick',\n  'snap',\n  '/',\n  'kik',\n  'me',\n  'at',\n  'hiya',\n  '2247',\n  '😘',\n  '#kik',\n  '#kikme',\n  '#snapchat',\n  '#snapme',\n  '#horny',\n  '#porn',\n  '#naked',\n  '#young'],\n ['texans',\n  'played',\n  'horrible',\n  '.',\n  'bad',\n  'play',\n  'calling',\n  ',',\n  'bad',\n  'protection',\n  'of',\n  'the',\n  'ball',\n  ',',\n  'bad',\n  'coaching',\n  ',',\n  'bad',\n  'defense',\n  ',',\n  'bad',\n  'overall',\n  'performance',\n  '.',\n  '#texans',\n  '#horrible'],\n ['@user',\n  'sadly',\n  ',',\n  'not',\n  'enough',\n  'names',\n  '.',\n  'the',\n  'whole',\n  'farewell',\n  'tour',\n  'situation',\n  'would',\n  'make',\n  'me',\n  'shy',\n  'away',\n  'from',\n  'good',\n  'value',\n  'b',\n  'et',\n  '.'],\n ['bayern', 'munich', 'pitch', 'is', 'horrific'],\n ['at',\n  'least',\n  'i',\n  'do',\n  'not',\n  'have',\n  'a',\n  'guy',\n  'trying',\n  'to',\n  'discourage',\n  'me',\n  'anymore',\n  'in',\n  'what',\n  'i',\n  'want',\n  'to',\n  'do',\n  'he',\n  'will',\n  'never',\n  'become',\n  'anything',\n  'worth',\n  'contributing',\n  'to',\n  'society'],\n ['@user',\n  'awe',\n  'thank',\n  'you',\n  'so',\n  'much',\n  'lyle',\n  '!',\n  '!',\n  'you',\n  'are',\n  'the',\n  'best',\n  '!',\n  '😀',\n  '😀'],\n ['@user',\n  '@user',\n  '@user',\n  'the',\n  \"'\",\n  'pledge',\n  \"'\",\n  'would',\n  'have',\n  'never',\n  'have',\n  'to',\n  'be',\n  'made',\n  'if',\n  'petulant',\n  'child',\n  'postrump',\n  'did',\n  'not',\n  'threaten',\n  'to',\n  'run'],\n ['@user',\n  'hard',\n  'to',\n  'tell',\n  'in',\n  'your',\n  'pic',\n  '.',\n  'my',\n  'mistake',\n  'then',\n  '.',\n  'either',\n  'way',\n  ',',\n  'nothing',\n  'i',\n  'said',\n  'initially',\n  'was',\n  'about',\n  'race',\n  '.',\n  'you',\n  'took',\n  'it',\n  'there',\n  '.',\n  '#sad',\n  '#ignorant'],\n ['try',\n  'to',\n  'find',\n  'the',\n  'good',\n  'in',\n  'the',\n  'negative',\n  '.',\n  'the',\n  'negative',\n  'can',\n  'turn',\n  'out',\n  'to',\n  'be',\n  'good',\n  '.',\n  '#anxietyrelief',\n  '#optimism',\n  '#openminded'],\n ['why', 'would', 'enrique', 'sub', 'off', 'busquet', '?', '#hilarious'],\n ['the',\n  'rappers',\n  'who',\n  'stayed',\n  'true',\n  'to',\n  'the',\n  'game',\n  'is',\n  'rich',\n  '.'],\n ['😫',\n  'ughh',\n  'i',\n  'just',\n  'want',\n  'all',\n  'this',\n  'to',\n  'be',\n  'over',\n  '..',\n  'it',\n  'is',\n  'like',\n  'a',\n  'nightmare',\n  '!',\n  'can',\n  'we',\n  'all',\n  'just',\n  'get',\n  'along',\n  '?'],\n ['@user',\n  'same',\n  'it',\n  'is',\n  'good',\n  'but',\n  'not',\n  'great.do',\n  'not',\n  'breathe',\n  'is',\n  'the',\n  'horror',\n  'film',\n  'of',\n  'the',\n  'month',\n  'for',\n  'me',\n  '.',\n  'my',\n  'fav',\n  'horror',\n  'film',\n  'of',\n  'the',\n  'year',\n  '(',\n  'so',\n  'far',\n  ')'],\n ['i', 'resent', 'biting', 'my', 'tongue', '.'],\n ['we',\n  'are',\n  'very',\n  'busy',\n  '#coding',\n  'a',\n  'whole',\n  'network',\n  'manager',\n  'for',\n  '#unity3d',\n  'based',\n  'on',\n  '#steamworks',\n  'networking',\n  '.',\n  '#gamedev',\n  '#indiedev',\n  '#3amdeadtime',\n  '#game'],\n ['if',\n  'you',\n  'let',\n  'a',\n  'general',\n  'tweet',\n  'offend',\n  'you',\n  ',',\n  'you',\n  'definitely',\n  'should',\n  'not',\n  'be',\n  'on',\n  'twitter',\n  '.'],\n ['ever',\n  'been',\n  'really',\n  'lonely',\n  'and',\n  'your',\n  'phone',\n  'keeps',\n  'blowing',\n  'up',\n  ',',\n  'but',\n  'you',\n  'just',\n  'can',\n  '’',\n  't',\n  'pick',\n  'it',\n  'up',\n  'and',\n  'respond',\n  'to',\n  'people',\n  '?',\n  '#anxiety',\n  '#recluse',\n  '#issues'],\n ['instagram',\n  'seriously',\n  'sort',\n  'your',\n  'sh',\n  '*',\n  't',\n  'out',\n  '.',\n  'i',\n  'spent',\n  'ages',\n  'writing',\n  'that',\n  'caption',\n  'for',\n  'you',\n  'to',\n  'delete',\n  'it',\n  'and',\n  'not',\n  'post',\n  'it',\n  '!',\n  '!',\n  '#fume',\n  '#instagram'],\n ['@user',\n  'you',\n  'charge',\n  '150',\n  'extra',\n  'for',\n  'sending',\n  'someone',\n  'out',\n  'and',\n  'your',\n  'cable',\n  'service',\n  'still',\n  'does',\n  'not',\n  'work',\n  '.',\n  'that',\n  'is',\n  'robbery',\n  '.',\n  '#cable',\n  '#horrible',\n  '#service'],\n ['regret',\n  'for',\n  'the',\n  'things',\n  'we',\n  'did',\n  'can',\n  'be',\n  'tempered',\n  'by',\n  'time',\n  ';',\n  'it',\n  'is',\n  'regret',\n  'for',\n  'the',\n  'things',\n  'we',\n  'did',\n  'not',\n  'do',\n  'that',\n  'is',\n  'inconsolable',\n  '.',\n  '-',\n  'sydney',\n  'j',\n  '.',\n  'harris'],\n ['@user',\n  'so',\n  'i',\n  'worry',\n  'about',\n  'emphasis',\n  'on',\n  \"'\",\n  'keeping',\n  'family',\n  'together',\n  \"'\",\n  'as',\n  'a',\n  'guiding',\n  'principle',\n  ',',\n  'due',\n  'to',\n  'my',\n  'own',\n  'experiences'],\n ['@user', '#klitschko', '@user', 'over', 'fury', 'any', 'day', '#boxing'],\n ['that', 'is', 'fucking', 'horrific', 'defending', 'from', 'schalke'],\n ['i',\n  'feel',\n  'like',\n  'no',\n  'one',\n  'is',\n  'out',\n  'there',\n  'on',\n  '#twitter',\n  'for',\n  'me',\n  '...',\n  'can',\n  'anyone',\n  'see',\n  'what',\n  'i',\n  'write',\n  '#sadness',\n  '#rants'],\n ['lol',\n  '!',\n  'no',\n  'mention',\n  'of',\n  'pak',\n  'pm',\n  'or',\n  'even',\n  'his',\n  'speech',\n  'on',\n  'any',\n  'international',\n  'news',\n  'channel',\n  'and',\n  'pakis',\n  'are',\n  'rejoicing',\n  'as',\n  'if',\n  'the',\n  'world',\n  'stands',\n  'with',\n  'them'],\n ['@user',\n  'directtv',\n  'is',\n  'the',\n  'best',\n  '.',\n  'apparently',\n  'you',\n  'just',\n  'sit',\n  'in',\n  'silent',\n  'anger',\n  '.',\n  \"'\",\n  'do',\n  'not',\n  'press',\n  'or',\n  'say',\n  'anything',\n  \"'\"],\n ['ok',\n  'but',\n  'how',\n  'are',\n  'the',\n  'fast',\n  '&',\n  'furious',\n  'movies',\n  'not',\n  'classified',\n  'as',\n  \"comedy's\",\n  '?',\n  '🤔'],\n ['@user',\n  '#terrible',\n  'paul',\n  'so',\n  'deserved',\n  'that',\n  'win',\n  '!',\n  '!',\n  '!',\n  '#bbfail'],\n ['the',\n  '1975',\n  'are',\n  'playing',\n  'antichrist',\n  'why',\n  'will',\n  'not',\n  '@user',\n  'play',\n  'hustle',\n  'it',\n  'is',\n  'an',\n  'outrage'],\n ['@user',\n  '#charlotteprotest',\n  'do',\n  'you',\n  '#wait',\n  '4',\n  'the',\n  'facts',\n  '#video',\n  'or',\n  'do',\n  'you',\n  '#hate',\n  'now',\n  'ask',\n  'questions',\n  'later',\n  '#protest',\n  '#policeshootings',\n  '#suggestions'],\n ...]"
     },
     "metadata": {}
    }
   ],
   "execution_count": 188
  },
  {
   "cell_type": "markdown",
   "source": "##### Some helper functions that are used for the model -",
   "metadata": {
    "tags": [],
    "cell_id": "00096-9202eb93-11d6-4ece-b5ec-cf4b8e6c55c1",
    "deepnote_cell_type": "markdown"
   }
  },
  {
   "cell_type": "code",
   "metadata": {
    "tags": [],
    "cell_id": "00105-32635f8a-7599-47ab-a279-bbcddabc843a",
    "deepnote_to_be_reexecuted": false,
    "source_hash": "11ac1f7c",
    "execution_start": 1622223432257,
    "execution_millis": 894727,
    "deepnote_cell_type": "code"
   },
   "source": "def dummy(doc):\n    return doc\ndef text_format(dataset,tokenised,tvt=\"val\"):\n    \"\"\"formats the data into a format that is readable by the models\"\"\"\n    cv = CountVectorizer(tokenizer=dummy, preprocessor=dummy) \n    #cv.fit(DATA[\"processed\"][dataset][\"train_text\"])#fit to the test vocab###############################figure out why val here\n    cv.fit(DATA[\"processed\"][dataset][\"train_text\"])\n    if tvt==\"train\":\n        #cv.fit(DATA[\"processed\"][dataset][\"val_text\"])\n        X_train_counts = cv.transform(DATA[\"processed\"][dataset][\"train_text\"])\n        #tfidf_transformer = TfidfTransformer()\n        #fitted_transform=tfidf_transformer.fit(X_train_counts)#fit to the test vocab\n        #X_tfidf = fitted_transform.transform(X_train_counts)\n    else:\n        #cv.fit(DATA[\"processed\"][dataset][f\"{tvt}_text\"])\n        X_train_counts = cv.transform(tokenised)\n        #X_tfidf = fitted_transform.transform(X_train_counts)# read into what this does\n    return X_train_counts#X_tfidf",
   "execution_count": 189,
   "outputs": []
  },
  {
   "cell_type": "code",
   "metadata": {
    "tags": [],
    "cell_id": "00100-5e6acd7d-4ae7-4e78-9e6a-b66efaf41580",
    "deepnote_to_be_reexecuted": false,
    "source_hash": "3b125a08",
    "execution_start": 1622223432262,
    "execution_millis": 0,
    "deepnote_cell_type": "code"
   },
   "source": "def remove_stop_uncommon(tokenised,min_frequency,vocab):\n    stop_words = set(stopwords.words('english'))\n    temp_vocab_dict={vocab['index'][x]:vocab['frequency'][x] for x in range(vocab.shape[0])}\n    #   <- make work later\n    #if not in the temp vocab dict then append as 0\n    for token_list in tokenised:\n        for token in token_list:\n            try: temp_vocab_dict[token]=temp_vocab_dict[token]\n            except: temp_vocab_dict[token]= 0\n    return [[item for item in list_ if item not in stop_words and temp_vocab_dict[item]>=min_frequency]for list_ in tokenised]",
   "execution_count": 190,
   "outputs": []
  },
  {
   "cell_type": "code",
   "source": "VOCABULARY.keys()",
   "metadata": {
    "tags": [],
    "cell_id": "00100-403392cb-8468-4ba6-baee-41f629eaf070",
    "deepnote_to_be_reexecuted": false,
    "source_hash": "890d9401",
    "execution_start": 1622223432551,
    "execution_millis": 14,
    "deepnote_cell_type": "code"
   },
   "outputs": [
    {
     "output_type": "execute_result",
     "execution_count": 191,
     "data": {
      "text/plain": "dict_keys(['hate', 'emotion'])"
     },
     "metadata": {}
    }
   ],
   "execution_count": 191
  },
  {
   "cell_type": "code",
   "metadata": {
    "tags": [],
    "cell_id": "00115-99889d7e-eae9-4cf6-92c3-461424a27d14",
    "deepnote_to_be_reexecuted": false,
    "source_hash": "7a8ffc18",
    "execution_start": 1622223432598,
    "execution_millis": 1,
    "deepnote_cell_type": "code"
   },
   "source": "def model_accuracy(Dataset,min_frequency,model,v_or_t=\"val\"):\n    \"\"\"takes cleaned and tokensed data and returns accuracy score of the model\"\"\"\n    if v_or_t !=\"val\":\n        v_or_t=\"test\"\n        print(\"warning! you are using the test data\")\n    prediction = model.predict(text_format(Dataset,remove_stop_uncommon(DATA[\"processed\"][Dataset][f\"{v_or_t}_text\"],min_frequency,VOCABULARY[Dataset]),tvt=v_or_t))\n    actual = DATA[\"processed\"][Dataset][f\"{v_or_t}_labels\"]   \n    return accuracy_score(actual, prediction)",
   "execution_count": 192,
   "outputs": []
  },
  {
   "cell_type": "code",
   "metadata": {
    "tags": [],
    "cell_id": "00118-73a12a7e-da36-45e8-b192-e97c0a1bf8d5",
    "deepnote_to_be_reexecuted": false,
    "source_hash": "6355540a",
    "execution_start": 1622223432765,
    "execution_millis": 4,
    "deepnote_cell_type": "code"
   },
   "source": "\ndef plot_accuracy(max_vocab,Dataset,model):\n    accuracies=[]\n    for i in range (max_vocab):\n        accuracies.append(model_accuracy(Dataset,i,model))\n    ax = plt.figure(figsize=(10,5)).gca()\n    ax.xaxis.set_major_locator(MaxNLocator(integer=True))\n    ax.plot([x for x in range (max_vocab)],accuracies)\n    ax.set_xlabel(\"Minimum Word Frequecy\")\n    ax.set_ylabel(\"Accuracy Score\")\n    ax.set_title(\"Accuracy and Minimum Word Frequecy\")",
   "execution_count": 193,
   "outputs": []
  },
  {
   "cell_type": "markdown",
   "source": "#### Code for Hate",
   "metadata": {
    "tags": [],
    "cell_id": "00095-b929a20c-4bf0-410d-b0a3-3eeda945705f",
    "deepnote_cell_type": "markdown"
   }
  },
  {
   "cell_type": "code",
   "metadata": {
    "tags": [],
    "cell_id": "00095-661b1df9-f391-45ef-b7df-66f62d55f965",
    "deepnote_to_be_reexecuted": false,
    "source_hash": "497fa196",
    "execution_start": 1622223433397,
    "execution_millis": 4,
    "deepnote_cell_type": "code"
   },
   "source": "# bag of words\n#for tweet in DATA['processed']['hate']['train_text']:\n#    tweet_freq = {VOCABULARY['hate']['index'][i]: 0 for i in range(VOCABULARY['hate'].shape[0])}\n#    for token in tweet:\n#        tweet_freq[token] += 1\n#    print(tweet_freq)\n#    break",
   "execution_count": 194,
   "outputs": []
  },
  {
   "cell_type": "code",
   "metadata": {
    "tags": [],
    "cell_id": "00107-66237c82-b2d9-457b-8290-239e71aa6f6f",
    "deepnote_to_be_reexecuted": false,
    "source_hash": "a1b7b67d",
    "execution_start": 1622223439499,
    "execution_millis": 794,
    "deepnote_cell_type": "code"
   },
   "source": "#fitting data\nclf = MultinomialNB(alpha=0.).fit(text_format (\"hate\",\nremove_stop_uncommon(DATA[\"processed\"][\"hate\"][\"train_text\"],1,VOCABULARY['hate']),tvt=\"train\"),\nDATA['processed']['hate']['train_labels'])",
   "execution_count": 195,
   "outputs": []
  },
  {
   "cell_type": "code",
   "metadata": {
    "tags": [],
    "cell_id": "00117-4543c36a-3840-45d4-8f66-9308b40a0fbb",
    "deepnote_to_be_reexecuted": false,
    "source_hash": "707eacfc",
    "execution_start": 1622223440810,
    "execution_millis": 8848,
    "deepnote_cell_type": "code"
   },
   "source": "plot_accuracy(15,\"hate\",clf)#takes a while to run be here we see that a min freq val of 8 is best, this also holds up to 100 and we can assume it holds above 100",
   "execution_count": 196,
   "outputs": [
    {
     "data": {
      "text/plain": "<Figure size 720x360 with 1 Axes>",
      "image/png": "[encoded data removed]"
     },
     "metadata": {
      "image/png": {
       "width": 637,
       "height": 338
      }
     },
     "output_type": "display_data"
    }
   ]
  },
  {
   "cell_type": "markdown",
   "source": "\n",
   "metadata": {
    "tags": [],
    "cell_id": "00106-4aa69a36-dd02-4e74-bb54-ae6e496ae0b7",
    "deepnote_cell_type": "markdown"
   }
  },
  {
   "cell_type": "markdown",
   "source": "#### Multiclass Emotions ",
   "metadata": {
    "tags": [],
    "cell_id": "00106-45cf41c2-5684-4947-82a4-54b772ca53ff",
    "deepnote_cell_type": "markdown"
   }
  },
  {
   "cell_type": "code",
   "metadata": {
    "tags": [],
    "cell_id": "00107-99494019-8b3a-4db2-a5db-fe0563c62fd7",
    "deepnote_to_be_reexecuted": false,
    "source_hash": "f3def0",
    "execution_start": 1622223449628,
    "execution_millis": 272,
    "deepnote_cell_type": "code"
   },
   "source": "#fitting data\nclf = MultinomialNB(alpha=0.).fit(text_format(\"emotion\",\nremove_stop_uncommon(DATA[\"processed\"][\"emotion\"][\"train_text\"],0,VOCABULARY['emotion']),tvt=\"train\"),\nDATA['processed']['emotion']['train_labels'])",
   "execution_count": 197,
   "outputs": []
  },
  {
   "cell_type": "code",
   "metadata": {
    "tags": [],
    "cell_id": "00113-d6493ef3-d9bd-42d7-8403-72bfb479c9a8",
    "deepnote_to_be_reexecuted": false,
    "source_hash": "31d4319",
    "execution_start": 1622223449920,
    "execution_millis": 5260,
    "deepnote_cell_type": "code"
   },
   "source": "plot_accuracy(20,\"emotion\",clf)#1 seems best here",
   "execution_count": 198,
   "outputs": [
    {
     "data": {
      "text/plain": "<Figure size 720x360 with 1 Axes>",
      "image/png": "[encoded data removed]"
     },
     "metadata": {
      "image/png": {
       "width": 623,
       "height": 338
      }
     },
     "output_type": "display_data"
    }
   ]
  },
  {
   "cell_type": "code",
   "metadata": {
    "tags": [],
    "cell_id": "00114-c9caca64-c2b8-4e16-b8b5-67245431ac87",
    "deepnote_to_be_reexecuted": false,
    "source_hash": "c5cfbd32",
    "execution_start": 1622223455185,
    "execution_millis": 240,
    "deepnote_cell_type": "code"
   },
   "source": "prediction = clf.predict(text_format(\"emotion\",remove_stop_uncommon(DATA[\"processed\"][\"emotion\"][\"val_text\"],1,VOCABULARY[\"emotion\"]),tvt=\"val\"))\nactual = DATA[\"processed\"][\"emotion\"][\"val_labels\"]",
   "execution_count": 199,
   "outputs": []
  },
  {
   "cell_type": "code",
   "metadata": {
    "tags": [],
    "cell_id": "00114-826d687c-81b5-47d8-ba6d-87d78888a51b",
    "deepnote_to_be_reexecuted": false,
    "source_hash": "4f6d8ea6",
    "execution_start": 1622223455433,
    "execution_millis": 18,
    "deepnote_cell_type": "code"
   },
   "source": "confusion_matrix(actual,prediction, labels=None, sample_weight=None, normalize=None)",
   "execution_count": 200,
   "outputs": [
    {
     "output_type": "execute_result",
     "execution_count": 200,
     "data": {
      "text/plain": "array([[124,  16,   2,  18],\n       [ 27,  52,   5,  13],\n       [  8,   7,   6,   7],\n       [ 22,  12,   7,  48]])"
     },
     "metadata": {}
    }
   ]
  },
  {
   "cell_type": "markdown",
   "source": "#### Baseline for hate",
   "metadata": {
    "tags": [],
    "cell_id": "00111-c17990dc-f50a-44a1-9f81-fb75f18e1a09",
    "deepnote_cell_type": "markdown"
   }
  },
  {
   "cell_type": "code",
   "source": "from sklearn.linear_model import SGDClassifier",
   "metadata": {
    "tags": [],
    "cell_id": "00112-5f2ee85a-130e-4af1-891f-63d1147ef42a",
    "deepnote_to_be_reexecuted": false,
    "source_hash": "183417bc",
    "execution_start": 1622223455441,
    "execution_millis": 14,
    "deepnote_cell_type": "code"
   },
   "outputs": [],
   "execution_count": 201
  },
  {
   "cell_type": "code",
   "source": "baseline=SGDClassifier(loss='log')",
   "metadata": {
    "tags": [],
    "cell_id": "00112-c8a05ead-ed35-4202-95d1-9b664700fec5",
    "deepnote_to_be_reexecuted": false,
    "source_hash": "e46b0d59",
    "execution_start": 1622223455459,
    "execution_millis": 3924096,
    "deepnote_cell_type": "code"
   },
   "outputs": [],
   "execution_count": 202
  },
  {
   "cell_type": "code",
   "source": "baseline.fit(text_format (\"hate\",\nremove_stop_uncommon(DATA[\"processed\"][\"hate\"][\"train_text\"],1,VOCABULARY['hate']),tvt=\"train\"),\nDATA['processed']['hate']['train_labels']);",
   "metadata": {
    "tags": [],
    "cell_id": "00113-f3404a23-06ad-420f-b0b7-56f5479ab11f",
    "deepnote_to_be_reexecuted": false,
    "source_hash": "5af453fa",
    "execution_start": 1622223744804,
    "execution_millis": 928,
    "deepnote_cell_type": "code"
   },
   "outputs": [],
   "execution_count": 215
  },
  {
   "cell_type": "code",
   "source": "model_accuracy(\"hate\",1,baseline)",
   "metadata": {
    "tags": [],
    "cell_id": "00118-1b1cdc98-4427-4485-b1a8-ad353fa38790",
    "deepnote_to_be_reexecuted": false,
    "source_hash": "caa71e10",
    "execution_start": 1622223746202,
    "execution_millis": 635,
    "deepnote_cell_type": "code"
   },
   "outputs": [
    {
     "output_type": "execute_result",
     "execution_count": 216,
     "data": {
      "text/plain": "0.712"
     },
     "metadata": {}
    }
   ],
   "execution_count": 216
  },
  {
   "cell_type": "code",
   "source": "plot_accuracy(100,\"hate\",baseline)",
   "metadata": {
    "tags": [],
    "cell_id": "00119-70b14cb6-f23f-41ac-8472-94eb8af1608e",
    "deepnote_to_be_reexecuted": false,
    "source_hash": "6eb5b28f",
    "execution_start": 1622223581314,
    "execution_millis": 57552,
    "deepnote_cell_type": "code"
   },
   "outputs": [
    {
     "data": {
      "text/plain": "<Figure size 720x360 with 1 Axes>",
      "image/png": "[encoded data removed]"
     },
     "metadata": {
      "image/png": {
       "width": 630,
       "height": 338
      }
     },
     "output_type": "display_data"
    }
   ],
   "execution_count": 209
  },
  {
   "cell_type": "markdown",
   "source": "#### Baseline for Emotion",
   "metadata": {
    "tags": [],
    "cell_id": "00120-1b5d9d82-c381-4c88-b192-cc55898fc8a7",
    "deepnote_to_be_reexecuted": false,
    "source_hash": "103d7937",
    "execution_start": 1622223638852,
    "execution_millis": 6,
    "deepnote_cell_type": "markdown"
   },
   "outputs": [],
   "execution_count": 210
  },
  {
   "cell_type": "code",
   "source": "baseline.fit(text_format (\"emotion\",\nremove_stop_uncommon(DATA[\"processed\"][\"emotion\"][\"train_text\"],1,VOCABULARY['emotion']),tvt=\"train\"),\nDATA['processed']['emotion']['train_labels']);",
   "metadata": {
    "tags": [],
    "cell_id": "00121-49937f7c-706c-4132-9c1c-c9fe537ad9c2",
    "deepnote_to_be_reexecuted": false,
    "source_hash": "982ce09f",
    "execution_start": 1622223785550,
    "execution_millis": 313,
    "deepnote_cell_type": "code"
   },
   "outputs": [],
   "execution_count": 218
  },
  {
   "cell_type": "code",
   "source": "model_accuracy(\"emotion\",1,baseline)",
   "metadata": {
    "tags": [],
    "cell_id": "00122-8c4f02ca-63c2-4880-8f86-7ff57565d171",
    "deepnote_to_be_reexecuted": false,
    "source_hash": "e705beb9",
    "execution_start": 1622223734443,
    "execution_millis": 249,
    "deepnote_cell_type": "code"
   },
   "outputs": [
    {
     "output_type": "execute_result",
     "execution_count": 214,
     "data": {
      "text/plain": "0.6283422459893048"
     },
     "metadata": {}
    }
   ],
   "execution_count": 214
  },
  {
   "cell_type": "code",
   "source": "plot_accuracy(100,\"emotion\",baseline)",
   "metadata": {
    "tags": [],
    "cell_id": "00123-40dc4fb9-fa9a-4031-acba-11672da5ff30",
    "deepnote_to_be_reexecuted": false,
    "source_hash": "25be18c7",
    "execution_start": 1622223787965,
    "execution_millis": 25055,
    "deepnote_cell_type": "code"
   },
   "outputs": [
    {
     "data": {
      "text/plain": "<Figure size 720x360 with 1 Axes>",
      "image/png": "[encoded data removed]"
     },
     "metadata": {
      "image/png": {
       "width": 623,
       "height": 338
      }
     },
     "output_type": "display_data"
    }
   ],
   "execution_count": 219
  },
  {
   "cell_type": "markdown",
   "source": "* use stop words for filtering out filler words -done\n* filter out uncommon words using vocab frequency -done\n* model for all emotions, make into function?\n* deal with any problems that arrise - some things need ironing out, see comments\n* task 2 descriptive things\n* start paper \n* autocorrect spelling\n* make the formatting of the notebook good enough to be readable\n* apply laplace or better estimate instead -smoothing\n* train more models:\n- [x] bag of words \n- [ ] bigrams\n- [ ] ngrams - include lower in range (everygrams)\n- [ ] new models on friday??\n- [ ] random forrest?\n- [x] improve bag of words\n",
   "metadata": {
    "tags": [],
    "cell_id": "00111-1da73e0b-ac3f-41e9-a123-902545ab4b24",
    "deepnote_cell_type": "markdown"
   }
  },
  {
   "cell_type": "markdown",
   "source": "28.5.21 nicola <br>\n  *  got the remove_stop_uncommon() working, as previously breaking if encountering new words in the data that werent in the training, added a frequency 0 in dict for new words\n  * made accuracy reporting into a function\n  * made functions that plots accuracy at different parameter values\n  * got bag of words to to work for muti class emotion data separately\n  * combined multiclass functions with hate",
   "metadata": {
    "tags": [],
    "cell_id": "00118-a41b989b-518d-4e09-aa54-7dd2428e5c8a",
    "deepnote_cell_type": "markdown"
   }
  },
  {
   "cell_type": "markdown",
   "source": "do later: <br>\n* get the bigram model working\n* deal with inevitable issues that arrise\n* make into function that works for n-grams\n* plot n- grams for different n values and maybe also differences if you remove unfrequent occurances (similar as before)\n",
   "metadata": {
    "tags": [],
    "cell_id": "00113-e78381d9-fe69-450e-a3fe-7d4d6092be73",
    "deepnote_cell_type": "markdown"
   }
  },
  {
   "cell_type": "markdown",
   "source": "",
   "metadata": {
    "tags": [],
    "cell_id": "00113-2c307b3f-bf84-41c0-b4f6-81129583cab7",
    "deepnote_cell_type": "markdown"
   }
  },
  {
   "cell_type": "markdown",
   "source": "<a style='text-decoration:none;line-height:16px;display:flex;color:#5B5B62;padding:10px;justify-content:end;' href='https://deepnote.com?utm_source=created-in-deepnote-cell&projectId=7ea65742-831a-48cd-9d56-a22e1ed66c7b' target=\"_blank\">\n<img alt='Created in deepnote.com' style='display:inline;max-height:16px;margin:0px;margin-right:7.5px;' src='data:image/svg+xml;base64,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' > </img>\nCreated in <span style='font-weight:600;margin-left:4px;'>Deepnote</span></a>",
   "metadata": {
    "tags": [],
    "created_in_deepnote_cell": true,
    "deepnote_cell_type": "markdown"
   }
  }
 ],
 "nbformat": 4,
 "nbformat_minor": 2,
 "metadata": {
  "deepnote": {
   "is_reactive": false
  },
  "deepnote_execution_queue": [],
  "deepnote_notebook_id": "912c8bda-48f1-43bf-8bff-0aac9dd9fbcb",
  "kernelspec": {
   "display_name": "Python 3",
   "language": "python",
   "name": "python3"
  },
  "language_info": {
   "codemirror_mode": {
    "name": "ipython",
    "version": 3
   },
   "file_extension": ".py",
   "mimetype": "text/x-python",
   "name": "python",
   "nbconvert_exporter": "python",
   "pygments_lexer": "ipython3",
   "version": "3.8.8"
  }
 }
}