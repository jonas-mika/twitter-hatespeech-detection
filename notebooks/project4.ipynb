{
 "cells": [
  {
   "cell_type": "markdown",
   "source": "# Project 4: Natural Language Processing \n---\n\n**Group 9: Aidan Stocks, Hugo Reinicke, Nicola Clark, Jonas-Mika Senghaas**\n\nSubmission: *03.06.2021* / Last Modified: *27.04.2021*\n\n---\n\nThis notebook contains the step-by-step data science process performed *XXX*. The goal of this project was to *XXX*.\n\nThe initial data was obtained from the [TweetEval](https://github.com/cardiffnlp/tweeteval#evaluating-your-system) GitHub repository, that provides data for supervised training of classifiers for natural language processing.",
   "metadata": {
    "cell_id": "00000-8f8eb98f-2a98-41af-9825-5a8a8c441dee",
    "tags": [],
    "deepnote_cell_type": "markdown"
   }
  },
  {
   "cell_type": "markdown",
   "source": "## Introduction\n---\n*XXX*",
   "metadata": {
    "cell_id": "00001-5fcfa044-05ac-485a-8293-0db98813ff5e",
    "tags": [],
    "deepnote_cell_type": "markdown"
   }
  },
  {
   "cell_type": "markdown",
   "source": "## Running this Notebook\n---\nThis notebook contains all code to reproduce the findings of the project as can be seen on the [GitHub](https://github.com/jonas-mika/fyp2021p04g09) page of this project. In order to read in the data correctly, the global paths configured in the section `Constants` need to be correct. The following file structure - as prepared in the `submission.zip` - was followed throughout the project and is recommended to use (alternatively the paths in the section `Constants` can be adjusted):\n\n```\n*project tree structure*\n```\n*Note that the rest of the file structure as can be seen on the [GitHub](https://github.com/jonas-mika/fyp2021p03g09) page of the project generates automatically*",
   "metadata": {
    "cell_id": "00002-e3f8c8e5-1dc7-47ff-9108-2450997c051c",
    "tags": [],
    "deepnote_cell_type": "markdown"
   }
  },
  {
   "cell_type": "markdown",
   "source": "## Required Libraries and Further Imports\n---\nThroughout the project, we will use a range of both built-in and external Python libraries. This notebook will only run if all libraries and modules are correctly installed on your local machines. \nTo install missing packages use `pip install <package_name>` (PIP (Python Package Index) is the central package management system, read more [here](https://pypi.org/project/pip/)). \n\nIn case you desire further information about the used packages, click the following links to find detailed documentations:\n- [Pandas](https://pandas.pydata.org/)\n- [Numpy](https://numpy.org/)\n- [Matplotlib](https://matplotlib.org/stable/index.html)\n- [PIL](https://pillow.readthedocs.io/en/stable/)\n- [SciKit Learn](https://scikit-learn.org/stable/)\n- [SciKit Image](https://scikit-image.org/)\n- [Scipy](https://www.scipy.org/)",
   "metadata": {
    "cell_id": "00003-8f195f8a-4025-446a-8b44-300b55666211",
    "tags": [],
    "deepnote_cell_type": "markdown"
   }
  },
  {
   "cell_type": "code",
   "metadata": {
    "cell_id": "00004-cf13b571-fc4d-40f4-8617-43224164fcb8",
    "deepnote_to_be_reexecuted": false,
    "execution_millis": 36693,
    "execution_start": 1622364894446,
    "output_cleared": true,
    "source_hash": "56190a1e",
    "tags": [],
    "deepnote_cell_type": "code"
   },
   "source": "%%capture\n# uncomment lines with uninstalled packages\n\n#!pip install -U numpy pandas matplotlib seaborn skikit-learn \n!pip install pycontractions",
   "execution_count": 1,
   "outputs": []
  },
  {
   "cell_type": "code",
   "metadata": {
    "cell_id": "00005-9cbe0305-7f30-486b-be81-0c10af861246",
    "deepnote_to_be_reexecuted": false,
    "execution_millis": 3408,
    "execution_start": 1622364931147,
    "output_cleared": true,
    "source_hash": "474802c1",
    "tags": [],
    "deepnote_cell_type": "code"
   },
   "source": "# python standard libraries\nimport json                                            # data transfer to and from json format\nimport os                                              # access operating system from python\nimport math                                            # mathematical operations in python\nimport random                                          # creates randomness\nimport re                                              # regex search in python\nimport shutil                                          # system control in python\nimport warnings                                        # ignore annoying warnings\nwarnings.filterwarnings(\"ignore\")\n\n# external libraries\nimport numpy as np                                     # used for numerical calculations and fast array manipulations\nimport pandas as pd                                    # provides major datastructure pd.DataFrame() to store datasets\nimport matplotlib\nimport matplotlib.pyplot as plt                        # basic data visualisation\nimport seaborn as sns                                  # advanced data visualisation\nfrom nltk.tokenize import TweetTokenizer               # tokeniser api\nfrom pycontractions import Contractions                # intelligently expands contractions in natural language\nfrom collections import Counter                        # counts objects",
   "execution_count": 2,
   "outputs": []
  },
  {
   "cell_type": "code",
   "metadata": {
    "cell_id": "00006-5afa390e-a19c-4f7b-b2f5-752fba00777d",
    "deepnote_to_be_reexecuted": false,
    "execution_millis": 27,
    "execution_start": 1622364934569,
    "output_cleared": false,
    "source_hash": "9a25b5af",
    "deepnote_cell_type": "code"
   },
   "source": "print(f'Numpy Version: {np.__version__}')\nprint(f'Pandas Version: {pd.__version__}')\nprint(f'Matplotlib Version: {matplotlib.__version__}')\nprint(f'Seaborn Version: {sns.__version__}')",
   "execution_count": 3,
   "outputs": [
    {
     "name": "stdout",
     "text": "Numpy Version: 1.19.5\nPandas Version: 1.2.4\nMatplotlib Version: 3.4.2\nSeaborn Version: 0.11.1\n",
     "output_type": "stream"
    }
   ]
  },
  {
   "cell_type": "markdown",
   "source": "Since this project makes heavy use of functions to achieve maximal efficiency, all functions are stored externally in the package structure `project3'. The following imports are necessary for this notebook to run properly.",
   "metadata": {
    "cell_id": "00006-e9706598-54b2-4f29-9ca9-a6660685b48c",
    "tags": [],
    "deepnote_cell_type": "markdown"
   }
  },
  {
   "cell_type": "code",
   "metadata": {
    "cell_id": "00007-14d719d0-f91a-4eac-adc0-8f3981566bf1",
    "deepnote_to_be_reexecuted": false,
    "execution_millis": 0,
    "execution_start": 1622364934577,
    "output_cleared": true,
    "source_hash": "905c667e",
    "tags": [],
    "deepnote_cell_type": "code"
   },
   "source": "#from project4.processing import ...\n#from project4.save import ...\n#from project4.features import ...",
   "execution_count": 4,
   "outputs": []
  },
  {
   "cell_type": "markdown",
   "source": "## Constants\n---\nTo enhance readibilty, as well as to decrease the maintenance effort, it is useful for bigger projects to define contants that need to be accessed globally throughout the whole notebook in advance. \nThe following cell contains all of those global constants. By convention, we write them in caps (https://www.python.org/dev/peps/pep-0008/#constants)",
   "metadata": {
    "cell_id": "00008-4f347db9-f433-4a57-9e83-4fbb27586617",
    "tags": [],
    "deepnote_cell_type": "markdown"
   }
  },
  {
   "cell_type": "code",
   "metadata": {
    "cell_id": "00010-18532f0a-c77d-42e2-b487-aa327b69dc04",
    "deepnote_to_be_reexecuted": false,
    "execution_millis": 1,
    "execution_start": 1622364934582,
    "output_cleared": true,
    "source_hash": "2f89d05f",
    "tags": [],
    "deepnote_cell_type": "code"
   },
   "source": "PREPROCESS_DATA = False",
   "execution_count": 5,
   "outputs": []
  },
  {
   "cell_type": "code",
   "metadata": {
    "cell_id": "00009-8c033e56-02ab-48b7-9eff-1efefe08d35c",
    "deepnote_to_be_reexecuted": false,
    "execution_millis": 1,
    "execution_start": 1622364934627,
    "output_cleared": true,
    "source_hash": "599a5394",
    "tags": [],
    "deepnote_cell_type": "code"
   },
   "source": "DATASETS = ['hate', 'emotion']\n\n# store paths\nPATH = {}\nPATH['data'] = {}\nPATH['data']['raw'] = \"../data/raw/\"\nPATH['data']['processed'] = \"../data/processed/\"\n\n# store data \nDATA = {}\nDATA['raw'] = {}\nDATA['processed'] = {}\nfor dataset in DATASETS:\n    DATA['raw'][dataset] = {}\n    DATA['processed'][dataset] = {}",
   "execution_count": 6,
   "outputs": []
  },
  {
   "cell_type": "markdown",
   "source": "*TASK 0*\n# Fetching Data\n---",
   "metadata": {
    "cell_id": "00010-30f29e03-2c93-4a41-9cdd-c63ddcf81385",
    "tags": [],
    "deepnote_cell_type": "markdown"
   }
  },
  {
   "cell_type": "markdown",
   "source": "## Loading in Data\n---",
   "metadata": {
    "cell_id": "00012-517a92e6-641e-4b58-ae16-4fc3f1dc0f0c",
    "deepnote_cell_type": "markdown"
   }
  },
  {
   "cell_type": "code",
   "metadata": {
    "cell_id": "00011-d60e995b-fcb6-4868-b5f3-bead2a4d235a",
    "deepnote_to_be_reexecuted": false,
    "execution_millis": 0,
    "execution_start": 1622364934629,
    "output_cleared": true,
    "source_hash": "74974d65",
    "tags": [],
    "deepnote_cell_type": "code"
   },
   "source": "def read_raw_input(dataset):\n    # reading in all .txts into list of strings\n    for _file in os.listdir(f'../data/raw/{dataset}'):\n        with open(f'../data/raw/{dataset}/{_file}', 'r', encoding='UTF-8') as infile:\n            DATA['raw'][dataset][_file[:-4]] = [line.strip() for line in infile.readlines()]\n\n    # convert target labels to integers\n    for key in ['train_labels', 'val_labels', 'test_labels']:\n        DATA['raw'][dataset][key] = [int(x) for x in DATA['raw'][dataset][key]]\n\n    # convert mapping to dictionary\n    DATA['raw'][dataset]['mapping'] = {int(string.split('\\t')[0]): string.split('\\t')[1] for string in DATA['raw'][dataset]['mapping']}",
   "execution_count": 7,
   "outputs": []
  },
  {
   "cell_type": "code",
   "metadata": {
    "cell_id": "00014-a564b5fd-9112-40ea-ab20-a9e06cef672c",
    "deepnote_to_be_reexecuted": false,
    "execution_millis": 76,
    "execution_start": 1622364934630,
    "output_cleared": true,
    "scrolled": false,
    "source_hash": "3fbf30af",
    "deepnote_cell_type": "code"
   },
   "source": "for dataset in DATASETS:\n    read_raw_input(dataset)",
   "execution_count": 8,
   "outputs": []
  },
  {
   "cell_type": "markdown",
   "source": "## Exploring Data\n---",
   "metadata": {
    "cell_id": "00015-6ac2c66d-4d76-4711-82ed-29c0f25e3314",
    "deepnote_cell_type": "markdown"
   }
  },
  {
   "cell_type": "markdown",
   "source": "### Peek into Training Tweets",
   "metadata": {
    "cell_id": "00016-1ade1bb5-34a5-4a97-9049-49dbb00ee154",
    "deepnote_cell_type": "markdown"
   }
  },
  {
   "cell_type": "code",
   "metadata": {
    "cell_id": "00017-8c456ad3-3f69-4ec0-931f-2fdc6fe0e33e",
    "deepnote_to_be_reexecuted": false,
    "execution_millis": 17,
    "execution_start": 1622364934707,
    "output_cleared": false,
    "source_hash": "4847394d",
    "deepnote_cell_type": "code"
   },
   "source": "# hate\nfor i in range(10):\n    print(f\"{i+1}\\tLabel: {DATA['raw']['hate']['mapping'][DATA['raw']['hate']['train_labels'][i]].title()}\\t\\t{DATA['raw']['hate']['train_text'][i]}\")",
   "execution_count": 9,
   "outputs": [
    {
     "name": "stdout",
     "text": "1\tLabel: Not-Hate\t\t@user nice new signage. Are you not concerned by Beatlemania -style hysterical crowds crongregating on you…\n2\tLabel: Hate\t\tA woman who you fucked multiple times saying yo dick small is a compliment you know u hit that spot 😎\n3\tLabel: Hate\t\t@user @user real talk do you have eyes or were they gouged out by a rapefugee?\n4\tLabel: Hate\t\tyour girlfriend lookin at me like a groupie in this bitch!\n5\tLabel: Not-Hate\t\tHysterical woman like @user\n6\tLabel: Not-Hate\t\tMe flirting- So tell me about your father...\n7\tLabel: Not-Hate\t\tThe Philippine Catholic bishops' work for migrant workers should focus on families who are \"paying the great...\n8\tLabel: Hate\t\tI AM NOT GOING AFTER YOUR EX BF YOU LIEING SACK OF SHIT ! I'm done with you dude that's why I dumped your ass cause your a lieing 😂😡 bitch\n9\tLabel: Not-Hate\t\tWhen cuffin season is finally over\n10\tLabel: Hate\t\tSend home migrants not in need of protection, Peter Dutton tells UN, HEY DUTTON HOW ABOUT THE ONES THAT HAVE STAYED AND NOT LEFT THE COUNTRY WHEN THEY SHOULD OVERSTAYERS ? WHY DONT YOU GO AND ROUND ALL THEM UP ?\n",
     "output_type": "stream"
    }
   ]
  },
  {
   "cell_type": "code",
   "metadata": {
    "cell_id": "00018-f6587a74-f6da-4c6c-8540-db447f5615d9",
    "deepnote_to_be_reexecuted": false,
    "execution_millis": 17,
    "execution_start": 1622364934707,
    "output_cleared": false,
    "source_hash": "c303da21",
    "deepnote_cell_type": "code"
   },
   "source": "# emotion\nfor i in range(10):\n    print(f\"{i+1}\\tLabel: {DATA['raw']['emotion']['mapping'][DATA['raw']['emotion']['train_labels'][i]].title()}\\t\\t{DATA['raw']['emotion']['train_text'][i]}\")",
   "execution_count": 10,
   "outputs": [
    {
     "name": "stdout",
     "text": "1\tLabel: Optimism\t\t“Worry is a down payment on a problem you may never have'.  Joyce Meyer.  #motivation #leadership #worry\n2\tLabel: Anger\t\tMy roommate: it's okay that we can't spell because we have autocorrect. #terrible #firstworldprobs\n3\tLabel: Joy\t\tNo but that's so cute. Atsu was probably shy about photos before but cherry helped her out uwu\n4\tLabel: Anger\t\tRooneys fucking untouchable isn't he? Been fucking dreadful again, depay has looked decent(ish)tonight\n5\tLabel: Sadness\t\tit's pretty depressing when u hit pan on ur favourite highlighter\n6\tLabel: Anger\t\t@user but your pussy was weak from what I heard so stfu up to me bitch . You got to threaten him that your pregnant .\n7\tLabel: Sadness\t\tMaking that yearly transition from excited and hopeful college returner to sick and exhausted pessimist. #college\n8\tLabel: Joy\t\tTiller and breezy should do a collab album. Rapping and singing prolly be fire\n9\tLabel: Anger\t\t@user broadband is shocking regretting signing up now #angry #shouldofgonewithvirgin\n10\tLabel: Anger\t\t@user Look at those teef! #growl\n",
     "output_type": "stream"
    }
   ]
  },
  {
   "cell_type": "markdown",
   "source": "### Visualising Label Distribution",
   "metadata": {
    "cell_id": "00019-ac0093ee-cb8e-4df0-9240-28b8639da8f0",
    "deepnote_cell_type": "markdown"
   }
  },
  {
   "cell_type": "code",
   "metadata": {
    "cell_id": "00020-ff2b603d-7d95-43b5-8411-7c54ff2985ec",
    "deepnote_to_be_reexecuted": false,
    "execution_millis": 0,
    "execution_start": 1622364934709,
    "output_cleared": true,
    "source_hash": "f856703d",
    "deepnote_cell_type": "code"
   },
   "source": "def visualise_label_distribution(dataset):\n    fig, ax = plt.subplots(ncols=3, figsize=(12,4))\n    fig.suptitle(f'Frequency of Target Label in {dataset.capitalize()}', fontsize=12, fontweight='bold')\n\n    for i, key in enumerate(['train_labels', 'val_labels', 'test_labels']):\n        label, count = np.unique(DATA['raw'][dataset][key], return_counts=True)\n        ax[i].bar(label, count, color='grey');\n        ax[i].set_title(key.replace('_', ' ').title())\n        ax[i].set_xticks(label); ax[i].set_xticklabels([string.title() for string in DATA['raw'][dataset]['mapping'].values()])",
   "execution_count": 11,
   "outputs": []
  },
  {
   "cell_type": "code",
   "metadata": {
    "cell_id": "00021-046d0488-77dc-47d3-a29c-d178ea704a1f",
    "deepnote_to_be_reexecuted": false,
    "execution_millis": 450,
    "execution_start": 1622364934812,
    "output_cleared": false,
    "source_hash": "894be1c8",
    "deepnote_cell_type": "code"
   },
   "source": "visualise_label_distribution(dataset='hate')",
   "execution_count": 12,
   "outputs": [
    {
     "data": {
      "text/plain": "<Figure size 864x288 with 3 Axes>",
      "image/png": "[encoded data removed]"
     },
     "metadata": {
      "needs_background": "light",
      "image/png": {
       "width": 716,
       "height": 277
      }
     },
     "output_type": "display_data"
    }
   ]
  },
  {
   "cell_type": "code",
   "metadata": {
    "cell_id": "00022-83c0ec2d-8094-4123-8603-caad77edb2af",
    "deepnote_to_be_reexecuted": false,
    "execution_millis": 571,
    "execution_start": 1622364935257,
    "output_cleared": false,
    "source_hash": "c0926180",
    "deepnote_cell_type": "code"
   },
   "source": "visualise_label_distribution(dataset='emotion')",
   "execution_count": 13,
   "outputs": [
    {
     "data": {
      "text/plain": "<Figure size 864x288 with 3 Axes>",
      "image/png": "[encoded data removed]"
     },
     "metadata": {
      "needs_background": "light",
      "image/png": {
       "width": 716,
       "height": 277
      }
     },
     "output_type": "display_data"
    }
   ]
  },
  {
   "cell_type": "markdown",
   "source": "*TASK 0.5*\n# Processing of Language Data\n---\n",
   "metadata": {
    "cell_id": "00011-c1d3e256-83ab-4833-93bb-155c6dcb73ca",
    "tags": [],
    "deepnote_cell_type": "markdown"
   }
  },
  {
   "cell_type": "markdown",
   "source": "### Tokenize Tweets\n---\n",
   "metadata": {
    "cell_id": "00024-925deca3-bb20-43eb-bc18-98e47d7a5780",
    "tags": [],
    "deepnote_cell_type": "markdown"
   }
  },
  {
   "cell_type": "code",
   "metadata": {
    "cell_id": "00024-20c29398-21ac-493b-8d2a-2161b831ef91",
    "deepnote_to_be_reexecuted": false,
    "execution_millis": 1,
    "execution_start": 1622364935855,
    "output_cleared": true,
    "source_hash": "a1f7603b",
    "deepnote_cell_type": "code"
   },
   "source": "def tokeniser1(tweet):\n    return re.findall('\\w+', tweet)",
   "execution_count": 14,
   "outputs": []
  },
  {
   "cell_type": "code",
   "metadata": {
    "cell_id": "00013-de37fee0-8080-49a2-8348-0cc7cd793435",
    "deepnote_to_be_reexecuted": false,
    "execution_millis": 0,
    "execution_start": 1622364935856,
    "output_cleared": true,
    "source_hash": "fcce8e84",
    "tags": [],
    "deepnote_cell_type": "code"
   },
   "source": "def tokeniser2(tweet):\n    return re.split(' ', tweet)",
   "execution_count": 15,
   "outputs": []
  },
  {
   "cell_type": "code",
   "metadata": {
    "cell_id": "00026-12aa65c5-fb65-4563-9518-2593493305f8",
    "deepnote_to_be_reexecuted": false,
    "execution_millis": 0,
    "execution_start": 1622364935857,
    "output_cleared": true,
    "source_hash": "addc91b",
    "deepnote_cell_type": "code"
   },
   "source": "def tokeniser3(tweet):\n    tk = TweetTokenizer()\n    return tk.tokenize(tweet)",
   "execution_count": 16,
   "outputs": []
  },
  {
   "cell_type": "code",
   "metadata": {
    "cell_id": "00027-ef6625a3-be50-47af-8b54-b6da6068f0c4",
    "deepnote_to_be_reexecuted": false,
    "execution_millis": 0,
    "execution_start": 1622364935858,
    "output_cleared": true,
    "source_hash": "70f25dd3",
    "deepnote_cell_type": "code"
   },
   "source": "def tokeniser4(line):\n    # Initialise lists\n    tokens = []\n    unmatchable = [] # should be emtpy if done nicely\n\n    # Compile patterns for speedup\n    token_pat = re.compile('\\w+')\n    skippable_pat = re.compile('\\s+')  # typically spaces\n\n    # As long as there's any material left...\n    while line:\n        print(line)\n        # Try finding a skippable token delimiter first.\n        skippable_match = re.search(skippable_pat, line)\n        print(skippable_match)\n        if skippable_match and skippable_match.start() == 0:\n            # If there is one at the beginning of the line, just skip it.\n            line = line[skippable_match.end():]\n        else:\n            # Else try finding a real token.\n            token_match = re.search(token_pat, line)\n            if token_match and token_match.start() == 0:\n                print(token_match)\n                # If there is one at the beginning of the line, tokenise it.\n                tokens.append(line[:token_match.end()])\n                line = line[token_match.end():]\n            else:\n                # Else there is unmatchable material here.\n                # It ends where a skippable or token match starts, or at the end of the line.\n                unmatchable_end = len(line)\n                if skippable_match:\n                    unmatchable_end = skippable_match.start()\n                if token_match:\n                    unmatchable_end = min(unmatchable_end, token_match.start())\n                # Add it to unmatchable and discard from line.\n                unmatchable.append(line[:unmatchable_end])\n                line = line[unmatchable_end:]\n\n    return tokens",
   "execution_count": 17,
   "outputs": []
  },
  {
   "cell_type": "code",
   "metadata": {
    "cell_id": "00028-15e617bc-1809-4253-8f95-c827822c2e9e",
    "deepnote_to_be_reexecuted": false,
    "execution_millis": 11,
    "execution_start": 1622364935897,
    "output_cleared": false,
    "source_hash": "47651239",
    "deepnote_cell_type": "code"
   },
   "source": "#ex_tweet = DATA['hate']['train_text'][0]\nex_tweet = \"https://t.co/9z2J3P33Uc FB needs to hurry up and add a laugh/cry button 😬😭😓🤢🙄😱 Since eating my feelings has not fixed the world's problems, I guess I'll try to sleep... HOLY CRAP: DeVos questionnaire appears to include passages from uncited sources https://t.co/FNRoOlfw9s well played, Senator Murray Keep the pressure on: https://t.co/4hfOsmdk0l @datageneral thx Mr Taussig It's interesting how many people contact me about applying for a PhD and don't @user spell my name #something right. Wow ok I didn't realise i'm using contractions like haven't and won't.\"\n\ntokeniser = [tokeniser1, tokeniser2, tokeniser3]\n\nprint('Original Tweet: ',ex_tweet, '\\n')\nfor i in range(len(tokeniser)):\n    print(f\"Tokeniser {i+1}: {tokeniser[i](ex_tweet)}\\n\")",
   "execution_count": 18,
   "outputs": [
    {
     "name": "stdout",
     "text": "Original Tweet:  https://t.co/9z2J3P33Uc FB needs to hurry up and add a laugh/cry button 😬😭😓🤢🙄😱 Since eating my feelings has not fixed the world's problems, I guess I'll try to sleep... HOLY CRAP: DeVos questionnaire appears to include passages from uncited sources https://t.co/FNRoOlfw9s well played, Senator Murray Keep the pressure on: https://t.co/4hfOsmdk0l @datageneral thx Mr Taussig It's interesting how many people contact me about applying for a PhD and don't @user spell my name #something right. Wow ok I didn't realise i'm using contractions like haven't and won't. \n\nTokeniser 1: ['https', 't', 'co', '9z2J3P33Uc', 'FB', 'needs', 'to', 'hurry', 'up', 'and', 'add', 'a', 'laugh', 'cry', 'button', 'Since', 'eating', 'my', 'feelings', 'has', 'not', 'fixed', 'the', 'world', 's', 'problems', 'I', 'guess', 'I', 'll', 'try', 'to', 'sleep', 'HOLY', 'CRAP', 'DeVos', 'questionnaire', 'appears', 'to', 'include', 'passages', 'from', 'uncited', 'sources', 'https', 't', 'co', 'FNRoOlfw9s', 'well', 'played', 'Senator', 'Murray', 'Keep', 'the', 'pressure', 'on', 'https', 't', 'co', '4hfOsmdk0l', 'datageneral', 'thx', 'Mr', 'Taussig', 'It', 's', 'interesting', 'how', 'many', 'people', 'contact', 'me', 'about', 'applying', 'for', 'a', 'PhD', 'and', 'don', 't', 'user', 'spell', 'my', 'name', 'something', 'right', 'Wow', 'ok', 'I', 'didn', 't', 'realise', 'i', 'm', 'using', 'contractions', 'like', 'haven', 't', 'and', 'won', 't']\n\nTokeniser 2: ['https://t.co/9z2J3P33Uc', 'FB', 'needs', 'to', 'hurry', 'up', 'and', 'add', 'a', 'laugh/cry', 'button', '😬😭😓🤢🙄😱', 'Since', 'eating', 'my', 'feelings', 'has', 'not', 'fixed', 'the', \"world's\", 'problems,', 'I', 'guess', \"I'll\", 'try', 'to', 'sleep...', 'HOLY', 'CRAP:', 'DeVos', 'questionnaire', 'appears', 'to', 'include', 'passages', 'from', 'uncited', 'sources', 'https://t.co/FNRoOlfw9s', 'well', 'played,', 'Senator', 'Murray', 'Keep', 'the', 'pressure', 'on:', 'https://t.co/4hfOsmdk0l', '@datageneral', 'thx', 'Mr', 'Taussig', \"It's\", 'interesting', 'how', 'many', 'people', 'contact', 'me', 'about', 'applying', 'for', 'a', 'PhD', 'and', \"don't\", '@user', 'spell', 'my', 'name', '#something', 'right.', 'Wow', 'ok', 'I', \"didn't\", 'realise', \"i'm\", 'using', 'contractions', 'like', \"haven't\", 'and', \"won't.\"]\n\nTokeniser 3: ['https://t.co/9z2J3P33Uc', 'FB', 'needs', 'to', 'hurry', 'up', 'and', 'add', 'a', 'laugh', '/', 'cry', 'button', '😬', '😭', '😓', '🤢', '🙄', '😱', 'Since', 'eating', 'my', 'feelings', 'has', 'not', 'fixed', 'the', \"world's\", 'problems', ',', 'I', 'guess', \"I'll\", 'try', 'to', 'sleep', '...', 'HOLY', 'CRAP', ':', 'DeVos', 'questionnaire', 'appears', 'to', 'include', 'passages', 'from', 'uncited', 'sources', 'https://t.co/FNRoOlfw9s', 'well', 'played', ',', 'Senator', 'Murray', 'Keep', 'the', 'pressure', 'on', ':', 'https://t.co/4hfOsmdk0l', '@datageneral', 'thx', 'Mr', 'Taussig', \"It's\", 'interesting', 'how', 'many', 'people', 'contact', 'me', 'about', 'applying', 'for', 'a', 'PhD', 'and', \"don't\", '@user', 'spell', 'my', 'name', '#something', 'right', '.', 'Wow', 'ok', 'I', \"didn't\", 'realise', \"i'm\", 'using', 'contractions', 'like', \"haven't\", 'and', \"won't\", '.']\n\n",
     "output_type": "stream"
    }
   ]
  },
  {
   "cell_type": "markdown",
   "source": "### Summary\n---\n\nTokeniser 1 (Finds all Words):\n+ Good representation of words (includes Unicode characters and is sensible to punctuation within words, ie. \"don't\")\n- Deletes all punctuation (which might be important, ie. twitter communication heavily based tagging using '@' and hastags (#))\n- Destroys Links\n- Blind to Emojis\n\nTokeniser 2 (Split at Whitespace):\n+ Overall good representation of words \n+ keeps punctuation\n- ending punctuation is not being separated\n+ keeps Links\n+ recognises Emojis\n- doesnt separate adjacent emojis \n- blind to several words written together (in slang), ie. idontgiveafuck\n\nTokeniser 3 (Twitter Tokeniser API, Overcomes issues of Tokeniser 2):\n+ Ending punctuation is being separated\n+ Separate adjacent Emojis ",
   "metadata": {
    "cell_id": "00029-6b025e1e-41c8-40e8-95a6-ce98b58a469d",
    "deepnote_cell_type": "markdown"
   }
  },
  {
   "cell_type": "markdown",
   "source": "### Improving Tokenizer",
   "metadata": {
    "cell_id": "00032-9918e5ff-ad34-4397-8a23-02f60d16a194",
    "tags": [],
    "deepnote_cell_type": "markdown"
   }
  },
  {
   "cell_type": "markdown",
   "source": "Improving on the Tweet Tokenizer:\n* lowercasing \n* expanding contractions\n* change links to a dummy value",
   "metadata": {
    "cell_id": "00032-4555a69b-e985-4c97-8a63-e922bdc51ee5",
    "tags": [],
    "deepnote_cell_type": "markdown"
   }
  },
  {
   "cell_type": "markdown",
   "source": "## Final Tokenising",
   "metadata": {
    "cell_id": "00042-494c027a-c333-45d2-95c0-f8775d64c2ee",
    "tags": [],
    "deepnote_cell_type": "markdown"
   }
  },
  {
   "cell_type": "code",
   "metadata": {
    "cell_id": "00043-2f55d04c-3946-4a00-a740-a8debdffb56c",
    "deepnote_to_be_reexecuted": false,
    "execution_millis": 0,
    "execution_start": 1622364935898,
    "output_cleared": true,
    "source_hash": "8e83866d",
    "tags": [],
    "deepnote_cell_type": "code"
   },
   "source": "# define url regex pattern and replace pattern globally (compile for speedup)\nurl_pattern = re.compile(r\"(?i)((?:https?://|www\\d{0,3}[.]|[a-z0-9.-]+[.][a-z]{2,4}/)(?:[^\\s()<>]+|(([^\\s()<>]+|(([^\\s()<>]+)))))+(?:(([^\\s()<>]+|(([^\\s()<>]+))))|[^\\s`!()[]{};:'\\\".,<>?«»\\“\\”‘’]))\")\ndummy = \" <=LINK=> \"\n\ndef remove_links(tweet):\n    return re.sub(url_pattern, dummy, tweet) ",
   "execution_count": 19,
   "outputs": []
  },
  {
   "cell_type": "code",
   "metadata": {
    "cell_id": "00036-d9edebb2-2e4c-4677-8bf0-71886f19f539",
    "deepnote_to_be_reexecuted": false,
    "source_hash": "d39274f2",
    "execution_start": 1622364935933,
    "execution_millis": 0,
    "deepnote_cell_type": "code"
   },
   "source": "def remove_newline(tweet):\n    return re.sub(r'\\\\n', ' ', tweet)",
   "execution_count": 20,
   "outputs": []
  },
  {
   "cell_type": "code",
   "metadata": {
    "cell_id": "00043-6453b1f6-fe2d-4454-a660-25658b074aab",
    "deepnote_to_be_reexecuted": false,
    "execution_millis": 0,
    "execution_start": 1622364935934,
    "output_cleared": true,
    "source_hash": "2b57a052",
    "tags": [],
    "deepnote_cell_type": "code"
   },
   "source": "# loading pre-trained contraction model\ncont = Contractions(api_key=\"glove-twitter-200\")\n\ndef expand(tweet):\n    return list(cont.expand_texts([tweet]))[0]",
   "execution_count": 21,
   "outputs": []
  },
  {
   "cell_type": "code",
   "metadata": {
    "cell_id": "00038-2ea3f6e4-96f5-44d5-aff6-54fbe67b1b6c",
    "deepnote_to_be_reexecuted": false,
    "source_hash": "44dfa33b",
    "execution_start": 1622364935934,
    "execution_millis": 2994634,
    "deepnote_cell_type": "code"
   },
   "source": "if PREPROCESS_DATA == True:\n    cont.load_models()",
   "execution_count": 22,
   "outputs": []
  },
  {
   "cell_type": "code",
   "metadata": {
    "cell_id": "00042-a9e30c04-e319-4b86-93a2-495d377ffdf7",
    "deepnote_to_be_reexecuted": false,
    "execution_millis": 1,
    "execution_start": 1622364935935,
    "output_cleared": true,
    "source_hash": "d9d8669d",
    "tags": [],
    "deepnote_cell_type": "code"
   },
   "source": "tk = TweetTokenizer()\n\ndef clean(tweet):\n    cleaned_tweet = expand(remove_links(remove_newline(tweet.lower())))\n    return tk.tokenize(cleaned_tweet)",
   "execution_count": 23,
   "outputs": []
  },
  {
   "cell_type": "markdown",
   "source": "## Testing clean function",
   "metadata": {
    "cell_id": "00042-19104ffb-e92b-4585-9351-30174aea6d80",
    "deepnote_cell_type": "markdown"
   }
  },
  {
   "cell_type": "code",
   "metadata": {
    "cell_id": "00046-0a1e72d3-a195-4b4d-b338-b99415bcfd4a",
    "deepnote_to_be_reexecuted": false,
    "execution_millis": 2994630,
    "execution_start": 1622364935944,
    "output_cleared": false,
    "scrolled": true,
    "source_hash": "3f56054f",
    "tags": [],
    "deepnote_cell_type": "code"
   },
   "source": "test = '@user there are more #frightening things in life\\n\\n#BeyondTheSphereOfReasonableDoubt'\nif PREPROCESS_DATA == True:\n    print(clean(test))\n#     print('\\t'.join(clean(test)) + '\\n')",
   "execution_count": 24,
   "outputs": []
  },
  {
   "cell_type": "code",
   "metadata": {
    "scrolled": false,
    "cell_id": "00042-a25c6300-bbf5-4fb0-b01d-0bf34215c82d",
    "deepnote_to_be_reexecuted": false,
    "source_hash": "ad16565b",
    "execution_start": 1622364935991,
    "execution_millis": 0,
    "deepnote_cell_type": "code"
   },
   "source": "import difflib\ntest2 = DATA['raw']['emotion']['val_text'][15]\ntest3 = str(test2)\n# print(test == test3)\n# print(clean(str(test3)))\n# print(test)\n#print(clean(test2))\n# print('\\n'.join(difflib.ndiff([test], [test2])))",
   "execution_count": 25,
   "outputs": []
  },
  {
   "cell_type": "code",
   "metadata": {
    "cell_id": "00046-8f2c5b62-9cce-4460-a430-78de3377ebca",
    "deepnote_to_be_reexecuted": false,
    "execution_millis": 0,
    "execution_start": 1622364935992,
    "output_cleared": true,
    "source_hash": "c2ec7c27",
    "tags": [],
    "deepnote_cell_type": "code"
   },
   "source": "if PREPROCESS_DATA == True:\n    for dataset in DATASETS:\n        # create preprocessed folder\n        try: os.makedirs(f'../data/processed/{dataset}')\n        except: None\n\n        # preprocess and tokenize tweets\n        for key in ['train_text', 'val_text', 'test_text']:\n            with open(f'../data/processed/{dataset}/{key}.txt', 'w', encoding = 'UTF-8') as outfile:\n                for tweet in DATA['raw'][dataset][key]:\n                    outfile.write('\\t'.join(clean(tweet)) + '\\n') # writing tokenised tweet with tab delimiter\n\n        # copy labels and mapping without preprocessing\n        for key in ['train_labels', 'val_labels', 'test_labels', 'mapping']:\n            shutil.copyfile(f'../data/raw/{dataset}/{key}.txt', f'../data/processed/{dataset}/{key}.txt')",
   "execution_count": 26,
   "outputs": []
  },
  {
   "cell_type": "code",
   "metadata": {
    "cell_id": "00042-632ac15c-7d49-4503-b780-5829b6f5faac",
    "deepnote_to_be_reexecuted": false,
    "execution_millis": 134,
    "execution_start": 1622364935992,
    "output_cleared": false,
    "source_hash": "e8fcf339",
    "tags": [],
    "deepnote_cell_type": "code"
   },
   "source": "# loading in processed data\nfor dataset in DATASETS:\n    for key in os.listdir(f'../data/processed/{dataset}'):\n        with open(f'../data/processed/{dataset}/{key}', 'r', encoding='UTF-8') as infile:\n            DATA['processed'][dataset][key[:-4]] = [line.strip().split('\\t') for line in infile.readlines()]\n\n    # convert target labels to integers\n    for key in ['train_labels', 'val_labels', 'test_labels']:\n        DATA['processed'][dataset][key] = [int(x) for x in [DATA['processed'][dataset][key][i][0] for i in range(len(DATA['processed'][dataset][key]))]]\n\n    # convert mapping to dictionary\n    DATA['processed'][dataset]['mapping'] = {int(string[0]): string[1] for string in DATA['processed'][dataset]['mapping']}",
   "execution_count": 27,
   "outputs": []
  },
  {
   "cell_type": "markdown",
   "source": "*TASK 1* \n# Descriptive Statistics about Natural Language Data\n---",
   "metadata": {
    "cell_id": "00044-cef6a6e4-c220-496f-ada8-d6cfbc08f299",
    "tags": [],
    "deepnote_cell_type": "markdown"
   }
  },
  {
   "cell_type": "code",
   "metadata": {
    "tags": [],
    "cell_id": "00046-c2b2e52f-155f-4bb0-82f8-3eb9d7f2c2c9",
    "deepnote_to_be_reexecuted": false,
    "source_hash": "440125d1",
    "execution_start": 1622364936182,
    "execution_millis": 0,
    "deepnote_cell_type": "code"
   },
   "source": "CORPUS = {}\nfor dataset in DATASETS:\n    CORPUS[dataset] = [token for tweet in DATA['processed'][dataset]['train_text'] for token in tweet]",
   "execution_count": 28,
   "outputs": []
  },
  {
   "cell_type": "code",
   "metadata": {
    "cell_id": "00042-f580c106-03ae-4ef2-a8de-3329cc7f39d7",
    "deepnote_to_be_reexecuted": false,
    "execution_millis": 43,
    "execution_start": 1622364936227,
    "output_cleared": true,
    "source_hash": "59efce5f",
    "tags": [],
    "deepnote_cell_type": "code"
   },
   "source": "# build entire alphabet from training tweets\nVOCABULARY = {}\nfor dataset in DATASETS:\n    corpus = CORPUS[dataset]\n\n    # initialise frequency counter\n    VOCABULARY[dataset] = pd.DataFrame.from_dict(Counter(corpus), orient='index').rename(columns={'index': 'token', 0: 'frequency'}).sort_values(by='frequency', ascending=False).reset_index()\n\n    VOCABULARY[dataset]['rank'] = VOCABULARY[dataset].index + 1 # add one to index to build rank\n    VOCABULARY[dataset]['normalised_frequency'] = VOCABULARY[dataset]['frequency'] / VOCABULARY[dataset]['frequency'].sum() # relative frequency\n    VOCABULARY[dataset]['cumulative_frequency'] = VOCABULARY[dataset]['normalised_frequency'].cumsum()",
   "execution_count": 29,
   "outputs": []
  },
  {
   "cell_type": "code",
   "metadata": {
    "cell_id": "00046-5accac30-2f91-4cf6-8d65-ca5f6e2cfff1",
    "deepnote_to_be_reexecuted": false,
    "execution_millis": 94,
    "execution_start": 1622364936271,
    "output_cleared": false,
    "source_hash": "76d6d744",
    "tags": [],
    "deepnote_cell_type": "code"
   },
   "source": "VOCABULARY['hate']",
   "execution_count": 30,
   "outputs": [
    {
     "output_type": "execute_result",
     "execution_count": 30,
     "data": {
      "application/vnd.deepnote.dataframe.v2+json": {
       "row_count": 18600,
       "column_count": 5,
       "columns": [
        {
         "name": "index",
         "dtype": "object",
         "stats": {
          "unique_count": 18600,
          "nan_count": 0,
          "categories": [
           {
            "name": ".",
            "count": 1
           },
           {
            "name": "@user",
            "count": 1
           },
           {
            "name": "18598 others",
            "count": 18598
           }
          ]
         }
        },
        {
         "name": "frequency",
         "dtype": "int64",
         "stats": {
          "unique_count": 294,
          "nan_count": 0,
          "min": "1",
          "max": "6277",
          "histogram": [
           {
            "bin_start": 1,
            "bin_end": 628.6,
            "count": 18551
           },
           {
            "bin_start": 628.6,
            "bin_end": 1256.2,
            "count": 30
           },
           {
            "bin_start": 1256.2,
            "bin_end": 1883.8000000000002,
            "count": 5
           },
           {
            "bin_start": 1883.8000000000002,
            "bin_end": 2511.4,
            "count": 3
           },
           {
            "bin_start": 2511.4,
            "bin_end": 3139,
            "count": 3
           },
           {
            "bin_start": 3139,
            "bin_end": 3766.6000000000004,
            "count": 1
           },
           {
            "bin_start": 3766.6000000000004,
            "bin_end": 4394.2,
            "count": 3
           },
           {
            "bin_start": 4394.2,
            "bin_end": 5021.8,
            "count": 1
           },
           {
            "bin_start": 5021.8,
            "bin_end": 5649.400000000001,
            "count": 1
           },
           {
            "bin_start": 5649.400000000001,
            "bin_end": 6277,
            "count": 2
           }
          ]
         }
        },
        {
         "name": "rank",
         "dtype": "int64",
         "stats": {
          "unique_count": 18600,
          "nan_count": 0,
          "min": "1",
          "max": "18600",
          "histogram": [
           {
            "bin_start": 1,
            "bin_end": 1860.9,
            "count": 1860
           },
           {
            "bin_start": 1860.9,
            "bin_end": 3720.8,
            "count": 1860
           },
           {
            "bin_start": 3720.8,
            "bin_end": 5580.700000000001,
            "count": 1860
           },
           {
            "bin_start": 5580.700000000001,
            "bin_end": 7440.6,
            "count": 1860
           },
           {
            "bin_start": 7440.6,
            "bin_end": 9300.5,
            "count": 1860
           },
           {
            "bin_start": 9300.5,
            "bin_end": 11160.400000000001,
            "count": 1860
           },
           {
            "bin_start": 11160.400000000001,
            "bin_end": 13020.300000000001,
            "count": 1860
           },
           {
            "bin_start": 13020.300000000001,
            "bin_end": 14880.2,
            "count": 1860
           },
           {
            "bin_start": 14880.2,
            "bin_end": 16740.100000000002,
            "count": 1860
           },
           {
            "bin_start": 16740.100000000002,
            "bin_end": 18600,
            "count": 1860
           }
          ]
         }
        },
        {
         "name": "normalised_frequency",
         "dtype": "float64",
         "stats": {
          "unique_count": 294,
          "nan_count": 0,
          "min": "4.628001258816342e-06",
          "max": "0.029049963901590183",
          "histogram": [
           {
            "bin_start": 0.000004628001258816342,
            "bin_end": 0.0029091615912919533,
            "count": 18551
           },
           {
            "bin_start": 0.0029091615912919533,
            "bin_end": 0.00581369518132509,
            "count": 30
           },
           {
            "bin_start": 0.00581369518132509,
            "bin_end": 0.008718228771358225,
            "count": 5
           },
           {
            "bin_start": 0.008718228771358225,
            "bin_end": 0.011622762361391363,
            "count": 3
           },
           {
            "bin_start": 0.011622762361391363,
            "bin_end": 0.0145272959514245,
            "count": 3
           },
           {
            "bin_start": 0.0145272959514245,
            "bin_end": 0.017431829541457635,
            "count": 1
           },
           {
            "bin_start": 0.017431829541457635,
            "bin_end": 0.020336363131490773,
            "count": 3
           },
           {
            "bin_start": 0.020336363131490773,
            "bin_end": 0.02324089672152391,
            "count": 1
           },
           {
            "bin_start": 0.02324089672152391,
            "bin_end": 0.02614543031155705,
            "count": 1
           },
           {
            "bin_start": 0.02614543031155705,
            "bin_end": 0.029049963901590183,
            "count": 2
           }
          ]
         }
        },
        {
         "name": "cumulative_frequency",
         "dtype": "float64",
         "stats": {
          "unique_count": 18600,
          "nan_count": 0,
          "min": "0.029049963901590183",
          "max": "0.9999999999996355",
          "histogram": [
           {
            "bin_start": 0.029049963901590183,
            "bin_end": 0.1261449675113947,
            "count": 5
           },
           {
            "bin_start": 0.1261449675113947,
            "bin_end": 0.22323997112119923,
            "count": 6
           },
           {
            "bin_start": 0.22323997112119923,
            "bin_end": 0.3203349747310038,
            "count": 15
           },
           {
            "bin_start": 0.3203349747310038,
            "bin_end": 0.4174299783408083,
            "count": 28
           },
           {
            "bin_start": 0.4174299783408083,
            "bin_end": 0.5145249819506128,
            "count": 48
           },
           {
            "bin_start": 0.5145249819506128,
            "bin_end": 0.6116199855604174,
            "count": 104
           },
           {
            "bin_start": 0.6116199855604174,
            "bin_end": 0.7087149891702219,
            "count": 276
           },
           {
            "bin_start": 0.7087149891702219,
            "bin_end": 0.8058099927800264,
            "count": 775
           },
           {
            "bin_start": 0.8058099927800264,
            "bin_end": 0.9029049963898309,
            "count": 2673
           },
           {
            "bin_start": 0.9029049963898309,
            "bin_end": 0.9999999999996355,
            "count": 14670
           }
          ]
         }
        },
        {
         "name": "_deepnote_index_column",
         "dtype": "int64"
        }
       ],
       "rows_top": [
        {
         "index": ".",
         "frequency": 6277,
         "rank": 1,
         "normalised_frequency": 0.029049963901590183,
         "cumulative_frequency": 0.029049963901590183,
         "_deepnote_index_column": 0
        },
        {
         "index": "@user",
         "frequency": 6014,
         "rank": 2,
         "normalised_frequency": 0.027832799570521483,
         "cumulative_frequency": 0.056882763472111665,
         "_deepnote_index_column": 1
        },
        {
         "index": "the",
         "frequency": 5492,
         "rank": 3,
         "normalised_frequency": 0.02541698291341935,
         "cumulative_frequency": 0.08229974638553102,
         "_deepnote_index_column": 2
        },
        {
         "index": "to",
         "frequency": 4931,
         "rank": 4,
         "normalised_frequency": 0.022820674207223383,
         "cumulative_frequency": 0.1051204205927544,
         "_deepnote_index_column": 3
        },
        {
         "index": ",",
         "frequency": 4356,
         "rank": 5,
         "normalised_frequency": 0.020159573483403987,
         "cumulative_frequency": 0.1252799940761584,
         "_deepnote_index_column": 4
        },
        {
         "index": "you",
         "frequency": 4106,
         "rank": 6,
         "normalised_frequency": 0.019002573168699903,
         "cumulative_frequency": 0.1442825672448583,
         "_deepnote_index_column": 5
        },
        {
         "index": "a",
         "frequency": 3953,
         "rank": 7,
         "normalised_frequency": 0.018294488976101003,
         "cumulative_frequency": 0.1625770562209593,
         "_deepnote_index_column": 6
        },
        {
         "index": "and",
         "frequency": 3221,
         "rank": 8,
         "normalised_frequency": 0.01490679205464744,
         "cumulative_frequency": 0.17748384827560673,
         "_deepnote_index_column": 7
        },
        {
         "index": "of",
         "frequency": 2886,
         "rank": 9,
         "normalised_frequency": 0.013356411632943965,
         "cumulative_frequency": 0.1908402599085507,
         "_deepnote_index_column": 8
        },
        {
         "index": "is",
         "frequency": 2719,
         "rank": 10,
         "normalised_frequency": 0.012583535422721635,
         "cumulative_frequency": 0.20342379533127233,
         "_deepnote_index_column": 9
        },
        {
         "index": "in",
         "frequency": 2562,
         "rank": 11,
         "normalised_frequency": 0.01185693922508747,
         "cumulative_frequency": 0.2152807345563598,
         "_deepnote_index_column": 10
        },
        {
         "index": "not",
         "frequency": 2402,
         "rank": 12,
         "normalised_frequency": 0.011116459023676854,
         "cumulative_frequency": 0.22639719358003665,
         "_deepnote_index_column": 11
        },
        {
         "index": "!",
         "frequency": 2147,
         "rank": 13,
         "normalised_frequency": 0.009936318702678687,
         "cumulative_frequency": 0.23633351228271535,
         "_deepnote_index_column": 12
        },
        {
         "index": "are",
         "frequency": 2056,
         "rank": 14,
         "normalised_frequency": 0.0095151705881264,
         "cumulative_frequency": 0.24584868287084174,
         "_deepnote_index_column": 13
        },
        {
         "index": "for",
         "frequency": 1828,
         "rank": 15,
         "normalised_frequency": 0.008459986301116273,
         "cumulative_frequency": 0.25430866917195805,
         "_deepnote_index_column": 14
        },
        {
         "index": "i",
         "frequency": 1792,
         "rank": 16,
         "normalised_frequency": 0.008293378255798886,
         "cumulative_frequency": 0.26260204742775695,
         "_deepnote_index_column": 15
        },
        {
         "index": "that",
         "frequency": 1531,
         "rank": 17,
         "normalised_frequency": 0.00708546992724782,
         "cumulative_frequency": 0.2696875173550048,
         "_deepnote_index_column": 16
        },
        {
         "index": "it",
         "frequency": 1359,
         "rank": 18,
         "normalised_frequency": 0.006289453710731409,
         "cumulative_frequency": 0.2759769710657362,
         "_deepnote_index_column": 17
        },
        {
         "index": "?",
         "frequency": 1353,
         "rank": 19,
         "normalised_frequency": 0.006261685703178511,
         "cumulative_frequency": 0.28223865676891474,
         "_deepnote_index_column": 18
        },
        {
         "index": "'",
         "frequency": 1244,
         "rank": 20,
         "normalised_frequency": 0.00575723356596753,
         "cumulative_frequency": 0.28799589033488227,
         "_deepnote_index_column": 19
        },
        {
         "index": "on",
         "frequency": 1183,
         "rank": 21,
         "normalised_frequency": 0.0054749254891797335,
         "cumulative_frequency": 0.293470815824062,
         "_deepnote_index_column": 20
        },
        {
         "index": "they",
         "frequency": 1073,
         "rank": 22,
         "normalised_frequency": 0.004965845350709935,
         "cumulative_frequency": 0.2984366611747719,
         "_deepnote_index_column": 21
        },
        {
         "index": "bitch",
         "frequency": 1069,
         "rank": 23,
         "normalised_frequency": 0.00494733334567467,
         "cumulative_frequency": 0.30338399452044656,
         "_deepnote_index_column": 22
        },
        {
         "index": "all",
         "frequency": 1061,
         "rank": 24,
         "normalised_frequency": 0.004910309335604139,
         "cumulative_frequency": 0.3082943038560507,
         "_deepnote_index_column": 23
        },
        {
         "index": "this",
         "frequency": 1044,
         "rank": 25,
         "normalised_frequency": 0.004831633314204262,
         "cumulative_frequency": 0.313125937170255,
         "_deepnote_index_column": 24
        },
        {
         "index": "do",
         "frequency": 1032,
         "rank": 26,
         "normalised_frequency": 0.004776097299098466,
         "cumulative_frequency": 0.31790203446935345,
         "_deepnote_index_column": 25
        },
        {
         "index": "have",
         "frequency": 1030,
         "rank": 27,
         "normalised_frequency": 0.004766841296580833,
         "cumulative_frequency": 0.3226688757659343,
         "_deepnote_index_column": 26
        },
        {
         "index": "your",
         "frequency": 970,
         "rank": 28,
         "normalised_frequency": 0.004489161221051852,
         "cumulative_frequency": 0.32715803698698614,
         "_deepnote_index_column": 27
        },
        {
         "index": "’",
         "frequency": 966,
         "rank": 29,
         "normalised_frequency": 0.004470649216016587,
         "cumulative_frequency": 0.33162868620300273,
         "_deepnote_index_column": 28
        },
        {
         "index": "-",
         "frequency": 943,
         "rank": 30,
         "normalised_frequency": 0.004364205187063811,
         "cumulative_frequency": 0.33599289139006655,
         "_deepnote_index_column": 29
        },
        {
         "index": "be",
         "frequency": 942,
         "rank": 31,
         "normalised_frequency": 0.0043595771858049946,
         "cumulative_frequency": 0.34035246857587154,
         "_deepnote_index_column": 30
        },
        {
         "index": "with",
         "frequency": 942,
         "rank": 32,
         "normalised_frequency": 0.0043595771858049946,
         "cumulative_frequency": 0.3447120457616765,
         "_deepnote_index_column": 31
        },
        {
         "index": "...",
         "frequency": 873,
         "rank": 33,
         "normalised_frequency": 0.004040245098946667,
         "cumulative_frequency": 0.3487522908606232,
         "_deepnote_index_column": 32
        },
        {
         "index": "women",
         "frequency": 840,
         "rank": 34,
         "normalised_frequency": 0.0038875210574057274,
         "cumulative_frequency": 0.35263981191802896,
         "_deepnote_index_column": 33
        },
        {
         "index": "we",
         "frequency": 837,
         "rank": 35,
         "normalised_frequency": 0.0038736370536292786,
         "cumulative_frequency": 0.3565134489716582,
         "_deepnote_index_column": 34
        },
        {
         "index": ":",
         "frequency": 833,
         "rank": 36,
         "normalised_frequency": 0.0038551250485940134,
         "cumulative_frequency": 0.36036857402025224,
         "_deepnote_index_column": 35
        },
        {
         "index": "refugees",
         "frequency": 819,
         "rank": 37,
         "normalised_frequency": 0.0037903330309705845,
         "cumulative_frequency": 0.36415890705122284,
         "_deepnote_index_column": 36
        },
        {
         "index": "will",
         "frequency": 745,
         "rank": 38,
         "normalised_frequency": 0.003447860937818175,
         "cumulative_frequency": 0.367606767989041,
         "_deepnote_index_column": 37
        },
        {
         "index": "\"",
         "frequency": 731,
         "rank": 39,
         "normalised_frequency": 0.0033830689201947463,
         "cumulative_frequency": 0.37098983690923576,
         "_deepnote_index_column": 38
        },
        {
         "index": "me",
         "frequency": 720,
         "rank": 40,
         "normalised_frequency": 0.0033321609063477666,
         "cumulative_frequency": 0.3743219978155835,
         "_deepnote_index_column": 39
        },
        {
         "index": "from",
         "frequency": 712,
         "rank": 41,
         "normalised_frequency": 0.0032951368962772357,
         "cumulative_frequency": 0.37761713471186076,
         "_deepnote_index_column": 40
        },
        {
         "index": "when",
         "frequency": 708,
         "rank": 42,
         "normalised_frequency": 0.0032766248912419705,
         "cumulative_frequency": 0.38089375960310273,
         "_deepnote_index_column": 41
        },
        {
         "index": "my",
         "frequency": 702,
         "rank": 43,
         "normalised_frequency": 0.0032488568836890725,
         "cumulative_frequency": 0.3841426164867918,
         "_deepnote_index_column": 42
        },
        {
         "index": "who",
         "frequency": 682,
         "rank": 44,
         "normalised_frequency": 0.0031562968585127455,
         "cumulative_frequency": 0.3872989133453046,
         "_deepnote_index_column": 43
        },
        {
         "index": "like",
         "frequency": 679,
         "rank": 45,
         "normalised_frequency": 0.0031424128547362963,
         "cumulative_frequency": 0.3904413262000409,
         "_deepnote_index_column": 44
        },
        {
         "index": "if",
         "frequency": 673,
         "rank": 46,
         "normalised_frequency": 0.0031146448471833983,
         "cumulative_frequency": 0.3935559710472243,
         "_deepnote_index_column": 45
        },
        {
         "index": "&",
         "frequency": 673,
         "rank": 47,
         "normalised_frequency": 0.0031146448471833983,
         "cumulative_frequency": 0.39667061589440766,
         "_deepnote_index_column": 46
        },
        {
         "index": "immigrant",
         "frequency": 654,
         "rank": 48,
         "normalised_frequency": 0.0030267128232658877,
         "cumulative_frequency": 0.39969732871767355,
         "_deepnote_index_column": 47
        },
        {
         "index": "but",
         "frequency": 630,
         "rank": 49,
         "normalised_frequency": 0.0029156407930542956,
         "cumulative_frequency": 0.40261296951072784,
         "_deepnote_index_column": 48
        },
        {
         "index": "their",
         "frequency": 625,
         "rank": 50,
         "normalised_frequency": 0.002892500786760214,
         "cumulative_frequency": 0.40550547029748807,
         "_deepnote_index_column": 49
        },
        {
         "index": "about",
         "frequency": 607,
         "rank": 51,
         "normalised_frequency": 0.00280919676410152,
         "cumulative_frequency": 0.4083146670615896,
         "_deepnote_index_column": 50
        },
        {
         "index": "no",
         "frequency": 600,
         "rank": 52,
         "normalised_frequency": 0.0027768007552898054,
         "cumulative_frequency": 0.4110914678168794,
         "_deepnote_index_column": 51
        },
        {
         "index": "s",
         "frequency": 583,
         "rank": 53,
         "normalised_frequency": 0.0026981247338899277,
         "cumulative_frequency": 0.4137895925507693,
         "_deepnote_index_column": 52
        },
        {
         "index": "as",
         "frequency": 582,
         "rank": 54,
         "normalised_frequency": 0.0026934967326311112,
         "cumulative_frequency": 0.4164830892834004,
         "_deepnote_index_column": 53
        },
        {
         "index": "so",
         "frequency": 580,
         "rank": 55,
         "normalised_frequency": 0.0026842407301134784,
         "cumulative_frequency": 0.41916733001351386,
         "_deepnote_index_column": 54
        },
        {
         "index": "by",
         "frequency": 578,
         "rank": 56,
         "normalised_frequency": 0.002674984727595846,
         "cumulative_frequency": 0.4218423147411097,
         "_deepnote_index_column": 55
        },
        {
         "index": "illegal",
         "frequency": 572,
         "rank": 57,
         "normalised_frequency": 0.002647216720042948,
         "cumulative_frequency": 0.42448953146115265,
         "_deepnote_index_column": 56
        },
        {
         "index": "up",
         "frequency": 569,
         "rank": 58,
         "normalised_frequency": 0.0026333327162664988,
         "cumulative_frequency": 0.4271228641774191,
         "_deepnote_index_column": 57
        },
        {
         "index": "what",
         "frequency": 554,
         "rank": 59,
         "normalised_frequency": 0.002563912697384254,
         "cumulative_frequency": 0.4296867768748034,
         "_deepnote_index_column": 58
        },
        {
         "index": "at",
         "frequency": 553,
         "rank": 60,
         "normalised_frequency": 0.0025592846961254375,
         "cumulative_frequency": 0.4322460615709288,
         "_deepnote_index_column": 59
        },
        {
         "index": "our",
         "frequency": 540,
         "rank": 61,
         "normalised_frequency": 0.002499120679760825,
         "cumulative_frequency": 0.43474518225068964,
         "_deepnote_index_column": 60
        },
        {
         "index": "just",
         "frequency": 531,
         "rank": 62,
         "normalised_frequency": 0.0024574686684314777,
         "cumulative_frequency": 0.43720265091912114,
         "_deepnote_index_column": 61
        },
        {
         "index": "or",
         "frequency": 519,
         "rank": 63,
         "normalised_frequency": 0.0024019326533256816,
         "cumulative_frequency": 0.4396045835724468,
         "_deepnote_index_column": 62
        },
        {
         "index": "immigration",
         "frequency": 516,
         "rank": 64,
         "normalised_frequency": 0.002388048649549233,
         "cumulative_frequency": 0.44199263222199603,
         "_deepnote_index_column": 63
        },
        {
         "index": "men",
         "frequency": 508,
         "rank": 65,
         "normalised_frequency": 0.002351024639478702,
         "cumulative_frequency": 0.44434365686147476,
         "_deepnote_index_column": 64
        },
        {
         "index": "get",
         "frequency": 501,
         "rank": 66,
         "normalised_frequency": 0.0023186286306669875,
         "cumulative_frequency": 0.44666228549214176,
         "_deepnote_index_column": 65
        },
        {
         "index": "people",
         "frequency": 498,
         "rank": 67,
         "normalised_frequency": 0.0023047446268905387,
         "cumulative_frequency": 0.44896703011903233,
         "_deepnote_index_column": 66
        },
        {
         "index": "migrants",
         "frequency": 495,
         "rank": 68,
         "normalised_frequency": 0.0022908606231140894,
         "cumulative_frequency": 0.4512578907421464,
         "_deepnote_index_column": 67
        },
        {
         "index": "them",
         "frequency": 490,
         "rank": 69,
         "normalised_frequency": 0.002267720616820008,
         "cumulative_frequency": 0.4535256113589664,
         "_deepnote_index_column": 68
        },
        {
         "index": "her",
         "frequency": 489,
         "rank": 70,
         "normalised_frequency": 0.0022630926155611914,
         "cumulative_frequency": 0.4557887039745276,
         "_deepnote_index_column": 69
        },
        {
         "index": "can",
         "frequency": 488,
         "rank": 71,
         "normalised_frequency": 0.002258464614302375,
         "cumulative_frequency": 0.45804716858883,
         "_deepnote_index_column": 70
        },
        {
         "index": "was",
         "frequency": 481,
         "rank": 72,
         "normalised_frequency": 0.0022260686054906605,
         "cumulative_frequency": 0.4602732371943207,
         "_deepnote_index_column": 71
        },
        {
         "index": "an",
         "frequency": 471,
         "rank": 73,
         "normalised_frequency": 0.0021797885929024973,
         "cumulative_frequency": 0.4624530257872232,
         "_deepnote_index_column": 72
        },
        {
         "index": "woman",
         "frequency": 465,
         "rank": 74,
         "normalised_frequency": 0.0021520205853495992,
         "cumulative_frequency": 0.46460504637257277,
         "_deepnote_index_column": 73
        },
        {
         "index": "cunt",
         "frequency": 454,
         "rank": 75,
         "normalised_frequency": 0.0021011125715026196,
         "cumulative_frequency": 0.4667061589440754,
         "_deepnote_index_column": 74
        },
        {
         "index": "rape",
         "frequency": 447,
         "rank": 76,
         "normalised_frequency": 0.002068716562690905,
         "cumulative_frequency": 0.46877487550676633,
         "_deepnote_index_column": 75
        },
        {
         "index": "how",
         "frequency": 444,
         "rank": 77,
         "normalised_frequency": 0.002054832558914456,
         "cumulative_frequency": 0.4708297080656808,
         "_deepnote_index_column": 76
        },
        {
         "index": "more",
         "frequency": 433,
         "rank": 78,
         "normalised_frequency": 0.002003924545067476,
         "cumulative_frequency": 0.4728336326107483,
         "_deepnote_index_column": 77
        },
        {
         "index": "want",
         "frequency": 432,
         "rank": 79,
         "normalised_frequency": 0.00199929654380866,
         "cumulative_frequency": 0.47483292915455694,
         "_deepnote_index_column": 78
        },
        {
         "index": "out",
         "frequency": 431,
         "rank": 80,
         "normalised_frequency": 0.0019946685425498434,
         "cumulative_frequency": 0.4768275976971068,
         "_deepnote_index_column": 79
        },
        {
         "index": "us",
         "frequency": 417,
         "rank": 81,
         "normalised_frequency": 0.0019298765249264147,
         "cumulative_frequency": 0.47875747422203324,
         "_deepnote_index_column": 80
        },
        {
         "index": "go",
         "frequency": 416,
         "rank": 82,
         "normalised_frequency": 0.0019252485236675985,
         "cumulative_frequency": 0.48068272274570084,
         "_deepnote_index_column": 81
        },
        {
         "index": "I",
         "frequency": 414,
         "rank": 83,
         "normalised_frequency": 0.0019159925211499657,
         "cumulative_frequency": 0.48259871526685083,
         "_deepnote_index_column": 82
        },
        {
         "index": "she",
         "frequency": 413,
         "rank": 84,
         "normalised_frequency": 0.0019113645198911495,
         "cumulative_frequency": 0.484510079786742,
         "_deepnote_index_column": 83
        },
        {
         "index": "he",
         "frequency": 404,
         "rank": 85,
         "normalised_frequency": 0.0018697125085618024,
         "cumulative_frequency": 0.4863797922953038,
         "_deepnote_index_column": 84
        },
        {
         "index": "am",
         "frequency": 397,
         "rank": 86,
         "normalised_frequency": 0.001837316499750088,
         "cumulative_frequency": 0.4882171087950539,
         "_deepnote_index_column": 85
        },
        {
         "index": "has",
         "frequency": 395,
         "rank": 87,
         "normalised_frequency": 0.0018280604972324554,
         "cumulative_frequency": 0.49004516929228636,
         "_deepnote_index_column": 86
        },
        {
         "index": "whore",
         "frequency": 393,
         "rank": 88,
         "normalised_frequency": 0.0018188044947148225,
         "cumulative_frequency": 0.4918639737870012,
         "_deepnote_index_column": 87
        },
        {
         "index": "#buildthatwall",
         "frequency": 371,
         "rank": 89,
         "normalised_frequency": 0.001716988467020863,
         "cumulative_frequency": 0.49358096225402204,
         "_deepnote_index_column": 88
        },
        {
         "index": "immigrants",
         "frequency": 364,
         "rank": 90,
         "normalised_frequency": 0.0016845924582091487,
         "cumulative_frequency": 0.49526555471223116,
         "_deepnote_index_column": 89
        },
        {
         "index": "one",
         "frequency": 360,
         "rank": 91,
         "normalised_frequency": 0.0016660804531738833,
         "cumulative_frequency": 0.49693163516540506,
         "_deepnote_index_column": 90
        },
        {
         "index": "fuck",
         "frequency": 354,
         "rank": 92,
         "normalised_frequency": 0.0016383124456209853,
         "cumulative_frequency": 0.498569947611026,
         "_deepnote_index_column": 91
        },
        {
         "index": "would",
         "frequency": 349,
         "rank": 93,
         "normalised_frequency": 0.0016151724393269034,
         "cumulative_frequency": 0.5001851200503529,
         "_deepnote_index_column": 92
        },
        {
         "index": "because",
         "frequency": 345,
         "rank": 94,
         "normalised_frequency": 0.0015966604342916382,
         "cumulative_frequency": 0.5017817804846445,
         "_deepnote_index_column": 93
        },
        {
         "index": "…",
         "frequency": 344,
         "rank": 95,
         "normalised_frequency": 0.0015920324330328218,
         "cumulative_frequency": 0.5033738129176774,
         "_deepnote_index_column": 94
        },
        {
         "index": "why",
         "frequency": 338,
         "rank": 96,
         "normalised_frequency": 0.0015642644254799238,
         "cumulative_frequency": 0.5049380773431573,
         "_deepnote_index_column": 95
        },
        {
         "index": "time",
         "frequency": 337,
         "rank": 97,
         "normalised_frequency": 0.0015596364242211073,
         "cumulative_frequency": 0.5064977137673784,
         "_deepnote_index_column": 96
        },
        {
         "index": "should",
         "frequency": 332,
         "rank": 98,
         "normalised_frequency": 0.0015364964179270257,
         "cumulative_frequency": 0.5080342101853055,
         "_deepnote_index_column": 97
        },
        {
         "index": "now",
         "frequency": 326,
         "rank": 99,
         "normalised_frequency": 0.0015087284103741277,
         "cumulative_frequency": 0.5095429385956796,
         "_deepnote_index_column": 98
        },
        {
         "index": "know",
         "frequency": 316,
         "rank": 100,
         "normalised_frequency": 0.0014624483977859642,
         "cumulative_frequency": 0.5110053869934655,
         "_deepnote_index_column": 99
        }
       ],
       "rows_bottom": [
        {
         "index": "verses",
         "frequency": 1,
         "rank": 18501,
         "normalised_frequency": 0.000004628001258816342,
         "cumulative_frequency": 0.9995418278750166,
         "_deepnote_index_column": 18500
        },
        {
         "index": "fisherman",
         "frequency": 1,
         "rank": 18502,
         "normalised_frequency": 0.000004628001258816342,
         "cumulative_frequency": 0.9995464558762753,
         "_deepnote_index_column": 18501
        },
        {
         "index": "parent-child",
         "frequency": 1,
         "rank": 18503,
         "normalised_frequency": 0.000004628001258816342,
         "cumulative_frequency": 0.9995510838775341,
         "_deepnote_index_column": 18502
        },
        {
         "index": "retiring",
         "frequency": 1,
         "rank": 18504,
         "normalised_frequency": 0.000004628001258816342,
         "cumulative_frequency": 0.9995557118787929,
         "_deepnote_index_column": 18503
        },
        {
         "index": "heir",
         "frequency": 1,
         "rank": 18505,
         "normalised_frequency": 0.000004628001258816342,
         "cumulative_frequency": 0.9995603398800517,
         "_deepnote_index_column": 18504
        },
        {
         "index": "#sextraffickimg",
         "frequency": 1,
         "rank": 18506,
         "normalised_frequency": 0.000004628001258816342,
         "cumulative_frequency": 0.9995649678813104,
         "_deepnote_index_column": 18505
        },
        {
         "index": "#traffickstop",
         "frequency": 1,
         "rank": 18507,
         "normalised_frequency": 0.000004628001258816342,
         "cumulative_frequency": 0.9995695958825692,
         "_deepnote_index_column": 18506
        },
        {
         "index": "#bulldthewall",
         "frequency": 1,
         "rank": 18508,
         "normalised_frequency": 0.000004628001258816342,
         "cumulative_frequency": 0.999574223883828,
         "_deepnote_index_column": 18507
        },
        {
         "index": "#endchainmigrationhere",
         "frequency": 1,
         "rank": 18509,
         "normalised_frequency": 0.000004628001258816342,
         "cumulative_frequency": 0.9995788518850868,
         "_deepnote_index_column": 18508
        },
        {
         "index": "molestation",
         "frequency": 1,
         "rank": 18510,
         "normalised_frequency": 0.000004628001258816342,
         "cumulative_frequency": 0.9995834798863455,
         "_deepnote_index_column": 18509
        },
        {
         "index": "employee",
         "frequency": 1,
         "rank": 18511,
         "normalised_frequency": 0.000004628001258816342,
         "cumulative_frequency": 0.9995881078876043,
         "_deepnote_index_column": 18510
        },
        {
         "index": "slipped",
         "frequency": 1,
         "rank": 18512,
         "normalised_frequency": 0.000004628001258816342,
         "cumulative_frequency": 0.9995927358888631,
         "_deepnote_index_column": 18511
        },
        {
         "index": "camouflaged",
         "frequency": 1,
         "rank": 18513,
         "normalised_frequency": 0.000004628001258816342,
         "cumulative_frequency": 0.9995973638901219,
         "_deepnote_index_column": 18512
        },
        {
         "index": "#8217",
         "frequency": 1,
         "rank": 18514,
         "normalised_frequency": 0.000004628001258816342,
         "cumulative_frequency": 0.9996019918913807,
         "_deepnote_index_column": 18513
        },
        {
         "index": "songbirds",
         "frequency": 1,
         "rank": 18515,
         "normalised_frequency": 0.000004628001258816342,
         "cumulative_frequency": 0.9996066198926394,
         "_deepnote_index_column": 18514
        },
        {
         "index": "overcoming",
         "frequency": 1,
         "rank": 18516,
         "normalised_frequency": 0.000004628001258816342,
         "cumulative_frequency": 0.9996112478938982,
         "_deepnote_index_column": 18515
        },
        {
         "index": "tumor",
         "frequency": 1,
         "rank": 18517,
         "normalised_frequency": 0.000004628001258816342,
         "cumulative_frequency": 0.999615875895157,
         "_deepnote_index_column": 18516
        },
        {
         "index": "cras",
         "frequency": 1,
         "rank": 18518,
         "normalised_frequency": 0.000004628001258816342,
         "cumulative_frequency": 0.9996205038964158,
         "_deepnote_index_column": 18517
        },
        {
         "index": "imperil",
         "frequency": 1,
         "rank": 18519,
         "normalised_frequency": 0.000004628001258816342,
         "cumulative_frequency": 0.9996251318976745,
         "_deepnote_index_column": 18518
        },
        {
         "index": "waist",
         "frequency": 1,
         "rank": 18520,
         "normalised_frequency": 0.000004628001258816342,
         "cumulative_frequency": 0.9996297598989333,
         "_deepnote_index_column": 18519
        },
        {
         "index": "portions",
         "frequency": 1,
         "rank": 18521,
         "normalised_frequency": 0.000004628001258816342,
         "cumulative_frequency": 0.9996343879001921,
         "_deepnote_index_column": 18520
        },
        {
         "index": "capitalism",
         "frequency": 1,
         "rank": 18522,
         "normalised_frequency": 0.000004628001258816342,
         "cumulative_frequency": 0.9996390159014509,
         "_deepnote_index_column": 18521
        },
        {
         "index": "stressors",
         "frequency": 1,
         "rank": 18523,
         "normalised_frequency": 0.000004628001258816342,
         "cumulative_frequency": 0.9996436439027097,
         "_deepnote_index_column": 18522
        },
        {
         "index": "#brooklyn",
         "frequency": 1,
         "rank": 18524,
         "normalised_frequency": 0.000004628001258816342,
         "cumulative_frequency": 0.9996482719039684,
         "_deepnote_index_column": 18523
        },
        {
         "index": "#facesoffounders",
         "frequency": 1,
         "rank": 18525,
         "normalised_frequency": 0.000004628001258816342,
         "cumulative_frequency": 0.9996528999052272,
         "_deepnote_index_column": 18524
        },
        {
         "index": "handcuffed",
         "frequency": 1,
         "rank": 18526,
         "normalised_frequency": 0.000004628001258816342,
         "cumulative_frequency": 0.999657527906486,
         "_deepnote_index_column": 18525
        },
        {
         "index": "solitary",
         "frequency": 1,
         "rank": 18527,
         "normalised_frequency": 0.000004628001258816342,
         "cumulative_frequency": 0.9996621559077448,
         "_deepnote_index_column": 18526
        },
        {
         "index": "confinement",
         "frequency": 1,
         "rank": 18528,
         "normalised_frequency": 0.000004628001258816342,
         "cumulative_frequency": 0.9996667839090035,
         "_deepnote_index_column": 18527
        },
        {
         "index": "shivering",
         "frequency": 1,
         "rank": 18529,
         "normalised_frequency": 0.000004628001258816342,
         "cumulative_frequency": 0.9996714119102623,
         "_deepnote_index_column": 18528
        },
        {
         "index": "#netneutrality",
         "frequency": 1,
         "rank": 18530,
         "normalised_frequency": 0.000004628001258816342,
         "cumulative_frequency": 0.9996760399115211,
         "_deepnote_index_column": 18529
        },
        {
         "index": "underneath",
         "frequency": 1,
         "rank": 18531,
         "normalised_frequency": 0.000004628001258816342,
         "cumulative_frequency": 0.9996806679127799,
         "_deepnote_index_column": 18530
        },
        {
         "index": "defaming",
         "frequency": 1,
         "rank": 18532,
         "normalised_frequency": 0.000004628001258816342,
         "cumulative_frequency": 0.9996852959140387,
         "_deepnote_index_column": 18531
        },
        {
         "index": "3103",
         "frequency": 1,
         "rank": 18533,
         "normalised_frequency": 0.000004628001258816342,
         "cumulative_frequency": 0.9996899239152974,
         "_deepnote_index_column": 18532
        },
        {
         "index": "scraps",
         "frequency": 1,
         "rank": 18534,
         "normalised_frequency": 0.000004628001258816342,
         "cumulative_frequency": 0.9996945519165562,
         "_deepnote_index_column": 18533
        },
        {
         "index": "#ent4all",
         "frequency": 1,
         "rank": 18535,
         "normalised_frequency": 0.000004628001258816342,
         "cumulative_frequency": 0.999699179917815,
         "_deepnote_index_column": 18534
        },
        {
         "index": "3488",
         "frequency": 1,
         "rank": 18536,
         "normalised_frequency": 0.000004628001258816342,
         "cumulative_frequency": 0.9997038079190738,
         "_deepnote_index_column": 18535
        },
        {
         "index": "premier",
         "frequency": 1,
         "rank": 18537,
         "normalised_frequency": 0.000004628001258816342,
         "cumulative_frequency": 0.9997084359203325,
         "_deepnote_index_column": 18536
        },
        {
         "index": "sgut",
         "frequency": 1,
         "rank": 18538,
         "normalised_frequency": 0.000004628001258816342,
         "cumulative_frequency": 0.9997130639215913,
         "_deepnote_index_column": 18537
        },
        {
         "index": "uglyass",
         "frequency": 1,
         "rank": 18539,
         "normalised_frequency": 0.000004628001258816342,
         "cumulative_frequency": 0.9997176919228501,
         "_deepnote_index_column": 18538
        },
        {
         "index": "boyf",
         "frequency": 1,
         "rank": 18540,
         "normalised_frequency": 0.000004628001258816342,
         "cumulative_frequency": 0.9997223199241089,
         "_deepnote_index_column": 18539
        },
        {
         "index": "yu",
         "frequency": 1,
         "rank": 18541,
         "normalised_frequency": 0.000004628001258816342,
         "cumulative_frequency": 0.9997269479253676,
         "_deepnote_index_column": 18540
        },
        {
         "index": "shitshow",
         "frequency": 1,
         "rank": 18542,
         "normalised_frequency": 0.000004628001258816342,
         "cumulative_frequency": 0.9997315759266264,
         "_deepnote_index_column": 18541
        },
        {
         "index": "sung",
         "frequency": 1,
         "rank": 18543,
         "normalised_frequency": 0.000004628001258816342,
         "cumulative_frequency": 0.9997362039278852,
         "_deepnote_index_column": 18542
        },
        {
         "index": "intend",
         "frequency": 1,
         "rank": 18544,
         "normalised_frequency": 0.000004628001258816342,
         "cumulative_frequency": 0.999740831929144,
         "_deepnote_index_column": 18543
        },
        {
         "index": "#russiagate",
         "frequency": 1,
         "rank": 18545,
         "normalised_frequency": 0.000004628001258816342,
         "cumulative_frequency": 0.9997454599304028,
         "_deepnote_index_column": 18544
        },
        {
         "index": "councillor",
         "frequency": 1,
         "rank": 18546,
         "normalised_frequency": 0.000004628001258816342,
         "cumulative_frequency": 0.9997500879316615,
         "_deepnote_index_column": 18545
        },
        {
         "index": "#femalefounders",
         "frequency": 1,
         "rank": 18547,
         "normalised_frequency": 0.000004628001258816342,
         "cumulative_frequency": 0.9997547159329203,
         "_deepnote_index_column": 18546
        },
        {
         "index": "giorgio",
         "frequency": 1,
         "rank": 18548,
         "normalised_frequency": 0.000004628001258816342,
         "cumulative_frequency": 0.9997593439341791,
         "_deepnote_index_column": 18547
        },
        {
         "index": "mammoliti",
         "frequency": 1,
         "rank": 18549,
         "normalised_frequency": 0.000004628001258816342,
         "cumulative_frequency": 0.9997639719354379,
         "_deepnote_index_column": 18548
        },
        {
         "index": "dawn",
         "frequency": 1,
         "rank": 18550,
         "normalised_frequency": 0.000004628001258816342,
         "cumulative_frequency": 0.9997685999366966,
         "_deepnote_index_column": 18549
        },
        {
         "index": "adam",
         "frequency": 1,
         "rank": 18551,
         "normalised_frequency": 0.000004628001258816342,
         "cumulative_frequency": 0.9997732279379554,
         "_deepnote_index_column": 18550
        },
        {
         "index": "vaughan",
         "frequency": 1,
         "rank": 18552,
         "normalised_frequency": 0.000004628001258816342,
         "cumulative_frequency": 0.9997778559392142,
         "_deepnote_index_column": 18551
        },
        {
         "index": "#tocouncil",
         "frequency": 1,
         "rank": 18553,
         "normalised_frequency": 0.000004628001258816342,
         "cumulative_frequency": 0.999782483940473,
         "_deepnote_index_column": 18552
        },
        {
         "index": "#topoli",
         "frequency": 1,
         "rank": 18554,
         "normalised_frequency": 0.000004628001258816342,
         "cumulative_frequency": 0.9997871119417318,
         "_deepnote_index_column": 18553
        },
        {
         "index": "#voteoutthedems",
         "frequency": 1,
         "rank": 18555,
         "normalised_frequency": 0.000004628001258816342,
         "cumulative_frequency": 0.9997917399429905,
         "_deepnote_index_column": 18554
        },
        {
         "index": "3109",
         "frequency": 1,
         "rank": 18556,
         "normalised_frequency": 0.000004628001258816342,
         "cumulative_frequency": 0.9997963679442493,
         "_deepnote_index_column": 18555
        },
        {
         "index": "ay",
         "frequency": 1,
         "rank": 18557,
         "normalised_frequency": 0.000004628001258816342,
         "cumulative_frequency": 0.9998009959455081,
         "_deepnote_index_column": 18556
        },
        {
         "index": "ravaged",
         "frequency": 1,
         "rank": 18558,
         "normalised_frequency": 0.000004628001258816342,
         "cumulative_frequency": 0.9998056239467669,
         "_deepnote_index_column": 18557
        },
        {
         "index": "hobedi@wr.org",
         "frequency": 1,
         "rank": 18559,
         "normalised_frequency": 0.000004628001258816342,
         "cumulative_frequency": 0.9998102519480256,
         "_deepnote_index_column": 18558
        },
        {
         "index": "kuo's",
         "frequency": 1,
         "rank": 18560,
         "normalised_frequency": 0.000004628001258816342,
         "cumulative_frequency": 0.9998148799492844,
         "_deepnote_index_column": 18559
        },
        {
         "index": "writer",
         "frequency": 1,
         "rank": 18561,
         "normalised_frequency": 0.000004628001258816342,
         "cumulative_frequency": 0.9998195079505432,
         "_deepnote_index_column": 18560
        },
        {
         "index": "overcame",
         "frequency": 1,
         "rank": 18562,
         "normalised_frequency": 0.000004628001258816342,
         "cumulative_frequency": 0.999824135951802,
         "_deepnote_index_column": 18561
        },
        {
         "index": "#asianamerican",
         "frequency": 1,
         "rank": 18563,
         "normalised_frequency": 0.000004628001258816342,
         "cumulative_frequency": 0.9998287639530608,
         "_deepnote_index_column": 18562
        },
        {
         "index": "#qwoc",
         "frequency": 1,
         "rank": 18564,
         "normalised_frequency": 0.000004628001258816342,
         "cumulative_frequency": 0.9998333919543195,
         "_deepnote_index_column": 18563
        },
        {
         "index": "#femalefilmmaker",
         "frequency": 1,
         "rank": 18565,
         "normalised_frequency": 0.000004628001258816342,
         "cumulative_frequency": 0.9998380199555783,
         "_deepnote_index_column": 18564
        },
        {
         "index": "#supportindiefilms",
         "frequency": 1,
         "rank": 18566,
         "normalised_frequency": 0.000004628001258816342,
         "cumulative_frequency": 0.9998426479568371,
         "_deepnote_index_column": 18565
        },
        {
         "index": "navigating",
         "frequency": 1,
         "rank": 18567,
         "normalised_frequency": 0.000004628001258816342,
         "cumulative_frequency": 0.9998472759580959,
         "_deepnote_index_column": 18566
        },
        {
         "index": "#guwop",
         "frequency": 1,
         "rank": 18568,
         "normalised_frequency": 0.000004628001258816342,
         "cumulative_frequency": 0.9998519039593546,
         "_deepnote_index_column": 18567
        },
        {
         "index": "becuz",
         "frequency": 1,
         "rank": 18569,
         "normalised_frequency": 0.000004628001258816342,
         "cumulative_frequency": 0.9998565319606134,
         "_deepnote_index_column": 18568
        },
        {
         "index": "gut-wrenching",
         "frequency": 1,
         "rank": 18570,
         "normalised_frequency": 0.000004628001258816342,
         "cumulative_frequency": 0.9998611599618722,
         "_deepnote_index_column": 18569
        },
        {
         "index": "sham",
         "frequency": 1,
         "rank": 18571,
         "normalised_frequency": 0.000004628001258816342,
         "cumulative_frequency": 0.999865787963131,
         "_deepnote_index_column": 18570
        },
        {
         "index": "englan",
         "frequency": 1,
         "rank": 18572,
         "normalised_frequency": 0.000004628001258816342,
         "cumulative_frequency": 0.9998704159643897,
         "_deepnote_index_column": 18571
        },
        {
         "index": "2cthey",
         "frequency": 1,
         "rank": 18573,
         "normalised_frequency": 0.000004628001258816342,
         "cumulative_frequency": 0.9998750439656485,
         "_deepnote_index_column": 18572
        },
        {
         "index": "2gain",
         "frequency": 1,
         "rank": 18574,
         "normalised_frequency": 0.000004628001258816342,
         "cumulative_frequency": 0.9998796719669073,
         "_deepnote_index_column": 18573
        },
        {
         "index": "dialogues",
         "frequency": 1,
         "rank": 18575,
         "normalised_frequency": 0.000004628001258816342,
         "cumulative_frequency": 0.9998842999681661,
         "_deepnote_index_column": 18574
        },
        {
         "index": "harressment",
         "frequency": 1,
         "rank": 18576,
         "normalised_frequency": 0.000004628001258816342,
         "cumulative_frequency": 0.9998889279694249,
         "_deepnote_index_column": 18575
        },
        {
         "index": "bash",
         "frequency": 1,
         "rank": 18577,
         "normalised_frequency": 0.000004628001258816342,
         "cumulative_frequency": 0.9998935559706836,
         "_deepnote_index_column": 18576
        },
        {
         "index": "orgies",
         "frequency": 1,
         "rank": 18578,
         "normalised_frequency": 0.000004628001258816342,
         "cumulative_frequency": 0.9998981839719424,
         "_deepnote_index_column": 18577
        },
        {
         "index": "panny",
         "frequency": 1,
         "rank": 18579,
         "normalised_frequency": 0.000004628001258816342,
         "cumulative_frequency": 0.9999028119732012,
         "_deepnote_index_column": 18578
        },
        {
         "index": "sticking",
         "frequency": 1,
         "rank": 18580,
         "normalised_frequency": 0.000004628001258816342,
         "cumulative_frequency": 0.99990743997446,
         "_deepnote_index_column": 18579
        },
        {
         "index": "commies",
         "frequency": 1,
         "rank": 18581,
         "normalised_frequency": 0.000004628001258816342,
         "cumulative_frequency": 0.9999120679757187,
         "_deepnote_index_column": 18580
        },
        {
         "index": "pests",
         "frequency": 1,
         "rank": 18582,
         "normalised_frequency": 0.000004628001258816342,
         "cumulative_frequency": 0.9999166959769775,
         "_deepnote_index_column": 18581
        },
        {
         "index": "snakes",
         "frequency": 1,
         "rank": 18583,
         "normalised_frequency": 0.000004628001258816342,
         "cumulative_frequency": 0.9999213239782363,
         "_deepnote_index_column": 18582
        },
        {
         "index": "vermin",
         "frequency": 1,
         "rank": 18584,
         "normalised_frequency": 0.000004628001258816342,
         "cumulative_frequency": 0.9999259519794951,
         "_deepnote_index_column": 18583
        },
        {
         "index": "#marr",
         "frequency": 1,
         "rank": 18585,
         "normalised_frequency": 0.000004628001258816342,
         "cumulative_frequency": 0.9999305799807539,
         "_deepnote_index_column": 18584
        },
        {
         "index": "presented",
         "frequency": 1,
         "rank": 18586,
         "normalised_frequency": 0.000004628001258816342,
         "cumulative_frequency": 0.9999352079820126,
         "_deepnote_index_column": 18585
        },
        {
         "index": "5-10",
         "frequency": 1,
         "rank": 18587,
         "normalised_frequency": 0.000004628001258816342,
         "cumulative_frequency": 0.9999398359832714,
         "_deepnote_index_column": 18586
        },
        {
         "index": "throes",
         "frequency": 1,
         "rank": 18588,
         "normalised_frequency": 0.000004628001258816342,
         "cumulative_frequency": 0.9999444639845302,
         "_deepnote_index_column": 18587
        },
        {
         "index": "louder",
         "frequency": 1,
         "rank": 18589,
         "normalised_frequency": 0.000004628001258816342,
         "cumulative_frequency": 0.999949091985789,
         "_deepnote_index_column": 18588
        },
        {
         "index": "#howdoyoulikeusnow",
         "frequency": 1,
         "rank": 18590,
         "normalised_frequency": 0.000004628001258816342,
         "cumulative_frequency": 0.9999537199870477,
         "_deepnote_index_column": 18589
        },
        {
         "index": "#bloodycat",
         "frequency": 1,
         "rank": 18591,
         "normalised_frequency": 0.000004628001258816342,
         "cumulative_frequency": 0.9999583479883065,
         "_deepnote_index_column": 18590
        },
        {
         "index": "🤕",
         "frequency": 1,
         "rank": 18592,
         "normalised_frequency": 0.000004628001258816342,
         "cumulative_frequency": 0.9999629759895653,
         "_deepnote_index_column": 18591
        },
        {
         "index": "photoshopped",
         "frequency": 1,
         "rank": 18593,
         "normalised_frequency": 0.000004628001258816342,
         "cumulative_frequency": 0.9999676039908241,
         "_deepnote_index_column": 18592
        },
        {
         "index": "badass",
         "frequency": 1,
         "rank": 18594,
         "normalised_frequency": 0.000004628001258816342,
         "cumulative_frequency": 0.9999722319920828,
         "_deepnote_index_column": 18593
        },
        {
         "index": "romansh",
         "frequency": 1,
         "rank": 18595,
         "normalised_frequency": 0.000004628001258816342,
         "cumulative_frequency": 0.9999768599933416,
         "_deepnote_index_column": 18594
        },
        {
         "index": "weren",
         "frequency": 1,
         "rank": 18596,
         "normalised_frequency": 0.000004628001258816342,
         "cumulative_frequency": 0.9999814879946004,
         "_deepnote_index_column": 18595
        },
        {
         "index": "miaow-miaow-miaow",
         "frequency": 1,
         "rank": 18597,
         "normalised_frequency": 0.000004628001258816342,
         "cumulative_frequency": 0.9999861159958592,
         "_deepnote_index_column": 18596
        },
        {
         "index": "aaaaw",
         "frequency": 1,
         "rank": 18598,
         "normalised_frequency": 0.000004628001258816342,
         "cumulative_frequency": 0.999990743997118,
         "_deepnote_index_column": 18597
        },
        {
         "index": "food-hole",
         "frequency": 1,
         "rank": 18599,
         "normalised_frequency": 0.000004628001258816342,
         "cumulative_frequency": 0.9999953719983767,
         "_deepnote_index_column": 18598
        },
        {
         "index": "pic.why",
         "frequency": 1,
         "rank": 18600,
         "normalised_frequency": 0.000004628001258816342,
         "cumulative_frequency": 0.9999999999996355,
         "_deepnote_index_column": 18599
        }
       ]
      },
      "text/plain": "                   index  frequency   rank  normalised_frequency  \\\n0                      .       6277      1              0.029050   \n1                  @user       6014      2              0.027833   \n2                    the       5492      3              0.025417   \n3                     to       4931      4              0.022821   \n4                      ,       4356      5              0.020160   \n...                  ...        ...    ...                   ...   \n18595              weren          1  18596              0.000005   \n18596  miaow-miaow-miaow          1  18597              0.000005   \n18597              aaaaw          1  18598              0.000005   \n18598          food-hole          1  18599              0.000005   \n18599            pic.why          1  18600              0.000005   \n\n       cumulative_frequency  \n0                  0.029050  \n1                  0.056883  \n2                  0.082300  \n3                  0.105120  \n4                  0.125280  \n...                     ...  \n18595              0.999981  \n18596              0.999986  \n18597              0.999991  \n18598              0.999995  \n18599              1.000000  \n\n[18600 rows x 5 columns]",
      "text/html": "<div>\n<style scoped>\n    .dataframe tbody tr th:only-of-type {\n        vertical-align: middle;\n    }\n\n    .dataframe tbody tr th {\n        vertical-align: top;\n    }\n\n    .dataframe thead th {\n        text-align: right;\n    }\n</style>\n<table border=\"1\" class=\"dataframe\">\n  <thead>\n    <tr style=\"text-align: right;\">\n      <th></th>\n      <th>index</th>\n      <th>frequency</th>\n      <th>rank</th>\n      <th>normalised_frequency</th>\n      <th>cumulative_frequency</th>\n    </tr>\n  </thead>\n  <tbody>\n    <tr>\n      <th>0</th>\n      <td>.</td>\n      <td>6277</td>\n      <td>1</td>\n      <td>0.029050</td>\n      <td>0.029050</td>\n    </tr>\n    <tr>\n      <th>1</th>\n      <td>@user</td>\n      <td>6014</td>\n      <td>2</td>\n      <td>0.027833</td>\n      <td>0.056883</td>\n    </tr>\n    <tr>\n      <th>2</th>\n      <td>the</td>\n      <td>5492</td>\n      <td>3</td>\n      <td>0.025417</td>\n      <td>0.082300</td>\n    </tr>\n    <tr>\n      <th>3</th>\n      <td>to</td>\n      <td>4931</td>\n      <td>4</td>\n      <td>0.022821</td>\n      <td>0.105120</td>\n    </tr>\n    <tr>\n      <th>4</th>\n      <td>,</td>\n      <td>4356</td>\n      <td>5</td>\n      <td>0.020160</td>\n      <td>0.125280</td>\n    </tr>\n    <tr>\n      <th>...</th>\n      <td>...</td>\n      <td>...</td>\n      <td>...</td>\n      <td>...</td>\n      <td>...</td>\n    </tr>\n    <tr>\n      <th>18595</th>\n      <td>weren</td>\n      <td>1</td>\n      <td>18596</td>\n      <td>0.000005</td>\n      <td>0.999981</td>\n    </tr>\n    <tr>\n      <th>18596</th>\n      <td>miaow-miaow-miaow</td>\n      <td>1</td>\n      <td>18597</td>\n      <td>0.000005</td>\n      <td>0.999986</td>\n    </tr>\n    <tr>\n      <th>18597</th>\n      <td>aaaaw</td>\n      <td>1</td>\n      <td>18598</td>\n      <td>0.000005</td>\n      <td>0.999991</td>\n    </tr>\n    <tr>\n      <th>18598</th>\n      <td>food-hole</td>\n      <td>1</td>\n      <td>18599</td>\n      <td>0.000005</td>\n      <td>0.999995</td>\n    </tr>\n    <tr>\n      <th>18599</th>\n      <td>pic.why</td>\n      <td>1</td>\n      <td>18600</td>\n      <td>0.000005</td>\n      <td>1.000000</td>\n    </tr>\n  </tbody>\n</table>\n<p>18600 rows × 5 columns</p>\n</div>"
     },
     "metadata": {}
    }
   ]
  },
  {
   "cell_type": "markdown",
   "source": "## Hate Plots",
   "metadata": {
    "cell_id": "00046-7c9fef28-200d-494f-b96d-c48da9560645",
    "tags": [],
    "deepnote_cell_type": "markdown"
   }
  },
  {
   "cell_type": "code",
   "metadata": {
    "cell_id": "00047-55fe270c-7dbf-4329-91e6-1e349967f510",
    "deepnote_to_be_reexecuted": false,
    "execution_millis": 183,
    "execution_start": 1622364936361,
    "output_cleared": false,
    "source_hash": "a043a749",
    "tags": [],
    "deepnote_cell_type": "code"
   },
   "source": "#dict(Counter(VOCABULARY['hate']['frequency']))\nimport math\nfrequency, frequency_of_frequency = np.unique(VOCABULARY['hate']['frequency'], return_counts=True)\nfig, ax = plt.subplots()\nax.scatter([math.log(f) for f in frequency], [math.log(f) for f in frequency_of_frequency],s=0.5)",
   "execution_count": 31,
   "outputs": [
    {
     "output_type": "execute_result",
     "execution_count": 31,
     "data": {
      "text/plain": "<matplotlib.collections.PathCollection at 0x7f9d5c513c10>"
     },
     "metadata": {}
    },
    {
     "data": {
      "text/plain": "<Figure size 432x288 with 1 Axes>",
      "image/png": "[encoded data removed]"
     },
     "metadata": {
      "needs_background": "light",
      "image/png": {
       "width": 362,
       "height": 248
      }
     },
     "output_type": "display_data"
    }
   ]
  },
  {
   "cell_type": "code",
   "metadata": {
    "cell_id": "00045-a562d74f-2f2c-4791-9584-2f04196769f7",
    "deepnote_to_be_reexecuted": false,
    "execution_millis": 2756,
    "execution_start": 1622364936539,
    "output_cleared": false,
    "source_hash": "9b0afc9c",
    "tags": [],
    "deepnote_cell_type": "code"
   },
   "source": "# plots\nsns.set_theme(style='whitegrid')\n\n# Plot: Cumulative frequency by index\nsns.relplot(x='rank', y='cumulative_frequency', data=VOCABULARY['hate'], kind='line')\nsns.relplot(x='rank', y='cumulative_frequency', data=VOCABULARY['hate'][:2000], kind='line') # Cumulative frequency by index, top 10000 tokens\n\n# Plot: Log-log plot for Zipf's law\n#frq['log_frq'] = numpy.log(frq.frequency)\n#frq['log_rank'] = numpy.log(frq.frequency.rank(ascending=True))\n#seaborn.relp",
   "execution_count": 32,
   "outputs": [
    {
     "output_type": "execute_result",
     "execution_count": 32,
     "data": {
      "text/plain": "<seaborn.axisgrid.FacetGrid at 0x7f9d5d929c10>"
     },
     "metadata": {}
    },
    {
     "data": {
      "text/plain": "<Figure size 360x360 with 1 Axes>",
      "image/png": "[encoded data removed]"
     },
     "metadata": {
      "image/png": {
       "width": 365,
       "height": 365
      }
     },
     "output_type": "display_data"
    },
    {
     "data": {
      "text/plain": "<Figure size 360x360 with 1 Axes>",
      "image/png": "[encoded data removed]"
     },
     "metadata": {
      "image/png": {
       "width": 365,
       "height": 365
      }
     },
     "output_type": "display_data"
    }
   ]
  },
  {
   "cell_type": "code",
   "metadata": {
    "cell_id": "00051-d2c0bd6d-7e5a-4aa4-989f-07068434c1fc",
    "deepnote_to_be_reexecuted": false,
    "execution_millis": 245,
    "execution_start": 1622364939354,
    "output_cleared": false,
    "source_hash": "c5d39fe3",
    "tags": [],
    "deepnote_cell_type": "code"
   },
   "source": "# frequency plot (rank/ frequency)\nfig, ax = plt.subplots()\nax.scatter(VOCABULARY['hate']['rank'], VOCABULARY['hate']['frequency'],  s=2);\nax.set_title('Frequency Plot'); ax.set_xlabel('Rank'); ax.set_ylabel('Frequency');",
   "execution_count": 33,
   "outputs": [
    {
     "data": {
      "text/plain": "<Figure size 432x288 with 1 Axes>",
      "image/png": "[encoded data removed]"
     },
     "metadata": {
      "image/png": {
       "width": 403,
       "height": 284
      }
     },
     "output_type": "display_data"
    }
   ]
  },
  {
   "cell_type": "code",
   "metadata": {
    "cell_id": "00050-27ede284-d642-4c79-97d5-d69b0df6d717",
    "deepnote_to_be_reexecuted": false,
    "execution_millis": 266,
    "execution_start": 1622364939624,
    "output_cleared": false,
    "source_hash": "35529072",
    "tags": [],
    "deepnote_cell_type": "code"
   },
   "source": "# log-log plot for zipf's law\nfig, ax = plt.subplots()\nplt.scatter(np.log(VOCABULARY['hate']['rank']), np.log(VOCABULARY['hate']['frequency']), s=15,marker=\".\")\nax.set_title(\"Log-Log Frequency Plot (Visualising Zipf'Law)\"); ax.set_xlabel('Rank (Log)'); ax.set_ylabel('Frequency (Log)');",
   "execution_count": 34,
   "outputs": [
    {
     "data": {
      "text/plain": "<Figure size 432x288 with 1 Axes>",
      "image/png": "[encoded data removed]"
     },
     "metadata": {
      "image/png": {
       "width": 382,
       "height": 284
      }
     },
     "output_type": "display_data"
    }
   ]
  },
  {
   "cell_type": "markdown",
   "source": "## Emotional Plots",
   "metadata": {
    "cell_id": "00048-0061151a-0e2e-4417-af54-813e14c015de",
    "tags": [],
    "deepnote_cell_type": "markdown"
   }
  },
  {
   "cell_type": "code",
   "metadata": {
    "cell_id": "00045-4ab344ce-ccd0-464b-9e52-86f362864b29",
    "deepnote_to_be_reexecuted": false,
    "execution_millis": 5,
    "execution_start": 1622364939931,
    "output_cleared": true,
    "source_hash": "77e6b1ff",
    "tags": [],
    "deepnote_cell_type": "code"
   },
   "source": "one_occurance=VOCABULARY['hate']['frequency']==1",
   "execution_count": 35,
   "outputs": []
  },
  {
   "cell_type": "code",
   "metadata": {
    "cell_id": "00046-77715214-bd39-43d0-9f31-ecb127f58947",
    "deepnote_to_be_reexecuted": false,
    "execution_millis": 0,
    "execution_start": 1622364939932,
    "output_cleared": true,
    "source_hash": "4f3c6e68",
    "tags": [],
    "deepnote_cell_type": "code"
   },
   "source": "#VOCABULARY['hate'][one_occurance]",
   "execution_count": 36,
   "outputs": []
  },
  {
   "cell_type": "markdown",
   "source": "*TASK 2*\n# XXX\n---",
   "metadata": {
    "cell_id": "00012-f7ed8c9e-4e5c-4499-8cbd-bc465deeb219",
    "tags": [],
    "deepnote_cell_type": "markdown"
   }
  },
  {
   "cell_type": "code",
   "metadata": {
    "cell_id": "00015-c0d67151-ed60-49d4-822d-0806e71831bc",
    "deepnote_to_be_reexecuted": false,
    "execution_millis": 0,
    "execution_start": 1622364939932,
    "output_cleared": true,
    "source_hash": "5cd17fc",
    "tags": [],
    "deepnote_cell_type": "code"
   },
   "source": "# some code",
   "execution_count": 37,
   "outputs": []
  },
  {
   "cell_type": "markdown",
   "source": "## Exercise 2",
   "metadata": {
    "cell_id": "00056-e968357f-470b-4e57-b721-9add3729ae71",
    "tags": [],
    "deepnote_cell_type": "markdown"
   }
  },
  {
   "cell_type": "code",
   "metadata": {
    "cell_id": "00058-8d948cde-2e02-4c37-bc16-fbe8682c2d39",
    "deepnote_to_be_reexecuted": false,
    "execution_millis": 17,
    "execution_start": 1622364939933,
    "source_hash": "3b353218",
    "tags": [],
    "deepnote_cell_type": "code"
   },
   "source": "from nltk.util import bigrams\nlist(bigrams(DATA['processed'][\"emotion\"][\"train_text\"][0]))",
   "execution_count": 38,
   "outputs": [
    {
     "output_type": "execute_result",
     "execution_count": 38,
     "data": {
      "text/plain": "[('“', 'worry'),\n ('worry', 'is'),\n ('is', 'a'),\n ('a', 'down'),\n ('down', 'payment'),\n ('payment', 'on'),\n ('on', 'a'),\n ('a', 'problem'),\n ('problem', 'you'),\n ('you', 'may'),\n ('may', 'never'),\n ('never', 'have'),\n ('have', \"'\"),\n (\"'\", '.'),\n ('.', 'joyce'),\n ('joyce', 'meyer'),\n ('meyer', '.'),\n ('.', '#motivation'),\n ('#motivation', '#leadership'),\n ('#leadership', '#worry')]"
     },
     "metadata": {}
    }
   ]
  },
  {
   "cell_type": "code",
   "metadata": {
    "cell_id": "00057-bff8f6ef-d98d-4a90-af0f-d94d70c9b886",
    "deepnote_to_be_reexecuted": false,
    "execution_millis": 9,
    "execution_start": 1622364939941,
    "source_hash": "308c1320",
    "tags": [],
    "deepnote_cell_type": "code"
   },
   "source": "#Adds A <s> to before the first word to indicate that it's the start and an </s> to the end the word to do it\nfrom nltk.util import pad_sequence\nlist(pad_sequence(DATA['processed'][\"emotion\"][\"train_text\"][0],\npad_left=True,\nleft_pad_symbol=\"<s>\",\npad_right=True,\nright_pad_symbol=\"</s>\",\nn=2))",
   "execution_count": 39,
   "outputs": [
    {
     "output_type": "execute_result",
     "execution_count": 39,
     "data": {
      "text/plain": "['<s>',\n '“',\n 'worry',\n 'is',\n 'a',\n 'down',\n 'payment',\n 'on',\n 'a',\n 'problem',\n 'you',\n 'may',\n 'never',\n 'have',\n \"'\",\n '.',\n 'joyce',\n 'meyer',\n '.',\n '#motivation',\n '#leadership',\n '#worry',\n '</s>']"
     },
     "metadata": {}
    }
   ]
  },
  {
   "cell_type": "code",
   "metadata": {
    "cell_id": "00060-cea7d2d0-0bf4-4fac-8bc2-b7cdf2a772a0",
    "deepnote_to_be_reexecuted": false,
    "execution_millis": 10,
    "execution_start": 1622364939986,
    "source_hash": "32bfc397",
    "tags": [],
    "deepnote_cell_type": "code"
   },
   "source": "from nltk.lm.preprocessing import pad_both_ends\nlist(pad_both_ends(DATA['processed'][\"emotion\"][\"train_text\"][0], n=2))",
   "execution_count": 40,
   "outputs": [
    {
     "output_type": "execute_result",
     "execution_count": 40,
     "data": {
      "text/plain": "['<s>',\n '“',\n 'worry',\n 'is',\n 'a',\n 'down',\n 'payment',\n 'on',\n 'a',\n 'problem',\n 'you',\n 'may',\n 'never',\n 'have',\n \"'\",\n '.',\n 'joyce',\n 'meyer',\n '.',\n '#motivation',\n '#leadership',\n '#worry',\n '</s>']"
     },
     "metadata": {}
    }
   ]
  },
  {
   "cell_type": "code",
   "metadata": {
    "cell_id": "00061-afefc8ce-f79b-4771-9b31-01878b257a7b",
    "deepnote_to_be_reexecuted": false,
    "execution_millis": 9,
    "execution_start": 1622364939987,
    "source_hash": "33d61cfe",
    "tags": [],
    "deepnote_cell_type": "code"
   },
   "source": "list(bigrams(pad_both_ends(DATA['processed'][\"emotion\"][\"train_text\"][0], n=2)))",
   "execution_count": 41,
   "outputs": [
    {
     "output_type": "execute_result",
     "execution_count": 41,
     "data": {
      "text/plain": "[('<s>', '“'),\n ('“', 'worry'),\n ('worry', 'is'),\n ('is', 'a'),\n ('a', 'down'),\n ('down', 'payment'),\n ('payment', 'on'),\n ('on', 'a'),\n ('a', 'problem'),\n ('problem', 'you'),\n ('you', 'may'),\n ('may', 'never'),\n ('never', 'have'),\n ('have', \"'\"),\n (\"'\", '.'),\n ('.', 'joyce'),\n ('joyce', 'meyer'),\n ('meyer', '.'),\n ('.', '#motivation'),\n ('#motivation', '#leadership'),\n ('#leadership', '#worry'),\n ('#worry', '</s>')]"
     },
     "metadata": {}
    }
   ]
  },
  {
   "cell_type": "code",
   "metadata": {
    "cell_id": "00061-87f200f6-4a5c-4dd1-8c0f-8066ca235162",
    "deepnote_to_be_reexecuted": false,
    "execution_millis": 11,
    "execution_start": 1622364939997,
    "source_hash": "35ff05f",
    "tags": [],
    "deepnote_cell_type": "code"
   },
   "source": "from nltk.lm.preprocessing import flatten\nlist(flatten(pad_both_ends(sent, n=2) for sent in DATA['processed'][\"emotion\"][\"train_text\"][:100]))",
   "execution_count": 42,
   "outputs": [
    {
     "output_type": "execute_result",
     "execution_count": 42,
     "data": {
      "text/plain": "['<s>',\n '“',\n 'worry',\n 'is',\n 'a',\n 'down',\n 'payment',\n 'on',\n 'a',\n 'problem',\n 'you',\n 'may',\n 'never',\n 'have',\n \"'\",\n '.',\n 'joyce',\n 'meyer',\n '.',\n '#motivation',\n '#leadership',\n '#worry',\n '</s>',\n '<s>',\n 'my',\n 'roommate',\n ':',\n 'it',\n 'is',\n 'okay',\n 'that',\n 'we',\n 'cannot',\n 'spell',\n 'because',\n 'we',\n 'have',\n 'autocorrect',\n '.',\n '#terrible',\n '#firstworldprobs',\n '</s>',\n '<s>',\n 'no',\n 'but',\n 'that',\n 'is',\n 'so',\n 'cute',\n '.',\n 'atsu',\n 'was',\n 'probably',\n 'shy',\n 'about',\n 'photos',\n 'before',\n 'but',\n 'cherry',\n 'helped',\n 'her',\n 'out',\n 'uwu',\n '</s>',\n '<s>',\n 'rooneys',\n 'fucking',\n 'untouchable',\n 'is',\n 'not',\n 'he',\n '?',\n 'been',\n 'fucking',\n 'dreadful',\n 'again',\n ',',\n 'depay',\n 'has',\n 'looked',\n 'decent',\n '(',\n 'ish',\n ')',\n 'tonight',\n '</s>',\n '<s>',\n 'it',\n 'is',\n 'pretty',\n 'depressing',\n 'when',\n 'you',\n 'hit',\n 'pan',\n 'on',\n 'ur',\n 'favourite',\n 'highlighter',\n '</s>',\n '<s>',\n '@user',\n 'but',\n 'your',\n 'pussy',\n 'was',\n 'weak',\n 'from',\n 'what',\n 'i',\n 'heard',\n 'so',\n 'stfu',\n 'up',\n 'to',\n 'me',\n 'bitch',\n '.',\n 'you',\n 'got',\n 'to',\n 'threaten',\n 'him',\n 'that',\n 'your',\n 'pregnant',\n '.',\n '</s>',\n '<s>',\n 'making',\n 'that',\n 'yearly',\n 'transition',\n 'from',\n 'excited',\n 'and',\n 'hopeful',\n 'college',\n 'returner',\n 'to',\n 'sick',\n 'and',\n 'exhausted',\n 'pessimist',\n '.',\n '#college',\n '</s>',\n '<s>',\n 'tiller',\n 'and',\n 'breezy',\n 'should',\n 'do',\n 'a',\n 'collab',\n 'album',\n '.',\n 'rapping',\n 'and',\n 'singing',\n 'prolly',\n 'be',\n 'fire',\n '</s>',\n '<s>',\n '@user',\n 'broadband',\n 'is',\n 'shocking',\n 'regretting',\n 'signing',\n 'up',\n 'now',\n '#angry',\n '#shouldofgonewithvirgin',\n '</s>',\n '<s>',\n '@user',\n 'look',\n 'at',\n 'those',\n 'teef',\n '!',\n '#growl',\n '</s>',\n '<s>',\n '@user',\n '@user',\n 'usa',\n 'was',\n 'embarrassing',\n 'to',\n 'watch',\n '.',\n 'when',\n 'was',\n 'the',\n 'last',\n 'time',\n 'you',\n 'guys',\n 'won',\n 'a',\n 'game',\n '..',\n '?',\n '#horrible',\n '#joke',\n '</s>',\n '<s>',\n '#newyork',\n ':',\n 'several',\n '#baloch',\n '&',\n 'indian',\n 'activists',\n 'hold',\n 'demonstrations',\n 'outside',\n '@user',\n 'headquarters',\n 'demanding',\n 'pak',\n 'to',\n 'stop',\n 'exporting',\n '#terror',\n 'into',\n 'india',\n '</s>',\n '<s>',\n 'your',\n 'glee',\n 'filled',\n 'normy',\n 'dry',\n 'humping',\n 'of',\n 'the',\n 'most',\n 'recent',\n 'high',\n 'profile',\n 'celebrity',\n 'break',\n 'up',\n 'is',\n 'pathetic',\n '&',\n 'all',\n 'that',\n 'is',\n 'wrong',\n 'with',\n 'the',\n 'world',\n 'today',\n '.',\n '</s>',\n '<s>',\n 'what',\n 'a',\n 'fucking',\n 'muppet',\n '.',\n '@user',\n '#stalker',\n '.',\n '</s>',\n '<s>',\n 'autocorrect',\n 'changes',\n \"'\",\n \"'\",\n 'em',\n \"'\",\n 'to',\n \"'\",\n 'me',\n \"'\",\n 'which',\n 'i',\n 'resent',\n 'greatly',\n '</s>',\n '<s>',\n '@user',\n 'i',\n 'would',\n 'never',\n 'strategically',\n 'vote',\n 'for',\n 'someone',\n 'i',\n 'do',\n 'not',\n 'agree',\n 'with',\n '.',\n 'a',\n 'lot',\n 'of',\n 'the',\n 'clinton',\n 'vote',\n 'based',\n 'on',\n 'fear',\n 'and',\n 'negativity',\n '.',\n '</s>',\n '<s>',\n '@user',\n 'haters',\n '!',\n '!',\n '!',\n 'you',\n 'are',\n 'low',\n 'in',\n 'self',\n 'worth',\n '.',\n 'self',\n 'righteous',\n 'in',\n 'your',\n 'delusions',\n '.',\n 'you',\n 'cower',\n 'at',\n 'the',\n 'thought',\n 'of',\n 'change',\n '.',\n 'change',\n 'is',\n 'inevitable',\n '.',\n '</s>',\n '<s>',\n 'i',\n 'saved',\n 'him',\n 'after',\n 'ordering',\n 'him',\n 'to',\n 'risk',\n 'his',\n 'life',\n '.',\n 'i',\n 'did',\n 'not',\n 'panic',\n 'but',\n 'stayed',\n 'calm',\n 'and',\n 'rescued',\n 'him',\n '.',\n '</s>',\n '<s>',\n '@user',\n 'uggh',\n 'that',\n 'is',\n 'really',\n 'horrible',\n '.',\n 'you',\n 'are',\n 'not',\n 'a',\n 'bad',\n 'person',\n 'by',\n 'any',\n 'stretch',\n 'of',\n 'the',\n 'imagination',\n '.',\n 'i',\n 'hope',\n 'this',\n 'person',\n 'realizes',\n 'that',\n '.',\n '</s>',\n '<s>',\n '@user',\n '@user',\n '@user',\n 'tamra',\n 'would',\n 'f',\n 'her',\n 'up',\n 'if',\n 'she',\n 'swung',\n 'on',\n 'tamra',\n 'kelly',\n 'is',\n 'a',\n 'piece',\n 'of',\n '💩',\n '#needstobeadmitted',\n '#bully',\n '</s>',\n '<s>',\n 'love',\n 'is',\n 'when',\n 'all',\n 'your',\n 'happiness',\n 'and',\n 'all',\n 'your',\n 'sadness',\n 'and',\n 'all',\n 'your',\n 'feelings',\n 'are',\n 'dependent',\n 'on',\n 'another',\n 'person',\n '.',\n '</s>',\n '<s>',\n 'it',\n '’',\n 's',\n 'possible',\n 'changing',\n 'meds',\n 'is',\n 'best',\n 'not',\n 'done',\n 'while',\n 'under',\n 'stress',\n '.',\n 'difficult',\n 'to',\n 'tell',\n 'what',\n 'part',\n 'of',\n 'despair',\n 'is',\n 'circumstantial',\n ',',\n 'what',\n 'is',\n 'drugs',\n '.',\n '</s>',\n '<s>',\n 'I',\n 'am',\n 'also',\n 'definitely',\n 'still',\n 'bitter',\n 'about',\n 'the',\n 'yellow',\n 'ranger',\n 'not',\n 'being',\n 'asian',\n ',',\n 'but',\n 'asian',\n 'representation',\n 'in',\n 'hollywood',\n 'is',\n 'essentially',\n 'a',\n 'shrug',\n 'anyway',\n '</s>',\n '<s>',\n '@user',\n 'the',\n 'irony',\n 'is',\n 'that',\n 'those',\n 'protesting',\n 'about',\n 'this',\n 'kind',\n 'of',\n 'stuff',\n 'are',\n 'the',\n 'orwellian',\n 'nightmare',\n 'they',\n 'think',\n 'they',\n '’',\n 're',\n 'fighting',\n 'against',\n '.',\n '</s>',\n '<s>',\n '@user',\n '@user',\n 'nah',\n 'way',\n 'that',\n 'has',\n 'horrible',\n '</s>',\n '<s>',\n '@user',\n 'i',\n 'think',\n 'just',\n 'becz',\n 'you',\n 'have',\n 'so',\n 'much',\n 'terror',\n 'in',\n 'pak',\n 'nd',\n 'urself',\n 'being',\n 'a',\n 'leader',\n 'you',\n 'forgot',\n 'd',\n 'difference',\n 'btw',\n 'a',\n 'leader',\n 'nd',\n 'terrorist',\n '!',\n '</s>',\n '<s>',\n 'angel',\n 'delight',\n 'is',\n 'my',\n 'everything',\n '</s>',\n '<s>',\n 'puzzle',\n 'investing',\n 'opening',\n 'portland',\n 'feodal',\n 'population',\n 'is',\n 'correlative',\n 'straight',\n 'a',\n 'snorting',\n 'infuriate',\n ':',\n 'xlzjyhg',\n '</s>',\n '<s>',\n 'i',\n 'believe',\n 'I',\n 'am',\n 'going',\n 'to',\n 'start',\n 'singing',\n 'in',\n 'my',\n 'snap',\n 'stories',\n 'on',\n 'the',\n 'tractor',\n '.',\n 'switch',\n 'it',\n 'up',\n 'a',\n 'little',\n 'bit',\n '.',\n '</s>',\n '<s>',\n 'i',\n 'have',\n 'a',\n 'rage',\n 'rage',\n 'ep',\n '2',\n 'coming',\n 'out',\n 'soon',\n 'I',\n 'will',\n 'keep',\n 'you',\n 'posted',\n 'on',\n 'it',\n '#youtube',\n '#youtubegaming',\n '#rage',\n '</s>',\n '<s>',\n 'why',\n 'have',\n 'i',\n 'only',\n 'just',\n 'started',\n 'watching',\n 'glee',\n 'this',\n 'week',\n 'i',\n 'am',\n 'now',\n 'addicted',\n '🙄',\n '#glee',\n '#gleek',\n '</s>',\n '<s>',\n 'jorge',\n 'deserves',\n 'it',\n ',',\n 'honestly',\n '.',\n 'he',\n 'is',\n 'weak',\n '.',\n '#90dayfiance',\n '</s>',\n '<s>',\n '@user',\n \"'\",\n 'shit',\n \"'\",\n 'does',\n 'not',\n 'even',\n 'begin',\n 'to',\n 'describe',\n 'these',\n 'fiery',\n 'little',\n 'demons',\n 'straight',\n 'from',\n 'hell',\n '🌝',\n '🌚',\n ';)',\n '</s>',\n '<s>',\n '@user',\n '@user',\n 'ditto',\n '!',\n '!',\n 'such',\n 'an',\n 'amazing',\n 'atmosphere',\n '!',\n '#philippplein',\n '#cheerleaders',\n '#stunt',\n '#londonevents',\n '#cheer',\n '</s>',\n '<s>',\n 'interview',\n 'preparation',\n ',',\n 'i',\n 'hate',\n 'talking',\n 'about',\n 'myself',\n ',',\n 'one',\n 'dull',\n 'subject',\n 'matter',\n '!',\n '#yawnoff',\n '</s>',\n '<s>',\n 'manchester',\n 'derby',\n 'at',\n 'home',\n '</s>',\n '<s>',\n 'it',\n 'would',\n 'probably',\n 'be',\n 'useful',\n 'to',\n 'more',\n 'than',\n 'women',\n ',',\n 'but',\n 'I',\n 'am',\n 'dealing',\n 'with',\n 're-reading',\n 'an',\n 'article',\n 'about',\n 'a',\n 'woman',\n 'being',\n 'harassed',\n 'on',\n 'the',\n 'subway',\n '.',\n '#concern',\n '</s>',\n '<s>',\n 'her',\n ';',\n 'i',\n 'want',\n 'a',\n 'playful',\n 'relationship',\n 'me',\n ';',\n '*',\n 'kicks',\n 'her',\n 'off',\n 'the',\n 'couch',\n '*',\n '</s>',\n '<s>',\n 'romero',\n 'is',\n 'fucking',\n 'dreadful',\n 'like',\n 'seriously',\n 'my',\n '11',\n 'month',\n 'old',\n 'is',\n 'better',\n 'than',\n 'him',\n '.',\n '</s>',\n '<s>',\n '@user',\n 'it',\n '’',\n 's',\n 'taken',\n 'for',\n 'granted',\n ',',\n 'while',\n 'the',\n 'misogyny',\n 'in',\n 'the',\n 'air',\n 'is',\n 'treated',\n 'as',\n 'normal',\n '—',\n 'and',\n 'any',\n 'angry',\n 'response',\n 'to',\n 'it',\n 'as',\n 'pathological',\n '.',\n '</s>',\n '<s>',\n '@user',\n 'oh',\n 'i',\n 'see',\n '.',\n 'I',\n 'have',\n 'seen',\n 'so',\n 'many',\n 'people',\n 'mourn',\n 'the',\n 'loss',\n 'that',\n 'i',\n 'was',\n 'surprised',\n 'to',\n 'see',\n 'your',\n 'tweet',\n '.',\n 'i',\n 'suppose',\n 'same',\n 'old',\n 'here',\n 'in',\n 'sa',\n '</s>',\n '<s>',\n 'so',\n 'gutted',\n 'i',\n 'dropped',\n 'one',\n 'of',\n 'my',\n 'earrings',\n 'down',\n 'the',\n 'sink',\n 'at',\n 'school',\n '</s>',\n '<s>',\n 'happy',\n 'birthday',\n 'to',\n 'stephen',\n 'king',\n ',',\n 'a',\n 'man',\n 'responsible',\n 'for',\n 'some',\n 'of',\n 'the',\n 'best',\n 'horror',\n 'of',\n 'the',\n 'past',\n '40',\n 'years',\n '...',\n 'and',\n 'a',\n 'whole',\n 'bunch',\n 'of',\n 'the',\n 'worst',\n '.',\n '</s>',\n '<s>',\n '“',\n 'my',\n 'courage',\n 'always',\n 'rises',\n 'at',\n 'every',\n 'attempt',\n 'to',\n 'intimidate',\n 'me',\n '.',\n '”',\n '-',\n 'elizabeth',\n 'bennett',\n '(',\n 'pride',\n 'and',\n 'prejudice',\n ')',\n '#quotes',\n '#courage',\n '#faceyourfears',\n '</s>',\n '<s>',\n 'it',\n 'is',\n 'a',\n 'good',\n 'day',\n 'at',\n 'work',\n 'when',\n 'you',\n 'get',\n 'to',\n 'shake',\n 'jim',\n \"lehrer's\",\n 'hand',\n '.',\n 'thanks',\n ',',\n '@user',\n 'still',\n 'kicking',\n 'myself',\n 'for',\n 'being',\n 'to',\n 'shy',\n 'to',\n 'hug',\n '@user',\n '</s>',\n '<s>',\n 'I',\n 'am',\n 'so',\n 'bored',\n 'and',\n 'fat',\n 'and',\n 'full',\n 'and',\n 'ridiculously',\n 'overweight',\n 'and',\n 'rolls',\n 'galore',\n '</s>',\n '<s>',\n '@user',\n 'flirt',\n ',',\n 'simper',\n ',',\n 'pout',\n ',',\n 'repeat',\n '.',\n 'yuck',\n '.',\n '</s>',\n '<s>',\n 'trumpism',\n 'likewise',\n 'rests',\n 'on',\n 'a',\n 'bed',\n 'of',\n 'racial',\n 'resentment',\n 'that',\n 'was',\n 'made',\n ...]"
     },
     "metadata": {}
    }
   ]
  },
  {
   "cell_type": "code",
   "metadata": {
    "cell_id": "00062-8d124715-50b4-43a6-9d89-ea885342ff27",
    "deepnote_to_be_reexecuted": false,
    "execution_millis": 0,
    "execution_start": 1622364940046,
    "source_hash": "5b2eb51f",
    "tags": [],
    "deepnote_cell_type": "code"
   },
   "source": "from nltk.lm.preprocessing import padded_everygram_pipeline\ntrain, vocab = padded_everygram_pipeline(3, DATA['processed'][\"hate\"][\"train_text\"])",
   "execution_count": 43,
   "outputs": []
  },
  {
   "cell_type": "code",
   "metadata": {
    "cell_id": "00064-743bafa3-8d63-437c-bde0-3c09c993fc79",
    "deepnote_to_be_reexecuted": false,
    "execution_millis": 0,
    "execution_start": 1622364940047,
    "source_hash": "8bcb8554",
    "tags": [],
    "deepnote_cell_type": "code"
   },
   "source": "from nltk.lm import MLE\nlm = MLE(5)",
   "execution_count": 44,
   "outputs": []
  },
  {
   "cell_type": "code",
   "metadata": {
    "cell_id": "00065-895de1bd-c0c6-48e4-8b00-980f2cc60d05",
    "deepnote_to_be_reexecuted": false,
    "execution_millis": 13,
    "execution_start": 1622364940047,
    "source_hash": "75128094",
    "tags": [],
    "deepnote_cell_type": "code"
   },
   "source": "len(lm.vocab)",
   "execution_count": 45,
   "outputs": [
    {
     "output_type": "execute_result",
     "execution_count": 45,
     "data": {
      "text/plain": "0"
     },
     "metadata": {}
    }
   ]
  },
  {
   "cell_type": "code",
   "metadata": {
    "cell_id": "00066-34aff179-5976-41b6-95a8-86038bbd6caa",
    "deepnote_to_be_reexecuted": false,
    "execution_millis": 10631,
    "execution_start": 1622364940094,
    "source_hash": "82e9fe51",
    "tags": [],
    "deepnote_cell_type": "code"
   },
   "source": "lm.fit(train, vocab)\nprint(lm.vocab)\nlen(lm.vocab)",
   "execution_count": 46,
   "outputs": [
    {
     "name": "stdout",
     "text": "<Vocabulary with cutoff=1 unk_label='<UNK>' and 18603 items>\n",
     "output_type": "stream"
    },
    {
     "output_type": "execute_result",
     "execution_count": 46,
     "data": {
      "text/plain": "18603"
     },
     "metadata": {}
    }
   ]
  },
  {
   "cell_type": "code",
   "metadata": {
    "cell_id": "00066-ac07c8de-8236-4c86-9ca3-939845193cc8",
    "deepnote_to_be_reexecuted": false,
    "execution_millis": 113,
    "execution_start": 1622364950726,
    "source_hash": "7046381c",
    "tags": [],
    "deepnote_cell_type": "code"
   },
   "source": "print(lm.counts)",
   "execution_count": 47,
   "outputs": [
    {
     "name": "stdout",
     "text": "<NgramCounter with 3 ngram orders and 729228 ngrams>\n",
     "output_type": "stream"
    }
   ]
  },
  {
   "cell_type": "code",
   "metadata": {
    "cell_id": "00067-f109bea8-2914-49b3-b11f-4944e68daa41",
    "deepnote_to_be_reexecuted": false,
    "execution_millis": 18,
    "execution_start": 1622364950850,
    "source_hash": "aeeaec4d",
    "tags": [],
    "deepnote_cell_type": "code"
   },
   "source": "lm.counts[['.']][\"</s>\"]",
   "execution_count": 48,
   "outputs": [
    {
     "output_type": "execute_result",
     "execution_count": 48,
     "data": {
      "text/plain": "1399"
     },
     "metadata": {}
    }
   ]
  },
  {
   "cell_type": "code",
   "metadata": {
    "cell_id": "00068-f367f9fb-8559-4d5b-9c8c-d8ebf6a22c82",
    "deepnote_to_be_reexecuted": false,
    "execution_millis": 17,
    "execution_start": 1622364950851,
    "source_hash": "237ec896",
    "tags": [],
    "deepnote_cell_type": "code"
   },
   "source": "lm.score(\".\", [\"</s>\"])",
   "execution_count": 49,
   "outputs": [
    {
     "output_type": "execute_result",
     "execution_count": 49,
     "data": {
      "text/plain": "0.0"
     },
     "metadata": {}
    }
   ]
  },
  {
   "cell_type": "code",
   "metadata": {
    "cell_id": "00068-0d1770b7-a735-4825-add1-1fd9dbd8ed58",
    "deepnote_to_be_reexecuted": false,
    "execution_millis": 16,
    "execution_start": 1622364950852,
    "source_hash": "285a3958",
    "tags": [],
    "deepnote_cell_type": "code"
   },
   "source": "lm.score(\"randomString\")",
   "execution_count": 50,
   "outputs": [
    {
     "output_type": "execute_result",
     "execution_count": 50,
     "data": {
      "text/plain": "0.0"
     },
     "metadata": {}
    }
   ]
  },
  {
   "cell_type": "code",
   "metadata": {
    "cell_id": "00070-473d4ac1-d4ae-47f9-b6dd-3b5071e17f5e",
    "deepnote_to_be_reexecuted": false,
    "execution_millis": 0,
    "execution_start": 1622364950856,
    "source_hash": "5554bfdc",
    "tags": [],
    "deepnote_cell_type": "code"
   },
   "source": " test = [('I', 'am'), ('I', 'hate')]",
   "execution_count": 51,
   "outputs": []
  },
  {
   "cell_type": "code",
   "metadata": {
    "cell_id": "00070-af019404-c3b6-4afa-b27d-c47f570eecdd",
    "deepnote_to_be_reexecuted": false,
    "execution_millis": 38,
    "execution_start": 1622364950903,
    "source_hash": "816e0766",
    "tags": [],
    "deepnote_cell_type": "code"
   },
   "source": " lm.entropy(test)",
   "execution_count": 52,
   "outputs": [
    {
     "output_type": "execute_result",
     "execution_count": 52,
     "data": {
      "text/plain": "inf"
     },
     "metadata": {}
    }
   ]
  },
  {
   "cell_type": "code",
   "metadata": {
    "cell_id": "00071-a11989ee-d669-4629-8eea-ca7f52c0910c",
    "deepnote_to_be_reexecuted": false,
    "execution_millis": 37,
    "execution_start": 1622364950904,
    "source_hash": "3e97d56e",
    "tags": [],
    "deepnote_cell_type": "code"
   },
   "source": "lm.perplexity(test)",
   "execution_count": 53,
   "outputs": [
    {
     "output_type": "execute_result",
     "execution_count": 53,
     "data": {
      "text/plain": "inf"
     },
     "metadata": {}
    }
   ]
  },
  {
   "cell_type": "markdown",
   "source": "\"your girlfriend looking at injustices happening in andrew\"",
   "metadata": {
    "cell_id": "00073-aca32b87-a150-480a-ba80-7d0f03c506d7",
    "tags": [],
    "deepnote_cell_type": "text-cell-p"
   }
  },
  {
   "cell_type": "markdown",
   "source": "'they should understand women cheats on my 16gb of action against their bodies on legs'",
   "metadata": {
    "cell_id": "00074-02be21d7-df2b-463a-a794-02ced329495c",
    "tags": [],
    "deepnote_cell_type": "text-cell-p"
   }
  },
  {
   "cell_type": "markdown",
   "source": "#peoplelikemebecause actions. #lovejihad",
   "metadata": {
    "cell_id": "00075-a44f03c1-a36f-49cf-8880-91abd8230521",
    "tags": [],
    "deepnote_cell_type": "text-cell-p"
   }
  },
  {
   "cell_type": "markdown",
   "source": "'betray your hole last weekend me want more' <br>\n'hitler may come back'",
   "metadata": {
    "cell_id": "00076-303259f8-9630-4042-9d72-057c9d8bf165",
    "tags": [],
    "deepnote_cell_type": "markdown"
   }
  },
  {
   "cell_type": "code",
   "metadata": {
    "cell_id": "00076-99664b8f-9d0d-4370-932f-da7947884f7b",
    "deepnote_to_be_reexecuted": false,
    "execution_millis": 35,
    "execution_start": 1622364950906,
    "source_hash": "691612ea",
    "tags": [],
    "deepnote_cell_type": "code"
   },
   "source": "lm.generate(10, text_seed=[\"You\",\"are\",\"a\",\"stupid\"], random_seed=5)",
   "execution_count": 54,
   "outputs": [
    {
     "output_type": "execute_result",
     "execution_count": 54,
     "data": {
      "text/plain": "['fucking', 'idiot', 'hoe', 'i', '’', 've', 'accused', 'him', 'of', 'rape']"
     },
     "metadata": {}
    }
   ]
  },
  {
   "cell_type": "code",
   "metadata": {
    "cell_id": "00075-d8f867fa-f45b-400a-ab49-74aa5949913d",
    "deepnote_to_be_reexecuted": false,
    "execution_millis": 157,
    "execution_start": 1622364950960,
    "source_hash": "523cc3cf",
    "tags": [],
    "deepnote_cell_type": "code"
   },
   "source": "from nltk.util import ngrams\ntext_bigrams = [ngrams(sent, 2) for sent in DATA['processed'][\"hate\"][\"train_text\"]]\ntext_unigrams = [ngrams(sent, 1) for sent in DATA['processed'][\"hate\"][\"train_text\"]]",
   "execution_count": 55,
   "outputs": []
  },
  {
   "cell_type": "code",
   "metadata": {
    "cell_id": "00077-2f9d9e94-5259-474a-95f9-97fa614665d1",
    "deepnote_to_be_reexecuted": false,
    "execution_millis": 998,
    "execution_start": 1622364951178,
    "source_hash": "42addd9e",
    "tags": [],
    "deepnote_cell_type": "code"
   },
   "source": "from nltk.lm import NgramCounter\nngram_counts = NgramCounter(text_bigrams + text_unigrams)",
   "execution_count": 56,
   "outputs": []
  },
  {
   "cell_type": "code",
   "metadata": {
    "cell_id": "00078-49c0e88f-a77d-4697-a9a2-ad934d2a7723",
    "deepnote_to_be_reexecuted": false,
    "execution_millis": 11,
    "execution_start": 1622364952202,
    "source_hash": "d956c480",
    "tags": [],
    "deepnote_cell_type": "code"
   },
   "source": "ngram_counts[\"I\"]",
   "execution_count": 57,
   "outputs": [
    {
     "output_type": "execute_result",
     "execution_count": 57,
     "data": {
      "text/plain": "414"
     },
     "metadata": {}
    }
   ]
  },
  {
   "cell_type": "code",
   "metadata": {
    "cell_id": "00081-dc38865a-0292-4597-89a6-b68d5084a345",
    "deepnote_to_be_reexecuted": false,
    "execution_millis": 0,
    "execution_start": 1622364952203,
    "source_hash": "b623e53d",
    "tags": [],
    "deepnote_cell_type": "code"
   },
   "source": "",
   "execution_count": 57,
   "outputs": []
  },
  {
   "cell_type": "markdown",
   "source": "*TASK 3*\n# Manual Annotations and Inter-Annotator Agreement\n\nIn this section, we will manually annotate 100 randomly selected tweets from the train corpus in the hate speech data set. We followed the annotation guidelines as employed by the source of the data:\n\n[Final Paper](https://www.aclweb.org/anthology/S19-2007.pdf)\n\n[Annotation Guidelines](https://github.com/msang/hateval/blob/master/annotation_guidelines.md)",
   "metadata": {
    "cell_id": "00082-d445badc-5275-4d02-af41-527b34f6b56b",
    "tags": [],
    "deepnote_cell_type": "markdown"
   }
  },
  {
   "cell_type": "code",
   "metadata": {
    "cell_id": "00083-b00760ef-6d1c-4287-8332-7f40e977bc27",
    "deepnote_to_be_reexecuted": false,
    "execution_millis": 0,
    "execution_start": 1622364952204,
    "source_hash": "6ce6c828",
    "tags": [],
    "deepnote_cell_type": "code"
   },
   "source": "GENERATE_SAMPLE = False",
   "execution_count": 58,
   "outputs": []
  },
  {
   "cell_type": "code",
   "metadata": {
    "cell_id": "00083-94c0db2e-6605-483e-bc6b-c91fa82efcfa",
    "deepnote_to_be_reexecuted": false,
    "execution_millis": 1,
    "execution_start": 1622364952246,
    "source_hash": "70d39c6",
    "tags": [],
    "deepnote_cell_type": "code"
   },
   "source": "if GENERATE_SAMPLE == True:\n    with open('../data/annotations/annotation_sample.txt', 'w') as outfile:\n        for tweet in DATA['raw']['hate']['train_text'][-100:]: # last 100 tweets in hate training set\n            outfile.writelines(tweet + '\\n')\n    with open('../data/annotations/ground_truth_annotation_sample.txt', 'w') as outfile:\n        for label in DATA['raw']['hate']['train_labels'][-100:]:\n            outfile.writelines(str(label) + '\\n')",
   "execution_count": 59,
   "outputs": []
  },
  {
   "cell_type": "code",
   "metadata": {
    "cell_id": "00085-0c6885fd-8014-4ce7-bfbd-bf43e305bc0a",
    "deepnote_to_be_reexecuted": false,
    "execution_millis": 0,
    "execution_start": 1622364952247,
    "source_hash": "76f9350c",
    "tags": [],
    "deepnote_cell_type": "code"
   },
   "source": "# compare manual annotations through building dataframe\nannotation_evaluation = pd.DataFrame({'tweets': DATA['raw']['hate']['train_text'][-100:], 'ground_truth': DATA['raw']['hate']['train_labels'][-100:]})\n\nfor filename in os.listdir('../data/annotations/manual_annotations'):\n    with open(f'../data/annotations/manual_annotations/{filename}', 'r') as infile:\n        annotation_evaluation[filename[:-4]] = [int(line.strip()) for line in infile.readlines()]",
   "execution_count": 60,
   "outputs": []
  },
  {
   "cell_type": "code",
   "metadata": {
    "cell_id": "00086-60a0157a-ff3a-421b-afc1-6ea25b5459e4",
    "deepnote_to_be_reexecuted": false,
    "execution_millis": 43,
    "execution_start": 1622364952248,
    "source_hash": "75b8187d",
    "tags": [],
    "deepnote_cell_type": "code"
   },
   "source": "annotation_evaluation",
   "execution_count": 61,
   "outputs": [
    {
     "output_type": "execute_result",
     "execution_count": 61,
     "data": {
      "application/vnd.deepnote.dataframe.v2+json": {
       "row_count": 100,
       "column_count": 6,
       "columns": [
        {
         "name": "tweets",
         "dtype": "object",
         "stats": {
          "unique_count": 100,
          "nan_count": 0,
          "categories": [
           {
            "name": "Cry baby Hollywood Dems Anti-Trump celebs too poor to run as a Mayor to show everyone they can be better politicians than him. Comments? @user no no no no new war under Trump, Europe is still handling the refugees from Obama's wars. Hi Ohio! @user weekend feels",
            "count": 1
           },
           {
            "name": "@user Do I have to fight another bitch ass looking cunt today?",
            "count": 1
           },
           {
            "name": "98 others",
            "count": 98
           }
          ]
         }
        },
        {
         "name": "ground_truth",
         "dtype": "int64",
         "stats": {
          "unique_count": 2,
          "nan_count": 0,
          "min": "0",
          "max": "1",
          "histogram": [
           {
            "bin_start": 0,
            "bin_end": 0.1,
            "count": 57
           },
           {
            "bin_start": 0.1,
            "bin_end": 0.2,
            "count": 0
           },
           {
            "bin_start": 0.2,
            "bin_end": 0.30000000000000004,
            "count": 0
           },
           {
            "bin_start": 0.30000000000000004,
            "bin_end": 0.4,
            "count": 0
           },
           {
            "bin_start": 0.4,
            "bin_end": 0.5,
            "count": 0
           },
           {
            "bin_start": 0.5,
            "bin_end": 0.6000000000000001,
            "count": 0
           },
           {
            "bin_start": 0.6000000000000001,
            "bin_end": 0.7000000000000001,
            "count": 0
           },
           {
            "bin_start": 0.7000000000000001,
            "bin_end": 0.8,
            "count": 0
           },
           {
            "bin_start": 0.8,
            "bin_end": 0.9,
            "count": 0
           },
           {
            "bin_start": 0.9,
            "bin_end": 1,
            "count": 43
           }
          ]
         }
        },
        {
         "name": "nicola_annotations",
         "dtype": "int64",
         "stats": {
          "unique_count": 2,
          "nan_count": 0,
          "min": "0",
          "max": "1",
          "histogram": [
           {
            "bin_start": 0,
            "bin_end": 0.1,
            "count": 58
           },
           {
            "bin_start": 0.1,
            "bin_end": 0.2,
            "count": 0
           },
           {
            "bin_start": 0.2,
            "bin_end": 0.30000000000000004,
            "count": 0
           },
           {
            "bin_start": 0.30000000000000004,
            "bin_end": 0.4,
            "count": 0
           },
           {
            "bin_start": 0.4,
            "bin_end": 0.5,
            "count": 0
           },
           {
            "bin_start": 0.5,
            "bin_end": 0.6000000000000001,
            "count": 0
           },
           {
            "bin_start": 0.6000000000000001,
            "bin_end": 0.7000000000000001,
            "count": 0
           },
           {
            "bin_start": 0.7000000000000001,
            "bin_end": 0.8,
            "count": 0
           },
           {
            "bin_start": 0.8,
            "bin_end": 0.9,
            "count": 0
           },
           {
            "bin_start": 0.9,
            "bin_end": 1,
            "count": 42
           }
          ]
         }
        },
        {
         "name": "hugo_annotations",
         "dtype": "int64",
         "stats": {
          "unique_count": 2,
          "nan_count": 0,
          "min": "0",
          "max": "1",
          "histogram": [
           {
            "bin_start": 0,
            "bin_end": 0.1,
            "count": 85
           },
           {
            "bin_start": 0.1,
            "bin_end": 0.2,
            "count": 0
           },
           {
            "bin_start": 0.2,
            "bin_end": 0.30000000000000004,
            "count": 0
           },
           {
            "bin_start": 0.30000000000000004,
            "bin_end": 0.4,
            "count": 0
           },
           {
            "bin_start": 0.4,
            "bin_end": 0.5,
            "count": 0
           },
           {
            "bin_start": 0.5,
            "bin_end": 0.6000000000000001,
            "count": 0
           },
           {
            "bin_start": 0.6000000000000001,
            "bin_end": 0.7000000000000001,
            "count": 0
           },
           {
            "bin_start": 0.7000000000000001,
            "bin_end": 0.8,
            "count": 0
           },
           {
            "bin_start": 0.8,
            "bin_end": 0.9,
            "count": 0
           },
           {
            "bin_start": 0.9,
            "bin_end": 1,
            "count": 15
           }
          ]
         }
        },
        {
         "name": "mika_annotations",
         "dtype": "int64",
         "stats": {
          "unique_count": 2,
          "nan_count": 0,
          "min": "0",
          "max": "1",
          "histogram": [
           {
            "bin_start": 0,
            "bin_end": 0.1,
            "count": 63
           },
           {
            "bin_start": 0.1,
            "bin_end": 0.2,
            "count": 0
           },
           {
            "bin_start": 0.2,
            "bin_end": 0.30000000000000004,
            "count": 0
           },
           {
            "bin_start": 0.30000000000000004,
            "bin_end": 0.4,
            "count": 0
           },
           {
            "bin_start": 0.4,
            "bin_end": 0.5,
            "count": 0
           },
           {
            "bin_start": 0.5,
            "bin_end": 0.6000000000000001,
            "count": 0
           },
           {
            "bin_start": 0.6000000000000001,
            "bin_end": 0.7000000000000001,
            "count": 0
           },
           {
            "bin_start": 0.7000000000000001,
            "bin_end": 0.8,
            "count": 0
           },
           {
            "bin_start": 0.8,
            "bin_end": 0.9,
            "count": 0
           },
           {
            "bin_start": 0.9,
            "bin_end": 1,
            "count": 37
           }
          ]
         }
        },
        {
         "name": "aidan_annotations",
         "dtype": "int64",
         "stats": {
          "unique_count": 2,
          "nan_count": 0,
          "min": "0",
          "max": "1",
          "histogram": [
           {
            "bin_start": 0,
            "bin_end": 0.1,
            "count": 66
           },
           {
            "bin_start": 0.1,
            "bin_end": 0.2,
            "count": 0
           },
           {
            "bin_start": 0.2,
            "bin_end": 0.30000000000000004,
            "count": 0
           },
           {
            "bin_start": 0.30000000000000004,
            "bin_end": 0.4,
            "count": 0
           },
           {
            "bin_start": 0.4,
            "bin_end": 0.5,
            "count": 0
           },
           {
            "bin_start": 0.5,
            "bin_end": 0.6000000000000001,
            "count": 0
           },
           {
            "bin_start": 0.6000000000000001,
            "bin_end": 0.7000000000000001,
            "count": 0
           },
           {
            "bin_start": 0.7000000000000001,
            "bin_end": 0.8,
            "count": 0
           },
           {
            "bin_start": 0.8,
            "bin_end": 0.9,
            "count": 0
           },
           {
            "bin_start": 0.9,
            "bin_end": 1,
            "count": 34
           }
          ]
         }
        },
        {
         "name": "_deepnote_index_column",
         "dtype": "int64"
        }
       ],
       "rows_top": [
        {
         "tweets": "Cry baby Hollywood Dems Anti-Trump celebs too poor to run as a Mayor to show everyone they can be b…",
         "ground_truth": 0,
         "nicola_annotations": 0,
         "hugo_annotations": 0,
         "mika_annotations": 0,
         "aidan_annotations": 0,
         "_deepnote_index_column": 0
        },
        {
         "tweets": "@user Do I have to fight another bitch ass looking cunt today?",
         "ground_truth": 1,
         "nicola_annotations": 1,
         "hugo_annotations": 0,
         "mika_annotations": 1,
         "aidan_annotations": 1,
         "_deepnote_index_column": 1
        },
        {
         "tweets": "#SouthCarolina has spent millions of dollars to arrest immigrant landscapers, housekeepers #ambassa…",
         "ground_truth": 0,
         "nicola_annotations": 0,
         "hugo_annotations": 0,
         "mika_annotations": 0,
         "aidan_annotations": 0,
         "_deepnote_index_column": 2
        },
        {
         "tweets": "Me trying to flirt- I wanna eat your hot pocket",
         "ground_truth": 0,
         "nicola_annotations": 0,
         "hugo_annotations": 0,
         "mika_annotations": 0,
         "aidan_annotations": 0,
         "_deepnote_index_column": 3
        },
        {
         "tweets": "People say, \"Why didn't this or that immigrant for Central or South America apply the proper way an…",
         "ground_truth": 0,
         "nicola_annotations": 0,
         "hugo_annotations": 0,
         "mika_annotations": 0,
         "aidan_annotations": 0,
         "_deepnote_index_column": 4
        },
        {
         "tweets": "I'm not the one to let people profit on my back... I'll break yours and take what's mine 😘",
         "ground_truth": 0,
         "nicola_annotations": 0,
         "hugo_annotations": 0,
         "mika_annotations": 1,
         "aidan_annotations": 0,
         "_deepnote_index_column": 5
        },
        {
         "tweets": "#landdegradation undermines the well-being of 3.2 billion people, or “two-fifths of humanity,” driv…",
         "ground_truth": 0,
         "nicola_annotations": 0,
         "hugo_annotations": 0,
         "mika_annotations": 0,
         "aidan_annotations": 0,
         "_deepnote_index_column": 6
        },
        {
         "tweets": "Me trying to flirt- You have really nice eyebrows... I'd like to cum on them to see if they wash off",
         "ground_truth": 1,
         "nicola_annotations": 1,
         "hugo_annotations": 0,
         "mika_annotations": 1,
         "aidan_annotations": 0,
         "_deepnote_index_column": 7
        },
        {
         "tweets": "Two faced Boris now hes on a power trip dosent care about Immigration may is a liar change l don't …",
         "ground_truth": 0,
         "nicola_annotations": 0,
         "hugo_annotations": 0,
         "mika_annotations": 0,
         "aidan_annotations": 0,
         "_deepnote_index_column": 8
        },
        {
         "tweets": "Says man who suggested an actress reported an historic rape to gain more work - you're a fully paid…",
         "ground_truth": 1,
         "nicola_annotations": 0,
         "hugo_annotations": 0,
         "mika_annotations": 1,
         "aidan_annotations": 0,
         "_deepnote_index_column": 9
        },
        {
         "tweets": "@user I hope you are not offering them a choice. To hell with the #Tories #SendThemHome",
         "ground_truth": 1,
         "nicola_annotations": 1,
         "hugo_annotations": 1,
         "mika_annotations": 1,
         "aidan_annotations": 1,
         "_deepnote_index_column": 10
        },
        {
         "tweets": "These are not refugees but aggressive male migrants the Med leaders - with exception of @user -want…",
         "ground_truth": 1,
         "nicola_annotations": 1,
         "hugo_annotations": 1,
         "mika_annotations": 1,
         "aidan_annotations": 0,
         "_deepnote_index_column": 11
        },
        {
         "tweets": "There are all these illegal immigrant aliens trying to get to Earth, but our 'Space Force' is prote…",
         "ground_truth": 0,
         "nicola_annotations": 1,
         "hugo_annotations": 0,
         "mika_annotations": 0,
         "aidan_annotations": 0,
         "_deepnote_index_column": 12
        },
        {
         "tweets": "I feel like post birth abortion should be a thing...",
         "ground_truth": 0,
         "nicola_annotations": 0,
         "hugo_annotations": 0,
         "mika_annotations": 0,
         "aidan_annotations": 0,
         "_deepnote_index_column": 13
        },
        {
         "tweets": "UN countries agree on pact to manage mass global migration",
         "ground_truth": 0,
         "nicola_annotations": 0,
         "hugo_annotations": 0,
         "mika_annotations": 0,
         "aidan_annotations": 0,
         "_deepnote_index_column": 14
        },
        {
         "tweets": "Girls with blonde hair and dark roots make my cock hard for some reason",
         "ground_truth": 1,
         "nicola_annotations": 1,
         "hugo_annotations": 0,
         "mika_annotations": 0,
         "aidan_annotations": 0,
         "_deepnote_index_column": 15
        },
        {
         "tweets": "Populists are not anti immigrant or anti immigration or emigration they are PRO rational fair laws …",
         "ground_truth": 0,
         "nicola_annotations": 0,
         "hugo_annotations": 0,
         "mika_annotations": 0,
         "aidan_annotations": 0,
         "_deepnote_index_column": 16
        },
        {
         "tweets": "Cases include a twisted paedophile, a lunatic driver and an illegal immigrant who posed as a 16-yea…",
         "ground_truth": 0,
         "nicola_annotations": 0,
         "hugo_annotations": 0,
         "mika_annotations": 0,
         "aidan_annotations": 0,
         "_deepnote_index_column": 17
        },
        {
         "tweets": "Some cunt at Walmart went full psycho on me saying how she had no fucking space to put her shit bit…",
         "ground_truth": 1,
         "nicola_annotations": 1,
         "hugo_annotations": 0,
         "mika_annotations": 1,
         "aidan_annotations": 1,
         "_deepnote_index_column": 18
        },
        {
         "tweets": "@user  As you fall over yourselves to welcome Syrian refugees ,homes etc why did you not do it for …",
         "ground_truth": 1,
         "nicola_annotations": 0,
         "hugo_annotations": 0,
         "mika_annotations": 1,
         "aidan_annotations": 1,
         "_deepnote_index_column": 19
        },
        {
         "tweets": "Nothing would make me happier than to see you get an STD. #whore #WomenSuck",
         "ground_truth": 1,
         "nicola_annotations": 1,
         "hugo_annotations": 1,
         "mika_annotations": 1,
         "aidan_annotations": 1,
         "_deepnote_index_column": 20
        },
        {
         "tweets": "In the past 4 years personal debt has risen by 90 billion pounds. Much of it spent on trying to liv…",
         "ground_truth": 0,
         "nicola_annotations": 0,
         "hugo_annotations": 0,
         "mika_annotations": 0,
         "aidan_annotations": 0,
         "_deepnote_index_column": 21
        },
        {
         "tweets": "Watch: Germany's Real Women's March against migrant violence and Islamism - Free Speech Time - @user",
         "ground_truth": 0,
         "nicola_annotations": 0,
         "hugo_annotations": 0,
         "mika_annotations": 0,
         "aidan_annotations": 0,
         "_deepnote_index_column": 22
        },
        {
         "tweets": "@user @user Don't blame refugees for the misery of others. By forcedly removing refugees from their…",
         "ground_truth": 0,
         "nicola_annotations": 0,
         "hugo_annotations": 0,
         "mika_annotations": 0,
         "aidan_annotations": 0,
         "_deepnote_index_column": 23
        },
        {
         "tweets": "hypnotize synthesize love is a lie like a hole in the sky then you die",
         "ground_truth": 0,
         "nicola_annotations": 0,
         "hugo_annotations": 0,
         "mika_annotations": 0,
         "aidan_annotations": 0,
         "_deepnote_index_column": 24
        },
        {
         "tweets": "@user Its not about Trump kids.When are you putting up all those refugees in your home jk???  YOu k…",
         "ground_truth": 1,
         "nicola_annotations": 0,
         "hugo_annotations": 0,
         "mika_annotations": 0,
         "aidan_annotations": 0,
         "_deepnote_index_column": 25
        },
        {
         "tweets": "@user No doubt cory wins most hysterical women his eyes are popping out of his head foaming at the …",
         "ground_truth": 0,
         "nicola_annotations": 1,
         "hugo_annotations": 0,
         "mika_annotations": 0,
         "aidan_annotations": 1,
         "_deepnote_index_column": 26
        },
        {
         "tweets": "It's unfortunate that such racist tactics are used against migrant communities. Remember those who …",
         "ground_truth": 0,
         "nicola_annotations": 0,
         "hugo_annotations": 0,
         "mika_annotations": 0,
         "aidan_annotations": 0,
         "_deepnote_index_column": 27
        },
        {
         "tweets": "Mandy Manning, one of World Relief's friends and partners @user has just been named 2018 National T…",
         "ground_truth": 0,
         "nicola_annotations": 0,
         "hugo_annotations": 0,
         "mika_annotations": 0,
         "aidan_annotations": 0,
         "_deepnote_index_column": 28
        },
        {
         "tweets": "#FakeNews Alert!! Flu Vaccine PROPAGANDA Agenda - Immigration = Terrorism REPORT",
         "ground_truth": 1,
         "nicola_annotations": 1,
         "hugo_annotations": 1,
         "mika_annotations": 0,
         "aidan_annotations": 1,
         "_deepnote_index_column": 29
        },
        {
         "tweets": "@user Legally it is rape if you inserted something inside someone without their consent",
         "ground_truth": 0,
         "nicola_annotations": 0,
         "hugo_annotations": 0,
         "mika_annotations": 0,
         "aidan_annotations": 0,
         "_deepnote_index_column": 30
        },
        {
         "tweets": "Glad not all men are like that and sad some women are like this...",
         "ground_truth": 1,
         "nicola_annotations": 0,
         "hugo_annotations": 0,
         "mika_annotations": 0,
         "aidan_annotations": 1,
         "_deepnote_index_column": 31
        },
        {
         "tweets": "Don't let the world ending distract you from the fact that you're a hoe.",
         "ground_truth": 0,
         "nicola_annotations": 1,
         "hugo_annotations": 0,
         "mika_annotations": 1,
         "aidan_annotations": 1,
         "_deepnote_index_column": 32
        },
        {
         "tweets": "is this what you would call karma? like how do you as a mexican person vote and support trump, have…",
         "ground_truth": 0,
         "nicola_annotations": 0,
         "hugo_annotations": 0,
         "mika_annotations": 1,
         "aidan_annotations": 0,
         "_deepnote_index_column": 33
        },
        {
         "tweets": "@user Let me check your ass out with my cock",
         "ground_truth": 1,
         "nicola_annotations": 1,
         "hugo_annotations": 0,
         "mika_annotations": 1,
         "aidan_annotations": 1,
         "_deepnote_index_column": 34
        },
        {
         "tweets": "People in airport bars always wanna tell you their life stories... STFU Bill, IDGAF about your stup…",
         "ground_truth": 1,
         "nicola_annotations": 1,
         "hugo_annotations": 0,
         "mika_annotations": 1,
         "aidan_annotations": 0,
         "_deepnote_index_column": 35
        },
        {
         "tweets": "I’ll still fuck a stupid Bitch up tho",
         "ground_truth": 1,
         "nicola_annotations": 1,
         "hugo_annotations": 0,
         "mika_annotations": 1,
         "aidan_annotations": 0,
         "_deepnote_index_column": 36
        },
        {
         "tweets": "When someone tries to threaten me",
         "ground_truth": 0,
         "nicola_annotations": 0,
         "hugo_annotations": 0,
         "mika_annotations": 0,
         "aidan_annotations": 0,
         "_deepnote_index_column": 37
        },
        {
         "tweets": "If this is implemented well, could be good news for Philadelphians.",
         "ground_truth": 0,
         "nicola_annotations": 0,
         "hugo_annotations": 0,
         "mika_annotations": 0,
         "aidan_annotations": 0,
         "_deepnote_index_column": 38
        },
        {
         "tweets": "If you really wanna know what someone you're fucking thinks about you, make them show you how you'r…",
         "ground_truth": 0,
         "nicola_annotations": 0,
         "hugo_annotations": 0,
         "mika_annotations": 0,
         "aidan_annotations": 0,
         "_deepnote_index_column": 39
        },
        {
         "tweets": "@user stupid women fuck up my life #WomenSuck",
         "ground_truth": 1,
         "nicola_annotations": 1,
         "hugo_annotations": 1,
         "mika_annotations": 1,
         "aidan_annotations": 1,
         "_deepnote_index_column": 40
        },
        {
         "tweets": "@user USA should stop trading with Mexico, if they dont stop the refugees.",
         "ground_truth": 1,
         "nicola_annotations": 1,
         "hugo_annotations": 1,
         "mika_annotations": 0,
         "aidan_annotations": 0,
         "_deepnote_index_column": 41
        },
        {
         "tweets": "If you have to ask why #WomenSuck you're obviously a woman.... And you suck.... #subtweet",
         "ground_truth": 1,
         "nicola_annotations": 1,
         "hugo_annotations": 1,
         "mika_annotations": 1,
         "aidan_annotations": 1,
         "_deepnote_index_column": 42
        },
        {
         "tweets": "@user @user Where are you getting #NotAllMen from? I took issue with the fact they don't explain th…",
         "ground_truth": 0,
         "nicola_annotations": 0,
         "hugo_annotations": 0,
         "mika_annotations": 0,
         "aidan_annotations": 0,
         "_deepnote_index_column": 43
        },
        {
         "tweets": "@user The difference is you promote being a slut you dumb bitch you should go fuck yourself and sti…",
         "ground_truth": 1,
         "nicola_annotations": 1,
         "hugo_annotations": 0,
         "mika_annotations": 1,
         "aidan_annotations": 1,
         "_deepnote_index_column": 44
        },
        {
         "tweets": "@user weird as fuck cuz women suck. #YouSuck",
         "ground_truth": 1,
         "nicola_annotations": 1,
         "hugo_annotations": 1,
         "mika_annotations": 1,
         "aidan_annotations": 1,
         "_deepnote_index_column": 45
        },
        {
         "tweets": "The blue wave is coming if we don't build that damn wall. #BuildThatWall & #MAGA",
         "ground_truth": 1,
         "nicola_annotations": 0,
         "hugo_annotations": 1,
         "mika_annotations": 1,
         "aidan_annotations": 0,
         "_deepnote_index_column": 46
        },
        {
         "tweets": "People that hate on you that you've done nothing to and don't know you are just jealous of you... E…",
         "ground_truth": 0,
         "nicola_annotations": 0,
         "hugo_annotations": 0,
         "mika_annotations": 0,
         "aidan_annotations": 0,
         "_deepnote_index_column": 47
        },
        {
         "tweets": "When the rival lemonade stand starts stealin your business",
         "ground_truth": 0,
         "nicola_annotations": 0,
         "hugo_annotations": 0,
         "mika_annotations": 0,
         "aidan_annotations": 0,
         "_deepnote_index_column": 48
        },
        {
         "tweets": "@user let's get weird! Summertime baby! #FuckBitches",
         "ground_truth": 1,
         "nicola_annotations": 1,
         "hugo_annotations": 0,
         "mika_annotations": 0,
         "aidan_annotations": 1,
         "_deepnote_index_column": 49
        },
        {
         "tweets": "WHO.. ARE. YOOUU? This is not mario kart. You are no princess peach. Get your skank ass up out my l…",
         "ground_truth": 1,
         "nicola_annotations": 1,
         "hugo_annotations": 0,
         "mika_annotations": 1,
         "aidan_annotations": 1,
         "_deepnote_index_column": 50
        },
        {
         "tweets": "Boo, you sweaty whore",
         "ground_truth": 1,
         "nicola_annotations": 1,
         "hugo_annotations": 0,
         "mika_annotations": 1,
         "aidan_annotations": 1,
         "_deepnote_index_column": 51
        },
        {
         "tweets": "Excellent.Since we can't separate families, lock all their asses up until a judge can deport them.I…",
         "ground_truth": 1,
         "nicola_annotations": 1,
         "hugo_annotations": 1,
         "mika_annotations": 1,
         "aidan_annotations": 1,
         "_deepnote_index_column": 52
        },
        {
         "tweets": "Just so you know, I'm a righteous Dick Cheney Impersonator, which is not like a thing or anything.",
         "ground_truth": 0,
         "nicola_annotations": 0,
         "hugo_annotations": 0,
         "mika_annotations": 0,
         "aidan_annotations": 0,
         "_deepnote_index_column": 53
        },
        {
         "tweets": "RT @user I don't see why drinking and driving is such a big deal. Letting women drive is just as ha…",
         "ground_truth": 1,
         "nicola_annotations": 1,
         "hugo_annotations": 1,
         "mika_annotations": 1,
         "aidan_annotations": 1,
         "_deepnote_index_column": 54
        },
        {
         "tweets": "If Richard Stallman has 1 GB of RAM, and if you have 1 GB of RAM, Richard Stallman has more RAM tha…",
         "ground_truth": 0,
         "nicola_annotations": 0,
         "hugo_annotations": 0,
         "mika_annotations": 0,
         "aidan_annotations": 0,
         "_deepnote_index_column": 55
        },
        {
         "tweets": "We are not all men and women of God in this context, I'm not talking generalization, I'm talking ab…",
         "ground_truth": 0,
         "nicola_annotations": 0,
         "hugo_annotations": 0,
         "mika_annotations": 0,
         "aidan_annotations": 0,
         "_deepnote_index_column": 56
        },
        {
         "tweets": "someone: breathes ada: dumb whore cunt slut your moms a hoe kill yourself bitch get shot",
         "ground_truth": 1,
         "nicola_annotations": 1,
         "hugo_annotations": 0,
         "mika_annotations": 1,
         "aidan_annotations": 1,
         "_deepnote_index_column": 57
        },
        {
         "tweets": "From the archives: Daniel Berrigan on refugees, Christ, and the American Dream.",
         "ground_truth": 0,
         "nicola_annotations": 0,
         "hugo_annotations": 0,
         "mika_annotations": 0,
         "aidan_annotations": 0,
         "_deepnote_index_column": 58
        },
        {
         "tweets": "Now All These Hoes Talking Bout THEY NEED A GUCCI BITCH BE YOSELF",
         "ground_truth": 1,
         "nicola_annotations": 1,
         "hugo_annotations": 0,
         "mika_annotations": 1,
         "aidan_annotations": 1,
         "_deepnote_index_column": 59
        },
        {
         "tweets": "@user I quite liked the look of the air ram?? And dyson.. but you are right they are a bit steep...…",
         "ground_truth": 0,
         "nicola_annotations": 0,
         "hugo_annotations": 0,
         "mika_annotations": 0,
         "aidan_annotations": 0,
         "_deepnote_index_column": 60
        },
        {
         "tweets": "Worldbank reports that in the next 30 years many refugees have to leave her homeland, specially in …",
         "ground_truth": 1,
         "nicola_annotations": 1,
         "hugo_annotations": 1,
         "mika_annotations": 0,
         "aidan_annotations": 1,
         "_deepnote_index_column": 61
        },
        {
         "tweets": "@user Hope one of these crazy ppl assassinate Trump the stupid son of a bitch my free speech he has…",
         "ground_truth": 0,
         "nicola_annotations": 0,
         "hugo_annotations": 0,
         "mika_annotations": 0,
         "aidan_annotations": 1,
         "_deepnote_index_column": 62
        },
        {
         "tweets": "This is my most accurate understanding of religion",
         "ground_truth": 0,
         "nicola_annotations": 0,
         "hugo_annotations": 0,
         "mika_annotations": 0,
         "aidan_annotations": 0,
         "_deepnote_index_column": 63
        },
        {
         "tweets": "“If this is your definition of journalism, then don’t be suprised when people call you a racially o…",
         "ground_truth": 0,
         "nicola_annotations": 0,
         "hugo_annotations": 0,
         "mika_annotations": 0,
         "aidan_annotations": 0,
         "_deepnote_index_column": 64
        },
        {
         "tweets": "Did you know that Gurmeet Ram Rahim Singh Ji has donated 25 lacs from the Earning of Jattu Engineer…",
         "ground_truth": 0,
         "nicola_annotations": 0,
         "hugo_annotations": 0,
         "mika_annotations": 0,
         "aidan_annotations": 0,
         "_deepnote_index_column": 65
        },
        {
         "tweets": "@user Must take decisive action for sealing borders with B'desh to prevent rampant illegal migratio…",
         "ground_truth": 1,
         "nicola_annotations": 1,
         "hugo_annotations": 0,
         "mika_annotations": 0,
         "aidan_annotations": 0,
         "_deepnote_index_column": 66
        },
        {
         "tweets": "@user While ruling a quarter of the Earth the British still lived on an Island the size of Michigan…",
         "ground_truth": 0,
         "nicola_annotations": 0,
         "hugo_annotations": 0,
         "mika_annotations": 0,
         "aidan_annotations": 0,
         "_deepnote_index_column": 67
        },
        {
         "tweets": "Canberra is obviously happy to be seen as an ally of Trump and Orban. And to underline multilateral…",
         "ground_truth": 0,
         "nicola_annotations": 0,
         "hugo_annotations": 0,
         "mika_annotations": 0,
         "aidan_annotations": 0,
         "_deepnote_index_column": 68
        },
        {
         "tweets": "i use to get sky at my dads house but his whore girlfriend never use to let me watch it",
         "ground_truth": 1,
         "nicola_annotations": 1,
         "hugo_annotations": 0,
         "mika_annotations": 0,
         "aidan_annotations": 1,
         "_deepnote_index_column": 69
        },
        {
         "tweets": "@user why? So you can look like a trashy mess? #WomenSuck",
         "ground_truth": 1,
         "nicola_annotations": 1,
         "hugo_annotations": 1,
         "mika_annotations": 1,
         "aidan_annotations": 1,
         "_deepnote_index_column": 70
        },
        {
         "tweets": "@user LOL, you do dress like a slut :-) you look excellent.It entertains me that you have the slutt…",
         "ground_truth": 1,
         "nicola_annotations": 1,
         "hugo_annotations": 0,
         "mika_annotations": 1,
         "aidan_annotations": 1,
         "_deepnote_index_column": 71
        },
        {
         "tweets": "@user Not all women deserve respect. Not all men deserve respect. Respect is earned, not deserved. …",
         "ground_truth": 0,
         "nicola_annotations": 0,
         "hugo_annotations": 0,
         "mika_annotations": 0,
         "aidan_annotations": 0,
         "_deepnote_index_column": 72
        },
        {
         "tweets": "Fight to stop U.S. Customs and Border Protection from abusing immigrant children. @user #FamiliesBe…",
         "ground_truth": 0,
         "nicola_annotations": 0,
         "hugo_annotations": 0,
         "mika_annotations": 0,
         "aidan_annotations": 0,
         "_deepnote_index_column": 73
        },
        {
         "tweets": "Went to @user stupid bitch put one in upside down one side ways. #wtf £6 we'll spent #cunt",
         "ground_truth": 1,
         "nicola_annotations": 1,
         "hugo_annotations": 0,
         "mika_annotations": 1,
         "aidan_annotations": 1,
         "_deepnote_index_column": 74
        },
        {
         "tweets": "Ready for school? @user provides around 54,000 refugee students access to free education through 15…",
         "ground_truth": 0,
         "nicola_annotations": 0,
         "hugo_annotations": 0,
         "mika_annotations": 0,
         "aidan_annotations": 0,
         "_deepnote_index_column": 75
        },
        {
         "tweets": "@user @user Steinle, who was murdered by an illegal Mexican immigrant on July 1, 2015.",
         "ground_truth": 1,
         "nicola_annotations": 0,
         "hugo_annotations": 0,
         "mika_annotations": 0,
         "aidan_annotations": 0,
         "_deepnote_index_column": 76
        },
        {
         "tweets": "Thank you @user for welcoming and employing Omar and other refugees eager to provide for their fami…",
         "ground_truth": 0,
         "nicola_annotations": 0,
         "hugo_annotations": 0,
         "mika_annotations": 0,
         "aidan_annotations": 0,
         "_deepnote_index_column": 77
        },
        {
         "tweets": "She's nothing but a @user con. She's an illegal immigrant &amp; Slovenian skinhead Nazi B back home…",
         "ground_truth": 1,
         "nicola_annotations": 1,
         "hugo_annotations": 1,
         "mika_annotations": 1,
         "aidan_annotations": 1,
         "_deepnote_index_column": 78
        },
        {
         "tweets": "Mexican immigrant niggas when they’re working at their taco shop and the cops arrive",
         "ground_truth": 1,
         "nicola_annotations": 1,
         "hugo_annotations": 1,
         "mika_annotations": 1,
         "aidan_annotations": 1,
         "_deepnote_index_column": 79
        },
        {
         "tweets": "Now since all Indians been mapped thru Aadhar Card. Flush out illegal immigrants,whose No has grown…",
         "ground_truth": 1,
         "nicola_annotations": 1,
         "hugo_annotations": 0,
         "mika_annotations": 1,
         "aidan_annotations": 1,
         "_deepnote_index_column": 80
        },
        {
         "tweets": "It's National Kissing Day... So you can all kiss my mutha fuckin ass",
         "ground_truth": 0,
         "nicola_annotations": 0,
         "hugo_annotations": 0,
         "mika_annotations": 0,
         "aidan_annotations": 0,
         "_deepnote_index_column": 81
        },
        {
         "tweets": "Seriously. Get these people out of there. If we can't due to current EU or UN directives then we ca…",
         "ground_truth": 1,
         "nicola_annotations": 0,
         "hugo_annotations": 0,
         "mika_annotations": 1,
         "aidan_annotations": 0,
         "_deepnote_index_column": 82
        },
        {
         "tweets": "WHO'S THE WHORE NOW YOU PIECE OF SHIT",
         "ground_truth": 1,
         "nicola_annotations": 1,
         "hugo_annotations": 0,
         "mika_annotations": 1,
         "aidan_annotations": 1,
         "_deepnote_index_column": 83
        },
        {
         "tweets": "I'm a couple days late, but you should read this story from @user on the real estate business of im…",
         "ground_truth": 0,
         "nicola_annotations": 0,
         "hugo_annotations": 0,
         "mika_annotations": 0,
         "aidan_annotations": 0,
         "_deepnote_index_column": 84
        },
        {
         "tweets": "When she got you caught up and you're tryna figure out how you're gonna lie your way outta this one",
         "ground_truth": 0,
         "nicola_annotations": 0,
         "hugo_annotations": 0,
         "mika_annotations": 0,
         "aidan_annotations": 0,
         "_deepnote_index_column": 85
        },
        {
         "tweets": "Understanding #foodsecurity in the context of #ruraldevelopment and #agriculture is a central part …",
         "ground_truth": 0,
         "nicola_annotations": 0,
         "hugo_annotations": 0,
         "mika_annotations": 0,
         "aidan_annotations": 0,
         "_deepnote_index_column": 86
        },
        {
         "tweets": "I am not a refugee but thank you anyways for supporting my thread",
         "ground_truth": 0,
         "nicola_annotations": 0,
         "hugo_annotations": 0,
         "mika_annotations": 0,
         "aidan_annotations": 0,
         "_deepnote_index_column": 87
        },
        {
         "tweets": "I really sympathise for the kid at @user DC office who answered my call. I asked him how he feels a…",
         "ground_truth": 0,
         "nicola_annotations": 0,
         "hugo_annotations": 0,
         "mika_annotations": 0,
         "aidan_annotations": 0,
         "_deepnote_index_column": 88
        },
        {
         "tweets": "Son- mom, how did you and dad meet? Mom- he had on gray sweats and his dick print was fleekin so I …",
         "ground_truth": 0,
         "nicola_annotations": 1,
         "hugo_annotations": 0,
         "mika_annotations": 0,
         "aidan_annotations": 0,
         "_deepnote_index_column": 89
        },
        {
         "tweets": "Immigrant parents of companies like the annual National Homeland Security, trying to the perfect se…",
         "ground_truth": 0,
         "nicola_annotations": 0,
         "hugo_annotations": 0,
         "mika_annotations": 0,
         "aidan_annotations": 0,
         "_deepnote_index_column": 90
        },
        {
         "tweets": "When the gangbang goes horribly wrong",
         "ground_truth": 0,
         "nicola_annotations": 0,
         "hugo_annotations": 0,
         "mika_annotations": 0,
         "aidan_annotations": 0,
         "_deepnote_index_column": 91
        },
        {
         "tweets": "RT @user It's April fools day but I clown you bitches every day. Imma take the day off, have a good…",
         "ground_truth": 0,
         "nicola_annotations": 0,
         "hugo_annotations": 0,
         "mika_annotations": 1,
         "aidan_annotations": 0,
         "_deepnote_index_column": 92
        },
        {
         "tweets": "@user You call it whatever you want -You praise hoes and and women in the wrong moral leaf and atta…",
         "ground_truth": 1,
         "nicola_annotations": 1,
         "hugo_annotations": 0,
         "mika_annotations": 1,
         "aidan_annotations": 1,
         "_deepnote_index_column": 93
        },
        {
         "tweets": "Happiest of birthdays to the main hoe 😏💃🏻 I hope you have a wonderful day angel 🌹💞 @user",
         "ground_truth": 0,
         "nicola_annotations": 0,
         "hugo_annotations": 0,
         "mika_annotations": 0,
         "aidan_annotations": 0,
         "_deepnote_index_column": 94
        },
        {
         "tweets": "Oooohhhh bitch didn't even listen to the dead kennedys what a cunt lol I'm 34 and hate rap",
         "ground_truth": 0,
         "nicola_annotations": 1,
         "hugo_annotations": 0,
         "mika_annotations": 0,
         "aidan_annotations": 1,
         "_deepnote_index_column": 95
        },
        {
         "tweets": "@user Good Luck @user More Americans #WalkAwayFromDemocrat  #WallkAway from OPEN BORDERS Pro illega…",
         "ground_truth": 0,
         "nicola_annotations": 1,
         "hugo_annotations": 0,
         "mika_annotations": 0,
         "aidan_annotations": 0,
         "_deepnote_index_column": 96
        },
        {
         "tweets": "Bitch you can't keep up so stop trying",
         "ground_truth": 1,
         "nicola_annotations": 1,
         "hugo_annotations": 0,
         "mika_annotations": 1,
         "aidan_annotations": 0,
         "_deepnote_index_column": 97
        },
        {
         "tweets": "@user @user @user @user @user @user Japan is always operating under the premise that mass migration…",
         "ground_truth": 0,
         "nicola_annotations": 0,
         "hugo_annotations": 0,
         "mika_annotations": 0,
         "aidan_annotations": 0,
         "_deepnote_index_column": 98
        },
        {
         "tweets": "@user hi Best l see someone fucking girl comment bad in your pic.why you not block the bitch girl n…",
         "ground_truth": 1,
         "nicola_annotations": 1,
         "hugo_annotations": 0,
         "mika_annotations": 1,
         "aidan_annotations": 1,
         "_deepnote_index_column": 99
        }
       ],
       "rows_bottom": null
      },
      "text/plain": "                                               tweets  ground_truth  \\\n0   Cry baby Hollywood Dems Anti-Trump celebs too ...             0   \n1   @user Do I have to fight another bitch ass loo...             1   \n2   #SouthCarolina has spent millions of dollars t...             0   \n3     Me trying to flirt- I wanna eat your hot pocket             0   \n4   People say, \"Why didn't this or that immigrant...             0   \n..                                                ...           ...   \n95  Oooohhhh bitch didn't even listen to the dead ...             0   \n96  @user Good Luck @user More Americans #WalkAway...             0   \n97             Bitch you can't keep up so stop trying             1   \n98  @user @user @user @user @user @user Japan is a...             0   \n99  @user hi Best l see someone fucking girl comme...             1   \n\n    nicola_annotations  hugo_annotations  mika_annotations  aidan_annotations  \n0                    0                 0                 0                  0  \n1                    1                 0                 1                  1  \n2                    0                 0                 0                  0  \n3                    0                 0                 0                  0  \n4                    0                 0                 0                  0  \n..                 ...               ...               ...                ...  \n95                   1                 0                 0                  1  \n96                   1                 0                 0                  0  \n97                   1                 0                 1                  0  \n98                   0                 0                 0                  0  \n99                   1                 0                 1                  1  \n\n[100 rows x 6 columns]",
      "text/html": "<div>\n<style scoped>\n    .dataframe tbody tr th:only-of-type {\n        vertical-align: middle;\n    }\n\n    .dataframe tbody tr th {\n        vertical-align: top;\n    }\n\n    .dataframe thead th {\n        text-align: right;\n    }\n</style>\n<table border=\"1\" class=\"dataframe\">\n  <thead>\n    <tr style=\"text-align: right;\">\n      <th></th>\n      <th>tweets</th>\n      <th>ground_truth</th>\n      <th>nicola_annotations</th>\n      <th>hugo_annotations</th>\n      <th>mika_annotations</th>\n      <th>aidan_annotations</th>\n    </tr>\n  </thead>\n  <tbody>\n    <tr>\n      <th>0</th>\n      <td>Cry baby Hollywood Dems Anti-Trump celebs too ...</td>\n      <td>0</td>\n      <td>0</td>\n      <td>0</td>\n      <td>0</td>\n      <td>0</td>\n    </tr>\n    <tr>\n      <th>1</th>\n      <td>@user Do I have to fight another bitch ass loo...</td>\n      <td>1</td>\n      <td>1</td>\n      <td>0</td>\n      <td>1</td>\n      <td>1</td>\n    </tr>\n    <tr>\n      <th>2</th>\n      <td>#SouthCarolina has spent millions of dollars t...</td>\n      <td>0</td>\n      <td>0</td>\n      <td>0</td>\n      <td>0</td>\n      <td>0</td>\n    </tr>\n    <tr>\n      <th>3</th>\n      <td>Me trying to flirt- I wanna eat your hot pocket</td>\n      <td>0</td>\n      <td>0</td>\n      <td>0</td>\n      <td>0</td>\n      <td>0</td>\n    </tr>\n    <tr>\n      <th>4</th>\n      <td>People say, \"Why didn't this or that immigrant...</td>\n      <td>0</td>\n      <td>0</td>\n      <td>0</td>\n      <td>0</td>\n      <td>0</td>\n    </tr>\n    <tr>\n      <th>...</th>\n      <td>...</td>\n      <td>...</td>\n      <td>...</td>\n      <td>...</td>\n      <td>...</td>\n      <td>...</td>\n    </tr>\n    <tr>\n      <th>95</th>\n      <td>Oooohhhh bitch didn't even listen to the dead ...</td>\n      <td>0</td>\n      <td>1</td>\n      <td>0</td>\n      <td>0</td>\n      <td>1</td>\n    </tr>\n    <tr>\n      <th>96</th>\n      <td>@user Good Luck @user More Americans #WalkAway...</td>\n      <td>0</td>\n      <td>1</td>\n      <td>0</td>\n      <td>0</td>\n      <td>0</td>\n    </tr>\n    <tr>\n      <th>97</th>\n      <td>Bitch you can't keep up so stop trying</td>\n      <td>1</td>\n      <td>1</td>\n      <td>0</td>\n      <td>1</td>\n      <td>0</td>\n    </tr>\n    <tr>\n      <th>98</th>\n      <td>@user @user @user @user @user @user Japan is a...</td>\n      <td>0</td>\n      <td>0</td>\n      <td>0</td>\n      <td>0</td>\n      <td>0</td>\n    </tr>\n    <tr>\n      <th>99</th>\n      <td>@user hi Best l see someone fucking girl comme...</td>\n      <td>1</td>\n      <td>1</td>\n      <td>0</td>\n      <td>1</td>\n      <td>1</td>\n    </tr>\n  </tbody>\n</table>\n<p>100 rows × 6 columns</p>\n</div>"
     },
     "metadata": {}
    }
   ]
  },
  {
   "cell_type": "code",
   "metadata": {
    "cell_id": "00087-a3566916-c793-47bf-9242-240d72c5abe6",
    "deepnote_to_be_reexecuted": false,
    "execution_millis": 18,
    "execution_start": 1622364952339,
    "source_hash": "f7e552f7",
    "tags": [],
    "deepnote_cell_type": "code"
   },
   "source": "##compare what tweets were unanimously and un-unanimously annotated\nrel_columns=list(annotation_evaluation.columns)\nrel_columns.remove('tweets')\nrel_columns=annotation_evaluation[rel_columns]\nall_true=rel_columns.all(axis=1)\nall_false=-rel_columns.any(axis=1)\nun_unanimous=annotation_evaluation[-all_true & -all_false]\nunanimous=annotation_evaluation[all_true | all_false]\nun_unanimous",
   "execution_count": 62,
   "outputs": [
    {
     "output_type": "execute_result",
     "execution_count": 62,
     "data": {
      "application/vnd.deepnote.dataframe.v2+json": {
       "row_count": 43,
       "column_count": 6,
       "columns": [
        {
         "name": "tweets",
         "dtype": "object",
         "stats": {
          "unique_count": 43,
          "nan_count": 0,
          "categories": [
           {
            "name": "@user Do I have to fight another bitch ass looking cunt today?",
            "count": 1
           },
           {
            "name": "I'm not the one to let people profit on my back... I'll break yours and take what's mine 😘",
            "count": 1
           },
           {
            "name": "41 others",
            "count": 41
           }
          ]
         }
        },
        {
         "name": "ground_truth",
         "dtype": "int64",
         "stats": {
          "unique_count": 2,
          "nan_count": 0,
          "min": "0",
          "max": "1",
          "histogram": [
           {
            "bin_start": 0,
            "bin_end": 0.1,
            "count": 10
           },
           {
            "bin_start": 0.1,
            "bin_end": 0.2,
            "count": 0
           },
           {
            "bin_start": 0.2,
            "bin_end": 0.30000000000000004,
            "count": 0
           },
           {
            "bin_start": 0.30000000000000004,
            "bin_end": 0.4,
            "count": 0
           },
           {
            "bin_start": 0.4,
            "bin_end": 0.5,
            "count": 0
           },
           {
            "bin_start": 0.5,
            "bin_end": 0.6000000000000001,
            "count": 0
           },
           {
            "bin_start": 0.6000000000000001,
            "bin_end": 0.7000000000000001,
            "count": 0
           },
           {
            "bin_start": 0.7000000000000001,
            "bin_end": 0.8,
            "count": 0
           },
           {
            "bin_start": 0.8,
            "bin_end": 0.9,
            "count": 0
           },
           {
            "bin_start": 0.9,
            "bin_end": 1,
            "count": 33
           }
          ]
         }
        },
        {
         "name": "nicola_annotations",
         "dtype": "int64",
         "stats": {
          "unique_count": 2,
          "nan_count": 0,
          "min": "0",
          "max": "1",
          "histogram": [
           {
            "bin_start": 0,
            "bin_end": 0.1,
            "count": 11
           },
           {
            "bin_start": 0.1,
            "bin_end": 0.2,
            "count": 0
           },
           {
            "bin_start": 0.2,
            "bin_end": 0.30000000000000004,
            "count": 0
           },
           {
            "bin_start": 0.30000000000000004,
            "bin_end": 0.4,
            "count": 0
           },
           {
            "bin_start": 0.4,
            "bin_end": 0.5,
            "count": 0
           },
           {
            "bin_start": 0.5,
            "bin_end": 0.6000000000000001,
            "count": 0
           },
           {
            "bin_start": 0.6000000000000001,
            "bin_end": 0.7000000000000001,
            "count": 0
           },
           {
            "bin_start": 0.7000000000000001,
            "bin_end": 0.8,
            "count": 0
           },
           {
            "bin_start": 0.8,
            "bin_end": 0.9,
            "count": 0
           },
           {
            "bin_start": 0.9,
            "bin_end": 1,
            "count": 32
           }
          ]
         }
        },
        {
         "name": "hugo_annotations",
         "dtype": "int64",
         "stats": {
          "unique_count": 2,
          "nan_count": 0,
          "min": "0",
          "max": "1",
          "histogram": [
           {
            "bin_start": 0,
            "bin_end": 0.1,
            "count": 38
           },
           {
            "bin_start": 0.1,
            "bin_end": 0.2,
            "count": 0
           },
           {
            "bin_start": 0.2,
            "bin_end": 0.30000000000000004,
            "count": 0
           },
           {
            "bin_start": 0.30000000000000004,
            "bin_end": 0.4,
            "count": 0
           },
           {
            "bin_start": 0.4,
            "bin_end": 0.5,
            "count": 0
           },
           {
            "bin_start": 0.5,
            "bin_end": 0.6000000000000001,
            "count": 0
           },
           {
            "bin_start": 0.6000000000000001,
            "bin_end": 0.7000000000000001,
            "count": 0
           },
           {
            "bin_start": 0.7000000000000001,
            "bin_end": 0.8,
            "count": 0
           },
           {
            "bin_start": 0.8,
            "bin_end": 0.9,
            "count": 0
           },
           {
            "bin_start": 0.9,
            "bin_end": 1,
            "count": 5
           }
          ]
         }
        },
        {
         "name": "mika_annotations",
         "dtype": "int64",
         "stats": {
          "unique_count": 2,
          "nan_count": 0,
          "min": "0",
          "max": "1",
          "histogram": [
           {
            "bin_start": 0,
            "bin_end": 0.1,
            "count": 16
           },
           {
            "bin_start": 0.1,
            "bin_end": 0.2,
            "count": 0
           },
           {
            "bin_start": 0.2,
            "bin_end": 0.30000000000000004,
            "count": 0
           },
           {
            "bin_start": 0.30000000000000004,
            "bin_end": 0.4,
            "count": 0
           },
           {
            "bin_start": 0.4,
            "bin_end": 0.5,
            "count": 0
           },
           {
            "bin_start": 0.5,
            "bin_end": 0.6000000000000001,
            "count": 0
           },
           {
            "bin_start": 0.6000000000000001,
            "bin_end": 0.7000000000000001,
            "count": 0
           },
           {
            "bin_start": 0.7000000000000001,
            "bin_end": 0.8,
            "count": 0
           },
           {
            "bin_start": 0.8,
            "bin_end": 0.9,
            "count": 0
           },
           {
            "bin_start": 0.9,
            "bin_end": 1,
            "count": 27
           }
          ]
         }
        },
        {
         "name": "aidan_annotations",
         "dtype": "int64",
         "stats": {
          "unique_count": 2,
          "nan_count": 0,
          "min": "0",
          "max": "1",
          "histogram": [
           {
            "bin_start": 0,
            "bin_end": 0.1,
            "count": 19
           },
           {
            "bin_start": 0.1,
            "bin_end": 0.2,
            "count": 0
           },
           {
            "bin_start": 0.2,
            "bin_end": 0.30000000000000004,
            "count": 0
           },
           {
            "bin_start": 0.30000000000000004,
            "bin_end": 0.4,
            "count": 0
           },
           {
            "bin_start": 0.4,
            "bin_end": 0.5,
            "count": 0
           },
           {
            "bin_start": 0.5,
            "bin_end": 0.6000000000000001,
            "count": 0
           },
           {
            "bin_start": 0.6000000000000001,
            "bin_end": 0.7000000000000001,
            "count": 0
           },
           {
            "bin_start": 0.7000000000000001,
            "bin_end": 0.8,
            "count": 0
           },
           {
            "bin_start": 0.8,
            "bin_end": 0.9,
            "count": 0
           },
           {
            "bin_start": 0.9,
            "bin_end": 1,
            "count": 24
           }
          ]
         }
        },
        {
         "name": "_deepnote_index_column",
         "dtype": "int64"
        }
       ],
       "rows_top": [
        {
         "tweets": "@user Do I have to fight another bitch ass looking cunt today?",
         "ground_truth": 1,
         "nicola_annotations": 1,
         "hugo_annotations": 0,
         "mika_annotations": 1,
         "aidan_annotations": 1,
         "_deepnote_index_column": 1
        },
        {
         "tweets": "I'm not the one to let people profit on my back... I'll break yours and take what's mine 😘",
         "ground_truth": 0,
         "nicola_annotations": 0,
         "hugo_annotations": 0,
         "mika_annotations": 1,
         "aidan_annotations": 0,
         "_deepnote_index_column": 5
        },
        {
         "tweets": "Me trying to flirt- You have really nice eyebrows... I'd like to cum on them to see if they wash off",
         "ground_truth": 1,
         "nicola_annotations": 1,
         "hugo_annotations": 0,
         "mika_annotations": 1,
         "aidan_annotations": 0,
         "_deepnote_index_column": 7
        },
        {
         "tweets": "Says man who suggested an actress reported an historic rape to gain more work - you're a fully paid…",
         "ground_truth": 1,
         "nicola_annotations": 0,
         "hugo_annotations": 0,
         "mika_annotations": 1,
         "aidan_annotations": 0,
         "_deepnote_index_column": 9
        },
        {
         "tweets": "These are not refugees but aggressive male migrants the Med leaders - with exception of @user -want…",
         "ground_truth": 1,
         "nicola_annotations": 1,
         "hugo_annotations": 1,
         "mika_annotations": 1,
         "aidan_annotations": 0,
         "_deepnote_index_column": 11
        },
        {
         "tweets": "There are all these illegal immigrant aliens trying to get to Earth, but our 'Space Force' is prote…",
         "ground_truth": 0,
         "nicola_annotations": 1,
         "hugo_annotations": 0,
         "mika_annotations": 0,
         "aidan_annotations": 0,
         "_deepnote_index_column": 12
        },
        {
         "tweets": "Girls with blonde hair and dark roots make my cock hard for some reason",
         "ground_truth": 1,
         "nicola_annotations": 1,
         "hugo_annotations": 0,
         "mika_annotations": 0,
         "aidan_annotations": 0,
         "_deepnote_index_column": 15
        },
        {
         "tweets": "Some cunt at Walmart went full psycho on me saying how she had no fucking space to put her shit bit…",
         "ground_truth": 1,
         "nicola_annotations": 1,
         "hugo_annotations": 0,
         "mika_annotations": 1,
         "aidan_annotations": 1,
         "_deepnote_index_column": 18
        },
        {
         "tweets": "@user  As you fall over yourselves to welcome Syrian refugees ,homes etc why did you not do it for …",
         "ground_truth": 1,
         "nicola_annotations": 0,
         "hugo_annotations": 0,
         "mika_annotations": 1,
         "aidan_annotations": 1,
         "_deepnote_index_column": 19
        },
        {
         "tweets": "@user Its not about Trump kids.When are you putting up all those refugees in your home jk???  YOu k…",
         "ground_truth": 1,
         "nicola_annotations": 0,
         "hugo_annotations": 0,
         "mika_annotations": 0,
         "aidan_annotations": 0,
         "_deepnote_index_column": 25
        },
        {
         "tweets": "@user No doubt cory wins most hysterical women his eyes are popping out of his head foaming at the …",
         "ground_truth": 0,
         "nicola_annotations": 1,
         "hugo_annotations": 0,
         "mika_annotations": 0,
         "aidan_annotations": 1,
         "_deepnote_index_column": 26
        },
        {
         "tweets": "#FakeNews Alert!! Flu Vaccine PROPAGANDA Agenda - Immigration = Terrorism REPORT",
         "ground_truth": 1,
         "nicola_annotations": 1,
         "hugo_annotations": 1,
         "mika_annotations": 0,
         "aidan_annotations": 1,
         "_deepnote_index_column": 29
        },
        {
         "tweets": "Glad not all men are like that and sad some women are like this...",
         "ground_truth": 1,
         "nicola_annotations": 0,
         "hugo_annotations": 0,
         "mika_annotations": 0,
         "aidan_annotations": 1,
         "_deepnote_index_column": 31
        },
        {
         "tweets": "Don't let the world ending distract you from the fact that you're a hoe.",
         "ground_truth": 0,
         "nicola_annotations": 1,
         "hugo_annotations": 0,
         "mika_annotations": 1,
         "aidan_annotations": 1,
         "_deepnote_index_column": 32
        },
        {
         "tweets": "is this what you would call karma? like how do you as a mexican person vote and support trump, have…",
         "ground_truth": 0,
         "nicola_annotations": 0,
         "hugo_annotations": 0,
         "mika_annotations": 1,
         "aidan_annotations": 0,
         "_deepnote_index_column": 33
        },
        {
         "tweets": "@user Let me check your ass out with my cock",
         "ground_truth": 1,
         "nicola_annotations": 1,
         "hugo_annotations": 0,
         "mika_annotations": 1,
         "aidan_annotations": 1,
         "_deepnote_index_column": 34
        },
        {
         "tweets": "People in airport bars always wanna tell you their life stories... STFU Bill, IDGAF about your stup…",
         "ground_truth": 1,
         "nicola_annotations": 1,
         "hugo_annotations": 0,
         "mika_annotations": 1,
         "aidan_annotations": 0,
         "_deepnote_index_column": 35
        },
        {
         "tweets": "I’ll still fuck a stupid Bitch up tho",
         "ground_truth": 1,
         "nicola_annotations": 1,
         "hugo_annotations": 0,
         "mika_annotations": 1,
         "aidan_annotations": 0,
         "_deepnote_index_column": 36
        },
        {
         "tweets": "@user USA should stop trading with Mexico, if they dont stop the refugees.",
         "ground_truth": 1,
         "nicola_annotations": 1,
         "hugo_annotations": 1,
         "mika_annotations": 0,
         "aidan_annotations": 0,
         "_deepnote_index_column": 41
        },
        {
         "tweets": "@user The difference is you promote being a slut you dumb bitch you should go fuck yourself and sti…",
         "ground_truth": 1,
         "nicola_annotations": 1,
         "hugo_annotations": 0,
         "mika_annotations": 1,
         "aidan_annotations": 1,
         "_deepnote_index_column": 44
        },
        {
         "tweets": "The blue wave is coming if we don't build that damn wall. #BuildThatWall & #MAGA",
         "ground_truth": 1,
         "nicola_annotations": 0,
         "hugo_annotations": 1,
         "mika_annotations": 1,
         "aidan_annotations": 0,
         "_deepnote_index_column": 46
        },
        {
         "tweets": "@user let's get weird! Summertime baby! #FuckBitches",
         "ground_truth": 1,
         "nicola_annotations": 1,
         "hugo_annotations": 0,
         "mika_annotations": 0,
         "aidan_annotations": 1,
         "_deepnote_index_column": 49
        },
        {
         "tweets": "WHO.. ARE. YOOUU? This is not mario kart. You are no princess peach. Get your skank ass up out my l…",
         "ground_truth": 1,
         "nicola_annotations": 1,
         "hugo_annotations": 0,
         "mika_annotations": 1,
         "aidan_annotations": 1,
         "_deepnote_index_column": 50
        },
        {
         "tweets": "Boo, you sweaty whore",
         "ground_truth": 1,
         "nicola_annotations": 1,
         "hugo_annotations": 0,
         "mika_annotations": 1,
         "aidan_annotations": 1,
         "_deepnote_index_column": 51
        },
        {
         "tweets": "someone: breathes ada: dumb whore cunt slut your moms a hoe kill yourself bitch get shot",
         "ground_truth": 1,
         "nicola_annotations": 1,
         "hugo_annotations": 0,
         "mika_annotations": 1,
         "aidan_annotations": 1,
         "_deepnote_index_column": 57
        },
        {
         "tweets": "Now All These Hoes Talking Bout THEY NEED A GUCCI BITCH BE YOSELF",
         "ground_truth": 1,
         "nicola_annotations": 1,
         "hugo_annotations": 0,
         "mika_annotations": 1,
         "aidan_annotations": 1,
         "_deepnote_index_column": 59
        },
        {
         "tweets": "Worldbank reports that in the next 30 years many refugees have to leave her homeland, specially in …",
         "ground_truth": 1,
         "nicola_annotations": 1,
         "hugo_annotations": 1,
         "mika_annotations": 0,
         "aidan_annotations": 1,
         "_deepnote_index_column": 61
        },
        {
         "tweets": "@user Hope one of these crazy ppl assassinate Trump the stupid son of a bitch my free speech he has…",
         "ground_truth": 0,
         "nicola_annotations": 0,
         "hugo_annotations": 0,
         "mika_annotations": 0,
         "aidan_annotations": 1,
         "_deepnote_index_column": 62
        },
        {
         "tweets": "@user Must take decisive action for sealing borders with B'desh to prevent rampant illegal migratio…",
         "ground_truth": 1,
         "nicola_annotations": 1,
         "hugo_annotations": 0,
         "mika_annotations": 0,
         "aidan_annotations": 0,
         "_deepnote_index_column": 66
        },
        {
         "tweets": "i use to get sky at my dads house but his whore girlfriend never use to let me watch it",
         "ground_truth": 1,
         "nicola_annotations": 1,
         "hugo_annotations": 0,
         "mika_annotations": 0,
         "aidan_annotations": 1,
         "_deepnote_index_column": 69
        },
        {
         "tweets": "@user LOL, you do dress like a slut :-) you look excellent.It entertains me that you have the slutt…",
         "ground_truth": 1,
         "nicola_annotations": 1,
         "hugo_annotations": 0,
         "mika_annotations": 1,
         "aidan_annotations": 1,
         "_deepnote_index_column": 71
        },
        {
         "tweets": "Went to @user stupid bitch put one in upside down one side ways. #wtf £6 we'll spent #cunt",
         "ground_truth": 1,
         "nicola_annotations": 1,
         "hugo_annotations": 0,
         "mika_annotations": 1,
         "aidan_annotations": 1,
         "_deepnote_index_column": 74
        },
        {
         "tweets": "@user @user Steinle, who was murdered by an illegal Mexican immigrant on July 1, 2015.",
         "ground_truth": 1,
         "nicola_annotations": 0,
         "hugo_annotations": 0,
         "mika_annotations": 0,
         "aidan_annotations": 0,
         "_deepnote_index_column": 76
        },
        {
         "tweets": "Now since all Indians been mapped thru Aadhar Card. Flush out illegal immigrants,whose No has grown…",
         "ground_truth": 1,
         "nicola_annotations": 1,
         "hugo_annotations": 0,
         "mika_annotations": 1,
         "aidan_annotations": 1,
         "_deepnote_index_column": 80
        },
        {
         "tweets": "Seriously. Get these people out of there. If we can't due to current EU or UN directives then we ca…",
         "ground_truth": 1,
         "nicola_annotations": 0,
         "hugo_annotations": 0,
         "mika_annotations": 1,
         "aidan_annotations": 0,
         "_deepnote_index_column": 82
        },
        {
         "tweets": "WHO'S THE WHORE NOW YOU PIECE OF SHIT",
         "ground_truth": 1,
         "nicola_annotations": 1,
         "hugo_annotations": 0,
         "mika_annotations": 1,
         "aidan_annotations": 1,
         "_deepnote_index_column": 83
        },
        {
         "tweets": "Son- mom, how did you and dad meet? Mom- he had on gray sweats and his dick print was fleekin so I …",
         "ground_truth": 0,
         "nicola_annotations": 1,
         "hugo_annotations": 0,
         "mika_annotations": 0,
         "aidan_annotations": 0,
         "_deepnote_index_column": 89
        },
        {
         "tweets": "RT @user It's April fools day but I clown you bitches every day. Imma take the day off, have a good…",
         "ground_truth": 0,
         "nicola_annotations": 0,
         "hugo_annotations": 0,
         "mika_annotations": 1,
         "aidan_annotations": 0,
         "_deepnote_index_column": 92
        },
        {
         "tweets": "@user You call it whatever you want -You praise hoes and and women in the wrong moral leaf and atta…",
         "ground_truth": 1,
         "nicola_annotations": 1,
         "hugo_annotations": 0,
         "mika_annotations": 1,
         "aidan_annotations": 1,
         "_deepnote_index_column": 93
        },
        {
         "tweets": "Oooohhhh bitch didn't even listen to the dead kennedys what a cunt lol I'm 34 and hate rap",
         "ground_truth": 0,
         "nicola_annotations": 1,
         "hugo_annotations": 0,
         "mika_annotations": 0,
         "aidan_annotations": 1,
         "_deepnote_index_column": 95
        },
        {
         "tweets": "@user Good Luck @user More Americans #WalkAwayFromDemocrat  #WallkAway from OPEN BORDERS Pro illega…",
         "ground_truth": 0,
         "nicola_annotations": 1,
         "hugo_annotations": 0,
         "mika_annotations": 0,
         "aidan_annotations": 0,
         "_deepnote_index_column": 96
        },
        {
         "tweets": "Bitch you can't keep up so stop trying",
         "ground_truth": 1,
         "nicola_annotations": 1,
         "hugo_annotations": 0,
         "mika_annotations": 1,
         "aidan_annotations": 0,
         "_deepnote_index_column": 97
        },
        {
         "tweets": "@user hi Best l see someone fucking girl comment bad in your pic.why you not block the bitch girl n…",
         "ground_truth": 1,
         "nicola_annotations": 1,
         "hugo_annotations": 0,
         "mika_annotations": 1,
         "aidan_annotations": 1,
         "_deepnote_index_column": 99
        }
       ],
       "rows_bottom": null
      },
      "text/plain": "                                               tweets  ground_truth  \\\n1   @user Do I have to fight another bitch ass loo...             1   \n5   I'm not the one to let people profit on my bac...             0   \n7   Me trying to flirt- You have really nice eyebr...             1   \n9   Says man who suggested an actress reported an ...             1   \n11  These are not refugees but aggressive male mig...             1   \n12  There are all these illegal immigrant aliens t...             0   \n15  Girls with blonde hair and dark roots make my ...             1   \n18  Some cunt at Walmart went full psycho on me sa...             1   \n19  @user  As you fall over yourselves to welcome ...             1   \n25  @user Its not about Trump kids.When are you pu...             1   \n26  @user No doubt cory wins most hysterical women...             0   \n29  #FakeNews Alert!! Flu Vaccine PROPAGANDA Agend...             1   \n31  Glad not all men are like that and sad some wo...             1   \n32  Don't let the world ending distract you from t...             0   \n33  is this what you would call karma? like how do...             0   \n34       @user Let me check your ass out with my cock             1   \n35  People in airport bars always wanna tell you t...             1   \n36              I’ll still fuck a stupid Bitch up tho             1   \n41  @user USA should stop trading with Mexico, if ...             1   \n44  @user The difference is you promote being a sl...             1   \n46  The blue wave is coming if we don't build that...             1   \n49  @user let's get weird! Summertime baby! #FuckB...             1   \n50  WHO.. ARE. YOOUU? This is not mario kart. You ...             1   \n51                              Boo, you sweaty whore             1   \n57  someone: breathes ada: dumb whore cunt slut yo...             1   \n59  Now All These Hoes Talking Bout THEY NEED A GU...             1   \n61  Worldbank reports that in the next 30 years ma...             1   \n62  @user Hope one of these crazy ppl assassinate ...             0   \n66  @user Must take decisive action for sealing bo...             1   \n69  i use to get sky at my dads house but his whor...             1   \n71  @user LOL, you do dress like a slut :-) you lo...             1   \n74  Went to @user stupid bitch put one in upside d...             1   \n76  @user @user Steinle, who was murdered by an il...             1   \n80  Now since all Indians been mapped thru Aadhar ...             1   \n82  Seriously. Get these people out of there. If w...             1   \n83              WHO'S THE WHORE NOW YOU PIECE OF SHIT             1   \n89  Son- mom, how did you and dad meet? Mom- he ha...             0   \n92  RT @user It's April fools day but I clown you ...             0   \n93  @user You call it whatever you want -You prais...             1   \n95  Oooohhhh bitch didn't even listen to the dead ...             0   \n96  @user Good Luck @user More Americans #WalkAway...             0   \n97             Bitch you can't keep up so stop trying             1   \n99  @user hi Best l see someone fucking girl comme...             1   \n\n    nicola_annotations  hugo_annotations  mika_annotations  aidan_annotations  \n1                    1                 0                 1                  1  \n5                    0                 0                 1                  0  \n7                    1                 0                 1                  0  \n9                    0                 0                 1                  0  \n11                   1                 1                 1                  0  \n12                   1                 0                 0                  0  \n15                   1                 0                 0                  0  \n18                   1                 0                 1                  1  \n19                   0                 0                 1                  1  \n25                   0                 0                 0                  0  \n26                   1                 0                 0                  1  \n29                   1                 1                 0                  1  \n31                   0                 0                 0                  1  \n32                   1                 0                 1                  1  \n33                   0                 0                 1                  0  \n34                   1                 0                 1                  1  \n35                   1                 0                 1                  0  \n36                   1                 0                 1                  0  \n41                   1                 1                 0                  0  \n44                   1                 0                 1                  1  \n46                   0                 1                 1                  0  \n49                   1                 0                 0                  1  \n50                   1                 0                 1                  1  \n51                   1                 0                 1                  1  \n57                   1                 0                 1                  1  \n59                   1                 0                 1                  1  \n61                   1                 1                 0                  1  \n62                   0                 0                 0                  1  \n66                   1                 0                 0                  0  \n69                   1                 0                 0                  1  \n71                   1                 0                 1                  1  \n74                   1                 0                 1                  1  \n76                   0                 0                 0                  0  \n80                   1                 0                 1                  1  \n82                   0                 0                 1                  0  \n83                   1                 0                 1                  1  \n89                   1                 0                 0                  0  \n92                   0                 0                 1                  0  \n93                   1                 0                 1                  1  \n95                   1                 0                 0                  1  \n96                   1                 0                 0                  0  \n97                   1                 0                 1                  0  \n99                   1                 0                 1                  1  ",
      "text/html": "<div>\n<style scoped>\n    .dataframe tbody tr th:only-of-type {\n        vertical-align: middle;\n    }\n\n    .dataframe tbody tr th {\n        vertical-align: top;\n    }\n\n    .dataframe thead th {\n        text-align: right;\n    }\n</style>\n<table border=\"1\" class=\"dataframe\">\n  <thead>\n    <tr style=\"text-align: right;\">\n      <th></th>\n      <th>tweets</th>\n      <th>ground_truth</th>\n      <th>nicola_annotations</th>\n      <th>hugo_annotations</th>\n      <th>mika_annotations</th>\n      <th>aidan_annotations</th>\n    </tr>\n  </thead>\n  <tbody>\n    <tr>\n      <th>1</th>\n      <td>@user Do I have to fight another bitch ass loo...</td>\n      <td>1</td>\n      <td>1</td>\n      <td>0</td>\n      <td>1</td>\n      <td>1</td>\n    </tr>\n    <tr>\n      <th>5</th>\n      <td>I'm not the one to let people profit on my bac...</td>\n      <td>0</td>\n      <td>0</td>\n      <td>0</td>\n      <td>1</td>\n      <td>0</td>\n    </tr>\n    <tr>\n      <th>7</th>\n      <td>Me trying to flirt- You have really nice eyebr...</td>\n      <td>1</td>\n      <td>1</td>\n      <td>0</td>\n      <td>1</td>\n      <td>0</td>\n    </tr>\n    <tr>\n      <th>9</th>\n      <td>Says man who suggested an actress reported an ...</td>\n      <td>1</td>\n      <td>0</td>\n      <td>0</td>\n      <td>1</td>\n      <td>0</td>\n    </tr>\n    <tr>\n      <th>11</th>\n      <td>These are not refugees but aggressive male mig...</td>\n      <td>1</td>\n      <td>1</td>\n      <td>1</td>\n      <td>1</td>\n      <td>0</td>\n    </tr>\n    <tr>\n      <th>12</th>\n      <td>There are all these illegal immigrant aliens t...</td>\n      <td>0</td>\n      <td>1</td>\n      <td>0</td>\n      <td>0</td>\n      <td>0</td>\n    </tr>\n    <tr>\n      <th>15</th>\n      <td>Girls with blonde hair and dark roots make my ...</td>\n      <td>1</td>\n      <td>1</td>\n      <td>0</td>\n      <td>0</td>\n      <td>0</td>\n    </tr>\n    <tr>\n      <th>18</th>\n      <td>Some cunt at Walmart went full psycho on me sa...</td>\n      <td>1</td>\n      <td>1</td>\n      <td>0</td>\n      <td>1</td>\n      <td>1</td>\n    </tr>\n    <tr>\n      <th>19</th>\n      <td>@user  As you fall over yourselves to welcome ...</td>\n      <td>1</td>\n      <td>0</td>\n      <td>0</td>\n      <td>1</td>\n      <td>1</td>\n    </tr>\n    <tr>\n      <th>25</th>\n      <td>@user Its not about Trump kids.When are you pu...</td>\n      <td>1</td>\n      <td>0</td>\n      <td>0</td>\n      <td>0</td>\n      <td>0</td>\n    </tr>\n    <tr>\n      <th>26</th>\n      <td>@user No doubt cory wins most hysterical women...</td>\n      <td>0</td>\n      <td>1</td>\n      <td>0</td>\n      <td>0</td>\n      <td>1</td>\n    </tr>\n    <tr>\n      <th>29</th>\n      <td>#FakeNews Alert!! Flu Vaccine PROPAGANDA Agend...</td>\n      <td>1</td>\n      <td>1</td>\n      <td>1</td>\n      <td>0</td>\n      <td>1</td>\n    </tr>\n    <tr>\n      <th>31</th>\n      <td>Glad not all men are like that and sad some wo...</td>\n      <td>1</td>\n      <td>0</td>\n      <td>0</td>\n      <td>0</td>\n      <td>1</td>\n    </tr>\n    <tr>\n      <th>32</th>\n      <td>Don't let the world ending distract you from t...</td>\n      <td>0</td>\n      <td>1</td>\n      <td>0</td>\n      <td>1</td>\n      <td>1</td>\n    </tr>\n    <tr>\n      <th>33</th>\n      <td>is this what you would call karma? like how do...</td>\n      <td>0</td>\n      <td>0</td>\n      <td>0</td>\n      <td>1</td>\n      <td>0</td>\n    </tr>\n    <tr>\n      <th>34</th>\n      <td>@user Let me check your ass out with my cock</td>\n      <td>1</td>\n      <td>1</td>\n      <td>0</td>\n      <td>1</td>\n      <td>1</td>\n    </tr>\n    <tr>\n      <th>35</th>\n      <td>People in airport bars always wanna tell you t...</td>\n      <td>1</td>\n      <td>1</td>\n      <td>0</td>\n      <td>1</td>\n      <td>0</td>\n    </tr>\n    <tr>\n      <th>36</th>\n      <td>I’ll still fuck a stupid Bitch up tho</td>\n      <td>1</td>\n      <td>1</td>\n      <td>0</td>\n      <td>1</td>\n      <td>0</td>\n    </tr>\n    <tr>\n      <th>41</th>\n      <td>@user USA should stop trading with Mexico, if ...</td>\n      <td>1</td>\n      <td>1</td>\n      <td>1</td>\n      <td>0</td>\n      <td>0</td>\n    </tr>\n    <tr>\n      <th>44</th>\n      <td>@user The difference is you promote being a sl...</td>\n      <td>1</td>\n      <td>1</td>\n      <td>0</td>\n      <td>1</td>\n      <td>1</td>\n    </tr>\n    <tr>\n      <th>46</th>\n      <td>The blue wave is coming if we don't build that...</td>\n      <td>1</td>\n      <td>0</td>\n      <td>1</td>\n      <td>1</td>\n      <td>0</td>\n    </tr>\n    <tr>\n      <th>49</th>\n      <td>@user let's get weird! Summertime baby! #FuckB...</td>\n      <td>1</td>\n      <td>1</td>\n      <td>0</td>\n      <td>0</td>\n      <td>1</td>\n    </tr>\n    <tr>\n      <th>50</th>\n      <td>WHO.. ARE. YOOUU? This is not mario kart. You ...</td>\n      <td>1</td>\n      <td>1</td>\n      <td>0</td>\n      <td>1</td>\n      <td>1</td>\n    </tr>\n    <tr>\n      <th>51</th>\n      <td>Boo, you sweaty whore</td>\n      <td>1</td>\n      <td>1</td>\n      <td>0</td>\n      <td>1</td>\n      <td>1</td>\n    </tr>\n    <tr>\n      <th>57</th>\n      <td>someone: breathes ada: dumb whore cunt slut yo...</td>\n      <td>1</td>\n      <td>1</td>\n      <td>0</td>\n      <td>1</td>\n      <td>1</td>\n    </tr>\n    <tr>\n      <th>59</th>\n      <td>Now All These Hoes Talking Bout THEY NEED A GU...</td>\n      <td>1</td>\n      <td>1</td>\n      <td>0</td>\n      <td>1</td>\n      <td>1</td>\n    </tr>\n    <tr>\n      <th>61</th>\n      <td>Worldbank reports that in the next 30 years ma...</td>\n      <td>1</td>\n      <td>1</td>\n      <td>1</td>\n      <td>0</td>\n      <td>1</td>\n    </tr>\n    <tr>\n      <th>62</th>\n      <td>@user Hope one of these crazy ppl assassinate ...</td>\n      <td>0</td>\n      <td>0</td>\n      <td>0</td>\n      <td>0</td>\n      <td>1</td>\n    </tr>\n    <tr>\n      <th>66</th>\n      <td>@user Must take decisive action for sealing bo...</td>\n      <td>1</td>\n      <td>1</td>\n      <td>0</td>\n      <td>0</td>\n      <td>0</td>\n    </tr>\n    <tr>\n      <th>69</th>\n      <td>i use to get sky at my dads house but his whor...</td>\n      <td>1</td>\n      <td>1</td>\n      <td>0</td>\n      <td>0</td>\n      <td>1</td>\n    </tr>\n    <tr>\n      <th>71</th>\n      <td>@user LOL, you do dress like a slut :-) you lo...</td>\n      <td>1</td>\n      <td>1</td>\n      <td>0</td>\n      <td>1</td>\n      <td>1</td>\n    </tr>\n    <tr>\n      <th>74</th>\n      <td>Went to @user stupid bitch put one in upside d...</td>\n      <td>1</td>\n      <td>1</td>\n      <td>0</td>\n      <td>1</td>\n      <td>1</td>\n    </tr>\n    <tr>\n      <th>76</th>\n      <td>@user @user Steinle, who was murdered by an il...</td>\n      <td>1</td>\n      <td>0</td>\n      <td>0</td>\n      <td>0</td>\n      <td>0</td>\n    </tr>\n    <tr>\n      <th>80</th>\n      <td>Now since all Indians been mapped thru Aadhar ...</td>\n      <td>1</td>\n      <td>1</td>\n      <td>0</td>\n      <td>1</td>\n      <td>1</td>\n    </tr>\n    <tr>\n      <th>82</th>\n      <td>Seriously. Get these people out of there. If w...</td>\n      <td>1</td>\n      <td>0</td>\n      <td>0</td>\n      <td>1</td>\n      <td>0</td>\n    </tr>\n    <tr>\n      <th>83</th>\n      <td>WHO'S THE WHORE NOW YOU PIECE OF SHIT</td>\n      <td>1</td>\n      <td>1</td>\n      <td>0</td>\n      <td>1</td>\n      <td>1</td>\n    </tr>\n    <tr>\n      <th>89</th>\n      <td>Son- mom, how did you and dad meet? Mom- he ha...</td>\n      <td>0</td>\n      <td>1</td>\n      <td>0</td>\n      <td>0</td>\n      <td>0</td>\n    </tr>\n    <tr>\n      <th>92</th>\n      <td>RT @user It's April fools day but I clown you ...</td>\n      <td>0</td>\n      <td>0</td>\n      <td>0</td>\n      <td>1</td>\n      <td>0</td>\n    </tr>\n    <tr>\n      <th>93</th>\n      <td>@user You call it whatever you want -You prais...</td>\n      <td>1</td>\n      <td>1</td>\n      <td>0</td>\n      <td>1</td>\n      <td>1</td>\n    </tr>\n    <tr>\n      <th>95</th>\n      <td>Oooohhhh bitch didn't even listen to the dead ...</td>\n      <td>0</td>\n      <td>1</td>\n      <td>0</td>\n      <td>0</td>\n      <td>1</td>\n    </tr>\n    <tr>\n      <th>96</th>\n      <td>@user Good Luck @user More Americans #WalkAway...</td>\n      <td>0</td>\n      <td>1</td>\n      <td>0</td>\n      <td>0</td>\n      <td>0</td>\n    </tr>\n    <tr>\n      <th>97</th>\n      <td>Bitch you can't keep up so stop trying</td>\n      <td>1</td>\n      <td>1</td>\n      <td>0</td>\n      <td>1</td>\n      <td>0</td>\n    </tr>\n    <tr>\n      <th>99</th>\n      <td>@user hi Best l see someone fucking girl comme...</td>\n      <td>1</td>\n      <td>1</td>\n      <td>0</td>\n      <td>1</td>\n      <td>1</td>\n    </tr>\n  </tbody>\n</table>\n</div>"
     },
     "metadata": {}
    }
   ]
  },
  {
   "cell_type": "code",
   "metadata": {
    "cell_id": "00087-cfdedb70-28f4-40e9-b489-0c2610ad43f5",
    "deepnote_to_be_reexecuted": false,
    "execution_millis": 55,
    "execution_start": 1622364952406,
    "source_hash": "7426c194",
    "tags": [],
    "deepnote_cell_type": "code"
   },
   "source": "from sklearn.metrics import confusion_matrix\nfrom sklearn.metrics import classification_report\n\nfor person in list(annotation_evaluation)[-4:]:\n    print('#'*3 + ' ' + person.replace('_',' ').title() + ' ' + '#'*3)    \n    print(pd.DataFrame(confusion_matrix(annotation_evaluation['ground_truth'], annotation_evaluation[person]), columns=['Predicted Non-Hate', 'Predicted Hate'], index=['Non-Hate', 'Hate']))\n    print('\\n')\n    \n    print(classification_report(annotation_evaluation['ground_truth'], annotation_evaluation[person], target_names=[\"Non-Hate\",\"Hate\"]))\n    print('\\n')",
   "execution_count": 63,
   "outputs": [
    {
     "name": "stdout",
     "text": "### Nicola Annotations ###\n          Predicted Non-Hate  Predicted Hate\nNon-Hate                  51               6\nHate                       7              36\n\n\n              precision    recall  f1-score   support\n\n    Non-Hate       0.88      0.89      0.89        57\n        Hate       0.86      0.84      0.85        43\n\n    accuracy                           0.87       100\n   macro avg       0.87      0.87      0.87       100\nweighted avg       0.87      0.87      0.87       100\n\n\n\n### Hugo Annotations ###\n          Predicted Non-Hate  Predicted Hate\nNon-Hate                  57               0\nHate                      28              15\n\n\n              precision    recall  f1-score   support\n\n    Non-Hate       0.67      1.00      0.80        57\n        Hate       1.00      0.35      0.52        43\n\n    accuracy                           0.72       100\n   macro avg       0.84      0.67      0.66       100\nweighted avg       0.81      0.72      0.68       100\n\n\n\n### Mika Annotations ###\n          Predicted Non-Hate  Predicted Hate\nNon-Hate                  53               4\nHate                      10              33\n\n\n              precision    recall  f1-score   support\n\n    Non-Hate       0.84      0.93      0.88        57\n        Hate       0.89      0.77      0.82        43\n\n    accuracy                           0.86       100\n   macro avg       0.87      0.85      0.85       100\nweighted avg       0.86      0.86      0.86       100\n\n\n\n### Aidan Annotations ###\n          Predicted Non-Hate  Predicted Hate\nNon-Hate                  53               4\nHate                      13              30\n\n\n              precision    recall  f1-score   support\n\n    Non-Hate       0.80      0.93      0.86        57\n        Hate       0.88      0.70      0.78        43\n\n    accuracy                           0.83       100\n   macro avg       0.84      0.81      0.82       100\nweighted avg       0.84      0.83      0.83       100\n\n\n\n",
     "output_type": "stream"
    }
   ]
  },
  {
   "cell_type": "markdown",
   "source": "*TASK 4*\n# Automatic Prediction XXX\n---",
   "metadata": {
    "cell_id": "00013-fc964c9b-2d90-48f7-93b6-89e1c191c669",
    "tags": [],
    "deepnote_cell_type": "markdown"
   }
  },
  {
   "cell_type": "code",
   "metadata": {
    "tags": [],
    "cell_id": "00093-f1e72067-701b-4e2f-8d01-0bd5ff35793c",
    "deepnote_to_be_reexecuted": false,
    "source_hash": "7c594e14",
    "execution_start": 1622369322088,
    "execution_millis": 3,
    "deepnote_cell_type": "code"
   },
   "source": "###imports for models, to be moved up later\nfrom sklearn.feature_extraction.text import CountVectorizer\nfrom sklearn.feature_extraction.text import TfidfTransformer\n\nfrom sklearn.naive_bayes import MultinomialNB\nfrom sklearn.linear_model import SGDClassifier\nfrom sklearn.ensemble import RandomForestClassifier\n\nimport nltk\nfrom nltk.corpus import stopwords\n\nfrom sklearn.metrics import accuracy_score, precision_recall_fscore_support\n\n\nfrom matplotlib.ticker import MaxNLocator",
   "execution_count": 186,
   "outputs": []
  },
  {
   "cell_type": "code",
   "metadata": {
    "tags": [],
    "cell_id": "00094-cf289443-0ef7-489d-8a56-62dd7359137b",
    "deepnote_to_be_reexecuted": false,
    "source_hash": "22fa07fa",
    "execution_start": 1622364952452,
    "execution_millis": 73,
    "deepnote_cell_type": "code"
   },
   "source": "nltk.download('stopwords')",
   "execution_count": 65,
   "outputs": [
    {
     "name": "stderr",
     "text": "[nltk_data] Downloading package stopwords to /root/nltk_data...\n[nltk_data]   Unzipping corpora/stopwords.zip.\n",
     "output_type": "stream"
    },
    {
     "output_type": "execute_result",
     "execution_count": 65,
     "data": {
      "text/plain": "True"
     },
     "metadata": {}
    }
   ]
  },
  {
   "cell_type": "markdown",
   "source": "### Models",
   "metadata": {
    "tags": [],
    "cell_id": "00093-871598a9-d4da-4712-bee2-20fae0b2cc46",
    "deepnote_cell_type": "markdown"
   }
  },
  {
   "cell_type": "markdown",
   "source": "##### Some helper functions that are used for the model -",
   "metadata": {
    "tags": [],
    "cell_id": "00096-9202eb93-11d6-4ece-b5ec-cf4b8e6c55c1",
    "deepnote_cell_type": "markdown"
   }
  },
  {
   "cell_type": "code",
   "metadata": {
    "tags": [],
    "cell_id": "00105-32635f8a-7599-47ab-a279-bbcddabc843a",
    "deepnote_to_be_reexecuted": false,
    "source_hash": "7e682dfb",
    "execution_start": 1622364952552,
    "execution_millis": 0,
    "deepnote_cell_type": "code"
   },
   "source": "def dummy(doc):\n    return doc\ndef text_format(dataset,tokenised,tvt=\"val\"):\n    \"\"\"formats the data into a format that is readable by the models\"\"\"\n    cv = CountVectorizer(tokenizer=dummy, preprocessor=dummy) \n    cv.fit(DATA[\"processed\"][dataset][\"train_text\"])\n    if tvt==\"train\":\n        #cv.fit(DATA[\"processed\"][dataset][\"val_text\"])\n        X_train_counts = cv.transform(DATA[\"processed\"][dataset][\"train_text\"])\n        #tfidf_transformer = TfidfTransformer()\n        #fitted_transform=tfidf_transformer.fit(X_train_counts)#fit to the test vocab\n        #X_tfidf = fitted_transform.transform(X_train_counts)\n    else:\n        #cv.fit(DATA[\"processed\"][dataset][f\"{tvt}_text\"])\n        X_train_counts = cv.transform(tokenised)\n        #X_tfidf = fitted_transform.transform(X_train_counts)# read into what this does\n    return X_train_counts#X_tfidf",
   "execution_count": 66,
   "outputs": []
  },
  {
   "cell_type": "code",
   "metadata": {
    "tags": [],
    "cell_id": "00100-5e6acd7d-4ae7-4e78-9e6a-b66efaf41580",
    "deepnote_to_be_reexecuted": false,
    "source_hash": "1a9eaeb8",
    "execution_start": 1622368967096,
    "execution_millis": 0,
    "deepnote_cell_type": "code"
   },
   "source": "def remove_stop_uncommon(tokenised,min_frequency,vocab,remove_stop=True):\n    stop_words=set()\n    if remove_stop==True:\n        stop_words = set(stopwords.words('english'))\n    temp_vocab_dict={vocab['index'][x]:vocab['frequency'][x] for x in range(vocab.shape[0])}\n    #   <- make work later\n    #if not in the temp vocab dict then append as 0\n    for token_list in tokenised:\n        for token in token_list:\n            try: temp_vocab_dict[token]=temp_vocab_dict[token]\n            except: temp_vocab_dict[token]= 0\n    #print(\"hi\",len([[item for item in list_ if item not in stop_words and temp_vocab_dict[item]>=min_frequency]for list_ in tokenised][0]))\n    return [[item for item in list_ if item not in stop_words and temp_vocab_dict[item]>=min_frequency]for list_ in tokenised]",
   "execution_count": 165,
   "outputs": []
  },
  {
   "cell_type": "code",
   "source": "def fit_model(Classifier,Dataset,min_frequency):\n    if Classifier==\"RFC\":\n        model = RandomForestClassifier(max_depth=None, n_estimators=100,random_state=0)\n    elif Classifier==\"MNB\":\n        model=MultinomialNB(alpha=0.)### this alpha value at its defaut may actually give better results\n    elif Classifier==\"Baseline\":\n        model = SGDClassifier(loss='log')\n    return model.fit(text_format (Dataset,\n    remove_stop_uncommon(DATA[\"processed\"][Dataset][\"train_text\"],min_frequency,VOCABULARY[Dataset]),tvt=\"train\"),\n    DATA['processed'][Dataset]['train_labels'])",
   "metadata": {
    "tags": [],
    "cell_id": "00138-769fb443-40df-48e1-aca5-422ec5f2acbf",
    "deepnote_to_be_reexecuted": false,
    "source_hash": "476169c9",
    "execution_start": 1622368041448,
    "execution_millis": 11,
    "deepnote_cell_type": "code"
   },
   "outputs": [],
   "execution_count": 159
  },
  {
   "cell_type": "code",
   "metadata": {
    "tags": [],
    "cell_id": "00115-99889d7e-eae9-4cf6-92c3-461424a27d14",
    "deepnote_to_be_reexecuted": false,
    "source_hash": "c865ed94",
    "execution_start": 1622365848994,
    "execution_millis": 4,
    "deepnote_cell_type": "code"
   },
   "source": "def model_accuracy(Dataset,min_frequency,Classifier,v_or_t=\"val\",remove_stop_=True):\n    \"\"\"takes cleaned and tokensed data and returns accuracy score of the model\"\"\"\n    if v_or_t !=\"val\":\n        v_or_t=\"test\"\n        print(\"warning! you are using the test data\")\n    model=fit_model(Classifier,Dataset,min_frequency)\n    prediction = model.predict(text_format(Dataset,remove_stop_uncommon(DATA[\"processed\"][Dataset][f\"{v_or_t}_text\"],1,VOCABULARY[Dataset],remove_stop=remove_stop_),tvt=v_or_t))\n    actual = DATA[\"processed\"][Dataset][f\"{v_or_t}_labels\"]   \n    return accuracy_score(actual, prediction)",
   "execution_count": 108,
   "outputs": []
  },
  {
   "cell_type": "code",
   "metadata": {
    "tags": [],
    "cell_id": "00102-9187ee3f-3a66-4ae7-aeec-1bba42ca44f2",
    "deepnote_to_be_reexecuted": false,
    "source_hash": "18743d82",
    "execution_start": 1622365854633,
    "execution_millis": 5,
    "deepnote_cell_type": "code"
   },
   "source": "def model_prf_score(Dataset,min_frequency,model,v_or_t=\"val\",remove_stop_=True):###dont need min freq here probably\n    \"\"\"takes cleaned and tokensed data and returns precision, recall and F-score of the model\"\"\"\n    if v_or_t !=\"val\":\n        v_or_t=\"test\"\n        print(\"warning! you are using the test data\")\n    prediction = model.predict(text_format(Dataset,remove_stop_uncommon(DATA[\"processed\"][Dataset][f\"{v_or_t}_text\"],min_frequency,VOCABULARY[Dataset],remove_stop=remove_stop_),tvt=v_or_t))\n    actual = DATA[\"processed\"][Dataset][f\"{v_or_t}_labels\"] \n    scores= precision_recall_fscore_support(actual,prediction)\n    order=list(DATA[\"raw\"][Dataset][\"mapping\"].values())\n    score_labels=[\"precision\",\"recall\",\"F-score\", \"Support\"]\n    for i,label in enumerate(order):\n        score_dataframe=pd.DataFrame(data=scores,columns=order,index=score_labels)\n        return score_dataframe",
   "execution_count": 109,
   "outputs": []
  },
  {
   "cell_type": "code",
   "metadata": {
    "tags": [],
    "cell_id": "00118-73a12a7e-da36-45e8-b192-e97c0a1bf8d5",
    "deepnote_to_be_reexecuted": false,
    "source_hash": "e2d6cb1",
    "execution_start": 1622365856529,
    "execution_millis": 3,
    "deepnote_cell_type": "code"
   },
   "source": "def plot_accuracy(max_vocab,Dataset,Classifier,remove_stop__=True):\n    accuracies=[]\n    for i in range (max_vocab):\n        accuracies.append(model_accuracy(Dataset,i,Classifier,remove_stop_=remove_stop__))\n    ax = plt.figure(figsize=(10,5)).gca()\n    ax.xaxis.set_major_locator(MaxNLocator(integer=True))\n    ax.plot([x for x in range (max_vocab)],accuracies)\n    ax.set_xlabel(\"Minimum Word Frequecy\")\n    ax.set_ylabel(\"Accuracy Score\")\n    ax.set_title(\"Accuracy and Minimum Word Frequecy\")",
   "execution_count": 110,
   "outputs": []
  },
  {
   "cell_type": "markdown",
   "source": "#### Code for Hate",
   "metadata": {
    "tags": [],
    "cell_id": "00095-b929a20c-4bf0-410d-b0a3-3eeda945705f",
    "deepnote_cell_type": "markdown"
   }
  },
  {
   "cell_type": "code",
   "source": "MNB_hate_10=fit_model(\"MNB\",\"hate\",10)",
   "metadata": {
    "tags": [],
    "cell_id": "00104-7f7659a1-79c0-4738-85d1-9e08b112947e",
    "deepnote_to_be_reexecuted": false,
    "source_hash": "18c29097",
    "execution_start": 1622368970479,
    "execution_millis": 742,
    "deepnote_cell_type": "code"
   },
   "outputs": [],
   "execution_count": 166
  },
  {
   "cell_type": "code",
   "metadata": {
    "tags": [],
    "cell_id": "00117-4543c36a-3840-45d4-8f66-9308b40a0fbb",
    "deepnote_to_be_reexecuted": false,
    "source_hash": "5d73315a",
    "execution_start": 1622369007831,
    "execution_millis": 1,
    "deepnote_cell_type": "code"
   },
   "source": "#plot_accuracy(15,\"hate\",clf)#takes a while to run be here we see that a min freq val of 7/8 is best, this also holds up to 100 and we can assume it holds above 100",
   "execution_count": 167,
   "outputs": []
  },
  {
   "cell_type": "code",
   "metadata": {
    "tags": [],
    "cell_id": "00105-610bfdb3-7e8d-4ec0-991f-d3bfb575cacf",
    "deepnote_to_be_reexecuted": false,
    "source_hash": "297dae80",
    "execution_start": 1622369011822,
    "execution_millis": 3,
    "deepnote_cell_type": "code"
   },
   "source": "#plot_accuracy(15,\"hate\",clf,remove_stop__=False)",
   "execution_count": 168,
   "outputs": []
  },
  {
   "cell_type": "code",
   "metadata": {
    "tags": [],
    "cell_id": "00110-b79d8838-2b87-4126-9459-326bb3785922",
    "deepnote_to_be_reexecuted": false,
    "source_hash": "fd0eba50",
    "execution_start": 1622369032293,
    "execution_millis": 4,
    "deepnote_cell_type": "code"
   },
   "source": "#model_prf_score(\"hate\",7,clf)",
   "execution_count": 169,
   "outputs": []
  },
  {
   "cell_type": "code",
   "metadata": {
    "tags": [],
    "cell_id": "00108-4a8ae36c-1a42-4b22-b054-f0e183fd2d76",
    "deepnote_to_be_reexecuted": false,
    "source_hash": "f082f17a",
    "execution_start": 1622369039865,
    "execution_millis": 6,
    "deepnote_cell_type": "code"
   },
   "source": "#model_prf_score(\"hate\",7,clf,remove_stop_=False)",
   "execution_count": 170,
   "outputs": []
  },
  {
   "cell_type": "markdown",
   "source": "#### Multiclass Emotions ",
   "metadata": {
    "tags": [],
    "cell_id": "00106-45cf41c2-5684-4947-82a4-54b772ca53ff",
    "deepnote_cell_type": "markdown"
   }
  },
  {
   "cell_type": "code",
   "source": "MNB_emotion_10=fit_model(\"MNB\",\"emotion\",10)",
   "metadata": {
    "tags": [],
    "cell_id": "00110-2981b2e8-246d-46f9-ad77-e990deb6af2a",
    "deepnote_to_be_reexecuted": false,
    "source_hash": "4a6ccdc9",
    "execution_start": 1622369070922,
    "execution_millis": 448,
    "deepnote_cell_type": "code"
   },
   "outputs": [],
   "execution_count": 171
  },
  {
   "cell_type": "code",
   "metadata": {
    "tags": [],
    "cell_id": "00113-d6493ef3-d9bd-42d7-8403-72bfb479c9a8",
    "deepnote_to_be_reexecuted": false,
    "source_hash": "801adad2",
    "execution_start": 1622369082450,
    "execution_millis": 0,
    "deepnote_cell_type": "code"
   },
   "source": "#plot_accuracy(20,\"emotion\",clf)#1 seems best here",
   "execution_count": 172,
   "outputs": []
  },
  {
   "cell_type": "code",
   "metadata": {
    "tags": [],
    "cell_id": "00112-ca34c90b-aa9f-4f92-84a1-f2c3d88fb366",
    "deepnote_to_be_reexecuted": false,
    "source_hash": "e4ae2258",
    "execution_start": 1622369085115,
    "execution_millis": 1,
    "deepnote_cell_type": "code"
   },
   "source": "#plot_accuracy(20,\"emotion\",clf,remove_stop__=False)",
   "execution_count": 173,
   "outputs": []
  },
  {
   "cell_type": "code",
   "metadata": {
    "tags": [],
    "cell_id": "00114-35d4d8a6-13cb-4fd8-8c58-38a117f0beff",
    "deepnote_to_be_reexecuted": false,
    "source_hash": "d0e5f84a",
    "execution_start": 1622369087899,
    "execution_millis": 2,
    "deepnote_cell_type": "code"
   },
   "source": "#model_prf_score(\"emotion\",1,clf)",
   "execution_count": 174,
   "outputs": []
  },
  {
   "cell_type": "code",
   "metadata": {
    "tags": [],
    "cell_id": "00114-c9caca64-c2b8-4e16-b8b5-67245431ac87",
    "deepnote_to_be_reexecuted": false,
    "source_hash": "c5cfbd32",
    "execution_start": 1622364984854,
    "execution_millis": 248,
    "deepnote_cell_type": "code"
   },
   "source": "#prediction = clf.predict(text_format(\"emotion\",remove_stop_uncommon(DATA[\"processed\"][\"emotion\"][\"val_text\"],1,VOCABULARY[\"emotion\"]),tvt=\"val\"))\n#actual = DATA[\"processed\"][\"emotion\"][\"val_labels\"]",
   "execution_count": 80,
   "outputs": []
  },
  {
   "cell_type": "code",
   "metadata": {
    "tags": [],
    "cell_id": "00114-826d687c-81b5-47d8-ba6d-87d78888a51b",
    "deepnote_to_be_reexecuted": false,
    "source_hash": "cd4ca46e",
    "execution_start": 1622369097988,
    "execution_millis": 4,
    "deepnote_cell_type": "code"
   },
   "source": "#confusion_matrix(actual,prediction, labels=None, sample_weight=None, normalize=None)",
   "execution_count": 175,
   "outputs": []
  },
  {
   "cell_type": "markdown",
   "source": "#### Baseline for hate",
   "metadata": {
    "tags": [],
    "cell_id": "00111-c17990dc-f50a-44a1-9f81-fb75f18e1a09",
    "deepnote_cell_type": "markdown"
   }
  },
  {
   "cell_type": "code",
   "source": "baseline_hate_10=fit_model(\"Baseline\",\"hate\",10)",
   "metadata": {
    "tags": [],
    "cell_id": "00117-1d894bd8-9abd-4e26-a05e-1ab2497dc08b",
    "deepnote_to_be_reexecuted": false,
    "source_hash": "95903742",
    "execution_start": 1622369174001,
    "execution_millis": 964,
    "deepnote_cell_type": "code"
   },
   "outputs": [],
   "execution_count": 177
  },
  {
   "cell_type": "code",
   "metadata": {
    "tags": [],
    "cell_id": "00118-1b1cdc98-4427-4485-b1a8-ad353fa38790",
    "deepnote_to_be_reexecuted": false,
    "source_hash": "2afaf83",
    "execution_start": 1622369183880,
    "execution_millis": 1,
    "deepnote_cell_type": "code"
   },
   "source": "#model_accuracy(\"hate\",1,baseline)",
   "execution_count": 178,
   "outputs": []
  },
  {
   "cell_type": "code",
   "metadata": {
    "tags": [],
    "cell_id": "00119-70b14cb6-f23f-41ac-8472-94eb8af1608e",
    "deepnote_to_be_reexecuted": false,
    "source_hash": "29553ef2",
    "execution_start": 1622369186309,
    "execution_millis": 0,
    "deepnote_cell_type": "code"
   },
   "source": "#plot_accuracy(100,\"hate\",baseline)",
   "execution_count": 179,
   "outputs": []
  },
  {
   "cell_type": "code",
   "metadata": {
    "tags": [],
    "cell_id": "00123-29058cda-ca44-4b67-9699-3e6afb77cf8a",
    "deepnote_to_be_reexecuted": false,
    "source_hash": "43e0ea2",
    "execution_start": 1622369189167,
    "execution_millis": 1,
    "deepnote_cell_type": "code"
   },
   "source": "#model_prf_score(\"hate\",24,baseline)",
   "execution_count": 180,
   "outputs": []
  },
  {
   "cell_type": "markdown",
   "source": "#### Baseline for Emotion",
   "metadata": {
    "tags": [],
    "cell_id": "00120-1b5d9d82-c381-4c88-b192-cc55898fc8a7",
    "deepnote_to_be_reexecuted": false,
    "source_hash": "103d7937",
    "execution_start": 1622223638852,
    "execution_millis": 6,
    "deepnote_cell_type": "markdown"
   }
  },
  {
   "cell_type": "code",
   "source": "baseline_emotion_10=fit_model(\"Baseline\",\"emotion\",10)",
   "metadata": {
    "tags": [],
    "cell_id": "00122-9bb4b869-9873-41e1-b4e9-6a5829dba3ef",
    "deepnote_to_be_reexecuted": false,
    "source_hash": "c1e962aa",
    "execution_start": 1622369280713,
    "execution_millis": 334,
    "deepnote_cell_type": "code"
   },
   "outputs": [],
   "execution_count": 182
  },
  {
   "cell_type": "code",
   "metadata": {
    "tags": [],
    "cell_id": "00122-8c4f02ca-63c2-4880-8f86-7ff57565d171",
    "deepnote_to_be_reexecuted": false,
    "source_hash": "d1d3b07d",
    "execution_start": 1622369294186,
    "execution_millis": 0,
    "deepnote_cell_type": "code"
   },
   "source": "#model_accuracy(\"emotion\",1,baseline)",
   "execution_count": 183,
   "outputs": []
  },
  {
   "cell_type": "code",
   "metadata": {
    "tags": [],
    "cell_id": "00123-40dc4fb9-fa9a-4031-acba-11672da5ff30",
    "deepnote_to_be_reexecuted": false,
    "source_hash": "461133f0",
    "execution_start": 1622369295934,
    "execution_millis": 3,
    "deepnote_cell_type": "code"
   },
   "source": "#plot_accuracy(100,\"emotion\",baseline)",
   "execution_count": 184,
   "outputs": []
  },
  {
   "cell_type": "code",
   "metadata": {
    "tags": [],
    "cell_id": "00128-49d3a17b-1316-42eb-b9e0-63e5f83c8380",
    "deepnote_to_be_reexecuted": false,
    "source_hash": "e1ef5df2",
    "execution_start": 1622369297526,
    "execution_millis": 1,
    "deepnote_cell_type": "code"
   },
   "source": "#model_prf_score(\"emotion\",1,baseline)",
   "execution_count": 185,
   "outputs": []
  },
  {
   "cell_type": "markdown",
   "source": "### Random Forrest",
   "metadata": {
    "tags": [],
    "cell_id": "00129-d9098317-eee4-4499-9315-838aab17aab3",
    "deepnote_cell_type": "markdown"
   }
  },
  {
   "cell_type": "markdown",
   "source": "#### Hate",
   "metadata": {
    "tags": [],
    "cell_id": "00131-749169a9-3c3f-4347-9366-9a7c9db49867",
    "deepnote_cell_type": "markdown"
   }
  },
  {
   "cell_type": "code",
   "source": "RFC_hate_10=fit_model(\"RFC\",\"hate\",10)",
   "metadata": {
    "tags": [],
    "cell_id": "00128-20a84ca6-312f-48ee-ad26-7c1abb5a27a3",
    "deepnote_to_be_reexecuted": false,
    "source_hash": "9f094320",
    "execution_start": 1622369356406,
    "execution_millis": 11191,
    "deepnote_cell_type": "code"
   },
   "outputs": [],
   "execution_count": 187
  },
  {
   "cell_type": "code",
   "metadata": {
    "tags": [],
    "cell_id": "00132-24b96ccd-fb0f-41c7-9f23-4ba2736150a1",
    "deepnote_to_be_reexecuted": false,
    "source_hash": "bad60e4e",
    "execution_start": 1622369367967,
    "execution_millis": 0,
    "deepnote_cell_type": "code"
   },
   "source": "#plot_accuracy(30,\"hate\",Forest)",
   "execution_count": 188,
   "outputs": []
  },
  {
   "cell_type": "code",
   "metadata": {
    "tags": [],
    "cell_id": "00133-a771ac5a-97e2-482b-843d-5918da92ce90",
    "deepnote_to_be_reexecuted": false,
    "source_hash": "d3320737",
    "execution_start": 1622369369667,
    "execution_millis": 3,
    "deepnote_cell_type": "code"
   },
   "source": "#model_prf_score(\"hate\",13,Forest)",
   "execution_count": 189,
   "outputs": []
  },
  {
   "cell_type": "markdown",
   "source": "#### Emotion",
   "metadata": {
    "tags": [],
    "cell_id": "00135-02f7f014-d20a-4046-aae5-986c5a1c8b10",
    "deepnote_cell_type": "markdown"
   }
  },
  {
   "cell_type": "code",
   "source": "RFC_emotion_10=fit_model(\"RFC\",\"emotion\",10)",
   "metadata": {
    "tags": [],
    "cell_id": "00132-dcbf3895-f1b5-4d73-b904-c8cceb3ef955",
    "deepnote_to_be_reexecuted": false,
    "source_hash": "4e53db94",
    "execution_start": 1622369393354,
    "execution_millis": 3525,
    "deepnote_cell_type": "code"
   },
   "outputs": [],
   "execution_count": 190
  },
  {
   "cell_type": "code",
   "metadata": {
    "tags": [],
    "cell_id": "00135-4e94d09e-609b-4c70-91b3-8f7b7f0e9c01",
    "deepnote_to_be_reexecuted": false,
    "source_hash": "17295c55",
    "execution_start": 1622369402645,
    "execution_millis": 4,
    "deepnote_cell_type": "code"
   },
   "source": "#plot_accuracy(100,\"emotion\",Forest)",
   "execution_count": 191,
   "outputs": []
  },
  {
   "cell_type": "code",
   "metadata": {
    "tags": [],
    "cell_id": "00136-381fa43b-e1d7-41d4-9e5b-1aede31e20b1",
    "deepnote_to_be_reexecuted": false,
    "source_hash": "b15c5ccb",
    "execution_start": 1622369404764,
    "execution_millis": 1,
    "deepnote_cell_type": "code"
   },
   "source": "#model_prf_score(\"emotion\",1,Forest)",
   "execution_count": 192,
   "outputs": []
  },
  {
   "cell_type": "markdown",
   "source": "# Testing",
   "metadata": {
    "tags": [],
    "cell_id": "00135-7d7129b1-1ad3-4955-a510-e9abc4277853",
    "deepnote_cell_type": "markdown"
   },
   "outputs": [],
   "execution_count": null
  },
  {
   "cell_type": "code",
   "source": "plot_accuracy(30,\"emotion\",\"Baseline\")###this plot should not look like this..... :(",
   "metadata": {
    "tags": [],
    "cell_id": "00140-ec18d03f-d6cc-4634-a605-194347ead127",
    "deepnote_to_be_reexecuted": false,
    "source_hash": "4cd650f6",
    "execution_start": 1622369444240,
    "execution_millis": 17870,
    "deepnote_cell_type": "code"
   },
   "outputs": [
    {
     "data": {
      "text/plain": "<Figure size 720x360 with 1 Axes>",
      "image/png": "[encoded data removed]"
     },
     "metadata": {
      "image/png": {
       "width": 623,
       "height": 338
      }
     },
     "output_type": "display_data"
    }
   ],
   "execution_count": 195
  },
  {
   "cell_type": "code",
   "source": "model_accuracy(\"hate\",100000,\"RFC\")## so with no information in the model the model predicts correctly 72% of the time???????? how?",
   "metadata": {
    "tags": [],
    "cell_id": "00141-a27b8ba0-3abe-43c0-a9ca-751e36888ca5",
    "deepnote_to_be_reexecuted": false,
    "source_hash": "294627d",
    "execution_start": 1622369474003,
    "execution_millis": 12028,
    "deepnote_cell_type": "code"
   },
   "outputs": [
    {
     "output_type": "execute_result",
     "execution_count": 197,
     "data": {
      "text/plain": "0.715"
     },
     "metadata": {}
    }
   ],
   "execution_count": 197
  },
  {
   "cell_type": "markdown",
   "source": "* use stop words for filtering out filler words -done\n* filter out uncommon words using vocab frequency -done\n* model for all emotions, make into function?\n* deal with any problems that arrise - some things need ironing out, see comments\n* task 2 descriptive things\n* start paper \n* correct spelling\n* make the formatting of the notebook good enough to be readable\n* understanding laplace or better estimate instead -smoothing\n* improvements:\n\n- [x] remove min freq\n- [x] random forrest\n- [x] stopwords (make comparable)\n- [x] Multinomial NB model -why and whats different \n- [ ] tfidf (made comparable)\n- [ ] loss parameter\n* make some graphics to compare\n\n",
   "metadata": {
    "tags": [],
    "cell_id": "00111-1da73e0b-ac3f-41e9-a123-902545ab4b24",
    "deepnote_cell_type": "markdown"
   }
  },
  {
   "cell_type": "markdown",
   "source": "# Still need to balance the data!!!!!!",
   "metadata": {
    "tags": [],
    "cell_id": "00140-f131e0cc-d209-413e-a0a4-03ac4fa18510",
    "deepnote_cell_type": "markdown"
   }
  },
  {
   "cell_type": "markdown",
   "source": "if we add a smooting on the multinomialNB by removing the alpha=0. parmeter then the results are better but different. worth looking into as a group, can ammend functions later to accomodate- nicola",
   "metadata": {
    "tags": [],
    "cell_id": "00141-be9f2143-a19b-4249-a372-73b067980637",
    "deepnote_cell_type": "markdown"
   }
  },
  {
   "cell_type": "markdown",
   "source": "### Summary of this morining:\n* The mNB classifier may work better with the default alpha perameter which applies smoothing\n* the accuracy functions were showing the wrong as we should be TRAINING the models on different min freq data not validationg with different min_freq data (although this also might make a difference, im confused).\n* i tried to fix the above, but in doing so somehow broke it... Now(and im not sure if this was also happening before) the modle has a high accuracy even if the data it is being trained on in technically empty lists. This cant be the case right? so there must be an errror in the code somewhere (a beer on me if you can find it :')), unless this has something to do with balancing not being done yet.\n* in better news, i made a fit_model function which is now used whe fitting models. This streamlines our code quite a bit. im fairly sure it is working correctly and isnt the source ofthe abov issure but i may be wrong.\n* i also had a look at the random forest parameters but decided to keep everything the same as we had it before as nothing i did impacted the accuracy score much(before it broke)\n* we always have to old functions on previous versions so if we get realy stuck we can go from there.\n* suggested next steps:\n\n* [ ] task 2 (see the project description) most has been done but needs to be collected into one readable section\n* [ ] balncing of data\n\n",
   "metadata": {
    "tags": [],
    "cell_id": "00144-f8d80a72-47c5-4397-b2b1-fab5fc11e903",
    "deepnote_cell_type": "markdown"
   }
  },
  {
   "cell_type": "markdown",
   "source": "",
   "metadata": {
    "tags": [],
    "cell_id": "00149-8ebc4d62-8511-478e-9001-155bdd421769",
    "deepnote_cell_type": "markdown"
   }
  },
  {
   "cell_type": "markdown",
   "source": "<a style='text-decoration:none;line-height:16px;display:flex;color:#5B5B62;padding:10px;justify-content:end;' href='https://deepnote.com?utm_source=created-in-deepnote-cell&projectId=7ea65742-831a-48cd-9d56-a22e1ed66c7b' target=\"_blank\">\n<img alt='Created in deepnote.com' style='display:inline;max-height:16px;margin:0px;margin-right:7.5px;' src='data:image/svg+xml;base64,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' > </img>\nCreated in <span style='font-weight:600;margin-left:4px;'>Deepnote</span></a>",
   "metadata": {
    "tags": [],
    "created_in_deepnote_cell": true,
    "deepnote_cell_type": "markdown"
   }
  }
 ],
 "nbformat": 4,
 "nbformat_minor": 2,
 "metadata": {
  "deepnote": {
   "is_reactive": false
  },
  "deepnote_execution_queue": [],
  "deepnote_notebook_id": "912c8bda-48f1-43bf-8bff-0aac9dd9fbcb",
  "kernelspec": {
   "display_name": "Python 3",
   "language": "python",
   "name": "python3"
  },
  "language_info": {
   "codemirror_mode": {
    "name": "ipython",
    "version": 3
   },
   "file_extension": ".py",
   "mimetype": "text/x-python",
   "name": "python",
   "nbconvert_exporter": "python",
   "pygments_lexer": "ipython3",
   "version": "3.8.8"
  }
 }
}