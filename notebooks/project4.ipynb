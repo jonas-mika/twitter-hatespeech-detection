{
 "cells": [
  {
   "cell_type": "markdown",
   "source": "# Project 4: Natural Language Processing \n---\n\n**Group 9: Aidan Stocks, Hugo Reinicke, Nicola Clark, Jonas-Mika Senghaas**\n\nSubmission: *03.06.2021* / Last Modified: *27.04.2021*\n\n---\n\nThis notebook contains the step-by-step data science process performed *XXX*. The goal of this project was to *XXX*.\n\nThe initial data was obtained from the [TweetEval](https://github.com/cardiffnlp/tweeteval#evaluating-your-system) GitHub repository, that provides data for supervised training of classifiers for natural language processing.",
   "metadata": {
    "cell_id": "00000-8f8eb98f-2a98-41af-9825-5a8a8c441dee",
    "tags": [],
    "deepnote_cell_type": "markdown"
   }
  },
  {
   "cell_type": "markdown",
   "source": "## Introduction\n---\n*XXX*",
   "metadata": {
    "cell_id": "00001-5fcfa044-05ac-485a-8293-0db98813ff5e",
    "tags": [],
    "deepnote_cell_type": "markdown"
   }
  },
  {
   "cell_type": "markdown",
   "source": "## Running this Notebook\n---\nThis notebook contains all code to reproduce the findings of the project as can be seen on the [GitHub](https://github.com/jonas-mika/fyp2021p04g09) page of this project. In order to read in the data correctly, the global paths configured in the section `Constants` need to be correct. The following file structure - as prepared in the `submission.zip` - was followed throughout the project and is recommended to use (alternatively the paths in the section `Constants` can be adjusted):\n\n```\n*project tree structure*\n```\n*Note that the rest of the file structure as can be seen on the [GitHub](https://github.com/jonas-mika/fyp2021p03g09) page of the project generates automatically*",
   "metadata": {
    "cell_id": "00002-e3f8c8e5-1dc7-47ff-9108-2450997c051c",
    "tags": [],
    "deepnote_cell_type": "markdown"
   }
  },
  {
   "cell_type": "markdown",
   "source": "## Required Libraries and Further Imports\n---\nThroughout the project, we will use a range of both built-in and external Python libraries. This notebook will only run if all libraries and modules are correctly installed on your local machines. \nTo install missing packages use `pip install <package_name>` (PIP (Python Package Index) is the central package management system, read more [here](https://pypi.org/project/pip/)). \n\nIn case you desire further information about the used packages, click the following links to find detailed documentations:\n- [Pandas](https://pandas.pydata.org/)\n- [Numpy](https://numpy.org/)\n- [Matplotlib](https://matplotlib.org/stable/index.html)\n- [PIL](https://pillow.readthedocs.io/en/stable/)\n- [SciKit Learn](https://scikit-learn.org/stable/)\n- [SciKit Image](https://scikit-image.org/)\n- [Scipy](https://www.scipy.org/)",
   "metadata": {
    "cell_id": "00003-8f195f8a-4025-446a-8b44-300b55666211",
    "tags": [],
    "deepnote_cell_type": "markdown"
   }
  },
  {
   "cell_type": "code",
   "metadata": {
    "cell_id": "00004-cf13b571-fc4d-40f4-8617-43224164fcb8",
    "deepnote_to_be_reexecuted": false,
    "execution_millis": 4384,
    "execution_start": 1620894386573,
    "output_cleared": true,
    "source_hash": "56190a1e",
    "tags": [],
    "deepnote_cell_type": "code"
   },
   "source": "%%capture\n# uncomment lines with uninstalled packages\n\n#!pip install -U numpy pandas matplotlib seaborn skikit-learn \n!pip install pycontractions",
   "execution_count": 1,
   "outputs": []
  },
  {
   "cell_type": "code",
   "metadata": {
    "cell_id": "00005-9cbe0305-7f30-486b-be81-0c10af861246",
    "deepnote_to_be_reexecuted": false,
    "execution_millis": 2369,
    "execution_start": 1620894390965,
    "output_cleared": true,
    "source_hash": "474802c1",
    "tags": [],
    "deepnote_cell_type": "code"
   },
   "source": "# python standard libraries\nimport json                                            # data transfer to and from json format\nimport os                                              # access operating system from python\nimport math                                            # mathematical operations in python\nimport random                                          # creates randomness\nimport re                                              # regex search in python\nimport shutil                                          # system control in python\nimport warnings                                        # ignore annoying warnings\nwarnings.filterwarnings(\"ignore\")\n\n# external libraries\nimport numpy as np                                     # used for numerical calculations and fast array manipulations\nimport pandas as pd                                    # provides major datastructure pd.DataFrame() to store datasets\nimport matplotlib\nimport matplotlib.pyplot as plt                        # basic data visualisation\nimport seaborn as sns                                  # advanced data visualisation\nfrom nltk.tokenize import TweetTokenizer               # tokeniser api\nfrom pycontractions import Contractions                # intelligently expands contractions in natural language\nfrom collections import Counter                        # counts objects",
   "execution_count": 2,
   "outputs": []
  },
  {
   "cell_type": "code",
   "metadata": {
    "cell_id": "00006-5afa390e-a19c-4f7b-b2f5-752fba00777d",
    "deepnote_to_be_reexecuted": false,
    "execution_millis": 20,
    "execution_start": 1620894393344,
    "output_cleared": false,
    "source_hash": "9a25b5af",
    "deepnote_cell_type": "code"
   },
   "source": "print(f'Numpy Version: {np.__version__}')\nprint(f'Pandas Version: {pd.__version__}')\nprint(f'Matplotlib Version: {matplotlib.__version__}')\nprint(f'Seaborn Version: {sns.__version__}')",
   "execution_count": 3,
   "outputs": [
    {
     "name": "stdout",
     "text": "Numpy Version: 1.19.5\nPandas Version: 1.2.4\nMatplotlib Version: 3.4.1\nSeaborn Version: 0.11.1\n",
     "output_type": "stream"
    }
   ]
  },
  {
   "cell_type": "markdown",
   "source": "Since this project makes heavy use of functions to achieve maximal efficiency, all functions are stored externally in the package structure `project3'. The following imports are necessary for this notebook to run properly.",
   "metadata": {
    "cell_id": "00006-e9706598-54b2-4f29-9ca9-a6660685b48c",
    "tags": [],
    "deepnote_cell_type": "markdown"
   }
  },
  {
   "cell_type": "code",
   "metadata": {
    "cell_id": "00007-14d719d0-f91a-4eac-adc0-8f3981566bf1",
    "deepnote_to_be_reexecuted": false,
    "execution_millis": 66585,
    "execution_start": 1620894393383,
    "output_cleared": true,
    "source_hash": "905c667e",
    "tags": [],
    "deepnote_cell_type": "code"
   },
   "source": "#from project4.processing import ...\n#from project4.save import ...\n#from project4.features import ...",
   "execution_count": 4,
   "outputs": []
  },
  {
   "cell_type": "markdown",
   "source": "## Constants\n---\nTo enhance readibilty, as well as to decrease the maintenance effort, it is useful for bigger projects to define contants that need to be accessed globally throughout the whole notebook in advance. \nThe following cell contains all of those global constants. By convention, we write them in caps (https://www.python.org/dev/peps/pep-0008/#constants)",
   "metadata": {
    "cell_id": "00008-4f347db9-f433-4a57-9e83-4fbb27586617",
    "tags": [],
    "deepnote_cell_type": "markdown"
   }
  },
  {
   "cell_type": "code",
   "metadata": {
    "cell_id": "00010-18532f0a-c77d-42e2-b487-aa327b69dc04",
    "deepnote_to_be_reexecuted": false,
    "execution_millis": 66581,
    "execution_start": 1620894393407,
    "output_cleared": true,
    "source_hash": "2f89d05f",
    "tags": [],
    "deepnote_cell_type": "code"
   },
   "source": "PREPROCESS_DATA = False",
   "execution_count": 5,
   "outputs": []
  },
  {
   "cell_type": "code",
   "metadata": {
    "cell_id": "00009-8c033e56-02ab-48b7-9eff-1efefe08d35c",
    "deepnote_to_be_reexecuted": false,
    "execution_millis": 66532,
    "execution_start": 1620894393466,
    "output_cleared": true,
    "source_hash": "599a5394",
    "tags": [],
    "deepnote_cell_type": "code"
   },
   "source": "DATASETS = ['hate', 'emotion']\n\n# store paths\nPATH = {}\nPATH['data'] = {}\nPATH['data']['raw'] = \"../data/raw/\"\nPATH['data']['processed'] = \"../data/processed/\"\n\n# store data \nDATA = {}\nDATA['raw'] = {}\nDATA['processed'] = {}\nfor dataset in DATASETS:\n    DATA['raw'][dataset] = {}\n    DATA['processed'][dataset] = {}",
   "execution_count": 6,
   "outputs": []
  },
  {
   "cell_type": "markdown",
   "source": "*TASK 0*\n# Fetching Data\n---",
   "metadata": {
    "cell_id": "00010-30f29e03-2c93-4a41-9cdd-c63ddcf81385",
    "tags": [],
    "deepnote_cell_type": "markdown"
   }
  },
  {
   "cell_type": "markdown",
   "source": "## Loading in Data\n---",
   "metadata": {
    "cell_id": "00012-517a92e6-641e-4b58-ae16-4fc3f1dc0f0c",
    "deepnote_cell_type": "markdown"
   }
  },
  {
   "cell_type": "code",
   "metadata": {
    "cell_id": "00011-d60e995b-fcb6-4868-b5f3-bead2a4d235a",
    "deepnote_to_be_reexecuted": false,
    "execution_millis": 66534,
    "execution_start": 1620894393467,
    "output_cleared": true,
    "source_hash": "74974d65",
    "tags": [],
    "deepnote_cell_type": "code"
   },
   "source": "def read_raw_input(dataset):\n    # reading in all .txts into list of strings\n    for _file in os.listdir(f'../data/raw/{dataset}'):\n        with open(f'../data/raw/{dataset}/{_file}', 'r', encoding='UTF-8') as infile:\n            DATA['raw'][dataset][_file[:-4]] = [line.strip() for line in infile.readlines()]\n\n    # convert target labels to integers\n    for key in ['train_labels', 'val_labels', 'test_labels']:\n        DATA['raw'][dataset][key] = [int(x) for x in DATA['raw'][dataset][key]]\n\n    # convert mapping to dictionary\n    DATA['raw'][dataset]['mapping'] = {int(string.split('\\t')[0]): string.split('\\t')[1] for string in DATA['raw'][dataset]['mapping']}",
   "execution_count": 7,
   "outputs": []
  },
  {
   "cell_type": "code",
   "metadata": {
    "cell_id": "00014-a564b5fd-9112-40ea-ab20-a9e06cef672c",
    "deepnote_to_be_reexecuted": false,
    "execution_millis": 66612,
    "execution_start": 1620894393468,
    "output_cleared": true,
    "scrolled": false,
    "source_hash": "3fbf30af",
    "deepnote_cell_type": "code"
   },
   "source": "for dataset in DATASETS:\n    read_raw_input(dataset)",
   "execution_count": 8,
   "outputs": []
  },
  {
   "cell_type": "markdown",
   "source": "## Exploring Data\n---",
   "metadata": {
    "cell_id": "00015-6ac2c66d-4d76-4711-82ed-29c0f25e3314",
    "deepnote_cell_type": "markdown"
   }
  },
  {
   "cell_type": "markdown",
   "source": "### Peek into Training Tweets",
   "metadata": {
    "cell_id": "00016-1ade1bb5-34a5-4a97-9049-49dbb00ee154",
    "deepnote_cell_type": "markdown"
   }
  },
  {
   "cell_type": "code",
   "metadata": {
    "cell_id": "00017-8c456ad3-3f69-4ec0-931f-2fdc6fe0e33e",
    "deepnote_to_be_reexecuted": false,
    "execution_millis": 66569,
    "execution_start": 1620894393490,
    "output_cleared": false,
    "source_hash": "4847394d",
    "deepnote_cell_type": "code"
   },
   "source": "# hate\nfor i in range(10):\n    print(f\"{i+1}\\tLabel: {DATA['raw']['hate']['mapping'][DATA['raw']['hate']['train_labels'][i]].title()}\\t\\t{DATA['raw']['hate']['train_text'][i]}\")",
   "execution_count": 9,
   "outputs": [
    {
     "name": "stdout",
     "text": "1\tLabel: Not-Hate\t\t@user nice new signage. Are you not concerned by Beatlemania -style hysterical crowds crongregating on you…\n2\tLabel: Hate\t\tA woman who you fucked multiple times saying yo dick small is a compliment you know u hit that spot 😎\n3\tLabel: Hate\t\t@user @user real talk do you have eyes or were they gouged out by a rapefugee?\n4\tLabel: Hate\t\tyour girlfriend lookin at me like a groupie in this bitch!\n5\tLabel: Not-Hate\t\tHysterical woman like @user\n6\tLabel: Not-Hate\t\tMe flirting- So tell me about your father...\n7\tLabel: Not-Hate\t\tThe Philippine Catholic bishops' work for migrant workers should focus on families who are \"paying the great...\n8\tLabel: Hate\t\tI AM NOT GOING AFTER YOUR EX BF YOU LIEING SACK OF SHIT ! I'm done with you dude that's why I dumped your ass cause your a lieing 😂😡 bitch\n9\tLabel: Not-Hate\t\tWhen cuffin season is finally over\n10\tLabel: Hate\t\tSend home migrants not in need of protection, Peter Dutton tells UN, HEY DUTTON HOW ABOUT THE ONES THAT HAVE STAYED AND NOT LEFT THE COUNTRY WHEN THEY SHOULD OVERSTAYERS ? WHY DONT YOU GO AND ROUND ALL THEM UP ?\n",
     "output_type": "stream"
    }
   ]
  },
  {
   "cell_type": "code",
   "metadata": {
    "cell_id": "00018-f6587a74-f6da-4c6c-8540-db447f5615d9",
    "deepnote_to_be_reexecuted": false,
    "execution_millis": 66565,
    "execution_start": 1620894393491,
    "output_cleared": false,
    "source_hash": "c303da21",
    "deepnote_cell_type": "code"
   },
   "source": "# emotion\nfor i in range(10):\n    print(f\"{i+1}\\tLabel: {DATA['raw']['emotion']['mapping'][DATA['raw']['emotion']['train_labels'][i]].title()}\\t\\t{DATA['raw']['emotion']['train_text'][i]}\")",
   "execution_count": 10,
   "outputs": [
    {
     "name": "stdout",
     "text": "1\tLabel: Optimism\t\t“Worry is a down payment on a problem you may never have'.  Joyce Meyer.  #motivation #leadership #worry\n2\tLabel: Anger\t\tMy roommate: it's okay that we can't spell because we have autocorrect. #terrible #firstworldprobs\n3\tLabel: Joy\t\tNo but that's so cute. Atsu was probably shy about photos before but cherry helped her out uwu\n4\tLabel: Anger\t\tRooneys fucking untouchable isn't he? Been fucking dreadful again, depay has looked decent(ish)tonight\n5\tLabel: Sadness\t\tit's pretty depressing when u hit pan on ur favourite highlighter\n6\tLabel: Anger\t\t@user but your pussy was weak from what I heard so stfu up to me bitch . You got to threaten him that your pregnant .\n7\tLabel: Sadness\t\tMaking that yearly transition from excited and hopeful college returner to sick and exhausted pessimist. #college\n8\tLabel: Joy\t\tTiller and breezy should do a collab album. Rapping and singing prolly be fire\n9\tLabel: Anger\t\t@user broadband is shocking regretting signing up now #angry #shouldofgonewithvirgin\n10\tLabel: Anger\t\t@user Look at those teef! #growl\n",
     "output_type": "stream"
    }
   ]
  },
  {
   "cell_type": "markdown",
   "source": "### Visualising Label Distribution",
   "metadata": {
    "cell_id": "00019-ac0093ee-cb8e-4df0-9240-28b8639da8f0",
    "deepnote_cell_type": "markdown"
   }
  },
  {
   "cell_type": "code",
   "metadata": {
    "cell_id": "00020-ff2b603d-7d95-43b5-8411-7c54ff2985ec",
    "deepnote_to_be_reexecuted": false,
    "execution_millis": 66540,
    "execution_start": 1620894393500,
    "output_cleared": true,
    "source_hash": "f856703d",
    "deepnote_cell_type": "code"
   },
   "source": "def visualise_label_distribution(dataset):\n    fig, ax = plt.subplots(ncols=3, figsize=(12,4))\n    fig.suptitle(f'Frequency of Target Label in {dataset.capitalize()}', fontsize=12, fontweight='bold')\n\n    for i, key in enumerate(['train_labels', 'val_labels', 'test_labels']):\n        label, count = np.unique(DATA['raw'][dataset][key], return_counts=True)\n        ax[i].bar(label, count, color='grey');\n        ax[i].set_title(key.replace('_', ' ').title())\n        ax[i].set_xticks(label); ax[i].set_xticklabels([string.title() for string in DATA['raw'][dataset]['mapping'].values()])",
   "execution_count": 11,
   "outputs": []
  },
  {
   "cell_type": "code",
   "metadata": {
    "cell_id": "00021-046d0488-77dc-47d3-a29c-d178ea704a1f",
    "deepnote_to_be_reexecuted": false,
    "execution_millis": 388,
    "execution_start": 1620894393553,
    "output_cleared": false,
    "source_hash": "894be1c8",
    "deepnote_cell_type": "code"
   },
   "source": "visualise_label_distribution(dataset='hate')",
   "execution_count": 12,
   "outputs": [
    {
     "data": {
      "text/plain": "<Figure size 864x288 with 3 Axes>",
      "image/png": "[encoded data removed]"
     },
     "metadata": {
      "needs_background": "light",
      "image/png": {
       "width": 716,
       "height": 277
      }
     },
     "output_type": "display_data"
    }
   ]
  },
  {
   "cell_type": "code",
   "metadata": {
    "cell_id": "00022-83c0ec2d-8094-4123-8603-caad77edb2af",
    "deepnote_to_be_reexecuted": false,
    "execution_millis": 496,
    "execution_start": 1620894393942,
    "output_cleared": false,
    "source_hash": "c0926180",
    "deepnote_cell_type": "code"
   },
   "source": "visualise_label_distribution(dataset='emotion')",
   "execution_count": 13,
   "outputs": [
    {
     "data": {
      "text/plain": "<Figure size 864x288 with 3 Axes>",
      "image/png": "[encoded data removed]"
     },
     "metadata": {
      "needs_background": "light",
      "image/png": {
       "width": 716,
       "height": 277
      }
     },
     "output_type": "display_data"
    }
   ]
  },
  {
   "cell_type": "markdown",
   "source": "*TASK 0.5*\n# Processing of Language Data\n---\n",
   "metadata": {
    "cell_id": "00011-c1d3e256-83ab-4833-93bb-155c6dcb73ca",
    "tags": [],
    "deepnote_cell_type": "markdown"
   }
  },
  {
   "cell_type": "markdown",
   "source": "### Tokenize Tweets\n---\n",
   "metadata": {
    "cell_id": "00024-925deca3-bb20-43eb-bc18-98e47d7a5780",
    "tags": [],
    "deepnote_cell_type": "markdown"
   }
  },
  {
   "cell_type": "code",
   "metadata": {
    "cell_id": "00024-20c29398-21ac-493b-8d2a-2161b831ef91",
    "deepnote_to_be_reexecuted": false,
    "execution_millis": 1,
    "execution_start": 1620894394468,
    "output_cleared": true,
    "source_hash": "a1f7603b",
    "deepnote_cell_type": "code"
   },
   "source": "def tokeniser1(tweet):\n    return re.findall('\\w+', tweet)",
   "execution_count": 14,
   "outputs": []
  },
  {
   "cell_type": "code",
   "metadata": {
    "cell_id": "00013-de37fee0-8080-49a2-8348-0cc7cd793435",
    "deepnote_to_be_reexecuted": false,
    "execution_millis": 0,
    "execution_start": 1620894394469,
    "output_cleared": true,
    "source_hash": "fcce8e84",
    "tags": [],
    "deepnote_cell_type": "code"
   },
   "source": "def tokeniser2(tweet):\n    return re.split(' ', tweet)",
   "execution_count": 15,
   "outputs": []
  },
  {
   "cell_type": "code",
   "metadata": {
    "cell_id": "00026-12aa65c5-fb65-4563-9518-2593493305f8",
    "deepnote_to_be_reexecuted": false,
    "execution_millis": 0,
    "execution_start": 1620894394470,
    "output_cleared": true,
    "source_hash": "addc91b",
    "deepnote_cell_type": "code"
   },
   "source": "def tokeniser3(tweet):\n    tk = TweetTokenizer()\n    return tk.tokenize(tweet)",
   "execution_count": 16,
   "outputs": []
  },
  {
   "cell_type": "code",
   "metadata": {
    "cell_id": "00027-ef6625a3-be50-47af-8b54-b6da6068f0c4",
    "deepnote_to_be_reexecuted": false,
    "execution_millis": 13,
    "execution_start": 1620894394471,
    "output_cleared": true,
    "source_hash": "70f25dd3",
    "deepnote_cell_type": "code"
   },
   "source": "def tokeniser4(line):\n    # Initialise lists\n    tokens = []\n    unmatchable = [] # should be emtpy if done nicely\n\n    # Compile patterns for speedup\n    token_pat = re.compile('\\w+')\n    skippable_pat = re.compile('\\s+')  # typically spaces\n\n    # As long as there's any material left...\n    while line:\n        print(line)\n        # Try finding a skippable token delimiter first.\n        skippable_match = re.search(skippable_pat, line)\n        print(skippable_match)\n        if skippable_match and skippable_match.start() == 0:\n            # If there is one at the beginning of the line, just skip it.\n            line = line[skippable_match.end():]\n        else:\n            # Else try finding a real token.\n            token_match = re.search(token_pat, line)\n            if token_match and token_match.start() == 0:\n                print(token_match)\n                # If there is one at the beginning of the line, tokenise it.\n                tokens.append(line[:token_match.end()])\n                line = line[token_match.end():]\n            else:\n                # Else there is unmatchable material here.\n                # It ends where a skippable or token match starts, or at the end of the line.\n                unmatchable_end = len(line)\n                if skippable_match:\n                    unmatchable_end = skippable_match.start()\n                if token_match:\n                    unmatchable_end = min(unmatchable_end, token_match.start())\n                # Add it to unmatchable and discard from line.\n                unmatchable.append(line[:unmatchable_end])\n                line = line[unmatchable_end:]\n\n    return tokens",
   "execution_count": 17,
   "outputs": []
  },
  {
   "cell_type": "code",
   "metadata": {
    "cell_id": "00028-15e617bc-1809-4253-8f95-c827822c2e9e",
    "deepnote_to_be_reexecuted": false,
    "execution_millis": 16,
    "execution_start": 1620894394496,
    "output_cleared": false,
    "source_hash": "47651239",
    "deepnote_cell_type": "code"
   },
   "source": "#ex_tweet = DATA['hate']['train_text'][0]\nex_tweet = \"https://t.co/9z2J3P33Uc FB needs to hurry up and add a laugh/cry button 😬😭😓🤢🙄😱 Since eating my feelings has not fixed the world's problems, I guess I'll try to sleep... HOLY CRAP: DeVos questionnaire appears to include passages from uncited sources https://t.co/FNRoOlfw9s well played, Senator Murray Keep the pressure on: https://t.co/4hfOsmdk0l @datageneral thx Mr Taussig It's interesting how many people contact me about applying for a PhD and don't @user spell my name #something right. Wow ok I didn't realise i'm using contractions like haven't and won't.\"\n\ntokeniser = [tokeniser1, tokeniser2, tokeniser3]\n\nprint('Original Tweet: ',ex_tweet, '\\n')\nfor i in range(len(tokeniser)):\n    print(f\"Tokeniser {i+1}: {tokeniser[i](ex_tweet)}\\n\")",
   "execution_count": 18,
   "outputs": [
    {
     "name": "stdout",
     "text": "Original Tweet:  https://t.co/9z2J3P33Uc FB needs to hurry up and add a laugh/cry button 😬😭😓🤢🙄😱 Since eating my feelings has not fixed the world's problems, I guess I'll try to sleep... HOLY CRAP: DeVos questionnaire appears to include passages from uncited sources https://t.co/FNRoOlfw9s well played, Senator Murray Keep the pressure on: https://t.co/4hfOsmdk0l @datageneral thx Mr Taussig It's interesting how many people contact me about applying for a PhD and don't @user spell my name #something right. Wow ok I didn't realise i'm using contractions like haven't and won't. \n\nTokeniser 1: ['https', 't', 'co', '9z2J3P33Uc', 'FB', 'needs', 'to', 'hurry', 'up', 'and', 'add', 'a', 'laugh', 'cry', 'button', 'Since', 'eating', 'my', 'feelings', 'has', 'not', 'fixed', 'the', 'world', 's', 'problems', 'I', 'guess', 'I', 'll', 'try', 'to', 'sleep', 'HOLY', 'CRAP', 'DeVos', 'questionnaire', 'appears', 'to', 'include', 'passages', 'from', 'uncited', 'sources', 'https', 't', 'co', 'FNRoOlfw9s', 'well', 'played', 'Senator', 'Murray', 'Keep', 'the', 'pressure', 'on', 'https', 't', 'co', '4hfOsmdk0l', 'datageneral', 'thx', 'Mr', 'Taussig', 'It', 's', 'interesting', 'how', 'many', 'people', 'contact', 'me', 'about', 'applying', 'for', 'a', 'PhD', 'and', 'don', 't', 'user', 'spell', 'my', 'name', 'something', 'right', 'Wow', 'ok', 'I', 'didn', 't', 'realise', 'i', 'm', 'using', 'contractions', 'like', 'haven', 't', 'and', 'won', 't']\n\nTokeniser 2: ['https://t.co/9z2J3P33Uc', 'FB', 'needs', 'to', 'hurry', 'up', 'and', 'add', 'a', 'laugh/cry', 'button', '😬😭😓🤢🙄😱', 'Since', 'eating', 'my', 'feelings', 'has', 'not', 'fixed', 'the', \"world's\", 'problems,', 'I', 'guess', \"I'll\", 'try', 'to', 'sleep...', 'HOLY', 'CRAP:', 'DeVos', 'questionnaire', 'appears', 'to', 'include', 'passages', 'from', 'uncited', 'sources', 'https://t.co/FNRoOlfw9s', 'well', 'played,', 'Senator', 'Murray', 'Keep', 'the', 'pressure', 'on:', 'https://t.co/4hfOsmdk0l', '@datageneral', 'thx', 'Mr', 'Taussig', \"It's\", 'interesting', 'how', 'many', 'people', 'contact', 'me', 'about', 'applying', 'for', 'a', 'PhD', 'and', \"don't\", '@user', 'spell', 'my', 'name', '#something', 'right.', 'Wow', 'ok', 'I', \"didn't\", 'realise', \"i'm\", 'using', 'contractions', 'like', \"haven't\", 'and', \"won't.\"]\n\nTokeniser 3: ['https://t.co/9z2J3P33Uc', 'FB', 'needs', 'to', 'hurry', 'up', 'and', 'add', 'a', 'laugh', '/', 'cry', 'button', '😬', '😭', '😓', '🤢', '🙄', '😱', 'Since', 'eating', 'my', 'feelings', 'has', 'not', 'fixed', 'the', \"world's\", 'problems', ',', 'I', 'guess', \"I'll\", 'try', 'to', 'sleep', '...', 'HOLY', 'CRAP', ':', 'DeVos', 'questionnaire', 'appears', 'to', 'include', 'passages', 'from', 'uncited', 'sources', 'https://t.co/FNRoOlfw9s', 'well', 'played', ',', 'Senator', 'Murray', 'Keep', 'the', 'pressure', 'on', ':', 'https://t.co/4hfOsmdk0l', '@datageneral', 'thx', 'Mr', 'Taussig', \"It's\", 'interesting', 'how', 'many', 'people', 'contact', 'me', 'about', 'applying', 'for', 'a', 'PhD', 'and', \"don't\", '@user', 'spell', 'my', 'name', '#something', 'right', '.', 'Wow', 'ok', 'I', \"didn't\", 'realise', \"i'm\", 'using', 'contractions', 'like', \"haven't\", 'and', \"won't\", '.']\n\n",
     "output_type": "stream"
    }
   ]
  },
  {
   "cell_type": "markdown",
   "source": "### Summary\n---\n\nTokeniser 1 (Finds all Words):\n+ Good representation of words (includes Unicode characters and is sensible to punctuation within words, ie. \"don't\")\n- Deletes all punctuation (which might be important, ie. twitter communication heavily based tagging using '@' and hastags (#))\n- Destroys Links\n- Blind to Emojis\n\nTokeniser 2 (Split at Whitespace):\n+ Overall good representation of words \n+ keeps punctuation\n- ending punctuation is not being separated\n+ keeps Links\n+ recognises Emojis\n- doesnt separate adjacent emojis \n- blind to several words written together (in slang), ie. idontgiveafuck\n\nTokeniser 3 (Twitter Tokeniser API, Overcomes issues of Tokeniser 2):\n+ Ending punctuation is being separated\n+ Separate adjacent Emojis ",
   "metadata": {
    "cell_id": "00029-6b025e1e-41c8-40e8-95a6-ce98b58a469d",
    "deepnote_cell_type": "markdown"
   }
  },
  {
   "cell_type": "markdown",
   "source": "### Improving Tokenizer",
   "metadata": {
    "cell_id": "00032-9918e5ff-ad34-4397-8a23-02f60d16a194",
    "tags": [],
    "deepnote_cell_type": "markdown"
   }
  },
  {
   "cell_type": "markdown",
   "source": "Improving on the Tweet Tokenizer:\n* lowercasing \n* expanding contractions\n* change links to a dummy value",
   "metadata": {
    "cell_id": "00032-4555a69b-e985-4c97-8a63-e922bdc51ee5",
    "tags": [],
    "deepnote_cell_type": "markdown"
   }
  },
  {
   "cell_type": "markdown",
   "source": "## Final Tokenising",
   "metadata": {
    "cell_id": "00042-494c027a-c333-45d2-95c0-f8775d64c2ee",
    "tags": [],
    "deepnote_cell_type": "markdown"
   }
  },
  {
   "cell_type": "code",
   "metadata": {
    "cell_id": "00043-2f55d04c-3946-4a00-a740-a8debdffb56c",
    "deepnote_to_be_reexecuted": false,
    "execution_millis": 9,
    "execution_start": 1620894394512,
    "output_cleared": true,
    "source_hash": "8e83866d",
    "tags": [],
    "deepnote_cell_type": "code"
   },
   "source": "# define url regex pattern and replace pattern globally (compile for speedup)\nurl_pattern = re.compile(r\"(?i)((?:https?://|www\\d{0,3}[.]|[a-z0-9.-]+[.][a-z]{2,4}/)(?:[^\\s()<>]+|(([^\\s()<>]+|(([^\\s()<>]+)))))+(?:(([^\\s()<>]+|(([^\\s()<>]+))))|[^\\s`!()[]{};:'\\\".,<>?«»\\“\\”‘’]))\")\ndummy = \" <=LINK=> \"\n\ndef remove_links(tweet):\n    return re.sub(url_pattern, dummy, tweet) ",
   "execution_count": 19,
   "outputs": []
  },
  {
   "cell_type": "code",
   "metadata": {
    "cell_id": "00036-d9edebb2-2e4c-4677-8bf0-71886f19f539",
    "deepnote_to_be_reexecuted": false,
    "source_hash": "d39274f2",
    "execution_start": 1620894394525,
    "execution_millis": 6,
    "deepnote_cell_type": "code"
   },
   "source": "def remove_newline(tweet):\n    return re.sub(r'\\\\n', ' ', tweet)",
   "execution_count": 20,
   "outputs": []
  },
  {
   "cell_type": "code",
   "metadata": {
    "cell_id": "00043-6453b1f6-fe2d-4454-a660-25658b074aab",
    "deepnote_to_be_reexecuted": false,
    "execution_millis": 13,
    "execution_start": 1620894394534,
    "output_cleared": true,
    "source_hash": "2b57a052",
    "tags": [],
    "deepnote_cell_type": "code"
   },
   "source": "# loading pre-trained contraction model\ncont = Contractions(api_key=\"glove-twitter-200\")\n\ndef expand(tweet):\n    return list(cont.expand_texts([tweet]))[0]",
   "execution_count": 21,
   "outputs": []
  },
  {
   "cell_type": "code",
   "metadata": {
    "cell_id": "00038-2ea3f6e4-96f5-44d5-aff6-54fbe67b1b6c",
    "deepnote_to_be_reexecuted": false,
    "source_hash": "44dfa33b",
    "execution_start": 1620894394551,
    "execution_millis": 66475,
    "deepnote_cell_type": "code"
   },
   "source": "if PREPROCESS_DATA == True:\n    cont.load_models()",
   "execution_count": 22,
   "outputs": []
  },
  {
   "cell_type": "code",
   "metadata": {
    "cell_id": "00042-a9e30c04-e319-4b86-93a2-495d377ffdf7",
    "deepnote_to_be_reexecuted": false,
    "execution_millis": 66484,
    "execution_start": 1620894394566,
    "output_cleared": true,
    "source_hash": "d9d8669d",
    "tags": [],
    "deepnote_cell_type": "code"
   },
   "source": "tk = TweetTokenizer()\n\ndef clean(tweet):\n    cleaned_tweet = expand(remove_links(remove_newline(tweet.lower())))\n    return tk.tokenize(cleaned_tweet)",
   "execution_count": 23,
   "outputs": []
  },
  {
   "cell_type": "markdown",
   "source": "## Testing clean function",
   "metadata": {
    "cell_id": "00042-19104ffb-e92b-4585-9351-30174aea6d80",
    "deepnote_cell_type": "markdown"
   }
  },
  {
   "cell_type": "code",
   "metadata": {
    "cell_id": "00046-0a1e72d3-a195-4b4d-b338-b99415bcfd4a",
    "deepnote_to_be_reexecuted": false,
    "execution_millis": 66475,
    "execution_start": 1620894394609,
    "output_cleared": false,
    "scrolled": true,
    "source_hash": "3f56054f",
    "tags": [],
    "deepnote_cell_type": "code"
   },
   "source": "test = '@user there are more #frightening things in life\\n\\n#BeyondTheSphereOfReasonableDoubt'\nif PREPROCESS_DATA == True:\n    print(clean(test))\n#     print('\\t'.join(clean(test)) + '\\n')",
   "execution_count": 24,
   "outputs": []
  },
  {
   "cell_type": "code",
   "metadata": {
    "scrolled": false,
    "cell_id": "00042-a25c6300-bbf5-4fb0-b01d-0bf34215c82d",
    "deepnote_to_be_reexecuted": false,
    "source_hash": "ad16565b",
    "execution_start": 1620894394609,
    "execution_millis": 66506,
    "deepnote_cell_type": "code"
   },
   "source": "import difflib\ntest2 = DATA['raw']['emotion']['val_text'][15]\ntest3 = str(test2)\n# print(test == test3)\n# print(clean(str(test3)))\n# print(test)\n#print(clean(test2))\n# print('\\n'.join(difflib.ndiff([test], [test2])))",
   "execution_count": 25,
   "outputs": []
  },
  {
   "cell_type": "code",
   "metadata": {
    "cell_id": "00046-8f2c5b62-9cce-4460-a430-78de3377ebca",
    "deepnote_to_be_reexecuted": false,
    "execution_millis": 150866991,
    "execution_start": 1620894394610,
    "output_cleared": true,
    "source_hash": "c2ec7c27",
    "tags": [],
    "deepnote_cell_type": "code"
   },
   "source": "if PREPROCESS_DATA == True:\n    for dataset in DATASETS:\n        # create preprocessed folder\n        try: os.makedirs(f'../data/processed/{dataset}')\n        except: None\n\n        # preprocess and tokenize tweets\n        for key in ['train_text', 'val_text', 'test_text']:\n            with open(f'../data/processed/{dataset}/{key}.txt', 'w', encoding = 'UTF-8') as outfile:\n                for tweet in DATA['raw'][dataset][key]:\n                    outfile.write('\\t'.join(clean(tweet)) + '\\n') # writing tokenised tweet with tab delimiter\n\n        # copy labels and mapping without preprocessing\n        for key in ['train_labels', 'val_labels', 'test_labels', 'mapping']:\n            shutil.copyfile(f'../data/raw/{dataset}/{key}.txt', f'../data/processed/{dataset}/{key}.txt')",
   "execution_count": 26,
   "outputs": []
  },
  {
   "cell_type": "code",
   "metadata": {
    "cell_id": "00042-632ac15c-7d49-4503-b780-5829b6f5faac",
    "deepnote_to_be_reexecuted": false,
    "execution_millis": 200,
    "execution_start": 1620894394610,
    "output_cleared": false,
    "source_hash": "e8fcf339",
    "tags": [],
    "deepnote_cell_type": "code"
   },
   "source": "# loading in processed data\nfor dataset in DATASETS:\n    for key in os.listdir(f'../data/processed/{dataset}'):\n        with open(f'../data/processed/{dataset}/{key}', 'r', encoding='UTF-8') as infile:\n            DATA['processed'][dataset][key[:-4]] = [line.strip().split('\\t') for line in infile.readlines()]\n\n    # convert target labels to integers\n    for key in ['train_labels', 'val_labels', 'test_labels']:\n        DATA['processed'][dataset][key] = [int(x) for x in [DATA['processed'][dataset][key][i][0] for i in range(len(DATA['processed'][dataset][key]))]]\n\n    # convert mapping to dictionary\n    DATA['processed'][dataset]['mapping'] = {int(string[0]): string[1] for string in DATA['processed'][dataset]['mapping']}",
   "execution_count": 27,
   "outputs": []
  },
  {
   "cell_type": "markdown",
   "source": "*TASK 1* \n# Descriptive Statistics about Natural Language Data\n---",
   "metadata": {
    "cell_id": "00044-cef6a6e4-c220-496f-ada8-d6cfbc08f299",
    "tags": [],
    "deepnote_cell_type": "markdown"
   }
  },
  {
   "cell_type": "code",
   "metadata": {
    "tags": [],
    "cell_id": "00046-c2b2e52f-155f-4bb0-82f8-3eb9d7f2c2c9",
    "deepnote_to_be_reexecuted": false,
    "source_hash": "440125d1",
    "execution_start": 1620894394810,
    "execution_millis": 0,
    "deepnote_cell_type": "code"
   },
   "source": "CORPUS = {}\nfor dataset in DATASETS:\n    CORPUS[dataset] = [token for tweet in DATA['processed'][dataset]['train_text'] for token in tweet]",
   "execution_count": 28,
   "outputs": []
  },
  {
   "cell_type": "code",
   "metadata": {
    "cell_id": "00042-f580c106-03ae-4ef2-a8de-3329cc7f39d7",
    "deepnote_to_be_reexecuted": false,
    "execution_millis": 99,
    "execution_start": 1620894394810,
    "output_cleared": true,
    "source_hash": "59efce5f",
    "tags": [],
    "deepnote_cell_type": "code"
   },
   "source": "# build entire alphabet from training tweets\nVOCABULARY = {}\nfor dataset in DATASETS:\n    corpus = CORPUS[dataset]\n\n    # initialise frequency counter\n    VOCABULARY[dataset] = pd.DataFrame.from_dict(Counter(corpus), orient='index').rename(columns={'index': 'token', 0: 'frequency'}).sort_values(by='frequency', ascending=False).reset_index()\n\n    VOCABULARY[dataset]['rank'] = VOCABULARY[dataset].index + 1 # add one to index to build rank\n    VOCABULARY[dataset]['normalised_frequency'] = VOCABULARY[dataset]['frequency'] / VOCABULARY[dataset]['frequency'].sum() # relative frequency\n    VOCABULARY[dataset]['cumulative_frequency'] = VOCABULARY[dataset]['normalised_frequency'].cumsum()",
   "execution_count": 29,
   "outputs": []
  },
  {
   "cell_type": "code",
   "metadata": {
    "cell_id": "00046-5accac30-2f91-4cf6-8d65-ca5f6e2cfff1",
    "deepnote_to_be_reexecuted": false,
    "execution_millis": 197,
    "execution_start": 1620894394915,
    "output_cleared": false,
    "source_hash": "76d6d744",
    "tags": [],
    "deepnote_cell_type": "code"
   },
   "source": "VOCABULARY['hate']",
   "execution_count": 30,
   "outputs": [
    {
     "output_type": "execute_result",
     "execution_count": 30,
     "data": {
      "application/vnd.deepnote.dataframe.v2+json": {
       "row_count": 18600,
       "column_count": 5,
       "columns": [
        {
         "name": "index",
         "dtype": "object",
         "stats": {
          "unique_count": 18600,
          "nan_count": 0,
          "categories": [
           {
            "name": ".",
            "count": 1
           },
           {
            "name": "@user",
            "count": 1
           },
           {
            "name": "18598 others",
            "count": 18598
           }
          ]
         }
        },
        {
         "name": "frequency",
         "dtype": "int64",
         "stats": {
          "unique_count": 294,
          "nan_count": 0,
          "min": "1",
          "max": "6277",
          "histogram": [
           {
            "bin_start": 1,
            "bin_end": 628.6,
            "count": 18551
           },
           {
            "bin_start": 628.6,
            "bin_end": 1256.2,
            "count": 30
           },
           {
            "bin_start": 1256.2,
            "bin_end": 1883.8000000000002,
            "count": 5
           },
           {
            "bin_start": 1883.8000000000002,
            "bin_end": 2511.4,
            "count": 3
           },
           {
            "bin_start": 2511.4,
            "bin_end": 3139,
            "count": 3
           },
           {
            "bin_start": 3139,
            "bin_end": 3766.6000000000004,
            "count": 1
           },
           {
            "bin_start": 3766.6000000000004,
            "bin_end": 4394.2,
            "count": 3
           },
           {
            "bin_start": 4394.2,
            "bin_end": 5021.8,
            "count": 1
           },
           {
            "bin_start": 5021.8,
            "bin_end": 5649.400000000001,
            "count": 1
           },
           {
            "bin_start": 5649.400000000001,
            "bin_end": 6277,
            "count": 2
           }
          ]
         }
        },
        {
         "name": "rank",
         "dtype": "int64",
         "stats": {
          "unique_count": 18600,
          "nan_count": 0,
          "min": "1",
          "max": "18600",
          "histogram": [
           {
            "bin_start": 1,
            "bin_end": 1860.9,
            "count": 1860
           },
           {
            "bin_start": 1860.9,
            "bin_end": 3720.8,
            "count": 1860
           },
           {
            "bin_start": 3720.8,
            "bin_end": 5580.700000000001,
            "count": 1860
           },
           {
            "bin_start": 5580.700000000001,
            "bin_end": 7440.6,
            "count": 1860
           },
           {
            "bin_start": 7440.6,
            "bin_end": 9300.5,
            "count": 1860
           },
           {
            "bin_start": 9300.5,
            "bin_end": 11160.400000000001,
            "count": 1860
           },
           {
            "bin_start": 11160.400000000001,
            "bin_end": 13020.300000000001,
            "count": 1860
           },
           {
            "bin_start": 13020.300000000001,
            "bin_end": 14880.2,
            "count": 1860
           },
           {
            "bin_start": 14880.2,
            "bin_end": 16740.100000000002,
            "count": 1860
           },
           {
            "bin_start": 16740.100000000002,
            "bin_end": 18600,
            "count": 1860
           }
          ]
         }
        },
        {
         "name": "normalised_frequency",
         "dtype": "float64",
         "stats": {
          "unique_count": 294,
          "nan_count": 0,
          "min": "4.628001258816342e-06",
          "max": "0.029049963901590183",
          "histogram": [
           {
            "bin_start": 0.000004628001258816342,
            "bin_end": 0.0029091615912919533,
            "count": 18551
           },
           {
            "bin_start": 0.0029091615912919533,
            "bin_end": 0.00581369518132509,
            "count": 30
           },
           {
            "bin_start": 0.00581369518132509,
            "bin_end": 0.008718228771358225,
            "count": 5
           },
           {
            "bin_start": 0.008718228771358225,
            "bin_end": 0.011622762361391363,
            "count": 3
           },
           {
            "bin_start": 0.011622762361391363,
            "bin_end": 0.0145272959514245,
            "count": 3
           },
           {
            "bin_start": 0.0145272959514245,
            "bin_end": 0.017431829541457635,
            "count": 1
           },
           {
            "bin_start": 0.017431829541457635,
            "bin_end": 0.020336363131490773,
            "count": 3
           },
           {
            "bin_start": 0.020336363131490773,
            "bin_end": 0.02324089672152391,
            "count": 1
           },
           {
            "bin_start": 0.02324089672152391,
            "bin_end": 0.02614543031155705,
            "count": 1
           },
           {
            "bin_start": 0.02614543031155705,
            "bin_end": 0.029049963901590183,
            "count": 2
           }
          ]
         }
        },
        {
         "name": "cumulative_frequency",
         "dtype": "float64",
         "stats": {
          "unique_count": 18600,
          "nan_count": 0,
          "min": "0.029049963901590183",
          "max": "0.9999999999996355",
          "histogram": [
           {
            "bin_start": 0.029049963901590183,
            "bin_end": 0.1261449675113947,
            "count": 5
           },
           {
            "bin_start": 0.1261449675113947,
            "bin_end": 0.22323997112119923,
            "count": 6
           },
           {
            "bin_start": 0.22323997112119923,
            "bin_end": 0.3203349747310038,
            "count": 15
           },
           {
            "bin_start": 0.3203349747310038,
            "bin_end": 0.4174299783408083,
            "count": 28
           },
           {
            "bin_start": 0.4174299783408083,
            "bin_end": 0.5145249819506128,
            "count": 48
           },
           {
            "bin_start": 0.5145249819506128,
            "bin_end": 0.6116199855604174,
            "count": 104
           },
           {
            "bin_start": 0.6116199855604174,
            "bin_end": 0.7087149891702219,
            "count": 276
           },
           {
            "bin_start": 0.7087149891702219,
            "bin_end": 0.8058099927800264,
            "count": 775
           },
           {
            "bin_start": 0.8058099927800264,
            "bin_end": 0.9029049963898309,
            "count": 2673
           },
           {
            "bin_start": 0.9029049963898309,
            "bin_end": 0.9999999999996355,
            "count": 14670
           }
          ]
         }
        },
        {
         "name": "_deepnote_index_column",
         "dtype": "int64"
        }
       ],
       "rows_top": [
        {
         "index": ".",
         "frequency": 6277,
         "rank": 1,
         "normalised_frequency": 0.029049963901590183,
         "cumulative_frequency": 0.029049963901590183,
         "_deepnote_index_column": 0
        },
        {
         "index": "@user",
         "frequency": 6014,
         "rank": 2,
         "normalised_frequency": 0.027832799570521483,
         "cumulative_frequency": 0.056882763472111665,
         "_deepnote_index_column": 1
        },
        {
         "index": "the",
         "frequency": 5492,
         "rank": 3,
         "normalised_frequency": 0.02541698291341935,
         "cumulative_frequency": 0.08229974638553102,
         "_deepnote_index_column": 2
        },
        {
         "index": "to",
         "frequency": 4931,
         "rank": 4,
         "normalised_frequency": 0.022820674207223383,
         "cumulative_frequency": 0.1051204205927544,
         "_deepnote_index_column": 3
        },
        {
         "index": ",",
         "frequency": 4356,
         "rank": 5,
         "normalised_frequency": 0.020159573483403987,
         "cumulative_frequency": 0.1252799940761584,
         "_deepnote_index_column": 4
        },
        {
         "index": "you",
         "frequency": 4106,
         "rank": 6,
         "normalised_frequency": 0.019002573168699903,
         "cumulative_frequency": 0.1442825672448583,
         "_deepnote_index_column": 5
        },
        {
         "index": "a",
         "frequency": 3953,
         "rank": 7,
         "normalised_frequency": 0.018294488976101003,
         "cumulative_frequency": 0.1625770562209593,
         "_deepnote_index_column": 6
        },
        {
         "index": "and",
         "frequency": 3221,
         "rank": 8,
         "normalised_frequency": 0.01490679205464744,
         "cumulative_frequency": 0.17748384827560673,
         "_deepnote_index_column": 7
        },
        {
         "index": "of",
         "frequency": 2886,
         "rank": 9,
         "normalised_frequency": 0.013356411632943965,
         "cumulative_frequency": 0.1908402599085507,
         "_deepnote_index_column": 8
        },
        {
         "index": "is",
         "frequency": 2719,
         "rank": 10,
         "normalised_frequency": 0.012583535422721635,
         "cumulative_frequency": 0.20342379533127233,
         "_deepnote_index_column": 9
        },
        {
         "index": "in",
         "frequency": 2562,
         "rank": 11,
         "normalised_frequency": 0.01185693922508747,
         "cumulative_frequency": 0.2152807345563598,
         "_deepnote_index_column": 10
        },
        {
         "index": "not",
         "frequency": 2402,
         "rank": 12,
         "normalised_frequency": 0.011116459023676854,
         "cumulative_frequency": 0.22639719358003665,
         "_deepnote_index_column": 11
        },
        {
         "index": "!",
         "frequency": 2147,
         "rank": 13,
         "normalised_frequency": 0.009936318702678687,
         "cumulative_frequency": 0.23633351228271535,
         "_deepnote_index_column": 12
        },
        {
         "index": "are",
         "frequency": 2056,
         "rank": 14,
         "normalised_frequency": 0.0095151705881264,
         "cumulative_frequency": 0.24584868287084174,
         "_deepnote_index_column": 13
        },
        {
         "index": "for",
         "frequency": 1828,
         "rank": 15,
         "normalised_frequency": 0.008459986301116273,
         "cumulative_frequency": 0.25430866917195805,
         "_deepnote_index_column": 14
        },
        {
         "index": "i",
         "frequency": 1792,
         "rank": 16,
         "normalised_frequency": 0.008293378255798886,
         "cumulative_frequency": 0.26260204742775695,
         "_deepnote_index_column": 15
        },
        {
         "index": "that",
         "frequency": 1531,
         "rank": 17,
         "normalised_frequency": 0.00708546992724782,
         "cumulative_frequency": 0.2696875173550048,
         "_deepnote_index_column": 16
        },
        {
         "index": "it",
         "frequency": 1359,
         "rank": 18,
         "normalised_frequency": 0.006289453710731409,
         "cumulative_frequency": 0.2759769710657362,
         "_deepnote_index_column": 17
        },
        {
         "index": "?",
         "frequency": 1353,
         "rank": 19,
         "normalised_frequency": 0.006261685703178511,
         "cumulative_frequency": 0.28223865676891474,
         "_deepnote_index_column": 18
        },
        {
         "index": "'",
         "frequency": 1244,
         "rank": 20,
         "normalised_frequency": 0.00575723356596753,
         "cumulative_frequency": 0.28799589033488227,
         "_deepnote_index_column": 19
        },
        {
         "index": "on",
         "frequency": 1183,
         "rank": 21,
         "normalised_frequency": 0.0054749254891797335,
         "cumulative_frequency": 0.293470815824062,
         "_deepnote_index_column": 20
        },
        {
         "index": "they",
         "frequency": 1073,
         "rank": 22,
         "normalised_frequency": 0.004965845350709935,
         "cumulative_frequency": 0.2984366611747719,
         "_deepnote_index_column": 21
        },
        {
         "index": "bitch",
         "frequency": 1069,
         "rank": 23,
         "normalised_frequency": 0.00494733334567467,
         "cumulative_frequency": 0.30338399452044656,
         "_deepnote_index_column": 22
        },
        {
         "index": "all",
         "frequency": 1061,
         "rank": 24,
         "normalised_frequency": 0.004910309335604139,
         "cumulative_frequency": 0.3082943038560507,
         "_deepnote_index_column": 23
        },
        {
         "index": "this",
         "frequency": 1044,
         "rank": 25,
         "normalised_frequency": 0.004831633314204262,
         "cumulative_frequency": 0.313125937170255,
         "_deepnote_index_column": 24
        },
        {
         "index": "do",
         "frequency": 1032,
         "rank": 26,
         "normalised_frequency": 0.004776097299098466,
         "cumulative_frequency": 0.31790203446935345,
         "_deepnote_index_column": 25
        },
        {
         "index": "have",
         "frequency": 1030,
         "rank": 27,
         "normalised_frequency": 0.004766841296580833,
         "cumulative_frequency": 0.3226688757659343,
         "_deepnote_index_column": 26
        },
        {
         "index": "your",
         "frequency": 970,
         "rank": 28,
         "normalised_frequency": 0.004489161221051852,
         "cumulative_frequency": 0.32715803698698614,
         "_deepnote_index_column": 27
        },
        {
         "index": "’",
         "frequency": 966,
         "rank": 29,
         "normalised_frequency": 0.004470649216016587,
         "cumulative_frequency": 0.33162868620300273,
         "_deepnote_index_column": 28
        },
        {
         "index": "-",
         "frequency": 943,
         "rank": 30,
         "normalised_frequency": 0.004364205187063811,
         "cumulative_frequency": 0.33599289139006655,
         "_deepnote_index_column": 29
        },
        {
         "index": "be",
         "frequency": 942,
         "rank": 31,
         "normalised_frequency": 0.0043595771858049946,
         "cumulative_frequency": 0.34035246857587154,
         "_deepnote_index_column": 30
        },
        {
         "index": "with",
         "frequency": 942,
         "rank": 32,
         "normalised_frequency": 0.0043595771858049946,
         "cumulative_frequency": 0.3447120457616765,
         "_deepnote_index_column": 31
        },
        {
         "index": "...",
         "frequency": 873,
         "rank": 33,
         "normalised_frequency": 0.004040245098946667,
         "cumulative_frequency": 0.3487522908606232,
         "_deepnote_index_column": 32
        },
        {
         "index": "women",
         "frequency": 840,
         "rank": 34,
         "normalised_frequency": 0.0038875210574057274,
         "cumulative_frequency": 0.35263981191802896,
         "_deepnote_index_column": 33
        },
        {
         "index": "we",
         "frequency": 837,
         "rank": 35,
         "normalised_frequency": 0.0038736370536292786,
         "cumulative_frequency": 0.3565134489716582,
         "_deepnote_index_column": 34
        },
        {
         "index": ":",
         "frequency": 833,
         "rank": 36,
         "normalised_frequency": 0.0038551250485940134,
         "cumulative_frequency": 0.36036857402025224,
         "_deepnote_index_column": 35
        },
        {
         "index": "refugees",
         "frequency": 819,
         "rank": 37,
         "normalised_frequency": 0.0037903330309705845,
         "cumulative_frequency": 0.36415890705122284,
         "_deepnote_index_column": 36
        },
        {
         "index": "will",
         "frequency": 745,
         "rank": 38,
         "normalised_frequency": 0.003447860937818175,
         "cumulative_frequency": 0.367606767989041,
         "_deepnote_index_column": 37
        },
        {
         "index": "\"",
         "frequency": 731,
         "rank": 39,
         "normalised_frequency": 0.0033830689201947463,
         "cumulative_frequency": 0.37098983690923576,
         "_deepnote_index_column": 38
        },
        {
         "index": "me",
         "frequency": 720,
         "rank": 40,
         "normalised_frequency": 0.0033321609063477666,
         "cumulative_frequency": 0.3743219978155835,
         "_deepnote_index_column": 39
        },
        {
         "index": "from",
         "frequency": 712,
         "rank": 41,
         "normalised_frequency": 0.0032951368962772357,
         "cumulative_frequency": 0.37761713471186076,
         "_deepnote_index_column": 40
        },
        {
         "index": "when",
         "frequency": 708,
         "rank": 42,
         "normalised_frequency": 0.0032766248912419705,
         "cumulative_frequency": 0.38089375960310273,
         "_deepnote_index_column": 41
        },
        {
         "index": "my",
         "frequency": 702,
         "rank": 43,
         "normalised_frequency": 0.0032488568836890725,
         "cumulative_frequency": 0.3841426164867918,
         "_deepnote_index_column": 42
        },
        {
         "index": "who",
         "frequency": 682,
         "rank": 44,
         "normalised_frequency": 0.0031562968585127455,
         "cumulative_frequency": 0.3872989133453046,
         "_deepnote_index_column": 43
        },
        {
         "index": "like",
         "frequency": 679,
         "rank": 45,
         "normalised_frequency": 0.0031424128547362963,
         "cumulative_frequency": 0.3904413262000409,
         "_deepnote_index_column": 44
        },
        {
         "index": "if",
         "frequency": 673,
         "rank": 46,
         "normalised_frequency": 0.0031146448471833983,
         "cumulative_frequency": 0.3935559710472243,
         "_deepnote_index_column": 45
        },
        {
         "index": "&",
         "frequency": 673,
         "rank": 47,
         "normalised_frequency": 0.0031146448471833983,
         "cumulative_frequency": 0.39667061589440766,
         "_deepnote_index_column": 46
        },
        {
         "index": "immigrant",
         "frequency": 654,
         "rank": 48,
         "normalised_frequency": 0.0030267128232658877,
         "cumulative_frequency": 0.39969732871767355,
         "_deepnote_index_column": 47
        },
        {
         "index": "but",
         "frequency": 630,
         "rank": 49,
         "normalised_frequency": 0.0029156407930542956,
         "cumulative_frequency": 0.40261296951072784,
         "_deepnote_index_column": 48
        },
        {
         "index": "their",
         "frequency": 625,
         "rank": 50,
         "normalised_frequency": 0.002892500786760214,
         "cumulative_frequency": 0.40550547029748807,
         "_deepnote_index_column": 49
        },
        {
         "index": "about",
         "frequency": 607,
         "rank": 51,
         "normalised_frequency": 0.00280919676410152,
         "cumulative_frequency": 0.4083146670615896,
         "_deepnote_index_column": 50
        },
        {
         "index": "no",
         "frequency": 600,
         "rank": 52,
         "normalised_frequency": 0.0027768007552898054,
         "cumulative_frequency": 0.4110914678168794,
         "_deepnote_index_column": 51
        },
        {
         "index": "s",
         "frequency": 583,
         "rank": 53,
         "normalised_frequency": 0.0026981247338899277,
         "cumulative_frequency": 0.4137895925507693,
         "_deepnote_index_column": 52
        },
        {
         "index": "as",
         "frequency": 582,
         "rank": 54,
         "normalised_frequency": 0.0026934967326311112,
         "cumulative_frequency": 0.4164830892834004,
         "_deepnote_index_column": 53
        },
        {
         "index": "so",
         "frequency": 580,
         "rank": 55,
         "normalised_frequency": 0.0026842407301134784,
         "cumulative_frequency": 0.41916733001351386,
         "_deepnote_index_column": 54
        },
        {
         "index": "by",
         "frequency": 578,
         "rank": 56,
         "normalised_frequency": 0.002674984727595846,
         "cumulative_frequency": 0.4218423147411097,
         "_deepnote_index_column": 55
        },
        {
         "index": "illegal",
         "frequency": 572,
         "rank": 57,
         "normalised_frequency": 0.002647216720042948,
         "cumulative_frequency": 0.42448953146115265,
         "_deepnote_index_column": 56
        },
        {
         "index": "up",
         "frequency": 569,
         "rank": 58,
         "normalised_frequency": 0.0026333327162664988,
         "cumulative_frequency": 0.4271228641774191,
         "_deepnote_index_column": 57
        },
        {
         "index": "what",
         "frequency": 554,
         "rank": 59,
         "normalised_frequency": 0.002563912697384254,
         "cumulative_frequency": 0.4296867768748034,
         "_deepnote_index_column": 58
        },
        {
         "index": "at",
         "frequency": 553,
         "rank": 60,
         "normalised_frequency": 0.0025592846961254375,
         "cumulative_frequency": 0.4322460615709288,
         "_deepnote_index_column": 59
        },
        {
         "index": "our",
         "frequency": 540,
         "rank": 61,
         "normalised_frequency": 0.002499120679760825,
         "cumulative_frequency": 0.43474518225068964,
         "_deepnote_index_column": 60
        },
        {
         "index": "just",
         "frequency": 531,
         "rank": 62,
         "normalised_frequency": 0.0024574686684314777,
         "cumulative_frequency": 0.43720265091912114,
         "_deepnote_index_column": 61
        },
        {
         "index": "or",
         "frequency": 519,
         "rank": 63,
         "normalised_frequency": 0.0024019326533256816,
         "cumulative_frequency": 0.4396045835724468,
         "_deepnote_index_column": 62
        },
        {
         "index": "immigration",
         "frequency": 516,
         "rank": 64,
         "normalised_frequency": 0.002388048649549233,
         "cumulative_frequency": 0.44199263222199603,
         "_deepnote_index_column": 63
        },
        {
         "index": "men",
         "frequency": 508,
         "rank": 65,
         "normalised_frequency": 0.002351024639478702,
         "cumulative_frequency": 0.44434365686147476,
         "_deepnote_index_column": 64
        },
        {
         "index": "get",
         "frequency": 501,
         "rank": 66,
         "normalised_frequency": 0.0023186286306669875,
         "cumulative_frequency": 0.44666228549214176,
         "_deepnote_index_column": 65
        },
        {
         "index": "people",
         "frequency": 498,
         "rank": 67,
         "normalised_frequency": 0.0023047446268905387,
         "cumulative_frequency": 0.44896703011903233,
         "_deepnote_index_column": 66
        },
        {
         "index": "migrants",
         "frequency": 495,
         "rank": 68,
         "normalised_frequency": 0.0022908606231140894,
         "cumulative_frequency": 0.4512578907421464,
         "_deepnote_index_column": 67
        },
        {
         "index": "them",
         "frequency": 490,
         "rank": 69,
         "normalised_frequency": 0.002267720616820008,
         "cumulative_frequency": 0.4535256113589664,
         "_deepnote_index_column": 68
        },
        {
         "index": "her",
         "frequency": 489,
         "rank": 70,
         "normalised_frequency": 0.0022630926155611914,
         "cumulative_frequency": 0.4557887039745276,
         "_deepnote_index_column": 69
        },
        {
         "index": "can",
         "frequency": 488,
         "rank": 71,
         "normalised_frequency": 0.002258464614302375,
         "cumulative_frequency": 0.45804716858883,
         "_deepnote_index_column": 70
        },
        {
         "index": "was",
         "frequency": 481,
         "rank": 72,
         "normalised_frequency": 0.0022260686054906605,
         "cumulative_frequency": 0.4602732371943207,
         "_deepnote_index_column": 71
        },
        {
         "index": "an",
         "frequency": 471,
         "rank": 73,
         "normalised_frequency": 0.0021797885929024973,
         "cumulative_frequency": 0.4624530257872232,
         "_deepnote_index_column": 72
        },
        {
         "index": "woman",
         "frequency": 465,
         "rank": 74,
         "normalised_frequency": 0.0021520205853495992,
         "cumulative_frequency": 0.46460504637257277,
         "_deepnote_index_column": 73
        },
        {
         "index": "cunt",
         "frequency": 454,
         "rank": 75,
         "normalised_frequency": 0.0021011125715026196,
         "cumulative_frequency": 0.4667061589440754,
         "_deepnote_index_column": 74
        },
        {
         "index": "rape",
         "frequency": 447,
         "rank": 76,
         "normalised_frequency": 0.002068716562690905,
         "cumulative_frequency": 0.46877487550676633,
         "_deepnote_index_column": 75
        },
        {
         "index": "how",
         "frequency": 444,
         "rank": 77,
         "normalised_frequency": 0.002054832558914456,
         "cumulative_frequency": 0.4708297080656808,
         "_deepnote_index_column": 76
        },
        {
         "index": "more",
         "frequency": 433,
         "rank": 78,
         "normalised_frequency": 0.002003924545067476,
         "cumulative_frequency": 0.4728336326107483,
         "_deepnote_index_column": 77
        },
        {
         "index": "want",
         "frequency": 432,
         "rank": 79,
         "normalised_frequency": 0.00199929654380866,
         "cumulative_frequency": 0.47483292915455694,
         "_deepnote_index_column": 78
        },
        {
         "index": "out",
         "frequency": 431,
         "rank": 80,
         "normalised_frequency": 0.0019946685425498434,
         "cumulative_frequency": 0.4768275976971068,
         "_deepnote_index_column": 79
        },
        {
         "index": "us",
         "frequency": 417,
         "rank": 81,
         "normalised_frequency": 0.0019298765249264147,
         "cumulative_frequency": 0.47875747422203324,
         "_deepnote_index_column": 80
        },
        {
         "index": "go",
         "frequency": 416,
         "rank": 82,
         "normalised_frequency": 0.0019252485236675985,
         "cumulative_frequency": 0.48068272274570084,
         "_deepnote_index_column": 81
        },
        {
         "index": "I",
         "frequency": 414,
         "rank": 83,
         "normalised_frequency": 0.0019159925211499657,
         "cumulative_frequency": 0.48259871526685083,
         "_deepnote_index_column": 82
        },
        {
         "index": "she",
         "frequency": 413,
         "rank": 84,
         "normalised_frequency": 0.0019113645198911495,
         "cumulative_frequency": 0.484510079786742,
         "_deepnote_index_column": 83
        },
        {
         "index": "he",
         "frequency": 404,
         "rank": 85,
         "normalised_frequency": 0.0018697125085618024,
         "cumulative_frequency": 0.4863797922953038,
         "_deepnote_index_column": 84
        },
        {
         "index": "am",
         "frequency": 397,
         "rank": 86,
         "normalised_frequency": 0.001837316499750088,
         "cumulative_frequency": 0.4882171087950539,
         "_deepnote_index_column": 85
        },
        {
         "index": "has",
         "frequency": 395,
         "rank": 87,
         "normalised_frequency": 0.0018280604972324554,
         "cumulative_frequency": 0.49004516929228636,
         "_deepnote_index_column": 86
        },
        {
         "index": "whore",
         "frequency": 393,
         "rank": 88,
         "normalised_frequency": 0.0018188044947148225,
         "cumulative_frequency": 0.4918639737870012,
         "_deepnote_index_column": 87
        },
        {
         "index": "#buildthatwall",
         "frequency": 371,
         "rank": 89,
         "normalised_frequency": 0.001716988467020863,
         "cumulative_frequency": 0.49358096225402204,
         "_deepnote_index_column": 88
        },
        {
         "index": "immigrants",
         "frequency": 364,
         "rank": 90,
         "normalised_frequency": 0.0016845924582091487,
         "cumulative_frequency": 0.49526555471223116,
         "_deepnote_index_column": 89
        },
        {
         "index": "one",
         "frequency": 360,
         "rank": 91,
         "normalised_frequency": 0.0016660804531738833,
         "cumulative_frequency": 0.49693163516540506,
         "_deepnote_index_column": 90
        },
        {
         "index": "fuck",
         "frequency": 354,
         "rank": 92,
         "normalised_frequency": 0.0016383124456209853,
         "cumulative_frequency": 0.498569947611026,
         "_deepnote_index_column": 91
        },
        {
         "index": "would",
         "frequency": 349,
         "rank": 93,
         "normalised_frequency": 0.0016151724393269034,
         "cumulative_frequency": 0.5001851200503529,
         "_deepnote_index_column": 92
        },
        {
         "index": "because",
         "frequency": 345,
         "rank": 94,
         "normalised_frequency": 0.0015966604342916382,
         "cumulative_frequency": 0.5017817804846445,
         "_deepnote_index_column": 93
        },
        {
         "index": "…",
         "frequency": 344,
         "rank": 95,
         "normalised_frequency": 0.0015920324330328218,
         "cumulative_frequency": 0.5033738129176774,
         "_deepnote_index_column": 94
        },
        {
         "index": "why",
         "frequency": 338,
         "rank": 96,
         "normalised_frequency": 0.0015642644254799238,
         "cumulative_frequency": 0.5049380773431573,
         "_deepnote_index_column": 95
        },
        {
         "index": "time",
         "frequency": 337,
         "rank": 97,
         "normalised_frequency": 0.0015596364242211073,
         "cumulative_frequency": 0.5064977137673784,
         "_deepnote_index_column": 96
        },
        {
         "index": "should",
         "frequency": 332,
         "rank": 98,
         "normalised_frequency": 0.0015364964179270257,
         "cumulative_frequency": 0.5080342101853055,
         "_deepnote_index_column": 97
        },
        {
         "index": "now",
         "frequency": 326,
         "rank": 99,
         "normalised_frequency": 0.0015087284103741277,
         "cumulative_frequency": 0.5095429385956796,
         "_deepnote_index_column": 98
        },
        {
         "index": "know",
         "frequency": 316,
         "rank": 100,
         "normalised_frequency": 0.0014624483977859642,
         "cumulative_frequency": 0.5110053869934655,
         "_deepnote_index_column": 99
        }
       ],
       "rows_bottom": [
        {
         "index": "verses",
         "frequency": 1,
         "rank": 18501,
         "normalised_frequency": 0.000004628001258816342,
         "cumulative_frequency": 0.9995418278750166,
         "_deepnote_index_column": 18500
        },
        {
         "index": "fisherman",
         "frequency": 1,
         "rank": 18502,
         "normalised_frequency": 0.000004628001258816342,
         "cumulative_frequency": 0.9995464558762753,
         "_deepnote_index_column": 18501
        },
        {
         "index": "parent-child",
         "frequency": 1,
         "rank": 18503,
         "normalised_frequency": 0.000004628001258816342,
         "cumulative_frequency": 0.9995510838775341,
         "_deepnote_index_column": 18502
        },
        {
         "index": "retiring",
         "frequency": 1,
         "rank": 18504,
         "normalised_frequency": 0.000004628001258816342,
         "cumulative_frequency": 0.9995557118787929,
         "_deepnote_index_column": 18503
        },
        {
         "index": "heir",
         "frequency": 1,
         "rank": 18505,
         "normalised_frequency": 0.000004628001258816342,
         "cumulative_frequency": 0.9995603398800517,
         "_deepnote_index_column": 18504
        },
        {
         "index": "#sextraffickimg",
         "frequency": 1,
         "rank": 18506,
         "normalised_frequency": 0.000004628001258816342,
         "cumulative_frequency": 0.9995649678813104,
         "_deepnote_index_column": 18505
        },
        {
         "index": "#traffickstop",
         "frequency": 1,
         "rank": 18507,
         "normalised_frequency": 0.000004628001258816342,
         "cumulative_frequency": 0.9995695958825692,
         "_deepnote_index_column": 18506
        },
        {
         "index": "#bulldthewall",
         "frequency": 1,
         "rank": 18508,
         "normalised_frequency": 0.000004628001258816342,
         "cumulative_frequency": 0.999574223883828,
         "_deepnote_index_column": 18507
        },
        {
         "index": "#endchainmigrationhere",
         "frequency": 1,
         "rank": 18509,
         "normalised_frequency": 0.000004628001258816342,
         "cumulative_frequency": 0.9995788518850868,
         "_deepnote_index_column": 18508
        },
        {
         "index": "molestation",
         "frequency": 1,
         "rank": 18510,
         "normalised_frequency": 0.000004628001258816342,
         "cumulative_frequency": 0.9995834798863455,
         "_deepnote_index_column": 18509
        },
        {
         "index": "employee",
         "frequency": 1,
         "rank": 18511,
         "normalised_frequency": 0.000004628001258816342,
         "cumulative_frequency": 0.9995881078876043,
         "_deepnote_index_column": 18510
        },
        {
         "index": "slipped",
         "frequency": 1,
         "rank": 18512,
         "normalised_frequency": 0.000004628001258816342,
         "cumulative_frequency": 0.9995927358888631,
         "_deepnote_index_column": 18511
        },
        {
         "index": "camouflaged",
         "frequency": 1,
         "rank": 18513,
         "normalised_frequency": 0.000004628001258816342,
         "cumulative_frequency": 0.9995973638901219,
         "_deepnote_index_column": 18512
        },
        {
         "index": "#8217",
         "frequency": 1,
         "rank": 18514,
         "normalised_frequency": 0.000004628001258816342,
         "cumulative_frequency": 0.9996019918913807,
         "_deepnote_index_column": 18513
        },
        {
         "index": "songbirds",
         "frequency": 1,
         "rank": 18515,
         "normalised_frequency": 0.000004628001258816342,
         "cumulative_frequency": 0.9996066198926394,
         "_deepnote_index_column": 18514
        },
        {
         "index": "overcoming",
         "frequency": 1,
         "rank": 18516,
         "normalised_frequency": 0.000004628001258816342,
         "cumulative_frequency": 0.9996112478938982,
         "_deepnote_index_column": 18515
        },
        {
         "index": "tumor",
         "frequency": 1,
         "rank": 18517,
         "normalised_frequency": 0.000004628001258816342,
         "cumulative_frequency": 0.999615875895157,
         "_deepnote_index_column": 18516
        },
        {
         "index": "cras",
         "frequency": 1,
         "rank": 18518,
         "normalised_frequency": 0.000004628001258816342,
         "cumulative_frequency": 0.9996205038964158,
         "_deepnote_index_column": 18517
        },
        {
         "index": "imperil",
         "frequency": 1,
         "rank": 18519,
         "normalised_frequency": 0.000004628001258816342,
         "cumulative_frequency": 0.9996251318976745,
         "_deepnote_index_column": 18518
        },
        {
         "index": "waist",
         "frequency": 1,
         "rank": 18520,
         "normalised_frequency": 0.000004628001258816342,
         "cumulative_frequency": 0.9996297598989333,
         "_deepnote_index_column": 18519
        },
        {
         "index": "portions",
         "frequency": 1,
         "rank": 18521,
         "normalised_frequency": 0.000004628001258816342,
         "cumulative_frequency": 0.9996343879001921,
         "_deepnote_index_column": 18520
        },
        {
         "index": "capitalism",
         "frequency": 1,
         "rank": 18522,
         "normalised_frequency": 0.000004628001258816342,
         "cumulative_frequency": 0.9996390159014509,
         "_deepnote_index_column": 18521
        },
        {
         "index": "stressors",
         "frequency": 1,
         "rank": 18523,
         "normalised_frequency": 0.000004628001258816342,
         "cumulative_frequency": 0.9996436439027097,
         "_deepnote_index_column": 18522
        },
        {
         "index": "#brooklyn",
         "frequency": 1,
         "rank": 18524,
         "normalised_frequency": 0.000004628001258816342,
         "cumulative_frequency": 0.9996482719039684,
         "_deepnote_index_column": 18523
        },
        {
         "index": "#facesoffounders",
         "frequency": 1,
         "rank": 18525,
         "normalised_frequency": 0.000004628001258816342,
         "cumulative_frequency": 0.9996528999052272,
         "_deepnote_index_column": 18524
        },
        {
         "index": "handcuffed",
         "frequency": 1,
         "rank": 18526,
         "normalised_frequency": 0.000004628001258816342,
         "cumulative_frequency": 0.999657527906486,
         "_deepnote_index_column": 18525
        },
        {
         "index": "solitary",
         "frequency": 1,
         "rank": 18527,
         "normalised_frequency": 0.000004628001258816342,
         "cumulative_frequency": 0.9996621559077448,
         "_deepnote_index_column": 18526
        },
        {
         "index": "confinement",
         "frequency": 1,
         "rank": 18528,
         "normalised_frequency": 0.000004628001258816342,
         "cumulative_frequency": 0.9996667839090035,
         "_deepnote_index_column": 18527
        },
        {
         "index": "shivering",
         "frequency": 1,
         "rank": 18529,
         "normalised_frequency": 0.000004628001258816342,
         "cumulative_frequency": 0.9996714119102623,
         "_deepnote_index_column": 18528
        },
        {
         "index": "#netneutrality",
         "frequency": 1,
         "rank": 18530,
         "normalised_frequency": 0.000004628001258816342,
         "cumulative_frequency": 0.9996760399115211,
         "_deepnote_index_column": 18529
        },
        {
         "index": "underneath",
         "frequency": 1,
         "rank": 18531,
         "normalised_frequency": 0.000004628001258816342,
         "cumulative_frequency": 0.9996806679127799,
         "_deepnote_index_column": 18530
        },
        {
         "index": "defaming",
         "frequency": 1,
         "rank": 18532,
         "normalised_frequency": 0.000004628001258816342,
         "cumulative_frequency": 0.9996852959140387,
         "_deepnote_index_column": 18531
        },
        {
         "index": "3103",
         "frequency": 1,
         "rank": 18533,
         "normalised_frequency": 0.000004628001258816342,
         "cumulative_frequency": 0.9996899239152974,
         "_deepnote_index_column": 18532
        },
        {
         "index": "scraps",
         "frequency": 1,
         "rank": 18534,
         "normalised_frequency": 0.000004628001258816342,
         "cumulative_frequency": 0.9996945519165562,
         "_deepnote_index_column": 18533
        },
        {
         "index": "#ent4all",
         "frequency": 1,
         "rank": 18535,
         "normalised_frequency": 0.000004628001258816342,
         "cumulative_frequency": 0.999699179917815,
         "_deepnote_index_column": 18534
        },
        {
         "index": "3488",
         "frequency": 1,
         "rank": 18536,
         "normalised_frequency": 0.000004628001258816342,
         "cumulative_frequency": 0.9997038079190738,
         "_deepnote_index_column": 18535
        },
        {
         "index": "premier",
         "frequency": 1,
         "rank": 18537,
         "normalised_frequency": 0.000004628001258816342,
         "cumulative_frequency": 0.9997084359203325,
         "_deepnote_index_column": 18536
        },
        {
         "index": "sgut",
         "frequency": 1,
         "rank": 18538,
         "normalised_frequency": 0.000004628001258816342,
         "cumulative_frequency": 0.9997130639215913,
         "_deepnote_index_column": 18537
        },
        {
         "index": "uglyass",
         "frequency": 1,
         "rank": 18539,
         "normalised_frequency": 0.000004628001258816342,
         "cumulative_frequency": 0.9997176919228501,
         "_deepnote_index_column": 18538
        },
        {
         "index": "boyf",
         "frequency": 1,
         "rank": 18540,
         "normalised_frequency": 0.000004628001258816342,
         "cumulative_frequency": 0.9997223199241089,
         "_deepnote_index_column": 18539
        },
        {
         "index": "yu",
         "frequency": 1,
         "rank": 18541,
         "normalised_frequency": 0.000004628001258816342,
         "cumulative_frequency": 0.9997269479253676,
         "_deepnote_index_column": 18540
        },
        {
         "index": "shitshow",
         "frequency": 1,
         "rank": 18542,
         "normalised_frequency": 0.000004628001258816342,
         "cumulative_frequency": 0.9997315759266264,
         "_deepnote_index_column": 18541
        },
        {
         "index": "sung",
         "frequency": 1,
         "rank": 18543,
         "normalised_frequency": 0.000004628001258816342,
         "cumulative_frequency": 0.9997362039278852,
         "_deepnote_index_column": 18542
        },
        {
         "index": "intend",
         "frequency": 1,
         "rank": 18544,
         "normalised_frequency": 0.000004628001258816342,
         "cumulative_frequency": 0.999740831929144,
         "_deepnote_index_column": 18543
        },
        {
         "index": "#russiagate",
         "frequency": 1,
         "rank": 18545,
         "normalised_frequency": 0.000004628001258816342,
         "cumulative_frequency": 0.9997454599304028,
         "_deepnote_index_column": 18544
        },
        {
         "index": "councillor",
         "frequency": 1,
         "rank": 18546,
         "normalised_frequency": 0.000004628001258816342,
         "cumulative_frequency": 0.9997500879316615,
         "_deepnote_index_column": 18545
        },
        {
         "index": "#femalefounders",
         "frequency": 1,
         "rank": 18547,
         "normalised_frequency": 0.000004628001258816342,
         "cumulative_frequency": 0.9997547159329203,
         "_deepnote_index_column": 18546
        },
        {
         "index": "giorgio",
         "frequency": 1,
         "rank": 18548,
         "normalised_frequency": 0.000004628001258816342,
         "cumulative_frequency": 0.9997593439341791,
         "_deepnote_index_column": 18547
        },
        {
         "index": "mammoliti",
         "frequency": 1,
         "rank": 18549,
         "normalised_frequency": 0.000004628001258816342,
         "cumulative_frequency": 0.9997639719354379,
         "_deepnote_index_column": 18548
        },
        {
         "index": "dawn",
         "frequency": 1,
         "rank": 18550,
         "normalised_frequency": 0.000004628001258816342,
         "cumulative_frequency": 0.9997685999366966,
         "_deepnote_index_column": 18549
        },
        {
         "index": "adam",
         "frequency": 1,
         "rank": 18551,
         "normalised_frequency": 0.000004628001258816342,
         "cumulative_frequency": 0.9997732279379554,
         "_deepnote_index_column": 18550
        },
        {
         "index": "vaughan",
         "frequency": 1,
         "rank": 18552,
         "normalised_frequency": 0.000004628001258816342,
         "cumulative_frequency": 0.9997778559392142,
         "_deepnote_index_column": 18551
        },
        {
         "index": "#tocouncil",
         "frequency": 1,
         "rank": 18553,
         "normalised_frequency": 0.000004628001258816342,
         "cumulative_frequency": 0.999782483940473,
         "_deepnote_index_column": 18552
        },
        {
         "index": "#topoli",
         "frequency": 1,
         "rank": 18554,
         "normalised_frequency": 0.000004628001258816342,
         "cumulative_frequency": 0.9997871119417318,
         "_deepnote_index_column": 18553
        },
        {
         "index": "#voteoutthedems",
         "frequency": 1,
         "rank": 18555,
         "normalised_frequency": 0.000004628001258816342,
         "cumulative_frequency": 0.9997917399429905,
         "_deepnote_index_column": 18554
        },
        {
         "index": "3109",
         "frequency": 1,
         "rank": 18556,
         "normalised_frequency": 0.000004628001258816342,
         "cumulative_frequency": 0.9997963679442493,
         "_deepnote_index_column": 18555
        },
        {
         "index": "ay",
         "frequency": 1,
         "rank": 18557,
         "normalised_frequency": 0.000004628001258816342,
         "cumulative_frequency": 0.9998009959455081,
         "_deepnote_index_column": 18556
        },
        {
         "index": "ravaged",
         "frequency": 1,
         "rank": 18558,
         "normalised_frequency": 0.000004628001258816342,
         "cumulative_frequency": 0.9998056239467669,
         "_deepnote_index_column": 18557
        },
        {
         "index": "hobedi@wr.org",
         "frequency": 1,
         "rank": 18559,
         "normalised_frequency": 0.000004628001258816342,
         "cumulative_frequency": 0.9998102519480256,
         "_deepnote_index_column": 18558
        },
        {
         "index": "kuo's",
         "frequency": 1,
         "rank": 18560,
         "normalised_frequency": 0.000004628001258816342,
         "cumulative_frequency": 0.9998148799492844,
         "_deepnote_index_column": 18559
        },
        {
         "index": "writer",
         "frequency": 1,
         "rank": 18561,
         "normalised_frequency": 0.000004628001258816342,
         "cumulative_frequency": 0.9998195079505432,
         "_deepnote_index_column": 18560
        },
        {
         "index": "overcame",
         "frequency": 1,
         "rank": 18562,
         "normalised_frequency": 0.000004628001258816342,
         "cumulative_frequency": 0.999824135951802,
         "_deepnote_index_column": 18561
        },
        {
         "index": "#asianamerican",
         "frequency": 1,
         "rank": 18563,
         "normalised_frequency": 0.000004628001258816342,
         "cumulative_frequency": 0.9998287639530608,
         "_deepnote_index_column": 18562
        },
        {
         "index": "#qwoc",
         "frequency": 1,
         "rank": 18564,
         "normalised_frequency": 0.000004628001258816342,
         "cumulative_frequency": 0.9998333919543195,
         "_deepnote_index_column": 18563
        },
        {
         "index": "#femalefilmmaker",
         "frequency": 1,
         "rank": 18565,
         "normalised_frequency": 0.000004628001258816342,
         "cumulative_frequency": 0.9998380199555783,
         "_deepnote_index_column": 18564
        },
        {
         "index": "#supportindiefilms",
         "frequency": 1,
         "rank": 18566,
         "normalised_frequency": 0.000004628001258816342,
         "cumulative_frequency": 0.9998426479568371,
         "_deepnote_index_column": 18565
        },
        {
         "index": "navigating",
         "frequency": 1,
         "rank": 18567,
         "normalised_frequency": 0.000004628001258816342,
         "cumulative_frequency": 0.9998472759580959,
         "_deepnote_index_column": 18566
        },
        {
         "index": "#guwop",
         "frequency": 1,
         "rank": 18568,
         "normalised_frequency": 0.000004628001258816342,
         "cumulative_frequency": 0.9998519039593546,
         "_deepnote_index_column": 18567
        },
        {
         "index": "becuz",
         "frequency": 1,
         "rank": 18569,
         "normalised_frequency": 0.000004628001258816342,
         "cumulative_frequency": 0.9998565319606134,
         "_deepnote_index_column": 18568
        },
        {
         "index": "gut-wrenching",
         "frequency": 1,
         "rank": 18570,
         "normalised_frequency": 0.000004628001258816342,
         "cumulative_frequency": 0.9998611599618722,
         "_deepnote_index_column": 18569
        },
        {
         "index": "sham",
         "frequency": 1,
         "rank": 18571,
         "normalised_frequency": 0.000004628001258816342,
         "cumulative_frequency": 0.999865787963131,
         "_deepnote_index_column": 18570
        },
        {
         "index": "englan",
         "frequency": 1,
         "rank": 18572,
         "normalised_frequency": 0.000004628001258816342,
         "cumulative_frequency": 0.9998704159643897,
         "_deepnote_index_column": 18571
        },
        {
         "index": "2cthey",
         "frequency": 1,
         "rank": 18573,
         "normalised_frequency": 0.000004628001258816342,
         "cumulative_frequency": 0.9998750439656485,
         "_deepnote_index_column": 18572
        },
        {
         "index": "2gain",
         "frequency": 1,
         "rank": 18574,
         "normalised_frequency": 0.000004628001258816342,
         "cumulative_frequency": 0.9998796719669073,
         "_deepnote_index_column": 18573
        },
        {
         "index": "dialogues",
         "frequency": 1,
         "rank": 18575,
         "normalised_frequency": 0.000004628001258816342,
         "cumulative_frequency": 0.9998842999681661,
         "_deepnote_index_column": 18574
        },
        {
         "index": "harressment",
         "frequency": 1,
         "rank": 18576,
         "normalised_frequency": 0.000004628001258816342,
         "cumulative_frequency": 0.9998889279694249,
         "_deepnote_index_column": 18575
        },
        {
         "index": "bash",
         "frequency": 1,
         "rank": 18577,
         "normalised_frequency": 0.000004628001258816342,
         "cumulative_frequency": 0.9998935559706836,
         "_deepnote_index_column": 18576
        },
        {
         "index": "orgies",
         "frequency": 1,
         "rank": 18578,
         "normalised_frequency": 0.000004628001258816342,
         "cumulative_frequency": 0.9998981839719424,
         "_deepnote_index_column": 18577
        },
        {
         "index": "panny",
         "frequency": 1,
         "rank": 18579,
         "normalised_frequency": 0.000004628001258816342,
         "cumulative_frequency": 0.9999028119732012,
         "_deepnote_index_column": 18578
        },
        {
         "index": "sticking",
         "frequency": 1,
         "rank": 18580,
         "normalised_frequency": 0.000004628001258816342,
         "cumulative_frequency": 0.99990743997446,
         "_deepnote_index_column": 18579
        },
        {
         "index": "commies",
         "frequency": 1,
         "rank": 18581,
         "normalised_frequency": 0.000004628001258816342,
         "cumulative_frequency": 0.9999120679757187,
         "_deepnote_index_column": 18580
        },
        {
         "index": "pests",
         "frequency": 1,
         "rank": 18582,
         "normalised_frequency": 0.000004628001258816342,
         "cumulative_frequency": 0.9999166959769775,
         "_deepnote_index_column": 18581
        },
        {
         "index": "snakes",
         "frequency": 1,
         "rank": 18583,
         "normalised_frequency": 0.000004628001258816342,
         "cumulative_frequency": 0.9999213239782363,
         "_deepnote_index_column": 18582
        },
        {
         "index": "vermin",
         "frequency": 1,
         "rank": 18584,
         "normalised_frequency": 0.000004628001258816342,
         "cumulative_frequency": 0.9999259519794951,
         "_deepnote_index_column": 18583
        },
        {
         "index": "#marr",
         "frequency": 1,
         "rank": 18585,
         "normalised_frequency": 0.000004628001258816342,
         "cumulative_frequency": 0.9999305799807539,
         "_deepnote_index_column": 18584
        },
        {
         "index": "presented",
         "frequency": 1,
         "rank": 18586,
         "normalised_frequency": 0.000004628001258816342,
         "cumulative_frequency": 0.9999352079820126,
         "_deepnote_index_column": 18585
        },
        {
         "index": "5-10",
         "frequency": 1,
         "rank": 18587,
         "normalised_frequency": 0.000004628001258816342,
         "cumulative_frequency": 0.9999398359832714,
         "_deepnote_index_column": 18586
        },
        {
         "index": "throes",
         "frequency": 1,
         "rank": 18588,
         "normalised_frequency": 0.000004628001258816342,
         "cumulative_frequency": 0.9999444639845302,
         "_deepnote_index_column": 18587
        },
        {
         "index": "louder",
         "frequency": 1,
         "rank": 18589,
         "normalised_frequency": 0.000004628001258816342,
         "cumulative_frequency": 0.999949091985789,
         "_deepnote_index_column": 18588
        },
        {
         "index": "#howdoyoulikeusnow",
         "frequency": 1,
         "rank": 18590,
         "normalised_frequency": 0.000004628001258816342,
         "cumulative_frequency": 0.9999537199870477,
         "_deepnote_index_column": 18589
        },
        {
         "index": "#bloodycat",
         "frequency": 1,
         "rank": 18591,
         "normalised_frequency": 0.000004628001258816342,
         "cumulative_frequency": 0.9999583479883065,
         "_deepnote_index_column": 18590
        },
        {
         "index": "🤕",
         "frequency": 1,
         "rank": 18592,
         "normalised_frequency": 0.000004628001258816342,
         "cumulative_frequency": 0.9999629759895653,
         "_deepnote_index_column": 18591
        },
        {
         "index": "photoshopped",
         "frequency": 1,
         "rank": 18593,
         "normalised_frequency": 0.000004628001258816342,
         "cumulative_frequency": 0.9999676039908241,
         "_deepnote_index_column": 18592
        },
        {
         "index": "badass",
         "frequency": 1,
         "rank": 18594,
         "normalised_frequency": 0.000004628001258816342,
         "cumulative_frequency": 0.9999722319920828,
         "_deepnote_index_column": 18593
        },
        {
         "index": "romansh",
         "frequency": 1,
         "rank": 18595,
         "normalised_frequency": 0.000004628001258816342,
         "cumulative_frequency": 0.9999768599933416,
         "_deepnote_index_column": 18594
        },
        {
         "index": "weren",
         "frequency": 1,
         "rank": 18596,
         "normalised_frequency": 0.000004628001258816342,
         "cumulative_frequency": 0.9999814879946004,
         "_deepnote_index_column": 18595
        },
        {
         "index": "miaow-miaow-miaow",
         "frequency": 1,
         "rank": 18597,
         "normalised_frequency": 0.000004628001258816342,
         "cumulative_frequency": 0.9999861159958592,
         "_deepnote_index_column": 18596
        },
        {
         "index": "aaaaw",
         "frequency": 1,
         "rank": 18598,
         "normalised_frequency": 0.000004628001258816342,
         "cumulative_frequency": 0.999990743997118,
         "_deepnote_index_column": 18597
        },
        {
         "index": "food-hole",
         "frequency": 1,
         "rank": 18599,
         "normalised_frequency": 0.000004628001258816342,
         "cumulative_frequency": 0.9999953719983767,
         "_deepnote_index_column": 18598
        },
        {
         "index": "pic.why",
         "frequency": 1,
         "rank": 18600,
         "normalised_frequency": 0.000004628001258816342,
         "cumulative_frequency": 0.9999999999996355,
         "_deepnote_index_column": 18599
        }
       ]
      },
      "text/plain": "                   index  frequency   rank  normalised_frequency  \\\n0                      .       6277      1              0.029050   \n1                  @user       6014      2              0.027833   \n2                    the       5492      3              0.025417   \n3                     to       4931      4              0.022821   \n4                      ,       4356      5              0.020160   \n...                  ...        ...    ...                   ...   \n18595              weren          1  18596              0.000005   \n18596  miaow-miaow-miaow          1  18597              0.000005   \n18597              aaaaw          1  18598              0.000005   \n18598          food-hole          1  18599              0.000005   \n18599            pic.why          1  18600              0.000005   \n\n       cumulative_frequency  \n0                  0.029050  \n1                  0.056883  \n2                  0.082300  \n3                  0.105120  \n4                  0.125280  \n...                     ...  \n18595              0.999981  \n18596              0.999986  \n18597              0.999991  \n18598              0.999995  \n18599              1.000000  \n\n[18600 rows x 5 columns]",
      "text/html": "<div>\n<style scoped>\n    .dataframe tbody tr th:only-of-type {\n        vertical-align: middle;\n    }\n\n    .dataframe tbody tr th {\n        vertical-align: top;\n    }\n\n    .dataframe thead th {\n        text-align: right;\n    }\n</style>\n<table border=\"1\" class=\"dataframe\">\n  <thead>\n    <tr style=\"text-align: right;\">\n      <th></th>\n      <th>index</th>\n      <th>frequency</th>\n      <th>rank</th>\n      <th>normalised_frequency</th>\n      <th>cumulative_frequency</th>\n    </tr>\n  </thead>\n  <tbody>\n    <tr>\n      <th>0</th>\n      <td>.</td>\n      <td>6277</td>\n      <td>1</td>\n      <td>0.029050</td>\n      <td>0.029050</td>\n    </tr>\n    <tr>\n      <th>1</th>\n      <td>@user</td>\n      <td>6014</td>\n      <td>2</td>\n      <td>0.027833</td>\n      <td>0.056883</td>\n    </tr>\n    <tr>\n      <th>2</th>\n      <td>the</td>\n      <td>5492</td>\n      <td>3</td>\n      <td>0.025417</td>\n      <td>0.082300</td>\n    </tr>\n    <tr>\n      <th>3</th>\n      <td>to</td>\n      <td>4931</td>\n      <td>4</td>\n      <td>0.022821</td>\n      <td>0.105120</td>\n    </tr>\n    <tr>\n      <th>4</th>\n      <td>,</td>\n      <td>4356</td>\n      <td>5</td>\n      <td>0.020160</td>\n      <td>0.125280</td>\n    </tr>\n    <tr>\n      <th>...</th>\n      <td>...</td>\n      <td>...</td>\n      <td>...</td>\n      <td>...</td>\n      <td>...</td>\n    </tr>\n    <tr>\n      <th>18595</th>\n      <td>weren</td>\n      <td>1</td>\n      <td>18596</td>\n      <td>0.000005</td>\n      <td>0.999981</td>\n    </tr>\n    <tr>\n      <th>18596</th>\n      <td>miaow-miaow-miaow</td>\n      <td>1</td>\n      <td>18597</td>\n      <td>0.000005</td>\n      <td>0.999986</td>\n    </tr>\n    <tr>\n      <th>18597</th>\n      <td>aaaaw</td>\n      <td>1</td>\n      <td>18598</td>\n      <td>0.000005</td>\n      <td>0.999991</td>\n    </tr>\n    <tr>\n      <th>18598</th>\n      <td>food-hole</td>\n      <td>1</td>\n      <td>18599</td>\n      <td>0.000005</td>\n      <td>0.999995</td>\n    </tr>\n    <tr>\n      <th>18599</th>\n      <td>pic.why</td>\n      <td>1</td>\n      <td>18600</td>\n      <td>0.000005</td>\n      <td>1.000000</td>\n    </tr>\n  </tbody>\n</table>\n<p>18600 rows × 5 columns</p>\n</div>"
     },
     "metadata": {}
    }
   ]
  },
  {
   "cell_type": "markdown",
   "source": "## Hate Plots",
   "metadata": {
    "cell_id": "00046-7c9fef28-200d-494f-b96d-c48da9560645",
    "tags": [],
    "deepnote_cell_type": "markdown"
   }
  },
  {
   "cell_type": "code",
   "metadata": {
    "cell_id": "00047-55fe270c-7dbf-4329-91e6-1e349967f510",
    "deepnote_to_be_reexecuted": false,
    "execution_millis": 233,
    "execution_start": 1620894395102,
    "output_cleared": false,
    "source_hash": "a043a749",
    "tags": [],
    "deepnote_cell_type": "code"
   },
   "source": "#dict(Counter(VOCABULARY['hate']['frequency']))\nimport math\nfrequency, frequency_of_frequency = np.unique(VOCABULARY['hate']['frequency'], return_counts=True)\nfig, ax = plt.subplots()\nax.scatter([math.log(f) for f in frequency], [math.log(f) for f in frequency_of_frequency],s=0.5)",
   "execution_count": 31,
   "outputs": [
    {
     "output_type": "execute_result",
     "execution_count": 31,
     "data": {
      "text/plain": "<matplotlib.collections.PathCollection at 0x7f56ba88f390>"
     },
     "metadata": {}
    },
    {
     "data": {
      "text/plain": "<Figure size 432x288 with 1 Axes>",
      "image/png": "[encoded data removed]"
     },
     "metadata": {
      "needs_background": "light",
      "image/png": {
       "width": 362,
       "height": 248
      }
     },
     "output_type": "display_data"
    }
   ]
  },
  {
   "cell_type": "code",
   "metadata": {
    "cell_id": "00045-a562d74f-2f2c-4791-9584-2f04196769f7",
    "deepnote_to_be_reexecuted": false,
    "execution_millis": 2843,
    "execution_start": 1620894395327,
    "output_cleared": false,
    "source_hash": "9b0afc9c",
    "tags": [],
    "deepnote_cell_type": "code"
   },
   "source": "# plots\nsns.set_theme(style='whitegrid')\n\n# Plot: Cumulative frequency by index\nsns.relplot(x='rank', y='cumulative_frequency', data=VOCABULARY['hate'], kind='line')\nsns.relplot(x='rank', y='cumulative_frequency', data=VOCABULARY['hate'][:2000], kind='line') # Cumulative frequency by index, top 10000 tokens\n\n# Plot: Log-log plot for Zipf's law\n#frq['log_frq'] = numpy.log(frq.frequency)\n#frq['log_rank'] = numpy.log(frq.frequency.rank(ascending=True))\n#seaborn.relp",
   "execution_count": 32,
   "outputs": [
    {
     "output_type": "execute_result",
     "execution_count": 32,
     "data": {
      "text/plain": "<seaborn.axisgrid.FacetGrid at 0x7f56ba8fdb50>"
     },
     "metadata": {}
    },
    {
     "data": {
      "text/plain": "<Figure size 360x360 with 1 Axes>",
      "image/png": "[encoded data removed]"
     },
     "metadata": {
      "image/png": {
       "width": 365,
       "height": 365
      }
     },
     "output_type": "display_data"
    },
    {
     "data": {
      "text/plain": "<Figure size 360x360 with 1 Axes>",
      "image/png": "[encoded data removed]"
     },
     "metadata": {
      "image/png": {
       "width": 365,
       "height": 365
      }
     },
     "output_type": "display_data"
    }
   ]
  },
  {
   "cell_type": "code",
   "metadata": {
    "cell_id": "00051-d2c0bd6d-7e5a-4aa4-989f-07068434c1fc",
    "deepnote_to_be_reexecuted": false,
    "execution_millis": 324,
    "execution_start": 1620894398172,
    "output_cleared": false,
    "source_hash": "c5d39fe3",
    "tags": [],
    "deepnote_cell_type": "code"
   },
   "source": "# frequency plot (rank/ frequency)\nfig, ax = plt.subplots()\nax.scatter(VOCABULARY['hate']['rank'], VOCABULARY['hate']['frequency'],  s=2);\nax.set_title('Frequency Plot'); ax.set_xlabel('Rank'); ax.set_ylabel('Frequency');",
   "execution_count": 33,
   "outputs": [
    {
     "data": {
      "text/plain": "<Figure size 432x288 with 1 Axes>",
      "image/png": "[encoded data removed]"
     },
     "metadata": {
      "image/png": {
       "width": 403,
       "height": 284
      }
     },
     "output_type": "display_data"
    }
   ]
  },
  {
   "cell_type": "code",
   "metadata": {
    "cell_id": "00050-27ede284-d642-4c79-97d5-d69b0df6d717",
    "deepnote_to_be_reexecuted": false,
    "execution_millis": 332,
    "execution_start": 1620894398491,
    "output_cleared": false,
    "source_hash": "35529072",
    "tags": [],
    "deepnote_cell_type": "code"
   },
   "source": "# log-log plot for zipf's law\nfig, ax = plt.subplots()\nplt.scatter(np.log(VOCABULARY['hate']['rank']), np.log(VOCABULARY['hate']['frequency']), s=15,marker=\".\")\nax.set_title(\"Log-Log Frequency Plot (Visualising Zipf'Law)\"); ax.set_xlabel('Rank (Log)'); ax.set_ylabel('Frequency (Log)');",
   "execution_count": 34,
   "outputs": [
    {
     "data": {
      "text/plain": "<Figure size 432x288 with 1 Axes>",
      "image/png": "[encoded data removed]"
     },
     "metadata": {
      "image/png": {
       "width": 382,
       "height": 284
      }
     },
     "output_type": "display_data"
    }
   ]
  },
  {
   "cell_type": "markdown",
   "source": "## Emotional Plots",
   "metadata": {
    "cell_id": "00048-0061151a-0e2e-4417-af54-813e14c015de",
    "tags": [],
    "deepnote_cell_type": "markdown"
   }
  },
  {
   "cell_type": "code",
   "metadata": {
    "cell_id": "00045-4ab344ce-ccd0-464b-9e52-86f362864b29",
    "deepnote_to_be_reexecuted": false,
    "execution_millis": 8,
    "execution_start": 1620894398818,
    "output_cleared": true,
    "source_hash": "77e6b1ff",
    "tags": [],
    "deepnote_cell_type": "code"
   },
   "source": "one_occurance=VOCABULARY['hate']['frequency']==1",
   "execution_count": 35,
   "outputs": []
  },
  {
   "cell_type": "code",
   "metadata": {
    "cell_id": "00046-77715214-bd39-43d0-9f31-ecb127f58947",
    "deepnote_to_be_reexecuted": false,
    "execution_millis": 7,
    "execution_start": 1620894398831,
    "output_cleared": true,
    "source_hash": "4f3c6e68",
    "tags": [],
    "deepnote_cell_type": "code"
   },
   "source": "#VOCABULARY['hate'][one_occurance]",
   "execution_count": 36,
   "outputs": []
  },
  {
   "cell_type": "markdown",
   "source": "*TASK 2*\n# XXX\n---",
   "metadata": {
    "cell_id": "00012-f7ed8c9e-4e5c-4499-8cbd-bc465deeb219",
    "tags": [],
    "deepnote_cell_type": "markdown"
   }
  },
  {
   "cell_type": "code",
   "metadata": {
    "cell_id": "00015-c0d67151-ed60-49d4-822d-0806e71831bc",
    "deepnote_to_be_reexecuted": false,
    "execution_millis": 9,
    "execution_start": 1620894398844,
    "output_cleared": true,
    "source_hash": "5cd17fc",
    "tags": [],
    "deepnote_cell_type": "code"
   },
   "source": "# some code",
   "execution_count": 37,
   "outputs": []
  },
  {
   "cell_type": "markdown",
   "source": "## Exercise 2",
   "metadata": {
    "cell_id": "00056-e968357f-470b-4e57-b721-9add3729ae71",
    "tags": [],
    "deepnote_cell_type": "markdown"
   }
  },
  {
   "cell_type": "code",
   "metadata": {
    "cell_id": "00058-8d948cde-2e02-4c37-bc16-fbe8682c2d39",
    "deepnote_to_be_reexecuted": false,
    "execution_millis": 21,
    "execution_start": 1620894398856,
    "source_hash": "3b353218",
    "tags": [],
    "deepnote_cell_type": "code"
   },
   "source": "from nltk.util import bigrams\nlist(bigrams(DATA['processed'][\"emotion\"][\"train_text\"][0]))",
   "execution_count": 38,
   "outputs": [
    {
     "output_type": "execute_result",
     "execution_count": 38,
     "data": {
      "text/plain": "[('“', 'worry'),\n ('worry', 'is'),\n ('is', 'a'),\n ('a', 'down'),\n ('down', 'payment'),\n ('payment', 'on'),\n ('on', 'a'),\n ('a', 'problem'),\n ('problem', 'you'),\n ('you', 'may'),\n ('may', 'never'),\n ('never', 'have'),\n ('have', \"'\"),\n (\"'\", '.'),\n ('.', 'joyce'),\n ('joyce', 'meyer'),\n ('meyer', '.'),\n ('.', '#motivation'),\n ('#motivation', '#leadership'),\n ('#leadership', '#worry')]"
     },
     "metadata": {}
    }
   ]
  },
  {
   "cell_type": "code",
   "metadata": {
    "cell_id": "00057-bff8f6ef-d98d-4a90-af0f-d94d70c9b886",
    "deepnote_to_be_reexecuted": false,
    "execution_millis": 19,
    "execution_start": 1620894398872,
    "source_hash": "308c1320",
    "tags": [],
    "deepnote_cell_type": "code"
   },
   "source": "#Adds A <s> to before the first word to indicate that it's the start and an </s> to the end the word to do it\nfrom nltk.util import pad_sequence\nlist(pad_sequence(DATA['processed'][\"emotion\"][\"train_text\"][0],\npad_left=True,\nleft_pad_symbol=\"<s>\",\npad_right=True,\nright_pad_symbol=\"</s>\",\nn=2))",
   "execution_count": 39,
   "outputs": [
    {
     "output_type": "execute_result",
     "execution_count": 39,
     "data": {
      "text/plain": "['<s>',\n '“',\n 'worry',\n 'is',\n 'a',\n 'down',\n 'payment',\n 'on',\n 'a',\n 'problem',\n 'you',\n 'may',\n 'never',\n 'have',\n \"'\",\n '.',\n 'joyce',\n 'meyer',\n '.',\n '#motivation',\n '#leadership',\n '#worry',\n '</s>']"
     },
     "metadata": {}
    }
   ]
  },
  {
   "cell_type": "code",
   "metadata": {
    "cell_id": "00060-cea7d2d0-0bf4-4fac-8bc2-b7cdf2a772a0",
    "deepnote_to_be_reexecuted": false,
    "execution_millis": 19,
    "execution_start": 1620894398891,
    "source_hash": "32bfc397",
    "tags": [],
    "deepnote_cell_type": "code"
   },
   "source": "from nltk.lm.preprocessing import pad_both_ends\nlist(pad_both_ends(DATA['processed'][\"emotion\"][\"train_text\"][0], n=2))",
   "execution_count": 40,
   "outputs": [
    {
     "output_type": "execute_result",
     "execution_count": 40,
     "data": {
      "text/plain": "['<s>',\n '“',\n 'worry',\n 'is',\n 'a',\n 'down',\n 'payment',\n 'on',\n 'a',\n 'problem',\n 'you',\n 'may',\n 'never',\n 'have',\n \"'\",\n '.',\n 'joyce',\n 'meyer',\n '.',\n '#motivation',\n '#leadership',\n '#worry',\n '</s>']"
     },
     "metadata": {}
    }
   ]
  },
  {
   "cell_type": "code",
   "metadata": {
    "cell_id": "00061-afefc8ce-f79b-4771-9b31-01878b257a7b",
    "deepnote_to_be_reexecuted": false,
    "execution_millis": 20,
    "execution_start": 1620894398906,
    "source_hash": "33d61cfe",
    "tags": [],
    "deepnote_cell_type": "code"
   },
   "source": "list(bigrams(pad_both_ends(DATA['processed'][\"emotion\"][\"train_text\"][0], n=2)))",
   "execution_count": 41,
   "outputs": [
    {
     "output_type": "execute_result",
     "execution_count": 41,
     "data": {
      "text/plain": "[('<s>', '“'),\n ('“', 'worry'),\n ('worry', 'is'),\n ('is', 'a'),\n ('a', 'down'),\n ('down', 'payment'),\n ('payment', 'on'),\n ('on', 'a'),\n ('a', 'problem'),\n ('problem', 'you'),\n ('you', 'may'),\n ('may', 'never'),\n ('never', 'have'),\n ('have', \"'\"),\n (\"'\", '.'),\n ('.', 'joyce'),\n ('joyce', 'meyer'),\n ('meyer', '.'),\n ('.', '#motivation'),\n ('#motivation', '#leadership'),\n ('#leadership', '#worry'),\n ('#worry', '</s>')]"
     },
     "metadata": {}
    }
   ]
  },
  {
   "cell_type": "code",
   "metadata": {
    "cell_id": "00061-87f200f6-4a5c-4dd1-8c0f-8066ca235162",
    "deepnote_to_be_reexecuted": false,
    "execution_millis": 17,
    "execution_start": 1620894398948,
    "source_hash": "35ff05f",
    "tags": [],
    "deepnote_cell_type": "code"
   },
   "source": "from nltk.lm.preprocessing import flatten\nlist(flatten(pad_both_ends(sent, n=2) for sent in DATA['processed'][\"emotion\"][\"train_text\"][:100]))",
   "execution_count": 42,
   "outputs": [
    {
     "output_type": "execute_result",
     "execution_count": 42,
     "data": {
      "text/plain": "['<s>',\n '“',\n 'worry',\n 'is',\n 'a',\n 'down',\n 'payment',\n 'on',\n 'a',\n 'problem',\n 'you',\n 'may',\n 'never',\n 'have',\n \"'\",\n '.',\n 'joyce',\n 'meyer',\n '.',\n '#motivation',\n '#leadership',\n '#worry',\n '</s>',\n '<s>',\n 'my',\n 'roommate',\n ':',\n 'it',\n 'is',\n 'okay',\n 'that',\n 'we',\n 'cannot',\n 'spell',\n 'because',\n 'we',\n 'have',\n 'autocorrect',\n '.',\n '#terrible',\n '#firstworldprobs',\n '</s>',\n '<s>',\n 'no',\n 'but',\n 'that',\n 'is',\n 'so',\n 'cute',\n '.',\n 'atsu',\n 'was',\n 'probably',\n 'shy',\n 'about',\n 'photos',\n 'before',\n 'but',\n 'cherry',\n 'helped',\n 'her',\n 'out',\n 'uwu',\n '</s>',\n '<s>',\n 'rooneys',\n 'fucking',\n 'untouchable',\n 'is',\n 'not',\n 'he',\n '?',\n 'been',\n 'fucking',\n 'dreadful',\n 'again',\n ',',\n 'depay',\n 'has',\n 'looked',\n 'decent',\n '(',\n 'ish',\n ')',\n 'tonight',\n '</s>',\n '<s>',\n 'it',\n 'is',\n 'pretty',\n 'depressing',\n 'when',\n 'you',\n 'hit',\n 'pan',\n 'on',\n 'ur',\n 'favourite',\n 'highlighter',\n '</s>',\n '<s>',\n '@user',\n 'but',\n 'your',\n 'pussy',\n 'was',\n 'weak',\n 'from',\n 'what',\n 'i',\n 'heard',\n 'so',\n 'stfu',\n 'up',\n 'to',\n 'me',\n 'bitch',\n '.',\n 'you',\n 'got',\n 'to',\n 'threaten',\n 'him',\n 'that',\n 'your',\n 'pregnant',\n '.',\n '</s>',\n '<s>',\n 'making',\n 'that',\n 'yearly',\n 'transition',\n 'from',\n 'excited',\n 'and',\n 'hopeful',\n 'college',\n 'returner',\n 'to',\n 'sick',\n 'and',\n 'exhausted',\n 'pessimist',\n '.',\n '#college',\n '</s>',\n '<s>',\n 'tiller',\n 'and',\n 'breezy',\n 'should',\n 'do',\n 'a',\n 'collab',\n 'album',\n '.',\n 'rapping',\n 'and',\n 'singing',\n 'prolly',\n 'be',\n 'fire',\n '</s>',\n '<s>',\n '@user',\n 'broadband',\n 'is',\n 'shocking',\n 'regretting',\n 'signing',\n 'up',\n 'now',\n '#angry',\n '#shouldofgonewithvirgin',\n '</s>',\n '<s>',\n '@user',\n 'look',\n 'at',\n 'those',\n 'teef',\n '!',\n '#growl',\n '</s>',\n '<s>',\n '@user',\n '@user',\n 'usa',\n 'was',\n 'embarrassing',\n 'to',\n 'watch',\n '.',\n 'when',\n 'was',\n 'the',\n 'last',\n 'time',\n 'you',\n 'guys',\n 'won',\n 'a',\n 'game',\n '..',\n '?',\n '#horrible',\n '#joke',\n '</s>',\n '<s>',\n '#newyork',\n ':',\n 'several',\n '#baloch',\n '&',\n 'indian',\n 'activists',\n 'hold',\n 'demonstrations',\n 'outside',\n '@user',\n 'headquarters',\n 'demanding',\n 'pak',\n 'to',\n 'stop',\n 'exporting',\n '#terror',\n 'into',\n 'india',\n '</s>',\n '<s>',\n 'your',\n 'glee',\n 'filled',\n 'normy',\n 'dry',\n 'humping',\n 'of',\n 'the',\n 'most',\n 'recent',\n 'high',\n 'profile',\n 'celebrity',\n 'break',\n 'up',\n 'is',\n 'pathetic',\n '&',\n 'all',\n 'that',\n 'is',\n 'wrong',\n 'with',\n 'the',\n 'world',\n 'today',\n '.',\n '</s>',\n '<s>',\n 'what',\n 'a',\n 'fucking',\n 'muppet',\n '.',\n '@user',\n '#stalker',\n '.',\n '</s>',\n '<s>',\n 'autocorrect',\n 'changes',\n \"'\",\n \"'\",\n 'em',\n \"'\",\n 'to',\n \"'\",\n 'me',\n \"'\",\n 'which',\n 'i',\n 'resent',\n 'greatly',\n '</s>',\n '<s>',\n '@user',\n 'i',\n 'would',\n 'never',\n 'strategically',\n 'vote',\n 'for',\n 'someone',\n 'i',\n 'do',\n 'not',\n 'agree',\n 'with',\n '.',\n 'a',\n 'lot',\n 'of',\n 'the',\n 'clinton',\n 'vote',\n 'based',\n 'on',\n 'fear',\n 'and',\n 'negativity',\n '.',\n '</s>',\n '<s>',\n '@user',\n 'haters',\n '!',\n '!',\n '!',\n 'you',\n 'are',\n 'low',\n 'in',\n 'self',\n 'worth',\n '.',\n 'self',\n 'righteous',\n 'in',\n 'your',\n 'delusions',\n '.',\n 'you',\n 'cower',\n 'at',\n 'the',\n 'thought',\n 'of',\n 'change',\n '.',\n 'change',\n 'is',\n 'inevitable',\n '.',\n '</s>',\n '<s>',\n 'i',\n 'saved',\n 'him',\n 'after',\n 'ordering',\n 'him',\n 'to',\n 'risk',\n 'his',\n 'life',\n '.',\n 'i',\n 'did',\n 'not',\n 'panic',\n 'but',\n 'stayed',\n 'calm',\n 'and',\n 'rescued',\n 'him',\n '.',\n '</s>',\n '<s>',\n '@user',\n 'uggh',\n 'that',\n 'is',\n 'really',\n 'horrible',\n '.',\n 'you',\n 'are',\n 'not',\n 'a',\n 'bad',\n 'person',\n 'by',\n 'any',\n 'stretch',\n 'of',\n 'the',\n 'imagination',\n '.',\n 'i',\n 'hope',\n 'this',\n 'person',\n 'realizes',\n 'that',\n '.',\n '</s>',\n '<s>',\n '@user',\n '@user',\n '@user',\n 'tamra',\n 'would',\n 'f',\n 'her',\n 'up',\n 'if',\n 'she',\n 'swung',\n 'on',\n 'tamra',\n 'kelly',\n 'is',\n 'a',\n 'piece',\n 'of',\n '💩',\n '#needstobeadmitted',\n '#bully',\n '</s>',\n '<s>',\n 'love',\n 'is',\n 'when',\n 'all',\n 'your',\n 'happiness',\n 'and',\n 'all',\n 'your',\n 'sadness',\n 'and',\n 'all',\n 'your',\n 'feelings',\n 'are',\n 'dependent',\n 'on',\n 'another',\n 'person',\n '.',\n '</s>',\n '<s>',\n 'it',\n '’',\n 's',\n 'possible',\n 'changing',\n 'meds',\n 'is',\n 'best',\n 'not',\n 'done',\n 'while',\n 'under',\n 'stress',\n '.',\n 'difficult',\n 'to',\n 'tell',\n 'what',\n 'part',\n 'of',\n 'despair',\n 'is',\n 'circumstantial',\n ',',\n 'what',\n 'is',\n 'drugs',\n '.',\n '</s>',\n '<s>',\n 'I',\n 'am',\n 'also',\n 'definitely',\n 'still',\n 'bitter',\n 'about',\n 'the',\n 'yellow',\n 'ranger',\n 'not',\n 'being',\n 'asian',\n ',',\n 'but',\n 'asian',\n 'representation',\n 'in',\n 'hollywood',\n 'is',\n 'essentially',\n 'a',\n 'shrug',\n 'anyway',\n '</s>',\n '<s>',\n '@user',\n 'the',\n 'irony',\n 'is',\n 'that',\n 'those',\n 'protesting',\n 'about',\n 'this',\n 'kind',\n 'of',\n 'stuff',\n 'are',\n 'the',\n 'orwellian',\n 'nightmare',\n 'they',\n 'think',\n 'they',\n '’',\n 're',\n 'fighting',\n 'against',\n '.',\n '</s>',\n '<s>',\n '@user',\n '@user',\n 'nah',\n 'way',\n 'that',\n 'has',\n 'horrible',\n '</s>',\n '<s>',\n '@user',\n 'i',\n 'think',\n 'just',\n 'becz',\n 'you',\n 'have',\n 'so',\n 'much',\n 'terror',\n 'in',\n 'pak',\n 'nd',\n 'urself',\n 'being',\n 'a',\n 'leader',\n 'you',\n 'forgot',\n 'd',\n 'difference',\n 'btw',\n 'a',\n 'leader',\n 'nd',\n 'terrorist',\n '!',\n '</s>',\n '<s>',\n 'angel',\n 'delight',\n 'is',\n 'my',\n 'everything',\n '</s>',\n '<s>',\n 'puzzle',\n 'investing',\n 'opening',\n 'portland',\n 'feodal',\n 'population',\n 'is',\n 'correlative',\n 'straight',\n 'a',\n 'snorting',\n 'infuriate',\n ':',\n 'xlzjyhg',\n '</s>',\n '<s>',\n 'i',\n 'believe',\n 'I',\n 'am',\n 'going',\n 'to',\n 'start',\n 'singing',\n 'in',\n 'my',\n 'snap',\n 'stories',\n 'on',\n 'the',\n 'tractor',\n '.',\n 'switch',\n 'it',\n 'up',\n 'a',\n 'little',\n 'bit',\n '.',\n '</s>',\n '<s>',\n 'i',\n 'have',\n 'a',\n 'rage',\n 'rage',\n 'ep',\n '2',\n 'coming',\n 'out',\n 'soon',\n 'I',\n 'will',\n 'keep',\n 'you',\n 'posted',\n 'on',\n 'it',\n '#youtube',\n '#youtubegaming',\n '#rage',\n '</s>',\n '<s>',\n 'why',\n 'have',\n 'i',\n 'only',\n 'just',\n 'started',\n 'watching',\n 'glee',\n 'this',\n 'week',\n 'i',\n 'am',\n 'now',\n 'addicted',\n '🙄',\n '#glee',\n '#gleek',\n '</s>',\n '<s>',\n 'jorge',\n 'deserves',\n 'it',\n ',',\n 'honestly',\n '.',\n 'he',\n 'is',\n 'weak',\n '.',\n '#90dayfiance',\n '</s>',\n '<s>',\n '@user',\n \"'\",\n 'shit',\n \"'\",\n 'does',\n 'not',\n 'even',\n 'begin',\n 'to',\n 'describe',\n 'these',\n 'fiery',\n 'little',\n 'demons',\n 'straight',\n 'from',\n 'hell',\n '🌝',\n '🌚',\n ';)',\n '</s>',\n '<s>',\n '@user',\n '@user',\n 'ditto',\n '!',\n '!',\n 'such',\n 'an',\n 'amazing',\n 'atmosphere',\n '!',\n '#philippplein',\n '#cheerleaders',\n '#stunt',\n '#londonevents',\n '#cheer',\n '</s>',\n '<s>',\n 'interview',\n 'preparation',\n ',',\n 'i',\n 'hate',\n 'talking',\n 'about',\n 'myself',\n ',',\n 'one',\n 'dull',\n 'subject',\n 'matter',\n '!',\n '#yawnoff',\n '</s>',\n '<s>',\n 'manchester',\n 'derby',\n 'at',\n 'home',\n '</s>',\n '<s>',\n 'it',\n 'would',\n 'probably',\n 'be',\n 'useful',\n 'to',\n 'more',\n 'than',\n 'women',\n ',',\n 'but',\n 'I',\n 'am',\n 'dealing',\n 'with',\n 're-reading',\n 'an',\n 'article',\n 'about',\n 'a',\n 'woman',\n 'being',\n 'harassed',\n 'on',\n 'the',\n 'subway',\n '.',\n '#concern',\n '</s>',\n '<s>',\n 'her',\n ';',\n 'i',\n 'want',\n 'a',\n 'playful',\n 'relationship',\n 'me',\n ';',\n '*',\n 'kicks',\n 'her',\n 'off',\n 'the',\n 'couch',\n '*',\n '</s>',\n '<s>',\n 'romero',\n 'is',\n 'fucking',\n 'dreadful',\n 'like',\n 'seriously',\n 'my',\n '11',\n 'month',\n 'old',\n 'is',\n 'better',\n 'than',\n 'him',\n '.',\n '</s>',\n '<s>',\n '@user',\n 'it',\n '’',\n 's',\n 'taken',\n 'for',\n 'granted',\n ',',\n 'while',\n 'the',\n 'misogyny',\n 'in',\n 'the',\n 'air',\n 'is',\n 'treated',\n 'as',\n 'normal',\n '—',\n 'and',\n 'any',\n 'angry',\n 'response',\n 'to',\n 'it',\n 'as',\n 'pathological',\n '.',\n '</s>',\n '<s>',\n '@user',\n 'oh',\n 'i',\n 'see',\n '.',\n 'I',\n 'have',\n 'seen',\n 'so',\n 'many',\n 'people',\n 'mourn',\n 'the',\n 'loss',\n 'that',\n 'i',\n 'was',\n 'surprised',\n 'to',\n 'see',\n 'your',\n 'tweet',\n '.',\n 'i',\n 'suppose',\n 'same',\n 'old',\n 'here',\n 'in',\n 'sa',\n '</s>',\n '<s>',\n 'so',\n 'gutted',\n 'i',\n 'dropped',\n 'one',\n 'of',\n 'my',\n 'earrings',\n 'down',\n 'the',\n 'sink',\n 'at',\n 'school',\n '</s>',\n '<s>',\n 'happy',\n 'birthday',\n 'to',\n 'stephen',\n 'king',\n ',',\n 'a',\n 'man',\n 'responsible',\n 'for',\n 'some',\n 'of',\n 'the',\n 'best',\n 'horror',\n 'of',\n 'the',\n 'past',\n '40',\n 'years',\n '...',\n 'and',\n 'a',\n 'whole',\n 'bunch',\n 'of',\n 'the',\n 'worst',\n '.',\n '</s>',\n '<s>',\n '“',\n 'my',\n 'courage',\n 'always',\n 'rises',\n 'at',\n 'every',\n 'attempt',\n 'to',\n 'intimidate',\n 'me',\n '.',\n '”',\n '-',\n 'elizabeth',\n 'bennett',\n '(',\n 'pride',\n 'and',\n 'prejudice',\n ')',\n '#quotes',\n '#courage',\n '#faceyourfears',\n '</s>',\n '<s>',\n 'it',\n 'is',\n 'a',\n 'good',\n 'day',\n 'at',\n 'work',\n 'when',\n 'you',\n 'get',\n 'to',\n 'shake',\n 'jim',\n \"lehrer's\",\n 'hand',\n '.',\n 'thanks',\n ',',\n '@user',\n 'still',\n 'kicking',\n 'myself',\n 'for',\n 'being',\n 'to',\n 'shy',\n 'to',\n 'hug',\n '@user',\n '</s>',\n '<s>',\n 'I',\n 'am',\n 'so',\n 'bored',\n 'and',\n 'fat',\n 'and',\n 'full',\n 'and',\n 'ridiculously',\n 'overweight',\n 'and',\n 'rolls',\n 'galore',\n '</s>',\n '<s>',\n '@user',\n 'flirt',\n ',',\n 'simper',\n ',',\n 'pout',\n ',',\n 'repeat',\n '.',\n 'yuck',\n '.',\n '</s>',\n '<s>',\n 'trumpism',\n 'likewise',\n 'rests',\n 'on',\n 'a',\n 'bed',\n 'of',\n 'racial',\n 'resentment',\n 'that',\n 'was',\n 'made',\n ...]"
     },
     "metadata": {}
    }
   ]
  },
  {
   "cell_type": "code",
   "metadata": {
    "cell_id": "00062-8d124715-50b4-43a6-9d89-ea885342ff27",
    "deepnote_to_be_reexecuted": false,
    "execution_millis": 8,
    "execution_start": 1620894398960,
    "source_hash": "5b2eb51f",
    "tags": [],
    "deepnote_cell_type": "code"
   },
   "source": "from nltk.lm.preprocessing import padded_everygram_pipeline\ntrain, vocab = padded_everygram_pipeline(3, DATA['processed'][\"hate\"][\"train_text\"])",
   "execution_count": 43,
   "outputs": []
  },
  {
   "cell_type": "code",
   "metadata": {
    "cell_id": "00064-743bafa3-8d63-437c-bde0-3c09c993fc79",
    "deepnote_to_be_reexecuted": false,
    "execution_millis": 8,
    "execution_start": 1620894398976,
    "source_hash": "8bcb8554",
    "tags": [],
    "deepnote_cell_type": "code"
   },
   "source": "from nltk.lm import MLE\nlm = MLE(5)",
   "execution_count": 44,
   "outputs": []
  },
  {
   "cell_type": "code",
   "metadata": {
    "cell_id": "00065-895de1bd-c0c6-48e4-8b00-980f2cc60d05",
    "deepnote_to_be_reexecuted": false,
    "execution_millis": 15,
    "execution_start": 1620894398991,
    "source_hash": "75128094",
    "tags": [],
    "deepnote_cell_type": "code"
   },
   "source": "len(lm.vocab)",
   "execution_count": 45,
   "outputs": [
    {
     "output_type": "execute_result",
     "execution_count": 45,
     "data": {
      "text/plain": "0"
     },
     "metadata": {}
    }
   ]
  },
  {
   "cell_type": "code",
   "metadata": {
    "cell_id": "00066-34aff179-5976-41b6-95a8-86038bbd6caa",
    "deepnote_to_be_reexecuted": false,
    "execution_millis": 10905,
    "execution_start": 1620894399008,
    "source_hash": "82e9fe51",
    "tags": [],
    "deepnote_cell_type": "code"
   },
   "source": "lm.fit(train, vocab)\nprint(lm.vocab)\nlen(lm.vocab)",
   "execution_count": 46,
   "outputs": [
    {
     "name": "stdout",
     "text": "<Vocabulary with cutoff=1 unk_label='<UNK>' and 18603 items>\n",
     "output_type": "stream"
    },
    {
     "output_type": "execute_result",
     "execution_count": 46,
     "data": {
      "text/plain": "18603"
     },
     "metadata": {}
    }
   ]
  },
  {
   "cell_type": "code",
   "metadata": {
    "cell_id": "00066-ac07c8de-8236-4c86-9ca3-939845193cc8",
    "deepnote_to_be_reexecuted": false,
    "execution_millis": 122,
    "execution_start": 1620894409906,
    "source_hash": "7046381c",
    "tags": [],
    "deepnote_cell_type": "code"
   },
   "source": "print(lm.counts)",
   "execution_count": 47,
   "outputs": [
    {
     "name": "stdout",
     "text": "<NgramCounter with 3 ngram orders and 729228 ngrams>\n",
     "output_type": "stream"
    }
   ]
  },
  {
   "cell_type": "code",
   "metadata": {
    "cell_id": "00067-f109bea8-2914-49b3-b11f-4944e68daa41",
    "deepnote_to_be_reexecuted": false,
    "execution_millis": 21,
    "execution_start": 1620894410024,
    "source_hash": "aeeaec4d",
    "tags": [],
    "deepnote_cell_type": "code"
   },
   "source": "lm.counts[['.']][\"</s>\"]",
   "execution_count": 48,
   "outputs": [
    {
     "output_type": "execute_result",
     "execution_count": 48,
     "data": {
      "text/plain": "1399"
     },
     "metadata": {}
    }
   ]
  },
  {
   "cell_type": "code",
   "metadata": {
    "cell_id": "00068-f367f9fb-8559-4d5b-9c8c-d8ebf6a22c82",
    "deepnote_to_be_reexecuted": false,
    "execution_millis": 63,
    "execution_start": 1620894410039,
    "source_hash": "237ec896",
    "tags": [],
    "deepnote_cell_type": "code"
   },
   "source": "lm.score(\".\", [\"</s>\"])",
   "execution_count": 49,
   "outputs": [
    {
     "output_type": "execute_result",
     "execution_count": 49,
     "data": {
      "text/plain": "0.0"
     },
     "metadata": {}
    }
   ]
  },
  {
   "cell_type": "code",
   "metadata": {
    "cell_id": "00068-0d1770b7-a735-4825-add1-1fd9dbd8ed58",
    "deepnote_to_be_reexecuted": false,
    "execution_millis": 8,
    "execution_start": 1620894410094,
    "source_hash": "285a3958",
    "tags": [],
    "deepnote_cell_type": "code"
   },
   "source": "lm.score(\"randomString\")",
   "execution_count": 50,
   "outputs": [
    {
     "output_type": "execute_result",
     "execution_count": 50,
     "data": {
      "text/plain": "0.0"
     },
     "metadata": {}
    }
   ]
  },
  {
   "cell_type": "code",
   "metadata": {
    "cell_id": "00070-473d4ac1-d4ae-47f9-b6dd-3b5071e17f5e",
    "deepnote_to_be_reexecuted": false,
    "execution_millis": 0,
    "execution_start": 1620894410095,
    "source_hash": "5554bfdc",
    "tags": [],
    "deepnote_cell_type": "code"
   },
   "source": " test = [('I', 'am'), ('I', 'hate')]",
   "execution_count": 51,
   "outputs": []
  },
  {
   "cell_type": "code",
   "metadata": {
    "cell_id": "00070-af019404-c3b6-4afa-b27d-c47f570eecdd",
    "deepnote_to_be_reexecuted": false,
    "execution_millis": 0,
    "execution_start": 1620894410138,
    "source_hash": "816e0766",
    "tags": [],
    "deepnote_cell_type": "code"
   },
   "source": " lm.entropy(test)",
   "execution_count": 52,
   "outputs": [
    {
     "output_type": "execute_result",
     "execution_count": 52,
     "data": {
      "text/plain": "inf"
     },
     "metadata": {}
    }
   ]
  },
  {
   "cell_type": "code",
   "metadata": {
    "cell_id": "00071-a11989ee-d669-4629-8eea-ca7f52c0910c",
    "deepnote_to_be_reexecuted": false,
    "execution_millis": 4,
    "execution_start": 1620894410138,
    "source_hash": "3e97d56e",
    "tags": [],
    "deepnote_cell_type": "code"
   },
   "source": "lm.perplexity(test)",
   "execution_count": 53,
   "outputs": [
    {
     "output_type": "execute_result",
     "execution_count": 53,
     "data": {
      "text/plain": "inf"
     },
     "metadata": {}
    }
   ]
  },
  {
   "cell_type": "markdown",
   "source": "\"your girlfriend looking at injustices happening in andrew\"",
   "metadata": {
    "cell_id": "00073-aca32b87-a150-480a-ba80-7d0f03c506d7",
    "tags": [],
    "deepnote_cell_type": "text-cell-p"
   }
  },
  {
   "cell_type": "markdown",
   "source": "'they should understand women cheats on my 16gb of action against their bodies on legs'",
   "metadata": {
    "cell_id": "00074-02be21d7-df2b-463a-a794-02ced329495c",
    "tags": [],
    "deepnote_cell_type": "text-cell-p"
   }
  },
  {
   "cell_type": "markdown",
   "source": "#peoplelikemebecause actions. #lovejihad",
   "metadata": {
    "cell_id": "00075-a44f03c1-a36f-49cf-8880-91abd8230521",
    "tags": [],
    "deepnote_cell_type": "text-cell-p"
   }
  },
  {
   "cell_type": "markdown",
   "source": "'betray your hole last weekend me want more' <br>\n'hitler may come back'",
   "metadata": {
    "cell_id": "00076-303259f8-9630-4042-9d72-057c9d8bf165",
    "tags": [],
    "deepnote_cell_type": "markdown"
   }
  },
  {
   "cell_type": "code",
   "metadata": {
    "cell_id": "00076-99664b8f-9d0d-4370-932f-da7947884f7b",
    "deepnote_to_be_reexecuted": false,
    "execution_millis": 1,
    "execution_start": 1620894410182,
    "source_hash": "691612ea",
    "tags": [],
    "deepnote_cell_type": "code"
   },
   "source": "lm.generate(10, text_seed=[\"You\",\"are\",\"a\",\"stupid\"], random_seed=5)",
   "execution_count": 54,
   "outputs": [
    {
     "output_type": "execute_result",
     "execution_count": 54,
     "data": {
      "text/plain": "['fucking', 'idiot', 'hoe', 'i', '’', 've', 'accused', 'him', 'of', 'rape']"
     },
     "metadata": {}
    }
   ]
  },
  {
   "cell_type": "code",
   "metadata": {
    "cell_id": "00075-d8f867fa-f45b-400a-ab49-74aa5949913d",
    "deepnote_to_be_reexecuted": false,
    "execution_millis": 221,
    "execution_start": 1620894410182,
    "source_hash": "523cc3cf",
    "tags": [],
    "deepnote_cell_type": "code"
   },
   "source": "from nltk.util import ngrams\ntext_bigrams = [ngrams(sent, 2) for sent in DATA['processed'][\"hate\"][\"train_text\"]]\ntext_unigrams = [ngrams(sent, 1) for sent in DATA['processed'][\"hate\"][\"train_text\"]]",
   "execution_count": 55,
   "outputs": []
  },
  {
   "cell_type": "code",
   "metadata": {
    "cell_id": "00077-2f9d9e94-5259-474a-95f9-97fa614665d1",
    "deepnote_to_be_reexecuted": false,
    "execution_millis": 1186,
    "execution_start": 1620894410410,
    "source_hash": "42addd9e",
    "tags": [],
    "deepnote_cell_type": "code"
   },
   "source": "from nltk.lm import NgramCounter\nngram_counts = NgramCounter(text_bigrams + text_unigrams)",
   "execution_count": 56,
   "outputs": []
  },
  {
   "cell_type": "code",
   "metadata": {
    "cell_id": "00078-49c0e88f-a77d-4697-a9a2-ad934d2a7723",
    "deepnote_to_be_reexecuted": false,
    "execution_millis": 22,
    "execution_start": 1620894411601,
    "source_hash": "d956c480",
    "tags": [],
    "deepnote_cell_type": "code"
   },
   "source": "ngram_counts[\"I\"]",
   "execution_count": 57,
   "outputs": [
    {
     "output_type": "execute_result",
     "execution_count": 57,
     "data": {
      "text/plain": "414"
     },
     "metadata": {}
    }
   ]
  },
  {
   "cell_type": "code",
   "metadata": {
    "cell_id": "00081-dc38865a-0292-4597-89a6-b68d5084a345",
    "deepnote_to_be_reexecuted": false,
    "execution_millis": 7,
    "execution_start": 1620894411615,
    "source_hash": "b623e53d",
    "tags": [],
    "deepnote_cell_type": "code"
   },
   "source": "",
   "execution_count": 57,
   "outputs": []
  },
  {
   "cell_type": "markdown",
   "source": "*TASK 3*\n# Manual Annotations and Inter-Annotator Agreement\n\nIn this section, we will manually annotate 100 randomly selected tweets from the train corpus in the hate speech data set. We followed the annotation guidelines as employed by the source of the data:\n\n[Final Paper](https://www.aclweb.org/anthology/S19-2007.pdf)\n\n[Annotation Guidelines](https://github.com/msang/hateval/blob/master/annotation_guidelines.md)",
   "metadata": {
    "cell_id": "00082-d445badc-5275-4d02-af41-527b34f6b56b",
    "tags": [],
    "deepnote_cell_type": "markdown"
   }
  },
  {
   "cell_type": "code",
   "metadata": {
    "cell_id": "00083-b00760ef-6d1c-4287-8332-7f40e977bc27",
    "deepnote_to_be_reexecuted": false,
    "execution_millis": 12,
    "execution_start": 1620894411626,
    "source_hash": "6ce6c828",
    "tags": [],
    "deepnote_cell_type": "code"
   },
   "source": "GENERATE_SAMPLE = False",
   "execution_count": 58,
   "outputs": []
  },
  {
   "cell_type": "code",
   "metadata": {
    "cell_id": "00083-94c0db2e-6605-483e-bc6b-c91fa82efcfa",
    "deepnote_to_be_reexecuted": false,
    "execution_millis": 7,
    "execution_start": 1620894411641,
    "source_hash": "70d39c6",
    "tags": [],
    "deepnote_cell_type": "code"
   },
   "source": "if GENERATE_SAMPLE == True:\n    with open('../data/annotations/annotation_sample.txt', 'w') as outfile:\n        for tweet in DATA['raw']['hate']['train_text'][-100:]: # last 100 tweets in hate training set\n            outfile.writelines(tweet + '\\n')\n    with open('../data/annotations/ground_truth_annotation_sample.txt', 'w') as outfile:\n        for label in DATA['raw']['hate']['train_labels'][-100:]:\n            outfile.writelines(str(label) + '\\n')",
   "execution_count": 59,
   "outputs": []
  },
  {
   "cell_type": "code",
   "metadata": {
    "cell_id": "00085-0c6885fd-8014-4ce7-bfbd-bf43e305bc0a",
    "deepnote_to_be_reexecuted": false,
    "execution_millis": 30,
    "execution_start": 1620894411657,
    "source_hash": "76f9350c",
    "tags": [],
    "deepnote_cell_type": "code"
   },
   "source": "# compare manual annotations through building dataframe\nannotation_evaluation = pd.DataFrame({'tweets': DATA['raw']['hate']['train_text'][-100:], 'ground_truth': DATA['raw']['hate']['train_labels'][-100:]})\n\nfor filename in os.listdir('../data/annotations/manual_annotations'):\n    with open(f'../data/annotations/manual_annotations/{filename}', 'r') as infile:\n        annotation_evaluation[filename[:-4]] = [int(line.strip()) for line in infile.readlines()]",
   "execution_count": 60,
   "outputs": []
  },
  {
   "cell_type": "code",
   "metadata": {
    "cell_id": "00086-60a0157a-ff3a-421b-afc1-6ea25b5459e4",
    "deepnote_to_be_reexecuted": false,
    "execution_millis": 91,
    "execution_start": 1620894411695,
    "source_hash": "75b8187d",
    "tags": [],
    "deepnote_cell_type": "code"
   },
   "source": "annotation_evaluation",
   "execution_count": 61,
   "outputs": [
    {
     "output_type": "execute_result",
     "execution_count": 61,
     "data": {
      "application/vnd.deepnote.dataframe.v2+json": {
       "row_count": 100,
       "column_count": 6,
       "columns": [
        {
         "name": "tweets",
         "dtype": "object",
         "stats": {
          "unique_count": 100,
          "nan_count": 0,
          "categories": [
           {
            "name": "Cry baby Hollywood Dems Anti-Trump celebs too poor to run as a Mayor to show everyone they can be better politicians than him. Comments? @user no no no no new war under Trump, Europe is still handling the refugees from Obama's wars. Hi Ohio! @user weekend feels",
            "count": 1
           },
           {
            "name": "@user Do I have to fight another bitch ass looking cunt today?",
            "count": 1
           },
           {
            "name": "98 others",
            "count": 98
           }
          ]
         }
        },
        {
         "name": "ground_truth",
         "dtype": "int64",
         "stats": {
          "unique_count": 2,
          "nan_count": 0,
          "min": "0",
          "max": "1",
          "histogram": [
           {
            "bin_start": 0,
            "bin_end": 0.1,
            "count": 57
           },
           {
            "bin_start": 0.1,
            "bin_end": 0.2,
            "count": 0
           },
           {
            "bin_start": 0.2,
            "bin_end": 0.30000000000000004,
            "count": 0
           },
           {
            "bin_start": 0.30000000000000004,
            "bin_end": 0.4,
            "count": 0
           },
           {
            "bin_start": 0.4,
            "bin_end": 0.5,
            "count": 0
           },
           {
            "bin_start": 0.5,
            "bin_end": 0.6000000000000001,
            "count": 0
           },
           {
            "bin_start": 0.6000000000000001,
            "bin_end": 0.7000000000000001,
            "count": 0
           },
           {
            "bin_start": 0.7000000000000001,
            "bin_end": 0.8,
            "count": 0
           },
           {
            "bin_start": 0.8,
            "bin_end": 0.9,
            "count": 0
           },
           {
            "bin_start": 0.9,
            "bin_end": 1,
            "count": 43
           }
          ]
         }
        },
        {
         "name": "nicola_annotations",
         "dtype": "int64",
         "stats": {
          "unique_count": 2,
          "nan_count": 0,
          "min": "0",
          "max": "1",
          "histogram": [
           {
            "bin_start": 0,
            "bin_end": 0.1,
            "count": 58
           },
           {
            "bin_start": 0.1,
            "bin_end": 0.2,
            "count": 0
           },
           {
            "bin_start": 0.2,
            "bin_end": 0.30000000000000004,
            "count": 0
           },
           {
            "bin_start": 0.30000000000000004,
            "bin_end": 0.4,
            "count": 0
           },
           {
            "bin_start": 0.4,
            "bin_end": 0.5,
            "count": 0
           },
           {
            "bin_start": 0.5,
            "bin_end": 0.6000000000000001,
            "count": 0
           },
           {
            "bin_start": 0.6000000000000001,
            "bin_end": 0.7000000000000001,
            "count": 0
           },
           {
            "bin_start": 0.7000000000000001,
            "bin_end": 0.8,
            "count": 0
           },
           {
            "bin_start": 0.8,
            "bin_end": 0.9,
            "count": 0
           },
           {
            "bin_start": 0.9,
            "bin_end": 1,
            "count": 42
           }
          ]
         }
        },
        {
         "name": "hugo_annotations",
         "dtype": "int64",
         "stats": {
          "unique_count": 2,
          "nan_count": 0,
          "min": "0",
          "max": "1",
          "histogram": [
           {
            "bin_start": 0,
            "bin_end": 0.1,
            "count": 85
           },
           {
            "bin_start": 0.1,
            "bin_end": 0.2,
            "count": 0
           },
           {
            "bin_start": 0.2,
            "bin_end": 0.30000000000000004,
            "count": 0
           },
           {
            "bin_start": 0.30000000000000004,
            "bin_end": 0.4,
            "count": 0
           },
           {
            "bin_start": 0.4,
            "bin_end": 0.5,
            "count": 0
           },
           {
            "bin_start": 0.5,
            "bin_end": 0.6000000000000001,
            "count": 0
           },
           {
            "bin_start": 0.6000000000000001,
            "bin_end": 0.7000000000000001,
            "count": 0
           },
           {
            "bin_start": 0.7000000000000001,
            "bin_end": 0.8,
            "count": 0
           },
           {
            "bin_start": 0.8,
            "bin_end": 0.9,
            "count": 0
           },
           {
            "bin_start": 0.9,
            "bin_end": 1,
            "count": 15
           }
          ]
         }
        },
        {
         "name": "mika_annotations",
         "dtype": "int64",
         "stats": {
          "unique_count": 2,
          "nan_count": 0,
          "min": "0",
          "max": "1",
          "histogram": [
           {
            "bin_start": 0,
            "bin_end": 0.1,
            "count": 63
           },
           {
            "bin_start": 0.1,
            "bin_end": 0.2,
            "count": 0
           },
           {
            "bin_start": 0.2,
            "bin_end": 0.30000000000000004,
            "count": 0
           },
           {
            "bin_start": 0.30000000000000004,
            "bin_end": 0.4,
            "count": 0
           },
           {
            "bin_start": 0.4,
            "bin_end": 0.5,
            "count": 0
           },
           {
            "bin_start": 0.5,
            "bin_end": 0.6000000000000001,
            "count": 0
           },
           {
            "bin_start": 0.6000000000000001,
            "bin_end": 0.7000000000000001,
            "count": 0
           },
           {
            "bin_start": 0.7000000000000001,
            "bin_end": 0.8,
            "count": 0
           },
           {
            "bin_start": 0.8,
            "bin_end": 0.9,
            "count": 0
           },
           {
            "bin_start": 0.9,
            "bin_end": 1,
            "count": 37
           }
          ]
         }
        },
        {
         "name": "aidan_annotations",
         "dtype": "int64",
         "stats": {
          "unique_count": 2,
          "nan_count": 0,
          "min": "0",
          "max": "1",
          "histogram": [
           {
            "bin_start": 0,
            "bin_end": 0.1,
            "count": 66
           },
           {
            "bin_start": 0.1,
            "bin_end": 0.2,
            "count": 0
           },
           {
            "bin_start": 0.2,
            "bin_end": 0.30000000000000004,
            "count": 0
           },
           {
            "bin_start": 0.30000000000000004,
            "bin_end": 0.4,
            "count": 0
           },
           {
            "bin_start": 0.4,
            "bin_end": 0.5,
            "count": 0
           },
           {
            "bin_start": 0.5,
            "bin_end": 0.6000000000000001,
            "count": 0
           },
           {
            "bin_start": 0.6000000000000001,
            "bin_end": 0.7000000000000001,
            "count": 0
           },
           {
            "bin_start": 0.7000000000000001,
            "bin_end": 0.8,
            "count": 0
           },
           {
            "bin_start": 0.8,
            "bin_end": 0.9,
            "count": 0
           },
           {
            "bin_start": 0.9,
            "bin_end": 1,
            "count": 34
           }
          ]
         }
        },
        {
         "name": "_deepnote_index_column",
         "dtype": "int64"
        }
       ],
       "rows_top": [
        {
         "tweets": "Cry baby Hollywood Dems Anti-Trump celebs too poor to run as a Mayor to show everyone they can be better politicians than him. Comments? @user no no no no new war under Trump, Europe is still handling the refugees from Obama's wars. Hi Ohio! @user weekend feels",
         "ground_truth": 0,
         "nicola_annotations": 0,
         "hugo_annotations": 0,
         "mika_annotations": 0,
         "aidan_annotations": 0,
         "_deepnote_index_column": 0
        },
        {
         "tweets": "@user Do I have to fight another bitch ass looking cunt today?",
         "ground_truth": 1,
         "nicola_annotations": 1,
         "hugo_annotations": 0,
         "mika_annotations": 1,
         "aidan_annotations": 1,
         "_deepnote_index_column": 1
        },
        {
         "tweets": "#SouthCarolina has spent millions of dollars to arrest immigrant landscapers, housekeepers #ambassador...",
         "ground_truth": 0,
         "nicola_annotations": 0,
         "hugo_annotations": 0,
         "mika_annotations": 0,
         "aidan_annotations": 0,
         "_deepnote_index_column": 2
        },
        {
         "tweets": "Me trying to flirt- I wanna eat your hot pocket",
         "ground_truth": 0,
         "nicola_annotations": 0,
         "hugo_annotations": 0,
         "mika_annotations": 0,
         "aidan_annotations": 0,
         "_deepnote_index_column": 3
        },
        {
         "tweets": "People say, \"Why didn't this or that immigrant for Central or South America apply the proper way and keep up with forms?\"  For decades immigration has discriminated against people of color from Central and South America.",
         "ground_truth": 0,
         "nicola_annotations": 0,
         "hugo_annotations": 0,
         "mika_annotations": 0,
         "aidan_annotations": 0,
         "_deepnote_index_column": 4
        },
        {
         "tweets": "I'm not the one to let people profit on my back... I'll break yours and take what's mine 😘",
         "ground_truth": 0,
         "nicola_annotations": 0,
         "hugo_annotations": 0,
         "mika_annotations": 1,
         "aidan_annotations": 0,
         "_deepnote_index_column": 5
        },
        {
         "tweets": "#landdegradation undermines the well-being of 3.2 billion people, or “two-fifths of humanity,” drives species extinction and intensifies #climatechange, and is also a major contributor to mass human #migration. â¦@CauxDialogueâ©",
         "ground_truth": 0,
         "nicola_annotations": 0,
         "hugo_annotations": 0,
         "mika_annotations": 0,
         "aidan_annotations": 0,
         "_deepnote_index_column": 6
        },
        {
         "tweets": "Me trying to flirt- You have really nice eyebrows... I'd like to cum on them to see if they wash off",
         "ground_truth": 1,
         "nicola_annotations": 1,
         "hugo_annotations": 0,
         "mika_annotations": 1,
         "aidan_annotations": 0,
         "_deepnote_index_column": 7
        },
        {
         "tweets": "Two faced Boris now hes on a power trip dosent care about Immigration may is a liar change l don't think so",
         "ground_truth": 0,
         "nicola_annotations": 0,
         "hugo_annotations": 0,
         "mika_annotations": 0,
         "aidan_annotations": 0,
         "_deepnote_index_column": 8
        },
        {
         "tweets": "Says man who suggested an actress reported an historic rape to gain more work - you're a fully paid up cunt -",
         "ground_truth": 1,
         "nicola_annotations": 0,
         "hugo_annotations": 0,
         "mika_annotations": 1,
         "aidan_annotations": 0,
         "_deepnote_index_column": 9
        },
        {
         "tweets": "@user I hope you are not offering them a choice. To hell with the #Tories #SendThemHome",
         "ground_truth": 1,
         "nicola_annotations": 1,
         "hugo_annotations": 1,
         "mika_annotations": 1,
         "aidan_annotations": 1,
         "_deepnote_index_column": 10
        },
        {
         "tweets": "These are not refugees but aggressive male migrants the Med leaders - with exception of @user -want to kindly “share” w-others.  In reality, they already have by previously “waving-through” hundreds of thousands of unknown migrants to roam Europe. @user #V4",
         "ground_truth": 1,
         "nicola_annotations": 1,
         "hugo_annotations": 1,
         "mika_annotations": 1,
         "aidan_annotations": 0,
         "_deepnote_index_column": 11
        },
        {
         "tweets": "There are all these illegal immigrant aliens trying to get to Earth, but our 'Space Force' is protecting us, oh yeah it's up there already! #Deranged",
         "ground_truth": 0,
         "nicola_annotations": 1,
         "hugo_annotations": 0,
         "mika_annotations": 0,
         "aidan_annotations": 0,
         "_deepnote_index_column": 12
        },
        {
         "tweets": "I feel like post birth abortion should be a thing...",
         "ground_truth": 0,
         "nicola_annotations": 0,
         "hugo_annotations": 0,
         "mika_annotations": 0,
         "aidan_annotations": 0,
         "_deepnote_index_column": 13
        },
        {
         "tweets": "UN countries agree on pact to manage mass global migration",
         "ground_truth": 0,
         "nicola_annotations": 0,
         "hugo_annotations": 0,
         "mika_annotations": 0,
         "aidan_annotations": 0,
         "_deepnote_index_column": 14
        },
        {
         "tweets": "Girls with blonde hair and dark roots make my cock hard for some reason",
         "ground_truth": 1,
         "nicola_annotations": 1,
         "hugo_annotations": 0,
         "mika_annotations": 0,
         "aidan_annotations": 0,
         "_deepnote_index_column": 15
        },
        {
         "tweets": "Populists are not anti immigrant or anti immigration or emigration they are PRO rational fair laws of… — Allan",
         "ground_truth": 0,
         "nicola_annotations": 0,
         "hugo_annotations": 0,
         "mika_annotations": 0,
         "aidan_annotations": 0,
         "_deepnote_index_column": 16
        },
        {
         "tweets": "Cases include a twisted paedophile, a lunatic driver and an illegal immigrant who posed as a 16-year-old girl",
         "ground_truth": 0,
         "nicola_annotations": 0,
         "hugo_annotations": 0,
         "mika_annotations": 0,
         "aidan_annotations": 0,
         "_deepnote_index_column": 17
        },
        {
         "tweets": "Some cunt at Walmart went full psycho on me saying how she had no fucking space to put her shit bitch ur taking up the entire conveyor belt",
         "ground_truth": 1,
         "nicola_annotations": 1,
         "hugo_annotations": 0,
         "mika_annotations": 1,
         "aidan_annotations": 1,
         "_deepnote_index_column": 18
        },
        {
         "tweets": "@user  As you fall over yourselves to welcome Syrian refugees ,homes etc why did you not do it for ordinary people are u lambs or goats",
         "ground_truth": 1,
         "nicola_annotations": 0,
         "hugo_annotations": 0,
         "mika_annotations": 1,
         "aidan_annotations": 1,
         "_deepnote_index_column": 19
        },
        {
         "tweets": "Nothing would make me happier than to see you get an STD. #whore #WomenSuck",
         "ground_truth": 1,
         "nicola_annotations": 1,
         "hugo_annotations": 1,
         "mika_annotations": 1,
         "aidan_annotations": 1,
         "_deepnote_index_column": 20
        },
        {
         "tweets": "In the past 4 years personal debt has risen by 90 billion pounds. Much of it spent on trying to live. Debt now stands at 32,000 pounds for every person in the country. Its time government realised that we can neither afford more migrants or foreign aid. Look after our own people.",
         "ground_truth": 0,
         "nicola_annotations": 0,
         "hugo_annotations": 0,
         "mika_annotations": 0,
         "aidan_annotations": 0,
         "_deepnote_index_column": 21
        },
        {
         "tweets": "Watch: Germany's Real Women's March against migrant violence and Islamism - Free Speech Time - @user",
         "ground_truth": 0,
         "nicola_annotations": 0,
         "hugo_annotations": 0,
         "mika_annotations": 0,
         "aidan_annotations": 0,
         "_deepnote_index_column": 22
        },
        {
         "tweets": "@user @user Don't blame refugees for the misery of others. By forcedly removing refugees from their homes they simply join the ever extending list of vulnerable people on the streets. Westminster can change this for everyone.",
         "ground_truth": 0,
         "nicola_annotations": 0,
         "hugo_annotations": 0,
         "mika_annotations": 0,
         "aidan_annotations": 0,
         "_deepnote_index_column": 23
        },
        {
         "tweets": "hypnotize synthesize love is a lie like a hole in the sky then you die",
         "ground_truth": 0,
         "nicola_annotations": 0,
         "hugo_annotations": 0,
         "mika_annotations": 0,
         "aidan_annotations": 0,
         "_deepnote_index_column": 24
        },
        {
         "tweets": "@user Its not about Trump kids.When are you putting up all those refugees in your home jk???  YOu know, diversity for thee, but not for me.Your virtue signalling is tiresome.",
         "ground_truth": 1,
         "nicola_annotations": 0,
         "hugo_annotations": 0,
         "mika_annotations": 0,
         "aidan_annotations": 0,
         "_deepnote_index_column": 25
        },
        {
         "tweets": "@user No doubt cory wins most hysterical women his eyes are popping out of his head foaming at the mouth",
         "ground_truth": 0,
         "nicola_annotations": 1,
         "hugo_annotations": 0,
         "mika_annotations": 0,
         "aidan_annotations": 1,
         "_deepnote_index_column": 26
        },
        {
         "tweets": "It's unfortunate that such racist tactics are used against migrant communities. Remember those who are spreading fear are those who cut the funding of vital services for migrants such as healthcare and education!  via @user",
         "ground_truth": 0,
         "nicola_annotations": 0,
         "hugo_annotations": 0,
         "mika_annotations": 0,
         "aidan_annotations": 0,
         "_deepnote_index_column": 27
        },
        {
         "tweets": "Mandy Manning, one of World Relief's friends and partners @user has just been named 2018 National Teacher of the Year for her work with #refugee and #immigrant students. Read more of her incredible story. âž",
         "ground_truth": 0,
         "nicola_annotations": 0,
         "hugo_annotations": 0,
         "mika_annotations": 0,
         "aidan_annotations": 0,
         "_deepnote_index_column": 28
        },
        {
         "tweets": "#FakeNews Alert!! Flu Vaccine PROPAGANDA Agenda - Immigration = Terrorism REPORT",
         "ground_truth": 1,
         "nicola_annotations": 1,
         "hugo_annotations": 1,
         "mika_annotations": 0,
         "aidan_annotations": 1,
         "_deepnote_index_column": 29
        },
        {
         "tweets": "@user Legally it is rape if you inserted something inside someone without their consent",
         "ground_truth": 0,
         "nicola_annotations": 0,
         "hugo_annotations": 0,
         "mika_annotations": 0,
         "aidan_annotations": 0,
         "_deepnote_index_column": 30
        },
        {
         "tweets": "Glad not all men are like that and sad some women are like this...",
         "ground_truth": 1,
         "nicola_annotations": 0,
         "hugo_annotations": 0,
         "mika_annotations": 0,
         "aidan_annotations": 1,
         "_deepnote_index_column": 31
        },
        {
         "tweets": "Don't let the world ending distract you from the fact that you're a hoe.",
         "ground_truth": 0,
         "nicola_annotations": 1,
         "hugo_annotations": 0,
         "mika_annotations": 1,
         "aidan_annotations": 1,
         "_deepnote_index_column": 32
        },
        {
         "tweets": "is this what you would call karma? like how do you as a mexican person vote and support trump, have an illegal immigrant as a wife &amp; act shocked when she gets deported?",
         "ground_truth": 0,
         "nicola_annotations": 0,
         "hugo_annotations": 0,
         "mika_annotations": 1,
         "aidan_annotations": 0,
         "_deepnote_index_column": 33
        },
        {
         "tweets": "@user Let me check your ass out with my cock",
         "ground_truth": 1,
         "nicola_annotations": 1,
         "hugo_annotations": 0,
         "mika_annotations": 1,
         "aidan_annotations": 1,
         "_deepnote_index_column": 34
        },
        {
         "tweets": "People in airport bars always wanna tell you their life stories... STFU Bill, IDGAF about your stupid daughter and whore wife",
         "ground_truth": 1,
         "nicola_annotations": 1,
         "hugo_annotations": 0,
         "mika_annotations": 1,
         "aidan_annotations": 0,
         "_deepnote_index_column": 35
        },
        {
         "tweets": "I’ll still fuck a stupid Bitch up tho",
         "ground_truth": 1,
         "nicola_annotations": 1,
         "hugo_annotations": 0,
         "mika_annotations": 1,
         "aidan_annotations": 0,
         "_deepnote_index_column": 36
        },
        {
         "tweets": "When someone tries to threaten me",
         "ground_truth": 0,
         "nicola_annotations": 0,
         "hugo_annotations": 0,
         "mika_annotations": 0,
         "aidan_annotations": 0,
         "_deepnote_index_column": 37
        },
        {
         "tweets": "If this is implemented well, could be good news for Philadelphians.",
         "ground_truth": 0,
         "nicola_annotations": 0,
         "hugo_annotations": 0,
         "mika_annotations": 0,
         "aidan_annotations": 0,
         "_deepnote_index_column": 38
        },
        {
         "tweets": "If you really wanna know what someone you're fucking thinks about you, make them show you how you're stored in their phone...",
         "ground_truth": 0,
         "nicola_annotations": 0,
         "hugo_annotations": 0,
         "mika_annotations": 0,
         "aidan_annotations": 0,
         "_deepnote_index_column": 39
        },
        {
         "tweets": "@user stupid women fuck up my life #WomenSuck",
         "ground_truth": 1,
         "nicola_annotations": 1,
         "hugo_annotations": 1,
         "mika_annotations": 1,
         "aidan_annotations": 1,
         "_deepnote_index_column": 40
        },
        {
         "tweets": "@user USA should stop trading with Mexico, if they dont stop the refugees.",
         "ground_truth": 1,
         "nicola_annotations": 1,
         "hugo_annotations": 1,
         "mika_annotations": 0,
         "aidan_annotations": 0,
         "_deepnote_index_column": 41
        },
        {
         "tweets": "If you have to ask why #WomenSuck you're obviously a woman.... And you suck.... #subtweet",
         "ground_truth": 1,
         "nicola_annotations": 1,
         "hugo_annotations": 1,
         "mika_annotations": 1,
         "aidan_annotations": 1,
         "_deepnote_index_column": 42
        },
        {
         "tweets": "@user @user Where are you getting #NotAllMen from? I took issue with the fact they don't explain the…",
         "ground_truth": 0,
         "nicola_annotations": 0,
         "hugo_annotations": 0,
         "mika_annotations": 0,
         "aidan_annotations": 0,
         "_deepnote_index_column": 43
        },
        {
         "tweets": "@user The difference is you promote being a slut you dumb bitch you should go fuck yourself and stick some a…",
         "ground_truth": 1,
         "nicola_annotations": 1,
         "hugo_annotations": 0,
         "mika_annotations": 1,
         "aidan_annotations": 1,
         "_deepnote_index_column": 44
        },
        {
         "tweets": "@user weird as fuck cuz women suck. #YouSuck",
         "ground_truth": 1,
         "nicola_annotations": 1,
         "hugo_annotations": 1,
         "mika_annotations": 1,
         "aidan_annotations": 1,
         "_deepnote_index_column": 45
        },
        {
         "tweets": "The blue wave is coming if we don't build that damn wall. #BuildThatWall & #MAGA",
         "ground_truth": 1,
         "nicola_annotations": 0,
         "hugo_annotations": 1,
         "mika_annotations": 1,
         "aidan_annotations": 0,
         "_deepnote_index_column": 46
        },
        {
         "tweets": "People that hate on you that you've done nothing to and don't know you are just jealous of you... Embrace it, you're doing something right",
         "ground_truth": 0,
         "nicola_annotations": 0,
         "hugo_annotations": 0,
         "mika_annotations": 0,
         "aidan_annotations": 0,
         "_deepnote_index_column": 47
        },
        {
         "tweets": "When the rival lemonade stand starts stealin your business",
         "ground_truth": 0,
         "nicola_annotations": 0,
         "hugo_annotations": 0,
         "mika_annotations": 0,
         "aidan_annotations": 0,
         "_deepnote_index_column": 48
        },
        {
         "tweets": "@user let's get weird! Summertime baby! #FuckBitches",
         "ground_truth": 1,
         "nicola_annotations": 1,
         "hugo_annotations": 0,
         "mika_annotations": 0,
         "aidan_annotations": 1,
         "_deepnote_index_column": 49
        },
        {
         "tweets": "WHO.. ARE. YOOUU? This is not mario kart. You are no princess peach. Get your skank ass up out my lane or I take you off the goddamn road.",
         "ground_truth": 1,
         "nicola_annotations": 1,
         "hugo_annotations": 0,
         "mika_annotations": 1,
         "aidan_annotations": 1,
         "_deepnote_index_column": 50
        },
        {
         "tweets": "Boo, you sweaty whore",
         "ground_truth": 1,
         "nicola_annotations": 1,
         "hugo_annotations": 0,
         "mika_annotations": 1,
         "aidan_annotations": 1,
         "_deepnote_index_column": 51
        },
        {
         "tweets": "Excellent.Since we can't separate families, lock all their asses up until a judge can deport them.I'm all in.Thank you @user #MAGA #nosanctuarybrewster #BuildTheWall #NoDACA",
         "ground_truth": 1,
         "nicola_annotations": 1,
         "hugo_annotations": 1,
         "mika_annotations": 1,
         "aidan_annotations": 1,
         "_deepnote_index_column": 52
        },
        {
         "tweets": "Just so you know, I'm a righteous Dick Cheney Impersonator, which is not like a thing or anything.",
         "ground_truth": 0,
         "nicola_annotations": 0,
         "hugo_annotations": 0,
         "mika_annotations": 0,
         "aidan_annotations": 0,
         "_deepnote_index_column": 53
        },
        {
         "tweets": "RT @user I don't see why drinking and driving is such a big deal. Letting women drive is just as hazardous!",
         "ground_truth": 1,
         "nicola_annotations": 1,
         "hugo_annotations": 1,
         "mika_annotations": 1,
         "aidan_annotations": 1,
         "_deepnote_index_column": 54
        },
        {
         "tweets": "If Richard Stallman has 1 GB of RAM, and if you have 1 GB of RAM, Richard Stallman has more RAM than you.",
         "ground_truth": 0,
         "nicola_annotations": 0,
         "hugo_annotations": 0,
         "mika_annotations": 0,
         "aidan_annotations": 0,
         "_deepnote_index_column": 55
        },
        {
         "tweets": "We are not all men and women of God in this context, I'm not talking generalization, I'm talking about Gods prophet…",
         "ground_truth": 0,
         "nicola_annotations": 0,
         "hugo_annotations": 0,
         "mika_annotations": 0,
         "aidan_annotations": 0,
         "_deepnote_index_column": 56
        },
        {
         "tweets": "someone: breathes ada: dumb whore cunt slut your moms a hoe kill yourself bitch get shot",
         "ground_truth": 1,
         "nicola_annotations": 1,
         "hugo_annotations": 0,
         "mika_annotations": 1,
         "aidan_annotations": 1,
         "_deepnote_index_column": 57
        },
        {
         "tweets": "From the archives: Daniel Berrigan on refugees, Christ, and the American Dream.",
         "ground_truth": 0,
         "nicola_annotations": 0,
         "hugo_annotations": 0,
         "mika_annotations": 0,
         "aidan_annotations": 0,
         "_deepnote_index_column": 58
        },
        {
         "tweets": "Now All These Hoes Talking Bout THEY NEED A GUCCI BITCH BE YOSELF",
         "ground_truth": 1,
         "nicola_annotations": 1,
         "hugo_annotations": 0,
         "mika_annotations": 1,
         "aidan_annotations": 1,
         "_deepnote_index_column": 59
        },
        {
         "tweets": "@user I quite liked the look of the air ram?? And dyson.. but you are right they are a bit steep... although others could be false economy....",
         "ground_truth": 0,
         "nicola_annotations": 0,
         "hugo_annotations": 0,
         "mika_annotations": 0,
         "aidan_annotations": 0,
         "_deepnote_index_column": 60
        },
        {
         "tweets": "Worldbank reports that in the next 30 years many refugees have to leave her homeland, specially in Africa. Who will feed them ? Is Europe able to shoot them down and protect her own homeland, before it will destroyed from Africans ?",
         "ground_truth": 1,
         "nicola_annotations": 1,
         "hugo_annotations": 1,
         "mika_annotations": 0,
         "aidan_annotations": 1,
         "_deepnote_index_column": 61
        },
        {
         "tweets": "@user Hope one of these crazy ppl assassinate Trump the stupid son of a bitch my free speech he has no heart the way he is doing the American ppl",
         "ground_truth": 0,
         "nicola_annotations": 0,
         "hugo_annotations": 0,
         "mika_annotations": 0,
         "aidan_annotations": 1,
         "_deepnote_index_column": 62
        },
        {
         "tweets": "This is my most accurate understanding of religion",
         "ground_truth": 0,
         "nicola_annotations": 0,
         "hugo_annotations": 0,
         "mika_annotations": 0,
         "aidan_annotations": 0,
         "_deepnote_index_column": 63
        },
        {
         "tweets": "“If this is your definition of journalism, then don’t be suprised when people call you a racially obsessed tabloid, with no ethics” #StopFundingHate",
         "ground_truth": 0,
         "nicola_annotations": 0,
         "hugo_annotations": 0,
         "mika_annotations": 0,
         "aidan_annotations": 0,
         "_deepnote_index_column": 64
        },
        {
         "tweets": "Did you know that Gurmeet Ram Rahim Singh Ji has donated 25 lacs from the Earning of Jattu Engineer for bone bank!",
         "ground_truth": 0,
         "nicola_annotations": 0,
         "hugo_annotations": 0,
         "mika_annotations": 0,
         "aidan_annotations": 0,
         "_deepnote_index_column": 65
        },
        {
         "tweets": "@user Must take decisive action for sealing borders with B'desh to prevent rampant illegal migration encouraged by one community",
         "ground_truth": 1,
         "nicola_annotations": 1,
         "hugo_annotations": 0,
         "mika_annotations": 0,
         "aidan_annotations": 0,
         "_deepnote_index_column": 66
        },
        {
         "tweets": "@user While ruling a quarter of the Earth the British still lived on an Island the size of Michigan? The primary migration out of the UK was what created the USA/Canada/Australia/NewZealand as known today?",
         "ground_truth": 0,
         "nicola_annotations": 0,
         "hugo_annotations": 0,
         "mika_annotations": 0,
         "aidan_annotations": 0,
         "_deepnote_index_column": 67
        },
        {
         "tweets": "Canberra is obviously happy to be seen as an ally of Trump and Orban. And to underline multilateral approaches to the refugee issue.",
         "ground_truth": 0,
         "nicola_annotations": 0,
         "hugo_annotations": 0,
         "mika_annotations": 0,
         "aidan_annotations": 0,
         "_deepnote_index_column": 68
        },
        {
         "tweets": "i use to get sky at my dads house but his whore girlfriend never use to let me watch it",
         "ground_truth": 1,
         "nicola_annotations": 1,
         "hugo_annotations": 0,
         "mika_annotations": 0,
         "aidan_annotations": 1,
         "_deepnote_index_column": 69
        },
        {
         "tweets": "@user why? So you can look like a trashy mess? #WomenSuck",
         "ground_truth": 1,
         "nicola_annotations": 1,
         "hugo_annotations": 1,
         "mika_annotations": 1,
         "aidan_annotations": 1,
         "_deepnote_index_column": 70
        },
        {
         "tweets": "@user LOL, you do dress like a slut :-) you look excellent.It entertains me that you have the slutty dressing covered while I do the slutty acting",
         "ground_truth": 1,
         "nicola_annotations": 1,
         "hugo_annotations": 0,
         "mika_annotations": 1,
         "aidan_annotations": 1,
         "_deepnote_index_column": 71
        },
        {
         "tweets": "@user Not all women deserve respect. Not all men deserve respect. Respect is earned, not deserved. #metoo #auspol",
         "ground_truth": 0,
         "nicola_annotations": 0,
         "hugo_annotations": 0,
         "mika_annotations": 0,
         "aidan_annotations": 0,
         "_deepnote_index_column": 72
        },
        {
         "tweets": "Fight to stop U.S. Customs and Border Protection from abusing immigrant children. @user #FamiliesBelongTogether #resist",
         "ground_truth": 0,
         "nicola_annotations": 0,
         "hugo_annotations": 0,
         "mika_annotations": 0,
         "aidan_annotations": 0,
         "_deepnote_index_column": 73
        },
        {
         "tweets": "Went to @user stupid bitch put one in upside down one side ways. #wtf £6 we'll spent #cunt",
         "ground_truth": 1,
         "nicola_annotations": 1,
         "hugo_annotations": 0,
         "mika_annotations": 1,
         "aidan_annotations": 1,
         "_deepnote_index_column": 74
        },
        {
         "tweets": "Ready for school? @user provides around 54,000 refugee students access to free education through 153 schools, 48 satellites classes, 45 home-based girl schools and 13 early childhood education centres.",
         "ground_truth": 0,
         "nicola_annotations": 0,
         "hugo_annotations": 0,
         "mika_annotations": 0,
         "aidan_annotations": 0,
         "_deepnote_index_column": 75
        },
        {
         "tweets": "@user @user Steinle, who was murdered by an illegal Mexican immigrant on July 1, 2015.",
         "ground_truth": 1,
         "nicola_annotations": 0,
         "hugo_annotations": 0,
         "mika_annotations": 0,
         "aidan_annotations": 0,
         "_deepnote_index_column": 76
        },
        {
         "tweets": "Thank you @user for welcoming and employing Omar and other refugees eager to provide for their families!",
         "ground_truth": 0,
         "nicola_annotations": 0,
         "hugo_annotations": 0,
         "mika_annotations": 0,
         "aidan_annotations": 0,
         "_deepnote_index_column": 77
        },
        {
         "tweets": "She's nothing but a @user con. She's an illegal immigrant &amp; Slovenian skinhead Nazi B back home before @user my ass) falsified her PAPERS to enter the US. Worked on tourist VISA. Lied about education(degree in architecture) fluent in 5 languages. Einstein VISA?",
         "ground_truth": 1,
         "nicola_annotations": 1,
         "hugo_annotations": 1,
         "mika_annotations": 1,
         "aidan_annotations": 1,
         "_deepnote_index_column": 78
        },
        {
         "tweets": "Mexican immigrant niggas when they’re working at their taco shop and the cops arrive",
         "ground_truth": 1,
         "nicola_annotations": 1,
         "hugo_annotations": 1,
         "mika_annotations": 1,
         "aidan_annotations": 1,
         "_deepnote_index_column": 79
        },
        {
         "tweets": "Now since all Indians been mapped thru Aadhar Card. Flush out illegal immigrants,whose No has grown substantially in last 10Y.",
         "ground_truth": 1,
         "nicola_annotations": 1,
         "hugo_annotations": 0,
         "mika_annotations": 1,
         "aidan_annotations": 1,
         "_deepnote_index_column": 80
        },
        {
         "tweets": "It's National Kissing Day... So you can all kiss my mutha fuckin ass",
         "ground_truth": 0,
         "nicola_annotations": 0,
         "hugo_annotations": 0,
         "mika_annotations": 0,
         "aidan_annotations": 0,
         "_deepnote_index_column": 81
        },
        {
         "tweets": "Seriously. Get these people out of there. If we can't due to current EU or UN directives then we can at least stem Western to Western migration to get them to safety.",
         "ground_truth": 1,
         "nicola_annotations": 0,
         "hugo_annotations": 0,
         "mika_annotations": 1,
         "aidan_annotations": 0,
         "_deepnote_index_column": 82
        },
        {
         "tweets": "WHO'S THE WHORE NOW YOU PIECE OF SHIT",
         "ground_truth": 1,
         "nicola_annotations": 1,
         "hugo_annotations": 0,
         "mika_annotations": 1,
         "aidan_annotations": 1,
         "_deepnote_index_column": 83
        },
        {
         "tweets": "I'm a couple days late, but you should read this story from @user on the real estate business of immigrant detention centers:",
         "ground_truth": 0,
         "nicola_annotations": 0,
         "hugo_annotations": 0,
         "mika_annotations": 0,
         "aidan_annotations": 0,
         "_deepnote_index_column": 84
        },
        {
         "tweets": "When she got you caught up and you're tryna figure out how you're gonna lie your way outta this one",
         "ground_truth": 0,
         "nicola_annotations": 0,
         "hugo_annotations": 0,
         "mika_annotations": 0,
         "aidan_annotations": 0,
         "_deepnote_index_column": 85
        },
        {
         "tweets": "Understanding #foodsecurity in the context of #ruraldevelopment and #agriculture is a central part of the broader analysis of the links between #migration, #environment and #climatechange. #rootcauses",
         "ground_truth": 0,
         "nicola_annotations": 0,
         "hugo_annotations": 0,
         "mika_annotations": 0,
         "aidan_annotations": 0,
         "_deepnote_index_column": 86
        },
        {
         "tweets": "I am not a refugee but thank you anyways for supporting my thread",
         "ground_truth": 0,
         "nicola_annotations": 0,
         "hugo_annotations": 0,
         "mika_annotations": 0,
         "aidan_annotations": 0,
         "_deepnote_index_column": 87
        },
        {
         "tweets": "I really sympathise for the kid at @user DC office who answered my call. I asked him how he feels about governement approved murder and sexual trafficking of detained immigrant children. He told me he feels awful but the congressman has no new comment. @user",
         "ground_truth": 0,
         "nicola_annotations": 0,
         "hugo_annotations": 0,
         "mika_annotations": 0,
         "aidan_annotations": 0,
         "_deepnote_index_column": 88
        },
        {
         "tweets": "Son- mom, how did you and dad meet? Mom- he had on gray sweats and his dick print was fleekin so I slid in his DM",
         "ground_truth": 0,
         "nicola_annotations": 1,
         "hugo_annotations": 0,
         "mika_annotations": 0,
         "aidan_annotations": 0,
         "_deepnote_index_column": 89
        },
        {
         "tweets": "Immigrant parents of companies like the annual National Homeland Security, trying to the perfect setting For updates:",
         "ground_truth": 0,
         "nicola_annotations": 0,
         "hugo_annotations": 0,
         "mika_annotations": 0,
         "aidan_annotations": 0,
         "_deepnote_index_column": 90
        },
        {
         "tweets": "When the gangbang goes horribly wrong",
         "ground_truth": 0,
         "nicola_annotations": 0,
         "hugo_annotations": 0,
         "mika_annotations": 0,
         "aidan_annotations": 0,
         "_deepnote_index_column": 91
        },
        {
         "tweets": "RT @user It's April fools day but I clown you bitches every day. Imma take the day off, have a good day, see you tomorrow (Stolen fr…",
         "ground_truth": 0,
         "nicola_annotations": 0,
         "hugo_annotations": 0,
         "mika_annotations": 1,
         "aidan_annotations": 0,
         "_deepnote_index_column": 92
        },
        {
         "tweets": "@user You call it whatever you want -You praise hoes and and women in the wrong moral leaf and attack men in general.shame on you bitch",
         "ground_truth": 1,
         "nicola_annotations": 1,
         "hugo_annotations": 0,
         "mika_annotations": 1,
         "aidan_annotations": 1,
         "_deepnote_index_column": 93
        },
        {
         "tweets": "Happiest of birthdays to the main hoe 😏💃🏻 I hope you have a wonderful day angel 🌹💞 @user",
         "ground_truth": 0,
         "nicola_annotations": 0,
         "hugo_annotations": 0,
         "mika_annotations": 0,
         "aidan_annotations": 0,
         "_deepnote_index_column": 94
        },
        {
         "tweets": "Oooohhhh bitch didn't even listen to the dead kennedys what a cunt lol I'm 34 and hate rap",
         "ground_truth": 0,
         "nicola_annotations": 1,
         "hugo_annotations": 0,
         "mika_annotations": 0,
         "aidan_annotations": 1,
         "_deepnote_index_column": 95
        },
        {
         "tweets": "@user Good Luck @user More Americans #WalkAwayFromDemocrat  #WallkAway from OPEN BORDERS Pro illegal #Immigration  Anti American Agenda  #RedNationRising  via @user",
         "ground_truth": 0,
         "nicola_annotations": 1,
         "hugo_annotations": 0,
         "mika_annotations": 0,
         "aidan_annotations": 0,
         "_deepnote_index_column": 96
        },
        {
         "tweets": "Bitch you can't keep up so stop trying",
         "ground_truth": 1,
         "nicola_annotations": 1,
         "hugo_annotations": 0,
         "mika_annotations": 1,
         "aidan_annotations": 0,
         "_deepnote_index_column": 97
        },
        {
         "tweets": "@user @user @user @user @user @user Japan is always operating under the premise that mass migration that can  radically transform the country's demographics is unacceptable. The Alt-Right main point is the n",
         "ground_truth": 0,
         "nicola_annotations": 0,
         "hugo_annotations": 0,
         "mika_annotations": 0,
         "aidan_annotations": 0,
         "_deepnote_index_column": 98
        },
        {
         "tweets": "@user hi Best l see someone fucking girl comment bad in your pic.why you not block the bitch girl name kayleigh corbett",
         "ground_truth": 1,
         "nicola_annotations": 1,
         "hugo_annotations": 0,
         "mika_annotations": 1,
         "aidan_annotations": 1,
         "_deepnote_index_column": 99
        }
       ],
       "rows_bottom": null
      },
      "text/plain": "                                               tweets  ground_truth  \\\n0   Cry baby Hollywood Dems Anti-Trump celebs too ...             0   \n1   @user Do I have to fight another bitch ass loo...             1   \n2   #SouthCarolina has spent millions of dollars t...             0   \n3     Me trying to flirt- I wanna eat your hot pocket             0   \n4   People say, \"Why didn't this or that immigrant...             0   \n..                                                ...           ...   \n95  Oooohhhh bitch didn't even listen to the dead ...             0   \n96  @user Good Luck @user More Americans #WalkAway...             0   \n97             Bitch you can't keep up so stop trying             1   \n98  @user @user @user @user @user @user Japan is a...             0   \n99  @user hi Best l see someone fucking girl comme...             1   \n\n    nicola_annotations  hugo_annotations  mika_annotations  aidan_annotations  \n0                    0                 0                 0                  0  \n1                    1                 0                 1                  1  \n2                    0                 0                 0                  0  \n3                    0                 0                 0                  0  \n4                    0                 0                 0                  0  \n..                 ...               ...               ...                ...  \n95                   1                 0                 0                  1  \n96                   1                 0                 0                  0  \n97                   1                 0                 1                  0  \n98                   0                 0                 0                  0  \n99                   1                 0                 1                  1  \n\n[100 rows x 6 columns]",
      "text/html": "<div>\n<style scoped>\n    .dataframe tbody tr th:only-of-type {\n        vertical-align: middle;\n    }\n\n    .dataframe tbody tr th {\n        vertical-align: top;\n    }\n\n    .dataframe thead th {\n        text-align: right;\n    }\n</style>\n<table border=\"1\" class=\"dataframe\">\n  <thead>\n    <tr style=\"text-align: right;\">\n      <th></th>\n      <th>tweets</th>\n      <th>ground_truth</th>\n      <th>nicola_annotations</th>\n      <th>hugo_annotations</th>\n      <th>mika_annotations</th>\n      <th>aidan_annotations</th>\n    </tr>\n  </thead>\n  <tbody>\n    <tr>\n      <th>0</th>\n      <td>Cry baby Hollywood Dems Anti-Trump celebs too ...</td>\n      <td>0</td>\n      <td>0</td>\n      <td>0</td>\n      <td>0</td>\n      <td>0</td>\n    </tr>\n    <tr>\n      <th>1</th>\n      <td>@user Do I have to fight another bitch ass loo...</td>\n      <td>1</td>\n      <td>1</td>\n      <td>0</td>\n      <td>1</td>\n      <td>1</td>\n    </tr>\n    <tr>\n      <th>2</th>\n      <td>#SouthCarolina has spent millions of dollars t...</td>\n      <td>0</td>\n      <td>0</td>\n      <td>0</td>\n      <td>0</td>\n      <td>0</td>\n    </tr>\n    <tr>\n      <th>3</th>\n      <td>Me trying to flirt- I wanna eat your hot pocket</td>\n      <td>0</td>\n      <td>0</td>\n      <td>0</td>\n      <td>0</td>\n      <td>0</td>\n    </tr>\n    <tr>\n      <th>4</th>\n      <td>People say, \"Why didn't this or that immigrant...</td>\n      <td>0</td>\n      <td>0</td>\n      <td>0</td>\n      <td>0</td>\n      <td>0</td>\n    </tr>\n    <tr>\n      <th>...</th>\n      <td>...</td>\n      <td>...</td>\n      <td>...</td>\n      <td>...</td>\n      <td>...</td>\n      <td>...</td>\n    </tr>\n    <tr>\n      <th>95</th>\n      <td>Oooohhhh bitch didn't even listen to the dead ...</td>\n      <td>0</td>\n      <td>1</td>\n      <td>0</td>\n      <td>0</td>\n      <td>1</td>\n    </tr>\n    <tr>\n      <th>96</th>\n      <td>@user Good Luck @user More Americans #WalkAway...</td>\n      <td>0</td>\n      <td>1</td>\n      <td>0</td>\n      <td>0</td>\n      <td>0</td>\n    </tr>\n    <tr>\n      <th>97</th>\n      <td>Bitch you can't keep up so stop trying</td>\n      <td>1</td>\n      <td>1</td>\n      <td>0</td>\n      <td>1</td>\n      <td>0</td>\n    </tr>\n    <tr>\n      <th>98</th>\n      <td>@user @user @user @user @user @user Japan is a...</td>\n      <td>0</td>\n      <td>0</td>\n      <td>0</td>\n      <td>0</td>\n      <td>0</td>\n    </tr>\n    <tr>\n      <th>99</th>\n      <td>@user hi Best l see someone fucking girl comme...</td>\n      <td>1</td>\n      <td>1</td>\n      <td>0</td>\n      <td>1</td>\n      <td>1</td>\n    </tr>\n  </tbody>\n</table>\n<p>100 rows × 6 columns</p>\n</div>"
     },
     "metadata": {}
    }
   ]
  },
  {
   "cell_type": "code",
   "metadata": {
    "cell_id": "00087-a3566916-c793-47bf-9242-240d72c5abe6",
    "deepnote_to_be_reexecuted": false,
    "execution_millis": 76,
    "execution_start": 1620894411781,
    "source_hash": "f7e552f7",
    "tags": [],
    "deepnote_cell_type": "code"
   },
   "source": "##compare what tweets were unanimously and un-unanimously annotated\nrel_columns=list(annotation_evaluation.columns)\nrel_columns.remove('tweets')\nrel_columns=annotation_evaluation[rel_columns]\nall_true=rel_columns.all(axis=1)\nall_false=-rel_columns.any(axis=1)\nun_unanimous=annotation_evaluation[-all_true & -all_false]\nunanimous=annotation_evaluation[all_true | all_false]\nun_unanimous",
   "execution_count": 62,
   "outputs": [
    {
     "output_type": "execute_result",
     "execution_count": 62,
     "data": {
      "application/vnd.deepnote.dataframe.v2+json": {
       "row_count": 43,
       "column_count": 6,
       "columns": [
        {
         "name": "tweets",
         "dtype": "object",
         "stats": {
          "unique_count": 43,
          "nan_count": 0,
          "categories": [
           {
            "name": "@user Do I have to fight another bitch ass looking cunt today?",
            "count": 1
           },
           {
            "name": "I'm not the one to let people profit on my back... I'll break yours and take what's mine 😘",
            "count": 1
           },
           {
            "name": "41 others",
            "count": 41
           }
          ]
         }
        },
        {
         "name": "ground_truth",
         "dtype": "int64",
         "stats": {
          "unique_count": 2,
          "nan_count": 0,
          "min": "0",
          "max": "1",
          "histogram": [
           {
            "bin_start": 0,
            "bin_end": 0.1,
            "count": 10
           },
           {
            "bin_start": 0.1,
            "bin_end": 0.2,
            "count": 0
           },
           {
            "bin_start": 0.2,
            "bin_end": 0.30000000000000004,
            "count": 0
           },
           {
            "bin_start": 0.30000000000000004,
            "bin_end": 0.4,
            "count": 0
           },
           {
            "bin_start": 0.4,
            "bin_end": 0.5,
            "count": 0
           },
           {
            "bin_start": 0.5,
            "bin_end": 0.6000000000000001,
            "count": 0
           },
           {
            "bin_start": 0.6000000000000001,
            "bin_end": 0.7000000000000001,
            "count": 0
           },
           {
            "bin_start": 0.7000000000000001,
            "bin_end": 0.8,
            "count": 0
           },
           {
            "bin_start": 0.8,
            "bin_end": 0.9,
            "count": 0
           },
           {
            "bin_start": 0.9,
            "bin_end": 1,
            "count": 33
           }
          ]
         }
        },
        {
         "name": "nicola_annotations",
         "dtype": "int64",
         "stats": {
          "unique_count": 2,
          "nan_count": 0,
          "min": "0",
          "max": "1",
          "histogram": [
           {
            "bin_start": 0,
            "bin_end": 0.1,
            "count": 11
           },
           {
            "bin_start": 0.1,
            "bin_end": 0.2,
            "count": 0
           },
           {
            "bin_start": 0.2,
            "bin_end": 0.30000000000000004,
            "count": 0
           },
           {
            "bin_start": 0.30000000000000004,
            "bin_end": 0.4,
            "count": 0
           },
           {
            "bin_start": 0.4,
            "bin_end": 0.5,
            "count": 0
           },
           {
            "bin_start": 0.5,
            "bin_end": 0.6000000000000001,
            "count": 0
           },
           {
            "bin_start": 0.6000000000000001,
            "bin_end": 0.7000000000000001,
            "count": 0
           },
           {
            "bin_start": 0.7000000000000001,
            "bin_end": 0.8,
            "count": 0
           },
           {
            "bin_start": 0.8,
            "bin_end": 0.9,
            "count": 0
           },
           {
            "bin_start": 0.9,
            "bin_end": 1,
            "count": 32
           }
          ]
         }
        },
        {
         "name": "hugo_annotations",
         "dtype": "int64",
         "stats": {
          "unique_count": 2,
          "nan_count": 0,
          "min": "0",
          "max": "1",
          "histogram": [
           {
            "bin_start": 0,
            "bin_end": 0.1,
            "count": 38
           },
           {
            "bin_start": 0.1,
            "bin_end": 0.2,
            "count": 0
           },
           {
            "bin_start": 0.2,
            "bin_end": 0.30000000000000004,
            "count": 0
           },
           {
            "bin_start": 0.30000000000000004,
            "bin_end": 0.4,
            "count": 0
           },
           {
            "bin_start": 0.4,
            "bin_end": 0.5,
            "count": 0
           },
           {
            "bin_start": 0.5,
            "bin_end": 0.6000000000000001,
            "count": 0
           },
           {
            "bin_start": 0.6000000000000001,
            "bin_end": 0.7000000000000001,
            "count": 0
           },
           {
            "bin_start": 0.7000000000000001,
            "bin_end": 0.8,
            "count": 0
           },
           {
            "bin_start": 0.8,
            "bin_end": 0.9,
            "count": 0
           },
           {
            "bin_start": 0.9,
            "bin_end": 1,
            "count": 5
           }
          ]
         }
        },
        {
         "name": "mika_annotations",
         "dtype": "int64",
         "stats": {
          "unique_count": 2,
          "nan_count": 0,
          "min": "0",
          "max": "1",
          "histogram": [
           {
            "bin_start": 0,
            "bin_end": 0.1,
            "count": 16
           },
           {
            "bin_start": 0.1,
            "bin_end": 0.2,
            "count": 0
           },
           {
            "bin_start": 0.2,
            "bin_end": 0.30000000000000004,
            "count": 0
           },
           {
            "bin_start": 0.30000000000000004,
            "bin_end": 0.4,
            "count": 0
           },
           {
            "bin_start": 0.4,
            "bin_end": 0.5,
            "count": 0
           },
           {
            "bin_start": 0.5,
            "bin_end": 0.6000000000000001,
            "count": 0
           },
           {
            "bin_start": 0.6000000000000001,
            "bin_end": 0.7000000000000001,
            "count": 0
           },
           {
            "bin_start": 0.7000000000000001,
            "bin_end": 0.8,
            "count": 0
           },
           {
            "bin_start": 0.8,
            "bin_end": 0.9,
            "count": 0
           },
           {
            "bin_start": 0.9,
            "bin_end": 1,
            "count": 27
           }
          ]
         }
        },
        {
         "name": "aidan_annotations",
         "dtype": "int64",
         "stats": {
          "unique_count": 2,
          "nan_count": 0,
          "min": "0",
          "max": "1",
          "histogram": [
           {
            "bin_start": 0,
            "bin_end": 0.1,
            "count": 19
           },
           {
            "bin_start": 0.1,
            "bin_end": 0.2,
            "count": 0
           },
           {
            "bin_start": 0.2,
            "bin_end": 0.30000000000000004,
            "count": 0
           },
           {
            "bin_start": 0.30000000000000004,
            "bin_end": 0.4,
            "count": 0
           },
           {
            "bin_start": 0.4,
            "bin_end": 0.5,
            "count": 0
           },
           {
            "bin_start": 0.5,
            "bin_end": 0.6000000000000001,
            "count": 0
           },
           {
            "bin_start": 0.6000000000000001,
            "bin_end": 0.7000000000000001,
            "count": 0
           },
           {
            "bin_start": 0.7000000000000001,
            "bin_end": 0.8,
            "count": 0
           },
           {
            "bin_start": 0.8,
            "bin_end": 0.9,
            "count": 0
           },
           {
            "bin_start": 0.9,
            "bin_end": 1,
            "count": 24
           }
          ]
         }
        },
        {
         "name": "_deepnote_index_column",
         "dtype": "int64"
        }
       ],
       "rows_top": [
        {
         "tweets": "@user Do I have to fight another bitch ass looking cunt today?",
         "ground_truth": 1,
         "nicola_annotations": 1,
         "hugo_annotations": 0,
         "mika_annotations": 1,
         "aidan_annotations": 1,
         "_deepnote_index_column": 1
        },
        {
         "tweets": "I'm not the one to let people profit on my back... I'll break yours and take what's mine 😘",
         "ground_truth": 0,
         "nicola_annotations": 0,
         "hugo_annotations": 0,
         "mika_annotations": 1,
         "aidan_annotations": 0,
         "_deepnote_index_column": 5
        },
        {
         "tweets": "Me trying to flirt- You have really nice eyebrows... I'd like to cum on them to see if they wash off",
         "ground_truth": 1,
         "nicola_annotations": 1,
         "hugo_annotations": 0,
         "mika_annotations": 1,
         "aidan_annotations": 0,
         "_deepnote_index_column": 7
        },
        {
         "tweets": "Says man who suggested an actress reported an historic rape to gain more work - you're a fully paid up cunt -",
         "ground_truth": 1,
         "nicola_annotations": 0,
         "hugo_annotations": 0,
         "mika_annotations": 1,
         "aidan_annotations": 0,
         "_deepnote_index_column": 9
        },
        {
         "tweets": "These are not refugees but aggressive male migrants the Med leaders - with exception of @user -want to kindly “share” w-others.  In reality, they already have by previously “waving-through” hundreds of thousands of unknown migrants to roam Europe. @user #V4",
         "ground_truth": 1,
         "nicola_annotations": 1,
         "hugo_annotations": 1,
         "mika_annotations": 1,
         "aidan_annotations": 0,
         "_deepnote_index_column": 11
        },
        {
         "tweets": "There are all these illegal immigrant aliens trying to get to Earth, but our 'Space Force' is protecting us, oh yeah it's up there already! #Deranged",
         "ground_truth": 0,
         "nicola_annotations": 1,
         "hugo_annotations": 0,
         "mika_annotations": 0,
         "aidan_annotations": 0,
         "_deepnote_index_column": 12
        },
        {
         "tweets": "Girls with blonde hair and dark roots make my cock hard for some reason",
         "ground_truth": 1,
         "nicola_annotations": 1,
         "hugo_annotations": 0,
         "mika_annotations": 0,
         "aidan_annotations": 0,
         "_deepnote_index_column": 15
        },
        {
         "tweets": "Some cunt at Walmart went full psycho on me saying how she had no fucking space to put her shit bitch ur taking up the entire conveyor belt",
         "ground_truth": 1,
         "nicola_annotations": 1,
         "hugo_annotations": 0,
         "mika_annotations": 1,
         "aidan_annotations": 1,
         "_deepnote_index_column": 18
        },
        {
         "tweets": "@user  As you fall over yourselves to welcome Syrian refugees ,homes etc why did you not do it for ordinary people are u lambs or goats",
         "ground_truth": 1,
         "nicola_annotations": 0,
         "hugo_annotations": 0,
         "mika_annotations": 1,
         "aidan_annotations": 1,
         "_deepnote_index_column": 19
        },
        {
         "tweets": "@user Its not about Trump kids.When are you putting up all those refugees in your home jk???  YOu know, diversity for thee, but not for me.Your virtue signalling is tiresome.",
         "ground_truth": 1,
         "nicola_annotations": 0,
         "hugo_annotations": 0,
         "mika_annotations": 0,
         "aidan_annotations": 0,
         "_deepnote_index_column": 25
        },
        {
         "tweets": "@user No doubt cory wins most hysterical women his eyes are popping out of his head foaming at the mouth",
         "ground_truth": 0,
         "nicola_annotations": 1,
         "hugo_annotations": 0,
         "mika_annotations": 0,
         "aidan_annotations": 1,
         "_deepnote_index_column": 26
        },
        {
         "tweets": "#FakeNews Alert!! Flu Vaccine PROPAGANDA Agenda - Immigration = Terrorism REPORT",
         "ground_truth": 1,
         "nicola_annotations": 1,
         "hugo_annotations": 1,
         "mika_annotations": 0,
         "aidan_annotations": 1,
         "_deepnote_index_column": 29
        },
        {
         "tweets": "Glad not all men are like that and sad some women are like this...",
         "ground_truth": 1,
         "nicola_annotations": 0,
         "hugo_annotations": 0,
         "mika_annotations": 0,
         "aidan_annotations": 1,
         "_deepnote_index_column": 31
        },
        {
         "tweets": "Don't let the world ending distract you from the fact that you're a hoe.",
         "ground_truth": 0,
         "nicola_annotations": 1,
         "hugo_annotations": 0,
         "mika_annotations": 1,
         "aidan_annotations": 1,
         "_deepnote_index_column": 32
        },
        {
         "tweets": "is this what you would call karma? like how do you as a mexican person vote and support trump, have an illegal immigrant as a wife &amp; act shocked when she gets deported?",
         "ground_truth": 0,
         "nicola_annotations": 0,
         "hugo_annotations": 0,
         "mika_annotations": 1,
         "aidan_annotations": 0,
         "_deepnote_index_column": 33
        },
        {
         "tweets": "@user Let me check your ass out with my cock",
         "ground_truth": 1,
         "nicola_annotations": 1,
         "hugo_annotations": 0,
         "mika_annotations": 1,
         "aidan_annotations": 1,
         "_deepnote_index_column": 34
        },
        {
         "tweets": "People in airport bars always wanna tell you their life stories... STFU Bill, IDGAF about your stupid daughter and whore wife",
         "ground_truth": 1,
         "nicola_annotations": 1,
         "hugo_annotations": 0,
         "mika_annotations": 1,
         "aidan_annotations": 0,
         "_deepnote_index_column": 35
        },
        {
         "tweets": "I’ll still fuck a stupid Bitch up tho",
         "ground_truth": 1,
         "nicola_annotations": 1,
         "hugo_annotations": 0,
         "mika_annotations": 1,
         "aidan_annotations": 0,
         "_deepnote_index_column": 36
        },
        {
         "tweets": "@user USA should stop trading with Mexico, if they dont stop the refugees.",
         "ground_truth": 1,
         "nicola_annotations": 1,
         "hugo_annotations": 1,
         "mika_annotations": 0,
         "aidan_annotations": 0,
         "_deepnote_index_column": 41
        },
        {
         "tweets": "@user The difference is you promote being a slut you dumb bitch you should go fuck yourself and stick some a…",
         "ground_truth": 1,
         "nicola_annotations": 1,
         "hugo_annotations": 0,
         "mika_annotations": 1,
         "aidan_annotations": 1,
         "_deepnote_index_column": 44
        },
        {
         "tweets": "The blue wave is coming if we don't build that damn wall. #BuildThatWall & #MAGA",
         "ground_truth": 1,
         "nicola_annotations": 0,
         "hugo_annotations": 1,
         "mika_annotations": 1,
         "aidan_annotations": 0,
         "_deepnote_index_column": 46
        },
        {
         "tweets": "@user let's get weird! Summertime baby! #FuckBitches",
         "ground_truth": 1,
         "nicola_annotations": 1,
         "hugo_annotations": 0,
         "mika_annotations": 0,
         "aidan_annotations": 1,
         "_deepnote_index_column": 49
        },
        {
         "tweets": "WHO.. ARE. YOOUU? This is not mario kart. You are no princess peach. Get your skank ass up out my lane or I take you off the goddamn road.",
         "ground_truth": 1,
         "nicola_annotations": 1,
         "hugo_annotations": 0,
         "mika_annotations": 1,
         "aidan_annotations": 1,
         "_deepnote_index_column": 50
        },
        {
         "tweets": "Boo, you sweaty whore",
         "ground_truth": 1,
         "nicola_annotations": 1,
         "hugo_annotations": 0,
         "mika_annotations": 1,
         "aidan_annotations": 1,
         "_deepnote_index_column": 51
        },
        {
         "tweets": "someone: breathes ada: dumb whore cunt slut your moms a hoe kill yourself bitch get shot",
         "ground_truth": 1,
         "nicola_annotations": 1,
         "hugo_annotations": 0,
         "mika_annotations": 1,
         "aidan_annotations": 1,
         "_deepnote_index_column": 57
        },
        {
         "tweets": "Now All These Hoes Talking Bout THEY NEED A GUCCI BITCH BE YOSELF",
         "ground_truth": 1,
         "nicola_annotations": 1,
         "hugo_annotations": 0,
         "mika_annotations": 1,
         "aidan_annotations": 1,
         "_deepnote_index_column": 59
        },
        {
         "tweets": "Worldbank reports that in the next 30 years many refugees have to leave her homeland, specially in Africa. Who will feed them ? Is Europe able to shoot them down and protect her own homeland, before it will destroyed from Africans ?",
         "ground_truth": 1,
         "nicola_annotations": 1,
         "hugo_annotations": 1,
         "mika_annotations": 0,
         "aidan_annotations": 1,
         "_deepnote_index_column": 61
        },
        {
         "tweets": "@user Hope one of these crazy ppl assassinate Trump the stupid son of a bitch my free speech he has no heart the way he is doing the American ppl",
         "ground_truth": 0,
         "nicola_annotations": 0,
         "hugo_annotations": 0,
         "mika_annotations": 0,
         "aidan_annotations": 1,
         "_deepnote_index_column": 62
        },
        {
         "tweets": "@user Must take decisive action for sealing borders with B'desh to prevent rampant illegal migration encouraged by one community",
         "ground_truth": 1,
         "nicola_annotations": 1,
         "hugo_annotations": 0,
         "mika_annotations": 0,
         "aidan_annotations": 0,
         "_deepnote_index_column": 66
        },
        {
         "tweets": "i use to get sky at my dads house but his whore girlfriend never use to let me watch it",
         "ground_truth": 1,
         "nicola_annotations": 1,
         "hugo_annotations": 0,
         "mika_annotations": 0,
         "aidan_annotations": 1,
         "_deepnote_index_column": 69
        },
        {
         "tweets": "@user LOL, you do dress like a slut :-) you look excellent.It entertains me that you have the slutty dressing covered while I do the slutty acting",
         "ground_truth": 1,
         "nicola_annotations": 1,
         "hugo_annotations": 0,
         "mika_annotations": 1,
         "aidan_annotations": 1,
         "_deepnote_index_column": 71
        },
        {
         "tweets": "Went to @user stupid bitch put one in upside down one side ways. #wtf £6 we'll spent #cunt",
         "ground_truth": 1,
         "nicola_annotations": 1,
         "hugo_annotations": 0,
         "mika_annotations": 1,
         "aidan_annotations": 1,
         "_deepnote_index_column": 74
        },
        {
         "tweets": "@user @user Steinle, who was murdered by an illegal Mexican immigrant on July 1, 2015.",
         "ground_truth": 1,
         "nicola_annotations": 0,
         "hugo_annotations": 0,
         "mika_annotations": 0,
         "aidan_annotations": 0,
         "_deepnote_index_column": 76
        },
        {
         "tweets": "Now since all Indians been mapped thru Aadhar Card. Flush out illegal immigrants,whose No has grown substantially in last 10Y.",
         "ground_truth": 1,
         "nicola_annotations": 1,
         "hugo_annotations": 0,
         "mika_annotations": 1,
         "aidan_annotations": 1,
         "_deepnote_index_column": 80
        },
        {
         "tweets": "Seriously. Get these people out of there. If we can't due to current EU or UN directives then we can at least stem Western to Western migration to get them to safety.",
         "ground_truth": 1,
         "nicola_annotations": 0,
         "hugo_annotations": 0,
         "mika_annotations": 1,
         "aidan_annotations": 0,
         "_deepnote_index_column": 82
        },
        {
         "tweets": "WHO'S THE WHORE NOW YOU PIECE OF SHIT",
         "ground_truth": 1,
         "nicola_annotations": 1,
         "hugo_annotations": 0,
         "mika_annotations": 1,
         "aidan_annotations": 1,
         "_deepnote_index_column": 83
        },
        {
         "tweets": "Son- mom, how did you and dad meet? Mom- he had on gray sweats and his dick print was fleekin so I slid in his DM",
         "ground_truth": 0,
         "nicola_annotations": 1,
         "hugo_annotations": 0,
         "mika_annotations": 0,
         "aidan_annotations": 0,
         "_deepnote_index_column": 89
        },
        {
         "tweets": "RT @user It's April fools day but I clown you bitches every day. Imma take the day off, have a good day, see you tomorrow (Stolen fr…",
         "ground_truth": 0,
         "nicola_annotations": 0,
         "hugo_annotations": 0,
         "mika_annotations": 1,
         "aidan_annotations": 0,
         "_deepnote_index_column": 92
        },
        {
         "tweets": "@user You call it whatever you want -You praise hoes and and women in the wrong moral leaf and attack men in general.shame on you bitch",
         "ground_truth": 1,
         "nicola_annotations": 1,
         "hugo_annotations": 0,
         "mika_annotations": 1,
         "aidan_annotations": 1,
         "_deepnote_index_column": 93
        },
        {
         "tweets": "Oooohhhh bitch didn't even listen to the dead kennedys what a cunt lol I'm 34 and hate rap",
         "ground_truth": 0,
         "nicola_annotations": 1,
         "hugo_annotations": 0,
         "mika_annotations": 0,
         "aidan_annotations": 1,
         "_deepnote_index_column": 95
        },
        {
         "tweets": "@user Good Luck @user More Americans #WalkAwayFromDemocrat  #WallkAway from OPEN BORDERS Pro illegal #Immigration  Anti American Agenda  #RedNationRising  via @user",
         "ground_truth": 0,
         "nicola_annotations": 1,
         "hugo_annotations": 0,
         "mika_annotations": 0,
         "aidan_annotations": 0,
         "_deepnote_index_column": 96
        },
        {
         "tweets": "Bitch you can't keep up so stop trying",
         "ground_truth": 1,
         "nicola_annotations": 1,
         "hugo_annotations": 0,
         "mika_annotations": 1,
         "aidan_annotations": 0,
         "_deepnote_index_column": 97
        },
        {
         "tweets": "@user hi Best l see someone fucking girl comment bad in your pic.why you not block the bitch girl name kayleigh corbett",
         "ground_truth": 1,
         "nicola_annotations": 1,
         "hugo_annotations": 0,
         "mika_annotations": 1,
         "aidan_annotations": 1,
         "_deepnote_index_column": 99
        }
       ],
       "rows_bottom": null
      },
      "text/plain": "                                               tweets  ground_truth  \\\n1   @user Do I have to fight another bitch ass loo...             1   \n5   I'm not the one to let people profit on my bac...             0   \n7   Me trying to flirt- You have really nice eyebr...             1   \n9   Says man who suggested an actress reported an ...             1   \n11  These are not refugees but aggressive male mig...             1   \n12  There are all these illegal immigrant aliens t...             0   \n15  Girls with blonde hair and dark roots make my ...             1   \n18  Some cunt at Walmart went full psycho on me sa...             1   \n19  @user  As you fall over yourselves to welcome ...             1   \n25  @user Its not about Trump kids.When are you pu...             1   \n26  @user No doubt cory wins most hysterical women...             0   \n29  #FakeNews Alert!! Flu Vaccine PROPAGANDA Agend...             1   \n31  Glad not all men are like that and sad some wo...             1   \n32  Don't let the world ending distract you from t...             0   \n33  is this what you would call karma? like how do...             0   \n34       @user Let me check your ass out with my cock             1   \n35  People in airport bars always wanna tell you t...             1   \n36              I’ll still fuck a stupid Bitch up tho             1   \n41  @user USA should stop trading with Mexico, if ...             1   \n44  @user The difference is you promote being a sl...             1   \n46  The blue wave is coming if we don't build that...             1   \n49  @user let's get weird! Summertime baby! #FuckB...             1   \n50  WHO.. ARE. YOOUU? This is not mario kart. You ...             1   \n51                              Boo, you sweaty whore             1   \n57  someone: breathes ada: dumb whore cunt slut yo...             1   \n59  Now All These Hoes Talking Bout THEY NEED A GU...             1   \n61  Worldbank reports that in the next 30 years ma...             1   \n62  @user Hope one of these crazy ppl assassinate ...             0   \n66  @user Must take decisive action for sealing bo...             1   \n69  i use to get sky at my dads house but his whor...             1   \n71  @user LOL, you do dress like a slut :-) you lo...             1   \n74  Went to @user stupid bitch put one in upside d...             1   \n76  @user @user Steinle, who was murdered by an il...             1   \n80  Now since all Indians been mapped thru Aadhar ...             1   \n82  Seriously. Get these people out of there. If w...             1   \n83              WHO'S THE WHORE NOW YOU PIECE OF SHIT             1   \n89  Son- mom, how did you and dad meet? Mom- he ha...             0   \n92  RT @user It's April fools day but I clown you ...             0   \n93  @user You call it whatever you want -You prais...             1   \n95  Oooohhhh bitch didn't even listen to the dead ...             0   \n96  @user Good Luck @user More Americans #WalkAway...             0   \n97             Bitch you can't keep up so stop trying             1   \n99  @user hi Best l see someone fucking girl comme...             1   \n\n    nicola_annotations  hugo_annotations  mika_annotations  aidan_annotations  \n1                    1                 0                 1                  1  \n5                    0                 0                 1                  0  \n7                    1                 0                 1                  0  \n9                    0                 0                 1                  0  \n11                   1                 1                 1                  0  \n12                   1                 0                 0                  0  \n15                   1                 0                 0                  0  \n18                   1                 0                 1                  1  \n19                   0                 0                 1                  1  \n25                   0                 0                 0                  0  \n26                   1                 0                 0                  1  \n29                   1                 1                 0                  1  \n31                   0                 0                 0                  1  \n32                   1                 0                 1                  1  \n33                   0                 0                 1                  0  \n34                   1                 0                 1                  1  \n35                   1                 0                 1                  0  \n36                   1                 0                 1                  0  \n41                   1                 1                 0                  0  \n44                   1                 0                 1                  1  \n46                   0                 1                 1                  0  \n49                   1                 0                 0                  1  \n50                   1                 0                 1                  1  \n51                   1                 0                 1                  1  \n57                   1                 0                 1                  1  \n59                   1                 0                 1                  1  \n61                   1                 1                 0                  1  \n62                   0                 0                 0                  1  \n66                   1                 0                 0                  0  \n69                   1                 0                 0                  1  \n71                   1                 0                 1                  1  \n74                   1                 0                 1                  1  \n76                   0                 0                 0                  0  \n80                   1                 0                 1                  1  \n82                   0                 0                 1                  0  \n83                   1                 0                 1                  1  \n89                   1                 0                 0                  0  \n92                   0                 0                 1                  0  \n93                   1                 0                 1                  1  \n95                   1                 0                 0                  1  \n96                   1                 0                 0                  0  \n97                   1                 0                 1                  0  \n99                   1                 0                 1                  1  ",
      "text/html": "<div>\n<style scoped>\n    .dataframe tbody tr th:only-of-type {\n        vertical-align: middle;\n    }\n\n    .dataframe tbody tr th {\n        vertical-align: top;\n    }\n\n    .dataframe thead th {\n        text-align: right;\n    }\n</style>\n<table border=\"1\" class=\"dataframe\">\n  <thead>\n    <tr style=\"text-align: right;\">\n      <th></th>\n      <th>tweets</th>\n      <th>ground_truth</th>\n      <th>nicola_annotations</th>\n      <th>hugo_annotations</th>\n      <th>mika_annotations</th>\n      <th>aidan_annotations</th>\n    </tr>\n  </thead>\n  <tbody>\n    <tr>\n      <th>1</th>\n      <td>@user Do I have to fight another bitch ass loo...</td>\n      <td>1</td>\n      <td>1</td>\n      <td>0</td>\n      <td>1</td>\n      <td>1</td>\n    </tr>\n    <tr>\n      <th>5</th>\n      <td>I'm not the one to let people profit on my bac...</td>\n      <td>0</td>\n      <td>0</td>\n      <td>0</td>\n      <td>1</td>\n      <td>0</td>\n    </tr>\n    <tr>\n      <th>7</th>\n      <td>Me trying to flirt- You have really nice eyebr...</td>\n      <td>1</td>\n      <td>1</td>\n      <td>0</td>\n      <td>1</td>\n      <td>0</td>\n    </tr>\n    <tr>\n      <th>9</th>\n      <td>Says man who suggested an actress reported an ...</td>\n      <td>1</td>\n      <td>0</td>\n      <td>0</td>\n      <td>1</td>\n      <td>0</td>\n    </tr>\n    <tr>\n      <th>11</th>\n      <td>These are not refugees but aggressive male mig...</td>\n      <td>1</td>\n      <td>1</td>\n      <td>1</td>\n      <td>1</td>\n      <td>0</td>\n    </tr>\n    <tr>\n      <th>12</th>\n      <td>There are all these illegal immigrant aliens t...</td>\n      <td>0</td>\n      <td>1</td>\n      <td>0</td>\n      <td>0</td>\n      <td>0</td>\n    </tr>\n    <tr>\n      <th>15</th>\n      <td>Girls with blonde hair and dark roots make my ...</td>\n      <td>1</td>\n      <td>1</td>\n      <td>0</td>\n      <td>0</td>\n      <td>0</td>\n    </tr>\n    <tr>\n      <th>18</th>\n      <td>Some cunt at Walmart went full psycho on me sa...</td>\n      <td>1</td>\n      <td>1</td>\n      <td>0</td>\n      <td>1</td>\n      <td>1</td>\n    </tr>\n    <tr>\n      <th>19</th>\n      <td>@user  As you fall over yourselves to welcome ...</td>\n      <td>1</td>\n      <td>0</td>\n      <td>0</td>\n      <td>1</td>\n      <td>1</td>\n    </tr>\n    <tr>\n      <th>25</th>\n      <td>@user Its not about Trump kids.When are you pu...</td>\n      <td>1</td>\n      <td>0</td>\n      <td>0</td>\n      <td>0</td>\n      <td>0</td>\n    </tr>\n    <tr>\n      <th>26</th>\n      <td>@user No doubt cory wins most hysterical women...</td>\n      <td>0</td>\n      <td>1</td>\n      <td>0</td>\n      <td>0</td>\n      <td>1</td>\n    </tr>\n    <tr>\n      <th>29</th>\n      <td>#FakeNews Alert!! Flu Vaccine PROPAGANDA Agend...</td>\n      <td>1</td>\n      <td>1</td>\n      <td>1</td>\n      <td>0</td>\n      <td>1</td>\n    </tr>\n    <tr>\n      <th>31</th>\n      <td>Glad not all men are like that and sad some wo...</td>\n      <td>1</td>\n      <td>0</td>\n      <td>0</td>\n      <td>0</td>\n      <td>1</td>\n    </tr>\n    <tr>\n      <th>32</th>\n      <td>Don't let the world ending distract you from t...</td>\n      <td>0</td>\n      <td>1</td>\n      <td>0</td>\n      <td>1</td>\n      <td>1</td>\n    </tr>\n    <tr>\n      <th>33</th>\n      <td>is this what you would call karma? like how do...</td>\n      <td>0</td>\n      <td>0</td>\n      <td>0</td>\n      <td>1</td>\n      <td>0</td>\n    </tr>\n    <tr>\n      <th>34</th>\n      <td>@user Let me check your ass out with my cock</td>\n      <td>1</td>\n      <td>1</td>\n      <td>0</td>\n      <td>1</td>\n      <td>1</td>\n    </tr>\n    <tr>\n      <th>35</th>\n      <td>People in airport bars always wanna tell you t...</td>\n      <td>1</td>\n      <td>1</td>\n      <td>0</td>\n      <td>1</td>\n      <td>0</td>\n    </tr>\n    <tr>\n      <th>36</th>\n      <td>I’ll still fuck a stupid Bitch up tho</td>\n      <td>1</td>\n      <td>1</td>\n      <td>0</td>\n      <td>1</td>\n      <td>0</td>\n    </tr>\n    <tr>\n      <th>41</th>\n      <td>@user USA should stop trading with Mexico, if ...</td>\n      <td>1</td>\n      <td>1</td>\n      <td>1</td>\n      <td>0</td>\n      <td>0</td>\n    </tr>\n    <tr>\n      <th>44</th>\n      <td>@user The difference is you promote being a sl...</td>\n      <td>1</td>\n      <td>1</td>\n      <td>0</td>\n      <td>1</td>\n      <td>1</td>\n    </tr>\n    <tr>\n      <th>46</th>\n      <td>The blue wave is coming if we don't build that...</td>\n      <td>1</td>\n      <td>0</td>\n      <td>1</td>\n      <td>1</td>\n      <td>0</td>\n    </tr>\n    <tr>\n      <th>49</th>\n      <td>@user let's get weird! Summertime baby! #FuckB...</td>\n      <td>1</td>\n      <td>1</td>\n      <td>0</td>\n      <td>0</td>\n      <td>1</td>\n    </tr>\n    <tr>\n      <th>50</th>\n      <td>WHO.. ARE. YOOUU? This is not mario kart. You ...</td>\n      <td>1</td>\n      <td>1</td>\n      <td>0</td>\n      <td>1</td>\n      <td>1</td>\n    </tr>\n    <tr>\n      <th>51</th>\n      <td>Boo, you sweaty whore</td>\n      <td>1</td>\n      <td>1</td>\n      <td>0</td>\n      <td>1</td>\n      <td>1</td>\n    </tr>\n    <tr>\n      <th>57</th>\n      <td>someone: breathes ada: dumb whore cunt slut yo...</td>\n      <td>1</td>\n      <td>1</td>\n      <td>0</td>\n      <td>1</td>\n      <td>1</td>\n    </tr>\n    <tr>\n      <th>59</th>\n      <td>Now All These Hoes Talking Bout THEY NEED A GU...</td>\n      <td>1</td>\n      <td>1</td>\n      <td>0</td>\n      <td>1</td>\n      <td>1</td>\n    </tr>\n    <tr>\n      <th>61</th>\n      <td>Worldbank reports that in the next 30 years ma...</td>\n      <td>1</td>\n      <td>1</td>\n      <td>1</td>\n      <td>0</td>\n      <td>1</td>\n    </tr>\n    <tr>\n      <th>62</th>\n      <td>@user Hope one of these crazy ppl assassinate ...</td>\n      <td>0</td>\n      <td>0</td>\n      <td>0</td>\n      <td>0</td>\n      <td>1</td>\n    </tr>\n    <tr>\n      <th>66</th>\n      <td>@user Must take decisive action for sealing bo...</td>\n      <td>1</td>\n      <td>1</td>\n      <td>0</td>\n      <td>0</td>\n      <td>0</td>\n    </tr>\n    <tr>\n      <th>69</th>\n      <td>i use to get sky at my dads house but his whor...</td>\n      <td>1</td>\n      <td>1</td>\n      <td>0</td>\n      <td>0</td>\n      <td>1</td>\n    </tr>\n    <tr>\n      <th>71</th>\n      <td>@user LOL, you do dress like a slut :-) you lo...</td>\n      <td>1</td>\n      <td>1</td>\n      <td>0</td>\n      <td>1</td>\n      <td>1</td>\n    </tr>\n    <tr>\n      <th>74</th>\n      <td>Went to @user stupid bitch put one in upside d...</td>\n      <td>1</td>\n      <td>1</td>\n      <td>0</td>\n      <td>1</td>\n      <td>1</td>\n    </tr>\n    <tr>\n      <th>76</th>\n      <td>@user @user Steinle, who was murdered by an il...</td>\n      <td>1</td>\n      <td>0</td>\n      <td>0</td>\n      <td>0</td>\n      <td>0</td>\n    </tr>\n    <tr>\n      <th>80</th>\n      <td>Now since all Indians been mapped thru Aadhar ...</td>\n      <td>1</td>\n      <td>1</td>\n      <td>0</td>\n      <td>1</td>\n      <td>1</td>\n    </tr>\n    <tr>\n      <th>82</th>\n      <td>Seriously. Get these people out of there. If w...</td>\n      <td>1</td>\n      <td>0</td>\n      <td>0</td>\n      <td>1</td>\n      <td>0</td>\n    </tr>\n    <tr>\n      <th>83</th>\n      <td>WHO'S THE WHORE NOW YOU PIECE OF SHIT</td>\n      <td>1</td>\n      <td>1</td>\n      <td>0</td>\n      <td>1</td>\n      <td>1</td>\n    </tr>\n    <tr>\n      <th>89</th>\n      <td>Son- mom, how did you and dad meet? Mom- he ha...</td>\n      <td>0</td>\n      <td>1</td>\n      <td>0</td>\n      <td>0</td>\n      <td>0</td>\n    </tr>\n    <tr>\n      <th>92</th>\n      <td>RT @user It's April fools day but I clown you ...</td>\n      <td>0</td>\n      <td>0</td>\n      <td>0</td>\n      <td>1</td>\n      <td>0</td>\n    </tr>\n    <tr>\n      <th>93</th>\n      <td>@user You call it whatever you want -You prais...</td>\n      <td>1</td>\n      <td>1</td>\n      <td>0</td>\n      <td>1</td>\n      <td>1</td>\n    </tr>\n    <tr>\n      <th>95</th>\n      <td>Oooohhhh bitch didn't even listen to the dead ...</td>\n      <td>0</td>\n      <td>1</td>\n      <td>0</td>\n      <td>0</td>\n      <td>1</td>\n    </tr>\n    <tr>\n      <th>96</th>\n      <td>@user Good Luck @user More Americans #WalkAway...</td>\n      <td>0</td>\n      <td>1</td>\n      <td>0</td>\n      <td>0</td>\n      <td>0</td>\n    </tr>\n    <tr>\n      <th>97</th>\n      <td>Bitch you can't keep up so stop trying</td>\n      <td>1</td>\n      <td>1</td>\n      <td>0</td>\n      <td>1</td>\n      <td>0</td>\n    </tr>\n    <tr>\n      <th>99</th>\n      <td>@user hi Best l see someone fucking girl comme...</td>\n      <td>1</td>\n      <td>1</td>\n      <td>0</td>\n      <td>1</td>\n      <td>1</td>\n    </tr>\n  </tbody>\n</table>\n</div>"
     },
     "metadata": {}
    }
   ]
  },
  {
   "cell_type": "code",
   "metadata": {
    "cell_id": "00087-cfdedb70-28f4-40e9-b489-0c2610ad43f5",
    "deepnote_to_be_reexecuted": false,
    "execution_millis": 64,
    "execution_start": 1620894411851,
    "source_hash": "7426c194",
    "tags": [],
    "deepnote_cell_type": "code"
   },
   "source": "from sklearn.metrics import confusion_matrix\nfrom sklearn.metrics import classification_report\n\nfor person in list(annotation_evaluation)[-4:]:\n    print('#'*3 + ' ' + person.replace('_',' ').title() + ' ' + '#'*3)    \n    print(pd.DataFrame(confusion_matrix(annotation_evaluation['ground_truth'], annotation_evaluation[person]), columns=['Predicted Non-Hate', 'Predicted Hate'], index=['Non-Hate', 'Hate']))\n    print('\\n')\n    \n    print(classification_report(annotation_evaluation['ground_truth'], annotation_evaluation[person], target_names=[\"Non-Hate\",\"Hate\"]))\n    print('\\n')",
   "execution_count": 63,
   "outputs": [
    {
     "name": "stdout",
     "text": "### Nicola Annotations ###\n          Predicted Non-Hate  Predicted Hate\nNon-Hate                  51               6\nHate                       7              36\n\n\n              precision    recall  f1-score   support\n\n    Non-Hate       0.88      0.89      0.89        57\n        Hate       0.86      0.84      0.85        43\n\n    accuracy                           0.87       100\n   macro avg       0.87      0.87      0.87       100\nweighted avg       0.87      0.87      0.87       100\n\n\n\n### Hugo Annotations ###\n          Predicted Non-Hate  Predicted Hate\nNon-Hate                  57               0\nHate                      28              15\n\n\n              precision    recall  f1-score   support\n\n    Non-Hate       0.67      1.00      0.80        57\n        Hate       1.00      0.35      0.52        43\n\n    accuracy                           0.72       100\n   macro avg       0.84      0.67      0.66       100\nweighted avg       0.81      0.72      0.68       100\n\n\n\n### Mika Annotations ###\n          Predicted Non-Hate  Predicted Hate\nNon-Hate                  53               4\nHate                      10              33\n\n\n              precision    recall  f1-score   support\n\n    Non-Hate       0.84      0.93      0.88        57\n        Hate       0.89      0.77      0.82        43\n\n    accuracy                           0.86       100\n   macro avg       0.87      0.85      0.85       100\nweighted avg       0.86      0.86      0.86       100\n\n\n\n### Aidan Annotations ###\n          Predicted Non-Hate  Predicted Hate\nNon-Hate                  53               4\nHate                      13              30\n\n\n              precision    recall  f1-score   support\n\n    Non-Hate       0.80      0.93      0.86        57\n        Hate       0.88      0.70      0.78        43\n\n    accuracy                           0.83       100\n   macro avg       0.84      0.81      0.82       100\nweighted avg       0.84      0.83      0.83       100\n\n\n\n",
     "output_type": "stream"
    }
   ]
  },
  {
   "cell_type": "markdown",
   "source": "*TASK 4*\n# Automatic Prediction XXX\n---",
   "metadata": {
    "cell_id": "00013-fc964c9b-2d90-48f7-93b6-89e1c191c669",
    "tags": [],
    "deepnote_cell_type": "markdown"
   }
  },
  {
   "cell_type": "code",
   "metadata": {
    "tags": [],
    "cell_id": "00092-c99a7c12-bc2f-4d05-98db-93e8662aa95b",
    "deepnote_to_be_reexecuted": false,
    "source_hash": "796d6aa0",
    "execution_start": 1620894411912,
    "execution_millis": 11,
    "deepnote_cell_type": "code"
   },
   "source": "from sklearn.feature_extraction.text import CountVectorizer\nfrom sklearn.feature_extraction.text import TfidfTransformer\nfrom sklearn.naive_bayes import MultinomialNB",
   "execution_count": 64,
   "outputs": []
  },
  {
   "cell_type": "code",
   "metadata": {
    "tags": [],
    "cell_id": "00093-8f3b668a-37d7-4f76-b73a-054dfcf3ea36",
    "deepnote_to_be_reexecuted": false,
    "source_hash": "3402253",
    "execution_start": 1620894411929,
    "execution_millis": 18,
    "deepnote_cell_type": "code"
   },
   "source": "len(DATA['processed']['hate']['train_labels'])",
   "execution_count": 65,
   "outputs": [
    {
     "output_type": "execute_result",
     "execution_count": 65,
     "data": {
      "text/plain": "9000"
     },
     "metadata": {}
    }
   ]
  },
  {
   "cell_type": "code",
   "metadata": {
    "tags": [],
    "cell_id": "00095-aa26f63b-6354-4e31-98e9-da24301097da",
    "deepnote_to_be_reexecuted": false,
    "source_hash": "8c70b704",
    "execution_start": 1620894411943,
    "execution_millis": 13,
    "deepnote_cell_type": "code"
   },
   "source": "VOCABULARY['hate'].shape",
   "execution_count": 66,
   "outputs": [
    {
     "output_type": "execute_result",
     "execution_count": 66,
     "data": {
      "text/plain": "(18600, 5)"
     },
     "metadata": {}
    }
   ]
  },
  {
   "cell_type": "code",
   "source": "print(VOCABULARY['hate'])",
   "metadata": {
    "tags": [],
    "cell_id": "00096-24ead3b8-0020-442d-a8bd-4659eb49e7e2",
    "deepnote_to_be_reexecuted": false,
    "source_hash": "860687ac",
    "execution_start": 1620894526112,
    "execution_millis": 14,
    "deepnote_cell_type": "code"
   },
   "outputs": [
    {
     "name": "stdout",
     "text": "                   index  frequency   rank  normalised_frequency  \\\n0                      .       6277      1              0.029050   \n1                  @user       6014      2              0.027833   \n2                    the       5492      3              0.025417   \n3                     to       4931      4              0.022821   \n4                      ,       4356      5              0.020160   \n...                  ...        ...    ...                   ...   \n18595              weren          1  18596              0.000005   \n18596  miaow-miaow-miaow          1  18597              0.000005   \n18597              aaaaw          1  18598              0.000005   \n18598          food-hole          1  18599              0.000005   \n18599            pic.why          1  18600              0.000005   \n\n       cumulative_frequency  \n0                  0.029050  \n1                  0.056883  \n2                  0.082300  \n3                  0.105120  \n4                  0.125280  \n...                     ...  \n18595              0.999981  \n18596              0.999986  \n18597              0.999991  \n18598              0.999995  \n18599              1.000000  \n\n[18600 rows x 5 columns]\n",
     "output_type": "stream"
    }
   ],
   "execution_count": 75
  },
  {
   "cell_type": "code",
   "metadata": {
    "tags": [],
    "cell_id": "00095-661b1df9-f391-45ef-b7df-66f62d55f965",
    "deepnote_to_be_reexecuted": false,
    "source_hash": "90fcb158",
    "execution_start": 1620894411962,
    "execution_millis": 316,
    "deepnote_cell_type": "code"
   },
   "source": "# bag of words\nfor tweet in DATA['processed']['hate']['train_text']:\n    tweet_freq = {VOCABULARY['hate']['index'][i]: 0 for i in range(VOCABULARY['hate'].shape[0])}\n    for token in tweet:\n        tweet_freq[token] += 1\n    print(tweet_freq)\n    break",
   "execution_count": 67,
   "outputs": [
    {
     "name": "stdout",
     "text": "{'.': 1, '@user': 1, 'the': 0, 'to': 0, ',': 0, 'you': 2, 'a': 0, 'and': 0, 'of': 0, 'is': 0, 'in': 0, 'not': 1, '!': 0, 'are': 1, 'for': 0, 'i': 0, 'that': 0, 'it': 0, '?': 0, \"'\": 0, 'on': 1, 'they': 0, 'bitch': 0, 'all': 0, 'this': 0, 'do': 0, 'have': 0, 'your': 0, '’': 0, '-': 1, 'be': 0, 'with': 0, '...': 0, 'women': 0, 'we': 0, ':': 0, 'refugees': 0, 'will': 0, '\"': 0, 'me': 0, 'from': 0, 'when': 0, 'my': 0, 'who': 0, 'like': 0, 'if': 0, '&': 0, 'immigrant': 0, 'but': 0, 'their': 0, 'about': 0, 'no': 0, 's': 0, 'as': 0, 'so': 0, 'by': 1, 'illegal': 0, 'up': 0, 'what': 0, 'at': 0, 'our': 0, 'just': 0, 'or': 0, 'immigration': 0, 'men': 0, 'get': 0, 'people': 0, 'migrants': 0, 'them': 0, 'her': 0, 'can': 0, 'was': 0, 'an': 0, 'woman': 0, 'cunt': 0, 'rape': 0, 'how': 0, 'more': 0, 'want': 0, 'out': 0, 'us': 0, 'go': 0, 'I': 0, 'she': 0, 'he': 0, 'am': 0, 'has': 0, 'whore': 0, '#buildthatwall': 0, 'immigrants': 0, 'one': 0, 'fuck': 0, 'would': 0, 'because': 0, '…': 1, 'why': 0, 'time': 0, 'should': 0, 'now': 0, 'know': 0, '“': 0, 'country': 0, 'ass': 0, '”': 0, 'hysterical': 1, '/': 0, 'back': 0, 'stop': 0, 'fucking': 0, 'via': 0, 't': 0, 'hoe': 0, 'refugee': 0, ')': 0, 'there': 0, 'make': 0, 'only': 0, 'home': 0, 'trump': 0, 'his': 0, 'here': 0, 'girl': 0, 'being': 0, 'over': 0, 'need': 0, 'stupid': 0, '(': 0, '#maga': 0, 'new': 1, 'take': 0, 'dick': 0, 'some': 0, 'say': 0, 'these': 0, 'children': 0, '😂': 0, 'did': 0, 'right': 0, 'into': 0, 'after': 0, 'skank': 0, 'think': 0, 'than': 0, 'good': 0, 'never': 0, '#buildthewall': 0, 'shit': 0, 'let': 0, 'then': 0, 'migrant': 0, 'pussy': 0, 'u': 0, 'going': 0, 'free': 0, 'does': 0, 'many': 0, 'cannot': 0, 'see': 0, 'world': 0, 'been': 0, 'its': 0, 'were': 0, 'off': 0, 'too': 0, 'man': 0, 'life': 0, 'white': 0, 'help': 0, 'border': 0, 'europe': 0, '‘': 0, 'other': 0, 'come': 0, 'slut': 0, '..': 0, 'even': 0, 'hole': 0, 'must': 0, '*': 0, 'muslim': 0, 'where': 0, 'eu': 0, 'got': 0, 'first': 0, 'against': 0, 'any': 0, '#immigration': 0, '#trump': 0, 'down': 0, 'still': 0, 'those': 0, 'really': 0, 'love': 0, 'had': 0, 'countries': 0, 'most': 0, 'support': 0, 'says': 0, 'give': 0, 'way': 0, '2': 0, 'him': 0, 'year': 0, '<=LINK=>': 0, 'look': 0, 'call': 0, 'please': 0, 'said': 0, 'don': 0, 'which': 0, '#nodaca': 0, 'migration': 0, 'much': 0, 'shut': 0, 'ðÿ': 0, 'kids': 0, 'own': 0, 'always': 0, 'also': 0, '#womensuck': 0, 'welcome': 0, 'illegals': 0, 'families': 0, 'american': 0, 'every': 0, 'tell': 0, 'keep': 0, '$': 0, 'while': 0, 'could': 0, 'america': 0, 'work': 0, 'today': 0, ';': 0, 'ever': 0, 'someone': 0, 'same': 0, '%': 0, 'rights': 0, 'another': 0, 'hate': 0, 'wall': 0, '1': 0, 'speech': 0, 'last': 0, 'better': 0, 'day': 0, 'watch': 0, 'rt': 0, 'girls': 0, 'again': 0, 'stay': 0, 'germany': 0, 'well': 0, 'government': 0, 'law': 0, 'years': 0, 'end': 0, 'money': 0, 'before': 0, 'care': 0, 'big': 0, 'real': 0, 'trying': 0, '#noamnesty': 0, 'vote': 0, 'bitches': 0, 'dumb': 0, 'open': 0, 'wants': 0, '#stoptheinvasion': 0, 'child': 0, 'family': 0, 'little': 0, 'old': 0, 'nothing': 0, 'left': 0, 'president': 0, 'parents': 0, 'bad': 0, 'great': 0, 'around': 0, 'show': 0, 'mass': 0, 'put': 0, 'without': 0, 'ram': 0, 'away': 0, 'americans': 0, 'talk': 0, 'called': 0, 'pay': 0, 'aliens': 0, 're': 0, 'enough': 0, 'anyone': 0, 'such': 0, 'legal': 0, 'hope': 0, 'next': 0, 'find': 0, '3': 0, 'syrian': 0, 'ur': 0, 'uk': 0, 'police': 0, 'needs': 0, 'un': 0, 'state': 0, 'oh': 0, 'usa': 0, 'getting': 0, 'stfu': 0, 'deport': 0, '#sendthemback': 0, 'yes': 0, 'policy': 0, 'made': 0, 'send': 0, 'sure': 0, '‡': 0, '#deportthemall': 0, 'citizens': 0, '˜': 0, 'laws': 0, 'mean': 0, 'doing': 0, 'borders': 0, '️': 0, 'alien': 0, 'start': 0, 'm': 0, 'italy': 0, 'use': 0, 'feel': 0, 'welfare': 0, 'through': 0, 'believe': 0, '#refugees': 0, 'saying': 0, 'r': 0, 'live': 0, 'deported': 0, 'million': 0, 'things': 0, 'guys': 0, 'calling': 0, 'two': 0, 'lol': 0, 'black': 0, '—': 0, 'ice': 0, 'thank': 0, 'already': 0, 'week': 0, 'story': 0, 'yourself': 0, 'sexual': 0, 'report': 0, 'return': 0, 'something': 0, 'german': 0, 'coming': 0, 'god': 0, 'friends': 0, 'sex': 0, 'problem': 0, 'very': 0, 'house': 0, '#rednationrising': 0, 'hard': 0, 'yet': 0, 'wrong': 0, 'since': 0, 'suck': 0, 'hoes': 0, 'crisis': 0, 'friend': 0, 'lives': 0, 'everyone': 0, '|': 0, 'cock': 0, 'best': 0, 'anything': 0, 'leave': 0, 'n': 0, 'under': 0, 'face': 0, 'place': 0, 'culture': 0, 'workers': 0, 'both': 0, 'human': 0, 'become': 0, 'guy': 0, 'asylum': 0, 'may': 0, 'person': 0, '\\x9d': 0, 'talking': 0, 'long': 0, 'bring': 0, 'living': 0, 'young': 0, 'told': 0, 'having': 0, '4': 0, 'crime': 0, 'head': 0, '😭': 0, 'thing': 0, 'news': 0, 'between': 0, 'try': 0, 'read': 0, 'ugly': 0, 'hell': 0, 'actually': 0, 'abuse': 0, 'maybe': 0, 'video': 0, 'thanks': 0, 'job': 0, 'illegally': 0, 'community': 0, 'protect': 0, 'stand': 0, 'true': 0, 'âž': 0, 'political': 0, 'once': 0, 'done': 0, '#enddaca': 0, 'public': 0, 'city': 0, 'gets': 0, 'using': 0, 'detention': 0, 'racist': 0, '5': 0, 'full': 0, 'accused': 0, 'learn': 0, 'reason': 0, 'states': 0, 'poor': 0, 'change': 0, 'kunt': 0, 'w': 0, 'lil': 0, 'working': 0, 'canada': 0, 'means': 0, 'ya': 0, 'run': 0, 'trash': 0, 'media': 0, 'play': 0, 'seen': 0, 'food': 0, 'whole': 0, 'killed': 0, 'fuckin': 0, 'nice': 1, 'safe': 0, 'fake': 0, 'part': 0, 'understand': 0, 'death': 0, 'raped': 0, 'came': 0, 'kind': 0, 'build': 0, '2018': 0, 'african': 0, 'looking': 0, 'india': 0, 'act': 0, 'making': 0, 'nation': 0, 'fight': 0, 'daca': 0, 'ask': 0, 'makes': 0, '#walkaway': 0, 'control': 0, 'happy': 0, 'mexico': 0, 'point': 0, 'ok': 0, 'spain': 0, '#withrefugees': 0, 'mouth': 0, 'france': 0, 'hey': 0, 'taking': 0, 'eat': 0, 'obama': 0, 'party': 0, 'etc': 0, 'night': 0, 'court': 0, 'texas': 0, 'post': 0, 'instead': 0, 'plan': 0, 'fact': 0, 'less': 0, 'judge': 0, 'housing': 0, 'side': 0, 'mind': 0, 'war': 0, 'die': 0, 'name': 0, 'lot': 0, 'anti-immigrant': 0, '#kag': 0, 'forced': 0, '😘': 0, 'thought': 0, 'national': 0, 'twitter': 0, 'criminal': 0, '#': 0, 'muslims': 0, 'deportation': 0, 'respect': 0, 'until': 0, 'across': 0, 'allowed': 0, '10': 0, 'speak': 0, 'remember': 0, 'merkel': 0, 'crazy': 0, 'fat': 0, 'system': 0, 'school': 0, 'security': 0, 'ones': 0, 'social': 0, 'game': 0, 'hear': 0, 'economic': 0, 'assault': 0, 'â': 0, 'check': 0, 'issue': 0, 'follow': 0, 'used': 0, '#rohingya': 0, 'comes': 0, 'victims': 0, 'wait': 0, 'during': 0, 'join': 0, 'nigga': 0, 'yo': 0, 'jobs': 0, 'd': 0, 'members': 0, 'accept': 0, 'millions': 0, 'hit': 0, 'damn': 0, 'least': 0, 'sweden': 0, 'administration': 0, '#americafirst': 0, 'probably': 0, 'nobody': 0, 'sick': 0, '13': 0, 'homes': 0, 'everything': 0, '+': 0, 'might': 0, 'deserve': 0, 'violence': 0, 'democrats': 0, 'dead': 0, 'case': 0, 'attention': 0, 'truth': 0, 'year-old': 0, 'goes': 0, 'hundreds': 0, 'matter': 0, 'including': 0, 'ho': 0, 'easy': 0, 'female': 0, 'boy': 0, 'baby': 0, 'each': 0, '#endchainmigration': 0, 'separated': 0, 'af': 0, 'justice': 0, 'business': 0, 'camps': 0, 'heart': 0, 'deal': 0, 'population': 0, 'bc': 0, 'lost': 0, 'times': 0, '100': 0, '\\u200d': 0, 'libya': 0, 'b': 0, 'together': 0, 'close': 0, 'sad': 0, 'foreign': 0, 'power': 0, 'either': 0, 'demand': 0, 'criminals': 0, 'camp': 0, 'alone': 0, 'lmao': 0, 'kill': 0, 'arrested': 0, 'order': 0, 'll': 0, 'fear': 0, 'turn': 0, 'protest': 0, 'son': 0, 'action': 0, 'fucked': 0, 'africa': 0, 'days': 0, 'course': 0, 'given': 0, 'bill': 0, '🏾': 0, 'save': 0, 'aid': 0, 'past': 0, 'found': 0, 'thousands': 0, 'russia': 0, 'tells': 0, 'mother': 0, 'cut': 0, 'military': 0, 'spanish': 0, 'gotta': 0, 'special': 0, 'agree': 0, 'difference': 0, 'others': 0, 'tried': 0, 'minister': 0, 'federal': 0, 'allow': 0, '\\x81': 0, 'few': 0, 'european': 0, 'liberals': 0, 'christian': 0, '@': 0, 'gone': 0, 'hungary': 0, 'boys': 0, 'mad': 0, 'far': 0, 'prison': 0, '¦': 0, 'groups': 0, 'able': 0, 'killing': 0, 'giving': 0, 'center': 0, 'building': 0, 'communities': 0, '\\x8f': 0, 'taxpayers': 0, '=': 0, 'islamic': 0, 'share': 0, 'line': 0, 'whores': 0, '6': 0, 'girlfriend': 0, 'fun': 0, 'move': 0, 'beat': 0, 'group': 0, 'went': 0, 'lying': 0, 'seekers': 0, 'else': 0, '#illegalaliens': 0, 'break': 0, 'literally': 0, 'policies': 0, 'local': 0, 'paid': 0, 'saw': 0, 'dirty': 0, '#metoo': 0, 'started': 0, 'car': 0, 'question': 0, 'wife': 0, 'syria': 0, 'calls': 0, '#refugee': 0, 'sign': 0, 'west': 0, 'cities': 0, 'yeah': 0, 'looks': 0, 'heard': 0, 'italian': 0, 'finally': 0, '30': 0, 'guess': 0, 'invasion': 0, 'sorry': 0, 'waiting': 0, 'worker': 0, 'months': 0, '¸': 0, 'listen': 0, 'education': 0, 'takes': 0, 'phone': 0, 'health': 0, 'drunk': 0, 'piece': 0, 'fire': 0, '8': 0, 'murder': 0, 'word': 0, 'gives': 0, 'asked': 0, 'month': 0, '7': 0, 'leaders': 0, 'non': 0, 'charged': 0, 'strong': 0, 'knows': 0, 'high': 0, 'status': 0, 'united': 0, 'idea': 0, 'catch': 0, 'threat': 0, 'dems': 0, 'crimes': 0, 'realize': 0, 'mom': 0, 'enter': 0, '🏼': 0, '#yesallmen': 0, 'pro': 0, 'wanted': 0, 'program': 0, 'facebook': 0, 'number': 0, 'fighting': 0, 'services': 0, 'pass': 0, 'hot': 0, '#visegrad': 0, 'tweet': 0, 'force': 0, '#familiesbelongtogether': 0, 'disgusting': 0, 'important': 0, 'sleep': 0, 'taken': 0, 'y': 0, 'campaign': 0, 'wish': 0, '#v4': 0, 'separation': 0, 'benefits': 0, 'ago': 0, 'streets': 0, 'sometimes': 0, 'works': 0, 'daily': 0, 'sexually': 0, 'turkey': 0, 'relief': 0, 'due': 0, 'married': 0, 'jail': 0, 'broke': 0, 'victim': 0, 'wake': 0, 'rich': 0, 'self': 0, 'though': 0, 'voters': 0, 'detained': 0, 'ha': 0, 'hand': 0, 'stories': 0, 'date': 0, 'pretty': 0, 'account': 0, '#immigrant': 0, 'south': 0, 'undocumented': 0, 'sent': 0, 'future': 0, 'attack': 0, 'fall': 0, 'tax': 0, 'liberal': 0, 'destroy': 0, 'raise': 0, 'joke': 0, 'army': 0, 'sound': 0, '#eu': 0, 'continue': 0, 'labor': 0, 'red': 0, 'mr': 0, 'becoming': 0, 'rescue': 0, 'bout': 0, '20': 0, 'set': 0, 'pm': 0, '#ice': 0, 'forget': 0, 'thinks': 0, '❤': 0, '#notallmen': 0, 'wow': 0, 'claim': 0, 'middle': 0, 'citizenship': 0, 'book': 0, 'invaders': 0, 'buy': 0, 'office': 0, 'kitchen': 0, '🏽': 0, 'peace': 0, 'supporting': 0, 'international': 0, 'answer': 0, 'wages': 0, 'soon': 0, 'language': 0, 'society': 0, 'died': 0, 'entire': 0, 'cost': 0, 've': 0, 'visit': 0, 'hurt': 0, 'ladies': 0, 'block': 0, 'third': 0, 'mexican': 0, 'telling': 0, 'centers': 0, 'pimp': 0, '[': 0, 'niggas': 0, 'tip': 0, 'islam': 0, 'british': 0, 'almost': 0, 'wonder': 0, 'running': 0, 'treat': 0, 'article': 0, 'walk': 0, '#democrats': 0, 'gave': 0, 'door': 0, 'delhi': 0, 'homeless': 0, 'plans': 0, '3rd': 0, 'massive': 0, 'imagine': 0, 'three': 0, 'song': 0, 'c': 0, 'watching': 0, 'access': 0, 'amazing': 0, 'sharia': 0, 'austria': 0, '‰': 0, 'voted': 0, 'numbers': 0, 'list': 0, '#migrants': 0, 'cuz': 0, 'civil': 0, 'murdered': 0, 'low': 0, 'history': 0, 'turned': 0, '#myanmar': 0, 'greece': 0, 'behind': 0, 'wear': 0, '#daca': 0, '🤔': 0, '#unitednations': 0, 'defend': 0, 'shame': 0, 'tweets': 0, 'pregnant': 0, 'land': 0, 'crossing': 0, 'violent': 0, 'pic': 0, 'funny': 0, 'gang': 0, 'nations': 0, 'ban': 0, 'won': 0, '©': 0, 'hollywood': 0, 'congress': 0, 'drop': 0, '#spain': 0, 'ppl': 0, ']': 0, '#ucanews': 0, 'charge': 0, 'unless': 0, '#usa': 0, 'win': 0, '#buildthedamnwall': 0, 'single': 0, '16': 0, 'male': 0, 'russian': 0, 'politics': 0, 'release': 0, 'anti': 0, 'stopped': 0, 'govt': 0, '🏻': 0, 'shelter': 0, 'evil': 0, 'complete': 0, 'race': 0, 'central': 0, 'diversity': 0, 'whatever': 0, 'trafficking': 0, 'per': 0, 'shot': 0, 'boat': 0, 'vacation': 0, 'doesn': 0, 'beautiful': 0, 'enforcement': 0, 'whose': 0, 'jordan': 0, 'english': 0, 'genocide': 0, 'christians': 0, 'fleeing': 0, 'meet': 0, 'despite': 0, 'based': 0, 'rules': 0, 'growing': 0, 'near': 0, 'tf': 0, 'drugs': 0, 'tired': 0, 'hold': 0, 'front': 0, 'o': 0, 'color': 0, 'issues': 0, 'north': 0, 'excuse': 0, 'relationship': 0, 'officer': 0, 'rest': 0, 'helping': 0, '#illegalimmigration': 0, 'blame': 0, 'exactly': 0, 'nelly': 0, 'economy': 0, 'id': 0, 'pathetic': 0, 'idiot': 0, '🤷': 0, 'seriously': 0, 'cop': 0, 'especially': 0, 'bank': 0, 'drug': 0, 'body': 0, 'kid': 0, 'israel': 0, 'lie': 0, 'reports': 0, 'morning': 0, '>': 0, 'crying': 0, '#sendthemhome': 0, 'slag': 0, 'themselves': 0, 'sense': 0, 'decide': 0, 'fund': 0, 'dm': 0, '#potus': 0, 'born': 0, '\\u2069': 0, '\\u2066': 0, 'words': 0, 'cum': 0, 'attacks': 0, 'according': 0, '11': 0, 'places': 0, 'visa': 0, 'text': 0, 'paying': 0, 'cross': 0, 'politicians': 0, 'global': 0, 'donald': 0, 'miss': 0, 'choke': 0, 'tv': 0, 'pays': 0, 'rohingya': 0, 'nhs': 0, 'officials': 0, 'myself': 0, 'tomorrow': 0, 'longer': 0, 'asshole': 0, 'inside': 0, 'possible': 0, 'second': 0, 'illigal': 0, 'happened': 0, 'ways': 0, 'church': 0, 'scared': 0, '#worldrefugeeday': 0, 'fair': 0, 'weinstein': 0, 'rescued': 0, 'daddy': 0, 'dude': 0, 'took': 0, 'didn': 0, 'cares': 0, 'thinking': 0, 'reality': 0, '#votered': 0, '40': 0, 'season': 0, 'team': 0, 'california': 0, 'needed': 0, 'claims': 0, 'tonight': 0, 'town': 0, 'sucking': 0, '2017': 0, 'nearly': 0, 'expect': 0, 'situation': 0, 'soros': 0, 'daughter': 0, 'southern': 0, 'among': 0, 'raping': 0, 'youth': 0, 'trust': 0, 'western': 0, 'different': 0, 'dear': 0, 'birthday': 0, 'treatment': 0, 'picture': 0, 'room': 0, 'complain': 0, '🙄': 0, 'responsible': 0, '#lockthemup': 0, 'french': 0, 'bringing': 0, 'photo': 0, 'funding': 0, 'conditions': 0, '#maledominance': 0, 'forever': 0, 'worse': 0, 'asap': 0, 'feminists': 0, 'students': 0, 'spent': 0, 'resources': 0, 'husband': 0, 'add': 0, 'current': 0, 'grow': 0, 'wtf': 0, 'ship': 0, 'seeing': 0, 'throw': 0, 'honest': 0, '15': 0, 'fine': 0, 'f': 0, 'refuse': 0, 'catholic': 0, 'cases': 0, 'agency': 0, 'tryna': 0, 'record': 0, 'ms': 0, 'hands': 0, 'arrest': 0, 'message': 0, 'position': 0, 'straight': 0, 'seeking': 0, 'putting': 0, 'along': 0, '#bangladesh': 0, '♀': 0, 'ny': 0, 'bet': 0, 'rapists': 0, '👏': 0, 'dropped': 0, 'greek': 0, 'latest': 0, 'seat': 0, '#news': 0, 'meeting': 0, 'apparently': 0, \"trump's\": 0, 'influx': 0, 'laugh': 0, 'problems': 0, 'blog': 0, '#trump2020': 0, '¡': 0, 'afford': 0, 'zero': 0, 'majority': 0, 'democrat': 0, \"here's\": 0, 'interview': 0, 'happen': 0, 'often': 0, '12': 0, 'travel': 0, 'dangerous': 0, 'proud': 0, 'likes': 0, '18': 0, 'harassment': 0, 'safety': 0, 'asks': 0, 'leaving': 0, 'terrorists': 0, 'provide': 0, 'common': 0, '‚': 0, 'forward': 0, 'cool': 0, 'clear': 0, 'till': 0, 'former': 0, 'vulnerable': 0, '💯': 0, 'equal': 0, 'apply': 0, 'acting': 0, 'schools': 0, 'anymore': 0, 'page': 0, 'normal': 0, 'seem': 0, 'britain': 0, 'street': 0, 'simply': 0, 'taxes': 0, 'knew': 0, 'drive': 0, 'rapefugee': 0, 'sharing': 0, 'period': 0, 'palestinian': 0, 'quick': 0, 'half': 0, 'vagina': 0, 'iraqi': 0, 'ride': 0, 'happens': 0, 'omg': 0, 'sending': 0, 'lose': 0, 'events': 0, 'weekend': 0, '50': 0, 'irish': 0, 'ex': 0, 'basic': 0, 'figure': 0, 'holding': 0, 'cheat': 0, '♂': 0, 'attacked': 0, 'sanctuary': 0, 'age': 0, 'rebuild': 0, '–': 0, 'chance': 0, 'rather': 0, 'angry': 0, '#brexit': 0, 'increase': 0, 'taxpayer': 0, 'jesus': 0, 'mine': 0, '25': 0, 'moment': 0, 'drinking': 0, 'cry': 0, 'area': 0, 'clearly': 0, 'reach': 0, 'response': 0, 'immediately': 0, 'conservative': 0, 'hair': 0, 'comments': 0, 'orban': 0, '😊': 0, 'hillary': 0, '#boycottnfl': 0, '#draintheswamp': 0, 'step': 0, 'dad': 0, 'ready': 0, 'minute': 0, 'biggest': 0, 'dream': 0, 'yesterday': 0, 'perfect': 0, 'holes': 0, 'racism': 0, 'park': 0, 'interested': 0, 'hours': 0, \"men's\": 0, 'attitude': 0, 'small': 0, 'ignorant': 0, 'truly': 0, 'term': 0, 'lebanon': 0, 'glad': 0, 'advocate': 0, 'deep': 0, 'created': 0, 'shooting': 0, '#refugeesnotwelcome': 0, 'process': 0, 'blocked': 0, '🇸': 0, 'playing': 0, 'risk': 0, 'annoying': 0, 'returns': 0, 'obviously': 0, 'homeland': 0, 'serve': 0, 'abused': 0, 'experience': 0, 'outside': 0, 'de': 0, 'push': 0, 'feelings': 0, 'weeks': 0, 'stick': 0, 'assistance': 0, '#boycottnike': 0, 'shelters': 0, 'l': 0, 'swedish': 0, '#immigrants': 0, '🤦': 0, '🖕': 0, 'anyway': 0, 'several': 0, 'false': 0, 'road': 0, 'sir': 0, 'wearing': 0, 'asking': 0, 'socialist': 0, 'class': 0, 'serious': 0, 'alive': 0, 'rule': 0, 'voting': 0, 'tries': 0, 'elections': 0, 'bed': 0, 'gop': 0, 'legally': 0, 'citizen': 0, 'harvey': 0, 'filthy': 0, 'assam': 0, 'fucks': 0, 'grown': 0, 'known': 0, 'card': 0, 'top': 0, 'quite': 0, 'losing': 0, 'weird': 0, 'towards': 0, 'student': 0, 'okay': 0, 'da': 0, 'york': 0, 'letting': 0, 'charges': 0, 'emergency': 0, 'explain': 0, 'island': 0, 'rate': 0, 'listening': 0, '#buildthewallnow': 0, '🙃': 0, 'forces': 0, 'seems': 0, 'none': 0, 'benefit': 0, '😒': 0, 'booker': 0, 'absolutely': 0, 'bunch': 0, 'round': 0, 'begin': 0, 'bangladesh': 0, 'poland': 0, '1st': 0, 'allowing': 0, 'aka': 0, 'breaking': 0, 'host': 0, 'vs': 0, 'destroyed': 0, 'caught': 0, 'released': 0, 'colorado': 0, 'election': 0, 'met': 0, 'clean': 0, 'happening': 0, 'choose': 0, 'identity': 0, 'agenda': 0, 'sit': 0, 'penis': 0, 'labour': 0, 'responsibility': 0, 'jews': 0, 'bit': 0, 'sexist': 0, 'everywhere': 0, 'isis': 0, 'fellow': 0, 'germans': 0, 'walls': 0, 'changing': 0, 'innocent': 0, 'threats': 0, 'friday': 0, 'votes': 0, 'fraud': 0, '2016': 0, 'pics': 0, 'democratic': 0, 'except': 0, 'starting': 0, '#europe': 0, 'medical': 0, 'father': 0, 'press': 0, 'huge': 0, 'lies': 0, 'speaks': 0, 'feels': 0, 'decided': 0, 'wave': 0, '¬': 0, 'form': 0, 'scum': 0, 'boyfriend': 0, 'sounds': 0, 'favorite': 0, 'commit': 0, 'weak': 0, 'prove': 0, '#fakenews': 0, 'definitely': 0, 'desert': 0, 'classes': 0, 'rapes': 0, 'elected': 0, 'avoid': 0, 'simple': 0, 'costs': 0, 'afraid': 0, 'nasty': 0, 'feminist': 0, '🇺': 0, 'otherwise': 0, 'chicago': 0, 'london': 0, 'claiming': 0, 'native': 0, 'couple': 0, 'humanity': 0, '#refugeeswelcome': 0, '💀': 0, 'silent': 0, 'beyond': 0, 'feeling': 0, 'smart': 0, '🤣': 0, 'worth': 0, 'tho': 0, 'faces': 0, 'billion': 0, '#burundi': 0, 'arrived': 0, 'cultural': 0, 'honestly': 0, 'worst': 0, 'total': 0, 'donate': 0, 'target': 0, 'enjoy': 0, 'feed': 0, 'lots': 0, '#uk': 0, 'held': 0, 'exist': 0, 'recently': 0, 'loose': 0, 'east': 0, 'advertising': 0, 'movement': 0, 'wage': 0, 'ground': 0, 'speaking': 0, 'information': 0, 'reunited': 0, 'k': 0, 'harris': 0, 'fill': 0, 'reunite': 0, 'create': 0, 'sea': 0, 'iran': 0, 'idiots': 0, 'keeps': 0, 'funds': 0, 'reading': 0, 'star': 0, 'stuff': 0, 'built': 0, 'solution': 0, 'abolish': 0, 'opinion': 0, 'debate': 0, 'role': 0, 'comment': 0, 'standing': 0, 'type': 0, 'cards': 0, 'authorities': 0, '»': 0, 'difficult': 0, 'republican': 0, 'names': 0, 'committed': 0, 'la': 0, 'dreamers': 0, 'failed': 0, 'market': 0, 'wonderful': 0, 'visas': 0, 'yours': 0, 'green': 0, 'areas': 0, '17': 0, '#endsanctuarycities': 0, 'easier': 0, 'evidence': 0, 'bs': 0, 'bye': 0, 'prevent': 0, 'bus': 0, 'dollars': 0, 'paris': 0, 'abt': 0, 'receive': 0, '#walkawayfromdemocrats': 0, 'arizona': 0, 'welcomed': 0, 'voice': 0, '#securetheborder': 0, '™': 0, 'concerned': 1, 'mayor': 0, 'large': 0, 'whether': 0, 'willing': 0, 'pressure': 0, 'definition': 0, 'fix': 0, 'worked': 0, 'spend': 0, 'training': 0, 'australia': 0, 'nah': 0, '😎': 0, 'continues': 0, 'late': 0, 'lady': 0, 'treated': 0, 'hurts': 0, 'protecting': 0, 'kiss': 0, 'industry': 0, 'fool': 0, 'opportunity': 0, 'ruin': 0, '#qanon': 0, '~': 0, 'mediterranean': 0, 'babies': 0, 'within': 0, 'moms': 0, 'burden': 0, 'staff': 0, 'ahead': 0, 'helps': 0, 'abusing': 0, 'iraq': 0, 'laughing': 0, 'aap': 0, 'hi': 0, 'canadian': 0, 'ima': 0, 'music': 0, 'talks': 0, 'waking': 0, 'terrorist': 0, 'terror': 0, 'programs': 0, 'guilty': 0, '😍': 0, 'driver': 0, 'voter': 0, 'absolute': 0, 'trouble': 0, 'hosting': 0, 'gun': 0, 'sessions': 0, 'traitor': 0, 'actual': 0, 'animals': 0, 'ceo': 0, 'online': 0, '#thereforthevoiceless': 0, 'hits': 0, 'lied': 0, 'charities': 0, 'property': 0, 'pick': 0, 'officers': 0, 'above': 0, 'governor': 0, 'focus': 0, 'lack': 0, 'goal': 0, 'broken': 0, 'q': 0, 'rally': 0, 'birth': 0, 'percent': 0, 'denmark': 0, 'hating': 0, 'houses': 0, 'pull': 0, 'clinton': 0, 'fast': 0, 'puts': 0, 'update': 0, 'impact': 0, 'proof': 0, 'resettlement': 0, 'cuts': 0, 'starts': 0, 'closed': 0, '#americans': 0, '#nochainmigration': 0, 'destroying': 0, 'slap': 0, 'retweet': 0, 'dark': 0, 'bag': 0, '#keepamericanssafe': 0, 'neighbors': 0, 'county': 0, 'terrorism': 0, 'syrians': 0, 'following': 0, 'suggest': 0, 'dog': 0, 'mess': 0, 'pray': 0, 'companies': 0, 'train': 0, 'regarding': 0, 'loud': 0, \"italy's\": 0, 'skills': 0, 'unlike': 0, 'outta': 0, 'private': 0, 'older': 0, 'careful': 0, 'supports': 0, 'offer': 0, 'sluts': 0, 'yr': 0, 'tweeting': 0, 'isn': 0, 'protection': 0, 'stuck': 0, 'smh': 0, 'moral': 0, 'shows': 0, ':)': 0, 'dem': 0, 'liked': 0, 'blue': 0, 'supporters': 0, 'june': 0, 'shitty': 0, 'accuse': 0, 'mostly': 0, 'choice': 0, 'teen': 0, 'turns': 0, 'separating': 0, 'fled': 0, 'coast': 0, \"world's\": 0, 'totally': 0, 'film': 0, 'event': 0, 'himself': 0, 'instagram': 0, 'earth': 0, 'taught': 0, 'ï': 0, 'polish': 0, 'changes': 0, 'ain': 0, 'vile': 0, 'grabbing': 0, 'malta': 0, '#abolishice': 0, 'karma': 0, 'union': 0, 'summer': 0, 'later': 0, 'remain': 0, 'service': 0, 'canadians': 0, 'pakistani': 0, 'deserves': 0, 'cunts': 0, 'governments': 0, 'creating': 0, 'loved': 0, 'awareness': 0, 'idk': 0, 'liar': 0, 'largest': 0, '#wakeupamerica': 0, 'females': 0, 'jr': 0, 'art': 0, 'kept': 0, 'upon': 0, 'eyes': 0, 'spread': 0, '#immigrationreform': 0, 'concerns': 0, 'threaten': 0, 'air': 0, 'basically': 0, 'lead': 0, 'worry': 0, 'shoutout': 0, 'kamala': 0, 'sister': 0, 'libyan': 0, 'danger': 0, 'dozens': 0, 'idgaf': 0, 'suffering': 0, 'consider': 0, 'advocates': 0, 'considering': 0, 'dare': 0, 'reported': 0, 'aren': 0, 'kills': 0, 'stolen': 0, 'trudeau': 0, 'regime': 0, '^': 0, 'loser': 0, 'coastguard': 0, 'recent': 0, 'extra': 0, 'pig': 0, 'snap': 0, 'games': 0, 'raised': 0, '¤': 0, 'boats': 0, '@realdonaldtrump': 0, 'offended': 0, 'doctor': 0, 'study': 0, 'flirting': 0, 'worried': 0, 'welcoming': 0, 'admit': 0, 'ridiculous': 0, 'interior': 0, 'honor': 0, 'experiences': 0, 'blood': 0, 'becomes': 0, 'promises': 0, '#liberalismisamentaldisorder': 0, 'abortion': 0, 'busy': 0, 'defending': 0, 'cages': 0, 'drink': 0, '#stopimmigration': 0, 'guard': 0, '#illegals': 0, 'level': 0, 'greatest': 0, 'appreciate': 0, 'prime': 0, 'al': 0, 'trade': 0, 'bills': 0, 'entry': 0, '£': 0, 'humanitarian': 0, 'main': 0, 'space': 0, 'skanks': 0, 'saudi': 0, 'rejects': 0, 'wet': 0, 'journey': 0, 'beach': 0, 'wing': 0, 'poverty': 0, 'allows': 0, 'paper': 0, 'arrive': 0, '2015': 0, 'plays': 0, 'garbage': 0, 'however': 0, '#gop': 0, 'lived': 0, 'everyday': 0, 'grandmother': 0, 'fence': 0, 'dreams': 0, 'decisions': 0, 'became': 0, 'ryan': 0, '90': 0, 'disaster': 0, '#votedemsout': 0, 'powerful': 0, 'urge': 0, 'success': 0, '🌚': 0, 'count': 0, 'religion': 0, 'insane': 0, 'missing': 0, 'member': 0, 'dogs': 0, 'teaching': 0, 'brussels': 0, 'pls': 0, '#illegal': 0, 'short': 0, 'genuine': 0, 'africans': 0, 'pack': 0, 'five': 0, '#borderpatrol': 0, 'ensure': 0, 'refusing': 0, 'august': 0, 'nose': 0, 'seeks': 0, '#endvisalottery': 0, 'water': 0, 'deportations': 0, 'murders': 0, 'halloween': 0, 'miserable': 0, 'hotel': 0, 'minutes': 0, 'research': 0, 'tight': 0, 'fundraising': 0, 'con': 0, 'dudes': 0, 'reject': 0, 'decision': 0, 'hearings': 0, '#wethepeople': 0, 'kobach': 0, 'constitution': 0, 'mail': 0, 'meanwhile': 0, 'address': 0, '300,000': 0, 'foundation': 0, 'facts': 0, 'dna': 0, 'early': 0, 'crack': 0, 'lesson': 0, 'photos': 0, 'butt': 0, 'damage': 0, 'facing': 0, 'aclu': 0, 'agreed': 0, 'compared': 0, 'crawl': 0, 'bigger': 0, 'somebody': 0, '#illegalimmigrants': 0, 'followed': 0, '#border': 0, 'views': 0, 'scotus': 0, 'details': 0, 'fit': 0, 'bottom': 0, 'posting': 0, 'bar': 0, 'enforce': 0, 'project': 0, 'view': 0, 'cash': 0, 'bullshit': 0, 'secret': 0, 'knowing': 0, 'perhaps': 0, 'officially': 0, 'plight': 0, 'designed': 0, '#syria': 0, 'interesting': 0, 'census': 0, 'search': 0, 'ca': 0, '#bnp': 0, 'warned': 0, 'completely': 0, 'pope': 0, '‹': 0, 'alcohol': 0, 'grant': 0, 'points': 0, 'aggressive': 0, 'series': 0, 'thot': 0, 'highest': 0, 'touch': 0, 'apart': 0, 'crash': 0, '#voiceforthevoiceless': 0, 'doubt': 0, 'complaining': 0, 'base': 0, 'haters': 0, 'cameron': 0, 'em': 0, 'college': 0, 'felt': 0, 'harder': 0, 'witch': 0, 'light': 0, 'higher': 0, 'displaced': 0, 'excited': 0, 'storm': 0, 'animal': 0, '#nomorerefugees': 0, 'personal': 0, 'accounts': 0, 'employers': 0, 'arabia': 0, 'increased': 0, 'assad': 0, 'solid': 0, 'pizza': 0, 'value': 0, 'condoms': 0, 'itself': 0, 'brother': 0, 'random': 0, 'include': 0, 'secure': 0, 'porn': 0, 'talent': 0, 'brain': 0, '😷': 0, 'tbh': 0, 'sandwich': 0, '70': 0, 'accusing': 0, 'fox': 0, 'context': 0, 'e': 0, 'relevant': 0, 'example': 0, '#backtheblue': 0, 'capital': 0, 'europeans': 0, 'players': 0, 'san': 0, 'whom': 0, 'agreement': 0, 'ships': 0, '#rape': 0, 'dinner': 0, '😉': 0, 'activists': 0, 'gay': 0, 'likely': 0, 'chain': 0, 'tolerance': 0, 'bro': 0, 'inhumane': 0, 'bangladeshi': 0, 'wanting': 0, 'fully': 0, 'patrol': 0, 'entering': 0, '#illegalalien': 0, 'indians': 0, 'hatred': 0, 'repatriation': 0, 'macron': 0, 'scam': 0, 'amnesty': 0, '#deport': 0, 'resettled': 0, 'mp': 0, '#philippines': 0, 'hide': 0, 'results': 0, 'ill': 0, 'reunification': 0, 'bio': 0, 'palestinians': 0, '#wewelcomerefugees': 0, 'gross': 0, '#nrcassam': 0, 'actions': 0, 'critical': 0, 'king': 0, 'protesters': 0, 'cute': 0, 'battle': 0, 'lame': 0, 'legs': 0, 'sucks': 0, 'assaulted': 0, 'scotland': 0, '#congress': 0, 'twice': 0, 'domestic': 0, 'hispanic': 0, 'club': 0, 'outrage': 0, 'chill': 0, 'belong': 0, 'info': 0, 'reasons': 0, 'promise': 0, 'mio': 0, '14': 0, 'loving': 0, \"women's\": 0, 'earned': 0, 'legislation': 0, 'further': 0, 'parties': 0, 'flee': 0, 'nigerian': 0, 'peoples': 0, '😈': 0, 'cup': 0, 'arms': 0, 'proposal': 0, 'present': 0, 'bishops': 0, 'x': 0, 'director': 0, 'constantly': 0, 'voices': 0, 'unaccompanied': 0, 'walking': 0, 'shared': 0, 'boo': 0, 'lawyers': 0, 'although': 0, 'indeed': 0, 'salvini': 0, 'kavanaugh': 0, 'carolina': 0, 'activist': 0, 'brutal': 0, 'complicit': 0, 'ours': 0, 'rep': 0, 'nature': 0, 'veterans': 0, 'molesting': 0, 'eight': 0, 'major': 0, '#italy': 0, 'somali': 0, 'protests': 0, 'offers': 0, '#lockherup': 0, 'entitled': 0, 'balls': 0, 'ann': 0, 'reportedly': 0, 'btw': 0, 'supply': 0, 'filth': 0, 'chief': 0, '¢': 0, 'posted': 0, 'moved': 0, 'destruction': 0, 'gender': 0, 'decent': 0, 'highly': 0, 'tinder': 0, 'changed': 0, 'sacred': 0, 'terrible': 0, 'documents': 0, 'remind': 0, 'awesome': 0, 'hero': 0, 'amount': 0, 'assaulting': 0, 'detain': 0, 'cook': 0, 'reporting': 0, 'goverment': 0, 'cheated': 0, 'named': 0, 'propaganda': 0, 'surprise': 0, 'rock': 0, '🗣': 0, 'considered': 0, 'refused': 0, 'sc': 0, 'investigation': 0, 'covered': 0, 'cnn': 0, 'wednesday': 0, 'model': 0, 'discussion': 0, 'wins': 0, 'employees': 0, 'posts': 0, 'filipino': 0, 'rid': 0, 'lawyer': 0, 'deny': 0, 'keeping': 0, 'dies': 0, 'driving': 0, 'fingers': 0, \"facebook's\": 0, '9': 0, 'debt': 0, 'minority': 0, 'burn': 0, 'corrupt': 0, 'roads': 0, 'saving': 0, 'key': 0, 'healthcare': 0, 'gold': 0, 'wide': 0, 'religious': 0, 'miller': 0, '😩': 0, 'jokes': 0, 'cheap': 0, 'globalist': 0, 'ngos': 0, 'argument': 0, 'airport': 0, 'spoke': 0, 'smugglers': 0, 'swear': 0, 'fault': 0, 'artist': 0, 'czech': 0, 'showed': 0, 'finding': 0, 'fr': 0, 'quiet': 0, 'brought': 0, 'kidnapped': 0, 'survivors': 0, 'dhs': 0, 'angela': 0, 'toronto': 0, 'artists': 0, 'selling': 0, 'looked': 0, 'invade': 0, 'board': 0, 'denounced': 0, 'waste': 0, 'ends': 0, '👊': 0, 'meant': 0, 'bird': 0, 'wondering': 0, 'escape': 0, 'permanent': 0, 'returned': 0, 'football': 0, 'ruling': 0, 'income': 0, 'dc': 0, 'skinny': 0, 'mental': 0, 'limited': 0, 'chaos': 0, '80': 0, 'box': 0, 'cancer': 0, 'soldiers': 0, 'multiple': 0, 'volunteers': 0, 'teach': 0, 'background': 0, 'p': 0, \"hystericalyou're\": 0, 'coalition': 0, 'costing': 0, 'november': 0, 'upset': 0, '#migration': 0, 'pieces': 0, 'discuss': 0, 'ª': 0, 'currently': 0, 'ashamed': 0, 'minimum': 0, 'th': 0, 'ma': 0, '😁': 0, 'doors': 0, 'tech': 0, 'shove': 0, 'fam': 0, 'profile': 0, 'testify': 0, 'tough': 0, 'trauma': 0, 'cover': 0, 'rise': 0, 'rapist': 0, '„': 0, '#wwg1wga': 0, 'bible': 0, 'belt': 0, 'yrs': 0, '#2a': 0, 'turning': 0, 'doj': 0, 'allegations': 0, 'duty': 0, 'earn': 0, '#women': 0, 'dicks': 0, 'potus': 0, '☺': 0, 'notice': 0, '_': 0, 'annual': 0, 'agencies': 0, 'freedom': 0, 'protesting': 0, 'grateful': 0, 'crp': 0, 'handle': 0, 'resign': 0, 'dress': 0, 'whites': 0, 'interests': 0, 'leaves': 0, 'madonna': 0, 'attacking': 0, 'dumbass': 0, 'mcconnell': 0, '200': 0, 'flow': 0, 'maker': 0, 'memory': 0, 'dr': 0, 'involved': 0, '2000': 0, 'cory': 0, 'values': 0, 'george': 0, 'washington': 0, 'allegedly': 0, 'sudden': 0, 'excellent': 0, 'sue': 0, 'makeup': 0, 'queen': 0, 'jump': 0, 'talkin': 0, 'fed': 0, 'mistake': 0, 'negative': 0, 'standard': 0, 'japan': 0, 'warning': 0, 'budget': 0, 'chinese': 0, 'stole': 0, 'hardly': 0, 'transfer': 0, 'upcoming': 0, 'harm': 0, 'movie': 0, '#openborders': 0, 'individuals': 0, 'profit': 0, 'faster': 0, 'entered': 0, 'finger': 0, 'providing': 0, 'super': 0, 'churches': 0, 'senate': 0, 'rejected': 0, 'feminism': 0, 'proven': 0, 'republic': 0, 'preserve': 0, 'directly': 0, 'sides': 0, 'learning': 0, 'fundraiser': 0, 'stephen': 0, 'pres': 0, 'correct': 0, 'nigeria': 0, \"america's\": 0, '#whitegenocide': 0, 'pakistan': 0, 'hearing': 0, 'code': 0, 'virgin': 0, 'sitting': 0, 'credit': 0, 'unhcr': 0, 'kidding': 0, 'finish': 0, 'armed': 0, 'easily': 0, 'pos': 0, 'worship': 0, 'respond': 0, 'statement': 0, 'loves': 0, 'locked': 0, 'assimilate': 0, 'acceptable': 0, 'rabbit': 0, '🔥': 0, 'clothes': 0, 'burundi': 0, 'records': 0, 'odd': 0, 'mandir': 0, 'narrative': 0, 'moving': 0, 'version': 0, 'vaginas': 0, 'populations': 0, 'shoot': 0, 'limit': 0, 'republicans': 0, 'allah': 0, 'h': 0, 'commonwealth': 0, 'price': 0, 'showing': 0, 'guns': 0, 'wit': 0, 'stupidity': 0, 'strike': 0, 'sort': 0, 'ugh': 0, 'empty': 0, 'eastern': 0, 'gov': 0, 'nut': 0, 'indian': 0, 'awful': 0, 'crap': 0, 'cruel': 0, '. .': 0, 'crowd': 0, 'afghanistan': 0, 'generation': 0, 'racists': 0, 'development': 0, 'council': 0, 'leader': 0, 'pictures': 0, 'economics': 0, 'demanding': 0, 'admitted': 0, '#whore': 0, 'beware': 0, 'separate': 0, 'pushing': 0, 'hopefully': 0, 'followers': 0, 'summit': 0, 'kris': 0, 'abusive': 0, 'remove': 0, 'sweet': 0, 'ending': 0, 'snapchat': 0, '#americansfirst': 0, '2020': 0, 'result': 0, 'moron': 0, 'cat': 0, 'century': 0, 'marry': 0, 'staying': 0, 'effort': 0, 'texts': 0, 'morocco': 0, 'conversation': 0, 'consequences': 0, 'company': 0, 'describe': 0, 'track': 0, 'hunt': 0, 'heads': 0, 'july': 0, 'expensive': 0, '#california': 0, 'putin': 0, 'kick': 0, 'rip': 0, 'e-verify': 0, 'decades': 0, 'eating': 0, 'liberty': 0, 'utter': 0, 'buying': 0, 'mandatory': 0, 'promised': 0, 'sturgeon': 0, 'prisons': 0, 'driven': 0, '': 0, 'granted': 0, 'dating': 0, 'saved': 0, 'direct': 0, 'lists': 0, 'steal': 0, 'double': 0, 'general': 0, 'socialwelfare': 0, 'centres': 0, 'poc': 0, 'stayed': 0, 'whining': 0, 'original': 0, 'refuses': 0, 'lane': 0, 'turkish': 0, 'slum': 0, 'offered': 0, '400': 0, 'lonely': 0, 'boss': 0, 'sudan': 0, 'towns': 0, 'disrespectful': 0, 'msm': 0, 'euro': 0, 'lemonade': 0, 'gangs': 0, '500': 0, 'settle': 0, '600': 0, 'linked': 0, 'sexism': 0, 'paul': 0, 'flag': 0, '✋': 0, 'stage': 0, 'pretend': 0, 'struggle': 0, '45': 0, 'received': 0, '0': 0, 'jewish': 0, 'sneak': 0, 'kno': 0, '#swrm': 0, 'expected': 0, 'conference': 0, 'kelly': 0, 'origin': 0, 'bae': 0, '#feminismiscancer': 0, 'gon': 0, '💕': 0, 'ig': 0, 'sight': 0, 'lmfao': 0, 'antonio': 0, 'trailer': 0, '😏': 0, 'announces': 0, 'bbc': 0, 'volunteer': 0, '#enforceuslaws': 0, 'afghan': 0, 'emotional': 0, '#sanctuarycities': 0, '#muslims': 0, 'shameful': 0, 'positive': 0, 'thread': 0, 'educated': 0, 'efforts': 0, 'ongoing': 0, 'therefore': 0, '#nodacadeal': 0, 'mutha': 0, 'hiring': 0, 'sexy': 0, 'chose': 0, 'monday': 0, 'arguing': 0, 'quit': 0, 'managed': 0, 'kansas': 0, 'esp': 0, 'rude': 0, 'cult': 0, 'available': 0, 'actively': 0, 'ring': 0, 'warns': 0, '60': 0, 'fan': 0, 'weapons': 0, 'hire': 0, 'arrests': 0, 'blocks': 0, 'cheating': 0, 'doctors': 0, 'bought': 0, 'customs': 0, 'enrichment': 0, 'dealing': 0, 'seek': 0, 'irrational': 0, 'ids': 0, 'deadly': 0, 'behavior': 0, 'anywhere': 0, 'hispanics': 0, 'behalf': 0, 'whenever': 0, '#humanrights': 0, 'official': 0, '450': 0, 'supreme': 0, 'racial': 0, 'invading': 0, 'certain': 0, 'brothers': 0, 'advantage': 0, 'backs': 0, 'useless': 0, 'test': 0, 'dance': 0, 'conflict': 0, 'desperate': 0, 'dat': 0, 'supporter': 0, 'analysis': 0, 'turks': 0, '👌': 0, '²': 0, 'brilliant': 0, 'treating': 0, 'crew': 0, 'nazi': 0, '150': 0, '´': 0, 'openly': 0, 'humans': 0, '·': 0, '😌': 0, 'stands': 0, 'burundian': 0, 'candidates': 0, 'pl': 0, 'teacher': 0, 'toward': 0, 'stated': 0, 'minds': 0, 'interest': 0, 'florida': 0, 'twat': 0, 'nor': 0, 'defense': 0, 'internal': 0, 'hat': 0, 'carry': 0, '#drainthedeepstate': 0, 'flirt': 0, 'disabled': 0, 'thus': 0, '#tcot': 0, 'panel': 0, 'daughters': 0, 'urges': 0, \"administration's\": 0, 'dreamer': 0, 'threatens': 0, 'note': 0, 'degree': 0, 'austrian': 0, 'ethnic': 0, 'kate': 0, 'guards': 0, '😳': 0, 'growth': 0, '🤗': 0, 'dignity': 0, ';)': 0, 'obamacare': 0, '#immigrantchildren': 0, 'size': 0, 'thru': 0, 'blow': 0, '#deportillegals': 0, 'minors': 0, 'planet': 0, 'ignore': 0, 'monster': 0, 'sold': 0, 'targets': 0, 'load': 0, 'practice': 0, 'led': 0, '💦': 0, 'wash': 0, 'digging': 0, 'centre': 0, 'lazy': 0, 'brains': 0, 'angel': 0, 'specially': 0, 'ordinary': 0, 'israeli': 0, 'challenge': 0, 'skilled': 0, 'england': 0, 'tory': 0, 'fears': 0, 'matters': 0, 'congratulations': 0, 'foreigners': 0, 'wild': 0, 'suffered': 0, 'crush': 0, '1/2': 0, '#retweet': 0, 'counter': 0, 'written': 0, 'china': 0, 'herself': 0, 'understanding': 0, 'ah': 0, 'operation': 0, 'lesbian': 0, 'leftist': 0, 'wars': 0, 'lord': 0, 'evening': 0, 'repeat': 0, 'breath': 0, 'popular': 0, 'sons': 0, 'youtube': 0, 'informed': 0, 'attractive': 0, 'express': 0, 'runs': 0, 'opening': 0, 'irrelevant': 0, '#keepamericasafe': 0, 'unrwa': 0, 'award': 0, 'subject': 0, 'wherever': 0, 'whoever': 0, 'orders': 0, 'scene': 0, 'establishment': 0, 'praise': 0, 'agents': 0, 'wrote': 0, 'blocking': 0, '🤘': 0, 'anal': 0, 'worthless': 0, 'learned': 0, 'aug': 0, 'billions': 0, 'david': 0, 'patriotic': 0, 'shine': 0, 'surprised': 0, 'selfish': 0, 'john': 0, 'usually': 0, '#donaldtrump': 0, 'assaults': 0, 'energy': 0, 'wives': 0, 'sustainable': 0, 'injured': 0, 'fame': 0, 'mum': 0, 'executive': 0, '<': 0, 'overpopulation': 0, 'berlin': 0, 'nightmare': 0, 'pentagon': 0, 'bother': 0, 'immoral': 0, 'fathers': 0, 'immature': 0, 'democracy': 0, 'folks': 0, '#trumptrain': 0, 'justin': 0, 'floor': 0, 'greedy': 0, 'socialists': 0, 'declares': 0, 'compassion': 0, 'deaths': 0, 'bomb': 0, 'insecure': 0, 'ohio': 0, 'previously': 0, 'brown': 0, 'glasgow': 0, '😅': 0, 'facilities': 0, 'appalling': 0, 'targeting': 0, 'reply': 0, 'ignoring': 0, 'panties': 0, '100,000': 0, 'dumping': 0, 'trans': 0, 'ancestors': 0, 'italia': 0, '😑': 0, 'poll': 0, 'drown': 0, 'calm': 0, 'assume': 0, 'hospital': 0, 'bloody': 0, 'app': 0, '#hostileenvironment': 0, 'imma': 0, 'seconds': 0, 'dismiss': 0, 'climate': 0, 'described': 0, 'arrivals': 0, 'physical': 0, 'sends': 0, 'traffic': 0, 'immediate': 0, 'feet': 0, 'ps': 0, 'sees': 0, 'purpose': 0, 'bless': 0, 'uganda': 0, 'shorts': 0, 'calais': 0, 'holiday': 0, 'trip': 0, '#salvini': 0, 'mention': 0, 'communist': 0, 'dump': 0, '#resist': 0, 'significant': 0, 'plane': 0, 'obsessed': 0, 'coward': 0, 'twisted': 0, 'cough': 0, 'northern': 0, 'reveals': 0, 'med': 0, 'prosecuted': 0, 'fought': 0, 'adult': 0, 'sunday': 0, 'manage': 0, 'offensive': 0, 'inspired': 0, 'pence': 0, 'concern': 0, 'cultures': 0, 'celebrate': 0, 'smile': 0, 'ngo': 0, 'authority': 0, 'endless': 0, '#migrant': 0, 'stays': 0, 'complaint': 0, 'cologne': 0, '‼': 0, 'blaming': 0, 'fools': 0, 'ºðÿ': 0, 'shaming': 0, 'priest': 0, 'personally': 0, 'broad': 0, 'arab': 0, 'submit': 0, 'sadly': 0, 'owes': 0, 'permanently': 0, 'clown': 0, 'leadership': 0, 'harassed': 0, 'meme': 0, 'houston': 0, 'removed': 0, 'ports': 0, 'apology': 0, 'agent': 0, 'email': 0, 'theirs': 0, '75': 0, 'lock': 0, 'spaces': 0, 'feds': 0, 'drops': 0, 'alaska': 0, 'strange': 0, 'field': 0, 'realized': 0, 'abvp': 0, 'carrying': 0, 'similar': 0, '135': 0, 'drunken': 0, '#palestinian': 0, 'brave': 0, '😔': 0, 'mary': 0, 'naked': 0, 'website': 0, 'played': 0, 'draw': 0, 'pact': 0, 'ties': 0, 'blames': 0, '#voteredtosaveamerica': 0, 'convicted': 0, 'christmas': 0, 'punch': 0, 'scream': 0, 'jeff': 0, 'donations': 0, 'finds': 0, 'organizations': 0, 'candace': 0, 'riding': 0, 'michelle': 0, 'philippine': 0, 'invaded': 0, 'reduce': 0, 'troops': 0, '4th': 0, 'cube': 0, 'fish': 0, 'aware': 0, '#unitedstates': 0, 'boycott': 0, 'cops': 0, 'wi': 0, 'screaming': 0, 'stank': 0, 'constant': 0, \"today's\": 0, '#bansanctuarycities': 0, 'possibly': 0, 'six': 0, 'gucci': 0, 'plenty': 0, 'attorney': 0, 'march': 0, 'kicked': 0, 'yea': 0, 'hindu': 0, 'wedding': 0, 'disease': 0, 'stance': 0, 'sleeping': 0, 'defends': 0, 'drives': 0, 'rss': 0, 'renewal': 0, 'prosecute': 0, '#deathpenalty': 0, 'anchor': 0, 'route': 0, 'science': 0, 'husbands': 0, '#nra': 0, 'trashy': 0, 'australian': 0, 'senator': 0, 'territory': 0, 'tourist': 0, 'australians': 0, 'educate': 0, 'situations': 0, 'ukraine': 0, 'successful': 0, 'clue': 0, 'begins': 0, 'videos': 0, 'drivers': 0, '20,000': 0, 'meetings': 0, '2014': 0, 'counting': 0, 'aye': 0, 'frame': 0, 'fucka': 0, 'prepare': 0, 'forgot': 0, 'store': 0, 'myanmar': 0, 'missed': 0, 'teens': 0, 'toxic': 0, 'clueless': 0, 'ignored': 0, 'blacks': 0, 'invite': 0, 'fans': 0, 'beg': 0, 'attempt': 0, 'tx': 0, 'steinle': 0, 'suffer': 0, 'luck': 0, 'scheme': 0, 'judges': 0, 'forcibly': 0, 'strangers': 0, 'pants': 0, 'covering': 0, 'mf': 0, '29': 0, 'vp': 0, 'beaten': 0, 'gift': 0, '):': 0, 'experienced': 0, '😝': 0, 'style': 1, 'stopping': 0, 'nationals': 0, 'hang': 0, 'claimed': 0, 'coke': 0, 'stranger': 0, 'cartel': 0, 'launch': 0, 'harassing': 0, 'lolol': 0, 'embrace': 0, 'neighborhood': 0, 'skin': 0, 'threatening': 0, 'harass': 0, 'tuesday': 0, '#sweden': 0, 'reminds': 0, '#ethiopia': 0, 'antifa': 0, '#foxnews': 0, 'pour': 0, 'beating': 0, 'yourselves': 0, 'ability': 0, 'entrepreneurs': 0, 'anti-immigration': 0, '✊': 0, 'books': 0, 'andrew': 0, 'shots': 0, 'tom': 0, 'sheriff': 0, 'tent': 0, 'remains': 0, 'adults': 0, 'blind': 0, 'breitbart': 0, 'coptic': 0, 'sports': 0, 'sweetie': 0, 'surge': 0, '1500': 0, 'valid': 0, 'labeled': 0, 'license': 0, '#canada': 0, 'radical': 0, 'merely': 0, 'memphis': 0, 'privilege': 0, 'hated': 0, '. . .': 0, 'sept': 0, 'smiling': 0, '#america': 0, 'split': 0, 'logic': 0, 'princess': 0, '«': 0, 'deporting': 0, 'tiny': 0, 'extremists': 0, 'supported': 0, '😡': 0, 'helped': 0, 'savage': 0, 'bare': 0, 'fighter': 0, 'regardless': 0, 'parliament': 0, '#veterans': 0, 'arriving': 0, 'plain': 0, 'influence': 0, 'strict': 0, 'hello': 0, '#jobs': 0, 'alleged': 0, 'sb': 0, 'belief': 0, 'alert': 0, 'incredible': 0, '1,500': 0, 'career': 0, 'sovereign': 0, 'bags': 0, 'violations': 0, 'truths': 0, 'explains': 0, 'promote': 0, 'signs': 0, 'representative': 0, 'accountable': 0, 'mitch': 0, 'mothers': 0, 'latin': 0, '2nd': 0, 'bodies': 0, 'hospitals': 0, 'grab': 0, 'final': 0, 'advocating': 0, 'equality': 0, 'parent': 0, 'dressed': 0, '#india': 0, 'brexit': 0, 'tree': 0, 'christ': 0, '#merkel': 0, '#spygate': 0, 'lessons': 0, 'persecution': 0, \"life's\": 0, 'haha': 0, 'returning': 0, 'pain': 0, 'jihadists': 0, '#eritrea': 0, 'so-called': 0, 'bastard': 0, 'tryin': 0, 'gain': 0, '👍': 0, 'require': 0, 'sole': 0, 'hired': 0, 'fascist': 0, 'zone': 0, 'encouraging': 0, 'patients': 0, 'halt': 0, 'lax': 0, 'jai': 0, 'grants': 0, 'falling': 0, '19': 0, 'pedophiles': 0, 'scumbags': 0, 'temple': 0, 'cold': 0, 'lips': 0, 'co': 0, 'teachers': 0, 'lowest': 0, '¥': 0, 'appeal': 0, 'madness': 0, 'flight': 0, 'tourists': 0, 'properly': 0, 'accident': 0, 'registration': 0, 'slavery': 0, 'felon': 0, '#declassifyfisa': 0, 'unfortunately': 0, 'partner': 0, 'percentage': 0, 'affairs': 0, 'participation': 0, 'locals': 0, 'forcing': 0, 'added': 0, 'wore': 0, 'classy': 0, 'ms13': 0, 'protected': 0, 'pages': 0, 'ap': 0, 'network': 0, 'essential': 0, '#london': 0, 'square': 0, 'tits': 0, 'tower': 0, 'university': 0, 'shan': 0, 'prepared': 0, 'review': 0, 'hides': 0, 'insist': 0, 'images': 0, 'overwhelming': 0, 'victimless': 0, 'deeply': 0, 'leftists': 0, 'piss': 0, 'khan': 0, '#saturdaymorning': 0, 'recognize': 0, 'asses': 0, '#ass': 0, 'tearing': 0, 'tweeted': 0, 'apartment': 0, 'attend': 0, 'elderly': 0, 'includes': 0, '#israel': 0, 'integration': 0, 'fascism': 0, 'extremely': 0, 'reaction': 0, 'surely': 0, 'enforcing': 0, 'opens': 0, 'goddamn': 0, '#amnesty': 0, 'rot': 0, 'consensual': 0, 'bully': 0, 'flip': 0, 'islands': 0, 'eye': 0, 'ag': 0, 'replacement': 0, '#islam': 0, 'shoppers': 0, 'j': 0, 'miami': 0, 'watched': 0, 'weight': 0, '2009': 0, 'pill': 0, 'firm': 0, '👀': 0, '😠': 0, 'donors': 0, 'nudes': 0, 'appeals': 0, 'affected': 0, 'file': 0, 'condom': 0, 'nz': 0, 'smoke': 0, 'meaning': 0, 'heartbreaking': 0, 'foot': 0, 'imigration': 0, '¶': 0, 'collect': 0, 'nude': 0, 'sake': 0, 'talked': 0, 'disagree': 0, '🤬': 0, 'refuge': 0, 'appointment': 0, 'lgbt': 0, 'forms': 0, 'sing': 0, 'frontex': 0, 'politician': 0, 'import': 0, 'fearful': 0, 'alex': 0, '#womendisobey': 0, 'korea': 0, 'assimilation': 0, 'programme': 0, 'saturday': 0, 'hilarious': 0, 'launches': 0, 'lovely': 0, '500,000': 0, 'jason': 0, 'justify': 0, 'caring': 0, 'tattoo': 0, 'range': 0, 'link': 0, 'useful': 0, 'allies': 0, \"obama's\": 0, 'character': 0, 'legit': 0, 'facility': 0, 'pure': 0, 'unfair': 0, 'moves': 0, 'pushed': 0, 'offend': 0, 'stuffed': 0, 'custody': 0, 'invited': 0, 'understood': 0, 'sudanese': 0, 'believes': 0, '#therismoreofthemoutthere': 0, '#preventabledeath': 0, 'comfortable': 0, 'retard': 0, 'mistakes': 0, 'kurz': 0, 'appeasement': 0, 'pleasure': 0, 'cars': 0, 'assholes': 0, 'flows': 0, 'lunch': 0, 'roast': 0, 'marriage': 0, 'admission': 0, 'offering': 0, 'ordered': 0, 'kanye': 0, 'james': 0, 'expired': 0, 'everybody': 0, 'lottery': 0, 'radio': 0, 'steps': 0, 'soccer': 0, '#blacktwitter': 0, 'finland': 0, 'wealthy': 0, 'funeral': 0, 'sisters': 0, 'disgrace': 0, 'agrees': 0, 'scots': 0, 'papers': 0, 'erasing': 0, 'grace': 0, 'warm': 0, 'statue': 0, 'region': 0, 'proper': 0, 'vetting': 0, 'excuses': 0, 'solutions': 0, '🏿': 0, 'ideas': 0, '#constitution': 0, 'theft': 0, 'tunisia': 0, 'sky': 0, 'palestine': 0, 'hopes': 0, 'hotels': 0, 'drama': 0, '🇨': 0, 'bricks': 0, '#keepfamiliestogether': 0, 'sh': 0, 'served': 0, 'hostile': 0, 'sentenced': 0, 'breaks': 0, 'nyc': 0, 'disturbing': 0, 'organized': 0, 'encroachments': 0, 'parts': 0, 'antisemitism': 0, 'solidarity': 0, 'everytime': 0, 'punish': 0, 'suspend': 0, 'yelling': 0, 'dying': 0, 'financial': 0, 'ceuta': 0, 'passing': 0, 'collecting': 0, 'conservatives': 0, 'plot': 0, 'dry': 0, 'smuggling': 0, 'ruined': 0, 'sri': 0, 'fail': 0, 'funded': 0, 'skinned': 0, 'rare': 0, 'types': 0, 'joining': 0, 'unacceptable': 0, 'residency': 0, 'taste': 0, 'abroad': 0, 'vital': 0, 'hypocrisy': 0, 'corner': 0, 'option': 0, 'mission': 0, 'dutch': 0, 'blonde': 0, '#kag2018': 0, 'plus': 0, 'jealous': 0, 'nrc': 0, 'confused': 0, '#germany': 0, '#votered2018': 0, 'elements': 0, 'serco': 0, 'beings': 0, \"libya's\": 0, 'hungry': 0, 'divided': 0, 'encourage': 0, 'pool': 0, 'appointments': 0, 'accusations': 0, 'replace': 0, 'rn': 0, 'acts': 0, 'neck': 0, 'bruh': 0, 'enemy': 0, 'citiziens': 0, 'michael': 0, 'demands': 0, 'unsafe': 0, 'failure': 0, 'std': 0, 'lower': 0, 'sandwiches': 0, 'writing': 0, 'hill': 0, '#slut': 0, 'escaping': 0, 'bazar': 0, 'fits': 0, '#democrat': 0, 'vast': 0, 'ended': 0, 'wh': 0, 'breed': 0, 'pregnancy': 0, 'throat': 0, 'nuts': 0, 'heading': 0, 'closing': 0, 'controlled': 0, 'gen': 0, 'fantastic': 0, 'presidents': 0, 'trusted': 0, 'hunger': 0, 'title': 0, 'conte': 0, '#noillegals': 0, 'thick': 0, 'roam': 0, 'nonsense': 0, '#undocumented': 0, 'professor': 0, 'sa': 0, 'italians': 0, \"man's\": 0, 'libs': 0, '#kavanaugh': 0, 'entitlement': 0, 'insult': 0, 'confirms': 0, 'embassy': 0, '💪': 0, 'hungarian': 0, 'filed': 0, 'bot': 0, 'arm': 0, 'tories': 0, 'dig': 0, 'mario': 0, '#ms13': 0, 'heritage': 0, 'pouring': 0, 'anti-muslim': 0, 'gulf': 0, 'rewarding': 0, 'below': 0, 'backlash': 0, 'psycho': 0, 'generally': 0, '#theicemancometh': 0, 'intercepted': 0, 'businesses': 0, '💩': 0, 'banned': 0, 'developing': 0, 'standards': 0, 'empower': 0, 'contact': 0, 'springs': 0, 'reminder': 0, 'reform': 0, '#closetheborders': 0, 'payment': 0, 'interference': 0, 'demographics': 0, 'conspiracy': 0, 'bt': 0, 'brick': 0, 'idc': 0, 'competing': 0, 'object': 0, 'deliberate': 0, 'admin': 0, 'accurate': 0, 'nationalism': 0, 'lick': 0, '2013': 0, 'fired': 0, 'stamps': 0, 'ontario': 0, 'patriots': 0, 'nuclear': 0, 'encroached': 0, 'globalists': 0, 'ireland': 0, 'laughs': 0, 'options': 0, 'chat': 0, 'proposed': 0, 'anybody': 0, 'japanese': 0, 'suspected': 0, 'delete': 0, 'sum': 0, '#secureourborder': 0, 'grade': 0, 'reduced': 0, '☑': 0, 'fbi': 0, 'contribute': 0, 'foh': 0, 'deserved': 0, '8:': 0, 'sideways': 0, '22': 0, 'ffs': 0, 'enrich': 0, 'typical': 0, 'grows': 0, 'misogyny': 0, 'shall': 0, 'dass': 0, 'grand': 0, 'rampant': 0, 'flood': 0, 'douche': 0, 'licenses': 0, 'investigate': 0, 'appropriate': 0, 'denial': 0, '#remove': 0, 'prize': 0, 'fuel': 0, 'dragged': 0, 'mps': 0, '21': 0, 'moria': 0, 'prayer': 0, 'ted': 0, 'mindset': 0, '#heretostay': 0, '2019': 0, '#feminism': 0, '#cpc': 0, 'hun': 0, 'hiding': 0, 'dichotomy': 0, 'mike': 0, 'shocking': 0, 'mob': 0, 'tag': 0, 'famous': 0, 'nope': 0, 'wolf': 0, 'pigs': 0, 'continuing': 0, 'creepy': 0, 'smell': 0, 'somalia': 0, 'statistics': 0, 'fees': 0, 'applied': 0, 'reaching': 0, 'pounds': 0, 'slutty': 0, 'viktor': 0, 'retire': 0, '🙏': 0, 'restaurant': 0, 'daniel': 0, 'slaves': 0, 'slow': 0, 'independence': 0, 'scumbag': 0, 'resistance': 0, 'dutton': 0, '#kakuma': 0, 'initiative': 0, 'clout': 0, 'ªðÿ': 0, 'trick': 0, 't-shirt': 0, 'indigenous': 0, 'duterte': 0, 'reaches': 0, 'treats': 0, 'stream': 0, 'determined': 0, 'cocks': 0, '#texas': 0, 'lemme': 0, 'dressing': 0, 'fckin': 0, '2,000': 0, 'rates': 0, 'uneducated': 0, 'determine': 0, 'nine': 0, 'irresponsible': 0, 'rescues': 0, \"country's\": 0, 'courts': 0, 'oil': 0, 'denies': 0, 'horrible': 0, 'valley': 0, 'strip': 0, 'xx': 0, 'relationships': 0, 'author': 0, '👎': 0, 'survive': 0, 'womens': 0, 'croatia': 0, 'residents': 0, 'theme': 0, 'caused': 0, 'smack': 0, 'impacts': 0, 'bankrupt': 0, 'attempted': 0, 'trial': 0, 'filled': 0, 'afghani': 0, 'rapper': 0, 'apple': 0, 'wat': 0, 'unchecked': 0, 'species': 0, '#thursdaythoughts': 0, 'treason': 0, '#wakeup': 0, 'challenges': 0, 'carried': 0, 'grew': 0, 'tease': 0, 'orange': 0, 'protested': 0, 'bastards': 0, 'powers': 0, 'miles': 0, 'shock': 0, 'workplace': 0, 'stadium': 0, 'stronger': 0, 'commission': 0, 'philippines': 0, 'measures': 0, 'corbyn': 0, 'headed': 0, 'tanzania': 0, 'dumbest': 0, 'brazil': 0, 'crackdown': 0, 'bored': 0, 'effective': 0, 'tim': 0, 'virtue': 0, 'sis': 0, 'overwhelmed': 0, 'rhetoric': 0, 'diversityâ': 0, '#trumptrain2020': 0, 'specific': 0, 'guide': 0, 'causing': 0, '24': 0, 'usual': 0, 'memorial': 0, 'messages': 0, 'gray': 0, 'sat': 0, 'assuming': 0, 'fyi': 0, 'mommy': 0, 'began': 0, 'xenophobia': 0, 'humor': 0, 'pride': 0, 'proved': 0, 'hmmm': 0, 'threw': 0, 'romania': 0, 'mo': 0, 'gut': 0, 'younger': 0, 'wishes': 0, 'glam': 0, 'unable': 0, 'hawaii': 0, 'entirely': 0, 'reached': 0, 'doug': 0, 'concentrate': 0, '#jaredkushner': 0, 'theresa': 0, 'cheese': 0, 'legitimate': 0, 'deals': 0, 'nzm': 0, 'directed': 0, 'farmers': 0, 'perspective': 0, 'organic': 0, 'kylie': 0, 'continued': 0, 'string': 0, 'elite': 0, 'mueller': 0, 'tickets': 0, 'supplies': 0, 'stan': 0, 'aquarius': 0, 'category': 0, '\\\\': 0, 'haven': 0, 'congo': 0, 'cheats': 0, '2/3': 0, 'panda': 0, 'village': 0, 'intercept': 0, 'sissy': 0, 'violating': 0, 'improve': 0, 'fiscal': 0, 'windrush': 0, 'hanen': 0, 'croatian': 0, 'zealot': 0, 'slippery': 0, 'latino': 0, 'partnership': 0, 'v': 0, 'trapped': 0, 'cutting': 0, 'nigger': 0, 'sarah': 0, 'cus': 0, 'beloved': 0, 'match': 0, 'fabric': 0, 'disembark': 0, 'concrete': 0, 'targeted': 0, 'differences': 0, 'gotten': 0, 'congressman': 0, 'texting': 0, 'shouting': 0, '101': 0, 'participated': 0, 'alot': 0, 'warrant': 0, 'congolese': 0, 'gb': 0, '#ilgov': 0, '#twill': 0, 'friendship': 0, 'pokemon': 0, \"children's\": 0, 'blackout': 0, 'department': 0, '❌': 0, 'occupation': 0, 'tool': 0, 'balance': 0, 'joy': 0, 'threesome': 0, 'pavements': 0, '#liberals': 0, 'convention': 0, 'candy': 0, 'belittle': 0, '#deportationsequalpublicsafety': 0, 'masturbate': 0, 'coverage': 0, 'scale': 0, 'harper': 0, 'actin': 0, '🇴': 0, 'stock': 0, 'unite': 0, 'questions': 0, 'faced': 0, 'joins': 0, 'memes': 0, 'inspiring': 0, 'disrupt': 0, 'egypt': 0, 'grave': 0, 'abandoned': 0, 'hidden': 0, 'tens': 0, 'joking': 0, 'admits': 0, 'dosent': 0, 'lebanese': 0, 'findings': 0, '#noanchorbabies': 0, 'transportation': 0, 'cox': 0, 'engage': 0, 'opportunities': 0, '#fridaymotivation': 0, 'campus': 0, 'heavy': 0, 'insulting': 0, 'drag': 0, 'quotes': 0, 'detaining': 0, 'trend': 0, '#truth': 0, 'petty': 0, 'truck': 0, 'dates': 0, 'fugly': 0, 'thursday': 0, 'wasting': 0, \"else's\": 0, 'asian': 0, 'announce': 0, '#mondaymotivation': 0, 'actress': 0, 'root': 0, '#memphis': 0, 'consent': 0, 'yep': 0, 'published': 0, 'karl': 0, 'employment': 0, '#vote': 0, '#palestine': 0, 'gas': 0, 'knife': 0, 'gate': 0, 'relax': 0, 'throws': 0, 'bureau': 0, 'unbelievable': 0, 'niger': 0, 'misery': 0, 'riot': 0, 'loyal': 0, 'machine': 0, 'norwegian': 0, '#patriot': 0, 'harsh': 0, '#france': 0, 'tolerant': 0, 'hunts': 0, 'imported': 0, 'sec': 0, 'childish': 0, 'hahahahaha': 0, 'atrocities': 0, 'ticket': 0, 'hates': 0, 'diseases': 0, 'poison': 0, 'trumps': 0, 'criteria': 0, 'colored': 0, 'cried': 0, 'mall': 0, 'escaped': 0, 'burned': 0, 'foul': 0, 'languages': 0, 'mirror': 0, 'teeth': 0, 'sadiq': 0, 'risks': 0, 'sweeps': 0, 'shameless': 0, 'demographic': 0, 'attempting': 0, 'filter': 0, 'ck': 0, 'ancient': 0, 'anytime': 0, '#keepamericagreat': 0, 'solve': 0, 'insurance': 0, 'depends': 0, 'naw': 0, 'petition': 0, 'cam': 0, 'league': 0, '#worldcup': 0, 'teaches': 0, \"spain's\": 0, 'enclave': 0, 'checking': 0, 'lacks': 0, 'michigan': 0, 'winning': 0, 'dam': 0, 'viral': 0, 'progressive': 0, 'tackle': 0, 'accuses': 0, 'touches': 0, 'soft': 0, 'arrival': 0, 'download': 0, 'android': 0, 'finished': 0, '😥': 0, '300': 0, 'austrians': 0, 'shithole': 0, 'corey': 0, 'tips': 0, 'exact': 0, 'sucked': 0, 'hmm': 0, 'invasions': 0, 'sun': 0, '#favoritepresident': 0, 'non-white': 0, 'congressional': 0, '🚨': 0, '#mexico': 0, 'raid': 0, 'wth': 0, 'abuses': 0, 'leads': 0, '#therearemoreofthemoutthere': 0, 'register': 0, 'donation': 0, 'shoots': 0, 'bjp': 0, 'asia': 0, 'pursue': 0, 'brings': 0, 'woke': 0, 'boring': 0, 'profits': 0, 'hypocritical': 0, 'harmful': 0, 'booty': 0, 'persecuted': 0, '#humantrafficking': 0, 'suicide': 0, 'wallet': 0, 'minnesota': 0, '69': 0, 'marching': 0, '#maga2018': 0, 'guarantee': 0, '#protectamerica': 0, 'retarded': 0, 'connection': 0, 'opportunistic': 0, 'alternative': 0, 'glass': 0, '#nohr392': 0, 'blowing': 0, 'supposed': 0, 'afghans': 0, 'thugs': 0, 'reps': 0, 'snowflakes': 0, 'versus': 0, 'ian': 0, 'wise': 0, 'updates': 0, '#lpc': 0, '#kenya': 0, 'atl': 0, '#onpoli': 0, '#cdnpoli': 0, 'undermine': 0, 'meets': 0, '#voterid': 0, 'positions': 0, 'pronounce': 0, 'nato': 0, 'credits': 0, 'eviction': 0, 'uphold': 0, 'particularly': 0, 'horrendous': 0, 'aiding': 0, 'washed': 0, 'roll': 0, 'welcomes': 0, 'thin': 0, 'intervention': 0, 'lifetime': 0, '#yesallwomen': 0, 'respected': 0, 'parenting': 0, 'methodists': 0, 'sayin': 0, 'coyotes': 0, 'tellin': 0, 'complex': 0, 'professional': 0, 'jose': 0, '34': 0, 'promoted': 0, 'stealing': 0, '#burma': 0, 'oregon': 0, 'coulter': 0, 'snl': 0, 'suit': 0, 'sites': 0, 'touching': 0, 'du': 0, 'occupying': 0, 'planned': 0, 'laughter': 0, 'reasonable': 0, 'multicult': 0, '#familiesbelongtogethermarch': 0, 'cia': 0, 'launched': 0, 'alt-right': 0, 'inferior': 0, 'males': 0, 'passion': 0, '🙈': 0, 'goons': 0, 'regional': 0, 'ethiopian': 0, 'armstrong': 0, '#terrorism': 0, 'chicks': 0, 'stats': 0, 'slams': 0, 'refer': 0, 'visits': 0, 'prefer': 0, 'aw': 0, '😛': 0, '#climatechange': 0, 'temporary': 0, 'owe': 0, 'gym': 0, 'transport': 0, 'lucky': 0, 'builds': 0, 'approved': 0, 'row': 0, 'smarter': 0, 'donated': 0, 'heartbreak': 0, 'highlights': 0, 'crossed': 0, 'ðÿœ': 0, 'potential': 0, 'maine': 0, 'courtesy': 0, 'scenes': 0, 'chick': 0, 'raids': 0, 'joe': 0, 'myth': 0, 'four': 0, 'begging': 0, '😕': 0, 'owners': 0, '#presidenttrump': 0, 'walked': 0, 'refers': 0, 'nod': 0, 'cousin': 0, 'session': 0, 'average': 0, 'rescuing': 0, 'ou': 0, 'dedicated': 0, 'expertise': 0, '62': 0, 'flat': 0, 'fart': 0, '#president': 0, 'toy': 0, 'denying': 0, 'rapidly': 0, 'twist': 0, 'trials': 0, 'foster': 0, 'certainly': 0, 'client': 0, 'alliance': 0, 'whilst': 0, 'tranny': 0, 'somalis': 0, 'curb': 0, 'smells': 0, 'ministers': 0, 'pump': 0, 'audacity': 0, '#30kin30days': 0, 'far-right': 0, 'shocked': 0, 'greater': 0, 'beans': 0, 'enjoys': 0, '50,000': 0, '2012': 0, 'corruption': 0, 'experiment': 0, '73': 0, 'el': 0, 'compromise': 0, 'classic': 0, 'application': 0, 'cage': 0, '#election2018': 0, 'grip': 0, 'cohen': 0, '🚮': 0, 'sneaking': 0, 'moroccan': 0, '#greencardsfordaca': 0, 'fucker': 0, 'slapped': 0, 'tied': 0, 'embarrassment': 0, 'healthy': 0, 'duck': 0, 'wasn': 0, 'morals': 0, 'repeatedly': 0, 'laid': 0, '🙌': 0, 'stunning': 0, '#greatawakening': 0, 'sets': 0, 'freak': 0, 'sentence': 0, '#uncheckedprogressivism': 0, 'provided': 0, 'amid': 0, 'unlawful': 0, 'jumping': 0, 'enemies': 0, 'hurting': 0, 'cabinet': 0, 'serving': 0, 'pissed': 0, 'silence': 0, 'tolerate': 0, \"people's\": 0, 'dramatic': 0, 'appears': 0, 'romanians': 0, 'suddenly': 0, 'knowledge': 0, 'ken': 0, 'checked': 0, 'descent': 0, '#paris': 0, 'richard': 0, 'junior': 0, 'dumped': 0, 'keji': 0, 'accepting': 0, 'generous': 0, '🇦': 0, '#secureborders': 0, 'exposing': 0, 'et': 0, 'ss': 0, 'medicaid': 0, 'originally': 0, '800': 0, 'socialism': 0, 'district': 0, 'depression': 0, 'dropping': 0, 'coffee': 0, 'manager': 0, 'pocket': 0, 'hrc': 0, 'convince': 0, 'tha': 0, 'historic': 0, 'athletes': 0, 'bans': 0, 'nazis': 0, 'september': 0, 'sub': 0, 'stabbed': 0, 'dictate': 0, 'shoes': 0, '#burundi-an': 0, 'dragon': 0, '9/11': 0, 'victoria': 0, 'jim': 0, 'rat': 0, 'rises': 0, 'struggling': 0, 'deluded': 0, 'broadcast': 0, 'catastrophe': 0, 'loss': 0, 'thrive': 0, 'dominant': 0, 'g': 0, 'constitutional': 0, 'voluntary': 0, 'docs': 0, 'bishop': 0, 'platform': 0, 'unions': 0, 'beheads': 0, 'shutdown': 0, 'ty': 0, 'cowards': 0, 'compare': 0, 'quarter': 0, 'caliphate': 0, '#accused': 0, 'problematic': 0, 'guest': 0, 'katie': 0, 'hop': 0, \"relief's\": 0, 'candidate': 0, 'urban': 0, 'comedy': 0, 'communication': 0, 'lgbtq': 0, 'direction': 0, 'table': 0, '#libya': 0, 'alabama': 0, 'parody': 0, 'silver': 0, 'jack': 0, 'eric': 0, 'individual': 0, 'expert': 0, 'obvious': 0, 'jus': 0, 'experts': 0, 'rewarded': 0, 'robbery': 0, 'bombs': 0, 'regions': 0, 'necessary': 0, '¯': 0, 'topic': 0, 'provides': 0, 'dock': 0, 'gathered': 0, 'ten': 0, 'permit': 0, 'plant': 0, 'arrogant': 0, 'hedge': 0, 'sabato': 0, 'indra': 0, 'nooyi': 0, 'dispute': 0, 'patriarchy': 0, 'civilization': 0, 'cancels': 0, \"germany's\": 0, 'blank': 0, 'chances': 0, 'source': 0, 'chilling': 0, 'chavez': 0, 'brainless': 0, 'pushes': 0, 'besides': 0, 'nurse': 0, 'bottle': 0, 'tuned': 0, '#nosanctuarybrewster': 0, 'included': 0, 'kindly': 0, 'controls': 0, \"immigrant's\": 0, 'intelligence': 0, 'gays': 0, '#bitcoin': 0, 'request': 0, 'warn': 0, 'attract': 0, '#muslim': 0, 'stake': 0, 'freaking': 0, 'prices': 0, 'killer': 0, 'forgive': 0, 'hats': 0, 'regular': 0, 'bangladeshis': 0, 'cong': 0, 'opposite': 0, 'deleted': 0, 'engagement': 0, 'estate': 0, 'rough': 0, 'ba': 0, 'replied': 0, '#pjnet': 0, 'arts': 0, 'min': 0, 'horrific': 0, 'hour': 0, 'knock': 0, '#endillegalbirthrightcitizenship': 0, 'loses': 0, 'koreans': 0, 'decides': 0, 'identified': 0, 'google': 0, 'closer': 0, 'screen': 0, 'seven': 0, 'emails': 0, 'spot': 0, '@potus': 0, 'cameroon': 0, 'expecting': 0, 'chelsea': 0, 'girlfriends': 0, '#asylumseekers': 0, '#immigrantsareus': 0, 'falsely': 0, 'april': 0, 'yemen': 0, 'mi': 0, 'deliver': 0, 'unfollowing': 0, 'sicily': 0, 'chosen': 0, '#deportallofthem': 0, 'virginia': 0, 'snowflake': 0, '↺': 0, 'middlesea': 0, 'pose': 0, 'pointing': 0, 'existing': 0, 'contributions': 0, 'pretending': 0, 'phoenix': 0, 'representing': 0, 'iq': 0, 'probe': 0, 'activities': 0, 'prior': 0, 'belly': 0, 'momma': 0, 'uncle': 0, 'schedule': 0, 'grandfather': 0, '#england': 0, 'dan': 0, 'glorious': 0, 'signals': 0, 'automatically': 0, 'senior': 0, 'jungle': 0, 'beneficiaries': 0, 'placed': 0, 'taylor': 0, 'cow': 0, 'nerve': 0, 'involvement': 0, 'ought': 0, '@irinnews': 0, 'restore': 0, 'document': 0, 'fly': 0, '#mollietibbetts': 0, 'produced': 0, 'bridge': 0, 'orbã': 0, 'silly': 0, 'protects': 0, 'celebrating': 0, 'mollie': 0, 'chicken': 0, 'roots': 0, 'controlling': 0, 'presence': 0, 'brand': 0, 'importing': 0, 'politically': 0, 'rocks': 0, 'burdening': 0, 'spoken': 0, '\\xad': 0, 'los': 0, 'opinions': 0, 'quickly': 0, 'leo': 0, '\\x8d': 0, 'breakfast': 0, 'colleges': 0, 'negativity': 0, 'ocean': 0, 'pee': 0, 'bombing': 0, '#hypocrisy': 0, 'fishing': 0, 'athens': 0, '6th': 0, 'lands': 0, '#nyc': 0, 'amusing': 0, 'favor': 0, '#why': 0, '#soros': 0, 'jane': 0, 'producer': 0, '25,000': 0, 'upside': 0, 'diplomatic': 0, 'invest': 0, 'sam': 0, 'thor': 0, 'keyboard': 0, 'meaningful': 0, '#petty': 0, 'tunisian': 0, 'ran': 0, 'crossings': 0, 'fuckers': 0, 'involve': 0, 'algeria': 0, '1.5': 0, 'russell': 0, 'hateful': 0, '2030': 0, 'rabid': 0, 'catcall': 0, 'deactivate': 0, 'emigration': 0, 'awaits': 0, 'fuckboy': 0, 'greatness': 0, 'lay': 0, 'shite': 0, 'pop': 0, 'flotus': 0, 'coz': 0, 'cruelty': 0, 'immigrationâ': 0, '#weinstein': 0, 'non-profit': 0, 'relocation': 0, 'stomach': 0, 'lebron': 0, 'suburb': 0, 'hurricane': 0, 'onto': 0, 'trumpers': 0, 'notallmen': 0, '#katesteinle': 0, 'swamp': 0, 'fashion': 0, 'verdict': 0, 'chris': 0, 'tibbetts': 0, 'mosque': 0, 'trap': 0, 'signalling': 0, '3,000': 0, '5th': 0, 'alexander': 0, '#whitepride': 0, 'exposed': 0, 'holidaymakers': 0, '57': 0, 'struggles': 0, 'monsters': 0, 'pollution': 0, '💁': 0, 'addressed': 0, 'lookin': 0, 'compliment': 0, 'whiny': 0, 'º': 0, 'rotten': 0, 'brandon': 0, 'superman': 0, 'buddies': 0, 'jackson': 0, 'barcelona': 0, 'rooms': 0, 'tune': 0, 'advance': 0, 'strengthen': 0, 'shift': 0, 'presents': 0, 'friendly': 0, 'choking': 0, 'geo': 0, 'placing': 0, 'requirement': 0, 'herpes': 0, 'shout': 0, 'distract': 0, '#isis': 0, '#standwithice': 0, 'frank': 0, 'lee': 0, 'hung': 0, '#bitch': 0, 'arabic': 0, 'rival': 0, 'applaud': 0, 'absurd': 0, '#maga2020': 0, 'payments': 0, 'victimized': 0, 'subscribe': 0, '35': 0, 'hen': 0, 'promptly': 0, 'plastic': 0, 'tents': 0, '#maledomination': 0, 'internet': 0, 'barbecue': 0, 'filters': 0, 'cartels': 0, 'fifth': 0, 'twit': 0, 'emotions': 0, 'collapse': 0, 'album': 0, 'tracking': 0, 'representatives': 0, '#winning': 0, 'jihad': 0, 'neither': 0, '💰': 0, 'slimy': 0, '#tedxkakumacamp': 0, 'inner': 0, 'bars': 0, 'objects': 0, 'shortly': 0, 'comfort': 0, 'tipping': 0, 'hurry': 0, 'minded': 0, 'prevented': 0, 'era': 0, 'flooding': 0, 'item': 0, 'delivery': 0, '#fordnation': 0, 'cbs': 0, 'ditch': 0, 'nowhere': 0, 'fatal': 0, 'flipped': 0, 'mayors': 0, 'conquer': 0, 'processing': 0, 'characters': 0, '95': 0, 'literacy': 0, 'comic': 0, 'kutupalong': 0, 'lifestyle': 0, 'anyways': 0, 'serbia': 0, 'gorgeous': 0, 'indirect': 0, 'practices': 0, 'sanctions': 0, 'na': 0, 'anxiety': 0, 'gettin': 0, 'vaccine': 0, 'kenya': 0, 'sexting': 0, 'tour': 0, 'risen': 0, 'fires': 0, 'robbed': 0, 'thier': 0, 'previous': 0, 'iranians': 0, 'housed': 0, 'exposure': 0, 'disgust': 0, 'boris': 0, 'writes': 0, 'sponsored': 0, 'thief': 0, 'ad': 0, 'deplorables': 0, 'dismissed': 0, 'oppression': 0, 'ripped': 0, 'suspends': 0, '💗': 0, '/:': 0, 'twelve': 0, 'sell': 0, '#no': 0, 'height': 0, 'compound': 0, 'buses': 0, 'visited': 0, 'unemployed': 0, 'bravo': 0, '#bu': 0, '21st': 0, 'historically': 0, 'hint': 0, '#refugeeawarenessmonth': 0, 'glorifying': 0, 'tongue': 0, 'rohingyas': 0, 'spree': 0, 'recognition': 0, 'huh': 0, 'haitian': 0, '👅': 0, 'tear': 0, 'surgeon': 0, 'fearless': 0, 'jersey': 0, 'crucial': 0, 'drain': 0, 'bigot': 0, '#kuwait': 0, '#patriotsunited': 0, 'badly': 0, 'cbc': 0, 'independent': 0, 'asylum-seekers': 0, '#endillegalimmigration': 0, 'plague': 0, 'hysteria': 0, 'infrastructure': 0, 'jobless': 0, 'charity': 0, '📷': 0, 'arming': 0, 'prolonged': 0, 'cyprus': 0, 'stunned': 0, 'cuff': 0, 'lemons': 0, 'fights': 0, '#palestinians': 0, 'rage': 0, '#uganda': 0, 'op': 0, 'rebuilding': 0, 'khalid': 0, 'isqra': 0, 'bullying': 0, 'journalists': 0, 'fa': 0, 'donating': 0, 'bob': 0, 'visitors': 0, 'thoughts': 0, 'argue': 0, '#americanshavedreamstoo': 0, 'ballot': 0, 'trynna': 0, 'turists': 0, 'jennifer': 0, '💝': 0, 'conscience': 0, 'forefront': 0, 'compact': 0, 'rihanna': 0, 'print': 0, 'rica': 0, 'strength': 0, 'believing': 0, 'sentiment': 0, 'window': 0, 'unvetted': 0, '#criminal': 0, '#inhumane': 0, 'teams': 0, 'tours': 0, '#notmypresident': 0, 'moscow': 0, '#travelban': 0, 'crossers': 0, 'shooter': 0, '--->': 0, '👑': 0, 'offices': 0, 'pound': 0, 'dealer': 0, 'offenses': 0, 'criticizing': 0, 'introduce': 0, 'publicly': 0, 'murderers': 0, 'privacy': 0, 'wb': 0, 'ã': 0, 'newspaper': 0, 'cents': 0, 'associated': 0, 'endorses': 0, 'mercy': 0, 'core': 0, 'preach': 0, 'vans': 0, 'violated': 0, 'rent': 0, 'complained': 0, 'marx': 0, 'mud': 0, 'supposedly': 0, 'succeed': 0, 'delays': 0, 'navy': 0, 'wings': 0, 'bonus': 0, '60,000': 0, 'nd': 0, 'unfortunate': 0, 'acc': 0, 'deports': 0, 'measure': 0, 'youths': 0, '26': 0, 'washing': 0, 'bigotry': 0, 'nbc': 0, 'trillion': 0, 'packed': 0, 'punishment': 0, 'chop': 0, 'attached': 0, 'priorities': 0, 'investigated': 0, 'inappropriate': 0, 'mistress': 0, 'cats': 0, 'defy': 0, 'sheep': 0, 'boobs': 0, 'caller': 0, 'ordinances': 0, 'impose': 0, 'morons': 0, 'patriot': 0, 'idiotic': 0, 'sean': 0, 'pacific': 0, 'penalty': 0, 'obey': 0, 'soil': 0, 'flush': 0, 'accent': 0, 'establish': 0, 'hairy': 0, 'sunglasses': 0, 'celebrations': 0, 'bid': 0, 'st': 0, 'ash': 0, 'operate': 0, 'buildings': 0, 'coastguards': 0, 'commercial': 0, 'crook': 0, '#endfamilyseparation': 0, 'joined': 0, 'coat': 0, 'ripping': 0, 'regard': 0, 'owner': 0, 'sack': 0, 'pity': 0, '🤧': 0, 'asset': 0, 'hoping': 0, '#nfl': 0, 'revolution': 0, '#hungary': 0, 'deeper': 0, 'unfollowed': 0, 'censorship': 0, \"family's\": 0, 'industrial': 0, 'betraying': 0, 'retail': 0, 'specialist': 0, 'portland': 0, 'image': 0, 'imagining': 0, 'joseph': 0, 'stroke': 0, 'describes': 0, 'decay': 0, 'horny': 0, 'duh': 0, 'brigade': 0, 'slovenia': 0, 'olympics': 0, 'lieing': 0, 'examples': 0, '#stopwhitegenocide': 0, '#stopthegreatreplacement': 0, 'incompetent': 0, 'aftermath': 0, 'eligible': 0, 'predators': 0, 'notes': 0, 'hometown': 0, 'bombings': 0, 'icon': 0, 'tale': 0, 'bragged': 0, 'bf': 0, 'balkan': 0, '#nelly': 0, 'francisco': 0, '#familyseparation': 0, 'inquiry': 0, 'captured': 0, 'cans': 0, 'eritrea': 0, 'accepted': 0, '💔': 0, 'levels': 0, 'thinkin': 0, 'stash': 0, 'koch': 0, 'infected': 0, 'motherfucker': 0, 'replaced': 0, 'mounting': 0, '😐': 0, 'accuser': 0, 'todays': 0, 'particular': 0, 'articles': 0, '#sex': 0, 'inspire': 0, 'frost': 0, '#kateswall': 0, '#kag2020': 0, 'dnc': 0, 'non-citizens': 0, 'issued': 0, 'legend': 0, 'ion': 0, 'recollection': 0, 'winners': 0, 'nobel': 0, 'vets': 0, 'soooo': 0, 'holocaust': 0, 'needing': 0, 'leftminded': 0, 'freeloaders': 0, 'prisoners': 0, 'plz': 0, 'stretch': 0, 'finna': 0, \"government's\": 0, 'repatriate': 0, 'countrymen': 0, 'facilitating': 0, 'boost': 0, 'slick': 0, 'settlement': 0, 'nigerians': 0, 'rapefugees': 0, 'der': 0, 'rinos': 0, 'avenues': 0, 'revenge': 0, 'sai': 0, 'en': 0, '#mentalhealth': 0, 'discussing': 0, '🤤': 0, '10,000': 0, 'polls': 0, 'banks': 0, 'edge': 0, '🍕': 0, 'empowering': 0, 'rino': 0, '#malaysia': 0, 'confirm': 0, 'fragile': 0, 'stink': 0, 'boyfriends': 0, 'vocational': 0, 'hasn': 0, 'sport': 0, 'closes': 0, '#kamalaharris': 0, 'workforce': 0, '32': 0, 'exploited': 0, 'fresh': 0, 'e-book': 0, 'applies': 0, 'dms': 0, 'eminem': 0, 'js': 0, 'teenage': 0, 'slave': 0, 'master': 0, 'terrifying': 0, 'secretly': 0, 'shamed': 0, 'revoke': 0, 'lmaoo': 0, 'watches': 0, 'iron': 0, 'rings': 0, 'ch': 0, 'jones': 0, 'praised': 0, 'ignorance': 0, 'schooling': 0, 'ed': 0, 'task': 0, 'purge': 0, 'comin': 0, 'qualified': 0, 'dave': 0, 'sara': 0, 'bat': 0, '1/3': 0, 'shake': 0, 'impossible': 0, 'noticed': 0, 'guts': 0, 'al-qaeda': 0, '8/': 0, 'turnbull': 0, 'collective': 0, 'engaged': 0, '#scotus': 0, 'robbing': 0, 'ears': 0, 'stood': 0, 'projects': 0, 'condition': 0, 'venezuelan': 0, 'impoverished': 0, 'lit': 0, 'joint': 0, 'dj': 0, 'stations': 0, '#southsudan': 0, 'horrifying': 0, 'nails': 0, 'forest': 0, 'âƒ': 0, 'cloth': 0, 'applications': 0, 'ing': 0, 'com': 0, 'dentist': 0, 'southwest': 0, 'explanation': 0, 'mytilene': 0, 'everify': 0, 'farms': 0, 'lang': 0, '#voters': 0, '24/7': 0, 'divide': 0, 'phones': 0, '#dreamact': 0, 'riots': 0, 'netflix': 0, 'universal': 0, '#moria': 0, 'supremacist': 0, 'contractors': 0, 'assimilated': 0, 'restored': 0, 'valuable': 0, 'grandma': 0, 'effect': 0, 'iranian': 0, 'mobs': 0, ':d': 0, 'pie': 0, 'elizabeth': 0, '@anncoulter': 0, 'limbo': 0, 'coding': 0, 'fails': 0, '😚': 0, 'faggots': 0, '#buildthatdamnwallnow': 0, 'bedroom': 0, 'achieve': 0, 'hack': 0, 'pepsi': 0, 'demonstrate': 0, '2500': 0, 'homo': 0, 'max': 0, '♡': 0, 'kicks': 0, \"someone's\": 0, 'identify': 0, 'affecting': 0, \"tomorrow's\": 0, 'native-born': 0, 'betray': 0, '46': 0, 'essentially': 0, 'heres': 0, 'chillin': 0, 'un-eu': 0, 'pimps': 0, 'jamie': 0, 'secretary': 0, 'stating': 0, 'ðÿž': 0, 'sneaky': 0, 'âš': 0, 'screwing': 0, 'magic': 0, 'dusu': 0, 'bass': 0, 'retweeted': 0, \"chicago's\": 0, 'communicate': 0, 'infidels': 0, 'effects': 0, 'monthly': 0, 'spill': 0, 'reign': 0, 'essay': 0, 'meddling': 0, 'ungrateful': 0, 'advocacy': 0, '#memphiswelcomesrefugees': 0, 'vacations': 0, 'airfare': 0, 'waiter': 0, 'evaded': 0, 'dismantle': 0, 'tunnel': 0, 'mix': 0, 'releases': 0, '1000s': 0, '😜': 0, 'lily': 0, 'content': 0, 'ding': 0, 'steven': 0, 'arguments': 0, 'steve': 0, 'captive': 0, 'medal': 0, 'humanely': 0, '#chainmigration': 0, 'radically': 0, 'limiting': 0, 'representation': 0, 'francis': 0, 'convert': 0, 'tribal': 0, 'motto': 0, 'cave': 0, 'az': 0, 'planning': 0, 'systematic': 0, 'mali': 0, '#wall': 0, 'marriages': 0, 'banning': 0, '✌': 0, \"ram's\": 0, 'newest': 0, 'ol': 0, '#moreofthisplease': 0, 'restrict': 0, 'beheaded': 0, 'bitchin': 0, '#racist': 0, 'bday': 0, 'rap': 0, 'awhile': 0, 'lyrics': 0, 'spice': 0, 'principles': 0, 'quietly': 0, 'overly': 0, '#safepassage': 0, '#childrape': 0, 'sugar': 0, 'brian': 0, 'kidnap': 0, 'shirt': 0, '#patriots': 0, '#britain': 0, 'negligence': 0, 'speed': 0, 'comprehensive': 0, '💖': 0, 'bush': 0, 'computer': 0, 'frustration': 0, 'w-others': 0, 'char': 0, 'pandits': 0, 'flop': 0, 'farmer': 0, '`': 0, 'construction': 0, 'hyuna': 0, 'withhold': 0, 'speaker': 0, 'responding': 0, 'workshop': 0, 'wealth': 0, 'requires': 0, 'matteo': 0, 'psychotic': 0, '#leaveeu': 0, 'sensitive': 0, '#aquarius': 0, '♥': 0, 'obligation': 0, 'gofundme': 0, '160': 0, 'hundred': 0, 'blamed': 0, 'stir': 0, 'faith': 0, 'couldn': 0, 'demon': 0, 'bite': 0, \"president's\": 0, 'anger': 0, 'vicious': 0, 'ourselves': 0, 'kys': 0, '2005': 0, 'exploitation': 0, 'maintaining': 0, 'feminazis': 0, 'premise': 0, '77': 0, 'foment': 0, 'cent': 0, 'alright': 0, 'horn': 0, 'buried': 0, 'transparency': 0, 'asians': 0, 'van': 0, 'safer': 0, 'enjoyed': 0, 'philly': 0, 'municipal': 0, 'philadelphia': 0, 'funniest': 0, \"putin's\": 0, 'fo': 0, 'sloppy': 0, 'allegation': 0, 'groceries': 0, '#deplorables': 0, 'survivor': 0, 'cheering': 0, '#immigration2018': 0, 'letter': 0, 'teenagers': 0, 'uncertainty': 0, 'somehow': 0, 'harrassment': 0, 'perfectly': 0, 'parking': 0, 'davis': 0, '111': 0, 'pa': 0, 'waves': 0, 'perpetrator': 0, 'shorter': 0, 'grope': 0, 'julian': 0, '#saudiarabia': 0, '#pcpo': 0, 'disgusted': 0, 'submitted': 0, 'kings': 0, \"canada's\": 0, 'deaf': 0, 'existence': 0, 'gutter': 0, 'packing': 0, '85': 0, 'importance': 0, 'toilet': 0, 'fighters': 0, 'tie': 0, 'wishing': 0, 'raising': 0, 'bury': 0, 'handouts': 0, '500.000': 0, 'puppets': 0, 'apologize': 0, 'susan': 0, 'eyebrows': 0, 'personality': 0, '#redwave': 0, 'spiritual': 0, 'shop': 0, 'ease': 0, \"blair's\": 0, 'deadass': 0, 'formerly': 0, 'temp': 0, 'farming': 0, 'mate': 0, 'inhuman': 0, '#deportillegalaliens': 0, 'booger': 0, 'boot': 0, 'victory': 0, 'rolls': 0, '#bangkok': 0, '10:30': 0, 'humane': 0, 'mandate': 0, 'responses': 0, 'seehofer': 0, 'outlaws': 0, 'lift': 0, 'masses': 0, 'mainstream': 0, 'historical': 0, 'xd': 0, '2010': 0, 'mama': 0, 'recorded': 0, 'blatant': 0, 'seats': 0, 'eh': 0, 'founder': 0, 'beater': 0, 'transit': 0, 'brits': 0, 'di': 0, 'commissioner': 0, 'kindness': 0, 'no-lottery': 0, 'glory': 0, 'neglected': 0, 'beast': 0, 'suckin': 0, 'verã': 0, 'dank': 0, 'appear': 0, 'constituency': 0, 'suppose': 0, 'studies': 0, 'suspect': 0, 'ambassador': 0, '911': 0, '#redtsunami': 0, '#ypfdj': 0, 'altogether': 0, 'lavrov': 0, 'cope': 0, '#factcheck': 0, '#mandateeverify': 0, 'giant': 0, 'snp': 0, '😴': 0, 'sought': 0, '#enoughisenough': 0, 'dramatically': 0, 'colonial': 0, 'devos': 0, 'arse': 0, 'dominance': 0, 'yah': 0, '#dems': 0, 'multiculturalism': 0, 'assure': 0, 'cared': 0, 'ik': 0, \"nation's\": 0, 'jhugis': 0, '48': 0, 'godless': 0, 'idaho': 0, '#confirmjudgekavanaugh': 0, 'exception': 0, 'anniversary': 0, '#arizona': 0, 'usd': 0, 'proudly': 0, 'raw': 0, 'dummy': 0, 'amer': 0, 'vienna': 0, 'actor': 0, 'serial': 0, 'babe': 0, 'confirmed': 0, 'empowerment': 0, 'fav': 0, 'checks': 0, '®': 0, 'ye': 0, '¨': 0, 'admitting': 0, 'maintain': 0, 'explosive': 0, 'naturally': 0, 'ssn': 0, 'numerous': 0, 'denied': 0, 'monologue': 0, 'undermines': 0, 'recipients': 0, '#bluelivesmatter': 0, 'manner': 0, 'mamta': 0, 'kigoma': 0, 'creates': 0, '#executiveorder': 0, 'losers': 0, 'austin': 0, '#voteblue': 0, 'fraction': 0, 'phase': 0, 'extreme': 0, 'panic': 0, 'defensive': 0, 'grande': 0, 'tournament': 0, 'boarders': 0, 'pulled': 0, '¼': 0, 'yoga': 0, '49': 0, 'lawmakers': 0, 'referring': 0, 'motherfucking': 0, 'tit': 0, 'exit': 0, 'irony': 0, 'bengal': 0, 'initiate': 0, 'existed': 0, 'hitting': 0, 'survival': 0, 'biting': 0, 'fancy': 0, 'feared': 0, 'chew': 0, 'expands': 0, 'storage': 0, 'cancel': 0, 'leading': 0, 'passionate': 0, 'laura': 0, 'membership': 0, 'thots': 0, 'bull': 0, '#shutdownacdc': 0, 'traitors': 0, 'cells': 0, 'maid': 0, '#redwaverising2018': 0, 'ministry': 0, '#getoutthevote': 0, 'bum': 0, 'circle': 0, 'ratio': 0, 'facial': 0, 'tanzanian': 0, 'nelson': 0, 'approach': 0, 'pot': 0, 'supremacists': 0, 'volunteering': 0, '#brexitshambles': 0, 'ie': 0, 'deputy': 0, 'focusing': 0, 'nicola': 0, 'announced': 0, 'drowning': 0, 'passports': 0, 'intellectual': 0, 'underway': 0, 'horribly': 0, 'alarm': 0, 'amen': 0, 'neighbor': 0, 'cm': 0, 'hardest': 0, 'homophobic': 0, 'flyer': 0, 'phony': 0, 'korean': 0, 'cap': 0, 'kuwait': 0, 'begun': 0, 'assist': 0, 'affordable': 0, 'tunnels': 0, 'swept': 0, 'kidnapping': 0, '#lockthemallup': 0, 'nomination': 0, 'rob': 0, 'beats': 0, 'benifits': 0, '#obamacare': 0, 'reminded': 0, 'pink': 0, 'lifeline': 0, 'shores': 0, 'flying': 0, 'represent': 0, 'vouchers': 0, 'wine': 0, 'opportunist': 0, '#muslimban': 0, 'scary': 0, 'watson': 0, 'spankings': 0, \"merkel's\": 0, 'widodo': 0, 'lining': 0, 'pulling': 0, 'diego': 0, 'heck': 0, 'reveal': 0, 'determination': 0, 'electric': 0, 'causes': 0, 'descendants': 0, 'fiction': 0, 'va': 0, 'kevin': 0, 'accidentally': 0, 'decade': 0, 'betrayed': 0, 'spends': 0, '#tech': 0, 'fascists': 0, 'ally': 0, '#republican': 0, 'starter': 0, 'americas': 0, 'destroys': 0, 'monsoon': 0, 'fewer': 0, '#nigeria': 0, 'active': 0, 'featured': 0, 'praying': 0, 'insults': 0, \"father's\": 0, 'diverse': 0, 'ultimate': 0, 'fb': 0, 'programming': 0, 'site': 0, '#aca': 0, 'moratorium': 0, 'fields': 0, '#redpill': 0, 'implications': 0, 'csu': 0, 'limits': 0, 'hiv-positive': 0, 'fairness': 0, '#feminist': 0, 'dhimmi': 0, 'behead': 0, 'requests': 0, '#novisalottery': 0, 'avoided': 0, 'stores': 0, 'data': 0, 'spending': 0, 'gegen': 0, 'hanging': 0, 'liquor': 0, 'veteran': 0, 'awkward': 0, '#againstallenemies': 0, 'rome': 0, 'cheers': 0, 'reporter': 0, 'hitler': 0, 'nj': 0, 'thrown': 0, 'proves': 0, 'rubbing': 0, '#policestate': 0, '#impeach45': 0, 'detainees': 0, 'affect': 0, 'homelands': 0, 'hungover': 0, 'increasingly': 0, 'outrageous': 0, '#indiaforindians': 0, '#1a': 0, 'uh': 0, 'wifi': 0, 'encouraged': 0, 'roundtable': 0, 'spirit': 0, 'rsvp': 0, 'barbara': 0, 'redefining': 0, 'instant': 0, 'appointed': 0, 'roaming': 0, 'acid': 0, 'slam': 0, 'sovereignty': 0, 'mentioned': 0, 'sigh': 0, 'aleppo': 0, 'damaged': 0, ':p': 0, 'mhmmm': 0, 'ruining': 0, 'weakness': 0, 'magazine': 0, 'incarcerated': 0, 'bernie': 0, 'subway': 0, 'invitation': 0, 'production': 0, 'crude': 0, 'traitorous': 0, 'handling': 0, 'moslem': 0, 'pisses': 0, 'backed': 0, 'stone': 0, 'shotgun': 0, '・': 0, 'podcast': 0, 'rushed': 0, 'survived': 0, 'titties': 0, 'deployment': 0, 'dui': 0, 'entertainment': 0, 'prostitute': 0, 'disability': 0, 'compassionate': 0, 'christianity': 0, 'biased': 0, '🔨': 0, 'hypocrite': 0, 'uncomfortable': 0, 'cis': 0, 'mogadishu': 0, '#tedcruz': 0, 'bengali': 0, '🎉': 0, '#jordan': 0, 'non-eu': 0, '🇲': 0, 'jury': 0, 'correctly': 0, 'libtard': 0, 'sops': 0, 'expense': 0, 'alter': 0, 'wan': 0, '#braingainnewzealand': 0, 'quote': 0, 'approval': 0, 'affair': 0, 'handler': 0, 'relentless': 0, 'ne': 0, 'desire': 0, 'automatic': 0, 'brat': 0, 'links': 0, 'bitching': 0, 'scott': 0, 'bust': 0, 'ita': 0, 'remigration': 0, 'anti-white': 0, 'enters': 0, 'quoted': 0, 'intelligent': 0, 'tactics': 0, 'roster': 0, '#bordersecurity': 0, 'defined': 0, 'ford': 0, 'selfie': 0, '1,000': 0, 'spots': 0, 'costume': 0, 'protections': 0, 'chef': 0, 'hashtag': 0, 'mount': 0, 'demean': 0, 'strategy': 0, 'burma': 0, '#abvpkagundaraj': 0, 'capture': 0, 'household': 0, '🇯': 0, 'seperate': 0, 'repeal': 0, 'enrollment': 0, '👉': 0, 'hahahahahahaha': 0, 'receiving': 0, '#welcomingthestranger': 0, 'ukrainian': 0, '😹': 0, 'narcissist': 0, 'moo': 0, 'incorrect': 0, 'loophole': 0, 'trunk': 0, 'attorneys': 0, 'requirements': 0, 'museum': 0, 'outlined': 0, 'punt': 0, 'insensitive': 0, '61': 0, 'implementation': 0, 'gst': 0, 'lefties': 0, 'sheer': 0, 'venezuela': 0, 'labourers': 0, 'eager': 0, 'brightest': 0, 'gods': 0, 'maria': 0, 'sahara': 0, \"gov't\": 0, '#nosanctuarycities': 0, 'pak': 0, 'davidson': 0, 'hatin': 0, 'juan': 0, '#fuck': 0, 'violation': 0, 'highway': 0, 'goverments': 0, 'mandy': 0, 'manning': 0, 'stopps': 0, 'expand': 0, 'sonoran': 0, 'righteous': 0, 'mode': 0, '#nosanctuarystates': 0, 'counted': 0, 'ruth': 0, 'managing': 0, 'pedro': 0, 'replacing': 0, 'buffoon': 0, 'lindsey': 0, 'alternatives': 0, 'burqa': 0, 'handed': 0, 'overstaying': 0, 'bargain': 0, 'stressed': 0, 'maintains': 0, 'elites': 0, 'mosely': 0, 'moaning': 0, \"girl's\": 0, '😫': 0, 'cupcake': 0, '#what': 0, 'blah': 0, 'approves': 0, 'incredibly': 0, 'soul': 0, 'spark': 0, 'properties': 0, 'nra': 0, 'soap': 0, 'presenting': 0, 'fallen': 0, 'megaphone': 0, 'mumble': 0, 'ole': 0, 'encroachment': 0, 'modi': 0, '30yo': 0, 'eve': 0, 'evangelical': 0, 'swapping': 0, 'yemenis': 0, '45,000': 0, 'predator': 0, 'bothered': 0, 'prefers': 0, \"trudeau's\": 0, 'precious': 0, 'chloe': 0, 'aided': 0, ':@': 0, 'torture': 0, 'guilt': 0, 'dessert': 0, 'adding': 0, 'mcgowan': 0, 'accidents': 0, '#southcarolina': 0, 'betsy': 0, '#internaldisplacement': 0, 'finnish': 0, 'scrounging': 0, '#fcct': 0, 'trees': 0, 'assimilating': 0, 'stepping': 0, 'blatantly': 0, 'organization': 0, 'headline': 0, 'jihadist': 0, 'ingraham': 0, 'marxism': 0, 'solved': 0, 'dominican': 0, 'sparks': 0, 'lega': 0, 'owning': 0, 'rutte': 0, 'qatar': 0, '#equalrights': 0, 'nearest': 0, 'saves': 0, 'unity': 0, 'chopped': 0, 'verrarder': 0, 'pressing': 0, 'pms': 0, 'attracted': 0, 'mis': 0, 'zaid': 0, 'subsidized': 0, '12.5': 0, '10th': 0, 'lacs': 0, 'net': 0, 'sylvana': 0, 'corbett': 0, 'revealed': 0, 'athlete': 0, 'tons': 0, 'flexin': 0, 'caking': 0, 'iphone': 0, 'sable': 0, '±': 0, 'stair': 0, 'firefighters': 0, 'spokesman': 0, 'taco': 0, 'empowered': 0, '♪': 0, 'gf': 0, 'clingy': 0, 'edited': 0, 'transporting': 0, 'daft': 0, 'cake': 0, 'tend': 0, 'equivalence': 0, 'interviewed': 0, 'aunt': 0, 'cell': 0, 'alley': 0, 'rots': 0, 'kayleigh': 0, '#republicans': 0, 'inspirational': 0, 'byron': 0, 'pearl': 0, 'obsessively': 0, 'westminster': 0, 'addicted': 0, 'iss': 0, 'shopping': 0, 'diff': 0, 'moroccans': 0, 'mark': 0, 'habit': 0, 'accepts': 0, 'butch': 0, 'se': 0, 'juvenile': 0, '💅': 0, 'allege': 0, 'sponsoring': 0, 'rams': 0, 'nun': 0, 'slogans': 0, 'promotes': 0, '#purge': 0, 'laser': 0, 'molested': 0, 'mutilation': 0, 'degenerate': 0, 'compete': 0, 'needy': 0, '70s': 0, 'raises': 0, 'player': 0, 'prince': 0, \"mother's\": 0, 'leap': 0, 'stocks': 0, '@presssec': 0, '@genflynn': 0, 'widely': 0, 'picking': 0, 'pepper': 0, 'contempt': 0, 'ins': 0, 'billionaire': 0, 'accusation': 0, 'dana': 0, 'sheets': 0, 'unknown': 0, 'despicable': 0, 'illinois': 0, '7th': 0, 'facto': 0, 'january': 0, '#barackobama': 0, 'monkey': 0, 'collusion': 0, 'psa': 0, 'employing': 0, 'vacant': 0, 'restaurants': 0, '#deportation': 0, 'graphic': 0, 'rejecting': 0, 'immidiatly': 0, 'despues': 0, 'franco': 0, 'suggesting': 0, '#health': 0, 'container': 0, 'tighten': 0, 'riders': 0, 'imbecile': 0, 'shifts': 0, 'sikhs': 0, 'saints': 0, 'individuality': 0, 'islamist': 0, 'seal': 0, 'visiting': 0, 'lunatic': 0, 'props': 0, 'unfolding': 0, 'amman': 0, '#declassifyitall': 0, 'umm': 0, 'damned': 0, 'defended': 0, '11:59': 0, '#nrcforsecureindia': 0, 'pdt': 0, 'premium': 0, 'ivanka': 0, 'lakhs': 0, 'ministries': 0, 'reputation': 0, 'harrell-bond': 0, 'organizing': 0, 'bubble': 0, 'unworkable': 0, 'anally': 0, 'vancouver': 0, '#civilwar': 0, 'holy': 0, 'shootout': 0, '#2amendment': 0, 'familes': 0, 'ankle': 0, 'band': 0, 'blows': 0, 'rant': 0, 'await': 0, 'apprehended': 0, 'criminally': 0, 'discharging': 0, 'trifling': 0, 'injuries': 0, 'precedent': 0, 'recruits': 0, 'inch': 0, 'swollen': 0, 'sour': 0, 'vet': 0, 'mmm': 0, 'posed': 0, 'predicts': 0, 'vaginally': 0, '100.00': 0, 'bang': 0, '#greece': 0, '#rapefugee': 0, 'library': 0, 'brooks': 0, 'websites': 0, '#hr392': 0, 'surroundings': 0, 'partners': 0, 'responded': 0, 'babiå': 0, 'rapid': 0, 'peeps': 0, 'puerto': 0, 'comply': 0, 'thems': 0, '99': 0, 'arnt': 0, '#unsc': 0, 'anti-islamic': 0, 'assert': 0, 'confusing': 0, 'communists': 0, 'structure': 0, '🍆': 0, 'periods': 0, 'satisfied': 0, 'headass': 0, 'kike': 0, '#endvoterfraud': 0, 'charging': 0, '#wrlovesrefugees': 0, 'strainer': 0, 'mobile': 0, 'pimped': 0, 'bell': 0, '#everify': 0, 'knee': 0, 'cries': 0, 'cc': 0, 'regain': 0, 'knight': 0, 'react': 0, 'edmonton': 0, 'tea': 0, 'vow': 0, 'bi': 0, 'wana': 0, \"driver's\": 0, 'executed': 0, 'biggs': 0, 'mein': 0, 'biblical': 0, 'anti-illegal': 0, 'curious': 0, '🕺': 0, '55': 0, 'emily': 0, 'undergo': 0, 'dirt': 0, 'peer-to-peer': 0, 'nearby': 0, 'pha': 0, 'detailed': 0, 'blacked': 0, 'theories': 0, 'bench': 0, 'capable': 0, 'amd': 0, 'acdc': 0, 'strengthening': 0, '#northkorea': 0, 'fury': 0, '#pussy': 0, 'worrying': 0, 'switzerland': 0, 'denuclearize': 0, 'perez': 0, '#endfamilydetention': 0, 'dollar': 0, 'threatened': 0, 'ancestry': 0, '120': 0, 'deadline': 0, 'commie': 0, 'practicing': 0, 'bono': 0, 'handful': 0, 'removing': 0, 'exam': 0, 'enraging': 0, 'creation': 0, 'forbid': 0, 'litter': 0, 'grocery': 0, 'smut': 0, 'assured': 0, 'nwo': 0, '#publiccharge': 0, 'mafia': 0, 'notorious': 0, 'anti-american': 0, 'madam': 0, 'kalergi': 0, \"jordan's\": 0, '00': 0, 'dinesh': 0, 'spreading': 0, 'lecture': 0, '#nazi': 0, '#antifaterrorists': 0, '💘': 0, 'bins': 0, 'shadow': 0, 'lauren': 0, 'lib': 0, 'lewandowski': 0, 'inbox': 0, '1980s': 0, 'relying': 0, 'bitterly': 0, 'kingdom': 0, '#nodems': 0, '#termlimits': 0, 'seth': 0, 'thousand': 0, 'counterproductive': 0, '#elinersson': 0, 'zoned': 0, 'premature': 0, 'distribute': 0, 'sjw': 0, 'destiny': 0, 'gangster': 0, 'likelihood': 0, '#findom': 0, '#stopislam': 0, '5.60': 0, 'juice': 0, \"ho's\": 0, '#saveeurope': 0, \"boy's\": 0, 'entrance': 0, 'plate': 0, 'tribute': 0, '#makeamericasafeagain': 0, '#wompwomp': 0, 'basis': 0, 'tmc': 0, 'wrapped': 0, '#defundsanctuarycities': 0, 'bow': 0, 'pigeon': 0, 'shri': 0, '___': 0, 'banner': 0, 'exiled': 0, 'congregation': 0, 'alon': 0, '#thewall': 0, 'lineup': 0, 'wink': 0, '#jimjordan4speaker': 0, 'vietnamese': 0, '#reinstaterobyngritz': 0, '#darkleft': 0, '#blacksfortrump': 0, 'spare': 0, 'stretched': 0, '#internetbillofrights': 0, 'journalist': 0, '#buyfrominandout': 0, 'interpreters': 0, 'presenter': 0, 'trusts': 0, 'bore': 0, 'primarily': 0, '#australia': 0, 'dads': 0, \"y'know\": 0, \"islamist's\": 0, 'loons': 0, '10am': 0, 'meat': 0, 'describing': 0, 'evrything': 0, 'shown': 0, 'christina': 0, 'martha': 0, 'abomination': 0, 'fl': 0, 'exaggeration': 0, 'filmed': 0, 'genius': 0, 'accommodate': 0, 'grandson': 0, 'johnson': 0, 'netherlands': 0, 'labels': 0, 'penny': 0, 'elementary': 0, 'wannabe': 0, '#comedy': 0, '202-456-1111': 0, 'striking': 0, '#srilanka': 0, 'mile': 0, 'mainly': 0, 'cooking': 0, '1/4': 0, 'mocking': 0, 'natural': 0, 'camera': 0, 'kissing': 0, 'web': 0, 'rely': 0, 'deplorable': 0, 'stroll': 0, '#freetommyrobinson': 0, 'fleet': 0, '#thailand': 0, 'parked': 0, '#funny': 0, 'smoking': 0, 'happily': 0, 'amp': 0, 'parliamentary': 0, 'opened': 0, '::': 0, '✅': 0, 'rico': 0, 'dickhead': 0, 'ranchers': 0, 'rug': 0, 'esol': 0, '#oomf': 0, 'bites': 0, 'stove': 0, 'specifically': 0, 'catering': 0, 'withdrawal': 0, 'droves': 0, 'polygamy': 0, 'kus': 0, 'marine': 0, 'workin': 0, 'hobby': 0, 'patricia': 0, 'messaging': 0, '#defundpp': 0, 'initially': 0, '#religion': 0, 'urgent': 0, 'redone': 0, 'fwu': 0, 'marketplace': 0, 'literary': 0, 'colour': 0, 'mlk': 0, 'marches': 0, 'greeks': 0, 'yellow': 0, '2.0': 0, 'sealed': 0, '⬇': 0, 'tug': 0, 'olympic': 0, 'competition': 0, 'floodgates': 0, '#bordersecurityisnationalsecurity': 0, 'birther': 0, 'statistic': 0, 'myths': 0, 'apps': 0, 'bea': 0, 'ricardo': 0, \"mom's\": 0, 'lawfully': 0, 'champion': 0, 'haiti': 0, 'resettle': 0, 'ali': 0, '#nationalism': 0, 'convinced': 0, 'objected': 0, 'heaven': 0, 'gentleman': 0, 'lmaooooo': 0, 'unwilling': 0, '#chaindeportation': 0, 'orchestrated': 0, 'repatriated': 0, 'sharyl': 0, 'wears': 0, 'duchesne': 0, 'brigitte': 0, 'addicts': 0, 'droppin': 0, 'physically': 0, 'jk': 0, 'caged': 0, 'wheels': 0, 'primary': 0, 'puke': 0, '1985': 0, 'ethiopia': 0, '#scotuskavanaugh': 0, 'coerced': 0, 'everwhere': 0, 'participate': 0, '#sundaymotivation': 0, 'nike': 0, 'urself': 0, 'genital': 0, 'conniving': 0, 'lettuce': 0, 'erin': 0, 'convictions': 0, '4.5': 0, 'nan': 0, 'write': 0, 'nationalist': 0, 'bleed': 0, 'takeover': 0, 'greatly': 0, 'creator': 0, 'coordination': 0, 'justified': 0, 'script': 0, 'renovation': 0, 'enacted': 0, 'infiltrator': 0, 'alps': 0, 'employer': 0, 'unblock': 0, 'tasting': 0, '#toronto': 0, 'helpers': 0, 'toys': 0, 'foolish': 0, 'oomf': 0, 'unabated': 0, '#refugeesgr': 0, 'chairs': 0, 'mickey': 0, '60.000': 0, '❈': 0, 'halfway': 0, 'behave': 0, 'hears': 0, 'intentions': 0, 'bound': 0, 'songs': 0, 'bath': 0, 'sucker': 0, 'shipping': 0, 'incoming': 0, '#auspol': 0, 'caps': 0, '#libyan': 0, 'dumbsh': 0, '#stopmassmigration': 0, 'regret': 0, 'signing': 0, 'wen': 0, 'ashraya': 0, 'underlying': 0, 'buyed': 0, 'declare': 0, 'mapache': 0, 'incarceration': 0, 'respecting': 0, 'potentially': 0, 'audience': 0, '20th': 0, 'algerie': 0, 'willie': 0, 'spook': 0, 'cowardice': 0, '#voterepublican2018': 0, 'dyke': 0, 'carr': 0, 'overview': 0, 'helpful': 0, 'related': 0, 'ke': 0, 'preventing': 0, 'campaigns': 0, 'conf': 0, 'various': 0, 'om': 0, 'leg': 0, 'ni': 0, 'sarcasm': 0, 'children.the': 0, 'bread': 0, 'lower-iq': 0, 'mid-term': 0, 'journal': 0, 'intimidation': 0, 'fd': 0, 'overreacting': 0, '#karma': 0, 'shouldn': 0, '#didyouknow': 0, 'larger': 0, 'refugeehome': 0, 'disdain': 0, 'prophet': 0, 'autocorrect': 0, 'singing': 0, 'favour': 0, 'forgotten': 0, 'lover': 0, 'evrywhere': 0, 'contributor': 0, '¾': 0, 'demanded': 0, 'progressives': 0, 'owens': 0, 'picks': 0, 'outfits': 0, '°': 0, '#socialism': 0, 'illiterate': 0, 'reconstruction': 0, 'okhla': 0, 'represents': 0, 'thai': 0, 'parcel': 0, 'anon': 0, 'christopher': 0, 'macedonia': 0, 'assisting': 0, 'widow': 0, '#trumppence2020': 0, '629': 0, '#banislam': 0, '#deportallillegals': 0, 'ethnicity': 0, 'evictions': 0, 'okayyy': 0, 'passively': 0, 'realizes': 0, 'antichrist': 0, 'subscribes': 0, 'privileges': 0, 'sheikh': 0, 'imam': 0, 'motivation': 0, '#men': 0, 'abandoning': 0, 'conducted': 0, 'rand': 0, 'facilitated': 0, 'creatures': 0, 'aged': 0, 'injustice': 0, 'grim': 0, 'beside': 0, 'coworkers': 0, 'bribes': 0, 'opposed': 0, 'subjected': 0, 'ghost': 0, 'daylight': 0, 'lifelong': 0, 'statistically': 0, 'holidays': 0, 'misguided': 0, 'reponsible': 0, 'embody': 0, 'sitters': 0, 'weasel': 0, 'cdu': 0, 'pleading': 0, 'malicious': 0, 'blacklisted': 0, 'frat': 0, 'rose': 0, 'misled': 0, 'blessing': 0, '#meritbasedimmigration': 0, '#thesepeoplearesick': 0, '#thesepeopleareevil': 0, 'reeling': 0, 'kat': 0, 'mutual': 0, 'uncapped': 0, 'trading': 0, 'sweater': 0, 'winter': 0, 'sleeve': 0, 'rahman': 0, 'modriä': 0, 'luka': 0, 'pre': 0, 'sale': 0, 'purposes': 0, 'hopeful': 0, '1400': 0, '#trumpadministration': 0, 'luv': 0, \"qur'an\": 0, 'sexuality': 0, 'dependents.jobs': 0, 'taxpayer-supported': 0, 'exercising': 0, 'distribution': 0, 'credible': 0, 'amendment': 0, 'eradicate': 0, 'kicking': 0, '#honoryouroath': 0, 'negotiations': 0, 'costa': 0, 'molly': 0, '#african': 0, 'flea': 0, 'senses': 0, 'detroit': 0, 'feeding': 0, 'cums': 0, 'occurrence': 0, 'welp': 0, 'lake': 0, 'sesen': 0, 'disrupting': 0, 'rts': 0, 'pix': 0, 'securing': 0, 'channel': 0, 'signature': 0, 'strength.remigration': 0, 'foo': 0, '#pentagon': 0, 'jenner': 0, 'mattis': 0, 'strains': 0, 'stability': 0, 'obligated': 0, 'cooperation': 0, '#passsaf': 0, 'displacement': 0, 'harrowing': 0, 'criticises': 0, '#sovereignty': 0, 'giants': 0, 'hearts': 0, 'communites': 0, 'nightmares': 0, 'unique': 0, '#conflict': 0, 'afro': 0, 'reflects': 0, 'suspects': 0, 'hacked': 0, 'brutally': 0, 'readiness': 0, 'oru': 0, 'taxation': 0, 'nationalities': 0, \"miller's\": 0, 'kyle': 0, 'leaked': 0, '#africans': 0, 'unlawfully': 0, 'notion': 0, 'pat': 0, '#welcome75k': 0, 'drowned': 0, 'centered': 0, '#protectusa': 0, '(8': 0, 'fruits': 0, 'naive': 0, 'insanity': 0, 'sucess': 0, '#czechia': 0, 'applying': 0, 'abandon': 0, 'thang': 0, 'instability': 0, 'pineapple': 0, 'afg': 0, 'ahhh': 0, 'immigrations': 0, 'martin': 0, 'lawrence': 0, 'rats': 0, 'luther': 0, 'returnees': 0, 'sewing': 0, 'replaceable': 0, 'cs': 0, 'killary': 0, 'ugliest': 0, 'tripoli': 0, 'pleads': 0, 'fulfill': 0, 'misspelled': 0, 'renew': 0, 'noise': 0, 'locations': 0, 'martial': 0, '2011': 0, 'pushback': 0, 'einstein': 0, 'forrest': 0, '#brexiteers': 0, 'crooked': 0, 'ft': 0, 'outwith': 0, 'remit': 0, 'continent': 0, 'peaceful': 0, 'confidential': 0, 'locking': 0, 'equate': 0, 'sen': 0, '#jobsreport': 0, 'capsizes': 0, 'tests': 0, 'hailed': 0, 'someones': 0, 'thieves': 0, 'joko': 0, '#makassar': 0, 'fhuta': 0, 'maga': 0, 'prosecution': 0, 'demeaning': 0, 'forehead': 0, 'finance': 0, 'milage': 0, 'guests': 0, 'brutality': 0, '#waternotwalls': 0, '1000': 0, 'depressed': 0, 'randoms': 0, 'doh': 0, 'lust': 0, 'climbs': 0, 'pops': 0, 'monitor': 0, '56': 0, 'idi': 0, 'criminality': 0, 'ji': 0, 'prestigious': 0, 'mystery': 0, 'insisted': 0, 'whack': 0, 'jew': 0, 'instantly': 0, 'derogatory': 0, 'normality': 0, 'rahim': 0, 'slips': 0, 'bros': 0, 'nets': 0, 'jerk': 0, 'stem': 0, 'ultimately': 0, 'snaps': 0, 'nuremberg': 0, 'overall': 0, \"tory's\": 0, 'stain': 0, 'exotic': 0, 'complaints': 0, 'addition': 0, 'hosts': 0, 'strikes': 0, 'parks': 0, 'intensifies': 0, 'remaining': 0, 'station': 0, 'cambridge': 0, 'slots': 0, 'epa': 0, 'pesky': 0, 'spurs': 0, 'blackballed': 0, 'undertakes': 0, 'carmento': 0, 'upper': 0, ':(': 0, 'murderer': 0, 'abuser': 0, 'leeds': 0, 'decry': 0, 'sealing': 0, 'section': 0, 'correction': 0, '#ethiopian': 0, 'hunting': 0, '#eritrean': 0, 'combo': 0, 'dime': 0, 'ratings': 0, 'neonazis': 0, 'bgd': 0, '#china': 0, 'baron': 0, 'harmonious': 0, 'œðÿ': 0, 'handing': 0, 'treasure': 0, 'hass': 0, '13th': 0, 'armys': 0, 'abiding': 0, 'crooks': 0, 'beer': 0, 'tina': 0, '#fact': 0, 'fantasy': 0, 'dã': 0, 'dancing': 0, 'envoy': 0, 'prevents': 0, 'effected': 0, 'torturing': 0, 'figured': 0, '#illegalalieninvasion': 0, 'hug': 0, 'restrictions': 0, '#animalbehavior': 0, 'stricter': 0, '#proudamerican': 0, 'stamp': 0, 'oppose': 0, 'charli': 0, 'pissing': 0, 'short-term': 0, 'nkurunziza': 0, 'integral': 0, 'smears': 0, 'nayeli': 0, 'slang': 0, 'rd': 0, 'lodi': 0, 'treaty': 0, 'lisa': 0, 'aadhar': 0, 'partnered': 0, 'tayyip': 0, 'erdogan': 0, '#endcatchandrelease': 0, 'equivalent': 0, '#brexitbetrayal': 0, '#hometown': 0, \"john's\": 0, 'angles': 0, 'whorehouse': 0, 'announcement': 0, 'tube': 0, 'pleased': 0, 'serves': 0, 'lifesaving': 0, \"city's\": 0, 'polite': 0, 'flamethrowers': 0, 'iris': 0, 'minorities': 0, 'homemade': 0, 'yell': 0, 'nap': 0, 'reuniting': 0, 'smith': 0, 'typhoon': 0, '#illegalsenthome': 0, 'drowns': 0, 'donkey': 0, '#snowflake': 0, 'powerhouses': 0, 'spoil': 0, 'stormy': 0, 'bombed': 0, 'pelosi': 0, 'switch': 0, '#world': 0, '1000/1': 0, 'rene': 0, 'discredited': 0, 'poop': 0, 'fag': 0, 'millionaire': 0, '#teens': 0, 'scare': 0, 'breene': 0, '1600': 0, '#worldrelief': 0, 'julia': 0, 'kamal': 0, 'restrained': 0, 'surgery': 0, 'impeached': 0, 'frontline': 0, 'skip': 0, 'scans': 0, 'colors': 0, 'cusses': 0, 'needlessly': 0, 'persons': 0, \"ex's\": 0, 'khloe': 0, 'sectors': 0, 'derailing': 0, 'circles': 0, 'mice': 0, 'ecowas': 0, 'kashmiri': 0, 'shuffling': 0, 'beginning': 0, 'responsibly': 0, 'cabeza': 0, '700': 0, 'midterms': 0, 'felony': 0, 'ideology': 0, '#tedxexeter': 0, 'perjury': 0, 'hormones': 0, 'capita': 0, 'rampage': 0, 'kushner': 0, 'lens': 0, 'unwanted': 0, '2,500': 0, 'bien': 0, 'formed': 0, 'pledged': 0, 'scofflaws': 0, 'hahahaha': 0, 'slope': 0, 'treasonous': 0, 'merit': 0, 'yr-old': 0, 'killers': 0, '#asktheq': 0, '#tryhardermsm': 0, 'manhattan': 0, \"australia's\": 0, '#russia': 0, 'experiencing': 0, 'tribe': 0, 'banerjee': 0, 'ab': 0, 'hip': 0, 'portugal': 0, 'timely': 0, 'fy18': 0, 'propublica': 0, 'pointless': 0, 'flew': 0, 'directions': 0, 'nielsen': 0, 'trained': 0, 'tw': 0, 'quran': 0, 'confidence': 0, 'infant': 0, 'resulted': 0, 'resisted': 0, 'hotspot': 0, 'equally': 0, 'pozzallo': 0, 'abe': 0, 'theater': 0, '#womenagainstfeminism': 0, 'bobby': 0, 'lightning': 0, '<3': 0, 'briefing': 0, '#football': 0, 'transgender': 0, 'quiz': 0, 'lagerfeld': 0, 'breast': 0, 'punk': 0, 'goofy': 0, 'spartacus': 0, 'outraged': 0, 'grandpa': 0, 'deprive': 0, 'scandal': 0, '#cunt': 0, 'des': 0, 'bitcoin': 0, 'exodus': 0, 'malaysian': 0, 'spout': 0, '#insideatlantasimmigrantcages': 0, 'filing': 0, 'cher': 0, 'bashing': 0, 'pointed': 0, 'amongst': 0, 'sleeps': 0, 'marijuana': 0, 'actors': 0, \"week's\": 0, 'testing': 0, 'sanchez': 0, '#anchorbabies': 0, '#blowjob': 0, '#wherertherefugees': 0, 'aggravated': 0, 'jordanian': 0, '#america1st': 0, 'forbids': 0, 'commitment': 0, 'dfw': 0, 'sympathy': 0, 'beneath': 0, 'instructor': 0, 'techniques': 0, 'interns': 0, 'drove': 0, '#immigrationinvasion': 0, '#buildthatdamnwall': 0, '#keepamericanssafestop': 0, 'stripper': 0, 'equals': 0, '#pedogate': 0, 'screwed': 0, '€': 0, 'opposition': 0, 'natives': 0, 'searching': 0, 'tradition': 0, 'uninhabited': 0, 'admissions': 0, 'belgium': 0, 'respectful': 0, '400k': 0, '14,000': 0, '#neverforget': 0, 'estimate': 0, 'tensions': 0, '#rotherham': 0, '#church': 0, 'twinkle': 0, 'arc': 0, 'kink': 0, '#potus45': 0, 'defence': 0, 'tears': 0, 'appoint': 0, 'darkness': 0, '#fundthewall': 0, 'peddled': 0, '#angelfamilies': 0, '80,000': 0, 'flood-prone': 0, '#cowards': 0, 'disgraceful': 0, 'furious': 0, 'bribed': 0, 'goats': 0, 'bathroom': 0, 'tangible': 0, '@gop': 0, '@speakerryan': 0, '@senorrinhatch': 0, 'needless': 0, 'bent': 0, 'shape': 0, 'waitress': 0, '#nodacaamnesty': 0, 'environment': 0, 'liars': 0, 'remained': 0, 'ihc': 0, 'hudco': 0, 'obamas': 0, 'grammar': 0, 'photoshop': 0, 'combination': 0, 'mayhem': 0, 'lusts': 0, 'corporate': 0, 'remarkably': 0, 'canberra': 0, 'suprise': 0, 'shocks': 0, 'clash': 0, 'populists': 0, 'berkeley': 0, 'instance': 0, 'participants': 0, 'dehumanizing': 0, 'pew': 0, 'homecoming': 0, 'medication': 0, 'fixing': 0, 'lobby': 0, 'lasting': 0, 'smash': 0, 'pal': 0, 'mid-south': 0, 'populist': 0, 'hahahahahaha': 0, '#merkelmussweg': 0, '#tuesdaythoughts': 0, 'genuinely': 0, 'invader': 0, '#stopasylumscam': 0, 'intended': 0, 'sex-for-food': 0, 'lifting': 0, '31st': 0, 'scottish': 0, '#bluewave': 0, 'yarmouk': 0, 'ayslum': 0, 'extortion': 0, 'proceeds': 0, 'borderless': 0, 'bathrooms': 0, 'falsity': 0, 'populism': 0, '#resistance': 0, 'advice': 0, 'interrupted': 0, 'noble': 0, 'dumpster': 0, 'questioned': 0, 'involves': 0, 'casa': 0, 'obtained': 0, '#agriculture': 0, 'operations': 0, 'rural': 0, 'reliable': 0, 'volumes': 0, 'clinic': 0, 'wagon': 0, 'filling': 0, 'i️': 0, 'bullied': 0, 'degeneracy': 0, 'tidal': 0, 'manages': 0, 'lampedusa': 0, 'tunisians': 0, 'romance': 0, '#msnbc': 0, 'weather': 0, 'credibility': 0, 'blessed': 0, 'fathom': 0, '#citizenship': 0, 'architecture': 0, 'well-being': 0, 'bear': 0, 'throats': 0, 'pc': 0, '58': 0, 'trolling': 0, 'pe': 0, 'nick': 0, 'squat': 0, 'kouvalis': 0, 'disappeared': 0, 'perform': 0, 'pageant': 0, '#yemen': 0, 'paperwork': 0, 'sweatin': 0, 'unfollow': 0, 'infiltrators': 0, 'bounty': 0, 'illuminati': 0, 'moslems': 0, 'popping': 0, 'criticism': 0, 'becuase': 0, 'bhasan': 0, '#ccot': 0, 'loaded': 0, 'ate': 0, '#follo': 0, 'bucket': 0, 'cuba': 0, 'lanes': 0, 'sink': 0, 'fines': 0, 'required': 0, 'violators': 0, 'normally': 0, 'systemic': 0, '#freespeech': 0, 'drill': 0, 'thankfully': 0, 'gerade': 0, 'wurde': 0, 'severely': 0, 'sinks': 0, 'squaw': 0, 'betrayal': 0, 'prosecutor': 0, '#american': 0, 'bend': 0, 'farther': 0, 'enjoying': 0, 'kinds': 0, 'vielen': 0, 'carol': 0, 'uno': 0, 'relocate': 0, 'jeep': 0, 'neutral': 0, 'lunacy': 0, 'featuring': 0, 'basket': 0, 'incl': 0, 'rioting': 0, 'oldest': 0, 'ffentlicht': 0, 'secured': 0, '#socialist': 0, '#organizedcrime': 0, 'malnourished': 0, 'obituary': 0, 'directing': 0, 'psychotropic': 0, 'islamophobia': 0, \"#indonesia's\": 0, 'delusion': 0, 'vey': 0, 'stark': 0, '😪': 0, 'golf': 0, 'conclusions': 0, 'gold-digging': 0, 'homicide': 0, 'crosses': 0, 'brooklyn': 0, 'perpetrators': 0, 'cyclone': 0, 'slaps': 0, 'missions': 0, 'setting': 0, 'goods': 0, 'earns': 0, 'curiosity': 0, 'happier': 0, 'doubles': 0, 'ensues': 0, '23': 0, '#rapists': 0, 'intent': 0, '2002': 0, 'aloud': 0, 'caravan': 0, 'mcallen': 0, '#votethemout': 0, 'unbalanced': 0, 'soo': 0, 'fg': 0, 'punished': 0, '#repatriation': 0, 'arabische': 0, '65': 0, 'increasing': 0, 'enforced': 0, 'decrease': 0, 'interrupting': 0, '#bluewave2018': 0, 'midnight': 0, 'mens': 0, \"nelly's\": 0, 'radicals': 0, '🌈': 0, 'passport': 0, '92': 0, 'explaining': 0, 'recover': 0, 'span': 0, 'crouse': 0, '70,000': 0, 'spit': 0, 'hump': 0, 'accountability': 0, 'markets': 0, 'immigrate': 0, 'fortunate': 0, 'inches': 0, 'toddlers': 0, 'swap': 0, 'rhymes': 0, 'rogers': 0, 'counter-protest': 0, '😆': 0, 'bannon': 0, 'romanian': 0, 'feeders': 0, 'lesbians': 0, 'sewage': 0, 'a1': 0, 'spewing': 0, 'backwards': 0, 'franciscus': 0, 'raps': 0, '1,112': 0, 'walmart': 0, 'limitations': 0, 'meathead': 0, 'wawa': 0, '#abortiongenocide': 0, 'pressed': 0, 'callin': 0, 'lawsuits': 0, 'well-known': 0, 'uncovering': 0, 'leak': 0, '44': 0, 'rubbish': 0, 'devoured': 0, 'advances': 0, 'mood': 0, 'concept': 0, 'embedded': 0, 'integrate': 0, 'epitome': 0, 'routes': 0, '#forthepeople': 0, 'uncover': 0, 'courageous': 0, 'viva': 0, 'ranting': 0, 'eventually': 0, 'dismissive': 0, 'dean': 0, 'constituents': 0, 'long-term': 0, '5,000': 0, 'carefully': 0, '#sharialaw': 0, 'whities': 0, 'slept': 0, '#impeachtrump': 0, 'picked': 0, 'segregate': 0, 'jamaican': 0, 'hypocrites': 0, 'educational': 0, 'ages': 0, 'academy': 0, 'groped': 0, 'pair': 0, 'anti-migration': 0, '#ndp': 0, 'imo': 0, '8p': 0, 'jerks': 0, 'flagrant': 0, 'breach': 0, 'unaffordable': 0, 'endlessly': 0, 'coldest': 0, 'mentally': 0, 'victimizing': 0, 'quotas': 0, 'irritating': 0, 'immune': 0, '#tedxkakumacampâ': 0, 'brock': 0, 'œ': 0, 'rubber': 0, 'fate': 0, 'alarming': 0, 'destination': 0, 'downloading': 0, 'snitching': 0, \"refugee's\": 0, 'maths': 0, 'mahama': 0, '#protectus': 0, 'discharged': 0, 'maximum': 0, 'cautious': 0, 'dated': 0, 'removes': 0, 'centrist': 0, 'pin': 0, '#memes': 0, '#lol': 0, '#lmao': 0, '#bruh': 0, '#girls': 0, 'peeled': 0, 'timeline': 0, 'gear': 0, 'reboot': 0, 'endangering': 0, 'del': 0, 'mans': 0, 'resist': 0, 'huntleigh': 0, 'rehires': 0, '#racialreplacement': 0, '#french': 0, 'priceless': 0, '👋': 0, 'shrine': 0, 'pillow': 0, 'trophy': 0, 'picky': 0, '#repost': 0, 'megyn': 0, 'noela': 0, 'il': 0, 'puta': 0, 'collins': 0, 'ily': 0, 'introducing': 0, 'incites': 0, 'burnt': 0, 'injunction': 0, '118,000': 0, 'migrantsrich': 0, 'consensus': 0, 'do:': 0, 'dresses': 0, 'vocabulary': 0, 'dulles': 0, 'weighs': 0, 'mature': 0, 'engraved': 0, 'happiness': 0, 'cater': 0, 'councils': 0, 'releasing': 0, 'exists': 0, '💙': 0, 'airlines': 0, 'bonnie': 0, 'distracts': 0, 'victimization': 0, 'reductions': 0, '#hypocrites': 0, 'flights': 0, '2.9': 0, 'manipulated': 0, 'amidst': 0, 'pencil': 0, '#un': 0, 'larry': 0, 'infidel': 0, 'couch': 0, 'probs': 0, 'households': 0, 'singh': 0, 'lashes': 0, 'stab': 0, 'brooke': 0, 'div': 0, 'jordanians': 0, 'reviews': 0, 'wankers': 0, 'whispers': 0, 'ear': 0, 'iowa': 0, 'corn': 0, 'trafficers': 0, '54,000': 0, 'relatives': 0, 'guardian': 0, 'intention': 0, 'mohammed': 0, 'supervision': 0, 'activity': 0, '👇': 0, 'explosion': 0, 'aligning': 0, 'convo': 0, '#mra': 0, 'guidelines': 0, 'screening': 0, 'enact': 0, 'te': 0, 'enddaca': 0, 'backbone': 0, 'presidential': 0, '#worldcup2018': 0, '#clinton': 0, '#realdonaldtrump': 0, 'commerce': 0, 'aim': 0, 'quality': 0, 'liberia': 0, 'demo': 0, 'tone': 0, 'bald': 0, 'impressed': 0, 'swede': 0, 'rarely': 0, 'loool': 0, '35.6': 0, 'theory': 0, '#notallwomen': 0, 'lier': 0, 'sins': 0, 'decisive': 0, 'vows': 0, 'glasses': 0, '#corruptdnc': 0, 'blunt': 0, 'accommodation': 0, 'chasing': 0, 'convincing': 0, 'walks': 0, 'pockets': 0, 'selected': 0, 'rush': 0, 'coach': 0, '#criminaldnc': 0, 'bigoted': 0, 'fruit': 0, '#misandry': 0, '@refugeesâ': 0, 'relatively': 0, 'declaration': 0, 'logical': 0, '#burqa': 0, 'alyssa': 0, 'medicine': 0, 'tagged': 0, '#blog': 0, 'established': 0, 'pr': 0, 'inaction': 0, 'inbred': 0, 'aids': 0, 'lavish': 0, 'scourge': 0, 'bleeding': 0, 'angeles': 0, 'wretched': 0, 'wilson': 0, 'refrain': 0, 'subs': 0, 'su': 0, 'hardliner': 0, 'spin': 0, 'forbidden': 0, 'adrift': 0, 'carpet': 0, 'corps': 0, 'eaten': 0, 'illness': 0, '🎥': 0, 'hall': 0, 'uterus': 0, '#army': 0, 'inundation': 0, 'murdering': 0, 'omar': 0, 'creative': 0, 'gangsters': 0, 'mermaids': 0, 'mermaid': 0, 'beef': 0, 'clusters': 0, '#blacklivesmatter': 0, 'upstate': 0, 'reverse': 0, '#asylum': 0, 'spikes': 0, '#pakistan': 0, 'stereotypical': 0, 'sloot': 0, 'heroes': 0, 'throughout': 0, '72': 0, 'possession': 0, '33': 0, '#zerotolerance': 0, '#augustrecess': 0, 'satan': 0, 'nerves': 0, 'thieving': 0, 'havin': 0, 'smear': 0, '8000': 0, 'bases': 0, 'awake': 0, 'referendum': 0, 'heartbroken': 0, '¹': 0, 'gene': 0, 'bitter': 0, 'nicest': 0, 'ponder': 0, 'decency': 0, 'benjamin': 0, 'mvp': 0, '#europeanunion': 0, 'butts': 0, 'sauce': 0, 'mexicans': 0, '#attack': 0, 'europa': 0, 'krishna': 0, 'thatfatesbitch': 0, 'fanatic': 0, 'legislators': 0, \"may's\": 0, 'pakinstan': 0, '#mainaandkingangi': 0, 'constituted': 0, 'attendance': 0, 'propagandas': 0, 'populated': 0, 'cams': 0, ':/': 0, 'alcoholic': 0, 'slip': 0, 'heroin': 0, 'suffers': 0, '41': 0, '#bozo': 0, 'uses': 0, 'cracks': 0, 'midst': 0, 'memo': 0, 'signal': 0, 'expanded': 0, 'detainment': 0, 'registered': 0, 'vetted': 0, 'infirate': 0, 'features': 0, 'checkout': 0, 'shawty': 0, 'drake': 0, 'inflicted': 0, '#childrenincages': 0, '#reunitethefamilies': 0, '#reunitefamiliesnow': 0, '#reuniteeverychild': 0, 'bankruptcy': 0, 'governors': 0, 'gimmick': 0, 'kin': 0, 'celebs': 0, 'adopt': 0, 'holler': 0, 'salute': 0, 'caribbean': 0, 'trends': 0, '25.4': 0, \"harm's\": 0, 'assassinate': 0, 'marc': 0, \"un's\": 0, '#cruel': 0, '#xenophobic': 0, 'throwing': 0, 'charming': 0, 'wic': 0, 'your_fuckboy': 0, 'disregard': 0, 'vapid': 0, 'afd': 0, '#borderwall': 0, \":')\": 0, '#nwo': 0, 'stripped': 0, 'barack': 0, 'roses': 0, 'correspondents': 0, 'hosted': 0, 'controversial': 0, 'lease': 0, 'remembrance': 0, 'liverpool': 0, 'engelbert': 0, \"bible's\": 0, '250': 0, 'fook': 0, 'strapped': 0, '#misogynist': 0, 'homelessness': 0, 'psychopath': 0, 'sweats': 0, 'diane': 0, 'chair': 0, 'licked': 0, 'jewelry': 0, 'contractor': 0, 'tourism': 0, 'realise': 0, 'tornillo': 0, 'banksy': 0, '#head': 0, 'triage': 0, 'clips': 0, 'gasoline': 0, 'attracting': 0, 'halted': 0, 'figures': 0, '#stopfundinghate': 0, \"mcdonald's\": 0, 'starvation': 0, 'cst': 0, '#trumplicans': 0, 'colours': 0, 'explore': 0, '😱': 0, 'implemented': 0, 'weapon': 0, 'bullet': 0, 'clint': 0, 'eastwood': 0, 'mocked': 0, 'uncontrolled': 0, 'weekly': 0, 'shave': 0, 'founded': 0, '#soundcloud': 0, 'dependent': 0, 'hugs': 0, '#immigrationlottery': 0, 'lawless': 0, 'documentation': 0, 'preying': 0, 'starve': 0, 'melissa': 0, '1979': 0, 'inability': 0, '#mandatoryeverify': 0, 'wildlife': 0, '#impeachbottoms': 0, 'promoting': 0, 'declared': 0, 'passage': 0, 'ball': 0, 'holla': 0, 'misogynistic': 0, 'monger': 0, 'define': 0, 'witness': 0, 'updated': 0, 'matthew': 0, 'copy': 0, 'montenegro': 0, 'bey': 0, 'fm': 0, 'vowed': 0, 'incompatible': 0, \"cc'rep\": 0, 'witch-hunt': 0, 'socialsystem': 0, 'holds': 0, '#atlantahitrockbottoms': 0, 'sabraw': 0, '#np': 0, '#politics': 0, '😤': 0, 'int': 0, 'miriam': 0, 'intentionally': 0, '😇': 0, 'concentration': 0, 'kim': 0, '#landdegradation': 0, 'degraded': 0, '³': 0, 'monkeys': 0, 'all-time': 0, 'preaching': 0, 'crowded': 0, 'right.it': 0, 'colombia': 0, 'trending': 0, '#sundaymorning': 0, 'sooo': 0, 'midterm': 0, '#mensrights': 0, 'swallow': 0, 'loads': 0, 'rallies': 0, 'emojis': 0, 'jurisdiction': 0, 'combat': 0, 'ht': 0, 'cancelled': 0, 'edawn': 0, 'torn': 0, 'farm': 0, 'signed': 0, 'crib': 0, 'terry': 0, 'debacle': 0, 'liking': 0, 'incident': 0, 'goodwill': 0, 'wounds': 0, 'plaza': 0, 'roberto': 0, 'soars': 0, 'triple': 0, 'ont': 0, 'smelly': 0, '#bringbackourborders': 0, 'neighbour': 0, 'establishing': 0, '#alllivesmatter': 0, 'smallest': 0, 'charlie': 0, 'practitioners': 0, '#dhs': 0, '#nrc': 0, 'commited': 0, 'bark': 0, 'length': 0, 'salaries': 0, 'realizing': 0, 'eritrean': 0, 'tribune': 0, 'courage': 0, 'fuels': 0, 'economically': 0, '🌹': 0, 'screw': 0, 'swop': 0, 'revealing': 0, 'posing': 0, 'aims': 0, 'follower': 0, \"orban's\": 0, 'shoplifting': 0, 'beliefs': 0, 'caitlyn': 0, 'julie': 0, 'stallman': 0, 'groupie': 0, 'peter': 0, 'triggered': 0, 'manchester': 0, 'bomber': 0, \"ngo's\": 0, 'waters': 0, 'judgement': 0, 'entries': 0, 'payer': 0, '->': 0, 'frequent': 0, 'seasonal': 0, 'imminent': 0, 'irreparable': 0, '#hoe': 0, 'affects': 0, 'knives': 0, 'corecivic': 0, 'capacity': 0, 'beds': 0, 'vatican': 0, 'commander-in-chief': 0, 'dod': 0, 'brim': 0, 'traffickers': 0, 'suspended': 0, 'bj': 0, 'traditional': 0, 'undercount': 0, 'takers': 0, '#foodsecurity': 0, 'researchers': 0, 'nikki': 0, '#attentionwhores': 0, '🐀': 0, 'surface': 0, ':-)': 0, 'davinder': 0, 'valencia': 0, 'islamists': 0, 'dope': 0, 'pile': 0, 'warmongers': 0, '#factsmatter': 0, 'smirks': 0, 'wannabes': 0, 'promiscuous': 0, 'ovaries': 0, 'burdens': 0, 'orphaned': 0, '#ambassador': 0, 'pedophile': 0, '#democratshateamerica': 0, 'inviting': 0, 'goals': 0, 'eliminate': 0, 'nailed': 0, 'boutta': 0, 'twats': 0, 'residential': 0, 'dilley': 0, 'avenue': 0, '#alabama': 0, '#animals': 0, 'breeding': 0, 'exciting': 0, 'reduces': 0, 'high-tech': 0, 'investment': 0, 'increases': 0, 'helpless': 0, 'bone': 0, 'owns': 0, 'wipe': 0, '#fuckbitches': 0, 'bri': 0, 'unrest': 0, 'overreaction': 0, 'npr': 0, 'gagging': 0, 'soldier': 0, 'ban-affected': 0, '#washington': 0, 'evicted': 0, 'mouths': 0, 'shaking': 0, 'confident': 0, 'confuse': 0, 'terrorizing': 0, 'goodbye': 0, 'complains': 0, '750': 0, 'safely': 0, '#socialjustice': 0, 'rachel': 0, 'caswell': 0, 'volatile': 0, '370': 0, '#democratsaredangerous': 0, 'engineer': 0, 'childcare': 0, 'nov': 0, 'jenan': 0, 'wicked': 0, 'eas': 0, '😬': 0, 'fooling': 0, 'explicitly': 0, 'flexing': 0, 'wee': 0, 'improved': 0, 'movements': 0, 'charleston': 0, 'founding': 0, 'gallimard': 0, 'nbs': 0, 'gwylene': 0, 'invisible': 0, 'missouri': 0, 'hurray': 0, 'risking': 0, 'fabian': 0, 'buddy': 0, 'punched': 0, 'river': 0, 'tank': 0, 'souls': 0, 'hockey': 0, 'feature': 0, 'boner': 0, 'protester': 0, 'seller': 0, 'teach-in': 0, 'surviving': 0, 'egg': 0, 'alinsky': 0, 'exhibit': 0, 'desk': 0, 'horse': 0, 'intruders': 0, 'oxymoron': 0, 'um': 0, 'hoein': 0, 'squeeze': 0, 'surrounding': 0, 'factors': 0, 'publication': 0, 'demonize': 0, 'gi': 0, \"hungary's\": 0, 'smug': 0, 'ahmad': 0, 'firewood': 0, 'empathy': 0, 'citizien': 0, 'tuan': 0, 'eiffel': 0, 'boarder': 0, 'zimbabwe': 0, 'sr': 0, 'delivering': 0, '#british': 0, 'missionary': 0, 'repent': 0, 'intersection': 0, 'cherry': 0, 'falls': 0, 'blew': 0, 'bavaria': 0, 'ramadan': 0, \"kennedy's\": 0, 'sensitivity': 0, 'skirts': 0, 'kitty': 0, 'captures': 0, 'juicy': 0, 'destitution': 0, 'disrespect': 0, 'fvcking': 0, '#indonesia': 0, 'dawg': 0, 'judgmental': 0, 'soulmates': 0, 'cracker': 0, '🙂': 0, 'hunter': 0, 'sweat': 0, 'dub': 0, 'op-ed': 0, 'upstairs': 0, 'slides': 0, '240': 0, 'recording': 0, 'considers': 0, 'combined': 0, 'guarantees': 0, 'sup': 0, 'pension': 0, 'idubbz': 0, 'sperm': 0, 'wack': 0, '#nomore': 0, 'tyrant': 0, 'destabilize': 0, 'toll': 0, 'claire': 0, 'spreads': 0, 'rio': 0, '43': 0, 'chip': 0, 'assamese': 0, 'gtfo': 0, 'pursuit': 0, 'mixed': 0, '27': 0, 'jailed': 0, 'roman': 0, 'sodomized': 0, '1971': 0, 'bff': 0, 'fist': 0, 'boi': 0, 'fuxking': 0, 'traded': 0, 'cuss': 0, 'overwhelmingly': 0, 'processes': 0, 'earlier': 0, 'prez': 0, 'cracked': 0, 'manufacturing': 0, 'foodbanks': 0, 'bussin': 0, 'grove': 0, 'multi': 0, 'misogynist': 0, 'todos': 0, 'refreshing': 0, 'que': 0, 'forcefully': 0, 'afternoon': 0, 'festival': 0, 'binghampton': 0, 'shining': 0, 'telangana': 0, 'hills': 0, 'stops': 0, '#turnout2018': 0, 'swedes': 0, 'discredit': 0, 'congrats': 0, 'biddy': 0, 'resting': 0, 'pioneers': 0, 'trail': 0, 'spanked': 0, 'transform': 0, 'cognitive': 0, 'dissonance': 0, 'operating': 0, 'acknowledge': 0, 'cherish': 0, '#canpoli': 0, '#abpoli': 0, '#ableg': 0, '#ucp': 0, 'honey': 0, 'billy': 0, '#stop_islamization': 0, '#stopinvasion': 0, 'trope': 0, 'stars': 0, 'unheard': 0, 'yup': 0, 'liberation': 0, '#pumabodywear': 0, 'hostage': 0, 'coworker': 0, '#savethechildren': 0, 'iom': 0, 'swing': 0, 'hull': 0, 'flap': 0, 'ben': 0, 'fur': 0, 'bute': 0, 'squirter': 0, 'manifesto': 0, 'gag': 0, 'jamiel': 0, '#respect': 0, 'hahaha': 0, 'revocation': 0, 'cos': 0, 'fucken': 0, 'open-border': 0, 'requested': 0, 'ado': 0, 'arunachal': 0, 'thwarted': 0, 'obama-era': 0, 'unconstitutional': 0, 'residence': 0, 'wiener': 0, 'imigrants': 0, 'banadir': 0, 'societies': 0, 'mulls': 0, 'part-time': 0, 'pizzagate': 0, 'thirsty': 0, 'granny': 0, '#sudan': 0, 'sharpton': 0, '🤢': 0, 'beta': 0, 'shore': 0, 'parasites': 0, 'suzy': 0, 'hit-and-run': 0, '#slovenia': 0, 'grieve': 0, 'darlington': 0, 'styria': 0, 'fort': 0, 'chrysler': 0, 'attacker': 0, 'burmese': 0, 'battlefield': 0, 'nc': 0, '#hypocrite': 0, 'tamil': 0, 'invites': 0, '#noamnestyever': 0, 'ordeal': 0, 'rallying': 0, 'strain': 0, 'insulted': 0, 'meantime': 0, '<---': 0, 'snake': 0, 'sermon': 0, '#kavanaughconfirmation': 0, 'shark': 0, 'clone': 0, 'outthey': 0, 'refusal': 0, 'fxin': 0, 'appreciation': 0, '•': 0, '#ahscult': 0, '38': 0, 'corporation': 0, 'attended': 0, 'melalak': 0, 'buisness': 0, '#tories': 0, 'pulls': 0, 'prepares': 0, 'map': 0, '#kavanaughhearings': 0, '53': 0, 'facilitate': 0, 'beaches': 0, 'noot': 0, 'hu': 0, 'brush': 0, 'products': 0, 'beards': 0, 'exclave': 0, 'frankly': 0, 'customer': 0, '#sundayfunday': 0, '#obama': 0, '#antiwhite': 0, 'jonathan': 0, 'draining': 0, 'immigrated': 0, 'barletta': 0, \"c'mon\": 0, 'zealand': 0, 'renewed': 0, 'lawsuit': 0, 'isâ': 0, 'norway': 0, 'lynched': 0, '#migrantcrisis': 0, '#deportillegalimmigrants': 0, 'hazleton': 0, 'rides': 0, 'waits': 0, 'smiles': 0, 'opposes': 0, 'fkn': 0, 'savini': 0, 'colleagues': 0, 'patriarchal': 0, '#africa': 0, 'jeans': 0, 'lou': 0, 'melania': 0, 'esl': 0, 'us-mexico': 0, 'sorang': 0, 'merica': 0, 'fills': 0, 'scores': 0, 'airports': 0, 'melbourne': 0, 'elephant': 0, 'october': 0, 'melanie': 0, 'whine': 0, 'lyk': 0, 'trustttttt': 0, '#kashmir': 0, '#femaleimmigrants': 0, '#exclusivelyonredbubble': 0, 'pinkie': 0, '14,300': 0, 'committing': 0, '#womenleaders': 0, 'boundaries': 0, 'alcohol-fueled': 0, '17,564': 0, '#robbingusblind': 0, '#onjenayo': 0, 'surprising': 0, 'drastically': 0, '17,781': 0, 'fiancé': 0, 'self-proclaimed': 0, 'worn': 0, '#empowerfemaleimmigrants': 0, 'donny': 0, 'fy2018': 0, 'jst': 0, '#expat': 0, 'nurture': 0, '#nomoreimmigrantshere': 0, '#ourpatriotism': 0, 'survives': 0, 'blackmailing': 0, 'freebies': 0, '#standupforyourwesternvalues': 0, '9,581': 0, 'fy': 0, 'tajikistani': 0, 'griffin': 0, '#endtheslaughter': 0, 'collection': 0, 'forc': 0, 'tightening': 0, 'fuss': 0, 'godddddddd': 0, 'naff': 0, '#economicillegalrefugeesmustgoback': 0, 'flower': 0, 'cris': 0, 'savers': 0, 'facilitator': 0, 'trampstamp': 0, 'earthquake': 0, '#cbcnn': 0, 'vulnerability': 0, 'are.some': 0, 'ignorance.real': 0, '#liberalsruineverything': 0, '#nj': 0, 'stormed': 0, 'biafra': 0, 'kathy': 0, 'qualities': 0, 'shasta': 0, \"capital's\": 0, 'contact@femigrants.org': 0, 'ting': 0, '#partnership': 0, '#buildthewal': 0, '#diversewomenleaders': 0, 'jin': 0, '#honorboth': 0, 'mwave': 0, 'cressida': 0, 'indecisive': 0, '#diverseimmigrantwomen': 0, 'kenyan': 0, 'nonetheless': 0, 'explained': 0, '#multinationalpatriot': 0, 'sumn': 0, 'abi': 0, 'delusio': 0, 'commonly': 0, '#redbubble': 0, 'sitewide': 0, 'granting': 0, '#uniparty': 0, 'libertarian': 0, '#collaboration': 0, 'concealment': 0, '#socialismsucks': 0, 'charm': 0, 'tinks': 0, '#macron': 0, '#sendthe': 0, 'immigrats': 0, '#noladylike': 0, 'td': 0, '#urbandictionaryhastaughtme': 0, 'globally': 0, '#familesbelongtogether': 0, 'enrolled': 0, '#girlsintech': 0, 'suggests': 0, '#voteri': 0, 'brewing': 0, 'awakening': 0, '#gurudaspur': 0, '#lord': 0, '#war': 0, '#bdaygoals': 0, '#ruleoflaw': 0, 'welfarea': 0, 'hasan': 0, '#prayforpaulgeorge': 0, 'sharif': 0, 'chthis': 0, 'spying': 0, 'murderous': 0, '#foreignminister': 0, '#minister': 0, 'lmaodjdh': 0, 'quarterback': 0, 'bitc': 0, 'dictators': 0, 'neglecting': 0, 'modestly': 0, '#stopthebias': 0, 'candians': 0, 'strache': 0, 'drawn': 0, '#lockhisassup': 0, 'seaworthy': 0, 'homeless.support': 0, 'condemn': 0, 'brentwood': 0, 'betta': 0, 'wooden': 0, 'islamification': 0, 'resume': 0, 'grooming': 0, '-->': 0, 'spotted': 0, 'non-sense': 0, 'skit': 0, 'ummmm': 0, 'yeaaaa': 0, 'norm': 0, 'onboard': 0, 'mistake-it': 0, 'qbs': 0, '850â': 0, '500â': 0, 'sorta-conservative': 0, '302': 0, 'fuckinh': 0, '#protectamericans': 0, '#judges': 0, 'stillillegal': 0, '#trumpbots': 0, 'revised': 0, '#deportthemigrants': 0, '#mayors': 0, 'description': 0, '#governors': 0, 'abdulahi': 0, '#commonsense': 0, 'tryeth': 0, 'slithering': 0, '#equalopportunitydeporter': 0, \"cardi's\": 0, \"nicki's\": 0, '#separatingfamilies': 0, '#allillegalaliensarelawbreakers': 0, 'raza': 0, 'unleash': 0, 'chasm': 0, '2:30': 0, '#bgr': 0, 'standoff': 0, '#radicalislam': 0, '#nosharia': 0, '#nomuslimideology': 0, '#christianity': 0, 'azealia': 0, 'retardation': 0, '#compassion': 0, 'hijra': 0, 'shaw': 0, 'devil': 0, 'pitiful': 0, 'totality': 0, 'demonrats': 0, 'commute': 0, 'glove': 0, 'utterly': 0, 'vacuous': 0, 'wrath': 0, 'enimen': 0, 'ahh': 0, 'brats': 0, 'beggars': 0, 'feeds': 0, '#jesuschrist': 0, \"grandmother's\": 0, '#2ashallnotbeinfringed': 0, '#nolikesforyall': 0, 'stanking': 0, 'recommended': 0, 'nicaraguans': 0, 'ec': 0, 'moots': 0, 'landing': 0, 'platforms': 0, 'rummage': 0, 'glories': 0, 'als': 0, '4.8': 0, '#politicsmatters': 0, '40lakhs': 0, 'titans': 0, '#ukip': 0, 'panama': 0, 'pervert': 0, 'jan-march': 0, 'antisemitic': 0, '#blacksgonered': 0, 'womankind': 0, 'recipient': 0, 'fashiondesigner': 0, 'samaritan': 0, '#thingstimhowardcouldsave': 0, '#bitchesaredogs': 0, 'race-baiting': 0, '#dogbitch': 0, '#ihatewome': 0, 'not-so-sharpton': 0, 'penetrate': 0, 'hartley-brewer': 0, 'functionally': 0, 'telemarketer': 0, 'footage': 0, '#ref': 0, 'nace': 0, 'szn': 0, 'filmmakers': 0, 'producers': 0, '#anal': 0, '#wet': 0, 'som': 0, 'wooow': 0, 'madman': 0, 'burnin': 0, \"did'nt\": 0, '#horny': 0, 'babu': 0, '#25thamendmentnow': 0, '#cumslut': 0, 'roughly': 0, '#walletdrain': 0, '#fuckme': 0, 'hormus': 0, 'chests': 0, '#naked': 0, \"newk's\": 0, '#submissive': 0, '#jailbait': 0, '#cumtribute': 0, 'sells': 0, 'cakes': 0, '#cum': 0, 'neighbours': 0, 'delicious': 0, 'irans': 0, 'revelutiongards': 0, '#naughty': 0, 'advise': 0, '#nudes': 0, 'persian': 0, '#paypig': 0, 'stillllll': 0, '#kothen': 0, 'moma': 0, 'fattest': 0, 'warminister': 0, 'von': 0, 'leyen': 0, 'chained': 0, 'masculine': 0, 'eunuchs': 0, \"smith's\": 0, 'passed': 0, 'danzer': 0, 'canara': 0, \"ram'dom\": 0, 'mistreating': 0, 'revises': 0, 'attainment': 0, '82': 0, '#proud': 0, '#runrunaway': 0, '#stringertogether': 0, 'sedition': 0, 'trumpish': 0, 'asleep': 0, 'anti-refugee': 0, 'misleadingly': 0, 'overstay': 0, 'cremated': 0, 'pseudo': 0, 'analyst': 0, 'around.illegal': 0, '#sargentiniforprison': 0, 'take-back': 0, 'sues': 0, 'settling': 0, 'rider': 0, 'fucki': 0, '❣': 0, '56,000': 0, 'aneurysm-inducing': 0, '2,047': 0, '#boldandbeautiful': 0, \"town's\": 0, 'cougars': 0, 'scholarships': 0, 'slu': 0, 'bummy': 0, 'yearn': 0, 'artificial': 0, 'innuendo': 0, 'mj': 0, 'azar': 0, 'kristol': 0, 'presumably': 0, 'inaccessible': 0, 'attkisson': 0, 'mainland': 0, 'psychopaths': 0, 'hodeida': 0, 'injections': 0, 'diversion': 0, 'ofc': 0, '#foxandfriends': 0, 'dwarf': 0, 'radicalization': 0, 'susceptible': 0, 'devastating': 0, 'militiamen': 0, 'failing': 0, 'overreact': 0, 'countryside': 0, '400.000': 0, '10.000': 0, '#sexworkersagainstfeminism': 0, 'ignores': 0, 'disingenuous': 0, 'trashass': 0, 'til': 0, '#firstofall': 0, '#altright': 0, '#nba': 0, '#callmecam': 0, '#menrights': 0, '#shrewculture': 0, 'surrounded': 0, '#flawlessremix': 0, 'fallin': 0, 'witches': 0, 'amost': 0, 'fairiimmigration': 0, 'esimates': 0, 'egyptian': 0, 'e-veri': 0, 'louise': 0, 'endorsed': 0, 'al-serraj': 0, '#mlb': 0, 'nina': 0, '#bordercontrol': 0, 'reluctance': 0, 'countering': 0, 'fy19.you': 0, 'thenown': 0, 'diwali': 0, 'lobbying': 0, 'mata': 0, 'approval-affects': 0, 'musical': 0, 'rpt': 0, 'ipigga': 0, 'a2': 0, 'sb35': 0, '#bbcqt': 0, '#cairo': 0, 'subterranean': 0, 'money-making': 0, '#merkelinsknast': 0, '#nodacano': 0, 'bamf': 0, '#leavednc': 0, '#nojihad': 0, '#buildthatwa': 0, 'detour': 0, '#cagsil': 0, 'unceremoniously': 0, 'unforgivable': 0, 'ikr': 0, '#fuckyouwhitehouse': 0, 'childrendeport': 0, 'illegalsarrest': 0, 'metros': 0, '#fucktrump': 0, '#veteransbeforeillegals': 0, 'me-what': 0, '3-2-': 0, \"sandra's\": 0, 'morh': 0, '#draineurope': 0, 'fetal': 0, 'syndrome': 0, '#danforthshooter': 0, 'migrationists': 0, '#danforth': 0, '#draintheelites': 0, 'housewife': 0, '#torontoshooter': 0, 'damm': 0, 'avenged': 0, 'teump': 0, '#protectthechildren': 0, 'oxy-moron': 0, '2008': 0, 'mightybusterbro': 0, '#fuckthis': 0, 'country-except': 0, '#buildthatwallu': 0, 'clegg': 0, 'undue': 0, '#afghanistan': 0, '#jalalabad': 0, 'taxpyers': 0, 'agains': 0, 'evrybody': 0, 'worldpopulation': 0, 'lifem': 0, \"niger's\": 0, \"again'the\": 0, 'chuck': 0, \"criminality'the\": 0, '#german': 0, \"this'now\": 0, '#politicians': 0, '#deportillegalfamiliestogether': 0, 'spillover': 0, 'sanity': 0, '#gutmensch': 0, 'rifle': 0, 'interstate': 0, 'outlet': 0, 'cliff': 0, 'comatose': 0, 'satisfy': 0, 'stained': 0, 'outlets': 0, 'forming': 0, 'electronic': 0, '#bringingbackthesunshine': 0, '#jalalabadattack': 0, 'generalizing': 0, 'alys': 0, '#fakefugees': 0, 'californias': 0, 'tennessee': 0, 'proficiency': 0, 'exceeded': 0, 'evacuate': 0, 'harboring': 0, 'hector': 0, 'transnational': 0, 'dumber': 0, 'vicars': 0, 'dirtybird': 0, 'vitiello': 0, 'eagerly': 0, 'degenerates': 0, 'overcrowded': 0, 'understaffed': 0, 'dir': 0, 'eb5': 0, 'victorville': 0, '#codepink': 0, 'icici': 0, 'mu': 0, 'agricultural': 0, 'pickers': 0, 'globalism': 0, 'sbi': 0, 'hdfc': 0, 'enclaves': 0, '#timmermansforjail': 0, '550': 0, 'oligarch-style': 0, 'extremisst': 0, 'deal-making': 0, 'zour': 0, '#inspiration': 0, '#voteleave': 0, 'bending': 0, 'oligarch': 0, 'upload': 0, 'two-part': 0, 'abbott': 0, 'yards': 0, 'kindred': 0, 'poise': 0, 'gooooooo': 0, 'asher': 0, '#nowplaying': 0, '300.000': 0, 'flashback': 0, 'cursed': 0, 'font': 0, 'benefitsand': 0, 'karamba': 0, '#ceuta': 0, 'gregarious': 0, '#enddiversitylotteryisis': 0, 'counsel': 0, 'aspiring': 0, 'gingers': 0, 'shins': 0, 'nipples': 0, 'notoriety': 0, '#weedthoughts': 0, '#armsesh420': 0, 'involved--do': 0, '#nexit': 0, 'cakeâ': 0, 'hw': 0, '#trumpianity': 0, 'pillage': 0, '#merrychristmas': 0, 'believers': 0, '@mandyrheawrites': 0, 'generalising': 0, 'blondes': 0, 'lon': 0, 'brunettes': 0, 'lb': 0, 'sidethey': 0, 'fi': 0, 'deadbeats': 0, '#londonbridge': 0, 'lest': 0, 'turrets': 0, 'traveled': 0, 'yard': 0, '#kimkardasian': 0, 'you-turn': 0, 'weave': 0, \"betty's\": 0, 'fucc': 0, 'sewer': 0, 'multicultural': 0, 'tro': 0, 'lib-lab-con': 0, 'sleeves': 0, 'inclusion': 0, 'seriois': 0, 'symmetra': 0, 'northchief': 0, 'nerf': 0, 'quitting': 0, 'goondaism': 0, '#poetry': 0, 'dfid': 0, 'boil': 0, '#quote': 0, 'method': 0, 'consens': 0, 'motorcycle': 0, 'dynamite': 0, 'aum': 0, '600.000': 0, 'bachelorette': 0, 'infringes': 0, 'berlusconi': 0, 'grips': 0, '#pgh': 0, \"#thereseokoumou's\": 0, 'sylheti': 0, '44m': 0, 'marketed': 0, 'painted': 0, 'soar': 0, 'puritan': 0, 'kerb': 0, 'moods': 0, \"london's\": 0, 'breeze': 0, 'christion': 0, 'equitable': 0, 'declarationus': 0, '#democreatsfortrump': 0, 'furiously': 0, 'briefly': 0, 'drivin': 0, 'noooo': 0, 'grimy': 0, 'coordinator': 0, 'fricken': 0, '#whoresatheart': 0, '#liberalmedia': 0, 'thwarting': 0, '#liberalbias': 0, '#liberalpropaganda': 0, '#trumpshowing': 0, 'offenders': 0, 'tombstone': 0, 'whichever': 0, '#346738': 0, '486': 0, '#gangrape': 0, '#religionofsex': 0, 'severe': 0, 'haydon': 0, '#spokenword': 0, 'nashville': 0, 'flourish': 0, '#jessewatters': 0, 'hawkers': 0, 'leaking': 0, 'sewers.jhugis': 0, 'everywhr': 0, 'therfeore': 0, 'ili': 0, \"#joebiden's\": 0, 'aspire': 0, 'novel': 0, '#watersworld': 0, 'mutilates': 0, \"al's\": 0, 'haiiiiiii': 0, 'pussyishy': 0, 'fishy': 0, 'jonghyun': 0, 'minseok': 0, 'bank.entire': 0, 'conflicts': 0, 'conversation.so': 0, '#kansas': 0, '#payattention': 0, '#voter': 0, '#fraud': 0, 'czar': 0, 'delivered': 0, 'tn': 0, 'december': 0, 'predicted': 0, 'island-another': 0, '#build': 0, 'privatizing': 0, 'sentences': 0, 'blowback': 0, 'controversies': 0, '6/10': 0, 'design': 0, 'appalled': 0, 'dilute': 0, 'clit': 0, '750,000': 0, \"stunt's\": 0, 'magnify': 0, 'curt': 0, '1million': 0, 'wonâ': 0, '#nypd': 0, 'money.dat': 0, '#aag': 0, 'esq': 0, 'gumblina': 0, 'inevitable': 0, 'handsome': 0, '#statueofliberty': 0, 'admonished': 0, 'mindfulness': 0, 'mmld': 0, 'stones': 0, '#bitchesstink': 0, '6:50': 0, 'informing': 0, '#assad': 0, 'gals': 0, '#stoptheinvasionin': 0, '︎': 0, '#illegalshome': 0, 'sinking': 0, 'lustful': 0, 'messed': 0, 'prov': 0, 'neo': 0, 'doorstep': 0, 'anti-god': 0, 'program--which': 0, 'spiteful': 0, 'snowmen': 0, 'snowwomen': 0, 'know.reason': 0, 'counties': 0, '#qproof': 0, \"unhcr's\": 0, \"diddn't\": 0, 'erection': 0, 'huss': 0, '#lameexcuses': 0, 'fasho': 0, '18:21': 0, 'alreday': 0, 'lodhi': 0, 'challaning': 0, 'offenders.they': 0, '25y.if': 0, 'wall.you': 0, 'gossiping': 0, 'parisian': 0, 'khaled': 0, 'brazilian': 0, '#redding': 0, 'news.we': 0, 'immigrants.bangladeshi': 0, '#generationidentity': 0, 'comedians': 0, '#defendeurope': 0, '#daisyosauke': 0, 'hmu': 0, 'lowe': 0, '#illegaliimmigration': 0, 'apartment.vielen': 0, \"california's\": 0, 'assoulted': 0, '#carrfire': 0, \"sun's\": 0, 'athlet': 0, 'coincidence': 0, 'downplaying': 0, 'hollow': 0, '1996': 0, '@christopherhull': 0, 'insanely': 0, 'canada.we': 0, 'bffs': 0, 'lve': 0, 'cindy': 0, 'midlothians': 0, '#notsurprised': 0, 'mon': 0, 'warped': 0, 'surprisingly': 0, 'amy': 0, 'pedestrian': 0, 'clients': 0, '6,000': 0, 'tangle': 0, '#subway': 0, 'mere': 0, 'accounted': 0, 'angie': 0, '04/09': 0, 'in-part': 0, 'cuckold': 0, 'monopolize': 0, '4z3vq': 0, 'xowat': 0, 'conspirat': 0, 'adopting': 0, 'mothball': 0, 'architect': 0, 'exams': 0, '1980': 0, 'marshals': 0, 'severest': 0, 'legacy': 0, 'shipwreck': 0, 'ant-man': 0, 'zephiel': 0, 'stall': 0, 'defied': 0, 'lf': 0, '1970s': 0, 'redhead': 0, 'ginger': 0, 'usualy': 0, 'gratefully': 0, 'headbutt': 0, 'democrat-run': 0, 'addictions.the': 0, 'opioid': 0, 'marginalized': 0, 'sidelines': 0, 'guardians': 0, 'supplements': 0, 'nutrition': 0, 'tightens': 0, 'rethink': 0, 'pontificate': 0, 'eu.europe': 0, 'seeded': 0, 'w-iran': 0, 'pro-hindu': 0, 'diminish': 0, 'northwest': 0, 'indiana': 0, 'neocon': 0, 'bolton': 0, '#muslim-majority': 0, 'dodging': 0, \"#india's\": 0, 'snoozing': 0, '#whyijoinedtwitter': 0, 'cooked': 0, '68.5': 0, 'specialized': 0, 'lesbos': 0, 'tape': 0, 'gender-sensitive': 0, 'hag': 0, 'candidatesnow': 0, 'n2': 0, 'theses': 0, 'successfully': 0, 'ruthless': 0, 'uncivilized': 0, 'magnificent': 0, 'indecent': 0, 'mchotterson': 0, 'bern': 0, 'hottie': 0, 'whataboutism': 0, 'distraction': 0, 'keynote': 0, 'episode': 0, '🏈': 0, 'reside': 0, 'logged': 0, 'exempt': 0, 'bupa': 0, \"oakland's\": 0, 'tímpano': 0, 'award-winning': 0, 'broadly': 0, 'overestimate': 0, 'hinges': 0, 'draft': 0, 'oakland-native': 0, 'bair': 0, 'befriending': 0, 'jervea': 0, 'madeleine': 0, '##walkawaymovement': 0, 'demography': 0, 'parsis': 0, 'civilisations': 0, '#zakatus': 0, 'cruz': 0, 'blac': 0, 'pursuing': 0, 'fences': 0, 'organisations': 0, '#himthough': 0, \"nusl's\": 0, '#misandryisreal': 0, 'toasting': 0, 'co-director': 0, '#naturalrights': 0, 'office.vote': 0, 'poisoning': 0, '#sanctuarycity': 0, 'fot': 0, 'checkin': 0, 'kids.the': 0, '#mintad': 0, 'chyna': 0, 'efficiently': 0, 'instill': 0, 'editor': 0, 'pitch': 0, '1,8': 0, 'lowlife': 0, 'coverup': 0, 'hardship': 0, 'reckless': 0, 'sarazin': 0, 'banker': 0, 'hambach': 0, 'birthrate': 0, 'lines': 0, 'symposium': 0, '#cameroon': 0, 'generalise': 0, '#obamagate': 0, 'remrove': 0, 'renewable': 0, 'afterwords': 0, 'rubbign': 0, 'sjwsnowflake': 0, 'creamed': 0, 'rader': 0, 'sources': 0, '#tfm': 0, 'ðÿš': 0, 'external': 0, 'expel': 0, 'graduation': 0, '#immigrantion': 0, 'whale': 0, 'envies': 0, 'holly': 0, '#dacaworks': 0, 'georgia': 0, 'gahdam': 0, 'conceived': 0, 'niece': 0, 'sanctury': 0, 'slash': 0, 'iclc': 0, 'outreach': 0, 'crotona': 0, 'bronx': 0, 'freethem': 0, 'summerstage': 0, 'shred': 0, 'grandmothers': 0, 'standpoint': 0, '3000': 0, 'timoschenko': 0, 'sakaschwilli': 0, 'irs': 0, 'tweeps': 0, '#allveterans': 0, '#supportveterans': 0, 'humanrights': 0, 'hireamericans': 0, '202 225-3031': 0, \"bosnia's\": 0, 'sorrrrry': 0, 'mulricriminal': 0, 'drilled': 0, 'crimerefugees': 0, 'stiff': 0, '#miguelbelongshere': 0, 'inand': 0, '#americankids': 0, 'soaps': 0, 'loterally': 0, 'smoked': 0, 'tweeters': 0, 'pleas': 0, 'pro-choice': 0, 'usatime': 0, 'jeopardy': 0, 'owsley': 0, 'grit': 0, 'guided': 0, 'hamstrings': 0, 'murphy': 0, 'forged': 0, 'adversity': 0, 'vitality': 0, '#standforthevulnerable': 0, 'pre-paid': 0, 'fascinated': 0, '360': 0, 'slating': 0, 'eddie': 0, 'poorest': 0, 'pawlak': 0, 'relation': 0, 'feat': 0, 'violently': 0, 'syrieans': 0, '#trumpworld': 0, 'nizzamudin-delhi': 0, 'authoritarianism': 0, '#reality': 0, 'tidally': 0, 'submerged': 0, 'ridge': 0, 'miguel': 0, 'sended': 0, 'olivia': 0, 'herevote': 0, 'immidatley': 0, \"segura's\": 0, \"alejandra's\": 0, 'demonstrated': 0, '#therainmakers': 0, 'thankq': 0, 'seas': 0, 'immigrants.no': 0, 'jot': 0, 'angle': 0, 'bette': 0, 'indonesian': 0, '2x': 0, 'heretheir': 0, 'somalien': 0, \"cox's\": 0, 'trans-formative': 0, 'hitman': 0, '@housegop': 0, 'afghanis': 0, '2a': 0, 'socially': 0, 'texans': 0, '#thismorning': 0, 'zoinest': 0, 'wax': 0, '🖨': 0, 'crown': 0, 'terrified': 0, 'bibi': 0, 'harlot': 0, '#kenisaacs': 0, 'royalty': 0, 'cousins': 0, '3d': 0, 'jfk': 0, 'printed': 0, 'laylah': 0, 'seabiscuit': 0, 'butttt': 0, '🛂': 0, 'icons': 0, 'gover': 0, 'btch': 0, 'selfkilling': 0, 'luiz': 0, 'benched': 0, 'floozy': 0, '#talkradio': 0, 'resembling': 0, 'migrationpact': 0, '#orban': 0, 'haunt': 0, 'tmak': 0, 'provided.merkel/brussels': 0, 'red-jesd': 0, 'hottest': 0, 'programm': 0, 'bavarian': 0, 'softer': 0, 'rudiger': 0, 'hrw': 0, 'bikini': 0, 'zealots': 0, 'lobbyists': 0, '#trumparmy': 0, \"ili's\": 0, 'shd': 0, 'prizewinning': 0, '#gaysfortrump': 0, '#veteransfirst': 0, 'rhizome': 0, 'kneelers': 0, '#trumpville': 0, 'fantasize': 0, 'reporters': 0, 'power.hawkers': 0, 'connecktedtoo': 0, 'suitcases': 0, 'co-leader': 0, '#turn': 0, 'without.he': 0, '#iliyear2': 0, 'bk': 0, 'wouldn': 0, 'damascus': 0, 'up4': 0, 'dolls': 0, 'carnival': 0, 'bilbao': 0, 'pro-regime': 0, 'flags': 0, 'flown': 0, 'assadist': 0, 'rw': 0, 'genocidal': 0, 'ashley': 0, 'erecting': 0, 'forts': 0, 'assumes': 0, 'mvps': 0, '000s': 0, 'applauding': 0, 'you-s-a': 0, 'kardashians': 0, '#onestepcloserwr': 0, 'telediarios': 0, 'saldran': 0, '#rohingyamuslims': 0, 'como': 0, 'risavalla': 0, 'kashdoll': 0, 'migrants.if': 0, '#walkawaymarch': 0, 'rehabilitate': 0, 'lot.another': 0, 'cruzan': 0, 'inmigrantes': 0, 'delhi.jhugis': 0, 'antifascism': 0, 'qb': 0, 'barcanic': 0, 'focused': 0, 'grabem': 0, 'marocco': 0, 'rothschilds': 0, 'locate': 0, 'bankimg': 0, 'crossroads': 0, 'mediocre': 0, 'theocrat': 0, 'cata': 0, 'mamada': 0, 'barbie': 0, 'doll': 0, 'factory': 0, 'unlimited': 0, 'si': 0, 'undertake': 0, 'eso': 0, 'consenting': 0, 'apoyaran': 0, \"god's\": 0, 'dictadura': 0, '20.000': 0, 'too.since': 0, 'worldrecord': 0, 'foresee': 0, 'preparing': 0, 'unexpected': 0, 'contaminated': 0, 'exceptional': 0, 'geez': 0, 'gmfu': 0, 'spines': 0, 'millionth': 0, 'tall': 0, 'cutted': 0, 'usless': 0, 'compatible': 0, 'dysphoria': 0, 'adul': 0, 'insecurities': 0, 'igan': 0, 'vox': 0, 'reto': 0, 'aun.propongo': 0, 'menos': 0, 'persue': 0, 'differently': 0, 'pais': 0, 'nvm': 0, 'este': 0, 'omega': 0, 'okada': 0, 'slutbag': 0, 'periodistica': 0, 'cork': 0, 'silences': 0, '#roundupdaca': 0, 'rawin': 0, 'hopping': 0, 'worries': 0, 'baker': 0, 'faker': 0, 'loudly': 0, 'bouncer': 0, 'sub-saharan': 0, 'scissors': 0, 'handjobs': 0, '#stopfundingsf': 0, '50k': 0, 'kangaroos': 0, 'infuriates': 0, '#greateras1': 0, '#ows': 0, '#tlot': 0, '#endillegalvoting': 0, 'separatng': 0, '9th': 0, 'perverted': 0, 'whatchu': 0, 'spawned': 0, 'well-deserved': 0, 'nizamuddin': 0, 'os': 0, 'gntlement': 0, 'solvable': 0, 'paging': 0, 'perv': 0, 'decline': 0, 'illegal-less': 0, 'implosion': 0, 'lifers': 0, 'trajectory': 0, '#obamalegacy': 0, '#obamalibrary': 0, '#asktheheel': 0, '#icymi': 0, 'everythin': 0, '#russia2018': 0, 'stoned': 0, 'applied.wings': 0, '#indepenceday': 0, 'juluy': 0, 'mundell': 0, '#fourthofjuly': 0, '#red_square': 0, '#soccer': 0, 'dennis': 0, '@toodrunk2care': 0, 'cunning': 0, 'mathematicians': 0, 'translate': 0, 'symbols': 0, '#buildthatwallsurviving': 0, 'importation': 0, '#bhasanchar': 0, '#unhcr': 0, 'cuck': 0, 'tents.it': 0, 'rivera': 0, 'migrants.everyday': 0, '#priyankachopra': 0, 'two-month': 0, 'deputies': 0, 'hotness': 0, 'thereby': 0, 'abit': 0, '#endsancturycities': 0, '#equalityforall': 0, 'sportsmen': 0, 'home.actually': 0, 'home.move': 0, 'from.and': 0, \"hollywood's\": 0, '1/6': 0, 'ehehe': 0, 'xenophobic': 0, 'resolution': 0, 'eliminated': 0, '844-4': 0, 'founders': 0, 'revolted': 0, 'irl': 0, 'envy': 0, 'accompany': 0, '#amjoy': 0, 'upto': 0, '#sundaymornibg': 0, 'emo': 0, 'cho': 0, 'vic': 0, 'deadliest': 0, 'suffrage': 0, 'concessions': 0, '#standwithrefugees': 0, 'elitists': 0, 'flawlessly': 0, '#closetheloopholes': 0, 'drier': 0, 'sang': 0, 'repressive': 0, 'gma': 0, 'miniskirts': 0, 'gromming': 0, 'destabilized': 0, 'pricks': 0, 'leftie': 0, 'sow': 0, 'fireman': 0, 'grabber': 0, 'vilified': 0, '#voteforte': 0, '#harassment': 0, 'scandinavia': 0, 'perpetuated': 0, 'yoy': 0, 'gtlinger': 0, 'funnily': 0, 'dearly': 0, 'flã': 0, 'goldman': 0, 'sachs': 0, 'kein': 0, 'eurozone': 0, 'listened': 0, 'abundance': 0, 'sind': 0, 'das': 0, '#graphicdesign': 0, 'cramps': 0, \"more'n\": 0, 'registering': 0, 'publically': 0, '#vietnam': 0, 'wankstain': 0, '#geogroup': 0, 'acceptance': 0, 'byeee': 0, 'slangin': 0, 'virue': 0, 'scharia': 0, 'salon': 0, '😻': 0, 'ciitizens': 0, 'slippin': 0, 'psychiatrist': 0, '#timorleste': 0, 'dublin': 0, '#stopthei': 0, 'paycheck': 0, 'imprisoning': 0, 'agenda.he': 0, '#labordayweekend': 0, 'anti-trump': 0, 'connect': 0, 'natasha': 0, 'epicenter': 0, 'havoc': 0, 'theâ': 0, 'uniparty': 0, '#44': 0, 'roque': 0, '55am': 0, 'staging': 0, 'overwhelm': 0, '@ajamubaraka': 0, 'kudos': 0, 'bopping': 0, 'totaling': 0, 'rapest': 0, 'pallywood': 0, 'swat': 0, 'india.high': 0, 'aussie': 0, 'stat': 0, 'cabin': 0, 'indoors': 0, 'waaaayyy': 0, 'warden': 0, 'white-ass': 0, 'haunts': 0, 'colonized': 0, 'europes': 0, '#proudamerica': 0, 'withheld': 0, 'execute': 0, 'leminis': 0, 'killings': 0, 'relevance': 0, '#pmln': 0, 'aegean': 0, 'drownings': 0, 'toback': 0, 'delegations': 0, '@katyperry': 0, '@johnrich': 0, 'pascal': 0, 'comn': 0, 'zones': 0, 'nyabenda': 0, 'egomaniac': 0, 'overand': 0, 'crete': 0, 'ˆðÿ': 0, 'ˆ': 0, 'fallacious': 0, 'tad': 0, 'intolerant': 0, 'lyncher': 0, 'justification': 0, '5/6': 0, '@reba': 0, 'abducting': 0, '#usopen2018': 0, 'planes': 0, 'grounded': 0, 'pedo': 0, 'readers': 0, 'barnier': 0, 'ofcourse': 0, 'choked': 0, 'treadmill': 0, 'weed': 0, 'protectionðÿ': 0, 're-election': 0, 'shelterðÿ': 0, 'podesta': 0, 'trafficing': 0, '#saturdaymotivation': 0, 'pressurised': 0, 'nastiest': 0, 'civilisation': 0, 'clutching': 0, 'horvã': 0, 'cardi': 0, 'obfuscate.president': 0, 'tenn': 0, 'celibacy': 0, 'screenshot': 0, 'jacob': 0, 'straw': 0, 'jã': 0, 'zsef': 0, 'imperception': 0, 'singularity': 0, 'obj': 0, 'ra': 0, 'obstructed': 0, '#dontboovote': 0, '#realtalk': 0, 'bond': 0, 'firing': 0, 'emanuel': 0, 'lured': 0, 'helpmake': 0, 'roles': 0, 'cocksucker': 0, '85-90': 0, \"alienswe're\": 0, '@_catsandtats': 0, 'deceptive': 0, 'cornered': 0, 'reconfiguration': 0, '#ongang': 0, 'sampson': 0, '#buildthatbridge': 0, 'gaps': 0, 'south-east': 0, '127': 0, 'perceive': 0, 'waived': 0, 'moses': 0, '10:13': 0, 'protectors': 0, '#cartelsit': 0, 'magnanimous': 0, 'eu-backed': 0, 'scuttled': 0, 'forceful': 0, 'shy': 0, 'thugish': 0, 'diagnostic': 0, '💂': 0, 'keyshia': 0, \"ka'whore\": 0, 'shoulda': 0, 'gotti': 0, 'romans': 0, 'roulette': 0, 'universe': 0, '#wrongsideofthelaw': 0, 'shoe': 0, 'd:': 0, 'hesitate': 0, 'fanboy': 0, 'touché': 0, '#disability': 0, \"adolf's\": 0, 'migrants.nation': 0, 'mini': 0, '#disabilityjustice': 0, 'wonderfully': 0, 'dividing': 0, 'detriment': 0, '#trumprussia': 0, 'affirms': 0, 'rapped': 0, 'knighted': 0, 'modren': 0, 'ake': 0, 'slovenian': 0, 'episcopalian': 0, 'cofs': 0, 'childhood': 0, 'home-based': 0, 'deployed': 0, 'trustees': 0, 'satellites': 0, 'pant': 0, 'respectfully': 0, '153': 0, '#2018midterms': 0, 'paddling': 0, '#wtf': 0, 'entertains': 0, 'excellent.it': 0, 'sox': 0, 'meals': 0, '#politicalislam': 0, 'skinhead': 0, 'akoa': 0, 'babel': 0, 'travis': 0, 'naveen': 0, 'patnaik': 0, 'orissa': 0, 'bhola': 0, 'karrar': 0, 'khammasi': 0, '#coloradodoyourjob': 0, 'psychological': 0, 'imagination': 0, 'falsified': 0, '#establishment': 0, 'curved': 0, 'africans.appeal': 0, 'wetting': 0, 'resorts': 0, '#chiangmai': 0, 'leaved': 0, 'glimpse': 0, 'ethics': 0, 'unmotivating': 0, 'tabloid': 0, 'addressing': 0, '#mekong': 0, 'racially': 0, '#foxache': 0, \"#thailand's\": 0, 'suprised': 0, 'reforms': 0, 'journalism': 0, 'worldbank': 0, 'steep': 0, 'dyson': 0, 'gurmeet': 0, 'earning': 0, 'jattu': 0, 'package': 0, 'poses': 0, 'wjahjaaj': 0, '#myanmargenocide': 0, 'tmc.link': 0, 'approaches': 0, 'multilateral': 0, 'recognizes': 0, 'underline': 0, 'forgets': 0, 'newzealand': 0, '#theram': 0, 'derby': 0, 'stems': 0, '#dcfcfans': 0, \"b'desh\": 0, 'freddy': 0, 'fluent': 0, 'mapped': 0, 'general.shame': 0, 'lyle': 0, 'lanley': 0, 'euðÿ': 0, 'livin': 0, 'birthdays': 0, 'limmys': 0, 'happiest': 0, 'sizeof': 0, '#immigraiton': 0, 'thinker': 0, 'leaf': 0, 'tw502': 0, 'strangely': 0, 'peaceful.israel': 0, 'gangbang': 0, '#spokesman': 0, 'investigative': 0, 'riveting': 0, '💃': 0, 'prolly': 0, 'compensate': 0, 'prague': 0, \"du'a\": 0, 'reza': 0, '#wallkaway': 0, '#walkawayfromdemocrat': 0, 'kennedys': 0, 'oooohhhh': 0, 'crews': 0, 'orca': 0, '💞': 0, 'tissues': 0, 'uae': 0, 'out-of-control': 0, 'strife-torn': 0, 'seal-off': 0, '#arcofhistory': 0, 'jeffery': 0, 'layer': 0, 'directives': 0, '#chelseahandler': 0, '#kimkardashian': 0, '#kanye': 0, '#kanyewest': 0, '#50cent': 0, '#funnyshit': 0, 'daaaaaaaaaaaaaaaamn': 0, '#europe-bound': 0, 'sacha': 0, '10y': 0, 'substantially': 0, 'topics': 0, 'moe': 0, 'offspring': 0, 'jan': 0, 'licensing': 0, '#satchat': 0, '#ruraldevelopment': 0, 'slid': 0, 'fleekin': 0, 'governement': 0, '#media': 0, 'answered': 0, 'dahmer': 0, '#attacks': 0, 'sympathise': 0, '114': 0, 'fugitives': 0, '#weloveyouconnor': 0, '#rootcauses': 0, 'adventure': 0, '#environment': 0, 'broader': 0, 'yoself': 0, 'golfs': 0, 'firstly': 0, 'forcedly': 0, 'empathical': 0, 'corelate': 0, 'illgl': 0, 'immgrnts': 0, 'brag': 0, '#speakout': 0, '#boys': 0, 'islamism': 0, '#fuckisis': 0, \"saying'what\": 0, 'realised': 0, '#relaxtheredlistcelebrity': 0, '32,000': 0, '#humbleclearly': 0, '#migrantshow': 0, '#johnlegend': 0, 'extending': 0, 'rubbishness': 0, 'hypnotize': 0, 'synthesize': 0, '#asking': 0, '#bibi': 0, 'delinquent': 0, 'shenanigans': 0, '#nobody': 0, 'foaming': 0, 'tiresome': 0, '#speakup': 0, 'me.your': 0, 'apologises': 0, 'mansions': 0, \"infilltrator's\": 0, 'thee': 0, 'kids.when': 0, 'quoting': 0, '#concentrationcamps': 0, 'lambs': 0, 'barber': 0, 'stipend': 0, 'gimmegrant': 0, 'outset': 0, 'wwii': 0, '@cauxdialogueâ': 0, 'extinction': 0, 'two-fifths': 0, 'tracked': 0, 'geniuses': 0, 'simulator': 0, '3.2': 0, 'chad': 0, 'nothng': 0, 'discriminated': 0, 'housekeepers': 0, 'oswald': 0, 'landscapers': 0, 'tiptoe': 0, 'suggested': 0, 'sehun': 0, 'jongin': 0, 'conveyor': 0, 'studios': 0, 'paedophile': 0, 'makers': 0, '#show': 0, '#technology': 0, '#sport': 0, '#economy': 0, 'allan': 0, '#cinema': 0, 'rational': 0, '#deranged': 0, 'estrella': 0, 'waving-through': 0, '#private': 0, 'snacks': 0, 'indicates': 0, 'flu': 0, 'reaffirms': 0, 'toffs': 0, 'generalization': 0, 'enforces': 0, '#cult': 0, 'laughable': 0, 'flops': 0, 'issuing': 0, 'hazardous': 0, '#nurembergtrials': 0, 'accompanying': 0, 'stabbing': 0, 'impersonator': 0, 'soooooooooooo': 0, '#teenslut': 0, 'expenditures': 0, 'shameing': 0, '#periodprobz': 0, 'deducted': 0, 'breathes': 0, 'hazel': 0, 'serrated': 0, 'mysogenistic': 0, 'berrigan': 0, 'expenditure': 0, 'archives': 0, 'aaron': 0, 'mysogenists': 0, 'weasels': 0, 'chilly': 0, '#americanpeoplefirst': 0, '#muslimmigrants': 0, 'ada': 0, 'enslaving': 0, 'shypakiwife': 0, 'degrader': 0, \"nkurunziza's\": 0, '1ï': 0, 'cheney': 0, 'indira': 0, 'uncertain': 0, '#subtweet': 0, 'terms': 0, 'stored': 0, 'svp': 0, 'would-be': 0, 'handles': 0, 'philadelphians': 0, 'first-ever': 0, 'cornhole': 0, 'beanbags': 0, '#sasc': 0, 'inserted': 0, '15,000': 0, '#colga': 0, 'gandhi': 0, '#yousuck': 0, '2ï': 0, 'stealin': 0, 'transitional': 0, 'demeans': 0, 'in.thank': 0, '3ï': 0, 'excellent.since': 0, 'sweaty': 0, 'arusha': 0, 'accord': 0, 'melinda': 0, 'gates': 0, 'wor': 0, 'peach': 0, 'kart': 0, 'yoouu': 0, 'summertime': 0, '#wocaffirmation': 0, 'underwearthanks': 0, 'taliban': 0, '#mediabiasthe': 0, 'commonplace': 0, '#nflkickoff': 0, \"#tombrady's\": 0, '#cnn': 0, 'coffers': 0, '#washingtonpost': 0, '#drivebymedia': 0, 'biking': 0, 'msd': 0, 'fda': 0, 'acquiring': 0, '#southeastasia': 0, 'researching': 0, 'aborted': 0, 'systems': 0, 'urging': 0, 'muggins': 0, 'freakin': 0, '#bunters': 0, 'segregated': 0, 'aba': 0, 'playstation': 0, \"ac's\": 0, 'lage': 0, 'kalagot': 0, 'delivers': 0, 'immaculate': 0, 'lala': 0, 'decorating': 0, '🚩': 0, 'refrigerator': 0, 'cortez': 0, 'vegetables': 0, 'tow': 0, 'settings': 0, 'sg': 0, '#saudi': 0, 'condemning': 0, '#teacherappreciationweek': 0, 'foil': 0, '#demi': 0, 'refuges': 0, 'phon': 0, '@donaldjtrumpjr': 0, 'bitterness': 0, 'spider': 0, 'postsecondary': 0, 'alerts': 0, 'backgrounds': 0, 'restarted': 0, '#foxlies': 0, '#fastfact': 0, '#gopscum': 0, '#fridayfeeling': 0, 'passes': 0, 'pen': 0, 'meth': 0, '#departmentofstate': 0, 'ravages': 0, '#us': 0, 'excesses': 0, 'criticized': 0, 'dire': 0, 'belonging': 0, 'infowars': 0, 'testicles': 0, 'resurrecting': 0, 'panelist': 0, '#race': 0, 'listings': 0, '#flag': 0, 'fuckhead': 0, 'resent': 0, '#wednesdaymotivation': 0, 'fyt': 0, 'cringe': 0, 'voltage': 0, \"mg's\": 0, 'villages': 0, 'events.time': 0, 'financials': 0, 'muzrat': 0, 'weaves': 0, 'displeased': 0, 'recounts': 0, 'epic': 0, 'savagery': 0, 'excellently': 0, '#bombing': 0, 'britches': 0, 'woop': 0, '#kill': 0, 'self-defence.spain': 0, 'witty': 0, 'bailout': 0, '#apologytourisover': 0, 'corden': 0, 'convicts': 0, 'grannies': 0, '#preventablecrime': 0, 'peopel': 0, 'saheb': 0, 'noncitizens': 0, 'kadam': 0, 'pratheepan': 0, '#sedthemhome': 0, 'gulasekaram': 0, 'santa': 0, 'ski': 0, 'clara': 0, 'taxdollars': 0, 'tables': 0, 'jet': 0, '#rohingyas': 0, 'sittwethe': 0, 'zi': 0, 'littering': 0, '#2goats': 0, 'stinky': 0, 'frequently': 0, '#bbcnews': 0, 'jeffrey': 0, 'b4': 0, 'organizations-churches': 0, 'caucasians': 0, 'traces': 0, 'prick': 0, 'yeh': 0, 'rardi': 0, '#finkleiseinhorn': 0, 'satisfaction': 0, 'worthy': 0, '#navy': 0, '#libertarian': 0, 'cemetery': 0, 'scrolled': 0, '#west': 0, 'baw': 0, 'war-torn': 0, 'sittwe': 0, 'rakhine': 0, 'abedi': 0, 'epstein': 0, 'blindness': 0, 'knell': 0, 'salman': 0, '#manchester': 0, 'hooking': 0, 'unpacked': 0, 'mnet': 0, 'existent': 0, '#dingotwitter': 0, '#jobsreoport': 0, 'baes': 0, 'cooperate': 0, '65,000': 0, 'obsessing': 0, 'dick-sucking': 0, 'trixie': 0, 'peng': 0, 'harry': 0, 'pengggg': 0, 'attempts': 0, 'couture': 0, 'domingo': 0, 'peels': 0, '#sanctuarystates': 0, 'composting': 0, 'collab': 0, 'accelerator': 0, '1900s': 0, 'emission': 0, 'fossil': 0, 'heat': 0, 'you.thank': 0, '@senatorburr': 0, 'champagne': 0, 'rm': 0, 'bagel': 0, 'italian-flagged': 0, 'tasty': 0, '🙀': 0, '🐽': 0, 'amazon': 0, 'repostapp': 0, 'planets': 0, 'androidâ': 0, 'warming': 0, 'antarctic': 0, 'absorbs': 0, 'felling': 0, 'dash': 0, 'bourgeois': 0, 'strolling': 0, 'undetected': 0, 'circumventing': 0, 'patiently': 0, 'diligently': 0, 'careless': 0, 'country.barack': 0, 'trolls': 0, 'juggling': 0, '#sandwichmaker': 0, 'thunder': 0, '#democraps': 0, 'halavyaahhh': 0, 'hhahahhaahahpatatas': 0, 'reserved': 0, 'ammo': 0, 'lickers': 0, 'chugchog': 0, '10/12': 0, '#drabiy': 0, 'au': 0, '#appliance': 0, '#defund': 0, 'vessel': 0, 'promoters': 0, 'babysitters': 0, 'diaspora': 0, '#iphonex': 0, 'animojis': 0, '#minnesota': 0, '@tarjimlyapp': 0, 'wigs': 0, 'avaliable': 0, 'reformist': 0, 'bilingual': 0, 'gigs': 0, '#kavanaughforscotus': 0, '2004': 0, 'fast-food': 0, 'slain': 0, 'besought': 0, 'wcw': 0, 'liberate': 0, '#ramadan': 0, '#lailatulqadr': 0, 'capitalized': 0, 'refugees.the': 0, 'northwestern': 0, 'chaturbate': 0, 'cardinal': 0, 'tagle': 0, '✖': 0, '#holythursday': 0, '#holyweek': 0, 'catcalling': 0, 'porkys': 0, 'upa': 0, 'bhakts': 0, 'ribbon': 0, 'naredra': 0, '#respectvictoria': 0, 'embarkation': 0, 'vileeee': 0, 'morally': 0, 'abhorrent': 0, 'judgment': 0, 'adopted': 0, 'collateral': 0, 'remedies': 0, 'appealing': 0, 'wassup': 0, 'procedural': 0, 'fx': 0, 'dislike': 0, 'phelps': 0, 'doritos': 0, 'immig': 0, '⚠': 0, 'sparkles': 0, 'baking': 0, 'v4': 0, '#babymomma': 0, '#meetoo': 0, 'skil': 0, 'sus': 0, 'recruiting': 0, 'spike': 0, 'nomore': 0, 'pins': 0, 'gotchu': 0, 'anas': 0, 'geek': 0, 'maven': 0, 'part.if': 0, 'medals': 0, 'strippers': 0, 'advancing': 0, 'defintion': 0, 'bullets': 0, 'hahaaaa': 0, 'urgentissimes': 0, 'breeders': 0, '#degagermacron': 0, '#dissoudrelrem': 0, '#retablirledroitrepublicain': 0, '#reduireislamausilence': 0, '#uebyebye': 0, '👽': 0, 'spokesperson': 0, 'uscis': 0, 'unv': 0, 'mid-august': 0, 'step-by-step': 0, 'crafty': 0, '#montana': 0, 'puritt': 0, 'defenseless': 0, '#godblessamerica': 0, '#godblessourpotus': 0, 'pluto': 0, '#alertthedaycarestaff': 0, '#flushthetoilet': 0, 'tripping': 0, 'glaswegians': 0, 'slovin': 0, 'trays': 0, 'rapprochement': 0, 'represented': 0, '#ncpol': 0, 'sendin': 0, 'cernia': 0, 'francesca': 0, 'beetch': 0, 'blueprint': 0, '#nochainimmigration': 0, 'fuckk': 0, 'nfl': 0, '40,000': 0, '5.3': 0, 'acknowledges': 0, 'andy': 0, 'ethiopia-eritrea': 0, '@teachplusca': 0, '#enacteverify': 0, '#bbc': 0, 'function': 0, 'geography': 0, 'nationality.and': 0, 'breathe': 0, 'daddys': 0, 'niners': 0, 'jrs': 0, '🤞': 0, 'radicals.curb': 0, 'variation': 0, 'stakes': 0, 'non-lethal': 0, 'reserves': 0, \"rcusa's\": 0, 'dara': 0, 'illusions': 0, 'migrants.after': 0, 'waitresses': 0, '2,263': 0, '#cyberbullied': 0, 'life-or-death': 0, 'adams': 0, 's-shut': 0, 'pinches': 0, 'fold': 0, 'low-paying': 0, 'reminding': 0, 'bns': 0, '#leave': 0, 'tanks': 0, '#hateeu': 0, 'pussiest': 0, 'criticizes': 0, 'ghetto': 0, 'anericans': 0, 'rated': 0, 'reduction': 0, 'presses': 0, '#happybirthdayamerica': 0, \"arizona's\": 0, 'sb1070': 0, 'whereby': 0, 'herrera': 0, '10s': 0, 'aircraft': 0, 'aranged': 0, 'bundle': 0, 'embarrass': 0, 'cradled': 0, 'animals.they': 0, '#anncoulter': 0, 'excape': 0, 'assim': 0, 'eta': 0, 'asesinos': 0, 'neighborhoods': 0, 'hablamos': 0, '#immigrationthere': 0, 'corrienation': 0, 'them.illegal': 0, 'manada': 0, 'cataluã': 0, 'secondary.nation': 0, 'migrantes': 0, 'orleans': 0, 'ppresenting': 0, 'phil': 0, '#totallyrealnews': 0, '#melania': 0, '#makeamericagreatagain': 0, 'spookers': 0, 'approached': 0, 'undies': 0, 'saffron': 0, '#mescalcolorado': 0, 'rempel': 0, \"modi's\": 0, '1,640': 0, \"payer's\": 0, 'reciprocate': 0, 'hurdles': 0, 'headlines': 0, '#loveignited': 0, '#amazingsupporters': 0, 'stuffs': 0, '2understand': 0, 'civic': 0, 'signatures': 0, 'bluntly': 0, '63,000': 0, 'endddd': 0, 'pleaseeeee': 0, 'learners': 0, 'gonnaaaaa': 0, 'sexxxy': 0, 'braincells': 0, 'confessions': 0, 'immigrants.obviously': 0, 'money.right': 0, 'cooker': 0, 'switches': 0, 'craig': 0, 'lucrative': 0, 'gig': 0, '#moreborderpatrolagents': 0, 'incorporate': 0, 'scheduled': 0, 'chech': 0, 'lnao': 0, 'sections': 0, 'canine': 0, 'benefitted': 0, 'canal': 0, 'sidhu': 0, 'puppy': 0, 'kaur': 0, '#drumnbass': 0, 'sized': 0, 'darc': 0, '#muellerinvestigation': 0, 'refugeees': 0, 'jareth': 0, 'lavice': 0, 'recep': 0, 'anyting': 0, 'middle-skilled': 0, '#selfreliance': 0, 'slum.record': 0, 'migrants.filth': 0, 'colonies.see': 0, 'finsta': 0, '#rodrigoduterte': 0, 'booted': 0, 'goooooo': 0, 'exept': 0, '50/50': 0, 'eid': 0, 'tooo': 0, 'afp': 0, 'researcher': 0, 'mother-of-two': 0, '1932-2018': 0, '#cubeisoverparty': 0, 'swift': 0, '#juveniledelinquents': 0, 'tequila': 0, 'untalented': 0, '@intthings': 0, 'luuuuhh': 0, 'savior': 0, 'committee': 0, 'slightest': 0, 'outfitted': 0, 'heave': 0, 'huffing': 0, 'bicker': 0, 'puffing': 0, 'zionists': 0, 'druggie': 0, 'autonomy': 0, 'misfits': 0, 'frogs': 0, 'thow.so': 0, 're-entry': 0, 'caution': 0, 'tax-deductible': 0, '5yrs': 0, 'argueing': 0, 'merchandise': 0, '#rifle': 0, 'infinite': 0, 'embarrassed': 0, '#detain': 0, 'finite': 0, '#catchnrelease': 0, '#kachin': 0, '1.4': 0, 'smacked': 0, 'reinforced': 0, 'rejection': 0, \"myanmar's\": 0, 'swiping': 0, 'laxy': 0, 'occurs': 0, '#facebook': 0, 'deterrent': 0, 'qld': 0, 'port': 0, 'transurban': 0, 'privatises': 0, 'blam': 0, 'gains': 0, 'noely': 0, 'utah': 0, 'lassafever': 0, 'bullshitting': 0, 'approx': 0, '48,000': 0, '10yrs': 0, '#drama': 0, 'ghostbusters': 0, 'crimeis': 0, 'lmaaaooooo': 0, 'freudian': 0, 'repercussions': 0, 'right-wing': 0, 'electorate': 0, 'racket': 0, 'eesh': 0, 'heating': 0, '#dac': 0, '#immigrationreforn': 0, 'chuckled': 0, 'uacs': 0, 'comrades': 0, '#gohomevan': 0, 'unis': 0, 'tax-payer': 0, 'notified': 0, 'uc': 0, 'proactively': 0, 'prego': 0, 'memphians': 0, '10/24': 0, 'in-laws': 0, 'arising': 0, '#americancommunists': 0, 'aboveground': 0, 'ex-girlfriend': 0, 'difficulties': 0, 'arby': 0, 'northtowne': 0, 'morse': 0, 'chords': 0, 'fe': 0, 'northside': 0, '#columbusohio': 0, 'sings': 0, 'tampons': 0, 'freeload': 0, 'hoodie': 0, '#nationalreciprocity': 0, 'jerry': 0, 'gagandeep': 0, 'gunpowder': 0, '#protectuscitizens': 0, '#zerotolerancepolicy': 0, '#immigrationlies': 0, 'mosley': 0, 'by-election': 0, 'leaflet': 0, 'coloured': 0, 'kovach': 0, 'construed': 0, 'declaring': 0, 'shrill': 0, '#muelleriscoming': 0, 'laughed': 0, 'associate': 0, 'univision': 0, 'tooth': 0, 'anti-union': 0, 'sijs': 0, '#freejulian': 0, 'anxieties': 0, 'developments': 0, 'huda': 0, 'yuo': 0, 'patriotism': 0, 'dairy': 0, 'guitar': 0, 'boomer': 0, '#jerrybrown': 0, '#criminals': 0, '#katestienle': 0, 'flames': 0, '#victims': 0, 'knickers': 0, 'pushers': 0, 'ix': 0, '#comics': 0, 'progressing': 0, '#author': 0, 'roger': 0, '#satire': 0, 'helmer': 0, 'farage': 0, '#comicbooks': 0, 'stairs': 0, 'shamiso': 0, '#diversity': 0, 'pennsylvania': 0, 'quota': 0, 'superiors': 0, 'notify': 0, '01help': 0, 'xerxes': 0, 'amethyst': 0, '100/100': 0, '#chicagotonight': 0, 'sahel': 0, 'iceberg': 0, 'corrects': 0, 'floundering': 0, 'flagship': 0, 'sociopathic': 0, 'downright': 0, 'shanksville': 0, 'tweetery': 0, 'portfolio': 0, 'klux': 0, 'ku': 0, 'begnaud': 0, 'resource': 0, 'vying': 0, 'harpies': 0, 'refund': 0, 'siow': 0, 'balcony': 0, 'immediately.lot': 0, 'grozny': 0, 'worshippers': 0, 'steele': 0, '#military': 0, '#homelandsecurity': 0, '@wfpâ': 0, 'sensitized': 0, 'judicial': 0, 'organizes': 0, 'nvr': 0, 'congested': 0, 'splashes': 0, 'memorialize': 0, 'bellied': 0, 'nancy': 0, 'self-centred': 0, 'archangel': 0, 'ills': 0, 'bankers': 0, 'orthodox': 0, 'hijab': 0, 'routines': 0, 'dashcam': 0, 'catches': 0, 'jihaad': 0, 'blackface': 0, 'catharine': 0, 'ample': 0, 'occurring': 0, 'piercing': 0, 'self-deportation': 0, 'mackinnon': 0, '#comingtoafrica': 0, 'britannia': 0, 'deludedly': 0, 'shouted': 0, 'speeches': 0, 'bigots': 0, 'maximising': 0, 'advisorydominic': 0, 'bm': 0, 'durden': 0, '#buildthatwallfollow': 0, 'interestingly': 0, 'huuuuge': 0, 'xoxoxo': 0, 'malians': 0, '#backtheblu': 0, 'reminders': 0, 'puss': 0, 'phillips': 0, 'wallets': 0, 'weiners': 0, 'defuse': 0, 'snotty': 0, 'succeeds': 0, 'rba': 0, 'tijuna': 0, 'elect': 0, 'ame': 0, 'protracted': 0, '700,000': 0, 'makeshift': 0, 'perpetrated': 0, 'portion': 0, 'integrity': 0, 'evacuation': 0, 'bartenders': 0, '#rakhine': 0, 'people---palestinians': 0, '#getbackinthekitchen': 0, '#imtalkingaboutadude': 0, 'filthiest': 0, 'wal-mart': 0, \"nawal's\": 0, 'aa': 0, 'keisha': 0, 'apologies': 0, 'readmit': 0, '#deportillegalfamiliestogether2': 0, '#presspauseonimmigration': 0, 'gc': 0, '#noasylum': 0, 'costco': 0, '11am': 0, 'samples': 0, 'supremacy': 0, '#wearebroke': 0, 'dead-set': 0, 'pit': 0, '2977': 0, 'babygirl': 0, 'gasp': 0, 'ger': 0, 'nation.no': 0, 'darla': 0, 'stop.we': 0, '#queensugar': 0, 'cb': 0, 'ext.borders': 0, 'clarifying': 0, 'closure': 0, 'garneau': 0, 'hussen': 0, 'it.bulgaria': 0, 'misun': 0, 'ahmed': 0, 'uprising': 0, 'exceedingly': 0, 'berney': 0, 'unsecured': 0, 'pandemic': 0, 'acceptation': 0, 'sahrawi': 0, 'constituent': 0, \"mosque's\": 0, 'themself': 0, 'beauty': 0, 'grubbing': 0, 'humiliate': 0, 'bcse': 0, '#neverforgetkick': 0, 'bahnhof': 0, 'danke': 0, 'pittsfield': 0, '#neogermans': 0, '9746258304': 0, '7251538': 0, 'never-trumper': 0, '@drudge_report': 0, 'drudge': 0, '#socialistpoliticians': 0, 'scattered': 0, 'road-rage': 0, 'noted': 0, 'shenandoah': 0, 'undergrad': 0, 'braver': 0, '#takeaknee': 0, 'chump': 0, 'uppity': 0, 'deal-helping': 0, '#iq45-stands': 0, 'sascha': 0, 'learns': 0, 'arpaio': 0, 'lately': 0, '#ohi12': 0, '#columbus': 0, 'handicapped': 0, '#deportthemallthis': 0, 'afterwards': 0, 'tremble': 0, '#soverignty': 0, 'bios': 0, 'boiled': 0, 'mid': 0, 'discusses': 0, '#mgtow': 0, 'jumped': 0, 'lol.shut': 0, 'neverwonafight': 0, 'bitcch': 0, 'copyright': 0, 'addict': 0, 'toughest': 0, 'spotify': 0, 'tiger': 0, 'admire': 0, 'poke': 0, 'boehringer': 0, 'ton': 0, 'fact-finding': 0, '3am': 0, '#islamicmigrants': 0, 'ccc': 0, 'heartectomy': 0, 'block-listed': 0, 'niqab': 0, \"victoria's\": 0, 'french-algerian': 0, \"millionaire'no\": 0, 'dueling': 0, 'hawk': 0, 'reinstate': 0, 'barred': 0, 'trendy': 0, 'defender': 0, 'outages': 0, 'interaction': 0, 'etv': 0, 'kathimerini': 0, '#womensuckk': 0, 'equalizer': 0, 'bruise': 0, \"ego's\": 0, 'keepers': 0, 'nauseous': 0, 'changedwhen': 0, 'armenian': 0, '#wealmostdatedbut': 0, 'bcc': 0, '#armeniangenocide': 0, 'tomorrows': 0, 'postcards': 0, 'nodaca': 0, '#secretsociety': 0, '#secureourborers': 0, '#doyourjob': 0, 'prowess': 0, 'athletic': 0, '🎩': 0, 'acg': 0, 'vomit': 0, 'stoltenberg': 0, 'help.please': 0, 'genocide.to': 0, 'fock': 0, 'spouse': 0, 'porno': 0, 'stooop': 0, 'pace': 0, 'smashes': 0, 'quickens': 0, 'whatev': 0, 'ideal': 0, 'conferenc': 0, 'convened': 0, '#morningjoe': 0, '#wednesdaywisdom': 0, '#nomoredeaths': 0, \"#bangladesh's\": 0, 'rocket': 0, 'inordinate': 0, 'dt': 0, 'slowed': 0, 'europe--and': 0, 'andalucian': 0, 'kardashian': 0, 'evolution': 0, 'panelists': 0, 'haloween': 0, 'karen': 0, 'yo.you': 0, 'steali': 0, \"grad's\": 0, 'berkshire': 0, 'scientists': 0, 'premises': 0, 'lv': 0, 'integrate.they': 0, 'ram-ram': 0, 'classy.bitch': 0, 'mindful': 0, 'stranded': 0, 'recognised': 0, 'momentum': 0, 'tevin': 0, 'ape': 0, '#arbys': 0, '80hd': 0, '110,000': 0, 'harrasment': 0, 'fattening': 0, 'masks': 0, 'gather': 0, 'solar-powered': 0, 'build.then': 0, 'fdr': 0, 'minds--but': 0, 'donor': 0, '#netherlands': 0, 'refugees.their': 0, 'murals': 0, 'brightening': 0, 'unicef': 0, 'concerning': 0, '#ihatefemales': 0, 'spooky': 0, 'touchdown': 0, 'hog': 0, 'yummy': 0, 'topped': 0, 'israhell': 0, 'savi': 0, '🌶': 0, '150th': 0, 'giveaway': 0, 'reinforces': 0, 'civilised': 0, '#independenceday': 0, '#americansunite': 0, '@trillingual': 0, '#secureourbord': 0, 'pablo': 0, '#kas': 0, '#nopediophiles': 0, '#countryoverparty': 0, '#nosextraffickers': 0, 'barely': 0, 'migrantsðÿ': 0, 'eustates': 0, 'fraud.eu': 0, 'answers': 0, 'refugee-like': 0, 'forthright': 0, 'angelic': 0, '#operationcookout': 0, 'skala': 0, 'incarnated': 0, 'tatted': 0, 'senatorstell': 0, 'kurdish': 0, 'stooge': 0, 'condemned': 0, 'captivity': 0, 'jouhar': 0, \"booker's\": 0, 'sykamia': 0, 'rumors': 0, '55km': 0, '#endguncontro': 0, '2014/15': 0, 'wallno': 0, '#getout': 0, 'verse': 0, '#refugeeadmissionsprogram': 0, 'doggy': 0, '28': 0, 'wished': 0, \"jew's\": 0, 'tweat': 0, '1929': 0, 'humphrey': 0, 'apologising': 0, 'lewiston': 0, 'faking': 0, 'ref': 0, 'easterneurope': 0, 'consented': 0, 'multiculturell': 0, 'exploiting': 0, 'patted': 0, \"finland's\": 0, 'phucking': 0, 'brutalpickups': 0, 'streetpickupstube': 0, 'feminine': 0, 'vis-ã': 0, 'straws': 0, 'prospect': 0, 'wendell': 0, 'berry': 0, '#missionarylife': 0, 'macho': 0, 'prosecutors': 0, '#legalimmigration': 0, 'bincy': 0, 'sony': 0, 'adjectives': 0, 'hoeing': 0, 'endeavours': 0, '#hoetips': 0, 'forreal': 0, 'grasping': 0, 'semantics': 0, 'bollocks': 0, 'lisdoonvarna': 0, 'yuh': 0, 'slober': 0, 'nob': 0, 'employed': 0, 'jokowi': 0, 'homeboys': 0, 'dehumanising': 0, '5/4': 0, '💜': 0, 'uncovers': 0, 'orientations': 0, 'earmarked': 0, 'nowadays': 0, 'successes': 0, 'failures': 0, 'suicidal': 0, 'iagnosing': 0, 'unnessary': 0, 'ot': 0, 'jodie': 0, 'chilfren': 0, 'pickups': 0, 'pro-immigrant': 0, 'touts': 0, 'abrams': 0, 'youporn': 0, 'sdms': 0, 'pickup': 0, '#scum': 0, 'stacey': 0, 'dalton': 0, 'mypickupgirls': 0, 'upskyrt': 0, 'umc': 0, '11yr': 0, 'milo': 0, 'jacket': 0, 'ruled': 0, 'unplugging': 0, '#lawandorder': 0, 'devices': 0, 'isolating': 0, 'switching': 0, '#supporttheblue': 0, 'newborn': 0, '#endlotteryvisas': 0, 'defining': 0, '#ms13animals': 0, '#iceheroes': 0, 'billion-dollar': 0, 'execs': 0, '#arresttheemployers': 0, 'iwb': 0, '#deportimmediately': 0, 'approve': 0, '#woman': 0, 'idlib': 0, 'tap': 0, 'irrelevance': 0, 'photographer': 0, 'noor': 0, 'yer': 0, '#firstwesternjournalist': 0, 'wired': 0, 'johns': 0, 'hangtown': 0, 'deffo': 0, 'click': 0, '#antiobama': 0, '#palestinianrefugeecamp': 0, \"#syria's\": 0, '#eventprofs': 0, '#marketing': 0, 'tuning': 0, 'facetime': 0, 'hereâ': 0, 'vr.watch': 0, '#action': 0, 'policemen': 0, '#adventure': 0, '#kindleunlimited': 0, 'barbz': 0, 'alain': 0, 'inâ': 0, 'civili': 0, 'hahhaha': 0, 'maws': 0, 'rangers': 0, '#360âºâ': 0, 'andâ': 0, '#vrâ': 0, 'strug': 0, '#print': 0, 'faq': 0, 'barb': 0, 'bcdotus': 0, 'repel': 0, '#frontlinepbs': 0, \"editor's\": 0, 'slur': 0, '99.4': 0, 'midwives': 0, 'opion': 0, 'wrc': 0, 'commentary': 0, '99.3': 0, 'insta': 0, 'manish': 0, 'subsidizing': 0, '#buildthatw': 0, 'becky': 0, 'human-wall': 0, 'subtle': 0, 'heels': 0, 'd-jo': 0, 'titted': 0, 'goodman': 0, '#blackinkcrewchi': 0, 'memories': 0, 'phor': 0, \"f'd\": 0, 'butterfly': 0, 'devlp': 0, 'twitterverse': 0, 'criminaliens': 0, 'hints': 0, 'tedhead': 0, 'lieu': 0, 'thorn': 0, 'classed': 0, 'creek': 0, 'encroachers': 0, 'winwith': 0, 'scarborough': 0, '@drlee4america': 0, 'harpers': 0, 'ctitizens': 0, 'anti-feminist': 0, 'dupe': 0, '@senatordurbin': 0, 'rocker': 0, 'joker': 0, 'domestically': 0, '7/12': 0, 'vliet': 0, 'testimony': 0, 'mika': 0, 'butter': 0, 'selfies': 0, 'bo': 0, 'kinky': 0, 'diabolic': 0, 'violets': 0, 'grasp': 0, '#taxcuts2': 0, 'mosques': 0, '#edpolicy': 0, 'korans': 0, 'nooooooo': 0, '#k12': 0, 'fucccking': 0, 'hookin': 0, '24-7': 0, 'yeet': 0, '#pp': 0, 'babes': 0, 'generations': 0, 'wer': 0, 'hungrexit': 0, 'twenty': 0, 'trucks': 0, '#trudeau': 0, 'bengalis': 0, '10cm': 0, 'keeped': 0, 'subtweeting': 0, 'looooooool': 0, 'silo-openings': 0, 'silo': 0, 'alpha': 0, 'tense': 0, '#cdnimm': 0, 'rutted': 0, 'churned': 0, 'hooves': 0, 'internationally': 0, 'battered': 0, 'connor': 0, 'esme': 0, 'chh': 0, 'banki': 0, 'fandom': 0, 'hahahahahapleasekillmehhahahahhahahahaha': 0, 'calus': 0, 'thirsting': 0, 'postbet': 0, 'veils': 0, 'penetrated': 0, 'courtrooms': 0, 'revoking': 0, '37,000': 0, '4,400': 0, \"dm'n\": 0, 'tweetin': 0, 'undisclosed': 0, 'behaved': 0, 'oneâ': 0, 'superpower': 0, 'akkorou': 0, '#womentakeovertwitter': 0, '#refugeeagencychief': 0, 'ebrahimi': 0, 'budgeted': 0, 'nonemergency': 0, 'strictly': 0, 'kamil': 0, 'ostensibly': 0, 'resilience': 0, 'henley': 0, 'burglary': 0, 'farting': 0, 'heng': 0, 'orderly': 0, 'variety': 0, 'ortasio-cortez': 0, 'assis': 0, 'upholding': 0, 'bijan': 0, 'productive': 0, '191,000': 0, 'crushing': 0, 'rebecca': 0, '#desenate': 0, 'yeo': 0, 'delaware': 0, 'truono': 0, 'merrick': 0, 'garland': 0, 'removal': 0, 'hungarians': 0, 'disabling': 0, 'marketplaces': 0, 'belongs': 0, 'prog': 0, 'mrs': 0, 'strings': 0, 'battery': 0, '#keepamericanssafeit': 0, '#pur': 0, 'growled': 0, 'ushered': 0, '#keepcountrycaps': 0, '#standwithamericanworkers': 0, '#endopt': 0, 'maturity': 0, 'partake': 0, 'classified': 0, 'ohohohoh': 0, 'forgery': 0, 'clenched': 0, 'dripped': 0, 'degrade': 0, 'somlalia': 0, '#nikkihaley': 0, '#muslimrefugees': 0, '#sunni': 0, 'abdullah': 0, 'proposals': 0, 'trespasser': 0, 'sadlystop': 0, 'jaime': 0, 'oliver': 0, '#nosanctuary': 0, 'flagged': 0, 'doj-dhs': 0, 'aliensthe': 0, '#trum': 0, 'traumatization': 0, 'styles': 0, 'caveat': 0, 'permitted': 0, 'fling': 0, 'emotionally': 0, 'overrun': 0, 'peseta': 0, 'obsolete.onward': 0, 'cracking': 0, 'raevin': 0, 'nobs': 0, 'steff': 0, 'lifestyles': 0, '#stopimmigrationnow': 0, 'dizzy': 0, 'autograph': 0, 'dining': 0, 'elitist': 0, '9:30': 0, 'ignorence': 0, 'sore': 0, 'sniveling': 0, 'pi': 0, 'corker': 0, 'flexibility': 0, 'ncentral': 0, '8,044': 0, 'blok': 0, '#auspolwe': 0, 'easteuropa': 0, 'cultruell': 0, 'hatred-fueled': 0, 'plaintive': 0, '#nagaland': 0, 'deploys': 0, 'est': 0, 'wistfully': 0, 'bathers': 0, 'amnestyslovenia': 0, 'brunch': 0, 'bestfriend': 0, 'bugs': 0, 'desater': 0, 'intimidate': 0, 'villains': 0, 'differnces': 0, '1,172': 0, 'zionist': 0, 'yt': 0, 'moments': 0, 'aussies': 0, 'whistle': 0, '98': 0, 'compatibles': 0, 'deprives': 0, 'aforementioned': 0, 'beaucoup': 0, 'petits': 0, 'restaurateurs': 0, 'quarters': 0, 'embauchent': 0, 'filthhyy': 0, 'hate-tax': 0, 'chemo': 0, '#theredpill': 0, '#alkeklibrary': 0, 'condolences': 0, 'voicemail': 0, 'strategies': 0, 'labo': 0, 'conspirator': 0, '#unrwa': 0, '1950s': 0, '#blacks4trump': 0, '#protests': 0, '#freedom': 0, 'groom': 0, '#democrtats': 0, 'guards-citizens': 0, '#democracy': 0, 'protect.disrupt': 0, 'belated': 0, 'pervs': 0, 'toothless': 0, 'relatable': 0, '4600': 0, '#sunnimuslims': 0, 'flint': 0, 'neatly': 0, 'heathens': 0, 'pedestals': 0, '#unpluginfowars': 0, 'self-serving': 0, '#lhhatl': 0, '#giftshawnep': 0, 'institute': 0, 'shun': 0, 'rantin': 0, 'masochistic': 0, 'magats': 0, 'mismanagement': 0, '#trumpdupedyou': 0, '#liberalsim': 0, '#velshiandruhle': 0, 'categories': 0, 'buck': 0, 'joey': 0, 'bethany': 0, 'shield': 0, 'sheesh': 0, 'milton': 0, 'detains': 0, 'newspapers': 0, 'regarded': 0, 'chugging': 0, 'boogers': 0, 'studs': 0, 'zagreb': 0, \"girlfriend's\": 0, 'taxing': 0, '#octoberrally': 0, 'professionals': 0, 'vaginals': 0, 'rl': 0, 'billie': 0, 'christy': 0, 'junt': 0, 'munt': 0, 'nunt': 0, 'culturell': 0, \"victim's\": 0, '<more>': 0, 'smeared': 0, 'exchange': 0, 'shills': 0, 'possi': 0, 'predecessors': 0, 'dynasty': 0, 'misspell': 0, 'forefathers': 0, 'anti-choice': 0, '#hillary': 0, 'lunt': 0, 'iunt': 0, '#mentaldisorder': 0, '#immigrantcrackdown': 0, '#magaann': 0, 'bunt': 0, 'dunt': 0, 'betty': 0, 'eunt': 0, 'spews': 0, 'rapis': 0, 'pastors': 0, 'segment': 0, 'funt': 0, 'gunt': 0, '#theswamp': 0, 'practically': 0, 'patty': 0, 'loosing': 0, 'goa': 0, 'sexiest': 0, 'lividdddd': 0, 'nxt': 0, 'clarence': 0, 'ari': 0, 'spencer': 0, 'thomas': 0, 'chronicle': 0, 'empathize': 0, 'personalities': 0, 'alt': 0, '#christian': 0, 'blown': 0, 'housecleaning': 0, 'rauner': 0, 'perils': 0, 'tattle': 0, 'mideast': 0, 'pro-illegal': 0, 'commenced': 0, 'renovations': 0, 'steinway': 0, 'lovers': 0, 'idfk': 0, '#sctweets': 0, 'kessler': 0, 'aborting': 0, 'laurel': 0, '#retweethelp': 0, '#ad': 0, '#airbnbexperiences': 0, 'listers': 0, 'intimate': 0, 'secrets': 0, 'battleship': 0, 'branch': 0, 'nuke': 0, 'faslane': 0, 'drags': 0, 'numero': 0, 'somewhat': 0, '#aapi': 0, 'erases': 0, 'lalu': 0, 'floating': 0, 'rumour': 0, '507tvb': 0, '#tucker': 0, '#tuckercarlsontonight': 0, 'revives': 0, '#enddemocrats': 0, \"find'em\": 0, '#keepnewsreal': 0, 'instincts': 0, 'ln': 0, 'discernment': 0, 'kã': 0, 'nitish': 0, 'janelle': 0, '#corybooker': 0, 'bd': 0, 'kurds': 0, 'messy': 0, 'tarmac': 0, 'daaaaaaamn': 0, '#lawoftheland': 0, '#magawhen': 0, 'lulzboys': 0, '#republicanparty': 0, 'e-mailsthis': 0, 'blind-eye': 0, 'mex': 0, 'larper': 0, 'collinsbogus': 0, 'caging': 0, 'misha': 0, 'millionillegal': 0, '#moveforward': 0, '#knowyourplace': 0, 'operators': 0, '#solarban': 0, \"mao's\": 0, '#pse': 0, '#plasticfree': 0, '#horses': 0, '#iran': 0, '#waterban': 0, 'disorder': 0, 'avec': 0, 'banged': 0, '#nodeal': 0, '#immigrationfraud': 0, 'rezzonico': 0, 'achermann': 0, 'christin': 0, 'duration': 0, '#nuclearban': 0, 'mao': 0, 'xinyu': 0, 'cashing': 0, 'censoring': 0, 'scammer': 0, 'loop': 0, 'hood': 0, 'harrassed': 0, '#metwo': 0, 'dickriding': 0, 'improving': 0, 'immensely': 0, 'swim': 0, 'beijing': 0, 'glamourise': 0, 'owned': 0, 'appeared': 0, '#arabiansea': 0, 'grilled': 0, '#channel4': 0, '600,000': 0, '75kfollowers': 0, 'splc': 0, 'waheed': 0, 'youto': 0, '#freetherest': 0, 'verified': 0, 'ethnic-minority': 0, 'accountthat': 0, 'agreements': 0, 'entretien': 0, 'sprawling': 0, 'reconciliation': 0, 'tortured': 0, 'absoluteimpunity.tweet': 0, 'unaccounted': 0, 'suspensions': 0, 'deletions': 0, 'cheka': 0, 'exemptions': 0, 'adrian': 0, '#masa': 0, '@channel4newsâ': 0, 'nasa': 0, 'administrative': 0, 'nantes': 0, '@channel4â': 0, 'iligal': 0, 'bracing': 0, 'tention': 0, 'bike': 0, 'cycling': 0, 'promising': 0, 'kids.learn': 0, \"utrecht's\": 0, 'muppet': 0, 'nono': 0, 'jsut': 0, 'dis': 0, 'cishet': 0, '1951': 0, 'fbiâ': 0, 'knifeman': 0, 'circuit': 0, '#thursdaythought': 0, '#charity': 0, 'heartened': 0, 'rewrite': 0, 'rcusa': 0, '2018-2020': 0, \"she'ss\": 0, 'youuuuu': 0, 'sustained': 0, 'selena': 0, 'chronological': 0, 'brainwas': 0, 'chameleon': 0, '#scotland': 0, \"trust's\": 0, 'injuring': 0, '#sorosrefugees': 0, 'stalks': 0, 'cocked': 0, 'harasses': 0, 'prude.you': 0, 'rits': 0, '#policeso': 0, 'jacking': 0, 'hentai': 0, '#slavery': 0, '#womensissues': 0, 'fentanyl': 0, '#sextrafficking': 0, 'overdoses': 0, 'edanielkahn': 0, '#sorosmoney': 0, 'scumpig': 0, '#fake': 0, '#fuss': 0, 'rightwing': 0, 'hinted': 0, '#utah': 0, 'reatrd': 0, 'plead': 0, 'irreparably': 0, 'boston': 0, 'damages': 0, '#americandreamers': 0, 'fates': 0, 'utopia': 0, 'americaans': 0, 'gill': 0, 'echoes': 0, 'unlicensed': 0, 'ambulance': 0, '@senmikelee': 0, '#chooselife': 0, '#denounce': 0, '@repchrisstewart': 0, '#accuse': 0, '#porcupine': 0, '#crab': 0, 'beatiful': 0, '#bitc': 0, 'blt': 0, 'rye': 0, 'oversight': 0, 'disappearing': 0, '#tinylivesatstake': 0, '46,000': 0, '#midterms': 0, '#redwave2018': 0, 'internally': 0, 'collaborative': 0, '#noamne': 0, 'obeying': 0, 'depending': 0, 'tracker': 0, 'absorbing': 0, '#builditnow': 0, '#stopoverdoses': 0, '#deportillegalailens': 0, 'assyrian': 0, '4,425': 0, 'unfairness': 0, 'reinstated': 0, 'w-accounting': 0, 'alerting': 0, '#wetbacks': 0, 'uncalled': 0, '#westbank': 0, 'tart': 0, 'clare': 0, 'evolve': 0, 'graphics': 0, '#lopezobradorpresidente': 0, 'mitigating': 0, 'riverbank': 0, 'rold': 0, 'deluxe': 0, 'enoughin': 0, 'precedentðÿ': 0, 'ends.even': 0, 'gullible': 0, 'crisis.eu': 0, 'dolling': 0, 'ysidro': 0, 'immodestly': 0, 'arrives': 0, '#mollietibbits': 0, 'ecuador': 0, 'fau': 0, 'requesting': 0, 'baby-mama': 0, 'rump': 0, 'ranks': 0, '#twofaced': 0, '#floodthedesert': 0, '🚪': 0, '12.1': 0, 'recourse': 0, 'never-ending': 0, '#pompous': 0, 'talk-host': 0, '#pos': 0, 'sitcom': 0, 'haram': 0, '#moveon': 0, 'boko': 0, 'electionwhy': 0, '000': 0, 'w-eu': 0, 'absorbed': 0, '#freedomofpress': 0, 'hooker': 0, 'biggie': 0, 'crednhill': 0, 'fear-mongering': 0, 'curtisn': 0, '#ireallydonotcare': 0, 'smartness': 0, '#mens': 0, 'accomplishes': 0, '😲': 0, 'fuckung': 0, 'fuuuuuuuuuuuuuuuuuck': 0, 'fuckwits': 0, \"pepsi's\": 0, 'unfounded': 0, '#tictocnews': 0, 'uber': 0, 'turnstile': 0, '#womenboycotttwitter': 0, '81,652': 0, 'wb.now': 0, 'sterolization': 0, 'pakistanis': 0, 'reflex': 0, 'raj': 0, 'reemerge': 0, 'lyric': 0, 'bihar': 0, 'day.caste': 0, 'nave': 0, 'smartest': 0, 'effectiveness': 0, 'jacee': 0, 'whoop': 0, 'versed': 0, 'illiteracy': 0, 'likable': 0, 'interfering': 0, 'self-deport': 0, 'yoked': 0, '#mandatoryeverity': 0, 'inhabitants': 0, 'buchanan': 0, 'blablah': 0, 'suicide.third': 0, '#americansaredreamerstoo': 0, 'rodeo': 0, '#nosocialism': 0, 'marcos': 0, 'hannah': 0, 'montana': 0, '#nocommunists': 0, 'poised': 0, '#skilledtradeeducationneedednow': 0, 'thinf': 0, '#sneakykevinyoder': 0, 'jd': 0, '#filth': 0, \"d'souza\": 0, '10mn': 0, '#sandiego': 0, '#sanctuarystate': 0, 'dak': 0, '#safety': 0, 'makn': 0, 'waitin': 0, 'sticks': 0, '258': 0, \"reese's\": 0, 'violates': 0, 'adapt': 0, '#bjp': 0, '#wal': 0, '#persist': 0, 'allowance': 0, 'cuf': 0, 'homewreakn': 0, '#deporthemall': 0, 'therapist': 0, 'thwart': 0, 'babysit': 0, 'graffiti': 0, '#berkeley': 0, '#cadeservesbetter': 0, '#disgusting': 0, '#baltimore': 0, 'dodge': 0, '.  ...': 0, 'allocates': 0, 'empire': 0, 'collapses': 0, 'periphery': 0, '2015.75': 0, 'cheatn': 0, 'morowali': 0, 'vis': 0, 'defenders': 0, 'today.it': 0, 'rubius': 0, 'championships': 0, 'sweeden': 0, 'feminazi': 0, 'sodomites': 0, 'lending': 0, 'owl': 0, 'cheeto': 0, 'cheated.illegals': 0, 'deathwe': 0, '#mondaymorning': 0, '#immigrationisaweapon': 0, 'burkha': 0, 'distinguish': 0, 'ophelia': 0, 'complying': 0, 'maroc': 0, 'uniform': 0, '22.000': 0, '#gbpjpy': 0, 'diam': 0, '#eurusd': 0, 'opining': 0, 'province': 0, 'duduk': 0, 'absorb': 0, 'macro': 0, 'trigger': 0, 'hadn': 0, '#gbpusd': 0, 'sunk': 0, 'cummy': 0, 'rgb': 0, '♠': 0, 'impersonating': 0, 'economies': 0, 'assem': 0, 'nananana': 0, 'suite': 0, 'everybodyd': 0, 'implement': 0, '#sarahhuckabeesanders': 0, 'fallston': 0, 'precisely': 0, 'compromises': 0, 'nationwide': 0, \"parent's\": 0, 'shares': 0, 'alienate': 0, 'disgusting.unamerican': 0, '#alwayscryingblack': 0, 'migrantsbut': 0, '#parisattack': 0, 'alastair': 0, 'perversion': 0, 'impale': 0, 'nullifies': 0, 'coordinators': 0, 'consist': 0, 'darfur': 0, 'mec': 0, '#worldrefugeeday2018': 0, '#nzdusd': 0, 'tutu': 0, 'desmond': 0, 'flies': 0, 'panyaza': 0, 'lesufi': 0, 'mamelodi': 0, 'pupil': 0, 'rmpire': 0, '#zee24kalak': 0, 'vampire': 0, 'negroe': 0, '2021': 0, '34.000': 0, 'familiywelfare': 0, 'kissed': 0, '#equality': 0, '3700': 0, '#antifrees': 0, '11000': 0, 'secretserv': 0, 'scream.bitch': 0, 'refugeemedicinedoctors': 0, 'baekyeol': 0, '#dollar': 0, 'victorian': 0, 'certificats': 0, 'viewed': 0, '#childsextrafficking': 0, '#googleiscia': 0, '#corruptgovernment': 0, '#elections2018': 0, 'squads': 0, 'completly': 0, '#nazileft': 0, '2050': 0, 'pmsing': 0, 'offshore': 0, 'consumed': 0, 'fanatics': 0, 'confiscate': 0, 'sakes': 0, 'diligent': 0, 'matta': 0, 'revoked': 0, 'debunked': 0, 'non-european': 0, 'outing': 0, '#destinationeurope': 0, '#seacrossing': 0, 'yermasoyia': 0, 'indians.modiji': 0, 'weastern': 0, 'maps': 0, 'innovative': 0, 'repaired': 0, '#iceraids': 0, 'colombian': 0, 'jobbers-miller': 0, 'snow': 0, 'myers': 0, '74': 0, '#stephapproves': 0, '#euco': 0, 'aryanfascist': 0, 'backup': 0, 'trudope': 0, 'obly': 0, '200.000': 0, '#sandy': 0, 'skaterboy': 0, 'marrying': 0, '#sexism': 0, 'fixed': 0, 'land.those': 0, '#antifreedomfighters': 0, 'us.hindus': 0, '#asiaargento': 0, '#ashamed': 0, \"not'y\": 0, '#antifa': 0, 'eu28': 0, 'isolate': 0, '#resignryan': 0, 'rogue': 0, '#noamensty': 0, 'world.stop': 0, '#massdeportations': 0, 'ogling': 0, 'loopholes': 0, 'godmother': 0, 'peterson': 0, 'likeglobalistdemocratsocialistcommunistislammuslimobamacaredeficitcontinueing': 0, 'microwave': 0, 'argume': 0, '#immigrantartssummit': 0, '#latenightthoughts': 0, 'disloyal': 0, '#weareallimmigrants': 0, 'lara': 0, 'resolutioncomprehensive': 0, 'aso': 0, 'reyes': 0, 'padrone': 0, 'fugazy': 0, 'luigi': 0, 'alongside': 0, 'busiest': 0, 'foia': 0, 'astounded': 0, 'inspector': 0, 'beneficence': 0, 'giddy': 0, 'concentrationcamps': 0, 'daydreaming': 0, '#box': 0, 'impeachment': 0, 'obstruction': 0, 'profiteering': 0, 'rotting': 0, 'purposefully': 0, '#slit': 0, 'sensible.its': 0, 'audi': 0, 'indignant': 0, '1930': 0, 'surreal': 0, 'mourned': 0, '753,000': 0, '#teardownthe2ndwall': 0, '#naturalizenow': 0, 'indoctrinated': 0, 'sponsor': 0, 'undermining': 0, 'sptingtime': 0, 'home.europe': 0, 'skill': 0, 'acted': 0, '6h': 0, 'dork': 0, 'initiated': 0, 'lamborn': 0, 'compression': 0, '#supportpresidenttrump': 0, 'discard': 0, 'consistent': 0, 'nation-state': 0, 'imprison': 0, 'rick': 0, 'endangered': 0, 'hostels': 0, 'remotely': 0, 'pmun': 0, 'coastboat': 0, 'rascist': 0, 'lawful': 0, 'distraught': 0, 'faciliators': 0, 'reformnfl': 0, 'coyote': 0, 'rat-line': 0, 'it.my': 0, 'way-stations': 0, 'unveils': 0, 'anti-migrant': 0, 'daryl': 0, 'gtb': 0, '#muff': 0, 'immunized': 0, 'lik': 0, 'breakups': 0, '#shadowbanned': 0, 'negotiating': 0, 'instinct': 0, 'pollywog': 0, '83': 0, 'alimony': 0, 'scaled': 0, 'fse': 0, '#boycottfirstman': 0, '#fbr': 0, 'stinks': 0, 'mags': 0, 'maltreated': 0, '@kidrock': 0, '@hulkanator11': 0, 'colbert': 0, '#brexitmeansbrexit': 0, 'dipshit': 0, '#cabinetmeeting': 0, 'jayceejuice': 0, 'reflexes': 0, 'campbell': 0, 'gl': 0, 'johnny': 0, 'remoaner': 0, 'castle': 0, 'guidance': 0, 'rilynn': 0, 'rae': 0, 'trimmed': 0, 'camo': 0, 'smokes': 0, \"poland's\": 0, 'rescinds': 0, 'insiders': 0, 'n18': 0, 'tl': 0, '#thisisamerica': 0, 'legislature': 0, 'taxmoney': 0, '#nys': 0, '#twat': 0, '#puss': 0, 'temporerly': 0, '#sd56': 0, '#flipthesenate': 0, '#desi': 0, '#nextgen': 0, '#gash': 0, '#onward': 0, 'newcomers': 0, '#audi': 0, '#clit': 0, '#audicunt': 0, 'nys': 0, 'organsisations': 0, 'proffered': 0, 'newsletter': 0, 'opportunies': 0, 'anarchist': 0, 'spender': 0, 'commands': 0, 'insightful': 0, 'cfta': 0, 'scriptures': 0, 'analyses': 0, 'examines': 0, '#westernsahara': 0, 'jogger': 0, 'fakes': 0, 'assess': 0, 'bait': 0, 'snoowflake': 0, 'virtual': 0, 'cornerstone': 0, 'chaque': 0, '─': 0, 'demonstration': 0, '〞': 0, 're-united': 0, 'fwhim': 0, 'chicharrón': 0, 'neededblacks': 0, 'openbordersðÿ': 0, 'w-them': 0, 'migrant.what': 0, 'expose': 0, 'notmore': 0, 'clashes': 0, 'wherewithal': 0, 'brokeillegal': 0, '#iceagents': 0, 'crowbar': 0, 'salvador': 0, '〝': 0, 'fixes': 0, 'loon': 0, 'eal': 0, 'proportional': 0, 'greatbritan': 0, 'oy': 0, 'overseeing': 0, 'worsen': 0, '1.600': 0, 'snatched': 0, 'dhimmis': 0, 'motion': 0, '🥂': 0, '#votebank': 0, \"rapefugee's\": 0, '2billion': 0, 'crimeimmigration': 0, 'loneliness': 0, 'internment': 0, 'distracting': 0, 'loooooooooook': 0, 'cn': 0, 'dildos': 0, 'extended': 0, '#libtactics': 0, 'acumen': 0, 'flavored': 0, 'security.we': 0, 'pensioners': 0, 'mississippi': 0, '#protectfamilies': 0, 'sevurity.politics': 0, 'wirh': 0, '#families': 0, 'whereabouts': 0, 'asssm.bangladedhis': 0, 'lakh': 0, '#feministlogic': 0, '#uscitizensonlyvote': 0, 'gynocentric': 0, '#womanshutup': 0, 'workillegals': 0, 'workwalls': 0, 'argumentsvoter': 0, 'rulers': 0, 'housedogs': 0, 'responsibilities': 0, '#obviouschild': 0, 'napkin': 0, '#labour': 0, \"id'i\": 0, '#assamnrc': 0, 'shortage': 0, 'clears': 0, 'india.it': 0, 'educators': 0, 'enablers': 0, 'immigratnts': 0, 'peak': 0, 'booth': 0, 'reflection': 0, 'rst': 0, 'yessssssssss': 0, 'dismayed': 0, 'nit': 0, 'mortal': 0, 'heinous': 0, 'menntal': 0, 'reset': 0, 'tomi': 0, '#thencrackdown': 0, 'nyour': 0, 'pple': 0, 'provo': 0, 'prey': 0, 'theological': 0, 'maneuver': 0, 'sprint': 0, 'blooded': 0, 'guilts': 0, 'mindset.west': 0, 'euros': 0, 'felons': 0, 'whatsoever': 0, '#prolife': 0, 'evils': 0, 'anker': 0, 'lois': 0, 'intense': 0, '#breitbart': 0, 'illusion': 0, 'pedaled': 0, 'bosnian': 0, \"halloween's\": 0, 'militias': 0, 'papa': 0, '#croatia': 0, \"peru's\": 0, 'circuses': 0, 'lami': 0, '0ph0bia': 0, 'cdg': 0, '#unitedagainstsharia': 0, 'power.but': 0, 'lam': 0, 'encroachments.ur': 0, 'boards': 0, 'muslimcountries': 0, 'condemnable.urge': 0, 'overdue': 0, 'nizzm': 0, 'ghaddaffi': 0, 'liyba': 0, 'shoestring': 0, '#electionday': 0, 'cod': 0, 'depend': 0, '3months': 0, 'be.they': 0, 'convicting': 0, 'location.migrants': 0, 'networkseurope': 0, 'detention-deportation': 0, 'schemes': 0, 'crack-down': 0, 'stingray': 0, 'guiding': 0, 'mentalty': 0, 'occupy': 0, 'embargo': 0, 'colonies': 0, '#responsibleguncontrol': 0, '#wakeupamericai': 0, '#donttakeracebaitersbait': 0, 'catholics': 0, 'domination': 0, 'iglesia': 0, \"cristo's\": 0, 'hips': 0, '#whitepeople': 0, '@united': 0, 'wookie': 0, 'groan': 0, '#nrpf': 0, 'motlante': 0, 'thenwoman': 0, '#aids2018': 0, '#aids2020forall': 0, 'wooooooooooohhhhh': 0, '#noaids2020usa': 0, '#hivpowershift': 0, 'bots': 0, 'abet': 0, 'tuckerâ': 0, '#whitemen': 0, 'compares': 0, '🔐': 0, 'tibbettsvote': 0, '#abvpthugs': 0, '†': 0, '#itsokaytobewhite': 0, '#illegal_migrants': 0, '164': 0, 'expression': 0, 'applicants': 0, 'campaigning': 0, '#abvpgoonswithguns': 0, 'executavie': 0, 'stateless': 0, 'kurier': 0, '#whiteamerica': 0, 'roday': 0, 'waiving': 0, '#aids': 0, 'gelinzon': 0, 'cottrell': 0, '#antiantifa': 0, 'heil': 0, 'accuracy': 0, 'underfund': 0, '#savethecensus': 0, 'sieg': 0, '#perverts': 0, '#beasts': 0, '#paedophiles': 0, 'libprog': 0, 'simplify': 0, '#fakenewsmedia': 0, 'cucks': 0, 'majorities': 0, 'baiters': 0, 'bmt': 0, 'pom': 0, 'hogg': 0, 'poms': 0, 'lip': 0, 'fuckfeminism': 0, 'smiley': 0, 'matriarchal': 0, '#spoiled': 0, 'sheds': 0, 'profound': 0, 'interrupt': 0, 'encrusted': 0, 'diet': 0, 'catfish': 0, 'profanity': 0, 'afsc': 0, '2t2': 0, 'yawl': 0, 'dial': 0, 'remorse': 0, 'tp': 0, 'maternity': 0, 'signatories': 0, 'waffle': 0, 'shoulder': 0, 'chaste': 0, '600mb': 0, 'eskimo': 0, 'ummm': 0, 'detach': 0, 'cookies': 0, \"navy's\": 0, 'wheeled': 0, 'scout': 0, 'novels': 0, '350': 0, 'vids': 0, \"meme'ing\": 0, 'flawed': 0, \"trinidad's\": 0, 'iknow': 0, 'firmly': 0, 'mucky': 0, 'mek': 0, '🤓': 0, '#endbirthrightcitizenship': 0, 'birthright': 0, 'bestie': 0, '#imaybeathiefbut': 0, '#americancitizenship': 0, '👐': 0, 'fifty': 0, 'sket': 0, '#allmothers': 0, 'declined': 0, 'dnt': 0, 'pensioner': 0, 'chicago-area': 0, 'twitgo': 0, 'raiseact': 0, '#flotus': 0, 'capitulates': 0, 'scream-singing': 0, '#releasetheunredactedfisareports': 0, '#daesh': 0, 'whit': 0, 'night-time': 0, 'swoop': 0, 'kent': 0, 'sandman': 0, '#global_jihad': 0, '#sarbanandasonowal': 0, '#mamtabanerjee': 0, 'privileged': 0, 'destress': 0, '#releasefisareports': 0, 'mock': 0, 'rin': 0, 'crescent': 0, 'shinji': 0, '#crookedhillary': 0, '#twictator': 0, 'incestual': 0, 'copyrighting': 0, 'arbeiter': 0, 'consistency': 0, '#whiteidentity': 0, '#dobbs': 0, '#budget': 0, '#appropriations': 0, 'extracted': 0, '#itsoktobewhite': 0, 'merit-based': 0, 'nursing': 0, '#jimjordanforspeaker': 0, 'dubious': 0, 'blockin': 0, 'unaware': 0, 'asss': 0, 'doofus': 0, 'consequence': 0, 'neighboring': 0, 'dictatorship': 0, 'biiiitch': 0, 'dose': 0, 'liberians': 0, 'hb': 0, 'expressed': 0, 'mcr': 0, 'exile': 0, '71-32-': 0, 'validity': 0, 'feral': 0, 'rigorous': 0, 'commmonwealth': 0, 'positioning': 0, 'platformâ': 0, 'ads': 0, 'maldivians': 0, 'ord': 0, \"hussein's\": 0, 'gpa': 0, \"anyone's\": 0, 'infuriated': 0, '@parisjetaime': 0, '#nomigrants': 0, 'astonishing': 0, '#freeloaders': 0, 'bloggers': 0, 'poisoned': 0, 'solving': 0, 'doable': 0, 'millenial': 0, 'zeppelin': 0, 'day.no': 0, 'presumed': 0, '#telford': 0, 'zakaria': 0, 'pullung': 0, 'gonzales': 0, '#nationalist': 0, '#grooming': 0, 'jamestown': 0, 'protestants': 0, 'gynecologist': 0, 'favouritism': 0, 'academic': 0, 'extensions': 0, 'dissolution': 0, 'hr': 0, 'immigrant-detention': 0, '#infowars': 0, 'beginners': 0, 'fareed': 0, 'power.rape': 0, 'bigx': 0, 'hve': 0, '#angelfamlies': 0, '#buildthatwallnow': 0, \"nothing's\": 0, 'stimulate': 0, 'lovin': 0, 'reconsider': 0, 'wisconsin': 0, 'peacock': 0, \"#israeli's\": 0, '#europeans': 0, '#indigenouspeoples': 0, 'gilad': 0, 'salty': 0, 'tenuous': 0, 'blair': 0, '#911memorial': 0, '#education': 0, 'pallet': 0, 'syrian-inspired': 0, 'gooder': 0, 'putang': 0, '#globalnews': 0, 'ina': 0, 'lentek': 0, 'naririnig': 0, 'food.you': 0, 'ko': 0, 'right-wingers': 0, 'underaged': 0, 'miserables': 0, 'les': 0, '#geopolitics': 0, 'fin': 0, 'interment': 0, 'intercepts': 0, 'chanting': 0, 'compliments': 0, 'nighttttttttttttttttt': 0, 'dryniggers': 0, '24.5': 0, 'extend': 0, 'dopey': 0, 'kali': 0, 'uchis': 0, 'runner': 0, 'assult': 0, 'streaming': 0, 'uphow': 0, 'proteced': 0, '#peace': 0, '#africanarguments': 0, 'suits': 0, 'savagemessed': 0, '#endimmigration': 0, 'buffet': 0, 'kidney': 0, 'trasy': 0, 'family-based': 0, '#raiseact': 0, '#filipino': 0, '#luxurycars': 0, '#luxury': 0, '#supercars': 0, '#cars': 0, 'golfer': 0, 'hole-in-one': 0, 'porsche': 0, '#deployment': 0, 'nyers': 0, 'weirds': 0, 'flowy': 0, '15-20': 0, '#maldives': 0, 'freezer': 0, 'islamization': 0, 'ahahah': 0, 'nigha': 0, 'resettling': 0, 'pander': 0, '#sunrise': 0, 'weak.people': 0, 'hani': 0, '#padres': 0, 'shipwrecks': 0, 'spainsocialdemocrat': 0, 'rise.our': 0, 'borrell': 0, 'žmerkel': 0, '#eu12pentagram': 0, '#muslimimmigration': 0, '#walkawayfromdemocrats2018': 0, 'playlist': 0, 'suitable': 0, 'complainingno': 0, \"cousin's\": 0, 'accelerated': 0, 'peacebuilding': 0, 'w-sticks': 0, 'aspects': 0, 'unfettered': 0, 'bathingpeople': 0, 'safest': 0, 'maroco': 0, '#islamisation': 0, 'significantly': 0, 'banksters': 0, 'bathbeaches': 0, 'slaughtering': 0, 'un-islamic': 0, 'usury': 0, 'castrated': 0, 'woe': 0, 'ceutaðÿ': 0, 'msg': 0, 'analy': 0, '602': 0, 'x-mas': 0, 'trumper': 0, 'unprecedented.inflows': 0, 'lower-paid': 0, '#tufacebaba': 0, '#complicedisalvini': 0, 'placards': 0, 'whitest': 0, 'encounter': 0, 'lukeville': 0, 'adorable': 0, 'gooders': 0, 'oculr': 0, 'blud': 0, 'barrier.at': 0, 'eyeroll': 0, 'knos': 0, 'gp': 0, 'morawiecki': 0, '25,447': 0, 'kisses': 0, 'relocations': 0, 'grabs': 0, 'saddis': 0, 'metals': 0, '3,121': 0, 'dependant': 0, 'communties': 0, 'spastic': 0, 'curfew': 0, 'buss': 0, 'amin': 0, 'sulawesi.the': 0, 'nxaa': 0, '10.9': 0, 'mateusz': 0, 'poster': 0, 'n.cyprus': 0, 'pornified': 0, 'fantasies': 0, 'doe': 0, 'simulate': 0, 'repelling': 0, 'obma': 0, 'fugitive': 0, 'indifferent': 0, '#torontoshooting': 0, '13yr': 0, 'muhammad': 0, '#torontostrong': 0, '#verified': 0, 'church.more': 0, 'prostitutes': 0, 'peddling': 0, 'generalized': 0, 'fetus': 0, 'foodnaath': 0, '#confirmkavanaughnow': 0, 'rly': 0, 'advent': 0, '#worldfoodday': 0, 'pogo': 0, 'lincoln': 0, 'tiffs': 0, '#keepamericanssafenowhere': 0, 'profitings': 0, 'gum': 0, 'imposed': 0, 'tattoos': 0, 'tramp': 0, 'pernicious': 0, 'tariffs': 0, 'twitchier': 0, 'calendar': 0, 'pearls': 0, 'prosecco': 0, 'clutch': 0, 'youngest': 0, 'fabulous': 0, 'tragedy': 0, 'gotcha': 0, 'hoist': 0, 'overtakes': 0, 'petard': 0, 'defeating': 0, '#slittybitches': 0, 'therefor': 0, 'vía': 0, 'password': 0, '#noasylu': 0, '#pathetic': 0, 'mmmmm': 0, 'maninder': 0, '#domesticworker': 0, '#labor': 0, 'it.congrats': 0, 'mrd': 0, 'purely': 0, 'likewise': 0, 'ikoyi-lagos': 0, 'concubines': 0, 'reasoning': 0, 'capacities': 0, 'exaggerated': 0, 'broward': 0, 'premo': 0, 'onikan': 0, 'intracoastal': 0, 'cotton': 0, '#worldrefugeeday2017': 0, 'waterway': 0, 'germany.the': 0, '#meninists': 0, 'diplomacy': 0, 'dogshit': 0, 'begged': 0, 'paves': 0, 'hormonal': 0, 'prorities': 0, 'northeastern': 0, 'daytime': 0, 'malmã': 0, 'prtoests': 0, '#lilbulli': 0, 'jacked': 0, 'esquivel-garcia': 0, 'souths': 0, 'ernesto': 0, 'funder': 0, \"saudi's\": 0, 'absolutly': 0, 'fictional': 0, 'someon': 0, '#100': 0, '1,200': 0, 'chapo': 0, 'violate': 0, '0.47': 0, 'alleging': 0, 'asel': 0, 'perp': 0, '#blueripple': 0, '#blessed': 0, 'refugeesmedia': 0, '#obamaspygate': 0, 'tos': 0, 'installed': 0, 'encouages': 0, 'bobbys': 0, 'twenty-something': 0, 'pizza-worker': 0, 'hateposters': 0, 'possibility': 0, '#secureusborders': 0, '@dailymailuk': 0, '#seehofermachzu': 0, '#machtdiegrenzendicht': 0, '#umvolkungðÿ': 0, '@spd': 0, 'abwã': 0, 'sloth': 0, 'hlen': 0, 'christian-jewish': 0, 'a-hole': 0, '#generosity': 0, 'importantmedia': 0, 'falsehoods': 0, 'woody': 0, 'welcominging': 0, 'ignoramuses': 0, 'colossal': 0, 'gremlin': 0, \"o'puppet\": 0, '#sancutarycities': 0, 'disclosed': 0, 'imprisoned': 0, 'commented': 0, 'amt': 0, 'eaters': 0, 'fee': 0, 'karunanidhi': 0, 'excusable': 0, 'realising': 0, 'limitation': 0, 'lo': 0, 'unicorn': 0, 'rightaway': 0, 'outdated': 0, 'invas': 0, '#obamaspeech': 0, 'legislating': 0, 'withdrawals': 0, '36,000': 0, 'clintons': 0, 'entity': 0, 'ign': 0, 'solostan': 0, 'me.now': 0, 'ganging': 0, 'plug': 0, 'ºeu': 0, 'throught': 0, 'blotus': 0, 'sabotaged': 0, '#maymustgo': 0, 'retirement': 0, '#buildthatwal': 0, 'mistreated': 0, 'apostrophe': 0, 'smarttrack': 0, '#lockmerkelup': 0, 'crisps': 0, 'missuk': 0, 'biology': 0, 'wrong.its': 0, 'sessy': 0, 'dubai': 0, 'semen': 0, 'linekar': 0, 'warlock': 0, '#dankemerkel': 0, 'dammit': 0, 'canhandula': 0, 'pretentious': 0, 'cream': 0, 'idps': 0, 'acres': 0, '40k': 0, 'trippin': 0, 'rackethmmmm': 0, 'prostitution': 0, 'cu': 0, '#visalottery': 0, 'woolies': 0, '#endsantcuarycities': 0, 'reliving': 0, 'wall.stop': 0, 'laborers': 0, 'unloving': 0, 'authorized': 0, 'mothe': 0, 'lisbon': 0, 'mexico-to-queens': 0, 'napoleonic': 0, 'eaw': 0, 'dictates': 0, 'prom': 0, 'non-muslims': 0, 'esspensive': 0, 'charred': 0, 'weisse': 0, 'ident': 0, 'friedliche': 0, 'bevã': 0, 'coflicted': 0, '#nuclearwar': 0, 'lkerung': 0, 'acct': 0, 'rfen': 0, 'plants': 0, 'wir': 0, 'wynne': 0, 'nicht': 0, 'cf': 0, 'emailed': 0, 'dulden': 0, 'normale': 0, 'dummies': 0, 'cuddling': 0, '#abschieben': 0, 'shaped': 0, 'ecc': 0, 'wracked': 0, 'sadness': 0, '26b': 0, 'rollback': 0, 'viel': 0, 'bemoaned': 0, 'partys': 0, 'upsetting': 0, 'evade': 0, 'unpopular': 0, 'uns': 0, '#remigrationjetzt': 0, 'cleverly': 0, 'arsal': 0, 'boughton': 0, 'nw': 0, '@cazabatcâ': 0, 'swerving': 0, 'israelis': 0, '#gaza': 0, 'iraqis': 0, '200,000': 0, '@m_clemâ': 0, '@cgdevâ': 0, '@avigailshaiâ': 0, 'alfa': 0, '#therippleeffect': 0, 'corroding': 0, 'underpants': 0, 'authoritarianis': 0, 'decoder': 0, 'maritime': 0, 'thrilled': 0, '866-347-2423': 0, 'singular': 0, 'staring': 0, 'self-importance': 0, 'mussies': 0, 'icrc': 0, 'speec': 0, '#promisesmade': 0, '#bible': 0, 'sprouted': 0, '#lega': 0, '#stoptheboats': 0, '#dowhatyousaid': 0, '#poetsday': 0, 'faggit': 0, '#ihearyou': 0, 'sincerely': 0, 'streamed': 0, 'stare': 0, 'polio': 0, 'warship': 0, 'regularly': 0, 'reid': 0, 'lasvegas': 0, 'mgm': 0, 'jackass': 0, '#target': 0, '#macysbts': 0, 'never-tested': 0, 'vegas': 0, 'forth': 0, 'brove': 0, 'reilly': 0, 'lesigh': 0, 'jasmine': 0, 'privately': 0, '#mufc': 0, 'restitution': 0, 'marked': 0, 'attn': 0, 'opposition-held': 0, 'encountered': 0, 'reversing': 0, 'coordinating': 0, 'eu-trained': 0, 'reducing': 0, 'unrecognized': 0, 'thottiessssss': 0, 'asteroids': 0, \"ryan's\": 0, '1200': 0, 'refuegges': 0, 'sozialists': 0, 'harms': 0, 'civilians': 0, 'dgaf': 0, 'jo': 0, 'chopper': 0, 'monkies': 0, '#connecticut': 0, '#kildabeast': 0, '#mumumama': 0, '#bigleague': 0, '#nastywomen': 0, 'meghan': 0, 'conservatively': 0, '#fakefembot': 0, 'playboi': 0, 'hefucking': 0, 'stunnerz': 0, 'alisa': 0, 'carti': 0, 'diplomat': 0, 'ew': 0, 'cheaper': 0, 'gloating': 0, 'boujee': 0, 'strongly': 0, 'predominantly': 0, 'societal': 0, '#chewbacaleg': 0, '#college': 0, 'washtimes': 0, '#welcomeimmigrants': 0, 'columbus': 0, 'impacting': 0, 'lw': 0, 'morrissey': 0, 'nab': 0, '👨': 0, 'setu': 0, 'lurking': 0, '🤑': 0, 'jets': 0, '#yeastinfestedpussysuits': 0, 'chi': 0, 'prieta': 0, 'natl': 0, 'markle': 0, 'heartwarming': 0, '#ssss': 0, '#morethantwofaces': 0, 'circumstances': 0, 'ecstatic': 0, 'vols': 0, '6/20': 0, 'd-craving': 0, 'impulse': 0, '#seesomethingsaysomething': 0, 'insta-whore': 0, 'ww': 0, 'dogg': 0, 'snoop': 0, 'chiefs': 0, 'bunker': 0, 'illeagles': 0, 'workable': 0, '#vets': 0, 'rook': 0, 'subramanian': 0, 'walll': 0, 'swamy': 0, '_go': 0, 'partition': 0, 'guaranteed': 0, '_2': 0, 'constitutionally': 0, '_merge': 0, 'scrounge': 0, 'curled': 0, 'geramny': 0, 'backseat': 0, 'birthrates': 0, 'steel': 0, '#limitedimmigration': 0, 'grill': 0, 'tbf': 0, 'confront': 0, 'clandestini': 0, 'hogwash': 0, 'dispossess': 0, 'modest': 0, 'unattractive': 0, 'whaaaaat': 0, '💓': 0, '🎃': 0, 'self-evaluation': 0, '#kindla': 0, '#givingkindness': 0, 'migrant-infested': 0, 'irene': 0, 'brasington': 0, \"saturday's\": 0, 'kool': 0, '#secureourborders': 0, '#illegalaliensyes': 0, 'gathering': 0, 'vanished': 0, '90334': 0, '181436': 0, 'skipped': 0, 'brilliance': 0, 'morocco-spain': 0, 'despise': 0, 'whore.but': 0, 'hmp': 0, 'in-home': 0, 'tutor': 0, 'facebook.thanks': 0, 'assignment': 0, 'unhcrðÿ': 0, 'subtlety': 0, 'slutwhore': 0, 'embarass': 0, 'parapet': 0, '#westwoodcross': 0, 'thanet': 0, '#usethearmycoreofengineers': 0, 'gaw': 0, 'lml': 0, 'idek': 0, 'saga': 0, \"ship's\": 0, '#liberallogic': 0, '#closeborders': 0, 'rotectionsheltera': 0, 'overunderwearthanks': 0, 'motherfuckin': 0, 'radicalized': 0, 'subservient': 0, '225': 0, 'exposes': 0, 'upholds': 0, 'hardening': 0, 'sharptons': 0, 'hos': 0, 'nanking': 0, 'jap': 0, 'bastrop': 0, 'libya.should': 0, 'deliverable': 0, 'whaaaaasaaaaaaaaa': 0, 'creepers': 0, '.. .': 0, '6x': 0, 'offense': 0, 'allllll': 0, '81': 0, 'seemingly': 0, 'harmless': 0, 'ifications': 0, '#illegalssenthome': 0, 'dayâž': 0, '#culturewars': 0, 'objectified': 0, '#doesntfitthenarrative': 0, 'exonerated': 0, 'haahhahanaha': 0, 'stilllllll': 0, 'loner': 0, 'yasssssssssss': 0, '#suspendstca': 0, 'shitload': 0, 'cinematic': 0, '#infinitywar': 0, 'wakanda': 0, 'roc': 0, '#sodyoueu': 0, '#nosurrender': 0, 'punishments': 0, 'televisionset': 0, 'is-puppets': 0, '1993': 0, 'dive': 0, 'vodka': 0, 're-tweet': 0, 'waving': 0, 'nak': 0, 'accomplice': 0, '#rcmp': 0, 'luggage': 0, '#illegalmigrants': 0, 'countryusa': 0, '#illegally': 0, \"marchionne's\": 0, 'callahan': 0, '#shutitdowndc': 0, 'fiat': 0, 'felonies': 0, 'lecturing': 0, 'plantation': 0, 'crimes--but': 0, 'demoncrates': 0, '#trumphasmyvotein2020': 0, '#kickthemout': 0, '#stopthemnow': 0, 'inundate': 0, 'misdemeanors': 0, 'destabilization': 0, 'catolic': 0, 'hypocrises': 0, 'st.petersdom': 0, 'pro-immigration': 0, 'departure': 0, 'nagging': 0, 'menstruating': 0, 'abolished': 0, 'ailing': 0, 'downgrade': 0, 'climax': 0, 'sandwinches': 0, '#aidworks': 0, 'connected': 0, 'towa': 0, 'degradation': 0, 'equivalency': 0, 'duke': 0, 'lacrosse': 0, 'smelling': 0, 'hideous': 0, 'honour': 0, 'files': 0, 'harford': 0, \"sheriff's\": 0, 'kbye': 0, 'kochs': 0, 'impregnating': 0, 'non-verbal': 0, 'ragnarok': 0, 'mitun': 0, 'illegalâ': 0, 'googly': 0, 'extremist': 0, 'rears': 0, 'cautionary': 0, '#declassifythedocs': 0, 'wank': 0, '08:27': 0, '#ussupportllc': 0, 'militant': 0, '#nationofislam': 0, 'insurgents': 0, 'hanson': 0, '#communist': 0, '#boycottnflsponsors': 0, '#boycottthenfl': 0, 'quantity': 0, 'paralympian': 0, 'dinu': 0, 'floppy': 0, 'victor': 0, 'sobs': 0, 'intheir': 0, 'pinned': 0, 'filming': 0, 'rev': 0, 'sheffield': 0, 'trill': 0, 'diiiiickkkk': 0, 'gdp': 0, 'gee': 0, 'trademark': 0, 'notices': 0, '@bbc': 0, 'log': 0, 'coproduction': 0, 'contentedly': 0, 'gateway': 0, 'urged': 0, 'sailings': 0, '#job': 0, 'non-immigrant': 0, '#businessmgmt': 0, 'sinful': 0, '#islamicstate': 0, '#hiring': 0, 'toh': 0, 'alien.when': 0, 'gaming': 0, 'late-term': 0, 'pregant': 0, 'cringemuch': 0, 'panicked': 0, 'lekin': 0, 'hum': 0, 'inhen': 0, 'air-strike': 0, 'jaantey': 0, 'nahi': 0, '😶': 0, 'taxpaers': 0, 'ill-legal': 0, 'raf': 0, '#drone': 0, 'pilots': 0, '#durham': 0, '#careerarc': 0, '#fuckwome': 0, '#buildt': 0, '#assault': 0, 'acharya': 0, 'historians': 0, 'wrt': 0, 'tougher': 0, 'suing': 0, 'districts': 0, 'discriminatory': 0, 'gaelic': 0, 'mislead': 0, 'liner': 0, 'impress': 0, 'list.hungarian': 0, 'folly': 0, 'first.see': 0, 'includiing': 0, 'bloodthirsty': 0, 'carriers': 0, 'coerce': 0, 'referred': 0, 'beefing': 0, 'elephants': 0, '🔊': 0, 'enoughs': 0, '#tunisiancoast': 0, 'tyson': 0, 'hustler': 0, 'grifter': 0, 'insight': 0, 'firstrefugees': 0, 'guatemalan': 0, 'beggers': 0, '#democraticparty': 0, '#dnc': 0, 'levers': 0, \"cnco's\": 0, '1.3': 0, 'watchlist': 0, 'sands': 0, 'non-palestinian': 0, 'donna': 0, '#ilovemymom': 0, 'tumblr': 0, '⚡': 0, '2k': 0, 'slandering': 0, 'shukria': 0, 'poetry': 0, 'motherhood': 0, 'unequal': 0, 'dickhole': 0, 'shoulders': 0, 'abortion-inducing': 0, 'insisting': 0, 'butchered': 0, 'jl': 0, '#clingyassbitches': 0, 'munich': 0, 'flag.oh': 0, 'robbie': 0, \"europe's\": 0, 'wrecks': 0, 'akbar': 0, 'regionalists': 0, 'outcome': 0, 'neglect': 0, 'sailing': 0, 'withdrawn': 0, 'instructed': 0, 'captains': 0, 'vessels': 0, '#emmanuelmacron': 0, '#whitelivesmatter': 0, 'wheelchairs': 0, 'harime': 0, 'karmic': 0, 'tailor': 0, 'bug': 0, 'velvet': 0, 'purlole': 0, 'refugeeswill': 0, 'her.simple': 0, 'needsto': 0, '#35a': 0, '#foxnewsthis': 0, '#mcm': 0, '#laundryqueen': 0, 'sheet': 0, 'faggot': 0, 'hure': 0, 'nutte': 0, 'stress': 0, '#aapsu': 0, '#arunachalpradesh': 0, '#nrcpolitics': 0, 'petersdome': 0, 'assassinated': 0, '91332': 0, 'dyno': 0, 'pals': 0, 'oot': 0, 'slither': 0, 'sly': 0, 'vicariously': 0, 'financing': 0, 'laundry': 0, 'heiligenstadt': 0, 'burggrub': 0, '#romancein2016': 0, 'lice': 0, 'animated': 0, 'universes': 0, 'ᴴᴰ': 0, 'guinness': 0, '#internationalbeerday': 0, 'soothe': 0, 'mansplain': 0, 'aww': 0, 'viennese': 0, 'dullinger': 0, 'shakespeare': 0, 'romeo': 0, 'juliet': 0, 'armageddon': 0, 'meeeeeee': 0, 'surround': 0, 'bitchy': 0, '💋': 0, 'sexes': 0, 'evolved': 0, 'eater': 0, 'bratty': 0, 'disappear': 0, 'bopper': 0, 'perceptions': 0, 'generated': 0, 'hostility': 0, 'sympathize': 0, 'laptop': 0, 'spa': 0, '#supporteverify': 0, 'yan': 0, 'hahah': 0, 'hoe-nah': 0, '(-:': 0, 'apologised': 0, 'prison.this': 0, 'indenpendce': 0, 'preggo': 0, 'reformed': 0, 'hezbollah': 0, 'marcus': 0, 'equailty': 0, 'hata': 0, 'recklessly': 0, 'serbiaðÿ': 0, 'richer': 0, 'adjust': 0, '@euronews': 0, 'succinct': 0, 'roundup': 0, 'uniforms': 0, 'maasai': 0, '#wheredoisendthecheck': 0, 'wako': 0, 'luos': 0, 'bedbugs': 0, 'puga': 0, 'relent': 0, '#huntthemdown': 0, '#immigrantsgoback': 0, '#americaisfull': 0, 'reforming': 0, 'drafted': 0, 'antisemitismproblem': 0, 'innumerant': 0, 'tunneling': 0, 'security.creating': 0, 'systemically': 0, 'home.if': 0, 'roach': 0, 'lent': 0, 'pros': 0, 'wifey': 0, 'tosses': 0, 'deemed': 0, 'lunacies': 0, 'fringe': 0, '#gapol': 0, '#gagov': 0, 'sued': 0, '2.1': 0, 'fy2019': 0, 'ensuring': 0, 'redneck': 0, '#immigrantheritagemonth': 0, 'constructing': 0, '#womenareevil': 0, 'appreciated': 0, '#rightnow': 0, '#fridaythe13th': 0, '#curbsarenotmyfriend': 0, 'sunbathers': 0, 'denie': 0, 'vern': 0, 'peiods': 0, '#evilwomen': 0, 'omgbye': 0, 'mentoring': 0, 'peri': 0, 'rope': 0, 'stepmom': 0, 'booths': 0, 'mottos': 0, 'vegans': 0, 'britney': 0, 'demonstrations': 0, 'stillbirths': 0, 'bradford': 0, 'freshm': 0, 'onn': 0, 'corky': 0, 'ungratful': 0, '#sendthemnhome': 0, 'irc': 0, 'binned': 0, 'forgetting': 0, 'hs': 0, 'talmbout': 0, 'wisdom': 0, 'nuff': 0, 'bulgarian': 0, 'jeong': 0, 'redpilling': 0, 'rotation': 0, 'revolving': 0, 'infernal': 0, 'barbarians': 0, 'catcalls': 0, 'dimes': 0, 'cott': 0, 'horror': 0, 'maken': 0, 'jonge': 0, 'leeuwen': 0, 'voor': 0, 'pse': 0, 'verkiezingen': 0, 'bekend': 0, '#antwerpenisvanons': 0, 'movies': 0, 'cal': 0, '#cop': 0, '#2016': 0, 'inflated': 0, 'chubs': 0, 'shower': 0, 'waaaaahhhhhh': 0, \"nobody's\": 0, 'gerry': 0, '#noms': 0, 'parenthood': 0, 'secondhand': 0, 'reversible': 0, 'hopper': 0, 'selfless': 0, 'progress': 0, 'glacier': 0, 'bonnets': 0, 'zx81': 0, '16k': 0, 'upgrade': 0, '1k': 0, '#nakba70': 0, 'wahhh': 0, 'glitches---dementia': 0, 'economist': 0, 'enhances': 0, 'everrrr': 0, 'shofar': 0, 'argentina': 0, '#shabbatshalom': 0, '#holocaust': 0, '#nakba': 0, 'tags': 0, 'fpã': 0, 'diapers': 0, 'hong': 0, \"kong's\": 0, 'speakers': 0, \"group's\": 0, 'spera': 0, 'haã': 0, 'retz': 0, 'hd': 0, 'dictated': 0, 'glaring': 0, 'deficiencies': 0, 'statues': 0, 'prominence': 0, 'sangh': 0, 'erase': 0, '#genocide': 0, '#netanyahu': 0, '#dueprocess4all': 0, 'treachery': 0, 'anchovy': 0, 'narcoleptic': 0, '#fbpe': 0, '#guyverhofstadt': 0, '#waton': 0, '#barnier': 0, 'creeps': 0, 'beca': 0, 'recovered': 0, 'spazz': 0, \"i'ma\": 0, 'radicalism': 0, 'dmx': 0, 'nepal': 0, 'ebola': 0, 'suggs': 0, 'valued': 0, 'command': 0, \"arrivals'very\": 0, 'disappointed': 0, '#stopbrexit': 0, 'homework': 0, 'ferrara': 0, 'correlate': 0, '#baruchpride': 0, 'one-third': 0, '214': 0, 'emoji': 0, 'clubs': 0, '#halloweencostumeideas': 0, \"kardashian's\": 0, 'skyrocketing': 0, 'littered': 0, 'odisha': 0, '️that': 0, 'painting': 0, 'them.write': 0, 'intervene': 0, '#familyvalues': 0, \"turkey's\": 0, '12:30': 0, '@hrw': 0, 'machete-wielding': 0, 'machetes': 0, 'hardships': 0, 'tibetan': 0, 'unravel': 0, 'tehran': 0, 'wm': 0, 'normalize': 0, 'looooooooool': 0, 'wotts': 0, 'peg': 0, 'disease.reality': 0, 'chakma': 0, '#logic': 0, 'baluchs': 0, 'baluchistan': 0, 'dominated': 0, 'mumbra': 0, 'mumbai': 0, 'metropolitan': 0, 'grounds': 0, '#meritbased': 0, 'reinstates': 0, 'optionpolish': 0, 'axes': 0, 'frauds': 0, 'hussein': 0, 'isil': 0, 'pallets': 0, 'trevon': 0, 'illegalsillegals': 0, 'comprise': 0, 'populationillegals': 0, 'laundering': 0, 'curse': 0, 'cathy': 0, 'soviet': 0, 'dimitri': 0, 'shein': 0, 'kieran': 0, 'possessions': 0, 'replaced.showing': 0, 'y0ur': 0, 'exes': 0, '#bebaruch': 0, 'passions': 0, '#rt': 0, '#nogozones': 0, 'berates': 0, 'prioritize': 0, 'resourced': 0, 'hacking': 0, 'fraudulent': 0, 'nonexistent': 0, '#voteridlaws': 0, '#persecution': 0, 'europe.we': 0, '#thetalk': 0, '#mosques': 0, '#sharialaws': 0, 'milano': 0, 'mathematics': 0, 'engineering': 0, '#43': 0, '#roaster': 0, 'assualt': 0, 'all-female': 0, 'hv': 0, 'highlighted': 0, '#mustread': 0, '#autumnlady': 0, 'mara': 0, 'mcclain': 0, 'anew': 0, 'victorian-era': 0, '#amazon': 0, '#romance': 0, '#gr8books4u': 0, '#histfic': 0, 'alr': 0, '#bookboost': 0, '#bookworm': 0, '#goodreads': 0, '78': 0, 'categorize': 0, '#fascistleft': 0, '#trumpocaptainmycaptain': 0, '#iloveice': 0, '#press': 0, 'decrying': 0, 'alumnus': 0, '#trespassers': 0, 'climb': 0, 'leftgreen': 0, 'strolls': 0, 'southtyrol': 0, 'cancler': 0, 'mountains': 0, 'sorosplan': 0, '#immigrantsmakeamericagreat': 0, 'saibaba': 0, 'mountainjunkie': 0, 'niqqas': 0, 'buh': 0, 'hav': 0, 'abysmally': 0, 'perceptual': 0, 'psychology': 0, 'hip-hop': 0, '\\u200b': 0, 'r.messner': 0, 'jv-obama': 0, 'invalid': 0, 'freezers': 0, 'primitive': 0, 'rian': 0, '5000': 0, 'coorruption': 0, 'vanish': 0, \"migrants'no\": 0, 'morgue': 0, 'acquires': 0, '#theapprentice': 0, 'maher': 0, 'mysoginist': 0, 'mothership': 0, 'watchtower': 0, 'fungus': 0, 'weekends': 0, 'weekdays': 0, 'u.s.citizens': 0, 'sincerity': 0, 'plea': 0, '#vial': 0, 'dochter': 0, '#chios': 0, '#strasbourg': 0, 'narratives': 0, '#climate': 0, '@gemenneâ': 0, '@iom_meccâ': 0, '@harmelingâ': 0, 'fastest': 0, 'sabine': 0, '#angelmoms': 0, 'pro-italian': 0, 'mentality': 0, '#indecisivebitches': 0, 'tucson': 0, 'irregular': 0, 'bureaucrats': 0, '#fromourpartner': 0, 'eternal': 0, 'ethnically': 0, '#letterfromrome': 0, 'squad': 0, '#hotflashtrump': 0, 'menopausal': 0, 'nastyyy': 0, 'telegraph': 0, 'shrinking': 0, 'burgers': 0, 'sayno': 0, 'bleeds': 0, 'roby': 0, '328': 0, 'cheerleaders': 0, '#medical': 0, 'leats': 0, 'spray': 0, 'supplied': 0, 'praises': 0, 'unionised': 0, 'damning': 0, 'swedesberg': 0, 'treasures': 0, 'gaf': 0, '#lacroixint': 0, '#vatican': 0, '1960s': 0, '#umc': 0, 'paradise': 0, 'great-grandfather': 0, 'railroad': 0, 'great-grandmother': 0, 'mill': 0, 'pfas': 0, 'backstabbing': 0, '.. . . . .': 0, 'fares': 0, 'burning': 0, 'ejemplo': 0, 'ethnicities': 0, 'sliding': 0, 'anarchy': 0, 'tented': 0, 'historian': 0, 'distracted': 0, '#notabot': 0, 'digital': 0, '#breakingnews': 0, 'kennedy': 0, 'sector': 0, 'stereotypes': 0, 'embodying': 0, 'barbershop': 0, 'haircutting': 0, 'informal': 0, 'barter': 0, 'skills.here': 0, 'demonstrates': 0, 'omissions': 0, 'heel': 0, 'finalizing': 0, 'obtain': 0, 'ungreatful': 0, 'grandstanding': 0, 'hanan': 0, 'ashrawi': 0, 'disband': 0, 'achilles': 0, 'pro-brexit': 0, 'overseas': 0, 'compel': 0, '#throwbackthursday': 0, \"jobs'instead\": 0, 'surrendered': 0, 'binary': 0, 'ouster': 0, 'rohingyas.this': 0, '#healthymindhealthyfuture': 0, '#webinar': 0, '#children': 0, 'violencelegalize': 0, 'popped': 0, 'gambling': 0, 'prostitution.enforce': 0, 'laws.take': 0, 'shag': 0, 'struck': 0, 'guaranteeing': 0, 'maids': 0, 'adhered': 0, '130,000': 0, 'patrols': 0, 'refs': 0, '#txlege': 0, '#bigredwave': 0, '#illegalcriminals': 0, 'color-blind': 0, 'meted': 0, 'racialized': 0, 'cache': 0, 'bomb-making': 0, 'materials': 0, 'passive': 0, 'crutch': 0, 'nottty': 0, 'dodd': 0, 'patricks': 0, 'endðÿ': 0, 'unwillingness': 0, 'ext': 0, 'showering': 0, 'w-euros': 0, 'domthis': 0, 'agnostics': 0, 'exporters': 0, 'mos': 0, 'fonda': 0, 'fooled': 0, 'tractor-trailer': 0, '#turkana': 0, 'courses': 0, 'ironic': 0, '#justiceformollietibbetts': 0, '#americansbeforeillegals': 0, 'kiren': 0, '✝': 0, 'rijiju': 0, 'nadu': 0, 'enlightened': 0, 'hilo': 0, 'auto': 0, 'refugeeshousing': 0, 'mio.usd': 0, 'wifes': 0, 'crave': 0, '🇱': 0, 'laurens': 0, 'satanists': 0, '#secureborder': 0, '#democratic': 0, 'unprecedented': 0, '#pmlive': 0, 'somone': 0, '#snowflakes': 0, '#stopillegalimmigration': 0, \"king's\": 0, 'chuckwoolery': 0, '🇵': 0, 'lipstick': 0, 'numbered': 0, 'weaselly': 0, 'justifies': 0, 'edating': 0, 'touchy': 0, 'feely': 0, 'fw': 0, 'misrule': 0, 'lanes.urge': 0, 'nizammuddin': 0, 'cl': 0, 'okey': 0, 'reagan': 0, 'insane.but': 0, '12,000': 0, '#securethebor': 0, '#isgermanychristian': 0, 'pro-refugee': 0, 'penalized': 0, 'hemlock': 0, 'sellers': 0, 'cfr': 0, \"braggin'with\": 0, 'sacked': 0, 'tepco': 0, 'subsidiary': 0, 'fukushima': 0, 'reactor': 0, 'distressed': 0, '#lbc': 0, 'whisked': 0, 'k.inne': 0, \"sweden's\": 0, 'opposit': 0, 'taxed': 0, 'resettlements': 0, 'one-dimensional': 0, 'ebony': 0, 'midget': 0, 'luvs': 0, 'yarelis': 0, 'soaring': 0, 'sheltered': 0, 'advanc': 0, 'unattended': 0, 'lawscome': 0, '#deportaliens': 0, 'scoff': 0, '#ejectthem': 0, '#rejectimmigrantapplicants': 0, 'inkling': 0, 'war-not': 0, 'bh': 0, 'descades': 0, 'oppressed': 0, 'typos': 0, 'jojo': 0, 'siwa': 0, 'dv': 0, 'rehoming': 0, 'disgusts': 0, '#sheusedme': 0, 'oppressors': 0, 'permission': 0, 'kitten': 0, 'enabled': 0, 'hubby': 0, 'juanita': 0, 'charizard': 0, 'marshadow': 0, 'digest': 0, 'breakup': 0, 'smooth': 0, 'rocky': 0, 'authorised': 0, 'cricket': 0, '#stupidwomen': 0, 'currencyreform': 0, 'zagami': 0, 'dutchmen': 0, '🐸': 0, 'ovide': 0, 'mercredi': 0, 'schabas': 0, \"char's\": 0, 'mummy': 0, 'yearss': 0, 'strech': 0, 'gaslighting': 0, 'landlord': 0, 'evict': 0, '#extremist': 0, '#possible': 0, 'gots': 0, 'apologizing': 0, \"india's\": 0, '3,5': 0, 'squatting': 0, 'otherism': 0, 'traphouse': 0, 'legendary': 0, '#somebodytotris': 0, '#menshealth': 0, '#feminists': 0, '3/8': 0, 'reflexive': 0, 'behooves': 0, 'fragility': 0, 'skull': 0, 'narcissism': 0, 'deislamisation': 0, 'gerstenfeld': 0, 'gigant': 0, 'worm': 0, 'embraces': 0, 'comparing': 0, '#ram': 0, 'shmruda': 0, 'ponytail': 0, 'hartz': 0, 'histrionics': 0, 'around.buses': 0, '#somalia': 0, '#bordersecurityeurope': 0, 'rash': 0, 'ditching': 0, \"bangladesh's\": 0, 'zuckerberg': 0, 'proclivity': 0, 'ghettoes': 0, '67': 0, 'policeman': 0, 'wa': 0, 'fre': 0, 'one-year-old': 0, 'conneaut': 0, '5.7': 0, 'backstory': 0, 'cannabis': 0, 'shahjahan': 0, 'iv': 0, 'workingprocess': 0, '01': 0, 'non-english': 0, 'unscrupulous': 0, 'bosses': 0, 'humble': 0, 'gaya': 0, '50-50': 0, 'milega': 0, 'sums': 0, \"boyfriend's\": 0, '#defundplannedparenthood': 0, 'limo': 0, 'immense': 0, 'glee': 0, 'derserve': 0, 'arw': 0, 'rhino': 0, 'greeneyjon': 0, 'gaping': 0, 'trollz': 0, 'exclusionary': 0, 'deterring': 0, 'taqiyya': 0, 'bunnies': 0, 'kitties': 0, 'whacks': 0, '#sosvenezuela': 0, 'captain': 0, 'gotto': 0, 'dint': 0, 'cenk': 0, 'underestimates': 0, '4selfdestruction': 0, \"hoe'ing\": 0, 'murdoch': 0, 'awards': 0, 'duncan': 0, 'dues': 0, 'mums': 0, '4refugees': 0, 'stupidbitches': 0, '#stopcatchandrelease': 0, '#liberalismisamentaldisorderthe': 0, '#rednation': 0, '#dosomething': 0, 'lakemba': 0, 'template': 0, 'deletion': 0, 'gawd': 0, 'fightin': 0, '#standupnbeheard': 0, '#speakupfortheusa': 0, '#makeadifference': 0, '#draintheswa': 0, 'kenny': 0, 'population.help': 0, '#releasethehostages': 0, 'agta': 0, 'zeebrugge': 0, 'trans-migrants': 0, 'well.the': 0, 'sail': 0, 'feening': 0, 'ooh': 0, 'freightterminal': 0, 'mishalcoors': 0, 'purging': 0, 'omer': 0, '#jihad': 0, '#hate': 0, '#isil': 0, '#shariawhen': 0, 'thoroughly': 0, 'britons': 0, 'contradictory': 0, 'apparent': 0, 'rosenheim': 0, 'justifying': 0, 'butthead': 0, 'exs': 0, 'tonightpresident': 0, 'wall.thank': 0, 'ers': 0, 'wallach': 0, 'brenner': 0, 'kik': 0, '#wine': 0, 'darling': 0, 'excuease': 0, 'sweetheart': 0, 'meredith': 0, 'endear': 0, 'spicer': 0, 'bromance': 0, 'weistein': 0, 'cack': 0, 'bafaf': 0, 'wang': 0, '30k': 0, 'flout': 0, 'hbox': 0, 'dadd': 0, 'junk': 0, 'stripping': 0, '#shahs': 0, 'spits': 0, 'drs': 0, 'loooooooooooool': 0, 'unconscious': 0, '#beer': 0, 'adequate': 0, '#كيك': 0, '#كك': 0, 'elder': 0, 'originated': 0, 'clerks': 0, 'jarring': 0, 'nubian': 0, 'queens': 0, 'livelihoods': 0, 'needles': 0, 'homeowner': 0, '4,100': 0, '107,000': 0, \"cc'sen\": 0, 'ron': 0, 'wyden': 0, 'gravel': 0, 'pine': 0, 'guessing': 0, 'expectation': 0, 'perreira': 0, 'top-knot': 0, '#nobenefits4illegals': 0, '#e-verify': 0, 'greet': 0, 'accesory': 0, 'shimada': 0, 'katsura': 0, 'wig': 0, 'geiko': 0, 'nemaki': 0, 'dorms': 0, '根巻き': 0, 'symbolize': 0, '#geiko': 0, 'okiya': 0, '#kyoto': 0, '#japan': 0, '#japaneseculture': 0, 'instablock': 0, 'introvert': 0, 'comparatively': 0, 'focuses': 0, 'adviser': 0, 'arson': 0, 'corpse': 0, 'outperformed': 0, 'expectations': 0, 'certificates': 0, 'awardees': 0, 'charater': 0, 'condone': 0, 'rhodes': 0, 'favorites': 0, 'bombshell': 0, 'surprises': 0, 'divorced': 0, 'curbing': 0, 'provincial': 0, 'premiers': 0, 'repossess': 0, 'indian-american': 0, '#bluehand': 0, '8-9': 0, 'curriculum': 0, '@flotus': 0, 'writers': 0, 'marveled': 0, 'otherness': 0, '2pm': 0, 'edt': 0, 'refugeeship': 0, 'screams': 0, 'subtitles': 0, 'garden': 0, 'basics': 0, 'stilettos': 0, 'negligently': 0, 'handled': 0, 'grandchildren': 0, 'rightful': 0, 'alots': 0, 'spring': 0, '#nodac': 0, 'satire': 0, '#islamicregimemustgo': 0, '4pm': 0, '#enddacaangel': 0, 'sodomize': 0, 'lighting': 0, 'monetary': 0, 'trudeaus': 0, 'non-monetary': 0, 'bser': 0, '#endtheeu': 0, '#bringbackthelira': 0, '#ingrahamangle': 0, 'aga': 0, 'eviction-hit': 0, 'pokey': 0, 'performance': 0, '#inspiring': 0, '@lacllppers': 0, '#menrdecent': 0, 'blackest': 0, 'mutilationyet': 0, 'krista': 0, 'oberlander': 0, '#beleng': 0, 'nowpls': 0, 'migrants.big': 0, 'gya': 0, 'kya': 0, 'slovakia': 0, 'electing': 0, '1004': 0, 'franklin': 0, 'ave': 0, '#merkelkinder': 0, '126.90': 0, '#apocalypse': 0, 'jails': 0, '#itendsnow': 0, '#usefulidiot': 0, 'lauded': 0, '#fakerefugee': 0, 'aggrandizing': 0, '#baizuo': 0, 'crs': 0, 'intervention.all': 0, 'dripping': 0, 'emmmmmmm': 0, 'bibke': 0, 'beaters': 0, 'contouring': 0, 'backlog': 0, 'pattern': 0, 'wfae': 0, '#democats': 0, '#democrats4trump': 0, 'prolapsed': 0, 'vehicle': 0, 'versffla': 0, '#skimmlife': 0, '#sext': 0, '#daddy': 0, 'tsunami': 0, '🌊': 0, '#wheniwenttothemalli': 0, 'forwarded': 0, '#whitesaviourcomplex': 0, 'superiority': 0, 'strait': 0, 'texted': 0, 'traiterous': 0, 'smuggled': 0, 'juncker': 0, 'rages': 0, 'lymph': 0, 'node': 0, 'spreadshit': 0, 'frens': 0, 'lionel': 0, 'rem': 0, 'domestics': 0, 'grahamnesty': 0, 'demonetization': 0, 'swatch': 0, 'cld': 0, 'migrants-mother': 0, 'evils.withdraw': 0, '#fastfacts': 0, 'refeguees': 0, 'rp': 0, 'inherently': 0, 'chipoltle': 0, 'roadshow': 0, 'internship': 0, 'slate': 0, 'cauterucci': 0, 'honking': 0, 'workout': 0, 'burritos': 0, 'jacksonville': 0, '#womencantmakeburritos': 0, 'rumours': 0, '#sheforgottheguacamole': 0, '#badburri': 0, 'turnout': 0, 'rockland': 0, 'legislator': 0, '1,400': 0, 'cape': 0, 'eventsit': 0, 'bloated': 0, 'gibraltar': 0, 'isc': 0, 'milion': 0, 'births': 0, '#anonymous': 0, \"ust's\": 0, '52am': 0, '30m': 0, 'playground': 0, '#stevenseagal': 0, '#armsindustry': 0, 'aidos': 0, 'respect.that': 0, '#crookedh': 0, '#uraniumone': 0, '#steeledossier': 0, '@chuckgrassley': 0, '#russiandelusion': 0, '#mueller': 0, 'verbally': 0, '#livman': 0, 'overtake': 0, 'votingthey': 0, 'lows.macron': 0, 'torso': 0, 'dsouza': 0, 'globo-homo': 0, 'dot': 0, \"mouth's\": 0, 'cheeky': 0, 'acca': 0, 'wanker': 0, 'claw': 0, '327': 0, 'brushes': 0, 'jazba': 0, \"satan's\": 0, 'troop': 0, 'commander': 0, 'milkey': 0, 'seeds': 0, 'buys': 0, '#nicaragua': 0, 'chested': 0, 'lectures': 0, 'incentivising': 0, '#2baba': 0, 'aside': 0, 'augmented': 0, 'duhh': 0, 'charot': 0, 'liza': 0, 'sorta': 0, 'schadenfreude': 0, 'reigns': 0, '#with': 0, '#notobeto': 0, 'eno': 0, 'mukanga': 0, 'idp': 0, 'welfare-good': 0, '76': 0, 'voiceless': 0, 'cynical': 0, 'influencing': 0, '#neverbeto': 0, 'decriminalize': 0, 'him.hard': 0, 'huffpo': 0, 'salvini-orban-kurz': 0, 'startin': 0, 'raggedy': 0, 'engaging': 0, 'suppression': 0, '#election': 0, '#truethevote': 0, '#voterfraudno': 0, \"#portugal's\": 0, '3y': 0, 'vitorino': 0, '#iom': 0, '#directorgeneral': 0, 'embolism': 0, 'incapacitated': 0, 'corny': 0, 'cheetos': 0, 'slum.illegal': 0, 'woensdag': 0, 'jongste': 0, 'dampener': 0, 'effen': 0, 'awol': 0, 'liddo': 0, 'lend': 0, 'w-sebastian': 0, 'visa-free': 0, 'disaster.erdogan': 0, 'flooded': 0, 'w-aggressive': 0, \"dick's\": 0, 'spiralling': 0, '7/11': 0, '#hispanic': 0, '#h1bvisa': 0, 'foreigns': 0, 'medicare': 0, 'strained': 0, 'quo': 0, '#norefuge': 0, '207': 0, 'exhauste': 0, '@simoncoveney': 0, '#syrian': 0, 'auditions': 0, '#landlivespeace': 0, '#livelihoods': 0, 'femalesss': 0, 'bitchslut': 0, 'feministshit': 0, 'wond': 0, 'baffles': 0, \"baylor's\": 0, 'amounts': 0, '#ireland': 0, 'gameplan': 0, 'focussing': 0, 'votebank': 0, 'clever': 0, 'shifting': 0, 'handbuilt': 0, '#prouddeplorable': 0, '#makedclisten': 0, '@gopleader': 0, '#buildthewallamnesty': 0, 'rode': 0, 'primetime': 0, 'brazil-venezuela': 0, 'reopens': 0, 'prevailing': 0, 'ru': 0, 'shoved': 0, 'polanski': 0, 'drugged': 0, 'whoppi': 0, '1991': 0, 'psychos': 0, 'shakes': 0, 'pumping': 0, 'ewk': 0, 'slut-shame': 0, 'anhyone': 0, 'mange': 0, 'ejeculated': 0, 'evrybodys': 0, 'fiend': 0, 'unleashed': 0, 'muscular': 0, \"ancila's\": 0, 'olympian': 0, 'acceleration': 0, 'embedding': 0, 'units': 0, 'modern-day': 0, 'qualifying': 0, 'wc': 0, 'guinea': 0, \"burundi's\": 0, \"o'reilly's\": 0, 'u.s.help': 0, 'ancila': 0, 'ombudsman': 0, 'asylees': 0, 'discourages': 0, 'munah': 0, 'bargaining': 0, 'malafide': 0, '#landrestoration': 0, '#soil': 0, '#wetlands': 0, 'elbowed': 0, 'interc': 0, 'glitter': 0, 'pasture': 0, 'evacuated': 0, 'subside': 0, 'maestas': 0, 'beacon': 0, 'staggering': 0, 'chinned': 0, '#noworkforewi': 0, '#oakland': 0, '#libbyschaaf': 0, 'preferably': 0, 'tortures': 0, 'buzz': 0, '#forestfires': 0, 'tragic': 0, 'thumbs': 0, 'salt': 0, '#fastandfurious': 0, '#taxcutreformbill': 0, 'europe.all': 0, 'reston': 0, '#fuckeu': 0, 'abide': 0, 'nutted': 0, 'tfsa': 0, 'policysome': 0, '2017ðÿ': 0, '100,000+': 0, 'h.kickl': 0, 'holder': 0, 'comunistic-socialist-green': 0, 'disturb': 0, '#aliens': 0, '#catchandrelease': 0, 'mustache': 0, '@beckybohrerap': 0, '@mthiessen': 0, 'bho': 0, 'cali': 0, '#eliminateregulations': 0, 'drained': 0, 'engineers': 0, 'containers': 0, 'laptops': 0, 'drumroll': 0, 'wasted': 0, 'back.the': 0, 'menace': 0, 'population.must': 0, 'w-organized': 0, 'marxists': 0, 'apt': 0, 'hilla': 0, 'convenience': 0, '#land': 0, 'planting': 0, '#trees': 0, 'salt-tolerant': 0, 'crops': 0, 're-flooding': 0, 'microwaves': 0, 'boxes': 0, '#constitutionalistsonscotus': 0, '@aracelihlaroche': 0, '#americafirsttradepolicy': 0, '#endgovermentwaste': 0, '#reformtheva': 0, '#destroyisis': 0, 'promices': 0, 'finale': 0, 'undergrads': 0, 'feldblum': 0, '@megitasmith': 0, 'boots': 0, '@nmvalenzuela': 0, 'pitcher': 0, 'baseball': 0, 'starlets': 0, 'angels': 0, 'iso': 0, 'items': 0, 'self-sufficiency': 0, 'schlong': 0, 'supt': 0, 'commenting': 0, '😵': 0, 'teachings': 0, 'millennia': 0, 'successive': 0, '. ...': 0, 'outdo': 0, 'keith': 0, 'girlie': 0, 'rants': 0, '#nationalsecurity': 0, 'skynews': 0, '#crime': 0, \"home's\": 0, 'comfy': 0, 'angelas': 0, 'unfailing': 0, 'paranoid': 0, 'agriculture': 0, 'sheme': 0, \"weinstein's\": 0, 'blogger': 0, 'attire': 0, 'undertaking': 0, 'resolving': 0, 'budding': 0, 'actresses': 0, 'butters': 0, 'absurdity': 0, 'nectar': 0, 'roachingfugees': 0, 'gormint': 0, '2h': 0, '0.045': 0, '10mins': 0, 'luxurious': 0, 'anathema': 0, 'migration-control': 0, 'injures': 0, 'decreases': 0, 'unemployment': 0, '0.062': 0, 'himseld': 0, 'choumert': 0, '#clueless': 0, 'joann': 0, 'dp': 0, 'sameer': 0, 'nawaz': 0, 'jubilee': 0, 'hyderabad': 0, '#bebestmyass': 0, 'synonym': 0, 'thegrio': 0, '8th': 0, 'kaleidoscope': 0, 'gin': 0, 'snorter': 0, 'premiering': 0, '#amazonprime': 0, 'hopkins': 0, 'decriminalisation': 0, 'untrue': 0, 'crosss': 0, '3-7': 0, 'claimin': 0, 'fold.jhugis': 0, 'broom': 0, 'ballistic': 0, 'missile': 0, 'literal': 0, 'jurisdictions': 0, 'correctness': 0, 'salah': 0, 'ox': 0, 'ramming': 0, '#livmun': 0, 'latina': 0, 'halifax': 0, 'invades': 0, 'high-trust': 0, 'taller': 0, '#longertable': 0, 'barking': 0, 'resumes': 0, '#stillwestand': 0, 'serbian': 0, '5am': 0, 'shook': 0, 'reneweconomy': 0, 'hound': 0, 'perpetuating': 0, '#bookerfordogcatcher2020': 0, '#mga': 0, 'shitheads': 0, 'showered': 0, 'flushing': 0, 'heatwave': 0, 'patriate': 0, 'dicchead': 0, 'sanjiv': 0, 'javid': 0, 'head-scarf.person': 0, 'wound': 0, '#diversityisourstrength': 0, 'intake': 0, 'ful': 0, 'helmets': 0, 'problematically': 0, '1,5': 0, '#donthecon': 0, 'darmian': 0, 'congestion': 0, 'nation.it': 0, 'nooo': 0, 'accus': 0, '#economic': 0, 'plaguing': 0, 'alota': 0, 'streamers': 0, 'footed': 0, 'collaps': 0, \"force's\": 0, 'degrees': 0, '🍂': 0, 'booties': 0, 'educator': 0, '#informedimmigrant': 0, 'yogi': 0, 'aight': 0, '#thebigdump': 0, 'advertise': 0, 'hanged': 0, 'lse': 0, 'conclusion': 0, 'fellas': 0, 'airplane': 0, 'cupboard': 0, 'mighty': 0, 'spartan': 0, 'warrior': 0, 'fadec': 0, '#hnr': 0, 'recession': 0, '#keepcriminalsout': 0, '#standwithtrump': 0, '#nohealthcare': 0, '#nohousing': 0, '#nofinancialsupport': 0, 'strap': 0, 'shoota': 0, '##complicedisalvini': 0, 'sustainability': 0, 'aeso': 0, 'spins': 0, 'graan': 0, '#iwantthewall': 0, 'ahshshsjs': 0, 'ahsjsjd': 0, 'mam': 0, '#pac12afterdark': 0, '#mtn8final': 0, '#bmfconference2017': 0, 'johann': 0, 'chile': 0, '#fridayfeeiings': 0, 'slaughtered': 0, '#chisagocounty': 0, '#exploreminn': 0, 'rockelle': 0, 'garza': 0, 'fleece': 0, 'abortions': 0, 'gimmie': 0, '#liberty': 0, '#endthefed': 0, '#presidentpaul': 0, '#mccainfuneral': 0, 'therapists': 0, 'holleringgggggg': 0, 'sock': 0, 'wayne': 0, 'gretzky': 0, 'mccains': 0, 'payers': 0, 'scrap': 0, '#baloney': 0, 'precautions': 0, '#womenaredumb': 0, 'alleges': 0, 'rakban': 0, 'sweets': 0, 'toungue': 0, 'rothsey': 0, 'fined': 0, 'swedenstan': 0, 'statements': 0, 'motherfuckers': 0, 'yikes': 0, \"daddy's\": 0, 'theory-touting': 0, 'nationalist-allied': 0, 'tpusa': 0, '#nationalistsnotwelcome': 0, 'crime.tunisia': 0, 'leverage': 0, 'messageðÿ': 0, \"you're\": 0, 'interfere': 0, 'climbed': 0, 'juggle': 0, 'genocide.some': 0, 'virgins': 0, 'shoemaker': 0, 'immigration.denying': 0, 'peopl': 0, 'libtarded': 0, 'abc': 0, 'endeavour': 0, 'resident': 0, 'delighted': 0, 'beggin': 0, '#openyoureyes': 0, '#freeyourmind': 0, '#care': 0, '#prescientinfo': 0, 'awarded': 0, 'bravery': 0, 'elysée': 0, 'palace': 0, 'garcia': 0, 'catching': 0, 'surprise.what': 0, 'sabotages': 0, 'hahahahahahahaha': 0, '#inmigration': 0, 'dawgg': 0, 'lmfoaoo': 0, 'pirro': 0, '#munich': 0, '#leftistsedition': 0, 'heated': 0, '#sendherback': 0, '138': 0, 'patch': 0, 'papal': 0, 'rebuke': 0, 'wall.we': 0, 'fuckboys': 0, 'magically': 0, 'partying': 0, '124': 0, '#keepamericanssafethis': 0, '#treason': 0, 'comtemplating': 0, '#information_warfare': 0, 'communism': 0, 'roomies': 0, 'critically': 0, 'wounding': 0, 'buckle': 0, 'undying': 0, 'kirk': 0, '#occupyicephl': 0, 'toothbrushes': 0, 'knuckle': 0, 'prob': 0, 'nail': 0, 'oportunistic': 0, 'strategic': 0, 'india.disincentive': 0, 'withdrawl': 0, 'lefty': 0, 'miracle': 0, 'mines': 0, 'dej': 0, 'bitters': 0, 'spinsters': 0, 'dismi': 0, 'injury': 0, 'visa-holders': 0, '#getalife': 0, '#stopspreadinglies': 0, 'fucktard': 0, 'loaf': 0, 'bulky': 0, 'oral': 0, 'tweeted.and': 0, 'signage': 1, 'beatlemania': 1, 'crowds': 1, 'crongregating': 1, 'gouged': 0, 'cuffin': 0, 'overstayers': 0, 'hilariously': 0, 'baba': 0, 'bland': 0, 'royal': 0, 'scribner': 0, 'nebraska': 0, 'temporarily': 0, 'inactive': 0, 'flattered': 0, 'orgasm': 0, 'anatomically': 0, 'rosero': 0, '#njhric': 0, '@nbc': 0, 'aadhaar': 0, 'alude': 0, 'recieved': 0, 'aswel': 0, 'prerogative.even': 0, '#boycottunitedarlines': 0, '#aidingandabetting': 0, '#felons': 0, '#doj': 0, 'deceitful': 0, 'diehl': 0, 'embarrassing': 0, '#tr': 0, 'neverrrrrrrrrrr': 0, 'misinformation': 0, '#sourcesmatter': 0, 'irks': 0, '#wakeupyouwhore': 0, 'megynkelly': 0, 'womble': 0, 'geoff': 0, '#newarkpubliclibrary': 0, 'quarrel': 0, 'identifying': 0, 'newark': 0, 'injustices': 0, 'wad': 0, 'organ': 0, 'harvesting': 0, 'intensive': 0, 'stretches': 0, 'cleavers': 0, \"warren's\": 0, 'expanding': 0, 'mother-child': 0, '3,500': 0, 'ww2': 0, '#resisticenashville': 0, 'henry': 0, 'uhhhhhh': 0, 'immigr': 0, 'eyed': 0, 'button': 0, '#yalcon2018': 0, 'producing': 0, 'relocationprogramm': 0, 'comfortabel': 0, 'tolly': 0, 'carefree': 0, 'unprotected': 0, 'daydream': 0, 'xp': 0, 'awaiting': 0, '#commonweath': 0, 'wayyyyy': 0, 'kebabs': 0, 'nappy': 0, 'constipated': 0, 'lawlessness': 0, 'electrify': 0, 'designer': 0, 'accessed': 0, 'budgie': 0, 'helllo': 0, 'trumped-up': 0, 'whi': 0, 'journo': 0, 'scroungers': 0, 'bugger': 0, '#act4_southernsyria': 0, '#angelamerkel': 0, 'headrussian': 0, 'sothat': 0, 'materialize': 0, 'returnof': 0, '#datelinelondon': 0, '#southafrica': 0, 'rime': 0, 'minster': 0, 'jihadi': 0, '13,000': 0, \"bachelor's\": 0, 'accounting': 0, 'moolenaar': 0, '#landexpropriationhearings': 0, 'publicity': 0, '🤡': 0, 'insult.about': 0, 'sip': 0, \"marianna's\": 0, 'tendency': 0, 'hindus': 0, 'taj': 0, 'mahal': 0, 'memoir': 0, 'divded': 0, 'streetfights': 0, 'artists.gosh': 0, '#familyreunification': 0, 'wavy': 0, 'bassline': 0, 'rules.ofc': 0, 'sm': 0, 'jyp': 0, 'yg': 0, 'dr.ron': 0, '#makelibertywin': 0, 'conducts': 0, '#theworld': 0, '🐍': 0, 'rnc': 0, '🙉': 0, '🙊': 0, '👁': 0, 're-emerge': 0, '#tuesdaythoughtsobama': 0, 'aliensto': 0, 'defraud': 0, 'forhis': 0, '#obamapainting': 0, '#newyork': 0, 'obamais': 0, 'chair.clint': 0, 'reformâ': 0, '#jeremykyle': 0, 'doyoung': 0, 'left-wing': 0, '#memories': 0, '#lives': 0, 'douchebags': 0, 'yang': 0, 'observed': 0, 'yeen': 0, 'uncomf': 0, 'reigned': 0, 'genie': 0, 'tracks': 0, '#deporttheundesirables': 0, '#kickoutthelyers': 0, '#savetheworldundertheonetruegod': 0, 'fours': 0, 'swarm': 0, 'widens': 0, 'baguettes': 0, 'foods': 0, 'balti': 0, '#census': 0, '#californians': 0, 'haley': 0, '#actnow': 0, '#eb5': 0, 'wealth-gaps': 0, 'beasts': 0, '#foreign': 0, 'bois': 0, 'chaotic': 0, 'adversely': 0, 'vogue': 0, 'hijabi': 0, 'zapreå': 0, 'iä': 0, 'tentrefugees': 0, 'parque': 0, 'bologne': 0, '#teammorse': 0, 'foch': 0, '#rolltide': 0, '#qresearch': 0, '#patriotsfight': 0, '#thatstheshitidontlike': 0, 'rub': 0, '@repmcclintock': 0, '@morse4america': 0, '#eb5visa': 0, '#investor': 0, 'jenny': 0, 'blurry': 0, 'tenures': 0, 'shooed': 0, 'disavows': 0, 'digger': 0, 'ughhh': 0, 'verification': 0, 'identities': 0, 'voluntarily': 0, 'avert': 0, 'culprit': 0, 'tesla': 0, 'dissed': 0, 'egotistical': 0, 'mesa': 0, '#teenwolf': 0, '#menstruafacts': 0, \"church's\": 0, 'soerens': 0, 'rhongyias': 0, 'pledges': 0, '#visa': 0, 'deprave': 0, '500k': 0, '#investment': 0, '#ether': 0, '#cryptocurrency': 0, 'gbibuildingco@outlook.com': 0, 'steroline': 0, 'edit': 0, 'olly': 0, 'maggots': 0, 'molester': 0, 'txf': 0, 'liquidates': 0, 'treasury': 0, 'holdings': 0, '#takeamericaback': 0, '#walkawaymovementgrowing': 0, 'happen---child': 0, 'kidnapper': 0, 'cultureâ': 0, '#jesus': 0, 'mijn': 0, '#jackandjackdoingitright': 0, 'tzompankli': 0, 'maintempel': 0, 'tetotitlan': 0, '100.000': 0, 'warprisoners': 0, 'rickles': 0, '248': 0, 'mtn': 0, 'shrod': 0, 'slipknot': 0, '#mutt': 0, '#demur': 0, '#shrew': 0, '#sultana': 0, '#kickupafuss': 0, '#refute': 0, '#bar': 0, 'un-assimilatable': 0, '#germanyfirst': 0, 'divorce': 0, 'practical': 0, 'superb': 0, '🐼': 0, 'preference': 0, 'sheltering': 0, '#equalparenting': 0, '#bb16': 0, 'hitam': 0, 'declining': 0, '#slums': 0, 'smeone': 0, 'kasi': 0, 'invitied': 0, 'nevertheless': 0, 'vacationing': 0, '#dacaiswaca': 0, 'wickedness': 0, 'fuckkk': 0, 'stalkers': 0, 'luh': 0, 'migratory': 0, 'ham': 0, 'deadbeat': 0, '#ontario': 0, \"teen's\": 0, '#ctfu': 0, '#dead': 0, '#fuckery': 0, '#pe': 0, 'hoods': 0, 'alite': 0, 'banana': 0, '@morningmikaâ': 0, 'stepped': 0, '#love': 0, 'rains': 0, '#rohingyacrisis': 0, '#resiliency': 0, 'anklet': 0, 'canción': 0, 'campo': 0, 'brad': 0, 'bischoff': 0, '#guy': 0, '💳': 0, '#onpc': 0, 'smartphones': 0, '#ondp': 0, '#trudeaumustgo': 0, 'macedonian': 0, 'furor': 0, 'lankan': 0, 'perilous': 0, 'journeys': 0, 'gerrman': 0, 'turner': 0, 'sane': 0, 'monthe': 0, 'tastebuds': 0, 'revels': 0, 'petrov': 0, 'foreseen': 0, '#panafrica': 0, '#suburbanwhitemale': 0, 'commonsense': 0, 'humanistic': 0, 'scholars': 0, 'bairn': 0, 'lately.poor': 0, 'trumped': 0, 'savages': 0, 'shitholes': 0, 'thos': 0, 'turnbulls': 0, 'machines': 0, 'hollywood.they': 0, 'democracy.have': 0, 'reclaiming': 0, 'femenazi': 0, 'kuwaiti': 0, \"court's\": 0, 'draconian': 0, 'mtendeli': 0, 'chic': 0, 'intra-palestinian': 0, 'feud': 0, 'gaza': 0, 'reactivate': 0, 'livestream': 0, '42,000': 0, 'cleared': 0, 'embassies': 0, '34,000': 0, 'delusions': 0, 'acknowledging': 0, 'mn': 0, 'lightbulb': 0, 'runaways': 0, 'insert': 0, 'tide': 0, 'pmâ': 0, 'pollution.focus': 0, 'weaken': 0, 'asos': 0, 'katharine': 0, 'hamnett': 0, 'underwear': 0, 'participates': 0, '2:00': 0, 'cardio': 0, 'punishing': 0, 'exterminating': 0, 'wildin': 0, 'visegrad': 0, 'ritchie': 0, 'twoâ': 0, '#deathofanation': 0, 'screens': 0, 'eye-opening': 0, 'exposé': 0, 'leftwing': 0, 'tension': 0, 'mosul': 0, 'approaching': 0, '#moria35': 0, 'contested': 0, 'psychic': 0, 'gm': 0, 'patricroft': 0, '11.30': 0, 'rania': 0, 'gayrefugees': 0, 'booby-trapped': 0, 'interven': 0, 'jamaica': 0, 'dwight': 0, 'partly': 0, 'unelected': 0, 'preferences': 0, '#nonsense': 0, '#enddiversity': 0, \"journalist's\": 0, 'commentating': 0, '56th': 0, 'ralph': 0, '#abuse': 0, '#stopchildabuse': 0, 'withdraws': 0, 'dispicable': 0, 'creature': 0, 'pits': 0, 'government-sanctioned': 0, 'pediatrics': 0, 'olivera': 0, 'second-generation': 0, 'tomato': 0, \"goldsmith's\": 0, 'unmatched': 0, 'viol': 0, 'pepperspray': 0, 'smth': 0, 'hothead': 0, 'runnin': 0, 'felicia': 0, 'zac': 0, \"johnson's\": 0, 'forests': 0, 'remarks': 0, 'samos': 0, '#enforceuslaws8': 0, '1325this': 0, 'pressurise': 0, 'repair': 0, '#monsoon': 0, 'complicity': 0, 'caledonia': 0, 'thx': 0, 'daddies': 0, 'cumbutt': 0, 'anti-govt': 0, 'labors': 0, 'trafficking.eiffel': 0, 'things.but': 0, 'gasol': 0, 'aboard': 0, 'irving': 0, '📹': 0, 'gaymanfetish': 0, 'tuxedo': 0, 'nohoslut': 0, 'nugget': 0, 'bodrum': 0, 'charles': 0, 'manson': 0, 'finances': 0, 'bolted': 0, 'mire': 0, 'responds': 0, 'greenland': 0, 'diversity.or': 0, 'raining': 0, '#homecookedm': 0, 'advisory': 0, 'portnoy': 0, 'cure': 0, \"who're\": 0, 'masked': 0, 'cookie': 0, 'toss': 0, 'ex-un': 0, 'citizens.they': 0, 'envoys': 0, 'tripadvisor': 0, 'trips': 0, 'stroking': 0, 'fetching': 0, '#wastehertime2016': 0, 'traumatizing': 0, 'fier': 0, '#ilovefood': 0, '#thefive': 0, 'imposing': 0, 'defendor': 0, '7.2': 0, 'inks': 0, 'dicked': 0, 'shrimp': 0, '#buildthedamwall': 0, '#saveamerica': 0, 'gradually': 0, 'heavens': 0, 'confusion': 0, '#trumpknew': 0, 'excluded': 0, 'wrap': 0, 'slide': 0, 'strokes': 0, 'pounding': 0, 'canadaonly': 0, 'excludes': 0, 'naturalized': 0, 'globalization': 0, 'azs': 0, 'affectionless': 0, '#rapper': 0, '#sexualabuse': 0, 'stereotyping': 0, '66': 0, 'tedx': 0, 'spandex': 0, 'flounders': 0, 'evaporates': 0, '#tgt': 0, 'sippers': 0, 'reformation': 0, '🍵': 0, 'recap': 0, 'paxton': 0, 'douglas': 0, 'todd': 0, 'lawn': 0, 'wiping': 0, '#gettoit': 0, 'coin': 0, 'whoores': 0, '388.201': 0, 'mandated': 0, 'stepfather': 0, '#videoartssfom': 0, 'pussc': 0, 'attendants': 0, 'vibe': 0, 'uhh': 0, 'sweedish': 0, 'federally': 0, 'completion': 0, 'helpyou': 0, 'penalties': 0, 'immigrantsrepeat': 0, 'enabling': 0, 'lifts': 0, 'reunions': 0, 'crackasscrakaz': 0, 'incapable': 0, 'comprehending': 0, 'gap': 0, 'threatened.learn': 0, 'dispelling': 0, 'partisan': 0, 'jeaniene': 0, '#iloveparanormalromance': 0, '#fortrump': 0, '#thexfactor': 0, 'arsene': 0, 'tchakarian': 0, 'missak': 0, 'manouchian': 0, 'militia': 0, 'void': 0, 'ii': 0, 'remittances': 0, 'individually': 0, 'chi-town': 0, '⚫': 0, 'brighter': 0, 'laying': 0, 'smelled': 0, '#handsoffsrpat': 0, 'null': 0, 'twatdom': 0, 'ri': 0, 'ctfu': 0, 'newly': 0, 'inaugurated': 0, 'backing': 0, 'brady': 0, '#sitdowninthekitchen': 0, 'hipster': 0, 'tomas': 0, 'distinction': 0, \"pat's\": 0, 'stung': 0, 'recklessness': 0, 'conflate': 0, 'today.follow': 0, 'disbarr': 0, '🆗': 0, 'observers': 0, 'forfeiture': 0, 'coreðÿ': 0, '#underminesourdemocracy': 0, '#noamnasty': 0, 'observing': 0, 'witnessed': 0, 'reseating': 0, '@hillaryclinton': 0, 'pleeeeeease': 0, '#laminate': 0, 'cutter': 0, 'd-i-y': 0, 'pro-assad': 0, 'khai': 0, 'retired': 0, 'malaysia': 0, 'organiser': 0, 'anh': 0, 'phenomenal': 0, 'horseðÿ': 0, 'stoke': 0, \"makeup's\": 0, 'homeland.you': 0, 't-boned': 0, 'shaved': 0, 'ambition': 0, '#wearethestorm': 0, 'enrage': 0, 'painful': 0, 'pet': 0, 'writeup': 0, 'toeing': 0, 'ridiculed': 0, 'alienates': 0, '#deportillegalcriminalsnow': 0, \"monument's\": 0, 'brushing': 0, 'visitor': 0, 'queues': 0, '#eiffeltower': 0, 'votesk': 0, 'jumpers': 0, 'legalising': 0, 'elevations': 0, 'copping': 0, 'strive': 0, 'horrified': 0, '#makeswedengreatagain': 0, 'homestead': 0, '🇷': 0, '🇬': 0, '🇧': 0, 'factual': 0, 'twank': 0, 'twink': 0, '9months': 0, 'smdh': 0, 'herald': 0, 'infanticide': 0, 'importantly': 0, 'cormacs': 0, 'blackheads': 0, 'atrocity': 0, 'investigates': 0, 'bias': 0, 'incidents': 0, 'under-reporting': 0, 'adjusted': 0, 'recreational': 0, 'appearing': 0, 'display': 0, 'infest': 0, 'icaew': 0, ']:': 0, 'idf': 0, 'protestors': 0, 'gaze': 0, 'pro-trump': 0, 'brandishing': 0, 'criminalized': 0, 'larp': 0, 'sf': 0, 'easter': 0, '16th': 0, 'foll': 0, 'commemoration': 0, 'inspiration': 0, 'amazes': 0, \"person's\": 0, 'profiteers': 0, 'e-cards': 0, '#sorrynotsorry': 0, '@jeffsessions': 0, 'implication': 0, 'pale': 0, 'whoops': 0, '#spanish': 0, 'demisevote': 0, 'conquered': 0, '@expect_ka0s': 0, 'yarrabee': 0, '4all': 0, 'lesvos': 0, 'yarebeefarms': 0, 'philosophical': 0, 'roles.you': 0, 'masculinity': 0, 'poured': 0, '#filippograndi': 0, 'âœ': 0, 'jonah': 0, 'smaller': 0, 'reactions': 0, 'arrogance': 0, 'gobble': 0, '#usavsbel': 0, 'cartman': 0, \"kyle's\": 0, 'minor': 0, 'wasteland': 0, '>:(': 0, 'solely': 0, 'nibble': 0, 'finger-fuck': 0, 'joyce': 0, '❀': 0, 'clearance': 0, 'cubans': 0, '#thirdworldcountry': 0, 'almighty': 0, 'construct': 0, 'amend': 0, 'constitut': 0, '#shitwomendontsay': 0, 'retires': 0, 'e-card': 0, 'slappings': 0, '@ing': 0, 'interacted': 0, 'kriss': 0, 'tract': 0, 'rammed': 0, 'ten-year-old': 0, '2k19': 0, 'tm': 0, \"china's\": 0, 'assessment': 0, \"tariff's\": 0, 'handcuffs': 0, 'conway': 0, 'politicans': 0, 'yooh': 0, 'hirono': 0, 'yorkshire': 0, '#consent': 0, '#americawelcomes': 0, 'eligibility': 0, 'rescuers': 0, 'linda': 0, 'pluck': 0, 'bloke': 0, \"bitch's\": 0, \"parliament's\": 0, 'slim': 0, '#aungsansuukyi': 0, 'stryker': 0, 'almazan': 0, 'han': 0, 'dmmf': 0, 'johnathan': 0, 'blake': 0, 'psas': 0, '#resisttrump': 0, 'overwatch': 0, 'bel': 0, 'minhyuk': 0, 'mydmd': 0, '#government': 0, '#politicalmemes': 0, 'registrations': 0, 'skales': 0, '#nomoresomalirefugees': 0, '#shitpussiessay': 0, 'shemale': 0, 'dom': 0, 'realtime': 0, 'giver': 0, '#summer': 0, '#wimbledon': 0, '#hillaryclinton': 0, 'ethiopians': 0, 'desired': 0, 'management': 0, 'cemenco': 0, 'consultation': 0, 'cement': 0, 'attending': 0, 'anti-fascist': 0, 'newtownards': 0, 'purity': 0, 'arbitrary': 0, '#nopaseran': 0, 'severed': 0, '#rv': 0, 'porous': 0, 'unending': 0, 'brey': 0, 'arthur': 0, 'reggae': 0, 'ranking': 0, '100th': 0, 'sierra': 0, 'slope.and': 0, 'leone': 0, 'ominous': 0, 'ukk': 0, '#corruption': 0, 'carmen': 0, '#sexfight': 0, 'showin': 0, 'muhhhhh': 0, '#hopenothate': 0, '44.6': 0, 'yur': 0, 'holders': 0, 'impartiality': 0, 'meaningless': 0, 'profiling': 0, 'wraps': 0, 'betwn': 0, 'backyard': 0, 'steady': 0, 'lexus': 0, 'goto': 0, 'carbon-copy': 0, 'towar': 0, '#deportallaliens': 0, '#nodreamers': 0, '#nocitizenship': 0, 'mullas': 0, 'audit': 0, 'dmv': 0, '23,000': 0, 'lacking': 0, 'predictable': 0, '#speakenglish': 0, 'uac': 0, '34.5': 0, 'nm': 0, '31.7': 0, '31.0': 0, '#english': 0, 'fuuucckk': 0, 'compelling': 0, '24,680': 0, 'gangesters': 0, 'jennie': 0, '#allin': 0, '#okaybitch': 0, 'dalli': 0, 'ep': 0, 'rapporteur': 0, '🤫': 0, '#immigrantstories': 0, 'overhaul': 0, 'reservations': 0, '#october': 0, '#madmax': 0, 'increds': 0, 'nutting': 0, 'tajani': 0, 'weber': 0, 'arive': 0, 'cobra': 0, 'shithole-countries': 0, 'rebound': 0, 'poltical': 0, '#90daysfiance': 0, '#demoncrats': 0, 'sprudge': 0, 'unsc': 0, 'dilemma': 0, 'bootyhole': 0, 'chokers': 0, 'mckenney': 0, 'capitol': 0, 'radiology': 0, '2017.that': 0, '#looneyleft': 0, 'kafir': 0, 'lightskin': 0, '#whitehouse': 0, 'abandons': 0, 'electricity': 0, 'retireage': 0, 'swedisch': 0, 'doubts': 0, 'delta': 0, 'laurels': 0, 'barstewards': 0, 'mep': 0, 'ruddy': 0, 'traumatic': 0, '#huntermourer': 0, 'poetic': 0, 'inept': 0, 'endorsing': 0, 'parades': 0, 'baiting': 0, '1950': 0, 'anthem': 0, '#senator': 0, 'full-time': 0, 'frenzied': 0, 'proposition': 0, 'relaxation': 0, '224': 0, 'get_repost': 0, 'berek': 0, 'treacherous': 0, 'moline': 0, 'thankful': 0, 'daniella': 0, '#thankgodforwomen': 0, 'mamona': 0, 'toda': 0, '#tonypaul': 0, '#rally': 0, 'sharpest': 0, 'meanest': 0, 'fairest': 0, 'peled': 0, 'philandering': 0, 'rubaya': 0, 'landscape': 0, 'ramazani': 0, 'testimonies': 0, 'assertion': 0, 'sympathizing': 0, '#makechildrenworkagain': 0, 'camarota': 0, 'ste': 0, 'smuggler': 0, 'bajuvaria': 0, 'skunk': 0, 'retrain': 0, 'gurpreet': 0, 'keen': 0, 'obide': 0, 'discussions': 0, 'languish': 0, 'colonizing': 0, 'hap': 0, 'transition': 0, 'choices': 0, 'aare': 0, 'homies': 0, 'shorty': 0, 'fever': 0, 'doom-y': 0, 'whims': 0, 'threats.centre': 0, 'consequences.entire': 0, 'throwin': 0, 'beth': 0, \"blostein's\": 0, 'ebenezer': 0, 'methodist': 0, 'dynamics': 0, '#knowltonfacultyfeature': 0, 'nicaragua': 0, 'bure': 0, 'nh': 0, 'unoccupied': 0, 'looney': 0, 'brochure': 0, 'outlawed': 0, 'entitlements': 0, 'honorable': 0, 'mattered': 0, 'blather': 0, 'platitudes': 0, 'schucks': 0, 'persona': 0, 'golly': 0, 'jeez': 0, 'gorsuch': 0, 'borers': 0, 'safe.president': 0, 'arses': 0, 'equipped': 0, 'interact': 0, 'workshops': 0, '@violetstirling': 0, 'sydney': 0, 'tittie': 0, 'twiddling': 0, 'hm': 0, 'derek': 0, 'injust': 0, 'flynt': 0, 'basement': 0, 'exhibition': 0, 'aesthetic': 0, 'coup': 0, 'ringing': 0, 'riposte': 0, 'wall-builders': 0, 'border-closers': 0, 'alcs': 0, 'omm': 0, 'chauvinistic': 0, \"instagram's\": 0, 'irin': 0, 'vibrators': 0, 'masturbating': 0, 'picture-any': 0, 'commerci': 0, 'allergic': 0, 'latex': 0, 'swapped': 0, 'toilets': 0, 'democraps': 0, 'reuters': 0, 'unstable': 0, 'sicko': 0, 'mnangagwa': 0, 'inauguration': 0, 'nehanda': 0, '#zimbabwe': 0, 'tackles': 0, 'donnies': 0, 'budge': 0, '#jointhenra': 0, '#patriotsunite': 0, 'damon': 0, 'jeopardized': 0, 'thei': 0, 'bill.anyone': 0, 'tampon': 0, 'rag': 0, '#rightwing': 0, 'americanon': 0, '#racistconfessions': 0, '#sexist': 0, 'friendships': 0, 'joost': 0, 'vries': 0, 'lunn': 0, 'asylee': 0, 'lithuania': 0, 'scaling': 0, 'secondary': 0, 'samar': 0, 'cohesion': 0, '#amsterdam': 0, 'bridges': 0, 'matched': 0, 'diss': 0, 'seungkwan': 0, 'visual': 0, 'fuk': 0, '#svt_project_vocal': 0, '#pinwheel': 0, 'un-created': 0, '😙': 0, 'ma13': 0, 'pro-mass': 0, 'consideration': 0, '#deportthecriminals': 0, 'neocons': 0, '#business': 0, '#police': 0, 'uk-bound': 0, '#calais': 0, '#humantraffickingthe': 0, 'infect': 0, 'clowning': 0, 'aemricans': 0, '#not1moreillegal': 0, 'jocking': 0, 'greeting': 0, 'interpreter': 0, 'ferrari': 0, 'crashes': 0, 'marchionne': 0, 'md': 0, 'motorcyclist': 0, '#basketofdeplorables': 0, '(202) 225-3031': 0, 'mut': 0, 'sundresses': 0, 'socialization': 0, 'molest': 0, '460,000': 0, '#skynews': 0, 'legalization': 0, '(202) 225-2915': 0, '(202) 225-0197': 0, 'turnt': 0, 'newport': 0, 'wales': 0, 'terrify': 0, 'traumatise': 0, 're-traumatise': 0, 'yerhamo': 0, '#nfat': 0, 'shortages': 0, 'allll': 0, 'goddess': 0, 'done.how': 0, '#standwithwomen': 0, 'sowed': 0, 'division': 0, 'fomenting': 0, 'swallows': 0, 'refugess': 0, 'people.that': 0, 'juheard': 0, '#kickthemintheballscampaign': 0, '#howwerise': 0, 'chewed': 0, 'mcd': 0, 'seats.mad': 0, 'principles.encourage': 0, 'jhughi': 0, 'reproductive': 0, 'assets': 0, 'mods': 0, '16gb': 0, 'dick-pic-as-profile-pic': 0, '@lilyallen': 0, 'mainstrem': 0, 'inc': 0, 'petteist': 0, 'becaus': 0, 'coming.and': 0, 'rights.deseased': 0, 'loudmouth': 0, 'salem': 0, 'sudde': 0, '15th': 0, 'clampdown': 0, 'viagra': 0, 'greys': 0, 'tribes': 0, 'sunt': 0, 'clowned': 0, 'beco': 0, '#kalaignar': 0, '#marina4kalaignar': 0, 'taping': 0, '#yesallwomenbelonginthekitchen': 0, 'honked': 0, 'tolerated': 0, 'shiny': 0, 'gini': 0, '🌠': 0, 'maddcow': 0, 'malaysians': 0, 'fanthom': 0, 'narcissus': 0, 'snitch': 0, 'pre-empting': 0, 'ipad': 0, 'redundant': 0, 'boom': 0, 'accessory': 0, 'contradict': 0, '35million': 0, 'wom': 0, 'oasis': 0, 'futurerefugees': 0, 'overturned': 0, 'non-hate': 0, '#bui': 0, 'mak': 0, '166': 0, '170': 0, 'wildfire': 0, '4,000': 0, 'arabs': 0, 'unblended': 0, 'unlined': 0, 'non-setting': 0, 'powder': 0, 'farpeople': 0, 'tigray': 0, 'relieving': 0, '🙇': 0, 'motherless': 0, 'blasting': 0, 'egos': 0, '#fisa': 0, '#controlledmsm': 0, '#msmglobalists': 0, '130': 0, '#olf': 0, 'okeyo': 0, '#ministry': 0, '#johnfkelly': 0, 'golden': 0, 'callked': 0, 'lightweights': 0, 'cee': 0, 'himðÿ': 0, 'onslaught': 0, '2/4': 0, '#dailynews': 0, '#tplf': 0, '#trending': 0, 'welcomeorganisation': 0, \"hoe'in\": 0, 'thrives': 0, 'divisive': 0, 'illeg': 0, '#tigray': 0, '#eprdf': 0, 'pissy': 0, 'boipussy': 0, 'leaning': 0, '5-6': 0, 'tragique': 0, 'hypothetical': 0, 'clock': 0, 'adamant': 0, 'timid': 0, 'peo': 0, '#smallbusiness': 0, '11:24': 0, 'outliers': 0, '2-3': 0, '#hiv': 0, 'one-year': 0, 'chalo': 0, 'koi': 0, 'bhaw': 0, 'rahi': 0, 'pyramid': 0, 'mcdonalds': 0, 'etc.must': 0, 'disincentive': 0, '#mickydhasnod': 0, 'informace': 0, 'capitalist': 0, 'pro-uk': 0, 'table.so': 0, 'resounding': 0, 'pre-roe': 0, 'wade': 0, '#womenvote': 0, 'maå': 0, 'migrantech': 0, 'odds': 0, 'udeå': 0, 'på': 0, 'itvrdil': 0, 'akce': 0, 'proti': 0, 'sorosovi': 0, '🤸': 0, 'succeeded': 0, '#hatesmen': 0, '#fuckyouronald': 0, 'conquering': 0, 'tallin': 0, 'grabage': 0, 'ewi': 0, 'maiming': 0, 'fleecing': 0, '#americaisforamericans': 0, '#legalvettedimmigrationonly': 0, '#boycottvicela': 0, '#maxmosley': 0, 'wordmouth': 0, 'weaaak': 0, 'kern': 0, 'refugeelover': 0, 'µ': 0, 'beefy': 0, 'dikes': 0, '#overpopulation': 0, '#turnbullgastogo': 0, '#care2': 0, 'cycle': 0, '#horror': 0, 'hardðÿ': 0, '#drugcartelswhat': 0, '122': 0, 'balkans': 0, 'ce.instead': 0, 'thatðÿ': 0, 'ªaccepts': 0, 'bladks': 0, 'mic': 0, '#childtrafficking': 0, 'overburdened': 0, '#qotd': 0, 'swell': 0, 'groundbreaking': 0, 'material': 0, 'roblox': 0, '#pass': 0, 'bal': 0, 'bracket': 0, 'tennis': 0, 'conceal': 0, 'location': 0, 'straightforward': 0, '#plannedparenthood': 0, '#fccontest': 0, '#hemamalini': 0, 'slightly': 0, '#chucklebrothers': 0, 'new-to-me': 0, 'cheered': 0, 'cheeseball': 0, '#ripbarrychuckle': 0, '#unredactedfisadocuments': 0, '💛': 0, 'imran': 0, 'strangelove': 0, 'starbucks': 0, 'cashier': 0, 'johanis': 0, 'hoehines': 0, 'fmu': 0, 'namjoon': 0, 'mukherjee': 0, '🔖': 0, 'yells': 0, '#walkawayfrom': 0, 'egirl': 0, 'cumholder': 0, 'fck': 0, 'visalottery': 0, 'noamnesty': 0, '#corruptdemscannotwinwith': 0, 'workingamericans': 0, 'becausewe': 0, '#lies': 0, '📖': 0, 'lagos': 0, \"ya'll\": 0, 'bama': 0, 'cpt': 0, 'textpert': 0, 'alike': 0, 'atty': 0, 'squashing': 0, 'sneaks': 0, 'middle-east': 0, 'takeâ': 0, 'beautifully': 0, 'infear': 0, '#crooks': 0, '#puppets': 0, 'superstate': 0, 'ordo': 0, 'chao': 0, 'photograph': 0, 'chimping': 0, '#iraqi': 0, 'sinister': 0, '@lindseygrahamsc': 0, '@scotus': 0, '@ivankatrump': 0, '@floutus': 0, '@nytimes': 0, '@washingtonpost': 0, 'too-ugly': 0, 'underhand': 0, 'russians': 0, 'jinx': 0, 'assembly': 0, 'nominees': 0, 'mobilise': 0, 'fundraisers': 0, 'brittany': 0, 'hee': 0, 'skyrocket': 0, 'unhcrâ': 0, '#malta': 0, 'drifting': 0, '#somali': 0, 'dodgers': 0, 'contributing': 0, 'yara': 0, 'adib': 0, 'employs': 0, 'ceiling': 0, '75000': 0, '#raisetheceilin': 0, 'predicting': 0, 'lmfaooooooooooooooooooooooo': 0, 'seeker': 0, 'somalians': 0, 'disembodied': 0, \"migrant's\": 0, 'world-known': 0, 'believed': 0, 'cherokee': 0, 'divorcee': 0, 'fashioned': 0, 'pro-migrant': 0, 'eats': 0, 'ravenous': 0, 'conned': 0, 'm8': 0, 'crowley': 0, '829': 0, '13,785': 0, '16,000': 0, '#testshots': 0, 'turidinero': 0, 'co-creative': 0, 'lincon': 0, 'incitation': 0, 'griha': 0, 'netanyahu': 0, 'mourinho': 0, '#jurgenaut': 0, '#coyr': 0, '#nobraday': 0, 'jared': 0, 'start-up': 0, 'face-reading': 0, 'ai': 0, 'misdemeanor': 0, 'blamedwhy': 0, 'testified': 0, 'penthouse': 0, 'josephine': 0, 'fait': 0, 'rebuilt': 0, 'fairhope': 0, '#propaganda': 0, 'increment': 0, 'renounces': 0, 'yuddha': 0, '5,350': 0, 'hemisphere': 0, 'still-missing': 0, 'toddler': 0, '#followyouroath': 0, '#exposeterroristtrainingcamps': 0, '#shutdownterroristtrainingcamps': 0, '#shutdowninvasionofillegalaliens': 0, '#oneflag': 0, 'soul-crushing': 0, 'spelt': 0, 'twice-deported': 0, 'insecurity': 0, 'personnel': 0, 'staffing': 0, 'obligations': 0, 'paradigm': 0, 'insinuated': 0, '#uwbaes367su18': 0, 'sexualised': 0, 'woods': 0, 'faint': 0, 'objectionable.illegal': 0, '#goodbyeeurope': 0, 'indians.bangladeshi': 0, 'sui': 0, '#welcomethestranger': 0, 'mommies': 0, 'crores': 0, 'collected': 0, \"sapho's\": 0, 'mytilini': 0, '#ttrump': 0, 'batshit': 0, 'cresa': 0, 'pugh': 0, '#displacement': 0, '#camps': 0, '#hope': 0, '#safe': 0, '#catalyst': 0, '#change': 0, 'wna': 0, '#unbelievable': 0, 'clearcut': 0, 'maryland': 0, 'obstacle': 0, 'studied': 0, 'desirable': 0, 'hama': 0, 'pathway': 0, 'tendencies': 0, 'cypher': 0, 'toes': 0, 'mulling': 0, 'syrians.big': 0, '#notinmycountry': 0, 'stay.sorry': 0, 'swamped': 0, 'haircut': 0, 'overland': 0, \"journal's\": 0, 'poem': 0, 'cartoon': 0, 'eu.no': 0, 'eyeing': 0, 'totalled': 0, 'destoys': 0, 'go.rip': 0, '#beagle': 0, '#dogright': 0, 'satisfying': 0, '#loveinaction': 0, 'freiburg': 0, 'baroque': 0, 'supoort': 0, 'heartening': 0, 'monika': 0, 'identical': 0, 'phillipines': 0, 'muslimrefugees': 0, 'rohinga': 0, 'mamata': 0, 'paso': 0, 'mountain': 0, '#livepd': 0, 'quislings': 0, '2.2': 0, 'sh-thole': 0, '#goodgirlwithbadthoughts': 0, 'regulate': 0, '1952': 0, 'lawsits': 0, '#red': 0, 'smd': 0, 'implements': 0, 'speedy': 0, 'deportaton': 0, \"syria's\": 0, 'years-old': 0, 'travelers': 0, 'accomplish': 0, 'point---the': 0, 'world.are': 0, 'render': 0, '2400mhz': 0, '#savescotus': 0, 'mil': 0, 'consitution': 0, 'hoo': 0, '1997': 0, 'reception': 0, '#earthwormjim': 0, '#brexitnow': 0, 'applauds': 0, 'nicky': 0, 'fiance': 0, 'verge': 0, 'translation': 0, 'alleviate': 0, 'wylin': 0, 'kadaga': 0, 'currency': 0, 'reelected': 0, 'cohorts': 0, 'leidse': 0, 'reda': 0, 'twee': 0, 'weken': 0, 'langer': 0, '#pitbulls': 0, 'camouflage': 0, 'unamericans': 0, '2017.unhcr': 0, '#endchainmigrationinsist': 0, '#endillegalbirthrightcitizenship1': 0, '☠': 0, 'learnt': 0, 'obv': 0, 'rom': 0, 'atacks': 0, 'blinded': 0, 'deciding': 0, 'entices': 0, 'involuntary': 0, 'solar': 0, 'panels': 0, 'alligatorsand': 0, 'nuns': 0, 'gracebut': 0, '#buildthat': 0, 'cinco': 0, 'it.we': 0, 'rememberamnesty': 0, 'mournful': 0, 'highlighting': 0, '#bullshit': 0, '#gtfo': 0, '🚫': 0, '#trash': 0, '#batshitcrazy': 0, '#undocumentediscriminal': 0, 'excess': 0, 'discusting': 0, '🎂': 0, 'heardand': 0, 'tee': 0, 'eastwards': 0, 'kilspindie': 0, 'muirfield': 0, 'women.however': 0, 'harasment.so': 0, 'lonley': 0, 'country--but': 0, 'mayo': 0, '#redwaverising': 0, '#buildthatwallthis': 0, 'insensitivity': 0, 'first-hand': 0, 'nrpf': 0, 'thirst': 0, 'abandonment': 0, 'crueler': 0, 'disincentivizing': 0, 'manipulate': 0, 'lollll': 0, 'emmanuelle': 0, 'relinquish': 0, 'larges': 0, 'obomber': 0, 'effecting': 0, 'inundated': 0, 'assisted': 0, 'anime': 0, 'walkimg': 0, '#burtreynolds': 0, 'cruelly': 0, 'consistently': 0, '#woodyallen': 0, '#trap': 0, 'osama': 0, 'specialforces': 0, '#tuitsimikefueradelghetto': 0, 'cite': 0, 'developed': 0, '#feminized': 0, '#feminization': 0, '#feminizer': 0, '#traps': 0, 'mcm': 0, '#crossdresser': 0, '#femboy': 0, '#trans': 0, '#dildo': 0, '#mtf': 0, '#futanari': 0, '#cocksucker': 0, 'disappoint': 0, 'unfunny': 0, 'hartley': 0, 'ejaculates': 0, 'brewer': 0, 'tiki': 0, 'taka': 0, '1983': 0, 'depressing': 0, 'exercise': 0, 'tere': 0, '#maga2018if': 0, 'amplifying': 0, '#campaignfinance': 0, 'nonpartisan': 0, 'ideals': 0, '#morocco': 0, 'counselling': 0, 'distort': 0, 'manual': 0, 'blue-collar': 0, 'white-collar': 0, 'quilty': 0, 'behaviour': 0, 'home.it': 0, 'hobbies': 0, 'government-should': 0, 'pompeo': 0, 'tops': 0, 'throbbing': 0, 'knot': 0, 'emailâ': 0, 'rsheehy@wr.org': 0, 'seekibg': 0, 'schneider': 0, 'doc': 0, 'recite': 0, 'groups-not': 0, 'prayers': 0, 'oakland': 0, \"mayor's\": 0, '#progressivepolicies': 0, '#thereismoreofthemoutthere': 0, 'žwestern': 0, 'pastand': 0, 'historionome': 0, 'blaire': 0, 'languishing': 0, 'reluctant': 0, 'hayes': 0, 'ransomed': 0, 'noway': 0, '386': 0, 'shree': 0, 'saryu': 0, 'trek': 0, 'cathedral': 0, 'championed': 0, 'boys.this': 0, 'hollywoods': 0, 'cable': 0, 'pbs': 0, 'regionally': 0, 'ts': 0, 'run-down': 0, 'video-hey': 0, '90,000': 0, '#repealobamacare': 0, 'innocence': 0, 'dried': 0, 'nicer': 0, 'punitive': 0, '1956': 0, 'sin': 0, 'berate': 0, 'incessantly': 0, 'knowin': 0, 'specifics': 0, 'priyanka': 0, 'bhatt': 0, 'perpetrates': 0, 'leeches': 0, 'long-overdue': 0, 'rockin': 0, 'perpetual': 0, 'depended': 0, 'escorting': 0, 'wondered': 0, 'rebuked': 0, '30,000': 0, 'migrants.india': 0, 'hel': 0, '#follow': 0, 'thuggery': 0, 'summary': 0, 'mercilessly': 0, 'scorching': 0, 'mishandled': 0, \"vicar's\": 0, 'organised': 0, 'ukip': 0, 'dup': 0, 'businessman': 0, 'lamer': 0, 'erisios': 0, 'stopttipceta': 0, '@everian777': 0, \"bf's\": 0, 'hub': 0, 'migrants.pl': 0, 'lg': 0, 'ims': 0, \"algeria's\": 0, 'seasons': 0, 'seperated': 0, 'confesses': 0, 'mummies': 0, 'union-tribune': 0, '#stopjailingchildren': 0, 'pechtold': 0, 'misses': 0, 'calculated': 0, 'tessa': 0, 'tony': 0, '#indonesian': 0, 'lt': 0, 'packaging': 0, 'strategically': 0, 'bloodied': 0, 'mobos': 0, 'default': 0, 'frequency': 0, 'pronouncements': 0, 'animation': 0, 'llegals': 0, 'figure.eu': 0, 'enoughof': 0, '2putin': 0, 'deserts': 0, 'safety.to': 0, '2grow': 0, 'hard-earned': 0, 'getman': 0, 'pineapplecity': 0, 'dogwhoreowner': 0, '#10': 0, 'tesco': 0, '300.00': 0, 'gels': 0, 'tastes': 0, 'strangled': 0, 'comparable': 0, 'winds': 0, 'storm-surge': 0, 'sidestep': 0, 'floss': 0, 'juices': 0, 'covers': 0, 'dividedðÿ': 0, '7.30': 0, 'confrontations': 0, 'two.nothing': 0, 'nordic': 0, 'granddad': 0, '#correct': 0, '#cair': 0, 'traumatizes': 0, 'lucy': 0, 'conked': 0, 'surrey': 0, \"jane's\": 0, 'handbag': 0, 'easterner': 0, 'bearing': 0, 'two-hour': 0, 'vehemently': 0, 'tenure': 0, 'newton': 0, 'rwanda': 0, 'howðÿ': 0, '¿': 0, 'succeeding': 0, 'contracts': 0, 'unto': 0, 'hardie': 0, 'maim': 0, 'garth': 0, 'ozil': 0, 'harpo': 0, 'routine': 0, 'maury': 0, 'cast': 0, 'bitty': 0, '≠': 0, 'raheem': 0, 'kasam': 0, 'commandos': 0, 'foiling': 0, 'stockpiling': 0, 'ricin': 0, 'murty': 0, 'for-profit': 0, 'yesterdays': 0, 'ligma': 0, 'overlook': 0, 'soft-peddle': 0, 'intentional': 0, 'animosity': 0, 'gamertag': 0, 'platoon': 0, 'depths': 0, 'foreskins': 0, '#triggered': 0, 'ever-expanding': 0, '#idiots': 0, 'label': 0, 'labe': 0, '#africanculture': 0, 'pathetically': 0, 'casts': 0, 'delusional': 0, '#foia': 0, 'shrapnel-packed': 0, 'balloon': 0, 'institutions': 0, 'taps': 0, '#deporttheillegalcanadianstoo': 0, '15m': 0, '#nyhitsradio': 0, 'mustard': 0, 'sand': 0, 'lifes': 0, 'ellen': 0, 'degeneres': 0, 'vocal': 0, 'irritate': 0, \"dept's\": 0, 'appreciating': 0, 'potter': 0, 'harrisburg': 0, 'virginiawe': 0, 'nativ': 0, 'ranch': 0, '#makepoliogreatagain': 0, 'checkpoint': 0, 'laxative': 0, \"vet's\": 0, 'sacrificed': 0, 'dubs': 0, 'dares': 0, '#nohr392until': 0, '#endallvisas': 0, 'h1b': 0, 'h2b': 0, 'jazeera': 0, 'willingly': 0, 'apologists': 0, '#bansh': 0, '#mmigration': 0, 'sb4': 0, 'longs': 0, 'hugger': 0, 'hoops': 0, 'mariah': 0, 'pariah': 0, 'parasite': 0, '#security': 0, 'benefiting': 0, 'relations': 0, 'traditionalism': 0, 'contagious': 0, 'strtched': 0, 'fucku': 0, 'belarus': 0, 'h20': 0, '1940s': 0, 'bashed': 0, 'prowhite': 0, 'greeted': 0, 'desires': 0, 'parade': 0, 'nyer': 0, 'prideful': 0, 'lzzzzzzzz': 0, '611': 0, 'africabut': 0, 'contrary': 0, '#destroyeurope': 0, 'dressin': 0, 'criminalize': 0, 'muslins': 0, 'stfukthxbai': 0, 'not-many': 0, '20yrs': 0, 'pulse': 0, 'lad': 0, '#10tv': 0, \"teenager's\": 0, 'genitals': 0, '1882': 0, \"illegal's\": 0, 'sits': 0, '5-8': 0, 'distinguished': 0, 'presenters': 0, 'tapestry': 0, 'kennels': 0, '#incrediblystupid': 0, 'w-migrant': 0, 'departed.finland': 0, '#musliminvasion': 0, 'muhammed': 0, 'scandanavain': 0, '#data': 0, 'opposing': 0, 'someplace': 0, 'desperation': 0, 'fac': 0, 'jats': 0, 'rajputs': 0, 'de-duplicate': 0, '#twitter': 0, 'scrapes': 0, 'suspecting': 0, 'tweetstorm': 0, '#boydott': 0, 'golddiggers': 0, 'absentee': 0, 'dual': 0, 'mainline': 0, 'dodo': 0, 'minnestastan': 0, '500,000+': 0, 'entertain': 0, 'user': 0, 'groping': 0, 'equates': 0, 'gassing': 0, \"houston's\": 0, '#globalcities': 0, '#missions': 0, 'rai': 0, 'outcry': 0, '#nobannowall': 0, 'nation.schneider': 0, 'cringey': 0, 'http': 0, 'ree': 0, '#lovejihad': 0, 'žmoscow': 0, 'pressuring': 0, 'regime.it': 0, 'blackmail': 0, 'dopes': 0, 'bred': 0, 'bows': 0, '@horstseeehofer': 0, '#thursdaymusing': 0, 'heappened': 0, '49er': 0, 'jailing': 0, '#noh4ead': 0, 'appearance': 0, 'readies': 0, '#12746': 0, '#stfu': 0, '#comingtoamerica': 0, 'getter': 0, '#asylumcase': 0, '#granted': 0, 'rohangyas': 0, 'cowed': 0, 'class.deport': 0, 'migrantswhy': 0, 'one-man': 0, 'comedic': 0, 'standoffish': 0, 'pinning': 0, '#primevideo': 0, 'crackhead': 0, 'detest': 0, 'reviled': 0, 'totaled': 0, 'politifact': 0, 'strung': 0, 'msnbc': 0, 'marion': 0, 'barry': 0, 'trusting': 0, \"migran'ts\": 0, 'bobbitt': 0, 'drinkin': 0, 'disguise': 0, 'comrade': 0, 'undefended': 0, 'wae': 0, 'annoyed': 0, 'mong': 0, '#mrshan': 0, '#tvnews': 0, 'allowng': 0, 'collaboration': 0, 'cost-effective': 0, 'orientation': 0, 'headmaster': 0, 'bonded': 0, 'stupidly': 0, 'programmed': 0, 'damsels': 0, 'distress': 0, 'souveranity': 0, 'investing': 0, 'protectionism': 0, 'slowly': 0, 'shithole.you': 0, 'reacted': 0, 'gronk': 0, 'troubling': 0, 'whence': 0, '#article4section4': 0, 'atds': 0, 'quicker': 0, '#tv': 0, '#dncvoterfraud': 0, '#indie': 0, 'self-identifies': 0, 'columnist': 0, 'josh': 0, 'leib': 0, 'sustain': 0, 'substantial': 0, '20k': 0, '#dishonestleft': 0, 'inflames': 0, '#weallknewit': 0, 'remix': 0, 'wiked': 0, '@dom877': 0, '120k': 0, 'terrorist-funding': 0, '#endbirthrightcitizenshipforillegalaliens': 0, 'fists': 0, 'centuries': 0, 'aslyum': 0, '#shutitdown': 0, '#legalimmigrants': 0, \"atlanta's\": 0, 'reprehensible': 0, \"couple's\": 0, 'conviction': 0, 'wingman': 0, 'bunned': 0, 'fend': 0, 'warzone': 0, 'ms.ginsburg': 0, '#atlantadetentioncenter': 0, 'cadillac': 0, 'eg': 0, 'readily': 0, 'humiliates': 0, 'destructive': 0, 'light-hearted': 0, 'islamophobic': 0, '#r4today': 0, '12p': 0, 'supervisor': 0, '#votedemout2018': 0, 'butcher': 0, 'vine': 0, 'oakeshott': 0, 'moir': 0, '#torysleaze36': 0, '#smokingwomensuck': 0, 'legitimatly': 0, 'zootopia': 0, 'devour': 0, 'pitches': 0, 'shuttle': 0, 'penalizing': 0, 'mexi': 0, 'shitmouth': 0, 'redskin': 0, 'peice': 0, 'volunteered': 0, 'goodmorning': 0, 'chauffeur': 0, 'friggin': 0, '#thestorm': 0, 'cleaning': 0, 'bullshit.you': 0, '#yodermustgo': 0, 'baboons': 0, 'edwin': 0, 'indianapolis': 0, 'colts': 0, 'linebacker': 0, \"whore's\": 0, 'antarctica': 0, 'home.space': 0, 'inserting': 0, 'jobs.you': 0, 'rico.good': 0, 'mik': 0, 'tweeter': 0, '#endcatchandreleash': 0, '#defundsantuarycities': 0, 'putrid': 0, 'moon': 0, 'flouting': 0, 'endorsement': 0, '#liberalismisamentaldisease': 0, 'gtfoh': 0, 'floated': 0, 'bypass': 0, 'curtailing': 0, 'enhance': 0, 'entrepreneurship': 0, 'buffoons': 0, '#goonswithguns': 0, '#magathis': 0, 'facist': 0, 'phrases': 0, 'deprived': 0, 'incoherent': 0, 'bureaucratic': 0, 'jag': 0, 'breakthrough': 0, 'hotdogs': 0, 'wacko': 0, 'pothe': 0, '#guaranteeclause': 0, 'swore': 0, 'birthplace': 0, 'mains': 0, '#ms13one': 0, 'uplifting': 0, 'discourse': 0, 'lawmaker': 0, 'oren': 0, 'hazan': 0, 'amazed': 0, 'folk': 0, 'restart': 0, 'continually': 0, '#noh1b': 0, '#nocatch': 0, 'releaseillegal': 0, 'louisiana': 0, 'unsuccessfully': 0, 'mustafa': 0, '#andrewgillum': 0, 'home.let': 0, 'islamic-inspired': 0, 'outlander': 0, 'favorable': 0, 'eight-year-old': 0, '#conservatives': 0, 'displayed': 0, 'uninformed': 0, 'poorly': 0, 'libtards': 0, 'accomplished': 0, 'moynihan': 0, 'cocktails': 0, '#drawandquarter': 0, '#draft': 0, '#immigrationmoratorium': 0, '#endthebirthrightscam': 0, '#fundthewholewall': 0, '#triplewall': 0, '#nationalcastledoctrine': 0, '#advertising': 0, '#reviews': 0, 'petsmart': 0, 'absence': 0, 're-occupy': 0, 'kooks': 0, 'placide': 0, 'engrossed': 0, 'ego': 0, 'ena': 0, 'bettys': 0, 'fusion': 0, 'materialistic': 0, 'leisure': 0, '🕶': 0, '#ofaction': 0, 'backward': 0, 'recovers': 0, 'deceased': 0, 'bcso': 0, 'subjects': 0, 'separatedâ': 0, 'cleaned': 0, 'originating': 0, 'culturally': 0, 'limitless': 0, 'uyes': 0, '#lowwages': 0, '31': 0, '#trumpwho': 0, 'moview': 0, 'donnie': 0, 'grades': 0, 'cked': 0, 'flabby': 0, 'skinsuit': 0, 'sneakin': 0, 'herion': 0, 'etcplease': 0, 'proving': 0, 'mas': 0, \"wrc's\": 0, 'hardline': 0, 'petrol': 0, 'pol': 0, 'delight': 0, 'thrive.you': 0, 'oroh': 0, 'wr': 0, 'facetune': 0, 'ツ': 0, 'snowing': 0, 'shoveling': 0, 'furness': 0, 'centralheavily': 0, 'hearted': 0, '#britainread': 0, 'fraud--it': 0, 'permeates': 0, 'natalia': 0, 'sunny': 0, 'sylvester': 0, 'toothbrush': 0, 'mistaken': 0, '#ahmedhussen': 0, 'pearson': 0, 'sheila': 0, 'wreck': 0, 'human-rights': 0, 'occurred': 0, '#lhhhreunion': 0, 'somaliland': 0, 'oooooohh': 0, \"dm's\": 0, \"convo's\": 0, 'uptick': 0, 'lana': 0, 'dey': 0, 'econ': 0, 'breakers': 0, 'steam': 0, 'laezye': 0, 'musika': 0, '#stress': 0, 'diluting': 0, '#values': 0, '#culture': 0, '@barackobama': 0, 'contrast': 0, 'contribution': 0, '#massincarceration': 0, 'shirking': 0, 'bothers': 0, 'ingrham': 0, 'stabs': 0, 'invalley': 0, 'merienda': 0, 'siopao': 0, 'elyu': 0, '😢': 0, 'slaughter': 0, 'goat': 0, 'rename': 0, 'passengers': 0, 'sad.religion': 0, 'blob': 0, 'partially': 0, 'flattening': 0, 'wtc': 0, 'harbor': 0, 'misogynists': 0, 'vociferous': 0, 'fuccin': 0, 'first.adovcating': 0, 'kuz': 0, 'brotherhood': 0, 'heavily': 0, '#shiraziimmigrationlaw': 0, '#atlantaimmigrationattorney': 0, '#immigrationlaw': 0, '#atlantaattorney': 0, '#detentioncenter': 0, 'gq': 0, 'kkkrumpnazi': 0, 'inequality': 0, 'afro-descended': 0, 'burberry': 0, 'commitments': 0, 'correcting': 0, 'as-simulating': 0, 'afm': 0, 'jurgen': 0, 'maxed': 0, 'modern': 0, 'mixtapes': 0, 'steinem': 0, 'gloria': 0, 'rapping': 0, 'wendy': 0, 'drudge_report': 0, '#ycot': 0, '#conservative': 0, 'raging': 0, 'cookout': 0, 'pei': 0, 'brawl': 0, 'socked': 0, 'vomited': 0, 'punching': 0, 'costumes': 0, \"nigeria's\": 0, 'borno': 0, '#bookswithalettermissing': 0, 'alia': 0, 'saudi-irish': 0, 'framed': 0, 'hellholes': 0, 'advocacting': 0, 'vag': 0, 'coconut': 0, 'puttin': 0, '#deplorable': 0, 'religions': 0, 'disembarkation': 0, 'indefinitely': 0, 'atrocious': 0, 'phelix': 0, '#proudconservative': 0, '#truthispower': 0, '#searchfortruth': 0, '#drainthatswamp': 0, 'consequent': 0, '#wwg1wwga': 0, 'anxious': 0, 'reunion': 0, 'sapphire': 0, 'antonio-fort': 0, 'abruptly': 0, 'steak': 0, 'rice': 0, 'tunis': 0, 'lea': 0, 'ramirez': 0, '3ha': 0, '#trumpforever': 0, '#godblesspo': 0, 'tidy': 0, 'jf': 0, 'walahi': 0, 'mna': 0, 'lsa': 0, 'basm': 0, 'm3rfsh': 0, '#son-in-law': 0, 'influenced': 0, 'wala': 0, 'sudfa': 0, 'this.get': 0, 'no-one': 0, 'cautioned': 0, 'defeat': 0, 'pocahontas': 0, '#democratskilledmollietibbetts': 0, 'knapp': 0, 'develops': 0, 'enabler': 0, 'interalized': 0, 'tides': 0, 'measured': 0, 'comparison': 0, '10.7': 0, 'underground': 0, 'merge': 0, '#fakestate': 0, 'oppressive': 0, 'nolo': 0, 'regimes': 0, \"florida's\": 0, 'private-prison': 0, 'boca': 0, \"raton's\": 0, 'culpable': 0, 'docile': 0, 'reas': 0, 'crawlers': 0, 'revisit': 0, 'thailand': 0, 'sebastian': 0, 'stalkin': 0, \"bae's\": 0, \"#eritrea's\": 0, 'turmoil': 0, 'raked': 0, 'routinely': 0, 'whereas': 0, 'recruitment': 0, 'gorka': 0, 'labeling': 0, 'tirade': 0, 'col': 0, 'macgregor': 0, 'questioning': 0, 'resignation': 0, 'flexible': 0, 'doing.denying': 0, 'inter': 0, 'grief': 0, 'slob': 0, 'medial': 0, '#cbc': 0, '#makemeasandwich': 0, 'presentation': 0, 'teresita': 0, 'wisell': 0, 'cons': 0, 'array': 0, 'devided': 0, 'trith': 0, '#chinaspacestation': 0, 'fella': 0, 'espn': 0, 'autotune': 0, 'drastic': 0, 'reclaim': 0, 'hijacked': 0, 'moronic': 0, 'vive': 0, '#fifa': 0, 'annihilation': 0, 'agitators': 0, '#youhavetogoback': 0, 'day-lewis': 0, 'robert': 0, 'deniro': 0, 'tribeca': 0, '#sensationalwip': 0, 'carter': 0, 'antag': 0, 'psychiatric': 0, '1899': 0, \"antag's\": 0, 'keon': 0, '1:04': 0, '📚': 0, '#amwriting': 0, 'chim': 0, 'inspirations': 0, 'winging': 0, 'sw': 0, 'boon': 0, '#freeassabge': 0, 'eyein': 0, 'unjustly': 0, 'vega': 0, 'slander': 0, 'unconscionable': 0, 'spite': 0, 'repeated': 0, '#abolishdhs': 0, 'jisoo': 0, 'bla': 0, 'darlene': 0, 'denounces': 0, 'meechy': 0, 'chancellor': 0, '#opioidcrisis': 0, '#drugsmugglers': 0, '#humansmugglers': 0, 'trainee': 0, 'peanuts': 0, '#actionspeaksvolumes': 0, '#honortheflag': 0, '@senwarren': 0, 'massachusetts': 0, '#sendiehl': 0, 'riches': 0, 'fortress': 0, 'way.it': 0, 'crim': 0, \"std's\": 0, 'closet': 0, 'phat': 0, 'assed': 0, 'rags': 0, 'liability': 0, 'verhofstadt': 0, 'soros-backed': 0, 'viewers': 0, \"woman's\": 0, 'makassar': 0, '155': 0, 'yuge': 0, 'bigly': 0, 'steaks': 0, 'unfamiliar': 0, 'menu': 0, 'parasitic': 0, 'cnnpolitics': 0, 'proposing': 0, 'extremism': 0, 'feedback': 0, 'drunks': 0, 'barrier': 0, 'overstays': 0, 'self-deportations': 0, '#commonsensesolutions': 0, '#protectfloressettlement': 0, 'impending': 0, '#bestinterestofthechild': 0, 'nando': 0, 'sigona': 0, '@housedemocrats': 0, '2those': 0, 'supporters-these': 0, '2b': 0, 'insteadof': 0, 'melt': 0, 'deficit': 0, '#huaweiy7prime': 0, 'inðÿ': 0, 'centers.europe': 0, 'territoryðÿ': 0, 'back-door': 0, 'electionðÿ': 0, 'landscape.when': 0, 'lunatics': 0, 'brno': 0, 'yapping': 0, '§': 0, 'goddammit': 0, 'elsewhere': 0, 'westeu': 0, 'kaepernick': 0, 'sacrifice': 0, 'yadayada': 0, 'sacrificing': 0, 'nagar': 0, 'nights': 0, 'busting': 0, 'syrien': 0, 'spending.now': 0, 'globalizat': 0, 'expec': 0, '#bozobeto': 0, 'legalizing': 0, 'informant': 0, 'machete': 0, '#vetobeto': 0, '#keeptexasred': 0, '#choosecruz': 0, 'bacon': 0, 'bloc': 0, '#nodeals': 0, 'moreover': 0, '850': 0, 'alone.we': 0, 'sounding': 0, '#treasontrials': 0, 'shades': 0, 'grey': 0, 'elly': 0, '#huaweimobilenepal': 0, '#wrwy': 0, 'swimming': 0, 'dissimilar': 0, '1932': 0, 'redwood': 0, 'meddle': 0, 'legislate': 0, '1776': 0, 'emulating': 0, '1984': 0, 'vibin': 0, 'colonialism': 0, 'rainbow': 0, 'bib': 0, 'anita': 0, 'equating': 0, 'gamergate': 0, 'cosby': 0, 'kobe': 0, 'bryant': 0, 'noise.the': 0, 'tales': 0, '380k': 0, '#thanq': 0, 'gamut': 0, '#womenwhoroar': 0, 'knowwwwww': 0, 'buildthatwall': 0, 'discredits': 0, 'flopper': 0, 'jugs': 0, 'polk': 0, '10k': 0, 'deafening': 0, 'prettiest': 0, 'hawks': 0, 'gofuckyersel': 0, '1800s': 0, 'punchline': 0, 'ex-teacher': 0, 'brief': 0, 'kc': 0, 'induced': 0, 'echo': 0, 'y7': 0, '2ice': 0, 'contradicted': 0, 'non-fiction': 0, 'normalcy': 0, 'algerian': 0, 'lac': 0, 'pèche': 0, 'similarities': 0, '1-866-': 0, '347-2423': 0, 'gump': 0, 'swarming': 0, 'socialfaresystem': 0, '#renewdaca': 0, 'reflecting': 0, 'woma': 0, 'undercover': 0, '3gb': 0, 'huawei': 0, '#happynewyear': 0, 'crashers': 0, 'chamber': 0, 'nationaleâ': 0, 'yoder': 0, 'prof': 0, 'contributeur': 0, 'le': 0, 'fã': 0, 'minisme': 0, 'dans': 0, 'ducation': 0, 'criture': 0, '#illegalbehavior': 0, 'inclusive': 0, 'immigrationnisme': 0, 'maleâ': 0, '#immigrationban': 0, '#brexitborder': 0, '#brexiteer': 0, '#brexitgoodnews': 0, '#brexitchaos': 0, 'hugh': 0, 'mexiko': 0, 'supporter.cunt': 0, 'twitter.you': 0, 'middle-class': 0, 'daycare': 0, 'amber': 0, 'pedos': 0, 'anna': 0, 'naughty': 0, 'cok': 0, 'weirdoes': 0, 'geeked': 0, 'chart': 0, 'frontal': 0, 'stylist': 0, 'waaay': 0, 'restriction': 0, 'fairly': 0, 'irresistible': 0, 'hangovers': 0, 'non-western': 0, 'kickbacks': 0, '#wakeupalabama': 0, 'entertaining': 0, 'gossip': 0, 'jay': 0, 'hind': 0, 'climacteric': 0, 'understandable': 0, 'networking': 0, 'misrepresented': 0, 'mentioning': 0, 'thanksgiving': 0, 'woow': 0, '#stoptheinflux': 0, 'cigaret': 0, 'suke': 0, 'densely': 0, '#ohyes': 0, '#startnoticing': 0, 'rthe': 0, 'undo': 0, '#stopmusliminvation': 0, \"a's\": 0, 'idlewilder': 0, '#nodacaillegal': 0, 'untill': 0, '#whereareallthemissingchildren': 0, '#thesepeopleshouldbehanbging': 0, '#justice': 0, '#fulldisclosre': 0, 'namo': 0, 'gutts': 0, 'hence': 0, 'nicaraguan': 0, 'vid': 0, '#theseboneswillriseagain': 0, 'cuisinart': 0, '@medeabenjamin': 0, 'risked': 0, 'crisscrossed': 0, 'month.shocking': 0, 'immigrants.most': 0, 'areas.no': 0, 'wailing': 0, '#wherearethechildren': 0, 'develop': 0, 'brewster': 0, 'passenger': 0, 'bienvenidos': 0, 'karibu': 0, 'dorrien-christians': 0, '50m': 0, 'environmental': 0, '4,697': 0, 'polices': 0, 'restrictive': 0, 'harlingen': 0, 'mentors': 0, 'dallas': 0, 'measles': 0, 'horrors': 0, 'facials': 0, 'ayn': 0, 'odin': 0, 'permanant': 0, 'imprint': 0, 'booked': 0, 'alreadybad': 0, 'servicemembers': 0, 'mana': 0, 'squirt': 0, 'naga': 0, '#bbcbreakfast': 0, 'cunt.you': 0, 'ferocious': 0, '#socialismkills': 0, '#elite': 0, 'invenezuela': 0, 'yegani': 0, 'hydro-electric': 0, 'committ': 0, 'contract': 0, '#cesarchavez': 0, '#wetlinemarch': 0, 'celebrated': 0, 'cesar': 0, 'federica': 0, 'mogherini': 0, 'sales': 0, 'exports': 0, 'two-thirds': 0, '#stopopenborders': 0, 'sop': 0, '#realvoterid': 0, 'fatter': 0, '5x': 0, 'hubbie': 0, 'git': 0, 'catapulting': 0, '#deportbycatapulting': 0, 'nyt': 0, \"norway's\": 0, 'country.if': 0, '#granniesrespond': 0, 'nag': 0, 'minuscule': 0, '#schizo': 0, 'janitor': 0, 'seized': 0, 'rooted': 0, 'logs': 0, '#wedemandaccountability': 0, 'bosnia': 0, 'bogus': 0, 'comprehend': 0, 'overcrowding': 0, 'dental': 0, 'hordes': 0, 'pledge': 0, 'disespect': 0, '#catholiccharities': 0, '619 231-2828': 0, 'waive': 0, '#grenzendicht': 0, 'twatch': 0, 'hatful': 0, 'dou': 0, '#fighttheleft': 0, '#beheard': 0, '#beheardbeseen': 0, '#thelastpost': 0, '75m': 0, 'dishwasher': 0, '#westernworld': 0, '#womenforjustice': 0, '@chuckschumer': 0, 'atypical': 0, 'dozen': 0, 'counter-protesters': 0, 'wellcome': 0, 'onâ': 0, '#preventabledeaths': 0, '@thedemocrats': 0, '@kamalaharris': 0, '@nancypelosi': 0, '#oceans': 0, '@corybooker': 0, '@ocasio2018': 0, 'janis': 0, 'lesslabor': 0, '#goldmenschen': 0, '#merkelgeschenke': 0, '#ocean': 0, 'polluting': 0, 'waaaahhhh': 0, 'stereotype': 0, 'gun-ownership': 0, '#trumpublicans': 0, '#freeourfuture': 0, '#shutdownsesions': 0, '3.4': 0, '5.30': 0, 'poorer': 0, 'alowing': 0, 'lefts': 0, '#fakepresident': 0, 'syriaðÿ': 0, '#heyburnnine': 0, 'afghanistanðÿ': 0, 'sudanðÿ': 0, 'myanmarðÿ': 0, 'somaliaimagine': 0, 'behold': 0, 'aliens.sooner': 0, 'ihra': 0, 'anti-semitism': 0, 'louisivillians': 0, '@jeffcoattyky': 0, 'allat': 0, 'highrisk': 0, 'bln': 0, 'jan-may': 0, '49ers': 0, 'agonizing': 0, 'government-funded': 0, '#keepwomendown': 0, 'nowcentral': 0, 'rosie': 0, 'shoud': 0, 'threatened.do': 0, 'liable': 0, 'psayoure': 0, 'mebecause': 0, '3-4': 0, 'upon.illegal': 0, 'constructions': 0, 'yumuna': 0, 'increased.crime': 0, 'mondoweiss': 0, 'spell': 0, 'entail': 0, 'uproots': 0, 'selvam': 0, 'posssble': 0, '#llld': 0, 'suttin': 0, 'cbp': 0, 'swallowed': 0, 'wrecked': 0, 'ther': 0, 'provider': 0, 'putus': 0, \"gop's\": 0, 'rus': 0, 'anti-women': 0, 'anti-gay': 0, 'liberties': 0, 'billionaires': 0, 'downside': 0, 'righties': 0, 'tunang': 0, 'rasa': 0, 'sext': 0, '#timemagazine': 0, 'dumbfuck': 0, 'qualifier': 0, 'path': 0, 'pram': 0, 'protein': 0, 'spielberg': 0, '#richardspenceruf': 0, '#usnavy': 0, '#bieber': 0, 'faggoty': 0, 'moody': 0, 'tacos': 0, 'conclusion.buddy': 0, 'migrants.just': 0, 'yamuna': 0, 'jmsjd': 0, 'diarrhea': 0, 'coon': 0, 'transfers': 0, 'norm.immigration': 0, 'terms--or': 0, '@yourfuckbo': 0, 'brett': 0, 'butler': 0, 'lukakwho': 0, 'loans': 0, 'thiers': 0, 'hails': 0, 'crawling': 0, 'yfb': 0, '#teacher': 0, 'metal': 0, 'relies': 0, '#music': 0, '#students': 0, '🎶': 0, '#musiceducation': 0, '#musicmakesadifference': 0, \"when're\": 0, 'bride': 0, 'gif': 0, 'magnet': 0, '#honeymoonpoon': 0, 'child-friendly': 0, 'reward': 0, 'illeagals': 0, 'boobed': 0, 'lowkey': 0, 'disqualify': 0, 'simples': 0, 'tackling': 0, 'governent': 0, 'procedures': 0, 'fridge': 0, 'comfortablelong': 0, 'autumn': 0, 'tassel': 0, 'pullover': 0, 'shah': 0, 'alcoholics': 0, \"culture's\": 0, '#emilia': 0, 'pounded': 0, 'cuffing': 0, 'anomalies': 0, '#censo': 0, '#freemapache': 0, '#intuition': 0, '#libyancampmore': 0, '#novisalotte': 0, '#firstoftheyear': 0, '#firstofmany': 0, '#mickeyhaslowt': 0, '#colombian': 0, 'in-the-flesh': 0, \"mama's\": 0, 'bringin': 0, 'sree': 0, 'skrewdriver': 0, 'skrewed': 0, 'ebeling': 0, '#stem': 0, 'teenager': 0, 'annapolis': 0, 'activism': 0, 'ethanol': 0, 'nahh': 0, '#theorville': 0, '#myasu': 0, 'postin': 0, 'smurf': 0, 'troglodyte': 0, 'celebrity': 0, 'frets': 0, 'lurks': 0, 'africanâ': 0, 'logistics': 0, '❜': 0, 'sacking': 0, 'footing': 0, 'appropriately': 0, 'accordingly': 0, 'fulfilling': 0, 'wk': 0, '🙁': 0, '❛': 0, 'instilled': 0, 'grandparents': 0, 'sheriffs': 0, 'mi6': 0, '#retweeet': 0, 'hasina': 0, 'rights-abusing': 0, 'risky': 0, 'remote': 0, 'marxist': 0, 'gnostic': 0, 'nsa': 0, 'faction': 0, 'exploits': 0, 'free-welfare-money': 0, 'assassins': 0, 'hillz': 0, 'yazidi': 0, 'bowing': 0, 'scraping': 0, 'digty': 0, 'umemployed': 0, 'seizures': 0, '#buildthatwallillegal': 0, 'spineless': 0, 'natures': 0, 'skate': 0, 'flares': 0, 'knuth': 0, 'timed': 0, 'disabilities': 0, 'reputable': 0, '2017.we': 0, 'climatchange': 0, 'fastly': 0, 'mexicowhy': 0, '#trumprally': 0, 'peacefull': 0, '#forza': 0, '#italia': 0, '##nomoreafricans': 0, 'dover': 0, 'crybabies': 0, '#rgv': 0, 'torys': 0, 'dictating': 0, '#vel': 0, '#development': 0, 'stigmatized': 0, 'olga': 0, 'marin': 0, 'farc': 0, '#gvapeaceweek': 0, 'composed': 0, 'high-level': 0, '#trade': 0, 'stunt': 0, '#blogs': 0, 'tyra': 0, 'papers-please': 0, 'compelled': 0, 'xfactor': 0, 'constituion': 0, 'shutting': 0, '#shutthehellupwomen': 0, 'acclimate': 0, '#feedly': 0, 'roof': 0, 'sarc': 0, 'fevered': 0, 'am640': 0, 'tyler': 0, 'inflicting': 0, 'mather': 0, 'watermarks': 0, 'wiped': 0, 'wha': 0, 'fascinating': 0, 'german-americans': 0, 'unpublished': 0, 'wwi': 0, 'broke-assed': 0, 'jizz-hole': 0, 'dashed': 0, 'settin': 0, 'truest': 0, 'dept': 0, 'lying-induced': 0, '36': 0, 'trench': 0, 'recycles': 0, 'deploy': 0, '#endcorporatewelfare': 0, 'copying': 0, 'braids': 0, '#rt4trump': 0, 'homelandsecurity': 0, '4000': 0, 'waterbottles': 0, 'southdesert': 0, '900': 0, '8)': 0, 'xanax': 0, 'ribs': 0, 'cctv': 0, 'servo': 0, 'josevski': 0, 'superstar': 0, 'patience': 0, 'diplomats': 0, '#fairtrade': 0, '#fairtax': 0, 'noticing': 0, 'chiropractic': 0, 'epidemic': 0, 'eminence': 0, 'farrokh': 0, 'sekaleshfar': 0, 'preacher': 0, 'vacaciones': 0, 'guerra': 0, '#arpx': 0, 'association': 0, '#endnafta': 0, 'alumna': 0, 'vilchis': 0, 'latinotech': 0, 'blindsided': 0, 'destitute': 0, 'corollary': 0, '#endhealthcarecartel': 0, '#irandeal': 0, 'kabul': 0, 'damaging': 0, '#ma': 0, 'subvert': 0, 'guyanese': 0, 'ahed': 0, 'tamimi': 0, 'apartheid': 0, 'pro-rapefugee': 0, 'whe': 0, '#welcomerefugees': 0, 'collectively': 0, 'prominent': 0, 'projection': 0, 'remaniac': 0, 'whinge': 0, 'prada': 0, \"marfa's\": 0, 'pagans': 0, '#godie': 0, 'judging': 0, 'greaty': 0, 'sketchy': 0, 'definitively': 0, 'is.so': 0, 'eritreans': 0, 'stoking': 0, 'migrants.ger': 0, '#kurz': 0, 'overreacters': 0, 'bulk': 0, 'cpu': 0, 'ssd': 0, '#liespeopletellthemselves': 0, '#europeansuicide': 0, 'borde': 0, '#migrationisjihad': 0, 'psychologist': 0, 'assailant': 0, \"rome's\": 0, 'fulfil': 0, 'thole': 0, 'referee': 0, 'proceeded': 0, '#bringbackourbordersone': 0, 'horseys': 0, 'jargon': 0, '1425': 0, 'inadequate': 0, 'carbs': 0, 'separte': 0, 'electionplaces': 0, '#borderpatrolthis': 0, 'panty': 0, '6.000': 0, '38.000': 0, '3500': 0, '#multibillion-dollarcriminalnetwork': 0, 'prosecuted.israel': 0, 'exampel': 0, 'hongaarse': 0, 'bloodshed': 0, 'eatin': 0, 'dogging': 0, 'someday': 0, 'immi': 0, 'fueled': 0, 'peers': 0, 'repays': 0, 'waren': 0, 'jaren': 0, 'zeventig': 0, 'heersen': 0, 'grootfamilies': 0, 'binnen': 0, 'georganiseerde': 0, 'misdaad': 0, 'zij': 0, 'eerst': 0, 'jok': 0, 'uit': 0, 'libanon': 0, 'frustrated': 0, 'grid': 0, '#overscared': 0, '#frightmare': 0, '#chrismartin': 0, 'disrespected': 0, 'flaw': 0, 'rankles': 0, 'groãÿfamilien': 0, 'greeceðÿ': 0, 'fledged': 0, 'truthful': 0, 'lolll': 0, 'recognized': 0, 'receives': 0, 'resort': 0, 'raided': 0, 'bestðÿ': 0, 'realistic': 0, 'salad': 0, '@hungary_journal': 0, 'executing': 0, 'cuomo': 0, '#illegalimmigrant': 0, 'buwahahaha': 0, '#moron': 0, 'spade': 0, 'wonde': 0, 'lmaoooooooo': 0, 'deter': 0, 'briana': 0, 'terrorrists': 0, 'thou': 0, 'chilton': 0, 'dangers': 0, 'barbed': 0, 'wire': 0, 'surveillance': 0, 'cameras': 0, 'trespassers': 0, 'moan': 0, 'force-feeding': 0, 'descend': 0, 'humboldt': 0, 'psycho-social': 0, '99.9': 0, 'depiction': 0, 'cretinous': 0, 'ideological': 0, 'inhabits': 0, 'deutschlandsinds': 0, 'clans': 0, 'racing': 0, '#irony': 0, 'excluding': 0, 'jprdan': 0, 'matching': 0, '419': 0, 'condescending': 0, 'recycled': 0, 'rerock': 0, 'honoring': 0, 'hitching': 0, 'mouse': 0, '#migpol': 0, '#svepol': 0, '#unvetted': 0, 'ownership': 0, 'homicides': 0, 'intolerance': 0, 'curving': 0, 'een': 0, 'rodent': 0, '1923': 0, '#sharejourney': 0, 'spices': 0, 'horses': 0, 'handgun': 0, 'steals': 0, 'hitem': 0, 'purse': 0, 'stepson': 0, 'wandering': 0, 'disconnected': 0, 'recall': 0, '#ffardfheis17': 0, 'meter': 0, 'ind': 0, 'blanca': 0, 'oitnb': 0, 'respek': 0, '🐬': 0, 'shielded': 0, 'outed': 0, '#loosewomen': 0, '#migrationmonday': 0, 'kontraste': 0, 'her.jacobin': 0, 'demi': 0, 'ariana': 0, '#fuckit': 0, '#thestressninja': 0, '#lifecoaching': 0, 'fuker': 0, 'letters': 0, 'fork': 0, 'emonic': 0, 'recommendation': 0, 'mob.the': 0, 'demonic.the': 0, '3rdworld': 0, 'billed': 0, '#supportice': 0, '#magaveteran': 0, 'oneway': 0, 'honor-murdered': 0, '75,000': 0, 'rack': 0, 'grabbers': 0, 'somewhere': 0, 'assange': 0, 'colonization': 0, 'cpr': 0, 'english-speaking': 0, '#mohammadshabban': 0, '#healthservices': 0, '#amman': 0, '#gazacity': 0, 'bureaucracy': 0, 'matriarchy': 0, 'nay': 0, 'reunified': 0, 'draws': 0, 'looms': 0, 'incite': 0, 'seize': 0, 'rebel': 0, \"society's\": 0, 'malkin': 0, 'accessible': 0, 'chainsaw': 0, 'surveyed': 0, 'bewildered': 0, 'doomed': 0, 'neen': 0, 'zeman': 0, 'practiced': 0, 'masquerading': 0, 'croatia.europe': 0, '59': 0, 'margin': 0, 'human-elephant': 0, 'engine': 0, 'invent': 0, 'yeast': 0, 'infection': 0, 'halima': 0, 'aden': 0, 'kakuma': 0, 'documentary': 0, 'twitch': 0, 'clay': 0, 'shops': 0, 'ab350m': 0, 'inshallah': 0, 'picker': 0, 'ksu': 0, 'alo': 0, 'operatives': 0, 'educating': 0, 'expressions': 0, 'asrock': 0, 'mobo': 0, 'beyon': 0, 'chug': 0, 'abs': 0, 'hhs': 0, 'imprisonment': 0, 'emoluments': 0, 'clause': 0, 'selective': 0, 'replies': 0, 'vd': 0, 'sixth': 0, 'er': 0, 'yemin': 0, 'done.surpassed': 0, 'appeasement.pushed': 0, 'slum.iillegal': 0, 'over.go': 0, 'jamia': 0, 'trenta': 0, 'liver': 0, '#jcrcinisrael': 0, 'orde': 0, 'baekhyun': 0, 'at-risk': 0, 'viable': 0, 'trafficked': 0, 'assistant': 0, 'bamba': 0, 'boubacar': 0, '#unhcrteamrefugees': 0, '#botswana': 0, 'eomma': 0, 'internecine': 0, \"#ethiopia's\": 0, 'matt': 0, '#dairy': 0, 'milking': 0, 'nurses': 0, 'assistants': 0, '#weinsteingate': 0, '🌵': 0, 'clad': 0, 'upmanship': 0, 'kunkel': 0, 'chairperson': 0, 'brainwashed': 0, '#kavanaghhearing': 0, 'criminalsbritain': 0, 'straining': 0, 'depleting': 0, 'aggression': 0, 'lewis': 0, 'lightweight': 0, 'y7fdhch': 0, '#libtard': 0, 'oakville': 0, 'barricade': 0, 'palyed': 0, 'comedies': 0, '#westham': 0, 'witout': 0, 'batting': 0, 'eyelid': 0, 'informational': 0, 'twerk': 0, 'yats': 0, 'bing': 0, 'mcms': 0, 'li': 0, 'visible': 0, 'sicilian': 0, 'evidently': 0, '#extremvetting': 0, '#nomorenonrepresentatives': 0, '#nomoredemocrats': 0, '#indian': 0, 'creeping': 0, 'encroaching': 0, 'caca': 0, '#preventablecrimes': 0, \"austria's\": 0, 'awakens': 0, 'themselvers': 0, 'kille': 0, 'pampered': 0, 'amateur': 0, 'spur': 0, 'amerikkka': 0, 'fairfax': 0, '#getthefuckon': 0, 'willfully': 0, 'somnabulist': 0, 'sooky': 0, 'discussed': 0, 'state-by-state': 0, '#conference': 0, '#gmu': 0, 'migrated': 0, 'filth.keji': 0, 'wid': 0, 'barriers': 0, 'commiting': 0, 'reenactment': 0, '#deblasio': 0, '#newyorkcity': 0, '#onepercent': 0, '#envyliberal': 0, 'prescription': 0, 'un-american': 0, '#nevervotedemocratagain': 0, 'superbugs': 0, 'knees': 0, 'eggs': 0, 'lid': 0, 'watch--trump': 0, 'sided': 0, 'revival': 0, 'boyy': 0, 'bodied': 0, '#housegop': 0, 'tb': 0, 'surpassed': 0, '#thecommunitysolution': 0, 'bank.check': 0, '1995': 0, 'beefin': 0, '#psychology': 0, '#agentofchange': 0, 'faculty': 0, 'tapped': 0, 'insights': 0, 'accompaniment': 0, 'resistant': 0, 'wed': 0, '6:30': 0, '#adultedumatters': 0, 'cclc': 0, 'tucker': 0, 'carson': 0, 'pavement': 0, 'flyover': 0, 'allen': 0, 'expels': 0, 'resisting': 0, '#racerelations': 0, '53am': 0, 'reunites': 0, '08:31': 0, 'onlywhat': 0, 'refugee.what': 0, 'freely': 0, 'oooooops': 0, '#invasion': 0, 'greenlights': 0, 'officials.fire': 0, '106': 0, 'crombie': 0, '#raped': 0, 'statistical': 0, 'discourage': 0, 'lmaoooo': 0, 'nola': 0, 'bruce-caitlynn': 0, 'pro-amnesty': 0, 'illegals.arrest': 0, '#demons': 0, 'latinos': 0, 'moderated': 0, 'organizers': 0, '#immigrantart': 0, '#immigrantsnyc': 0, 'givernor': 0, 'kansans': 0, 'sway': 0, 'repopulate': 0, 'havr': 0, '#nodacadeport': 0, 'overwelmed': 0, 'atlanta': 0, '#asylumscam': 0, 'danish': 0, 'santuary': 0, 'maulvi': 0, 'venom': 0, 'mexico.no': 0, 'piccs': 0, '#womenaredemons': 0, 'nosepin': 0, 'temper': 0, '#bailforimmigrationdetainees': 0, 'bartender': 0, \"tonight's\": 0, 'playdate': 0, 'protest-planning': 0, \"stacy's\": 0, 'oracle': 0, 'medieval': 0, 'tantrum': 0, '#marktownsend': 0, '#idontcare': 0, 'youtubers': 0, 'everret': 0, '#borrell': 0, 'soon.we': 0, 'sustaining': 0, 'riff-raff': 0, 'ae': 0, '#theobserver': 0, 'do.slow': 0, '#bitchblood': 0, 'tehuti': 0, 'womensuckk': 0, '#retweetthisone': 0, 'accountants': 0, 'disregarded': 0, 'bradley': 0, 'mulled': 0, 'neter': 0, 'verses': 0, 'fisherman': 0, 'parent-child': 0, 'retiring': 0, 'heir': 0, '#sextraffickimg': 0, '#traffickstop': 0, '#bulldthewall': 0, '#endchainmigrationhere': 0, 'molestation': 0, 'employee': 0, 'slipped': 0, 'camouflaged': 0, '#8217': 0, 'songbirds': 0, 'overcoming': 0, 'tumor': 0, 'cras': 0, 'imperil': 0, 'waist': 0, 'portions': 0, 'capitalism': 0, 'stressors': 0, '#brooklyn': 0, '#facesoffounders': 0, 'handcuffed': 0, 'solitary': 0, 'confinement': 0, 'shivering': 0, '#netneutrality': 0, 'underneath': 0, 'defaming': 0, '3103': 0, 'scraps': 0, '#ent4all': 0, '3488': 0, 'premier': 0, 'sgut': 0, 'uglyass': 0, 'boyf': 0, 'yu': 0, 'shitshow': 0, 'sung': 0, 'intend': 0, '#russiagate': 0, 'councillor': 0, '#femalefounders': 0, 'giorgio': 0, 'mammoliti': 0, 'dawn': 0, 'adam': 0, 'vaughan': 0, '#tocouncil': 0, '#topoli': 0, '#voteoutthedems': 0, '3109': 0, 'ay': 0, 'ravaged': 0, 'hobedi@wr.org': 0, \"kuo's\": 0, 'writer': 0, 'overcame': 0, '#asianamerican': 0, '#qwoc': 0, '#femalefilmmaker': 0, '#supportindiefilms': 0, 'navigating': 0, '#guwop': 0, 'becuz': 0, 'gut-wrenching': 0, 'sham': 0, 'englan': 0, '2cthey': 0, '2gain': 0, 'dialogues': 0, 'harressment': 0, 'bash': 0, 'orgies': 0, 'panny': 0, 'sticking': 0, 'commies': 0, 'pests': 0, 'snakes': 0, 'vermin': 0, '#marr': 0, 'presented': 0, '5-10': 0, 'throes': 0, 'louder': 0, '#howdoyoulikeusnow': 0, '#bloodycat': 0, '🤕': 0, 'photoshopped': 0, 'badass': 0, 'romansh': 0, 'weren': 0, 'miaow-miaow-miaow': 0, 'aaaaw': 0, 'food-hole': 0, 'pic.why': 0}\n",
     "output_type": "stream"
    }
   ]
  },
  {
   "cell_type": "code",
   "source": "def MNB_text_format(tokenised):\n    count_vect = CountVectorizer()\n    list_of_stings=res = [' '.join(element) for element in tokenised]\n    X_train_counts = count_vect.fit_transform(list_of_stings)\n    tfidf_transformer = TfidfTransformer()\n    X_train_tfidf = tfidf_transformer.fit_transform(X_train_counts)\n    return X_train_counts",
   "metadata": {
    "tags": [],
    "cell_id": "00103-96017425-54ab-4622-af5e-26d68e4b50e4",
    "deepnote_to_be_reexecuted": false,
    "source_hash": "d9dac791",
    "execution_start": 1620896273024,
    "execution_millis": 34,
    "deepnote_cell_type": "code"
   },
   "outputs": [],
   "execution_count": 117
  },
  {
   "cell_type": "code",
   "source": "    print([X_train_tfidf])\n",
   "metadata": {
    "tags": [],
    "cell_id": "00099-da3c38bb-35fc-45ba-875a-e6251cf8d059",
    "deepnote_to_be_reexecuted": false,
    "source_hash": "f30163de",
    "execution_start": 1620896637501,
    "execution_millis": 24,
    "deepnote_cell_type": "code"
   },
   "outputs": [
    {
     "name": "stdout",
     "text": "[<9000x16678 sparse matrix of type '<class 'numpy.float64'>'\n\twith 165101 stored elements in Compressed Sparse Row format>]\n",
     "output_type": "stream"
    }
   ],
   "execution_count": 127
  },
  {
   "cell_type": "code",
   "source": "#print(X_train_counts)\nprint(MNB_text_format(DATA[\"processed\"][\"hate\"][\"train_text\"]))",
   "metadata": {
    "tags": [],
    "cell_id": "00102-cab1de0b-71df-42d0-a41c-f6030ffee951",
    "deepnote_to_be_reexecuted": false,
    "source_hash": "496afb40",
    "execution_start": 1620896845936,
    "execution_millis": 595,
    "deepnote_cell_type": "code"
   },
   "outputs": [
    {
     "name": "stdout",
     "text": "  (0, 1119)\t1\n  (0, 1628)\t1\n  (0, 2405)\t1\n  (0, 3219)\t1\n  (0, 3622)\t1\n  (0, 3644)\t1\n  (0, 7262)\t1\n  (0, 10114)\t1\n  (0, 10147)\t1\n  (0, 10306)\t1\n  (0, 10540)\t1\n  (0, 13455)\t1\n  (0, 14294)\t1\n  (0, 15711)\t1\n  (0, 16590)\t2\n  (1, 3191)\t1\n  (1, 4236)\t1\n  (1, 6061)\t1\n  (1, 6996)\t1\n  (1, 7885)\t1\n  (1, 8369)\t1\n  (1, 9863)\t1\n  (1, 12957)\t1\n  (1, 13640)\t1\n  (1, 13949)\t1\n  :\t:\n  (8998, 15185)\t1\n  (8998, 15489)\t1\n  (8998, 15521)\t1\n  (8998, 15711)\t6\n  (8999, 1446)\t1\n  (8999, 1749)\t1\n  (8999, 1860)\t1\n  (8999, 1934)\t1\n  (8999, 3113)\t1\n  (8999, 3417)\t1\n  (8999, 6071)\t1\n  (8999, 6320)\t2\n  (8999, 6936)\t1\n  (8999, 7498)\t1\n  (8999, 8237)\t1\n  (8999, 9962)\t1\n  (8999, 10306)\t1\n  (8999, 11138)\t1\n  (8999, 13092)\t1\n  (8999, 13779)\t1\n  (8999, 14818)\t1\n  (8999, 15711)\t1\n  (8999, 16280)\t1\n  (8999, 16590)\t1\n  (8999, 16596)\t1\n",
     "output_type": "stream"
    }
   ],
   "execution_count": 131
  },
  {
   "cell_type": "code",
   "metadata": {
    "tags": [],
    "cell_id": "00097-9e9cb4bf-5813-4330-a5fa-5586a7c87440",
    "deepnote_to_be_reexecuted": false,
    "source_hash": "1d42e83",
    "execution_start": 1620896275512,
    "execution_millis": 702,
    "deepnote_cell_type": "code"
   },
   "source": "clf = MultinomialNB().fit(MNB_text_format(DATA[\"processed\"][\"hate\"][\"train_text\"]), DATA['processed']['hate']['train_labels'])",
   "execution_count": 118,
   "outputs": []
  },
  {
   "cell_type": "code",
   "source": "clf.predict([MNB_text_format(DATA[\"processed\"][\"hate\"][\"val_text\"])])",
   "metadata": {
    "tags": [],
    "cell_id": "00107-26747c45-a1ca-4693-a697-af92bc41364c",
    "deepnote_to_be_reexecuted": false,
    "source_hash": "54522ee8",
    "execution_start": 1620896739555,
    "execution_millis": 242,
    "deepnote_cell_type": "code"
   },
   "outputs": [
    {
     "output_type": "error",
     "ename": "ValueError",
     "evalue": "Expected 2D array, got 1D array instead:\narray=[<1000x4871 sparse matrix of type '<class 'numpy.int64'>'\n\twith 20893 stored elements in Compressed Sparse Row format>].\nReshape your data either using array.reshape(-1, 1) if your data has a single feature or array.reshape(1, -1) if it contains a single sample.",
     "traceback": [
      "\u001b[0;31m---------------------------------------------------------------------------\u001b[0m",
      "\u001b[0;31mValueError\u001b[0m                                Traceback (most recent call last)",
      "\u001b[0;32m<ipython-input-129-8efa5f50f021>\u001b[0m in \u001b[0;36m<module>\u001b[0;34m\u001b[0m\n\u001b[0;32m----> 1\u001b[0;31m \u001b[0mclf\u001b[0m\u001b[0;34m.\u001b[0m\u001b[0mpredict\u001b[0m\u001b[0;34m(\u001b[0m\u001b[0;34m[\u001b[0m\u001b[0mMNB_text_format\u001b[0m\u001b[0;34m(\u001b[0m\u001b[0mDATA\u001b[0m\u001b[0;34m[\u001b[0m\u001b[0;34m\"processed\"\u001b[0m\u001b[0;34m]\u001b[0m\u001b[0;34m[\u001b[0m\u001b[0;34m\"hate\"\u001b[0m\u001b[0;34m]\u001b[0m\u001b[0;34m[\u001b[0m\u001b[0;34m\"val_text\"\u001b[0m\u001b[0;34m]\u001b[0m\u001b[0;34m)\u001b[0m\u001b[0;34m]\u001b[0m\u001b[0;34m)\u001b[0m\u001b[0;34m\u001b[0m\u001b[0;34m\u001b[0m\u001b[0m\n\u001b[0m",
      "\u001b[0;32m/shared-libs/python3.7/py/lib/python3.7/site-packages/sklearn/naive_bayes.py\u001b[0m in \u001b[0;36mpredict\u001b[0;34m(self, X)\u001b[0m\n\u001b[1;32m     72\u001b[0m         \"\"\"\n\u001b[1;32m     73\u001b[0m         \u001b[0mcheck_is_fitted\u001b[0m\u001b[0;34m(\u001b[0m\u001b[0mself\u001b[0m\u001b[0;34m)\u001b[0m\u001b[0;34m\u001b[0m\u001b[0;34m\u001b[0m\u001b[0m\n\u001b[0;32m---> 74\u001b[0;31m         \u001b[0mX\u001b[0m \u001b[0;34m=\u001b[0m \u001b[0mself\u001b[0m\u001b[0;34m.\u001b[0m\u001b[0m_check_X\u001b[0m\u001b[0;34m(\u001b[0m\u001b[0mX\u001b[0m\u001b[0;34m)\u001b[0m\u001b[0;34m\u001b[0m\u001b[0;34m\u001b[0m\u001b[0m\n\u001b[0m\u001b[1;32m     75\u001b[0m         \u001b[0mjll\u001b[0m \u001b[0;34m=\u001b[0m \u001b[0mself\u001b[0m\u001b[0;34m.\u001b[0m\u001b[0m_joint_log_likelihood\u001b[0m\u001b[0;34m(\u001b[0m\u001b[0mX\u001b[0m\u001b[0;34m)\u001b[0m\u001b[0;34m\u001b[0m\u001b[0;34m\u001b[0m\u001b[0m\n\u001b[1;32m     76\u001b[0m         \u001b[0;32mreturn\u001b[0m \u001b[0mself\u001b[0m\u001b[0;34m.\u001b[0m\u001b[0mclasses_\u001b[0m\u001b[0;34m[\u001b[0m\u001b[0mnp\u001b[0m\u001b[0;34m.\u001b[0m\u001b[0margmax\u001b[0m\u001b[0;34m(\u001b[0m\u001b[0mjll\u001b[0m\u001b[0;34m,\u001b[0m \u001b[0maxis\u001b[0m\u001b[0;34m=\u001b[0m\u001b[0;36m1\u001b[0m\u001b[0;34m)\u001b[0m\u001b[0;34m]\u001b[0m\u001b[0;34m\u001b[0m\u001b[0;34m\u001b[0m\u001b[0m\n",
      "\u001b[0;32m/shared-libs/python3.7/py/lib/python3.7/site-packages/sklearn/naive_bayes.py\u001b[0m in \u001b[0;36m_check_X\u001b[0;34m(self, X)\u001b[0m\n\u001b[1;32m    472\u001b[0m \u001b[0;34m\u001b[0m\u001b[0m\n\u001b[1;32m    473\u001b[0m     \u001b[0;32mdef\u001b[0m \u001b[0m_check_X\u001b[0m\u001b[0;34m(\u001b[0m\u001b[0mself\u001b[0m\u001b[0;34m,\u001b[0m \u001b[0mX\u001b[0m\u001b[0;34m)\u001b[0m\u001b[0;34m:\u001b[0m\u001b[0;34m\u001b[0m\u001b[0;34m\u001b[0m\u001b[0m\n\u001b[0;32m--> 474\u001b[0;31m         \u001b[0;32mreturn\u001b[0m \u001b[0mcheck_array\u001b[0m\u001b[0;34m(\u001b[0m\u001b[0mX\u001b[0m\u001b[0;34m,\u001b[0m \u001b[0maccept_sparse\u001b[0m\u001b[0;34m=\u001b[0m\u001b[0;34m'csr'\u001b[0m\u001b[0;34m)\u001b[0m\u001b[0;34m\u001b[0m\u001b[0;34m\u001b[0m\u001b[0m\n\u001b[0m\u001b[1;32m    475\u001b[0m \u001b[0;34m\u001b[0m\u001b[0m\n\u001b[1;32m    476\u001b[0m     \u001b[0;32mdef\u001b[0m \u001b[0m_check_X_y\u001b[0m\u001b[0;34m(\u001b[0m\u001b[0mself\u001b[0m\u001b[0;34m,\u001b[0m \u001b[0mX\u001b[0m\u001b[0;34m,\u001b[0m \u001b[0my\u001b[0m\u001b[0;34m)\u001b[0m\u001b[0;34m:\u001b[0m\u001b[0;34m\u001b[0m\u001b[0;34m\u001b[0m\u001b[0m\n",
      "\u001b[0;32m/shared-libs/python3.7/py/lib/python3.7/site-packages/sklearn/utils/validation.py\u001b[0m in \u001b[0;36minner_f\u001b[0;34m(*args, **kwargs)\u001b[0m\n\u001b[1;32m     61\u001b[0m             \u001b[0mextra_args\u001b[0m \u001b[0;34m=\u001b[0m \u001b[0mlen\u001b[0m\u001b[0;34m(\u001b[0m\u001b[0margs\u001b[0m\u001b[0;34m)\u001b[0m \u001b[0;34m-\u001b[0m \u001b[0mlen\u001b[0m\u001b[0;34m(\u001b[0m\u001b[0mall_args\u001b[0m\u001b[0;34m)\u001b[0m\u001b[0;34m\u001b[0m\u001b[0;34m\u001b[0m\u001b[0m\n\u001b[1;32m     62\u001b[0m             \u001b[0;32mif\u001b[0m \u001b[0mextra_args\u001b[0m \u001b[0;34m<=\u001b[0m \u001b[0;36m0\u001b[0m\u001b[0;34m:\u001b[0m\u001b[0;34m\u001b[0m\u001b[0;34m\u001b[0m\u001b[0m\n\u001b[0;32m---> 63\u001b[0;31m                 \u001b[0;32mreturn\u001b[0m \u001b[0mf\u001b[0m\u001b[0;34m(\u001b[0m\u001b[0;34m*\u001b[0m\u001b[0margs\u001b[0m\u001b[0;34m,\u001b[0m \u001b[0;34m**\u001b[0m\u001b[0mkwargs\u001b[0m\u001b[0;34m)\u001b[0m\u001b[0;34m\u001b[0m\u001b[0;34m\u001b[0m\u001b[0m\n\u001b[0m\u001b[1;32m     64\u001b[0m \u001b[0;34m\u001b[0m\u001b[0m\n\u001b[1;32m     65\u001b[0m             \u001b[0;31m# extra_args > 0\u001b[0m\u001b[0;34m\u001b[0m\u001b[0;34m\u001b[0m\u001b[0;34m\u001b[0m\u001b[0m\n",
      "\u001b[0;32m/shared-libs/python3.7/py/lib/python3.7/site-packages/sklearn/utils/validation.py\u001b[0m in \u001b[0;36mcheck_array\u001b[0;34m(array, accept_sparse, accept_large_sparse, dtype, order, copy, force_all_finite, ensure_2d, allow_nd, ensure_min_samples, ensure_min_features, estimator)\u001b[0m\n\u001b[1;32m    696\u001b[0m                     \u001b[0;34m\"Reshape your data either using array.reshape(-1, 1) if \"\u001b[0m\u001b[0;34m\u001b[0m\u001b[0;34m\u001b[0m\u001b[0m\n\u001b[1;32m    697\u001b[0m                     \u001b[0;34m\"your data has a single feature or array.reshape(1, -1) \"\u001b[0m\u001b[0;34m\u001b[0m\u001b[0;34m\u001b[0m\u001b[0m\n\u001b[0;32m--> 698\u001b[0;31m                     \"if it contains a single sample.\".format(array))\n\u001b[0m\u001b[1;32m    699\u001b[0m \u001b[0;34m\u001b[0m\u001b[0m\n\u001b[1;32m    700\u001b[0m         \u001b[0;31m# make sure we actually converted to numeric:\u001b[0m\u001b[0;34m\u001b[0m\u001b[0;34m\u001b[0m\u001b[0;34m\u001b[0m\u001b[0m\n",
      "\u001b[0;31mValueError\u001b[0m: Expected 2D array, got 1D array instead:\narray=[<1000x4871 sparse matrix of type '<class 'numpy.int64'>'\n\twith 20893 stored elements in Compressed Sparse Row format>].\nReshape your data either using array.reshape(-1, 1) if your data has a single feature or array.reshape(1, -1) if it contains a single sample."
     ]
    }
   ],
   "execution_count": 129
  },
  {
   "cell_type": "code",
   "source": "[[30,4000,1],\n[35,15000,0],\n[40,2000,1],]",
   "metadata": {
    "tags": [],
    "cell_id": "00102-35fc21a2-4f49-4aab-bf53-c29488cbd8d9",
    "deepnote_cell_type": "code"
   },
   "outputs": [],
   "execution_count": null
  },
  {
   "cell_type": "markdown",
   "source": "<a style='text-decoration:none;line-height:16px;display:flex;color:#5B5B62;padding:10px;justify-content:end;' href='https://deepnote.com?utm_source=created-in-deepnote-cell&projectId=7ea65742-831a-48cd-9d56-a22e1ed66c7b' target=\"_blank\">\n<img alt='Created in deepnote.com' style='display:inline;max-height:16px;margin:0px;margin-right:7.5px;' src='data:image/svg+xml;base64,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' > </img>\nCreated in <span style='font-weight:600;margin-left:4px;'>Deepnote</span></a>",
   "metadata": {
    "tags": [],
    "created_in_deepnote_cell": true,
    "deepnote_cell_type": "markdown"
   }
  }
 ],
 "nbformat": 4,
 "nbformat_minor": 2,
 "metadata": {
  "deepnote": {
   "is_reactive": false
  },
  "deepnote_execution_queue": [],
  "deepnote_notebook_id": "912c8bda-48f1-43bf-8bff-0aac9dd9fbcb",
  "kernelspec": {
   "display_name": "Python 3",
   "language": "python",
   "name": "python3"
  },
  "language_info": {
   "codemirror_mode": {
    "name": "ipython",
    "version": 3
   },
   "file_extension": ".py",
   "mimetype": "text/x-python",
   "name": "python",
   "nbconvert_exporter": "python",
   "pygments_lexer": "ipython3",
   "version": "3.8.8"
  }
 }
}