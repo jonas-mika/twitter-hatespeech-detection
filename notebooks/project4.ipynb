{
  "cells": [
    {
      "cell_type": "markdown",
      "source": "# Project 4: XXX\n---\n\n**Group 9: Aidan Stocks, Hugo Reinicke, Nicola Clark, Jonas-Mika Senghaas**\n\nSubmission: *03.06.2021* / Last Modified: *27.04.2021*\n\n---\n\nThis notebook contains the step-by-step data science process performed *XXX*. The goal of this project was to *XXX*.\n\nThe initial data was obtained from the [TweetEval](https://github.com/cardiffnlp/tweeteval#evaluating-your-system) GitHub repository, that provides data for supervised training of classifiers for natural language processing.",
      "metadata": {
        "tags": [],
        "cell_id": "00000-8f8eb98f-2a98-41af-9825-5a8a8c441dee",
        "deepnote_cell_type": "markdown"
      }
    },
    {
      "cell_type": "markdown",
      "source": "## Introduction\n---\n*XXX*",
      "metadata": {
        "tags": [],
        "cell_id": "00001-5fcfa044-05ac-485a-8293-0db98813ff5e",
        "deepnote_cell_type": "markdown"
      }
    },
    {
      "cell_type": "markdown",
      "source": "## Running this Notebook\n---\nThis notebook contains all code to reproduce the findings of the project as can be seen on the [GitHub](https://github.com/jonas-mika/fyp2021p04g09) page of this project. In order to read in the data correctly, the global paths configured in the section `Constants` need to be correct. The following file structure - as prepared in the `submission.zip` - was followed throughout the project and is recommended to use (alternatively the paths in the section `Constants` can be adjusted):\n\n```\n*project tree structure*\n```\n*Note that the rest of the file structure as can be seen on the [GitHub](https://github.com/jonas-mika/fyp2021p03g09) page of the project generates automatically*",
      "metadata": {
        "tags": [],
        "cell_id": "00002-e3f8c8e5-1dc7-47ff-9108-2450997c051c",
        "deepnote_cell_type": "markdown"
      }
    },
    {
      "cell_type": "markdown",
      "source": "## Required Libraries and Further Imports\n---\nThroughout the project, we will use a range of both built-in and external Python libraries. This notebook will only run if all libraries and modules are correctly installed on your local machines. \nTo install missing packages use `pip install <package_name>` (PIP (Python Package Index) is the central package management system, read more [here](https://pypi.org/project/pip/)). \n\nIn case you desire further information about the used packages, click the following links to find detailed documentations:\n- [Pandas](https://pandas.pydata.org/)\n- [Numpy](https://numpy.org/)\n- [Matplotlib](https://matplotlib.org/stable/index.html)\n- [PIL](https://pillow.readthedocs.io/en/stable/)\n- [SciKit Learn](https://scikit-learn.org/stable/)\n- [SciKit Image](https://scikit-image.org/)\n- [Scipy](https://www.scipy.org/)",
      "metadata": {
        "tags": [],
        "cell_id": "00003-8f195f8a-4025-446a-8b44-300b55666211",
        "deepnote_cell_type": "markdown"
      }
    },
    {
      "cell_type": "code",
      "metadata": {
        "tags": [],
        "cell_id": "00004-cf13b571-fc4d-40f4-8617-43224164fcb8",
        "deepnote_to_be_reexecuted": false,
        "source_hash": "64948f79",
        "execution_start": 1619685254742,
        "execution_millis": 9285,
        "deepnote_cell_type": "code"
      },
      "source": "%%capture\n# uncomment lines with uninstalled packages\n\n#!pip install -U numpy pandas matplotlib seaborn skikit-learn \n!pip install pycontractions\n!pip install python-Levenshtein #/root/venv/lib/python3.7/site-packages/gensim/similarities/__init__.py:15: UserWarning: The gensim.similarities.levenshtein submodule is disabled, because the optional Levenshtein package <https://pypi.org/project/python-Levenshtein/> is unavailable. Install Levenhstein (e.g. `pip install python-Levenshtein`) to suppress this warning.warnings.warn(msg)",
      "execution_count": 52,
      "outputs": []
    },
    {
      "cell_type": "code",
      "metadata": {
        "tags": [],
        "cell_id": "00005-9cbe0305-7f30-486b-be81-0c10af861246",
        "deepnote_to_be_reexecuted": false,
        "source_hash": "fac8fee5",
        "execution_start": 1619685862727,
        "execution_millis": 0,
        "deepnote_cell_type": "code"
      },
      "source": "# python standard libraries\nimport json                                            # data transfer to and from json format\nimport os                                              # access operating system from python\nimport random                                          # creates randomness\nimport re                                              # regex search in python\n\n# external libraries\nimport numpy as np                                     # used for numerical calculations and fast array manipulations\nimport pandas as pd                                    # provides major datastructure pd.DataFrame() to store datasets\nimport matplotlib\nimport matplotlib.pyplot as plt                        # basic data visualisation\nimport seaborn as sns                                  # advanced data visualisation\nfrom nltk.tokenize import TweetTokenizer               # tokeniser api\nfrom pycontractions import Contractions                # Intelligently expands and creates contractions in text",
      "execution_count": 69,
      "outputs": []
    },
    {
      "cell_type": "code",
      "metadata": {
        "cell_id": "00006-5afa390e-a19c-4f7b-b2f5-752fba00777d",
        "deepnote_to_be_reexecuted": false,
        "source_hash": "cf01d3e0",
        "execution_start": 1619685398251,
        "execution_millis": 57,
        "deepnote_cell_type": "code"
      },
      "source": "print(f'Numpy Version: {np.__version__}')\nprint(f'Pandas Version: {pd.__version__}')\nprint(f'Matplotlib Version: {matplotlib.__version__}')\nprint(f'Seaborn Version: {sns.__version__}')\n#print(f'Pycontractions Version: {contractions.__version__}') # wont work dont know why?",
      "execution_count": 57,
      "outputs": [
        {
          "name": "stdout",
          "text": "Numpy Version: 1.19.5\nPandas Version: 1.2.4\nMatplotlib Version: 3.4.1\nSeaborn Version: 0.11.1\n",
          "output_type": "stream"
        },
        {
          "output_type": "error",
          "ename": "AttributeError",
          "evalue": "module 'pycontractions.contractions' has no attribute '__version__'",
          "traceback": [
            "\u001b[0;31m---------------------------------------------------------------------------\u001b[0m",
            "\u001b[0;31mAttributeError\u001b[0m                            Traceback (most recent call last)",
            "\u001b[0;32m<ipython-input-57-0f6e4a1054b6>\u001b[0m in \u001b[0;36m<module>\u001b[0;34m\u001b[0m\n\u001b[1;32m      3\u001b[0m \u001b[0mprint\u001b[0m\u001b[0;34m(\u001b[0m\u001b[0;34mf'Matplotlib Version: {matplotlib.__version__}'\u001b[0m\u001b[0;34m)\u001b[0m\u001b[0;34m\u001b[0m\u001b[0;34m\u001b[0m\u001b[0m\n\u001b[1;32m      4\u001b[0m \u001b[0mprint\u001b[0m\u001b[0;34m(\u001b[0m\u001b[0;34mf'Seaborn Version: {sns.__version__}'\u001b[0m\u001b[0;34m)\u001b[0m\u001b[0;34m\u001b[0m\u001b[0;34m\u001b[0m\u001b[0m\n\u001b[0;32m----> 5\u001b[0;31m \u001b[0mprint\u001b[0m\u001b[0;34m(\u001b[0m\u001b[0;34mf'Pycontractions Version: {contractions.__version__}'\u001b[0m\u001b[0;34m)\u001b[0m\u001b[0;34m\u001b[0m\u001b[0;34m\u001b[0m\u001b[0m\n\u001b[0m",
            "\u001b[0;31mAttributeError\u001b[0m: module 'pycontractions.contractions' has no attribute '__version__'"
          ]
        }
      ]
    },
    {
      "cell_type": "markdown",
      "source": "Since this project makes heavy use of functions to achieve maximal efficiency, all functions are stored externally in the package structure `project3'. The following imports are necessary for this notebook to run properly.",
      "metadata": {
        "tags": [],
        "cell_id": "00006-e9706598-54b2-4f29-9ca9-a6660685b48c",
        "deepnote_cell_type": "markdown"
      }
    },
    {
      "cell_type": "code",
      "metadata": {
        "tags": [],
        "cell_id": "00007-14d719d0-f91a-4eac-adc0-8f3981566bf1",
        "deepnote_to_be_reexecuted": false,
        "source_hash": "905c667e",
        "execution_start": 1619683192963,
        "execution_millis": 2,
        "deepnote_cell_type": "code"
      },
      "source": "#from project4.processing import ...\n#from project4.save import ...\n#from project4.features import ...",
      "execution_count": 4,
      "outputs": []
    },
    {
      "cell_type": "markdown",
      "source": "## Constants\n---\nTo enhance readibilty, as well as to decrease the maintenance effort, it is useful for bigger projects to define contants that need to be accessed globally throughout the whole notebook in advance. \nThe following cell contains all of those global constants. By convention, we write them in caps (https://www.python.org/dev/peps/pep-0008/#constants)",
      "metadata": {
        "tags": [],
        "cell_id": "00008-4f347db9-f433-4a57-9e83-4fbb27586617",
        "deepnote_cell_type": "markdown"
      }
    },
    {
      "cell_type": "code",
      "metadata": {
        "tags": [],
        "cell_id": "00009-8c033e56-02ab-48b7-9eff-1efefe08d35c",
        "deepnote_to_be_reexecuted": false,
        "source_hash": "b9d56086",
        "execution_start": 1619683192970,
        "execution_millis": 4,
        "deepnote_cell_type": "code"
      },
      "source": "DATASETS = ['hate', 'emotion']\n\n# store paths\nPATH = {}\nPATH['data'] = {}\nPATH['data']['raw'] = \"../data/raw/\"\nPATH['data']['processed'] = \"../data/processed/\"\n\n# store data \nDATA = {}\nfor dataset in DATASETS:\n    DATA[dataset] = {}",
      "execution_count": 5,
      "outputs": []
    },
    {
      "cell_type": "markdown",
      "source": "*TASK 0*\n# Fetching Data\n---",
      "metadata": {
        "tags": [],
        "cell_id": "00010-30f29e03-2c93-4a41-9cdd-c63ddcf81385",
        "deepnote_cell_type": "markdown"
      }
    },
    {
      "cell_type": "markdown",
      "source": "## Loading in Data\n---",
      "metadata": {
        "cell_id": "00012-517a92e6-641e-4b58-ae16-4fc3f1dc0f0c",
        "deepnote_cell_type": "markdown"
      }
    },
    {
      "cell_type": "code",
      "metadata": {
        "tags": [],
        "cell_id": "00011-d60e995b-fcb6-4868-b5f3-bead2a4d235a",
        "deepnote_to_be_reexecuted": false,
        "source_hash": "fc69abe6",
        "execution_start": 1619683192981,
        "execution_millis": 4,
        "deepnote_cell_type": "code"
      },
      "source": "def read_raw_input(dataset):\n    # reading in all .txts into list of strings\n    for _file in os.listdir(f'../data/raw/{dataset}'):\n        with open(f'../data/raw/{dataset}/{_file}', 'r') as infile:\n            DATA[dataset][_file[:-4]] = [line.strip() for line in infile.readlines()]\n\n    # convert target labels to integers\n    for key in ['train_labels', 'val_labels', 'test_labels']:\n        DATA[dataset][key] = [int(x) for x in DATA[dataset][key]]\n\n    # convert mapping to dictionary\n    DATA[dataset]['mapping'] = {int(string.split('\\t')[0]): string.split('\\t')[1] for string in DATA[dataset]['mapping']}",
      "execution_count": 6,
      "outputs": []
    },
    {
      "cell_type": "code",
      "metadata": {
        "cell_id": "00014-a564b5fd-9112-40ea-ab20-a9e06cef672c",
        "deepnote_to_be_reexecuted": false,
        "source_hash": "3fbf30af",
        "execution_start": 1619683192988,
        "execution_millis": 47,
        "deepnote_cell_type": "code"
      },
      "source": "for dataset in DATASETS:\n    read_raw_input(dataset)",
      "execution_count": 7,
      "outputs": []
    },
    {
      "cell_type": "markdown",
      "source": "## Exploring Data\n---",
      "metadata": {
        "cell_id": "00015-6ac2c66d-4d76-4711-82ed-29c0f25e3314",
        "deepnote_cell_type": "markdown"
      }
    },
    {
      "cell_type": "markdown",
      "source": "### Peek into Training Tweets",
      "metadata": {
        "cell_id": "00016-1ade1bb5-34a5-4a97-9049-49dbb00ee154",
        "deepnote_cell_type": "markdown"
      }
    },
    {
      "cell_type": "code",
      "metadata": {
        "cell_id": "00017-8c456ad3-3f69-4ec0-931f-2fdc6fe0e33e",
        "deepnote_to_be_reexecuted": false,
        "source_hash": "8ad7720",
        "execution_start": 1619683193038,
        "execution_millis": 44,
        "deepnote_cell_type": "code"
      },
      "source": "# hate\nfor i in range(10):\n    print(f\"{i+1}\\tLabel: {DATA['hate']['mapping'][DATA['hate']['train_labels'][i]].title()}\\t\\t{DATA['hate']['train_text'][i]}\")",
      "execution_count": 8,
      "outputs": [
        {
          "name": "stdout",
          "text": "1\tLabel: Not-Hate\t\t@user nice new signage. Are you not concerned by Beatlemania -style hysterical crowds crongregating on you…\n2\tLabel: Hate\t\tA woman who you fucked multiple times saying yo dick small is a compliment you know u hit that spot 😎\n3\tLabel: Hate\t\t@user @user real talk do you have eyes or were they gouged out by a rapefugee?\n4\tLabel: Hate\t\tyour girlfriend lookin at me like a groupie in this bitch!\n5\tLabel: Not-Hate\t\tHysterical woman like @user\n6\tLabel: Not-Hate\t\tMe flirting- So tell me about your father...\n7\tLabel: Not-Hate\t\tThe Philippine Catholic bishops' work for migrant workers should focus on families who are \"paying the great...\n8\tLabel: Hate\t\tI AM NOT GOING AFTER YOUR EX BF YOU LIEING SACK OF SHIT ! I'm done with you dude that's why I dumped your ass cause your a lieing 😂😡 bitch\n9\tLabel: Not-Hate\t\tWhen cuffin season is finally over\n10\tLabel: Hate\t\tSend home migrants not in need of protection, Peter Dutton tells UN, HEY DUTTON HOW ABOUT THE ONES THAT HAVE STAYED AND NOT LEFT THE COUNTRY WHEN THEY SHOULD OVERSTAYERS ? WHY DONT YOU GO AND ROUND ALL THEM UP ?\n",
          "output_type": "stream"
        }
      ]
    },
    {
      "cell_type": "code",
      "metadata": {
        "cell_id": "00018-f6587a74-f6da-4c6c-8540-db447f5615d9",
        "deepnote_to_be_reexecuted": false,
        "source_hash": "9d51bce4",
        "execution_start": 1619683193066,
        "execution_millis": 17,
        "deepnote_cell_type": "code"
      },
      "source": "# hate\nfor i in range(10):\n    print(f\"{i+1}\\tLabel: {DATA['emotion']['mapping'][DATA['emotion']['train_labels'][i]].title()}\\t\\t{DATA['emotion']['train_text'][i]}\")",
      "execution_count": 9,
      "outputs": [
        {
          "name": "stdout",
          "text": "1\tLabel: Optimism\t\t“Worry is a down payment on a problem you may never have'.  Joyce Meyer.  #motivation #leadership #worry\n2\tLabel: Anger\t\tMy roommate: it's okay that we can't spell because we have autocorrect. #terrible #firstworldprobs\n3\tLabel: Joy\t\tNo but that's so cute. Atsu was probably shy about photos before but cherry helped her out uwu\n4\tLabel: Anger\t\tRooneys fucking untouchable isn't he? Been fucking dreadful again, depay has looked decent(ish)tonight\n5\tLabel: Sadness\t\tit's pretty depressing when u hit pan on ur favourite highlighter\n6\tLabel: Anger\t\t@user but your pussy was weak from what I heard so stfu up to me bitch . You got to threaten him that your pregnant .\n7\tLabel: Sadness\t\tMaking that yearly transition from excited and hopeful college returner to sick and exhausted pessimist. #college\n8\tLabel: Joy\t\tTiller and breezy should do a collab album. Rapping and singing prolly be fire\n9\tLabel: Anger\t\t@user broadband is shocking regretting signing up now #angry #shouldofgonewithvirgin\n10\tLabel: Anger\t\t@user Look at those teef! #growl\n",
          "output_type": "stream"
        }
      ]
    },
    {
      "cell_type": "markdown",
      "source": "### Visualising Label Distribution",
      "metadata": {
        "cell_id": "00019-ac0093ee-cb8e-4df0-9240-28b8639da8f0",
        "deepnote_cell_type": "markdown"
      }
    },
    {
      "cell_type": "code",
      "metadata": {
        "cell_id": "00020-ff2b603d-7d95-43b5-8411-7c54ff2985ec",
        "deepnote_to_be_reexecuted": false,
        "source_hash": "61ecae75",
        "execution_start": 1619683193067,
        "execution_millis": 0,
        "deepnote_cell_type": "code"
      },
      "source": "def visualise_label_distribution(dataset):\n    fig, ax = plt.subplots(ncols=3, figsize=(12,4))\n    fig.suptitle(f'Frequency of Target Label in {dataset.capitalize()}', fontsize=12, fontweight='bold')\n\n    for i, key in enumerate(['train_labels', 'val_labels', 'test_labels']):\n        label, count = np.unique(DATA[dataset][key], return_counts=True)\n        ax[i].bar(label, count, color='grey');\n        ax[i].set_title(key.replace('_', ' ').title())\n        ax[i].set_xticks(label); ax[i].set_xticklabels([string.title() for string in DATA[dataset]['mapping'].values()])",
      "execution_count": 10,
      "outputs": []
    },
    {
      "cell_type": "code",
      "metadata": {
        "cell_id": "00021-046d0488-77dc-47d3-a29c-d178ea704a1f",
        "deepnote_to_be_reexecuted": false,
        "source_hash": "894be1c8",
        "execution_start": 1619683193068,
        "execution_millis": 294,
        "deepnote_cell_type": "code"
      },
      "source": "visualise_label_distribution(dataset='hate')",
      "execution_count": 11,
      "outputs": [
        {
          "data": {
            "text/plain": "<Figure size 864x288 with 3 Axes>",
            "image/png": "[encoded data removed]"
          },
          "metadata": {
            "needs_background": "light",
            "image/png": {
              "width": 716,
              "height": 277
            }
          },
          "output_type": "display_data"
        }
      ]
    },
    {
      "cell_type": "code",
      "metadata": {
        "cell_id": "00022-83c0ec2d-8094-4123-8603-caad77edb2af",
        "deepnote_to_be_reexecuted": false,
        "source_hash": "c0926180",
        "execution_start": 1619683193359,
        "execution_millis": 483,
        "deepnote_cell_type": "code"
      },
      "source": "visualise_label_distribution(dataset='emotion')",
      "execution_count": 12,
      "outputs": [
        {
          "data": {
            "text/plain": "<Figure size 864x288 with 3 Axes>",
            "image/png": "[encoded data removed]"
          },
          "metadata": {
            "needs_background": "light",
            "image/png": {
              "width": 716,
              "height": 277
            }
          },
          "output_type": "display_data"
        }
      ]
    },
    {
      "cell_type": "markdown",
      "source": "*TASK 0.5*\n# Processing of Language Data\n---\n",
      "metadata": {
        "tags": [],
        "cell_id": "00011-c1d3e256-83ab-4833-93bb-155c6dcb73ca",
        "deepnote_cell_type": "markdown"
      }
    },
    {
      "cell_type": "markdown",
      "source": "### Tokenize Tweets\n---\n",
      "metadata": {
        "tags": [],
        "cell_id": "00024-925deca3-bb20-43eb-bc18-98e47d7a5780",
        "deepnote_cell_type": "markdown"
      }
    },
    {
      "cell_type": "code",
      "metadata": {
        "cell_id": "00024-20c29398-21ac-493b-8d2a-2161b831ef91",
        "deepnote_to_be_reexecuted": false,
        "source_hash": "a1f7603b",
        "execution_start": 1619683193857,
        "execution_millis": 0,
        "deepnote_cell_type": "code"
      },
      "source": "def tokeniser1(tweet):\n    return re.findall('\\w+', tweet)",
      "execution_count": 13,
      "outputs": []
    },
    {
      "cell_type": "code",
      "metadata": {
        "tags": [],
        "cell_id": "00013-de37fee0-8080-49a2-8348-0cc7cd793435",
        "deepnote_to_be_reexecuted": false,
        "source_hash": "fcce8e84",
        "execution_start": 1619683193858,
        "execution_millis": 0,
        "deepnote_cell_type": "code"
      },
      "source": "def tokeniser2(tweet):\n    return re.split(' ', tweet)",
      "execution_count": 14,
      "outputs": []
    },
    {
      "cell_type": "code",
      "metadata": {
        "cell_id": "00026-12aa65c5-fb65-4563-9518-2593493305f8",
        "deepnote_to_be_reexecuted": false,
        "source_hash": "addc91b",
        "execution_start": 1619683193858,
        "execution_millis": 0,
        "deepnote_cell_type": "code"
      },
      "source": "def tokeniser3(tweet):\n    tk = TweetTokenizer()\n    return tk.tokenize(tweet)",
      "execution_count": 15,
      "outputs": []
    },
    {
      "cell_type": "code",
      "metadata": {
        "cell_id": "00027-ef6625a3-be50-47af-8b54-b6da6068f0c4",
        "deepnote_to_be_reexecuted": false,
        "source_hash": "70f25dd3",
        "execution_start": 1619683193859,
        "execution_millis": 6,
        "deepnote_cell_type": "code"
      },
      "source": "def tokeniser4(line):\n    # Initialise lists\n    tokens = []\n    unmatchable = [] # should be emtpy if done nicely\n\n    # Compile patterns for speedup\n    token_pat = re.compile('\\w+')\n    skippable_pat = re.compile('\\s+')  # typically spaces\n\n    # As long as there's any material left...\n    while line:\n        print(line)\n        # Try finding a skippable token delimiter first.\n        skippable_match = re.search(skippable_pat, line)\n        print(skippable_match)\n        if skippable_match and skippable_match.start() == 0:\n            # If there is one at the beginning of the line, just skip it.\n            line = line[skippable_match.end():]\n        else:\n            # Else try finding a real token.\n            token_match = re.search(token_pat, line)\n            if token_match and token_match.start() == 0:\n                print(token_match)\n                # If there is one at the beginning of the line, tokenise it.\n                tokens.append(line[:token_match.end()])\n                line = line[token_match.end():]\n            else:\n                # Else there is unmatchable material here.\n                # It ends where a skippable or token match starts, or at the end of the line.\n                unmatchable_end = len(line)\n                if skippable_match:\n                    unmatchable_end = skippable_match.start()\n                if token_match:\n                    unmatchable_end = min(unmatchable_end, token_match.start())\n                # Add it to unmatchable and discard from line.\n                unmatchable.append(line[:unmatchable_end])\n                line = line[unmatchable_end:]\n\n    return tokens",
      "execution_count": 16,
      "outputs": []
    },
    {
      "cell_type": "code",
      "metadata": {
        "cell_id": "00028-15e617bc-1809-4253-8f95-c827822c2e9e",
        "deepnote_to_be_reexecuted": false,
        "source_hash": "d98db666",
        "execution_start": 1619683193867,
        "execution_millis": 19,
        "deepnote_cell_type": "code"
      },
      "source": "#ex_tweet = DATA['hate']['train_text'][0]\nex_tweet = \"https://t.co/9z2J3P33Uc FB needs to hurry up and add a laugh/cry button 😬😭😓🤢🙄😱 Since eating my feelings has not fixed the world's problems, I guess I'll try to sleep... HOLY CRAP: DeVos questionnaire appears to include passages from uncited sources https://t.co/FNRoOlfw9s well played, Senator Murray Keep the pressure on: https://t.co/4hfOsmdk0l @datageneral thx Mr Taussig It's interesting how many people contact me about applying for a PhD and don't @user spell my name #something right.\"\n\ntokeniser = [tokeniser1, tokeniser2, tokeniser3]\n\nprint('Original Tweet: ',ex_tweet, '\\n')\nfor i in range(len(tokeniser)):\n    print(f\"Tokeniser {i+1}: {tokeniser[i](ex_tweet)}\")",
      "execution_count": 17,
      "outputs": [
        {
          "name": "stdout",
          "text": "Original Tweet:  https://t.co/9z2J3P33Uc FB needs to hurry up and add a laugh/cry button 😬😭😓🤢🙄😱 Since eating my feelings has not fixed the world's problems, I guess I'll try to sleep... HOLY CRAP: DeVos questionnaire appears to include passages from uncited sources https://t.co/FNRoOlfw9s well played, Senator Murray Keep the pressure on: https://t.co/4hfOsmdk0l @datageneral thx Mr Taussig It's interesting how many people contact me about applying for a PhD and don't @user spell my name #something right. \n\nTokeniser 1: ['https', 't', 'co', '9z2J3P33Uc', 'FB', 'needs', 'to', 'hurry', 'up', 'and', 'add', 'a', 'laugh', 'cry', 'button', 'Since', 'eating', 'my', 'feelings', 'has', 'not', 'fixed', 'the', 'world', 's', 'problems', 'I', 'guess', 'I', 'll', 'try', 'to', 'sleep', 'HOLY', 'CRAP', 'DeVos', 'questionnaire', 'appears', 'to', 'include', 'passages', 'from', 'uncited', 'sources', 'https', 't', 'co', 'FNRoOlfw9s', 'well', 'played', 'Senator', 'Murray', 'Keep', 'the', 'pressure', 'on', 'https', 't', 'co', '4hfOsmdk0l', 'datageneral', 'thx', 'Mr', 'Taussig', 'It', 's', 'interesting', 'how', 'many', 'people', 'contact', 'me', 'about', 'applying', 'for', 'a', 'PhD', 'and', 'don', 't', 'user', 'spell', 'my', 'name', 'something', 'right']\nTokeniser 2: ['https://t.co/9z2J3P33Uc', 'FB', 'needs', 'to', 'hurry', 'up', 'and', 'add', 'a', 'laugh/cry', 'button', '😬😭😓🤢🙄😱', 'Since', 'eating', 'my', 'feelings', 'has', 'not', 'fixed', 'the', \"world's\", 'problems,', 'I', 'guess', \"I'll\", 'try', 'to', 'sleep...', 'HOLY', 'CRAP:', 'DeVos', 'questionnaire', 'appears', 'to', 'include', 'passages', 'from', 'uncited', 'sources', 'https://t.co/FNRoOlfw9s', 'well', 'played,', 'Senator', 'Murray', 'Keep', 'the', 'pressure', 'on:', 'https://t.co/4hfOsmdk0l', '@datageneral', 'thx', 'Mr', 'Taussig', \"It's\", 'interesting', 'how', 'many', 'people', 'contact', 'me', 'about', 'applying', 'for', 'a', 'PhD', 'and', \"don't\", '@user', 'spell', 'my', 'name', '#something', 'right.']\nTokeniser 3: ['https://t.co/9z2J3P33Uc', 'FB', 'needs', 'to', 'hurry', 'up', 'and', 'add', 'a', 'laugh', '/', 'cry', 'button', '😬', '😭', '😓', '🤢', '🙄', '😱', 'Since', 'eating', 'my', 'feelings', 'has', 'not', 'fixed', 'the', \"world's\", 'problems', ',', 'I', 'guess', \"I'll\", 'try', 'to', 'sleep', '...', 'HOLY', 'CRAP', ':', 'DeVos', 'questionnaire', 'appears', 'to', 'include', 'passages', 'from', 'uncited', 'sources', 'https://t.co/FNRoOlfw9s', 'well', 'played', ',', 'Senator', 'Murray', 'Keep', 'the', 'pressure', 'on', ':', 'https://t.co/4hfOsmdk0l', '@datageneral', 'thx', 'Mr', 'Taussig', \"It's\", 'interesting', 'how', 'many', 'people', 'contact', 'me', 'about', 'applying', 'for', 'a', 'PhD', 'and', \"don't\", '@user', 'spell', 'my', 'name', '#something', 'right', '.']\n",
          "output_type": "stream"
        }
      ]
    },
    {
      "cell_type": "markdown",
      "source": "### Summary\n---\n\nTokeniser 1 (Finds all Words):\n+ Good representation of words (includes Unicode characters and is sensible to punctuation within words, ie. \"don't\")\n- Deletes all punctuation (which might be important, ie. twitter communication heavily based tagging using '@' and hastags (#))\n- Destroys Links\n- Blind to Emojis\n\nTokeniser 2 (Split at Whitespace):\n+ Overall good representation of words \n+ keeps punctuation\n- ending punctuation is not being separated\n+ keeps Links\n+ recognises Emojis\n- doesnt separate adjacent emojis \n- blind to several words written together (in slang), ie. idontgiveafuck\n\nTokeniser 3 (Twitter Tokeniser API, Overcomes issues of Tokeniser 2):\n+ Ending punctuation is being separated\n+ Separate adjacent Emojis ",
      "metadata": {
        "cell_id": "00029-6b025e1e-41c8-40e8-95a6-ce98b58a469d",
        "deepnote_cell_type": "markdown"
      }
    },
    {
      "cell_type": "markdown",
      "source": "### Improving Tokenizer",
      "metadata": {
        "tags": [],
        "cell_id": "00032-9918e5ff-ad34-4397-8a23-02f60d16a194",
        "deepnote_cell_type": "markdown"
      }
    },
    {
      "cell_type": "markdown",
      "source": "Improving on the Tweet Tokenizer:\n* lowercasing \n* expanding contractions\n* change links to a dummy value",
      "metadata": {
        "tags": [],
        "cell_id": "00032-4555a69b-e985-4c97-8a63-e922bdc51ee5",
        "deepnote_cell_type": "markdown"
      }
    },
    {
      "cell_type": "markdown",
      "source": "Functions: (most likely to combine later)",
      "metadata": {
        "tags": [],
        "cell_id": "00033-ca3b7101-abf1-48c1-ac45-4c16b8f2cb52",
        "deepnote_cell_type": "markdown"
      }
    },
    {
      "cell_type": "code",
      "source": "def lowercase(tokenised_list):\n    return [i.lower() for i in tokenised_list]",
      "metadata": {
        "tags": [],
        "cell_id": "00033-c821a417-c72a-4e30-b57d-d26f3af2b5f2",
        "deepnote_to_be_reexecuted": false,
        "source_hash": "9378b39e",
        "execution_start": 1619684911748,
        "execution_millis": 2,
        "deepnote_cell_type": "code"
      },
      "outputs": [],
      "execution_count": 40
    },
    {
      "cell_type": "code",
      "source": "def rm_links(tokenised_list):\n    dummy= \"thisisalinkadp2yNQ263fh7fRhGvKw\" #randomised password generator used to get a most likely unique string to include\n    return [token if token[:8]!=\"https://\" else dummy for token in tokenised_list] #check here later that all links are in fact in this format",
      "metadata": {
        "tags": [],
        "cell_id": "00035-574798eb-0296-46e6-8efa-66e796637c32",
        "deepnote_to_be_reexecuted": false,
        "source_hash": "1f018063",
        "execution_start": 1619684961292,
        "execution_millis": 3,
        "deepnote_cell_type": "code"
      },
      "outputs": [],
      "execution_count": 43
    },
    {
      "cell_type": "code",
      "source": "\n# Load your favorite semantic vector model in gensim keyedvectors format from disk\n>>> cont = Contractions('GoogleNews-vectors-negative300.bin')\n\n# must download locally will not allow on deepnote as it is a very big file.\n\n",
      "metadata": {
        "tags": [],
        "cell_id": "00037-33cee70e-a038-49f8-b073-2acbda49bedf",
        "deepnote_to_be_reexecuted": false,
        "source_hash": "663e33b5",
        "execution_start": 1619686304718,
        "execution_millis": 1,
        "deepnote_cell_type": "code"
      },
      "outputs": [],
      "execution_count": 90
    },
    {
      "cell_type": "code",
      "source": "def expand(tweet): # may be worth doing first on whole text before tokeniseing\n    return tweet",
      "metadata": {
        "tags": [],
        "cell_id": "00036-7e43d308-5788-4976-9e1b-74ae65eba3d5",
        "deepnote_to_be_reexecuted": false,
        "source_hash": "e734c3c9",
        "execution_start": 1619689077652,
        "execution_millis": 1,
        "deepnote_cell_type": "code"
      },
      "outputs": [],
      "execution_count": 101
    },
    {
      "cell_type": "markdown",
      "source": "Testing:",
      "metadata": {
        "tags": [],
        "cell_id": "00035-c25b2302-1132-486c-aa17-17ca52315596",
        "deepnote_cell_type": "markdown"
      }
    },
    {
      "cell_type": "code",
      "source": "print(ex_tweet)\nex_tokenised=tokeniser3(ex_tweet)\nprint(ex_tokenised)\nprint(lowercase(ex_tokenised))\nprint(rm_links(ex_tokenised))\nprint(expand(ex_tweet)) # does nothing",
      "metadata": {
        "tags": [],
        "cell_id": "00036-0d890806-572c-47ed-a4a7-bec4bf93f950",
        "deepnote_to_be_reexecuted": false,
        "source_hash": "67f47c7a",
        "execution_start": 1619689629483,
        "execution_millis": 5,
        "deepnote_cell_type": "code"
      },
      "outputs": [
        {
          "name": "stdout",
          "text": "https://t.co/9z2J3P33Uc FB needs to hurry up and add a laugh/cry button 😬😭😓🤢🙄😱 Since eating my feelings has not fixed the world's problems, I guess I'll try to sleep... HOLY CRAP: DeVos questionnaire appears to include passages from uncited sources https://t.co/FNRoOlfw9s well played, Senator Murray Keep the pressure on: https://t.co/4hfOsmdk0l @datageneral thx Mr Taussig It's interesting how many people contact me about applying for a PhD and don't @user spell my name #something right.\n['https://t.co/9z2J3P33Uc', 'FB', 'needs', 'to', 'hurry', 'up', 'and', 'add', 'a', 'laugh', '/', 'cry', 'button', '😬', '😭', '😓', '🤢', '🙄', '😱', 'Since', 'eating', 'my', 'feelings', 'has', 'not', 'fixed', 'the', \"world's\", 'problems', ',', 'I', 'guess', \"I'll\", 'try', 'to', 'sleep', '...', 'HOLY', 'CRAP', ':', 'DeVos', 'questionnaire', 'appears', 'to', 'include', 'passages', 'from', 'uncited', 'sources', 'https://t.co/FNRoOlfw9s', 'well', 'played', ',', 'Senator', 'Murray', 'Keep', 'the', 'pressure', 'on', ':', 'https://t.co/4hfOsmdk0l', '@datageneral', 'thx', 'Mr', 'Taussig', \"It's\", 'interesting', 'how', 'many', 'people', 'contact', 'me', 'about', 'applying', 'for', 'a', 'PhD', 'and', \"don't\", '@user', 'spell', 'my', 'name', '#something', 'right', '.']\n['https://t.co/9z2j3p33uc', 'fb', 'needs', 'to', 'hurry', 'up', 'and', 'add', 'a', 'laugh', '/', 'cry', 'button', '😬', '😭', '😓', '🤢', '🙄', '😱', 'since', 'eating', 'my', 'feelings', 'has', 'not', 'fixed', 'the', \"world's\", 'problems', ',', 'i', 'guess', \"i'll\", 'try', 'to', 'sleep', '...', 'holy', 'crap', ':', 'devos', 'questionnaire', 'appears', 'to', 'include', 'passages', 'from', 'uncited', 'sources', 'https://t.co/fnroolfw9s', 'well', 'played', ',', 'senator', 'murray', 'keep', 'the', 'pressure', 'on', ':', 'https://t.co/4hfosmdk0l', '@datageneral', 'thx', 'mr', 'taussig', \"it's\", 'interesting', 'how', 'many', 'people', 'contact', 'me', 'about', 'applying', 'for', 'a', 'phd', 'and', \"don't\", '@user', 'spell', 'my', 'name', '#something', 'right', '.']\n['thisisalinkadp2yNQ263fh7fRhGvKw', 'FB', 'needs', 'to', 'hurry', 'up', 'and', 'add', 'a', 'laugh', '/', 'cry', 'button', '😬', '😭', '😓', '🤢', '🙄', '😱', 'Since', 'eating', 'my', 'feelings', 'has', 'not', 'fixed', 'the', \"world's\", 'problems', ',', 'I', 'guess', \"I'll\", 'try', 'to', 'sleep', '...', 'HOLY', 'CRAP', ':', 'DeVos', 'questionnaire', 'appears', 'to', 'include', 'passages', 'from', 'uncited', 'sources', 'thisisalinkadp2yNQ263fh7fRhGvKw', 'well', 'played', ',', 'Senator', 'Murray', 'Keep', 'the', 'pressure', 'on', ':', 'thisisalinkadp2yNQ263fh7fRhGvKw', '@datageneral', 'thx', 'Mr', 'Taussig', \"It's\", 'interesting', 'how', 'many', 'people', 'contact', 'me', 'about', 'applying', 'for', 'a', 'PhD', 'and', \"don't\", '@user', 'spell', 'my', 'name', '#something', 'right', '.']\nhttps://t.co/9z2J3P33Uc FB needs to hurry up and add a laugh/cry button 😬😭😓🤢🙄😱 Since eating my feelings has not fixed the world's problems, I guess I'll try to sleep... HOLY CRAP: DeVos questionnaire appears to include passages from uncited sources https://t.co/FNRoOlfw9s well played, Senator Murray Keep the pressure on: https://t.co/4hfOsmdk0l @datageneral thx Mr Taussig It's interesting how many people contact me about applying for a PhD and don't @user spell my name #something right.\n",
          "output_type": "stream"
        }
      ],
      "execution_count": 107
    },
    {
      "cell_type": "markdown",
      "source": "Suggested order:\n* lowercase\n* contractions # build in later locally or do a simple sometimes wrong version ourselves\n* tokenize \n* remove links\n",
      "metadata": {
        "tags": [],
        "cell_id": "00041-a87844dc-3c23-44f3-ba3b-9e706f69a073",
        "deepnote_cell_type": "markdown"
      }
    },
    {
      "cell_type": "markdown",
      "source": "## Final Tokenising",
      "metadata": {
        "tags": [],
        "cell_id": "00042-494c027a-c333-45d2-95c0-f8775d64c2ee",
        "deepnote_cell_type": "markdown"
      }
    },
    {
      "cell_type": "code",
      "source": "def rm_links(tokenised_list):\n    \"\"\"removes links from tokenised tweets\"\"\"\n    dummy= \"thisisalinkadp2yNQ263fh7fRhGvKw\" #randomised password generator used to get a most likely unique string to include\n    return [token if token[:8]!=\"https://\" else dummy for token in tokenised_list] #check here later that all links are in fact in this format",
      "metadata": {
        "tags": [],
        "cell_id": "00043-2f55d04c-3946-4a00-a740-a8debdffb56c",
        "deepnote_cell_type": "code"
      },
      "outputs": [],
      "execution_count": null
    },
    {
      "cell_type": "code",
      "source": "def expand(tweet): # build in the ml model for contraciton here later\n    return tweet\n\n    # may be easier to contract everything contractable? ",
      "metadata": {
        "tags": [],
        "cell_id": "00043-6453b1f6-fe2d-4454-a660-25658b074aab",
        "deepnote_to_be_reexecuted": false,
        "source_hash": "8dfd8804",
        "execution_start": 1619689337156,
        "execution_millis": 1,
        "deepnote_cell_type": "code"
      },
      "outputs": [],
      "execution_count": 102
    },
    {
      "cell_type": "code",
      "source": "tk = TweetTokenizer()\ndef clean(tweet):\n    lower=tweet.lower()\n    contractions=expand(lower)# build in the ml model for contractions here\n    tokenised=tk.tokenize(contractions)\n    link_dummy=rm_links(tokenised)\n    return link_dummy\n",
      "metadata": {
        "tags": [],
        "cell_id": "00042-a9e30c04-e319-4b86-93a2-495d377ffdf7",
        "deepnote_to_be_reexecuted": false,
        "source_hash": "e151d5cf",
        "execution_start": 1619689488735,
        "execution_millis": 0,
        "deepnote_cell_type": "code"
      },
      "outputs": [],
      "execution_count": 103
    },
    {
      "cell_type": "code",
      "source": "clean(ex_tweet)",
      "metadata": {
        "tags": [],
        "cell_id": "00046-0a1e72d3-a195-4b4d-b338-b99415bcfd4a",
        "deepnote_to_be_reexecuted": false,
        "source_hash": "53c4d941",
        "execution_start": 1619689533083,
        "execution_millis": 13,
        "deepnote_cell_type": "code"
      },
      "outputs": [
        {
          "output_type": "execute_result",
          "execution_count": 106,
          "data": {
            "text/plain": "['thisisalinkadp2yNQ263fh7fRhGvKw',\n 'fb',\n 'needs',\n 'to',\n 'hurry',\n 'up',\n 'and',\n 'add',\n 'a',\n 'laugh',\n '/',\n 'cry',\n 'button',\n '😬',\n '😭',\n '😓',\n '🤢',\n '🙄',\n '😱',\n 'since',\n 'eating',\n 'my',\n 'feelings',\n 'has',\n 'not',\n 'fixed',\n 'the',\n \"world's\",\n 'problems',\n ',',\n 'i',\n 'guess',\n \"i'll\",\n 'try',\n 'to',\n 'sleep',\n '...',\n 'holy',\n 'crap',\n ':',\n 'devos',\n 'questionnaire',\n 'appears',\n 'to',\n 'include',\n 'passages',\n 'from',\n 'uncited',\n 'sources',\n 'thisisalinkadp2yNQ263fh7fRhGvKw',\n 'well',\n 'played',\n ',',\n 'senator',\n 'murray',\n 'keep',\n 'the',\n 'pressure',\n 'on',\n ':',\n 'thisisalinkadp2yNQ263fh7fRhGvKw',\n '@datageneral',\n 'thx',\n 'mr',\n 'taussig',\n \"it's\",\n 'interesting',\n 'how',\n 'many',\n 'people',\n 'contact',\n 'me',\n 'about',\n 'applying',\n 'for',\n 'a',\n 'phd',\n 'and',\n \"don't\",\n '@user',\n 'spell',\n 'my',\n 'name',\n '#something',\n 'right',\n '.']"
          },
          "metadata": {}
        }
      ],
      "execution_count": 106
    },
    {
      "cell_type": "markdown",
      "source": "*TASK 2*\n# XXX\n---",
      "metadata": {
        "tags": [],
        "cell_id": "00012-f7ed8c9e-4e5c-4499-8cbd-bc465deeb219",
        "deepnote_cell_type": "markdown"
      }
    },
    {
      "cell_type": "code",
      "metadata": {
        "tags": [],
        "cell_id": "00015-c0d67151-ed60-49d4-822d-0806e71831bc",
        "deepnote_to_be_reexecuted": false,
        "source_hash": "5cd17fc",
        "execution_start": 1619683193875,
        "execution_millis": 3,
        "deepnote_cell_type": "code"
      },
      "source": "# some code",
      "execution_count": 18,
      "outputs": []
    },
    {
      "cell_type": "markdown",
      "source": "*TASK 3*\n# Open Question: XXX\n---",
      "metadata": {
        "tags": [],
        "cell_id": "00013-fc964c9b-2d90-48f7-93b6-89e1c191c669",
        "deepnote_cell_type": "markdown"
      }
    },
    {
      "cell_type": "code",
      "metadata": {
        "tags": [],
        "cell_id": "00017-2bcdfccd-1c4e-4b00-abcb-2807c0f7da9c",
        "deepnote_to_be_reexecuted": false,
        "source_hash": "5cd17fc",
        "execution_start": 1619683193881,
        "execution_millis": 1,
        "deepnote_cell_type": "code"
      },
      "source": "# some code",
      "execution_count": 19,
      "outputs": []
    },
    {
      "cell_type": "markdown",
      "source": "<a style='text-decoration:none;line-height:16px;display:flex;color:#5B5B62;padding:10px;justify-content:end;' href='https://deepnote.com?utm_source=created-in-deepnote-cell&projectId=7ea65742-831a-48cd-9d56-a22e1ed66c7b' target=\"_blank\">\n<img alt='Created in deepnote.com' style='display:inline;max-height:16px;margin:0px;margin-right:7.5px;' src='data:image/svg+xml;base64,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' > </img>\nCreated in <span style='font-weight:600;margin-left:4px;'>Deepnote</span></a>",
      "metadata": {
        "tags": [],
        "created_in_deepnote_cell": true,
        "deepnote_cell_type": "markdown"
      }
    }
  ],
  "nbformat": 4,
  "nbformat_minor": 2,
  "metadata": {
    "orig_nbformat": 2,
    "deepnote": {
      "is_reactive": false
    },
    "deepnote_notebook_id": "912c8bda-48f1-43bf-8bff-0aac9dd9fbcb",
    "deepnote_execution_queue": [],
    "kernelspec": {
      "name": "python383jvsc74a57bd0ce483ef3f3f15830cc71af6662324550274ded09d10a1a693bdaad1eb103022d",
      "display_name": "Python 3.8.3 64-bit ('base': conda)"
    }
  }
}